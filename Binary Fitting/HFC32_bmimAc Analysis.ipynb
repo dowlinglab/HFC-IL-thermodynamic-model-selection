{
 "cells": [
  {
   "cell_type": "code",
   "execution_count": 1,
   "id": "supposed-movement",
   "metadata": {},
   "outputs": [],
   "source": [
    "# import functions\n",
    "import idaes\n",
    "import matplotlib.pyplot as plt\n",
    "import pandas as pd\n",
    "import numpy as np\n",
    "from pyomo.environ import (Constraint,\n",
    "                           Var,\n",
    "                           ConcreteModel,\n",
    "                           Expression,\n",
    "                           Param,\n",
    "                           Objective,\n",
    "                           SolverFactory,\n",
    "                           TransformationFactory,\n",
    "                           value)\n",
    "\n",
    "from idaes.core import FlowsheetBlock\n",
    "import idaes.logger as idaeslog\n",
    "from pyomo.opt import TerminationCondition, SolverStatus\n",
    "# Import the Generic Parameter Block\n",
    "from idaes.generic_models.properties.core.generic.generic_property import (\n",
    "        GenericParameterBlock)\n",
    "# Import unit models from the model library\n",
    "from idaes.generic_models.unit_models import Flash\n",
    "# Import degrees of freedom tool\n",
    "from idaes.core.util.model_statistics import degrees_of_freedom\n",
    "# parmest (binary_param2)\n",
    "from binary_param2 import binary_params_peng\n",
    "# import pressure and plot functions\n",
    "from binary_fitting_functions import calc_outlet_xP\n",
    "from binary_fitting_functions import plot_sens_analysis"
   ]
  },
  {
   "cell_type": "code",
   "execution_count": 2,
   "id": "applicable-demonstration",
   "metadata": {},
   "outputs": [],
   "source": [
    "# from HFC32_emimTf2N_PR import configuration\n",
    "from HFC32_bmimAc_PR import configuration"
   ]
  },
  {
   "cell_type": "code",
   "execution_count": 3,
   "id": "caring-nicholas",
   "metadata": {},
   "outputs": [],
   "source": [
    "#need to make excel csv for 125\n",
    "data = pd.read_csv('R32_bmimAc.csv')\n",
    "# print(data)"
   ]
  },
  {
   "cell_type": "markdown",
   "id": "illegal-hostel",
   "metadata": {},
   "source": [
    "# Create Model and Run Parmest"
   ]
  },
  {
   "cell_type": "code",
   "execution_count": 4,
   "id": "bridal-liechtenstein",
   "metadata": {},
   "outputs": [
    {
     "name": "stdout",
     "output_type": "stream",
     "text": [
      "2021-04-13 14:49:43 [INFO] idaes.generic_models.properties.core.generic.generic_property: DEPRECATED - definiton of generic property packages is moving to using static classes instead of modules. Please refer to the IDAES documentation.\n",
      "The initial DOF is 7\n"
     ]
    }
   ],
   "source": [
    "m = ConcreteModel()\n",
    "m.fs = FlowsheetBlock(default={\"dynamic\": False})\n",
    "m.fs.properties = GenericParameterBlock(default=configuration)\n",
    "m.fs.F101 = Flash(default={\"property_package\": m.fs.properties,\n",
    "                           \"has_heat_transfer\": True,\n",
    "                           \"has_pressure_change\": True})\n",
    "DOF_initial = degrees_of_freedom(m)\n",
    "print('The initial DOF is {0}'.format(DOF_initial))"
   ]
  },
  {
   "cell_type": "code",
   "execution_count": 5,
   "id": "remarkable-department",
   "metadata": {},
   "outputs": [
    {
     "name": "stdout",
     "output_type": "stream",
     "text": [
      "   temperature  pressure  x_R32  x_bmimAc\n",
      "0       298.15     50000  0.054     0.946\n",
      "1       298.15    100000  0.097     0.903\n",
      "2       298.15    200000  0.161     0.839\n",
      "3       298.15    400000  0.268     0.732\n",
      "4       298.15    600000  0.357     0.643\n",
      "5       298.15    800000  0.438     0.562\n",
      "6       298.15   1000000  0.510     0.490\n"
     ]
    }
   ],
   "source": [
    "print(data)"
   ]
  },
  {
   "cell_type": "code",
   "execution_count": 11,
   "id": "stunning-attachment",
   "metadata": {},
   "outputs": [
    {
     "name": "stdout",
     "output_type": "stream",
     "text": [
      "2021-04-13 14:52:56 [INFO] idaes.generic_models.properties.core.generic.generic_property: DEPRECATED - definiton of generic property packages is moving to using static classes instead of modules. Please refer to the IDAES documentation.\n",
      "2021-04-13 14:52:56 [INFO] idaes.init.fs.state_block: Property package initialization: optimal - Optimal Solution Found.\n",
      "2021-04-13 14:52:56 [INFO] idaes.generic_models.properties.core.generic.generic_property: DEPRECATED - definiton of generic property packages is moving to using static classes instead of modules. Please refer to the IDAES documentation.\n",
      "2021-04-13 14:52:57 [INFO] idaes.init.fs.state_block: Property package initialization: optimal - Optimal Solution Found.\n",
      "2021-04-13 14:52:57 [INFO] idaes.generic_models.properties.core.generic.generic_property: DEPRECATED - definiton of generic property packages is moving to using static classes instead of modules. Please refer to the IDAES documentation.\n",
      "2021-04-13 14:52:57 [INFO] idaes.init.fs.state_block: Property package initialization: optimal - Optimal Solution Found.\n",
      "2021-04-13 14:52:57 [INFO] idaes.generic_models.properties.core.generic.generic_property: DEPRECATED - definiton of generic property packages is moving to using static classes instead of modules. Please refer to the IDAES documentation.\n",
      "2021-04-13 14:52:57 [INFO] idaes.init.fs.state_block: Property package initialization: optimal - Optimal Solution Found.\n",
      "2021-04-13 14:52:57 [INFO] idaes.generic_models.properties.core.generic.generic_property: DEPRECATED - definiton of generic property packages is moving to using static classes instead of modules. Please refer to the IDAES documentation.\n",
      "2021-04-13 14:52:58 [INFO] idaes.init.fs.state_block: Property package initialization: optimal - Optimal Solution Found.\n",
      "2021-04-13 14:52:58 [INFO] idaes.generic_models.properties.core.generic.generic_property: DEPRECATED - definiton of generic property packages is moving to using static classes instead of modules. Please refer to the IDAES documentation.\n",
      "2021-04-13 14:52:58 [INFO] idaes.init.fs.state_block: Property package initialization: optimal - Optimal Solution Found.\n",
      "2021-04-13 14:52:58 [INFO] idaes.generic_models.properties.core.generic.generic_property: DEPRECATED - definiton of generic property packages is moving to using static classes instead of modules. Please refer to the IDAES documentation.\n",
      "2021-04-13 14:52:58 [INFO] idaes.init.fs.state_block: Property package initialization: optimal - Optimal Solution Found.\n",
      "Ipopt 3.13.2: \n",
      "\n",
      "******************************************************************************\n",
      "This program contains Ipopt, a library for large-scale nonlinear optimization.\n",
      " Ipopt is released as open source code under the Eclipse Public License (EPL).\n",
      "         For more information visit http://projects.coin-or.org/Ipopt\n",
      "\n",
      "This version of Ipopt was compiled from source code available at\n",
      "    https://github.com/IDAES/Ipopt as part of the Institute for the Design of\n",
      "    Advanced Energy Systems Process Systems Engineering Framework (IDAES PSE\n",
      "    Framework) Copyright (c) 2018-2019. See https://github.com/IDAES/idaes-pse.\n",
      "\n",
      "This version of Ipopt was compiled using HSL, a collection of Fortran codes\n",
      "    for large-scale scientific computation.  All technical papers, sales and\n",
      "    publicity material resulting from use of the HSL codes within IPOPT must\n",
      "    contain the following acknowledgement:\n",
      "        HSL, a collection of Fortran codes for large-scale scientific\n",
      "        computation. See http://www.hsl.rl.ac.uk.\n",
      "******************************************************************************\n",
      "\n",
      "This is Ipopt version 3.13.2, running with linear solver ma27.\n",
      "\n",
      "Number of nonzeros in equality constraint Jacobian...:      238\n",
      "Number of nonzeros in inequality constraint Jacobian.:        0\n",
      "Number of nonzeros in Lagrangian Hessian.............:      238\n",
      "\n",
      "Total number of variables............................:      100\n",
      "                     variables with only lower bounds:       42\n",
      "                variables with lower and upper bounds:       42\n",
      "                     variables with only upper bounds:        0\n",
      "Total number of equality constraints.................:       98\n",
      "Total number of inequality constraints...............:        0\n",
      "        inequality constraints with only lower bounds:        0\n",
      "   inequality constraints with lower and upper bounds:        0\n",
      "        inequality constraints with only upper bounds:        0\n",
      "\n",
      "iter    objective    inf_pr   inf_du lg(mu)  ||d||  lg(rg) alpha_du alpha_pr  ls\n",
      "   0  0.0000000e+00 9.57e-01 2.22e-16  -1.0 0.00e+00    -  0.00e+00 0.00e+00   0\n",
      "   1  4.0574555e-01 9.01e-01 5.02e+04  -1.0 3.31e+04    -  6.99e-01 9.90e-01h  1\n",
      "   2  4.4905510e-01 2.85e-01 9.69e+03  -1.0 3.67e+03    -  6.23e-01 9.90e-01h  1\n",
      "   3  4.5819349e-01 4.99e-02 1.74e+04  -1.0 1.75e+03    -  8.68e-01 1.00e+00h  1\n",
      "   4  4.5910042e-01 2.32e-03 1.06e+05  -1.0 5.55e+02    -  9.89e-01 1.00e+00h  1\n",
      "   5  3.0328592e-01 2.15e-03 3.88e+03  -1.0 1.51e+04    -  9.64e-01 1.00e+00f  1\n",
      "   6  2.5724083e-01 1.17e-03 3.94e+01  -1.0 1.08e+04    -  9.90e-01 1.00e+00f  1\n",
      "   7  2.5590328e-01 3.56e-05 2.73e+04  -2.5 2.37e+03    -  9.97e-01 1.00e+00h  1\n",
      "   8  2.5589785e-01 7.24e-09 3.95e-05  -2.5 4.70e+01    -  1.00e+00 1.00e+00h  1\n",
      "   9  2.5589476e-01 5.75e-08 2.67e+01  -8.6 7.75e+01    -  1.00e+00 1.00e+00h  1\n",
      "iter    objective    inf_pr   inf_du lg(mu)  ||d||  lg(rg) alpha_du alpha_pr  ls\n",
      "  10  2.5589478e-01 1.05e-13 5.84e-11  -8.6 4.63e-02    -  1.00e+00 1.00e+00h  1\n",
      "\n",
      "Number of Iterations....: 10\n",
      "\n",
      "                                   (scaled)                 (unscaled)\n",
      "Objective...............:   2.5589477825078949e-01    2.5589477825078949e-01\n",
      "Dual infeasibility......:   5.8395399626931521e-11    5.8395399626931521e-11\n",
      "Constraint violation....:   1.0480505352461478e-13    1.0480505352461478e-13\n",
      "Complementarity.........:   2.5077034260596235e-09    2.5077034260596235e-09\n",
      "Overall NLP error.......:   2.5077034260596235e-09    2.5077034260596235e-09\n",
      "\n",
      "\n",
      "Number of objective function evaluations             = 11\n",
      "Number of objective gradient evaluations             = 11\n",
      "Number of equality constraint evaluations            = 11\n",
      "Number of inequality constraint evaluations          = 0\n",
      "Number of equality constraint Jacobian evaluations   = 11\n",
      "Number of inequality constraint Jacobian evaluations = 0\n",
      "Number of Lagrangian Hessian evaluations             = 10\n",
      "Total CPU secs in IPOPT (w/o function evaluations)   =      0.003\n",
      "Total CPU secs in NLP function evaluations           =      0.017\n",
      "\n",
      "EXIT: Optimal Solution Found.\n",
      "The SSE at the optimal solution is 0.255895\n",
      "\n",
      "The values for the parameters are as follows:\n",
      "fs.properties.PR_kappa[R32,bmimAc] = -0.031614345088018206\n",
      "fs.properties.PR_kappa[bmimAc,R32] = -0.5137560457015115\n"
     ]
    }
   ],
   "source": [
    "binary_params_peng(data, configuration, 'R32', 'bmimAc', \"x_R32\", \"x_bmimAc\", \n",
    "    init_temp =  298.15, init_press =   100000 , init_x_c1 =    0.097, init_x_c2 = 0.903,\n",
    "    init_kappa_2_1 = 0.05, init_kappa_1_2 = 0.05, eps = 0.1, scaling_fac = 1e-9 , read=False)"
   ]
  },
  {
   "cell_type": "markdown",
   "id": "widespread-basement",
   "metadata": {},
   "source": [
    "# Best Fit"
   ]
  },
  {
   "cell_type": "code",
   "execution_count": 12,
   "id": "falling-webcam",
   "metadata": {},
   "outputs": [],
   "source": [
    "k12 = -0.031614345088018206\n",
    "k21 = -0.5137560457015115"
   ]
  },
  {
   "cell_type": "code",
   "execution_count": 13,
   "id": "israeli-great",
   "metadata": {},
   "outputs": [
    {
     "name": "stdout",
     "output_type": "stream",
     "text": [
      "WARNING: Implicitly replacing the Component attribute liq (type=<class\n",
      "    'pyomo.core.base.param.SimpleParam'>) on block fs with a new Component\n",
      "    (type=<class 'pyomo.core.base.param.SimpleParam'>). This is usually\n",
      "    indicative of a modelling error. To avoid this warning, use\n",
      "    block.del_component() and block.add_component().\n",
      "WARNING: Implicitly replacing the Component attribute liquid (type=<class\n",
      "    'pyomo.core.base.constraint.SimpleConstraint'>) on block fs with a new\n",
      "    Component (type=<class\n",
      "    'pyomo.core.base.constraint.AbstractSimpleConstraint'>). This is usually\n",
      "    indicative of a modelling error. To avoid this warning, use\n",
      "    block.del_component() and block.add_component().\n",
      "The final DOF is 0\n",
      "The final DOF is 0\n",
      "The final DOF is 0\n",
      "The final DOF is 0\n",
      "The final DOF is 0\n",
      "The final DOF is 0\n",
      "The final DOF is 0\n"
     ]
    }
   ],
   "source": [
    "R32_x,P= calc_outlet_xP(data,m,\"R32\", \"bmimAc\", k21, k12,verbose=True)"
   ]
  },
  {
   "cell_type": "code",
   "execution_count": 14,
   "id": "resistant-freight",
   "metadata": {},
   "outputs": [
    {
     "data": {
      "image/png": "[encoded data removed]",
      "text/plain": [
       "<Figure size 432x288 with 1 Axes>"
      ]
     },
     "metadata": {
      "needs_background": "light"
     },
     "output_type": "display_data"
    }
   ],
   "source": [
    "plt.plot(R32_x,P,\"m*-\",label=\"T= 298 K\")\n",
    "plt.plot(data[\"x_R32\"],data[\"pressure\"],\"*\",color='orange',label=\"data\")  \n",
    "plt.title('Isotherm [R32][bmimAc] fit to T= 298 K')\n",
    "plt.ylabel('Pressure (Pa)')\n",
    "plt.xlabel('x R32')\n",
    "plt.grid(True)\n",
    "# plt.ylim(0,1300000)\n",
    "plt.legend()\n",
    "plt.show()"
   ]
  },
  {
   "cell_type": "markdown",
   "id": "rental-packet",
   "metadata": {},
   "source": [
    "# Sensitivity"
   ]
  },
  {
   "cell_type": "code",
   "execution_count": 17,
   "id": "egyptian-nightlife",
   "metadata": {},
   "outputs": [
    {
     "name": "stdout",
     "output_type": "stream",
     "text": [
      "WARNING: Implicitly replacing the Component attribute liq (type=<class\n",
      "    'pyomo.core.base.param.SimpleParam'>) on block fs with a new Component\n",
      "    (type=<class 'pyomo.core.base.param.SimpleParam'>). This is usually\n",
      "    indicative of a modelling error. To avoid this warning, use\n",
      "    block.del_component() and block.add_component().\n",
      "WARNING: Implicitly replacing the Component attribute liquid (type=<class\n",
      "    'pyomo.core.base.constraint.SimpleConstraint'>) on block fs with a new\n",
      "    Component (type=<class\n",
      "    'pyomo.core.base.constraint.AbstractSimpleConstraint'>). This is usually\n",
      "    indicative of a modelling error. To avoid this warning, use\n",
      "    block.del_component() and block.add_component().\n",
      "WARNING: Implicitly replacing the Component attribute liq (type=<class\n",
      "    'pyomo.core.base.param.SimpleParam'>) on block fs with a new Component\n",
      "    (type=<class 'pyomo.core.base.param.SimpleParam'>). This is usually\n",
      "    indicative of a modelling error. To avoid this warning, use\n",
      "    block.del_component() and block.add_component().\n",
      "WARNING: Implicitly replacing the Component attribute liquid (type=<class\n",
      "    'pyomo.core.base.constraint.SimpleConstraint'>) on block fs with a new\n",
      "    Component (type=<class\n",
      "    'pyomo.core.base.constraint.AbstractSimpleConstraint'>). This is usually\n",
      "    indicative of a modelling error. To avoid this warning, use\n",
      "    block.del_component() and block.add_component().\n",
      "WARNING: Implicitly replacing the Component attribute liq (type=<class\n",
      "    'pyomo.core.base.param.SimpleParam'>) on block fs with a new Component\n",
      "    (type=<class 'pyomo.core.base.param.SimpleParam'>). This is usually\n",
      "    indicative of a modelling error. To avoid this warning, use\n",
      "    block.del_component() and block.add_component().\n",
      "WARNING: Implicitly replacing the Component attribute liquid (type=<class\n",
      "    'pyomo.core.base.constraint.SimpleConstraint'>) on block fs with a new\n",
      "    Component (type=<class\n",
      "    'pyomo.core.base.constraint.AbstractSimpleConstraint'>). This is usually\n",
      "    indicative of a modelling error. To avoid this warning, use\n",
      "    block.del_component() and block.add_component().\n",
      "WARNING: Implicitly replacing the Component attribute liq (type=<class\n",
      "    'pyomo.core.base.param.SimpleParam'>) on block fs with a new Component\n",
      "    (type=<class 'pyomo.core.base.param.SimpleParam'>). This is usually\n",
      "    indicative of a modelling error. To avoid this warning, use\n",
      "    block.del_component() and block.add_component().\n",
      "WARNING: Implicitly replacing the Component attribute liquid (type=<class\n",
      "    'pyomo.core.base.constraint.SimpleConstraint'>) on block fs with a new\n",
      "    Component (type=<class\n",
      "    'pyomo.core.base.constraint.AbstractSimpleConstraint'>). This is usually\n",
      "    indicative of a modelling error. To avoid this warning, use\n",
      "    block.del_component() and block.add_component().\n",
      "WARNING: Implicitly replacing the Component attribute liq (type=<class\n",
      "    'pyomo.core.base.param.SimpleParam'>) on block fs with a new Component\n",
      "    (type=<class 'pyomo.core.base.param.SimpleParam'>). This is usually\n",
      "    indicative of a modelling error. To avoid this warning, use\n",
      "    block.del_component() and block.add_component().\n",
      "WARNING: Implicitly replacing the Component attribute liquid (type=<class\n",
      "    'pyomo.core.base.constraint.SimpleConstraint'>) on block fs with a new\n",
      "    Component (type=<class\n",
      "    'pyomo.core.base.constraint.AbstractSimpleConstraint'>). This is usually\n",
      "    indicative of a modelling error. To avoid this warning, use\n",
      "    block.del_component() and block.add_component().\n",
      "WARNING: Implicitly replacing the Component attribute liq (type=<class\n",
      "    'pyomo.core.base.param.SimpleParam'>) on block fs with a new Component\n",
      "    (type=<class 'pyomo.core.base.param.SimpleParam'>). This is usually\n",
      "    indicative of a modelling error. To avoid this warning, use\n",
      "    block.del_component() and block.add_component().\n",
      "WARNING: Implicitly replacing the Component attribute liquid (type=<class\n",
      "    'pyomo.core.base.constraint.SimpleConstraint'>) on block fs with a new\n",
      "    Component (type=<class\n",
      "    'pyomo.core.base.constraint.AbstractSimpleConstraint'>). This is usually\n",
      "    indicative of a modelling error. To avoid this warning, use\n",
      "    block.del_component() and block.add_component().\n",
      "WARNING: Implicitly replacing the Component attribute liq (type=<class\n",
      "    'pyomo.core.base.param.SimpleParam'>) on block fs with a new Component\n",
      "    (type=<class 'pyomo.core.base.param.SimpleParam'>). This is usually\n",
      "    indicative of a modelling error. To avoid this warning, use\n",
      "    block.del_component() and block.add_component().\n",
      "WARNING: Implicitly replacing the Component attribute liquid (type=<class\n",
      "    'pyomo.core.base.constraint.SimpleConstraint'>) on block fs with a new\n",
      "    Component (type=<class\n",
      "    'pyomo.core.base.constraint.AbstractSimpleConstraint'>). This is usually\n",
      "    indicative of a modelling error. To avoid this warning, use\n",
      "    block.del_component() and block.add_component().\n",
      "WARNING: Implicitly replacing the Component attribute liq (type=<class\n",
      "    'pyomo.core.base.param.SimpleParam'>) on block fs with a new Component\n",
      "    (type=<class 'pyomo.core.base.param.SimpleParam'>). This is usually\n",
      "    indicative of a modelling error. To avoid this warning, use\n",
      "    block.del_component() and block.add_component().\n",
      "WARNING: Implicitly replacing the Component attribute liquid (type=<class\n",
      "    'pyomo.core.base.constraint.SimpleConstraint'>) on block fs with a new\n",
      "    Component (type=<class\n",
      "    'pyomo.core.base.constraint.AbstractSimpleConstraint'>). This is usually\n",
      "    indicative of a modelling error. To avoid this warning, use\n",
      "    block.del_component() and block.add_component().\n",
      "WARNING: Implicitly replacing the Component attribute liq (type=<class\n",
      "    'pyomo.core.base.param.SimpleParam'>) on block fs with a new Component\n",
      "    (type=<class 'pyomo.core.base.param.SimpleParam'>). This is usually\n",
      "    indicative of a modelling error. To avoid this warning, use\n",
      "    block.del_component() and block.add_component().\n",
      "WARNING: Implicitly replacing the Component attribute liquid (type=<class\n",
      "    'pyomo.core.base.constraint.SimpleConstraint'>) on block fs with a new\n",
      "    Component (type=<class\n",
      "    'pyomo.core.base.constraint.AbstractSimpleConstraint'>). This is usually\n",
      "    indicative of a modelling error. To avoid this warning, use\n",
      "    block.del_component() and block.add_component().\n",
      "WARNING: Loading a SolverResults object with a warning status into\n",
      "    model.name=\"unknown\";\n",
      "      - termination condition: infeasible\n",
      "      - message from solver: Ipopt 3.13.2\\x3a Converged to a locally\n",
      "        infeasible point. Problem may be infeasible.\n",
      "Infeasible.\n",
      "WARNING: Loading a SolverResults object with a warning status into\n",
      "    model.name=\"unknown\";\n",
      "      - termination condition: infeasible\n",
      "      - message from solver: Ipopt 3.13.2\\x3a Converged to a locally\n",
      "        infeasible point. Problem may be infeasible.\n",
      "Infeasible.\n",
      "WARNING: Loading a SolverResults object with a warning status into\n",
      "    model.name=\"unknown\";\n",
      "      - termination condition: infeasible\n",
      "      - message from solver: Ipopt 3.13.2\\x3a Converged to a locally\n",
      "        infeasible point. Problem may be infeasible.\n",
      "Infeasible.\n",
      "WARNING: Implicitly replacing the Component attribute liq (type=<class\n",
      "    'pyomo.core.base.param.SimpleParam'>) on block fs with a new Component\n",
      "    (type=<class 'pyomo.core.base.param.SimpleParam'>). This is usually\n",
      "    indicative of a modelling error. To avoid this warning, use\n",
      "    block.del_component() and block.add_component().\n",
      "WARNING: Implicitly replacing the Component attribute liquid (type=<class\n",
      "    'pyomo.core.base.constraint.SimpleConstraint'>) on block fs with a new\n",
      "    Component (type=<class\n",
      "    'pyomo.core.base.constraint.AbstractSimpleConstraint'>). This is usually\n",
      "    indicative of a modelling error. To avoid this warning, use\n",
      "    block.del_component() and block.add_component().\n",
      "WARNING: Loading a SolverResults object with a warning status into\n",
      "    model.name=\"unknown\";\n",
      "      - termination condition: infeasible\n",
      "      - message from solver: Ipopt 3.13.2\\x3a Converged to a locally\n",
      "        infeasible point. Problem may be infeasible.\n",
      "Infeasible.\n",
      "WARNING: Implicitly replacing the Component attribute liq (type=<class\n",
      "    'pyomo.core.base.param.SimpleParam'>) on block fs with a new Component\n",
      "    (type=<class 'pyomo.core.base.param.SimpleParam'>). This is usually\n",
      "    indicative of a modelling error. To avoid this warning, use\n",
      "    block.del_component() and block.add_component().\n"
     ]
    },
    {
     "name": "stdout",
     "output_type": "stream",
     "text": [
      "WARNING: Implicitly replacing the Component attribute liquid (type=<class\n",
      "    'pyomo.core.base.constraint.SimpleConstraint'>) on block fs with a new\n",
      "    Component (type=<class\n",
      "    'pyomo.core.base.constraint.AbstractSimpleConstraint'>). This is usually\n",
      "    indicative of a modelling error. To avoid this warning, use\n",
      "    block.del_component() and block.add_component().\n",
      "WARNING: Implicitly replacing the Component attribute liq (type=<class\n",
      "    'pyomo.core.base.param.SimpleParam'>) on block fs with a new Component\n",
      "    (type=<class 'pyomo.core.base.param.SimpleParam'>). This is usually\n",
      "    indicative of a modelling error. To avoid this warning, use\n",
      "    block.del_component() and block.add_component().\n",
      "WARNING: Implicitly replacing the Component attribute liquid (type=<class\n",
      "    'pyomo.core.base.constraint.SimpleConstraint'>) on block fs with a new\n",
      "    Component (type=<class\n",
      "    'pyomo.core.base.constraint.AbstractSimpleConstraint'>). This is usually\n",
      "    indicative of a modelling error. To avoid this warning, use\n",
      "    block.del_component() and block.add_component().\n"
     ]
    },
    {
     "data": {
      "image/png": "[encoded data removed]",
      "text/plain": [
       "<Figure size 432x288 with 1 Axes>"
      ]
     },
     "metadata": {
      "needs_background": "light"
     },
     "output_type": "display_data"
    }
   ],
   "source": [
    "kappa21= np.array([-0.6,-0.5,0.05,0.08])\n",
    "kappa12= np.array([-0.06,-0.03,0.03,0.06])\n",
    "plot_sens_analysis(data,m,\"R32\",\"bmimAc\", kappa21,kappa12, \"T=298 K\")"
   ]
  },
  {
   "cell_type": "code",
   "execution_count": null,
   "id": "sixth-engineer",
   "metadata": {},
   "outputs": [],
   "source": []
  }
 ],
 "metadata": {
  "kernelspec": {
   "display_name": "Python 3",
   "language": "python",
   "name": "python3"
  },
  "language_info": {
   "codemirror_mode": {
    "name": "ipython",
    "version": 3
   },
   "file_extension": ".py",
   "mimetype": "text/x-python",
   "name": "python",
   "nbconvert_exporter": "python",
   "pygments_lexer": "ipython3",
   "version": "3.9.2"
  }
 },
 "nbformat": 4,
 "nbformat_minor": 5
}
