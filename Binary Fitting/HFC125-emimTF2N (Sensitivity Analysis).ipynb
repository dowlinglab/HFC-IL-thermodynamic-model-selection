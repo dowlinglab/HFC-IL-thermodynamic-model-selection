{
 "cells": [
  {
   "cell_type": "code",
   "execution_count": 13,
   "id": "asian-greek",
   "metadata": {},
   "outputs": [],
   "source": [
    "# import functions\n",
    "import idaes\n",
    "import matplotlib.pyplot as plt\n",
    "import pandas as pd\n",
    "import numpy as np\n",
    "from pyomo.environ import (Constraint,\n",
    "                           Var,\n",
    "                           ConcreteModel,\n",
    "                           Expression,\n",
    "                           Param,\n",
    "                           Objective,\n",
    "                           SolverFactory,\n",
    "                           TransformationFactory,\n",
    "                           value)\n",
    "\n",
    "from idaes.core import FlowsheetBlock\n",
    "import idaes.logger as idaeslog\n",
    "from pyomo.opt import TerminationCondition, SolverStatus\n",
    "# Import the Generic Parameter Block\n",
    "from idaes.generic_models.properties.core.generic.generic_property import (\n",
    "        GenericParameterBlock)\n",
    "# Import unit models from the model library\n",
    "from idaes.generic_models.unit_models import Flash\n",
    "# Import degrees of freedom tool\n",
    "from idaes.core.util.model_statistics import degrees_of_freedom\n",
    "\n",
    "# import HFC_IL mixture properties\n",
    "from HFC125_emimTf2N_PR import configuration\n",
    "\n",
    "# parmest (binary_param2)\n",
    "from binary_param2 import binary_params_peng\n",
    "# from HFC32_emimTf2N_PR import configuration\n",
    "from HFC125_emimTf2N_PR import configuration\n",
    "# import pressure and plot functions\n",
    "from binary_fitting_functions import calc_outlet_xP\n",
    "from binary_fitting_functions import plot_sens_analysis"
   ]
  },
  {
   "cell_type": "code",
   "execution_count": 14,
   "id": "environmental-spice",
   "metadata": {},
   "outputs": [],
   "source": [
    "#need to make excel csv for 125\n",
    "data = pd.read_csv('R125_emimTf2N.csv')\n",
    "# 283\n",
    "data_283= data[(data.temperature > 282) & (data.temperature< 284)]\n",
    "\n",
    "# 298\n",
    "data_298 = data[(data.temperature > 297) & (data.temperature< 299)]\n",
    "data_298 = data_298.reset_index(drop=True)\n",
    "\n",
    "# 323\n",
    "data_323 = data[(data.temperature > 322) & (data.temperature< 324)]\n",
    "data_323 = data_323.reset_index(drop=True)\n",
    "\n",
    "# 323\n",
    "data_348 = data[(data.temperature > 347) & (data.temperature< 349)]\n",
    "data_348 = data_348.reset_index(drop=True)"
   ]
  },
  {
   "cell_type": "code",
   "execution_count": 15,
   "id": "hourly-upper",
   "metadata": {},
   "outputs": [
    {
     "name": "stdout",
     "output_type": "stream",
     "text": [
      "2021-05-17 15:40:15 [INFO] idaes.generic_models.properties.core.generic.generic_property: DEPRECATED - definiton of generic property packages is moving to using static classes instead of modules. Please refer to the IDAES documentation.\n",
      "The initial DOF is 7\n"
     ]
    }
   ],
   "source": [
    "m = ConcreteModel()\n",
    "m.fs = FlowsheetBlock(default={\"dynamic\": False})\n",
    "m.fs.properties = GenericParameterBlock(default=configuration)\n",
    "m.fs.F101 = Flash(default={\"property_package\": m.fs.properties,\n",
    "                           \"has_heat_transfer\": True,\n",
    "                           \"has_pressure_change\": True})\n",
    "DOF_initial = degrees_of_freedom(m)\n",
    "print('The initial DOF is {0}'.format(DOF_initial))"
   ]
  },
  {
   "cell_type": "markdown",
   "id": "fourth-mongolia",
   "metadata": {},
   "source": [
    "# Create Flash Model"
   ]
  },
  {
   "cell_type": "code",
   "execution_count": 4,
   "id": "accompanied-johns",
   "metadata": {},
   "outputs": [
    {
     "name": "stdout",
     "output_type": "stream",
     "text": [
      "2021-05-17 15:35:14 [INFO] idaes.generic_models.properties.core.generic.generic_property: DEPRECATED - definiton of generic property packages is moving to using static classes instead of modules. Please refer to the IDAES documentation.\n",
      "2021-05-17 15:35:14 [INFO] idaes.init.fs.state_block: Property package initialization: optimal - Optimal Solution Found.\n",
      "2021-05-17 15:35:14 [INFO] idaes.generic_models.properties.core.generic.generic_property: DEPRECATED - definiton of generic property packages is moving to using static classes instead of modules. Please refer to the IDAES documentation.\n",
      "2021-05-17 15:35:14 [INFO] idaes.init.fs.state_block: Property package initialization: optimal - Optimal Solution Found.\n",
      "2021-05-17 15:35:14 [INFO] idaes.generic_models.properties.core.generic.generic_property: DEPRECATED - definiton of generic property packages is moving to using static classes instead of modules. Please refer to the IDAES documentation.\n",
      "2021-05-17 15:35:14 [INFO] idaes.init.fs.state_block: Property package initialization: optimal - Optimal Solution Found.\n",
      "2021-05-17 15:35:14 [INFO] idaes.generic_models.properties.core.generic.generic_property: DEPRECATED - definiton of generic property packages is moving to using static classes instead of modules. Please refer to the IDAES documentation.\n",
      "2021-05-17 15:35:15 [INFO] idaes.init.fs.state_block: Property package initialization: optimal - Optimal Solution Found.\n",
      "2021-05-17 15:35:15 [INFO] idaes.generic_models.properties.core.generic.generic_property: DEPRECATED - definiton of generic property packages is moving to using static classes instead of modules. Please refer to the IDAES documentation.\n",
      "2021-05-17 15:35:15 [INFO] idaes.init.fs.state_block: Property package initialization: optimal - Optimal Solution Found.\n",
      "2021-05-17 15:35:15 [INFO] idaes.generic_models.properties.core.generic.generic_property: DEPRECATED - definiton of generic property packages is moving to using static classes instead of modules. Please refer to the IDAES documentation.\n",
      "2021-05-17 15:35:15 [INFO] idaes.init.fs.state_block: Property package initialization: optimal - Optimal Solution Found.\n",
      "2021-05-17 15:35:15 [INFO] idaes.generic_models.properties.core.generic.generic_property: DEPRECATED - definiton of generic property packages is moving to using static classes instead of modules. Please refer to the IDAES documentation.\n",
      "2021-05-17 15:35:15 [INFO] idaes.init.fs.state_block: Property package initialization: optimal - Optimal Solution Found.\n",
      "2021-05-17 15:35:15 [INFO] idaes.generic_models.properties.core.generic.generic_property: DEPRECATED - definiton of generic property packages is moving to using static classes instead of modules. Please refer to the IDAES documentation.\n",
      "2021-05-17 15:35:16 [INFO] idaes.init.fs.state_block: Property package initialization: optimal - Optimal Solution Found.\n",
      "2021-05-17 15:35:16 [INFO] idaes.generic_models.properties.core.generic.generic_property: DEPRECATED - definiton of generic property packages is moving to using static classes instead of modules. Please refer to the IDAES documentation.\n",
      "2021-05-17 15:35:16 [INFO] idaes.init.fs.state_block: Property package initialization: optimal - Optimal Solution Found.\n",
      "Ipopt 3.13.2: \n",
      "\n",
      "******************************************************************************\n",
      "This program contains Ipopt, a library for large-scale nonlinear optimization.\n",
      " Ipopt is released as open source code under the Eclipse Public License (EPL).\n",
      "         For more information visit http://projects.coin-or.org/Ipopt\n",
      "\n",
      "This version of Ipopt was compiled from source code available at\n",
      "    https://github.com/IDAES/Ipopt as part of the Institute for the Design of\n",
      "    Advanced Energy Systems Process Systems Engineering Framework (IDAES PSE\n",
      "    Framework) Copyright (c) 2018-2019. See https://github.com/IDAES/idaes-pse.\n",
      "\n",
      "This version of Ipopt was compiled using HSL, a collection of Fortran codes\n",
      "    for large-scale scientific computation.  All technical papers, sales and\n",
      "    publicity material resulting from use of the HSL codes within IPOPT must\n",
      "    contain the following acknowledgement:\n",
      "        HSL, a collection of Fortran codes for large-scale scientific\n",
      "        computation. See http://www.hsl.rl.ac.uk.\n",
      "******************************************************************************\n",
      "\n",
      "This is Ipopt version 3.13.2, running with linear solver ma27.\n",
      "\n",
      "Number of nonzeros in equality constraint Jacobian...:      306\n",
      "Number of nonzeros in inequality constraint Jacobian.:        0\n",
      "Number of nonzeros in Lagrangian Hessian.............:      306\n",
      "\n",
      "Total number of variables............................:      128\n",
      "                     variables with only lower bounds:       54\n",
      "                variables with lower and upper bounds:       54\n",
      "                     variables with only upper bounds:        0\n",
      "Total number of equality constraints.................:      126\n",
      "Total number of inequality constraints...............:        0\n",
      "        inequality constraints with only lower bounds:        0\n",
      "   inequality constraints with lower and upper bounds:        0\n",
      "        inequality constraints with only upper bounds:        0\n",
      "\n",
      "iter    objective    inf_pr   inf_du lg(mu)  ||d||  lg(rg) alpha_du alpha_pr  ls\n",
      "   0  0.0000000e+00 7.28e-01 8.88e-16  -1.0 0.00e+00    -  0.00e+00 0.00e+00   0\n",
      "   1  3.3235338e-01 1.97e-01 1.30e+01  -1.0 4.24e+04    -  5.64e-01 9.90e-01h  1\n",
      "   2  3.4834749e-01 1.76e-02 1.57e+02  -1.0 3.37e+03    -  8.33e-01 9.90e-01h  1\n",
      "   3  3.4879725e-01 1.43e-04 1.02e+03  -1.0 3.60e+02    -  9.90e-01 1.00e+00h  1\n",
      "   4  3.4735221e-01 7.83e-07 1.07e+05  -1.0 9.40e+02    -  9.89e-01 1.00e+00h  1\n",
      "   5  3.4175999e-01 3.19e-05 1.07e+03  -1.0 3.93e+03    -  9.90e-01 1.00e+00f  1\n",
      "   6  3.3938204e-01 3.66e-05 2.73e+04  -2.5 2.08e+03    -  9.97e-01 1.00e+00h  1\n",
      "   7  3.3935712e-01 2.34e-08 4.91e-07  -2.5 6.45e+01    -  1.00e+00 1.00e+00h  1\n",
      "   8  3.3935541e-01 2.91e-08 4.94e+01  -8.6 5.86e+01    -  1.00e+00 1.00e+00h  1\n",
      "   9  3.3935540e-01 2.98e-11 1.28e-11  -8.6 5.18e-02    -  1.00e+00 1.00e+00h  1\n",
      "\n",
      "Number of Iterations....: 9\n",
      "\n",
      "                                   (scaled)                 (unscaled)\n",
      "Objective...............:   3.3935539520954194e-01    3.3935539520954194e-01\n",
      "Dual infeasibility......:   1.2790762854873252e-11    1.2790762854873252e-11\n",
      "Constraint violation....:   2.9771296539138348e-11    2.9771296539138348e-11\n",
      "Complementarity.........:   2.5061019793897988e-09    2.5061019793897988e-09\n",
      "Overall NLP error.......:   2.5061019793897988e-09    2.5061019793897988e-09\n",
      "\n",
      "\n",
      "Number of objective function evaluations             = 10\n",
      "Number of objective gradient evaluations             = 10\n",
      "Number of equality constraint evaluations            = 10\n",
      "Number of inequality constraint evaluations          = 0\n",
      "Number of equality constraint Jacobian evaluations   = 10\n",
      "Number of inequality constraint Jacobian evaluations = 0\n",
      "Number of Lagrangian Hessian evaluations             = 9\n",
      "Total CPU secs in IPOPT (w/o function evaluations)   =      0.007\n",
      "Total CPU secs in NLP function evaluations           =      0.015\n",
      "\n",
      "EXIT: Optimal Solution Found.\n",
      "The SSE at the optimal solution is 0.339355\n",
      "\n",
      "The values for the parameters are as follows:\n",
      "fs.properties.PR_kappa[R125,emimTf2N] = -0.01614332791327585\n",
      "fs.properties.PR_kappa[emimTf2N,R125] = -0.13839155352480698\n"
     ]
    }
   ],
   "source": [
    "binary_params_peng(data_348, configuration, 'R125', 'emimTf2N', \"x_R125\", \"x_emimTf2N\", \n",
    "    init_temp =  348.1, init_press =  100000 , init_x_c1 =    0.018, init_x_c2 = 0.982,\n",
    "    init_kappa_2_1 = -0.003, init_kappa_1_2 = -0.016, eps = 0.1, scaling_fac = 1e-9 , read=False)"
   ]
  },
  {
   "cell_type": "markdown",
   "id": "cordless-sitting",
   "metadata": {},
   "source": [
    "## Sensitivity Analysis"
   ]
  },
  {
   "cell_type": "code",
   "execution_count": 5,
   "id": "macro-peter",
   "metadata": {},
   "outputs": [],
   "source": [
    "# anlaysis\n",
    "kappa21= np.array([-0.025,-0.035,-0.045,-0.055])\n",
    "kappa12= np.array([-0.006,-0.016,-0.026,-0.036])\n",
    "# plot_sens_analysis(data_283,kappa21,kappa12, \"T=283 K\")"
   ]
  },
  {
   "cell_type": "code",
   "execution_count": 6,
   "id": "constant-empty",
   "metadata": {},
   "outputs": [],
   "source": [
    "R125_x,P= calc_outlet_xP(data,m,\"R125\", \"emimTf2N\", -0.03, -0.016,verbose=False)"
   ]
  },
  {
   "cell_type": "code",
   "execution_count": 7,
   "id": "trying-potato",
   "metadata": {},
   "outputs": [
    {
     "data": {
      "image/png": "[encoded data removed]",
      "text/plain": [
       "<Figure size 432x288 with 1 Axes>"
      ]
     },
     "metadata": {
      "needs_background": "light"
     },
     "output_type": "display_data"
    }
   ],
   "source": [
    "# plots with data - model as lines --- need to make this into a function that splits up the T's\n",
    "plt.plot(R125_x[0:9],P[0:9],\"b*-\",label=\"T= 283 K\")  \n",
    "plt.plot(R125_x[9:18],P[9:18],\"r*-\",label=\"T= 298 K\") \n",
    "plt.plot(R125_x[18:27],P[18:27],\"c*-\",label=\"T= 323 K\") \n",
    "plt.plot(R125_x[27:36],P[27:36],\"m*-\",label=\"T= 348 K\")\n",
    "plt.plot(data[\"x_R125\"],data[\"pressure\"],\"*\",color='orange',label=\"data\")  \n",
    "plt.title('Isotherm [R125][emimTf2N] fit to T= 348 K')\n",
    "plt.ylabel('Pressure (Pa)')\n",
    "plt.xlabel('x R125')\n",
    "plt.grid(True)\n",
    "plt.ylim(0,1110000)\n",
    "plt.legend()\n",
    "plt.show()"
   ]
  },
  {
   "cell_type": "code",
   "execution_count": 8,
   "id": "narrow-sunglasses",
   "metadata": {},
   "outputs": [
    {
     "data": {
      "image/png": "[encoded data removed]",
      "text/plain": [
       "<Figure size 432x288 with 1 Axes>"
      ]
     },
     "metadata": {
      "needs_background": "light"
     },
     "output_type": "display_data"
    },
    {
     "name": "stdout",
     "output_type": "stream",
     "text": [
      "K21 Values for T=  [283.1 298.1 323.1 348.1] are: \n",
      "[-0.05967357 -0.06020143 -0.04196707 -0.03      ]\n"
     ]
    }
   ],
   "source": [
    "K21=np.array([-0.05967357, -0.06020143, -0.04196707, -0.03])\n",
    "T = np.array([283.1, 298.1, 323.1, 348.1]) #K\n",
    "plt.plot(T,K21,\"*\",color='blue',label=\"K21\")\n",
    "plt.title('Binary Parameters vs Temperature for R125_emimTf2N Mixture')\n",
    "plt.ylabel('Kappas')\n",
    "plt.xlabel('Temperature')\n",
    "plt.grid(True)\n",
    "plt.legend()\n",
    "plt.show()\n",
    "\n",
    "print('K21 Values for T= ', T, 'are: ')\n",
    "print(K21)"
   ]
  },
  {
   "cell_type": "markdown",
   "id": "sharing-problem",
   "metadata": {},
   "source": [
    "# T=298 linear kappas"
   ]
  },
  {
   "cell_type": "code",
   "execution_count": 16,
   "id": "phantom-traveler",
   "metadata": {},
   "outputs": [
    {
     "name": "stdout",
     "output_type": "stream",
     "text": [
      "2021-05-17 15:40:57 [INFO] idaes.generic_models.properties.core.generic.generic_property: DEPRECATED - definiton of generic property packages is moving to using static classes instead of modules. Please refer to the IDAES documentation.\n",
      "The initial DOF is 7\n"
     ]
    }
   ],
   "source": [
    "m = ConcreteModel()\n",
    "m.fs = FlowsheetBlock(default={\"dynamic\": False})\n",
    "m.fs.properties = GenericParameterBlock(default=configuration)\n",
    "m.fs.F101 = Flash(default={\"property_package\": m.fs.properties,\n",
    "                           \"has_heat_transfer\": True,\n",
    "                           \"has_pressure_change\": True})\n",
    "DOF_initial = degrees_of_freedom(m)\n",
    "print('The initial DOF is {0}'.format(DOF_initial))"
   ]
  },
  {
   "cell_type": "code",
   "execution_count": 17,
   "id": "disciplinary-costa",
   "metadata": {},
   "outputs": [
    {
     "name": "stdout",
     "output_type": "stream",
     "text": [
      "2021-05-17 15:41:31 [INFO] idaes.generic_models.properties.core.generic.generic_property: DEPRECATED - definiton of generic property packages is moving to using static classes instead of modules. Please refer to the IDAES documentation.\n",
      "2021-05-17 15:41:32 [INFO] idaes.init.fs.state_block: Property package initialization: optimal - Optimal Solution Found.\n",
      "2021-05-17 15:41:32 [INFO] idaes.generic_models.properties.core.generic.generic_property: DEPRECATED - definiton of generic property packages is moving to using static classes instead of modules. Please refer to the IDAES documentation.\n",
      "2021-05-17 15:41:32 [INFO] idaes.init.fs.state_block: Property package initialization: optimal - Optimal Solution Found.\n",
      "2021-05-17 15:41:32 [INFO] idaes.generic_models.properties.core.generic.generic_property: DEPRECATED - definiton of generic property packages is moving to using static classes instead of modules. Please refer to the IDAES documentation.\n",
      "2021-05-17 15:41:32 [INFO] idaes.init.fs.state_block: Property package initialization: optimal - Optimal Solution Found.\n",
      "2021-05-17 15:41:32 [INFO] idaes.generic_models.properties.core.generic.generic_property: DEPRECATED - definiton of generic property packages is moving to using static classes instead of modules. Please refer to the IDAES documentation.\n",
      "2021-05-17 15:41:33 [INFO] idaes.init.fs.state_block: Property package initialization: optimal - Optimal Solution Found.\n",
      "2021-05-17 15:41:33 [INFO] idaes.generic_models.properties.core.generic.generic_property: DEPRECATED - definiton of generic property packages is moving to using static classes instead of modules. Please refer to the IDAES documentation.\n",
      "2021-05-17 15:41:33 [INFO] idaes.init.fs.state_block: Property package initialization: optimal - Optimal Solution Found.\n",
      "2021-05-17 15:41:33 [INFO] idaes.generic_models.properties.core.generic.generic_property: DEPRECATED - definiton of generic property packages is moving to using static classes instead of modules. Please refer to the IDAES documentation.\n",
      "2021-05-17 15:41:33 [INFO] idaes.init.fs.state_block: Property package initialization: optimal - Optimal Solution Found.\n",
      "2021-05-17 15:41:33 [INFO] idaes.generic_models.properties.core.generic.generic_property: DEPRECATED - definiton of generic property packages is moving to using static classes instead of modules. Please refer to the IDAES documentation.\n",
      "2021-05-17 15:41:33 [INFO] idaes.init.fs.state_block: Property package initialization: optimal - Optimal Solution Found.\n",
      "2021-05-17 15:41:33 [INFO] idaes.generic_models.properties.core.generic.generic_property: DEPRECATED - definiton of generic property packages is moving to using static classes instead of modules. Please refer to the IDAES documentation.\n",
      "2021-05-17 15:41:34 [INFO] idaes.init.fs.state_block: Property package initialization: optimal - Optimal Solution Found.\n",
      "2021-05-17 15:41:34 [INFO] idaes.generic_models.properties.core.generic.generic_property: DEPRECATED - definiton of generic property packages is moving to using static classes instead of modules. Please refer to the IDAES documentation.\n",
      "2021-05-17 15:41:34 [INFO] idaes.init.fs.state_block: Property package initialization: optimal - Optimal Solution Found.\n",
      "Ipopt 3.13.2: \n",
      "\n",
      "******************************************************************************\n",
      "This program contains Ipopt, a library for large-scale nonlinear optimization.\n",
      " Ipopt is released as open source code under the Eclipse Public License (EPL).\n",
      "         For more information visit http://projects.coin-or.org/Ipopt\n",
      "\n",
      "This version of Ipopt was compiled from source code available at\n",
      "    https://github.com/IDAES/Ipopt as part of the Institute for the Design of\n",
      "    Advanced Energy Systems Process Systems Engineering Framework (IDAES PSE\n",
      "    Framework) Copyright (c) 2018-2019. See https://github.com/IDAES/idaes-pse.\n",
      "\n",
      "This version of Ipopt was compiled using HSL, a collection of Fortran codes\n",
      "    for large-scale scientific computation.  All technical papers, sales and\n",
      "    publicity material resulting from use of the HSL codes within IPOPT must\n",
      "    contain the following acknowledgement:\n",
      "        HSL, a collection of Fortran codes for large-scale scientific\n",
      "        computation. See http://www.hsl.rl.ac.uk.\n",
      "******************************************************************************\n",
      "\n",
      "This is Ipopt version 3.13.2, running with linear solver ma27.\n",
      "\n",
      "Number of nonzeros in equality constraint Jacobian...:      306\n",
      "Number of nonzeros in inequality constraint Jacobian.:        0\n",
      "Number of nonzeros in Lagrangian Hessian.............:      306\n",
      "\n",
      "Total number of variables............................:      128\n",
      "                     variables with only lower bounds:       54\n",
      "                variables with lower and upper bounds:       54\n",
      "                     variables with only upper bounds:        0\n",
      "Total number of equality constraints.................:      126\n",
      "Total number of inequality constraints...............:        0\n",
      "        inequality constraints with only lower bounds:        0\n",
      "   inequality constraints with lower and upper bounds:        0\n",
      "        inequality constraints with only upper bounds:        0\n",
      "\n",
      "iter    objective    inf_pr   inf_du lg(mu)  ||d||  lg(rg) alpha_du alpha_pr  ls\n",
      "   0  0.0000000e+00 5.36e-02 1.42e-14  -1.0 0.00e+00    -  0.00e+00 0.00e+00   0\n",
      "   1  6.4866449e-03 1.95e-03 2.46e+00  -1.0 5.07e+03    -  9.39e-01 9.90e-01h  1\n",
      "   2  6.6218120e-03 2.11e-05 1.09e+00  -1.0 6.07e+01    -  9.89e-01 9.90e-01h  1\n",
      "   3  6.6850464e-03 8.29e-08 1.00e+03  -1.0 1.94e+02    -  9.90e-01 1.00e+00h  1\n",
      "   4  7.9616633e-03 5.56e-06 9.90e+04  -1.0 1.06e+03    -  9.90e-01 1.00e+00h  1\n",
      "   5  8.1047948e-03 3.98e-08 9.75e+02  -1.0 7.83e+01    -  9.90e-01 1.00e+00h  1\n",
      "   6  6.2745566e-03 2.43e-05 2.34e+04  -2.5 1.89e+03    -  9.98e-01 1.00e+00f  1\n",
      "   7  6.2704072e-03 3.10e-10 2.83e-08  -2.5 8.80e+00    -  1.00e+00 1.00e+00h  1\n",
      "   8  6.2689284e-03 2.11e-08 6.74e+00  -8.6 5.55e+01    -  1.00e+00 1.00e+00h  1\n",
      "   9  6.2689253e-03 2.31e-12 2.51e-14  -8.6 7.58e-03    -  1.00e+00 1.00e+00h  1\n",
      "\n",
      "Number of Iterations....: 9\n",
      "\n",
      "                                   (scaled)                 (unscaled)\n",
      "Objective...............:   6.2689252613511688e-03    6.2689252613511688e-03\n",
      "Dual infeasibility......:   2.5113188349040217e-14    2.5113188349040217e-14\n",
      "Constraint violation....:   2.3061552667513752e-12    2.3061552667513752e-12\n",
      "Complementarity.........:   2.5059153361703265e-09    2.5059153361703265e-09\n",
      "Overall NLP error.......:   2.5059153361703265e-09    2.5059153361703265e-09\n",
      "\n",
      "\n",
      "Number of objective function evaluations             = 10\n",
      "Number of objective gradient evaluations             = 10\n",
      "Number of equality constraint evaluations            = 10\n",
      "Number of inequality constraint evaluations          = 0\n",
      "Number of equality constraint Jacobian evaluations   = 10\n",
      "Number of inequality constraint Jacobian evaluations = 0\n",
      "Number of Lagrangian Hessian evaluations             = 9\n",
      "Total CPU secs in IPOPT (w/o function evaluations)   =      0.005\n",
      "Total CPU secs in NLP function evaluations           =      0.025\n",
      "\n",
      "EXIT: Optimal Solution Found.\n",
      "The SSE at the optimal solution is 0.006269\n",
      "\n",
      "The values for the parameters are as follows:\n",
      "fs.properties.PR_kappa[R125,emimTf2N] = -0.01921154922873309\n",
      "fs.properties.PR_kappa[emimTf2N,R125] = -0.060201425892364324\n"
     ]
    }
   ],
   "source": [
    "binary_params_peng(data_298, configuration, 'R125', 'emimTf2N', \"x_R125\", \"x_emimTf2N\", \n",
    "    init_temp =  348.1, init_press =  100000 , init_x_c1 =    0.018, init_x_c2 = 0.982,\n",
    "    init_kappa_2_1 = -0.053, init_kappa_1_2 = -0.019, eps = 0.1, scaling_fac = 1e-9 , read=False)"
   ]
  },
  {
   "cell_type": "code",
   "execution_count": 21,
   "id": "posted-place",
   "metadata": {},
   "outputs": [
    {
     "name": "stdout",
     "output_type": "stream",
     "text": [
      "WARNING: Implicitly replacing the Component attribute liq (type=<class\n",
      "    'pyomo.core.base.param.SimpleParam'>) on block fs with a new Component\n",
      "    (type=<class 'pyomo.core.base.param.SimpleParam'>). This is usually\n",
      "    indicative of a modelling error. To avoid this warning, use\n",
      "    block.del_component() and block.add_component().\n",
      "WARNING: Implicitly replacing the Component attribute liquid (type=<class\n",
      "    'pyomo.core.base.constraint.SimpleConstraint'>) on block fs with a new\n",
      "    Component (type=<class\n",
      "    'pyomo.core.base.constraint.AbstractSimpleConstraint'>). This is usually\n",
      "    indicative of a modelling error. To avoid this warning, use\n",
      "    block.del_component() and block.add_component().\n"
     ]
    }
   ],
   "source": [
    "R125_x,P= calc_outlet_xP(data_298,m,\"R125\", \"emimTf2N\", -0.053, -0.0192,verbose=False)"
   ]
  },
  {
   "cell_type": "code",
   "execution_count": 24,
   "id": "innocent-tribute",
   "metadata": {},
   "outputs": [
    {
     "data": {
      "image/png": "[encoded data removed]",
      "text/plain": [
       "<Figure size 432x288 with 1 Axes>"
      ]
     },
     "metadata": {
      "needs_background": "light"
     },
     "output_type": "display_data"
    }
   ],
   "source": [
    "plt.plot(R125_x,P,\"m*-\",label=\"T= 298 K\")\n",
    "plt.plot(data_298[\"x_R125\"],data_298[\"pressure\"],\"*\",color='orange',label=\"data\")  \n",
    "plt.title('Isotherm [R125][emimTF2N] fit to T= 298 K')\n",
    "plt.ylabel('Pressure (Pa)')\n",
    "plt.xlabel('x R125')\n",
    "plt.grid(True)\n",
    "# plt.ylim(0,1300000)\n",
    "plt.legend()\n",
    "plt.show()"
   ]
  },
  {
   "cell_type": "code",
   "execution_count": 18,
   "id": "durable-illness",
   "metadata": {},
   "outputs": [
    {
     "data": {
      "image/png": "[encoded data removed]",
      "text/plain": [
       "<Figure size 432x288 with 1 Axes>"
      ]
     },
     "metadata": {
      "needs_background": "light"
     },
     "output_type": "display_data"
    },
    {
     "name": "stdout",
     "output_type": "stream",
     "text": [
      "K21 Values for T=  [283.1 298.1 323.1 348.1] are: \n",
      "[-0.05967357 -0.06       -0.04196707 -0.03      ]\n"
     ]
    }
   ],
   "source": [
    "K21=np.array([-0.05967357, -0.06, -0.04196707, -0.03])\n",
    "T = np.array([283.1, 298.1, 323.1, 348.1]) #K\n",
    "plt.plot(T,K21,\"*\",color='blue',label=\"K21\")\n",
    "plt.title('Binary Parameters vs Temperature for R125_emimTf2N Mixture')\n",
    "plt.ylabel('Kappas')\n",
    "plt.xlabel('Temperature')\n",
    "plt.grid(True)\n",
    "plt.legend()\n",
    "plt.show()\n",
    "\n",
    "print('K21 Values for T= ', T, 'are: ')\n",
    "print(K21)"
   ]
  },
  {
   "cell_type": "code",
   "execution_count": null,
   "id": "incorporate-michigan",
   "metadata": {},
   "outputs": [],
   "source": [
    "k21_298= -0.053\n",
    "k12_298= -0.01921155"
   ]
  }
 ],
 "metadata": {
  "kernelspec": {
   "display_name": "Python 3",
   "language": "python",
   "name": "python3"
  },
  "language_info": {
   "codemirror_mode": {
    "name": "ipython",
    "version": 3
   },
   "file_extension": ".py",
   "mimetype": "text/x-python",
   "name": "python",
   "nbconvert_exporter": "python",
   "pygments_lexer": "ipython3",
   "version": "3.9.2"
  }
 },
 "nbformat": 4,
 "nbformat_minor": 5
}
