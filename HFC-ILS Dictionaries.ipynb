{
 "cells": [
  {
   "cell_type": "code",
   "execution_count": 5,
   "metadata": {},
   "outputs": [
    {
     "ename": "SyntaxError",
     "evalue": "unexpected EOF while parsing (<ipython-input-5-007176a15dea>, line 45)",
     "output_type": "error",
     "traceback": [
      "\u001b[1;36m  File \u001b[1;32m\"<ipython-input-5-007176a15dea>\"\u001b[1;36m, line \u001b[1;32m45\u001b[0m\n\u001b[1;33m    137.5, pyunits.J/pyunits.mol/pyunits.K)}},\u001b[0m\n\u001b[1;37m                                              ^\u001b[0m\n\u001b[1;31mSyntaxError\u001b[0m\u001b[1;31m:\u001b[0m unexpected EOF while parsing\n"
     ]
    }
   ],
   "source": [
    "# Import Python libraries\n",
    "import logging\n",
    "\n",
    "# Import Pyomo units\n",
    "from pyomo.environ import units as pyunits\n",
    "\n",
    "# # Import IDAES cores\n",
    "# from idaes.core import LiquidPhase, VaporPhase, Component\n",
    "# from idaes.core.phases import PhaseType as PT\n",
    "# from idaes.generic_models.properties.core.state_definitions import FTPx\n",
    "# from idaes.generic_models.properties.core.eos.ceos import Cubic, CubicType\n",
    "# from idaes.generic_models.properties.core.phase_equil import smooth_VLE\n",
    "# from idaes.generic_models.properties.core.phase_equil.bubble_dew import \\\n",
    "#         LogBubbleDew\n",
    "# from idaes.generic_models.properties.core.phase_equil.forms import log_fugacity\n",
    "\n",
    "\n",
    "# import idaes.generic_models.properties.core.pure.RPP4 as RPP\n",
    "# import idaes.generic_models.properties.core.pure.NIST as NIST\n",
    "\n",
    "# # Set up logger\n",
    "# _log = logging.getLogger(__name__)\n",
    "\n",
    "configuration = {\n",
    "    # Specifying components\n",
    "    \"components\": {\n",
    "        \"emimTf2N\": {\"type\": Component,\n",
    "                    \"enth_mol_ig_comp\": RPP,\n",
    "                    \"entr_mol_ig_comp\": RPP,\n",
    "                    \"valid_phase_types\": PT.liquidPhase,\n",
    "                    \"phase_equilibrium_form\": {(\"Vap\", \"Liq\"): log_fugacity},\n",
    "                    \"parameter_data\": {\n",
    "                        \"mw\": (391.00E-3, pyunits.kg/pyunits.mol),  # [1]\n",
    "                        \"pressure_crit\": (24e5, pyunits.Pa),  # [1]\n",
    "                        \"temperature_crit\": (860, pyunits.K),  # [1]\n",
    "                        \"omega\": 0.7917,  # [1]\n",
    "                        \"cp_mol_ig_comp_coeff\": {\n",
    "                            'A': (3259.5745, pyunits.J/pyunits.mol/pyunits.K),  # [1]\n",
    "                            'B': (-28.5610, pyunits.J/pyunits.mol/pyunits.K**2),\n",
    "                            'C': (0.09354, pyunits.J/pyunits.mol/pyunits.K**3),\n",
    "                            'D': (-0.0001000673, pyunits.J/pyunits.mol/pyunits.K**4)},\n",
    "                        \"enth_mol_form_vap_comp_ref\": (\n",
    "                            0.145, pyunits.J/pyunits.mol),  # [3]\n",
    "                        \"entr_mol_form_vap_comp_ref\": (\n",
    "                            137.5, pyunits.J/pyunits.mol/pyunits.K)}},\n"
   ]
  },
  {
   "cell_type": "code",
   "execution_count": null,
   "metadata": {},
   "outputs": [],
   "source": []
  }
 ],
 "metadata": {
  "kernelspec": {
   "display_name": "Python 3",
   "language": "python",
   "name": "python3"
  },
  "language_info": {
   "codemirror_mode": {
    "name": "ipython",
    "version": 3
   },
   "file_extension": ".py",
   "mimetype": "text/x-python",
   "name": "python",
   "nbconvert_exporter": "python",
   "pygments_lexer": "ipython3",
   "version": "3.8.5"
  }
 },
 "nbformat": 4,
 "nbformat_minor": 4
}
