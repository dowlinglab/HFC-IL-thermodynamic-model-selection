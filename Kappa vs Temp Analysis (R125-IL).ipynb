{
 "cells": [
  {
   "cell_type": "markdown",
   "id": "canadian-layout",
   "metadata": {},
   "source": [
    "# R125-bmimBF4: Comparaing Binary Parameters to Temperature "
   ]
  },
  {
   "cell_type": "code",
   "execution_count": 1,
   "id": "vertical-runner",
   "metadata": {},
   "outputs": [],
   "source": [
    "# import functions\n",
    "import idaes\n",
    "import matplotlib.pyplot as plt\n",
    "import pandas as pd\n",
    "import numpy as np\n",
    "from pyomo.environ import (Constraint,\n",
    "                           Var,\n",
    "                           ConcreteModel,\n",
    "                           Expression,\n",
    "                           Param,\n",
    "                           Objective,\n",
    "                           SolverFactory,\n",
    "                           TransformationFactory,\n",
    "                           value)\n",
    "\n",
    "from idaes.core import FlowsheetBlock\n",
    "import idaes.logger as idaeslog\n",
    "from pyomo.opt import TerminationCondition, SolverStatus\n",
    "# Import the Generic Parameter Block\n",
    "from idaes.generic_models.properties.core.generic.generic_property import (\n",
    "        GenericParameterBlock)\n",
    "# Import unit models from the model library\n",
    "from idaes.generic_models.unit_models import Flash\n",
    "# Import degrees of freedom tool\n",
    "from idaes.core.util.model_statistics import degrees_of_freedom\n",
    "# parmest (binary_param2)\n",
    "from binary_param2 import binary_params_peng\n",
    "# import pressure and plot functions\n",
    "from binary_fitting_functions import calc_outlet_xP\n",
    "from binary_fitting_functions import plot_sens_analysis"
   ]
  },
  {
   "cell_type": "code",
   "execution_count": 2,
   "id": "artistic-physiology",
   "metadata": {},
   "outputs": [],
   "source": [
    "# from HFC32_emimTf2N_PR import configuration\n",
    "from HFC125_bmimBF4_PR import configuration"
   ]
  },
  {
   "cell_type": "code",
   "execution_count": 3,
   "id": "russian-dublin",
   "metadata": {},
   "outputs": [],
   "source": [
    "#need to make excel csv for 125\n",
    "data = pd.read_csv('R125_bmimBF4.csv')\n",
    "# print(data)"
   ]
  },
  {
   "cell_type": "code",
   "execution_count": 4,
   "id": "balanced-ethics",
   "metadata": {},
   "outputs": [],
   "source": [
    "# 283\n",
    "data_283= data[(data.temperature > 282) & (data.temperature< 284)]\n",
    "\n",
    "# 298\n",
    "data_298 = data[(data.temperature > 297) & (data.temperature< 299)]\n",
    "data_298 = data_298.reset_index(drop=True)\n",
    "\n",
    "# 323\n",
    "data_323 = data[(data.temperature > 322) & (data.temperature< 324)]\n",
    "data_323 = data_323.reset_index(drop=True)\n",
    "\n",
    "# 323\n",
    "data_348 = data[(data.temperature > 347) & (data.temperature< 349)]\n",
    "data_348 = data_348.reset_index(drop=True)"
   ]
  },
  {
   "cell_type": "code",
   "execution_count": 5,
   "id": "monetary-incident",
   "metadata": {},
   "outputs": [
    {
     "name": "stdout",
     "output_type": "stream",
     "text": [
      "2021-04-06 00:56:19 [INFO] idaes.generic_models.properties.core.generic.generic_property: DEPRECATED - definiton of generic property packages is moving to using static classes instead of modules. Please refer to the IDAES documentation.\n",
      "The initial DOF is 7\n"
     ]
    }
   ],
   "source": [
    "m = ConcreteModel()\n",
    "m.fs = FlowsheetBlock(default={\"dynamic\": False})\n",
    "m.fs.properties = GenericParameterBlock(default=configuration)\n",
    "m.fs.F101 = Flash(default={\"property_package\": m.fs.properties,\n",
    "                           \"has_heat_transfer\": True,\n",
    "                           \"has_pressure_change\": True})\n",
    "DOF_initial = degrees_of_freedom(m)\n",
    "print('The initial DOF is {0}'.format(DOF_initial))"
   ]
  },
  {
   "cell_type": "markdown",
   "id": "expensive-tomato",
   "metadata": {},
   "source": [
    "## T = 283 K"
   ]
  },
  {
   "cell_type": "code",
   "execution_count": 6,
   "id": "interesting-attack",
   "metadata": {},
   "outputs": [],
   "source": [
    "# print(data_283)"
   ]
  },
  {
   "cell_type": "code",
   "execution_count": 7,
   "id": "vulnerable-gates",
   "metadata": {},
   "outputs": [
    {
     "name": "stdout",
     "output_type": "stream",
     "text": [
      "2021-04-06 00:56:19 [INFO] idaes.generic_models.properties.core.generic.generic_property: DEPRECATED - definiton of generic property packages is moving to using static classes instead of modules. Please refer to the IDAES documentation.\n",
      "2021-04-06 00:56:19 [INFO] idaes.init.fs.state_block: Property package initialization: optimal - Optimal Solution Found.\n",
      "2021-04-06 00:56:19 [INFO] idaes.generic_models.properties.core.generic.generic_property: DEPRECATED - definiton of generic property packages is moving to using static classes instead of modules. Please refer to the IDAES documentation.\n",
      "2021-04-06 00:56:20 [INFO] idaes.init.fs.state_block: Property package initialization: optimal - Optimal Solution Found.\n",
      "2021-04-06 00:56:20 [INFO] idaes.generic_models.properties.core.generic.generic_property: DEPRECATED - definiton of generic property packages is moving to using static classes instead of modules. Please refer to the IDAES documentation.\n",
      "2021-04-06 00:56:20 [INFO] idaes.init.fs.state_block: Property package initialization: optimal - Optimal Solution Found.\n",
      "2021-04-06 00:56:20 [INFO] idaes.generic_models.properties.core.generic.generic_property: DEPRECATED - definiton of generic property packages is moving to using static classes instead of modules. Please refer to the IDAES documentation.\n",
      "2021-04-06 00:56:20 [INFO] idaes.init.fs.state_block: Property package initialization: optimal - Optimal Solution Found.\n",
      "2021-04-06 00:56:20 [INFO] idaes.generic_models.properties.core.generic.generic_property: DEPRECATED - definiton of generic property packages is moving to using static classes instead of modules. Please refer to the IDAES documentation.\n",
      "2021-04-06 00:56:20 [INFO] idaes.init.fs.state_block: Property package initialization: optimal - Optimal Solution Found.\n",
      "2021-04-06 00:56:20 [INFO] idaes.generic_models.properties.core.generic.generic_property: DEPRECATED - definiton of generic property packages is moving to using static classes instead of modules. Please refer to the IDAES documentation.\n",
      "2021-04-06 00:56:21 [INFO] idaes.init.fs.state_block: Property package initialization: optimal - Optimal Solution Found.\n",
      "2021-04-06 00:56:21 [INFO] idaes.generic_models.properties.core.generic.generic_property: DEPRECATED - definiton of generic property packages is moving to using static classes instead of modules. Please refer to the IDAES documentation.\n",
      "2021-04-06 00:56:21 [INFO] idaes.init.fs.state_block: Property package initialization: optimal - Optimal Solution Found.\n",
      "2021-04-06 00:56:21 [INFO] idaes.generic_models.properties.core.generic.generic_property: DEPRECATED - definiton of generic property packages is moving to using static classes instead of modules. Please refer to the IDAES documentation.\n",
      "2021-04-06 00:56:21 [INFO] idaes.init.fs.state_block: Property package initialization: optimal - Optimal Solution Found.\n",
      "2021-04-06 00:56:21 [INFO] idaes.generic_models.properties.core.generic.generic_property: DEPRECATED - definiton of generic property packages is moving to using static classes instead of modules. Please refer to the IDAES documentation.\n",
      "2021-04-06 00:56:21 [INFO] idaes.init.fs.state_block: Property package initialization: optimal - Solved To Acceptable Level..\n",
      "Ipopt 3.13.2: \n",
      "\n",
      "******************************************************************************\n",
      "This program contains Ipopt, a library for large-scale nonlinear optimization.\n",
      " Ipopt is released as open source code under the Eclipse Public License (EPL).\n",
      "         For more information visit http://projects.coin-or.org/Ipopt\n",
      "\n",
      "This version of Ipopt was compiled from source code available at\n",
      "    https://github.com/IDAES/Ipopt as part of the Institute for the Design of\n",
      "    Advanced Energy Systems Process Systems Engineering Framework (IDAES PSE\n",
      "    Framework) Copyright (c) 2018-2019. See https://github.com/IDAES/idaes-pse.\n",
      "\n",
      "This version of Ipopt was compiled using HSL, a collection of Fortran codes\n",
      "    for large-scale scientific computation.  All technical papers, sales and\n",
      "    publicity material resulting from use of the HSL codes within IPOPT must\n",
      "    contain the following acknowledgement:\n",
      "        HSL, a collection of Fortran codes for large-scale scientific\n",
      "        computation. See http://www.hsl.rl.ac.uk.\n",
      "******************************************************************************\n",
      "\n",
      "This is Ipopt version 3.13.2, running with linear solver ma27.\n",
      "\n",
      "Number of nonzeros in equality constraint Jacobian...:      306\n",
      "Number of nonzeros in inequality constraint Jacobian.:        0\n",
      "Number of nonzeros in Lagrangian Hessian.............:      306\n",
      "\n",
      "Total number of variables............................:      128\n",
      "                     variables with only lower bounds:       54\n",
      "                variables with lower and upper bounds:       54\n",
      "                     variables with only upper bounds:        0\n",
      "Total number of equality constraints.................:      126\n",
      "Total number of inequality constraints...............:        0\n",
      "        inequality constraints with only lower bounds:        0\n",
      "   inequality constraints with lower and upper bounds:        0\n",
      "        inequality constraints with only upper bounds:        0\n",
      "\n",
      "iter    objective    inf_pr   inf_du lg(mu)  ||d||  lg(rg) alpha_du alpha_pr  ls\n",
      "   0  0.0000000e+00 1.18e+00 1.75e-12  -1.0 0.00e+00    -  0.00e+00 0.00e+00   0\n",
      "   1  1.4532937e+00 3.04e-01 5.38e+05  -1.0 5.82e+04    -  5.10e-02 9.90e-01h  1\n",
      "   2  1.0313356e+00 4.65e-02 3.16e+04  -1.0 1.00e+04    -  7.46e-01 9.90e-01h  1\n",
      "   3  1.0190843e+00 1.08e-03 5.42e+03  -1.0 1.22e+03    -  9.46e-01 1.00e+00h  1\n",
      "   4  1.0172722e+00 5.55e-07 9.99e+04  -1.0 3.30e+02    -  9.90e-01 1.00e+00h  1\n",
      "   5  9.6154379e-01 8.98e-05 1.37e+03  -1.0 1.34e+04    -  9.86e-01 1.00e+00f  1\n",
      "   6  9.4888553e-01 3.03e-01 7.99e+04  -1.7 9.27e+03    -  9.90e-01 1.00e+00f  1\n",
      "   7  5.4081117e-01 7.18e-01 7.17e+02  -1.7 3.31e+04    -  9.91e-01 1.00e+00f  1\n",
      "   8  1.0120862e+00 4.86e-01 3.35e+00  -1.7 3.28e+04    -  1.00e+00 1.00e+00h  1\n",
      "   9  4.4946323e-01 7.89e-01 3.56e+00  -1.7 3.37e+04    -  1.00e+00 1.00e+00F  1\n",
      "iter    objective    inf_pr   inf_du lg(mu)  ||d||  lg(rg) alpha_du alpha_pr  ls\n",
      "  10  1.0352440e+00 5.10e-01 3.34e+00  -1.7 3.53e+04    -  1.00e+00 1.00e+00h  1\n",
      "  11  6.5089582e-01 3.71e-01 2.68e+00  -1.7 3.40e+04    -  1.00e+00 5.00e-01f  2\n",
      "  12  9.6386603e-01 2.35e-01 1.33e+00  -1.7 1.83e+04    -  1.00e+00 1.00e+00h  1\n",
      "  13  4.4783757e-01 7.72e-01 3.34e+00  -1.7 3.42e+04    -  1.00e+00 1.00e+00F  1\n",
      "  14  5.9706527e-01 3.86e-01 2.43e+00  -1.7 3.45e+04    -  1.00e+00 5.00e-01h  2\n",
      "  15  7.5149206e-01 1.94e-01 1.38e+00  -1.7 1.58e+04    -  1.00e+00 5.00e-01h  2\n",
      "  16  9.5729652e-01 4.31e-04 2.73e-01  -2.5 1.10e+04    -  1.00e+00 1.00e+00h  1\n",
      "  17  9.5352901e-01 3.57e-05 4.36e-03  -3.8 2.01e+02    -  1.00e+00 1.00e+00h  1\n",
      "  18  9.5356263e-01 4.77e-06 4.85e-04  -5.7 2.93e+01    -  1.00e+00 1.00e+00h  1\n",
      "  19  9.5356888e-01 7.94e-08 7.62e-06  -5.7 4.05e+00    -  1.00e+00 1.00e+00h  1\n",
      "iter    objective    inf_pr   inf_du lg(mu)  ||d||  lg(rg) alpha_du alpha_pr  ls\n",
      "  20  9.5356899e-01 2.05e-11 1.97e-09  -8.6 8.10e-02    -  1.00e+00 1.00e+00h  1\n",
      "\n",
      "Number of Iterations....: 20\n",
      "\n",
      "                                   (scaled)                 (unscaled)\n",
      "Objective...............:   9.5356898927589584e-01    9.5356898927589584e-01\n",
      "Dual infeasibility......:   1.9693040065285472e-09    1.9693040065285472e-09\n",
      "Constraint violation....:   2.0548895918182097e-11    2.0548895918182097e-11\n",
      "Complementarity.........:   2.5061109898556067e-09    2.5061109898556067e-09\n",
      "Overall NLP error.......:   2.5061109898556067e-09    2.5061109898556067e-09\n",
      "\n",
      "\n",
      "Number of objective function evaluations             = 28\n",
      "Number of objective gradient evaluations             = 21\n",
      "Number of equality constraint evaluations            = 28\n",
      "Number of inequality constraint evaluations          = 0\n",
      "Number of equality constraint Jacobian evaluations   = 21\n",
      "Number of inequality constraint Jacobian evaluations = 0\n",
      "Number of Lagrangian Hessian evaluations             = 20\n",
      "Total CPU secs in IPOPT (w/o function evaluations)   =      0.013\n",
      "Total CPU secs in NLP function evaluations           =      0.040\n",
      "\n",
      "EXIT: Optimal Solution Found.\n",
      "The SSE at the optimal solution is 0.953569\n",
      "\n",
      "The values for the parameters are as follows:\n",
      "fs.properties.PR_kappa[R125,bmimBF4] = 0.07740707519372475\n",
      "fs.properties.PR_kappa[bmimBF4,R125] = 0.13385808170213287\n"
     ]
    }
   ],
   "source": [
    "binary_params_peng(data_283, configuration, 'R125', 'bmimBF4', \"x_R125\", \"x_bmimBF4\", \n",
    "    init_temp =  283.1, init_press =   699600 , init_x_c1 =   0.462, init_x_c2 = 0.538,\n",
    "    init_kappa_2_1 = 0.311651, init_kappa_1_2 =  0.096037, eps = 0.1, scaling_fac = 1e-9 , read=False)"
   ]
  },
  {
   "cell_type": "code",
   "execution_count": 8,
   "id": "worse-society",
   "metadata": {},
   "outputs": [],
   "source": [
    "k12_283 = 0.07740707519372475\n",
    "k21_283 = 0.13385808170213287"
   ]
  },
  {
   "cell_type": "code",
   "execution_count": 9,
   "id": "suburban-penetration",
   "metadata": {},
   "outputs": [],
   "source": [
    "R125_x,P= calc_outlet_xP(data,m,\"R125\", \"bmimBF4\", k21_283, k12_283,verbose=False)"
   ]
  },
  {
   "cell_type": "code",
   "execution_count": 33,
   "id": "angry-fashion",
   "metadata": {},
   "outputs": [
    {
     "data": {
      "image/png": "[encoded data removed]",
      "text/plain": [
       "<Figure size 432x288 with 1 Axes>"
      ]
     },
     "metadata": {
      "needs_background": "light"
     },
     "output_type": "display_data"
    }
   ],
   "source": [
    "# plots with data - model as lines --- need to make this into a function that splits up the T's\n",
    "plt.plot(R125_x[0:9],P[0:9],\"b*-\",label=\"T= 283 K\")  \n",
    "plt.plot(R125_x[9:18],P[9:18],\"r*-\",label=\"T= 298 K\") \n",
    "plt.plot(R125_x[18:26],P[18:26],\"c*-\",label=\"T= 323 K\") \n",
    "plt.plot(R125_x[26:34],P[26:34],\"m*-\",label=\"T= 348 K\")\n",
    "plt.plot(data[\"x_R125\"],data[\"pressure\"],\"*\",color='orange',label=\"data\")  \n",
    "plt.title('Isotherm [R125][bmimBF4] fit to T= 283 K')\n",
    "plt.ylabel('Pressure (Pa)')\n",
    "plt.xlabel('x R125')\n",
    "plt.grid(True)\n",
    "plt.ylim(0,1110000)\n",
    "plt.legend()\n",
    "plt.show()"
   ]
  },
  {
   "cell_type": "markdown",
   "id": "intellectual-concept",
   "metadata": {},
   "source": [
    "## T = 298 K"
   ]
  },
  {
   "cell_type": "code",
   "execution_count": 11,
   "id": "minute-graham",
   "metadata": {},
   "outputs": [
    {
     "name": "stdout",
     "output_type": "stream",
     "text": [
      "   temperature  pressure  x_R125  x_bmimBF4\n",
      "0        298.2      9800   0.003      0.997\n",
      "1        298.2     99600   0.023      0.977\n",
      "2        298.2    199800   0.050      0.950\n",
      "3        298.1    299500   0.080      0.920\n",
      "4        298.2    399800   0.111      0.889\n",
      "5        298.2    499500   0.143      0.857\n",
      "6        298.2    599500   0.180      0.820\n",
      "7        298.2    799600   0.261      0.739\n",
      "8        298.1    999800   0.363      0.637\n"
     ]
    }
   ],
   "source": [
    "print(data_298)"
   ]
  },
  {
   "cell_type": "code",
   "execution_count": 12,
   "id": "outer-selling",
   "metadata": {},
   "outputs": [
    {
     "name": "stdout",
     "output_type": "stream",
     "text": [
      "2021-04-06 00:56:52 [INFO] idaes.generic_models.properties.core.generic.generic_property: DEPRECATED - definiton of generic property packages is moving to using static classes instead of modules. Please refer to the IDAES documentation.\n",
      "2021-04-06 00:56:52 [INFO] idaes.init.fs.state_block: Property package initialization: optimal - Optimal Solution Found.\n",
      "2021-04-06 00:56:52 [INFO] idaes.generic_models.properties.core.generic.generic_property: DEPRECATED - definiton of generic property packages is moving to using static classes instead of modules. Please refer to the IDAES documentation.\n",
      "2021-04-06 00:56:52 [INFO] idaes.init.fs.state_block: Property package initialization: optimal - Optimal Solution Found.\n",
      "2021-04-06 00:56:52 [INFO] idaes.generic_models.properties.core.generic.generic_property: DEPRECATED - definiton of generic property packages is moving to using static classes instead of modules. Please refer to the IDAES documentation.\n",
      "2021-04-06 00:56:52 [INFO] idaes.init.fs.state_block: Property package initialization: optimal - Optimal Solution Found.\n",
      "2021-04-06 00:56:53 [INFO] idaes.generic_models.properties.core.generic.generic_property: DEPRECATED - definiton of generic property packages is moving to using static classes instead of modules. Please refer to the IDAES documentation.\n",
      "2021-04-06 00:56:53 [INFO] idaes.init.fs.state_block: Property package initialization: optimal - Optimal Solution Found.\n",
      "2021-04-06 00:56:53 [INFO] idaes.generic_models.properties.core.generic.generic_property: DEPRECATED - definiton of generic property packages is moving to using static classes instead of modules. Please refer to the IDAES documentation.\n",
      "2021-04-06 00:56:53 [INFO] idaes.init.fs.state_block: Property package initialization: optimal - Optimal Solution Found.\n",
      "2021-04-06 00:56:53 [INFO] idaes.generic_models.properties.core.generic.generic_property: DEPRECATED - definiton of generic property packages is moving to using static classes instead of modules. Please refer to the IDAES documentation.\n",
      "2021-04-06 00:56:53 [INFO] idaes.init.fs.state_block: Property package initialization: optimal - Optimal Solution Found.\n",
      "2021-04-06 00:56:53 [INFO] idaes.generic_models.properties.core.generic.generic_property: DEPRECATED - definiton of generic property packages is moving to using static classes instead of modules. Please refer to the IDAES documentation.\n",
      "2021-04-06 00:56:54 [INFO] idaes.init.fs.state_block: Property package initialization: optimal - Optimal Solution Found.\n",
      "2021-04-06 00:56:54 [INFO] idaes.generic_models.properties.core.generic.generic_property: DEPRECATED - definiton of generic property packages is moving to using static classes instead of modules. Please refer to the IDAES documentation.\n",
      "2021-04-06 00:56:54 [INFO] idaes.init.fs.state_block: Property package initialization: optimal - Optimal Solution Found.\n",
      "2021-04-06 00:56:54 [INFO] idaes.generic_models.properties.core.generic.generic_property: DEPRECATED - definiton of generic property packages is moving to using static classes instead of modules. Please refer to the IDAES documentation.\n",
      "2021-04-06 00:56:54 [INFO] idaes.init.fs.state_block: Property package initialization: optimal - Optimal Solution Found.\n",
      "Ipopt 3.13.2: \n",
      "\n",
      "******************************************************************************\n",
      "This program contains Ipopt, a library for large-scale nonlinear optimization.\n",
      " Ipopt is released as open source code under the Eclipse Public License (EPL).\n",
      "         For more information visit http://projects.coin-or.org/Ipopt\n",
      "\n",
      "This version of Ipopt was compiled from source code available at\n",
      "    https://github.com/IDAES/Ipopt as part of the Institute for the Design of\n",
      "    Advanced Energy Systems Process Systems Engineering Framework (IDAES PSE\n",
      "    Framework) Copyright (c) 2018-2019. See https://github.com/IDAES/idaes-pse.\n",
      "\n",
      "This version of Ipopt was compiled using HSL, a collection of Fortran codes\n",
      "    for large-scale scientific computation.  All technical papers, sales and\n",
      "    publicity material resulting from use of the HSL codes within IPOPT must\n",
      "    contain the following acknowledgement:\n",
      "        HSL, a collection of Fortran codes for large-scale scientific\n",
      "        computation. See http://www.hsl.rl.ac.uk.\n",
      "******************************************************************************\n",
      "\n",
      "This is Ipopt version 3.13.2, running with linear solver ma27.\n",
      "\n",
      "Number of nonzeros in equality constraint Jacobian...:      306\n",
      "Number of nonzeros in inequality constraint Jacobian.:        0\n",
      "Number of nonzeros in Lagrangian Hessian.............:      306\n",
      "\n",
      "Total number of variables............................:      128\n",
      "                     variables with only lower bounds:       54\n",
      "                variables with lower and upper bounds:       54\n",
      "                     variables with only upper bounds:        0\n",
      "Total number of equality constraints.................:      126\n",
      "Total number of inequality constraints...............:        0\n",
      "        inequality constraints with only lower bounds:        0\n",
      "   inequality constraints with lower and upper bounds:        0\n",
      "        inequality constraints with only upper bounds:        0\n",
      "\n",
      "iter    objective    inf_pr   inf_du lg(mu)  ||d||  lg(rg) alpha_du alpha_pr  ls\n",
      "   0  0.0000000e+00 4.18e-01 1.78e-15  -1.0 0.00e+00    -  0.00e+00 0.00e+00   0\n",
      "   1  1.8045379e-03 3.66e-01 1.04e+01  -1.0 1.74e+04    -  7.69e-01 1.24e-01h  4\n",
      "   2  3.8438145e-03 3.43e-01 1.48e+01  -1.0 1.58e+04    -  8.28e-01 6.19e-02h  5\n",
      "   3  3.9920823e-03 3.42e-01 2.52e+01  -1.0 1.54e+04    -  8.60e-01 3.87e-03h  9\n",
      "   4  4.0497179e-03 3.41e-01 3.70e+01  -1.0 1.44e+04    -  9.79e-01 1.93e-03h 10\n",
      "   5  4.0626386e-03 3.41e-01 4.90e+01  -1.0 1.16e+04  -4.0 9.79e-01 4.83e-04h 12\n",
      "   6  4.0658708e-03 3.41e-01 6.11e+01  -1.0 1.16e+04  -4.5 9.90e-01 1.21e-04h 14\n",
      "   7  4.0674863e-03 3.41e-01 7.32e+01  -1.0 1.16e+04  -5.0 9.91e-01 6.04e-05h 15\n",
      "   8  4.0682927e-03 3.41e-01 8.55e+01  -1.0 1.17e+04  -5.4 1.00e+00 3.02e-05h 16\n",
      "   9  4.0686937e-03 3.41e-01 9.77e+01  -1.0 1.17e+04  -5.9 1.00e+00 1.51e-05h 17\n",
      "iter    objective    inf_pr   inf_du lg(mu)  ||d||  lg(rg) alpha_du alpha_pr  ls\n",
      "  10  8.8247578e-02 1.94e+00 2.53e+01  -1.0 1.19e+04  -6.4 9.90e-01 9.90e-01s 22\n",
      "  11  8.6925316e-02 4.15e-01 1.24e+03  -1.0 4.76e+02  -6.9 1.00e+00 0.00e+00S 22\n",
      "  12  8.6914088e-02 3.07e-02 6.98e-01  -1.0 1.56e+01  -7.3 1.00e+00 1.00e+00h  1\n",
      "  13  8.6125115e-02 1.66e-04 9.00e-03  -2.5 1.49e+03    -  1.00e+00 1.00e+00h  1\n",
      "  14  8.6113612e-02 1.94e-08 3.91e-07  -5.7 6.46e+01    -  1.00e+00 1.00e+00h  1\n",
      "  15  8.6113602e-02 9.73e-12 6.28e-13  -8.6 4.33e-02    -  1.00e+00 1.00e+00h  1\n",
      "\n",
      "Number of Iterations....: 15\n",
      "\n",
      "                                   (scaled)                 (unscaled)\n",
      "Objective...............:   8.6113601598592882e-02    8.6113601598592882e-02\n",
      "Dual infeasibility......:   6.2827093407775614e-13    6.2827093407775614e-13\n",
      "Constraint violation....:   9.7273300525557715e-12    9.7273300525557715e-12\n",
      "Complementarity.........:   2.5061902478297958e-09    2.5061902478297958e-09\n",
      "Overall NLP error.......:   2.5061902478297958e-09    2.5061902478297958e-09\n",
      "\n",
      "\n",
      "Number of objective function evaluations             = 140\n",
      "Number of objective gradient evaluations             = 16\n",
      "Number of equality constraint evaluations            = 140\n",
      "Number of inequality constraint evaluations          = 0\n",
      "Number of equality constraint Jacobian evaluations   = 16\n",
      "Number of inequality constraint Jacobian evaluations = 0\n",
      "Number of Lagrangian Hessian evaluations             = 15\n",
      "Total CPU secs in IPOPT (w/o function evaluations)   =      0.012\n",
      "Total CPU secs in NLP function evaluations           =      0.076\n",
      "\n",
      "EXIT: Optimal Solution Found.\n",
      "The SSE at the optimal solution is 0.086114\n",
      "\n",
      "The values for the parameters are as follows:\n",
      "fs.properties.PR_kappa[R125,bmimBF4] = 0.11003344624457702\n",
      "fs.properties.PR_kappa[bmimBF4,R125] = 0.3416826923872634\n"
     ]
    }
   ],
   "source": [
    "binary_params_peng(data_298, configuration, 'R125', 'bmimBF4', \"x_R125\", \"x_bmimBF4\", \n",
    "    init_temp = 298.2, init_press = 399800, init_x_c1 = 0.111, init_x_c2 = 0.889,\n",
    "    init_kappa_2_1 = k21_283, init_kappa_1_2 = k12_283, eps = 0.1, scaling_fac = 1e-9, read=False)"
   ]
  },
  {
   "cell_type": "code",
   "execution_count": 13,
   "id": "fresh-environment",
   "metadata": {},
   "outputs": [],
   "source": [
    "k12_298 = 0.11003344624457702\n",
    "k21_298 = 0.3416826923872634"
   ]
  },
  {
   "cell_type": "code",
   "execution_count": 14,
   "id": "popular-amount",
   "metadata": {},
   "outputs": [
    {
     "name": "stdout",
     "output_type": "stream",
     "text": [
      "WARNING: Implicitly replacing the Component attribute liq (type=<class\n",
      "    'pyomo.core.base.param.SimpleParam'>) on block fs with a new Component\n",
      "    (type=<class 'pyomo.core.base.param.SimpleParam'>). This is usually\n",
      "    indicative of a modelling error. To avoid this warning, use\n",
      "    block.del_component() and block.add_component().\n",
      "WARNING: Implicitly replacing the Component attribute liquid (type=<class\n",
      "    'pyomo.core.base.constraint.SimpleConstraint'>) on block fs with a new\n",
      "    Component (type=<class\n",
      "    'pyomo.core.base.constraint.AbstractSimpleConstraint'>). This is usually\n",
      "    indicative of a modelling error. To avoid this warning, use\n",
      "    block.del_component() and block.add_component().\n",
      "The final DOF is 0\n",
      "The final DOF is 0\n",
      "The final DOF is 0\n",
      "The final DOF is 0\n",
      "The final DOF is 0\n",
      "The final DOF is 0\n",
      "The final DOF is 0\n",
      "The final DOF is 0\n",
      "The final DOF is 0\n",
      "WARNING: Loading a SolverResults object with a warning status into\n",
      "    model.name=\"unknown\";\n",
      "      - termination condition: infeasible\n",
      "      - message from solver: Ipopt 3.13.2\\x3a Converged to a locally\n",
      "        infeasible point. Problem may be infeasible.\n",
      "Infeasible.\n",
      "The final DOF is 0\n",
      "The final DOF is 0\n",
      "The final DOF is 0\n",
      "The final DOF is 0\n",
      "The final DOF is 0\n",
      "The final DOF is 0\n",
      "The final DOF is 0\n",
      "The final DOF is 0\n",
      "The final DOF is 0\n",
      "The final DOF is 0\n",
      "The final DOF is 0\n",
      "The final DOF is 0\n",
      "The final DOF is 0\n",
      "The final DOF is 0\n",
      "The final DOF is 0\n",
      "The final DOF is 0\n",
      "The final DOF is 0\n",
      "The final DOF is 0\n",
      "The final DOF is 0\n",
      "The final DOF is 0\n",
      "The final DOF is 0\n",
      "The final DOF is 0\n",
      "The final DOF is 0\n",
      "The final DOF is 0\n",
      "The final DOF is 0\n",
      "WARNING: Implicitly replacing the Component attribute liq (type=<class\n",
      "    'pyomo.core.base.param.SimpleParam'>) on block fs with a new Component\n",
      "    (type=<class 'pyomo.core.base.param.SimpleParam'>). This is usually\n",
      "    indicative of a modelling error. To avoid this warning, use\n",
      "    block.del_component() and block.add_component().\n",
      "WARNING: Implicitly replacing the Component attribute liquid (type=<class\n",
      "    'pyomo.core.base.constraint.SimpleConstraint'>) on block fs with a new\n",
      "    Component (type=<class\n",
      "    'pyomo.core.base.constraint.AbstractSimpleConstraint'>). This is usually\n",
      "    indicative of a modelling error. To avoid this warning, use\n",
      "    block.del_component() and block.add_component().\n",
      "The final DOF is 0\n",
      "The final DOF is 0\n",
      "The final DOF is 0\n",
      "The final DOF is 0\n",
      "The final DOF is 0\n",
      "The final DOF is 0\n",
      "The final DOF is 0\n",
      "The final DOF is 0\n",
      "The final DOF is 0\n"
     ]
    }
   ],
   "source": [
    "R125_x,P= calc_outlet_xP(data,m,\"R125\", \"bmimBF4\", k21_298, k12_298,verbose=True)\n",
    "R125_x_298,P_298= calc_outlet_xP(data_298,m,\"R125\", \"bmimBF4\", k21_298, k12_298,verbose=True)"
   ]
  },
  {
   "cell_type": "code",
   "execution_count": 15,
   "id": "single-angle",
   "metadata": {},
   "outputs": [
    {
     "data": {
      "image/png": "[encoded data removed]",
      "text/plain": [
       "<Figure size 432x288 with 1 Axes>"
      ]
     },
     "metadata": {
      "needs_background": "light"
     },
     "output_type": "display_data"
    },
    {
     "data": {
      "image/png": "[encoded data removed]",
      "text/plain": [
       "<Figure size 432x288 with 1 Axes>"
      ]
     },
     "metadata": {
      "needs_background": "light"
     },
     "output_type": "display_data"
    }
   ],
   "source": [
    "# plots with data - model as lines --- need to make this into a function that splits up the T's\n",
    "plt.plot(R125_x[0:9],P[0:9],\"b*-\",label=\"T= 283 K\")  \n",
    "plt.plot(R125_x[9:18],P[9:18],\"r*-\",label=\"T= 298 K\") \n",
    "plt.plot(R125_x[18:26],P[18:26],\"c*-\",label=\"T= 323 K\") \n",
    "plt.plot(R125_x[26:34],P[26:34],\"m*-\",label=\"T= 348 K\")\n",
    "plt.plot(data[\"x_R125\"],data[\"pressure\"],\"*\",color='orange',label=\"data\")  \n",
    "plt.title('Isotherm [R125][bmimBF4] for T= 298 K')\n",
    "plt.ylabel('Pressure (Pa)')\n",
    "plt.xlabel('x R125')\n",
    "plt.grid(True)\n",
    "plt.ylim(0,1110000)\n",
    "plt.legend()\n",
    "plt.show()\n",
    "\n",
    "#only 298\n",
    "plt.plot(R125_x_298,P_298,\"r*-\",label=\"T= 298 K\") \n",
    "plt.plot(data_298[\"x_R125\"],data_298[\"pressure\"],\"*\",color='orange',label=\"data\")  \n",
    "plt.title('Isotherm [R125][bmimBF4] fit to T= 298 K')\n",
    "plt.ylabel('Pressure (Pa)')\n",
    "plt.xlabel('x R125')\n",
    "plt.grid(True)\n",
    "plt.ylim(0,1110000)\n",
    "plt.legend()\n",
    "plt.show()"
   ]
  },
  {
   "cell_type": "markdown",
   "id": "intense-chicken",
   "metadata": {},
   "source": [
    "## T = 323 K"
   ]
  },
  {
   "cell_type": "code",
   "execution_count": 16,
   "id": "surprised-recipe",
   "metadata": {},
   "outputs": [
    {
     "name": "stdout",
     "output_type": "stream",
     "text": [
      "   temperature  pressure  x_R125  x_bmimBF4\n",
      "0        323.1     99600   0.013      0.987\n",
      "1        323.1    199800   0.028      0.972\n",
      "2        323.2    300000   0.042      0.958\n",
      "3        323.1    399700   0.057      0.943\n",
      "4        323.2    499900   0.072      0.928\n",
      "5        323.1    599600   0.087      0.913\n",
      "6        323.1    799700   0.120      0.880\n",
      "7        323.1    999600   0.154      0.846\n"
     ]
    }
   ],
   "source": [
    "print(data_323)"
   ]
  },
  {
   "cell_type": "code",
   "execution_count": 17,
   "id": "sustained-black",
   "metadata": {},
   "outputs": [
    {
     "name": "stdout",
     "output_type": "stream",
     "text": [
      "2021-04-06 00:57:35 [INFO] idaes.generic_models.properties.core.generic.generic_property: DEPRECATED - definiton of generic property packages is moving to using static classes instead of modules. Please refer to the IDAES documentation.\n",
      "2021-04-06 00:57:35 [INFO] idaes.init.fs.state_block: Property package initialization: optimal - Optimal Solution Found.\n",
      "2021-04-06 00:57:35 [INFO] idaes.generic_models.properties.core.generic.generic_property: DEPRECATED - definiton of generic property packages is moving to using static classes instead of modules. Please refer to the IDAES documentation.\n",
      "2021-04-06 00:57:35 [INFO] idaes.init.fs.state_block: Property package initialization: optimal - Optimal Solution Found.\n",
      "2021-04-06 00:57:35 [INFO] idaes.generic_models.properties.core.generic.generic_property: DEPRECATED - definiton of generic property packages is moving to using static classes instead of modules. Please refer to the IDAES documentation.\n",
      "2021-04-06 00:57:36 [INFO] idaes.init.fs.state_block: Property package initialization: optimal - Optimal Solution Found.\n",
      "2021-04-06 00:57:36 [INFO] idaes.generic_models.properties.core.generic.generic_property: DEPRECATED - definiton of generic property packages is moving to using static classes instead of modules. Please refer to the IDAES documentation.\n",
      "2021-04-06 00:57:36 [INFO] idaes.init.fs.state_block: Property package initialization: optimal - Optimal Solution Found.\n",
      "2021-04-06 00:57:36 [INFO] idaes.generic_models.properties.core.generic.generic_property: DEPRECATED - definiton of generic property packages is moving to using static classes instead of modules. Please refer to the IDAES documentation.\n",
      "2021-04-06 00:57:36 [INFO] idaes.init.fs.state_block: Property package initialization: optimal - Optimal Solution Found.\n",
      "2021-04-06 00:57:36 [INFO] idaes.generic_models.properties.core.generic.generic_property: DEPRECATED - definiton of generic property packages is moving to using static classes instead of modules. Please refer to the IDAES documentation.\n",
      "2021-04-06 00:57:36 [INFO] idaes.init.fs.state_block: Property package initialization: optimal - Optimal Solution Found.\n",
      "2021-04-06 00:57:36 [INFO] idaes.generic_models.properties.core.generic.generic_property: DEPRECATED - definiton of generic property packages is moving to using static classes instead of modules. Please refer to the IDAES documentation.\n",
      "2021-04-06 00:57:37 [INFO] idaes.init.fs.state_block: Property package initialization: optimal - Optimal Solution Found.\n",
      "2021-04-06 00:57:37 [INFO] idaes.generic_models.properties.core.generic.generic_property: DEPRECATED - definiton of generic property packages is moving to using static classes instead of modules. Please refer to the IDAES documentation.\n",
      "2021-04-06 00:57:37 [INFO] idaes.init.fs.state_block: Property package initialization: optimal - Optimal Solution Found.\n",
      "Ipopt 3.13.2: \n",
      "\n",
      "******************************************************************************\n",
      "This program contains Ipopt, a library for large-scale nonlinear optimization.\n",
      " Ipopt is released as open source code under the Eclipse Public License (EPL).\n",
      "         For more information visit http://projects.coin-or.org/Ipopt\n",
      "\n",
      "This version of Ipopt was compiled from source code available at\n",
      "    https://github.com/IDAES/Ipopt as part of the Institute for the Design of\n",
      "    Advanced Energy Systems Process Systems Engineering Framework (IDAES PSE\n",
      "    Framework) Copyright (c) 2018-2019. See https://github.com/IDAES/idaes-pse.\n",
      "\n",
      "This version of Ipopt was compiled using HSL, a collection of Fortran codes\n",
      "    for large-scale scientific computation.  All technical papers, sales and\n",
      "    publicity material resulting from use of the HSL codes within IPOPT must\n",
      "    contain the following acknowledgement:\n",
      "        HSL, a collection of Fortran codes for large-scale scientific\n",
      "        computation. See http://www.hsl.rl.ac.uk.\n",
      "******************************************************************************\n",
      "\n",
      "This is Ipopt version 3.13.2, running with linear solver ma27.\n",
      "\n",
      "Number of nonzeros in equality constraint Jacobian...:      272\n",
      "Number of nonzeros in inequality constraint Jacobian.:        0\n",
      "Number of nonzeros in Lagrangian Hessian.............:      272\n",
      "\n",
      "Total number of variables............................:      114\n",
      "                     variables with only lower bounds:       48\n",
      "                variables with lower and upper bounds:       48\n",
      "                     variables with only upper bounds:        0\n",
      "Total number of equality constraints.................:      112\n",
      "Total number of inequality constraints...............:        0\n",
      "        inequality constraints with only lower bounds:        0\n",
      "   inequality constraints with lower and upper bounds:        0\n",
      "        inequality constraints with only upper bounds:        0\n",
      "\n",
      "iter    objective    inf_pr   inf_du lg(mu)  ||d||  lg(rg) alpha_du alpha_pr  ls\n",
      "   0  0.0000000e+00 3.42e-01 2.99e-14  -1.0 0.00e+00    -  0.00e+00 0.00e+00   0\n",
      "   1  8.3881088e-03 1.10e+00 1.26e+02  -1.0 5.31e+03    -  8.31e-01 9.90e-01h  1\n",
      "   2  8.3032216e-03 1.92e-01 1.59e+02  -1.0 7.98e+01    -  8.51e-01 9.90e-01h  1\n",
      "   3  8.3037975e-03 8.69e-03 1.00e+03  -1.0 2.81e+01    -  9.90e-01 1.00e+00h  1\n",
      "   4  7.6004719e-03 1.75e-05 1.09e+05  -1.0 1.37e+03    -  9.89e-01 1.00e+00h  1\n",
      "   5  7.1347796e-03 3.04e-06 1.09e+03  -1.0 1.64e+03    -  9.90e-01 1.00e+00h  1\n",
      "   6  6.5976034e-03 2.22e-06 2.73e+04  -2.5 9.49e+02    -  9.97e-01 1.00e+00h  1\n",
      "   7  6.5974181e-03 2.82e-10 2.84e-08  -2.5 7.47e+00    -  1.00e+00 1.00e+00h  1\n",
      "   8  6.5969929e-03 1.87e-09 9.74e+00  -8.6 2.76e+01    -  1.00e+00 1.00e+00h  1\n",
      "   9  6.5969928e-03 1.85e-12 2.55e-14  -8.6 6.23e-03    -  1.00e+00 1.00e+00h  1\n",
      "\n",
      "Number of Iterations....: 9\n",
      "\n",
      "                                   (scaled)                 (unscaled)\n",
      "Objective...............:   6.5969928154953261e-03    6.5969928154953261e-03\n",
      "Dual infeasibility......:   2.5479618415147343e-14    2.5479618415147343e-14\n",
      "Constraint violation....:   1.8527401834944612e-12    1.8527401834944612e-12\n",
      "Complementarity.........:   2.5059087122239875e-09    2.5059087122239875e-09\n",
      "Overall NLP error.......:   2.5059087122239875e-09    2.5059087122239875e-09\n",
      "\n",
      "\n",
      "Number of objective function evaluations             = 10\n",
      "Number of objective gradient evaluations             = 10\n",
      "Number of equality constraint evaluations            = 10\n",
      "Number of inequality constraint evaluations          = 0\n",
      "Number of equality constraint Jacobian evaluations   = 10\n",
      "Number of inequality constraint Jacobian evaluations = 0\n",
      "Number of Lagrangian Hessian evaluations             = 9\n",
      "Total CPU secs in IPOPT (w/o function evaluations)   =      0.005\n",
      "Total CPU secs in NLP function evaluations           =      0.016\n",
      "\n",
      "EXIT: Optimal Solution Found.\n",
      "The SSE at the optimal solution is 0.006597\n",
      "\n",
      "The values for the parameters are as follows:\n",
      "fs.properties.PR_kappa[R125,bmimBF4] = 0.1437933422974738\n",
      "fs.properties.PR_kappa[bmimBF4,R125] = 0.6095379553300515\n"
     ]
    }
   ],
   "source": [
    "binary_params_peng(data_323, configuration, 'R125', 'bmimBF4', \"x_R125\", \"x_bmimBF4\", \n",
    "    init_temp = 323.1, init_press = 799700, init_x_c1 = 0.120, init_x_c2 = 0.880,\n",
    "    init_kappa_2_1 = k21_298, init_kappa_1_2 = k12_298, eps = 0.1, scaling_fac = 1e-9, read=False)"
   ]
  },
  {
   "cell_type": "code",
   "execution_count": 18,
   "id": "dutch-quarterly",
   "metadata": {},
   "outputs": [],
   "source": [
    "k12_323 = 0.1437933422974738\n",
    "k21_323 = 0.6095379553300515"
   ]
  },
  {
   "cell_type": "code",
   "execution_count": 19,
   "id": "frank-slave",
   "metadata": {},
   "outputs": [
    {
     "name": "stdout",
     "output_type": "stream",
     "text": [
      "WARNING: Implicitly replacing the Component attribute liq (type=<class\n",
      "    'pyomo.core.base.param.SimpleParam'>) on block fs with a new Component\n",
      "    (type=<class 'pyomo.core.base.param.SimpleParam'>). This is usually\n",
      "    indicative of a modelling error. To avoid this warning, use\n",
      "    block.del_component() and block.add_component().\n",
      "WARNING: Implicitly replacing the Component attribute liquid (type=<class\n",
      "    'pyomo.core.base.constraint.SimpleConstraint'>) on block fs with a new\n",
      "    Component (type=<class\n",
      "    'pyomo.core.base.constraint.AbstractSimpleConstraint'>). This is usually\n",
      "    indicative of a modelling error. To avoid this warning, use\n",
      "    block.del_component() and block.add_component().\n",
      "The final DOF is 0\n",
      "The final DOF is 0\n",
      "The final DOF is 0\n",
      "The final DOF is 0\n",
      "The final DOF is 0\n",
      "The final DOF is 0\n",
      "The final DOF is 0\n",
      "The final DOF is 0\n",
      "WARNING: Loading a SolverResults object with a warning status into\n",
      "    model.name=\"unknown\";\n",
      "      - termination condition: infeasible\n",
      "      - message from solver: Ipopt 3.13.2\\x3a Converged to a locally\n",
      "        infeasible point. Problem may be infeasible.\n",
      "Infeasible.\n",
      "The final DOF is 0\n",
      "WARNING: Loading a SolverResults object with a warning status into\n",
      "    model.name=\"unknown\";\n",
      "      - termination condition: infeasible\n",
      "      - message from solver: Ipopt 3.13.2\\x3a Converged to a locally\n",
      "        infeasible point. Problem may be infeasible.\n",
      "Infeasible.\n",
      "The final DOF is 0\n",
      "The final DOF is 0\n",
      "The final DOF is 0\n",
      "The final DOF is 0\n",
      "The final DOF is 0\n",
      "The final DOF is 0\n",
      "The final DOF is 0\n",
      "The final DOF is 0\n",
      "The final DOF is 0\n",
      "The final DOF is 0\n",
      "WARNING: Loading a SolverResults object with a warning status into\n",
      "    model.name=\"unknown\";\n",
      "      - termination condition: infeasible\n",
      "      - message from solver: Ipopt 3.13.2\\x3a Converged to a locally\n",
      "        infeasible point. Problem may be infeasible.\n",
      "Infeasible.\n",
      "The final DOF is 0\n",
      "The final DOF is 0\n",
      "The final DOF is 0\n",
      "The final DOF is 0\n",
      "The final DOF is 0\n",
      "The final DOF is 0\n",
      "The final DOF is 0\n",
      "The final DOF is 0\n",
      "The final DOF is 0\n",
      "The final DOF is 0\n",
      "The final DOF is 0\n",
      "The final DOF is 0\n",
      "The final DOF is 0\n",
      "The final DOF is 0\n",
      "The final DOF is 0\n",
      "WARNING: Implicitly replacing the Component attribute liq (type=<class\n",
      "    'pyomo.core.base.param.SimpleParam'>) on block fs with a new Component\n",
      "    (type=<class 'pyomo.core.base.param.SimpleParam'>). This is usually\n",
      "    indicative of a modelling error. To avoid this warning, use\n",
      "    block.del_component() and block.add_component().\n",
      "WARNING: Implicitly replacing the Component attribute liquid (type=<class\n",
      "    'pyomo.core.base.constraint.SimpleConstraint'>) on block fs with a new\n",
      "    Component (type=<class\n",
      "    'pyomo.core.base.constraint.AbstractSimpleConstraint'>). This is usually\n",
      "    indicative of a modelling error. To avoid this warning, use\n",
      "    block.del_component() and block.add_component().\n",
      "The final DOF is 0\n",
      "WARNING: Loading a SolverResults object with a warning status into\n",
      "    model.name=\"unknown\";\n",
      "      - termination condition: infeasible\n",
      "      - message from solver: Ipopt 3.13.2\\x3a Converged to a locally\n",
      "        infeasible point. Problem may be infeasible.\n",
      "Infeasible.\n",
      "The final DOF is 0\n",
      "The final DOF is 0\n",
      "The final DOF is 0\n",
      "The final DOF is 0\n",
      "The final DOF is 0\n",
      "The final DOF is 0\n",
      "The final DOF is 0\n"
     ]
    }
   ],
   "source": [
    "R125_x,P= calc_outlet_xP(data,m,\"R125\", \"bmimBF4\", k21_323, k12_323,verbose=True)\n",
    "R125_x_323,P_323= calc_outlet_xP(data_323,m,\"R125\", \"bmimBF4\", k21_323, k12_323,verbose=True)"
   ]
  },
  {
   "cell_type": "code",
   "execution_count": 20,
   "id": "athletic-musical",
   "metadata": {},
   "outputs": [
    {
     "data": {
      "image/png": "[encoded data removed]",
      "text/plain": [
       "<Figure size 432x288 with 1 Axes>"
      ]
     },
     "metadata": {
      "needs_background": "light"
     },
     "output_type": "display_data"
    },
    {
     "data": {
      "image/png": "[encoded data removed]",
      "text/plain": [
       "<Figure size 432x288 with 1 Axes>"
      ]
     },
     "metadata": {
      "needs_background": "light"
     },
     "output_type": "display_data"
    }
   ],
   "source": [
    "# all t's\n",
    "plt.plot(R125_x[0:9],P[0:9],\"b*-\",label=\"T= 283 K\")  \n",
    "plt.plot(R125_x[9:18],P[9:18],\"r*-\",label=\"T= 298 K\") \n",
    "plt.plot(R125_x[18:26],P[18:26],\"c*-\",label=\"T= 323 K\") \n",
    "plt.plot(R125_x[26:34],P[26:34],\"m*-\",label=\"T= 348 K\")\n",
    "plt.plot(data[\"x_R125\"],data[\"pressure\"],\"*\",color='orange',label=\"data\")  \n",
    "plt.title('Isotherm [R125][bmimBF4] fit to T= 323 K')\n",
    "plt.ylabel('Pressure (Pa)')\n",
    "plt.xlabel('x R125')\n",
    "plt.grid(True)\n",
    "plt.ylim(0,1110000)\n",
    "plt.legend()\n",
    "plt.show()\n",
    "# only 323 K\n",
    "plt.plot(R125_x_323,P_323,\"c*-\",label=\"T= 323 K\") \n",
    "plt.plot(data_323[\"x_R125\"],data_323[\"pressure\"],\"*\",color='orange',label=\"data\")  \n",
    "plt.title('Isotherm [R125][bmimBF4] for T=323 K')\n",
    "plt.ylabel('Pressure (Pa)')\n",
    "plt.xlabel('x R125')\n",
    "plt.grid(True)\n",
    "plt.ylim(0,1110000)\n",
    "plt.legend()\n",
    "plt.show()"
   ]
  },
  {
   "cell_type": "markdown",
   "id": "agreed-mirror",
   "metadata": {},
   "source": [
    "## T = 348 K"
   ]
  },
  {
   "cell_type": "code",
   "execution_count": 21,
   "id": "massive-stamp",
   "metadata": {},
   "outputs": [
    {
     "name": "stdout",
     "output_type": "stream",
     "text": [
      "   temperature  pressure  x_R125  x_bmimBF4\n",
      "0        348.1     99700   0.007      0.993\n",
      "1        348.2    199600   0.016      0.984\n",
      "2        348.3    299700   0.025      0.975\n",
      "3        348.2    399700   0.033      0.967\n",
      "4        348.2    499800   0.043      0.957\n",
      "5        348.2    599800   0.053      0.947\n",
      "6        348.3    800000   0.070      0.930\n",
      "7        348.2    999600   0.088      0.912\n"
     ]
    }
   ],
   "source": [
    "print(data_348)"
   ]
  },
  {
   "cell_type": "code",
   "execution_count": 22,
   "id": "hazardous-brook",
   "metadata": {},
   "outputs": [
    {
     "name": "stdout",
     "output_type": "stream",
     "text": [
      "2021-04-06 00:58:22 [INFO] idaes.generic_models.properties.core.generic.generic_property: DEPRECATED - definiton of generic property packages is moving to using static classes instead of modules. Please refer to the IDAES documentation.\n",
      "2021-04-06 00:58:23 [INFO] idaes.init.fs.state_block: Property package initialization: optimal - Optimal Solution Found.\n",
      "2021-04-06 00:58:23 [INFO] idaes.generic_models.properties.core.generic.generic_property: DEPRECATED - definiton of generic property packages is moving to using static classes instead of modules. Please refer to the IDAES documentation.\n",
      "2021-04-06 00:58:23 [INFO] idaes.init.fs.state_block: Property package initialization: optimal - Optimal Solution Found.\n",
      "2021-04-06 00:58:23 [INFO] idaes.generic_models.properties.core.generic.generic_property: DEPRECATED - definiton of generic property packages is moving to using static classes instead of modules. Please refer to the IDAES documentation.\n",
      "2021-04-06 00:58:23 [INFO] idaes.init.fs.state_block: Property package initialization: optimal - Optimal Solution Found.\n",
      "2021-04-06 00:58:23 [INFO] idaes.generic_models.properties.core.generic.generic_property: DEPRECATED - definiton of generic property packages is moving to using static classes instead of modules. Please refer to the IDAES documentation.\n",
      "2021-04-06 00:58:23 [INFO] idaes.init.fs.state_block: Property package initialization: optimal - Optimal Solution Found.\n",
      "2021-04-06 00:58:23 [INFO] idaes.generic_models.properties.core.generic.generic_property: DEPRECATED - definiton of generic property packages is moving to using static classes instead of modules. Please refer to the IDAES documentation.\n",
      "2021-04-06 00:58:24 [INFO] idaes.init.fs.state_block: Property package initialization: optimal - Optimal Solution Found.\n",
      "2021-04-06 00:58:24 [INFO] idaes.generic_models.properties.core.generic.generic_property: DEPRECATED - definiton of generic property packages is moving to using static classes instead of modules. Please refer to the IDAES documentation.\n",
      "2021-04-06 00:58:24 [INFO] idaes.init.fs.state_block: Property package initialization: optimal - Optimal Solution Found.\n",
      "2021-04-06 00:58:24 [INFO] idaes.generic_models.properties.core.generic.generic_property: DEPRECATED - definiton of generic property packages is moving to using static classes instead of modules. Please refer to the IDAES documentation.\n",
      "2021-04-06 00:58:24 [INFO] idaes.init.fs.state_block: Property package initialization: optimal - Optimal Solution Found.\n",
      "2021-04-06 00:58:24 [INFO] idaes.generic_models.properties.core.generic.generic_property: DEPRECATED - definiton of generic property packages is moving to using static classes instead of modules. Please refer to the IDAES documentation.\n",
      "2021-04-06 00:58:24 [INFO] idaes.init.fs.state_block: Property package initialization: optimal - Optimal Solution Found.\n",
      "Ipopt 3.13.2: \n",
      "\n",
      "******************************************************************************\n",
      "This program contains Ipopt, a library for large-scale nonlinear optimization.\n",
      " Ipopt is released as open source code under the Eclipse Public License (EPL).\n",
      "         For more information visit http://projects.coin-or.org/Ipopt\n",
      "\n",
      "This version of Ipopt was compiled from source code available at\n",
      "    https://github.com/IDAES/Ipopt as part of the Institute for the Design of\n",
      "    Advanced Energy Systems Process Systems Engineering Framework (IDAES PSE\n",
      "    Framework) Copyright (c) 2018-2019. See https://github.com/IDAES/idaes-pse.\n",
      "\n",
      "This version of Ipopt was compiled using HSL, a collection of Fortran codes\n",
      "    for large-scale scientific computation.  All technical papers, sales and\n",
      "    publicity material resulting from use of the HSL codes within IPOPT must\n",
      "    contain the following acknowledgement:\n",
      "        HSL, a collection of Fortran codes for large-scale scientific\n",
      "        computation. See http://www.hsl.rl.ac.uk.\n",
      "******************************************************************************\n",
      "\n",
      "This is Ipopt version 3.13.2, running with linear solver ma27.\n",
      "\n",
      "Number of nonzeros in equality constraint Jacobian...:      272\n",
      "Number of nonzeros in inequality constraint Jacobian.:        0\n",
      "Number of nonzeros in Lagrangian Hessian.............:      272\n",
      "\n",
      "Total number of variables............................:      114\n",
      "                     variables with only lower bounds:       48\n",
      "                variables with lower and upper bounds:       48\n",
      "                     variables with only upper bounds:        0\n",
      "Total number of equality constraints.................:      112\n",
      "Total number of inequality constraints...............:        0\n",
      "        inequality constraints with only lower bounds:        0\n",
      "   inequality constraints with lower and upper bounds:        0\n",
      "        inequality constraints with only upper bounds:        0\n",
      "\n",
      "iter    objective    inf_pr   inf_du lg(mu)  ||d||  lg(rg) alpha_du alpha_pr  ls\n",
      "   0  0.0000000e+00 8.45e-01 3.00e-15  -1.0 0.00e+00    -  0.00e+00 0.00e+00   0\n",
      "   1  1.3499039e-01 5.39e-01 1.62e+03  -1.0 2.09e+04    -  4.77e-01 9.90e-01h  1\n",
      "   2  1.3381081e-01 7.00e-02 1.07e+02  -1.0 7.26e+02    -  9.25e-01 9.90e-01h  1\n",
      "   3  1.3350610e-01 1.64e-03 1.01e+03  -1.0 7.16e+01    -  9.90e-01 1.00e+00h  1\n",
      "   4  1.1578517e-01 3.07e-05 1.41e+05  -1.0 4.52e+03    -  9.86e-01 1.00e+00h  1\n",
      "   5  9.8165448e-02 2.77e-04 1.41e+03  -1.0 8.84e+03    -  9.90e-01 1.00e+00f  1\n",
      "   6  9.6827538e-02 5.38e-06 7.85e+04  -1.7 1.94e+03    -  9.90e-01 1.00e+00h  1\n",
      "   7  9.6808209e-02 1.49e-08 6.95e-07  -1.7 6.73e+01    -  1.00e+00 1.00e+00h  1\n",
      "   8  9.6747285e-02 5.23e-07 3.70e+03  -8.6 6.08e+02    -  9.98e-01 1.00e+00h  1\n",
      "   9  9.6746706e-02 2.36e-10 1.08e-08  -8.6 8.30e+00    -  1.00e+00 1.00e+00h  1\n",
      "iter    objective    inf_pr   inf_du lg(mu)  ||d||  lg(rg) alpha_du alpha_pr  ls\n",
      "  10  9.6746706e-02 1.00e-11 5.43e-14  -9.0 6.22e-04    -  1.00e+00 1.00e+00h  1\n",
      "\n",
      "Number of Iterations....: 10\n",
      "\n",
      "                                   (scaled)                 (unscaled)\n",
      "Objective...............:   9.6746706113336037e-02    9.6746706113336037e-02\n",
      "Dual infeasibility......:   5.4347980682196966e-14    5.4347980682196966e-14\n",
      "Constraint violation....:   9.9991126489840099e-12    9.9991126489840099e-12\n",
      "Complementarity.........:   9.0909093844366077e-10    9.0909093844366077e-10\n",
      "Overall NLP error.......:   9.0909093844366077e-10    9.0909093844366077e-10\n",
      "\n",
      "\n",
      "Number of objective function evaluations             = 11\n",
      "Number of objective gradient evaluations             = 11\n",
      "Number of equality constraint evaluations            = 11\n",
      "Number of inequality constraint evaluations          = 0\n",
      "Number of equality constraint Jacobian evaluations   = 11\n",
      "Number of inequality constraint Jacobian evaluations = 0\n",
      "Number of Lagrangian Hessian evaluations             = 10\n",
      "Total CPU secs in IPOPT (w/o function evaluations)   =      0.006\n",
      "Total CPU secs in NLP function evaluations           =      0.019\n",
      "\n",
      "EXIT: Optimal Solution Found.\n",
      "The SSE at the optimal solution is 0.096747\n",
      "\n",
      "The values for the parameters are as follows:\n",
      "fs.properties.PR_kappa[R125,bmimBF4] = 0.17921547122111406\n",
      "fs.properties.PR_kappa[bmimBF4,R125] = 0.964696590244287\n"
     ]
    }
   ],
   "source": [
    "binary_params_peng(data_348, configuration, 'R125', 'bmimBF4', \"x_R125\", \"x_bmimBF4\", \n",
    "    init_temp = 348.2, init_press = 499800, init_x_c1 = 0.043, init_x_c2 = 0.957,\n",
    "    init_kappa_2_1 = k21_323, init_kappa_1_2 = k12_283, eps = 0.1, scaling_fac = 1e-9, read=False)"
   ]
  },
  {
   "cell_type": "code",
   "execution_count": 23,
   "id": "armed-lending",
   "metadata": {},
   "outputs": [],
   "source": [
    "k12_348 = 0.17921547122111406\n",
    "k21_348 = 0.964696590244287"
   ]
  },
  {
   "cell_type": "code",
   "execution_count": 24,
   "id": "signal-stream",
   "metadata": {},
   "outputs": [
    {
     "name": "stdout",
     "output_type": "stream",
     "text": [
      "WARNING: Implicitly replacing the Component attribute liq (type=<class\n",
      "    'pyomo.core.base.param.SimpleParam'>) on block fs with a new Component\n",
      "    (type=<class 'pyomo.core.base.param.SimpleParam'>). This is usually\n",
      "    indicative of a modelling error. To avoid this warning, use\n",
      "    block.del_component() and block.add_component().\n",
      "WARNING: Implicitly replacing the Component attribute liquid (type=<class\n",
      "    'pyomo.core.base.constraint.SimpleConstraint'>) on block fs with a new\n",
      "    Component (type=<class\n",
      "    'pyomo.core.base.constraint.AbstractSimpleConstraint'>). This is usually\n",
      "    indicative of a modelling error. To avoid this warning, use\n",
      "    block.del_component() and block.add_component().\n",
      "The final DOF is 0\n",
      "The final DOF is 0\n",
      "The final DOF is 0\n",
      "The final DOF is 0\n",
      "The final DOF is 0\n",
      "The final DOF is 0\n",
      "The final DOF is 0\n",
      "The final DOF is 0\n"
     ]
    }
   ],
   "source": [
    "R125_x_348, P_348= calc_outlet_xP(data_348,m,\"R125\", \"bmimBF4\", k21_348, k12_348,verbose=True)\n",
    "# R125_x,P= calc_outlet_xP(data,m,\"R125\", \"bmimBF4\", k21_348, k12_348, verbose=True)"
   ]
  },
  {
   "cell_type": "code",
   "execution_count": 25,
   "id": "alive-croatia",
   "metadata": {},
   "outputs": [
    {
     "name": "stdout",
     "output_type": "stream",
     "text": [
      "WARNING: Implicitly replacing the Component attribute liq (type=<class\n",
      "    'pyomo.core.base.param.SimpleParam'>) on block fs with a new Component\n",
      "    (type=<class 'pyomo.core.base.param.SimpleParam'>). This is usually\n",
      "    indicative of a modelling error. To avoid this warning, use\n",
      "    block.del_component() and block.add_component().\n",
      "WARNING: Implicitly replacing the Component attribute liquid (type=<class\n",
      "    'pyomo.core.base.constraint.SimpleConstraint'>) on block fs with a new\n",
      "    Component (type=<class\n",
      "    'pyomo.core.base.constraint.AbstractSimpleConstraint'>). This is usually\n",
      "    indicative of a modelling error. To avoid this warning, use\n",
      "    block.del_component() and block.add_component().\n",
      "The final DOF is 0\n",
      "The final DOF is 0\n",
      "The final DOF is 0\n",
      "The final DOF is 0\n",
      "The final DOF is 0\n",
      "The final DOF is 0\n",
      "The final DOF is 0\n",
      "The final DOF is 0\n"
     ]
    }
   ],
   "source": [
    "R125_x_323, P_323= calc_outlet_xP(data_323,m,\"R125\", \"bmimBF4\", k21_348, k12_348,verbose=True)"
   ]
  },
  {
   "cell_type": "code",
   "execution_count": 26,
   "id": "inside-rochester",
   "metadata": {},
   "outputs": [
    {
     "name": "stdout",
     "output_type": "stream",
     "text": [
      "   temperature  pressure  x_R125  x_bmimBF4\n",
      "0        298.2      9800   0.003      0.997\n",
      "1        298.2     99600   0.023      0.977\n",
      "2        298.2    199800   0.050      0.950\n",
      "3        298.1    299500   0.080      0.920\n",
      "4        298.2    399800   0.111      0.889\n",
      "5        298.2    499500   0.143      0.857\n",
      "6        298.2    599500   0.180      0.820\n",
      "7        298.2    799600   0.261      0.739\n",
      "8        298.1    999800   0.363      0.637\n"
     ]
    }
   ],
   "source": [
    "print(data_298)\n",
    "test=data_298[0:8]"
   ]
  },
  {
   "cell_type": "code",
   "execution_count": 27,
   "id": "arctic-sunset",
   "metadata": {},
   "outputs": [
    {
     "name": "stdout",
     "output_type": "stream",
     "text": [
      "WARNING: Implicitly replacing the Component attribute liq (type=<class\n",
      "    'pyomo.core.base.param.SimpleParam'>) on block fs with a new Component\n",
      "    (type=<class 'pyomo.core.base.param.SimpleParam'>). This is usually\n",
      "    indicative of a modelling error. To avoid this warning, use\n",
      "    block.del_component() and block.add_component().\n",
      "WARNING: Implicitly replacing the Component attribute liquid (type=<class\n",
      "    'pyomo.core.base.constraint.SimpleConstraint'>) on block fs with a new\n",
      "    Component (type=<class\n",
      "    'pyomo.core.base.constraint.AbstractSimpleConstraint'>). This is usually\n",
      "    indicative of a modelling error. To avoid this warning, use\n",
      "    block.del_component() and block.add_component().\n",
      "The final DOF is 0\n",
      "The final DOF is 0\n",
      "The final DOF is 0\n",
      "The final DOF is 0\n",
      "The final DOF is 0\n",
      "The final DOF is 0\n",
      "The final DOF is 0\n",
      "The final DOF is 0\n"
     ]
    }
   ],
   "source": [
    "R125_x_298, P_298= calc_outlet_xP(test,m,\"R125\", \"bmimBF4\", k21_348, k12_348,verbose=True)"
   ]
  },
  {
   "cell_type": "code",
   "execution_count": 28,
   "id": "loaded-looking",
   "metadata": {},
   "outputs": [
    {
     "data": {
      "image/png": "[encoded data removed]",
      "text/plain": [
       "<Figure size 432x288 with 1 Axes>"
      ]
     },
     "metadata": {
      "needs_background": "light"
     },
     "output_type": "display_data"
    }
   ],
   "source": [
    "# All T's\n",
    "# plt.plot(R125_x_283,P_283,\"b*-\",label=\"T= 283 K\")  \n",
    "plt.plot(R125_x_298,P_298,\"r*-\",label=\"T= 298 K\") \n",
    "plt.plot(R125_x_323,P_323,\"c*-\",label=\"T= 323 K\") \n",
    "plt.plot(R125_x_348,P_348,\"m*-\",label=\"T= 348 K\") \n",
    "plt.plot(data[\"x_R125\"],data[\"pressure\"],\"*\",color='orange',label=\"data\")  \n",
    "plt.title('Isotherm [R125][bmimBF4] fit to T= 348 K')\n",
    "plt.ylabel('Pressure (Pa)')\n",
    "plt.xlabel('x R125')\n",
    "plt.grid(True)\n",
    "plt.ylim(0,1110000)\n",
    "plt.legend()\n",
    "plt.show()\n",
    "\n",
    "# #only 348\n",
    "# plt.plot(R125_x_348,P_348,\"m*-\",label=\"T= 348 K\") \n",
    "# plt.plot(data_348[\"x_R125\"],data_348[\"pressure\"],\"*\",color='orange',label=\"data\")  \n",
    "# plt.title('Isotherm [R125][bmimBF4]')\n",
    "# plt.ylabel('Pressure (Pa)')\n",
    "# plt.xlabel('x R125')\n",
    "# plt.grid(True)\n",
    "# plt.ylim(0,1110000)\n",
    "# plt.legend()\n",
    "# plt.show()"
   ]
  },
  {
   "cell_type": "markdown",
   "id": "rotary-invite",
   "metadata": {},
   "source": [
    "# kappa vs T"
   ]
  },
  {
   "cell_type": "code",
   "execution_count": 29,
   "id": "placed-nursing",
   "metadata": {},
   "outputs": [
    {
     "data": {
      "image/png": "[encoded data removed]",
      "text/plain": [
       "<Figure size 432x288 with 1 Axes>"
      ]
     },
     "metadata": {
      "needs_background": "light"
     },
     "output_type": "display_data"
    },
    {
     "name": "stdout",
     "output_type": "stream",
     "text": [
      "K12 Values for T=  [283.2 298.2 323.2 348.2] are: \n",
      "[0.07740708 0.11003345 0.14379334 0.17921547]\n"
     ]
    }
   ],
   "source": [
    "K12 = np.array([k12_283, k12_298, k12_323, k12_348])\n",
    "T = np.array([283.2, 298.2, 323.2, 348.2]) #K\n",
    "plt.plot(T,K12,\"*\",color='orange',label=\"K12\") \n",
    "plt.title('Binary Parameters vs Temperature for R125_bmimBF4 Mixture')\n",
    "plt.ylabel('Kappas')\n",
    "plt.xlabel('Temperature')\n",
    "plt.grid(True)\n",
    "plt.legend()\n",
    "plt.show()\n",
    "\n",
    "print('K12 Values for T= ', T, 'are: ')\n",
    "print(K12)"
   ]
  },
  {
   "cell_type": "code",
   "execution_count": 30,
   "id": "amino-smith",
   "metadata": {},
   "outputs": [
    {
     "data": {
      "image/png": "[encoded data removed]",
      "text/plain": [
       "<Figure size 432x288 with 1 Axes>"
      ]
     },
     "metadata": {
      "needs_background": "light"
     },
     "output_type": "display_data"
    },
    {
     "name": "stdout",
     "output_type": "stream",
     "text": [
      "K21 Values for T=  [283.2 298.2 323.2 348.2] are: \n",
      "[0.13385808 0.34168269 0.60953796 0.96469659]\n"
     ]
    }
   ],
   "source": [
    "K21 = np.array([k21_283, k21_298, k21_323, k21_348])\n",
    "plt.plot(T,K21,\"*\",color='blue',label=\"K21\")\n",
    "plt.title('Binary Parameters vs Temperature for R125_bmimBF4 Mixture')\n",
    "plt.ylabel('Kappas')\n",
    "plt.xlabel('Temperature')\n",
    "plt.grid(True)\n",
    "plt.legend()\n",
    "plt.show()\n",
    "\n",
    "print('K21 Values for T= ', T, 'are: ')\n",
    "print(K21)"
   ]
  },
  {
   "cell_type": "markdown",
   "id": "popular-installation",
   "metadata": {},
   "source": [
    "## Best Fit"
   ]
  },
  {
   "cell_type": "code",
   "execution_count": 31,
   "id": "incorporate-walter",
   "metadata": {},
   "outputs": [
    {
     "name": "stdout",
     "output_type": "stream",
     "text": [
      "WARNING: Implicitly replacing the Component attribute liq (type=<class\n",
      "    'pyomo.core.base.param.SimpleParam'>) on block fs with a new Component\n",
      "    (type=<class 'pyomo.core.base.param.SimpleParam'>). This is usually\n",
      "    indicative of a modelling error. To avoid this warning, use\n",
      "    block.del_component() and block.add_component().\n",
      "WARNING: Implicitly replacing the Component attribute liquid (type=<class\n",
      "    'pyomo.core.base.constraint.SimpleConstraint'>) on block fs with a new\n",
      "    Component (type=<class\n",
      "    'pyomo.core.base.constraint.AbstractSimpleConstraint'>). This is usually\n",
      "    indicative of a modelling error. To avoid this warning, use\n",
      "    block.del_component() and block.add_component().\n",
      "The final DOF is 0\n",
      "The final DOF is 0\n",
      "The final DOF is 0\n",
      "The final DOF is 0\n",
      "The final DOF is 0\n",
      "The final DOF is 0\n",
      "The final DOF is 0\n",
      "The final DOF is 0\n",
      "The final DOF is 0\n",
      "The final DOF is 0\n",
      "The final DOF is 0\n",
      "The final DOF is 0\n",
      "The final DOF is 0\n",
      "The final DOF is 0\n",
      "The final DOF is 0\n",
      "The final DOF is 0\n",
      "The final DOF is 0\n",
      "The final DOF is 0\n",
      "The final DOF is 0\n",
      "The final DOF is 0\n",
      "The final DOF is 0\n",
      "The final DOF is 0\n",
      "The final DOF is 0\n",
      "The final DOF is 0\n",
      "The final DOF is 0\n",
      "The final DOF is 0\n",
      "The final DOF is 0\n",
      "The final DOF is 0\n",
      "The final DOF is 0\n",
      "The final DOF is 0\n",
      "The final DOF is 0\n",
      "The final DOF is 0\n",
      "The final DOF is 0\n",
      "The final DOF is 0\n"
     ]
    }
   ],
   "source": [
    "k12 = 0.11524746714128459\n",
    "k21 = 0.2919745027600006\n",
    "\n",
    "R125_x,P= calc_outlet_xP(data,m,\"R125\", \"bmimBF4\", k21, k12,verbose=True)"
   ]
  },
  {
   "cell_type": "code",
   "execution_count": 32,
   "id": "expressed-sweet",
   "metadata": {},
   "outputs": [
    {
     "data": {
      "image/png": "[encoded data removed]",
      "text/plain": [
       "<Figure size 432x288 with 1 Axes>"
      ]
     },
     "metadata": {
      "needs_background": "light"
     },
     "output_type": "display_data"
    }
   ],
   "source": [
    "# plots with data - model as lines --- need to make this into a function that splits up the T's\n",
    "plt.plot(R125_x[0:9],P[0:9],\"b*-\",label=\"T= 283 K\")  \n",
    "plt.plot(R125_x[9:18],P[9:18],\"r*-\",label=\"T= 298 K\") \n",
    "plt.plot(R125_x[18:26],P[18:26],\"c*-\",label=\"T= 323 K\") \n",
    "plt.plot(R125_x[26:34],P[26:34],\"m*-\",label=\"T= 348 K\")\n",
    "plt.plot(data[\"x_R125\"],data[\"pressure\"],\"*\",color='orange',label=\"data\")  \n",
    "plt.title('Isotherm [R125][bmimBF4]')\n",
    "plt.ylabel('Pressure (Pa)')\n",
    "plt.xlabel('x R125')\n",
    "plt.grid(True)\n",
    "plt.ylim(0,1110000)\n",
    "plt.legend()\n",
    "plt.show()"
   ]
  },
  {
   "cell_type": "code",
   "execution_count": null,
   "id": "trained-republic",
   "metadata": {},
   "outputs": [],
   "source": []
  }
 ],
 "metadata": {
  "kernelspec": {
   "display_name": "Python 3",
   "language": "python",
   "name": "python3"
  },
  "language_info": {
   "codemirror_mode": {
    "name": "ipython",
    "version": 3
   },
   "file_extension": ".py",
   "mimetype": "text/x-python",
   "name": "python",
   "nbconvert_exporter": "python",
   "pygments_lexer": "ipython3",
   "version": "3.9.2"
  }
 },
 "nbformat": 4,
 "nbformat_minor": 5
}
