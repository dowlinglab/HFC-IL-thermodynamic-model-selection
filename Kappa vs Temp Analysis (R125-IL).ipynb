{
 "cells": [
  {
   "cell_type": "markdown",
   "id": "above-glory",
   "metadata": {},
   "source": [
    "# R125-bmimBF4: Comparaing Binary Parameters to Temperature "
   ]
  },
  {
   "cell_type": "code",
   "execution_count": 1,
   "id": "reserved-project",
   "metadata": {},
   "outputs": [],
   "source": [
    "# import functions\n",
    "import idaes\n",
    "import matplotlib.pyplot as plt\n",
    "import pandas as pd\n",
    "import numpy as np\n",
    "from pyomo.environ import (Constraint,\n",
    "                           Var,\n",
    "                           ConcreteModel,\n",
    "                           Expression,\n",
    "                           Param,\n",
    "                           Objective,\n",
    "                           SolverFactory,\n",
    "                           TransformationFactory,\n",
    "                           value)\n",
    "\n",
    "from idaes.core import FlowsheetBlock\n",
    "import idaes.logger as idaeslog\n",
    "from pyomo.opt import TerminationCondition, SolverStatus\n",
    "# Import the Generic Parameter Block\n",
    "from idaes.generic_models.properties.core.generic.generic_property import (\n",
    "        GenericParameterBlock)\n",
    "# Import unit models from the model library\n",
    "from idaes.generic_models.unit_models import Flash\n",
    "# Import degrees of freedom tool\n",
    "from idaes.core.util.model_statistics import degrees_of_freedom\n",
    "# parmest (binary_param2)\n",
    "from binary_param2 import binary_params_peng\n",
    "# import pressure and plot functions\n",
    "from binary_fitting_functions import calc_outlet_xP\n",
    "from binary_fitting_functions import plot_sens_analysis"
   ]
  },
  {
   "cell_type": "code",
   "execution_count": 2,
   "id": "prospective-closure",
   "metadata": {},
   "outputs": [],
   "source": [
    "# from HFC32_emimTf2N_PR import configuration\n",
    "from HFC125_bmimBF4_PR import configuration"
   ]
  },
  {
   "cell_type": "code",
   "execution_count": 3,
   "id": "quality-perry",
   "metadata": {},
   "outputs": [],
   "source": [
    "#need to make excel csv for 125\n",
    "data = pd.read_csv('R125_bmimBF4.csv')\n",
    "# print(data)"
   ]
  },
  {
   "cell_type": "code",
   "execution_count": 4,
   "id": "nearby-conclusion",
   "metadata": {},
   "outputs": [],
   "source": [
    "# 283\n",
    "data_283= data[(data.temperature > 282) & (data.temperature< 284)]\n",
    "\n",
    "# 298\n",
    "data_298 = data[(data.temperature > 297) & (data.temperature< 299)]\n",
    "data_298 = data_298.reset_index(drop=True)\n",
    "\n",
    "# 323\n",
    "data_323 = data[(data.temperature > 322) & (data.temperature< 324)]\n",
    "data_323 = data_323.reset_index(drop=True)\n",
    "\n",
    "# 323\n",
    "data_348 = data[(data.temperature > 347) & (data.temperature< 349)]\n",
    "data_348 = data_348.reset_index(drop=True)"
   ]
  },
  {
   "cell_type": "code",
   "execution_count": 5,
   "id": "civic-poultry",
   "metadata": {},
   "outputs": [
    {
     "name": "stdout",
     "output_type": "stream",
     "text": [
      "2021-04-05 16:30:11 [INFO] idaes.generic_models.properties.core.generic.generic_property: DEPRECATED - definiton of generic property packages is moving to using static classes instead of modules. Please refer to the IDAES documentation.\n",
      "The initial DOF is 7\n"
     ]
    }
   ],
   "source": [
    "m = ConcreteModel()\n",
    "m.fs = FlowsheetBlock(default={\"dynamic\": False})\n",
    "m.fs.properties = GenericParameterBlock(default=configuration)\n",
    "m.fs.F101 = Flash(default={\"property_package\": m.fs.properties,\n",
    "                           \"has_heat_transfer\": True,\n",
    "                           \"has_pressure_change\": True})\n",
    "DOF_initial = degrees_of_freedom(m)\n",
    "print('The initial DOF is {0}'.format(DOF_initial))"
   ]
  },
  {
   "cell_type": "markdown",
   "id": "united-school",
   "metadata": {},
   "source": [
    "## T = 283 K"
   ]
  },
  {
   "cell_type": "code",
   "execution_count": 10,
   "id": "fatal-escape",
   "metadata": {},
   "outputs": [
    {
     "name": "stdout",
     "output_type": "stream",
     "text": [
      "   temperature  pressure  x_R125  x_bmimBF4\n",
      "0        283.1      9900   0.013      0.987\n",
      "1        283.2     99600   0.034      0.966\n",
      "2        283.3    199600   0.075      0.925\n",
      "3        283.2    299600   0.126      0.874\n",
      "4        283.3    399600   0.185      0.815\n",
      "5        283.1    499700   0.255      0.745\n",
      "6        283.2    599700   0.342      0.658\n",
      "7        283.1    699600   0.462      0.538\n",
      "8        283.2    799800   0.660      0.340\n"
     ]
    }
   ],
   "source": [
    "print(data_283)"
   ]
  },
  {
   "cell_type": "code",
   "execution_count": 14,
   "id": "consistent-fancy",
   "metadata": {},
   "outputs": [
    {
     "name": "stdout",
     "output_type": "stream",
     "text": [
      "2021-04-05 16:34:41 [INFO] idaes.generic_models.properties.core.generic.generic_property: DEPRECATED - definiton of generic property packages is moving to using static classes instead of modules. Please refer to the IDAES documentation.\n",
      "2021-04-05 16:34:41 [INFO] idaes.init.fs.state_block: Property package initialization: optimal - Optimal Solution Found.\n",
      "2021-04-05 16:34:41 [INFO] idaes.generic_models.properties.core.generic.generic_property: DEPRECATED - definiton of generic property packages is moving to using static classes instead of modules. Please refer to the IDAES documentation.\n",
      "2021-04-05 16:34:42 [INFO] idaes.init.fs.state_block: Property package initialization: optimal - Optimal Solution Found.\n",
      "2021-04-05 16:34:42 [INFO] idaes.generic_models.properties.core.generic.generic_property: DEPRECATED - definiton of generic property packages is moving to using static classes instead of modules. Please refer to the IDAES documentation.\n",
      "2021-04-05 16:34:42 [INFO] idaes.init.fs.state_block: Property package initialization: optimal - Optimal Solution Found.\n",
      "2021-04-05 16:34:42 [INFO] idaes.generic_models.properties.core.generic.generic_property: DEPRECATED - definiton of generic property packages is moving to using static classes instead of modules. Please refer to the IDAES documentation.\n",
      "2021-04-05 16:34:42 [INFO] idaes.init.fs.state_block: Property package initialization: optimal - Optimal Solution Found.\n",
      "2021-04-05 16:34:42 [INFO] idaes.generic_models.properties.core.generic.generic_property: DEPRECATED - definiton of generic property packages is moving to using static classes instead of modules. Please refer to the IDAES documentation.\n",
      "2021-04-05 16:34:42 [INFO] idaes.init.fs.state_block: Property package initialization: optimal - Optimal Solution Found.\n",
      "2021-04-05 16:34:42 [INFO] idaes.generic_models.properties.core.generic.generic_property: DEPRECATED - definiton of generic property packages is moving to using static classes instead of modules. Please refer to the IDAES documentation.\n",
      "2021-04-05 16:34:43 [INFO] idaes.init.fs.state_block: Property package initialization: optimal - Optimal Solution Found.\n",
      "2021-04-05 16:34:43 [INFO] idaes.generic_models.properties.core.generic.generic_property: DEPRECATED - definiton of generic property packages is moving to using static classes instead of modules. Please refer to the IDAES documentation.\n",
      "2021-04-05 16:34:43 [INFO] idaes.init.fs.state_block: Property package initialization: optimal - Optimal Solution Found.\n",
      "2021-04-05 16:34:43 [INFO] idaes.generic_models.properties.core.generic.generic_property: DEPRECATED - definiton of generic property packages is moving to using static classes instead of modules. Please refer to the IDAES documentation.\n",
      "2021-04-05 16:34:43 [INFO] idaes.init.fs.state_block: Property package initialization: optimal - Solved To Acceptable Level..\n",
      "2021-04-05 16:34:43 [INFO] idaes.generic_models.properties.core.generic.generic_property: DEPRECATED - definiton of generic property packages is moving to using static classes instead of modules. Please refer to the IDAES documentation.\n",
      "2021-04-05 16:34:43 [INFO] idaes.init.fs.state_block: Property package initialization: optimal - Optimal Solution Found.\n",
      "Ipopt 3.13.2: \n",
      "\n",
      "******************************************************************************\n",
      "This program contains Ipopt, a library for large-scale nonlinear optimization.\n",
      " Ipopt is released as open source code under the Eclipse Public License (EPL).\n",
      "         For more information visit http://projects.coin-or.org/Ipopt\n",
      "\n",
      "This version of Ipopt was compiled from source code available at\n",
      "    https://github.com/IDAES/Ipopt as part of the Institute for the Design of\n",
      "    Advanced Energy Systems Process Systems Engineering Framework (IDAES PSE\n",
      "    Framework) Copyright (c) 2018-2019. See https://github.com/IDAES/idaes-pse.\n",
      "\n",
      "This version of Ipopt was compiled using HSL, a collection of Fortran codes\n",
      "    for large-scale scientific computation.  All technical papers, sales and\n",
      "    publicity material resulting from use of the HSL codes within IPOPT must\n",
      "    contain the following acknowledgement:\n",
      "        HSL, a collection of Fortran codes for large-scale scientific\n",
      "        computation. See http://www.hsl.rl.ac.uk.\n",
      "******************************************************************************\n",
      "\n",
      "This is Ipopt version 3.13.2, running with linear solver ma27.\n",
      "\n",
      "Number of nonzeros in equality constraint Jacobian...:      306\n",
      "Number of nonzeros in inequality constraint Jacobian.:        0\n",
      "Number of nonzeros in Lagrangian Hessian.............:      306\n",
      "\n",
      "Total number of variables............................:      128\n",
      "                     variables with only lower bounds:       54\n",
      "                variables with lower and upper bounds:       54\n",
      "                     variables with only upper bounds:        0\n",
      "Total number of equality constraints.................:      126\n",
      "Total number of inequality constraints...............:        0\n",
      "        inequality constraints with only lower bounds:        0\n",
      "   inequality constraints with lower and upper bounds:        0\n",
      "        inequality constraints with only upper bounds:        0\n",
      "\n",
      "iter    objective    inf_pr   inf_du lg(mu)  ||d||  lg(rg) alpha_du alpha_pr  ls\n",
      "   0  0.0000000e+00 1.03e+00 2.22e-16  -1.0 0.00e+00    -  0.00e+00 0.00e+00   0\n",
      "   1  2.4790552e-01 1.00e+00 1.55e+04  -1.0 1.21e+06    -  5.10e-02 2.90e-02f  5\n",
      "   2  3.8804206e-01 9.97e-01 1.62e+04  -1.0 1.20e+06    -  3.75e-01 7.68e-03h  7\n",
      "   3  8.5973576e-01 9.81e-01 1.63e+04  -1.0 1.93e+06    -  8.26e-02 1.55e-02h  7\n",
      "   4  8.6171088e-01 9.81e-01 1.63e+04  -1.0 1.16e+06  -4.0 4.88e-01 1.91e-04h 12\n",
      "   5  8.6390728e-01 9.81e-01 1.63e+04  -1.0 8.74e+05  -3.6 1.01e-01 3.40e-04h 12\n",
      "   6  6.7526154e+00 1.04e+00 1.33e+07  -1.0 6.30e+05  -4.1 4.92e-01 2.41e-01h  3\n",
      "   7  6.9325359e+00 1.03e+00 1.31e+07  -1.0 6.46e+05  -4.5 3.68e-01 1.11e-02h  7\n",
      "   8  6.4924129e+00 1.40e+00 4.80e+08  -1.0 4.30e+05  -1.4 8.26e-01 6.19e-02f  5\n",
      "   9  8.4855163e+00 1.80e-01 4.23e+09  -1.0 5.39e+04  -1.9 5.79e-01 9.90e-01h  1\n",
      "iter    objective    inf_pr   inf_du lg(mu)  ||d||  lg(rg) alpha_du alpha_pr  ls\n",
      "  10  8.3580023e+00 1.60e-02 4.21e+07  -1.0 4.25e+03  -2.3 9.66e-01 9.90e-01h  1\n",
      "  11  8.3574225e+00 1.29e-04 1.53e+03  -1.0 4.48e+02  -2.8 9.90e-01 1.00e+00h  1\n",
      "  12  8.3574340e+00 8.36e-09 9.80e+04  -1.0 3.65e+00  -3.3 9.90e-01 1.00e+00h  1\n",
      "  13  5.1557837e+00 1.15e-02 5.30e+02  -1.0 1.71e+05    -  9.95e-01 1.00e+00f  1\n",
      "  14  5.0882305e+00 4.83e-05 1.25e-01  -2.5 2.35e+03    -  1.00e+00 1.00e+00h  1\n",
      "  15  5.0879601e+00 9.19e-10 3.03e-06  -5.7 3.27e+01    -  1.00e+00 1.00e+00h  1\n",
      "  16  5.0879601e+00 2.89e-12 4.05e-12  -8.6 2.03e-02    -  1.00e+00 1.00e+00h  1\n",
      "\n",
      "Number of Iterations....: 16\n",
      "\n",
      "                                   (scaled)                 (unscaled)\n",
      "Objective...............:   5.0879600654321147e+00    5.0879600654321147e+00\n",
      "Dual infeasibility......:   4.0548792385049996e-12    4.0548792385049996e-12\n",
      "Constraint violation....:   2.8925750683583829e-12    2.8925750683583829e-12\n",
      "Complementarity.........:   2.5059517070985010e-09    2.5059517070985010e-09\n",
      "Overall NLP error.......:   2.5059517070985010e-09    2.5059517070985010e-09\n",
      "\n",
      "\n",
      "Number of objective function evaluations             = 79\n",
      "Number of objective gradient evaluations             = 17\n",
      "Number of equality constraint evaluations            = 79\n",
      "Number of inequality constraint evaluations          = 0\n",
      "Number of equality constraint Jacobian evaluations   = 17\n",
      "Number of inequality constraint Jacobian evaluations = 0\n",
      "Number of Lagrangian Hessian evaluations             = 16\n",
      "Total CPU secs in IPOPT (w/o function evaluations)   =      0.013\n",
      "Total CPU secs in NLP function evaluations           =      0.055\n",
      "\n",
      "EXIT: Optimal Solution Found.\n",
      "The SSE at the optimal solution is 5.087960\n",
      "\n",
      "The values for the parameters are as follows:\n",
      "fs.properties.PR_kappa[R125,bmimBF4] = 0.08178562245268156\n",
      "fs.properties.PR_kappa[bmimBF4,R125] = 0.5404801222463136\n"
     ]
    }
   ],
   "source": [
    "binary_params_peng(data_283, configuration, 'R125', 'bmimBF4', \"x_R125\", \"x_bmimBF4\", \n",
    "    init_temp =  283.2, init_press =   199600 , init_x_c1 =   0.075, init_x_c2 = 0.925,\n",
    "    init_kappa_2_1 = 0.54048012224613, init_kappa_1_2 =  0.08178562245270811, eps = 0.1, scaling_fac = 1e-9, read=False)"
   ]
  },
  {
   "cell_type": "code",
   "execution_count": 15,
   "id": "sudden-program",
   "metadata": {},
   "outputs": [],
   "source": [
    "k12_283 = 0.08178562245270811\n",
    "k21_283 = 0.540480122246135"
   ]
  },
  {
   "cell_type": "code",
   "execution_count": 16,
   "id": "acting-compiler",
   "metadata": {},
   "outputs": [
    {
     "name": "stdout",
     "output_type": "stream",
     "text": [
      "WARNING: Implicitly replacing the Component attribute liq (type=<class\n",
      "    'pyomo.core.base.param.SimpleParam'>) on block fs with a new Component\n",
      "    (type=<class 'pyomo.core.base.param.SimpleParam'>). This is usually\n",
      "    indicative of a modelling error. To avoid this warning, use\n",
      "    block.del_component() and block.add_component().\n",
      "WARNING: Implicitly replacing the Component attribute liquid (type=<class\n",
      "    'pyomo.core.base.constraint.SimpleConstraint'>) on block fs with a new\n",
      "    Component (type=<class\n",
      "    'pyomo.core.base.constraint.AbstractSimpleConstraint'>). This is usually\n",
      "    indicative of a modelling error. To avoid this warning, use\n",
      "    block.del_component() and block.add_component().\n",
      "The final DOF is 0\n",
      "The final DOF is 0\n",
      "The final DOF is 0\n",
      "The final DOF is 0\n",
      "The final DOF is 0\n",
      "The final DOF is 0\n",
      "WARNING: Loading a SolverResults object with a warning status into\n",
      "    model.name=\"unknown\";\n",
      "      - termination condition: infeasible\n",
      "      - message from solver: Ipopt 3.13.2\\x3a Converged to a locally\n",
      "        infeasible point. Problem may be infeasible.\n",
      "Infeasible.\n",
      "The final DOF is 0\n",
      "The final DOF is 0\n",
      "The final DOF is 0\n"
     ]
    }
   ],
   "source": [
    "R125_x,P= calc_outlet_xP(data_283,m,\"R125\", \"bmimBF4\", k21_283, k12_283,verbose=True)"
   ]
  },
  {
   "cell_type": "code",
   "execution_count": null,
   "id": "compatible-employer",
   "metadata": {},
   "outputs": [],
   "source": [
    "# plots with data - model as lines --- need to make this into a function that splits up the T's\n",
    "plt.plot(R125_x[0:9],P[0:9],\"b*-\",label=\"T= 283 K\")  \n",
    "plt.plot(R125_x[9:18],P[9:18],\"r*-\",label=\"T= 298 K\") \n",
    "plt.plot(R125_x[18:26],P[18:26],\"c*-\",label=\"T= 323 K\") \n",
    "plt.plot(R125_x[26:34],P[26:34],\"m*-\",label=\"T= 348 K\")\n",
    "plt.plot(data[\"x_R125\"],data[\"pressure\"],\"*\",color='orange',label=\"data\")  \n",
    "plt.title('Isotherm [R125][bmimBF4]')\n",
    "plt.ylabel('Pressure (Pa)')\n",
    "plt.xlabel('x R125')\n",
    "plt.grid(True)\n",
    "plt.ylim(0,1110000)\n",
    "plt.legend()\n",
    "plt.show()"
   ]
  },
  {
   "cell_type": "code",
   "execution_count": null,
   "id": "consistent-invitation",
   "metadata": {},
   "outputs": [],
   "source": [
    "# plt.plot(R125_x,P,\"*\",label=\"IDAES\")  \n",
    "# plt.plot(data[\"x_R125\"],data[\"pressure\"],\"*\",label=\"data\")  \n",
    "# plt.title('Isotherm [R125][emimTF2N]')\n",
    "# plt.ylabel('Pressure (Pa)')\n",
    "# plt.xlabel('x R125')\n",
    "# plt.grid(True)\n",
    "# plt.legend()\n",
    "# plt.show()"
   ]
  },
  {
   "cell_type": "markdown",
   "id": "worldwide-strike",
   "metadata": {},
   "source": [
    "## T = 298 K"
   ]
  },
  {
   "cell_type": "code",
   "execution_count": 17,
   "id": "loose-cross",
   "metadata": {},
   "outputs": [
    {
     "name": "stdout",
     "output_type": "stream",
     "text": [
      "   temperature  pressure  x_R125  x_bmimBF4\n",
      "0        298.2      9800   0.003      0.997\n",
      "1        298.2     99600   0.023      0.977\n",
      "2        298.2    199800   0.050      0.950\n",
      "3        298.1    299500   0.080      0.920\n",
      "4        298.2    399800   0.111      0.889\n",
      "5        298.2    499500   0.143      0.857\n",
      "6        298.2    599500   0.180      0.820\n",
      "7        298.2    799600   0.261      0.739\n",
      "8        298.1    999800   0.363      0.637\n"
     ]
    }
   ],
   "source": [
    "print(data_298)"
   ]
  },
  {
   "cell_type": "code",
   "execution_count": 18,
   "id": "environmental-scholarship",
   "metadata": {},
   "outputs": [
    {
     "name": "stdout",
     "output_type": "stream",
     "text": [
      "2021-04-05 16:35:42 [INFO] idaes.generic_models.properties.core.generic.generic_property: DEPRECATED - definiton of generic property packages is moving to using static classes instead of modules. Please refer to the IDAES documentation.\n",
      "2021-04-05 16:35:42 [INFO] idaes.init.fs.state_block: Property package initialization: optimal - Optimal Solution Found.\n",
      "2021-04-05 16:35:42 [INFO] idaes.generic_models.properties.core.generic.generic_property: DEPRECATED - definiton of generic property packages is moving to using static classes instead of modules. Please refer to the IDAES documentation.\n",
      "2021-04-05 16:35:42 [INFO] idaes.init.fs.state_block: Property package initialization: optimal - Optimal Solution Found.\n",
      "2021-04-05 16:35:42 [INFO] idaes.generic_models.properties.core.generic.generic_property: DEPRECATED - definiton of generic property packages is moving to using static classes instead of modules. Please refer to the IDAES documentation.\n",
      "2021-04-05 16:35:42 [INFO] idaes.init.fs.state_block: Property package initialization: optimal - Optimal Solution Found.\n",
      "2021-04-05 16:35:42 [INFO] idaes.generic_models.properties.core.generic.generic_property: DEPRECATED - definiton of generic property packages is moving to using static classes instead of modules. Please refer to the IDAES documentation.\n",
      "2021-04-05 16:35:43 [INFO] idaes.init.fs.state_block: Property package initialization: optimal - Optimal Solution Found.\n",
      "2021-04-05 16:35:43 [INFO] idaes.generic_models.properties.core.generic.generic_property: DEPRECATED - definiton of generic property packages is moving to using static classes instead of modules. Please refer to the IDAES documentation.\n",
      "2021-04-05 16:35:43 [INFO] idaes.init.fs.state_block: Property package initialization: optimal - Optimal Solution Found.\n",
      "2021-04-05 16:35:43 [INFO] idaes.generic_models.properties.core.generic.generic_property: DEPRECATED - definiton of generic property packages is moving to using static classes instead of modules. Please refer to the IDAES documentation.\n",
      "2021-04-05 16:35:43 [INFO] idaes.init.fs.state_block: Property package initialization: optimal - Optimal Solution Found.\n",
      "2021-04-05 16:35:43 [INFO] idaes.generic_models.properties.core.generic.generic_property: DEPRECATED - definiton of generic property packages is moving to using static classes instead of modules. Please refer to the IDAES documentation.\n",
      "2021-04-05 16:35:44 [INFO] idaes.init.fs.state_block: Property package initialization: optimal - Optimal Solution Found.\n",
      "2021-04-05 16:35:44 [INFO] idaes.generic_models.properties.core.generic.generic_property: DEPRECATED - definiton of generic property packages is moving to using static classes instead of modules. Please refer to the IDAES documentation.\n",
      "2021-04-05 16:35:44 [INFO] idaes.init.fs.state_block: Property package initialization: optimal - Optimal Solution Found.\n",
      "2021-04-05 16:35:44 [INFO] idaes.generic_models.properties.core.generic.generic_property: DEPRECATED - definiton of generic property packages is moving to using static classes instead of modules. Please refer to the IDAES documentation.\n",
      "2021-04-05 16:35:44 [INFO] idaes.init.fs.state_block: Property package initialization: optimal - Solved To Acceptable Level..\n",
      "Ipopt 3.13.2: \n",
      "\n",
      "******************************************************************************\n",
      "This program contains Ipopt, a library for large-scale nonlinear optimization.\n",
      " Ipopt is released as open source code under the Eclipse Public License (EPL).\n",
      "         For more information visit http://projects.coin-or.org/Ipopt\n",
      "\n",
      "This version of Ipopt was compiled from source code available at\n",
      "    https://github.com/IDAES/Ipopt as part of the Institute for the Design of\n",
      "    Advanced Energy Systems Process Systems Engineering Framework (IDAES PSE\n",
      "    Framework) Copyright (c) 2018-2019. See https://github.com/IDAES/idaes-pse.\n",
      "\n",
      "This version of Ipopt was compiled using HSL, a collection of Fortran codes\n",
      "    for large-scale scientific computation.  All technical papers, sales and\n",
      "    publicity material resulting from use of the HSL codes within IPOPT must\n",
      "    contain the following acknowledgement:\n",
      "        HSL, a collection of Fortran codes for large-scale scientific\n",
      "        computation. See http://www.hsl.rl.ac.uk.\n",
      "******************************************************************************\n",
      "\n",
      "This is Ipopt version 3.13.2, running with linear solver ma27.\n",
      "\n",
      "Number of nonzeros in equality constraint Jacobian...:      306\n",
      "Number of nonzeros in inequality constraint Jacobian.:        0\n",
      "Number of nonzeros in Lagrangian Hessian.............:      306\n",
      "\n",
      "Total number of variables............................:      128\n",
      "                     variables with only lower bounds:       54\n",
      "                variables with lower and upper bounds:       54\n",
      "                     variables with only upper bounds:        0\n",
      "Total number of equality constraints.................:      126\n",
      "Total number of inequality constraints...............:        0\n",
      "        inequality constraints with only lower bounds:        0\n",
      "   inequality constraints with lower and upper bounds:        0\n",
      "        inequality constraints with only upper bounds:        0\n",
      "\n",
      "iter    objective    inf_pr   inf_du lg(mu)  ||d||  lg(rg) alpha_du alpha_pr  ls\n",
      "   0  0.0000000e+00 6.78e-01 2.84e-14  -1.0 0.00e+00    -  0.00e+00 0.00e+00   0\n",
      "   1  2.7680037e-01 3.35e-02 1.76e+04  -1.0 4.27e+04    -  1.74e-01 9.90e-01h  1\n",
      "   2  2.7335561e-01 8.35e-04 9.73e+01  -1.0 4.44e+02    -  9.59e-01 9.90e-01h  1\n",
      "   3  2.7318489e-01 3.66e-07 1.00e+03  -1.0 3.69e+01    -  9.90e-01 1.00e+00h  1\n",
      "   4  2.6419618e-01 6.44e-06 1.29e+05  -1.0 2.61e+03    -  9.87e-01 1.00e+00f  1\n",
      "   5  2.5769937e-01 4.58e-05 1.29e+03  -1.0 6.99e+03    -  9.90e-01 1.00e+00f  1\n",
      "   6  2.5699562e-01 1.47e-06 7.70e+04  -1.7 1.26e+03    -  9.90e-01 1.00e+00h  1\n",
      "   7  2.5699333e-01 6.42e-12 2.00e-07  -1.7 2.46e+00    -  1.00e+00 1.00e+00h  1\n",
      "   8  2.5695969e-01 1.23e-07 1.31e+02  -8.6 3.64e+02    -  1.00e+00 1.00e+00f  1\n",
      "   9  2.5695953e-01 2.77e-12 3.72e-12  -8.6 1.73e-01    -  1.00e+00 1.00e+00h  1\n",
      "\n",
      "Number of Iterations....: 9\n",
      "\n",
      "                                   (scaled)                 (unscaled)\n",
      "Objective...............:   2.5695953091056539e-01    2.5695953091056539e-01\n",
      "Dual infeasibility......:   3.7247108505990838e-12    3.7247108505990838e-12\n",
      "Constraint violation....:   2.7711166694643907e-12    2.7711166694643907e-12\n",
      "Complementarity.........:   2.5083428884666821e-09    2.5083428884666821e-09\n",
      "Overall NLP error.......:   2.5083428884666821e-09    2.5083428884666821e-09\n",
      "\n",
      "\n",
      "Number of objective function evaluations             = 10\n",
      "Number of objective gradient evaluations             = 10\n",
      "Number of equality constraint evaluations            = 10\n",
      "Number of inequality constraint evaluations          = 0\n",
      "Number of equality constraint Jacobian evaluations   = 10\n",
      "Number of inequality constraint Jacobian evaluations = 0\n",
      "Number of Lagrangian Hessian evaluations             = 9\n",
      "Total CPU secs in IPOPT (w/o function evaluations)   =      0.004\n",
      "Total CPU secs in NLP function evaluations           =      0.024\n",
      "\n",
      "EXIT: Optimal Solution Found.\n",
      "The SSE at the optimal solution is 0.256960\n",
      "\n",
      "The values for the parameters are as follows:\n",
      "fs.properties.PR_kappa[R125,bmimBF4] = 0.12392946195524193\n",
      "fs.properties.PR_kappa[bmimBF4,R125] = 0.6777757774640188\n"
     ]
    }
   ],
   "source": [
    "binary_params_peng(data_298, configuration, 'R125', 'bmimBF4', \"x_R125\", \"x_bmimBF4\", \n",
    "    init_temp = 298.2, init_press = 399800, init_x_c1 = 0.111, init_x_c2 = 0.889,\n",
    "    init_kappa_2_1 = 0.678, init_kappa_1_2 = 0.124, eps = 0.1, scaling_fac = 1e-9, read=False)"
   ]
  },
  {
   "cell_type": "code",
   "execution_count": 19,
   "id": "buried-clearance",
   "metadata": {},
   "outputs": [],
   "source": [
    "k12_298 = 0.12392946195524193\n",
    "k21_298 = 0.6777757774640188"
   ]
  },
  {
   "cell_type": "code",
   "execution_count": 24,
   "id": "invisible-particle",
   "metadata": {},
   "outputs": [
    {
     "name": "stdout",
     "output_type": "stream",
     "text": [
      "WARNING: Implicitly replacing the Component attribute liq (type=<class\n",
      "    'pyomo.core.base.param.SimpleParam'>) on block fs with a new Component\n",
      "    (type=<class 'pyomo.core.base.param.SimpleParam'>). This is usually\n",
      "    indicative of a modelling error. To avoid this warning, use\n",
      "    block.del_component() and block.add_component().\n",
      "WARNING: Implicitly replacing the Component attribute liquid (type=<class\n",
      "    'pyomo.core.base.constraint.SimpleConstraint'>) on block fs with a new\n",
      "    Component (type=<class\n",
      "    'pyomo.core.base.constraint.AbstractSimpleConstraint'>). This is usually\n",
      "    indicative of a modelling error. To avoid this warning, use\n",
      "    block.del_component() and block.add_component().\n",
      "The final DOF is 0\n",
      "The final DOF is 0\n",
      "The final DOF is 0\n",
      "The final DOF is 0\n",
      "The final DOF is 0\n",
      "The final DOF is 0\n",
      "The final DOF is 0\n",
      "The final DOF is 0\n",
      "The final DOF is 0\n"
     ]
    }
   ],
   "source": [
    "R125_x,P= calc_outlet_xP(data_298,m,\"R125\", \"bmimBF4\", k21_298, k12_298,verbose=True)"
   ]
  },
  {
   "cell_type": "code",
   "execution_count": 25,
   "id": "remarkable-kuwait",
   "metadata": {},
   "outputs": [
    {
     "data": {
      "image/png": "[encoded data removed]",
      "text/plain": [
       "<Figure size 432x288 with 1 Axes>"
      ]
     },
     "metadata": {
      "needs_background": "light"
     },
     "output_type": "display_data"
    }
   ],
   "source": [
    "# plots with data - model as lines --- need to make this into a function that splits up the T's\n",
    "plt.plot(R125_x[0:9],P[0:9],\"b*-\",label=\"T= 283 K\")  \n",
    "# plt.plot(R125_x[9:18],P[9:18],\"r*-\",label=\"T= 298 K\") \n",
    "# plt.plot(R125_x[18:26],P[18:26],\"c*-\",label=\"T= 323 K\") \n",
    "# plt.plot(R125_x[26:34],P[26:34],\"m*-\",label=\"T= 348 K\")\n",
    "plt.plot(data_298[\"x_R125\"],data_298[\"pressure\"],\"*\",color='orange',label=\"data\")  \n",
    "plt.title('Isotherm [R125][bmimBF4]')\n",
    "plt.ylabel('Pressure (Pa)')\n",
    "plt.xlabel('x R125')\n",
    "plt.grid(True)\n",
    "plt.ylim(0,1110000)\n",
    "plt.legend()\n",
    "plt.show()"
   ]
  },
  {
   "cell_type": "code",
   "execution_count": 27,
   "id": "freelance-field",
   "metadata": {},
   "outputs": [
    {
     "name": "stdout",
     "output_type": "stream",
     "text": [
      "WARNING: Implicitly replacing the Component attribute liq (type=<class\n",
      "    'pyomo.core.base.param.SimpleParam'>) on block fs with a new Component\n",
      "    (type=<class 'pyomo.core.base.param.SimpleParam'>). This is usually\n",
      "    indicative of a modelling error. To avoid this warning, use\n",
      "    block.del_component() and block.add_component().\n",
      "WARNING: Implicitly replacing the Component attribute liquid (type=<class\n",
      "    'pyomo.core.base.constraint.SimpleConstraint'>) on block fs with a new\n",
      "    Component (type=<class\n",
      "    'pyomo.core.base.constraint.AbstractSimpleConstraint'>). This is usually\n",
      "    indicative of a modelling error. To avoid this warning, use\n",
      "    block.del_component() and block.add_component().\n",
      "The final DOF is 0\n",
      "The final DOF is 0\n",
      "The final DOF is 0\n",
      "The final DOF is 0\n",
      "The final DOF is 0\n",
      "The final DOF is 0\n",
      "The final DOF is 0\n",
      "The final DOF is 0\n"
     ]
    },
    {
     "ename": "ValueError",
     "evalue": "Cannot load a SolverResults object with bad status: error",
     "output_type": "error",
     "traceback": [
      "\u001b[1;31m---------------------------------------------------------------------------\u001b[0m",
      "\u001b[1;31mValueError\u001b[0m                                Traceback (most recent call last)",
      "\u001b[1;32m<ipython-input-27-10b9fdebf4f1>\u001b[0m in \u001b[0;36m<module>\u001b[1;34m\u001b[0m\n\u001b[1;32m----> 1\u001b[1;33m \u001b[0mR125_x\u001b[0m\u001b[1;33m,\u001b[0m\u001b[0mP\u001b[0m\u001b[1;33m=\u001b[0m \u001b[0mcalc_outlet_xP\u001b[0m\u001b[1;33m(\u001b[0m\u001b[0mdata_283\u001b[0m\u001b[1;33m,\u001b[0m \u001b[0mm\u001b[0m\u001b[1;33m,\u001b[0m\u001b[1;34m\"R125\"\u001b[0m\u001b[1;33m,\u001b[0m \u001b[1;34m\"bmimBF4\"\u001b[0m\u001b[1;33m,\u001b[0m \u001b[0mk21_298\u001b[0m\u001b[1;33m,\u001b[0m \u001b[0mk12_298\u001b[0m\u001b[1;33m,\u001b[0m\u001b[0mverbose\u001b[0m\u001b[1;33m=\u001b[0m\u001b[1;32mTrue\u001b[0m\u001b[1;33m)\u001b[0m\u001b[1;33m\u001b[0m\u001b[1;33m\u001b[0m\u001b[0m\n\u001b[0m\u001b[0;32m      2\u001b[0m \u001b[1;33m\u001b[0m\u001b[0m\n\u001b[0;32m      3\u001b[0m \u001b[1;31m# plots with data - model as lines --- need to make this into a function that splits up the T's\u001b[0m\u001b[1;33m\u001b[0m\u001b[1;33m\u001b[0m\u001b[1;33m\u001b[0m\u001b[0m\n\u001b[0;32m      4\u001b[0m \u001b[0mplt\u001b[0m\u001b[1;33m.\u001b[0m\u001b[0mplot\u001b[0m\u001b[1;33m(\u001b[0m\u001b[0mR125_x\u001b[0m\u001b[1;33m[\u001b[0m\u001b[1;36m0\u001b[0m\u001b[1;33m:\u001b[0m\u001b[1;36m9\u001b[0m\u001b[1;33m]\u001b[0m\u001b[1;33m,\u001b[0m\u001b[0mP\u001b[0m\u001b[1;33m[\u001b[0m\u001b[1;36m0\u001b[0m\u001b[1;33m:\u001b[0m\u001b[1;36m9\u001b[0m\u001b[1;33m]\u001b[0m\u001b[1;33m,\u001b[0m\u001b[1;34m\"b*-\"\u001b[0m\u001b[1;33m,\u001b[0m\u001b[0mlabel\u001b[0m\u001b[1;33m=\u001b[0m\u001b[1;34m\"T= 283 K\"\u001b[0m\u001b[1;33m)\u001b[0m\u001b[1;33m\u001b[0m\u001b[1;33m\u001b[0m\u001b[0m\n\u001b[0;32m      5\u001b[0m \u001b[0mplt\u001b[0m\u001b[1;33m.\u001b[0m\u001b[0mplot\u001b[0m\u001b[1;33m(\u001b[0m\u001b[0mR125_x\u001b[0m\u001b[1;33m[\u001b[0m\u001b[1;36m9\u001b[0m\u001b[1;33m:\u001b[0m\u001b[1;36m18\u001b[0m\u001b[1;33m]\u001b[0m\u001b[1;33m,\u001b[0m\u001b[0mP\u001b[0m\u001b[1;33m[\u001b[0m\u001b[1;36m9\u001b[0m\u001b[1;33m:\u001b[0m\u001b[1;36m18\u001b[0m\u001b[1;33m]\u001b[0m\u001b[1;33m,\u001b[0m\u001b[1;34m\"r*-\"\u001b[0m\u001b[1;33m,\u001b[0m\u001b[0mlabel\u001b[0m\u001b[1;33m=\u001b[0m\u001b[1;34m\"T= 298 K\"\u001b[0m\u001b[1;33m)\u001b[0m\u001b[1;33m\u001b[0m\u001b[1;33m\u001b[0m\u001b[0m\n",
      "\u001b[1;32m~\\Documents\\GitHub\\extractive-distillation2\\binary_fitting_functions.py\u001b[0m in \u001b[0;36mcalc_outlet_xP\u001b[1;34m(data, m, HFC, IL, k21, k12, verbose)\u001b[0m\n\u001b[0;32m     75\u001b[0m \u001b[1;33m\u001b[0m\u001b[0m\n\u001b[0;32m     76\u001b[0m         \u001b[1;31m# solver\u001b[0m\u001b[1;33m\u001b[0m\u001b[1;33m\u001b[0m\u001b[1;33m\u001b[0m\u001b[0m\n\u001b[1;32m---> 77\u001b[1;33m         \u001b[0mm\u001b[0m\u001b[1;33m.\u001b[0m\u001b[0mfs\u001b[0m\u001b[1;33m.\u001b[0m\u001b[0mF101\u001b[0m\u001b[1;33m.\u001b[0m\u001b[0minitialize\u001b[0m\u001b[1;33m(\u001b[0m\u001b[0moutlvl\u001b[0m\u001b[1;33m=\u001b[0m\u001b[0midaeslog\u001b[0m\u001b[1;33m.\u001b[0m\u001b[0mCRITICAL\u001b[0m\u001b[1;33m)\u001b[0m\u001b[1;33m\u001b[0m\u001b[1;33m\u001b[0m\u001b[0m\n\u001b[0m\u001b[0;32m     78\u001b[0m         \u001b[0msolver\u001b[0m \u001b[1;33m=\u001b[0m \u001b[0mSolverFactory\u001b[0m\u001b[1;33m(\u001b[0m\u001b[1;34m'ipopt'\u001b[0m\u001b[1;33m)\u001b[0m\u001b[1;33m\u001b[0m\u001b[1;33m\u001b[0m\u001b[0m\n\u001b[0;32m     79\u001b[0m         \u001b[0msolver\u001b[0m\u001b[1;33m.\u001b[0m\u001b[0moptions\u001b[0m \u001b[1;33m=\u001b[0m \u001b[1;33m{\u001b[0m\u001b[1;34m'tol'\u001b[0m\u001b[1;33m:\u001b[0m \u001b[1;36m1e-6\u001b[0m\u001b[1;33m}\u001b[0m\u001b[1;33m\u001b[0m\u001b[1;33m\u001b[0m\u001b[0m\n",
      "\u001b[1;32mc:\\users\\gfrancoh\\documents\\github\\idaes-pse-main\\idaes\\core\\unit_model.py\u001b[0m in \u001b[0;36minitialize\u001b[1;34m(blk, state_args, outlvl, solver, optarg)\u001b[0m\n\u001b[0;32m    664\u001b[0m \u001b[1;33m\u001b[0m\u001b[0m\n\u001b[0;32m    665\u001b[0m         \u001b[1;32mwith\u001b[0m \u001b[0midaeslog\u001b[0m\u001b[1;33m.\u001b[0m\u001b[0msolver_log\u001b[0m\u001b[1;33m(\u001b[0m\u001b[0msolve_log\u001b[0m\u001b[1;33m,\u001b[0m \u001b[0midaeslog\u001b[0m\u001b[1;33m.\u001b[0m\u001b[0mDEBUG\u001b[0m\u001b[1;33m)\u001b[0m \u001b[1;32mas\u001b[0m \u001b[0mslc\u001b[0m\u001b[1;33m:\u001b[0m\u001b[1;33m\u001b[0m\u001b[1;33m\u001b[0m\u001b[0m\n\u001b[1;32m--> 666\u001b[1;33m             \u001b[0mresults\u001b[0m \u001b[1;33m=\u001b[0m \u001b[0mopt\u001b[0m\u001b[1;33m.\u001b[0m\u001b[0msolve\u001b[0m\u001b[1;33m(\u001b[0m\u001b[0mblk\u001b[0m\u001b[1;33m,\u001b[0m \u001b[0mtee\u001b[0m\u001b[1;33m=\u001b[0m\u001b[0mslc\u001b[0m\u001b[1;33m.\u001b[0m\u001b[0mtee\u001b[0m\u001b[1;33m)\u001b[0m\u001b[1;33m\u001b[0m\u001b[1;33m\u001b[0m\u001b[0m\n\u001b[0m\u001b[0;32m    667\u001b[0m \u001b[1;33m\u001b[0m\u001b[0m\n\u001b[0;32m    668\u001b[0m         init_log.info_high(\n",
      "\u001b[1;32mc:\\users\\gfrancoh\\anaconda3\\envs\\idaes\\lib\\site-packages\\pyomo\\opt\\base\\solvers.py\u001b[0m in \u001b[0;36msolve\u001b[1;34m(self, *args, **kwds)\u001b[0m\n\u001b[0;32m    630\u001b[0m                 \u001b[1;32melse\u001b[0m\u001b[1;33m:\u001b[0m\u001b[1;33m\u001b[0m\u001b[1;33m\u001b[0m\u001b[0m\n\u001b[0;32m    631\u001b[0m                     \u001b[1;32mif\u001b[0m \u001b[0mself\u001b[0m\u001b[1;33m.\u001b[0m\u001b[0m_load_solutions\u001b[0m\u001b[1;33m:\u001b[0m\u001b[1;33m\u001b[0m\u001b[1;33m\u001b[0m\u001b[0m\n\u001b[1;32m--> 632\u001b[1;33m                         _model.solutions.load_from(\n\u001b[0m\u001b[0;32m    633\u001b[0m                             \u001b[0mresult\u001b[0m\u001b[1;33m,\u001b[0m\u001b[1;33m\u001b[0m\u001b[1;33m\u001b[0m\u001b[0m\n\u001b[0;32m    634\u001b[0m                             \u001b[0mselect\u001b[0m\u001b[1;33m=\u001b[0m\u001b[0mself\u001b[0m\u001b[1;33m.\u001b[0m\u001b[0m_select_index\u001b[0m\u001b[1;33m,\u001b[0m\u001b[1;33m\u001b[0m\u001b[1;33m\u001b[0m\u001b[0m\n",
      "\u001b[1;32mc:\\users\\gfrancoh\\anaconda3\\envs\\idaes\\lib\\site-packages\\pyomo\\core\\base\\PyomoModel.py\u001b[0m in \u001b[0;36mload_from\u001b[1;34m(self, results, allow_consistent_values_for_fixed_vars, comparison_tolerance_for_fixed_vars, ignore_invalid_labels, id, delete_symbol_map, clear, default_variable_value, select, ignore_fixed_vars)\u001b[0m\n\u001b[0;32m    234\u001b[0m                     \"an 'aborted' status, but containing a solution\")\n\u001b[0;32m    235\u001b[0m             \u001b[1;32melse\u001b[0m\u001b[1;33m:\u001b[0m\u001b[1;33m\u001b[0m\u001b[1;33m\u001b[0m\u001b[0m\n\u001b[1;32m--> 236\u001b[1;33m                 raise ValueError(\"Cannot load a SolverResults object \"\n\u001b[0m\u001b[0;32m    237\u001b[0m                                  \u001b[1;34m\"with bad status: %s\"\u001b[0m\u001b[1;33m\u001b[0m\u001b[1;33m\u001b[0m\u001b[0m\n\u001b[0;32m    238\u001b[0m                                  % str(results.solver.status))\n",
      "\u001b[1;31mValueError\u001b[0m: Cannot load a SolverResults object with bad status: error"
     ]
    }
   ],
   "source": [
    "R125_x,P= calc_outlet_xP(data_283, m,\"R125\", \"bmimBF4\", k21_298, k12_298,verbose=True)\n",
    "\n",
    "# plots with data - model as lines --- need to make this into a function that splits up the T's\n",
    "plt.plot(R125_x[0:9],P[0:9],\"b*-\",label=\"T= 283 K\")  \n",
    "plt.plot(R125_x[9:18],P[9:18],\"r*-\",label=\"T= 298 K\") \n",
    "plt.plot(R125_x[18:26],P[18:26],\"c*-\",label=\"T= 323 K\") \n",
    "plt.plot(R125_x[26:34],P[26:34],\"m*-\",label=\"T= 348 K\")\n",
    "plt.plot(data[\"x_R125\"],data[\"pressure\"],\"*\",color='orange',label=\"data\")  \n",
    "plt.title('Isotherm [R125][bmimBF4]')\n",
    "plt.ylabel('Pressure (Pa)')\n",
    "plt.xlabel('x R125')\n",
    "plt.grid(True)\n",
    "plt.ylim(0,1110000)\n",
    "plt.legend()\n",
    "plt.show()"
   ]
  },
  {
   "cell_type": "markdown",
   "id": "increased-survivor",
   "metadata": {},
   "source": [
    "## T = 323 K"
   ]
  },
  {
   "cell_type": "code",
   "execution_count": 21,
   "id": "fifth-acceptance",
   "metadata": {},
   "outputs": [
    {
     "name": "stdout",
     "output_type": "stream",
     "text": [
      "   temperature  pressure  x_R125  x_bmimBF4\n",
      "0        323.1     99600   0.013      0.987\n",
      "1        323.1    199800   0.028      0.972\n",
      "2        323.2    300000   0.042      0.958\n",
      "3        323.1    399700   0.057      0.943\n",
      "4        323.2    499900   0.072      0.928\n",
      "5        323.1    599600   0.087      0.913\n",
      "6        323.1    799700   0.120      0.880\n",
      "7        323.1    999600   0.154      0.846\n"
     ]
    }
   ],
   "source": [
    "print(data_323)"
   ]
  },
  {
   "cell_type": "code",
   "execution_count": 22,
   "id": "included-earth",
   "metadata": {},
   "outputs": [
    {
     "name": "stdout",
     "output_type": "stream",
     "text": [
      "2021-04-05 16:45:42 [INFO] idaes.generic_models.properties.core.generic.generic_property: DEPRECATED - definiton of generic property packages is moving to using static classes instead of modules. Please refer to the IDAES documentation.\n",
      "2021-04-05 16:45:43 [INFO] idaes.init.fs.state_block: Property package initialization: optimal - Optimal Solution Found.\n",
      "2021-04-05 16:45:43 [INFO] idaes.generic_models.properties.core.generic.generic_property: DEPRECATED - definiton of generic property packages is moving to using static classes instead of modules. Please refer to the IDAES documentation.\n",
      "2021-04-05 16:45:43 [INFO] idaes.init.fs.state_block: Property package initialization: optimal - Optimal Solution Found.\n",
      "2021-04-05 16:45:43 [INFO] idaes.generic_models.properties.core.generic.generic_property: DEPRECATED - definiton of generic property packages is moving to using static classes instead of modules. Please refer to the IDAES documentation.\n",
      "2021-04-05 16:45:43 [INFO] idaes.init.fs.state_block: Property package initialization: optimal - Optimal Solution Found.\n",
      "2021-04-05 16:45:43 [INFO] idaes.generic_models.properties.core.generic.generic_property: DEPRECATED - definiton of generic property packages is moving to using static classes instead of modules. Please refer to the IDAES documentation.\n",
      "2021-04-05 16:45:43 [INFO] idaes.init.fs.state_block: Property package initialization: optimal - Optimal Solution Found.\n",
      "2021-04-05 16:45:43 [INFO] idaes.generic_models.properties.core.generic.generic_property: DEPRECATED - definiton of generic property packages is moving to using static classes instead of modules. Please refer to the IDAES documentation.\n",
      "2021-04-05 16:45:44 [INFO] idaes.init.fs.state_block: Property package initialization: optimal - Optimal Solution Found.\n",
      "2021-04-05 16:45:44 [INFO] idaes.generic_models.properties.core.generic.generic_property: DEPRECATED - definiton of generic property packages is moving to using static classes instead of modules. Please refer to the IDAES documentation.\n",
      "2021-04-05 16:45:44 [INFO] idaes.init.fs.state_block: Property package initialization: optimal - Optimal Solution Found.\n",
      "2021-04-05 16:45:44 [INFO] idaes.generic_models.properties.core.generic.generic_property: DEPRECATED - definiton of generic property packages is moving to using static classes instead of modules. Please refer to the IDAES documentation.\n",
      "2021-04-05 16:45:44 [INFO] idaes.init.fs.state_block: Property package initialization: optimal - Optimal Solution Found.\n",
      "2021-04-05 16:45:44 [INFO] idaes.generic_models.properties.core.generic.generic_property: DEPRECATED - definiton of generic property packages is moving to using static classes instead of modules. Please refer to the IDAES documentation.\n",
      "2021-04-05 16:45:44 [INFO] idaes.init.fs.state_block: Property package initialization: optimal - Optimal Solution Found.\n",
      "Ipopt 3.13.2: \n",
      "\n",
      "******************************************************************************\n",
      "This program contains Ipopt, a library for large-scale nonlinear optimization.\n",
      " Ipopt is released as open source code under the Eclipse Public License (EPL).\n",
      "         For more information visit http://projects.coin-or.org/Ipopt\n",
      "\n",
      "This version of Ipopt was compiled from source code available at\n",
      "    https://github.com/IDAES/Ipopt as part of the Institute for the Design of\n",
      "    Advanced Energy Systems Process Systems Engineering Framework (IDAES PSE\n",
      "    Framework) Copyright (c) 2018-2019. See https://github.com/IDAES/idaes-pse.\n",
      "\n",
      "This version of Ipopt was compiled using HSL, a collection of Fortran codes\n",
      "    for large-scale scientific computation.  All technical papers, sales and\n",
      "    publicity material resulting from use of the HSL codes within IPOPT must\n",
      "    contain the following acknowledgement:\n",
      "        HSL, a collection of Fortran codes for large-scale scientific\n",
      "        computation. See http://www.hsl.rl.ac.uk.\n",
      "******************************************************************************\n",
      "\n",
      "This is Ipopt version 3.13.2, running with linear solver ma27.\n",
      "\n",
      "Number of nonzeros in equality constraint Jacobian...:      272\n",
      "Number of nonzeros in inequality constraint Jacobian.:        0\n",
      "Number of nonzeros in Lagrangian Hessian.............:      272\n",
      "\n",
      "Total number of variables............................:      114\n",
      "                     variables with only lower bounds:       48\n",
      "                variables with lower and upper bounds:       48\n",
      "                     variables with only upper bounds:        0\n",
      "Total number of equality constraints.................:      112\n",
      "Total number of inequality constraints...............:        0\n",
      "        inequality constraints with only lower bounds:        0\n",
      "   inequality constraints with lower and upper bounds:        0\n",
      "        inequality constraints with only upper bounds:        0\n",
      "\n",
      "iter    objective    inf_pr   inf_du lg(mu)  ||d||  lg(rg) alpha_du alpha_pr  ls\n",
      "   0  0.0000000e+00 6.78e-01 7.11e-15  -1.0 0.00e+00    -  0.00e+00 0.00e+00   0\n",
      "   1  8.3673840e-03 6.78e-03 4.99e+00  -1.0 5.32e+03    -  9.36e-01 9.90e-01h  1\n",
      "   2  8.2678853e-03 6.71e-05 8.56e-01  -1.0 7.26e+01    -  9.89e-01 9.90e-01h  1\n",
      "   3  7.8441488e-03 5.20e-07 1.06e+03  -1.0 7.29e+02    -  9.89e-01 1.00e+00h  1\n",
      "   4  7.1473114e-03 4.81e-06 9.90e+04  -1.0 2.23e+03    -  9.90e-01 1.00e+00f  1\n",
      "   5  7.1250921e-03 1.77e-08 9.76e+02  -1.0 8.27e+01    -  9.90e-01 1.00e+00h  1\n",
      "   6  6.5975805e-03 2.12e-06 2.37e+04  -2.5 9.47e+02    -  9.98e-01 1.00e+00f  1\n",
      "   7  6.5974181e-03 2.35e-10 2.84e-08  -2.5 6.94e+00    -  1.00e+00 1.00e+00h  1\n",
      "   8  6.5969929e-03 1.87e-09 9.74e+00  -8.6 2.76e+01    -  1.00e+00 1.00e+00h  1\n",
      "   9  6.5969928e-03 6.24e-12 2.56e-14  -8.6 6.23e-03    -  1.00e+00 1.00e+00h  1\n",
      "\n",
      "Number of Iterations....: 9\n",
      "\n",
      "                                   (scaled)                 (unscaled)\n",
      "Objective...............:   6.5969928155094303e-03    6.5969928155094303e-03\n",
      "Dual infeasibility......:   2.5590640717609858e-14    2.5590640717609858e-14\n",
      "Constraint violation....:   6.2412297552327800e-12    6.2412297552327800e-12\n",
      "Complementarity.........:   2.5059087120348138e-09    2.5059087120348138e-09\n",
      "Overall NLP error.......:   2.5059087120348138e-09    2.5059087120348138e-09\n",
      "\n",
      "\n",
      "Number of objective function evaluations             = 10\n",
      "Number of objective gradient evaluations             = 10\n",
      "Number of equality constraint evaluations            = 10\n",
      "Number of inequality constraint evaluations          = 0\n",
      "Number of equality constraint Jacobian evaluations   = 10\n",
      "Number of inequality constraint Jacobian evaluations = 0\n",
      "Number of Lagrangian Hessian evaluations             = 9\n",
      "Total CPU secs in IPOPT (w/o function evaluations)   =      0.005\n",
      "Total CPU secs in NLP function evaluations           =      0.015\n",
      "\n",
      "EXIT: Optimal Solution Found.\n",
      "The SSE at the optimal solution is 0.006597\n",
      "\n",
      "The values for the parameters are as follows:\n",
      "fs.properties.PR_kappa[R125,bmimBF4] = 0.14379334229746846\n",
      "fs.properties.PR_kappa[bmimBF4,R125] = 0.6095379553298744\n"
     ]
    }
   ],
   "source": [
    "binary_params_peng(data_323, configuration, 'R125', 'bmimBF4', \"x_R125\", \"x_bmimBF4\", \n",
    "    init_temp = 323.1, init_press = 799700, init_x_c1 = 0.120, init_x_c2 = 0.880,\n",
    "    init_kappa_2_1 = 0.678, init_kappa_1_2 = 0.124, eps = 0.1, scaling_fac = 1e-9, read=False)"
   ]
  },
  {
   "cell_type": "code",
   "execution_count": 28,
   "id": "duplicate-preserve",
   "metadata": {},
   "outputs": [],
   "source": [
    "k12_323 = 0.14379334229746846\n",
    "k21_323 = 0.6095379553298744"
   ]
  },
  {
   "cell_type": "code",
   "execution_count": 29,
   "id": "promising-motorcycle",
   "metadata": {},
   "outputs": [
    {
     "name": "stdout",
     "output_type": "stream",
     "text": [
      "WARNING: Implicitly replacing the Component attribute liq (type=<class\n",
      "    'pyomo.core.base.param.SimpleParam'>) on block fs with a new Component\n",
      "    (type=<class 'pyomo.core.base.param.SimpleParam'>). This is usually\n",
      "    indicative of a modelling error. To avoid this warning, use\n",
      "    block.del_component() and block.add_component().\n",
      "WARNING: Implicitly replacing the Component attribute liquid (type=<class\n",
      "    'pyomo.core.base.constraint.SimpleConstraint'>) on block fs with a new\n",
      "    Component (type=<class\n",
      "    'pyomo.core.base.constraint.AbstractSimpleConstraint'>). This is usually\n",
      "    indicative of a modelling error. To avoid this warning, use\n",
      "    block.del_component() and block.add_component().\n",
      "The final DOF is 0\n",
      "WARNING: Loading a SolverResults object with a warning status into\n",
      "    model.name=\"unknown\";\n",
      "      - termination condition: infeasible\n",
      "      - message from solver: Ipopt 3.13.2\\x3a Converged to a locally\n",
      "        infeasible point. Problem may be infeasible.\n",
      "Infeasible.\n",
      "The final DOF is 0\n",
      "The final DOF is 0\n",
      "The final DOF is 0\n",
      "The final DOF is 0\n",
      "The final DOF is 0\n",
      "The final DOF is 0\n",
      "The final DOF is 0\n"
     ]
    }
   ],
   "source": [
    "R125_x,P= calc_outlet_xP(data_323,m,\"R125\", \"bmimBF4\", k21_323, k12_323,verbose=True)"
   ]
  },
  {
   "cell_type": "code",
   "execution_count": 33,
   "id": "recent-mystery",
   "metadata": {},
   "outputs": [
    {
     "data": {
      "image/png": "[encoded data removed]",
      "text/plain": [
       "<Figure size 432x288 with 1 Axes>"
      ]
     },
     "metadata": {
      "needs_background": "light"
     },
     "output_type": "display_data"
    }
   ],
   "source": [
    "# plots with data - model as lines --- need to make this into a function that splits up the T's\n",
    "# plt.plot(R125_x[0:9],P[0:9],\"b*-\",label=\"T= 283 K\")  \n",
    "# plt.plot(R125_x[9:18],P[9:18],\"r*-\",label=\"T= 298 K\") \n",
    "plt.plot(R125_x,P,\"c*-\",label=\"T= 323 K\") \n",
    "# plt.plot(R125_x[26:34],P[26:34],\"m*-\",label=\"T= 348 K\")\n",
    "plt.plot(data_323[\"x_R125\"],data_323[\"pressure\"],\"*\",color='orange',label=\"data\")  \n",
    "plt.title('Isotherm [R125][bmimBF4]')\n",
    "plt.ylabel('Pressure (Pa)')\n",
    "plt.xlabel('x R125')\n",
    "plt.grid(True)\n",
    "plt.ylim(0,1110000)\n",
    "plt.legend()\n",
    "plt.show()"
   ]
  },
  {
   "cell_type": "code",
   "execution_count": 34,
   "id": "technological-rebate",
   "metadata": {},
   "outputs": [
    {
     "name": "stdout",
     "output_type": "stream",
     "text": [
      "WARNING: Implicitly replacing the Component attribute liq (type=<class\n",
      "    'pyomo.core.base.param.SimpleParam'>) on block fs with a new Component\n",
      "    (type=<class 'pyomo.core.base.param.SimpleParam'>). This is usually\n",
      "    indicative of a modelling error. To avoid this warning, use\n",
      "    block.del_component() and block.add_component().\n",
      "WARNING: Implicitly replacing the Component attribute liquid (type=<class\n",
      "    'pyomo.core.base.constraint.SimpleConstraint'>) on block fs with a new\n",
      "    Component (type=<class\n",
      "    'pyomo.core.base.constraint.AbstractSimpleConstraint'>). This is usually\n",
      "    indicative of a modelling error. To avoid this warning, use\n",
      "    block.del_component() and block.add_component().\n",
      "The final DOF is 0\n",
      "The final DOF is 0\n",
      "The final DOF is 0\n",
      "The final DOF is 0\n",
      "The final DOF is 0\n",
      "The final DOF is 0\n",
      "The final DOF is 0\n",
      "The final DOF is 0\n",
      "WARNING: Loading a SolverResults object with a warning status into\n",
      "    model.name=\"unknown\";\n",
      "      - termination condition: infeasible\n",
      "      - message from solver: Ipopt 3.13.2\\x3a Converged to a locally\n",
      "        infeasible point. Problem may be infeasible.\n",
      "Infeasible.\n",
      "The final DOF is 0\n",
      "WARNING: Loading a SolverResults object with a warning status into\n",
      "    model.name=\"unknown\";\n",
      "      - termination condition: infeasible\n",
      "      - message from solver: Ipopt 3.13.2\\x3a Converged to a locally\n",
      "        infeasible point. Problem may be infeasible.\n",
      "Infeasible.\n",
      "The final DOF is 0\n",
      "The final DOF is 0\n",
      "The final DOF is 0\n",
      "The final DOF is 0\n",
      "The final DOF is 0\n",
      "The final DOF is 0\n",
      "The final DOF is 0\n",
      "The final DOF is 0\n",
      "The final DOF is 0\n",
      "The final DOF is 0\n",
      "WARNING: Loading a SolverResults object with a warning status into\n",
      "    model.name=\"unknown\";\n",
      "      - termination condition: infeasible\n",
      "      - message from solver: Ipopt 3.13.2\\x3a Converged to a locally\n",
      "        infeasible point. Problem may be infeasible.\n",
      "Infeasible.\n",
      "The final DOF is 0\n",
      "The final DOF is 0\n",
      "The final DOF is 0\n",
      "The final DOF is 0\n",
      "The final DOF is 0\n",
      "The final DOF is 0\n",
      "The final DOF is 0\n",
      "The final DOF is 0\n",
      "The final DOF is 0\n",
      "The final DOF is 0\n",
      "The final DOF is 0\n",
      "The final DOF is 0\n",
      "The final DOF is 0\n",
      "The final DOF is 0\n",
      "The final DOF is 0\n"
     ]
    },
    {
     "data": {
      "image/png": "[encoded data removed]",
      "text/plain": [
       "<Figure size 432x288 with 1 Axes>"
      ]
     },
     "metadata": {
      "needs_background": "light"
     },
     "output_type": "display_data"
    }
   ],
   "source": [
    "R125_x,P= calc_outlet_xP(data,m,\"R125\", \"bmimBF4\", k21_323, k12_323,verbose=True)\n",
    "# plots with data - model as lines --- need to make this into a function that splits up the T's\n",
    "plt.plot(R125_x[0:9],P[0:9],\"b*-\",label=\"T= 283 K\")  \n",
    "plt.plot(R125_x[9:18],P[9:18],\"r*-\",label=\"T= 298 K\") \n",
    "plt.plot(R125_x[18:26],P[18:26],\"c*-\",label=\"T= 323 K\") \n",
    "plt.plot(R125_x[26:34],P[26:34],\"m*-\",label=\"T= 348 K\")\n",
    "plt.plot(data_323[\"x_R125\"],data_323[\"pressure\"],\"*\",color='orange',label=\"data\")  \n",
    "plt.title('Isotherm [R125][bmimBF4]')\n",
    "plt.ylabel('Pressure (Pa)')\n",
    "plt.xlabel('x R125')\n",
    "plt.grid(True)\n",
    "plt.ylim(0,1110000)\n",
    "plt.legend()\n",
    "plt.show()"
   ]
  },
  {
   "cell_type": "markdown",
   "id": "alien-newfoundland",
   "metadata": {},
   "source": [
    "## T = 348 K"
   ]
  },
  {
   "cell_type": "code",
   "execution_count": 35,
   "id": "funded-kitty",
   "metadata": {},
   "outputs": [
    {
     "name": "stdout",
     "output_type": "stream",
     "text": [
      "   temperature  pressure  x_R125  x_bmimBF4\n",
      "0        348.1     99700   0.007      0.993\n",
      "1        348.2    199600   0.016      0.984\n",
      "2        348.3    299700   0.025      0.975\n",
      "3        348.2    399700   0.033      0.967\n",
      "4        348.2    499800   0.043      0.957\n",
      "5        348.2    599800   0.053      0.947\n",
      "6        348.3    800000   0.070      0.930\n",
      "7        348.2    999600   0.088      0.912\n"
     ]
    }
   ],
   "source": [
    "print(data_348)"
   ]
  },
  {
   "cell_type": "code",
   "execution_count": 36,
   "id": "suspended-hydrogen",
   "metadata": {},
   "outputs": [
    {
     "name": "stdout",
     "output_type": "stream",
     "text": [
      "2021-04-05 17:10:27 [INFO] idaes.generic_models.properties.core.generic.generic_property: DEPRECATED - definiton of generic property packages is moving to using static classes instead of modules. Please refer to the IDAES documentation.\n",
      "2021-04-05 17:10:27 [INFO] idaes.init.fs.state_block: Property package initialization: optimal - Optimal Solution Found.\n",
      "2021-04-05 17:10:27 [INFO] idaes.generic_models.properties.core.generic.generic_property: DEPRECATED - definiton of generic property packages is moving to using static classes instead of modules. Please refer to the IDAES documentation.\n",
      "2021-04-05 17:10:28 [INFO] idaes.init.fs.state_block: Property package initialization: optimal - Optimal Solution Found.\n",
      "2021-04-05 17:10:28 [INFO] idaes.generic_models.properties.core.generic.generic_property: DEPRECATED - definiton of generic property packages is moving to using static classes instead of modules. Please refer to the IDAES documentation.\n",
      "2021-04-05 17:10:28 [INFO] idaes.init.fs.state_block: Property package initialization: optimal - Optimal Solution Found.\n",
      "2021-04-05 17:10:28 [INFO] idaes.generic_models.properties.core.generic.generic_property: DEPRECATED - definiton of generic property packages is moving to using static classes instead of modules. Please refer to the IDAES documentation.\n",
      "2021-04-05 17:10:28 [INFO] idaes.init.fs.state_block: Property package initialization: optimal - Optimal Solution Found.\n",
      "2021-04-05 17:10:28 [INFO] idaes.generic_models.properties.core.generic.generic_property: DEPRECATED - definiton of generic property packages is moving to using static classes instead of modules. Please refer to the IDAES documentation.\n",
      "2021-04-05 17:10:28 [INFO] idaes.init.fs.state_block: Property package initialization: optimal - Optimal Solution Found.\n",
      "2021-04-05 17:10:28 [INFO] idaes.generic_models.properties.core.generic.generic_property: DEPRECATED - definiton of generic property packages is moving to using static classes instead of modules. Please refer to the IDAES documentation.\n",
      "2021-04-05 17:10:29 [INFO] idaes.init.fs.state_block: Property package initialization: optimal - Optimal Solution Found.\n",
      "2021-04-05 17:10:29 [INFO] idaes.generic_models.properties.core.generic.generic_property: DEPRECATED - definiton of generic property packages is moving to using static classes instead of modules. Please refer to the IDAES documentation.\n",
      "2021-04-05 17:10:29 [INFO] idaes.init.fs.state_block: Property package initialization: optimal - Optimal Solution Found.\n",
      "2021-04-05 17:10:29 [INFO] idaes.generic_models.properties.core.generic.generic_property: DEPRECATED - definiton of generic property packages is moving to using static classes instead of modules. Please refer to the IDAES documentation.\n",
      "2021-04-05 17:10:29 [INFO] idaes.init.fs.state_block: Property package initialization: optimal - Optimal Solution Found.\n",
      "Ipopt 3.13.2: \n",
      "\n",
      "******************************************************************************\n",
      "This program contains Ipopt, a library for large-scale nonlinear optimization.\n",
      " Ipopt is released as open source code under the Eclipse Public License (EPL).\n",
      "         For more information visit http://projects.coin-or.org/Ipopt\n",
      "\n",
      "This version of Ipopt was compiled from source code available at\n",
      "    https://github.com/IDAES/Ipopt as part of the Institute for the Design of\n",
      "    Advanced Energy Systems Process Systems Engineering Framework (IDAES PSE\n",
      "    Framework) Copyright (c) 2018-2019. See https://github.com/IDAES/idaes-pse.\n",
      "\n",
      "This version of Ipopt was compiled using HSL, a collection of Fortran codes\n",
      "    for large-scale scientific computation.  All technical papers, sales and\n",
      "    publicity material resulting from use of the HSL codes within IPOPT must\n",
      "    contain the following acknowledgement:\n",
      "        HSL, a collection of Fortran codes for large-scale scientific\n",
      "        computation. See http://www.hsl.rl.ac.uk.\n",
      "******************************************************************************\n",
      "\n",
      "This is Ipopt version 3.13.2, running with linear solver ma27.\n",
      "\n",
      "Number of nonzeros in equality constraint Jacobian...:      272\n",
      "Number of nonzeros in inequality constraint Jacobian.:        0\n",
      "Number of nonzeros in Lagrangian Hessian.............:      272\n",
      "\n",
      "Total number of variables............................:      114\n",
      "                     variables with only lower bounds:       48\n",
      "                variables with lower and upper bounds:       48\n",
      "                     variables with only upper bounds:        0\n",
      "Total number of equality constraints.................:      112\n",
      "Total number of inequality constraints...............:        0\n",
      "        inequality constraints with only lower bounds:        0\n",
      "   inequality constraints with lower and upper bounds:        0\n",
      "        inequality constraints with only upper bounds:        0\n",
      "\n",
      "iter    objective    inf_pr   inf_du lg(mu)  ||d||  lg(rg) alpha_du alpha_pr  ls\n",
      "   0  0.0000000e+00 8.15e-01 4.44e-16  -1.0 0.00e+00    -  0.00e+00 0.00e+00   0\n",
      "   1  1.3496645e-01 5.15e-01 1.32e+03  -1.0 2.09e+04    -  5.10e-01 9.90e-01h  1\n",
      "   2  1.3379660e-01 6.51e-02 1.03e+02  -1.0 7.25e+02    -  9.08e-01 9.90e-01h  1\n",
      "   3  1.3351411e-01 1.42e-03 1.01e+03  -1.0 6.47e+01    -  9.90e-01 1.00e+00h  1\n",
      "   4  1.1717184e-01 2.53e-05 1.38e+05  -1.0 4.12e+03    -  9.86e-01 1.00e+00h  1\n",
      "   5  9.8156279e-02 2.90e-04 1.38e+03  -1.0 9.15e+03    -  9.90e-01 1.00e+00f  1\n",
      "   6  9.6825801e-02 5.10e-06 7.88e+04  -1.7 1.91e+03    -  9.90e-01 1.00e+00h  1\n",
      "   7  9.6808205e-02 1.26e-08 5.92e-07  -1.7 6.24e+01    -  1.00e+00 1.00e+00h  1\n",
      "   8  9.6747285e-02 5.23e-07 3.70e+03  -8.6 6.08e+02    -  9.98e-01 1.00e+00h  1\n",
      "   9  9.6746706e-02 2.36e-10 1.08e-08  -8.6 8.30e+00    -  1.00e+00 1.00e+00h  1\n",
      "iter    objective    inf_pr   inf_du lg(mu)  ||d||  lg(rg) alpha_du alpha_pr  ls\n",
      "  10  9.6746706e-02 2.63e-11 5.83e-14  -9.0 6.22e-04    -  1.00e+00 1.00e+00h  1\n",
      "\n",
      "Number of Iterations....: 10\n",
      "\n",
      "                                   (scaled)                 (unscaled)\n",
      "Objective...............:   9.6746706113357728e-02    9.6746706113357728e-02\n",
      "Dual infeasibility......:   5.8344783570072047e-14    5.8344783570072047e-14\n",
      "Constraint violation....:   2.6251445461866751e-11    2.6251445461866751e-11\n",
      "Complementarity.........:   9.0909093844195637e-10    9.0909093844195637e-10\n",
      "Overall NLP error.......:   9.0909093844195637e-10    9.0909093844195637e-10\n",
      "\n",
      "\n",
      "Number of objective function evaluations             = 11\n",
      "Number of objective gradient evaluations             = 11\n",
      "Number of equality constraint evaluations            = 11\n",
      "Number of inequality constraint evaluations          = 0\n",
      "Number of equality constraint Jacobian evaluations   = 11\n",
      "Number of inequality constraint Jacobian evaluations = 0\n",
      "Number of Lagrangian Hessian evaluations             = 10\n",
      "Total CPU secs in IPOPT (w/o function evaluations)   =      0.008\n",
      "Total CPU secs in NLP function evaluations           =      0.016\n",
      "\n",
      "EXIT: Optimal Solution Found.\n",
      "The SSE at the optimal solution is 0.096747\n",
      "\n",
      "The values for the parameters are as follows:\n",
      "fs.properties.PR_kappa[R125,bmimBF4] = 0.1792154712211142\n",
      "fs.properties.PR_kappa[bmimBF4,R125] = 0.9646965902442856\n"
     ]
    }
   ],
   "source": [
    "binary_params_peng(data_348, configuration, 'R125', 'bmimBF4', \"x_R125\", \"x_bmimBF4\", \n",
    "    init_temp = 348.2, init_press = 499800, init_x_c1 = 0.043, init_x_c2 = 0.957,\n",
    "    init_kappa_2_1 = 0.54048012224613, init_kappa_1_2 =  0.08178562245270811, eps = 0.1, scaling_fac = 1e-9, read=False)"
   ]
  },
  {
   "cell_type": "code",
   "execution_count": 37,
   "id": "superior-heating",
   "metadata": {},
   "outputs": [],
   "source": [
    "k12_348 = 0.1792154712211142\n",
    "k21_348 = 0.9646965902442856"
   ]
  },
  {
   "cell_type": "code",
   "execution_count": 38,
   "id": "worse-helen",
   "metadata": {},
   "outputs": [
    {
     "name": "stdout",
     "output_type": "stream",
     "text": [
      "WARNING: Implicitly replacing the Component attribute liq (type=<class\n",
      "    'pyomo.core.base.param.SimpleParam'>) on block fs with a new Component\n",
      "    (type=<class 'pyomo.core.base.param.SimpleParam'>). This is usually\n",
      "    indicative of a modelling error. To avoid this warning, use\n",
      "    block.del_component() and block.add_component().\n",
      "WARNING: Implicitly replacing the Component attribute liquid (type=<class\n",
      "    'pyomo.core.base.constraint.SimpleConstraint'>) on block fs with a new\n",
      "    Component (type=<class\n",
      "    'pyomo.core.base.constraint.AbstractSimpleConstraint'>). This is usually\n",
      "    indicative of a modelling error. To avoid this warning, use\n",
      "    block.del_component() and block.add_component().\n",
      "The final DOF is 0\n",
      "The final DOF is 0\n",
      "The final DOF is 0\n",
      "The final DOF is 0\n",
      "The final DOF is 0\n",
      "The final DOF is 0\n",
      "The final DOF is 0\n",
      "The final DOF is 0\n"
     ]
    }
   ],
   "source": [
    "R125_x,P= calc_outlet_xP(data_348,m,\"R125\", \"bmimBF4\", k21_348, k12_348,verbose=True)"
   ]
  },
  {
   "cell_type": "code",
   "execution_count": 40,
   "id": "statewide-messenger",
   "metadata": {},
   "outputs": [
    {
     "data": {
      "image/png": "[encoded data removed]",
      "text/plain": [
       "<Figure size 432x288 with 1 Axes>"
      ]
     },
     "metadata": {
      "needs_background": "light"
     },
     "output_type": "display_data"
    }
   ],
   "source": [
    "# plots with data - model as lines --- need to make this into a function that splits up the T's\n",
    "# plt.plot(R125_x[0:9],P[0:9],\"b*-\",label=\"T= 283 K\")  \n",
    "# plt.plot(R125_x[9:18],P[9:18],\"r*-\",label=\"T= 298 K\") \n",
    "# plt.plot(R125_x[18:26],P[18:26],\"c*-\",label=\"T= 323 K\") \n",
    "plt.plot(R125_x,P,\"m*-\",label=\"T= 348 K\")\n",
    "plt.plot(data_348[\"x_R125\"],data_348[\"pressure\"],\"*\",color='orange',label=\"data\")  \n",
    "plt.title('Isotherm [R125][bmimBF4]')\n",
    "plt.ylabel('Pressure (Pa)')\n",
    "plt.xlabel('x R125')\n",
    "plt.grid(True)\n",
    "plt.ylim(0,1110000)\n",
    "plt.legend()\n",
    "plt.show()"
   ]
  },
  {
   "cell_type": "code",
   "execution_count": 42,
   "id": "ranking-russia",
   "metadata": {},
   "outputs": [
    {
     "name": "stdout",
     "output_type": "stream",
     "text": [
      "WARNING: Implicitly replacing the Component attribute liq (type=<class\n",
      "    'pyomo.core.base.param.SimpleParam'>) on block fs with a new Component\n",
      "    (type=<class 'pyomo.core.base.param.SimpleParam'>). This is usually\n",
      "    indicative of a modelling error. To avoid this warning, use\n",
      "    block.del_component() and block.add_component().\n",
      "WARNING: Implicitly replacing the Component attribute liquid (type=<class\n",
      "    'pyomo.core.base.constraint.SimpleConstraint'>) on block fs with a new\n",
      "    Component (type=<class\n",
      "    'pyomo.core.base.constraint.AbstractSimpleConstraint'>). This is usually\n",
      "    indicative of a modelling error. To avoid this warning, use\n",
      "    block.del_component() and block.add_component().\n",
      "The final DOF is 0\n",
      "The final DOF is 0\n",
      "The final DOF is 0\n",
      "The final DOF is 0\n",
      "The final DOF is 0\n",
      "The final DOF is 0\n",
      "The final DOF is 0\n",
      "The final DOF is 0\n",
      "WARNING: Loading a SolverResults object with a warning status into\n",
      "    model.name=\"unknown\";\n",
      "      - termination condition: infeasible\n",
      "      - message from solver: Ipopt 3.13.2\\x3a Converged to a locally\n",
      "        infeasible point. Problem may be infeasible.\n",
      "Infeasible.\n",
      "The final DOF is 0\n",
      "WARNING: Loading a SolverResults object with a warning status into\n",
      "    model.name=\"unknown\";\n",
      "      - termination condition: infeasible\n",
      "      - message from solver: Ipopt 3.13.2\\x3a Converged to a locally\n",
      "        infeasible point. Problem may be infeasible.\n",
      "Infeasible.\n",
      "The final DOF is 0\n",
      "The final DOF is 0\n",
      "The final DOF is 0\n",
      "The final DOF is 0\n",
      "The final DOF is 0\n",
      "The final DOF is 0\n",
      "The final DOF is 0\n",
      "The final DOF is 0\n",
      "The final DOF is 0\n",
      "The final DOF is 0\n",
      "WARNING: Loading a SolverResults object with a warning status into\n",
      "    model.name=\"unknown\";\n",
      "      - termination condition: infeasible\n",
      "      - message from solver: Ipopt 3.13.2\\x3a Converged to a locally\n",
      "        infeasible point. Problem may be infeasible.\n",
      "Infeasible.\n",
      "The final DOF is 0\n",
      "The final DOF is 0\n",
      "The final DOF is 0\n",
      "The final DOF is 0\n",
      "The final DOF is 0\n",
      "The final DOF is 0\n",
      "The final DOF is 0\n",
      "The final DOF is 0\n",
      "The final DOF is 0\n",
      "The final DOF is 0\n",
      "The final DOF is 0\n",
      "The final DOF is 0\n",
      "The final DOF is 0\n",
      "The final DOF is 0\n",
      "The final DOF is 0\n"
     ]
    },
    {
     "data": {
      "image/png": "[encoded data removed]",
      "text/plain": [
       "<Figure size 432x288 with 1 Axes>"
      ]
     },
     "metadata": {
      "needs_background": "light"
     },
     "output_type": "display_data"
    }
   ],
   "source": [
    "R125_x,P= calc_outlet_xP(data,m,\"R125\", \"bmimBF4\", k21_323, k12_323,verbose=True)\n",
    "# plots with data - model as lines --- need to make this into a function that splits up the T's\n",
    "plt.plot(R125_x[0:9],P[0:9],\"b*-\",label=\"T= 283 K\")  \n",
    "plt.plot(R125_x[9:18],P[9:18],\"r*-\",label=\"T= 298 K\") \n",
    "plt.plot(R125_x[18:26],P[18:26],\"c*-\",label=\"T= 323 K\") \n",
    "plt.plot(R125_x[26:],P[26:],\"m*-\",label=\"T= 348 K\")\n",
    "plt.plot(data[\"x_R125\"],data[\"pressure\"],\"*\",color='orange',label=\"data\")  \n",
    "plt.title('Isotherm [R125][bmimBF4]')\n",
    "plt.ylabel('Pressure (Pa)')\n",
    "plt.xlabel('x R125')\n",
    "plt.grid(True)\n",
    "plt.ylim(0,1110000)\n",
    "plt.legend()\n",
    "plt.show()"
   ]
  },
  {
   "cell_type": "markdown",
   "id": "appointed-abraham",
   "metadata": {},
   "source": [
    "# kappa vs T"
   ]
  },
  {
   "cell_type": "code",
   "execution_count": 43,
   "id": "signal-reservoir",
   "metadata": {},
   "outputs": [
    {
     "data": {
      "image/png": "[encoded data removed]",
      "text/plain": [
       "<Figure size 432x288 with 1 Axes>"
      ]
     },
     "metadata": {
      "needs_background": "light"
     },
     "output_type": "display_data"
    },
    {
     "name": "stdout",
     "output_type": "stream",
     "text": [
      "K12 Values for T=  [283.2 298.2 323.2 348.2] are: \n",
      "[0.08178562 0.12392946 0.14379334 0.17921547]\n"
     ]
    }
   ],
   "source": [
    "K12 = np.array([k12_283, k12_298, k12_323, k12_348])\n",
    "T = np.array([283.2, 298.2, 323.2, 348.2]) #K\n",
    "plt.plot(T,K12,\"*\",color='orange',label=\"K12\") \n",
    "plt.title('Binary Parameters vs Temperature for R125_bmimBF4 Mixture')\n",
    "plt.ylabel('Kappas')\n",
    "plt.xlabel('Temperature')\n",
    "plt.grid(True)\n",
    "plt.legend()\n",
    "plt.show()\n",
    "\n",
    "print('K12 Values for T= ', T, 'are: ')\n",
    "print(K12)"
   ]
  },
  {
   "cell_type": "code",
   "execution_count": 44,
   "id": "seasonal-ribbon",
   "metadata": {},
   "outputs": [
    {
     "data": {
      "image/png": "[encoded data removed]",
      "text/plain": [
       "<Figure size 432x288 with 1 Axes>"
      ]
     },
     "metadata": {
      "needs_background": "light"
     },
     "output_type": "display_data"
    },
    {
     "name": "stdout",
     "output_type": "stream",
     "text": [
      "K21 Values for T=  [283.2 298.2 323.2 348.2] are: \n",
      "[0.54048012 0.67777578 0.60953796 0.96469659]\n"
     ]
    }
   ],
   "source": [
    "K21 = np.array([k21_283, k21_298, k21_323, k21_348])\n",
    "plt.plot(T,K21,\"*\",color='blue',label=\"K21\")\n",
    "plt.title('Binary Parameters vs Temperature for R32_bmimBF4 Mixture')\n",
    "plt.ylabel('Kappas')\n",
    "plt.xlabel('Temperature')\n",
    "plt.grid(True)\n",
    "plt.legend()\n",
    "plt.show()\n",
    "\n",
    "print('K21 Values for T= ', T, 'are: ')\n",
    "print(K21)"
   ]
  },
  {
   "cell_type": "code",
   "execution_count": null,
   "id": "fundamental-newman",
   "metadata": {},
   "outputs": [],
   "source": []
  }
 ],
 "metadata": {
  "kernelspec": {
   "display_name": "Python 3",
   "language": "python",
   "name": "python3"
  },
  "language_info": {
   "codemirror_mode": {
    "name": "ipython",
    "version": 3
   },
   "file_extension": ".py",
   "mimetype": "text/x-python",
   "name": "python",
   "nbconvert_exporter": "python",
   "pygments_lexer": "ipython3",
   "version": "3.9.2"
  }
 },
 "nbformat": 4,
 "nbformat_minor": 5
}
