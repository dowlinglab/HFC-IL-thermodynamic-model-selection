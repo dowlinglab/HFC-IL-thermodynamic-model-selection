{
 "cells": [
  {
   "cell_type": "code",
   "execution_count": 1,
   "id": "protective-performance",
   "metadata": {},
   "outputs": [],
   "source": [
    "# import functions\n",
    "import idaes\n",
    "import matplotlib.pyplot as plt\n",
    "import pandas as pd\n",
    "import numpy as np\n",
    "from pyomo.environ import (Constraint,\n",
    "                           Var,\n",
    "                           ConcreteModel,\n",
    "                           Expression,\n",
    "                           Param,\n",
    "                           Objective,\n",
    "                           SolverFactory,\n",
    "                           TransformationFactory,\n",
    "                           value)\n",
    "\n",
    "from idaes.core import FlowsheetBlock\n",
    "import idaes.logger as idaeslog\n",
    "from pyomo.opt import TerminationCondition, SolverStatus\n",
    "# Import the Generic Parameter Block\n",
    "from idaes.generic_models.properties.core.generic.generic_property import (\n",
    "        GenericParameterBlock)\n",
    "# Import unit models from the model library\n",
    "from idaes.generic_models.unit_models import Flash\n",
    "# Import degrees of freedom tool\n",
    "from idaes.core.util.model_statistics import degrees_of_freedom\n",
    "# parmest (binary_param2)\n",
    "from binary_param2 import binary_params_peng\n",
    "# import pressure and plot functions\n",
    "from binary_fitting_functions import calc_outlet_xP\n",
    "from binary_fitting_functions import plot_sens_analysis"
   ]
  },
  {
   "cell_type": "code",
   "execution_count": 2,
   "id": "diagnostic-hearing",
   "metadata": {},
   "outputs": [],
   "source": [
    "# from HFC32_emimTf2N_PR import configuration\n",
    "from HFC125_bmimSCN_PR import configuration"
   ]
  },
  {
   "cell_type": "code",
   "execution_count": 3,
   "id": "falling-ridge",
   "metadata": {},
   "outputs": [],
   "source": [
    "#need to make excel csv for 125\n",
    "data = pd.read_csv('R125_bmimSCN.csv')\n",
    "# print(data)"
   ]
  },
  {
   "cell_type": "markdown",
   "id": "mental-gateway",
   "metadata": {},
   "source": [
    "# Create model and run Parmest"
   ]
  },
  {
   "cell_type": "code",
   "execution_count": 4,
   "id": "empirical-trout",
   "metadata": {},
   "outputs": [
    {
     "name": "stdout",
     "output_type": "stream",
     "text": [
      "2021-04-20 16:30:44 [INFO] idaes.generic_models.properties.core.generic.generic_property: DEPRECATED - definiton of generic property packages is moving to using static classes instead of modules. Please refer to the IDAES documentation.\n",
      "The initial DOF is 7\n"
     ]
    }
   ],
   "source": [
    "m = ConcreteModel()\n",
    "m.fs = FlowsheetBlock(default={\"dynamic\": False})\n",
    "m.fs.properties = GenericParameterBlock(default=configuration)\n",
    "m.fs.F101 = Flash(default={\"property_package\": m.fs.properties,\n",
    "                           \"has_heat_transfer\": True,\n",
    "                           \"has_pressure_change\": True})\n",
    "DOF_initial = degrees_of_freedom(m)\n",
    "print('The initial DOF is {0}'.format(DOF_initial))"
   ]
  },
  {
   "cell_type": "code",
   "execution_count": 5,
   "id": "discrete-beads",
   "metadata": {},
   "outputs": [
    {
     "name": "stdout",
     "output_type": "stream",
     "text": [
      "   temperature  pressure  x_R125  x_bmimSCN\n",
      "0       298.15     50000   0.001      0.999\n",
      "1       298.15    100000   0.004      0.996\n",
      "2       298.15    200000   0.013      0.987\n",
      "3       298.15    400000   0.031      0.969\n",
      "4       298.15    600000   0.053      0.947\n",
      "5       298.15    800000   0.077      0.923\n",
      "6       298.15   1000000   0.105      0.895\n"
     ]
    }
   ],
   "source": [
    "print(data)"
   ]
  },
  {
   "cell_type": "code",
   "execution_count": 6,
   "id": "fundamental-breast",
   "metadata": {},
   "outputs": [
    {
     "name": "stdout",
     "output_type": "stream",
     "text": [
      "2021-04-20 16:30:44 [INFO] idaes.generic_models.properties.core.generic.generic_property: DEPRECATED - definiton of generic property packages is moving to using static classes instead of modules. Please refer to the IDAES documentation.\n",
      "2021-04-20 16:30:45 [INFO] idaes.init.fs.state_block: Property package initialization: optimal - Optimal Solution Found.\n",
      "2021-04-20 16:30:45 [INFO] idaes.generic_models.properties.core.generic.generic_property: DEPRECATED - definiton of generic property packages is moving to using static classes instead of modules. Please refer to the IDAES documentation.\n",
      "2021-04-20 16:30:45 [INFO] idaes.init.fs.state_block: Property package initialization: optimal - Optimal Solution Found.\n",
      "2021-04-20 16:30:45 [INFO] idaes.generic_models.properties.core.generic.generic_property: DEPRECATED - definiton of generic property packages is moving to using static classes instead of modules. Please refer to the IDAES documentation.\n",
      "2021-04-20 16:30:45 [INFO] idaes.init.fs.state_block: Property package initialization: optimal - Optimal Solution Found.\n",
      "2021-04-20 16:30:45 [INFO] idaes.generic_models.properties.core.generic.generic_property: DEPRECATED - definiton of generic property packages is moving to using static classes instead of modules. Please refer to the IDAES documentation.\n",
      "2021-04-20 16:30:46 [INFO] idaes.init.fs.state_block: Property package initialization: optimal - Optimal Solution Found.\n",
      "2021-04-20 16:30:46 [INFO] idaes.generic_models.properties.core.generic.generic_property: DEPRECATED - definiton of generic property packages is moving to using static classes instead of modules. Please refer to the IDAES documentation.\n",
      "2021-04-20 16:30:46 [INFO] idaes.init.fs.state_block: Property package initialization: optimal - Optimal Solution Found.\n",
      "2021-04-20 16:30:46 [INFO] idaes.generic_models.properties.core.generic.generic_property: DEPRECATED - definiton of generic property packages is moving to using static classes instead of modules. Please refer to the IDAES documentation.\n",
      "2021-04-20 16:30:46 [INFO] idaes.init.fs.state_block: Property package initialization: optimal - Optimal Solution Found.\n",
      "2021-04-20 16:30:46 [INFO] idaes.generic_models.properties.core.generic.generic_property: DEPRECATED - definiton of generic property packages is moving to using static classes instead of modules. Please refer to the IDAES documentation.\n",
      "2021-04-20 16:30:46 [INFO] idaes.init.fs.state_block: Property package initialization: optimal - Optimal Solution Found.\n",
      "Ipopt 3.13.2: \n",
      "\n",
      "******************************************************************************\n",
      "This program contains Ipopt, a library for large-scale nonlinear optimization.\n",
      " Ipopt is released as open source code under the Eclipse Public License (EPL).\n",
      "         For more information visit http://projects.coin-or.org/Ipopt\n",
      "\n",
      "This version of Ipopt was compiled from source code available at\n",
      "    https://github.com/IDAES/Ipopt as part of the Institute for the Design of\n",
      "    Advanced Energy Systems Process Systems Engineering Framework (IDAES PSE\n",
      "    Framework) Copyright (c) 2018-2019. See https://github.com/IDAES/idaes-pse.\n",
      "\n",
      "This version of Ipopt was compiled using HSL, a collection of Fortran codes\n",
      "    for large-scale scientific computation.  All technical papers, sales and\n",
      "    publicity material resulting from use of the HSL codes within IPOPT must\n",
      "    contain the following acknowledgement:\n",
      "        HSL, a collection of Fortran codes for large-scale scientific\n",
      "        computation. See http://www.hsl.rl.ac.uk.\n",
      "******************************************************************************\n",
      "\n",
      "This is Ipopt version 3.13.2, running with linear solver ma27.\n",
      "\n",
      "Number of nonzeros in equality constraint Jacobian...:      238\n",
      "Number of nonzeros in inequality constraint Jacobian.:        0\n",
      "Number of nonzeros in Lagrangian Hessian.............:      238\n",
      "\n",
      "Total number of variables............................:      100\n",
      "                     variables with only lower bounds:       42\n",
      "                variables with lower and upper bounds:       42\n",
      "                     variables with only upper bounds:        0\n",
      "Total number of equality constraints.................:       98\n",
      "Total number of inequality constraints...............:        0\n",
      "        inequality constraints with only lower bounds:        0\n",
      "   inequality constraints with lower and upper bounds:        0\n",
      "        inequality constraints with only upper bounds:        0\n",
      "\n",
      "iter    objective    inf_pr   inf_du lg(mu)  ||d||  lg(rg) alpha_du alpha_pr  ls\n",
      "   0  0.0000000e+00 3.59e+00 4.52e-14  -1.0 0.00e+00    -  0.00e+00 0.00e+00   0\n",
      "   1  6.6308296e+01 3.39e+00 6.36e+06  -1.0 4.63e+07    -  6.25e-03 1.07e-02h  2\n",
      "   2  8.3548556e+01 3.20e+00 6.07e+06  -1.0 5.53e+07    -  9.52e-03 1.45e-03h  2\n",
      "   3  1.6886170e+02 1.98e+00 4.78e+06  -1.0 7.36e+07    -  8.23e-03 4.44e-03h  1\n",
      "   4  1.6884501e+02 1.98e+00 4.78e+06  -1.0 2.38e+06  -4.0 2.57e-02 4.35e-05h  1\n",
      "   5  1.9207770e+02 1.99e+00 5.07e+06  -1.0 1.23e+08    -  2.96e-03 3.88e-04h  1\n",
      "   6  2.4439833e+02 2.05e+00 5.53e+06  -1.0 3.35e+08    -  1.16e-03 4.39e-04h  5\n",
      "   7  3.2673885e+02 2.11e+00 6.13e+06  -1.0 4.73e+08    -  9.63e-04 4.02e-04h  5\n",
      "   8  4.0052693e+02 2.14e+00 6.34e+06  -1.0 6.93e+08    -  7.79e-04 2.05e-04h  6\n",
      "   9  4.4864635e+02 2.15e+00 6.36e+06  -1.0 9.33e+08    -  6.47e-04 8.87e-05h  7\n",
      "iter    objective    inf_pr   inf_du lg(mu)  ||d||  lg(rg) alpha_du alpha_pr  ls\n",
      "  10  5.0844757e+02 2.16e+00 6.32e+06  -1.0 1.17e+09    -  5.69e-04 8.09e-05h  7\n",
      "  11  5.4734256e+02 2.17e+00 6.28e+06  -1.0 1.57e+09    -  8.84e-04 3.66e-05h  8\n",
      "  12  5.5925685e+02 2.17e+00 6.60e+06  -1.0 2.81e+08  -4.5 3.38e-03 5.66e-05h  1\n",
      "  13  5.9986510e+02 2.17e+00 6.56e+06  -1.0 1.58e+09    -  5.25e-04 3.57e-05h  8\n",
      "  14  6.4824713e+02 2.17e+00 6.50e+06  -1.0 1.85e+09    -  7.84e-04 3.44e-05h  8\n",
      "  15r 6.4824713e+02 2.17e+00 1.00e+03   0.3 0.00e+00    -  0.00e+00 2.98e-07R 13\n",
      "  16r 6.4824735e+02 1.68e+00 9.93e+02   0.3 2.69e+03    -  6.58e-03 1.98e-02f  1\n",
      "  17  6.4816120e+02 1.68e+00 5.43e+03  -1.0 5.92e+07    -  3.14e-02 2.90e-06f  2\n",
      "  18  6.2091718e+02 1.58e+00 2.64e+06  -1.0 3.46e+07    -  1.62e-02 1.80e-02f  1\n",
      "  19  6.2326785e+02 1.58e+00 2.64e+06  -1.0 3.06e+07    -  2.61e-02 2.33e-04h  1\n",
      "iter    objective    inf_pr   inf_du lg(mu)  ||d||  lg(rg) alpha_du alpha_pr  ls\n",
      "  20  6.2623431e+02 1.58e+00 2.64e+06  -1.0 2.97e+08    -  8.15e-05 1.18e-05h  1\n",
      "  21  6.4994110e+02 1.58e+00 2.70e+06  -1.0 3.64e+08    -  6.63e-07 7.51e-05h  1\n",
      "  22  9.6159789e+02 1.56e+00 6.30e+06  -1.0 4.77e+07    -  4.16e-07 1.01e-02h  1\n",
      "  23  1.7829751e+03 1.52e+00 3.27e+06  -1.0 3.66e+07    -  1.92e-02 2.29e-02h  1\n",
      "  24  1.7938192e+03 1.52e+00 3.27e+06  -1.0 3.37e+07    -  4.54e-04 2.82e-04h  1\n",
      "  25  1.7939458e+03 1.52e+00 3.27e+06  -1.0 5.46e+07    -  3.75e-08 1.51e-06f  2\n",
      "  26  1.8113315e+03 1.52e+00 3.27e+06  -1.0 3.34e+07    -  5.08e-08 4.79e-04h  1\n",
      "  27  2.2585510e+03 1.51e+00 3.09e+06  -1.0 3.32e+07    -  2.96e-03 1.12e-02h  2\n",
      "  28  2.7718979e+03 1.49e+00 2.91e+06  -1.0 3.12e+07    -  4.35e-05 1.22e-02h  1\n",
      "  29  2.8017750e+03 1.49e+00 2.91e+06  -1.0 2.79e+07    -  5.91e-05 7.85e-04h  1\n",
      "iter    objective    inf_pr   inf_du lg(mu)  ||d||  lg(rg) alpha_du alpha_pr  ls\n",
      "  30  2.8272306e+03 1.48e+00 2.91e+06  -1.0 2.75e+07    -  2.79e-02 6.77e-04h  1\n",
      "  31  3.3563292e+03 1.46e+00 2.95e+06  -1.0 2.81e+07    -  1.43e-03 1.25e-02h  1\n",
      "  32  3.3613565e+03 1.46e+00 2.95e+06  -1.0 2.49e+07    -  2.75e-03 1.31e-04h  1\n",
      "  33  3.3577587e+03 1.46e+00 2.95e+06  -1.0 1.44e+08    -  9.01e-08 9.86e-06f  1\n",
      "  34  3.7282689e+03 1.45e+00 3.02e+06  -1.0 2.43e+07    -  2.11e-06 9.49e-03h  2\n",
      "  35  4.6021854e+03 1.41e+00 3.32e+06  -1.0 2.26e+07    -  1.88e-02 2.17e-02h  5\n",
      "  36  5.6560354e+03 1.37e+00 3.54e+06  -1.0 1.91e+07    -  7.40e-02 2.69e-02h  5\n",
      "  37  6.9516729e+03 1.32e+00 3.67e+06  -1.0 1.62e+07    -  9.57e-02 3.38e-02h  5\n",
      "  38  7.6877360e+03 1.29e+00 3.66e+06  -1.0 1.32e+07    -  1.26e-01 2.15e-02h  6\n",
      "  39  8.0195724e+03 1.27e+00 3.64e+06  -1.0 1.18e+07    -  1.56e-01 1.03e-02h  7\n",
      "iter    objective    inf_pr   inf_du lg(mu)  ||d||  lg(rg) alpha_du alpha_pr  ls\n",
      "  40  8.1795026e+03 1.27e+00 3.62e+06  -1.0 1.13e+07    -  2.12e-01 5.01e-03h  8\n",
      "  41  8.2595112e+03 1.26e+00 3.61e+06  -1.0 1.12e+07    -  3.48e-01 2.48e-03h  9\n",
      "  42  8.2650707e+03 1.26e+00 3.61e+06  -1.0 9.19e+06    -  1.86e-02 2.41e-04h 12\n",
      "  43  8.2510629e+03 1.26e+00 3.61e+06  -1.0 2.80e+07    -  1.37e-05 1.47e-04f 10\n",
      "  44  8.2510629e+03 1.26e+00 4.99e+06  -1.0 4.15e+06  -1.3 1.52e-01 2.80e-08w  1\n",
      "  45  8.3657139e+03 4.08e+00 1.66e+10  -1.0 5.01e+06  -1.8 2.17e-01 3.65e-02w  1\n",
      "  46  9.2411391e+03 8.58e+00 1.98e+11  -1.0 4.25e+06  -2.3 4.65e-01 2.41e-01w  1\n",
      "  47r 8.2510629e+03 1.26e+00 9.99e+02   0.1 0.00e+00  -1.9 0.00e+00 6.99e-09R  2\n",
      "  48r 8.2510594e+03 1.27e+00 9.95e+02   0.1 3.51e+03    -  4.16e-03 3.94e-03f  1\n",
      "  49r 8.2510613e+03 1.23e+00 9.95e+02   0.1 1.45e+03    -  3.06e-02 2.49e-03f  1\n",
      "iter    objective    inf_pr   inf_du lg(mu)  ||d||  lg(rg) alpha_du alpha_pr  ls\n",
      "  50r 8.2510672e+03 9.58e-01 9.72e+02   0.1 1.06e+03    -  9.74e-02 2.04e-02f  1\n",
      "  51  7.1985319e+03 7.39e-01 4.09e+04  -1.0 5.81e+06    -  3.86e-01 2.28e-01f  2\n",
      "  52  7.2312789e+03 7.06e-01 3.88e+04  -1.0 1.41e+06    -  9.86e-01 4.49e-02h  4\n",
      "  53  5.3050488e+03 4.04e+00 2.44e+04  -1.0 2.31e+06    -  1.15e-01 3.15e-01F  1\n",
      "  54  5.1660446e+03 3.94e+00 2.38e+04  -1.0 2.77e+06    -  1.43e-03 2.40e-02f  1\n",
      "  55  3.1029926e+03 2.41e+00 1.67e+04  -1.0 3.00e+06    -  2.34e-02 3.89e-01f  2\n",
      "  56  2.2643054e+03 1.88e+00 1.32e+04  -1.0 2.49e+06    -  1.80e-02 2.19e-01f  3\n",
      "  57  2.1335068e+03 1.89e+00 1.31e+04  -1.0 1.26e+07    -  5.90e-03 7.54e-03f  5\n",
      "  58  1.4277753e+03 1.84e+00 1.27e+04  -1.0 2.10e+07    -  2.19e-02 2.88e-02f  3\n",
      "  59  9.4094553e+02 1.56e+00 1.09e+04  -1.0 3.32e+06    -  7.93e-01 1.50e-01f  3\n",
      "iter    objective    inf_pr   inf_du lg(mu)  ||d||  lg(rg) alpha_du alpha_pr  ls\n",
      "  60  8.4373880e+02 3.56e+00 1.05e+04  -1.0 2.67e+06    -  9.90e-01 4.59e-02f  5\n",
      "  61  2.1663102e+02 5.91e+01 5.54e+04  -1.0 3.24e+06    -  9.90e-01 9.90e-01f  1\n",
      "  62  1.4389803e+02 1.13e+00 7.74e+08  -1.0 3.34e+05  -2.3 9.26e-01 9.91e-01f  1\n",
      "  63  1.0285949e+02 2.18e+01 3.67e+08  -1.0 3.88e+05  -2.8 6.68e-01 5.34e-01f  1\n",
      "  64  8.2262136e+01 4.18e+01 7.33e+09  -1.0 1.69e+06  -3.3 1.22e-02 3.83e-01f  2\n",
      "  65  5.7772708e+01 3.14e+01 6.51e+09  -1.0 5.91e+05  -2.9 1.00e+00 1.00e+00f  1\n",
      "  66  5.3019873e+01 2.18e+01 3.19e+09  -1.0 1.51e+05  -2.4 1.00e+00 5.90e-01f  1\n"
     ]
    },
    {
     "name": "stdout",
     "output_type": "stream",
     "text": [
      "  67  5.4166074e+01 3.83e+01 1.49e+10  -1.0 1.90e+06  -2.9 1.06e-02 3.04e-01f  2\n",
      "  68  4.5475957e+01 2.71e+01 1.16e+10  -1.0 4.20e+05  -1.6 1.00e+00 2.92e-01f  1\n",
      "  69  1.7191053e+01 7.59e+00 1.24e+10  -1.0 3.33e+05  -2.1 6.61e-03 1.00e+00f  1\n",
      "iter    objective    inf_pr   inf_du lg(mu)  ||d||  lg(rg) alpha_du alpha_pr  ls\n",
      "  70  1.7023009e+01 6.84e+00 7.81e+08  -1.0 3.38e+04  -1.6 1.00e+00 1.00e+00h  1\n",
      "  71  1.7303800e+01 3.49e+00 1.24e+08  -1.0 2.20e+04  -2.1 1.00e+00 1.00e+00h  1\n",
      "  72  1.7066315e+01 5.31e+00 2.80e+07  -1.0 2.17e+04  -2.6 1.00e+00 1.00e+00h  1\n",
      "  73  1.7203772e+01 2.66e+00 7.65e+06  -1.0 1.61e+04  -3.1 1.00e+00 1.00e+00h  1\n",
      "  74  1.7008794e+01 4.01e+00 1.85e+06  -1.0 1.67e+04  -3.6 1.00e+00 1.00e+00h  1\n",
      "  75  1.7099224e+01 1.99e+00 4.92e+05  -1.0 1.18e+04  -4.0 1.00e+00 1.00e+00h  1\n",
      "  76  1.6945720e+01 2.97e+00 1.12e+05  -1.0 1.25e+04  -4.5 1.00e+00 1.00e+00h  1\n",
      "  77  1.7005187e+01 1.46e+00 3.04e+04  -1.0 8.74e+03  -5.0 1.00e+00 1.00e+00h  1\n",
      "  78  1.6886611e+01 2.16e+00 6.61e+03  -1.0 9.23e+03  -5.5 1.00e+00 1.00e+00h  1\n",
      "  79  1.6919393e+01 1.05e+00 1.81e+03  -1.0 6.38e+03  -5.9 1.00e+00 1.00e+00h  1\n",
      "iter    objective    inf_pr   inf_du lg(mu)  ||d||  lg(rg) alpha_du alpha_pr  ls\n",
      "  80  1.6809902e+01 1.55e+00 3.76e+02  -1.0 6.81e+03  -6.4 1.00e+00 1.00e+00h  1\n",
      "  81  1.6765034e+01 7.43e-01 1.04e+02  -1.0 4.75e+03  -6.9 1.00e+00 1.00e+00h  1\n",
      "  82  1.6490143e+01 1.06e+00 1.99e+01  -1.7 5.99e+03  -7.4 1.00e+00 1.00e+00h  1\n",
      "  83  3.5086607e+00 6.62e-02 9.89e+01  -1.7 3.09e+05    -  1.00e+00 1.00e+00f  1\n",
      "  84  6.1340847e-01 8.86e-03 1.53e+00  -2.5 9.14e+04    -  1.00e+00 1.00e+00f  1\n",
      "  85  5.8961525e-01 1.21e-04 8.94e-03  -3.8 1.19e+04    -  1.00e+00 1.00e+00h  1\n",
      "  86  5.8970492e-01 1.25e-08 6.83e-07  -5.7 1.24e+02    -  1.00e+00 1.00e+00h  1\n",
      "  87  5.8970493e-01 2.74e-12 8.39e-13  -8.6 1.67e-02    -  1.00e+00 1.00e+00h  1\n",
      "\n",
      "Number of Iterations....: 87\n",
      "\n",
      "                                   (scaled)                 (unscaled)\n",
      "Objective...............:   5.8970492808473185e-01    5.8970492808473185e-01\n",
      "Dual infeasibility......:   8.3945626893426923e-13    8.3945626893426923e-13\n",
      "Constraint violation....:   2.7413626924044365e-12    2.7413626924044365e-12\n",
      "Complementarity.........:   2.5059532536722702e-09    2.5059532536722702e-09\n",
      "Overall NLP error.......:   2.5059532536722702e-09    2.5059532536722702e-09\n",
      "\n",
      "\n",
      "Number of objective function evaluations             = 298\n",
      "Number of objective gradient evaluations             = 86\n",
      "Number of equality constraint evaluations            = 299\n",
      "Number of inequality constraint evaluations          = 0\n",
      "Number of equality constraint Jacobian evaluations   = 90\n",
      "Number of inequality constraint Jacobian evaluations = 0\n",
      "Number of Lagrangian Hessian evaluations             = 87\n",
      "Total CPU secs in IPOPT (w/o function evaluations)   =      0.036\n",
      "Total CPU secs in NLP function evaluations           =      0.189\n",
      "\n",
      "EXIT: Optimal Solution Found.\n",
      "The SSE at the optimal solution is 0.589705\n",
      "\n",
      "The values for the parameters are as follows:\n",
      "fs.properties.PR_kappa[R125,bmimSCN] = 0.16627486251673715\n",
      "fs.properties.PR_kappa[bmimSCN,R125] = 3.1586404084662782\n"
     ]
    }
   ],
   "source": [
    "binary_params_peng(data, configuration, 'R125', 'bmimSCN', \"x_R125\", \"x_bmimSCN\", \n",
    "    init_temp =  298.15, init_press =   100000 , init_x_c1 =    0.004, init_x_c2 = 0.996,\n",
    "    init_kappa_2_1 = 0.05, init_kappa_1_2 = -0.05, eps = 0.1, scaling_fac = 1e-9 , read=False)"
   ]
  },
  {
   "cell_type": "markdown",
   "id": "fifth-aspect",
   "metadata": {},
   "source": [
    "# Best Fit"
   ]
  },
  {
   "cell_type": "code",
   "execution_count": 7,
   "id": "mathematical-output",
   "metadata": {},
   "outputs": [],
   "source": [
    "k12 = 0.16627486251673715\n",
    "k21 = 3.1586404084662782"
   ]
  },
  {
   "cell_type": "code",
   "execution_count": 8,
   "id": "aggressive-viewer",
   "metadata": {},
   "outputs": [
    {
     "name": "stdout",
     "output_type": "stream",
     "text": [
      "The final DOF is 0\n",
      "WARNING: Loading a SolverResults object with a warning status into\n",
      "    model.name=\"unknown\";\n",
      "      - termination condition: infeasible\n",
      "      - message from solver: Ipopt 3.13.2\\x3a Converged to a locally\n",
      "        infeasible point. Problem may be infeasible.\n",
      "Infeasible.\n",
      "The final DOF is 0\n",
      "The final DOF is 0\n",
      "The final DOF is 0\n",
      "The final DOF is 0\n",
      "The final DOF is 0\n",
      "The final DOF is 0\n"
     ]
    }
   ],
   "source": [
    "R125_x,P= calc_outlet_xP(data,m,\"R125\", \"bmimSCN\", k21, k12,verbose=True)"
   ]
  },
  {
   "cell_type": "code",
   "execution_count": 9,
   "id": "cognitive-toilet",
   "metadata": {},
   "outputs": [
    {
     "data": {
      "image/png": "[encoded data removed]",
      "text/plain": [
       "<Figure size 432x288 with 1 Axes>"
      ]
     },
     "metadata": {
      "needs_background": "light"
     },
     "output_type": "display_data"
    }
   ],
   "source": [
    "plt.plot(R125_x,P,\"m*-\",label=\"T= 298 K\")\n",
    "plt.plot(data[\"x_R125\"],data[\"pressure\"],\"*\",color='orange',label=\"data\")  \n",
    "plt.title('Isotherm [R125][bmimSCN] fit to T= 298 K')\n",
    "plt.ylabel('Pressure (Pa)')\n",
    "plt.xlabel('x R125')\n",
    "plt.grid(True)\n",
    "# plt.ylim(0,1300000)\n",
    "plt.legend()\n",
    "plt.show()"
   ]
  },
  {
   "cell_type": "code",
   "execution_count": null,
   "id": "published-syndrome",
   "metadata": {},
   "outputs": [],
   "source": []
  }
 ],
 "metadata": {
  "kernelspec": {
   "display_name": "Python 3",
   "language": "python",
   "name": "python3"
  },
  "language_info": {
   "codemirror_mode": {
    "name": "ipython",
    "version": 3
   },
   "file_extension": ".py",
   "mimetype": "text/x-python",
   "name": "python",
   "nbconvert_exporter": "python",
   "pygments_lexer": "ipython3",
   "version": "3.9.2"
  }
 },
 "nbformat": 4,
 "nbformat_minor": 5
}
