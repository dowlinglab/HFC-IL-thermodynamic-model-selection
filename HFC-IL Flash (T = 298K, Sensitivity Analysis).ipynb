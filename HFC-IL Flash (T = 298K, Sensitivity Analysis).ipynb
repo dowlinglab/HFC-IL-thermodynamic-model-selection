{
 "cells": [
  {
   "cell_type": "markdown",
   "metadata": {},
   "source": [
    "# Flash Model for [R32][emim_TF2N]\n",
    "### Gabriela Franco\n",
    "### 03/10/21"
   ]
  },
  {
   "cell_type": "code",
   "execution_count": 1,
   "metadata": {},
   "outputs": [
    {
     "name": "stdout",
     "output_type": "stream",
     "text": [
      "   temperature  pressure  x_R32  x_emimTf2N\n",
      "0       283.15     10200  0.014       0.986\n",
      "1       283.15    100100  0.136       0.864\n",
      "2       283.15    250300  0.306       0.694\n",
      "3       283.15    399300  0.448       0.552\n",
      "4       283.15    549300  0.570       0.430\n",
      "5       283.15    700400  0.672       0.328\n",
      "6       283.15    849400  0.786       0.214\n"
     ]
    }
   ],
   "source": [
    "# import functions\n",
    "import idaes\n",
    "import matplotlib.pyplot as plt\n",
    "import pandas as pd\n",
    "import numpy as np\n",
    "from pyomo.environ import (Constraint,\n",
    "                           Var,\n",
    "                           ConcreteModel,\n",
    "                           Expression,\n",
    "                           Param,\n",
    "                           Objective,\n",
    "                           SolverFactory,\n",
    "                           TransformationFactory,\n",
    "                           value)\n",
    "\n",
    "from idaes.core import FlowsheetBlock\n",
    "import idaes.logger as idaeslog\n",
    "from pyomo.opt import TerminationCondition, SolverStatus\n",
    "# Import the Generic Parameter Block\n",
    "from idaes.generic_models.properties.core.generic.generic_property import (\n",
    "        GenericParameterBlock)\n",
    "# Import unit models from the model library\n",
    "from idaes.generic_models.unit_models import Flash\n",
    "# Import degrees of freedom tool\n",
    "from idaes.core.util.model_statistics import degrees_of_freedom\n",
    "# import HFC_IL mixture properties\n",
    "from HFC32_emimTf2N_PR import configuration\n",
    "\n",
    "# Read data\n",
    "data = pd.read_csv('R32_emimTf2N.csv')\n",
    "data_283= data[0:7]\n",
    "print(data_283)"
   ]
  },
  {
   "cell_type": "markdown",
   "metadata": {},
   "source": [
    "## Run Parameter Estimation Function"
   ]
  },
  {
   "cell_type": "markdown",
   "metadata": {},
   "source": [
    "**T = 298.15 K**"
   ]
  },
  {
   "cell_type": "code",
   "execution_count": null,
   "metadata": {},
   "outputs": [],
   "source": [
    "#run parameter estimation function\n",
    "\n",
    "# T= 298.15 k\n",
    "from binary_param import binary_params_peng\n",
    "from HFC32_emimTf2N_PR import configuration\n",
    "binary_params_peng('R32_emimTf2N.csv', configuration, 'R32', 'emimTf2N', \"x_R32\", \"x_emimTf2N\", \n",
    "    init_temp = 298.15, init_press = 250200, init_x_c1 = 0.218, init_x_c2 =0.782 ,\n",
    "    init_kappa_2_1 = 0.025, init_kappa_1_2 = -0.03, eps = 0.1, scaling_fac = 1e-4)\n",
    "\n",
    "kappa1= -0.05619426266499274\n",
    "kappa2= -0.20093139701830412\n",
    "# print('PR_kappa[R32,emimTf2N] = ', kappa1)\n",
    "# print('PR_kappa[emimTf2N,R32] = ', kappa2)\n"
   ]
  },
  {
   "cell_type": "markdown",
   "metadata": {},
   "source": [
    "**T = 283.15 K**"
   ]
  },
  {
   "cell_type": "code",
   "execution_count": null,
   "metadata": {},
   "outputs": [],
   "source": [
    "#run parameter estimation function\n",
    "# T= 283.15 K\n",
    "from binary_param import binary_params_peng\n",
    "from HFC32_emimTf2N_PR import configuration\n",
    "binary_params_peng('R32_emimTf2N.csv', configuration, 'R32', 'emimTf2N', \"x_R32\", \"x_emimTf2N\", \n",
    "    init_temp = 283.15, init_press =  250300, init_x_c1 = 0.306, init_x_c2 = 0.694 ,\n",
    "    init_kappa_2_1 = 0.025, init_kappa_1_2 = -0.03, eps = 0.1, scaling_fac = 1e-4)\n",
    "\n",
    "# kappa1= -0.05619426266499274\n",
    "# kappa2= -0.20093139701830412\n",
    "# print('PR_kappa[R32,emimTf2N] = ', kappa1)\n",
    "# print('PR_kappa[emimTf2N,R32] = ', kappa2)"
   ]
  },
  {
   "cell_type": "markdown",
   "metadata": {},
   "source": [
    "## Create Flash Model"
   ]
  },
  {
   "cell_type": "code",
   "execution_count": 2,
   "metadata": {},
   "outputs": [
    {
     "name": "stdout",
     "output_type": "stream",
     "text": [
      "2021-03-14 18:24:24 [INFO] idaes.generic_models.properties.core.generic.generic_property: DEPRECATED - definiton of generic property packages is moving to using static classes instead of modules. Please refer to the IDAES documentation.\n",
      "The initial DOF is 7\n"
     ]
    }
   ],
   "source": [
    "m = ConcreteModel()\n",
    "m.fs = FlowsheetBlock(default={\"dynamic\": False})\n",
    "m.fs.properties = GenericParameterBlock(default=configuration)\n",
    "m.fs.F101 = Flash(default={\"property_package\": m.fs.properties,\n",
    "                           \"has_heat_transfer\": True,\n",
    "                           \"has_pressure_change\": True})\n",
    "DOF_initial = degrees_of_freedom(m)\n",
    "print('The initial DOF is {0}'.format(DOF_initial))"
   ]
  },
  {
   "cell_type": "markdown",
   "metadata": {},
   "source": [
    "**T=283.15 K**"
   ]
  },
  {
   "cell_type": "code",
   "execution_count": 3,
   "metadata": {},
   "outputs": [
    {
     "name": "stdout",
     "output_type": "stream",
     "text": [
      "The final DOF is 0\n",
      "The final DOF is 0\n",
      "The final DOF is 0\n",
      "The final DOF is 0\n",
      "The final DOF is 0\n",
      "The final DOF is 0\n",
      "The final DOF is 0\n"
     ]
    }
   ],
   "source": [
    "# initialize arrays for x and P\n",
    "R32_x = np.zeros((len(data_283)))\n",
    "P = np.zeros((len(data_283)))\n",
    "\n",
    "m.fs.liq = Param(mutable=True,default=0.040)\n",
    "m.fs.liquid = Constraint(expr=m.fs.F101.liq_outlet.mole_frac_comp[0, \"emimTf2N\"] == m.fs.liq)\n",
    "\n",
    "for i in range(len(data_283)):\n",
    "    m.fs.liq = data_283[\"x_emimTf2N\"].iloc[i]\n",
    "    m.fs.F101.inlet.flow_mol.fix(1) \n",
    "    m.fs.F101.inlet.temperature.fix(float(data_283[\"temperature\"].iloc[i]))\n",
    "    m.fs.F101.inlet.pressure.fix(float(data_283[\"pressure\"].iloc[i]))\n",
    "    m.fs.F101.inlet.mole_frac_comp[0,'R32'].fix(float(data_283[\"x_R32\"].iloc[i])+0.1)\n",
    "    m.fs.F101.inlet.mole_frac_comp[0,'emimTf2N'].fix(float(1-(data_283[\"x_R32\"].iloc[i]+0.1)))\n",
    "    m.fs.F101.vap_outlet.temperature.fix(float(data_283[\"temperature\"].iloc[i]))\n",
    "    m.fs.properties.PR_kappa['emimTf2N', 'R32'].fix(-0.01419)\n",
    "    m.fs.properties.PR_kappa['R32', 'emimTf2N'].fix(-0.01810)\n",
    "    \n",
    "    DOF_final = degrees_of_freedom(m)\n",
    "    print(\"The final DOF is {0}\".format(DOF_final))\n",
    "\n",
    "    # solver\n",
    "    m.fs.F101.initialize(outlvl=idaeslog.CRITICAL)\n",
    "    solver = SolverFactory('ipopt')\n",
    "    solver.options = {'tol': 1e-6}\n",
    "    status = solver.solve(m, tee = False)\n",
    "#     m.fs.F101.report()\n",
    "    if (status.solver.status == SolverStatus.ok) and (status.solver.termination_condition == TerminationCondition.optimal):\n",
    "        R32_x[i] = value(m.fs.F101.liq_outlet.mole_frac_comp[0,'R32']) \n",
    "        P[i] = value(m.fs.F101.vap_outlet.pressure[0])\n",
    "    else:\n",
    "        print('Infeasible.')"
   ]
  },
  {
   "cell_type": "code",
   "execution_count": 4,
   "metadata": {},
   "outputs": [
    {
     "name": "stdout",
     "output_type": "stream",
     "text": [
      "[ 12598.0055637  125024.61392388 290613.81031734 438553.02826632\n",
      " 574172.42446826 694552.48200121 836831.75396979]\n",
      "0     10200\n",
      "1    100100\n",
      "2    250300\n",
      "3    399300\n",
      "4    549300\n",
      "5    700400\n",
      "6    849400\n",
      "Name: pressure, dtype: int64\n"
     ]
    }
   ],
   "source": [
    "print(P)\n",
    "print(data_283[\"pressure\"])\n",
    "# print(R32_x_283)\n",
    "# print(data_283[\"x_R32\"])"
   ]
  },
  {
   "cell_type": "code",
   "execution_count": 5,
   "metadata": {},
   "outputs": [
    {
     "data": {
      "image/png": "[encoded data removed]",
      "text/plain": [
       "<Figure size 432x288 with 1 Axes>"
      ]
     },
     "metadata": {
      "needs_background": "light"
     },
     "output_type": "display_data"
    }
   ],
   "source": [
    "plt.plot(R32_x,P,\"-*\",label=\"IDAES\")  \n",
    "plt.plot(data_283[\"x_R32\"],data_283[\"pressure\"],\".\",label=\"data\")  \n",
    "plt.title('Isotherm [R32][emimTF2N] at T=283.15 K')\n",
    "plt.ylabel('Pressure (Pa)')\n",
    "plt.xlabel('x R32')\n",
    "plt.grid(True)\n",
    "plt.legend()\n",
    "plt.show()"
   ]
  },
  {
   "cell_type": "markdown",
   "metadata": {},
   "source": [
    "## Sensitivity Analysis"
   ]
  },
  {
   "cell_type": "markdown",
   "metadata": {},
   "source": [
    "**T= 298.15K**"
   ]
  },
  {
   "cell_type": "code",
   "execution_count": 6,
   "metadata": {},
   "outputs": [
    {
     "name": "stdout",
     "output_type": "stream",
     "text": [
      "8\n",
      "    temperature  pressure  x_R32  x_emimTf2N\n",
      "7        298.15      9600  0.010       0.990\n",
      "8        298.15     99800  0.095       0.905\n",
      "9        298.15    250200  0.218       0.782\n",
      "10       298.15    399400  0.325       0.675\n",
      "11       298.15    549400  0.417       0.583\n",
      "12       298.15    699500  0.499       0.501\n",
      "13       298.15    849500  0.570       0.430\n",
      "14       298.15    999700  0.643       0.357\n"
     ]
    }
   ],
   "source": [
    "# Read data\n",
    "data = pd.read_csv('R32_emimTf2N.csv')\n",
    "data_283= data[0:7]\n",
    "data_298 = data[7:15]\n",
    "data_323 = data[15:23]\n",
    "data_348 = data[23:31]\n",
    "print(len(data_298))\n",
    "print(data_298)"
   ]
  },
  {
   "cell_type": "markdown",
   "metadata": {},
   "source": [
    "**Change kappa values manually and see behavior**"
   ]
  },
  {
   "cell_type": "code",
   "execution_count": 7,
   "metadata": {},
   "outputs": [],
   "source": [
    "# initialize arrays for x and P\n",
    "R32_x = np.zeros((len(data_298)))\n",
    "P = np.zeros((len(data_298)))\n",
    "\n",
    "def calc_outlet_xP(k21,k12):\n",
    "    m.fs.liq = Param(mutable=True,default=0.040)\n",
    "    m.fs.liquid = Constraint(expr=m.fs.F101.liq_outlet.mole_frac_comp[0, \"emimTf2N\"] == m.fs.liq)\n",
    "\n",
    "    for i in range(len(data_298)):\n",
    "        m.fs.liq = data_298[\"x_emimTf2N\"].iloc[i]\n",
    "        m.fs.F101.inlet.flow_mol.fix(1) \n",
    "        m.fs.F101.inlet.temperature.fix(float(data_298[\"temperature\"].iloc[i]))\n",
    "        m.fs.F101.inlet.pressure.fix(float(data_298[\"pressure\"].iloc[i]))\n",
    "        m.fs.F101.inlet.mole_frac_comp[0,'R32'].fix(float(data_298[\"x_R32\"].iloc[i])+0.1)\n",
    "        m.fs.F101.inlet.mole_frac_comp[0,'emimTf2N'].fix(float(1-(data_298[\"x_R32\"].iloc[i]+0.1)))\n",
    "        m.fs.F101.vap_outlet.temperature.fix(float(data_298[\"temperature\"].iloc[i]))\n",
    "        m.fs.properties.PR_kappa['emimTf2N', 'R32'].fix(k21) # (-0.20093)\n",
    "        m.fs.properties.PR_kappa['R32', 'emimTf2N'].fix(k12) # (-0.05619)\n",
    "\n",
    "#         DOF_final = degrees_of_freedom(m)\n",
    "#         print(\"The final DOF is {0}\".format(DOF_final))\n",
    "\n",
    "        # solver\n",
    "        m.fs.F101.initialize(outlvl=idaeslog.CRITICAL)\n",
    "        solver = SolverFactory('ipopt')\n",
    "        solver.options = {'tol': 1e-6}\n",
    "        status = solver.solve(m, tee = False)\n",
    "    #     m.fs.F101.report()\n",
    "        if (status.solver.status == SolverStatus.ok) and (status.solver.termination_condition == TerminationCondition.optimal):\n",
    "            R32_x[i] = value(m.fs.F101.liq_outlet.mole_frac_comp[0,'R32']) \n",
    "            P[i] = value(m.fs.F101.vap_outlet.pressure[0])\n",
    "        else:\n",
    "            print('Infeasible.')\n",
    "    return(R32_x,P)"
   ]
  },
  {
   "cell_type": "code",
   "execution_count": 8,
   "metadata": {},
   "outputs": [
    {
     "name": "stdout",
     "output_type": "stream",
     "text": [
      "WARNING: Implicitly replacing the Component attribute liq (type=<class\n",
      "    'pyomo.core.base.param.SimpleParam'>) on block fs with a new Component\n",
      "    (type=<class 'pyomo.core.base.param.SimpleParam'>). This is usually\n",
      "    indicative of a modelling error. To avoid this warning, use\n",
      "    block.del_component() and block.add_component().\n",
      "WARNING: Implicitly replacing the Component attribute liquid (type=<class\n",
      "    'pyomo.core.base.constraint.SimpleConstraint'>) on block fs with a new\n",
      "    Component (type=<class\n",
      "    'pyomo.core.base.constraint.AbstractSimpleConstraint'>). This is usually\n",
      "    indicative of a modelling error. To avoid this warning, use\n",
      "    block.del_component() and block.add_component().\n",
      "WARNING: Implicitly replacing the Component attribute liq (type=<class\n",
      "    'pyomo.core.base.param.SimpleParam'>) on block fs with a new Component\n",
      "    (type=<class 'pyomo.core.base.param.SimpleParam'>). This is usually\n",
      "    indicative of a modelling error. To avoid this warning, use\n",
      "    block.del_component() and block.add_component().\n",
      "WARNING: Implicitly replacing the Component attribute liquid (type=<class\n",
      "    'pyomo.core.base.constraint.SimpleConstraint'>) on block fs with a new\n",
      "    Component (type=<class\n",
      "    'pyomo.core.base.constraint.AbstractSimpleConstraint'>). This is usually\n",
      "    indicative of a modelling error. To avoid this warning, use\n",
      "    block.del_component() and block.add_component().\n",
      "WARNING: Implicitly replacing the Component attribute liq (type=<class\n",
      "    'pyomo.core.base.param.SimpleParam'>) on block fs with a new Component\n",
      "    (type=<class 'pyomo.core.base.param.SimpleParam'>). This is usually\n",
      "    indicative of a modelling error. To avoid this warning, use\n",
      "    block.del_component() and block.add_component().\n",
      "WARNING: Implicitly replacing the Component attribute liquid (type=<class\n",
      "    'pyomo.core.base.constraint.SimpleConstraint'>) on block fs with a new\n",
      "    Component (type=<class\n",
      "    'pyomo.core.base.constraint.AbstractSimpleConstraint'>). This is usually\n",
      "    indicative of a modelling error. To avoid this warning, use\n",
      "    block.del_component() and block.add_component().\n",
      "WARNING: Implicitly replacing the Component attribute liq (type=<class\n",
      "    'pyomo.core.base.param.SimpleParam'>) on block fs with a new Component\n",
      "    (type=<class 'pyomo.core.base.param.SimpleParam'>). This is usually\n",
      "    indicative of a modelling error. To avoid this warning, use\n",
      "    block.del_component() and block.add_component().\n",
      "WARNING: Implicitly replacing the Component attribute liquid (type=<class\n",
      "    'pyomo.core.base.constraint.SimpleConstraint'>) on block fs with a new\n",
      "    Component (type=<class\n",
      "    'pyomo.core.base.constraint.AbstractSimpleConstraint'>). This is usually\n",
      "    indicative of a modelling error. To avoid this warning, use\n",
      "    block.del_component() and block.add_component().\n",
      "WARNING: Implicitly replacing the Component attribute liq (type=<class\n",
      "    'pyomo.core.base.param.SimpleParam'>) on block fs with a new Component\n",
      "    (type=<class 'pyomo.core.base.param.SimpleParam'>). This is usually\n",
      "    indicative of a modelling error. To avoid this warning, use\n",
      "    block.del_component() and block.add_component().\n",
      "WARNING: Implicitly replacing the Component attribute liquid (type=<class\n",
      "    'pyomo.core.base.constraint.SimpleConstraint'>) on block fs with a new\n",
      "    Component (type=<class\n",
      "    'pyomo.core.base.constraint.AbstractSimpleConstraint'>). This is usually\n",
      "    indicative of a modelling error. To avoid this warning, use\n",
      "    block.del_component() and block.add_component().\n",
      "WARNING: Implicitly replacing the Component attribute liq (type=<class\n",
      "    'pyomo.core.base.param.SimpleParam'>) on block fs with a new Component\n",
      "    (type=<class 'pyomo.core.base.param.SimpleParam'>). This is usually\n",
      "    indicative of a modelling error. To avoid this warning, use\n",
      "    block.del_component() and block.add_component().\n",
      "WARNING: Implicitly replacing the Component attribute liquid (type=<class\n",
      "    'pyomo.core.base.constraint.SimpleConstraint'>) on block fs with a new\n",
      "    Component (type=<class\n",
      "    'pyomo.core.base.constraint.AbstractSimpleConstraint'>). This is usually\n",
      "    indicative of a modelling error. To avoid this warning, use\n",
      "    block.del_component() and block.add_component().\n",
      "WARNING: Implicitly replacing the Component attribute liq (type=<class\n",
      "    'pyomo.core.base.param.SimpleParam'>) on block fs with a new Component\n",
      "    (type=<class 'pyomo.core.base.param.SimpleParam'>). This is usually\n",
      "    indicative of a modelling error. To avoid this warning, use\n",
      "    block.del_component() and block.add_component().\n",
      "WARNING: Implicitly replacing the Component attribute liquid (type=<class\n",
      "    'pyomo.core.base.constraint.SimpleConstraint'>) on block fs with a new\n",
      "    Component (type=<class\n",
      "    'pyomo.core.base.constraint.AbstractSimpleConstraint'>). This is usually\n",
      "    indicative of a modelling error. To avoid this warning, use\n",
      "    block.del_component() and block.add_component().\n",
      "WARNING: Implicitly replacing the Component attribute liq (type=<class\n",
      "    'pyomo.core.base.param.SimpleParam'>) on block fs with a new Component\n",
      "    (type=<class 'pyomo.core.base.param.SimpleParam'>). This is usually\n",
      "    indicative of a modelling error. To avoid this warning, use\n",
      "    block.del_component() and block.add_component().\n",
      "WARNING: Implicitly replacing the Component attribute liquid (type=<class\n",
      "    'pyomo.core.base.constraint.SimpleConstraint'>) on block fs with a new\n",
      "    Component (type=<class\n",
      "    'pyomo.core.base.constraint.AbstractSimpleConstraint'>). This is usually\n",
      "    indicative of a modelling error. To avoid this warning, use\n",
      "    block.del_component() and block.add_component().\n",
      "WARNING: Implicitly replacing the Component attribute liq (type=<class\n",
      "    'pyomo.core.base.param.SimpleParam'>) on block fs with a new Component\n",
      "    (type=<class 'pyomo.core.base.param.SimpleParam'>). This is usually\n",
      "    indicative of a modelling error. To avoid this warning, use\n",
      "    block.del_component() and block.add_component().\n",
      "WARNING: Implicitly replacing the Component attribute liquid (type=<class\n",
      "    'pyomo.core.base.constraint.SimpleConstraint'>) on block fs with a new\n",
      "    Component (type=<class\n",
      "    'pyomo.core.base.constraint.AbstractSimpleConstraint'>). This is usually\n",
      "    indicative of a modelling error. To avoid this warning, use\n",
      "    block.del_component() and block.add_component().\n",
      "WARNING: Implicitly replacing the Component attribute liq (type=<class\n",
      "    'pyomo.core.base.param.SimpleParam'>) on block fs with a new Component\n",
      "    (type=<class 'pyomo.core.base.param.SimpleParam'>). This is usually\n",
      "    indicative of a modelling error. To avoid this warning, use\n",
      "    block.del_component() and block.add_component().\n",
      "WARNING: Implicitly replacing the Component attribute liquid (type=<class\n",
      "    'pyomo.core.base.constraint.SimpleConstraint'>) on block fs with a new\n",
      "    Component (type=<class\n",
      "    'pyomo.core.base.constraint.AbstractSimpleConstraint'>). This is usually\n",
      "    indicative of a modelling error. To avoid this warning, use\n",
      "    block.del_component() and block.add_component().\n",
      "WARNING: Implicitly replacing the Component attribute liq (type=<class\n",
      "    'pyomo.core.base.param.SimpleParam'>) on block fs with a new Component\n",
      "    (type=<class 'pyomo.core.base.param.SimpleParam'>). This is usually\n",
      "    indicative of a modelling error. To avoid this warning, use\n",
      "    block.del_component() and block.add_component().\n",
      "WARNING: Implicitly replacing the Component attribute liquid (type=<class\n",
      "    'pyomo.core.base.constraint.SimpleConstraint'>) on block fs with a new\n",
      "    Component (type=<class\n",
      "    'pyomo.core.base.constraint.AbstractSimpleConstraint'>). This is usually\n",
      "    indicative of a modelling error. To avoid this warning, use\n",
      "    block.del_component() and block.add_component().\n",
      "WARNING: Implicitly replacing the Component attribute liq (type=<class\n",
      "    'pyomo.core.base.param.SimpleParam'>) on block fs with a new Component\n",
      "    (type=<class 'pyomo.core.base.param.SimpleParam'>). This is usually\n",
      "    indicative of a modelling error. To avoid this warning, use\n",
      "    block.del_component() and block.add_component().\n",
      "WARNING: Implicitly replacing the Component attribute liquid (type=<class\n",
      "    'pyomo.core.base.constraint.SimpleConstraint'>) on block fs with a new\n",
      "    Component (type=<class\n",
      "    'pyomo.core.base.constraint.AbstractSimpleConstraint'>). This is usually\n",
      "    indicative of a modelling error. To avoid this warning, use\n",
      "    block.del_component() and block.add_component().\n"
     ]
    }
   ],
   "source": [
    "# try plotting kappas manually -\n",
    "\n",
    "kappa21= np.array([-0.200,-0.30,-0.40,-0.50])\n",
    "kappa12= np.array([-0.056,-0.066,-0.076,-0.086])\n",
    "\n",
    "x1,P1= calc_outlet_xP(kappa21[0],kappa12[0])\n",
    "x2,P2= calc_outlet_xP(kappa21[0],kappa12[1])\n",
    "x3,P3= calc_outlet_xP(kappa21[0],kappa12[2])\n",
    "x4,P4= calc_outlet_xP(kappa21[0],kappa12[3])\n",
    "x5,P5= calc_outlet_xP(kappa21[1],kappa12[0])\n",
    "x6,P6= calc_outlet_xP(kappa21[1],kappa12[1])\n",
    "x7,P7= calc_outlet_xP(kappa21[1],kappa12[2])\n",
    "x8,P8= calc_outlet_xP(kappa21[1],kappa12[3])\n",
    "x9,P9= calc_outlet_xP(kappa21[2],kappa12[0])\n",
    "x10,P10= calc_outlet_xP(kappa21[2],kappa12[1])\n",
    "x11,P11= calc_outlet_xP(kappa21[2],kappa12[2])\n",
    "x12,P12= calc_outlet_xP(kappa21[2],kappa12[3])\n",
    "\n"
   ]
  },
  {
   "cell_type": "code",
   "execution_count": 9,
   "metadata": {},
   "outputs": [
    {
     "data": {
      "image/png": "[encoded data removed]",
      "text/plain": [
       "<Figure size 432x288 with 1 Axes>"
      ]
     },
     "metadata": {
      "needs_background": "light"
     },
     "output_type": "display_data"
    }
   ],
   "source": [
    "# plot lines\n",
    "plt.plot(x1,P1,\"b-\",label=\"K21=-0.2, K12=-0.056\")\n",
    "plt.plot(x2,P2,\"g-\",label=\"K21=-0.2, K12=-0.066\")\n",
    "plt.plot(x3,P3,\"m-\",label=\"K21=-0.2, K12=-0.076\")\n",
    "plt.plot(x4,P4,\"c-\",label=\"K21=-0.2, K12=-0.086\")\n",
    "plt.plot(x5,P5,\"y-\",label=\"K21=-0.3, K12=-0.056\")\n",
    "plt.plot(x6,P6,\"b*-\",label=\"K21=-0.3, K12=-0.066\")\n",
    "plt.plot(x7,P7,\"g*-\",label=\"K21=-0.3, K12=-0.076\")\n",
    "plt.plot(x8,P8,\"m*-\",label=\"K21=-0.3, K12=-0.086\")\n",
    "plt.plot(x9,P9,\"c*-\",label=\"K21=-0.4, K12=-0.056\")\n",
    "plt.plot(x10,P10,\"y*-\",label=\"K21=-0.4, K12=-0.066\")\n",
    "plt.plot(x11,P11,\"b^-\",label=\"K21=-0.4, K12=-0.076\")\n",
    "plt.plot(x12,P12,\"g^-\",label=\"K21=-0.4, K12=-0.086\")\n",
    "\n",
    "# plot data and configuration\n",
    "plt.plot(data_298[\"x_R32\"],data_298[\"pressure\"],\"ro\",label=\"data\")  \n",
    "plt.title('Isotherm [R32][emimTF2N] at T=298.15 K')\n",
    "plt.ylabel('Pressure (Pa)')\n",
    "plt.xlabel('x R32')\n",
    "plt.grid(True)\n",
    "plt.legend()\n",
    "plt.show()\n",
    "\n"
   ]
  },
  {
   "cell_type": "code",
   "execution_count": 10,
   "metadata": {},
   "outputs": [],
   "source": [
    "# plot function to see if it works\n",
    "def plot_sens_analysis(kappa21,kappa12):\n",
    "    x1,P1= calc_outlet_xP(kappa21[0],kappa12[0])\n",
    "    plt.plot(x1,P1,\"b-\",label=\"K21=-0.2, K12=-0.056\")\n",
    "    x2,P2= calc_outlet_xP(kappa21[0],kappa12[1])\n",
    "    plt.plot(x2,P2,\"g-\",label=\"K21=-0.2, K12=-0.066\")\n",
    "    x3,P3= calc_outlet_xP(kappa21[0],kappa12[2])\n",
    "    plt.plot(x3,P3,\"m-\",label=\"K21=-0.2, K12=-0.076\")\n",
    "    x4,P4= calc_outlet_xP(kappa21[0],kappa12[3])\n",
    "    plt.plot(x4,P4,\"c-\",label=\"K21=-0.2, K12=-0.086\")\n",
    "    x5,P5= calc_outlet_xP(kappa21[1],kappa12[0])\n",
    "    plt.plot(x5,P5,\"b*-\",label=\"K21=-0.3, K12=-0.056\")\n",
    "    x6,P6= calc_outlet_xP(kappa21[1],kappa12[1])\n",
    "    plt.plot(x6,P6,\"g*-\",label=\"K21=-0.3, K12=-0.066\")\n",
    "    x7,P7= calc_outlet_xP(kappa21[1],kappa12[2])\n",
    "    plt.plot(x7,P7,\"m*-\",label=\"K21=-0.3, K12=-0.076\")\n",
    "    x8,P8= calc_outlet_xP(kappa21[1],kappa12[3])\n",
    "    plt.plot(x8,P8,\"c*-\",label=\"K21=-0.3, K12=-0.086\")\n",
    "    x9,P9= calc_outlet_xP(kappa21[2],kappa12[0])\n",
    "    plt.plot(x9,P9,\"b^-\",label=\"K21=-0.4, K12=-0.056\")\n",
    "    x10,P10= calc_outlet_xP(kappa21[2],kappa12[1])\n",
    "    plt.plot(x10,P10,\"g^-\",label=\"K21=-0.4, K12=-0.066\")\n",
    "    x11,P11= calc_outlet_xP(kappa21[2],kappa12[2])\n",
    "    plt.plot(x11,P11,\"m^-\",label=\"K21=-0.4, K12=-0.076\")\n",
    "    x12,P12= calc_outlet_xP(kappa21[2],kappa12[3])\n",
    "    plt.plot(x12,P12,\"c^-\",label=\"K21=-0.4, K12=-0.086\")\n",
    "    # plot data and configuration\n",
    "    plt.plot(data_298[\"x_R32\"],data_298[\"pressure\"],\"ro\",label=\"data\")  \n",
    "    plt.title('Isotherm [R32][emimTF2N] at T=298.15 K')\n",
    "    plt.ylabel('Pressure (Pa)')\n",
    "    plt.xlabel('x R32')\n",
    "    plt.grid(True)\n",
    "    plt.legend()\n",
    "    plt.show()"
   ]
  },
  {
   "cell_type": "code",
   "execution_count": 11,
   "metadata": {},
   "outputs": [
    {
     "name": "stdout",
     "output_type": "stream",
     "text": [
      "WARNING: Implicitly replacing the Component attribute liq (type=<class\n",
      "    'pyomo.core.base.param.SimpleParam'>) on block fs with a new Component\n",
      "    (type=<class 'pyomo.core.base.param.SimpleParam'>). This is usually\n",
      "    indicative of a modelling error. To avoid this warning, use\n",
      "    block.del_component() and block.add_component().\n",
      "WARNING: Implicitly replacing the Component attribute liquid (type=<class\n",
      "    'pyomo.core.base.constraint.SimpleConstraint'>) on block fs with a new\n",
      "    Component (type=<class\n",
      "    'pyomo.core.base.constraint.AbstractSimpleConstraint'>). This is usually\n",
      "    indicative of a modelling error. To avoid this warning, use\n",
      "    block.del_component() and block.add_component().\n",
      "WARNING: Implicitly replacing the Component attribute liq (type=<class\n",
      "    'pyomo.core.base.param.SimpleParam'>) on block fs with a new Component\n",
      "    (type=<class 'pyomo.core.base.param.SimpleParam'>). This is usually\n",
      "    indicative of a modelling error. To avoid this warning, use\n",
      "    block.del_component() and block.add_component().\n",
      "WARNING: Implicitly replacing the Component attribute liquid (type=<class\n",
      "    'pyomo.core.base.constraint.SimpleConstraint'>) on block fs with a new\n",
      "    Component (type=<class\n",
      "    'pyomo.core.base.constraint.AbstractSimpleConstraint'>). This is usually\n",
      "    indicative of a modelling error. To avoid this warning, use\n",
      "    block.del_component() and block.add_component().\n",
      "WARNING: Implicitly replacing the Component attribute liq (type=<class\n",
      "    'pyomo.core.base.param.SimpleParam'>) on block fs with a new Component\n",
      "    (type=<class 'pyomo.core.base.param.SimpleParam'>). This is usually\n",
      "    indicative of a modelling error. To avoid this warning, use\n",
      "    block.del_component() and block.add_component().\n",
      "WARNING: Implicitly replacing the Component attribute liquid (type=<class\n",
      "    'pyomo.core.base.constraint.SimpleConstraint'>) on block fs with a new\n",
      "    Component (type=<class\n",
      "    'pyomo.core.base.constraint.AbstractSimpleConstraint'>). This is usually\n",
      "    indicative of a modelling error. To avoid this warning, use\n",
      "    block.del_component() and block.add_component().\n",
      "WARNING: Implicitly replacing the Component attribute liq (type=<class\n",
      "    'pyomo.core.base.param.SimpleParam'>) on block fs with a new Component\n",
      "    (type=<class 'pyomo.core.base.param.SimpleParam'>). This is usually\n",
      "    indicative of a modelling error. To avoid this warning, use\n",
      "    block.del_component() and block.add_component().\n",
      "WARNING: Implicitly replacing the Component attribute liquid (type=<class\n",
      "    'pyomo.core.base.constraint.SimpleConstraint'>) on block fs with a new\n",
      "    Component (type=<class\n",
      "    'pyomo.core.base.constraint.AbstractSimpleConstraint'>). This is usually\n",
      "    indicative of a modelling error. To avoid this warning, use\n",
      "    block.del_component() and block.add_component().\n",
      "WARNING: Implicitly replacing the Component attribute liq (type=<class\n",
      "    'pyomo.core.base.param.SimpleParam'>) on block fs with a new Component\n",
      "    (type=<class 'pyomo.core.base.param.SimpleParam'>). This is usually\n",
      "    indicative of a modelling error. To avoid this warning, use\n",
      "    block.del_component() and block.add_component().\n",
      "WARNING: Implicitly replacing the Component attribute liquid (type=<class\n",
      "    'pyomo.core.base.constraint.SimpleConstraint'>) on block fs with a new\n",
      "    Component (type=<class\n",
      "    'pyomo.core.base.constraint.AbstractSimpleConstraint'>). This is usually\n",
      "    indicative of a modelling error. To avoid this warning, use\n",
      "    block.del_component() and block.add_component().\n",
      "WARNING: Implicitly replacing the Component attribute liq (type=<class\n",
      "    'pyomo.core.base.param.SimpleParam'>) on block fs with a new Component\n",
      "    (type=<class 'pyomo.core.base.param.SimpleParam'>). This is usually\n",
      "    indicative of a modelling error. To avoid this warning, use\n",
      "    block.del_component() and block.add_component().\n",
      "WARNING: Implicitly replacing the Component attribute liquid (type=<class\n",
      "    'pyomo.core.base.constraint.SimpleConstraint'>) on block fs with a new\n",
      "    Component (type=<class\n",
      "    'pyomo.core.base.constraint.AbstractSimpleConstraint'>). This is usually\n",
      "    indicative of a modelling error. To avoid this warning, use\n",
      "    block.del_component() and block.add_component().\n",
      "WARNING: Implicitly replacing the Component attribute liq (type=<class\n",
      "    'pyomo.core.base.param.SimpleParam'>) on block fs with a new Component\n",
      "    (type=<class 'pyomo.core.base.param.SimpleParam'>). This is usually\n",
      "    indicative of a modelling error. To avoid this warning, use\n",
      "    block.del_component() and block.add_component().\n",
      "WARNING: Implicitly replacing the Component attribute liquid (type=<class\n",
      "    'pyomo.core.base.constraint.SimpleConstraint'>) on block fs with a new\n",
      "    Component (type=<class\n",
      "    'pyomo.core.base.constraint.AbstractSimpleConstraint'>). This is usually\n",
      "    indicative of a modelling error. To avoid this warning, use\n",
      "    block.del_component() and block.add_component().\n",
      "WARNING: Implicitly replacing the Component attribute liq (type=<class\n",
      "    'pyomo.core.base.param.SimpleParam'>) on block fs with a new Component\n",
      "    (type=<class 'pyomo.core.base.param.SimpleParam'>). This is usually\n",
      "    indicative of a modelling error. To avoid this warning, use\n",
      "    block.del_component() and block.add_component().\n",
      "WARNING: Implicitly replacing the Component attribute liquid (type=<class\n",
      "    'pyomo.core.base.constraint.SimpleConstraint'>) on block fs with a new\n",
      "    Component (type=<class\n",
      "    'pyomo.core.base.constraint.AbstractSimpleConstraint'>). This is usually\n",
      "    indicative of a modelling error. To avoid this warning, use\n",
      "    block.del_component() and block.add_component().\n",
      "WARNING: Implicitly replacing the Component attribute liq (type=<class\n",
      "    'pyomo.core.base.param.SimpleParam'>) on block fs with a new Component\n",
      "    (type=<class 'pyomo.core.base.param.SimpleParam'>). This is usually\n",
      "    indicative of a modelling error. To avoid this warning, use\n",
      "    block.del_component() and block.add_component().\n",
      "WARNING: Implicitly replacing the Component attribute liquid (type=<class\n",
      "    'pyomo.core.base.constraint.SimpleConstraint'>) on block fs with a new\n",
      "    Component (type=<class\n",
      "    'pyomo.core.base.constraint.AbstractSimpleConstraint'>). This is usually\n",
      "    indicative of a modelling error. To avoid this warning, use\n",
      "    block.del_component() and block.add_component().\n",
      "WARNING: Implicitly replacing the Component attribute liq (type=<class\n",
      "    'pyomo.core.base.param.SimpleParam'>) on block fs with a new Component\n",
      "    (type=<class 'pyomo.core.base.param.SimpleParam'>). This is usually\n",
      "    indicative of a modelling error. To avoid this warning, use\n",
      "    block.del_component() and block.add_component().\n",
      "WARNING: Implicitly replacing the Component attribute liquid (type=<class\n",
      "    'pyomo.core.base.constraint.SimpleConstraint'>) on block fs with a new\n",
      "    Component (type=<class\n",
      "    'pyomo.core.base.constraint.AbstractSimpleConstraint'>). This is usually\n",
      "    indicative of a modelling error. To avoid this warning, use\n",
      "    block.del_component() and block.add_component().\n",
      "WARNING: Implicitly replacing the Component attribute liq (type=<class\n",
      "    'pyomo.core.base.param.SimpleParam'>) on block fs with a new Component\n",
      "    (type=<class 'pyomo.core.base.param.SimpleParam'>). This is usually\n",
      "    indicative of a modelling error. To avoid this warning, use\n",
      "    block.del_component() and block.add_component().\n",
      "WARNING: Implicitly replacing the Component attribute liquid (type=<class\n",
      "    'pyomo.core.base.constraint.SimpleConstraint'>) on block fs with a new\n",
      "    Component (type=<class\n",
      "    'pyomo.core.base.constraint.AbstractSimpleConstraint'>). This is usually\n",
      "    indicative of a modelling error. To avoid this warning, use\n",
      "    block.del_component() and block.add_component().\n",
      "WARNING: Implicitly replacing the Component attribute liq (type=<class\n",
      "    'pyomo.core.base.param.SimpleParam'>) on block fs with a new Component\n",
      "    (type=<class 'pyomo.core.base.param.SimpleParam'>). This is usually\n",
      "    indicative of a modelling error. To avoid this warning, use\n",
      "    block.del_component() and block.add_component().\n",
      "WARNING: Implicitly replacing the Component attribute liquid (type=<class\n",
      "    'pyomo.core.base.constraint.SimpleConstraint'>) on block fs with a new\n",
      "    Component (type=<class\n",
      "    'pyomo.core.base.constraint.AbstractSimpleConstraint'>). This is usually\n",
      "    indicative of a modelling error. To avoid this warning, use\n",
      "    block.del_component() and block.add_component().\n"
     ]
    },
    {
     "data": {
      "image/png": "[encoded data removed]",
      "text/plain": [
       "<Figure size 432x288 with 1 Axes>"
      ]
     },
     "metadata": {
      "needs_background": "light"
     },
     "output_type": "display_data"
    }
   ],
   "source": [
    "kappa21= np.array([-0.200,-0.30,-0.40,-0.5])\n",
    "kappa12= np.array([-0.056,-0.066,-0.076,-0.086])\n",
    "plot_sens_analysis(kappa21,kappa12)"
   ]
  },
  {
   "cell_type": "markdown",
   "metadata": {},
   "source": [
    "**Try a nested for loop**"
   ]
  },
  {
   "cell_type": "code",
   "execution_count": null,
   "metadata": {},
   "outputs": [],
   "source": [
    "# initialize arrays for x and P\n",
    "k_21 = np.array([-0.20,-0.50,-0.7])\n",
    "k_12 = np.array([-0.07,-0.50,-0.03])\n",
    "# print(k21)\n",
    "# print(k12)\n",
    "R32_x = np.zeros((len(data_298)))\n",
    "P = np.zeros((len(k_21),len(k_12),len(data_298)))\n",
    "\n",
    "m.fs.liq = Param(mutable=True,default=0.040)\n",
    "m.fs.liquid = Constraint(expr=m.fs.F101.liq_outlet.mole_frac_comp[0, \"emimTf2N\"] == m.fs.liq)\n",
    "\n",
    "for i  in range(len(k_21)): # 10 kappas\n",
    "    m.fs.properties.PR_kappa['emimTf2N', 'R32'].fix(k_21[i])\n",
    "    \n",
    "    for j  in range(len(k_12)): # 10 kappas\n",
    "        m.fs.properties.PR_kappa['R32', 'emimTf2N'].fix(k_12[j])\n",
    "        \n",
    "        for k in range(len(data_298)): # length of data array (10 rows (10 kappas), 8 columns (8 mol frac/pressure))\n",
    "            m.fs.liq = data_298[\"x_emimTf2N\"].iloc[k]\n",
    "            m.fs.F101.inlet.flow_mol.fix(1) \n",
    "            m.fs.F101.inlet.temperature.fix(float(data_298[\"temperature\"].iloc[k]))\n",
    "            m.fs.F101.inlet.pressure.fix(float(data_298[\"pressure\"].iloc[k]))\n",
    "            m.fs.F101.inlet.mole_frac_comp[0,'R32'].fix(float(data_298[\"x_R32\"].iloc[k])+0.1)\n",
    "            m.fs.F101.inlet.mole_frac_comp[0,'emimTf2N'].fix(float(1-(data_298[\"x_R32\"].iloc[k]+0.1)))\n",
    "            m.fs.F101.vap_outlet.temperature.fix(float(data_298[\"temperature\"].iloc[k]))\n",
    "\n",
    "            DOF_final = degrees_of_freedom(m)\n",
    "            print(\"The final DOF is {0}\".format(DOF_final))\n",
    "\n",
    "            try: # solver\n",
    "                m.fs.F101.initialize(outlvl=idaeslog.CRITICAL)\n",
    "                solver = SolverFactory('ipopt')\n",
    "                solver.options = {'tol': 1e-6}\n",
    "                status = solver.solve(m, tee = False)\n",
    "                if (status.solver.status == SolverStatus.ok) and (status.solver.termination_condition == TerminationCondition.optimal):\n",
    "                    R32_x[k] = value(m.fs.F101.liq_outlet.mole_frac_comp[0,'R32']) \n",
    "                    P[i,j,k] = value(m.fs.F101.vap_outlet.pressure[0])\n",
    "                else:\n",
    "                    print('Infeasible.')\n",
    "                    P[i,j,k] = 0\n",
    "            except ValueError:\n",
    "                P[i,j,k] = 0\n",
    "                "
   ]
  }
 ],
 "metadata": {
  "kernelspec": {
   "display_name": "Python 3",
   "language": "python",
   "name": "python3"
  },
  "language_info": {
   "codemirror_mode": {
    "name": "ipython",
    "version": 3
   },
   "file_extension": ".py",
   "mimetype": "text/x-python",
   "name": "python",
   "nbconvert_exporter": "python",
   "pygments_lexer": "ipython3",
   "version": "3.9.1"
  }
 },
 "nbformat": 4,
 "nbformat_minor": 4
}
