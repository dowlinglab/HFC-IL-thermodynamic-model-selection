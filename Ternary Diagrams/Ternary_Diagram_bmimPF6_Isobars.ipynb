{
 "cells": [
  {
   "cell_type": "markdown",
   "id": "established-plant",
   "metadata": {},
   "source": [
    "### Import libraries"
   ]
  },
  {
   "cell_type": "code",
   "execution_count": 1,
   "id": "allied-compound",
   "metadata": {},
   "outputs": [],
   "source": [
    "from pyomo.environ import (Constraint,\n",
    "                           Var,\n",
    "                           ConcreteModel,\n",
    "                           Expression,\n",
    "                           Param,\n",
    "                           Objective,\n",
    "                           SolverFactory,\n",
    "                           TransformationFactory,\n",
    "                           value)\n",
    "\n",
    "from pyomo.network import Arc, SequentialDecomposition\n",
    "\n",
    "from idaes.core.util.initialization import propagate_state\n",
    "\n",
    "# Import plotting functions\n",
    "import matplotlib.pyplot as plt\n",
    "\n",
    "# Import numpy library \n",
    "import numpy as np\n",
    "\n",
    "# Import the main FlowsheetBlock from IDAES. The flowsheet block will contain the unit model\n",
    "from idaes.core import FlowsheetBlock\n",
    "\n",
    "import idaes.logger as idaeslog\n",
    "from pyomo.opt import TerminationCondition, SolverStatus\n",
    "\n",
    "# Import the degrees_of_freedom function from the idaes.core.util.model_statistics package\n",
    "# DOF = Number of Model Variables - Number of Model Constraints\n",
    "from idaes.core.util.model_statistics import degrees_of_freedom\n",
    "\n",
    "# Import the Generic Parameter Block\n",
    "from idaes.generic_models.properties.core.generic.generic_property import (\n",
    "        GenericParameterBlock)\n",
    "\n",
    "# Import unit models from the model library\n",
    "from idaes.generic_models.unit_models import Flash\n",
    "\n",
    "# Import R32, R125, IL info file\n",
    "from HFCS_bmimPF6_PR import configuration"
   ]
  },
  {
   "cell_type": "markdown",
   "id": "dramatic-protest",
   "metadata": {},
   "source": [
    "### Create model"
   ]
  },
  {
   "cell_type": "code",
   "execution_count": 2,
   "id": "senior-andrew",
   "metadata": {},
   "outputs": [
    {
     "name": "stdout",
     "output_type": "stream",
     "text": [
      "2021-04-27 22:53:02 [INFO] idaes.generic_models.properties.core.generic.generic_property: DEPRECATED - definiton of generic property packages is moving to using static classes instead of modules. Please refer to the IDAES documentation.\n"
     ]
    }
   ],
   "source": [
    "# Create the ConcreteModel and the FlowsheetBlock, and attach the flowsheet block to it.\n",
    "m = ConcreteModel()\n",
    "\n",
    "m.fs = FlowsheetBlock(default={\"dynamic\": False}) \n",
    "\n",
    "# Add properties parameter blocks to the flowsheet with specifications\n",
    "m.fs.props = GenericParameterBlock(default=configuration)"
   ]
  },
  {
   "cell_type": "code",
   "execution_count": 3,
   "id": "elementary-transsexual",
   "metadata": {},
   "outputs": [
    {
     "name": "stdout",
     "output_type": "stream",
     "text": [
      "The initial DOF is 8\n"
     ]
    }
   ],
   "source": [
    "m.fs.F101 = Flash(default={\"property_package\": m.fs.props,\n",
    "                               \"has_heat_transfer\": True,\n",
    "                               \"has_pressure_change\": True})\n",
    "\n",
    "# Call the degrees_of_freedom function, get intitial DOF\n",
    "DOF_initial = degrees_of_freedom(m)\n",
    "print(\"The initial DOF is {0}\".format(DOF_initial))"
   ]
  },
  {
   "cell_type": "code",
   "execution_count": 4,
   "id": "exciting-precipitation",
   "metadata": {},
   "outputs": [
    {
     "name": "stdout",
     "output_type": "stream",
     "text": [
      "The final DOF is 0\n"
     ]
    }
   ],
   "source": [
    "## Update conditions to reduce DOF\n",
    "\n",
    "# Fix Heater H101 inlet conditions\n",
    "m.fs.F101.inlet.mole_frac_comp[0, \"R32\"].fix(0.5)\n",
    "m.fs.F101.inlet.mole_frac_comp[0, \"R125\"].fix(0.5)\n",
    "m.fs.F101.inlet.mole_frac_comp[0, \"bmimPF6\"].fix(0.001)\n",
    "\n",
    "m.fs.F101.inlet.flow_mol[0].fix(1)\n",
    "m.fs.F101.inlet.temperature.fix(300)\n",
    "m.fs.F101.inlet.pressure.fix(200000)\n",
    "\n",
    "# Fix F101 Flash outlet conditions\n",
    "m.fs.F101.vap_outlet.temperature.fix(300)\n",
    "m.fs.F101.deltaP.fix(0)\n",
    "\n",
    "DOF_final = degrees_of_freedom(m)\n",
    "print(\"The final DOF is {0}\".format(DOF_final))"
   ]
  },
  {
   "cell_type": "code",
   "execution_count": 5,
   "id": "removable-chicken",
   "metadata": {},
   "outputs": [],
   "source": [
    "solver = SolverFactory('ipopt')\n",
    "solver.options = {'tol': 1e-6}"
   ]
  },
  {
   "cell_type": "markdown",
   "id": "potential-making",
   "metadata": {},
   "source": [
    "### Get flash data"
   ]
  },
  {
   "cell_type": "code",
   "execution_count": 6,
   "id": "suspended-rover",
   "metadata": {},
   "outputs": [
    {
     "ename": "ValueError",
     "evalue": "Cannot load a SolverResults object with bad status: error",
     "output_type": "error",
     "traceback": [
      "\u001b[1;31m---------------------------------------------------------------------------\u001b[0m",
      "\u001b[1;31mValueError\u001b[0m                                Traceback (most recent call last)",
      "\u001b[1;32m<ipython-input-6-9e98d3eed7a8>\u001b[0m in \u001b[0;36m<module>\u001b[1;34m\u001b[0m\n\u001b[0;32m     26\u001b[0m         \u001b[0mm\u001b[0m\u001b[1;33m.\u001b[0m\u001b[0mfs\u001b[0m\u001b[1;33m.\u001b[0m\u001b[0mF101\u001b[0m\u001b[1;33m.\u001b[0m\u001b[0minlet\u001b[0m\u001b[1;33m.\u001b[0m\u001b[0mmole_frac_comp\u001b[0m\u001b[1;33m[\u001b[0m\u001b[1;36m0\u001b[0m\u001b[1;33m,\u001b[0m \u001b[1;34m\"bmimPF6\"\u001b[0m\u001b[1;33m]\u001b[0m\u001b[1;33m.\u001b[0m\u001b[0mfix\u001b[0m\u001b[1;33m(\u001b[0m\u001b[1;36m0.15\u001b[0m\u001b[1;33m)\u001b[0m\u001b[1;33m\u001b[0m\u001b[1;33m\u001b[0m\u001b[0m\n\u001b[0;32m     27\u001b[0m \u001b[1;33m\u001b[0m\u001b[0m\n\u001b[1;32m---> 28\u001b[1;33m         \u001b[0mm\u001b[0m\u001b[1;33m.\u001b[0m\u001b[0mfs\u001b[0m\u001b[1;33m.\u001b[0m\u001b[0mF101\u001b[0m\u001b[1;33m.\u001b[0m\u001b[0minitialize\u001b[0m\u001b[1;33m(\u001b[0m\u001b[0moutlvl\u001b[0m\u001b[1;33m=\u001b[0m\u001b[0midaeslog\u001b[0m\u001b[1;33m.\u001b[0m\u001b[0mCRITICAL\u001b[0m\u001b[1;33m)\u001b[0m\u001b[1;33m\u001b[0m\u001b[1;33m\u001b[0m\u001b[0m\n\u001b[0m\u001b[0;32m     29\u001b[0m         \u001b[1;31m# solve the model\u001b[0m\u001b[1;33m\u001b[0m\u001b[1;33m\u001b[0m\u001b[1;33m\u001b[0m\u001b[0m\n\u001b[0;32m     30\u001b[0m         \u001b[0mstatus\u001b[0m \u001b[1;33m=\u001b[0m \u001b[0msolver\u001b[0m\u001b[1;33m.\u001b[0m\u001b[0msolve\u001b[0m\u001b[1;33m(\u001b[0m\u001b[0mm\u001b[0m\u001b[1;33m,\u001b[0m \u001b[0mtee\u001b[0m \u001b[1;33m=\u001b[0m \u001b[1;32mFalse\u001b[0m\u001b[1;33m)\u001b[0m\u001b[1;33m\u001b[0m\u001b[1;33m\u001b[0m\u001b[0m\n",
      "\u001b[1;32mc:\\users\\gfrancoh\\documents\\github\\idaes-pse-main\\idaes\\core\\unit_model.py\u001b[0m in \u001b[0;36minitialize\u001b[1;34m(blk, state_args, outlvl, solver, optarg)\u001b[0m\n\u001b[0;32m    647\u001b[0m         \u001b[1;31m# ---------------------------------------------------------------------\u001b[0m\u001b[1;33m\u001b[0m\u001b[1;33m\u001b[0m\u001b[1;33m\u001b[0m\u001b[0m\n\u001b[0;32m    648\u001b[0m         \u001b[1;31m# Initialize control volume block\u001b[0m\u001b[1;33m\u001b[0m\u001b[1;33m\u001b[0m\u001b[1;33m\u001b[0m\u001b[0m\n\u001b[1;32m--> 649\u001b[1;33m         flags = blk.control_volume.initialize(\n\u001b[0m\u001b[0;32m    650\u001b[0m             \u001b[0moutlvl\u001b[0m\u001b[1;33m=\u001b[0m\u001b[0moutlvl\u001b[0m\u001b[1;33m,\u001b[0m\u001b[1;33m\u001b[0m\u001b[1;33m\u001b[0m\u001b[0m\n\u001b[0;32m    651\u001b[0m             \u001b[0moptarg\u001b[0m\u001b[1;33m=\u001b[0m\u001b[0moptarg\u001b[0m\u001b[1;33m,\u001b[0m\u001b[1;33m\u001b[0m\u001b[1;33m\u001b[0m\u001b[0m\n",
      "\u001b[1;32mc:\\users\\gfrancoh\\documents\\github\\idaes-pse-main\\idaes\\core\\control_volume0d.py\u001b[0m in \u001b[0;36minitialize\u001b[1;34m(blk, state_args, outlvl, optarg, solver, hold_state)\u001b[0m\n\u001b[0;32m   1364\u001b[0m \u001b[1;33m\u001b[0m\u001b[0m\n\u001b[0;32m   1365\u001b[0m         \u001b[1;31m# Initialize state blocks\u001b[0m\u001b[1;33m\u001b[0m\u001b[1;33m\u001b[0m\u001b[1;33m\u001b[0m\u001b[0m\n\u001b[1;32m-> 1366\u001b[1;33m         in_flags = blk.properties_in.initialize(\n\u001b[0m\u001b[0;32m   1367\u001b[0m             \u001b[0moutlvl\u001b[0m\u001b[1;33m=\u001b[0m\u001b[0moutlvl\u001b[0m\u001b[1;33m,\u001b[0m\u001b[1;33m\u001b[0m\u001b[1;33m\u001b[0m\u001b[0m\n\u001b[0;32m   1368\u001b[0m             \u001b[0moptarg\u001b[0m\u001b[1;33m=\u001b[0m\u001b[0moptarg\u001b[0m\u001b[1;33m,\u001b[0m\u001b[1;33m\u001b[0m\u001b[1;33m\u001b[0m\u001b[0m\n",
      "\u001b[1;32mc:\\users\\gfrancoh\\documents\\github\\idaes-pse-main\\idaes\\generic_models\\properties\\core\\generic\\generic_property.py\u001b[0m in \u001b[0;36minitialize\u001b[1;34m(blk, state_args, state_vars_fixed, hold_state, outlvl, solver, optarg)\u001b[0m\n\u001b[0;32m   1315\u001b[0m         \u001b[1;32mif\u001b[0m \u001b[0mn_cons\u001b[0m \u001b[1;33m>\u001b[0m \u001b[1;36m0\u001b[0m \u001b[1;32mand\u001b[0m \u001b[1;32mnot\u001b[0m \u001b[0mskip\u001b[0m\u001b[1;33m:\u001b[0m\u001b[1;33m\u001b[0m\u001b[1;33m\u001b[0m\u001b[0m\n\u001b[0;32m   1316\u001b[0m             \u001b[1;32mwith\u001b[0m \u001b[0midaeslog\u001b[0m\u001b[1;33m.\u001b[0m\u001b[0msolver_log\u001b[0m\u001b[1;33m(\u001b[0m\u001b[0msolve_log\u001b[0m\u001b[1;33m,\u001b[0m \u001b[0midaeslog\u001b[0m\u001b[1;33m.\u001b[0m\u001b[0mDEBUG\u001b[0m\u001b[1;33m)\u001b[0m \u001b[1;32mas\u001b[0m \u001b[0mslc\u001b[0m\u001b[1;33m:\u001b[0m\u001b[1;33m\u001b[0m\u001b[1;33m\u001b[0m\u001b[0m\n\u001b[1;32m-> 1317\u001b[1;33m                 \u001b[0mres\u001b[0m \u001b[1;33m=\u001b[0m \u001b[0msolve_indexed_blocks\u001b[0m\u001b[1;33m(\u001b[0m\u001b[0mopt\u001b[0m\u001b[1;33m,\u001b[0m \u001b[1;33m[\u001b[0m\u001b[0mblk\u001b[0m\u001b[1;33m]\u001b[0m\u001b[1;33m,\u001b[0m \u001b[0mtee\u001b[0m\u001b[1;33m=\u001b[0m\u001b[0mslc\u001b[0m\u001b[1;33m.\u001b[0m\u001b[0mtee\u001b[0m\u001b[1;33m)\u001b[0m\u001b[1;33m\u001b[0m\u001b[1;33m\u001b[0m\u001b[0m\n\u001b[0m\u001b[0;32m   1318\u001b[0m             init_log.info(\n\u001b[0;32m   1319\u001b[0m                 \"Phase equilibrium initialization: {}.\".format(\n",
      "\u001b[1;32mc:\\users\\gfrancoh\\documents\\github\\idaes-pse-main\\idaes\\core\\util\\initialization.py\u001b[0m in \u001b[0;36msolve_indexed_blocks\u001b[1;34m(solver, blocks, **kwds)\u001b[0m\n\u001b[0;32m    204\u001b[0m \u001b[1;33m\u001b[0m\u001b[0m\n\u001b[0;32m    205\u001b[0m         \u001b[1;31m# Solve temporary Block\u001b[0m\u001b[1;33m\u001b[0m\u001b[1;33m\u001b[0m\u001b[1;33m\u001b[0m\u001b[0m\n\u001b[1;32m--> 206\u001b[1;33m         \u001b[0mresults\u001b[0m \u001b[1;33m=\u001b[0m \u001b[0msolver\u001b[0m\u001b[1;33m.\u001b[0m\u001b[0msolve\u001b[0m\u001b[1;33m(\u001b[0m\u001b[0mtmp\u001b[0m\u001b[1;33m,\u001b[0m \u001b[1;33m**\u001b[0m\u001b[0mkwds\u001b[0m\u001b[1;33m)\u001b[0m\u001b[1;33m\u001b[0m\u001b[1;33m\u001b[0m\u001b[0m\n\u001b[0m\u001b[0;32m    207\u001b[0m \u001b[1;33m\u001b[0m\u001b[0m\n\u001b[0;32m    208\u001b[0m     \u001b[1;32mfinally\u001b[0m\u001b[1;33m:\u001b[0m\u001b[1;33m\u001b[0m\u001b[1;33m\u001b[0m\u001b[0m\n",
      "\u001b[1;32mc:\\users\\gfrancoh\\anaconda3\\envs\\idaes\\lib\\site-packages\\pyomo\\opt\\base\\solvers.py\u001b[0m in \u001b[0;36msolve\u001b[1;34m(self, *args, **kwds)\u001b[0m\n\u001b[0;32m    630\u001b[0m                 \u001b[1;32melse\u001b[0m\u001b[1;33m:\u001b[0m\u001b[1;33m\u001b[0m\u001b[1;33m\u001b[0m\u001b[0m\n\u001b[0;32m    631\u001b[0m                     \u001b[1;32mif\u001b[0m \u001b[0mself\u001b[0m\u001b[1;33m.\u001b[0m\u001b[0m_load_solutions\u001b[0m\u001b[1;33m:\u001b[0m\u001b[1;33m\u001b[0m\u001b[1;33m\u001b[0m\u001b[0m\n\u001b[1;32m--> 632\u001b[1;33m                         _model.solutions.load_from(\n\u001b[0m\u001b[0;32m    633\u001b[0m                             \u001b[0mresult\u001b[0m\u001b[1;33m,\u001b[0m\u001b[1;33m\u001b[0m\u001b[1;33m\u001b[0m\u001b[0m\n\u001b[0;32m    634\u001b[0m                             \u001b[0mselect\u001b[0m\u001b[1;33m=\u001b[0m\u001b[0mself\u001b[0m\u001b[1;33m.\u001b[0m\u001b[0m_select_index\u001b[0m\u001b[1;33m,\u001b[0m\u001b[1;33m\u001b[0m\u001b[1;33m\u001b[0m\u001b[0m\n",
      "\u001b[1;32mc:\\users\\gfrancoh\\anaconda3\\envs\\idaes\\lib\\site-packages\\pyomo\\core\\base\\PyomoModel.py\u001b[0m in \u001b[0;36mload_from\u001b[1;34m(self, results, allow_consistent_values_for_fixed_vars, comparison_tolerance_for_fixed_vars, ignore_invalid_labels, id, delete_symbol_map, clear, default_variable_value, select, ignore_fixed_vars)\u001b[0m\n\u001b[0;32m    234\u001b[0m                     \"an 'aborted' status, but containing a solution\")\n\u001b[0;32m    235\u001b[0m             \u001b[1;32melse\u001b[0m\u001b[1;33m:\u001b[0m\u001b[1;33m\u001b[0m\u001b[1;33m\u001b[0m\u001b[0m\n\u001b[1;32m--> 236\u001b[1;33m                 raise ValueError(\"Cannot load a SolverResults object \"\n\u001b[0m\u001b[0;32m    237\u001b[0m                                  \u001b[1;34m\"with bad status: %s\"\u001b[0m\u001b[1;33m\u001b[0m\u001b[1;33m\u001b[0m\u001b[0m\n\u001b[0;32m    238\u001b[0m                                  % str(results.solver.status))\n",
      "\u001b[1;31mValueError\u001b[0m: Cannot load a SolverResults object with bad status: error"
     ]
    }
   ],
   "source": [
    "# Set pressures to loop over\n",
    "P = [200000,300000,400000,500000,600000,700000,800000,900000,1000000,1100000,1200000,1300000,1400000,1500000,1600000]\n",
    "\n",
    "# Set fraction of feed compositions of HFCs to loop over\n",
    "HFC_feed_frac = [0.01,0.15,0.2,0.3,0.4,0.5,0.72,0.91,0.99]\n",
    "\n",
    "# Make outlet arrays\n",
    "IL_x = np.zeros((len(P),len(HFC_feed_frac)))\n",
    "IL_y = np.zeros((len(P),len(HFC_feed_frac)))\n",
    "R32_x = np.zeros((len(P),len(HFC_feed_frac)))\n",
    "R32_y = np.zeros((len(P),len(HFC_feed_frac)))\n",
    "R125_x = np.zeros((len(P),len(HFC_feed_frac)))\n",
    "R125_y = np.zeros((len(P),len(HFC_feed_frac))) \n",
    "\n",
    "for i in range(len(P)):\n",
    "    \n",
    "    # Fix pressure\n",
    "    m.fs.F101.inlet.pressure.fix(P[i])\n",
    "    \n",
    "    for j in range(len(HFC_feed_frac)):\n",
    "        \n",
    "        # Fix inlet mole fractions\n",
    "        fract = 1 - HFC_feed_frac[j] \n",
    "        m.fs.F101.inlet.mole_frac_comp[0, \"R32\"].fix(0.85*HFC_feed_frac[j])\n",
    "        m.fs.F101.inlet.mole_frac_comp[0, \"R125\"].fix(0.85*fract)\n",
    "        m.fs.F101.inlet.mole_frac_comp[0, \"bmimPF6\"].fix(0.15)   \n",
    "\n",
    "        m.fs.F101.initialize(outlvl=idaeslog.CRITICAL) \n",
    "        # solve the model\n",
    "        status = solver.solve(m, tee = False)\n",
    "        # model.display()\n",
    "        \n",
    "        # If solution is optimal store the concentration, and calculated temperatures in the created arrays\n",
    "        if (status.solver.status == SolverStatus.ok) and (status.solver.termination_condition == TerminationCondition.optimal):\n",
    "\n",
    "            IL_x[i,j] = value(m.fs.F101.liq_outlet.mole_frac_comp[0, \"bmimPF6\"])\n",
    "            IL_y[i,j] = value(m.fs.F101.vap_outlet.mole_frac_comp[0, \"bmimPF6\"])\n",
    "            R32_x[i,j] = value(m.fs.F101.liq_outlet.mole_frac_comp[0, \"R32\"]) \n",
    "            R32_y[i,j] = value(m.fs.F101.vap_outlet.mole_frac_comp[0, \"R32\"])\n",
    "            R125_x[i,j] = value(m.fs.F101.liq_outlet.mole_frac_comp[0, \"R125\"])\n",
    "            R125_y[i,j] = value(m.fs.F101.vap_outlet.mole_frac_comp[0, \"R125\"])\n",
    "\n",
    "            #Change this to feasible\n",
    "            print(\"Running pressure:\",P[i],\"and HFC feed fraction\",HFC_feed_frac[j])\n",
    "#             print(value(m.fs.F101.liq_outlet.flow_mol[0]))\n",
    "#             print(value(m.fs.F101.vap_outlet.flow_mol[0]))\n",
    "        else:\n",
    "            print('Infeasible.')"
   ]
  },
  {
   "cell_type": "code",
   "execution_count": null,
   "id": "minor-trading",
   "metadata": {},
   "outputs": [],
   "source": [
    "IL_x = IL_x*100\n",
    "IL_y = IL_y*100\n",
    "R32_x = R32_x*100\n",
    "R32_y = R32_y*100\n",
    "R125_x = R125_x*100\n",
    "R125_y = R125_y*100\n",
    "\n",
    "print(\"IL_x =\", IL_x)\n",
    "print(\"IL_y =\", IL_y)\n",
    "print(\"R32_x =\", R32_x)\n",
    "print(\"R32_y =\", R32_y)\n",
    "print(\"R125_x =\", R125_x)\n",
    "print(\"R125_y =\", R125_y)"
   ]
  },
  {
   "cell_type": "markdown",
   "id": "eligible-commissioner",
   "metadata": {},
   "source": [
    "##### Store"
   ]
  },
  {
   "cell_type": "code",
   "execution_count": null,
   "id": "rotary-samuel",
   "metadata": {},
   "outputs": [],
   "source": [
    "points_x = []\n",
    "\n",
    "for i in range(len(P)):\n",
    "    for j in range(len(HFC_feed_frac)): #to shift how points are printed, shift the order\n",
    "        points = (IL_x[i,j], R125_x[i,j], R32_x[i,j])\n",
    "        points_x.append(points)"
   ]
  },
  {
   "cell_type": "code",
   "execution_count": null,
   "id": "german-terrace",
   "metadata": {},
   "outputs": [],
   "source": [
    "# points_y = []\n",
    "\n",
    "# for i in range(len(P)):\n",
    "#     for j in range(len(HFC_feed_frac)): #to shift how points are printed, shift the order\n",
    "#         points = (IL_x[i,j], R125_x[i,j], R32_x[i,j])\n",
    "#         points_x.append(points)"
   ]
  },
  {
   "cell_type": "markdown",
   "id": "increasing-creature",
   "metadata": {},
   "source": [
    "### Ternary Diagram"
   ]
  },
  {
   "cell_type": "code",
   "execution_count": null,
   "id": "breeding-award",
   "metadata": {},
   "outputs": [],
   "source": [
    "import ternary\n",
    "\n",
    "scale = 100\n",
    "figure, tax = ternary.figure(scale=scale)\n",
    "\n",
    "# Draw Boundary and Gridlines\n",
    "tax.boundary(linewidth=2.0)\n",
    "tax.gridlines(color=\"blue\", multiple=5)\n",
    "\n",
    "# Set Axis labels and Title\n",
    "fontsize = 12\n",
    "offset = 0.14\n",
    "tax.set_title(\"Ternary phase diagram R-32, R-125, [bmim][Ac] (300 K)\\n\", fontsize=24)\n",
    "tax.left_axis_label(\"R-32\", fontsize=fontsize, offset=offset)\n",
    "tax.right_axis_label(\"R-125\", fontsize=fontsize, offset=offset)\n",
    "tax.bottom_axis_label(\"[bmim][Ac]\", fontsize=fontsize, offset=offset)\n",
    "\n",
    "# color_options = ['red','blue','green','black','orange','purple','teal','yellow','pink']\n",
    "\n",
    "for i in range(len(P)):\n",
    "#     color = color_options[i]\n",
    "    if P[i]<=1400000:\n",
    "        i = i + 1\n",
    "        print(\"points\",i,\"are:\",points_x[9*i-9:9*i])\n",
    "        tax.plot(points_x[9*i-9:9*i], linewidth=1., color='red', linestyle=\"-\")\n",
    "    elif P[i]==1500000:\n",
    "        i = i + 1\n",
    "        print(\"points\",i,\"are:\",points_x[9*i-9:9*i])\n",
    "        tax.plot(points_x[9*i-8:9*i], linewidth=1., color='red', linestyle=\"-\")\n",
    "    else:\n",
    "        i = i + 1\n",
    "        print(\"points\",i,\"are:\",points_x[9*i-9:9*i])\n",
    "        tax.plot(points_x[9*i-6:9*i], linewidth=1., color='red', linestyle=\"-\")\n",
    "\n",
    "tax.ticks(axis='lbr', multiple=10, linewidth=1, offset=0.025)\n",
    "tax.get_axes().axis('off')\n",
    "tax.clear_matplotlib_ticks()\n",
    "tax.show()"
   ]
  },
  {
   "cell_type": "code",
   "execution_count": null,
   "id": "applied-belly",
   "metadata": {},
   "outputs": [],
   "source": []
  }
 ],
 "metadata": {
  "kernelspec": {
   "display_name": "Python 3",
   "language": "python",
   "name": "python3"
  },
  "language_info": {
   "codemirror_mode": {
    "name": "ipython",
    "version": 3
   },
   "file_extension": ".py",
   "mimetype": "text/x-python",
   "name": "python",
   "nbconvert_exporter": "python",
   "pygments_lexer": "ipython3",
   "version": "3.9.2"
  }
 },
 "nbformat": 4,
 "nbformat_minor": 5
}
