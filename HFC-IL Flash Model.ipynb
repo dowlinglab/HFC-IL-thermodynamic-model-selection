{
 "cells": [
  {
   "cell_type": "code",
   "execution_count": 49,
   "metadata": {},
   "outputs": [],
   "source": [
    "# import functions\n",
    "import idaes\n",
    "import pandas as pd\n",
    "from pyomo.environ import (Constraint,\n",
    "                           Var,\n",
    "                           ConcreteModel,\n",
    "                           Expression,\n",
    "                           Param,\n",
    "                           Objective,\n",
    "                           SolverFactory,\n",
    "                           TransformationFactory,\n",
    "                           value)\n",
    "\n",
    "from idaes.core import FlowsheetBlock\n",
    "\n",
    "# Import the Generic Parameter Block\n",
    "from idaes.generic_models.properties.core.generic.generic_property import (\n",
    "        GenericParameterBlock)\n",
    "# Import unit models from the model library\n",
    "from idaes.generic_models.unit_models import Flash\n",
    "# Import degrees of freedom tool\n",
    "from idaes.core.util.model_statistics import degrees_of_freedom\n",
    "\n",
    "# import HFC_IL mixture properties\n",
    "from HFC32_emimTf2N_PR import configuration\n",
    "\n",
    "# Read data\n",
    "data = pd.read_csv('R32_emimTf2N.csv')"
   ]
  },
  {
   "cell_type": "code",
   "execution_count": 50,
   "metadata": {},
   "outputs": [
    {
     "name": "stdout",
     "output_type": "stream",
     "text": [
      "2021-03-08 00:13:25 [WARNING] idaes.generic_models.properties.core.generic.generic_property: fs.properties phase Liq was not assigned a type. Using generic Phase object.\n",
      "2021-03-08 00:13:25 [WARNING] idaes.generic_models.properties.core.generic.generic_property: fs.properties phase Vap was not assigned a type. Using generic Phase object.\n",
      "2021-03-08 00:13:25 [WARNING] idaes.generic_models.properties.core.generic.generic_property: fs.properties component emimTf2N was not assigned a type. Using generic Component object.\n",
      "2021-03-08 00:13:25 [WARNING] idaes.generic_models.properties.core.generic.generic_property: fs.properties component R32 was not assigned a type. Using generic Component object.\n",
      "2021-03-08 00:13:25 [INFO] idaes.generic_models.properties.core.generic.generic_property: DEPRECATED - definiton of generic property packages is moving to using static classes instead of modules. Please refer to the IDAES documentation.\n",
      "The initial DOF is 6\n"
     ]
    }
   ],
   "source": [
    "m = ConcreteModel()\n",
    "\n",
    "m.fs = FlowsheetBlock(default={\"dynamic\": False})\n",
    "\n",
    "m.fs.properties = GenericParameterBlock(default=configuration)\n",
    "\n",
    "m.fs.F101 = Flash(default={\"property_package\": m.fs.properties,\n",
    "                           \"has_heat_transfer\": False,\n",
    "                           \"has_pressure_change\": True})\n",
    "\n",
    "DOF_initial = degrees_of_freedom(m)\n",
    "print('The initial DOF is {0}'.format(DOF_initial))"
   ]
  },
  {
   "cell_type": "code",
   "execution_count": 51,
   "metadata": {},
   "outputs": [
    {
     "name": "stdout",
     "output_type": "stream",
     "text": [
      "         T       P     x1\n",
      "15  323.15  0.0102  0.005\n",
      "16  323.15  0.1003  0.055\n",
      "17  323.15  0.2497  0.133\n",
      "18  323.15  0.4001  0.200\n",
      "19  323.15  0.5495  0.264\n",
      "20  323.15  0.7003  0.320\n",
      "21  323.15  0.8504  0.368\n",
      "22  323.15  1.0004  0.417\n"
     ]
    }
   ],
   "source": [
    "#Load data for a single temperature\n",
    "data_emimTf2N=pd.read_csv('~/Documents/Github/extractive-distillation2/R32_emimTf2N.csv')\n",
    "print(data_emimTf2N[15:23])\n",
    "\n",
    "# input infor into model\n",
    "m.fs.F101.inlet.flow_mol.fix(1)\n",
    "m.fs.F101.inlet.temperature.fix(323.15)                # K\n",
    "m.fs.F101.inlet.pressure.fix(7.003E5)                  # Pa\n",
    "m.fs.F101.inlet.mole_frac_comp[0,'R32'].fix(0.320)\n",
    "m.fs.F101.inlet.mole_frac_comp[0,'emimTf2N'].fix(1-0.5)\n",
    "# m.fs.F101.vap_outlet.pressure.fix(399800)\n",
    "\n",
    "# # DOF analysis\n",
    "# degrees_of_freedom(m.fs.F101)"
   ]
  },
  {
   "cell_type": "code",
   "execution_count": 52,
   "metadata": {},
   "outputs": [
    {
     "name": "stdout",
     "output_type": "stream",
     "text": [
      "2021-03-08 00:13:26 [INFO] idaes.init.fs.F101.control_volume.properties_in: Starting initialization\n",
      "2021-03-08 00:13:26 [INFO] idaes.init.fs.F101.control_volume.properties_in: Dew and bubble point initialization: optimal - Optimal Solution Found.\n",
      "2021-03-08 00:13:26 [INFO] idaes.init.fs.F101.control_volume.properties_in: Equilibrium temperature initialization completed.\n",
      "2021-03-08 00:13:27 [INFO] idaes.init.fs.F101.control_volume.properties_in: Phase equilibrium initialization: optimal - Optimal Solution Found.\n",
      "2021-03-08 00:13:27 [INFO] idaes.init.fs.F101.control_volume.properties_in: Property initialization: optimal - Optimal Solution Found.\n",
      "2021-03-08 00:13:27 [INFO] idaes.init.fs.F101.control_volume.properties_out: Starting initialization\n",
      "2021-03-08 00:13:27 [INFO] idaes.init.fs.F101.control_volume.properties_out: Dew and bubble point initialization: optimal - Optimal Solution Found.\n",
      "2021-03-08 00:13:27 [INFO] idaes.init.fs.F101.control_volume.properties_out: Equilibrium temperature initialization completed.\n",
      "2021-03-08 00:13:27 [INFO] idaes.init.fs.F101.control_volume.properties_out: Phase equilibrium initialization: optimal - Optimal Solution Found.\n",
      "2021-03-08 00:13:27 [INFO] idaes.init.fs.F101.control_volume.properties_out: Property initialization: optimal - Optimal Solution Found.\n",
      "2021-03-08 00:13:27 [INFO] idaes.init.fs.F101.control_volume: Initialization Complete\n",
      "2021-03-08 00:13:27 [INFO] idaes.init.fs.F101: Initialization Complete: optimal - Optimal Solution Found\n"
     ]
    }
   ],
   "source": [
    "# Initialize the flash unit\n",
    "m.fs.F101.initialize()"
   ]
  },
  {
   "cell_type": "code",
   "execution_count": 53,
   "metadata": {},
   "outputs": [],
   "source": [
    "solver = SolverFactory('ipopt')\n",
    "solver.options = {'tol': 1e-6}"
   ]
  },
  {
   "cell_type": "code",
   "execution_count": 54,
   "metadata": {},
   "outputs": [],
   "source": [
    "status = solver.solve(m, tee = False)"
   ]
  },
  {
   "cell_type": "code",
   "execution_count": 55,
   "metadata": {},
   "outputs": [
    {
     "name": "stdout",
     "output_type": "stream",
     "text": [
      "\n",
      "====================================================================================\n",
      "Unit : fs.F101                                                             Time: 0.0\n",
      "------------------------------------------------------------------------------------\n",
      "    Unit Performance\n",
      "\n",
      "    Variables: \n",
      "\n",
      "    Key             : Value  : Fixed : Bounds\n",
      "    Pressure Change : 3293.9 : False : (None, None)\n",
      "\n",
      "------------------------------------------------------------------------------------\n",
      "    Stream Table\n",
      "                               Inlet    Vapor Outlet  Liquid Outlet\n",
      "    flow_mol                    1.0000      0.12334       0.69666  \n",
      "    mole_frac_comp emimTf2N    0.50000   1.0000e-08       0.71771  \n",
      "    mole_frac_comp R32         0.32000       1.0000       0.28229  \n",
      "    temperature                 323.15       324.91        324.91  \n",
      "    pressure                7.0030e+05   7.0359e+05    7.0359e+05  \n",
      "====================================================================================\n"
     ]
    }
   ],
   "source": [
    "# display solution\n",
    "\n",
    "m.fs.F101.report()\n",
    "# m.display()\n",
    "# m.pprint()"
   ]
  },
  {
   "cell_type": "code",
   "execution_count": null,
   "metadata": {},
   "outputs": [],
   "source": []
  }
 ],
 "metadata": {
  "kernelspec": {
   "display_name": "Python 3",
   "language": "python",
   "name": "python3"
  },
  "language_info": {
   "codemirror_mode": {
    "name": "ipython",
    "version": 3
   },
   "file_extension": ".py",
   "mimetype": "text/x-python",
   "name": "python",
   "nbconvert_exporter": "python",
   "pygments_lexer": "ipython3",
   "version": "3.9.1"
  }
 },
 "nbformat": 4,
 "nbformat_minor": 4
}
