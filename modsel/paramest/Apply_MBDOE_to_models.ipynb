{
 "cells": [
  {
   "cell_type": "code",
   "execution_count": 1,
   "id": "08bcec6e",
   "metadata": {},
   "outputs": [
    {
     "name": "stdout",
     "output_type": "stream",
     "text": [
      "[    0.00] Initializing mpi-sppy\n"
     ]
    }
   ],
   "source": [
    "from MBDOE import *\n",
    "from generalize_functions import CEOSModels\n"
   ]
  },
  {
   "cell_type": "markdown",
   "id": "e4291a0c",
   "metadata": {},
   "source": [
    "## Choose experiments and model"
   ]
  },
  {
   "cell_type": "code",
   "execution_count": null,
   "id": "c381361e",
   "metadata": {},
   "outputs": [],
   "source": [
    "model_option = \"PR\"\n",
    "if_poly = False\n",
    "\n",
    "if model_option==\"PR\":\n",
    "    if not if_poly:\n",
    "        from hfc32_emimtf2n_PR import configuration\n",
    "    else:\n",
    "        from hfc32_emimtf2n_PR_polynomial import configuration\n",
    "        \n",
    "elif model_option==\"SRK\":\n",
    "    if not if_poly:\n",
    "        from hfc32_emimtf2n_SRK import configuration\n",
    "    else:\n",
    "        from hfc32_emimtf2n_SRK_polynomial import configuration\n",
    "        "
   ]
  },
  {
   "cell_type": "code",
   "execution_count": null,
   "id": "e1f87bf2",
   "metadata": {},
   "outputs": [],
   "source": [
    "# Experiments \n",
    "data_file = './emimtf2n/R32/Final_Results/MBDoE/r32_emimtf2n_subset.csv'\n",
    "\n",
    "path = './emimtf2n/R32/Final_Results/MBDoE/Params/'\n",
    "\n",
    "# Decide on model \n",
    "#para_file = path + 'PR_params_1param_Opt1.csv'\n",
    "#PR_type_opt = \"1Param_Opt1\"\n",
    "\n",
    "#para_file = path + 'PR_params_1param_Opt2.csv'\n",
    "#PR_type_opt = \"1Param_Opt2\"\n",
    "\n",
    "#para_file = path + 'PR_params_1param_Opt2_GF.csv'\n",
    "#PR_type_opt = \"1Param_Opt2\"\n",
    "\n",
    "#para_file = path + 'PR_params_3params_Opt1.csv'\n",
    "#PR_type_opt = \"3Params_Opt1\"\n",
    "\n",
    "#para_file = path + 'PR_params_3params_Opt2.csv'\n",
    "#PR_type_opt = \"3Params_Opt2\"\n",
    "\n",
    "#para_file = path + 'PR_params_linTdep.csv'\n",
    "#PR_type_opt = \"Linear\"\n",
    "\n",
    "#para_file = path + 'PR_params_noTdep.csv'\n",
    "#PR_type_opt = \"No\"\n",
    "\n",
    "#para_file = path + 'PR_params_polyTdep.csv'\n",
    "#PR_type_opt = \"Polynomial\"\n",
    "\n",
    "# important model\n",
    "para_file = path + 'PR_params_quadTdep.csv'\n",
    "PR_type_opt = \"Quadratic\"\n",
    "\n",
    "#para_file = path + 'SRK_params_1param_Opt1.csv'\n",
    "#PR_type_opt = \"1Param_Opt1\"\n",
    "\n",
    "#para_file = path + 'SRK_params_1param_Opt2.csv'\n",
    "#PR_type_opt = \"1Param_Opt2\"\n",
    "\n",
    "#para_file = path + 'SRK_params_3params_Opt1.csv'\n",
    "#PR_type_opt = \"3Params_Opt1\"\n",
    "\n",
    "#para_file = path + 'SRK_params_3params_Opt2.csv'\n",
    "#PR_type_opt = \"3Params_Opt2\"\n",
    "\n",
    "#para_file = path + 'SRK_params_linTdep.csv'\n",
    "#PR_type_opt = \"Linear\"\n",
    "\n",
    "#para_file = path + 'SRK_params_noTdep.csv'\n",
    "#PR_type_opt = \"No\"\n",
    "\n",
    "\n",
    "#para_file = path + 'SRK_params_polyTdep.csv'\n",
    "#PR_type_opt = \"Polynomial\"\n",
    "\n",
    "#para_file = path + 'SRK_params_quadTdep.csv'\n",
    "#PR_type_opt = \"Quadratic\"\n",
    "\n",
    "\n",
    "\n",
    "model_creation = CEOSModels(para_file, configuration, \n",
    "                         comp_1= \"R32\", comp_2 = \"emimTf2N\", \n",
    "                         x_comp_1=\"x_R32\", x_comp_2=\"x_emimTf2N\",  Model_type = model_option, Tdep_type=PR_type_opt)"
   ]
  },
  {
   "cell_type": "markdown",
   "id": "c8d7e9af",
   "metadata": {},
   "source": [
    "## Run pyomo.doe"
   ]
  },
  {
   "cell_type": "code",
   "execution_count": null,
   "id": "a3da3439",
   "metadata": {},
   "outputs": [],
   "source": [
    "data_exp = pd.read_csv(data_file)\n",
    "print(data_exp)\n",
    "print(data_exp.iloc[1])"
   ]
  },
  {
   "cell_type": "code",
   "execution_count": null,
   "id": "14635489",
   "metadata": {},
   "outputs": [],
   "source": [
    "print(model_creation.param_name_dict)"
   ]
  },
  {
   "cell_type": "code",
   "execution_count": null,
   "id": "3852400b",
   "metadata": {
    "scrolled": true
   },
   "outputs": [],
   "source": [
    "mbdoe_obj = MBDOE(data_file, model_creation)\n",
    "\n",
    "exp_set = range(len(data_exp))\n",
    "#exp_set = range(12)\n",
    "#exp_set = [0,1,2,3]\n",
    "\n",
    "#exp_set = 0\n",
    "# init_T: 283-348; 323 is good; init_pressure: low mole fraction use 150000; high 399800; x_option: 0.4-0.6;0.3-0.55;\n",
    "# SRK: init_temp_option=323, init_pressure_option= 399800, init_x_c1_option = 0.5\n",
    "\n",
    "\n",
    "total_fim = mbdoe_obj.sumDOE(exp_set, scale_opt=True, record_name=\"PR_quadTdep_scaleopt\", \n",
    "                             init_temp_option=343, \n",
    "                             init_pressure_option= 150000,\n",
    "                             init_x_c1_option = 0.4,\n",
    "                             poly_option=False)\n",
    "\n",
    "#total_fim = mbdoe_obj.sumDOE(exp_set, scale_opt=True, record_name=\"SRK_polyTdep\", \n",
    "#                             init_temp_option=343, \n",
    "#                             init_pressure_option= 150000,\n",
    "#                             init_x_c1_option = 0.4,\n",
    "#                             poly_option=True)\n",
    "#total_fim = mbdoe_obj.doe(exp_set, scale=True)"
   ]
  },
  {
   "cell_type": "code",
   "execution_count": null,
   "id": "93f586ef",
   "metadata": {},
   "outputs": [],
   "source": [
    "print(total_fim)\n",
    "print(np.linalg.det(total_fim))\n",
    "print(np.trace(total_fim))\n",
    "print(np.linalg.eigvals(total_fim))"
   ]
  },
  {
   "cell_type": "markdown",
   "id": "44b63427",
   "metadata": {},
   "source": [
    "## Heatmap"
   ]
  },
  {
   "cell_type": "code",
   "execution_count": null,
   "id": "f06cedab",
   "metadata": {
    "scrolled": false
   },
   "outputs": [],
   "source": [
    "# read prior\n",
    "\n",
    "f = open('emimtf2n_FIM_info/PR_quadTdep_scaleopt.json')\n",
    "\n",
    "data = json.load(f)\n",
    "\n",
    "prior_info = data[0]['Total']\n",
    "#print(prior_info)\n",
    "\n",
    "\n",
    "for i in range(6):\n",
    "    for j in range(6):\n",
    "        prior_info[i][j] *= 10**(-12)\n",
    "\n",
    "print(prior_info)\n",
    "print(np.linalg.det(prior_info))\n",
    "print(np.log10(np.linalg.det(prior_info)))"
   ]
  },
  {
   "cell_type": "code",
   "execution_count": null,
   "id": "c5d1898d",
   "metadata": {},
   "outputs": [],
   "source": [
    "#data_exp = pd.read_csv(data_file)\n",
    "#print(data_exp)"
   ]
  },
  {
   "cell_type": "code",
   "execution_count": null,
   "id": "d5ff6c6d",
   "metadata": {
    "scrolled": true
   },
   "outputs": [],
   "source": [
    "# model list \n",
    "#T_range = [273, 360]\n",
    "#x_range = [0.1, 0.9]\n",
    "\n",
    "T_range = [273, 283, 293, 303, 313, 323, 333, 343, 353, 363, 373, 383, 393, 400]\n",
    "x_range = [0.01, 0.05, 0.1,0.2, 0.3, 0.4, 0.5, 0.6, 0.7, 0.8, 0.9]\n",
    "\n",
    "#x_range = [0.01, 0.05]\n",
    "\n",
    "data_exp = {'pressure': 549300}\n",
    "\n",
    "fixed_model_set = []\n",
    "\n",
    "for i in range(len(T_range)):\n",
    "    for j in range(len(x_range)):\n",
    "        data_exp['temperature'] = T_range[i]\n",
    "        data_exp['x_R32'] = x_range[j]\n",
    "        data_exp['x_emimTf2N'] = 1-x_range[j]\n",
    "    \n",
    "        print(data_exp)\n",
    "        \n",
    "        model = model_creation.create_model(data_exp)\n",
    "        \n",
    "        print(model.fs.state_block.pressure.value)\n",
    "        \n",
    "        fixed_model_set.append(model)"
   ]
  },
  {
   "cell_type": "code",
   "execution_count": null,
   "id": "984ef5d1",
   "metadata": {},
   "outputs": [],
   "source": [
    "design_range_values = [T_range, x_range]"
   ]
  },
  {
   "cell_type": "code",
   "execution_count": null,
   "id": "e6a01bf5",
   "metadata": {},
   "outputs": [],
   "source": [
    "mbdoe_obj = MBDOE(data_file, model_creation)\n",
    "\n",
    "all_fim = mbdoe_obj.run_grid_search(design_range_values, fixed_models=fixed_model_set, \n",
    "                                    prior_FIM = prior_info, \n",
    "                                    scale_opt=True,\n",
    "                                    scale_pressure=0.000001,\n",
    "                                   store_name=\"PR_quad_543900_scaledBar_pa_scaleopt\")\n",
    "                                    #, record_name=\"SRK_polyTdep\", \n",
    "                                    # init_temp_option=343, \n",
    "                                    # init_pressure_option= 150000,\n",
    "                                    # init_x_c1_option = 0.4,\n",
    "                                    # poly_option=True)\n",
    "\n"
   ]
  },
  {
   "cell_type": "code",
   "execution_count": null,
   "id": "e51fdf86",
   "metadata": {},
   "outputs": [],
   "source": [
    "fixed = {}\n",
    "\n",
    "all_fim.extract_criteria()\n",
    "print(all_fim.store_all_results_dataframe)\n",
    "\n",
    "all_fim.figure_drawing(fixed, ['Temperature','x_R32'], 'PR quadratic','Temperature [K]', 'x (R32)' )\n"
   ]
  },
  {
   "cell_type": "code",
   "execution_count": null,
   "id": "5a9a0e8c",
   "metadata": {},
   "outputs": [],
   "source": []
  }
 ],
 "metadata": {
  "kernelspec": {
   "display_name": "Python 3 (ipykernel)",
   "language": "python",
   "name": "python3"
  },
  "language_info": {
   "codemirror_mode": {
    "name": "ipython",
    "version": 3
   },
   "file_extension": ".py",
   "mimetype": "text/x-python",
   "name": "python",
   "nbconvert_exporter": "python",
   "pygments_lexer": "ipython3",
   "version": "3.7.11"
  }
 },
 "nbformat": 4,
 "nbformat_minor": 5
}
