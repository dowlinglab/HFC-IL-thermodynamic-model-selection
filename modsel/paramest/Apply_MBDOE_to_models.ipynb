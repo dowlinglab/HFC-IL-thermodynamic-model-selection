{
 "cells": [
  {
   "cell_type": "code",
   "execution_count": 1,
   "id": "08bcec6e",
   "metadata": {},
   "outputs": [
    {
     "name": "stdout",
     "output_type": "stream",
     "text": [
      "[    0.00] Initializing mpi-sppy\n"
     ]
    }
   ],
   "source": [
    "from MBDOE import *\n",
    "from generalize_functions import CEOSModels\n"
   ]
  },
  {
   "cell_type": "markdown",
   "id": "e4291a0c",
   "metadata": {},
   "source": [
    "## Choose experiments and model"
   ]
  },
  {
   "cell_type": "code",
   "execution_count": 2,
   "id": "34a97c88",
   "metadata": {},
   "outputs": [],
   "source": [
    "model_option = \"PR\"\n",
    "if_poly = False\n",
    "\n",
    "if model_option==\"PR\":\n",
    "    if not if_poly:\n",
    "        from hfc32_emimtf2n_PR import configuration\n",
    "    else:\n",
    "        from hfc32_emimtf2n_PR_polynomial import configuration\n",
    "        \n",
    "elif model_option==\"SRK\":\n",
    "    if not if_poly:\n",
    "        from hfc32_emimtf2n_SRK import configuration\n",
    "    else:\n",
    "        from hfc32_emimtf2n_SRK_polynomial import configuration\n",
    "        "
   ]
  },
  {
   "cell_type": "code",
   "execution_count": 3,
   "id": "e1f87bf2",
   "metadata": {},
   "outputs": [],
   "source": [
    "# Experiments \n",
    "data_file = './emimtf2n/R32/Final_Results/MBDoE/r32_emimtf2n_subset.csv'\n",
    "\n",
    "path = './emimtf2n/R32/Final_Results/MBDoE/Params/'\n",
    "\n",
    "# Decide on model \n",
    "#para_file = path + 'PR_params_1param_Opt1.csv'\n",
    "#PR_type_opt = \"1Param_Opt1\"\n",
    "\n",
    "#para_file = path + 'PR_params_1param_Opt2.csv'\n",
    "#PR_type_opt = \"1Param_Opt2\"\n",
    "\n",
    "#para_file = path + 'PR_params_1param_Opt2_GF.csv'\n",
    "#PR_type_opt = \"1Param_Opt2\"\n",
    "\n",
    "#para_file = path + 'PR_params_3params_Opt1.csv'\n",
    "#PR_type_opt = \"3Params_Opt1\"\n",
    "\n",
    "#para_file = path + 'PR_params_3params_Opt2.csv'\n",
    "#PR_type_opt = \"3Params_Opt2\"\n",
    "\n",
    "#para_file = path + 'PR_params_linTdep.csv'\n",
    "#PR_type_opt = \"Linear\"\n",
    "\n",
    "#para_file = path + 'PR_params_noTdep.csv'\n",
    "#PR_type_opt = \"No\"\n",
    "\n",
    "#para_file = path + 'PR_params_polyTdep.csv'\n",
    "#PR_type_opt = \"Polynomial\"\n",
    "\n",
    "# important model\n",
    "para_file = path + 'PR_params_quadTdep.csv'\n",
    "PR_type_opt = \"Quadratic\"\n",
    "\n",
    "#para_file = path + 'SRK_params_1param_Opt1.csv'\n",
    "#PR_type_opt = \"1Param_Opt1\"\n",
    "\n",
    "#para_file = path + 'SRK_params_1param_Opt2.csv'\n",
    "#PR_type_opt = \"1Param_Opt2\"\n",
    "\n",
    "#para_file = path + 'SRK_params_3params_Opt1.csv'\n",
    "#PR_type_opt = \"3Params_Opt1\"\n",
    "\n",
    "#para_file = path + 'SRK_params_3params_Opt2.csv'\n",
    "#PR_type_opt = \"3Params_Opt2\"\n",
    "\n",
    "#para_file = path + 'SRK_params_linTdep.csv'\n",
    "#PR_type_opt = \"Linear\"\n",
    "\n",
    "#para_file = path + 'SRK_params_noTdep.csv'\n",
    "#PR_type_opt = \"No\"\n",
    "\n",
    "\n",
    "#para_file = path + 'SRK_params_polyTdep.csv'\n",
    "#PR_type_opt = \"Polynomial\"\n",
    "\n",
    "#para_file = path + 'SRK_params_quadTdep.csv'\n",
    "#PR_type_opt = \"Quadratic\"\n",
    "\n",
    "\n",
    "\n",
    "model_creation = CEOSModels(para_file, configuration, \n",
    "                         comp_1= \"R32\", comp_2 = \"emimTf2N\", \n",
    "                         x_comp_1=\"x_R32\", x_comp_2=\"x_emimTf2N\",  Model_type = model_option, Tdep_type=PR_type_opt)"
   ]
  },
  {
   "cell_type": "markdown",
   "id": "c8d7e9af",
   "metadata": {},
   "source": [
    "## Run pyomo.doe"
   ]
  },
  {
   "cell_type": "code",
   "execution_count": null,
   "id": "a3da3439",
   "metadata": {},
   "outputs": [],
   "source": [
    "data_exp = pd.read_csv(data_file)\n",
    "print(len(data_exp))"
   ]
  },
  {
   "cell_type": "code",
   "execution_count": null,
   "id": "73def0cf",
   "metadata": {},
   "outputs": [],
   "source": [
    "print(model_creation.param_name_dict)"
   ]
  },
  {
   "cell_type": "code",
   "execution_count": null,
   "id": "3852400b",
   "metadata": {
    "scrolled": true
   },
   "outputs": [],
   "source": [
    "mbdoe_obj = MBDOE(data_file, model_creation)\n",
    "\n",
    "exp_set = range(len(data_exp))\n",
    "#exp_set = range(12)\n",
    "#exp_set = [0,1,2,3]\n",
    "\n",
    "#exp_set = 0\n",
    "# init_T: 283-348; 323 is good; init_pressure: low mole fraction use 150000; high 399800; x_option: 0.4-0.6;0.3-0.55;\n",
    "# SRK: init_temp_option=323, init_pressure_option= 399800, init_x_c1_option = 0.5\n",
    "\n",
    "total_fim = mbdoe_obj.sumDOE(exp_set, scale_opt=True, record_name=\"SRK_polyTdep\", \n",
    "                             init_temp_option=343, \n",
    "                             init_pressure_option= 150000,\n",
    "                             init_x_c1_option = 0.4,\n",
    "                             poly_option=True)\n",
    "#total_fim = mbdoe_obj.doe(exp_set, scale=True)"
   ]
  },
  {
   "cell_type": "code",
   "execution_count": null,
   "id": "93f586ef",
   "metadata": {},
   "outputs": [],
   "source": [
    "print(total_fim)\n",
    "print(np.linalg.det(total_fim))\n",
    "print(np.trace(total_fim))\n",
    "print(np.linalg.eigvals(total_fim))"
   ]
  },
  {
   "cell_type": "markdown",
   "id": "55b79fc2",
   "metadata": {},
   "source": [
    "## Heatmap"
   ]
  },
  {
   "cell_type": "code",
   "execution_count": null,
   "id": "f06cedab",
   "metadata": {},
   "outputs": [],
   "source": []
  },
  {
   "cell_type": "code",
   "execution_count": null,
   "id": "d5ff6c6d",
   "metadata": {},
   "outputs": [],
   "source": []
  }
 ],
 "metadata": {
  "kernelspec": {
   "display_name": "Python 3 (ipykernel)",
   "language": "python",
   "name": "python3"
  },
  "language_info": {
   "codemirror_mode": {
    "name": "ipython",
    "version": 3
   },
   "file_extension": ".py",
   "mimetype": "text/x-python",
   "name": "python",
   "nbconvert_exporter": "python",
   "pygments_lexer": "ipython3",
   "version": "3.7.11"
  }
 },
 "nbformat": 4,
 "nbformat_minor": 5
}
