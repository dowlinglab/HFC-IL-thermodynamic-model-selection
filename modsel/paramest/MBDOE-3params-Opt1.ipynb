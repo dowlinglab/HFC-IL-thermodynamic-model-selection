{
 "cells": [
  {
   "cell_type": "code",
   "execution_count": 1,
   "id": "c40770fe",
   "metadata": {},
   "outputs": [
    {
     "name": "stdout",
     "output_type": "stream",
     "text": [
      "[    0.00] Initializing mpi-sppy\n"
     ]
    }
   ],
   "source": [
    "import matplotlib.pyplot as plt\n",
    "import numpy as np\n",
    "import pandas as pd \n",
    "import idaes\n",
    "import scipy.stats as stats\n",
    "from fim_doe import *"
   ]
  },
  {
   "cell_type": "code",
   "execution_count": 2,
   "id": "5e5a9fba",
   "metadata": {},
   "outputs": [],
   "source": [
    "from idaes.core import FlowsheetBlock\n",
    "import idaes.logger as idaeslog\n",
    "# Import the Generic Parameter Block\n",
    "from idaes.generic_models.properties.core.generic.generic_property import (\n",
    "        GenericParameterBlock)\n",
    "# Import unit models from the model library\n",
    "from idaes.generic_models.unit_models import Flash\n",
    "# Import degrees of freedom tool\n",
    "from idaes.core.util.model_statistics import degrees_of_freedom\n",
    "\n",
    "# Import configuration\n",
    "#from hfc32_emimtf2n_PR import configuration "
   ]
  },
  {
   "cell_type": "code",
   "execution_count": 3,
   "id": "05307478",
   "metadata": {},
   "outputs": [],
   "source": [
    "from hfc32_emimtf2n_PR import configuration "
   ]
  },
  {
   "cell_type": "code",
   "execution_count": 4,
   "id": "e3aaa49f",
   "metadata": {},
   "outputs": [],
   "source": [
    "from generalize_functions import PRModels"
   ]
  },
  {
   "cell_type": "markdown",
   "id": "db4312d8",
   "metadata": {},
   "source": [
    "### import models"
   ]
  },
  {
   "cell_type": "code",
   "execution_count": 5,
   "id": "21875633",
   "metadata": {},
   "outputs": [
    {
     "data": {
      "text/html": [
       "<div>\n",
       "<style scoped>\n",
       "    .dataframe tbody tr th:only-of-type {\n",
       "        vertical-align: middle;\n",
       "    }\n",
       "\n",
       "    .dataframe tbody tr th {\n",
       "        vertical-align: top;\n",
       "    }\n",
       "\n",
       "    .dataframe thead th {\n",
       "        text-align: right;\n",
       "    }\n",
       "</style>\n",
       "<table border=\"1\" class=\"dataframe\">\n",
       "  <thead>\n",
       "    <tr style=\"text-align: right;\">\n",
       "      <th></th>\n",
       "      <th>temperature</th>\n",
       "      <th>pressure</th>\n",
       "      <th>x_R32</th>\n",
       "      <th>x_emimTf2N</th>\n",
       "    </tr>\n",
       "  </thead>\n",
       "  <tbody>\n",
       "    <tr>\n",
       "      <th>0</th>\n",
       "      <td>283.15</td>\n",
       "      <td>100100</td>\n",
       "      <td>0.136</td>\n",
       "      <td>0.864</td>\n",
       "    </tr>\n",
       "    <tr>\n",
       "      <th>1</th>\n",
       "      <td>283.15</td>\n",
       "      <td>250300</td>\n",
       "      <td>0.306</td>\n",
       "      <td>0.694</td>\n",
       "    </tr>\n",
       "    <tr>\n",
       "      <th>2</th>\n",
       "      <td>283.15</td>\n",
       "      <td>399300</td>\n",
       "      <td>0.448</td>\n",
       "      <td>0.552</td>\n",
       "    </tr>\n",
       "    <tr>\n",
       "      <th>3</th>\n",
       "      <td>283.15</td>\n",
       "      <td>549300</td>\n",
       "      <td>0.570</td>\n",
       "      <td>0.430</td>\n",
       "    </tr>\n",
       "    <tr>\n",
       "      <th>4</th>\n",
       "      <td>283.15</td>\n",
       "      <td>700400</td>\n",
       "      <td>0.672</td>\n",
       "      <td>0.328</td>\n",
       "    </tr>\n",
       "  </tbody>\n",
       "</table>\n",
       "</div>"
      ],
      "text/plain": [
       "   temperature  pressure  x_R32  x_emimTf2N\n",
       "0       283.15    100100  0.136       0.864\n",
       "1       283.15    250300  0.306       0.694\n",
       "2       283.15    399300  0.448       0.552\n",
       "3       283.15    549300  0.570       0.430\n",
       "4       283.15    700400  0.672       0.328"
      ]
     },
     "execution_count": 5,
     "metadata": {},
     "output_type": "execute_result"
    }
   ],
   "source": [
    "# Model design variables \n",
    "data_exp = pd.read_csv('./emimtf2n/R32/Final_Results/MBDoE/r32_emimtf2n_subset.csv')\n",
    "\n",
    "data_exp.head()"
   ]
  },
  {
   "cell_type": "code",
   "execution_count": 6,
   "id": "0c90ec4c",
   "metadata": {},
   "outputs": [
    {
     "name": "stdout",
     "output_type": "stream",
     "text": [
      "0.306\n"
     ]
    }
   ],
   "source": [
    "print(data_exp.iloc[1]['x_R32'])"
   ]
  },
  {
   "cell_type": "code",
   "execution_count": 7,
   "id": "0b0f7b6d",
   "metadata": {},
   "outputs": [
    {
     "name": "stdout",
     "output_type": "stream",
     "text": [
      "[0.05611526243688785, -0.11697708014458684, -0.09822244994811687, 0.0, 0.0, 0.0, 0.0, 0.0]\n"
     ]
    }
   ],
   "source": [
    "# Model params\n",
    "params = pd.read_csv('./emimtf2n/R32/Final_Results/MBDoE/Params/PR_params_3params_Opt1.csv',header=None)\n",
    "\n",
    "# 3 parameters, kappa A [comp1, comp2], kappa A [comp2, comp1], kappaB [comp1, comp2]\n",
    "params_list = list(params[0])\n",
    "print(params_list)"
   ]
  },
  {
   "cell_type": "code",
   "execution_count": 9,
   "id": "96d0a045",
   "metadata": {
    "scrolled": false
   },
   "outputs": [
    {
     "name": "stdout",
     "output_type": "stream",
     "text": [
      "0.05611526243688785\n",
      "2022-10-11 11:52:42 [INFO] idaes.init.fs.state_block: Property package initialization: optimal - Optimal Solution Found.\n"
     ]
    }
   ],
   "source": [
    "\n",
    "model_creation = PRModels(params_list, configuration, \n",
    "                         comp_1= \"R32\", comp_2 = \"emimTf2N\", \n",
    "                         x_comp_1=\"x_R32\", x_comp_2=\"x_emimTf2N\")\n",
    "\n",
    "print(model_creation.PR_kappa_A_comp_1_comp_2)\n",
    "\n",
    "mod = model_creation.create_model(data_exp.iloc[1])"
   ]
  },
  {
   "cell_type": "markdown",
   "id": "0c788a3b",
   "metadata": {},
   "source": [
    "## Use Pyomo.DOE"
   ]
  },
  {
   "cell_type": "code",
   "execution_count": 10,
   "id": "69b70cbb",
   "metadata": {},
   "outputs": [
    {
     "name": "stdout",
     "output_type": "stream",
     "text": [
      "All measurements are flattened.\n",
      "Flatten measurement name: ['fs.state_block.pressure']\n"
     ]
    }
   ],
   "source": [
    "# Create model function\n",
    "# change the data row by changing i here;\n",
    "\n",
    "\n",
    "createmod = mod\n",
    "\n",
    "# Control time set [h]\n",
    "t_control = [0]\n",
    "\n",
    "# design variable and its control time set\n",
    "# (What goes here does not matter because we tell Pyomo.DOE that it does not need to fix design variables)\n",
    "dv_pass = {'fs.F101.inlet.temperature': t_control,\n",
    "           'fs.F101.inlet.pressure': t_control,\n",
    "         'fs.F101.inlet.mole_frac_comp[0,\"R32\"]': t_control,\n",
    "          \"fs.F101.inlet.mole_frac_comp[0,'emimTf2N']\":t_control}\n",
    "    \n",
    "# Create measurement object\n",
    "#measure_pass = {'fs.F101.control_volume.properties_out[0.0].pressure': t_control}\n",
    "measure_pass = {'fs.state_block.pressure': t_control}\n",
    "measure_class =  Measurements(measure_pass)\n",
    "\n",
    "\n",
    "# prior information: none\n",
    "prior_pass = [[0]]\n"
   ]
  },
  {
   "cell_type": "code",
   "execution_count": 11,
   "id": "c58eb4fb",
   "metadata": {},
   "outputs": [],
   "source": [
    "# Define parameter nominal value \n",
    "parameter_dict = { 'fs.properties.PR_kappa_A[\"R32\", \"emimTf2N\"]': params[0][0], \n",
    "                    'fs.properties.PR_kappa_A[\"emimTf2N\", \"R32\"]': params[0][1],\n",
    "                  'fs.properties.PR_kappa_B[\"R32\",\"emimTf2N\"]': params[0][2]}\n",
    "\n"
   ]
  },
  {
   "cell_type": "code",
   "execution_count": 12,
   "id": "23eeddee",
   "metadata": {},
   "outputs": [],
   "source": [
    "sensi_opt = 'direct_kaug'\n",
    "    \n",
    "# Define experiments and design variable names \n",
    "# This does not matter for this problem but needed for inputs\n",
    "exp1 = {'fs.F101.inlet.temperature': {0: 1},\n",
    "           'fs.F101.inlet.pressure': {0: 1},\n",
    "         'fs.F101.inlet.mole_frac_comp[0,\"R32\"]': {0: 1},\n",
    "          \"fs.F101.inlet.mole_frac_comp[0,'emimTf2N']\": {0: 1}}\n",
    "\n",
    "design_names = ['model.fs.F101.inlet.temperature[0]', 'model.fs.F101.inlet.pressure[0]',\n",
    "                'model.fs.F101.inlet.mole_frac_comp[0,\"R32\"]', 'fs.F101.inlet.mole_frac_comp[0,\"emimTf2N\"]']"
   ]
  },
  {
   "cell_type": "code",
   "execution_count": 13,
   "id": "5852e2cd",
   "metadata": {
    "scrolled": true
   },
   "outputs": [
    {
     "name": "stdout",
     "output_type": "stream",
     "text": [
      "Sensitivity information is scaled by its corresponding parameter nominal value.\n",
      "After practice: {'fs.state_block.pressure': [0]}\n",
      "Ipopt 3.13.2: linear_solver=ma57\n",
      "halt_on_ampl_error=yes\n",
      "max_iter=3000\n",
      "\n",
      "\n",
      "******************************************************************************\n",
      "This program contains Ipopt, a library for large-scale nonlinear optimization.\n",
      " Ipopt is released as open source code under the Eclipse Public License (EPL).\n",
      "         For more information visit http://projects.coin-or.org/Ipopt\n",
      "\n",
      "This version of Ipopt was compiled from source code available at\n",
      "    https://github.com/IDAES/Ipopt as part of the Institute for the Design of\n",
      "    Advanced Energy Systems Process Systems Engineering Framework (IDAES PSE\n",
      "    Framework) Copyright (c) 2018-2019. See https://github.com/IDAES/idaes-pse.\n",
      "\n",
      "This version of Ipopt was compiled using HSL, a collection of Fortran codes\n",
      "    for large-scale scientific computation.  All technical papers, sales and\n",
      "    publicity material resulting from use of the HSL codes within IPOPT must\n",
      "    contain the following acknowledgement:\n",
      "        HSL, a collection of Fortran codes for large-scale scientific\n",
      "        computation. See http://www.hsl.rl.ac.uk.\n",
      "******************************************************************************\n",
      "\n",
      "This is Ipopt version 3.13.2, running with linear solver ma57.\n",
      "\n",
      "Number of nonzeros in equality constraint Jacobian...:       26\n",
      "Number of nonzeros in inequality constraint Jacobian.:        0\n",
      "Number of nonzeros in Lagrangian Hessian.............:       19\n",
      "\n",
      "Total number of variables............................:       12\n",
      "                     variables with only lower bounds:        4\n",
      "                variables with lower and upper bounds:        6\n",
      "                     variables with only upper bounds:        0\n",
      "Total number of equality constraints.................:       12\n",
      "Total number of inequality constraints...............:        0\n",
      "        inequality constraints with only lower bounds:        0\n",
      "   inequality constraints with lower and upper bounds:        0\n",
      "        inequality constraints with only upper bounds:        0\n",
      "\n",
      "iter    objective    inf_pr   inf_du lg(mu)  ||d||  lg(rg) alpha_du alpha_pr  ls\n",
      "   0  0.0000000e+00 3.68e-02 1.00e+00  -1.0 0.00e+00    -  0.00e+00 0.00e+00   0\n",
      "Reallocating memory for MA57: lfact (443)\n",
      "   1  0.0000000e+00 1.26e-03 5.95e+01  -1.0 7.20e+03    -  9.62e-01 9.77e-01h  1\n",
      "   2  0.0000000e+00 2.66e-03 1.68e+00  -1.0 2.93e+02    -  9.89e-01 9.90e-01H  1\n",
      "   3  0.0000000e+00 1.33e-03 3.98e+02  -1.0 7.90e+01    -  9.90e-01 9.94e-01h  1\n",
      "   4  0.0000000e+00 5.74e-04 6.14e+04  -1.0 1.20e+02    -  9.90e-01 1.00e+00h  1\n",
      "   5  0.0000000e+00 1.78e-04 5.51e+04  -1.0 1.55e+02    -  9.90e-01 1.00e+00h  1\n",
      "   6  0.0000000e+00 2.14e-05 7.74e-02  -1.0 9.64e+01    -  1.00e+00 1.00e+00h  1\n",
      "   7  0.0000000e+00 3.17e-07 4.07e+02  -5.7 1.48e+01    -  1.00e+00 1.00e+00h  1\n",
      "   8  0.0000000e+00 6.99e-11 1.01e-06  -5.7 2.26e-01    -  1.00e+00 1.00e+00h  1\n",
      "\n",
      "Number of Iterations....: 8\n",
      "\n",
      "                                   (scaled)                 (unscaled)\n",
      "Objective...............:   0.0000000000000000e+00    0.0000000000000000e+00\n",
      "Dual infeasibility......:   0.0000000000000000e+00    0.0000000000000000e+00\n",
      "Constraint violation....:   6.9945826908224262e-11    6.9945826908224262e-11\n",
      "Complementarity.........:   0.0000000000000000e+00    0.0000000000000000e+00\n",
      "Overall NLP error.......:   6.9945826908224262e-11    6.9945826908224262e-11\n",
      "\n",
      "\n",
      "Number of objective function evaluations             = 10\n",
      "Number of objective gradient evaluations             = 9\n",
      "Number of equality constraint evaluations            = 10\n",
      "Number of inequality constraint evaluations          = 0\n",
      "Number of equality constraint Jacobian evaluations   = 9\n",
      "Number of inequality constraint Jacobian evaluations = 0\n",
      "Number of Lagrangian Hessian evaluations             = 8\n",
      "Total CPU secs in IPOPT (w/o function evaluations)   =      0.000\n",
      "Total CPU secs in NLP function evaluations           =      0.000\n",
      "\n",
      "EXIT: Optimal Solution Found.\n",
      "W[K_AUG]...\t[K_AUG_ASL]No n_rhs declared.\n",
      "W[K_AUG]...\t[K_AUG_ASL]Target log10mu:= -11.\n",
      "W[K_AUG]...\t[K_AUG_ASL]This problem has no degrees of freedom\n",
      "Pass the option square_override for the desired behaviour\n",
      "[K_AUG] 0.1.0, Part of the IDAES PSE framework\n",
      "Please visit https://idaes.org/\n",
      ": dsdp_mode=\n",
      "dsdp_mode=\n",
      "W[K_AUG_ASL]...\t[K_AUG_ASL]No ipopt_zL_in suffix declared, setting zL = 0.\n",
      "W[K_AUG_ASL]...\t[K_AUG_ASL]No ipopt_zU_in suffix declared, setting zU = 0.\n",
      "W[K_AUG]...\t[K_AUG_ASL]No f_timestamp suffix declared, Fallback to default writing mode.\n",
      "I[K_AUG]...\t[K_AUG_ASL] Filename for dot_sens dsdp_in_.in\n",
      "W[K_AUG]...\t[K_AUG_ASL]dsdp for linear C(x) + I*p = 0 override.\n",
      "E[K_AUG]...\t[SIGMA_COMPUTE]is x[0] = xlb?\n",
      "E[K_AUG]...\t[SIGMA_COMPUTE]is x[0] = xlb?\n",
      "E[K_AUG]...\t[SIGMA_COMPUTE]is x[1] = xlb?\n",
      "E[K_AUG]...\t[SIGMA_COMPUTE]is x[1] = xlb?\n",
      "E[K_AUG]...\t[SIGMA_COMPUTE]is x[2] = xlb?\n",
      "E[K_AUG]...\t[SIGMA_COMPUTE]is x[2] = xlb?\n",
      "E[K_AUG]...\t[SIGMA_COMPUTE]Unresolved sigma values, is the mu computation successful? or is this a square problem?\n",
      "Check the sigma_out file with the PRINT_VERBOSE (cmake) option set to 0\n",
      "W[K_AUG]...\t[MA57_DRIVER]\n",
      "\n",
      "\t\tCould not fix the accuracy of the problem.\n",
      "\t\tTry re-writing the problem or give a different point or change \"max_refinement_steps\"\n",
      "\t\tWarning: results might be incorrect.\n",
      "\t\tCurrent residual ratio 0.440601; Max residual ratio 1e-10.\n",
      "\n",
      "I[K_AUG]...\t[K_AUG_ASL]File read successfully.\n",
      "I[K_AUG]...\t[K_AUG_ASL]Number of Right hand sides: 0\n",
      "I[K_AUG]...\t[K_AUG_ASL]Number of variables       : 15\n",
      "I[K_AUG]...\t[K_AUG_ASL]Number of constraints     : 15\n",
      "I[K_AUG]...\t[K_AUG_ASL]Number of valid n_dof     : 0\n",
      "I[K_AUG]...\t[ADJUST_MU]\tWarning strict complementarity (lb) is not within tol for var:0\n",
      "I[K_AUG]...\t[ADJUST_MU]\tWarning strict complementarity (lb) is not within tol for var:1\n",
      "I[K_AUG]...\t[ADJUST_MU]\tWarning strict complementarity (lb) is not within tol for var:2\n",
      "I[K_AUG]...\t[ADJUST_MU]\tWarning no relevant info from the problem can predict logmu\n",
      "I[K_AUG]...\t[FIND_INEQUALITIES]summary: eq: 15, leq: 0, geq: 0 \n",
      "I[K_AUG]...\t[K_AUG_ASL]Nonzeroes in the sparse Jacobian 35\n",
      "I[K_AUG]...\t[GET_HESS_ASL]Objective found\n",
      "I[K_AUG]...\t[GET_HESS_ASL]Nonzeroes in the sparse hessian 43\n",
      "I[K_AUG]...\t[GET_HESS_ASL]Minimization problem detected\n",
      "I[K_AUG]...\t[GET_HESS_ASL]Current objective 0.000000\n",
      "I[K_AUG]...\t[GET_HESS_ASL]Missing nz in the Hessian of the Lag: 5\n",
      "I[K_AUG]...\t[K_AUG_ASL]Barrier term added.\n",
      "I[K_AUG]...\t[K_AUG_ASL]MC19 scaling...\n",
      "I[K_AUG]...\t[ASSM_RHS_DCDP]According to the suffixes declared len p is 3 \n",
      "I[MA57]...\t[]***\n",
      "I[MA57]...\t[ma57bd_]ma57ad_: Status Ok.\n",
      "I[MA57]...\t[MA57_FACTOR]\n",
      "I[K_AUG]...\t[MA57_FACTOR]n_neig = 15\n",
      "I[K_AUG]...\t[INERTIA_STRATEGY]Inertia check successful.\n",
      "I[MA57]...\t[Factorize Success.]***\n",
      "I[MA57]...\t[MA57_RATIO]\n",
      "I[K_AUG]...\t[MA57_SOLVE]: Ratio of norm of scaled residuals (reported); 4.406009e-01 \n",
      "I[K_AUG]...\t[MA57_SOLVE]: The norm of residuals is larger than max ratio(computed)\n",
      "I[K_AUG]...\t[MA57_SOLVE]: Attempting to reduce residuals\n",
      "\n",
      "W[K_AUG]...\t[MA57_SOLVE]Attempting to make dc > 0. (Jacobian regularization)\n",
      "I[K_AUG]...\t[INERTIA_STRATEGY]Inertia check successful.\n",
      "I[MA57]...\t[MA57_FACTOR]\n",
      "W[MA57]...\t[MA57_FACTOR]always_pert_jacobian is on before fact\n",
      "I[K_AUG]...\t[MA57_FACTOR]n_neig = 15\n",
      "I[K_AUG]...\t[INERTIA_STRATEGY]Inertia check successful.\n",
      "I[MA57]...\t[MA57_RATIO]\n",
      "I[K_AUG]...\t[MA57_SOLVE]Accuracy improvement tries 0, Trial pivtol 1e-06, Residual ratio 0.4406008523775571.\n",
      "I[K_AUG]...\t[MA57_SOLVE]Accuracy is not improving.\n",
      "\n",
      "W[K_AUG]...\t[MA57_DRIVER]Inertia check OK neig=15, (neig == m).\n",
      "I[K_AUG]...\t[K_AUG_ASL]Linear solver done. \n",
      "I[K_AUG]...\t[K_AUG_ASL]Timings..Ev&Assem 0.004173, Fact 0.004431, Overall 0.004563.\n",
      "name: fs.state_block.pressure\n",
      "Build time with direct kaug mode [s]: 4.76837158203125e-07\n",
      "Solve time with direct kaug mode [s]: 0.5562481880187988\n",
      "Total wall clock time [s]: 0.5591349601745605\n",
      "Existed information has been added.\n",
      "Warning: FIM is near singular.\n",
      "The condition number is: 4.66703062190798e+19 ;\n",
      "A condition number bigger than  1000000000000.0  is considered near singular.\n",
      "FIM: [[ 1.54356448e+10 -1.58012030e+09  2.56999052e+10]\n",
      " [-1.58012030e+09  1.61754186e+08 -2.63085491e+09]\n",
      " [ 2.56999052e+10 -2.63085491e+09  4.27896040e+10]]\n",
      "Trace: 58387002975.08373\n",
      "Determinant: -0.0006393330080826302\n",
      "Condition number: -2.879225464280423e+16\n",
      "Minimal eigen value: -2.0278718599648067e-06\n",
      "Eigen values: [ 5.83870030e+10  4.83255379e-06 -2.02787186e-06]\n",
      "Eigen vectors: [[ 0.51416712  0.58839384 -0.3093394 ]\n",
      " [-0.0526344   0.74785608  0.91955707]\n",
      " [ 0.85607348 -0.30741498  0.24233023]]\n"
     ]
    }
   ],
   "source": [
    "\n",
    "# create object\n",
    "doe_object = DesignOfExperiments(parameter_dict, dv_pass,\n",
    "                                 measure_class, createmod,\n",
    "                                prior_FIM=prior_pass,fixed=True)\n",
    "\n",
    "\n",
    "# compute FIM for a square MBDOE problem\n",
    "# Note that I did not scale the Jacobian \n",
    "result = doe_object.compute_FIM(exp1,mode=sensi_opt, FIM_store_name = 'dynamic.csv', \n",
    "                                scale_nominal_param_value=True, \n",
    "                                store_output = 'store_output', read_output=None,\n",
    "                                formula='central')\n",
    "\n",
    "# calculate FIM \n",
    "result.calculate_FIM(doe_object.design_values)\n"
   ]
  },
  {
   "cell_type": "markdown",
   "id": "3c36a451",
   "metadata": {},
   "source": [
    "### Information from k_aug\n",
    "\n",
    "You could print out \"raw\" information from k_aug (not necessarily). You can find the Jacobian information for the measurement (pressure) in one line."
   ]
  },
  {
   "cell_type": "code",
   "execution_count": null,
   "id": "b853f621",
   "metadata": {},
   "outputs": [],
   "source": [
    "for _ in range(len(doe_object.dsdp_col)):\n",
    "    print('Variable component:', doe_object.dsdp_col[_])\n",
    "    print('Gradients:', doe_object.dsdp_array[_])"
   ]
  },
  {
   "cell_type": "markdown",
   "id": "e2e754bb",
   "metadata": {},
   "source": [
    "### Jacobian matrix and FIM"
   ]
  },
  {
   "cell_type": "code",
   "execution_count": 14,
   "id": "d5fa6b53",
   "metadata": {
    "scrolled": true
   },
   "outputs": [
    {
     "name": "stdout",
     "output_type": "stream",
     "text": [
      "{'fs.properties.PR_kappa_A[\"R32\", \"emimTf2N\"]': [124240.27056312615], 'fs.properties.PR_kappa_A[\"emimTf2N\", \"R32\"]': [-12718.26189439893], 'fs.properties.PR_kappa_B[\"R32\",\"emimTf2N\"]': [206856.48155151054]}\n",
      "[[ 1.54356448e+10 -1.58012030e+09  2.56999052e+10]\n",
      " [-1.58012030e+09  1.61754186e+08 -2.63085491e+09]\n",
      " [ 2.56999052e+10 -2.63085491e+09  4.27896040e+10]]\n"
     ]
    }
   ],
   "source": [
    "print(result.jaco_information)\n",
    "print(result.FIM)"
   ]
  },
  {
   "cell_type": "code",
   "execution_count": 15,
   "id": "a2f0a6e1",
   "metadata": {
    "scrolled": true
   },
   "outputs": [
    {
     "name": "stdout",
     "output_type": "stream",
     "text": [
      "======Result summary======\n",
      "Four design criteria log10() value:\n",
      "A-optimality: 10.766316183338489\n",
      "D-optimality: nan\n",
      "E-optimality: nan\n",
      "Modified E-optimality: nan\n"
     ]
    },
    {
     "name": "stderr",
     "output_type": "stream",
     "text": [
      "/home/parallels/anaconda3/envs/pyomo/lib/python3.7/site-packages/ipykernel_launcher.py:4: RuntimeWarning: invalid value encountered in log10\n",
      "  after removing the cwd from sys.path.\n",
      "/home/parallels/anaconda3/envs/pyomo/lib/python3.7/site-packages/ipykernel_launcher.py:5: RuntimeWarning: invalid value encountered in log10\n",
      "  \"\"\"\n",
      "/home/parallels/anaconda3/envs/pyomo/lib/python3.7/site-packages/ipykernel_launcher.py:6: RuntimeWarning: invalid value encountered in log10\n",
      "  \n"
     ]
    }
   ],
   "source": [
    "print('======Result summary======')\n",
    "print('Four design criteria log10() value:')\n",
    "print('A-optimality:', np.log10(result.trace))\n",
    "print('D-optimality:', np.log10(result.det))\n",
    "print('E-optimality:', np.log10(result.min_eig))\n",
    "print('Modified E-optimality:', np.log10(result.cond))"
   ]
  },
  {
   "cell_type": "code",
   "execution_count": null,
   "id": "55e4dc97",
   "metadata": {},
   "outputs": [],
   "source": []
  }
 ],
 "metadata": {
  "kernelspec": {
   "display_name": "Python 3 (ipykernel)",
   "language": "python",
   "name": "python3"
  },
  "language_info": {
   "codemirror_mode": {
    "name": "ipython",
    "version": 3
   },
   "file_extension": ".py",
   "mimetype": "text/x-python",
   "name": "python",
   "nbconvert_exporter": "python",
   "pygments_lexer": "ipython3",
   "version": "3.9.9"
  }
 },
 "nbformat": 4,
 "nbformat_minor": 5
}
