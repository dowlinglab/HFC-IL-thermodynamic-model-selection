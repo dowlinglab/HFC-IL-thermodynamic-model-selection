{
 "cells": [
  {
   "cell_type": "code",
   "execution_count": 1,
   "id": "c40770fe",
   "metadata": {},
   "outputs": [
    {
     "name": "stdout",
     "output_type": "stream",
     "text": [
      "[    0.00] Initializing mpi-sppy\n"
     ]
    }
   ],
   "source": [
    "import matplotlib.pyplot as plt\n",
    "import numpy as np\n",
    "import pandas as pd \n",
    "import idaes\n",
    "import scipy.stats as stats\n",
    "from fim_doe import *"
   ]
  },
  {
   "cell_type": "code",
   "execution_count": 2,
   "id": "5e5a9fba",
   "metadata": {},
   "outputs": [],
   "source": [
    "from idaes.core import FlowsheetBlock\n",
    "import idaes.logger as idaeslog\n",
    "# Import the Generic Parameter Block\n",
    "from idaes.generic_models.properties.core.generic.generic_property import (\n",
    "        GenericParameterBlock)\n",
    "# Import unit models from the model library\n",
    "from idaes.generic_models.unit_models import Flash\n",
    "# Import degrees of freedom tool\n",
    "from idaes.core.util.model_statistics import degrees_of_freedom\n",
    "\n",
    "# Import configuration\n",
    "#from hfc32_emimtf2n_PR import configuration "
   ]
  },
  {
   "cell_type": "code",
   "execution_count": 3,
   "id": "36f946e9",
   "metadata": {},
   "outputs": [],
   "source": [
    "from hfc32_emimtf2n_PR import configuration "
   ]
  },
  {
   "cell_type": "code",
   "execution_count": 4,
   "id": "712a79f0",
   "metadata": {},
   "outputs": [],
   "source": [
    "from generalize_functions import PRModels"
   ]
  },
  {
   "cell_type": "markdown",
   "id": "db4312d8",
   "metadata": {},
   "source": [
    "### import models"
   ]
  },
  {
   "cell_type": "code",
   "execution_count": 5,
   "id": "21875633",
   "metadata": {},
   "outputs": [
    {
     "data": {
      "text/html": [
       "<div>\n",
       "<style scoped>\n",
       "    .dataframe tbody tr th:only-of-type {\n",
       "        vertical-align: middle;\n",
       "    }\n",
       "\n",
       "    .dataframe tbody tr th {\n",
       "        vertical-align: top;\n",
       "    }\n",
       "\n",
       "    .dataframe thead th {\n",
       "        text-align: right;\n",
       "    }\n",
       "</style>\n",
       "<table border=\"1\" class=\"dataframe\">\n",
       "  <thead>\n",
       "    <tr style=\"text-align: right;\">\n",
       "      <th></th>\n",
       "      <th>temperature</th>\n",
       "      <th>pressure</th>\n",
       "      <th>x_R32</th>\n",
       "      <th>x_emimTf2N</th>\n",
       "    </tr>\n",
       "  </thead>\n",
       "  <tbody>\n",
       "    <tr>\n",
       "      <th>0</th>\n",
       "      <td>283.15</td>\n",
       "      <td>100100</td>\n",
       "      <td>0.136</td>\n",
       "      <td>0.864</td>\n",
       "    </tr>\n",
       "    <tr>\n",
       "      <th>1</th>\n",
       "      <td>283.15</td>\n",
       "      <td>250300</td>\n",
       "      <td>0.306</td>\n",
       "      <td>0.694</td>\n",
       "    </tr>\n",
       "    <tr>\n",
       "      <th>2</th>\n",
       "      <td>283.15</td>\n",
       "      <td>399300</td>\n",
       "      <td>0.448</td>\n",
       "      <td>0.552</td>\n",
       "    </tr>\n",
       "    <tr>\n",
       "      <th>3</th>\n",
       "      <td>283.15</td>\n",
       "      <td>549300</td>\n",
       "      <td>0.570</td>\n",
       "      <td>0.430</td>\n",
       "    </tr>\n",
       "    <tr>\n",
       "      <th>4</th>\n",
       "      <td>283.15</td>\n",
       "      <td>700400</td>\n",
       "      <td>0.672</td>\n",
       "      <td>0.328</td>\n",
       "    </tr>\n",
       "  </tbody>\n",
       "</table>\n",
       "</div>"
      ],
      "text/plain": [
       "   temperature  pressure  x_R32  x_emimTf2N\n",
       "0       283.15    100100  0.136       0.864\n",
       "1       283.15    250300  0.306       0.694\n",
       "2       283.15    399300  0.448       0.552\n",
       "3       283.15    549300  0.570       0.430\n",
       "4       283.15    700400  0.672       0.328"
      ]
     },
     "execution_count": 5,
     "metadata": {},
     "output_type": "execute_result"
    }
   ],
   "source": [
    "# Model design variables \n",
    "data_exp = pd.read_csv('./emimtf2n/R32/Final_Results/MBDoE/r32_emimtf2n_subset.csv')\n",
    "\n",
    "data_exp.head()"
   ]
  },
  {
   "cell_type": "code",
   "execution_count": 6,
   "id": "500ddafb",
   "metadata": {},
   "outputs": [
    {
     "name": "stdout",
     "output_type": "stream",
     "text": [
      "0.306\n"
     ]
    }
   ],
   "source": [
    "print(data_exp.iloc[1]['x_R32'])"
   ]
  },
  {
   "cell_type": "code",
   "execution_count": 7,
   "id": "520c2c01",
   "metadata": {},
   "outputs": [
    {
     "name": "stdout",
     "output_type": "stream",
     "text": [
      "0    0.056115\n",
      "1   -0.116977\n",
      "2   -0.098222\n",
      "Name: 0, dtype: float64\n",
      "[-0.11697708014458684, 0.05611526243688785, 0, -0.09822244994811687, 0, 0, 0, 0]\n"
     ]
    }
   ],
   "source": [
    "# Model params\n",
    "params = pd.read_csv('./emimtf2n/R32/Final_Results/MBDoE/Params/PR_params_3params_Opt1.csv',header=None)\n",
    "\n",
    "# 3 parameters, kappa A [comp1, comp2], kappa A [comp2, comp1], kappaB [comp1, comp2]\n",
    "\n",
    "print(params[0])\n",
    "\n",
    "new_params = [params[0][1], params[0][0], 0, params[0][2], 0, 0, 0, 0]\n",
    "print(new_params)"
   ]
  },
  {
   "cell_type": "code",
   "execution_count": 8,
   "id": "4ce5ac31",
   "metadata": {},
   "outputs": [
    {
     "name": "stdout",
     "output_type": "stream",
     "text": [
      "-0.11697708014458684\n"
     ]
    },
    {
     "ename": "AttributeError",
     "evalue": "'_ScalarGenericParameterBlock' object has no attribute 'PR_kappa_D'",
     "output_type": "error",
     "traceback": [
      "\u001b[0;31m---------------------------------------------------------------------------\u001b[0m",
      "\u001b[0;31mAttributeError\u001b[0m                            Traceback (most recent call last)",
      "\u001b[0;32m/tmp/ipykernel_842515/251971107.py\u001b[0m in \u001b[0;36m<module>\u001b[0;34m\u001b[0m\n\u001b[1;32m      5\u001b[0m \u001b[0mprint\u001b[0m\u001b[0;34m(\u001b[0m\u001b[0mmodel_creation\u001b[0m\u001b[0;34m.\u001b[0m\u001b[0mPR_kappa_A_comp_1_comp_2\u001b[0m\u001b[0;34m)\u001b[0m\u001b[0;34m\u001b[0m\u001b[0;34m\u001b[0m\u001b[0m\n\u001b[1;32m      6\u001b[0m \u001b[0;34m\u001b[0m\u001b[0m\n\u001b[0;32m----> 7\u001b[0;31m \u001b[0mmod\u001b[0m \u001b[0;34m=\u001b[0m \u001b[0mmodel_creation\u001b[0m\u001b[0;34m.\u001b[0m\u001b[0mcreate_model\u001b[0m\u001b[0;34m(\u001b[0m\u001b[0mdata_exp\u001b[0m\u001b[0;34m.\u001b[0m\u001b[0miloc\u001b[0m\u001b[0;34m[\u001b[0m\u001b[0;36m1\u001b[0m\u001b[0;34m]\u001b[0m\u001b[0;34m)\u001b[0m\u001b[0;34m\u001b[0m\u001b[0;34m\u001b[0m\u001b[0m\n\u001b[0m",
      "\u001b[0;32m/media/psf/Home/dowlinglab/extractive-distillation2/modsel/paramest/generalize_functions.py\u001b[0m in \u001b[0;36mcreate_model\u001b[0;34m(self, data, eps)\u001b[0m\n\u001b[1;32m     94\u001b[0m         \u001b[0mm\u001b[0m\u001b[0;34m.\u001b[0m\u001b[0mfs\u001b[0m\u001b[0;34m.\u001b[0m\u001b[0mproperties\u001b[0m\u001b[0;34m.\u001b[0m\u001b[0mPR_kappa_C\u001b[0m\u001b[0;34m[\u001b[0m\u001b[0mself\u001b[0m\u001b[0;34m.\u001b[0m\u001b[0mcomp_1\u001b[0m\u001b[0;34m,\u001b[0m \u001b[0mself\u001b[0m\u001b[0;34m.\u001b[0m\u001b[0mcomp_1\u001b[0m\u001b[0;34m]\u001b[0m\u001b[0;34m.\u001b[0m\u001b[0mfix\u001b[0m\u001b[0;34m(\u001b[0m\u001b[0;36m0\u001b[0m\u001b[0;34m)\u001b[0m\u001b[0;34m\u001b[0m\u001b[0;34m\u001b[0m\u001b[0m\n\u001b[1;32m     95\u001b[0m         \u001b[0mm\u001b[0m\u001b[0;34m.\u001b[0m\u001b[0mfs\u001b[0m\u001b[0;34m.\u001b[0m\u001b[0mproperties\u001b[0m\u001b[0;34m.\u001b[0m\u001b[0mPR_kappa_C\u001b[0m\u001b[0;34m[\u001b[0m\u001b[0mself\u001b[0m\u001b[0;34m.\u001b[0m\u001b[0mcomp_1\u001b[0m\u001b[0;34m,\u001b[0m \u001b[0mself\u001b[0m\u001b[0;34m.\u001b[0m\u001b[0mcomp_2\u001b[0m\u001b[0;34m]\u001b[0m\u001b[0;34m.\u001b[0m\u001b[0mfix\u001b[0m\u001b[0;34m(\u001b[0m\u001b[0mself\u001b[0m\u001b[0;34m.\u001b[0m\u001b[0mPR_kappa_C_comp_1_comp_2\u001b[0m\u001b[0;34m)\u001b[0m\u001b[0;34m\u001b[0m\u001b[0;34m\u001b[0m\u001b[0m\n\u001b[0;32m---> 96\u001b[0;31m         \u001b[0mm\u001b[0m\u001b[0;34m.\u001b[0m\u001b[0mfs\u001b[0m\u001b[0;34m.\u001b[0m\u001b[0mproperties\u001b[0m\u001b[0;34m.\u001b[0m\u001b[0mPR_kappa_D\u001b[0m\u001b[0;34m[\u001b[0m\u001b[0mself\u001b[0m\u001b[0;34m.\u001b[0m\u001b[0mcomp_2\u001b[0m\u001b[0;34m,\u001b[0m \u001b[0mself\u001b[0m\u001b[0;34m.\u001b[0m\u001b[0mcomp_2\u001b[0m\u001b[0;34m]\u001b[0m\u001b[0;34m.\u001b[0m\u001b[0mfix\u001b[0m\u001b[0;34m(\u001b[0m\u001b[0;36m0\u001b[0m\u001b[0;34m)\u001b[0m\u001b[0;34m\u001b[0m\u001b[0;34m\u001b[0m\u001b[0m\n\u001b[0m\u001b[1;32m     97\u001b[0m         \u001b[0mm\u001b[0m\u001b[0;34m.\u001b[0m\u001b[0mfs\u001b[0m\u001b[0;34m.\u001b[0m\u001b[0mproperties\u001b[0m\u001b[0;34m.\u001b[0m\u001b[0mPR_kappa_D\u001b[0m\u001b[0;34m[\u001b[0m\u001b[0mself\u001b[0m\u001b[0;34m.\u001b[0m\u001b[0mcomp_2\u001b[0m\u001b[0;34m,\u001b[0m \u001b[0mself\u001b[0m\u001b[0;34m.\u001b[0m\u001b[0mcomp_1\u001b[0m\u001b[0;34m]\u001b[0m\u001b[0;34m.\u001b[0m\u001b[0mfix\u001b[0m\u001b[0;34m(\u001b[0m\u001b[0;36m0\u001b[0m\u001b[0;34m)\u001b[0m\u001b[0;34m\u001b[0m\u001b[0;34m\u001b[0m\u001b[0m\n\u001b[1;32m     98\u001b[0m         \u001b[0;31m#m.fs.properties.PR_kappa_D[self.comp_2, self.comp_1].fix(self.PR_kappa_D_comp_2_comp_1)\u001b[0m\u001b[0;34m\u001b[0m\u001b[0;34m\u001b[0m\u001b[0;34m\u001b[0m\u001b[0m\n",
      "\u001b[0;32m~/anaconda3/envs/pyomo/lib/python3.7/site-packages/pyomo/core/base/block.py\u001b[0m in \u001b[0;36m__getattr__\u001b[0;34m(self, val)\u001b[0m\n\u001b[1;32m    520\u001b[0m         \u001b[0;31m# throw the \"normal\" AttributeError\u001b[0m\u001b[0;34m\u001b[0m\u001b[0;34m\u001b[0m\u001b[0;34m\u001b[0m\u001b[0m\n\u001b[1;32m    521\u001b[0m         raise AttributeError(\"'%s' object has no attribute '%s'\"\n\u001b[0;32m--> 522\u001b[0;31m                              % (self.__class__.__name__, val))\n\u001b[0m\u001b[1;32m    523\u001b[0m \u001b[0;34m\u001b[0m\u001b[0m\n\u001b[1;32m    524\u001b[0m     \u001b[0;32mdef\u001b[0m \u001b[0m__setattr__\u001b[0m\u001b[0;34m(\u001b[0m\u001b[0mself\u001b[0m\u001b[0;34m,\u001b[0m \u001b[0mname\u001b[0m\u001b[0;34m,\u001b[0m \u001b[0mval\u001b[0m\u001b[0;34m)\u001b[0m\u001b[0;34m:\u001b[0m\u001b[0;34m\u001b[0m\u001b[0;34m\u001b[0m\u001b[0m\n",
      "\u001b[0;31mAttributeError\u001b[0m: '_ScalarGenericParameterBlock' object has no attribute 'PR_kappa_D'"
     ]
    }
   ],
   "source": [
    "\n",
    "model_creation = PRModels(new_params, configuration, \n",
    "                         comp_1= \"R32\", comp_2 = \"emimTf2N\", \n",
    "                         x_comp_1=\"x_R32\", x_comp_2=\"x_emimTf2N\")\n",
    "\n",
    "print(model_creation.PR_kappa_A_comp_1_comp_2)\n",
    "\n",
    "mod = model_creation.create_model(data_exp.iloc[1])"
   ]
  },
  {
   "cell_type": "code",
   "execution_count": null,
   "id": "880525df",
   "metadata": {},
   "outputs": [],
   "source": [
    "def PR_3para(i=3, data=data_exp):\n",
    "    \"\"\"\n",
    "        i: one line in data file, containing one set of design variables;\n",
    "    \"\"\"\n",
    "    m = ConcreteModel()\n",
    "\n",
    "    m.fs = FlowsheetBlock(default={\"dynamic\": False})\n",
    "\n",
    "    m.fs.properties = GenericParameterBlock(default=configuration)\n",
    "\n",
    "    m.fs.F101 = Flash(default={\"property_package\": m.fs.properties,\n",
    "                               \"has_heat_transfer\": True,\n",
    "                               \"has_pressure_change\": True})\n",
    "\n",
    "    m.fs.F101.inlet.flow_mol.fix(1)\n",
    "    m.fs.F101.inlet.temperature.fix(323.15)\n",
    "    m.fs.F101.inlet.pressure.fix(399800)\n",
    "    m.fs.F101.inlet.mole_frac_comp[0,'R32'].fix(0.5)\n",
    "\n",
    "    #m.fs.properties.PR_kappa_A['R32','emimTf2N'] = float(params.iloc[0])\n",
    "    #m.fs.properties.PR_kappa_A['emimTf2N','R32'] = float(params.iloc[1])\n",
    "    #m.fs.properties.PR_kappa_B['R32','emimTf2N'] = float(params.iloc[2])\n",
    "\n",
    "    # Initialize the flash unit\n",
    "    m.fs.F101.initialize(outlvl=idaeslog.CRITICAL)\n",
    "\n",
    "    # Fix the state variables on the state block\n",
    "    # m.fs.F101.inlet.pressure.unfix()\n",
    "    m.fs.F101.inlet.mole_frac_comp[0,'emimTf2N'].unfix()\n",
    "\n",
    "    #R32_x = np.zeros((len(data)))\n",
    "    #P = np.zeros((len(data)))\n",
    "    #T = np.zeros((len(data)))\n",
    "\n",
    "    m.fs.liq = Param(mutable=True,default=0.040)\n",
    "    m.fs.liquid = Constraint(expr=m.fs.F101.liq_outlet.mole_frac_comp[0, \"emimTf2N\"] == m.fs.liq)\n",
    "\n",
    "    print('i:',i)\n",
    "    print('Try x_IL:',data[\"x_emimTf2N\"].iloc[i])\n",
    "    m.fs.liq = data[\"x_emimTf2N\"].iloc[i]\n",
    "    m.fs.F101.inlet.temperature.fix(float(data[\"temperature\"].iloc[i]))\n",
    "    m.fs.F101.inlet.pressure.fix(float(data[\"pressure\"].iloc[i]))\n",
    "    m.fs.F101.inlet.mole_frac_comp[0,'R32'].fix(float(data[\"x_R32\"].iloc[i])+0.1)\n",
    "    m.fs.F101.inlet.mole_frac_comp[0,'emimTf2N'].fix(float(1-(data[\"x_R32\"].iloc[i]+0.1)))\n",
    "    m.fs.F101.vap_outlet.temperature.fix(float(data[\"temperature\"].iloc[i]))\n",
    "\n",
    "    try:\n",
    "        m.fs.F101.initialize(outlvl=idaeslog.CRITICAL)\n",
    "\n",
    "    except:\n",
    "        print('Initialization Error')\n",
    "\n",
    "    return m "
   ]
  },
  {
   "cell_type": "markdown",
   "id": "0c788a3b",
   "metadata": {},
   "source": [
    "## Use Pyomo.DOE"
   ]
  },
  {
   "cell_type": "code",
   "execution_count": null,
   "id": "69b70cbb",
   "metadata": {},
   "outputs": [],
   "source": [
    "# Create model function\n",
    "# change the data row by changing i here;\n",
    "\n",
    "\n",
    "createmod = PR_3para(i=4)\n",
    "\n",
    "# Control time set [h]\n",
    "t_control = [0]\n",
    "\n",
    "# design variable and its control time set\n",
    "# (What goes here does not matter because we tell Pyomo.DOE that it does not need to fix design variables)\n",
    "dv_pass = {'fs.F101.inlet.temperature': t_control,\n",
    "           'fs.F101.inlet.pressure': t_control,\n",
    "         'fs.F101.inlet.mole_frac_comp[0,\"R32\"]': t_control,\n",
    "          \"fs.F101.inlet.mole_frac_comp[0,'emimTf2N']\":t_control}\n",
    "    \n",
    "# Create measurement object\n",
    "measure_pass = {'fs.F101.control_volume.properties_out[0.0].pressure': t_control}\n",
    "measure_class =  Measurements(measure_pass)\n",
    "\n",
    "\n",
    "# prior information: none\n",
    "prior_pass = [[0]]\n"
   ]
  },
  {
   "cell_type": "code",
   "execution_count": null,
   "id": "c58eb4fb",
   "metadata": {},
   "outputs": [],
   "source": [
    "# Model params\n",
    "params = pd.read_csv('Params/PR_params_3params_Opt1.csv',header=None)\n",
    "\n",
    "print(params)\n",
    "\n",
    "# Define parameter nominal value \n",
    "parameter_dict = {'fs.properties.PR_kappa_A[\"R32\", \"emimTf2N\"]': params[0][0], \n",
    "                  'fs.properties.PR_kappa_A[\"emimTf2N\", \"R32\"]': params[0][1],\n",
    "                 'fs.properties.PR_kappa_B[\"R32\",\"emimTf2N\"]': params[0][2]}\n"
   ]
  },
  {
   "cell_type": "code",
   "execution_count": null,
   "id": "23eeddee",
   "metadata": {},
   "outputs": [],
   "source": [
    "sensi_opt = 'direct_kaug'\n",
    "    \n",
    "# Define experiments and design variable names \n",
    "# This does not matter for this problem but needed for inputs\n",
    "exp1 = {'fs.F101.inlet.temperature': {0: 1},\n",
    "           'fs.F101.inlet.pressure': {0: 1},\n",
    "         'fs.F101.inlet.mole_frac_comp[0,\"R32\"]': {0: 1},\n",
    "          \"fs.F101.inlet.mole_frac_comp[0,'emimTf2N']\": {0: 1}}\n",
    "\n",
    "design_names = ['model.fs.F101.inlet.temperature[0]', 'model.fs.F101.inlet.pressure[0]',\n",
    "                'model.fs.F101.inlet.mole_frac_comp[0,\"R32\"]', 'fs.F101.inlet.mole_frac_comp[0,\"emimTf2N\"]']"
   ]
  },
  {
   "cell_type": "code",
   "execution_count": null,
   "id": "5852e2cd",
   "metadata": {
    "scrolled": true
   },
   "outputs": [],
   "source": [
    "\n",
    "# create object\n",
    "doe_object = DesignOfExperiments(parameter_dict, dv_pass,\n",
    "                                 measure_class, createmod,\n",
    "                                prior_FIM=prior_pass,fixed=True)\n",
    "\n",
    "\n",
    "# compute FIM for a square MBDOE problem\n",
    "# Note that I did not scale the Jacobian \n",
    "result = doe_object.compute_FIM(exp1,mode=sensi_opt, FIM_store_name = 'dynamic.csv', \n",
    "                                scale_nominal_param_value=False, \n",
    "                                store_output = 'store_output', read_output=None,\n",
    "                                formula='central')\n",
    "\n",
    "# calculate FIM \n",
    "result.calculate_FIM(doe_object.design_values)\n"
   ]
  },
  {
   "cell_type": "markdown",
   "id": "3c36a451",
   "metadata": {},
   "source": [
    "### Information from k_aug\n",
    "\n",
    "You could print out \"raw\" information from k_aug (not necessarily). You can find the Jacobian information for the measurement (pressure) in one line."
   ]
  },
  {
   "cell_type": "code",
   "execution_count": null,
   "id": "b853f621",
   "metadata": {},
   "outputs": [],
   "source": [
    "#for _ in range(len(doe_object.dsdp_col)):\n",
    "#    print('Variable component:', doe_object.dsdp_col[_])\n",
    "#    print('Gradients:', doe_object.dsdp_array[_])"
   ]
  },
  {
   "cell_type": "markdown",
   "id": "e2e754bb",
   "metadata": {},
   "source": [
    "### Jacobian matrix and FIM"
   ]
  },
  {
   "cell_type": "code",
   "execution_count": null,
   "id": "d5fa6b53",
   "metadata": {
    "scrolled": true
   },
   "outputs": [],
   "source": [
    "print(result.jaco_information)\n",
    "print(result.FIM)"
   ]
  },
  {
   "cell_type": "code",
   "execution_count": null,
   "id": "a2f0a6e1",
   "metadata": {},
   "outputs": [],
   "source": [
    "print('======Result summary======')\n",
    "print('Four design criteria log10() value:')\n",
    "print('A-optimality:', np.log10(result.trace))\n",
    "print('D-optimality:', np.log10(result.det))\n",
    "print('E-optimality:', np.log10(result.min_eig))\n",
    "print('Modified E-optimality:', np.log10(result.cond))"
   ]
  },
  {
   "cell_type": "code",
   "execution_count": null,
   "id": "55e4dc97",
   "metadata": {},
   "outputs": [],
   "source": []
  }
 ],
 "metadata": {
  "kernelspec": {
   "display_name": "Python 3 (ipykernel)",
   "language": "python",
   "name": "python3"
  },
  "language_info": {
   "codemirror_mode": {
    "name": "ipython",
    "version": 3
   },
   "file_extension": ".py",
   "mimetype": "text/x-python",
   "name": "python",
   "nbconvert_exporter": "python",
   "pygments_lexer": "ipython3",
   "version": "3.7.11"
  }
 },
 "nbformat": 4,
 "nbformat_minor": 5
}
