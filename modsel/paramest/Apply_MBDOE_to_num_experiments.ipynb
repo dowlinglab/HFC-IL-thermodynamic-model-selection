{
 "cells": [
  {
   "cell_type": "code",
   "execution_count": 17,
   "metadata": {},
   "outputs": [],
   "source": [
    "from itertools import combinations\n",
    "import pandas as pd\n",
    "import numpy as np\n",
    "import json"
   ]
  },
  {
   "cell_type": "code",
   "execution_count": 18,
   "metadata": {},
   "outputs": [],
   "source": [
    "import matplotlib.pyplot as plt\n",
    "from matplotlib import cm\n",
    "%matplotlib inline\n",
    "%config InlineBackend.figure_format='retina'\n",
    "\n",
    "#specify the style\n",
    "# plt.style.use('ggplot')\n",
    "\n",
    "plt.rcParams['figure.figsize'] = [6, 4]\n",
    "plt.rcParams['axes.labelweight'] = 'bold'\n",
    "plt.rcParams['font.size'] = 15\n",
    "\n",
    "# Set x axis\n",
    "plt.rcParams['xtick.major.size'] = 6\n",
    "plt.rcParams['xtick.major.width'] = 1\n",
    "plt.rcParams['xtick.minor.size'] = 3\n",
    "plt.rcParams['xtick.minor.width'] = 1\n",
    "\n",
    "# # Set y axis\n",
    "plt.rcParams['ytick.major.size'] = 6\n",
    "plt.rcParams['ytick.major.width'] = 1\n",
    "plt.rcParams['ytick.minor.size'] = 3\n",
    "plt.rcParams['ytick.minor.width'] = 1\n",
    "\n",
    "\n",
    "# # Fontsizes\n",
    "plt.rcParams['xtick.labelsize'] = 16\n",
    "plt.rcParams['ytick.labelsize'] = 16\n",
    "plt.rcParams['legend.fontsize'] = 16\n",
    "plt.rcParams['legend.title_fontsize'] = 16\n",
    "plt.rcParams['axes.labelsize'] = 16\n",
    "plt.rcParams['axes.titlesize'] = 16\n",
    "\n",
    "# Set line widths\n",
    "plt.rcParams['axes.linewidth'] = 1\n",
    "plt.rcParams['grid.linewidth'] = 1\n",
    "plt.rcParams['lines.linewidth'] = 2\n",
    "\n",
    "#set title size\n",
    "plt.rcParams['figure.titlesize'] = 20"
   ]
  },
  {
   "cell_type": "markdown",
   "metadata": {},
   "source": [
    "load the data"
   ]
  },
  {
   "cell_type": "code",
   "execution_count": 19,
   "metadata": {},
   "outputs": [],
   "source": [
    "f = open('emimtf2n_FIM_info/PR_quadTdep_scaleopt.json')\n",
    "\n",
    "data = json.load(f)"
   ]
  },
  {
   "cell_type": "code",
   "execution_count": 20,
   "metadata": {},
   "outputs": [],
   "source": [
    "#record FIM of all samples\n",
    "FIM_all_sample = []\n",
    "\n",
    "for i in range(27):\n",
    "    FIM_i = np.array(data[0][str(i)])\n",
    "    FIM_all_sample.append(FIM_i)\n",
    "\n",
    "#define the number of samples\n",
    "n = 27"
   ]
  },
  {
   "cell_type": "markdown",
   "metadata": {},
   "source": [
    "define the combination procedure"
   ]
  },
  {
   "cell_type": "code",
   "execution_count": 21,
   "metadata": {},
   "outputs": [],
   "source": [
    "#demo for single combination, k\n",
    "\n",
    "#define combination number k\n",
    "# k = 2\n",
    "\n",
    "def FIM_of_combination_k(k, return_exp=False):\n",
    "    '''\n",
    "        calculate the FIM of certain combination n,k\n",
    "    Arguments:\n",
    "        k: number of samples select out\n",
    "    Returns:\n",
    "        det(FIM)\n",
    "    '''\n",
    "    comb = combinations(range(0,n), k)\n",
    "\n",
    "    #define list to record calculation of FIM\n",
    "    det_FIM_single_k = []\n",
    "\n",
    "    #calculate the FIM of the combination\n",
    "    for i in list(comb):\n",
    "        # print(i)\n",
    "        # print(np.array(FIM_all_sample)[list(i)])\n",
    "        # print(np.array(FIM_all_sample)[list(i)].shape)\n",
    "        \n",
    "        #adds up the FIM matrix\n",
    "        FIM_single_k = np.array(FIM_all_sample)[list(i)].sum(axis=0)\n",
    "\n",
    "        #calculate and record the det of FIM matrix\n",
    "        det_FIM_single_k.append(np.linalg.det(FIM_single_k))\n",
    "    # print(np.max(det_FIM_single_k))\n",
    "    \n",
    "    if return_exp:\n",
    "        # print(np.argmax(det_FIM_single_k))\n",
    "        return np.argmax(det_FIM_single_k), np.max(det_FIM_single_k)\n",
    "    else:\n",
    "        return np.max(det_FIM_single_k)"
   ]
  },
  {
   "cell_type": "markdown",
   "metadata": {},
   "source": [
    "sanity check"
   ]
  },
  {
   "cell_type": "code",
   "execution_count": 22,
   "metadata": {},
   "outputs": [
    {
     "data": {
      "text/plain": [
       "1.149965600989269e+61"
      ]
     },
     "execution_count": 22,
     "metadata": {},
     "output_type": "execute_result"
    }
   ],
   "source": [
    "#using all data, n=27, Jialu report the det (FIM) = 1.1499656\n",
    "FIM_of_combination_k(n)\n",
    "\n",
    "#sanity check passed"
   ]
  },
  {
   "cell_type": "markdown",
   "metadata": {},
   "source": [
    "conduct number of experiment calculation and save"
   ]
  },
  {
   "cell_type": "code",
   "execution_count": 9,
   "metadata": {},
   "outputs": [],
   "source": [
    "# det_FIM_all_k = []\n",
    "\n",
    "# for k in range(0, n+1):\n",
    "#     det_FIM_all_k.append(FIM_of_combination_k(k))"
   ]
  },
  {
   "cell_type": "code",
   "execution_count": 10,
   "metadata": {},
   "outputs": [],
   "source": [
    "# np.savetxt(\"det_FIM_data.csv\", det_FIM_all_k, delimiter=\",\")"
   ]
  },
  {
   "cell_type": "markdown",
   "metadata": {},
   "source": [
    "load the number of experiment calculation file"
   ]
  },
  {
   "cell_type": "code",
   "execution_count": 23,
   "metadata": {},
   "outputs": [],
   "source": [
    "det_FIM_all_k = np.loadtxt('det_FIM_data.csv')"
   ]
  },
  {
   "cell_type": "code",
   "execution_count": 25,
   "metadata": {},
   "outputs": [
    {
     "data": {
      "text/plain": [
       "array([0.00000000e+00, 1.31907701e-07, 1.51457550e+10, 4.47118824e+24,\n",
       "       7.95199692e+37, 6.33862151e+48, 3.32991973e+58, 9.01974645e+58,\n",
       "       1.73753698e+59, 2.94907410e+59, 4.68035740e+59, 7.01140867e+59,\n",
       "       1.01202104e+60, 1.43599957e+60, 1.98009363e+60, 2.65454355e+60,\n",
       "       3.51544745e+60, 4.44254534e+60, 5.35698627e+60, 6.29845487e+60,\n",
       "       7.38895572e+60, 8.46128477e+60, 9.38570695e+60, 1.01557292e+61,\n",
       "       1.06989531e+61, 1.10492552e+61, 1.12862822e+61, 1.14996560e+61])"
      ]
     },
     "execution_count": 25,
     "metadata": {},
     "output_type": "execute_result"
    }
   ],
   "source": [
    "det_FIM_all_k"
   ]
  },
  {
   "cell_type": "markdown",
   "metadata": {},
   "source": [
    "det_FIM_all_k"
   ]
  },
  {
   "cell_type": "code",
   "execution_count": 31,
   "metadata": {},
   "outputs": [
    {
     "data": {
      "image/png": "[encoded data removed]",
      "text/plain": [
       "<Figure size 432x288 with 1 Axes>"
      ]
     },
     "metadata": {
      "image/png": {
       "height": 282,
       "width": 415
      },
      "needs_background": "light"
     },
     "output_type": "display_data"
    }
   ],
   "source": [
    "plt.plot(range(1, n+1), np.log10(det_FIM_all_k[1:]), c='b')\n",
    "plt.scatter(6, np.log10(det_FIM_all_k[1:])[5], s=200, c='k', marker='*')\n",
    "plt.ylabel(r'$\\mathrm{log}_{10}$ D-optimality')\n",
    "plt.xlabel(r'Experiment Number')\n",
    "# plt.vlines(6, -4, 2, color='k', linestyles='dotted')\n",
    "plt.vlines(6, 50, 65, color='k', linestyles='dotted')\n",
    "plt.ylim(50, 65)\n",
    "plt.grid()"
   ]
  },
  {
   "cell_type": "code",
   "execution_count": 27,
   "metadata": {},
   "outputs": [
    {
     "data": {
      "text/plain": [
       "array([0.00000000e+00, 1.31907701e-07, 1.51457550e+10, 4.47118824e+24,\n",
       "       7.95199692e+37, 6.33862151e+48, 3.32991973e+58, 9.01974645e+58,\n",
       "       1.73753698e+59, 2.94907410e+59, 4.68035740e+59, 7.01140867e+59,\n",
       "       1.01202104e+60, 1.43599957e+60, 1.98009363e+60, 2.65454355e+60,\n",
       "       3.51544745e+60, 4.44254534e+60, 5.35698627e+60, 6.29845487e+60,\n",
       "       7.38895572e+60, 8.46128477e+60, 9.38570695e+60, 1.01557292e+61,\n",
       "       1.06989531e+61, 1.10492552e+61, 1.12862822e+61, 1.14996560e+61])"
      ]
     },
     "execution_count": 27,
     "metadata": {},
     "output_type": "execute_result"
    }
   ],
   "source": [
    "det_FIM_all_k"
   ]
  },
  {
   "cell_type": "code",
   "execution_count": 28,
   "metadata": {},
   "outputs": [
    {
     "data": {
      "text/plain": [
       "array([1.31907701e-07, 1.51457550e+10, 4.47118824e+24, 7.95199692e+37,\n",
       "       6.33862151e+48, 3.32991973e+58, 9.01974645e+58, 1.73753698e+59,\n",
       "       2.94907410e+59, 4.68035740e+59, 7.01140867e+59, 1.01202104e+60,\n",
       "       1.43599957e+60, 1.98009363e+60, 2.65454355e+60, 3.51544745e+60,\n",
       "       4.44254534e+60, 5.35698627e+60, 6.29845487e+60, 7.38895572e+60,\n",
       "       8.46128477e+60, 9.38570695e+60, 1.01557292e+61, 1.06989531e+61,\n",
       "       1.10492552e+61, 1.12862822e+61, 1.14996560e+61])"
      ]
     },
     "execution_count": 28,
     "metadata": {},
     "output_type": "execute_result"
    }
   ],
   "source": [
    "det_FIM_all_k[1:]"
   ]
  },
  {
   "cell_type": "markdown",
   "metadata": {},
   "source": [
    "determine the experiment"
   ]
  },
  {
   "cell_type": "code",
   "execution_count": 29,
   "metadata": {},
   "outputs": [
    {
     "name": "stdout",
     "output_type": "stream",
     "text": [
      "proposed experiment for 4 of experiment:  (2, 4, 12, 26)\n",
      "proposed experiment for 5 of experiment:  (1, 5, 12, 17, 26)\n",
      "proposed experiment for 6 of experiment:  (2, 5, 12, 19, 23, 26)\n",
      "proposed experiment for 7 of experiment:  (2, 5, 12, 16, 19, 23, 26)\n",
      "proposed experiment for 8 of experiment:  (2, 3, 5, 12, 16, 19, 23, 26)\n"
     ]
    }
   ],
   "source": [
    "for i in range(4,9):\n",
    "    index, _ = FIM_of_combination_k(i,return_exp=True)\n",
    "    comb = combinations(range(0,n), i)\n",
    "\n",
    "    #calculate the FIM of the combination\n",
    "    print('proposed experiment for ' + str(i) + ' of experiment: ', list(comb)[index])"
   ]
  },
  {
   "cell_type": "code",
   "execution_count": null,
   "metadata": {},
   "outputs": [],
   "source": []
  }
 ],
 "metadata": {
  "kernelspec": {
   "display_name": "Python 3.9.12 ('thickness_control_project')",
   "language": "python",
   "name": "python3"
  },
  "language_info": {
   "codemirror_mode": {
    "name": "ipython",
    "version": 3
   },
   "file_extension": ".py",
   "mimetype": "text/x-python",
   "name": "python",
   "nbconvert_exporter": "python",
   "pygments_lexer": "ipython3",
   "version": "3.9.12"
  },
  "orig_nbformat": 4,
  "vscode": {
   "interpreter": {
    "hash": "47e8868287198efa3dccff1dae94fa03e5ca72d71081b1e9aeede0c176fb037e"
   }
  }
 },
 "nbformat": 4,
 "nbformat_minor": 2
}
