{
 "cells": [
  {
   "cell_type": "code",
   "execution_count": 1,
   "id": "86adfdfc",
   "metadata": {},
   "outputs": [],
   "source": [
    "import json\n",
    "import numpy as np \n",
    "import pandas as pd\n",
    "import matplotlib.pyplot as plt\n",
    "from matplotlib import cm\n",
    "from matplotlib.patches import Polygon\n",
    "from scipy.interpolate import interp2d"
   ]
  },
  {
   "cell_type": "markdown",
   "id": "a48a9211",
   "metadata": {},
   "source": [
    "## Read data prior"
   ]
  },
  {
   "cell_type": "code",
   "execution_count": 2,
   "id": "57352095",
   "metadata": {},
   "outputs": [
    {
     "name": "stdout",
     "output_type": "stream",
     "text": [
      "Var: 6.400000000000001e-09\n"
     ]
    }
   ],
   "source": [
    "unit_operator = 10**(-6) # unit Pa --> MPa\n",
    "#unit_operator = 1\n",
    "fim_converter = 1\n",
    "\n",
    "# STD in MPa\n",
    "measurement_std = 0.00008\n",
    "#measurement_std = 0.0003\n",
    "\n",
    "# MPa**2\n",
    "measurement_var = measurement_std**2\n",
    "\n",
    "print(\"Var:\", measurement_var)"
   ]
  },
  {
   "cell_type": "code",
   "execution_count": 3,
   "id": "1afa50ae",
   "metadata": {},
   "outputs": [],
   "source": [
    "# read prior\n",
    "def read_fim(str_name, dim):\n",
    "    f_prior = open(str_name)\n",
    "\n",
    "    data_prior = json.load(f_prior)\n",
    "    \n",
    "    prior_info = data_prior[0]['Total']\n",
    "    \n",
    "    for i in range(dim):\n",
    "        for j in range(dim):\n",
    "            # unit transfer\n",
    "            prior_info[i][j] *= unit_operator*unit_operator  \n",
    "            # Var\n",
    "            prior_info[i][j] *= 1/measurement_var\n",
    "            \n",
    "    print(prior_info)\n",
    "    print(\"Determinant:\", np.linalg.det(prior_info))\n",
    "    print(\"Trace:\", np.trace(prior_info))\n",
    "    eig_vals = list(np.linalg.eigvals(prior_info))\n",
    "    print(eig_vals)\n",
    "    print(\"Condition number:\", max(eig_vals)/min(eig_vals))\n",
    "    \n",
    "    print(np.linalg.eig(prior_info))\n",
    "    \n",
    "    \n",
    "    return prior_info\n",
    "    \n",
    "    \n",
    "\n"
   ]
  },
  {
   "cell_type": "code",
   "execution_count": 9,
   "id": "bcaa1f76",
   "metadata": {
    "scrolled": true
   },
   "outputs": [
    {
     "name": "stdout",
     "output_type": "stream",
     "text": [
      "[[7121149266.959596, -1686904213.5682938, 13038326589.160677, -1248361344.3430927, 4693045459.803521, -827239589.7413882], [-1686904213.5682938, 607627088.360672, -2970596348.80549, 436023219.15187895, -1027725354.9841744, 279658614.29249185], [13038326589.160677, -2970596348.80549, 23998751930.10038, -2208541140.0813293, 8683388893.561335, -1470592052.3859603], [-1248361344.3430927, 436023219.15187895, -2208541140.0813293, 313759517.53620636, -767776424.8781238, 201847183.40876946], [4693045459.803521, -1027725354.9841744, 8683388893.561335, -767776424.8781238, 3158021234.5510807, -513797282.44865847], [-827239589.7413882, 279658614.29249185, -1470592052.3859603, 201847183.40876946, -513797282.44865847, 130272532.26636599]]\n",
      "Determinant: 1.673420193608022e+38\n",
      "Trace: 35329581569.7743\n",
      "[34901779040.87798, 406786778.65005875, 20669959.31205044, 332308.5238758833, 13353.910951692116, 128.49938024681066]\n",
      "Condition number: 271610485.38787985\n",
      "(array([3.49017790e+10, 4.06786779e+08, 2.06699593e+07, 3.32308524e+05,\n",
      "       1.33539110e+04, 1.28499380e+02]), array([[ 0.45104367,  0.15268398,  0.73712377, -0.04012275,  0.4766875 ,\n",
      "         0.03247998],\n",
      "       [-0.10437935, -0.74644066,  0.17244104,  0.56160495,  0.0995749 ,\n",
      "         0.27727261],\n",
      "       [ 0.82902366, -0.1647875 , -0.13862732,  0.08606271, -0.50748669,\n",
      "        -0.03738705],\n",
      "       [-0.07748034, -0.5045409 ,  0.17615655, -0.36092247, -0.01606349,\n",
      "        -0.7601849 ],\n",
      "       [ 0.29954641, -0.21631945, -0.59420051, -0.19777335,  0.6843154 ,\n",
      "         0.0547881 ],\n",
      "       [-0.05150806, -0.30166769,  0.15358945, -0.7114801 , -0.19174339,\n",
      "         0.58291023]]))\n"
     ]
    }
   ],
   "source": [
    "num_para = 6  # FIM dimension\n",
    "\n",
    "file_name = 'emimtf2n_FIM_info/PR_quadTdep_scaleopt.json'\n",
    "#file_name = 'emimtf2n_FIM_info/PR_quadTdep_unscaleParam.json'\n",
    "#file_name = '125_emimtf2n_FIM_info/PR-3A.json'\n",
    "#file_name = '125_emimtf2n_FIM_info/PR-3A-unscaleParam.json'\n",
    "#file_name = '32_bmimpf6_FIM_info/SRK-8.json'\n",
    "#file_name = '32_bmimpf6_FIM_info/SRK-8-unscaleParam.json'\n",
    "\n",
    "\n",
    "prior = read_fim(file_name, num_para)"
   ]
  },
  {
   "cell_type": "code",
   "execution_count": 10,
   "id": "7d209348",
   "metadata": {},
   "outputs": [
    {
     "name": "stdout",
     "output_type": "stream",
     "text": [
      "[[ 2.52570160e-05  7.35769831e-05 -2.75809586e-05 -1.92670891e-04\n",
      "   3.82787006e-05  1.40585254e-04]\n",
      " [ 7.35769831e-05  5.99986002e-04 -8.43123340e-05 -1.64103447e-03\n",
      "   1.22984212e-04  1.25515815e-03]\n",
      " [-2.75809586e-05 -8.43123340e-05  3.01870520e-05  2.21692707e-04\n",
      "  -4.19937405e-05 -1.62496801e-04]\n",
      " [-1.92670891e-04 -1.64103447e-03  2.21692707e-04  4.49756420e-03\n",
      "  -3.24732151e-04 -3.44741280e-03]\n",
      " [ 3.82787006e-05  1.22984212e-04 -4.19937405e-05 -3.24732151e-04\n",
      "   5.85622794e-05  2.39128010e-04]\n",
      " [ 1.40585254e-04  1.25515815e-03 -1.62496801e-04 -3.44741280e-03\n",
      "   2.39128010e-04  2.64852670e-03]]\n"
     ]
    }
   ],
   "source": [
    "\n",
    "# covariance matrice\n",
    "\n",
    "cov = np.linalg.pinv(prior)\n",
    "print(cov)"
   ]
  },
  {
   "cell_type": "code",
   "execution_count": 11,
   "id": "01661933",
   "metadata": {},
   "outputs": [
    {
     "name": "stdout",
     "output_type": "stream",
     "text": [
      "[[ 1.          0.59769607 -0.99886773 -0.57165815  0.99530728  0.54355885]\n",
      " [ 0.59769607  1.         -0.62648431 -0.99898383  0.65609967  0.99569359]\n",
      " [-0.99886773 -0.62648431  1.          0.6016617  -0.99876939 -0.57468821]\n",
      " [-0.57165815 -0.99898383  0.6016617   1.         -0.63274339 -0.99885495]\n",
      " [ 0.99530728  0.65609967 -0.99876939 -0.63274339  1.          0.60718256]\n",
      " [ 0.54355885  0.99569359 -0.57468821 -0.99885495  0.60718256  1.        ]]\n"
     ]
    }
   ],
   "source": [
    "# correlation\n",
    "\n",
    "R = cov.copy()\n",
    "\n",
    "for r in range(num_para):\n",
    "    for c in range(num_para):\n",
    "        R[r,c] = cov[r,c]/np.sqrt(cov[r,r])/np.sqrt(cov[c,c])\n",
    "        \n",
    "print(R)"
   ]
  },
  {
   "cell_type": "code",
   "execution_count": 12,
   "id": "a6ef2042",
   "metadata": {},
   "outputs": [],
   "source": [
    "eig_test = np.linalg.eig(prior)[1]"
   ]
  },
  {
   "cell_type": "code",
   "execution_count": 13,
   "id": "bb3828b0",
   "metadata": {},
   "outputs": [],
   "source": [
    "df = pd.DataFrame(R)\n",
    "writer = pd.ExcelWriter('test.xlsx', engine='xlsxwriter')\n",
    "df.to_excel(writer, sheet_name='welcome', index=False)\n",
    "writer.save()\n"
   ]
  },
  {
   "cell_type": "markdown",
   "id": "57930146",
   "metadata": {},
   "source": [
    "##  Read data "
   ]
  },
  {
   "cell_type": "code",
   "execution_count": null,
   "id": "388ed80c",
   "metadata": {},
   "outputs": [],
   "source": [
    "# read prior\n",
    "\n",
    "f = open('emimtf2n_FIM_info/PR_quad_543900_scaledBar_pa_scaleopt.json')\n",
    "f2 = open('emimtf2n_FIM_info/PR_quad_543900_scaledBar_pa_scaleopt_pressure.json')\n",
    "#f3 = open('emimtf2n_FIM_info/PR_quad_543900_scaledBar_under10.json')\n",
    "#f4 = open('emimtf2n_FIM_info/PR_quad_543900_scaledBar_under10_pressure.json')\n",
    "\n",
    "data = json.load(f)\n",
    "\n",
    "data_pressure = json.load(f2)\n",
    "\n",
    "#data_under10 = json.load(f3)\n",
    "#data_pressure_under10 = json.load(f4)"
   ]
  },
  {
   "cell_type": "code",
   "execution_count": null,
   "id": "87676bde",
   "metadata": {},
   "outputs": [],
   "source": [
    "T_range_overall = [273, 283, 293, 303, 313, 323, 333, 343, 353, 363, 373, 383, 393, 400]\n",
    "x_range_overall = [0.01, 0.05, 0.1,0.2, 0.3, 0.4, 0.5, 0.6, 0.7, 0.8, 0.9]\n"
   ]
  },
  {
   "cell_type": "code",
   "execution_count": null,
   "id": "66dd907e",
   "metadata": {},
   "outputs": [],
   "source": [
    "unit_operator = 10**(-6)\n",
    "#unit_operator = 1\n",
    "fim_converter = 1\n",
    "\n",
    "# STD in MPa\n",
    "measurement_std = 0.00008\n",
    "\n",
    "# MPa**2\n",
    "measurement_var = measurement_std**2\n",
    "\n",
    "print(\"The unit operator converts units from Pa to Mpa:\", unit_operator)\n",
    "print(fim_converter)"
   ]
  },
  {
   "cell_type": "code",
   "execution_count": null,
   "id": "a4e42d3b",
   "metadata": {},
   "outputs": [],
   "source": [
    "# read prior\n",
    "def remove_fim(idx_to_remove):\n",
    "    f_prior = open('emimtf2n_FIM_info/PR_quadTdep_scaleopt.json')\n",
    "\n",
    "    data_prior = json.load(f_prior)\n",
    "\n",
    "    #prior_info = data[0]['Total']\n",
    "    prior_info = [[0]*6 for i in range(6)]\n",
    "    \n",
    "    # remove idx\n",
    "    for idx in idx_to_remove:\n",
    "        for a in range(6):\n",
    "            for b in range(6):\n",
    "                prior_info[a][b] += data_prior[0][str(idx)][a][b]\n",
    "\n",
    "    for i in range(6):\n",
    "        for j in range(6):\n",
    "            prior_info[i][j] *= unit_operator*unit_operator      \n",
    "            prior_info[i][j] *= 1/measurement_var\n",
    "            \n",
    "    return prior_info\n",
    "\n"
   ]
  },
  {
   "cell_type": "code",
   "execution_count": null,
   "id": "971a4dfc",
   "metadata": {},
   "outputs": [],
   "source": [
    "new_prior = [2, 3, 5, 12, 16, 19, 23, 26]\n",
    "#new_prior = [32]\n",
    "num_to_remove = []\n",
    "for i in range(27):\n",
    "    if i not in new_prior:\n",
    "        num_to_remove.append(i)\n",
    "\n",
    "fim_to_be_removed = remove_fim(num_to_remove)\n",
    "print(fim_to_be_removed)"
   ]
  },
  {
   "cell_type": "code",
   "execution_count": null,
   "id": "e4cba6bb",
   "metadata": {},
   "outputs": [],
   "source": [
    "def read_heatmap(T_range, x_range, data_set, pressure_data_set, remove=None):\n",
    "    A_heatmap = np.zeros((len(T_range), len(x_range)))\n",
    "    D_heatmap = np.zeros((len(T_range), len(x_range)))\n",
    "    E_heatmap = np.zeros((len(T_range), len(x_range)))\n",
    "    ME_heatmap = np.zeros((len(T_range), len(x_range)))\n",
    "\n",
    "    pressure_heatmap = np.zeros((len(T_range), len(x_range)))\n",
    "\n",
    "    for i in range(len(T_range)):\n",
    "        for j in range(len(x_range)):\n",
    "            count = i*len(x_range) + j \n",
    "\n",
    "            #fim = np.asarray(data_set[0][str(count)])\n",
    "            # the recorded FIM (Q.T@Q) is based on MPa for measurements \n",
    "            # computed with 1 for meausrement STD \n",
    "            fim = np.asarray(data_set[0][str(count)])*fim_converter*fim_converter\n",
    "            \n",
    "            # factor in measurement STD; post processing step \n",
    "            fim *= 1/measurement_var\n",
    "            \n",
    "            print(\"before:\", fim)\n",
    "            \n",
    "            # for the removing prior fn. Default is closed. \n",
    "            if remove:\n",
    "                for a in range(6):\n",
    "                    for b in range(6):\n",
    "                        fim[a][b] -= remove[a][b]\n",
    "                    \n",
    "            fim = np.asarray(fim)\n",
    "            print(\"after:\", fim)\n",
    "            \n",
    "            \n",
    "            A_heatmap[i,j] = np.trace(fim)\n",
    "            D_heatmap[i,j] = np.linalg.det(fim)\n",
    "            E_heatmap[i,j] = min(np.linalg.eigvals(fim))\n",
    "            ME_heatmap[i,j] = np.linalg.cond(fim)\n",
    "\n",
    "            # convert unit\n",
    "            pressure_heatmap[i,j] = pressure_data_set[0][str(count)]*unit_operator\n",
    "            \n",
    "    return A_heatmap, D_heatmap, E_heatmap, ME_heatmap, pressure_heatmap"
   ]
  },
  {
   "cell_type": "code",
   "execution_count": null,
   "id": "471cad0c",
   "metadata": {},
   "outputs": [],
   "source": [
    "A_heatmap_overall, D_heatmap_overall, E_heatmap_overall, ME_heatmap_overall, pressure_heatmap_overall = read_heatmap(T_range_overall, x_range_overall, data, data_pressure, remove=fim_to_be_removed)\n"
   ]
  },
  {
   "cell_type": "code",
   "execution_count": null,
   "id": "802d8900",
   "metadata": {
    "scrolled": false
   },
   "outputs": [],
   "source": [
    "#print(pressure_heatmap)\n",
    "\n",
    "A_practical  = A_heatmap_overall.copy()\n",
    "D_practical  = D_heatmap_overall.copy()\n",
    "E_practical  = E_heatmap_overall.copy()\n",
    "ME_practical  = ME_heatmap_overall.copy()\n",
    "pressure_practical = pressure_heatmap_overall.copy()\n",
    "\n",
    "for i in range(len(pressure_heatmap_overall)):\n",
    "    for j in range(len(pressure_heatmap_overall[0])):\n",
    "        if pressure_practical[i,j] > 2.5:\n",
    "            pressure_practical[i,j] = float(\"NaN\")\n",
    "            \n",
    "            A_practical[i,j] = float('NaN')\n",
    "            E_practical[i,j] = float('NaN')\n",
    "            D_practical[i,j] = float('NaN')\n",
    "            ME_practical[i,j] = float('NaN')\n",
    "print(pressure_practical)"
   ]
  },
  {
   "cell_type": "code",
   "execution_count": null,
   "id": "b183bcd3",
   "metadata": {},
   "outputs": [],
   "source": [
    "data_file = './emimtf2n/R32/Final_Results/MBDoE/r32_emimtf2n_subset.csv'\n",
    "data_exp = pd.read_csv(data_file)\n",
    "print(len(data_exp))"
   ]
  },
  {
   "cell_type": "code",
   "execution_count": null,
   "id": "ff4de581",
   "metadata": {},
   "outputs": [],
   "source": [
    "#print(D_practical)\n",
    "import math\n",
    "from scipy.interpolate import interp1d\n",
    "#print(np.shape(D_practical))\n",
    "\n",
    "T_range_lab = T_range_overall   \n",
    "x_range_lab = [1, 5, 10,20,30,40,50,60,70,80,90]\n",
    "\n",
    "edges = []\n",
    "for i in range(14):\n",
    "    for j in range(11):\n",
    "        if math.isnan(D_practical[i,j]):\n",
    "            #edges.append((i,j))\n",
    "            edges.append((i, j-1))\n",
    "            break;\n",
    "            \n",
    "#print(edges)\n",
    "\n",
    "edges_map = []\n",
    "\n",
    "for edge in edges:\n",
    "    edges_map.append((T_range_lab[edge[0]], x_range_lab[edge[1]]))\n",
    "    \n",
    "#print(edges_map)\n",
    "\n",
    "print(T_range_lab[edges[0][0]-1])\n",
    "\n",
    "a, b = T_range_lab[edges[0][0]-1], edges_map[-1][1]\n",
    "\n",
    "a_real = T_range_lab[edges[0][0]]\n",
    "\n",
    "x =[edges_map[i][0] for i in range(len(edges_map))]\n",
    "y =[edges_map[i][1] for i in range(len(edges_map))]\n",
    "f = interp1d(x, y, kind='quadratic')\n",
    "\n",
    "xnew = np.arange(a_real, 400)\n",
    "ynew = f(xnew)   # use interpolation function returned by `interp1d`\n",
    "#print(ynew)\n",
    "\n",
    "#print(x, y)\n",
    "#print(f)"
   ]
  },
  {
   "cell_type": "code",
   "execution_count": null,
   "id": "eb5e9936",
   "metadata": {},
   "outputs": [],
   "source": [
    "x_ax = T_range_lab\n",
    "y_ax = x_range_lab \n",
    "z_ax = pressure_heatmap_overall\n",
    "\n",
    "xnew = np.arange(285, 400, 0.1)\n",
    "ynew = np.arange(18, 90, 0.1) \n",
    "\n",
    "f = interp2d(x_ax, y_ax, z_ax.T)\n",
    "\n",
    "f_new = f(xnew, ynew)\n",
    "print(np.shape(f_new))\n",
    "\n",
    "f_newT =  f_new.T\n",
    "\n",
    "x_15 = []\n",
    "y_15 = []\n",
    "\n",
    "for i in range(len(xnew)):\n",
    "    for j in range(len(ynew)):\n",
    "        if i>=1 and f_newT[i,j] >= 1.500000 and f_newT[i-1,j]<=1.500000:\n",
    "            x_15.append(xnew[i])\n",
    "            y_15.append(ynew[j])"
   ]
  },
  {
   "cell_type": "code",
   "execution_count": null,
   "id": "1c9ee23d",
   "metadata": {},
   "outputs": [],
   "source": [
    "def contour(T_range_label, x_range_label, heatmap_data, bar_label, plot_prior=True):\n",
    "    # draw figure, using (6,6) because the plot is small otherwise\n",
    "    #fig, ax = plt.figure(figsize=(6,6))\n",
    "    fig, ax = plt.subplots()\n",
    "    \n",
    "    # plot heatmap\n",
    "    #   cmap defines the overall color within the heatmap \n",
    "    #   levels: determines the number and positions of the contour lines / regions.\n",
    "    cs = plt.contourf(T_range_label, x_range_label, heatmap_data.T,cmap=cm.coolwarm)\n",
    "\n",
    "    # plot color bar\n",
    "    cbar = plt.colorbar(cs)\n",
    "\n",
    "    # plot title in color bar\n",
    "    cbar.ax.set_ylabel(bar_label, fontsize=16, fontweight='bold')\n",
    "\n",
    "    # set font size in color bar\n",
    "    cbar.ax.tick_params(labelsize=16)\n",
    "    \n",
    "    def func(x):\n",
    "        return x*0.1\n",
    "\n",
    "    #ix = np.linspace(a, b)\n",
    "    #iy = func(ix)\n",
    "    a_new = np.linspace(a, 400,1)\n",
    "    upper_90 = [90 for i in range(len(a_new))]\n",
    "    \n",
    "    b_new = np.linspace(b, 90, 1)\n",
    "    right_400 = [400 for j in range(len(b_new))]\n",
    "    \n",
    "    #verts = [(a, 90)] + list(zip(ix, iy)) + [(400, b)]\n",
    "    #verts = list(zip(a_new, upper_90)) + list(zip(xnew, ynew)) + list(zip(right_400, b_new)) + [(400,90)]\n",
    "    verts = list(zip(a_new, upper_90)) + list(zip(x_15, y_15)) + list(zip(right_400, b_new)) + [(400,90)]\n",
    "    poly = Polygon(verts, facecolor='white', edgecolor='darkblue', closed=True)\n",
    "    #polygon1 = Polygon([[0.5,0.2], [0.4,0.3], [0.6, 0.9],], closed=True, alpha=1)\n",
    "    \n",
    "    ax.add_patch(poly)\n",
    "\n",
    "    # plot equipotential line\n",
    "    #  [::10] means sampling 1 in every 10 samples\n",
    "    #  colors define the color want to use, 'k' for black\n",
    "    #  alpha is blending value, between 0 (transparent) and 1 (opaque).\n",
    "    #  linestyle defines the linestyle.\n",
    "    #  linewidth defines the width of line\n",
    "    #cs2 = plt.contour(cs, levels=cs.levels[::10], colors='k', alpha=0.7, linestyles='dashed', linewidths=3)\n",
    "\n",
    "    # plot the heatmap label\n",
    "    #  %2.2f means keep to 2 digit\n",
    "    #  fontsize defines the size of the text in figure\n",
    "    #plt.clabel(cs2, fmt='%2.2f', colors='k', fontsize=16)\n",
    "\n",
    "    # define tick size\n",
    "    plt.xticks(fontsize=16)\n",
    "    plt.yticks(fontsize=16)\n",
    "    plt.tick_params(direction=\"in\",top=True, right=True)\n",
    "\n",
    "    # set squared figure\n",
    "    if plot_prior:\n",
    "        for i in new_prior:  \n",
    "        #for i in range(len(data_exp)):\n",
    "            if i==16:\n",
    "                plt.scatter(data_exp.iloc[i]['temperature'], data_exp.iloc[i]['x_R32']*100, color=\"black\",marker=\"*\", s=150)\n",
    "                \n",
    "            elif i==3:\n",
    "                plt.scatter(data_exp.iloc[i]['temperature'], data_exp.iloc[i]['x_R32']*100, color=\"black\",marker=\"^\", s=125)\n",
    "                \n",
    "            elif i in new_prior:\n",
    "                plt.scatter(data_exp.iloc[i]['temperature'], data_exp.iloc[i]['x_R32']*100, color=\"black\", s=80)\n",
    "        \n",
    "            #else:\n",
    "            #plt.scatter(data_exp.iloc[i]['temperature'], data_exp.iloc[i]['x_R32']*100, color=\"darkgrey\", s=20)\n",
    "        \n",
    "            \n",
    "        \n",
    "    # plot titile and x,y label\n",
    "    plt.xlabel(r'Temperature [K]', fontsize=16, fontweight='bold')\n",
    "    plt.ylabel(r'HFC-32 in IL [mol%]', fontsize=16, fontweight='bold')\n",
    "    plt.show()\n",
    "\n",
    "    # save figure (important for publications)\n",
    "    # plt.savefig('heatmap.png',bbox_inches='tight')\n",
    "    \n",
    "    \n",
    "T_range_lab = T_range_overall   \n",
    "x_range_lab = [1, 5, 10,20,30,40,50,60,70,80,90]\n",
    "\n",
    "#contour(T_range_lab, x_range_lab, np.log10(A_heatmap[:,:6]), 'log10(A-optimality)')\n",
    "contour(T_range_lab, x_range_lab, np.log10(A_practical), 'log10(A-optimality)', plot_prior=True)\n",
    "contour(T_range_lab, x_range_lab, np.log10(D_practical), 'log10(D-optimality)', plot_prior=True)\n",
    "contour(T_range_lab, x_range_lab, np.log10(E_practical), 'log10(E-optimality)', plot_prior=True)\n",
    "\n"
   ]
  },
  {
   "cell_type": "code",
   "execution_count": null,
   "id": "6953db2c",
   "metadata": {},
   "outputs": [],
   "source": [
    "contour(T_range_lab, x_range_lab, pressure_practical, 'Pressure [Mpa]', plot_prior=False)\n"
   ]
  },
  {
   "cell_type": "markdown",
   "id": "6d3c0ec4",
   "metadata": {},
   "source": [
    "## Draw prior pressure"
   ]
  },
  {
   "cell_type": "code",
   "execution_count": null,
   "id": "741ea45e",
   "metadata": {},
   "outputs": [],
   "source": [
    "f5 = open('emimtf2n_FIM_info/PR_quadTdep_pressure.json')\n",
    "\n",
    "data_prior = json.load(f5)\n",
    "\n",
    "print(data_prior)\n",
    "print(data_exp)"
   ]
  },
  {
   "cell_type": "code",
   "execution_count": null,
   "id": "49134fe4",
   "metadata": {},
   "outputs": [],
   "source": [
    "def temperature_splitter(temp):\n",
    "\n",
    "    temp_idx= data_exp.index[data_exp['temperature'] == temp].tolist()\n",
    "    print(temp_idx)\n",
    "\n",
    "    x = data_exp.loc[data_exp[\"temperature\"]==temp][\"x_R32\"]\n",
    "\n",
    "    y = [1E-6*data_prior[0][str(i)] for i in temp_idx]\n",
    "    \n",
    "    return x, y\n"
   ]
  },
  {
   "cell_type": "code",
   "execution_count": null,
   "id": "63290dbe",
   "metadata": {},
   "outputs": [],
   "source": [
    "tmp283_x, tmp283_y = temperature_splitter(283.15)\n",
    "tmp298_x, tmp298_y = temperature_splitter(298.15)\n",
    "tmp323_x, tmp323_y = temperature_splitter(323.15)\n",
    "tmp348_x, tmp348_y = temperature_splitter(348.05)"
   ]
  },
  {
   "cell_type": "code",
   "execution_count": null,
   "id": "9debd800",
   "metadata": {},
   "outputs": [],
   "source": [
    "plt.scatter(tmp283_x, tmp283_y, label=\"T=283 K\")\n",
    "plt.scatter(tmp298_x, tmp298_y, marker=\"*\", label=\"T=298 K\")\n",
    "plt.scatter(tmp323_x, tmp323_y, marker=\"^\", label=\"T=323 K\")\n",
    "plt.scatter(tmp348_x, tmp348_y, marker=\"s\", label=\"T=348 K\")\n",
    "\n",
    "# define tick size\n",
    "plt.xticks(fontsize=16)\n",
    "plt.yticks(fontsize=16)\n",
    "plt.tick_params(direction=\"in\",top=True, right=True)\n",
    "\n",
    "# plot titile and x,y label\n",
    "plt.ylabel(r'Pressure [MPa]', fontsize=16, fontweight='bold')\n",
    "plt.xlabel(r'HFC-32 in IL [mol%]', fontsize=16, fontweight='bold')\n",
    "plt.legend()\n",
    "plt.show()"
   ]
  },
  {
   "cell_type": "code",
   "execution_count": null,
   "id": "39dc772a",
   "metadata": {},
   "outputs": [],
   "source": []
  }
 ],
 "metadata": {
  "kernelspec": {
   "display_name": "Python 3 (ipykernel)",
   "language": "python",
   "name": "python3"
  },
  "language_info": {
   "codemirror_mode": {
    "name": "ipython",
    "version": 3
   },
   "file_extension": ".py",
   "mimetype": "text/x-python",
   "name": "python",
   "nbconvert_exporter": "python",
   "pygments_lexer": "ipython3",
   "version": "3.9.7"
  }
 },
 "nbformat": 4,
 "nbformat_minor": 5
}
