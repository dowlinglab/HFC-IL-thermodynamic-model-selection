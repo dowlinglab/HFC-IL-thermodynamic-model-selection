{
 "cells": [
  {
   "cell_type": "code",
   "execution_count": 1,
   "id": "86adfdfc",
   "metadata": {},
   "outputs": [],
   "source": [
    "import json\n",
    "import numpy as np \n",
    "import pandas as pd\n",
    "import matplotlib.pyplot as plt\n",
    "from matplotlib import cm\n",
    "from matplotlib.patches import Polygon\n",
    "from scipy.interpolate import interp2d"
   ]
  },
  {
   "cell_type": "markdown",
   "id": "a48a9211",
   "metadata": {},
   "source": [
    "## Read data prior"
   ]
  },
  {
   "cell_type": "code",
   "execution_count": 11,
   "id": "57352095",
   "metadata": {},
   "outputs": [
    {
     "name": "stdout",
     "output_type": "stream",
     "text": [
      "Var: 8.999999999999999e-08\n"
     ]
    }
   ],
   "source": [
    "unit_operator = 10**(-6) # unit Pa --> MPa\n",
    "#unit_operator = 1\n",
    "fim_converter = 1\n",
    "\n",
    "# STD in MPa\n",
    "#measurement_std = 0.00008\n",
    "measurement_std = 0.0003\n",
    "\n",
    "# MPa**2\n",
    "measurement_var = measurement_std**2\n",
    "\n",
    "print(\"Var:\", measurement_var)"
   ]
  },
  {
   "cell_type": "code",
   "execution_count": 12,
   "id": "1afa50ae",
   "metadata": {},
   "outputs": [],
   "source": [
    "# read prior\n",
    "def read_fim(str_name, dim):\n",
    "    f_prior = open(str_name)\n",
    "\n",
    "    data_prior = json.load(f_prior)\n",
    "    \n",
    "    prior_info = data_prior[0]['Total']\n",
    "    \n",
    "    for i in range(dim):\n",
    "        for j in range(dim):\n",
    "            # unit transfer\n",
    "            prior_info[i][j] *= unit_operator*unit_operator  \n",
    "            # Var\n",
    "            prior_info[i][j] *= 1/measurement_var\n",
    "            \n",
    "    print(prior_info)\n",
    "    print(\"Determinant:\", np.linalg.det(prior_info))\n",
    "    print(\"Trace:\", np.trace(prior_info))\n",
    "    eig_vals = list(np.linalg.eigvals(prior_info))\n",
    "    print(eig_vals)\n",
    "    print(\"Condition number:\", max(eig_vals)/min(eig_vals))\n",
    "    \n",
    "    print(np.linalg.eig(prior_info))\n",
    "    \n",
    "    \n",
    "    return prior_info\n",
    "    \n",
    "    \n",
    "\n"
   ]
  },
  {
   "cell_type": "code",
   "execution_count": 19,
   "id": "bcaa1f76",
   "metadata": {},
   "outputs": [
    {
     "name": "stdout",
     "output_type": "stream",
     "text": [
      "[[99044852126.7339, -12522971179.441887, 200225478188.84824, 66758091044.93622, 326726119206.3942, 166995740540.64252, 18041941892218.406, -17264936573420.227], [-12522971179.441887, 2241493893.419018, -33787615583.502472, -16075013961.127308, -60159177011.172905, -38897037428.543724, -2750628808434.33, 2590577655210.126], [200225478188.84824, -33787615583.502472, 528012047658.1158, 247121795747.00192, 934913317236.452, 597642598938.6847, 43884296065095.42, -41411819165173.43], [66758091044.93622, -16075013961.127308, 247121795747.00192, 147224063031.83536, 469939156420.11646, 349437341561.3444, 18975625799702.4, -17631101438888.312], [326726119206.3942, -60159177011.172905, 934913317236.452, 469939156420.11646, 1689004027553.6682, 1130012575616.3843, 76075557657452.78, -71503543416940.52], [166995740540.64252, -38897037428.543724, 597642598938.6847, 349437341561.3444, 1130012575616.3843, 830731381976.0496, 46227169119934.83, -43013244533519.875], [18041941892218.406, -2750628808434.33, 43884296065095.42, 18975625799702.4, 76075557657452.78, 46227169119934.83, 4509618162104747.0, -4313316577985229.5], [-17264936573420.227, 2590577655210.126, -41411819165173.43, -17631101438888.312, -71503543416940.52, -43013244533519.875, -4313316577985229.5, 4129715136341430.0]]\n",
      "Determinant: 9.829099689582618e+71\n",
      "Trace: 8642629556312417.0\n",
      "[8639460470472010.0, 3083775930359.1836, 84649439240.39989, 505003806.11759925, 109692797.66491306, 45743896.13974497, 7559.768270132287, 22751.28551270773]\n",
      "Condition number: 1142820806373.848\n",
      "(array([8.63946047e+15, 3.08377593e+12, 8.46494392e+10, 5.05003806e+08,\n",
      "       1.09692798e+08, 4.57438961e+07, 7.55976827e+03, 2.27512855e+04]), array([[-2.89086557e-03, -2.20322037e-03, -5.62493044e-01,\n",
      "         6.17225258e-02,  5.50421561e-01,  4.88325495e-01,\n",
      "         3.51885963e-01,  1.20538298e-01],\n",
      "       [ 4.37435855e-04,  1.17426632e-02,  3.25293785e-02,\n",
      "         7.21218551e-02,  7.00370787e-01, -6.11446027e-01,\n",
      "        -2.83344799e-01,  2.21206100e-01],\n",
      "       [-6.98538987e-03, -1.64767761e-01, -5.17425543e-01,\n",
      "         3.43641894e-01, -1.08051976e-01,  4.53666537e-02,\n",
      "        -6.48641482e-01, -3.90532874e-01],\n",
      "       [-2.99864528e-03, -1.46581127e-01,  1.92190930e-01,\n",
      "         5.45428833e-01,  1.36839390e-01, -2.09637402e-01,\n",
      "         4.88136089e-01, -5.85767825e-01],\n",
      "       [-1.20868384e-02, -3.63767923e-01, -4.70631467e-01,\n",
      "         1.29679389e-01, -3.84101875e-01, -4.61322252e-01,\n",
      "         3.25245068e-01,  4.03831511e-01],\n",
      "       [-7.30998087e-03, -3.40203968e-01,  3.76207707e-01,\n",
      "         5.90539424e-01,  8.74349536e-03,  3.50881966e-01,\n",
      "        -1.73096963e-01,  4.90694615e-01],\n",
      "       [-7.22399905e-01, -5.73587470e-01,  8.95922881e-02,\n",
      "        -3.23914806e-01,  1.19331563e-01,  5.35084047e-02,\n",
      "        -2.37952018e-02, -1.36083961e-01],\n",
      "       [ 6.91283237e-01, -6.11681605e-01,  8.26067435e-02,\n",
      "        -3.23932166e-01,  1.19439931e-01,  5.35394246e-02,\n",
      "        -2.37961345e-02, -1.36082952e-01]]))\n"
     ]
    }
   ],
   "source": [
    "num_para = 8  # FIM dimension\n",
    "\n",
    "#file_name = 'emimtf2n_FIM_info/SRK_1Param_Opt2.json'\n",
    "#file_name = 'emimtf2n_FIM_info/SRK_noTdep.json'\n",
    "#file_name = '125_emimtf2n_FIM_info/PR-3A.json'\n",
    "file_name = '32_bmimpf6_FIM_info/SRK-8-unscaleParam.json'\n",
    "\n",
    "\n",
    "prior = read_fim(file_name, num_para)"
   ]
  },
  {
   "cell_type": "code",
   "execution_count": 20,
   "id": "7d209348",
   "metadata": {},
   "outputs": [
    {
     "name": "stdout",
     "output_type": "stream",
     "text": [
      "[[ 1.70259018e-05 -1.20199324e-05 -3.22615099e-05  1.96164169e-05\n",
      "   1.72719359e-05 -5.45357170e-06 -1.82745370e-06 -1.82749085e-06]\n",
      " [-1.20199595e-05  1.27833606e-05  2.05131991e-05 -2.39872389e-05\n",
      "  -8.26029414e-06  1.12541801e-05 -4.31259270e-07 -4.31214231e-07]\n",
      " [-3.22614955e-05  2.05131375e-05  6.23585347e-05 -3.18279750e-05\n",
      "  -3.48384559e-05  6.42981875e-06  4.37730730e-06  4.37736997e-06]\n",
      " [ 1.96164811e-05 -2.39872530e-05 -3.18281133e-05  4.66024280e-05\n",
      "   1.06056777e-05 -2.38116414e-05  1.96679325e-06  1.96670701e-06]\n",
      " [ 1.72719109e-05 -8.26024894e-06 -3.48384231e-05  1.06055837e-05\n",
      "   2.11670177e-05  1.25917872e-06 -3.44025355e-06 -3.44027643e-06]\n",
      " [-5.45361862e-06  1.12542045e-05  6.42991228e-06 -2.38116749e-05\n",
      "   1.25912311e-06  1.45500446e-05 -2.39014769e-06 -2.39010438e-06]\n",
      " [-1.82744277e-06 -4.31269900e-07  4.37728813e-06  1.96681273e-06\n",
      "  -3.44024515e-06 -2.39015622e-06  8.89267995e-07  8.89265062e-07]\n",
      " [-1.82747992e-06 -4.31224861e-07  4.37735081e-06  1.96672649e-06\n",
      "  -3.44026802e-06 -2.39011291e-06  8.89265062e-07  8.89262131e-07]]\n"
     ]
    }
   ],
   "source": [
    "\n",
    "# covariance matrice\n",
    "\n",
    "cov = np.linalg.pinv(prior)\n",
    "print(cov)"
   ]
  },
  {
   "cell_type": "code",
   "execution_count": 21,
   "id": "b2692483",
   "metadata": {},
   "outputs": [
    {
     "name": "stdout",
     "output_type": "stream",
     "text": [
      "[[ 1.         -0.93335409 -0.99646424  0.88103307  0.96161842 -0.64570279\n",
      "  -0.56279222 -0.5628081 ]\n",
      " [-0.93335409  1.          0.89989529 -0.99212202 -0.79903635  0.87676476\n",
      "   0.22857126  0.22858996]\n",
      " [-0.99646424  0.89989529  1.         -0.83817313 -0.98127206  0.57926499\n",
      "   0.63025118  0.63026609]\n",
      " [ 0.88103307 -0.99212202 -0.83817313  1.          0.71741638 -0.93010478\n",
      "  -0.10481252 -0.10483163]\n",
      " [ 0.96161842 -0.79903635 -0.98127206  0.71741638  1.         -0.41139889\n",
      "  -0.76800172 -0.76801402]\n",
      " [-0.64570279  0.87676476  0.57926499 -0.93010478 -0.41139889  1.\n",
      "  -0.26778451 -0.267766  ]\n",
      " [-0.56279222  0.22857126  0.63025118 -0.10481252 -0.76800172 -0.26778451\n",
      "   1.          1.        ]\n",
      " [-0.5628081   0.22858996  0.63026609 -0.10483163 -0.76801402 -0.267766\n",
      "   1.          1.        ]]\n"
     ]
    }
   ],
   "source": [
    "# correlation \n",
    "\n",
    "R = np.corrcoef(cov)\n",
    "\n",
    "print(R)"
   ]
  },
  {
   "cell_type": "code",
   "execution_count": null,
   "id": "a6ef2042",
   "metadata": {},
   "outputs": [],
   "source": [
    "eig_test = np.linalg.eig(prior)[1]"
   ]
  },
  {
   "cell_type": "code",
   "execution_count": 7,
   "id": "bb3828b0",
   "metadata": {},
   "outputs": [],
   "source": [
    "df = pd.DataFrame(R)\n",
    "writer = pd.ExcelWriter('test.xlsx', engine='xlsxwriter')\n",
    "df.to_excel(writer, sheet_name='welcome', index=False)\n",
    "writer.save()\n"
   ]
  },
  {
   "cell_type": "markdown",
   "id": "57930146",
   "metadata": {},
   "source": [
    "##  Read data "
   ]
  },
  {
   "cell_type": "code",
   "execution_count": null,
   "id": "388ed80c",
   "metadata": {},
   "outputs": [],
   "source": [
    "# read prior\n",
    "\n",
    "f = open('emimtf2n_FIM_info/PR_quad_543900_scaledBar_pa_scaleopt.json')\n",
    "f2 = open('emimtf2n_FIM_info/PR_quad_543900_scaledBar_pa_scaleopt_pressure.json')\n",
    "#f3 = open('emimtf2n_FIM_info/PR_quad_543900_scaledBar_under10.json')\n",
    "#f4 = open('emimtf2n_FIM_info/PR_quad_543900_scaledBar_under10_pressure.json')\n",
    "\n",
    "data = json.load(f)\n",
    "\n",
    "data_pressure = json.load(f2)\n",
    "\n",
    "#data_under10 = json.load(f3)\n",
    "#data_pressure_under10 = json.load(f4)"
   ]
  },
  {
   "cell_type": "code",
   "execution_count": null,
   "id": "87676bde",
   "metadata": {},
   "outputs": [],
   "source": [
    "T_range_overall = [273, 283, 293, 303, 313, 323, 333, 343, 353, 363, 373, 383, 393, 400]\n",
    "x_range_overall = [0.01, 0.05, 0.1,0.2, 0.3, 0.4, 0.5, 0.6, 0.7, 0.8, 0.9]\n"
   ]
  },
  {
   "cell_type": "code",
   "execution_count": null,
   "id": "66dd907e",
   "metadata": {},
   "outputs": [],
   "source": [
    "unit_operator = 10**(-6)\n",
    "#unit_operator = 1\n",
    "fim_converter = 1\n",
    "\n",
    "# STD in MPa\n",
    "measurement_std = 0.00008\n",
    "\n",
    "# MPa**2\n",
    "measurement_var = measurement_std**2\n",
    "\n",
    "print(\"The unit operator converts units from Pa to Mpa:\", unit_operator)\n",
    "print(fim_converter)"
   ]
  },
  {
   "cell_type": "code",
   "execution_count": null,
   "id": "a4e42d3b",
   "metadata": {},
   "outputs": [],
   "source": [
    "# read prior\n",
    "def remove_fim(idx_to_remove):\n",
    "    f_prior = open('emimtf2n_FIM_info/PR_quadTdep_scaleopt.json')\n",
    "\n",
    "    data_prior = json.load(f_prior)\n",
    "\n",
    "    #prior_info = data[0]['Total']\n",
    "    prior_info = [[0]*6 for i in range(6)]\n",
    "    \n",
    "    # remove idx\n",
    "    for idx in idx_to_remove:\n",
    "        for a in range(6):\n",
    "            for b in range(6):\n",
    "                prior_info[a][b] += data_prior[0][str(idx)][a][b]\n",
    "\n",
    "    for i in range(6):\n",
    "        for j in range(6):\n",
    "            prior_info[i][j] *= unit_operator*unit_operator      \n",
    "            prior_info[i][j] *= 1/measurement_var\n",
    "            \n",
    "    return prior_info\n",
    "\n"
   ]
  },
  {
   "cell_type": "code",
   "execution_count": null,
   "id": "971a4dfc",
   "metadata": {},
   "outputs": [],
   "source": [
    "new_prior = [2, 3, 5, 12, 16, 19, 23, 26]\n",
    "#new_prior = [32]\n",
    "num_to_remove = []\n",
    "for i in range(27):\n",
    "    if i not in new_prior:\n",
    "        num_to_remove.append(i)\n",
    "\n",
    "fim_to_be_removed = remove_fim(num_to_remove)\n",
    "print(fim_to_be_removed)"
   ]
  },
  {
   "cell_type": "code",
   "execution_count": null,
   "id": "e4cba6bb",
   "metadata": {},
   "outputs": [],
   "source": [
    "def read_heatmap(T_range, x_range, data_set, pressure_data_set, remove=None):\n",
    "    A_heatmap = np.zeros((len(T_range), len(x_range)))\n",
    "    D_heatmap = np.zeros((len(T_range), len(x_range)))\n",
    "    E_heatmap = np.zeros((len(T_range), len(x_range)))\n",
    "    ME_heatmap = np.zeros((len(T_range), len(x_range)))\n",
    "\n",
    "    pressure_heatmap = np.zeros((len(T_range), len(x_range)))\n",
    "\n",
    "    for i in range(len(T_range)):\n",
    "        for j in range(len(x_range)):\n",
    "            count = i*len(x_range) + j \n",
    "\n",
    "            #fim = np.asarray(data_set[0][str(count)])\n",
    "            # the recorded FIM (Q.T@Q) is based on MPa for measurements \n",
    "            # computed with 1 for meausrement STD \n",
    "            fim = np.asarray(data_set[0][str(count)])*fim_converter*fim_converter\n",
    "            \n",
    "            # factor in measurement STD; post processing step \n",
    "            fim *= 1/measurement_var\n",
    "            \n",
    "            print(\"before:\", fim)\n",
    "            \n",
    "            # for the removing prior fn. Default is closed. \n",
    "            if remove:\n",
    "                for a in range(6):\n",
    "                    for b in range(6):\n",
    "                        fim[a][b] -= remove[a][b]\n",
    "                    \n",
    "            fim = np.asarray(fim)\n",
    "            print(\"after:\", fim)\n",
    "            \n",
    "            \n",
    "            A_heatmap[i,j] = np.trace(fim)\n",
    "            D_heatmap[i,j] = np.linalg.det(fim)\n",
    "            E_heatmap[i,j] = min(np.linalg.eigvals(fim))\n",
    "            ME_heatmap[i,j] = np.linalg.cond(fim)\n",
    "\n",
    "            # convert unit\n",
    "            pressure_heatmap[i,j] = pressure_data_set[0][str(count)]*unit_operator\n",
    "            \n",
    "    return A_heatmap, D_heatmap, E_heatmap, ME_heatmap, pressure_heatmap"
   ]
  },
  {
   "cell_type": "code",
   "execution_count": null,
   "id": "471cad0c",
   "metadata": {},
   "outputs": [],
   "source": [
    "A_heatmap_overall, D_heatmap_overall, E_heatmap_overall, ME_heatmap_overall, pressure_heatmap_overall = read_heatmap(T_range_overall, x_range_overall, data, data_pressure, remove=fim_to_be_removed)\n"
   ]
  },
  {
   "cell_type": "code",
   "execution_count": null,
   "id": "802d8900",
   "metadata": {
    "scrolled": false
   },
   "outputs": [],
   "source": [
    "#print(pressure_heatmap)\n",
    "\n",
    "A_practical  = A_heatmap_overall.copy()\n",
    "D_practical  = D_heatmap_overall.copy()\n",
    "E_practical  = E_heatmap_overall.copy()\n",
    "ME_practical  = ME_heatmap_overall.copy()\n",
    "pressure_practical = pressure_heatmap_overall.copy()\n",
    "\n",
    "for i in range(len(pressure_heatmap_overall)):\n",
    "    for j in range(len(pressure_heatmap_overall[0])):\n",
    "        if pressure_practical[i,j] > 2.5:\n",
    "            pressure_practical[i,j] = float(\"NaN\")\n",
    "            \n",
    "            A_practical[i,j] = float('NaN')\n",
    "            E_practical[i,j] = float('NaN')\n",
    "            D_practical[i,j] = float('NaN')\n",
    "            ME_practical[i,j] = float('NaN')\n",
    "print(pressure_practical)"
   ]
  },
  {
   "cell_type": "code",
   "execution_count": null,
   "id": "b183bcd3",
   "metadata": {},
   "outputs": [],
   "source": [
    "data_file = './emimtf2n/R32/Final_Results/MBDoE/r32_emimtf2n_subset.csv'\n",
    "data_exp = pd.read_csv(data_file)\n",
    "print(len(data_exp))"
   ]
  },
  {
   "cell_type": "code",
   "execution_count": null,
   "id": "ff4de581",
   "metadata": {},
   "outputs": [],
   "source": [
    "#print(D_practical)\n",
    "import math\n",
    "from scipy.interpolate import interp1d\n",
    "#print(np.shape(D_practical))\n",
    "\n",
    "T_range_lab = T_range_overall   \n",
    "x_range_lab = [1, 5, 10,20,30,40,50,60,70,80,90]\n",
    "\n",
    "edges = []\n",
    "for i in range(14):\n",
    "    for j in range(11):\n",
    "        if math.isnan(D_practical[i,j]):\n",
    "            #edges.append((i,j))\n",
    "            edges.append((i, j-1))\n",
    "            break;\n",
    "            \n",
    "#print(edges)\n",
    "\n",
    "edges_map = []\n",
    "\n",
    "for edge in edges:\n",
    "    edges_map.append((T_range_lab[edge[0]], x_range_lab[edge[1]]))\n",
    "    \n",
    "#print(edges_map)\n",
    "\n",
    "print(T_range_lab[edges[0][0]-1])\n",
    "\n",
    "a, b = T_range_lab[edges[0][0]-1], edges_map[-1][1]\n",
    "\n",
    "a_real = T_range_lab[edges[0][0]]\n",
    "\n",
    "x =[edges_map[i][0] for i in range(len(edges_map))]\n",
    "y =[edges_map[i][1] for i in range(len(edges_map))]\n",
    "f = interp1d(x, y, kind='quadratic')\n",
    "\n",
    "xnew = np.arange(a_real, 400)\n",
    "ynew = f(xnew)   # use interpolation function returned by `interp1d`\n",
    "#print(ynew)\n",
    "\n",
    "#print(x, y)\n",
    "#print(f)"
   ]
  },
  {
   "cell_type": "code",
   "execution_count": null,
   "id": "eb5e9936",
   "metadata": {},
   "outputs": [],
   "source": [
    "x_ax = T_range_lab\n",
    "y_ax = x_range_lab \n",
    "z_ax = pressure_heatmap_overall\n",
    "\n",
    "xnew = np.arange(285, 400, 0.1)\n",
    "ynew = np.arange(18, 90, 0.1) \n",
    "\n",
    "f = interp2d(x_ax, y_ax, z_ax.T)\n",
    "\n",
    "f_new = f(xnew, ynew)\n",
    "print(np.shape(f_new))\n",
    "\n",
    "f_newT =  f_new.T\n",
    "\n",
    "x_15 = []\n",
    "y_15 = []\n",
    "\n",
    "for i in range(len(xnew)):\n",
    "    for j in range(len(ynew)):\n",
    "        if i>=1 and f_newT[i,j] >= 1.500000 and f_newT[i-1,j]<=1.500000:\n",
    "            x_15.append(xnew[i])\n",
    "            y_15.append(ynew[j])"
   ]
  },
  {
   "cell_type": "code",
   "execution_count": null,
   "id": "1c9ee23d",
   "metadata": {},
   "outputs": [],
   "source": [
    "def contour(T_range_label, x_range_label, heatmap_data, bar_label, plot_prior=True):\n",
    "    # draw figure, using (6,6) because the plot is small otherwise\n",
    "    #fig, ax = plt.figure(figsize=(6,6))\n",
    "    fig, ax = plt.subplots()\n",
    "    \n",
    "    # plot heatmap\n",
    "    #   cmap defines the overall color within the heatmap \n",
    "    #   levels: determines the number and positions of the contour lines / regions.\n",
    "    cs = plt.contourf(T_range_label, x_range_label, heatmap_data.T,cmap=cm.coolwarm)\n",
    "\n",
    "    # plot color bar\n",
    "    cbar = plt.colorbar(cs)\n",
    "\n",
    "    # plot title in color bar\n",
    "    cbar.ax.set_ylabel(bar_label, fontsize=16, fontweight='bold')\n",
    "\n",
    "    # set font size in color bar\n",
    "    cbar.ax.tick_params(labelsize=16)\n",
    "    \n",
    "    def func(x):\n",
    "        return x*0.1\n",
    "\n",
    "    #ix = np.linspace(a, b)\n",
    "    #iy = func(ix)\n",
    "    a_new = np.linspace(a, 400,1)\n",
    "    upper_90 = [90 for i in range(len(a_new))]\n",
    "    \n",
    "    b_new = np.linspace(b, 90, 1)\n",
    "    right_400 = [400 for j in range(len(b_new))]\n",
    "    \n",
    "    #verts = [(a, 90)] + list(zip(ix, iy)) + [(400, b)]\n",
    "    #verts = list(zip(a_new, upper_90)) + list(zip(xnew, ynew)) + list(zip(right_400, b_new)) + [(400,90)]\n",
    "    verts = list(zip(a_new, upper_90)) + list(zip(x_15, y_15)) + list(zip(right_400, b_new)) + [(400,90)]\n",
    "    poly = Polygon(verts, facecolor='white', edgecolor='darkblue', closed=True)\n",
    "    #polygon1 = Polygon([[0.5,0.2], [0.4,0.3], [0.6, 0.9],], closed=True, alpha=1)\n",
    "    \n",
    "    ax.add_patch(poly)\n",
    "\n",
    "    # plot equipotential line\n",
    "    #  [::10] means sampling 1 in every 10 samples\n",
    "    #  colors define the color want to use, 'k' for black\n",
    "    #  alpha is blending value, between 0 (transparent) and 1 (opaque).\n",
    "    #  linestyle defines the linestyle.\n",
    "    #  linewidth defines the width of line\n",
    "    #cs2 = plt.contour(cs, levels=cs.levels[::10], colors='k', alpha=0.7, linestyles='dashed', linewidths=3)\n",
    "\n",
    "    # plot the heatmap label\n",
    "    #  %2.2f means keep to 2 digit\n",
    "    #  fontsize defines the size of the text in figure\n",
    "    #plt.clabel(cs2, fmt='%2.2f', colors='k', fontsize=16)\n",
    "\n",
    "    # define tick size\n",
    "    plt.xticks(fontsize=16)\n",
    "    plt.yticks(fontsize=16)\n",
    "    plt.tick_params(direction=\"in\",top=True, right=True)\n",
    "\n",
    "    # set squared figure\n",
    "    if plot_prior:\n",
    "        for i in new_prior:  \n",
    "        #for i in range(len(data_exp)):\n",
    "            if i==16:\n",
    "                plt.scatter(data_exp.iloc[i]['temperature'], data_exp.iloc[i]['x_R32']*100, color=\"black\",marker=\"*\", s=150)\n",
    "                \n",
    "            elif i==3:\n",
    "                plt.scatter(data_exp.iloc[i]['temperature'], data_exp.iloc[i]['x_R32']*100, color=\"black\",marker=\"^\", s=125)\n",
    "                \n",
    "            elif i in new_prior:\n",
    "                plt.scatter(data_exp.iloc[i]['temperature'], data_exp.iloc[i]['x_R32']*100, color=\"black\", s=80)\n",
    "        \n",
    "            #else:\n",
    "            #plt.scatter(data_exp.iloc[i]['temperature'], data_exp.iloc[i]['x_R32']*100, color=\"darkgrey\", s=20)\n",
    "        \n",
    "            \n",
    "        \n",
    "    # plot titile and x,y label\n",
    "    plt.xlabel(r'Temperature [K]', fontsize=16, fontweight='bold')\n",
    "    plt.ylabel(r'HFC-32 in IL [mol%]', fontsize=16, fontweight='bold')\n",
    "    plt.show()\n",
    "\n",
    "    # save figure (important for publications)\n",
    "    # plt.savefig('heatmap.png',bbox_inches='tight')\n",
    "    \n",
    "    \n",
    "T_range_lab = T_range_overall   \n",
    "x_range_lab = [1, 5, 10,20,30,40,50,60,70,80,90]\n",
    "\n",
    "#contour(T_range_lab, x_range_lab, np.log10(A_heatmap[:,:6]), 'log10(A-optimality)')\n",
    "contour(T_range_lab, x_range_lab, np.log10(A_practical), 'log10(A-optimality)', plot_prior=True)\n",
    "contour(T_range_lab, x_range_lab, np.log10(D_practical), 'log10(D-optimality)', plot_prior=True)\n",
    "contour(T_range_lab, x_range_lab, np.log10(E_practical), 'log10(E-optimality)', plot_prior=True)\n",
    "\n"
   ]
  },
  {
   "cell_type": "code",
   "execution_count": null,
   "id": "6953db2c",
   "metadata": {},
   "outputs": [],
   "source": [
    "contour(T_range_lab, x_range_lab, pressure_practical, 'Pressure [Mpa]', plot_prior=False)\n"
   ]
  },
  {
   "cell_type": "markdown",
   "id": "6d3c0ec4",
   "metadata": {},
   "source": [
    "## Draw prior pressure"
   ]
  },
  {
   "cell_type": "code",
   "execution_count": null,
   "id": "741ea45e",
   "metadata": {},
   "outputs": [],
   "source": [
    "f5 = open('emimtf2n_FIM_info/PR_quadTdep_pressure.json')\n",
    "\n",
    "data_prior = json.load(f5)\n",
    "\n",
    "print(data_prior)\n",
    "print(data_exp)"
   ]
  },
  {
   "cell_type": "code",
   "execution_count": null,
   "id": "49134fe4",
   "metadata": {},
   "outputs": [],
   "source": [
    "def temperature_splitter(temp):\n",
    "\n",
    "    temp_idx= data_exp.index[data_exp['temperature'] == temp].tolist()\n",
    "    print(temp_idx)\n",
    "\n",
    "    x = data_exp.loc[data_exp[\"temperature\"]==temp][\"x_R32\"]\n",
    "\n",
    "    y = [1E-6*data_prior[0][str(i)] for i in temp_idx]\n",
    "    \n",
    "    return x, y\n"
   ]
  },
  {
   "cell_type": "code",
   "execution_count": null,
   "id": "63290dbe",
   "metadata": {},
   "outputs": [],
   "source": [
    "tmp283_x, tmp283_y = temperature_splitter(283.15)\n",
    "tmp298_x, tmp298_y = temperature_splitter(298.15)\n",
    "tmp323_x, tmp323_y = temperature_splitter(323.15)\n",
    "tmp348_x, tmp348_y = temperature_splitter(348.05)"
   ]
  },
  {
   "cell_type": "code",
   "execution_count": null,
   "id": "9debd800",
   "metadata": {},
   "outputs": [],
   "source": [
    "plt.scatter(tmp283_x, tmp283_y, label=\"T=283 K\")\n",
    "plt.scatter(tmp298_x, tmp298_y, marker=\"*\", label=\"T=298 K\")\n",
    "plt.scatter(tmp323_x, tmp323_y, marker=\"^\", label=\"T=323 K\")\n",
    "plt.scatter(tmp348_x, tmp348_y, marker=\"s\", label=\"T=348 K\")\n",
    "\n",
    "# define tick size\n",
    "plt.xticks(fontsize=16)\n",
    "plt.yticks(fontsize=16)\n",
    "plt.tick_params(direction=\"in\",top=True, right=True)\n",
    "\n",
    "# plot titile and x,y label\n",
    "plt.ylabel(r'Pressure [MPa]', fontsize=16, fontweight='bold')\n",
    "plt.xlabel(r'HFC-32 in IL [mol%]', fontsize=16, fontweight='bold')\n",
    "plt.legend()\n",
    "plt.show()"
   ]
  },
  {
   "cell_type": "code",
   "execution_count": null,
   "id": "39dc772a",
   "metadata": {},
   "outputs": [],
   "source": []
  }
 ],
 "metadata": {
  "kernelspec": {
   "display_name": "Python 3 (ipykernel)",
   "language": "python",
   "name": "python3"
  },
  "language_info": {
   "codemirror_mode": {
    "name": "ipython",
    "version": 3
   },
   "file_extension": ".py",
   "mimetype": "text/x-python",
   "name": "python",
   "nbconvert_exporter": "python",
   "pygments_lexer": "ipython3",
   "version": "3.9.7"
  }
 },
 "nbformat": 4,
 "nbformat_minor": 5
}
