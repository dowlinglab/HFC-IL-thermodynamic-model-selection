{
 "cells": [
  {
   "cell_type": "code",
   "execution_count": 12,
   "id": "2611c1eb",
   "metadata": {},
   "outputs": [],
   "source": [
    "import json\n",
    "import numpy as np \n",
    "import pandas as pd\n",
    "import matplotlib.pyplot as plt\n",
    "from matplotlib import cm"
   ]
  },
  {
   "cell_type": "markdown",
   "id": "4369400a",
   "metadata": {},
   "source": [
    "##  Read data "
   ]
  },
  {
   "cell_type": "code",
   "execution_count": 27,
   "id": "3da162b7",
   "metadata": {},
   "outputs": [],
   "source": [
    "# read prior\n",
    "\n",
    "f = open('emimtf2n_FIM_info/PR_quad_543900.json')\n",
    "\n",
    "data = json.load(f)\n",
    "\n",
    "#prior_info = data[0]['1']\n",
    "\n",
    "#print(prior_info)"
   ]
  },
  {
   "cell_type": "code",
   "execution_count": 28,
   "id": "12764efa",
   "metadata": {},
   "outputs": [],
   "source": [
    "T_range = [273, 283, 293, 303, 313, 323, 333, 343, 353, 363, 373, 383, 393, 400]\n",
    "x_range = [0.1,0.2, 0.3, 0.4, 0.5, 0.6, 0.7, 0.8, 0.9]\n"
   ]
  },
  {
   "cell_type": "code",
   "execution_count": 29,
   "id": "8ebb38e7",
   "metadata": {},
   "outputs": [],
   "source": [
    "A_heatmap = np.zeros((len(T_range), len(x_range)))\n",
    "D_heatmap = np.zeros((len(T_range), len(x_range)))\n",
    "E_heatmap = np.zeros((len(T_range), len(x_range)))\n",
    "ME_heatmap = np.zeros((len(T_range), len(x_range)))\n",
    "\n",
    "\n",
    "for i in range(len(T_range)):\n",
    "    for j in range(len(x_range)):\n",
    "        count = i*len(x_range) + j \n",
    "        \n",
    "        fim = np.asarray(data[0][str(count)])\n",
    "        \n",
    "        A_heatmap[i,j] = np.trace(fim)\n",
    "        D_heatmap[i,j] = np.linalg.det(fim)\n",
    "        E_heatmap[i,j] = min(np.linalg.eigvals(fim))\n",
    "        ME_heatmap[i,j] = np.linalg.cond(fim)\n",
    "        "
   ]
  },
  {
   "cell_type": "code",
   "execution_count": 30,
   "id": "6d4562f2",
   "metadata": {},
   "outputs": [
    {
     "name": "stdout",
     "output_type": "stream",
     "text": [
      "[[1.20364632e+61 1.33311098e+61 1.48657324e+61 1.61869414e+61\n",
      "  1.72310133e+61 1.90130038e+61 2.46326952e+61 3.82465976e+61\n",
      "  4.82501179e+61]\n",
      " [1.18304933e+61 1.26380072e+61 1.35769493e+61 1.42503791e+61\n",
      "  1.43605448e+61 1.41443203e+61 1.53150886e+61 2.15992587e+61\n",
      "  2.93194230e+61]\n",
      " [1.17287475e+61 1.22528400e+61 1.27835253e+61 1.30415249e+61\n",
      "  1.30098477e+61 1.36520712e+61 1.84866030e+61 3.41520821e+61\n",
      "  4.94788319e+61]\n",
      " [1.17750407e+61 1.23332983e+61 1.27580767e+61 1.28523620e+61\n",
      "  1.34839757e+61 1.90036422e+61 4.29106029e+61 1.10690628e+62\n",
      "  1.70700032e+62]\n",
      " [1.19494170e+61 1.27839498e+61 1.32648642e+61 1.33896438e+61\n",
      "  1.64514544e+61 3.71069259e+61 1.24293275e+62 3.95716512e+62\n",
      "  6.92871443e+62]\n",
      " [1.21785748e+61 1.32357721e+61 1.36051538e+61 1.51038324e+61\n",
      "  3.13812292e+61 1.19151286e+62 4.90913666e+62 1.93285661e+63\n",
      "  1.28896039e+66]\n",
      " [1.24252606e+61 1.33059414e+61 1.34997402e+61 2.41701563e+61\n",
      "  1.03706763e+62 4.98633821e+62 2.35058512e+63 2.38161189e+64\n",
      "  2.85450511e+66]\n",
      " [1.29046762e+61 1.33567343e+61 1.55936082e+61 6.49310102e+61\n",
      "  3.84858435e+62 2.01973065e+63 1.20841589e+64 1.01149247e+68\n",
      "  6.13925947e+66]\n",
      " [1.44782237e+61 1.60122484e+61 3.06677180e+61 2.06014941e+62\n",
      "  1.29393966e+63 7.42781554e+63 8.33673678e+64 8.01014815e+68\n",
      "  1.21307160e+67]\n",
      " [1.92702694e+61 2.87077744e+61 8.69495724e+61 6.09741574e+62\n",
      "  3.86712177e+63 2.53723918e+64 2.92941344e+66 8.98933034e+69\n",
      "  2.19667255e+67]\n",
      " [3.15410665e+61 6.75291915e+61 2.45184012e+62 1.61890715e+63\n",
      "  1.04782928e+64 8.36061645e+64 1.32361352e+67 3.73898057e+67\n",
      "  3.68996093e+67]\n",
      " [5.88284505e+61 1.62541037e+62 6.21296624e+62 3.90041309e+63\n",
      "  2.62640668e+64 2.73988878e+65 4.10175381e+67 5.92077328e+67\n",
      "  5.82644993e+67]\n",
      " [1.13343371e+62 3.64698326e+62 1.41847716e+63 8.67061106e+63\n",
      "  6.18032241e+64 8.82061564e+65 1.10835795e+68 8.90174728e+67\n",
      "  8.74516018e+67]\n",
      " [1.77300424e+62 6.11494202e+62 2.39884911e+63 1.45671925e+64\n",
      "  1.08917496e+65 1.89626572e+66 2.12956619e+68 1.15412707e+68\n",
      "  1.13296956e+68]]\n"
     ]
    }
   ],
   "source": [
    "print(D_heatmap)"
   ]
  },
  {
   "cell_type": "code",
   "execution_count": 42,
   "id": "579a12e1",
   "metadata": {},
   "outputs": [
    {
     "data": {
      "image/png": "[encoded data removed]",
      "text/plain": [
       "<Figure size 576x576 with 2 Axes>"
      ]
     },
     "metadata": {
      "needs_background": "light"
     },
     "output_type": "display_data"
    }
   ],
   "source": [
    "def contour(T_range_label, x_range_label, heatmap_data, bar_label):\n",
    "    # draw figure, using (6,6) because the plot is small otherwise\n",
    "    plt.figure(figsize=(8,8))\n",
    "\n",
    "    # plot heatmap\n",
    "    #   cmap defines the overall color within the heatmap \n",
    "    #   levels: determines the number and positions of the contour lines / regions.\n",
    "    cs = plt.contourf(T_range_label, x_range_label, heatmap_data.T,cmap=cm.coolwarm)\n",
    "\n",
    "    # plot color bar\n",
    "    cbar = plt.colorbar(cs)\n",
    "\n",
    "    # plot title in color bar\n",
    "    cbar.ax.set_ylabel(bar_label, fontsize=16, fontweight='bold')\n",
    "\n",
    "    # set font size in color bar\n",
    "    cbar.ax.tick_params(labelsize=16)\n",
    "\n",
    "    # plot equipotential line\n",
    "    #  [::10] means sampling 1 in every 10 samples\n",
    "    #  colors define the color want to use, 'k' for black\n",
    "    #  alpha is blending value, between 0 (transparent) and 1 (opaque).\n",
    "    #  linestyle defines the linestyle.\n",
    "    #  linewidth defines the width of line\n",
    "    cs2 = plt.contour(cs, levels=cs.levels[::10], colors='k', alpha=0.7, linestyles='dashed', linewidths=3)\n",
    "\n",
    "    # plot the heatmap label\n",
    "    #  %2.2f means keep to 2 digit\n",
    "    #  fontsize defines the size of the text in figure\n",
    "    plt.clabel(cs2, fmt='%2.2f', colors='k', fontsize=16)\n",
    "\n",
    "    # define tick size\n",
    "    plt.xticks(fontsize=16)\n",
    "    plt.yticks(fontsize=16)\n",
    "    plt.tick_params(direction=\"in\",top=True, right=True)\n",
    "\n",
    "    # set squared figure\n",
    "    #plt.axis('square')\n",
    "\n",
    "    # plot titile and x,y label\n",
    "    plt.xlabel(r'Temperature', fontsize=16, fontweight='bold')\n",
    "    plt.ylabel(r'R32 fraction', fontsize=16, fontweight='bold')\n",
    "    plt.show()\n",
    "\n",
    "    # save figure (important for publications)\n",
    "    # plt.savefig('heatmap.png',bbox_inches='tight')\n",
    "    \n",
    "    \n",
    "T_range_lab = T_range    \n",
    "x_range_lab = [10,20,30,40,50,60,70,80,90]\n",
    "    \n",
    "contour(T_range_lab, x_range_lab, np.log10(A_heatmap), 'log10(A-optimality)')"
   ]
  },
  {
   "cell_type": "code",
   "execution_count": null,
   "id": "3b62f945",
   "metadata": {},
   "outputs": [],
   "source": []
  }
 ],
 "metadata": {
  "kernelspec": {
   "display_name": "Python 3 (ipykernel)",
   "language": "python",
   "name": "python3"
  },
  "language_info": {
   "codemirror_mode": {
    "name": "ipython",
    "version": 3
   },
   "file_extension": ".py",
   "mimetype": "text/x-python",
   "name": "python",
   "nbconvert_exporter": "python",
   "pygments_lexer": "ipython3",
   "version": "3.7.11"
  }
 },
 "nbformat": 4,
 "nbformat_minor": 5
}
