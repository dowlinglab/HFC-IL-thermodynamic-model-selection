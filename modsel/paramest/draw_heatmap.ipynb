{
 "cells": [
  {
   "cell_type": "code",
   "execution_count": 1,
   "id": "86adfdfc",
   "metadata": {},
   "outputs": [],
   "source": [
    "import json\n",
    "import numpy as np \n",
    "import pandas as pd\n",
    "import matplotlib.pyplot as plt\n",
    "from matplotlib import cm\n",
    "from matplotlib.patches import Polygon"
   ]
  },
  {
   "cell_type": "markdown",
   "id": "57930146",
   "metadata": {},
   "source": [
    "##  Read data "
   ]
  },
  {
   "cell_type": "code",
   "execution_count": 2,
   "id": "388ed80c",
   "metadata": {},
   "outputs": [],
   "source": [
    "# read prior\n",
    "\n",
    "f = open('emimtf2n_FIM_info/PR_quad_543900_scaledBar.json')\n",
    "\n",
    "f2 = open('emimtf2n_FIM_info/PR_quad_543900_scaledBar_pressure.json')\n",
    "\n",
    "f3 = open('emimtf2n_FIM_info/PR_quad_543900_scaledBar_under10.json')\n",
    "\n",
    "f4 = open('emimtf2n_FIM_info/PR_quad_543900_scaledBar_under10_pressure.json')\n",
    "\n",
    "data = json.load(f)\n",
    "\n",
    "data_pressure = json.load(f2)\n",
    "\n",
    "data_under10 = json.load(f3)\n",
    "data_pressure_under10 = json.load(f4)"
   ]
  },
  {
   "cell_type": "code",
   "execution_count": 3,
   "id": "87676bde",
   "metadata": {},
   "outputs": [],
   "source": [
    "T_range_overall = [273, 283, 293, 303, 313, 323, 333, 343, 353, 363, 373, 383, 393, 400]\n",
    "x_range_original = [0.1,0.2, 0.3, 0.4, 0.5, 0.6, 0.7, 0.8, 0.9]\n",
    "x_range_under10 = [0.01, 0.05]"
   ]
  },
  {
   "cell_type": "code",
   "execution_count": 4,
   "id": "a4e42d3b",
   "metadata": {},
   "outputs": [],
   "source": [
    "# read prior\n",
    "def remove_fim(idx_to_remove):\n",
    "    f_prior = open('emimtf2n_FIM_info/PR_quadTdep.json')\n",
    "\n",
    "    data_prior = json.load(f_prior)\n",
    "\n",
    "    #prior_info = data[0]['Total']\n",
    "    prior_info = [[0]*6 for i in range(6)]\n",
    "    \n",
    "    # remove idx\n",
    "    for idx in idx_to_remove:\n",
    "        for a in range(6):\n",
    "            for b in range(6):\n",
    "                prior_info[a][b] += data_prior[0][str(idx)][a][b]\n",
    "\n",
    "    for i in range(6):\n",
    "        for j in range(6):\n",
    "            prior_info[i][j] *= 10**(-10)\n",
    "            \n",
    "    return prior_info\n",
    "\n"
   ]
  },
  {
   "cell_type": "code",
   "execution_count": 5,
   "id": "971a4dfc",
   "metadata": {},
   "outputs": [
    {
     "name": "stdout",
     "output_type": "stream",
     "text": [
      "[[2858.975818799478, -579.2612101929627, 5207.751301686086, -428.3489541348661, 1864.2891008357365, -283.54626365025234], [-579.2612101929627, 163.6533703488036, -1019.3277971467716, 117.80329426080242, -352.28653018832347, 75.79362291682195], [5207.751301686086, -1019.3277971467716, 9533.385527008872, -757.0268587288143, 3429.7367292757167, -503.37387249760616], [-428.3489541348661, 117.80329426080242, -757.0268587288143, 85.0357169357919, -262.8129479280551, 54.87487164384609], [1864.2891008357365, -352.28653018832347, 3429.7367292757167, -262.8129479280551, 1239.9525233939873, -175.57043835922119], [-283.54626365025234, 75.79362291682195, -503.37387249760616, 54.87487164384609, -175.57043835922119, 35.52482332193588]]\n"
     ]
    }
   ],
   "source": [
    "new_prior = [2, 5, 12, 19, 23, 26]\n",
    "\n",
    "num_to_remove = []\n",
    "for i in range(27):\n",
    "    if i not in new_prior:\n",
    "        num_to_remove.append(i)\n",
    "\n",
    "fim_to_be_removed = remove_fim(num_to_remove)\n",
    "print(fim_to_be_removed)"
   ]
  },
  {
   "cell_type": "code",
   "execution_count": 6,
   "id": "e4cba6bb",
   "metadata": {},
   "outputs": [],
   "source": [
    "def read_heatmap(T_range, x_range, data_set, pressure_data_set, remove=None):\n",
    "    A_heatmap = np.zeros((len(T_range), len(x_range)))\n",
    "    D_heatmap = np.zeros((len(T_range), len(x_range)))\n",
    "    E_heatmap = np.zeros((len(T_range), len(x_range)))\n",
    "    ME_heatmap = np.zeros((len(T_range), len(x_range)))\n",
    "\n",
    "    pressure_heatmap = np.zeros((len(T_range), len(x_range)))\n",
    "\n",
    "    for i in range(len(T_range)):\n",
    "        for j in range(len(x_range)):\n",
    "            count = i*len(x_range) + j \n",
    "\n",
    "            #fim = np.asarray(data_set[0][str(count)])\n",
    "            fim = data_set[0][str(count)]\n",
    "            \n",
    "            if remove:\n",
    "                for a in range(6):\n",
    "                    for b in range(6):\n",
    "                        fim[a][b] -= remove[a][b]\n",
    "                    \n",
    "            fim = np.asarray(fim)\n",
    "\n",
    "            A_heatmap[i,j] = np.trace(fim)\n",
    "            D_heatmap[i,j] = np.linalg.det(fim)\n",
    "            E_heatmap[i,j] = min(np.linalg.eigvals(fim))\n",
    "            ME_heatmap[i,j] = np.linalg.cond(fim)\n",
    "\n",
    "            pressure_heatmap[i,j] = pressure_data_set[0][str(count)]*0.00001\n",
    "            \n",
    "    return A_heatmap, D_heatmap, E_heatmap, ME_heatmap, pressure_heatmap"
   ]
  },
  {
   "cell_type": "code",
   "execution_count": 7,
   "id": "dd22ecd2",
   "metadata": {},
   "outputs": [],
   "source": [
    "A_heatmap_ori, D_heatmap_ori, E_heatmap_ori, ME_heatmap_ori, pressure_heatmap_ori = read_heatmap(T_range_overall, x_range_original, data, data_pressure, remove=fim_to_be_removed)\n",
    "\n",
    "A_heatmap_under10, D_heatmap_under10, E_heatmap_under10, ME_heatmap_under10, pressure_heatmap_under10 = read_heatmap(T_range_overall, x_range_under10, data_under10, data_pressure_under10, remove=fim_to_be_removed)\n"
   ]
  },
  {
   "cell_type": "code",
   "execution_count": 8,
   "id": "f9258634",
   "metadata": {},
   "outputs": [
    {
     "name": "stdout",
     "output_type": "stream",
     "text": [
      "(14, 11)\n"
     ]
    }
   ],
   "source": [
    "\n",
    "A_heatmap_overall = np.concatenate((A_heatmap_under10, A_heatmap_ori), axis=1)\n",
    "D_heatmap_overall = np.concatenate((D_heatmap_under10, D_heatmap_ori), axis=1)\n",
    "\n",
    "E_heatmap_overall = np.concatenate((E_heatmap_under10, E_heatmap_ori), axis=1)\n",
    "\n",
    "ME_heatmap_overall = np.concatenate((ME_heatmap_under10, ME_heatmap_ori), axis=1)\n",
    "\n",
    "pressure_heatmap_overall = np.concatenate((pressure_heatmap_under10, pressure_heatmap_ori), axis=1)\n",
    "\n",
    "\n",
    "print(np.shape(A_heatmap_overall))"
   ]
  },
  {
   "cell_type": "code",
   "execution_count": 9,
   "id": "802d8900",
   "metadata": {
    "scrolled": false
   },
   "outputs": [
    {
     "name": "stdout",
     "output_type": "stream",
     "text": [
      "[[ 0.0590856   8.20231711  0.60210417  1.2341964   1.9029836   2.61709913\n",
      "   3.38799208  4.23039317  5.16088516  6.18748552  7.26075313]\n",
      " [ 0.07574304  0.38283534  0.77754591  1.60863724  2.50671146  3.48954593\n",
      "   4.58095166  5.81138747  7.21277889  8.78595523 10.34980692]\n",
      " [ 0.09562502  0.48475871  0.98840851  2.06258909  3.24612591  4.57107057\n",
      "   6.08135208  7.83451517  9.89170423 12.24717642 14.48279582]\n",
      " [ 0.11905909  0.60523182  1.23855358  2.60554072  4.1391968   5.89292597\n",
      "   7.94215966 10.38982108 13.35288311 16.83449253         nan]\n",
      " [ 0.14636272  0.74596742  1.53177129  3.2469661   5.20428041  7.48805351\n",
      "  10.2217326  13.58317287 17.79773593         nan         nan]\n",
      " [ 0.17783806  0.9086049   1.87171683  3.99617288  6.45987253  9.39085219\n",
      "  12.9843126  17.54113453         nan         nan         nan]\n",
      " [ 0.21376681  1.09468205  2.26184706  4.86214521  7.9243366  11.63689692\n",
      "  16.30063293         nan         nan         nan         nan]\n",
      " [ 0.25440529  1.30560757  2.70535827  5.85338291  9.61560692 14.26258807\n",
      "          nan         nan         nan         nan         nan]\n",
      " [ 0.29997972  1.54263505  3.20512598  6.97773939 11.55086752 17.30470995\n",
      "          nan         nan         nan         nan         nan]\n",
      " [ 0.35068195  1.80683855  3.76364801  8.2422613  13.74620931         nan\n",
      "          nan         nan         nan         nan         nan]\n",
      " [ 0.40666549  2.09909024  4.38299154  9.6530331  16.2162702          nan\n",
      "          nan         nan         nan         nan         nan]\n",
      " [ 0.46804203  2.42004049  5.06474513 11.21503021 18.97386605         nan\n",
      "          nan         nan         nan         nan         nan]\n",
      " [ 0.53487838  2.77010038  5.80997663 12.93198458         nan         nan\n",
      "          nan         nan         nan         nan         nan]\n",
      " [ 0.58492482  3.03255739  6.36970524 14.22737938         nan         nan\n",
      "          nan         nan         nan         nan         nan]]\n"
     ]
    }
   ],
   "source": [
    "#print(pressure_heatmap)\n",
    "\n",
    "A_practical  = A_heatmap_overall.copy()\n",
    "D_practical  = D_heatmap_overall.copy()\n",
    "E_practical  = E_heatmap_overall.copy()\n",
    "ME_practical  = ME_heatmap_overall.copy()\n",
    "pressure_practical = pressure_heatmap_overall.copy()\n",
    "\n",
    "for i in range(len(pressure_heatmap_overall)):\n",
    "    for j in range(len(pressure_heatmap_overall[0])):\n",
    "        if pressure_practical[i,j] > 20:\n",
    "            pressure_practical[i,j] = float(\"NaN\")\n",
    "            \n",
    "            A_practical[i,j] = float('NaN')\n",
    "            E_practical[i,j] = float('NaN')\n",
    "            D_practical[i,j] = float('NaN')\n",
    "            ME_practical[i,j] = float('NaN')\n",
    "print(pressure_practical)"
   ]
  },
  {
   "cell_type": "code",
   "execution_count": 10,
   "id": "b183bcd3",
   "metadata": {},
   "outputs": [
    {
     "name": "stdout",
     "output_type": "stream",
     "text": [
      "27\n"
     ]
    }
   ],
   "source": [
    "data_file = './emimtf2n/R32/Final_Results/MBDoE/r32_emimtf2n_subset.csv'\n",
    "data_exp = pd.read_csv(data_file)\n",
    "print(len(data_exp))"
   ]
  },
  {
   "cell_type": "code",
   "execution_count": 11,
   "id": "2899de25",
   "metadata": {},
   "outputs": [
    {
     "name": "stdout",
     "output_type": "stream",
     "text": [
      "[[0.89938467 0.5863204 ]\n",
      " [0.11379716 0.75440626]\n",
      " [0.68640024 0.89739199]\n",
      " [0.66719434 0.76225181]\n",
      " [0.86145922 0.429637  ]\n",
      " [0.74831779 0.41301563]]\n"
     ]
    }
   ],
   "source": [
    "print(np.random.rand(6,2))"
   ]
  },
  {
   "cell_type": "code",
   "execution_count": 16,
   "id": "d57dd9ac",
   "metadata": {},
   "outputs": [
    {
     "data": {
      "image/png": "[encoded data removed]",
      "text/plain": [
       "<Figure size 640x480 with 1 Axes>"
      ]
     },
     "metadata": {},
     "output_type": "display_data"
    }
   ],
   "source": [
    "def func(x):\n",
    "    return (x - 3) * (x - 5) * (x - 7) + 85\n",
    "\n",
    "\n",
    "a, b = 2, 9  # integral limits\n",
    "x = np.linspace(0, 10)\n",
    "y = func(x)\n",
    "\n",
    "fig, ax = plt.subplots()\n",
    "plt.plot(x, y, 'r', linewidth=2)\n",
    "plt.ylim(ymin=0)\n",
    "\n",
    "# Make the shaded region\n",
    "ix = np.linspace(a, b)\n",
    "iy = func(ix)\n",
    "verts = [(a, 0)] + list(zip(ix, iy)) + [(b, 0)]\n",
    "poly = Polygon(verts, facecolor='0.9', edgecolor='0.5')\n",
    "ax.add_patch(poly)\n",
    "\n",
    "#plt.text(0.5 * (a + b), 30, r\"$\\int_a^b f(x)\\mathrm{d}x$\",\n",
    "#         horizontalalignment='center', fontsize=20)\n",
    "\n",
    "plt.figtext(0.9, 0.05, '$x$')\n",
    "plt.figtext(0.1, 0.9, '$y$')\n",
    "\n",
    "ax.spines['right'].set_visible(False)\n",
    "ax.spines['top'].set_visible(False)\n",
    "ax.xaxis.set_ticks_position('bottom')\n",
    "\n",
    "ax.set_xticks((a, b))\n",
    "ax.set_xticklabels(('$a$', '$b$'))\n",
    "ax.set_yticks([])\n",
    "\n",
    "plt.show()"
   ]
  },
  {
   "cell_type": "code",
   "execution_count": 17,
   "id": "cf38c97b",
   "metadata": {},
   "outputs": [
    {
     "ename": "NameError",
     "evalue": "name 'cbar' is not defined",
     "output_type": "error",
     "traceback": [
      "\u001b[0;31m---------------------------------------------------------------------------\u001b[0m",
      "\u001b[0;31mNameError\u001b[0m                                 Traceback (most recent call last)",
      "Input \u001b[0;32mIn [17]\u001b[0m, in \u001b[0;36m<cell line: 12>\u001b[0;34m()\u001b[0m\n\u001b[1;32m      9\u001b[0m poly \u001b[38;5;241m=\u001b[39m Polygon(verts, facecolor\u001b[38;5;241m=\u001b[39m\u001b[38;5;124m'\u001b[39m\u001b[38;5;124m0.9\u001b[39m\u001b[38;5;124m'\u001b[39m, edgecolor\u001b[38;5;241m=\u001b[39m\u001b[38;5;124m'\u001b[39m\u001b[38;5;124m0.5\u001b[39m\u001b[38;5;124m'\u001b[39m)\n\u001b[1;32m     10\u001b[0m \u001b[38;5;66;03m#polygon1 = Polygon([[0.5,0.2], [0.4,0.3], [0.6, 0.9],], closed=True, alpha=1)\u001b[39;00m\n\u001b[0;32m---> 12\u001b[0m \u001b[43mcbar\u001b[49m\u001b[38;5;241m.\u001b[39max\u001b[38;5;241m.\u001b[39madd_patch(poly)\n",
      "\u001b[0;31mNameError\u001b[0m: name 'cbar' is not defined"
     ]
    }
   ],
   "source": [
    "\n",
    "\n",
    "def func(x):\n",
    "    return x*0.1\n",
    "\n",
    "a,b=300, 400\n",
    "ix = np.linspace(a, b)\n",
    "iy = func(ix)\n",
    "\n",
    "verts = [(a, 0)] + list(zip(ix, iy)) + [(b, 0)]\n",
    "poly = Polygon(verts, facecolor='0.9', edgecolor='0.5')\n",
    "#polygon1 = Polygon([[0.5,0.2], [0.4,0.3], [0.6, 0.9],], closed=True, alpha=1)\n",
    "\n",
    "cbar.ax.add_patch(poly)"
   ]
  },
  {
   "cell_type": "code",
   "execution_count": 75,
   "id": "ff4de581",
   "metadata": {},
   "outputs": [
    {
     "name": "stdout",
     "output_type": "stream",
     "text": [
      "293\n"
     ]
    }
   ],
   "source": [
    "#print(D_practical)\n",
    "import math\n",
    "from scipy.interpolate import interp1d\n",
    "#print(np.shape(D_practical))\n",
    "\n",
    "T_range_lab = T_range_overall   \n",
    "x_range_lab = [1, 5, 10,20,30,40,50,60,70,80,90]\n",
    "\n",
    "edges = []\n",
    "for i in range(14):\n",
    "    for j in range(11):\n",
    "        if math.isnan(D_practical[i,j]):\n",
    "            #edges.append((i,j))\n",
    "            edges.append((i, j-1))\n",
    "            break;\n",
    "            \n",
    "#print(edges)\n",
    "\n",
    "edges_map = []\n",
    "\n",
    "for edge in edges:\n",
    "    edges_map.append((T_range_lab[edge[0]], x_range_lab[edge[1]]))\n",
    "    \n",
    "#print(edges_map)\n",
    "\n",
    "print(T_range_lab[edges[0][0]-1])\n",
    "\n",
    "a, b = T_range_lab[edges[0][0]-1], edges_map[-1][1]\n",
    "\n",
    "a_real = T_range_lab[edges[0][0]]\n",
    "\n",
    "x =[edges_map[i][0] for i in range(len(edges_map))]\n",
    "y =[edges_map[i][1] for i in range(len(edges_map))]\n",
    "f = interp1d(x, y, kind='quadratic')\n",
    "\n",
    "xnew = np.arange(a_real, 400)\n",
    "ynew = f(xnew)   # use interpolation function returned by `interp1d`\n",
    "#print(ynew)\n",
    "\n",
    "#print(x, y)\n",
    "#print(f)"
   ]
  },
  {
   "cell_type": "code",
   "execution_count": 76,
   "id": "1c9ee23d",
   "metadata": {},
   "outputs": [
    {
     "data": {
      "image/png": "[encoded data removed]",
      "text/plain": [
       "<Figure size 640x480 with 2 Axes>"
      ]
     },
     "metadata": {},
     "output_type": "display_data"
    }
   ],
   "source": [
    "def contour(T_range_label, x_range_label, heatmap_data, bar_label, plot_prior=True):\n",
    "    # draw figure, using (6,6) because the plot is small otherwise\n",
    "    #fig, ax = plt.figure(figsize=(6,6))\n",
    "    fig, ax = plt.subplots()\n",
    "    \n",
    "    # plot heatmap\n",
    "    #   cmap defines the overall color within the heatmap \n",
    "    #   levels: determines the number and positions of the contour lines / regions.\n",
    "    cs = plt.contourf(T_range_label, x_range_label, heatmap_data.T,cmap=cm.coolwarm)\n",
    "\n",
    "    # plot color bar\n",
    "    cbar = plt.colorbar(cs)\n",
    "\n",
    "    # plot title in color bar\n",
    "    cbar.ax.set_ylabel(bar_label, fontsize=16, fontweight='bold')\n",
    "\n",
    "    # set font size in color bar\n",
    "    cbar.ax.tick_params(labelsize=16)\n",
    "    \n",
    "    def func(x):\n",
    "        return x*0.1\n",
    "\n",
    "    #ix = np.linspace(a, b)\n",
    "    #iy = func(ix)\n",
    "    a_new = np.linspace(a, 400,1)\n",
    "    upper_90 = [90 for i in range(len(a_new))]\n",
    "    \n",
    "    b_new = np.linspace(b, 90, 1)\n",
    "    right_400 = [400 for j in range(len(b_new))]\n",
    "    \n",
    "    #verts = [(a, 90)] + list(zip(ix, iy)) + [(400, b)]\n",
    "    verts = list(zip(a_new, upper_90)) + list(zip(xnew, ynew)) + list(zip(right_400, b_new)) + [(400,90)]\n",
    "    poly = Polygon(verts, facecolor='0.9', edgecolor='0.5', closed=True)\n",
    "    #polygon1 = Polygon([[0.5,0.2], [0.4,0.3], [0.6, 0.9],], closed=True, alpha=1)\n",
    "    \n",
    "    ax.add_patch(poly)\n",
    "\n",
    "    # plot equipotential line\n",
    "    #  [::10] means sampling 1 in every 10 samples\n",
    "    #  colors define the color want to use, 'k' for black\n",
    "    #  alpha is blending value, between 0 (transparent) and 1 (opaque).\n",
    "    #  linestyle defines the linestyle.\n",
    "    #  linewidth defines the width of line\n",
    "    #cs2 = plt.contour(cs, levels=cs.levels[::10], colors='k', alpha=0.7, linestyles='dashed', linewidths=3)\n",
    "\n",
    "    # plot the heatmap label\n",
    "    #  %2.2f means keep to 2 digit\n",
    "    #  fontsize defines the size of the text in figure\n",
    "    #plt.clabel(cs2, fmt='%2.2f', colors='k', fontsize=16)\n",
    "\n",
    "    # define tick size\n",
    "    plt.xticks(fontsize=16)\n",
    "    plt.yticks(fontsize=16)\n",
    "    plt.tick_params(direction=\"in\",top=True, right=True)\n",
    "\n",
    "    # set squared figure\n",
    "    if plot_prior:\n",
    "        for i in new_prior:  \n",
    "        #for i in range(len(data_exp)):\n",
    "            if i==16:\n",
    "                plt.scatter(data_exp.iloc[i]['temperature'], data_exp.iloc[i]['x_R32']*100, color=\"black\",marker=\"*\", s=150)\n",
    "                \n",
    "            #elif i==3:\n",
    "            #    plt.scatter(data_exp.iloc[i]['temperature'], data_exp.iloc[i]['x_R32']*100, color=\"black\",marker=\"^\", s=125)\n",
    "                \n",
    "            else:\n",
    "                plt.scatter(data_exp.iloc[i]['temperature'], data_exp.iloc[i]['x_R32']*100, color=\"black\", s=100)\n",
    "        \n",
    "    # plot titile and x,y label\n",
    "    plt.xlabel(r'Temperature [K]', fontsize=16, fontweight='bold')\n",
    "    plt.ylabel(r'HFC-32 in IL [mol%]', fontsize=16, fontweight='bold')\n",
    "    plt.show()\n",
    "\n",
    "    # save figure (important for publications)\n",
    "    # plt.savefig('heatmap.png',bbox_inches='tight')\n",
    "    \n",
    "    \n",
    "T_range_lab = T_range_overall   \n",
    "x_range_lab = [1, 5, 10,20,30,40,50,60,70,80,90]\n",
    "#x_range_lab = [10,20,30,40,50,60]\n",
    "\n",
    "#contour(T_range_lab, x_range_lab, np.log10(A_heatmap[:,:6]), 'log10(A-optimality)')\n",
    "contour(T_range_lab, x_range_lab, np.log10(D_practical), 'log10(D-optimality)', plot_prior=True)"
   ]
  },
  {
   "cell_type": "code",
   "execution_count": null,
   "id": "6953db2c",
   "metadata": {},
   "outputs": [],
   "source": [
    "contour(T_range_lab, x_range_lab, pressure_practical/10, 'Pressure [Mpa]', plot_prior=False)"
   ]
  },
  {
   "cell_type": "code",
   "execution_count": null,
   "id": "43413493",
   "metadata": {},
   "outputs": [],
   "source": []
  }
 ],
 "metadata": {
  "kernelspec": {
   "display_name": "Python 3 (ipykernel)",
   "language": "python",
   "name": "python3"
  },
  "language_info": {
   "codemirror_mode": {
    "name": "ipython",
    "version": 3
   },
   "file_extension": ".py",
   "mimetype": "text/x-python",
   "name": "python",
   "nbconvert_exporter": "python",
   "pygments_lexer": "ipython3",
   "version": "3.10.4"
  }
 },
 "nbformat": 4,
 "nbformat_minor": 5
}
