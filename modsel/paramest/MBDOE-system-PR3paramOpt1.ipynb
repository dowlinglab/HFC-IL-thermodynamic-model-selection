{
 "cells": [
  {
   "cell_type": "code",
   "execution_count": 1,
   "id": "3c831f19",
   "metadata": {},
   "outputs": [
    {
     "name": "stdout",
     "output_type": "stream",
     "text": [
      "[    0.00] Initializing mpi-sppy\n"
     ]
    }
   ],
   "source": [
    "from MBDOE import *\n",
    "from generalize_functions import PRModels"
   ]
  },
  {
   "cell_type": "markdown",
   "id": "808d97d9",
   "metadata": {},
   "source": [
    "## Choose experiments and model"
   ]
  },
  {
   "cell_type": "code",
   "execution_count": 2,
   "id": "cf86edde",
   "metadata": {},
   "outputs": [],
   "source": [
    "# Experiments \n",
    "data_file = './emimtf2n/R32/Final_Results/MBDoE/r32_emimtf2n_subset.csv'\n",
    "\n",
    "\n",
    "\n",
    "# Decide on model \n",
    "para_file = './emimtf2n/R32/Final_Results/MBDoE/Params/PR_params_3params_Opt1.csv'\n",
    "PR_type_opt = \"3Params_Opt1\"\n",
    "\n",
    "model_creation = PRModels(para_file, configuration, \n",
    "                         comp_1= \"R32\", comp_2 = \"emimTf2N\", \n",
    "                         x_comp_1=\"x_R32\", x_comp_2=\"x_emimTf2N\", PR_type=PR_type_opt)"
   ]
  },
  {
   "cell_type": "markdown",
   "id": "68fc7e6b",
   "metadata": {},
   "source": [
    "## Run pyomo.doe"
   ]
  },
  {
   "cell_type": "code",
   "execution_count": 3,
   "id": "8c289aa6",
   "metadata": {},
   "outputs": [
    {
     "name": "stdout",
     "output_type": "stream",
     "text": [
      "27\n"
     ]
    }
   ],
   "source": [
    "data_exp = pd.read_csv(data_file)\n",
    "print(len(data_exp))"
   ]
  },
  {
   "cell_type": "code",
   "execution_count": 7,
   "id": "e40ea80c",
   "metadata": {
    "scrolled": true
   },
   "outputs": [
    {
     "name": "stdout",
     "output_type": "stream",
     "text": [
      "parameter set: {'fs.properties.PR_kappa_A[\"R32\", \"emimTf2N\"]': 0.05611526243688785, 'fs.properties.PR_kappa_A[\"emimTf2N\", \"R32\"]': -0.11697708014458684, 'fs.properties.PR_kappa_B[\"R32\", \"emimTf2N\"]': -0.09822244994811687}\n"
     ]
    },
    {
     "ename": "InitializationError",
     "evalue": "fs.state_block failed to initialize successfully. Please check the output logs for more information.",
     "output_type": "error",
     "traceback": [
      "\u001b[0;31m---------------------------------------------------------------------------\u001b[0m",
      "\u001b[0;31mInitializationError\u001b[0m                       Traceback (most recent call last)",
      "\u001b[0;32m/tmp/ipykernel_1132762/2493372571.py\u001b[0m in \u001b[0;36m<module>\u001b[0;34m\u001b[0m\n\u001b[1;32m      5\u001b[0m \u001b[0;34m\u001b[0m\u001b[0m\n\u001b[1;32m      6\u001b[0m \u001b[0;31m#total_fim = mbdoe_obj.sumDOE(exp_set, scale_opt=True)\u001b[0m\u001b[0;34m\u001b[0m\u001b[0;34m\u001b[0m\u001b[0;34m\u001b[0m\u001b[0m\n\u001b[0;32m----> 7\u001b[0;31m \u001b[0mtotal_fim\u001b[0m \u001b[0;34m=\u001b[0m \u001b[0mmbdoe_obj\u001b[0m\u001b[0;34m.\u001b[0m\u001b[0mdoe\u001b[0m\u001b[0;34m(\u001b[0m\u001b[0mexp_set\u001b[0m\u001b[0;34m,\u001b[0m \u001b[0mscale\u001b[0m\u001b[0;34m=\u001b[0m\u001b[0;32mTrue\u001b[0m\u001b[0;34m)\u001b[0m\u001b[0;34m\u001b[0m\u001b[0;34m\u001b[0m\u001b[0m\n\u001b[0m",
      "\u001b[0;32m/media/psf/Home/dowlinglab/extractive-distillation2/modsel/paramest/MBDOE.py\u001b[0m in \u001b[0;36mdoe\u001b[0;34m(self, exp_idx, scale)\u001b[0m\n\u001b[1;32m     82\u001b[0m \u001b[0;34m\u001b[0m\u001b[0m\n\u001b[1;32m     83\u001b[0m \u001b[0;34m\u001b[0m\u001b[0m\n\u001b[0;32m---> 84\u001b[0;31m         \u001b[0mcreatemod\u001b[0m \u001b[0;34m=\u001b[0m \u001b[0mself\u001b[0m\u001b[0;34m.\u001b[0m\u001b[0mcreate_model_object\u001b[0m\u001b[0;34m.\u001b[0m\u001b[0mcreate_model\u001b[0m\u001b[0;34m(\u001b[0m\u001b[0mself\u001b[0m\u001b[0;34m.\u001b[0m\u001b[0mdata_exp\u001b[0m\u001b[0;34m.\u001b[0m\u001b[0miloc\u001b[0m\u001b[0;34m[\u001b[0m\u001b[0mexp_idx\u001b[0m\u001b[0;34m]\u001b[0m\u001b[0;34m)\u001b[0m\u001b[0;34m\u001b[0m\u001b[0;34m\u001b[0m\u001b[0m\n\u001b[0m\u001b[1;32m     85\u001b[0m \u001b[0;34m\u001b[0m\u001b[0m\n\u001b[1;32m     86\u001b[0m         \u001b[0;31m# Control time set [h]\u001b[0m\u001b[0;34m\u001b[0m\u001b[0;34m\u001b[0m\u001b[0;34m\u001b[0m\u001b[0m\n",
      "\u001b[0;32m/media/psf/Home/dowlinglab/extractive-distillation2/modsel/paramest/generalize_functions.py\u001b[0m in \u001b[0;36mcreate_model\u001b[0;34m(self, data, eps, polynomial)\u001b[0m\n\u001b[1;32m    190\u001b[0m         \u001b[0;31m# Initialize the flash unit\u001b[0m\u001b[0;34m\u001b[0m\u001b[0;34m\u001b[0m\u001b[0;34m\u001b[0m\u001b[0m\n\u001b[1;32m    191\u001b[0m         \u001b[0;31m#m.fs.state_block.initialize(outlvl=idaeslog.CRITICAL)\u001b[0m\u001b[0;34m\u001b[0m\u001b[0;34m\u001b[0m\u001b[0;34m\u001b[0m\u001b[0m\n\u001b[0;32m--> 192\u001b[0;31m         \u001b[0mm\u001b[0m\u001b[0;34m.\u001b[0m\u001b[0mfs\u001b[0m\u001b[0;34m.\u001b[0m\u001b[0mstate_block\u001b[0m\u001b[0;34m.\u001b[0m\u001b[0minitialize\u001b[0m\u001b[0;34m(\u001b[0m\u001b[0moutlvl\u001b[0m\u001b[0;34m=\u001b[0m\u001b[0;36m50\u001b[0m\u001b[0;34m)\u001b[0m\u001b[0;34m\u001b[0m\u001b[0;34m\u001b[0m\u001b[0m\n\u001b[0m\u001b[1;32m    193\u001b[0m \u001b[0;34m\u001b[0m\u001b[0m\n\u001b[1;32m    194\u001b[0m         \u001b[0;31m# Fix the state variables on the state block\u001b[0m\u001b[0;34m\u001b[0m\u001b[0;34m\u001b[0m\u001b[0;34m\u001b[0m\u001b[0m\n",
      "\u001b[0;32m/media/psf/idaes-pse/idaes/generic_models/properties/core/generic/generic_property.py\u001b[0m in \u001b[0;36minitialize\u001b[0;34m(blk, state_args, state_vars_fixed, hold_state, outlvl, solver, optarg)\u001b[0m\n\u001b[1;32m   1435\u001b[0m                 res.solver.status != SolverStatus.ok)):\n\u001b[1;32m   1436\u001b[0m             raise InitializationError(\n\u001b[0;32m-> 1437\u001b[0;31m                 \u001b[0;34mf\"{blk.name} failed to initialize successfully. Please check \"\u001b[0m\u001b[0;34m\u001b[0m\u001b[0;34m\u001b[0m\u001b[0m\n\u001b[0m\u001b[1;32m   1438\u001b[0m                 f\"the output logs for more information.\")\n\u001b[1;32m   1439\u001b[0m \u001b[0;34m\u001b[0m\u001b[0m\n",
      "\u001b[0;31mInitializationError\u001b[0m: fs.state_block failed to initialize successfully. Please check the output logs for more information."
     ]
    }
   ],
   "source": [
    "mbdoe_obj = MBDOE(data_file, model_creation)\n",
    "\n",
    "#exp_set = range(len(data_exp))\n",
    "exp_set = 11\n",
    "\n",
    "#total_fim = mbdoe_obj.sumDOE(exp_set, scale_opt=True)\n",
    "total_fim = mbdoe_obj.doe(exp_set, scale=True)"
   ]
  },
  {
   "cell_type": "code",
   "execution_count": null,
   "id": "c2d7ef6c",
   "metadata": {},
   "outputs": [],
   "source": [
    "print(total_fim)\n",
    "print(np.linalg.det(total_fim))\n",
    "print(np.trace(total_fim))\n",
    "print(np.linalg.eigvals(total_fim))"
   ]
  },
  {
   "cell_type": "code",
   "execution_count": null,
   "id": "23744417",
   "metadata": {},
   "outputs": [],
   "source": []
  },
  {
   "cell_type": "code",
   "execution_count": null,
   "id": "1222a01d",
   "metadata": {},
   "outputs": [],
   "source": []
  },
  {
   "cell_type": "code",
   "execution_count": null,
   "id": "ef130b3b",
   "metadata": {},
   "outputs": [],
   "source": []
  }
 ],
 "metadata": {
  "kernelspec": {
   "display_name": "Python 3 (ipykernel)",
   "language": "python",
   "name": "python3"
  },
  "language_info": {
   "codemirror_mode": {
    "name": "ipython",
    "version": 3
   },
   "file_extension": ".py",
   "mimetype": "text/x-python",
   "name": "python",
   "nbconvert_exporter": "python",
   "pygments_lexer": "ipython3",
   "version": "3.7.11"
  }
 },
 "nbformat": 4,
 "nbformat_minor": 5
}
