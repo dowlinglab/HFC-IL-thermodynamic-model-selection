{
 "cells": [
  {
   "cell_type": "code",
   "execution_count": 1,
   "id": "08bcec6e",
   "metadata": {},
   "outputs": [
    {
     "name": "stdout",
     "output_type": "stream",
     "text": [
      "[    0.00] Initializing mpi-sppy\n"
     ]
    }
   ],
   "source": [
    "from MBDOE import *\n",
    "from generalize_functions import CEOSModels"
   ]
  },
  {
   "cell_type": "markdown",
   "id": "e4291a0c",
   "metadata": {},
   "source": [
    "## Choose experiments and model"
   ]
  },
  {
   "cell_type": "code",
   "execution_count": 2,
   "id": "e1f87bf2",
   "metadata": {},
   "outputs": [],
   "source": [
    "# Experiments \n",
    "data_file = './emimtf2n/R32/Final_Results/MBDoE/r32_emimtf2n_subset.csv'\n",
    "\n",
    "path = './emimtf2n/R32/Final_Results/MBDoE/Params/'\n",
    "\n",
    "# Decide on model \n",
    "#para_file = path + 'PR_params_1param_Opt1.csv'\n",
    "#PR_type_opt = \"1Param_Opt1\"\n",
    "\n",
    "#para_file = path + 'PR_params_1param_Opt2.csv'\n",
    "#PR_type_opt = \"1Param_Opt2\"\n",
    "\n",
    "#para_file = path + 'PR_params_1param_Opt2_GF.csv'\n",
    "#PR_type_opt = \"1Param_Opt2\"\n",
    "\n",
    "#para_file = path + 'PR_params_3params_Opt1.csv'\n",
    "#PR_type_opt = \"3Params_Opt1\"\n",
    "\n",
    "#para_file = path + 'PR_params_3params_Opt2.csv'\n",
    "#PR_type_opt = \"3Params_Opt2\"\n",
    "\n",
    "#para_file = path + 'PR_params_linTdep.csv'\n",
    "#PR_type_opt = \"Linear\"\n",
    "\n",
    "#para_file = path + 'PR_params_noTdep.csv'\n",
    "#PR_type_opt = \"No\"\n",
    "\n",
    "#para_file = path + 'PR_params_polyTdep.csv'\n",
    "#PR_type_opt = \"Polynomial\"\n",
    "\n",
    "#para_file = path + 'PR_params_quadTdep.csv'\n",
    "#PR_type_opt = \"Quadratic\"\n",
    "\n",
    "para_file = path + 'SRK_params_1param_Opt1.csv'\n",
    "PR_type_opt = \"1Param_Opt1\"\n",
    "\n",
    "#para_file = path + 'SRK_params_1param_Opt2.csv'\n",
    "#PR_type_opt = \"1Param_Opt2\"\n",
    "\n",
    "#para_file = path + 'SRK_params_3param_Opt1.csv'\n",
    "#PR_type_opt = \"3Param_Opt1\"\n",
    "\n",
    "#para_file = path + 'SRK_params_3param_Opt2.csv'\n",
    "#PR_type_opt = \"3Param_Opt2\"\n",
    "\n",
    "#para_file = path + 'SRK_params_linTdep.csv'\n",
    "#PR_type_opt = \"Linear\"\n",
    "\n",
    "#para_file = path + 'SRK_params_noTdep.csv'\n",
    "#PR_type_opt = \"No\"\n",
    "\n",
    "#para_file = path + 'SRK_params_polyTdep.csv'\n",
    "#PR_type_opt = \"Polynomial\"\n",
    "\n",
    "#para_file = path + 'SRK_params_quadTdep.csv'\n",
    "#PR_type_opt = \"Quadratic\"\n",
    "\n",
    "\n",
    "\n",
    "model_creation = CEOSModels(para_file, configuration, \n",
    "                         comp_1= \"R32\", comp_2 = \"emimTf2N\", \n",
    "                         x_comp_1=\"x_R32\", x_comp_2=\"x_emimTf2N\",  Model_type = 'SRK', Tdep_type=PR_type_opt)"
   ]
  },
  {
   "cell_type": "markdown",
   "id": "c8d7e9af",
   "metadata": {},
   "source": [
    "## Run pyomo.doe"
   ]
  },
  {
   "cell_type": "code",
   "execution_count": 3,
   "id": "a3da3439",
   "metadata": {},
   "outputs": [
    {
     "name": "stdout",
     "output_type": "stream",
     "text": [
      "27\n"
     ]
    }
   ],
   "source": [
    "data_exp = pd.read_csv(data_file)\n",
    "print(len(data_exp))"
   ]
  },
  {
   "cell_type": "code",
   "execution_count": 4,
   "id": "3852400b",
   "metadata": {
    "scrolled": true
   },
   "outputs": [
    {
     "name": "stdout",
     "output_type": "stream",
     "text": [
      "parameter set: {'fs.properties.SRK_kappa_A[\"R32\", \"emimTf2N\"]': -0.04575785108800881}\n",
      "==========Experiment index: 0 ===============\n"
     ]
    },
    {
     "ename": "AttributeError",
     "evalue": "'_ScalarGenericParameterBlock' object has no attribute 'SRK_kappa_A'",
     "output_type": "error",
     "traceback": [
      "\u001b[0;31m---------------------------------------------------------------------------\u001b[0m",
      "\u001b[0;31mAttributeError\u001b[0m                            Traceback (most recent call last)",
      "\u001b[0;32m/tmp/ipykernel_1217775/639202642.py\u001b[0m in \u001b[0;36m<module>\u001b[0;34m\u001b[0m\n\u001b[1;32m      5\u001b[0m \u001b[0;34m\u001b[0m\u001b[0m\n\u001b[1;32m      6\u001b[0m \u001b[0;31m#exp_set = 0\u001b[0m\u001b[0;34m\u001b[0m\u001b[0;34m\u001b[0m\u001b[0;34m\u001b[0m\u001b[0m\n\u001b[0;32m----> 7\u001b[0;31m \u001b[0mtotal_fim\u001b[0m \u001b[0;34m=\u001b[0m \u001b[0mmbdoe_obj\u001b[0m\u001b[0;34m.\u001b[0m\u001b[0msumDOE\u001b[0m\u001b[0;34m(\u001b[0m\u001b[0mexp_set\u001b[0m\u001b[0;34m,\u001b[0m \u001b[0mscale_opt\u001b[0m\u001b[0;34m=\u001b[0m\u001b[0;32mTrue\u001b[0m\u001b[0;34m,\u001b[0m \u001b[0mrecord_name\u001b[0m\u001b[0;34m=\u001b[0m\u001b[0;34m\"SRK_1Param_Opt1\"\u001b[0m\u001b[0;34m)\u001b[0m\u001b[0;34m\u001b[0m\u001b[0;34m\u001b[0m\u001b[0m\n\u001b[0m\u001b[1;32m      8\u001b[0m \u001b[0;31m#total_fim = mbdoe_obj.doe(exp_set, scale=True)\u001b[0m\u001b[0;34m\u001b[0m\u001b[0;34m\u001b[0m\u001b[0;34m\u001b[0m\u001b[0m\n",
      "\u001b[0;32m/media/psf/Home/dowlinglab/extractive-distillation2/modsel/paramest/MBDOE.py\u001b[0m in \u001b[0;36msumDOE\u001b[0;34m(self, exp_idx_set, scale_opt, record_name, init_temp_option, init_pressure_option, init_x_c1_option)\u001b[0m\n\u001b[1;32m     60\u001b[0m \u001b[0;34m\u001b[0m\u001b[0m\n\u001b[1;32m     61\u001b[0m             res = self.doe(i, scale=scale_opt, init_temp_opt = init_temp_option, \n\u001b[0;32m---> 62\u001b[0;31m                           init_pressure_opt = init_pressure_option, init_x_c1_opt = init_x_c1_option)\n\u001b[0m\u001b[1;32m     63\u001b[0m \u001b[0;34m\u001b[0m\u001b[0m\n\u001b[1;32m     64\u001b[0m             \u001b[0mrecord\u001b[0m\u001b[0;34m[\u001b[0m\u001b[0mstr\u001b[0m\u001b[0;34m(\u001b[0m\u001b[0mi\u001b[0m\u001b[0;34m)\u001b[0m\u001b[0;34m]\u001b[0m \u001b[0;34m=\u001b[0m \u001b[0mres\u001b[0m\u001b[0;34m.\u001b[0m\u001b[0mFIM\u001b[0m\u001b[0;34m.\u001b[0m\u001b[0mtolist\u001b[0m\u001b[0;34m(\u001b[0m\u001b[0;34m)\u001b[0m\u001b[0;34m\u001b[0m\u001b[0;34m\u001b[0m\u001b[0m\n",
      "\u001b[0;32m/media/psf/Home/dowlinglab/extractive-distillation2/modsel/paramest/MBDOE.py\u001b[0m in \u001b[0;36mdoe\u001b[0;34m(self, exp_idx, scale, init_temp_opt, init_pressure_opt, init_x_c1_opt)\u001b[0m\n\u001b[1;32m     99\u001b[0m \u001b[0;34m\u001b[0m\u001b[0m\n\u001b[1;32m    100\u001b[0m         createmod = self.create_model_object.create_model(self.data_exp.iloc[exp_idx], init_temp=init_temp_opt,\n\u001b[0;32m--> 101\u001b[0;31m                                                          init_pressure = init_pressure_opt, init_x_c1 = init_x_c1_opt)\n\u001b[0m\u001b[1;32m    102\u001b[0m \u001b[0;34m\u001b[0m\u001b[0m\n\u001b[1;32m    103\u001b[0m         \u001b[0;31m# Control time set [h]\u001b[0m\u001b[0;34m\u001b[0m\u001b[0;34m\u001b[0m\u001b[0;34m\u001b[0m\u001b[0m\n",
      "\u001b[0;32m/media/psf/Home/dowlinglab/extractive-distillation2/modsel/paramest/generalize_functions.py\u001b[0m in \u001b[0;36mcreate_model\u001b[0;34m(self, data, eps, init_temp, init_pressure, init_x_c1, polynomial)\u001b[0m\n\u001b[1;32m    272\u001b[0m             \u001b[0;32mif\u001b[0m \u001b[0mpolynomial\u001b[0m \u001b[0;34m==\u001b[0m \u001b[0;32mFalse\u001b[0m\u001b[0;34m:\u001b[0m\u001b[0;34m\u001b[0m\u001b[0;34m\u001b[0m\u001b[0m\n\u001b[1;32m    273\u001b[0m                 \u001b[0;31m# parameters\u001b[0m\u001b[0;34m\u001b[0m\u001b[0;34m\u001b[0m\u001b[0;34m\u001b[0m\u001b[0m\n\u001b[0;32m--> 274\u001b[0;31m                 \u001b[0mm\u001b[0m\u001b[0;34m.\u001b[0m\u001b[0mfs\u001b[0m\u001b[0;34m.\u001b[0m\u001b[0mproperties\u001b[0m\u001b[0;34m.\u001b[0m\u001b[0mSRK_kappa_A\u001b[0m\u001b[0;34m[\u001b[0m\u001b[0mself\u001b[0m\u001b[0;34m.\u001b[0m\u001b[0mcomp_2\u001b[0m\u001b[0;34m,\u001b[0m \u001b[0mself\u001b[0m\u001b[0;34m.\u001b[0m\u001b[0mcomp_2\u001b[0m\u001b[0;34m]\u001b[0m\u001b[0;34m.\u001b[0m\u001b[0mfix\u001b[0m\u001b[0;34m(\u001b[0m\u001b[0;36m0\u001b[0m\u001b[0;34m)\u001b[0m\u001b[0;34m\u001b[0m\u001b[0;34m\u001b[0m\u001b[0m\n\u001b[0m\u001b[1;32m    275\u001b[0m                 \u001b[0mm\u001b[0m\u001b[0;34m.\u001b[0m\u001b[0mfs\u001b[0m\u001b[0;34m.\u001b[0m\u001b[0mproperties\u001b[0m\u001b[0;34m.\u001b[0m\u001b[0mSRK_kappa_A\u001b[0m\u001b[0;34m[\u001b[0m\u001b[0mself\u001b[0m\u001b[0;34m.\u001b[0m\u001b[0mcomp_2\u001b[0m\u001b[0;34m,\u001b[0m \u001b[0mself\u001b[0m\u001b[0;34m.\u001b[0m\u001b[0mcomp_1\u001b[0m\u001b[0;34m]\u001b[0m\u001b[0;34m.\u001b[0m\u001b[0mfix\u001b[0m\u001b[0;34m(\u001b[0m\u001b[0mself\u001b[0m\u001b[0;34m.\u001b[0m\u001b[0mSRK_kappa_A_comp_2_comp_1\u001b[0m\u001b[0;34m)\u001b[0m\u001b[0;34m\u001b[0m\u001b[0;34m\u001b[0m\u001b[0m\n\u001b[1;32m    276\u001b[0m                 \u001b[0mm\u001b[0m\u001b[0;34m.\u001b[0m\u001b[0mfs\u001b[0m\u001b[0;34m.\u001b[0m\u001b[0mproperties\u001b[0m\u001b[0;34m.\u001b[0m\u001b[0mSRK_kappa_A\u001b[0m\u001b[0;34m[\u001b[0m\u001b[0mself\u001b[0m\u001b[0;34m.\u001b[0m\u001b[0mcomp_1\u001b[0m\u001b[0;34m,\u001b[0m \u001b[0mself\u001b[0m\u001b[0;34m.\u001b[0m\u001b[0mcomp_1\u001b[0m\u001b[0;34m]\u001b[0m\u001b[0;34m.\u001b[0m\u001b[0mfix\u001b[0m\u001b[0;34m(\u001b[0m\u001b[0;36m0\u001b[0m\u001b[0;34m)\u001b[0m\u001b[0;34m\u001b[0m\u001b[0;34m\u001b[0m\u001b[0m\n",
      "\u001b[0;32m~/anaconda3/envs/pyomo/lib/python3.7/site-packages/pyomo/core/base/block.py\u001b[0m in \u001b[0;36m__getattr__\u001b[0;34m(self, val)\u001b[0m\n\u001b[1;32m    520\u001b[0m         \u001b[0;31m# throw the \"normal\" AttributeError\u001b[0m\u001b[0;34m\u001b[0m\u001b[0;34m\u001b[0m\u001b[0;34m\u001b[0m\u001b[0m\n\u001b[1;32m    521\u001b[0m         raise AttributeError(\"'%s' object has no attribute '%s'\"\n\u001b[0;32m--> 522\u001b[0;31m                              % (self.__class__.__name__, val))\n\u001b[0m\u001b[1;32m    523\u001b[0m \u001b[0;34m\u001b[0m\u001b[0m\n\u001b[1;32m    524\u001b[0m     \u001b[0;32mdef\u001b[0m \u001b[0m__setattr__\u001b[0m\u001b[0;34m(\u001b[0m\u001b[0mself\u001b[0m\u001b[0;34m,\u001b[0m \u001b[0mname\u001b[0m\u001b[0;34m,\u001b[0m \u001b[0mval\u001b[0m\u001b[0;34m)\u001b[0m\u001b[0;34m:\u001b[0m\u001b[0;34m\u001b[0m\u001b[0;34m\u001b[0m\u001b[0m\n",
      "\u001b[0;31mAttributeError\u001b[0m: '_ScalarGenericParameterBlock' object has no attribute 'SRK_kappa_A'"
     ]
    }
   ],
   "source": [
    "mbdoe_obj = MBDOE(data_file, model_creation)\n",
    "\n",
    "exp_set = range(len(data_exp))\n",
    "#exp_set = [0,1,2]\n",
    "\n",
    "#exp_set = 0\n",
    "total_fim = mbdoe_obj.sumDOE(exp_set, scale_opt=True, record_name=\"SRK_1Param_Opt1\")\n",
    "#total_fim = mbdoe_obj.doe(exp_set, scale=True)"
   ]
  },
  {
   "cell_type": "code",
   "execution_count": null,
   "id": "93f586ef",
   "metadata": {},
   "outputs": [],
   "source": [
    "print(total_fim)\n",
    "print(np.linalg.det(total_fim))\n",
    "print(np.trace(total_fim))\n",
    "print(np.linalg.eigvals(total_fim))"
   ]
  },
  {
   "cell_type": "code",
   "execution_count": null,
   "id": "2e92adf4",
   "metadata": {},
   "outputs": [],
   "source": []
  },
  {
   "cell_type": "code",
   "execution_count": null,
   "id": "f06cedab",
   "metadata": {},
   "outputs": [],
   "source": []
  },
  {
   "cell_type": "code",
   "execution_count": null,
   "id": "d5ff6c6d",
   "metadata": {},
   "outputs": [],
   "source": []
  }
 ],
 "metadata": {
  "kernelspec": {
   "display_name": "Python 3 (ipykernel)",
   "language": "python",
   "name": "python3"
  },
  "language_info": {
   "codemirror_mode": {
    "name": "ipython",
    "version": 3
   },
   "file_extension": ".py",
   "mimetype": "text/x-python",
   "name": "python",
   "nbconvert_exporter": "python",
   "pygments_lexer": "ipython3",
   "version": "3.7.11"
  }
 },
 "nbformat": 4,
 "nbformat_minor": 5
}
