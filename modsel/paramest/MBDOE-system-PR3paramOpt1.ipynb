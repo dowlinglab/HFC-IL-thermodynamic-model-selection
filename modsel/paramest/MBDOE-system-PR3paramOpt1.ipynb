{
 "cells": [
  {
   "cell_type": "code",
   "execution_count": 1,
   "id": "08bcec6e",
   "metadata": {},
   "outputs": [
    {
     "name": "stdout",
     "output_type": "stream",
     "text": [
      "[    0.00] Initializing mpi-sppy\n"
     ]
    }
   ],
   "source": [
    "from MBDOE import *\n",
    "from generalize_functions import CEOSModels\n"
   ]
  },
  {
   "cell_type": "markdown",
   "id": "e4291a0c",
   "metadata": {},
   "source": [
    "## Choose experiments and model"
   ]
  },
  {
   "cell_type": "code",
   "execution_count": 2,
   "id": "c01864b1",
   "metadata": {},
   "outputs": [],
   "source": [
    "model_option = \"PR\"\n",
    "if_poly = True\n",
    "\n",
    "if model_option==\"PR\":\n",
    "    if not if_poly:\n",
    "        from hfc32_emimtf2n_PR import configuration\n",
    "    else:\n",
    "        from hfc32_emimtf2n_PR_polynomial import configuration\n",
    "        \n",
    "elif model_option==\"SRK\":\n",
    "    if not if_poly:\n",
    "        from hfc32_emimtf2n_SRK import configuration\n",
    "    else:\n",
    "        from hfc32_emimtf2n_SRK_polynomial import configuration\n",
    "        "
   ]
  },
  {
   "cell_type": "code",
   "execution_count": 3,
   "id": "e1f87bf2",
   "metadata": {},
   "outputs": [],
   "source": [
    "# Experiments \n",
    "data_file = './emimtf2n/R32/Final_Results/MBDoE/r32_emimtf2n_subset.csv'\n",
    "\n",
    "path = './emimtf2n/R32/Final_Results/MBDoE/Params/'\n",
    "\n",
    "# Decide on model \n",
    "#para_file = path + 'PR_params_1param_Opt1.csv'\n",
    "#PR_type_opt = \"1Param_Opt1\"\n",
    "\n",
    "#para_file = path + 'PR_params_1param_Opt2.csv'\n",
    "#PR_type_opt = \"1Param_Opt2\"\n",
    "\n",
    "#para_file = path + 'PR_params_1param_Opt2_GF.csv'\n",
    "#PR_type_opt = \"1Param_Opt2\"\n",
    "\n",
    "#para_file = path + 'PR_params_3params_Opt1.csv'\n",
    "#PR_type_opt = \"3Params_Opt1\"\n",
    "\n",
    "#para_file = path + 'PR_params_3params_Opt2.csv'\n",
    "#PR_type_opt = \"3Params_Opt2\"\n",
    "\n",
    "#para_file = path + 'PR_params_linTdep.csv'\n",
    "#PR_type_opt = \"Linear\"\n",
    "\n",
    "#para_file = path + 'PR_params_noTdep.csv'\n",
    "#PR_type_opt = \"No\"\n",
    "\n",
    "para_file = path + 'PR_params_polyTdep.csv'\n",
    "PR_type_opt = \"Polynomial\"\n",
    "\n",
    "#para_file = path + 'PR_params_quadTdep.csv'\n",
    "#PR_type_opt = \"Quadratic\"\n",
    "\n",
    "#para_file = path + 'SRK_params_1param_Opt1.csv'\n",
    "#PR_type_opt = \"1Param_Opt1\"\n",
    "\n",
    "#para_file = path + 'SRK_params_1param_Opt2.csv'\n",
    "#PR_type_opt = \"1Param_Opt2\"\n",
    "\n",
    "#para_file = path + 'SRK_params_3param_Opt1.csv'\n",
    "#PR_type_opt = \"3Param_Opt1\"\n",
    "\n",
    "#para_file = path + 'SRK_params_3param_Opt2.csv'\n",
    "#PR_type_opt = \"3Param_Opt2\"\n",
    "\n",
    "#para_file = path + 'SRK_params_linTdep.csv'\n",
    "#PR_type_opt = \"Linear\"\n",
    "\n",
    "#para_file = path + 'SRK_params_noTdep.csv'\n",
    "#PR_type_opt = \"No\"\n",
    "\n",
    "#para_file = path + 'SRK_params_polyTdep.csv'\n",
    "#PR_type_opt = \"Polynomial\"\n",
    "\n",
    "#para_file = path + 'SRK_params_quadTdep.csv'\n",
    "#PR_type_opt = \"Quadratic\"\n",
    "\n",
    "\n",
    "\n",
    "model_creation = CEOSModels(para_file, configuration, \n",
    "                         comp_1= \"R32\", comp_2 = \"emimTf2N\", \n",
    "                         x_comp_1=\"x_R32\", x_comp_2=\"x_emimTf2N\",  Model_type = model_option, Tdep_type=PR_type_opt)"
   ]
  },
  {
   "cell_type": "markdown",
   "id": "c8d7e9af",
   "metadata": {},
   "source": [
    "## Run pyomo.doe"
   ]
  },
  {
   "cell_type": "code",
   "execution_count": 4,
   "id": "a3da3439",
   "metadata": {},
   "outputs": [
    {
     "name": "stdout",
     "output_type": "stream",
     "text": [
      "27\n"
     ]
    }
   ],
   "source": [
    "data_exp = pd.read_csv(data_file)\n",
    "print(len(data_exp))"
   ]
  },
  {
   "cell_type": "code",
   "execution_count": 5,
   "id": "3852400b",
   "metadata": {
    "scrolled": true
   },
   "outputs": [
    {
     "name": "stdout",
     "output_type": "stream",
     "text": [
      "parameter set: {'fs.properties.PR_kappa_A[\"R32\", \"emimTf2N\"]': 2.724788592757569, 'fs.properties.PR_kappa_A[\"emimTf2N\", \"R32\"]': 4.895424568859968, 'fs.properties.PR_kappa_B[\"R32\", \"emimTf2N\"]': -7.277563846966727, 'fs.properties.PR_kappa_B[\"emimTf2N\", \"R32\"]': -10.590166791666457, 'fs.properties.PR_kappa_C[\"R32\", \"emimTf2N\"]': -1.9273343680564363, 'fs.properties.PR_kappa_C[\"emimTf2N\", \"R32\"]': -1.9629035923438387, 'fs.properties.PR_kappa_D[\"R32\", \"emimTf2N\"]': 0.0, 'fs.properties.PR_kappa_D[\"emimTf2N\", \"R32\"]': 0.0}\n",
      "==========Experiment index: 0 ===============\n"
     ]
    },
    {
     "ename": "InitializationError",
     "evalue": "fs.state_block failed to initialize successfully. Please check the output logs for more information.",
     "output_type": "error",
     "traceback": [
      "\u001b[0;31m---------------------------------------------------------------------------\u001b[0m",
      "\u001b[0;31mInitializationError\u001b[0m                       Traceback (most recent call last)",
      "\u001b[0;32m/tmp/ipykernel_1323846/178703079.py\u001b[0m in \u001b[0;36m<module>\u001b[0;34m\u001b[0m\n\u001b[1;32m      5\u001b[0m \u001b[0;34m\u001b[0m\u001b[0m\n\u001b[1;32m      6\u001b[0m \u001b[0;31m#exp_set = 0\u001b[0m\u001b[0;34m\u001b[0m\u001b[0;34m\u001b[0m\u001b[0;34m\u001b[0m\u001b[0m\n\u001b[0;32m----> 7\u001b[0;31m \u001b[0mtotal_fim\u001b[0m \u001b[0;34m=\u001b[0m \u001b[0mmbdoe_obj\u001b[0m\u001b[0;34m.\u001b[0m\u001b[0msumDOE\u001b[0m\u001b[0;34m(\u001b[0m\u001b[0mexp_set\u001b[0m\u001b[0;34m,\u001b[0m \u001b[0mscale_opt\u001b[0m\u001b[0;34m=\u001b[0m\u001b[0;32mTrue\u001b[0m\u001b[0;34m,\u001b[0m \u001b[0mrecord_name\u001b[0m\u001b[0;34m=\u001b[0m\u001b[0;34m\"PR_polyTdep\"\u001b[0m\u001b[0;34m,\u001b[0m \u001b[0minit_temp_option\u001b[0m\u001b[0;34m=\u001b[0m\u001b[0;36m323\u001b[0m\u001b[0;34m,\u001b[0m \u001b[0mpoly_option\u001b[0m\u001b[0;34m=\u001b[0m\u001b[0;32mTrue\u001b[0m\u001b[0;34m)\u001b[0m\u001b[0;34m\u001b[0m\u001b[0;34m\u001b[0m\u001b[0m\n\u001b[0m\u001b[1;32m      8\u001b[0m \u001b[0;31m#total_fim = mbdoe_obj.doe(exp_set, scale=True)\u001b[0m\u001b[0;34m\u001b[0m\u001b[0;34m\u001b[0m\u001b[0;34m\u001b[0m\u001b[0m\n",
      "\u001b[0;32m/media/psf/Home/dowlinglab/extractive-distillation2/modsel/paramest/MBDOE.py\u001b[0m in \u001b[0;36msumDOE\u001b[0;34m(self, exp_idx_set, scale_opt, record_name, init_temp_option, init_pressure_option, init_x_c1_option, poly_option)\u001b[0m\n\u001b[1;32m     60\u001b[0m \u001b[0;34m\u001b[0m\u001b[0m\n\u001b[1;32m     61\u001b[0m             res = self.doe(i, scale=scale_opt, init_temp_opt = init_temp_option, \n\u001b[0;32m---> 62\u001b[0;31m                           init_pressure_opt = init_pressure_option, init_x_c1_opt = init_x_c1_option, poly_opt = poly_option)\n\u001b[0m\u001b[1;32m     63\u001b[0m \u001b[0;34m\u001b[0m\u001b[0m\n\u001b[1;32m     64\u001b[0m             \u001b[0mrecord\u001b[0m\u001b[0;34m[\u001b[0m\u001b[0mstr\u001b[0m\u001b[0;34m(\u001b[0m\u001b[0mi\u001b[0m\u001b[0;34m)\u001b[0m\u001b[0;34m]\u001b[0m \u001b[0;34m=\u001b[0m \u001b[0mres\u001b[0m\u001b[0;34m.\u001b[0m\u001b[0mFIM\u001b[0m\u001b[0;34m.\u001b[0m\u001b[0mtolist\u001b[0m\u001b[0;34m(\u001b[0m\u001b[0;34m)\u001b[0m\u001b[0;34m\u001b[0m\u001b[0;34m\u001b[0m\u001b[0m\n",
      "\u001b[0;32m/media/psf/Home/dowlinglab/extractive-distillation2/modsel/paramest/MBDOE.py\u001b[0m in \u001b[0;36mdoe\u001b[0;34m(self, exp_idx, scale, init_temp_opt, init_pressure_opt, init_x_c1_opt, poly_opt)\u001b[0m\n\u001b[1;32m     99\u001b[0m \u001b[0;34m\u001b[0m\u001b[0m\n\u001b[1;32m    100\u001b[0m         createmod = self.create_model_object.create_model(self.data_exp.iloc[exp_idx], init_temp=init_temp_opt,\n\u001b[0;32m--> 101\u001b[0;31m                                                          init_pressure = init_pressure_opt, init_x_c1 = init_x_c1_opt, polynomial=poly_opt)\n\u001b[0m\u001b[1;32m    102\u001b[0m \u001b[0;34m\u001b[0m\u001b[0m\n\u001b[1;32m    103\u001b[0m         \u001b[0;31m# Control time set [h]\u001b[0m\u001b[0;34m\u001b[0m\u001b[0;34m\u001b[0m\u001b[0;34m\u001b[0m\u001b[0m\n",
      "\u001b[0;32m/media/psf/Home/dowlinglab/extractive-distillation2/modsel/paramest/generalize_functions.py\u001b[0m in \u001b[0;36mcreate_model\u001b[0;34m(self, data, eps, init_temp, init_pressure, init_x_c1, polynomial)\u001b[0m\n\u001b[1;32m    306\u001b[0m         \u001b[0;31m# Initialize the flash unit\u001b[0m\u001b[0;34m\u001b[0m\u001b[0;34m\u001b[0m\u001b[0;34m\u001b[0m\u001b[0m\n\u001b[1;32m    307\u001b[0m         \u001b[0;31m#m.fs.state_block.initialize(outlvl=idaeslog.CRITICAL)\u001b[0m\u001b[0;34m\u001b[0m\u001b[0;34m\u001b[0m\u001b[0;34m\u001b[0m\u001b[0m\n\u001b[0;32m--> 308\u001b[0;31m         \u001b[0mm\u001b[0m\u001b[0;34m.\u001b[0m\u001b[0mfs\u001b[0m\u001b[0;34m.\u001b[0m\u001b[0mstate_block\u001b[0m\u001b[0;34m.\u001b[0m\u001b[0minitialize\u001b[0m\u001b[0;34m(\u001b[0m\u001b[0moutlvl\u001b[0m\u001b[0;34m=\u001b[0m\u001b[0;36m50\u001b[0m\u001b[0;34m)\u001b[0m\u001b[0;34m\u001b[0m\u001b[0;34m\u001b[0m\u001b[0m\n\u001b[0m\u001b[1;32m    309\u001b[0m \u001b[0;34m\u001b[0m\u001b[0m\n\u001b[1;32m    310\u001b[0m         \u001b[0;31m# Fix the state variables on the state block\u001b[0m\u001b[0;34m\u001b[0m\u001b[0;34m\u001b[0m\u001b[0;34m\u001b[0m\u001b[0m\n",
      "\u001b[0;32m/media/psf/idaes-pse/idaes/generic_models/properties/core/generic/generic_property.py\u001b[0m in \u001b[0;36minitialize\u001b[0;34m(blk, state_args, state_vars_fixed, hold_state, outlvl, solver, optarg)\u001b[0m\n\u001b[1;32m   1435\u001b[0m                 res.solver.status != SolverStatus.ok)):\n\u001b[1;32m   1436\u001b[0m             raise InitializationError(\n\u001b[0;32m-> 1437\u001b[0;31m                 \u001b[0;34mf\"{blk.name} failed to initialize successfully. Please check \"\u001b[0m\u001b[0;34m\u001b[0m\u001b[0;34m\u001b[0m\u001b[0m\n\u001b[0m\u001b[1;32m   1438\u001b[0m                 f\"the output logs for more information.\")\n\u001b[1;32m   1439\u001b[0m \u001b[0;34m\u001b[0m\u001b[0m\n",
      "\u001b[0;31mInitializationError\u001b[0m: fs.state_block failed to initialize successfully. Please check the output logs for more information."
     ]
    }
   ],
   "source": [
    "mbdoe_obj = MBDOE(data_file, model_creation)\n",
    "\n",
    "exp_set = range(len(data_exp))\n",
    "#exp_set = [0,1,2]\n",
    "\n",
    "#exp_set = 0\n",
    "total_fim = mbdoe_obj.sumDOE(exp_set, scale_opt=True, record_name=\"PR_polyTdep\", init_temp_option=323, poly_option=True)\n",
    "#total_fim = mbdoe_obj.doe(exp_set, scale=True)"
   ]
  },
  {
   "cell_type": "code",
   "execution_count": null,
   "id": "93f586ef",
   "metadata": {},
   "outputs": [],
   "source": [
    "print(total_fim)\n",
    "print(np.linalg.det(total_fim))\n",
    "print(np.trace(total_fim))\n",
    "print(np.linalg.eigvals(total_fim))"
   ]
  },
  {
   "cell_type": "code",
   "execution_count": null,
   "id": "2e92adf4",
   "metadata": {},
   "outputs": [],
   "source": []
  },
  {
   "cell_type": "code",
   "execution_count": null,
   "id": "f06cedab",
   "metadata": {},
   "outputs": [],
   "source": []
  },
  {
   "cell_type": "code",
   "execution_count": null,
   "id": "d5ff6c6d",
   "metadata": {},
   "outputs": [],
   "source": []
  }
 ],
 "metadata": {
  "kernelspec": {
   "display_name": "Python 3 (ipykernel)",
   "language": "python",
   "name": "python3"
  },
  "language_info": {
   "codemirror_mode": {
    "name": "ipython",
    "version": 3
   },
   "file_extension": ".py",
   "mimetype": "text/x-python",
   "name": "python",
   "nbconvert_exporter": "python",
   "pygments_lexer": "ipython3",
   "version": "3.9.9"
  }
 },
 "nbformat": 4,
 "nbformat_minor": 5
}
