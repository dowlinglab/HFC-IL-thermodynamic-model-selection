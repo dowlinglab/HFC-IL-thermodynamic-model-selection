{
 "cells": [
  {
   "cell_type": "markdown",
   "id": "d4de6609",
   "metadata": {},
   "source": [
    "# Organize LH sample for PR noTdep LHS multistart"
   ]
  },
  {
   "cell_type": "code",
   "execution_count": 1,
   "id": "309efa6a",
   "metadata": {},
   "outputs": [],
   "source": [
    "import pandas as pd\n",
    "import numpy as np\n",
    "\n",
    "import sys\n",
    "sys.path.append('../../')"
   ]
  },
  {
   "cell_type": "code",
   "execution_count": 2,
   "id": "6539d4ff",
   "metadata": {},
   "outputs": [],
   "source": [
    "PR_1param_Opt1_results = pd.read_csv('Data/Fits/LHS_Fits/PR_1parameter_Opt1_LHS.csv',index_col=0)\n",
    "PR_1param_Opt2_results = pd.read_csv('Data/Fits/LHS_Fits/PR_1param_Opt2_LHS.csv',index_col=0)"
   ]
  },
  {
   "cell_type": "code",
   "execution_count": 3,
   "id": "c57b9fa9",
   "metadata": {},
   "outputs": [
    {
     "data": {
      "text/html": [
       "<div>\n",
       "<style scoped>\n",
       "    .dataframe tbody tr th:only-of-type {\n",
       "        vertical-align: middle;\n",
       "    }\n",
       "\n",
       "    .dataframe tbody tr th {\n",
       "        vertical-align: top;\n",
       "    }\n",
       "\n",
       "    .dataframe thead th {\n",
       "        text-align: right;\n",
       "    }\n",
       "</style>\n",
       "<table border=\"1\" class=\"dataframe\">\n",
       "  <thead>\n",
       "    <tr style=\"text-align: right;\">\n",
       "      <th></th>\n",
       "      <th>Param2</th>\n",
       "      <th>sc_param2</th>\n",
       "      <th>PR_kappa_A[R125,emimTf2N]</th>\n",
       "      <th>SSR</th>\n",
       "    </tr>\n",
       "  </thead>\n",
       "  <tbody>\n",
       "    <tr>\n",
       "      <th>5</th>\n",
       "      <td>0.500342</td>\n",
       "      <td>0.004003</td>\n",
       "      <td>0.003062</td>\n",
       "      <td>7.550535</td>\n",
       "    </tr>\n",
       "    <tr>\n",
       "      <th>102</th>\n",
       "      <td>0.497102</td>\n",
       "      <td>-0.002499</td>\n",
       "      <td>-0.013187</td>\n",
       "      <td>0.295091</td>\n",
       "    </tr>\n",
       "    <tr>\n",
       "      <th>192</th>\n",
       "      <td>0.495957</td>\n",
       "      <td>-0.004797</td>\n",
       "      <td>-0.013187</td>\n",
       "      <td>0.295091</td>\n",
       "    </tr>\n",
       "  </tbody>\n",
       "</table>\n",
       "</div>"
      ],
      "text/plain": [
       "       Param2  sc_param2  PR_kappa_A[R125,emimTf2N]       SSR\n",
       "5    0.500342   0.004003                   0.003062  7.550535\n",
       "102  0.497102  -0.002499                  -0.013187  0.295091\n",
       "192  0.495957  -0.004797                  -0.013187  0.295091"
      ]
     },
     "execution_count": 3,
     "metadata": {},
     "output_type": "execute_result"
    }
   ],
   "source": [
    "PR_1param_Opt1_results.dropna(axis=0)"
   ]
  },
  {
   "cell_type": "code",
   "execution_count": 4,
   "id": "a45ca2d2",
   "metadata": {},
   "outputs": [],
   "source": [
    "Opt1_102 = PR_1param_Opt1_results.iloc[102]"
   ]
  },
  {
   "cell_type": "code",
   "execution_count": 5,
   "id": "abd4deb2",
   "metadata": {},
   "outputs": [
    {
     "data": {
      "text/html": [
       "<div>\n",
       "<style scoped>\n",
       "    .dataframe tbody tr th:only-of-type {\n",
       "        vertical-align: middle;\n",
       "    }\n",
       "\n",
       "    .dataframe tbody tr th {\n",
       "        vertical-align: top;\n",
       "    }\n",
       "\n",
       "    .dataframe thead th {\n",
       "        text-align: right;\n",
       "    }\n",
       "</style>\n",
       "<table border=\"1\" class=\"dataframe\">\n",
       "  <thead>\n",
       "    <tr style=\"text-align: right;\">\n",
       "      <th></th>\n",
       "      <th>Param1</th>\n",
       "      <th>sc_param1</th>\n",
       "      <th>PR_kappa_A[emimTf2N,R32]</th>\n",
       "      <th>SSR</th>\n",
       "    </tr>\n",
       "  </thead>\n",
       "  <tbody>\n",
       "    <tr>\n",
       "      <th>8</th>\n",
       "      <td>0.427696</td>\n",
       "      <td>-0.145278</td>\n",
       "      <td>-0.028335</td>\n",
       "      <td>6.655070</td>\n",
       "    </tr>\n",
       "    <tr>\n",
       "      <th>25</th>\n",
       "      <td>0.318294</td>\n",
       "      <td>-0.365465</td>\n",
       "      <td>-0.028336</td>\n",
       "      <td>6.655073</td>\n",
       "    </tr>\n",
       "    <tr>\n",
       "      <th>71</th>\n",
       "      <td>0.442427</td>\n",
       "      <td>-0.115629</td>\n",
       "      <td>-0.067348</td>\n",
       "      <td>10.060880</td>\n",
       "    </tr>\n",
       "    <tr>\n",
       "      <th>72</th>\n",
       "      <td>0.461280</td>\n",
       "      <td>-0.077685</td>\n",
       "      <td>-0.043916</td>\n",
       "      <td>7.863893</td>\n",
       "    </tr>\n",
       "    <tr>\n",
       "      <th>120</th>\n",
       "      <td>0.472536</td>\n",
       "      <td>-0.055031</td>\n",
       "      <td>-0.028335</td>\n",
       "      <td>6.655069</td>\n",
       "    </tr>\n",
       "    <tr>\n",
       "      <th>122</th>\n",
       "      <td>0.453030</td>\n",
       "      <td>-0.094290</td>\n",
       "      <td>-0.028335</td>\n",
       "      <td>6.655071</td>\n",
       "    </tr>\n",
       "    <tr>\n",
       "      <th>146</th>\n",
       "      <td>0.456142</td>\n",
       "      <td>-0.088028</td>\n",
       "      <td>-0.051132</td>\n",
       "      <td>8.490043</td>\n",
       "    </tr>\n",
       "    <tr>\n",
       "      <th>148</th>\n",
       "      <td>0.471516</td>\n",
       "      <td>-0.057084</td>\n",
       "      <td>-0.028335</td>\n",
       "      <td>6.655069</td>\n",
       "    </tr>\n",
       "    <tr>\n",
       "      <th>149</th>\n",
       "      <td>0.448340</td>\n",
       "      <td>-0.103728</td>\n",
       "      <td>-0.028335</td>\n",
       "      <td>6.655070</td>\n",
       "    </tr>\n",
       "    <tr>\n",
       "      <th>161</th>\n",
       "      <td>0.320988</td>\n",
       "      <td>-0.360042</td>\n",
       "      <td>-0.040964</td>\n",
       "      <td>7.620132</td>\n",
       "    </tr>\n",
       "    <tr>\n",
       "      <th>173</th>\n",
       "      <td>0.464531</td>\n",
       "      <td>-0.071143</td>\n",
       "      <td>-0.051132</td>\n",
       "      <td>8.490040</td>\n",
       "    </tr>\n",
       "    <tr>\n",
       "      <th>187</th>\n",
       "      <td>0.428746</td>\n",
       "      <td>-0.143164</td>\n",
       "      <td>-0.028335</td>\n",
       "      <td>6.655070</td>\n",
       "    </tr>\n",
       "    <tr>\n",
       "      <th>204</th>\n",
       "      <td>0.412959</td>\n",
       "      <td>-0.174938</td>\n",
       "      <td>-0.051132</td>\n",
       "      <td>8.490043</td>\n",
       "    </tr>\n",
       "    <tr>\n",
       "      <th>209</th>\n",
       "      <td>0.439411</td>\n",
       "      <td>-0.121700</td>\n",
       "      <td>-0.028335</td>\n",
       "      <td>6.655069</td>\n",
       "    </tr>\n",
       "    <tr>\n",
       "      <th>221</th>\n",
       "      <td>0.445637</td>\n",
       "      <td>-0.109168</td>\n",
       "      <td>-0.039588</td>\n",
       "      <td>7.508884</td>\n",
       "    </tr>\n",
       "    <tr>\n",
       "      <th>222</th>\n",
       "      <td>0.434814</td>\n",
       "      <td>-0.130951</td>\n",
       "      <td>-0.028335</td>\n",
       "      <td>6.655070</td>\n",
       "    </tr>\n",
       "  </tbody>\n",
       "</table>\n",
       "</div>"
      ],
      "text/plain": [
       "       Param1  sc_param1  PR_kappa_A[emimTf2N,R32]        SSR\n",
       "8    0.427696  -0.145278                 -0.028335   6.655070\n",
       "25   0.318294  -0.365465                 -0.028336   6.655073\n",
       "71   0.442427  -0.115629                 -0.067348  10.060880\n",
       "72   0.461280  -0.077685                 -0.043916   7.863893\n",
       "120  0.472536  -0.055031                 -0.028335   6.655069\n",
       "122  0.453030  -0.094290                 -0.028335   6.655071\n",
       "146  0.456142  -0.088028                 -0.051132   8.490043\n",
       "148  0.471516  -0.057084                 -0.028335   6.655069\n",
       "149  0.448340  -0.103728                 -0.028335   6.655070\n",
       "161  0.320988  -0.360042                 -0.040964   7.620132\n",
       "173  0.464531  -0.071143                 -0.051132   8.490040\n",
       "187  0.428746  -0.143164                 -0.028335   6.655070\n",
       "204  0.412959  -0.174938                 -0.051132   8.490043\n",
       "209  0.439411  -0.121700                 -0.028335   6.655069\n",
       "221  0.445637  -0.109168                 -0.039588   7.508884\n",
       "222  0.434814  -0.130951                 -0.028335   6.655070"
      ]
     },
     "execution_count": 5,
     "metadata": {},
     "output_type": "execute_result"
    }
   ],
   "source": [
    "PR_1param_Opt2_results.dropna(axis=0)"
   ]
  },
  {
   "cell_type": "code",
   "execution_count": 6,
   "id": "28d35bfa",
   "metadata": {},
   "outputs": [
    {
     "data": {
      "text/html": [
       "<div>\n",
       "<style scoped>\n",
       "    .dataframe tbody tr th:only-of-type {\n",
       "        vertical-align: middle;\n",
       "    }\n",
       "\n",
       "    .dataframe tbody tr th {\n",
       "        vertical-align: top;\n",
       "    }\n",
       "\n",
       "    .dataframe thead th {\n",
       "        text-align: right;\n",
       "    }\n",
       "</style>\n",
       "<table border=\"1\" class=\"dataframe\">\n",
       "  <thead>\n",
       "    <tr style=\"text-align: right;\">\n",
       "      <th></th>\n",
       "      <th>Param1</th>\n",
       "      <th>sc_param1</th>\n",
       "      <th>PR_kappa_A[emimTf2N,R32]</th>\n",
       "      <th>SSR</th>\n",
       "    </tr>\n",
       "  </thead>\n",
       "  <tbody>\n",
       "    <tr>\n",
       "      <th>120</th>\n",
       "      <td>0.472536</td>\n",
       "      <td>-0.055031</td>\n",
       "      <td>-0.028335</td>\n",
       "      <td>6.655069</td>\n",
       "    </tr>\n",
       "  </tbody>\n",
       "</table>\n",
       "</div>"
      ],
      "text/plain": [
       "       Param1  sc_param1  PR_kappa_A[emimTf2N,R32]       SSR\n",
       "120  0.472536  -0.055031                 -0.028335  6.655069"
      ]
     },
     "execution_count": 6,
     "metadata": {},
     "output_type": "execute_result"
    }
   ],
   "source": [
    "PR_1param_Opt2_results[PR_1param_Opt2_results.SSR == PR_1param_Opt2_results.SSR.min()]"
   ]
  },
  {
   "cell_type": "code",
   "execution_count": 7,
   "id": "0ab6e4bf",
   "metadata": {},
   "outputs": [],
   "source": [
    "Opt2_120 = PR_1param_Opt2_results.iloc[120]"
   ]
  },
  {
   "cell_type": "code",
   "execution_count": 8,
   "id": "9d5917ae",
   "metadata": {},
   "outputs": [
    {
     "data": {
      "text/plain": [
       "Param2                       0.497102\n",
       "sc_param2                   -0.002499\n",
       "PR_kappa_A[R125,emimTf2N]   -0.013187\n",
       "SSR                          0.295091\n",
       "Name: 102, dtype: float64"
      ]
     },
     "execution_count": 8,
     "metadata": {},
     "output_type": "execute_result"
    }
   ],
   "source": [
    "Opt1_102"
   ]
  },
  {
   "cell_type": "code",
   "execution_count": 9,
   "id": "0fd9b1b0",
   "metadata": {},
   "outputs": [
    {
     "data": {
      "text/plain": [
       "Param1                      0.472536\n",
       "sc_param1                  -0.055031\n",
       "PR_kappa_A[emimTf2N,R32]   -0.028335\n",
       "SSR                         6.655069\n",
       "Name: 120, dtype: float64"
      ]
     },
     "execution_count": 9,
     "metadata": {},
     "output_type": "execute_result"
    }
   ],
   "source": [
    "Opt2_120"
   ]
  },
  {
   "cell_type": "code",
   "execution_count": 10,
   "id": "d0b2c57a",
   "metadata": {},
   "outputs": [],
   "source": [
    "lhs = pd.read_csv('../../LHS_250x8.txt')"
   ]
  },
  {
   "cell_type": "code",
   "execution_count": 11,
   "id": "3ba4bd62",
   "metadata": {},
   "outputs": [],
   "source": [
    "lhs['sc_param1'] = ((lhs['Param1']-lhs['Param1'].min())/(lhs['Param1'].max()-lhs['Param1'].min()))*2+(-1)\n",
    "lhs['sc_param2'] = ((lhs['Param2']-lhs['Param2'].min())/(lhs['Param2'].max()-lhs['Param2'].min()))*2+(-1)"
   ]
  },
  {
   "cell_type": "code",
   "execution_count": 12,
   "id": "d1497feb",
   "metadata": {},
   "outputs": [],
   "source": [
    "Opt1_102_sc = Opt1_102[['sc_param2']]"
   ]
  },
  {
   "cell_type": "code",
   "execution_count": 13,
   "id": "d314e586",
   "metadata": {},
   "outputs": [],
   "source": [
    "Opt2_120_sc = Opt2_120[['sc_param1']]"
   ]
  },
  {
   "cell_type": "code",
   "execution_count": 14,
   "id": "1e325f20",
   "metadata": {},
   "outputs": [],
   "source": [
    "Opt1_102_sc_df = pd.DataFrame(Opt1_102_sc).T\n",
    "sc_Opt1_102 = pd.concat([Opt1_102_sc_df]*250,ignore_index=True)\n",
    "sc_lhs_Opt1_102 = pd.concat([lhs[['sc_param1']],sc_Opt1_102],axis=1,ignore_index=True)\n",
    "sc_lhs_Opt1_102.columns = ['sc_param1','sc_param2']\n",
    "sc_lhs_Opt1_102.to_csv('Data/Fits/LHS_Fits/PR_noTdep_scLHS_Opt1_102.csv',sep=',')"
   ]
  },
  {
   "cell_type": "code",
   "execution_count": 15,
   "id": "386d8b2a",
   "metadata": {},
   "outputs": [],
   "source": [
    "Opt2_120_sc_df = pd.DataFrame(Opt2_120_sc).T\n",
    "sc_Opt2_120 = pd.concat([Opt2_120_sc_df]*250,ignore_index=True)\n",
    "sc_lhs_Opt2_120 = pd.concat([sc_Opt2_120,lhs[['sc_param2']]],axis=1,ignore_index=True)\n",
    "sc_lhs_Opt2_120.columns = ['sc_param1','sc_param2']\n",
    "sc_lhs_Opt2_120.to_csv('Data/Fits/LHS_Fits/PR_noTdep_scLHS_Opt2_120.csv',sep=',')"
   ]
  },
  {
   "cell_type": "code",
   "execution_count": null,
   "id": "92781975",
   "metadata": {},
   "outputs": [],
   "source": [
    "sc_lhs_Opt1_102"
   ]
  },
  {
   "cell_type": "code",
   "execution_count": null,
   "id": "3ee80540",
   "metadata": {},
   "outputs": [],
   "source": [
    "sc_lhs_Opt2_120"
   ]
  },
  {
   "cell_type": "code",
   "execution_count": null,
   "id": "804d5655",
   "metadata": {},
   "outputs": [],
   "source": []
  }
 ],
 "metadata": {
  "kernelspec": {
   "display_name": "Python 3 (ipykernel)",
   "language": "python",
   "name": "python3"
  },
  "language_info": {
   "codemirror_mode": {
    "name": "ipython",
    "version": 3
   },
   "file_extension": ".py",
   "mimetype": "text/x-python",
   "name": "python",
   "nbconvert_exporter": "python",
   "pygments_lexer": "ipython3",
   "version": "3.9.9"
  }
 },
 "nbformat": 4,
 "nbformat_minor": 5
}
