{
 "cells": [
  {
   "cell_type": "markdown",
   "id": "d4de6609",
   "metadata": {},
   "source": [
    "# Organize LH sample for SRK noTdep LHS multistart"
   ]
  },
  {
   "cell_type": "code",
   "execution_count": 1,
   "id": "309efa6a",
   "metadata": {},
   "outputs": [],
   "source": [
    "import pandas as pd\n",
    "import numpy as np\n",
    "\n",
    "import sys\n",
    "sys.path.append('../../')"
   ]
  },
  {
   "cell_type": "code",
   "execution_count": 2,
   "id": "6539d4ff",
   "metadata": {},
   "outputs": [],
   "source": [
    "SRK_1param_Opt1_results = pd.read_csv('Data/Fits/LHS_Fits/SRK_1param_Opt1_LHS.csv',index_col=0)\n",
    "SRK_1param_Opt2_results = pd.read_csv('Data/Fits/LHS_Fits/SRK_1param_Opt2_LHS.csv',index_col=0)"
   ]
  },
  {
   "cell_type": "code",
   "execution_count": 3,
   "id": "c57b9fa9",
   "metadata": {},
   "outputs": [
    {
     "data": {
      "text/html": [
       "<div>\n",
       "<style scoped>\n",
       "    .dataframe tbody tr th:only-of-type {\n",
       "        vertical-align: middle;\n",
       "    }\n",
       "\n",
       "    .dataframe tbody tr th {\n",
       "        vertical-align: top;\n",
       "    }\n",
       "\n",
       "    .dataframe thead th {\n",
       "        text-align: right;\n",
       "    }\n",
       "</style>\n",
       "<table border=\"1\" class=\"dataframe\">\n",
       "  <thead>\n",
       "    <tr style=\"text-align: right;\">\n",
       "      <th></th>\n",
       "      <th>Param2</th>\n",
       "      <th>sc_param2</th>\n",
       "      <th>SRK_kappa_A[R125,emimTf2N]</th>\n",
       "      <th>SSR</th>\n",
       "    </tr>\n",
       "  </thead>\n",
       "  <tbody>\n",
       "    <tr>\n",
       "      <th>192</th>\n",
       "      <td>0.495957</td>\n",
       "      <td>-0.004797</td>\n",
       "      <td>-0.024758</td>\n",
       "      <td>0.37231</td>\n",
       "    </tr>\n",
       "  </tbody>\n",
       "</table>\n",
       "</div>"
      ],
      "text/plain": [
       "       Param2  sc_param2  SRK_kappa_A[R125,emimTf2N]      SSR\n",
       "192  0.495957  -0.004797                   -0.024758  0.37231"
      ]
     },
     "execution_count": 3,
     "metadata": {},
     "output_type": "execute_result"
    }
   ],
   "source": [
    "SRK_1param_Opt1_results[SRK_1param_Opt1_results.SSR == SRK_1param_Opt1_results.SSR.min()]"
   ]
  },
  {
   "cell_type": "code",
   "execution_count": 4,
   "id": "a45ca2d2",
   "metadata": {},
   "outputs": [],
   "source": [
    "Opt1_192 = SRK_1param_Opt1_results.iloc[192]"
   ]
  },
  {
   "cell_type": "code",
   "execution_count": 5,
   "id": "28d35bfa",
   "metadata": {},
   "outputs": [
    {
     "data": {
      "text/html": [
       "<div>\n",
       "<style scoped>\n",
       "    .dataframe tbody tr th:only-of-type {\n",
       "        vertical-align: middle;\n",
       "    }\n",
       "\n",
       "    .dataframe tbody tr th {\n",
       "        vertical-align: top;\n",
       "    }\n",
       "\n",
       "    .dataframe thead th {\n",
       "        text-align: right;\n",
       "    }\n",
       "</style>\n",
       "<table border=\"1\" class=\"dataframe\">\n",
       "  <thead>\n",
       "    <tr style=\"text-align: right;\">\n",
       "      <th></th>\n",
       "      <th>Param1</th>\n",
       "      <th>sc_param1</th>\n",
       "      <th>SRK_kappa_A[emimTf2N,R125]</th>\n",
       "      <th>SSR</th>\n",
       "    </tr>\n",
       "  </thead>\n",
       "  <tbody>\n",
       "    <tr>\n",
       "      <th>122</th>\n",
       "      <td>0.45303</td>\n",
       "      <td>-0.09429</td>\n",
       "      <td>-0.019065</td>\n",
       "      <td>19.881813</td>\n",
       "    </tr>\n",
       "  </tbody>\n",
       "</table>\n",
       "</div>"
      ],
      "text/plain": [
       "      Param1  sc_param1  SRK_kappa_A[emimTf2N,R125]        SSR\n",
       "122  0.45303   -0.09429                   -0.019065  19.881813"
      ]
     },
     "execution_count": 5,
     "metadata": {},
     "output_type": "execute_result"
    }
   ],
   "source": [
    "SRK_1param_Opt2_results[SRK_1param_Opt2_results.SSR == SRK_1param_Opt2_results.SSR.min()]"
   ]
  },
  {
   "cell_type": "code",
   "execution_count": 6,
   "id": "0ab6e4bf",
   "metadata": {},
   "outputs": [],
   "source": [
    "Opt2_122 = SRK_1param_Opt2_results.iloc[122]"
   ]
  },
  {
   "cell_type": "code",
   "execution_count": 7,
   "id": "9d5917ae",
   "metadata": {},
   "outputs": [
    {
     "data": {
      "text/plain": [
       "Param2                        0.495957\n",
       "sc_param2                    -0.004797\n",
       "SRK_kappa_A[R125,emimTf2N]   -0.024758\n",
       "SSR                           0.372310\n",
       "Name: 192, dtype: float64"
      ]
     },
     "execution_count": 7,
     "metadata": {},
     "output_type": "execute_result"
    }
   ],
   "source": [
    "Opt1_192"
   ]
  },
  {
   "cell_type": "code",
   "execution_count": 8,
   "id": "0fd9b1b0",
   "metadata": {},
   "outputs": [
    {
     "data": {
      "text/plain": [
       "Param1                         0.453030\n",
       "sc_param1                     -0.094290\n",
       "SRK_kappa_A[emimTf2N,R125]    -0.019065\n",
       "SSR                           19.881813\n",
       "Name: 122, dtype: float64"
      ]
     },
     "execution_count": 8,
     "metadata": {},
     "output_type": "execute_result"
    }
   ],
   "source": [
    "Opt2_122"
   ]
  },
  {
   "cell_type": "code",
   "execution_count": 9,
   "id": "d0b2c57a",
   "metadata": {},
   "outputs": [],
   "source": [
    "lhs = pd.read_csv('../../LHS_250x8.txt')"
   ]
  },
  {
   "cell_type": "code",
   "execution_count": 10,
   "id": "3ba4bd62",
   "metadata": {},
   "outputs": [],
   "source": [
    "lhs['sc_param1'] = ((lhs['Param1']-lhs['Param1'].min())/(lhs['Param1'].max()-lhs['Param1'].min()))*2+(-1)\n",
    "lhs['sc_param2'] = ((lhs['Param2']-lhs['Param2'].min())/(lhs['Param2'].max()-lhs['Param2'].min()))*2+(-1)"
   ]
  },
  {
   "cell_type": "code",
   "execution_count": 11,
   "id": "d1497feb",
   "metadata": {},
   "outputs": [],
   "source": [
    "Opt1_192_sc = Opt1_192[['sc_param2']]"
   ]
  },
  {
   "cell_type": "code",
   "execution_count": 12,
   "id": "d314e586",
   "metadata": {},
   "outputs": [],
   "source": [
    "Opt2_122_sc = Opt2_122[['sc_param1']]"
   ]
  },
  {
   "cell_type": "code",
   "execution_count": 13,
   "id": "1e325f20",
   "metadata": {},
   "outputs": [],
   "source": [
    "Opt1_192_sc_df = pd.DataFrame(Opt1_192_sc).T\n",
    "sc_Opt1_192 = pd.concat([Opt1_192_sc_df]*250,ignore_index=True)\n",
    "sc_lhs_Opt1_192 = pd.concat([lhs[['sc_param1']],sc_Opt1_192],axis=1,ignore_index=True)\n",
    "sc_lhs_Opt1_192.columns = ['sc_param1','sc_param2']\n",
    "sc_lhs_Opt1_192.to_csv('Data/Fits/LHS_Fits/SRK_noTdep_scLHS_Opt1_192.csv',sep=',')"
   ]
  },
  {
   "cell_type": "code",
   "execution_count": 14,
   "id": "386d8b2a",
   "metadata": {},
   "outputs": [],
   "source": [
    "Opt2_122_sc_df = pd.DataFrame(Opt2_122_sc).T\n",
    "sc_Opt2_122 = pd.concat([Opt2_122_sc_df]*250,ignore_index=True)\n",
    "sc_lhs_Opt2_122 = pd.concat([sc_Opt2_122,lhs[['sc_param2']]],axis=1,ignore_index=True)\n",
    "sc_lhs_Opt2_122.columns = ['sc_param1','sc_param2']\n",
    "sc_lhs_Opt2_122.to_csv('Data/Fits/LHS_Fits/SRK_noTdep_scLHS_Opt2_122.csv',sep=',')"
   ]
  },
  {
   "cell_type": "code",
   "execution_count": null,
   "id": "92781975",
   "metadata": {},
   "outputs": [],
   "source": [
    "sc_lhs_Opt1_192"
   ]
  },
  {
   "cell_type": "code",
   "execution_count": null,
   "id": "3ee80540",
   "metadata": {},
   "outputs": [],
   "source": [
    "sc_lhs_Opt2_122"
   ]
  },
  {
   "cell_type": "code",
   "execution_count": null,
   "id": "804d5655",
   "metadata": {},
   "outputs": [],
   "source": []
  }
 ],
 "metadata": {
  "kernelspec": {
   "display_name": "Python 3 (ipykernel)",
   "language": "python",
   "name": "python3"
  },
  "language_info": {
   "codemirror_mode": {
    "name": "ipython",
    "version": 3
   },
   "file_extension": ".py",
   "mimetype": "text/x-python",
   "name": "python",
   "nbconvert_exporter": "python",
   "pygments_lexer": "ipython3",
   "version": "3.9.9"
  }
 },
 "nbformat": 4,
 "nbformat_minor": 5
}
