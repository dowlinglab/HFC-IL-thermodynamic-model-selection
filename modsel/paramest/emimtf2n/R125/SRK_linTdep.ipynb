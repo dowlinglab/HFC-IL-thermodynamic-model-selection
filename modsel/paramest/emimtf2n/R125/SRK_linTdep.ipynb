{
 "cells": [
  {
   "cell_type": "markdown",
   "id": "instructional-learning",
   "metadata": {},
   "source": [
    "# Fit emimTF2N data\n",
    "\n",
    "EoS: SRK\n",
    "\n",
    "Parameter T dependence: Linear\n",
    "\n",
    "N (total fitting parameters): 4"
   ]
  },
  {
   "cell_type": "markdown",
   "id": "extended-rabbit",
   "metadata": {},
   "source": [
    "## Import Functions"
   ]
  },
  {
   "cell_type": "code",
   "execution_count": 1,
   "id": "complicated-toronto",
   "metadata": {},
   "outputs": [],
   "source": [
    "import idaes\n",
    "\n",
    "import pandas as pd\n",
    "import numpy as np\n",
    "import matplotlib.pyplot as plt\n",
    "import scipy.optimize\n",
    "\n",
    "import sys\n",
    "sys.path.append('../../')\n",
    "\n",
    "from pyomo.environ import (Constraint,\n",
    "                           Var,\n",
    "                           ConcreteModel,\n",
    "                           Expression,\n",
    "                           Param,\n",
    "                           Objective,\n",
    "                           SolverFactory,\n",
    "                           TransformationFactory,\n",
    "                           value)\n",
    "from pyomo.opt import TerminationCondition, SolverStatus\n",
    "\n",
    "from idaes.core import FlowsheetBlock\n",
    "import idaes.logger as idaeslog\n",
    "# Import the Generic Parameter Block\n",
    "from idaes.generic_models.properties.core.generic.generic_property import (\n",
    "        GenericParameterBlock)\n",
    "# Import unit models from the model library\n",
    "from idaes.generic_models.unit_models import Flash\n",
    "# Import degrees of freedom tool\n",
    "from idaes.core.util.model_statistics import degrees_of_freedom\n",
    "\n",
    "# parmest (binary_param2)\n",
    "from bip_fitting_functions_SRK import linear\n",
    "\n",
    "import scipy.stats as stats\n",
    "\n",
    "from matplotlib.patches import Ellipse\n",
    "import matplotlib.transforms as transforms\n",
    "import matplotlib.patches as mpatches"
   ]
  },
  {
   "cell_type": "markdown",
   "id": "potential-awareness",
   "metadata": {},
   "source": [
    "## Load Data"
   ]
  },
  {
   "cell_type": "code",
   "execution_count": 2,
   "id": "latest-artist",
   "metadata": {},
   "outputs": [],
   "source": [
    "data_full = pd.read_csv('r125_emimtf2n_full.csv')\n",
    "data_subset = pd.read_csv('r125_emimtf2n_subset.csv')"
   ]
  },
  {
   "cell_type": "markdown",
   "id": "superior-attendance",
   "metadata": {},
   "source": [
    "## Load Configuration + Check DOF"
   ]
  },
  {
   "cell_type": "code",
   "execution_count": 3,
   "id": "binding-cattle",
   "metadata": {},
   "outputs": [],
   "source": [
    "from hfc125_emimtf2n_SRK import configuration "
   ]
  },
  {
   "cell_type": "code",
   "execution_count": 4,
   "id": "backed-diving",
   "metadata": {},
   "outputs": [
    {
     "name": "stdout",
     "output_type": "stream",
     "text": [
      "The initial DOF is 7\n"
     ]
    }
   ],
   "source": [
    "m = ConcreteModel()\n",
    "m.fs = FlowsheetBlock(default={\"dynamic\": False})\n",
    "m.fs.properties = GenericParameterBlock(default=configuration)\n",
    "m.fs.F101 = Flash(default={\"property_package\": m.fs.properties,\n",
    "                           \"has_heat_transfer\": True,\n",
    "                           \"has_pressure_change\": True})\n",
    "DOF_initial = degrees_of_freedom(m)\n",
    "print('The initial DOF is {0}'.format(DOF_initial))"
   ]
  },
  {
   "cell_type": "markdown",
   "id": "conventional-health",
   "metadata": {},
   "source": [
    "## Fit Parameters"
   ]
  },
  {
   "cell_type": "code",
   "execution_count": 8,
   "id": "sensitive-secondary",
   "metadata": {},
   "outputs": [
    {
     "name": "stdout",
     "output_type": "stream",
     "text": [
      "2022-04-04 22:00:48 [INFO] idaes.init.fs.state_block: Property package initialization: optimal - Optimal Solution Found.\n",
      "2022-04-04 22:00:49 [INFO] idaes.init.fs.state_block: Property package initialization: optimal - Optimal Solution Found.\n",
      "2022-04-04 22:00:49 [INFO] idaes.init.fs.state_block: Property package initialization: optimal - Optimal Solution Found.\n"
     ]
    },
    {
     "ename": "InitializationError",
     "evalue": "fs.state_block failed to initialize successfully. Please check the output logs for more information.",
     "output_type": "error",
     "traceback": [
      "\u001b[0;31m---------------------------------------------------------------------------\u001b[0m",
      "\u001b[0;31mInitializationError\u001b[0m                       Traceback (most recent call last)",
      "\u001b[0;32m/var/folders/4w/g52120tx7_s7wtgcx42rk8100000gn/T/ipykernel_32054/789825577.py\u001b[0m in \u001b[0;36m<module>\u001b[0;34m\u001b[0m\n\u001b[0;32m----> 1\u001b[0;31m parameters, obj_value, a = linear(data_subset, configuration, 'R125', 'emimTf2N', \"x_R125\", \"x_emimTf2N\", \n\u001b[0m\u001b[1;32m      2\u001b[0m     \u001b[0minit_temp\u001b[0m \u001b[0;34m=\u001b[0m  \u001b[0;36m283.1\u001b[0m\u001b[0;34m,\u001b[0m \u001b[0minit_press\u001b[0m \u001b[0;34m=\u001b[0m   \u001b[0;36m399300\u001b[0m \u001b[0;34m,\u001b[0m \u001b[0minit_x_c1\u001b[0m \u001b[0;34m=\u001b[0m    \u001b[0;36m0.448\u001b[0m\u001b[0;34m,\u001b[0m \u001b[0minit_x_c2\u001b[0m \u001b[0;34m=\u001b[0m \u001b[0;36m0.552\u001b[0m\u001b[0;34m,\u001b[0m\u001b[0;34m\u001b[0m\u001b[0;34m\u001b[0m\u001b[0m\n\u001b[1;32m      3\u001b[0m     \u001b[0minit_kappa_2_1A\u001b[0m \u001b[0;34m=\u001b[0m \u001b[0;36m0.1\u001b[0m\u001b[0;34m,\u001b[0m \u001b[0minit_kappa_1_2A\u001b[0m \u001b[0;34m=\u001b[0m \u001b[0;36m0.1\u001b[0m\u001b[0;34m,\u001b[0m\u001b[0;34m\u001b[0m\u001b[0;34m\u001b[0m\u001b[0m\n\u001b[1;32m      4\u001b[0m     init_kappa_2_1B = 0.1, init_kappa_1_2B = 0.1, eps = 0.1, scaling_fac = 1e-9)\n",
      "\u001b[0;32m~/Dowling-Maginn-Lab/DowlingLab/extractive-distillation2/modsel/paramest/emimtf2n/R125/../../bip_fitting_functions_SRK.py\u001b[0m in \u001b[0;36mlinear\u001b[0;34m(file, configuration, comp_1, comp_2, x_comp_1, x_comp_2, init_temp, init_press, init_x_c1, init_x_c2, init_kappa_1_2A, init_kappa_2_1A, init_kappa_1_2B, init_kappa_2_1B, eps, scaling_fac, optional_params)\u001b[0m\n\u001b[1;32m    422\u001b[0m     \u001b[0mpest\u001b[0m \u001b[0;34m=\u001b[0m \u001b[0mparmest\u001b[0m\u001b[0;34m.\u001b[0m\u001b[0mEstimator\u001b[0m\u001b[0;34m(\u001b[0m\u001b[0mSRK_model\u001b[0m\u001b[0;34m,\u001b[0m \u001b[0mdata\u001b[0m\u001b[0;34m,\u001b[0m \u001b[0mvariable_name\u001b[0m\u001b[0;34m,\u001b[0m \u001b[0mSSE\u001b[0m\u001b[0;34m,\u001b[0m \u001b[0mtee\u001b[0m\u001b[0;34m=\u001b[0m\u001b[0;32mTrue\u001b[0m\u001b[0;34m)\u001b[0m\u001b[0;34m\u001b[0m\u001b[0;34m\u001b[0m\u001b[0m\n\u001b[1;32m    423\u001b[0m \u001b[0;34m\u001b[0m\u001b[0m\n\u001b[0;32m--> 424\u001b[0;31m     \u001b[0mobj_value\u001b[0m\u001b[0;34m,\u001b[0m \u001b[0mparameters\u001b[0m\u001b[0;34m,\u001b[0m\u001b[0ma\u001b[0m\u001b[0;34m=\u001b[0m \u001b[0mpest\u001b[0m\u001b[0;34m.\u001b[0m\u001b[0mtheta_est\u001b[0m\u001b[0;34m(\u001b[0m\u001b[0mcalc_cov\u001b[0m\u001b[0;34m=\u001b[0m\u001b[0;32mTrue\u001b[0m\u001b[0;34m)\u001b[0m\u001b[0;34m\u001b[0m\u001b[0;34m\u001b[0m\u001b[0m\n\u001b[0m\u001b[1;32m    425\u001b[0m \u001b[0;34m\u001b[0m\u001b[0m\n\u001b[1;32m    426\u001b[0m     \u001b[0mprint_params\u001b[0m\u001b[0;34m(\u001b[0m\u001b[0mobj_value\u001b[0m\u001b[0;34m,\u001b[0m \u001b[0mparameters\u001b[0m\u001b[0;34m)\u001b[0m\u001b[0;34m\u001b[0m\u001b[0;34m\u001b[0m\u001b[0m\n",
      "\u001b[0;32m~/opt/anaconda3/envs/idaes-pse-dev/lib/python3.9/site-packages/pyomo/contrib/parmest/parmest.py\u001b[0m in \u001b[0;36mtheta_est\u001b[0;34m(self, solver, return_values, bootlist, calc_cov)\u001b[0m\n\u001b[1;32m    672\u001b[0m         \u001b[0;32massert\u001b[0m \u001b[0misinstance\u001b[0m\u001b[0;34m(\u001b[0m\u001b[0mbootlist\u001b[0m\u001b[0;34m,\u001b[0m \u001b[0;34m(\u001b[0m\u001b[0mtype\u001b[0m\u001b[0;34m(\u001b[0m\u001b[0;32mNone\u001b[0m\u001b[0;34m)\u001b[0m\u001b[0;34m,\u001b[0m \u001b[0mlist\u001b[0m\u001b[0;34m)\u001b[0m\u001b[0;34m)\u001b[0m\u001b[0;34m\u001b[0m\u001b[0;34m\u001b[0m\u001b[0m\n\u001b[1;32m    673\u001b[0m \u001b[0;34m\u001b[0m\u001b[0m\n\u001b[0;32m--> 674\u001b[0;31m         return self._Q_opt(solver=solver, return_values=return_values,\n\u001b[0m\u001b[1;32m    675\u001b[0m                            bootlist=bootlist, calc_cov=calc_cov)\n\u001b[1;32m    676\u001b[0m \u001b[0;34m\u001b[0m\u001b[0m\n",
      "\u001b[0;32m~/opt/anaconda3/envs/idaes-pse-dev/lib/python3.9/site-packages/pyomo/contrib/parmest/parmest.py\u001b[0m in \u001b[0;36m_Q_opt\u001b[0;34m(self, ThetaVals, solver, return_values, bootlist, calc_cov)\u001b[0m\n\u001b[1;32m    424\u001b[0m                               scenario_creator_kwargs=scenario_creator_options)\n\u001b[1;32m    425\u001b[0m         \u001b[0;32melse\u001b[0m\u001b[0;34m:\u001b[0m\u001b[0;34m\u001b[0m\u001b[0;34m\u001b[0m\u001b[0m\n\u001b[0;32m--> 426\u001b[0;31m             ef = local_ef.create_EF(scen_names,\n\u001b[0m\u001b[1;32m    427\u001b[0m                                     \u001b[0m_experiment_instance_creation_callback\u001b[0m\u001b[0;34m,\u001b[0m\u001b[0;34m\u001b[0m\u001b[0;34m\u001b[0m\u001b[0m\n\u001b[1;32m    428\u001b[0m                                     \u001b[0mEF_name\u001b[0m \u001b[0;34m=\u001b[0m \u001b[0;34m\"_Q_opt\"\u001b[0m\u001b[0;34m,\u001b[0m\u001b[0;34m\u001b[0m\u001b[0;34m\u001b[0m\u001b[0m\n",
      "\u001b[0;32m~/opt/anaconda3/envs/idaes-pse-dev/lib/python3.9/site-packages/pyomo/contrib/parmest/create_ef.py\u001b[0m in \u001b[0;36mcreate_EF\u001b[0;34m(scenario_names, scenario_creator, scenario_creator_kwargs, EF_name, suppress_warnings, nonant_for_fixed_vars)\u001b[0m\n\u001b[1;32m     86\u001b[0m     \u001b[0;32mif\u001b[0m \u001b[0mscenario_creator_kwargs\u001b[0m \u001b[0;32mis\u001b[0m \u001b[0;32mNone\u001b[0m\u001b[0;34m:\u001b[0m\u001b[0;34m\u001b[0m\u001b[0;34m\u001b[0m\u001b[0m\n\u001b[1;32m     87\u001b[0m         \u001b[0mscenario_creator_kwargs\u001b[0m \u001b[0;34m=\u001b[0m \u001b[0mdict\u001b[0m\u001b[0;34m(\u001b[0m\u001b[0;34m)\u001b[0m\u001b[0;34m\u001b[0m\u001b[0;34m\u001b[0m\u001b[0m\n\u001b[0;32m---> 88\u001b[0;31m     scen_dict = {\n\u001b[0m\u001b[1;32m     89\u001b[0m         \u001b[0mname\u001b[0m\u001b[0;34m:\u001b[0m \u001b[0mscenario_creator\u001b[0m\u001b[0;34m(\u001b[0m\u001b[0mname\u001b[0m\u001b[0;34m,\u001b[0m \u001b[0;34m**\u001b[0m\u001b[0mscenario_creator_kwargs\u001b[0m\u001b[0;34m)\u001b[0m\u001b[0;34m\u001b[0m\u001b[0;34m\u001b[0m\u001b[0m\n\u001b[1;32m     90\u001b[0m         \u001b[0;32mfor\u001b[0m \u001b[0mname\u001b[0m \u001b[0;32min\u001b[0m \u001b[0mscenario_names\u001b[0m\u001b[0;34m\u001b[0m\u001b[0;34m\u001b[0m\u001b[0m\n",
      "\u001b[0;32m~/opt/anaconda3/envs/idaes-pse-dev/lib/python3.9/site-packages/pyomo/contrib/parmest/create_ef.py\u001b[0m in \u001b[0;36m<dictcomp>\u001b[0;34m(.0)\u001b[0m\n\u001b[1;32m     87\u001b[0m         \u001b[0mscenario_creator_kwargs\u001b[0m \u001b[0;34m=\u001b[0m \u001b[0mdict\u001b[0m\u001b[0;34m(\u001b[0m\u001b[0;34m)\u001b[0m\u001b[0;34m\u001b[0m\u001b[0;34m\u001b[0m\u001b[0m\n\u001b[1;32m     88\u001b[0m     scen_dict = {\n\u001b[0;32m---> 89\u001b[0;31m         \u001b[0mname\u001b[0m\u001b[0;34m:\u001b[0m \u001b[0mscenario_creator\u001b[0m\u001b[0;34m(\u001b[0m\u001b[0mname\u001b[0m\u001b[0;34m,\u001b[0m \u001b[0;34m**\u001b[0m\u001b[0mscenario_creator_kwargs\u001b[0m\u001b[0;34m)\u001b[0m\u001b[0;34m\u001b[0m\u001b[0;34m\u001b[0m\u001b[0m\n\u001b[0m\u001b[1;32m     90\u001b[0m         \u001b[0;32mfor\u001b[0m \u001b[0mname\u001b[0m \u001b[0;32min\u001b[0m \u001b[0mscenario_names\u001b[0m\u001b[0;34m\u001b[0m\u001b[0;34m\u001b[0m\u001b[0m\n\u001b[1;32m     91\u001b[0m     }\n",
      "\u001b[0;32m~/opt/anaconda3/envs/idaes-pse-dev/lib/python3.9/site-packages/pyomo/contrib/parmest/parmest.py\u001b[0m in \u001b[0;36m_experiment_instance_creation_callback\u001b[0;34m(scenario_name, node_names, cb_data)\u001b[0m\n\u001b[1;32m    140\u001b[0m     \u001b[0;31m# at least three signatures are supported. The first is preferred\u001b[0m\u001b[0;34m\u001b[0m\u001b[0;34m\u001b[0m\u001b[0m\n\u001b[1;32m    141\u001b[0m     \u001b[0;32mtry\u001b[0m\u001b[0;34m:\u001b[0m\u001b[0;34m\u001b[0m\u001b[0;34m\u001b[0m\u001b[0m\n\u001b[0;32m--> 142\u001b[0;31m         \u001b[0minstance\u001b[0m \u001b[0;34m=\u001b[0m \u001b[0mcallback\u001b[0m\u001b[0;34m(\u001b[0m\u001b[0mexperiment_number\u001b[0m \u001b[0;34m=\u001b[0m \u001b[0mexp_num\u001b[0m\u001b[0;34m,\u001b[0m \u001b[0mcb_data\u001b[0m \u001b[0;34m=\u001b[0m \u001b[0mcb_data\u001b[0m\u001b[0;34m)\u001b[0m\u001b[0;34m\u001b[0m\u001b[0;34m\u001b[0m\u001b[0m\n\u001b[0m\u001b[1;32m    143\u001b[0m     \u001b[0;32mexcept\u001b[0m \u001b[0mTypeError\u001b[0m\u001b[0;34m:\u001b[0m\u001b[0;34m\u001b[0m\u001b[0;34m\u001b[0m\u001b[0m\n\u001b[1;32m    144\u001b[0m         raise RuntimeError(\"Only one callback signature is supported: \"\n",
      "\u001b[0;32m~/opt/anaconda3/envs/idaes-pse-dev/lib/python3.9/site-packages/pyomo/contrib/parmest/parmest.py\u001b[0m in \u001b[0;36m_instance_creation_callback\u001b[0;34m(self, experiment_number, cb_data)\u001b[0m\n\u001b[1;32m    383\u001b[0m         \u001b[0;32melse\u001b[0m\u001b[0;34m:\u001b[0m\u001b[0;34m\u001b[0m\u001b[0;34m\u001b[0m\u001b[0m\n\u001b[1;32m    384\u001b[0m             \u001b[0;32mraise\u001b[0m \u001b[0mRuntimeError\u001b[0m\u001b[0;34m(\u001b[0m\u001b[0;34mf'Unexpected data format for cb_data={cb_data}'\u001b[0m\u001b[0;34m)\u001b[0m\u001b[0;34m\u001b[0m\u001b[0;34m\u001b[0m\u001b[0m\n\u001b[0;32m--> 385\u001b[0;31m         \u001b[0mmodel\u001b[0m \u001b[0;34m=\u001b[0m \u001b[0mself\u001b[0m\u001b[0;34m.\u001b[0m\u001b[0m_create_parmest_model\u001b[0m\u001b[0;34m(\u001b[0m\u001b[0mexp_data\u001b[0m\u001b[0;34m)\u001b[0m\u001b[0;34m\u001b[0m\u001b[0;34m\u001b[0m\u001b[0m\n\u001b[0m\u001b[1;32m    386\u001b[0m \u001b[0;34m\u001b[0m\u001b[0m\n\u001b[1;32m    387\u001b[0m         \u001b[0;32mreturn\u001b[0m \u001b[0mmodel\u001b[0m\u001b[0;34m\u001b[0m\u001b[0;34m\u001b[0m\u001b[0m\n",
      "\u001b[0;32m~/opt/anaconda3/envs/idaes-pse-dev/lib/python3.9/site-packages/pyomo/contrib/parmest/parmest.py\u001b[0m in \u001b[0;36m_create_parmest_model\u001b[0;34m(self, data)\u001b[0m\n\u001b[1;32m    318\u001b[0m         \u001b[0;32mfrom\u001b[0m \u001b[0mpyomo\u001b[0m\u001b[0;34m.\u001b[0m\u001b[0mcore\u001b[0m \u001b[0;32mimport\u001b[0m \u001b[0mObjective\u001b[0m\u001b[0;34m\u001b[0m\u001b[0;34m\u001b[0m\u001b[0m\n\u001b[1;32m    319\u001b[0m \u001b[0;34m\u001b[0m\u001b[0m\n\u001b[0;32m--> 320\u001b[0;31m         \u001b[0mmodel\u001b[0m \u001b[0;34m=\u001b[0m \u001b[0mself\u001b[0m\u001b[0;34m.\u001b[0m\u001b[0mmodel_function\u001b[0m\u001b[0;34m(\u001b[0m\u001b[0mdata\u001b[0m\u001b[0;34m)\u001b[0m\u001b[0;34m\u001b[0m\u001b[0;34m\u001b[0m\u001b[0m\n\u001b[0m\u001b[1;32m    321\u001b[0m \u001b[0;34m\u001b[0m\u001b[0m\n\u001b[1;32m    322\u001b[0m         \u001b[0;32mif\u001b[0m \u001b[0;34m(\u001b[0m\u001b[0mlen\u001b[0m\u001b[0;34m(\u001b[0m\u001b[0mself\u001b[0m\u001b[0;34m.\u001b[0m\u001b[0mtheta_names\u001b[0m\u001b[0;34m)\u001b[0m \u001b[0;34m==\u001b[0m \u001b[0;36m1\u001b[0m\u001b[0;34m)\u001b[0m \u001b[0;32mand\u001b[0m \u001b[0;34m(\u001b[0m\u001b[0mself\u001b[0m\u001b[0;34m.\u001b[0m\u001b[0mtheta_names\u001b[0m\u001b[0;34m[\u001b[0m\u001b[0;36m0\u001b[0m\u001b[0;34m]\u001b[0m \u001b[0;34m==\u001b[0m \u001b[0;34m'parmest_dummy_var'\u001b[0m\u001b[0;34m)\u001b[0m\u001b[0;34m:\u001b[0m\u001b[0;34m\u001b[0m\u001b[0;34m\u001b[0m\u001b[0m\n",
      "\u001b[0;32m~/Dowling-Maginn-Lab/DowlingLab/extractive-distillation2/modsel/paramest/emimtf2n/R125/../../bip_fitting_functions_SRK.py\u001b[0m in \u001b[0;36mSRK_model\u001b[0;34m(data)\u001b[0m\n\u001b[1;32m    360\u001b[0m         \u001b[0mm\u001b[0m\u001b[0;34m.\u001b[0m\u001b[0mfs\u001b[0m\u001b[0;34m.\u001b[0m\u001b[0mproperties\u001b[0m\u001b[0;34m.\u001b[0m\u001b[0mSRK_kappa_C\u001b[0m\u001b[0;34m[\u001b[0m\u001b[0mcomp_1\u001b[0m\u001b[0;34m,\u001b[0m \u001b[0mcomp_2\u001b[0m\u001b[0;34m]\u001b[0m\u001b[0;34m.\u001b[0m\u001b[0mfix\u001b[0m\u001b[0;34m(\u001b[0m\u001b[0;36m0\u001b[0m\u001b[0;34m)\u001b[0m\u001b[0;34m\u001b[0m\u001b[0;34m\u001b[0m\u001b[0m\n\u001b[1;32m    361\u001b[0m         \u001b[0;31m# Initialize the flash unit\u001b[0m\u001b[0;34m\u001b[0m\u001b[0;34m\u001b[0m\u001b[0m\n\u001b[0;32m--> 362\u001b[0;31m         \u001b[0mm\u001b[0m\u001b[0;34m.\u001b[0m\u001b[0mfs\u001b[0m\u001b[0;34m.\u001b[0m\u001b[0mstate_block\u001b[0m\u001b[0;34m.\u001b[0m\u001b[0minitialize\u001b[0m\u001b[0;34m(\u001b[0m\u001b[0moutlvl\u001b[0m\u001b[0;34m=\u001b[0m\u001b[0midaeslog\u001b[0m\u001b[0;34m.\u001b[0m\u001b[0mCRITICAL\u001b[0m\u001b[0;34m)\u001b[0m\u001b[0;34m\u001b[0m\u001b[0;34m\u001b[0m\u001b[0m\n\u001b[0m\u001b[1;32m    363\u001b[0m \u001b[0;34m\u001b[0m\u001b[0m\n\u001b[1;32m    364\u001b[0m         \u001b[0;31m# Fix the state variables on the state block\u001b[0m\u001b[0;34m\u001b[0m\u001b[0;34m\u001b[0m\u001b[0m\n",
      "\u001b[0;32m~/Dowling-Maginn-Lab/DowlingLab/IL-MD/idaes-pse/idaes/generic_models/properties/core/generic/generic_property.py\u001b[0m in \u001b[0;36minitialize\u001b[0;34m(blk, state_args, state_vars_fixed, hold_state, outlvl, solver, optarg)\u001b[0m\n\u001b[1;32m   1434\u001b[0m                 \u001b[0mTerminationCondition\u001b[0m\u001b[0;34m.\u001b[0m\u001b[0moptimal\u001b[0m \u001b[0;32mor\u001b[0m\u001b[0;34m\u001b[0m\u001b[0;34m\u001b[0m\u001b[0m\n\u001b[1;32m   1435\u001b[0m                 res.solver.status != SolverStatus.ok)):\n\u001b[0;32m-> 1436\u001b[0;31m             raise InitializationError(\n\u001b[0m\u001b[1;32m   1437\u001b[0m                 \u001b[0;34mf\"{blk.name} failed to initialize successfully. Please check \"\u001b[0m\u001b[0;34m\u001b[0m\u001b[0;34m\u001b[0m\u001b[0m\n\u001b[1;32m   1438\u001b[0m                 f\"the output logs for more information.\")\n",
      "\u001b[0;31mInitializationError\u001b[0m: fs.state_block failed to initialize successfully. Please check the output logs for more information."
     ]
    }
   ],
   "source": [
    "parameters, obj_value, a = linear(data_subset, configuration, 'R125', 'emimTf2N', \"x_R125\", \"x_emimTf2N\", \n",
    "    init_temp =  283.1, init_press =   399300 , init_x_c1 =    0.448, init_x_c2 = 0.552,\n",
    "    init_kappa_2_1A = 0.1, init_kappa_1_2A = 0.1,\n",
    "    init_kappa_2_1B = 0.1, init_kappa_1_2B = 0.1, eps = 0.1, scaling_fac = 1e-9)"
   ]
  },
  {
   "cell_type": "code",
   "execution_count": null,
   "id": "basic-preserve",
   "metadata": {},
   "outputs": [],
   "source": [
    "print('Objective (SSE):',obj_value)"
   ]
  },
  {
   "cell_type": "code",
   "execution_count": null,
   "id": "governmental-nudist",
   "metadata": {},
   "outputs": [],
   "source": [
    "cov = np.array(a)\n",
    "print('Covariance Matrix:')\n",
    "print(cov)"
   ]
  },
  {
   "cell_type": "code",
   "execution_count": null,
   "id": "e449be04",
   "metadata": {},
   "outputs": [],
   "source": [
    "np.savetxt('Data/Covariance/SRK_Cov_4parameter.csv',cov,delimiter=',')"
   ]
  },
  {
   "cell_type": "markdown",
   "id": "aging-authentication",
   "metadata": {},
   "source": [
    "## Apply Parameters + Plot"
   ]
  },
  {
   "cell_type": "code",
   "execution_count": null,
   "id": "endangered-gibraltar",
   "metadata": {},
   "outputs": [],
   "source": [
    "solver = SolverFactory('ipopt')\n",
    "solver.options = {'tol': 1e-6}"
   ]
  },
  {
   "cell_type": "code",
   "execution_count": null,
   "id": "royal-switch",
   "metadata": {},
   "outputs": [],
   "source": [
    "m = ConcreteModel()\n",
    "\n",
    "m.fs = FlowsheetBlock(default={\"dynamic\": False})\n",
    "\n",
    "m.fs.properties = GenericParameterBlock(default=configuration)\n",
    "\n",
    "m.fs.F101 = Flash(default={\"property_package\": m.fs.properties,\n",
    "                           \"has_heat_transfer\": True,\n",
    "                           \"has_pressure_change\": True})\n",
    "\n",
    "m.fs.F101.inlet.flow_mol.fix(1)\n",
    "m.fs.F101.inlet.temperature.fix(323.15)\n",
    "m.fs.F101.inlet.pressure.fix(399800)\n",
    "m.fs.F101.inlet.mole_frac_comp[0,'R32'].fix(0.5)\n",
    "\n",
    "m.fs.properties.SRK_kappa_A['R32','emimTf2N'] = parameters['fs.properties.SRK_kappa_A[R32,emimTf2N]']\n",
    "m.fs.properties.SRK_kappa_A['emimTf2N','R32'] = parameters['fs.properties.SRK_kappa_A[emimTf2N,R32]']\n",
    "m.fs.properties.SRK_kappa_B['R32','emimTf2N'] = parameters['fs.properties.SRK_kappa_B[R32,emimTf2N]']\n",
    "m.fs.properties.SRK_kappa_B['emimTf2N','R32'] = parameters['fs.properties.SRK_kappa_B[emimTf2N,R32]']\n",
    "\n",
    "# Initialize the flash unit\n",
    "m.fs.F101.initialize(outlvl=idaeslog.CRITICAL)\n",
    "\n",
    "# Fix the state variables on the state block\n",
    "# m.fs.F101.inlet.pressure.unfix()\n",
    "m.fs.F101.inlet.mole_frac_comp[0,'emimTf2N'].unfix()\n",
    "\n",
    "R32_x = np.zeros((len(data_full)))\n",
    "P = np.zeros((len(data_full)))\n",
    "\n",
    "m.fs.liq = Param(mutable=True,default=0.040)\n",
    "m.fs.liquid = Constraint(expr=m.fs.F101.liq_outlet.mole_frac_comp[0, \"emimTf2N\"] == m.fs.liq)\n",
    "\n",
    "for i in range(len(data_full)):\n",
    "    m.fs.liq = data_full[\"x_emimTf2N\"].iloc[i]\n",
    "    m.fs.F101.inlet.temperature.fix(float(data_full[\"temperature\"].iloc[i]))\n",
    "    m.fs.F101.inlet.pressure.fix(float(data_full[\"pressure\"].iloc[i]))\n",
    "    m.fs.F101.inlet.mole_frac_comp[0,'R32'].fix(float(data_full[\"x_R32\"].iloc[i])+0.1)\n",
    "    m.fs.F101.inlet.mole_frac_comp[0,'emimTf2N'].fix(float(1-(data_full[\"x_R32\"].iloc[i]+0.1)))\n",
    "    m.fs.F101.vap_outlet.temperature.fix(float(data_full[\"temperature\"].iloc[i]))\n",
    "    \n",
    "#     DOF_final = degrees_of_freedom(m)\n",
    "#     print(\"The final DOF is {0}\".format(DOF_final))\n",
    "    m.fs.F101.initialize(outlvl=idaeslog.CRITICAL)\n",
    "    \n",
    "    status = solver.solve(m, tee = False)\n",
    "\n",
    "#     m.fs.F101.report()\n",
    "    if (status.solver.status == SolverStatus.ok) and (status.solver.termination_condition == TerminationCondition.optimal):\n",
    "        print(data_full[\"x_emimTf2N\"].iloc[i])\n",
    "        R32_x[i] = value(m.fs.F101.liq_outlet.mole_frac_comp[0,'R32']) \n",
    "        P[i] = value(m.fs.F101.vap_outlet.pressure[0])\n",
    "\n",
    "    else:\n",
    "        print('Infeasible.')"
   ]
  },
  {
   "cell_type": "code",
   "execution_count": null,
   "id": "03512f76",
   "metadata": {},
   "outputs": [],
   "source": [
    "fitted_data = pd.DataFrame(data=[R32_x,P/1e6])\n",
    "fitted_data = fitted_data.T\n",
    "fitted_data.columns = ['R32_x','P, MPa']\n",
    "fitted_data.to_csv('Data/Fits/SRK_FittedData_4parameter.csv')"
   ]
  },
  {
   "cell_type": "code",
   "execution_count": null,
   "id": "religious-joining",
   "metadata": {},
   "outputs": [],
   "source": [
    "P1= np.zeros((len(P)))\n",
    "\n",
    "for i in range(len(P)):\n",
    "    P1[i] = P[i]/1e6\n",
    "\n",
    "fig, ax = plt.subplots()\n",
    "\n",
    "ax.plot(R32_x[0:7],P1[0:7],\"b*-\",label=\"T= 283 K\")  \n",
    "ax.plot(R32_x[7:15],P1[7:15],\"r*-\",label=\"T= 298 K\") \n",
    "ax.plot(R32_x[15:23],P1[15:23],\"c*-\",label=\"T= 323 K\") \n",
    "ax.plot(R32_x[23:31],P1[23:31],\"m-*\",label=\"T= 348 K\")\n",
    "ax.plot(data_full[\"x_R32\"],data_full[\"pressure\"]/1e6,\"*\",color='orange',label=\"data\")  \n",
    "\n",
    "# plt.title('Isotherm R32-[emim][TF2N]')\n",
    "ax.set_ylabel('Pressure, MPa',fontsize=24)\n",
    "ax.set_xlabel('HFC-32 Mole Fraction',fontsize=24)\n",
    "\n",
    "ax.set_xticks([0.0, 0.2, 0.4, 0.6, 0.8, 1.0])\n",
    "ax.set_xticks([0.1, 0.3, 0.5, 0.7, 0.9],minor=True)\n",
    "ax.set_yticks([0.0, 0.2, 0.4, 0.6, 0.8, 1.0, 1.2])\n",
    "ax.set_yticks([0.1, 0.3, 0.5, 0.7, 0.9, 1.1],minor=True)\n",
    "\n",
    "ax.tick_params(\"both\", direction=\"in\", which=\"both\", length=4, labelsize=20, pad=10)\n",
    "ax.tick_params(\"both\", which=\"major\", length=8)\n",
    "ax.xaxis.set_ticks_position(\"both\")\n",
    "ax.yaxis.set_ticks_position(\"both\")\n",
    "\n",
    "ax.legend(fontsize=12, handletextpad=0.00, loc=\"lower right\")#, bbox_to_anchor=(1, 0.5))\n",
    "# fig.savefig('R32-emimTF2N-linTdep.pdf',bbox_inches='tight')\n",
    "plt.show()"
   ]
  },
  {
   "cell_type": "markdown",
   "id": "vanilla-chapel",
   "metadata": {},
   "source": [
    "### Print Eigvals, Eigvectors\n",
    "\n",
    "An identifiability analysis can be performed with these as well as a FIM because the covariance matrix is the inverse of the FIM. That means that if there are any eigvals > 0, their eigvecs indicate directions of un-identifiability."
   ]
  },
  {
   "cell_type": "code",
   "execution_count": null,
   "id": "focused-rotation",
   "metadata": {},
   "outputs": [],
   "source": [
    "eigvals, eigvecs = np.linalg.eig(cov)"
   ]
  },
  {
   "cell_type": "code",
   "execution_count": null,
   "id": "indie-eclipse",
   "metadata": {},
   "outputs": [],
   "source": [
    "eigvals"
   ]
  },
  {
   "cell_type": "code",
   "execution_count": null,
   "id": "lightweight-october",
   "metadata": {},
   "outputs": [],
   "source": [
    "eigvecs"
   ]
  },
  {
   "cell_type": "code",
   "execution_count": null,
   "id": "004e04bc",
   "metadata": {},
   "outputs": [],
   "source": [
    "np.savetxt('Data/EigenAnalysis/SRK_vals_4parameter.csv',eigvals,delimiter=',')\n",
    "np.savetxt('Data/EigenAnalysis/SRK_vecs_4parameter.csv',eigvecs,delimiter=',')"
   ]
  },
  {
   "cell_type": "markdown",
   "id": "fitting-flooring",
   "metadata": {},
   "source": [
    "Conclusion: Full identifiable because all eigvals ~ 0"
   ]
  },
  {
   "cell_type": "markdown",
   "id": "secure-pulse",
   "metadata": {},
   "source": [
    "## FIM with Enthalpy of Vaporization (and Pressure)"
   ]
  },
  {
   "cell_type": "markdown",
   "id": "specialized-science",
   "metadata": {},
   "source": [
    "### Step 1: Perturb Parameters, Calculate Enthalpy of Vaporization\n",
    "\n",
    "1. Perturb Parameters: stepsize = 0.001\n",
    "\n",
    "2. Holding all other parameters constant, calculate new pressure predictions at different temps, compositions \n",
    "\n",
    "*T = (T1=298, T2=323)\n",
    "\n",
    "*x = (0.01,0.2,0.325,0.4)\n",
    "\n",
    "*Pguess comes from data_full\n",
    "\n",
    "3. Save P, Use Clausius Clapeyron to calculate enthvap"
   ]
  },
  {
   "cell_type": "code",
   "execution_count": null,
   "id": "completed-consultancy",
   "metadata": {},
   "outputs": [],
   "source": [
    "h = 0.001\n",
    "kR32_emimTF2N_A_plus = parameters['fs.properties.PR_kappa_A[R32,emimTf2N]'] + h\n",
    "kR32_emimTF2N_A_minus = parameters['fs.properties.PR_kappa_A[R32,emimTf2N]'] - h\n",
    "kemimTF2N_R32_A_plus = parameters['fs.properties.PR_kappa_A[emimTf2N,R32]'] + h\n",
    "kemimTF2N_R32_A_minus = parameters['fs.properties.PR_kappa_A[emimTf2N,R32]'] - h\n",
    "kR32_emimTF2N_B_plus = parameters['fs.properties.PR_kappa_B[R32,emimTf2N]'] + h\n",
    "kR32_emimTF2N_B_minus = parameters['fs.properties.PR_kappa_B[R32,emimTf2N]'] - h\n",
    "kemimTF2N_R32_B_plus = parameters['fs.properties.PR_kappa_B[emimTf2N,R32]'] + h\n",
    "kemimTF2N_R32_B_minus = parameters['fs.properties.PR_kappa_B[emimTf2N,R32]'] - h"
   ]
  },
  {
   "cell_type": "code",
   "execution_count": null,
   "id": "minimal-modeling",
   "metadata": {},
   "outputs": [],
   "source": [
    "data = np.array([[kR32_emimTF2N_A_plus,parameters['fs.properties.PR_kappa_A[emimTf2N,R32]'],parameters['fs.properties.PR_kappa_B[R32,emimTf2N]'],parameters['fs.properties.PR_kappa_B[emimTf2N,R32]']],\n",
    "                [kR32_emimTF2N_A_minus,parameters['fs.properties.PR_kappa_A[emimTf2N,R32]'],parameters['fs.properties.PR_kappa_B[R32,emimTf2N]'],parameters['fs.properties.PR_kappa_B[emimTf2N,R32]']],\n",
    "                [parameters['fs.properties.PR_kappa_A[R32,emimTf2N]'],kemimTF2N_R32_A_plus,parameters['fs.properties.PR_kappa_B[R32,emimTf2N]'],parameters['fs.properties.PR_kappa_B[emimTf2N,R32]']],\n",
    "               [parameters['fs.properties.PR_kappa_A[R32,emimTf2N]'],kemimTF2N_R32_A_minus,parameters['fs.properties.PR_kappa_B[R32,emimTf2N]'],parameters['fs.properties.PR_kappa_B[emimTf2N,R32]']],\n",
    "                [parameters['fs.properties.PR_kappa_A[R32,emimTf2N]'],parameters['fs.properties.PR_kappa_A[emimTf2N,R32]'],kR32_emimTF2N_B_plus,parameters['fs.properties.PR_kappa_B[emimTf2N,R32]']],\n",
    "                 [parameters['fs.properties.PR_kappa_A[R32,emimTf2N]'],parameters['fs.properties.PR_kappa_A[emimTf2N,R32]'],kR32_emimTF2N_B_minus,parameters['fs.properties.PR_kappa_B[emimTf2N,R32]']],\n",
    "                 [parameters['fs.properties.PR_kappa_A[R32,emimTf2N]'],parameters['fs.properties.PR_kappa_A[emimTf2N,R32]'],parameters['fs.properties.PR_kappa_B[R32,emimTf2N]'],kemimTF2N_R32_B_plus],\n",
    "                 [parameters['fs.properties.PR_kappa_A[R32,emimTf2N]'],parameters['fs.properties.PR_kappa_A[emimTf2N,R32]'],parameters['fs.properties.PR_kappa_B[R32,emimTf2N]'],kemimTF2N_R32_B_minus]])"
   ]
  },
  {
   "cell_type": "code",
   "execution_count": null,
   "id": "hazardous-category",
   "metadata": {},
   "outputs": [],
   "source": [
    "perturbed_params = pd.DataFrame(data=data,columns=['kR32_emimTF2N_A','kemimTF2N_R32_A','kR32_emimTF2N_B','kemimTF2N_R32_B'])\n",
    "perturbed_params"
   ]
  },
  {
   "cell_type": "code",
   "execution_count": null,
   "id": "powered-niger",
   "metadata": {},
   "outputs": [],
   "source": [
    "x = [0.01,0.2,0.325,0.4]\n",
    "temps_298 = [298.15,298.15,298.15,298.15]\n",
    "pguess_298 = [9600,250000,399400,549000]\n",
    "temps_323 = [323.15,323.15,323.15,323.15]\n",
    "pguess_323 = [20400,400100,700300,1000000]"
   ]
  },
  {
   "cell_type": "code",
   "execution_count": null,
   "id": "asian-second",
   "metadata": {},
   "outputs": [],
   "source": [
    "test_298 = pd.DataFrame()\n",
    "test_298['temperature'] = temps_298\n",
    "test_298['pressure'] = pguess_298\n",
    "test_298['x_R32'] = x\n",
    "test_298['x_emimTf2N'] = 1-test_298['x_R32']\n",
    "# test_298"
   ]
  },
  {
   "cell_type": "code",
   "execution_count": null,
   "id": "nutritional-trigger",
   "metadata": {},
   "outputs": [],
   "source": [
    "test_323 = pd.DataFrame()\n",
    "test_323['temperature'] = temps_323\n",
    "test_323['pressure'] = pguess_323\n",
    "test_323['x_R32'] = x\n",
    "test_323['x_emimTf2N'] = 1-test_323['x_R32']\n",
    "# test_323"
   ]
  },
  {
   "cell_type": "code",
   "execution_count": null,
   "id": "spread-short",
   "metadata": {},
   "outputs": [],
   "source": [
    "test_data = pd.concat([test_298,test_323],ignore_index=True)"
   ]
  },
  {
   "cell_type": "code",
   "execution_count": null,
   "id": "temporal-forth",
   "metadata": {},
   "outputs": [],
   "source": [
    "# Loop through test values\n",
    "\n",
    "R32_x = np.zeros((len(perturbed_params),len(test_data)))\n",
    "P = np.zeros((len(perturbed_params),len(test_data)))\n",
    "\n",
    "for j in range(len(perturbed_params)):\n",
    "\n",
    "    m = ConcreteModel()\n",
    "\n",
    "    m.fs = FlowsheetBlock(default={\"dynamic\": False})\n",
    "\n",
    "    m.fs.properties = GenericParameterBlock(default=configuration)\n",
    "\n",
    "    m.fs.F101 = Flash(default={\"property_package\": m.fs.properties,\n",
    "                               \"has_heat_transfer\": True,\n",
    "                               \"has_pressure_change\": True})\n",
    "\n",
    "    m.fs.F101.inlet.flow_mol.fix(1)\n",
    "    m.fs.F101.inlet.temperature.fix(323.15)\n",
    "    m.fs.F101.inlet.pressure.fix(399800)\n",
    "    m.fs.F101.inlet.mole_frac_comp[0,'R32'].fix(0.5)\n",
    "    \n",
    "    m.fs.properties.PR_kappa_A['R32','emimTf2N'] = perturbed_params['kR32_emimTF2N_A'][j]\n",
    "    m.fs.properties.PR_kappa_A['emimTf2N','R32'] = perturbed_params['kemimTF2N_R32_A'][j]\n",
    "    m.fs.properties.PR_kappa_B['R32','emimTf2N'] = perturbed_params['kR32_emimTF2N_B'][j]\n",
    "    m.fs.properties.PR_kappa_B['emimTf2N','R32'] = perturbed_params['kemimTF2N_R32_B'][j]\n",
    "    \n",
    "\n",
    "    # Initialize the flash unit\n",
    "    m.fs.F101.initialize(outlvl=idaeslog.CRITICAL)\n",
    "\n",
    "    # Fix the state variables on the state block\n",
    "    # m.fs.F101.inlet.pressure.unfix()\n",
    "    m.fs.F101.inlet.mole_frac_comp[0,'emimTf2N'].unfix()\n",
    "\n",
    "    m.fs.liq = Param(mutable=True,default=0.040)\n",
    "    m.fs.liquid = Constraint(expr=m.fs.F101.liq_outlet.mole_frac_comp[0, \"emimTf2N\"] == m.fs.liq)\n",
    "\n",
    "    for i in range(len(test_data)):\n",
    "        m.fs.liq = test_data[\"x_emimTf2N\"].iloc[i]\n",
    "        m.fs.F101.inlet.temperature.fix(float(test_data[\"temperature\"].iloc[i]))\n",
    "        m.fs.F101.inlet.pressure.fix(float(test_data[\"pressure\"].iloc[i]))\n",
    "        m.fs.F101.inlet.mole_frac_comp[0,'R32'].fix(float(test_data[\"x_R32\"].iloc[i])+0.1)\n",
    "        m.fs.F101.inlet.mole_frac_comp[0,'emimTf2N'].fix(float(1-(test_data[\"x_R32\"].iloc[i]+0.1)))\n",
    "        m.fs.F101.vap_outlet.temperature.fix(float(test_data[\"temperature\"].iloc[i]))\n",
    "\n",
    "    #     DOF_final = degrees_of_freedom(m)\n",
    "    #     print(\"The final DOF is {0}\".format(DOF_final))\n",
    "        m.fs.F101.initialize(outlvl=idaeslog.CRITICAL)\n",
    "\n",
    "        status = solver.solve(m, tee = False)\n",
    "\n",
    "    #     m.fs.F101.report()\n",
    "        if (status.solver.status == SolverStatus.ok) and (status.solver.termination_condition == TerminationCondition.optimal):\n",
    "            print(test_data[\"x_emimTf2N\"].iloc[i])\n",
    "            R32_x[j,i] = value(m.fs.F101.liq_outlet.mole_frac_comp[0,'R32'])\n",
    "            P[j,i] = value(m.fs.F101.vap_outlet.pressure[0])\n",
    "\n",
    "        else:\n",
    "            print('Infeasible.')"
   ]
  },
  {
   "cell_type": "code",
   "execution_count": null,
   "id": "diagnostic-trademark",
   "metadata": {},
   "outputs": [],
   "source": [
    "test_data['P_kR32_emimTF2N_A_plus'] = P[0]\n",
    "test_data['P_kR32_emimTF2N_A_minus'] = P[1]\n",
    "test_data['P_kemimTF2N_R32_A_plus'] = P[2]\n",
    "test_data['P_kemimTF2N_R32_A_minus'] = P[3]\n",
    "test_data['P_kR32_emimTF2N_B_plus'] = P[4]\n",
    "test_data['P_kR32_emimTF2N_B_minus'] = P[5]\n",
    "test_data['P_kemimTF2N_R32_B_plus'] = P[6]\n",
    "test_data['P_kemimTF2N_R32_B_minus'] = P[7]"
   ]
  },
  {
   "cell_type": "code",
   "execution_count": null,
   "id": "expanded-columbus",
   "metadata": {},
   "outputs": [],
   "source": [
    "grad_P = test_data"
   ]
  },
  {
   "cell_type": "code",
   "execution_count": null,
   "id": "geographic-charles",
   "metadata": {},
   "outputs": [],
   "source": [
    "test_data_298 = test_data[test_data['temperature']==298.15]\n",
    "test_data_323 = test_data[test_data['temperature']==323.15].reset_index()"
   ]
  },
  {
   "cell_type": "code",
   "execution_count": null,
   "id": "adjustable-complaint",
   "metadata": {},
   "outputs": [],
   "source": [
    "R = 8.314 #J/mol-K\n",
    "hvap_calc_kR32_emimTF2N_A_plus = []\n",
    "for i in range(len(x)):\n",
    "    T2 = test_data_323['temperature'][i]\n",
    "    T1 = test_data_298['temperature'][i]\n",
    "    P2 = test_data_323['P_kR32_emimTF2N_A_plus'][i]\n",
    "    P1 = test_data_298['P_kR32_emimTF2N_A_plus'][i]\n",
    "    hvap_calc_kR32_emimTF2N_A_plus.append(np.log(P2/P1)*R/(1/T2-1/T1))\n",
    "\n",
    "hvap_calc_kR32_emimTF2N_A_minus = []\n",
    "for i in range(len(x)):\n",
    "    T2 = test_data_323['temperature'][i]\n",
    "    T1 = test_data_298['temperature'][i]\n",
    "    P2 = test_data_323['P_kR32_emimTF2N_A_minus'][i]\n",
    "    P1 = test_data_298['P_kR32_emimTF2N_A_minus'][i]\n",
    "    hvap_calc_kR32_emimTF2N_A_minus.append(np.log(P2/P1)*R/(1/T2-1/T1))\n",
    "    \n",
    "hvap_calc_kemimTF2N_R32_A_plus = []\n",
    "for i in range(len(x)):\n",
    "    T2 = test_data_323['temperature'][i]\n",
    "    T1 = test_data_298['temperature'][i]\n",
    "    P2 = test_data_323['P_kemimTF2N_R32_A_plus'][i]\n",
    "    P1 = test_data_298['P_kemimTF2N_R32_A_plus'][i]\n",
    "    hvap_calc_kemimTF2N_R32_A_plus.append(np.log(P2/P1)*R/(1/T2-1/T1))\n",
    "    \n",
    "hvap_calc_kemimTF2N_R32_A_minus = []\n",
    "for i in range(len(x)):\n",
    "    T2 = test_data_323['temperature'][i]\n",
    "    T1 = test_data_298['temperature'][i]\n",
    "    P2 = test_data_323['P_kemimTF2N_R32_A_minus'][i]\n",
    "    P1 = test_data_298['P_kemimTF2N_R32_A_minus'][i]\n",
    "    hvap_calc_kemimTF2N_R32_A_minus.append(np.log(P2/P1)*R/(1/T2-1/T1))\n",
    "    \n",
    "hvap_calc_kR32_emimTF2N_B_plus = []\n",
    "for i in range(len(x)):\n",
    "    T2 = test_data_323['temperature'][i]\n",
    "    T1 = test_data_298['temperature'][i]\n",
    "    P2 = test_data_323['P_kR32_emimTF2N_B_plus'][i]\n",
    "    P1 = test_data_298['P_kR32_emimTF2N_B_plus'][i]\n",
    "    hvap_calc_kR32_emimTF2N_B_plus.append(np.log(P2/P1)*R/(1/T2-1/T1))\n",
    "\n",
    "hvap_calc_kR32_emimTF2N_B_minus = []\n",
    "for i in range(len(x)):\n",
    "    T2 = test_data_323['temperature'][i]\n",
    "    T1 = test_data_298['temperature'][i]\n",
    "    P2 = test_data_323['P_kR32_emimTF2N_B_minus'][i]\n",
    "    P1 = test_data_298['P_kR32_emimTF2N_B_minus'][i]\n",
    "    hvap_calc_kR32_emimTF2N_B_minus.append(np.log(P2/P1)*R/(1/T2-1/T1))\n",
    "    \n",
    "hvap_calc_kemimTF2N_R32_B_plus = []\n",
    "for i in range(len(x)):\n",
    "    T2 = test_data_323['temperature'][i]\n",
    "    T1 = test_data_298['temperature'][i]\n",
    "    P2 = test_data_323['P_kemimTF2N_R32_B_plus'][i]\n",
    "    P1 = test_data_298['P_kemimTF2N_R32_B_plus'][i]\n",
    "    hvap_calc_kemimTF2N_R32_B_plus.append(np.log(P2/P1)*R/(1/T2-1/T1))\n",
    "    \n",
    "hvap_calc_kemimTF2N_R32_B_minus = []\n",
    "for i in range(len(x)):\n",
    "    T2 = test_data_323['temperature'][i]\n",
    "    T1 = test_data_298['temperature'][i]\n",
    "    P2 = test_data_323['P_kemimTF2N_R32_B_minus'][i]\n",
    "    P1 = test_data_298['P_kemimTF2N_R32_B_minus'][i]\n",
    "    hvap_calc_kemimTF2N_R32_B_minus.append(np.log(P2/P1)*R/(1/T2-1/T1))"
   ]
  },
  {
   "cell_type": "code",
   "execution_count": null,
   "id": "assured-enlargement",
   "metadata": {},
   "outputs": [],
   "source": [
    "hvap = pd.DataFrame()\n",
    "hvap['x_R32'] = x\n",
    "hvap['hvap_kR32_emimTF2N_A_plus'] = hvap_calc_kR32_emimTF2N_A_plus\n",
    "hvap['hvap_kR32_emimTF2N_A_minus'] = hvap_calc_kR32_emimTF2N_A_minus\n",
    "hvap['hvap_kemimTF2N_R32_A_plus'] = hvap_calc_kemimTF2N_R32_A_plus\n",
    "hvap['hvap_kemimTF2N_R32_A_minus'] = hvap_calc_kemimTF2N_R32_A_minus\n",
    "hvap['hvap_kR32_emimTF2N_B_plus'] = hvap_calc_kR32_emimTF2N_B_plus\n",
    "hvap['hvap_kR32_emimTF2N_B_minus'] = hvap_calc_kR32_emimTF2N_B_minus\n",
    "hvap['hvap_kemimTF2N_R32_B_plus'] = hvap_calc_kemimTF2N_R32_B_plus\n",
    "hvap['hvap_kemimTF2N_R32_B_minus'] = hvap_calc_kemimTF2N_R32_B_minus"
   ]
  },
  {
   "cell_type": "code",
   "execution_count": null,
   "id": "everyday-westminster",
   "metadata": {},
   "outputs": [],
   "source": [
    "hvap"
   ]
  },
  {
   "cell_type": "markdown",
   "id": "twelve-television",
   "metadata": {},
   "source": [
    "### Step 2: Calculate Gradient wrt each param at each concentration"
   ]
  },
  {
   "cell_type": "code",
   "execution_count": null,
   "id": "muslim-youth",
   "metadata": {},
   "outputs": [],
   "source": [
    "grad_kR32_emimTF2N_A = (hvap['hvap_kR32_emimTF2N_A_plus'] - hvap['hvap_kR32_emimTF2N_A_minus'])/(2*h)\n",
    "grad_kemimTF2N_R32_A = (hvap['hvap_kemimTF2N_R32_A_plus'] - hvap['hvap_kemimTF2N_R32_A_minus'])/(2*h)\n",
    "grad_kR32_emimTF2N_B = (hvap['hvap_kR32_emimTF2N_B_plus'] - hvap['hvap_kR32_emimTF2N_B_minus'])/(2*h)\n",
    "grad_kemimTF2N_R32_B = (hvap['hvap_kemimTF2N_R32_B_plus'] - hvap['hvap_kemimTF2N_R32_B_minus'])/(2*h)"
   ]
  },
  {
   "cell_type": "code",
   "execution_count": null,
   "id": "handmade-forward",
   "metadata": {},
   "outputs": [],
   "source": [
    "grad_P['kR32_emimTF2N_A'] = (grad_P['P_kR32_emimTF2N_A_plus'] - grad_P['P_kR32_emimTF2N_A_minus'])/(2*h)\n",
    "grad_P['kemimTF2N_R32_A'] = (grad_P['P_kemimTF2N_R32_A_plus'] - grad_P['P_kemimTF2N_R32_A_minus'])/(2*h)\n",
    "grad_P['kR32_emimTF2N_B'] = (grad_P['P_kR32_emimTF2N_B_plus'] - grad_P['P_kR32_emimTF2N_B_minus'])/(2*h)\n",
    "grad_P['kemimTF2N_R32_B'] = (grad_P['P_kemimTF2N_R32_B_plus'] - grad_P['P_kemimTF2N_R32_B_minus'])/(2*h)"
   ]
  },
  {
   "cell_type": "markdown",
   "id": "amazing-garage",
   "metadata": {},
   "source": [
    "### Step 3: Build Jacobian and FIM\n",
    "\n",
    "Rows: enthvap @ 4 concentrations; or pressure @ 4 concentrations, 2 temps\n",
    "\n",
    "Columns: parameters (4)"
   ]
  },
  {
   "cell_type": "code",
   "execution_count": null,
   "id": "paperback-apartment",
   "metadata": {},
   "outputs": [],
   "source": [
    "J_df = pd.DataFrame()\n",
    "J_df['kR32_emimTF2N_A'] = grad_kR32_emimTF2N_A\n",
    "J_df['kemimTF2N_R32_A'] = grad_kemimTF2N_R32_A\n",
    "J_df['kR32_emimTF2N_B'] = grad_kR32_emimTF2N_B\n",
    "J_df['kemimTF2N_R32_B'] = grad_kemimTF2N_R32_B"
   ]
  },
  {
   "cell_type": "code",
   "execution_count": null,
   "id": "sophisticated-technical",
   "metadata": {},
   "outputs": [],
   "source": [
    "J = J_df.to_numpy()\n",
    "Jtrans = np.transpose(J)"
   ]
  },
  {
   "cell_type": "code",
   "execution_count": null,
   "id": "thrown-winning",
   "metadata": {},
   "outputs": [],
   "source": [
    "FIM = np.dot(Jtrans,J)"
   ]
  },
  {
   "cell_type": "code",
   "execution_count": null,
   "id": "acting-sculpture",
   "metadata": {},
   "outputs": [],
   "source": [
    "FIM"
   ]
  },
  {
   "cell_type": "code",
   "execution_count": null,
   "id": "changing-liver",
   "metadata": {},
   "outputs": [],
   "source": [
    "J_df_P = pd.DataFrame()\n",
    "J_df_P['kR32_emimTF2N_A'] = grad_P['kR32_emimTF2N_A']\n",
    "J_df_P['kemimTF2N_R32_A'] = grad_P['kemimTF2N_R32_A']\n",
    "J_df_P['kR32_emimTF2N_B'] = grad_P['kR32_emimTF2N_B']\n",
    "J_df_P['kemimTF2N_R32_B'] = grad_P['kemimTF2N_R32_B']"
   ]
  },
  {
   "cell_type": "code",
   "execution_count": null,
   "id": "educated-sleeping",
   "metadata": {},
   "outputs": [],
   "source": [
    "J_P = J_df_P.to_numpy()\n",
    "J_Ptrans = np.transpose(J_P)"
   ]
  },
  {
   "cell_type": "code",
   "execution_count": null,
   "id": "metric-management",
   "metadata": {},
   "outputs": [],
   "source": [
    "FIM_P = np.dot(J_Ptrans,J_P)"
   ]
  },
  {
   "cell_type": "code",
   "execution_count": null,
   "id": "lovely-hopkins",
   "metadata": {},
   "outputs": [],
   "source": [
    "FIM_P"
   ]
  },
  {
   "cell_type": "markdown",
   "id": "gorgeous-needle",
   "metadata": {},
   "source": [
    "### Step 4: Find Eigenvalues, Eigenvectors"
   ]
  },
  {
   "cell_type": "markdown",
   "id": "prime-installation",
   "metadata": {},
   "source": [
    "**Enthalpy of Vaporization**"
   ]
  },
  {
   "cell_type": "code",
   "execution_count": null,
   "id": "consecutive-holiday",
   "metadata": {},
   "outputs": [],
   "source": [
    "eigvals, eigvecs = np.linalg.eig(FIM)"
   ]
  },
  {
   "cell_type": "code",
   "execution_count": null,
   "id": "played-parish",
   "metadata": {},
   "outputs": [],
   "source": [
    "eigvals"
   ]
  },
  {
   "cell_type": "code",
   "execution_count": null,
   "id": "harmful-harmony",
   "metadata": {},
   "outputs": [],
   "source": [
    "eigvecs"
   ]
  },
  {
   "cell_type": "markdown",
   "id": "dressed-designer",
   "metadata": {},
   "source": [
    "There is 1 eigval < 0, indicating 1 unidentifiable direction. Its corresponding eigenvector has the highest values in the last two parameters, indicating these would be the directions of unidentifiability."
   ]
  },
  {
   "cell_type": "markdown",
   "id": "mobile-project",
   "metadata": {},
   "source": [
    "**Pressure**"
   ]
  },
  {
   "cell_type": "code",
   "execution_count": null,
   "id": "dutch-expansion",
   "metadata": {},
   "outputs": [],
   "source": [
    "eigvals_P, eigvecs_P = np.linalg.eig(FIM_P)"
   ]
  },
  {
   "cell_type": "code",
   "execution_count": null,
   "id": "innocent-novelty",
   "metadata": {},
   "outputs": [],
   "source": [
    "eigvals_P"
   ]
  },
  {
   "cell_type": "code",
   "execution_count": null,
   "id": "incomplete-medicine",
   "metadata": {},
   "outputs": [],
   "source": [
    "eigvecs_P"
   ]
  },
  {
   "cell_type": "markdown",
   "id": "ultimate-median",
   "metadata": {},
   "source": [
    "All eigvals >> 0, assuming these 4 parameters are identifiable with the given T,x,P data"
   ]
  },
  {
   "cell_type": "markdown",
   "id": "suited-substance",
   "metadata": {},
   "source": [
    "## AIC Value\n",
    "\n",
    "See https://docs.google.com/document/d/1um0r2XK4ldjjy2colOqaZsEM3wIzGD6l_3B8gnpnI2I/edit# for equations"
   ]
  },
  {
   "cell_type": "markdown",
   "id": "seasonal-robinson",
   "metadata": {},
   "source": [
    "### Calculate MLE"
   ]
  },
  {
   "cell_type": "code",
   "execution_count": null,
   "id": "vietnamese-domestic",
   "metadata": {},
   "outputs": [],
   "source": [
    "### Define calc model P function\n",
    "\n",
    "def calcPmod(theta,data):\n",
    "    '''\n",
    "    Arguments:\n",
    "    theta - list of BIPs\n",
    "    data - data needed to run the model\n",
    "    \n",
    "    Returns\n",
    "    Pmod - list of calculated pressures\n",
    "    '''\n",
    "    \n",
    "    m = ConcreteModel()\n",
    "\n",
    "    m.fs = FlowsheetBlock(default={\"dynamic\": False})\n",
    "\n",
    "    m.fs.properties = GenericParameterBlock(default=configuration)\n",
    "\n",
    "    m.fs.F101 = Flash(default={\"property_package\": m.fs.properties,\n",
    "                               \"has_heat_transfer\": True,\n",
    "                               \"has_pressure_change\": True})\n",
    "\n",
    "    m.fs.F101.inlet.flow_mol.fix(1)\n",
    "    m.fs.F101.inlet.temperature.fix(323.15)\n",
    "    m.fs.F101.inlet.pressure.fix(399800)\n",
    "    m.fs.F101.inlet.mole_frac_comp[0,'R32'].fix(0.5)\n",
    "\n",
    "    m.fs.properties.PR_kappa_A['R32','emimTf2N'] = theta[0]\n",
    "    m.fs.properties.PR_kappa_A['emimTf2N','R32'] = theta[1]\n",
    "    m.fs.properties.PR_kappa_B['R32','emimTf2N'] = theta[2]\n",
    "    m.fs.properties.PR_kappa_B['emimTf2N','R32'] = theta[3]\n",
    "\n",
    "    # Initialize the flash unit\n",
    "    m.fs.F101.initialize(outlvl=idaeslog.CRITICAL)\n",
    "\n",
    "    # Fix the state variables on the state block\n",
    "    # m.fs.F101.inlet.pressure.unfix()\n",
    "    m.fs.F101.inlet.mole_frac_comp[0,'emimTf2N'].unfix()\n",
    "\n",
    "    R32_x = np.zeros((len(data)))\n",
    "    P = np.zeros((len(data)))\n",
    "\n",
    "    m.fs.liq = Param(mutable=True,default=0.040)\n",
    "    m.fs.liquid = Constraint(expr=m.fs.F101.liq_outlet.mole_frac_comp[0, \"emimTf2N\"] == m.fs.liq)\n",
    "\n",
    "    for i in range(len(data)):\n",
    "        m.fs.liq = data[\"x_emimTf2N\"].iloc[i]\n",
    "        m.fs.F101.inlet.temperature.fix(float(data[\"temperature\"].iloc[i]))\n",
    "        m.fs.F101.inlet.pressure.fix(float(data[\"pressure\"].iloc[i]))\n",
    "        m.fs.F101.inlet.mole_frac_comp[0,'R32'].fix(float(data[\"x_R32\"].iloc[i])+0.1)\n",
    "        m.fs.F101.inlet.mole_frac_comp[0,'emimTf2N'].fix(float(1-(data[\"x_R32\"].iloc[i]+0.1)))\n",
    "        m.fs.F101.vap_outlet.temperature.fix(float(data[\"temperature\"].iloc[i]))\n",
    "\n",
    "    #     DOF_final = degrees_of_freedom(m)\n",
    "    #     print(\"The final DOF is {0}\".format(DOF_final))\n",
    "        m.fs.F101.initialize(outlvl=idaeslog.CRITICAL)\n",
    "\n",
    "        status = solver.solve(m, tee = False)\n",
    "\n",
    "    #     m.fs.F101.report()\n",
    "        if (status.solver.status == SolverStatus.ok) and (status.solver.termination_condition == TerminationCondition.optimal):\n",
    "#             print(data[\"x_emimTf2N\"].iloc[i])\n",
    "            R32_x[i] = value(m.fs.F101.liq_outlet.mole_frac_comp[0,'R32']) \n",
    "            P[i] = value(m.fs.F101.vap_outlet.pressure[0])\n",
    "\n",
    "        else:\n",
    "            print('Infeasible.')\n",
    "            \n",
    "    Pmod = P\n",
    "    \n",
    "    return Pmod"
   ]
  },
  {
   "cell_type": "code",
   "execution_count": null,
   "id": "incident-catholic",
   "metadata": {},
   "outputs": [],
   "source": [
    "### Define function to calculate SSR\n",
    "def res(theta,data,Pexp):\n",
    "    '''\n",
    "    Arguments:\n",
    "    theta - list of BIPs\n",
    "    data - data needed to run the model\n",
    "    Pexp - list of experimental pressure data\n",
    "    \n",
    "    Returns:\n",
    "    residual between model and exp (note, this will be large because of units of P)\n",
    "    '''\n",
    "    \n",
    "    #Calculate model P\n",
    "    Pmod = calcPmod(theta,data)\n",
    "    \n",
    "    return Pexp - Pmod"
   ]
  },
  {
   "cell_type": "code",
   "execution_count": null,
   "id": "statistical-repository",
   "metadata": {},
   "outputs": [],
   "source": [
    "theta_guess = [parameters['fs.properties.PR_kappa_A[R32,emimTf2N]'],parameters['fs.properties.PR_kappa_A[emimTf2N,R32]'],parameters['fs.properties.PR_kappa_B[R32,emimTf2N]'],parameters['fs.properties.PR_kappa_B[emimTf2N,R32]']]\n",
    "Pexp = data_subset['pressure'].values.tolist()\n",
    "n = 4\n",
    "bnds = ([-20,-20,-20,-20],[20,20,20,20])"
   ]
  },
  {
   "cell_type": "code",
   "execution_count": null,
   "id": "narrative-significance",
   "metadata": {},
   "outputs": [],
   "source": [
    "### solve\n",
    "sol = scipy.optimize.least_squares(res, theta_guess, method='trf', args=(data_subset,Pexp),bounds=bnds)"
   ]
  },
  {
   "cell_type": "code",
   "execution_count": null,
   "id": "configured-tracy",
   "metadata": {},
   "outputs": [],
   "source": [
    "theta_hat = sol.x\n",
    "theta_hat"
   ]
  },
  {
   "cell_type": "code",
   "execution_count": null,
   "id": "spanish-suspension",
   "metadata": {},
   "outputs": [],
   "source": [
    "def SSR(theta,data,Pexp):\n",
    "    '''\n",
    "    Arguments:\n",
    "    theta - list of BIPs\n",
    "    data - data needed to run the model\n",
    "    Pexp - list of experimental pressure data\n",
    "    \n",
    "    Returns:\n",
    "    SSR - sum of residuals squared\n",
    "    '''\n",
    "    \n",
    "    #Calculate model P\n",
    "    Pmod = calcPmod(theta,data)\n",
    "    \n",
    "    #Calculate residual squared\n",
    "    res = (Pexp - Pmod)**2\n",
    "    \n",
    "    #Sum residuals squared\n",
    "    SSR = np.sum(res)\n",
    "      \n",
    "    return SSR"
   ]
  },
  {
   "cell_type": "code",
   "execution_count": null,
   "id": "changing-medicare",
   "metadata": {},
   "outputs": [],
   "source": [
    "SSR = SSR(theta_hat,data_subset,Pexp)\n",
    "SSR"
   ]
  },
  {
   "cell_type": "code",
   "execution_count": null,
   "id": "manual-factor",
   "metadata": {},
   "outputs": [],
   "source": [
    "sigma_sq = SSR/n\n",
    "sigma_sq"
   ]
  },
  {
   "cell_type": "code",
   "execution_count": null,
   "id": "satisfied-geology",
   "metadata": {},
   "outputs": [],
   "source": [
    "L = -n/2*np.log(2*np.pi) - n/2*np.log(sigma_sq) - 1/(2*sigma_sq)*SSR\n",
    "L"
   ]
  },
  {
   "cell_type": "code",
   "execution_count": null,
   "id": "weird-psychiatry",
   "metadata": {},
   "outputs": [],
   "source": [
    "AIC = 2*n - 2*L\n",
    "AIC"
   ]
  },
  {
   "cell_type": "markdown",
   "id": "united-equity",
   "metadata": {},
   "source": [
    "Other AIC - using SSR calculated in above parameter fitting"
   ]
  },
  {
   "cell_type": "code",
   "execution_count": null,
   "id": "d7fed7a7",
   "metadata": {},
   "outputs": [],
   "source": [
    "n=4"
   ]
  },
  {
   "cell_type": "code",
   "execution_count": null,
   "id": "fourth-norfolk",
   "metadata": {},
   "outputs": [],
   "source": [
    "SSR_other = obj_value"
   ]
  },
  {
   "cell_type": "code",
   "execution_count": null,
   "id": "according-present",
   "metadata": {},
   "outputs": [],
   "source": [
    "sigma_sq_other = SSR_other/n\n",
    "sigma_sq_other"
   ]
  },
  {
   "cell_type": "code",
   "execution_count": null,
   "id": "passive-hardware",
   "metadata": {},
   "outputs": [],
   "source": [
    "L_other = -n/2*np.log(2*np.pi) - n/2*np.log(sigma_sq_other) - 1/(2*sigma_sq_other)*SSR_other\n",
    "L_other"
   ]
  },
  {
   "cell_type": "code",
   "execution_count": null,
   "id": "finite-pacific",
   "metadata": {},
   "outputs": [],
   "source": [
    "AIC_other = 2*n - 2*L_other\n",
    "AIC_other"
   ]
  },
  {
   "cell_type": "code",
   "execution_count": null,
   "id": "casual-princess",
   "metadata": {},
   "outputs": [],
   "source": [
    "AIC_data = pd.DataFrame(data=[n,obj_value,AIC_other])\n",
    "AIC_data = AIC_data.T\n",
    "AIC_data.columns = ['n','Objective, Pa^2','AIC']\n",
    "AIC_data.to_csv('Data/AIC/SRK_AIC_4parameter.csv')"
   ]
  },
  {
   "cell_type": "code",
   "execution_count": null,
   "id": "00140605",
   "metadata": {},
   "outputs": [],
   "source": []
  }
 ],
 "metadata": {
  "kernelspec": {
   "display_name": "Python 3 (ipykernel)",
   "language": "python",
   "name": "python3"
  },
  "language_info": {
   "codemirror_mode": {
    "name": "ipython",
    "version": 3
   },
   "file_extension": ".py",
   "mimetype": "text/x-python",
   "name": "python",
   "nbconvert_exporter": "python",
   "pygments_lexer": "ipython3",
   "version": "3.9.9"
  }
 },
 "nbformat": 4,
 "nbformat_minor": 5
}
