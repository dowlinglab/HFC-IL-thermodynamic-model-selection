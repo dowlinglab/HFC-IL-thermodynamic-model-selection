{
 "cells": [
  {
   "cell_type": "markdown",
   "id": "faced-jones",
   "metadata": {},
   "source": [
    "# Fit emimTF2N data\n",
    "\n",
    "EoS: SRK\n",
    "\n",
    "Parameter T dependence: Linear in [emimTF2N,R125] direction\n",
    "\n",
    "N (total fitting parameters): 3"
   ]
  },
  {
   "cell_type": "markdown",
   "id": "searching-native",
   "metadata": {},
   "source": [
    "## Import Functions"
   ]
  },
  {
   "cell_type": "code",
   "execution_count": 1,
   "id": "dress-edward",
   "metadata": {},
   "outputs": [],
   "source": [
    "import idaes\n",
    "\n",
    "import pandas as pd\n",
    "import numpy as np\n",
    "import matplotlib.pyplot as plt\n",
    "import scipy.optimize\n",
    "\n",
    "import sys\n",
    "sys.path.append('../../')\n",
    "\n",
    "from pyomo.environ import (Constraint,\n",
    "                           Var,\n",
    "                           ConcreteModel,\n",
    "                           Expression,\n",
    "                           Param,\n",
    "                           Objective,\n",
    "                           SolverFactory,\n",
    "                           TransformationFactory,\n",
    "                           value)\n",
    "from pyomo.opt import TerminationCondition, SolverStatus\n",
    "\n",
    "from idaes.core import FlowsheetBlock\n",
    "import idaes.logger as idaeslog\n",
    "# Import the Generic Parameter Block\n",
    "from idaes.generic_models.properties.core.generic.generic_property import (\n",
    "        GenericParameterBlock)\n",
    "# Import unit models from the model library\n",
    "from idaes.generic_models.unit_models import Flash\n",
    "# Import degrees of freedom tool\n",
    "from idaes.core.util.model_statistics import degrees_of_freedom\n",
    "\n",
    "# parmest (binary_param2)\n",
    "from bip_fitting_functions_SRK import linear\n",
    "\n",
    "import scipy.stats as stats\n",
    "\n",
    "from matplotlib.patches import Ellipse\n",
    "import matplotlib.transforms as transforms\n",
    "import matplotlib.patches as mpatches"
   ]
  },
  {
   "cell_type": "markdown",
   "id": "productive-hungarian",
   "metadata": {},
   "source": [
    "## Load Data"
   ]
  },
  {
   "cell_type": "code",
   "execution_count": 2,
   "id": "coated-warehouse",
   "metadata": {},
   "outputs": [],
   "source": [
    "data_full = pd.read_csv('r125_emimtf2n_full.csv')\n",
    "data_subset = pd.read_csv('r125_emimtf2n_subset.csv')"
   ]
  },
  {
   "cell_type": "markdown",
   "id": "rough-mining",
   "metadata": {},
   "source": [
    "## Load Configuration + Check DOF"
   ]
  },
  {
   "cell_type": "code",
   "execution_count": 3,
   "id": "falling-swiss",
   "metadata": {},
   "outputs": [],
   "source": [
    "from hfc125_emimtf2n_SRK import configuration "
   ]
  },
  {
   "cell_type": "code",
   "execution_count": 4,
   "id": "hairy-cause",
   "metadata": {},
   "outputs": [
    {
     "name": "stdout",
     "output_type": "stream",
     "text": [
      "The initial DOF is 7\n"
     ]
    }
   ],
   "source": [
    "m = ConcreteModel()\n",
    "m.fs = FlowsheetBlock(default={\"dynamic\": False})\n",
    "m.fs.properties = GenericParameterBlock(default=configuration)\n",
    "m.fs.F101 = Flash(default={\"property_package\": m.fs.properties,\n",
    "                           \"has_heat_transfer\": True,\n",
    "                           \"has_pressure_change\": True})\n",
    "DOF_initial = degrees_of_freedom(m)\n",
    "print('The initial DOF is {0}'.format(DOF_initial))"
   ]
  },
  {
   "cell_type": "markdown",
   "id": "collectible-chapel",
   "metadata": {},
   "source": [
    "## Fit Parameters"
   ]
  },
  {
   "cell_type": "code",
   "execution_count": 5,
   "id": "painful-composite",
   "metadata": {},
   "outputs": [
    {
     "name": "stdout",
     "output_type": "stream",
     "text": [
      "2022-04-05 16:56:50 [INFO] idaes.init.fs.state_block: Property package initialization: optimal - Optimal Solution Found.\n",
      "2022-04-05 16:56:50 [INFO] idaes.init.fs.state_block: Property package initialization: optimal - Optimal Solution Found.\n",
      "2022-04-05 16:56:50 [INFO] idaes.init.fs.state_block: Property package initialization: optimal - Optimal Solution Found.\n",
      "2022-04-05 16:56:51 [INFO] idaes.init.fs.state_block: Property package initialization: optimal - Optimal Solution Found.\n",
      "2022-04-05 16:56:51 [INFO] idaes.init.fs.state_block: Property package initialization: optimal - Optimal Solution Found.\n",
      "2022-04-05 16:56:51 [INFO] idaes.init.fs.state_block: Property package initialization: optimal - Optimal Solution Found.\n",
      "2022-04-05 16:56:52 [INFO] idaes.init.fs.state_block: Property package initialization: optimal - Optimal Solution Found.\n",
      "2022-04-05 16:56:52 [INFO] idaes.init.fs.state_block: Property package initialization: optimal - Optimal Solution Found.\n",
      "2022-04-05 16:56:52 [INFO] idaes.init.fs.state_block: Property package initialization: optimal - Optimal Solution Found.\n",
      "2022-04-05 16:56:53 [INFO] idaes.init.fs.state_block: Property package initialization: optimal - Optimal Solution Found.\n",
      "2022-04-05 16:56:53 [INFO] idaes.init.fs.state_block: Property package initialization: optimal - Optimal Solution Found.\n",
      "2022-04-05 16:56:53 [INFO] idaes.init.fs.state_block: Property package initialization: optimal - Optimal Solution Found.\n",
      "2022-04-05 16:56:54 [INFO] idaes.init.fs.state_block: Property package initialization: optimal - Optimal Solution Found.\n",
      "2022-04-05 16:56:54 [INFO] idaes.init.fs.state_block: Property package initialization: optimal - Optimal Solution Found.\n",
      "2022-04-05 16:56:54 [INFO] idaes.init.fs.state_block: Property package initialization: optimal - Optimal Solution Found.\n",
      "2022-04-05 16:56:55 [INFO] idaes.init.fs.state_block: Property package initialization: optimal - Optimal Solution Found.\n",
      "2022-04-05 16:56:55 [INFO] idaes.init.fs.state_block: Property package initialization: optimal - Optimal Solution Found.\n",
      "2022-04-05 16:56:55 [INFO] idaes.init.fs.state_block: Property package initialization: optimal - Optimal Solution Found.\n",
      "2022-04-05 16:56:56 [INFO] idaes.init.fs.state_block: Property package initialization: optimal - Optimal Solution Found.\n",
      "2022-04-05 16:56:56 [INFO] idaes.init.fs.state_block: Property package initialization: optimal - Optimal Solution Found.\n",
      "2022-04-05 16:56:57 [INFO] idaes.init.fs.state_block: Property package initialization: optimal - Optimal Solution Found.\n",
      "2022-04-05 16:56:57 [INFO] idaes.init.fs.state_block: Property package initialization: optimal - Optimal Solution Found.\n",
      "2022-04-05 16:56:57 [INFO] idaes.init.fs.state_block: Property package initialization: optimal - Optimal Solution Found.\n",
      "2022-04-05 16:56:58 [INFO] idaes.init.fs.state_block: Property package initialization: optimal - Optimal Solution Found.\n",
      "2022-04-05 16:56:58 [INFO] idaes.init.fs.state_block: Property package initialization: optimal - Optimal Solution Found.\n",
      "2022-04-05 16:56:58 [INFO] idaes.init.fs.state_block: Property package initialization: optimal - Optimal Solution Found.\n",
      "2022-04-05 16:56:59 [INFO] idaes.init.fs.state_block: Property package initialization: optimal - Optimal Solution Found.\n",
      "2022-04-05 16:56:59 [INFO] idaes.init.fs.state_block: Property package initialization: optimal - Optimal Solution Found.\n",
      "2022-04-05 16:56:59 [INFO] idaes.init.fs.state_block: Property package initialization: optimal - Optimal Solution Found.\n",
      "2022-04-05 16:57:00 [INFO] idaes.init.fs.state_block: Property package initialization: optimal - Optimal Solution Found.\n",
      "2022-04-05 16:57:00 [INFO] idaes.init.fs.state_block: Property package initialization: optimal - Optimal Solution Found.\n",
      "2022-04-05 16:57:00 [INFO] idaes.init.fs.state_block: Property package initialization: optimal - Optimal Solution Found.\n",
      "Ipopt 3.13.2: bound_relax_factor=0\n",
      "honor_original_bounds=no\n",
      "\n",
      "\n",
      "******************************************************************************\n",
      "This program contains Ipopt, a library for large-scale nonlinear optimization.\n",
      " Ipopt is released as open source code under the Eclipse Public License (EPL).\n",
      "         For more information visit http://projects.coin-or.org/Ipopt\n",
      "\n",
      "This version of Ipopt was compiled from source code available at\n",
      "    https://github.com/IDAES/Ipopt as part of the Institute for the Design of\n",
      "    Advanced Energy Systems Process Systems Engineering Framework (IDAES PSE\n",
      "    Framework) Copyright (c) 2018-2019. See https://github.com/IDAES/idaes-pse.\n",
      "\n",
      "This version of Ipopt was compiled using HSL, a collection of Fortran codes\n",
      "    for large-scale scientific computation.  All technical papers, sales and\n",
      "    publicity material resulting from use of the HSL codes within IPOPT must\n",
      "    contain the following acknowledgement:\n",
      "        HSL, a collection of Fortran codes for large-scale scientific\n",
      "        computation. See http://www.hsl.rl.ac.uk.\n",
      "******************************************************************************\n",
      "\n",
      "This is Ipopt version 3.13.2, running with linear solver ma27.\n",
      "\n",
      "Number of nonzeros in equality constraint Jacobian...:     1210\n",
      "Number of nonzeros in inequality constraint Jacobian.:        0\n",
      "Number of nonzeros in Lagrangian Hessian.............:     1376\n",
      "\n",
      "Total number of variables............................:      480\n",
      "                     variables with only lower bounds:      128\n",
      "                variables with lower and upper bounds:      288\n",
      "                     variables with only upper bounds:        0\n",
      "Total number of equality constraints.................:      477\n",
      "Total number of inequality constraints...............:        0\n",
      "        inequality constraints with only lower bounds:        0\n",
      "   inequality constraints with lower and upper bounds:        0\n",
      "        inequality constraints with only upper bounds:        0\n",
      "\n",
      "iter    objective    inf_pr   inf_du lg(mu)  ||d||  lg(rg) alpha_du alpha_pr  ls\n",
      "   0  0.0000000e+00 2.77e-01 2.84e-14  -1.0 0.00e+00    -  0.00e+00 0.00e+00   0\n",
      "   1  1.2830926e-01 9.08e-03 3.00e+02  -1.0 3.61e+04    -  9.23e-01 9.90e-01h  1\n",
      "   2  1.3060415e-01 9.42e-05 3.64e+00  -1.0 1.54e+03    -  9.86e-01 9.90e-01h  1\n",
      "   3  1.3073172e-01 9.99e-07 1.38e+01  -1.0 1.84e+02    -  9.90e-01 9.90e-01h  1\n",
      "   4  1.3897509e-01 7.28e-07 9.86e+00  -1.0 3.40e+03    -  9.90e-01 9.90e-01H  1\n",
      "   5  1.3106512e-01 2.62e-07 3.68e+03  -1.7 2.99e+03    -  9.90e-01 9.90e-01H  1\n",
      "   6  1.2921794e-01 3.24e-08 7.54e+05  -2.5 1.81e+03    -  9.97e-01 9.97e-01H  1\n",
      "   7  1.2912995e-01 1.61e-09 2.83e+09  -2.5 4.84e+02    -  1.00e+00 9.97e-01H  1\n",
      "In iteration 7, 32 Slacks too small, adjusting variable bounds\n",
      "   8  1.2912976e-01 2.47e-11 1.00e+12  -2.5 1.59e+00    -  1.00e+00 9.97e-01h  1\n",
      "   9  1.2912976e-01 3.98e-11 2.83e-08  -2.5 4.51e-03    -  1.00e+00 1.00e+00h  1\n",
      "iter    objective    inf_pr   inf_du lg(mu)  ||d||  lg(rg) alpha_du alpha_pr  ls\n",
      "  10  1.2910527e-01 2.88e-11 1.70e+09  -9.0 2.52e+02    -  9.98e-01 1.00e+00F  1\n",
      "  11  1.2910526e-01 8.44e-12 1.85e-08  -9.0 1.06e+01    -  1.00e+00 1.00e+00H  1\n",
      "\n",
      "Number of Iterations....: 11\n",
      "\n",
      "                                   (scaled)                 (unscaled)\n",
      "Objective...............:   1.2910525594134523e-01    1.2910525594134523e-01\n",
      "Dual infeasibility......:   1.8510036170482635e-08    1.8510036170482635e-08\n",
      "Constraint violation....:   8.4421358792496903e-12    8.4421358792496903e-12\n",
      "Complementarity.........:   1.5263654415805338e-09    1.5263654415805338e-09\n",
      "Overall NLP error.......:   1.0594877464084860e-10    1.8510036170482635e-08\n",
      "\n",
      "\n",
      "Number of objective function evaluations             = 19\n",
      "Number of objective gradient evaluations             = 12\n",
      "Number of equality constraint evaluations            = 19\n",
      "Number of inequality constraint evaluations          = 0\n",
      "Number of equality constraint Jacobian evaluations   = 12\n",
      "Number of inequality constraint Jacobian evaluations = 0\n",
      "Number of Lagrangian Hessian evaluations             = 11\n",
      "Total CPU secs in IPOPT (w/o function evaluations)   =      0.023\n",
      "Total CPU secs in NLP function evaluations           =      0.220\n",
      "\n",
      "EXIT: Optimal Solution Found.\n",
      "WARNING: The current pynumero_ASL library is version=2, but found version=1.\n",
      "    Please recompile / update your pynumero_ASL library.\n"
     ]
    },
    {
     "name": "stdout",
     "output_type": "stream",
     "text": [
      "The SSE at the optimal solution is 0.129105\n",
      "\n",
      "The values for the parameters are as follows:\n",
      "fs.properties.SRK_kappa_A[R125,emimTf2N] = -0.029704632920881224\n",
      "fs.properties.SRK_kappa_A[emimTf2N,R125] = 0.08236174906327659\n",
      "fs.properties.SRK_kappa_B[emimTf2N,R125] = -0.14422435783402843\n",
      "covariance_matrix                                           fs.properties.SRK_kappa_A[R125,emimTf2N]  \\\n",
      "fs.properties.SRK_kappa_A[R125,emimTf2N]                                  0.000001   \n",
      "fs.properties.SRK_kappa_A[emimTf2N,R125]                                 -0.000120   \n",
      "fs.properties.SRK_kappa_B[emimTf2N,R125]                                  0.000132   \n",
      "\n",
      "                                          fs.properties.SRK_kappa_A[emimTf2N,R125]  \\\n",
      "fs.properties.SRK_kappa_A[R125,emimTf2N]                                 -0.000120   \n",
      "fs.properties.SRK_kappa_A[emimTf2N,R125]                                  0.020153   \n",
      "fs.properties.SRK_kappa_B[emimTf2N,R125]                                 -0.021441   \n",
      "\n",
      "                                          fs.properties.SRK_kappa_B[emimTf2N,R125]  \n",
      "fs.properties.SRK_kappa_A[R125,emimTf2N]                                  0.000132  \n",
      "fs.properties.SRK_kappa_A[emimTf2N,R125]                                 -0.021441  \n",
      "fs.properties.SRK_kappa_B[emimTf2N,R125]                                  0.022867  \n"
     ]
    }
   ],
   "source": [
    "parameters, obj_value, a = linear(data_subset, configuration, 'R125', 'emimTf2N', \"x_R125\", \"x_emimTf2N\", \n",
    "    init_temp =  283.1, init_press =   399300 , init_x_c1 =    0.448, init_x_c2 = 0.552,\n",
    "    init_kappa_2_1A = -0.002, init_kappa_1_2A = -0.005,\n",
    "    init_kappa_2_1B = -0.001, init_kappa_1_2B = 0.0, eps = 0.1, scaling_fac = 1e-9,optional_params = 'Opt2')"
   ]
  },
  {
   "cell_type": "code",
   "execution_count": 6,
   "id": "natural-pierce",
   "metadata": {},
   "outputs": [
    {
     "name": "stdout",
     "output_type": "stream",
     "text": [
      "Objective (SSE): 0.12910525594134523\n"
     ]
    }
   ],
   "source": [
    "print('Objective (SSE):',obj_value)"
   ]
  },
  {
   "cell_type": "code",
   "execution_count": 7,
   "id": "connected-slovakia",
   "metadata": {},
   "outputs": [
    {
     "data": {
      "text/plain": [
       "fs.properties.SRK_kappa_A[R125,emimTf2N]   -0.029705\n",
       "fs.properties.SRK_kappa_A[emimTf2N,R125]    0.082362\n",
       "fs.properties.SRK_kappa_B[emimTf2N,R125]   -0.144224\n",
       "dtype: float64"
      ]
     },
     "execution_count": 7,
     "metadata": {},
     "output_type": "execute_result"
    }
   ],
   "source": [
    "parameters"
   ]
  },
  {
   "cell_type": "code",
   "execution_count": 8,
   "id": "ceramic-attribute",
   "metadata": {},
   "outputs": [
    {
     "name": "stdout",
     "output_type": "stream",
     "text": [
      "Covariance Matrix:\n",
      "[[ 1.29449670e-06 -1.20108333e-04  1.32377440e-04]\n",
      " [-1.20108333e-04  2.01532676e-02 -2.14407030e-02]\n",
      " [ 1.32377440e-04 -2.14407030e-02  2.28668173e-02]]\n"
     ]
    }
   ],
   "source": [
    "cov = np.array(a)\n",
    "print('Covariance Matrix:')\n",
    "print(cov)"
   ]
  },
  {
   "cell_type": "code",
   "execution_count": 9,
   "id": "0748313f",
   "metadata": {},
   "outputs": [],
   "source": [
    "np.savetxt('Data/Covariance/SRK_Cov_3parameter_HFCILB0.csv',cov,delimiter=',')"
   ]
  },
  {
   "cell_type": "markdown",
   "id": "stuffed-moscow",
   "metadata": {},
   "source": [
    "## Apply Parameters + Plot"
   ]
  },
  {
   "cell_type": "code",
   "execution_count": 10,
   "id": "prerequisite-beads",
   "metadata": {},
   "outputs": [],
   "source": [
    "solver = SolverFactory('ipopt')\n",
    "solver.options = {'tol': 1e-6}"
   ]
  },
  {
   "cell_type": "code",
   "execution_count": 11,
   "id": "liable-vacuum",
   "metadata": {},
   "outputs": [
    {
     "name": "stdout",
     "output_type": "stream",
     "text": [
      "0.992\n",
      "0.915\n",
      "0.832\n",
      "0.75\n",
      "0.669\n",
      "0.587\n",
      "0.504\n",
      "0.417\n",
      "0.319\n",
      "0.994\n",
      "0.945\n",
      "0.891\n",
      "0.839\n",
      "0.787\n",
      "0.733\n",
      "0.683\n",
      "0.578\n",
      "0.479\n",
      "0.996\n",
      "0.97\n",
      "0.941\n",
      "0.912\n",
      "0.883\n",
      "0.848\n",
      "0.824\n",
      "0.772\n",
      "0.715\n",
      "0.996\n",
      "0.982\n",
      "0.966\n",
      "0.95\n",
      "0.926\n",
      "0.903\n",
      "0.895\n",
      "0.86\n",
      "0.829\n"
     ]
    }
   ],
   "source": [
    "m = ConcreteModel()\n",
    "\n",
    "m.fs = FlowsheetBlock(default={\"dynamic\": False})\n",
    "\n",
    "m.fs.properties = GenericParameterBlock(default=configuration)\n",
    "\n",
    "m.fs.F101 = Flash(default={\"property_package\": m.fs.properties,\n",
    "                           \"has_heat_transfer\": True,\n",
    "                           \"has_pressure_change\": True})\n",
    "\n",
    "m.fs.F101.inlet.flow_mol.fix(1)\n",
    "m.fs.F101.inlet.temperature.fix(323.15)\n",
    "m.fs.F101.inlet.pressure.fix(399800)\n",
    "m.fs.F101.inlet.mole_frac_comp[0,'R125'].fix(0.5)\n",
    "\n",
    "m.fs.properties.SRK_kappa_A['R125','emimTf2N'] = parameters['fs.properties.SRK_kappa_A[R125,emimTf2N]']\n",
    "m.fs.properties.SRK_kappa_A['emimTf2N','R125'] = parameters['fs.properties.SRK_kappa_A[emimTf2N,R125]']\n",
    "# m.fs.properties.PR_kappa_B['R32','emimTf2N'] = parameters['fs.properties.PR_kappa_B[R32,emimTf2N]']\n",
    "m.fs.properties.SRK_kappa_B['emimTf2N','R125'] = parameters['fs.properties.SRK_kappa_B[emimTf2N,R125]']\n",
    "\n",
    "# Initialize the flash unit\n",
    "m.fs.F101.initialize(outlvl=idaeslog.CRITICAL)\n",
    "\n",
    "# Fix the state variables on the state block\n",
    "# m.fs.F101.inlet.pressure.unfix()\n",
    "m.fs.F101.inlet.mole_frac_comp[0,'emimTf2N'].unfix()\n",
    "\n",
    "R125_x = np.zeros((len(data_full)))\n",
    "P = np.zeros((len(data_full)))\n",
    "\n",
    "m.fs.liq = Param(mutable=True,default=0.040)\n",
    "m.fs.liquid = Constraint(expr=m.fs.F101.liq_outlet.mole_frac_comp[0, \"emimTf2N\"] == m.fs.liq)\n",
    "\n",
    "for i in range(len(data_full)):\n",
    "    m.fs.liq = data_full[\"x_emimTf2N\"].iloc[i]\n",
    "    m.fs.F101.inlet.temperature.fix(float(data_full[\"temperature\"].iloc[i]))\n",
    "    m.fs.F101.inlet.pressure.fix(float(data_full[\"pressure\"].iloc[i]))\n",
    "    m.fs.F101.inlet.mole_frac_comp[0,'R125'].fix(float(data_full[\"x_R125\"].iloc[i])+0.1)\n",
    "    m.fs.F101.inlet.mole_frac_comp[0,'emimTf2N'].fix(float(1-(data_full[\"x_R125\"].iloc[i]+0.1)))\n",
    "    m.fs.F101.vap_outlet.temperature.fix(float(data_full[\"temperature\"].iloc[i]))\n",
    "    \n",
    "#     DOF_final = degrees_of_freedom(m)\n",
    "#     print(\"The final DOF is {0}\".format(DOF_final))\n",
    "    m.fs.F101.initialize(outlvl=idaeslog.CRITICAL)\n",
    "    \n",
    "    status = solver.solve(m, tee = False)\n",
    "\n",
    "#     m.fs.F101.report()\n",
    "    if (status.solver.status == SolverStatus.ok) and (status.solver.termination_condition == TerminationCondition.optimal):\n",
    "        print(data_full[\"x_emimTf2N\"].iloc[i])\n",
    "        R125_x[i] = value(m.fs.F101.liq_outlet.mole_frac_comp[0,'R125']) \n",
    "        P[i] = value(m.fs.F101.vap_outlet.pressure[0])\n",
    "\n",
    "    else:\n",
    "        print('Infeasible.')"
   ]
  },
  {
   "cell_type": "code",
   "execution_count": 12,
   "id": "9b39523d",
   "metadata": {},
   "outputs": [],
   "source": [
    "fitted_data = pd.DataFrame(data=[R125_x,P/1e6])\n",
    "fitted_data = fitted_data.T\n",
    "fitted_data.columns = ['R125_x','P, MPa']\n",
    "fitted_data.to_csv('Data/Fits/SRK_FittedData_3parameter_HFCILB0.csv')"
   ]
  },
  {
   "cell_type": "code",
   "execution_count": 13,
   "id": "boring-cancer",
   "metadata": {},
   "outputs": [
    {
     "data": {
      "image/png": "[encoded data removed]",
      "text/plain": [
       "<Figure size 432x288 with 1 Axes>"
      ]
     },
     "metadata": {
      "needs_background": "light"
     },
     "output_type": "display_data"
    }
   ],
   "source": [
    "P1= np.zeros((len(P)))\n",
    "\n",
    "for i in range(len(P)):\n",
    "    P1[i] = P[i]/1e6\n",
    "\n",
    "plt.plot(R125_x[0:9],P1[0:9],\"b*-\",label=\"T= 283 K\")  \n",
    "plt.plot(R125_x[9:18],P1[9:18],\"r*-\",label=\"T= 298 K\") \n",
    "plt.plot(R125_x[18:27],P1[18:27],\"c*-\",label=\"T= 323 K\") \n",
    "plt.plot(R125_x[27:],P1[27:],\"m-*\",label=\"T= 348 K\")\n",
    "plt.plot(data_full[\"x_R125\"],data_full[\"pressure\"]/1e6,\"*\",color='orange',label=\"data\")  \n",
    "plt.title('Isotherm R125-[emim][TF2N]')\n",
    "plt.ylabel('Pressure (MPa)')\n",
    "plt.xlabel('x R125')\n",
    "plt.grid(True)\n",
    "plt.ylim(0,1.110000)\n",
    "plt.legend()\n",
    "plt.show()"
   ]
  },
  {
   "cell_type": "markdown",
   "id": "amended-confidence",
   "metadata": {},
   "source": [
    "### Print Eigvals, Eigvectors\n",
    "\n",
    "An identifiability analysis can be performed with these as well as a FIM because the covariance matrix is the inverse of the FIM. That means that if there are any eigvals > 0, their eigvecs indicate directions of un-identifiability."
   ]
  },
  {
   "cell_type": "code",
   "execution_count": 14,
   "id": "structural-documentation",
   "metadata": {},
   "outputs": [],
   "source": [
    "eigvals, eigvecs = np.linalg.eig(cov)"
   ]
  },
  {
   "cell_type": "code",
   "execution_count": 15,
   "id": "collective-tournament",
   "metadata": {},
   "outputs": [
    {
     "data": {
      "text/plain": [
       "array([4.29943741e-02, 2.01663722e-07, 2.68036793e-05])"
      ]
     },
     "execution_count": 15,
     "metadata": {},
     "output_type": "execute_result"
    }
   ],
   "source": [
    "eigvals"
   ]
  },
  {
   "cell_type": "code",
   "execution_count": 16,
   "id": "selective-empire",
   "metadata": {},
   "outputs": [
    {
     "data": {
      "text/plain": [
       "array([[-0.0041569 ,  0.99339292,  0.11468753],\n",
       "       [ 0.68440822, -0.08079239,  0.72460885],\n",
       "       [-0.72908718, -0.08150521,  0.67955043]])"
      ]
     },
     "execution_count": 16,
     "metadata": {},
     "output_type": "execute_result"
    }
   ],
   "source": [
    "eigvecs"
   ]
  },
  {
   "cell_type": "code",
   "execution_count": 17,
   "id": "1a0197e0",
   "metadata": {},
   "outputs": [],
   "source": [
    "np.savetxt('Data/EigenAnalysis/SRK_vals_3parameter_HFCILB0.csv',eigvals,delimiter=',')\n",
    "np.savetxt('Data/EigenAnalysis/SRK_vecs_3parameter_HFCILB0.csv',eigvecs,delimiter=',')"
   ]
  },
  {
   "cell_type": "markdown",
   "id": "tracked-monte",
   "metadata": {},
   "source": [
    "Conclusion: "
   ]
  },
  {
   "cell_type": "markdown",
   "id": "advance-winner",
   "metadata": {},
   "source": [
    "## AIC Value\n",
    "\n",
    "See https://docs.google.com/document/d/1um0r2XK4ldjjy2colOqaZsEM3wIzGD6l_3B8gnpnI2I/edit# for equations"
   ]
  },
  {
   "cell_type": "code",
   "execution_count": 18,
   "id": "plain-certificate",
   "metadata": {},
   "outputs": [],
   "source": [
    "n = 3"
   ]
  },
  {
   "cell_type": "code",
   "execution_count": 19,
   "id": "pregnant-moderator",
   "metadata": {},
   "outputs": [],
   "source": [
    "SSR = obj_value"
   ]
  },
  {
   "cell_type": "code",
   "execution_count": 20,
   "id": "entire-abraham",
   "metadata": {},
   "outputs": [
    {
     "data": {
      "text/plain": [
       "0.043035085313781744"
      ]
     },
     "execution_count": 20,
     "metadata": {},
     "output_type": "execute_result"
    }
   ],
   "source": [
    "sigma_sq = SSR/n\n",
    "sigma_sq"
   ]
  },
  {
   "cell_type": "code",
   "execution_count": 21,
   "id": "worldwide-liabilities",
   "metadata": {},
   "outputs": [
    {
     "data": {
      "text/plain": [
       "0.4617937380682311"
      ]
     },
     "execution_count": 21,
     "metadata": {},
     "output_type": "execute_result"
    }
   ],
   "source": [
    "L = -n/2*np.log(2*np.pi) - n/2*np.log(sigma_sq) - 1/(2*sigma_sq)*SSR\n",
    "L"
   ]
  },
  {
   "cell_type": "code",
   "execution_count": 22,
   "id": "heavy-worst",
   "metadata": {},
   "outputs": [
    {
     "data": {
      "text/plain": [
       "5.076412523863538"
      ]
     },
     "execution_count": 22,
     "metadata": {},
     "output_type": "execute_result"
    }
   ],
   "source": [
    "AIC = 2*n - 2*L\n",
    "AIC"
   ]
  },
  {
   "cell_type": "code",
   "execution_count": 23,
   "id": "southwest-insider",
   "metadata": {},
   "outputs": [],
   "source": [
    "AIC_data = pd.DataFrame(data=[n,obj_value,AIC])\n",
    "AIC_data = AIC_data.T\n",
    "AIC_data.columns = ['n','Objective, Pa^2','AIC']\n",
    "AIC_data.to_csv('Data/AIC/SRK_AIC_3parameter_HFCILB0.csv')"
   ]
  },
  {
   "cell_type": "code",
   "execution_count": null,
   "id": "670949c0",
   "metadata": {},
   "outputs": [],
   "source": []
  }
 ],
 "metadata": {
  "kernelspec": {
   "display_name": "Python 3 (ipykernel)",
   "language": "python",
   "name": "python3"
  },
  "language_info": {
   "codemirror_mode": {
    "name": "ipython",
    "version": 3
   },
   "file_extension": ".py",
   "mimetype": "text/x-python",
   "name": "python",
   "nbconvert_exporter": "python",
   "pygments_lexer": "ipython3",
   "version": "3.9.9"
  }
 },
 "nbformat": 4,
 "nbformat_minor": 5
}
