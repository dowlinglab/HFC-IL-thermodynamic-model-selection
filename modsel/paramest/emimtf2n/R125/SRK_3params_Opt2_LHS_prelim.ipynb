{
 "cells": [
  {
   "cell_type": "markdown",
   "id": "d4de6609",
   "metadata": {},
   "source": [
    "# Organize LH sample for SRK 3params Opt2 LHS multistart"
   ]
  },
  {
   "cell_type": "code",
   "execution_count": 1,
   "id": "309efa6a",
   "metadata": {},
   "outputs": [],
   "source": [
    "import pandas as pd\n",
    "import numpy as np\n",
    "\n",
    "import sys\n",
    "sys.path.append('../../')"
   ]
  },
  {
   "cell_type": "code",
   "execution_count": 2,
   "id": "6539d4ff",
   "metadata": {},
   "outputs": [],
   "source": [
    "SRK_no_results = pd.read_csv('Data/Fits/LHS_Fits/SRK_noTdep_LHS_fromsc_Opt1_192_.csv',index_col=0)"
   ]
  },
  {
   "cell_type": "code",
   "execution_count": 3,
   "id": "ee889ce6",
   "metadata": {},
   "outputs": [
    {
     "data": {
      "text/html": [
       "<div>\n",
       "<style scoped>\n",
       "    .dataframe tbody tr th:only-of-type {\n",
       "        vertical-align: middle;\n",
       "    }\n",
       "\n",
       "    .dataframe tbody tr th {\n",
       "        vertical-align: top;\n",
       "    }\n",
       "\n",
       "    .dataframe thead th {\n",
       "        text-align: right;\n",
       "    }\n",
       "</style>\n",
       "<table border=\"1\" class=\"dataframe\">\n",
       "  <thead>\n",
       "    <tr style=\"text-align: right;\">\n",
       "      <th></th>\n",
       "      <th>Unnamed: 0.1</th>\n",
       "      <th>sc_param1</th>\n",
       "      <th>sc_param2</th>\n",
       "      <th>SRK_kappa_A[emimTf2N,R125]</th>\n",
       "      <th>SRK_kappa_A[R125,emimTf2N]</th>\n",
       "      <th>SSR</th>\n",
       "    </tr>\n",
       "  </thead>\n",
       "  <tbody>\n",
       "    <tr>\n",
       "      <th>50</th>\n",
       "      <td>50</td>\n",
       "      <td>-0.022485</td>\n",
       "      <td>-0.004797</td>\n",
       "      <td>-0.052865</td>\n",
       "      <td>-0.028872</td>\n",
       "      <td>0.133158</td>\n",
       "    </tr>\n",
       "  </tbody>\n",
       "</table>\n",
       "</div>"
      ],
      "text/plain": [
       "    Unnamed: 0.1  sc_param1  sc_param2  SRK_kappa_A[emimTf2N,R125]  \\\n",
       "50            50  -0.022485  -0.004797                   -0.052865   \n",
       "\n",
       "    SRK_kappa_A[R125,emimTf2N]       SSR  \n",
       "50                   -0.028872  0.133158  "
      ]
     },
     "execution_count": 3,
     "metadata": {},
     "output_type": "execute_result"
    }
   ],
   "source": [
    "SRK_no_results[SRK_no_results.SSR == SRK_no_results.SSR.min()]"
   ]
  },
  {
   "cell_type": "code",
   "execution_count": 4,
   "id": "a45ca2d2",
   "metadata": {},
   "outputs": [],
   "source": [
    "no_50 = SRK_no_results.iloc[50]"
   ]
  },
  {
   "cell_type": "code",
   "execution_count": 5,
   "id": "d0b2c57a",
   "metadata": {},
   "outputs": [],
   "source": [
    "lhs = pd.read_csv('../../LHS_250x8.txt')"
   ]
  },
  {
   "cell_type": "code",
   "execution_count": 6,
   "id": "3ba4bd62",
   "metadata": {},
   "outputs": [],
   "source": [
    "lhs['sc_param3'] = ((lhs['Param3']-lhs['Param3'].min())/(lhs['Param3'].max()-lhs['Param3'].min()))*2+(-1)"
   ]
  },
  {
   "cell_type": "code",
   "execution_count": 7,
   "id": "d1497feb",
   "metadata": {},
   "outputs": [],
   "source": [
    "no_50_sc = no_50[['sc_param1','sc_param2']]"
   ]
  },
  {
   "cell_type": "code",
   "execution_count": 8,
   "id": "1e325f20",
   "metadata": {},
   "outputs": [],
   "source": [
    "no_50_sc_df = pd.DataFrame(no_50_sc).T\n",
    "sc_50 = pd.concat([no_50_sc_df]*250,ignore_index=True)\n",
    "sc_50_lhs = pd.concat([sc_50,lhs[['sc_param3']]],axis=1,ignore_index=True)\n",
    "sc_50_lhs.columns = ['sc_param1','sc_param2','sc_param3']\n",
    "sc_50_lhs.to_csv('Data/Fits/LHS_Fits/SRK_3params_Opt2_50_scLHS.csv',sep=',')"
   ]
  },
  {
   "cell_type": "code",
   "execution_count": null,
   "id": "3ee80540",
   "metadata": {},
   "outputs": [],
   "source": [
    "sc_50_lhs"
   ]
  },
  {
   "cell_type": "code",
   "execution_count": null,
   "id": "804d5655",
   "metadata": {},
   "outputs": [],
   "source": []
  }
 ],
 "metadata": {
  "kernelspec": {
   "display_name": "Python 3 (ipykernel)",
   "language": "python",
   "name": "python3"
  },
  "language_info": {
   "codemirror_mode": {
    "name": "ipython",
    "version": 3
   },
   "file_extension": ".py",
   "mimetype": "text/x-python",
   "name": "python",
   "nbconvert_exporter": "python",
   "pygments_lexer": "ipython3",
   "version": "3.9.9"
  }
 },
 "nbformat": 4,
 "nbformat_minor": 5
}
