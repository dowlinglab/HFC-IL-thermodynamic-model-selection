{
 "cells": [
  {
   "cell_type": "markdown",
   "id": "d4de6609",
   "metadata": {},
   "source": [
    "# Organize LH sample for PR 3params Opt2 LHS multistart"
   ]
  },
  {
   "cell_type": "code",
   "execution_count": 1,
   "id": "309efa6a",
   "metadata": {},
   "outputs": [],
   "source": [
    "import pandas as pd\n",
    "import numpy as np\n",
    "\n",
    "import sys\n",
    "sys.path.append('../../')"
   ]
  },
  {
   "cell_type": "code",
   "execution_count": 2,
   "id": "6539d4ff",
   "metadata": {},
   "outputs": [],
   "source": [
    "PR_no_results_Opt1 = pd.read_csv('Data/Fits/LHS_Fits/PR_noTdep_LHS_fromsc_Opt1_102.csv',index_col=0)"
   ]
  },
  {
   "cell_type": "code",
   "execution_count": 3,
   "id": "ee889ce6",
   "metadata": {},
   "outputs": [],
   "source": [
    "PR_no_results_Opt2 = pd.read_csv('Data/Fits/LHS_Fits/PR_noTdep_LHS_fromsc_Opt2_120.csv',index_col=0)"
   ]
  },
  {
   "cell_type": "code",
   "execution_count": 4,
   "id": "c57b9fa9",
   "metadata": {},
   "outputs": [
    {
     "data": {
      "text/html": [
       "<div>\n",
       "<style scoped>\n",
       "    .dataframe tbody tr th:only-of-type {\n",
       "        vertical-align: middle;\n",
       "    }\n",
       "\n",
       "    .dataframe tbody tr th {\n",
       "        vertical-align: top;\n",
       "    }\n",
       "\n",
       "    .dataframe thead th {\n",
       "        text-align: right;\n",
       "    }\n",
       "</style>\n",
       "<table border=\"1\" class=\"dataframe\">\n",
       "  <thead>\n",
       "    <tr style=\"text-align: right;\">\n",
       "      <th></th>\n",
       "      <th>Unnamed: 0.1</th>\n",
       "      <th>sc_param1</th>\n",
       "      <th>sc_param2</th>\n",
       "      <th>PR_kappa_A[emimTf2N,R125]</th>\n",
       "      <th>PR_kappa_A[R125,emimTf2N]</th>\n",
       "      <th>SSR</th>\n",
       "    </tr>\n",
       "  </thead>\n",
       "  <tbody>\n",
       "    <tr>\n",
       "      <th>127</th>\n",
       "      <td>127</td>\n",
       "      <td>-0.005679</td>\n",
       "      <td>-0.002499</td>\n",
       "      <td>-0.034732</td>\n",
       "      <td>-0.015915</td>\n",
       "      <td>0.186145</td>\n",
       "    </tr>\n",
       "  </tbody>\n",
       "</table>\n",
       "</div>"
      ],
      "text/plain": [
       "     Unnamed: 0.1  sc_param1  sc_param2  PR_kappa_A[emimTf2N,R125]  \\\n",
       "127           127  -0.005679  -0.002499                  -0.034732   \n",
       "\n",
       "     PR_kappa_A[R125,emimTf2N]       SSR  \n",
       "127                  -0.015915  0.186145  "
      ]
     },
     "execution_count": 4,
     "metadata": {},
     "output_type": "execute_result"
    }
   ],
   "source": [
    "PR_no_results_Opt1[PR_no_results_Opt1.SSR == PR_no_results_Opt1.SSR.min()]"
   ]
  },
  {
   "cell_type": "code",
   "execution_count": 5,
   "id": "a45ca2d2",
   "metadata": {},
   "outputs": [],
   "source": [
    "no_127 = PR_no_results_Opt1.iloc[127]"
   ]
  },
  {
   "cell_type": "code",
   "execution_count": 6,
   "id": "09ea8598",
   "metadata": {},
   "outputs": [
    {
     "data": {
      "text/html": [
       "<div>\n",
       "<style scoped>\n",
       "    .dataframe tbody tr th:only-of-type {\n",
       "        vertical-align: middle;\n",
       "    }\n",
       "\n",
       "    .dataframe tbody tr th {\n",
       "        vertical-align: top;\n",
       "    }\n",
       "\n",
       "    .dataframe thead th {\n",
       "        text-align: right;\n",
       "    }\n",
       "</style>\n",
       "<table border=\"1\" class=\"dataframe\">\n",
       "  <thead>\n",
       "    <tr style=\"text-align: right;\">\n",
       "      <th></th>\n",
       "      <th>Unnamed: 0.1</th>\n",
       "      <th>sc_param1</th>\n",
       "      <th>sc_param2</th>\n",
       "      <th>PR_kappa_A[emimTf2N,R125]</th>\n",
       "      <th>PR_kappa_A[R125,emimTf2N]</th>\n",
       "      <th>SSR</th>\n",
       "    </tr>\n",
       "  </thead>\n",
       "  <tbody>\n",
       "    <tr>\n",
       "      <th>5</th>\n",
       "      <td>5</td>\n",
       "      <td>-0.055031</td>\n",
       "      <td>0.004003</td>\n",
       "      <td>0.006069</td>\n",
       "      <td>0.002599</td>\n",
       "      <td>6.721918</td>\n",
       "    </tr>\n",
       "  </tbody>\n",
       "</table>\n",
       "</div>"
      ],
      "text/plain": [
       "   Unnamed: 0.1  sc_param1  sc_param2  PR_kappa_A[emimTf2N,R125]  \\\n",
       "5             5  -0.055031   0.004003                   0.006069   \n",
       "\n",
       "   PR_kappa_A[R125,emimTf2N]       SSR  \n",
       "5                   0.002599  6.721918  "
      ]
     },
     "execution_count": 6,
     "metadata": {},
     "output_type": "execute_result"
    }
   ],
   "source": [
    "PR_no_results_Opt2[PR_no_results_Opt2.SSR == PR_no_results_Opt2.SSR.min()]"
   ]
  },
  {
   "cell_type": "code",
   "execution_count": 7,
   "id": "0fd9b1b0",
   "metadata": {},
   "outputs": [],
   "source": [
    "no_5 = PR_no_results_Opt2.iloc[5]"
   ]
  },
  {
   "cell_type": "code",
   "execution_count": 8,
   "id": "d0b2c57a",
   "metadata": {},
   "outputs": [],
   "source": [
    "lhs = pd.read_csv('../../LHS_250x8.txt')"
   ]
  },
  {
   "cell_type": "code",
   "execution_count": 9,
   "id": "3ba4bd62",
   "metadata": {},
   "outputs": [],
   "source": [
    "lhs['sc_param3'] = ((lhs['Param3']-lhs['Param3'].min())/(lhs['Param3'].max()-lhs['Param3'].min()))*2+(-1)"
   ]
  },
  {
   "cell_type": "code",
   "execution_count": 10,
   "id": "d1497feb",
   "metadata": {},
   "outputs": [],
   "source": [
    "no_127_sc = no_127[['sc_param1','sc_param2']]\n",
    "no_5_sc = no_5[['sc_param1','sc_param2']]"
   ]
  },
  {
   "cell_type": "code",
   "execution_count": 11,
   "id": "1e325f20",
   "metadata": {},
   "outputs": [],
   "source": [
    "no_127_sc_df = pd.DataFrame(no_127_sc).T\n",
    "sc_127 = pd.concat([no_127_sc_df]*250,ignore_index=True)\n",
    "sc_127_lhs = pd.concat([sc_127,lhs[['sc_param3']]],axis=1,ignore_index=True)\n",
    "sc_127_lhs.columns = ['sc_param1','sc_param2','sc_param3']\n",
    "sc_127_lhs.to_csv('Data/Fits/LHS_Fits/PR_3params_Opt2_127_scLHS.csv',sep=',')"
   ]
  },
  {
   "cell_type": "code",
   "execution_count": 12,
   "id": "faa8f63a",
   "metadata": {},
   "outputs": [],
   "source": [
    "no_5_sc_df = pd.DataFrame(no_5_sc).T\n",
    "sc_5 = pd.concat([no_5_sc_df]*250,ignore_index=True)\n",
    "sc_5_lhs = pd.concat([sc_5,lhs[['sc_param3']]],axis=1,ignore_index=True)\n",
    "sc_5_lhs.columns = ['sc_param1','sc_param2','sc_param3']\n",
    "sc_5_lhs.to_csv('Data/Fits/LHS_Fits/PR_3params_Opt2_5_scLHS.csv',sep=',')"
   ]
  },
  {
   "cell_type": "code",
   "execution_count": null,
   "id": "3ee80540",
   "metadata": {},
   "outputs": [],
   "source": [
    "sc_127_lhs"
   ]
  },
  {
   "cell_type": "code",
   "execution_count": null,
   "id": "ae5e23a5",
   "metadata": {},
   "outputs": [],
   "source": [
    "sc_5_lhs"
   ]
  },
  {
   "cell_type": "code",
   "execution_count": null,
   "id": "804d5655",
   "metadata": {},
   "outputs": [],
   "source": []
  }
 ],
 "metadata": {
  "kernelspec": {
   "display_name": "Python 3 (ipykernel)",
   "language": "python",
   "name": "python3"
  },
  "language_info": {
   "codemirror_mode": {
    "name": "ipython",
    "version": 3
   },
   "file_extension": ".py",
   "mimetype": "text/x-python",
   "name": "python",
   "nbconvert_exporter": "python",
   "pygments_lexer": "ipython3",
   "version": "3.9.9"
  }
 },
 "nbformat": 4,
 "nbformat_minor": 5
}
