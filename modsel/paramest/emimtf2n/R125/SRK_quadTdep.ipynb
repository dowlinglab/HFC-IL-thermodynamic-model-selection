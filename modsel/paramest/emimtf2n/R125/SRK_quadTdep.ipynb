{
 "cells": [
  {
   "cell_type": "markdown",
   "id": "instructional-learning",
   "metadata": {},
   "source": [
    "# Fit emimTF2N data\n",
    "\n",
    "EoS: SRK\n",
    "\n",
    "Parameter T dependence: Quadratic\n",
    "\n",
    "N (total fitting parameters): 6\n",
    "\n",
    "**Find an optimal solution, but getting some infeasible points when plotting"
   ]
  },
  {
   "cell_type": "markdown",
   "id": "extended-rabbit",
   "metadata": {},
   "source": [
    "## Import Functions"
   ]
  },
  {
   "cell_type": "code",
   "execution_count": 1,
   "id": "complicated-toronto",
   "metadata": {},
   "outputs": [],
   "source": [
    "import idaes\n",
    "\n",
    "import pandas as pd\n",
    "import numpy as np\n",
    "import matplotlib.pyplot as plt\n",
    "import scipy.optimize\n",
    "\n",
    "import sys\n",
    "sys.path.append('../../')\n",
    "\n",
    "from pyomo.environ import (Constraint,\n",
    "                           Var,\n",
    "                           ConcreteModel,\n",
    "                           Expression,\n",
    "                           Param,\n",
    "                           Objective,\n",
    "                           SolverFactory,\n",
    "                           TransformationFactory,\n",
    "                           value)\n",
    "from pyomo.opt import TerminationCondition, SolverStatus\n",
    "\n",
    "from idaes.core import FlowsheetBlock\n",
    "import idaes.logger as idaeslog\n",
    "# Import the Generic Parameter Block\n",
    "from idaes.generic_models.properties.core.generic.generic_property import (\n",
    "        GenericParameterBlock)\n",
    "# Import unit models from the model library\n",
    "from idaes.generic_models.unit_models import Flash\n",
    "# Import degrees of freedom tool\n",
    "from idaes.core.util.model_statistics import degrees_of_freedom\n",
    "\n",
    "# parmest (binary_param2)\n",
    "from bip_fitting_functions_SRK import cuadratic\n",
    "\n",
    "import scipy.stats as stats\n",
    "\n",
    "from matplotlib.patches import Ellipse\n",
    "import matplotlib.transforms as transforms\n",
    "import matplotlib.patches as mpatches"
   ]
  },
  {
   "cell_type": "markdown",
   "id": "potential-awareness",
   "metadata": {},
   "source": [
    "## Load Data"
   ]
  },
  {
   "cell_type": "code",
   "execution_count": 2,
   "id": "latest-artist",
   "metadata": {},
   "outputs": [],
   "source": [
    "data_full = pd.read_csv('r125_emimtf2n_full.csv')\n",
    "data_subset = pd.read_csv('r125_emimtf2n_subset.csv')"
   ]
  },
  {
   "cell_type": "markdown",
   "id": "superior-attendance",
   "metadata": {},
   "source": [
    "## Load Configuration + Check DOF"
   ]
  },
  {
   "cell_type": "code",
   "execution_count": 3,
   "id": "binding-cattle",
   "metadata": {},
   "outputs": [],
   "source": [
    "from hfc125_emimtf2n_SRK import configuration "
   ]
  },
  {
   "cell_type": "code",
   "execution_count": 4,
   "id": "backed-diving",
   "metadata": {},
   "outputs": [
    {
     "name": "stdout",
     "output_type": "stream",
     "text": [
      "The initial DOF is 7\n"
     ]
    }
   ],
   "source": [
    "m = ConcreteModel()\n",
    "m.fs = FlowsheetBlock(default={\"dynamic\": False})\n",
    "m.fs.properties = GenericParameterBlock(default=configuration)\n",
    "m.fs.F101 = Flash(default={\"property_package\": m.fs.properties,\n",
    "                           \"has_heat_transfer\": True,\n",
    "                           \"has_pressure_change\": True})\n",
    "DOF_initial = degrees_of_freedom(m)\n",
    "print('The initial DOF is {0}'.format(DOF_initial))"
   ]
  },
  {
   "cell_type": "markdown",
   "id": "conventional-health",
   "metadata": {},
   "source": [
    "## Fit Parameters"
   ]
  },
  {
   "cell_type": "code",
   "execution_count": 5,
   "id": "sensitive-secondary",
   "metadata": {},
   "outputs": [
    {
     "name": "stdout",
     "output_type": "stream",
     "text": [
      "2022-04-05 17:07:37 [INFO] idaes.init.fs.state_block: Property package initialization: optimal - Optimal Solution Found.\n",
      "2022-04-05 17:07:37 [INFO] idaes.init.fs.state_block: Property package initialization: optimal - Optimal Solution Found.\n",
      "2022-04-05 17:07:38 [INFO] idaes.init.fs.state_block: Property package initialization: optimal - Optimal Solution Found.\n",
      "2022-04-05 17:07:38 [INFO] idaes.init.fs.state_block: Property package initialization: optimal - Optimal Solution Found.\n",
      "2022-04-05 17:07:38 [INFO] idaes.init.fs.state_block: Property package initialization: optimal - Optimal Solution Found.\n",
      "2022-04-05 17:07:39 [INFO] idaes.init.fs.state_block: Property package initialization: optimal - Optimal Solution Found.\n",
      "2022-04-05 17:07:39 [INFO] idaes.init.fs.state_block: Property package initialization: optimal - Optimal Solution Found.\n",
      "2022-04-05 17:07:39 [INFO] idaes.init.fs.state_block: Property package initialization: optimal - Optimal Solution Found.\n",
      "2022-04-05 17:07:40 [INFO] idaes.init.fs.state_block: Property package initialization: optimal - Optimal Solution Found.\n",
      "2022-04-05 17:07:40 [INFO] idaes.init.fs.state_block: Property package initialization: optimal - Optimal Solution Found.\n",
      "2022-04-05 17:07:41 [INFO] idaes.init.fs.state_block: Property package initialization: optimal - Optimal Solution Found.\n",
      "2022-04-05 17:07:41 [INFO] idaes.init.fs.state_block: Property package initialization: optimal - Optimal Solution Found.\n",
      "2022-04-05 17:07:41 [INFO] idaes.init.fs.state_block: Property package initialization: optimal - Optimal Solution Found.\n",
      "2022-04-05 17:07:42 [INFO] idaes.init.fs.state_block: Property package initialization: optimal - Optimal Solution Found.\n",
      "2022-04-05 17:07:42 [INFO] idaes.init.fs.state_block: Property package initialization: optimal - Optimal Solution Found.\n",
      "2022-04-05 17:07:42 [INFO] idaes.init.fs.state_block: Property package initialization: optimal - Optimal Solution Found.\n",
      "2022-04-05 17:07:43 [INFO] idaes.init.fs.state_block: Property package initialization: optimal - Optimal Solution Found.\n",
      "2022-04-05 17:07:43 [INFO] idaes.init.fs.state_block: Property package initialization: optimal - Optimal Solution Found.\n",
      "2022-04-05 17:07:43 [INFO] idaes.init.fs.state_block: Property package initialization: optimal - Optimal Solution Found.\n",
      "2022-04-05 17:07:44 [INFO] idaes.init.fs.state_block: Property package initialization: optimal - Optimal Solution Found.\n",
      "2022-04-05 17:07:44 [INFO] idaes.init.fs.state_block: Property package initialization: optimal - Optimal Solution Found.\n",
      "2022-04-05 17:07:44 [INFO] idaes.init.fs.state_block: Property package initialization: optimal - Optimal Solution Found.\n",
      "2022-04-05 17:07:45 [INFO] idaes.init.fs.state_block: Property package initialization: optimal - Optimal Solution Found.\n",
      "2022-04-05 17:07:45 [INFO] idaes.init.fs.state_block: Property package initialization: optimal - Optimal Solution Found.\n",
      "2022-04-05 17:07:45 [INFO] idaes.init.fs.state_block: Property package initialization: optimal - Optimal Solution Found.\n",
      "2022-04-05 17:07:46 [INFO] idaes.init.fs.state_block: Property package initialization: optimal - Optimal Solution Found.\n",
      "2022-04-05 17:07:46 [INFO] idaes.init.fs.state_block: Property package initialization: optimal - Optimal Solution Found.\n",
      "2022-04-05 17:07:46 [INFO] idaes.init.fs.state_block: Property package initialization: optimal - Optimal Solution Found.\n",
      "2022-04-05 17:07:47 [INFO] idaes.init.fs.state_block: Property package initialization: optimal - Optimal Solution Found.\n",
      "2022-04-05 17:07:47 [INFO] idaes.init.fs.state_block: Property package initialization: optimal - Optimal Solution Found.\n",
      "2022-04-05 17:07:48 [INFO] idaes.init.fs.state_block: Property package initialization: optimal - Optimal Solution Found.\n",
      "2022-04-05 17:07:48 [INFO] idaes.init.fs.state_block: Property package initialization: optimal - Optimal Solution Found.\n",
      "Ipopt 3.13.2: bound_relax_factor=0\n",
      "honor_original_bounds=no\n",
      "\n",
      "\n",
      "******************************************************************************\n",
      "This program contains Ipopt, a library for large-scale nonlinear optimization.\n",
      " Ipopt is released as open source code under the Eclipse Public License (EPL).\n",
      "         For more information visit http://projects.coin-or.org/Ipopt\n",
      "\n",
      "This version of Ipopt was compiled from source code available at\n",
      "    https://github.com/IDAES/Ipopt as part of the Institute for the Design of\n",
      "    Advanced Energy Systems Process Systems Engineering Framework (IDAES PSE\n",
      "    Framework) Copyright (c) 2018-2019. See https://github.com/IDAES/idaes-pse.\n",
      "\n",
      "This version of Ipopt was compiled using HSL, a collection of Fortran codes\n",
      "    for large-scale scientific computation.  All technical papers, sales and\n",
      "    publicity material resulting from use of the HSL codes within IPOPT must\n",
      "    contain the following acknowledgement:\n",
      "        HSL, a collection of Fortran codes for large-scale scientific\n",
      "        computation. See http://www.hsl.rl.ac.uk.\n",
      "******************************************************************************\n",
      "\n",
      "This is Ipopt version 3.13.2, running with linear solver ma27.\n",
      "\n",
      "Number of nonzeros in equality constraint Jacobian...:     1588\n",
      "Number of nonzeros in inequality constraint Jacobian.:        0\n",
      "Number of nonzeros in Lagrangian Hessian.............:     2432\n",
      "\n",
      "Total number of variables............................:      576\n",
      "                     variables with only lower bounds:      128\n",
      "                variables with lower and upper bounds:      384\n",
      "                     variables with only upper bounds:        0\n",
      "Total number of equality constraints.................:      570\n",
      "Total number of inequality constraints...............:        0\n",
      "        inequality constraints with only lower bounds:        0\n",
      "   inequality constraints with lower and upper bounds:        0\n",
      "        inequality constraints with only upper bounds:        0\n",
      "\n",
      "iter    objective    inf_pr   inf_du lg(mu)  ||d||  lg(rg) alpha_du alpha_pr  ls\n",
      "   0  0.0000000e+00 3.00e-01 2.84e-14  -1.0 0.00e+00    -  0.00e+00 0.00e+00   0\n",
      "   1  1.1259136e+01 9.77e-03 3.63e+02  -1.0 4.37e+04    -  8.32e-01 9.90e-01h  1\n",
      "   2  1.1867119e+01 9.00e-05 6.52e+00  -1.0 1.85e+03    -  9.87e-01 9.90e-01h  1\n",
      "   3  1.1418096e+01 9.19e-06 3.90e+02  -1.0 3.93e+03    -  9.86e-01 9.90e-01H  1\n",
      "   4  1.1303435e+01 7.47e-06 4.02e-01  -1.0 1.85e+03    -  9.90e-01 9.90e-01H  1\n",
      "   5  1.1300577e+01 8.16e-07 2.13e+03  -1.7 3.24e+02    -  9.90e-01 9.90e-01h  1\n",
      "   6  1.1299399e+01 7.99e-07 6.14e+05  -3.8 2.78e+02    -  9.96e-01 1.00e+00h  1\n",
      "In iteration 6, 32 Slacks too small, adjusting variable bounds\n",
      "   7  1.1299369e+01 2.22e-08 1.50e+08  -3.8 4.58e+01    -  1.00e+00 1.00e+00h  1\n",
      "   8  1.1299369e+01 4.04e-12 7.15e-07  -3.8 5.08e-02    -  1.00e+00 1.00e+00h  1\n",
      "   9  1.1299369e+01 2.75e-11 2.19e+04  -9.0 1.64e+00    -  1.00e+00 1.00e+00h  1\n",
      "iter    objective    inf_pr   inf_du lg(mu)  ||d||  lg(rg) alpha_du alpha_pr  ls\n",
      "  10  1.1299369e+01 1.94e-11 2.66e-10  -9.0 1.96e-03    -  1.00e+00 1.00e+00h  1\n",
      "\n",
      "Number of Iterations....: 10\n",
      "\n",
      "                                   (scaled)                 (unscaled)\n",
      "Objective...............:   1.1299368734301622e+01    1.1299368734301622e+01\n",
      "Dual infeasibility......:   2.6569077538575028e-10    2.6569077538575028e-10\n",
      "Constraint violation....:   1.9376056314968082e-11    1.9376056314968082e-11\n",
      "Complementarity.........:   9.0909284879883913e-10    9.0909284879883913e-10\n",
      "Overall NLP error.......:   9.0909284879883913e-10    9.0909284879883913e-10\n",
      "\n",
      "\n",
      "Number of objective function evaluations             = 13\n",
      "Number of objective gradient evaluations             = 11\n",
      "Number of equality constraint evaluations            = 13\n",
      "Number of inequality constraint evaluations          = 0\n",
      "Number of equality constraint Jacobian evaluations   = 11\n",
      "Number of inequality constraint Jacobian evaluations = 0\n",
      "Number of Lagrangian Hessian evaluations             = 10\n",
      "Total CPU secs in IPOPT (w/o function evaluations)   =      0.042\n",
      "Total CPU secs in NLP function evaluations           =      0.261\n",
      "\n",
      "EXIT: Optimal Solution Found.\n",
      "WARNING: The current pynumero_ASL library is version=2, but found version=1.\n",
      "    Please recompile / update your pynumero_ASL library.\n",
      "The SSE at the optimal solution is 11.299369\n",
      "\n",
      "The values for the parameters are as follows:\n",
      "fs.properties.SRK_kappa_A[emimTf2N,R125] = 0.625728811734924\n",
      "fs.properties.SRK_kappa_A[R125,emimTf2N] = 0.14185719040639752\n",
      "fs.properties.SRK_kappa_B[emimTf2N,R125] = -1.1969082936957578\n",
      "fs.properties.SRK_kappa_B[R125,emimTf2N] = -0.3344288211537165\n",
      "fs.properties.SRK_kappa_C[emimTf2N,R125] = 0.5016890767925727\n",
      "fs.properties.SRK_kappa_C[R125,emimTf2N] = 0.1615415270751435\n",
      "covariance_matrix                                           fs.properties.SRK_kappa_A[emimTf2N,R125]  \\\n",
      "fs.properties.SRK_kappa_A[emimTf2N,R125]                                  7.399539   \n",
      "fs.properties.SRK_kappa_A[R125,emimTf2N]                                  0.241251   \n",
      "fs.properties.SRK_kappa_B[emimTf2N,R125]                                -14.746965   \n",
      "fs.properties.SRK_kappa_B[R125,emimTf2N]                                 -0.479068   \n",
      "fs.properties.SRK_kappa_C[emimTf2N,R125]                                  7.329996   \n",
      "fs.properties.SRK_kappa_C[R125,emimTf2N]                                  0.237055   \n",
      "\n",
      "                                          fs.properties.SRK_kappa_A[R125,emimTf2N]  \\\n",
      "fs.properties.SRK_kappa_A[emimTf2N,R125]                                  0.241251   \n",
      "fs.properties.SRK_kappa_A[R125,emimTf2N]                                  0.030338   \n",
      "fs.properties.SRK_kappa_B[emimTf2N,R125]                                 -0.455321   \n",
      "fs.properties.SRK_kappa_B[R125,emimTf2N]                                 -0.057003   \n",
      "fs.properties.SRK_kappa_C[emimTf2N,R125]                                  0.213282   \n",
      "fs.properties.SRK_kappa_C[R125,emimTf2N]                                  0.026617   \n",
      "\n",
      "                                          fs.properties.SRK_kappa_B[emimTf2N,R125]  \\\n",
      "fs.properties.SRK_kappa_A[emimTf2N,R125]                                -14.746965   \n",
      "fs.properties.SRK_kappa_A[R125,emimTf2N]                                 -0.455321   \n",
      "fs.properties.SRK_kappa_B[emimTf2N,R125]                                 29.446247   \n",
      "fs.properties.SRK_kappa_B[R125,emimTf2N]                                  0.908626   \n",
      "fs.properties.SRK_kappa_C[emimTf2N,R125]                                -14.665682   \n",
      "fs.properties.SRK_kappa_C[R125,emimTf2N]                                 -0.451861   \n",
      "\n",
      "                                          fs.properties.SRK_kappa_B[R125,emimTf2N]  \\\n",
      "fs.properties.SRK_kappa_A[emimTf2N,R125]                                 -0.479068   \n",
      "fs.properties.SRK_kappa_A[R125,emimTf2N]                                 -0.057003   \n",
      "fs.properties.SRK_kappa_B[emimTf2N,R125]                                  0.908626   \n",
      "fs.properties.SRK_kappa_B[R125,emimTf2N]                                  0.107325   \n",
      "fs.properties.SRK_kappa_C[emimTf2N,R125]                                 -0.427983   \n",
      "fs.properties.SRK_kappa_C[R125,emimTf2N]                                 -0.050221   \n",
      "\n",
      "                                          fs.properties.SRK_kappa_C[emimTf2N,R125]  \\\n",
      "fs.properties.SRK_kappa_A[emimTf2N,R125]                                  7.329996   \n",
      "fs.properties.SRK_kappa_A[R125,emimTf2N]                                  0.213282   \n",
      "fs.properties.SRK_kappa_B[emimTf2N,R125]                                -14.665682   \n",
      "fs.properties.SRK_kappa_B[R125,emimTf2N]                                 -0.427983   \n",
      "fs.properties.SRK_kappa_C[emimTf2N,R125]                                  7.319696   \n",
      "fs.properties.SRK_kappa_C[R125,emimTf2N]                                  0.214034   \n",
      "\n",
      "                                          fs.properties.SRK_kappa_C[R125,emimTf2N]  \n",
      "fs.properties.SRK_kappa_A[emimTf2N,R125]                                  0.237055  \n",
      "fs.properties.SRK_kappa_A[R125,emimTf2N]                                  0.026617  \n",
      "fs.properties.SRK_kappa_B[emimTf2N,R125]                                 -0.451861  \n",
      "fs.properties.SRK_kappa_B[R125,emimTf2N]                                 -0.050221  \n",
      "fs.properties.SRK_kappa_C[emimTf2N,R125]                                  0.214034  \n",
      "fs.properties.SRK_kappa_C[R125,emimTf2N]                                  0.023554  \n"
     ]
    },
    {
     "name": "stderr",
     "output_type": "stream",
     "text": [
      "/Users/bridgettebefort/opt/anaconda3/envs/idaes-pse-dev/lib/python3.9/site-packages/pyomo/contrib/interior_point/interface.py:418: RuntimeWarning: divide by zero encountered in true_divide\n",
      "  data = (duals_primals_lb/(primals - self._nlp.primals_lb()) +\n"
     ]
    }
   ],
   "source": [
    "parameters, obj_value, a = cuadratic(data_subset, configuration, 'R125', 'emimTf2N', \"x_R125\", \"x_emimTf2N\", \n",
    "    init_temp =  283.1, init_press =   399300 , init_x_c1 =    0.448, init_x_c2 = 0.552,\n",
    "    init_kappa_2_1A = -0.001, init_kappa_1_2A = -0.001,\n",
    "    init_kappa_2_1B = -0.001, init_kappa_1_2B = -0.001,\n",
    "    init_kappa_2_1C = -0.001, init_kappa_1_2C = -0.001, \n",
    "    eps = 0.1, scaling_fac = 1e-7)"
   ]
  },
  {
   "cell_type": "code",
   "execution_count": 6,
   "id": "basic-preserve",
   "metadata": {},
   "outputs": [
    {
     "name": "stdout",
     "output_type": "stream",
     "text": [
      "Objective (SSE): 11.299368734301622\n"
     ]
    }
   ],
   "source": [
    "print('Objective (SSE):',obj_value)"
   ]
  },
  {
   "cell_type": "code",
   "execution_count": 7,
   "id": "governmental-nudist",
   "metadata": {},
   "outputs": [
    {
     "name": "stdout",
     "output_type": "stream",
     "text": [
      "Covariance Matrix:\n",
      "[[ 7.39953923e+00  2.41251181e-01 -1.47469646e+01 -4.79067974e-01\n",
      "   7.32999644e+00  2.37054910e-01]\n",
      " [ 2.41251181e-01  3.03379197e-02 -4.55320629e-01 -5.70029495e-02\n",
      "   2.13282147e-01  2.66168994e-02]\n",
      " [-1.47469646e+01 -4.55320629e-01  2.94462474e+01  9.08625766e-01\n",
      "  -1.46656822e+01 -4.51861114e-01]\n",
      " [-4.79067974e-01 -5.70029495e-02  9.08625766e-01  1.07324711e-01\n",
      "  -4.27982745e-01 -5.02212096e-02]\n",
      " [ 7.32999644e+00  2.13282147e-01 -1.46656822e+01 -4.27982745e-01\n",
      "   7.31969628e+00  2.14034074e-01]\n",
      " [ 2.37054910e-01  2.66168994e-02 -4.51861114e-01 -5.02212096e-02\n",
      "   2.14034074e-01  2.35536948e-02]]\n"
     ]
    }
   ],
   "source": [
    "cov = np.array(a)\n",
    "print('Covariance Matrix:')\n",
    "print(cov)"
   ]
  },
  {
   "cell_type": "code",
   "execution_count": 8,
   "id": "f3e17afb",
   "metadata": {},
   "outputs": [],
   "source": [
    "np.savetxt('Data/Covariance/SRK_Cov_6parameter.csv',cov,delimiter=',')"
   ]
  },
  {
   "cell_type": "markdown",
   "id": "aging-authentication",
   "metadata": {},
   "source": [
    "## Apply Parameters + Plot"
   ]
  },
  {
   "cell_type": "code",
   "execution_count": 9,
   "id": "endangered-gibraltar",
   "metadata": {},
   "outputs": [],
   "source": [
    "solver = SolverFactory('ipopt')\n",
    "solver.options = {'tol': 1e-6}"
   ]
  },
  {
   "cell_type": "code",
   "execution_count": 10,
   "id": "royal-switch",
   "metadata": {},
   "outputs": [
    {
     "name": "stdout",
     "output_type": "stream",
     "text": [
      "0.992\n",
      "0.915\n",
      "0.832\n",
      "0.75\n",
      "0.669\n",
      "0.587\n",
      "0.504\n",
      "0.417\n",
      "0.319\n",
      "0.994\n",
      "0.945\n",
      "0.891\n",
      "0.839\n",
      "0.787\n",
      "0.733\n",
      "0.683\n",
      "0.578\n",
      "0.479\n",
      "0.996\n",
      "0.97\n",
      "0.941\n",
      "0.912\n",
      "0.883\n",
      "0.848\n",
      "0.824\n",
      "0.772\n",
      "0.715\n",
      "WARNING: Loading a SolverResults object with a warning status into\n",
      "    model.name=\"unknown\";\n",
      "      - termination condition: infeasible\n",
      "      - message from solver: Ipopt 3.13.2\\x3a Converged to a locally\n",
      "        infeasible point. Problem may be infeasible.\n",
      "Infeasible.\n",
      "WARNING: Loading a SolverResults object with a warning status into\n",
      "    model.name=\"unknown\";\n",
      "      - termination condition: infeasible\n",
      "      - message from solver: Ipopt 3.13.2\\x3a Converged to a locally\n",
      "        infeasible point. Problem may be infeasible.\n",
      "Infeasible.\n",
      "0.966\n",
      "0.95\n",
      "0.926\n",
      "0.903\n",
      "0.895\n",
      "0.86\n",
      "0.829\n"
     ]
    }
   ],
   "source": [
    "m = ConcreteModel()\n",
    "\n",
    "m.fs = FlowsheetBlock(default={\"dynamic\": False})\n",
    "\n",
    "m.fs.properties = GenericParameterBlock(default=configuration)\n",
    "\n",
    "m.fs.F101 = Flash(default={\"property_package\": m.fs.properties,\n",
    "                           \"has_heat_transfer\": True,\n",
    "                           \"has_pressure_change\": True})\n",
    "\n",
    "m.fs.F101.inlet.flow_mol.fix(1)\n",
    "m.fs.F101.inlet.temperature.fix(323.15)\n",
    "m.fs.F101.inlet.pressure.fix(399800)\n",
    "m.fs.F101.inlet.mole_frac_comp[0,'R125'].fix(0.5)\n",
    "\n",
    "m.fs.properties.SRK_kappa_A['R125','emimTf2N'] = parameters['fs.properties.SRK_kappa_A[R125,emimTf2N]']\n",
    "m.fs.properties.SRK_kappa_A['emimTf2N','R125'] = parameters['fs.properties.SRK_kappa_A[emimTf2N,R125]']\n",
    "m.fs.properties.SRK_kappa_B['R125','emimTf2N'] = parameters['fs.properties.SRK_kappa_B[R125,emimTf2N]']\n",
    "m.fs.properties.SRK_kappa_B['emimTf2N','R125'] = parameters['fs.properties.SRK_kappa_B[emimTf2N,R125]']\n",
    "m.fs.properties.SRK_kappa_C['R125','emimTf2N'] = parameters['fs.properties.SRK_kappa_C[R125,emimTf2N]']\n",
    "m.fs.properties.SRK_kappa_C['emimTf2N','R125'] = parameters['fs.properties.SRK_kappa_C[emimTf2N,R125]']\n",
    "\n",
    "# Initialize the flash unit\n",
    "m.fs.F101.initialize(outlvl=idaeslog.CRITICAL)\n",
    "\n",
    "# Fix the state variables on the state block\n",
    "# m.fs.F101.inlet.pressure.unfix()\n",
    "m.fs.F101.inlet.mole_frac_comp[0,'emimTf2N'].unfix()\n",
    "\n",
    "R125_x = np.zeros((len(data_full)))\n",
    "P = np.zeros((len(data_full)))\n",
    "\n",
    "m.fs.liq = Param(mutable=True,default=0.040)\n",
    "m.fs.liquid = Constraint(expr=m.fs.F101.liq_outlet.mole_frac_comp[0, \"emimTf2N\"] == m.fs.liq)\n",
    "\n",
    "for i in range(len(data_full)):\n",
    "    m.fs.liq = data_full[\"x_emimTf2N\"].iloc[i]\n",
    "    m.fs.F101.inlet.temperature.fix(float(data_full[\"temperature\"].iloc[i]))\n",
    "    m.fs.F101.inlet.pressure.fix(float(data_full[\"pressure\"].iloc[i]))\n",
    "    m.fs.F101.inlet.mole_frac_comp[0,'R125'].fix(float(data_full[\"x_R125\"].iloc[i])+0.1)\n",
    "    m.fs.F101.inlet.mole_frac_comp[0,'emimTf2N'].fix(float(1-(data_full[\"x_R125\"].iloc[i]+0.1)))\n",
    "    m.fs.F101.vap_outlet.temperature.fix(float(data_full[\"temperature\"].iloc[i]))\n",
    "    \n",
    "#     DOF_final = degrees_of_freedom(m)\n",
    "#     print(\"The final DOF is {0}\".format(DOF_final))\n",
    "    m.fs.F101.initialize(outlvl=idaeslog.CRITICAL)\n",
    "    \n",
    "    status = solver.solve(m, tee = False)\n",
    "\n",
    "#     m.fs.F101.report()\n",
    "    if (status.solver.status == SolverStatus.ok) and (status.solver.termination_condition == TerminationCondition.optimal):\n",
    "        print(data_full[\"x_emimTf2N\"].iloc[i])\n",
    "        R125_x[i] = value(m.fs.F101.liq_outlet.mole_frac_comp[0,'R125']) \n",
    "        P[i] = value(m.fs.F101.vap_outlet.pressure[0])\n",
    "\n",
    "    else:\n",
    "        print('Infeasible.')"
   ]
  },
  {
   "cell_type": "code",
   "execution_count": 11,
   "id": "337a753d",
   "metadata": {},
   "outputs": [],
   "source": [
    "fitted_data = pd.DataFrame(data=[R125_x,P/1e6])\n",
    "fitted_data = fitted_data.T\n",
    "fitted_data.columns = ['R125_x','P, MPa']\n",
    "fitted_data.to_csv('Data/Fits/SRK_FittedData_6parameter.csv')"
   ]
  },
  {
   "cell_type": "code",
   "execution_count": 12,
   "id": "religious-joining",
   "metadata": {},
   "outputs": [
    {
     "data": {
      "image/png": "[encoded data removed]",
      "text/plain": [
       "<Figure size 432x288 with 1 Axes>"
      ]
     },
     "metadata": {
      "needs_background": "light"
     },
     "output_type": "display_data"
    }
   ],
   "source": [
    "P1= np.zeros((len(P)))\n",
    "\n",
    "for i in range(len(P)):\n",
    "    P1[i] = P[i]/1e6\n",
    "\n",
    "fig, ax = plt.subplots()\n",
    "\n",
    "ax.plot(R125_x[0:9],P1[0:9],\"b*-\",label=\"T= 283 K\")  \n",
    "ax.plot(R125_x[9:18],P1[9:18],\"r*-\",label=\"T= 298 K\") \n",
    "ax.plot(R125_x[18:27],P1[18:27],\"c*-\",label=\"T= 323 K\") \n",
    "ax.plot(R125_x[27:],P1[27:],\"m-*\",label=\"T= 348 K\")\n",
    "ax.plot(data_full[\"x_R125\"],data_full[\"pressure\"]/1e6,\"*\",color='orange',label=\"data\")  \n",
    "\n",
    "# plt.title('Isotherm R32-[emim][TF2N]')\n",
    "ax.set_ylabel('Pressure, MPa',fontsize=24)\n",
    "ax.set_xlabel('HFC-125 Mole Fraction',fontsize=24)\n",
    "\n",
    "ax.set_xticks([0.0, 0.2, 0.4, 0.6, 0.8, 1.0])\n",
    "ax.set_xticks([0.1, 0.3, 0.5, 0.7, 0.9],minor=True)\n",
    "ax.set_yticks([0.0, 0.2, 0.4, 0.6, 0.8, 1.0, 1.2])\n",
    "ax.set_yticks([0.1, 0.3, 0.5, 0.7, 0.9, 1.1],minor=True)\n",
    "\n",
    "ax.tick_params(\"both\", direction=\"in\", which=\"both\", length=4, labelsize=20, pad=10)\n",
    "ax.tick_params(\"both\", which=\"major\", length=8)\n",
    "ax.xaxis.set_ticks_position(\"both\")\n",
    "ax.yaxis.set_ticks_position(\"both\")\n",
    "\n",
    "ax.legend(fontsize=12, handletextpad=0.00, loc=\"lower right\")#, bbox_to_anchor=(1, 0.5))\n",
    "# fig.savefig('R32-emimTF2N-quadTdep.pdf',bbox_inches='tight')\n",
    "plt.show()"
   ]
  },
  {
   "cell_type": "markdown",
   "id": "graduate-addiction",
   "metadata": {},
   "source": [
    "### Print Eigvals, Eigvectors\n",
    "\n",
    "An identifiability analysis can be performed with these as well as a FIM because the covariance matrix is the inverse of the FIM. That means that if there are any eigvals > 0, their eigvecs indicate directions of un-identifiability."
   ]
  },
  {
   "cell_type": "code",
   "execution_count": 13,
   "id": "convinced-terrain",
   "metadata": {},
   "outputs": [],
   "source": [
    "eigvals, eigvecs = np.linalg.eig(cov)"
   ]
  },
  {
   "cell_type": "code",
   "execution_count": 14,
   "id": "standing-startup",
   "metadata": {},
   "outputs": [
    {
     "data": {
      "text/plain": [
       "array([4.41780377e+01, 1.35745024e-01, 1.28458856e-02, 6.13645996e-05,\n",
       "       9.17428009e-06, 5.86790643e-08])"
      ]
     },
     "execution_count": 14,
     "metadata": {},
     "output_type": "execute_result"
    }
   ],
   "source": [
    "eigvals"
   ]
  },
  {
   "cell_type": "code",
   "execution_count": 15,
   "id": "minor-relay",
   "metadata": {},
   "outputs": [
    {
     "data": {
      "text/plain": [
       "array([[ 0.40888445,  0.24619866,  0.64403269, -0.40588308,  0.43696006,\n",
       "        -0.04179055],\n",
       "       [ 0.01265908,  0.41142118, -0.14262441, -0.53629741, -0.47988787,\n",
       "         0.54066936],\n",
       "       [-0.81641534,  0.02157985, -0.02483389, -0.40447758,  0.40864031,\n",
       "        -0.04236232],\n",
       "       [-0.02525645, -0.75794867,  0.30050813, -0.07647316, -0.00843453,\n",
       "         0.57328135],\n",
       "       [ 0.40660013, -0.27482393, -0.66944767, -0.40630056,  0.37953546,\n",
       "        -0.04313513],\n",
       "       [ 0.01255741,  0.34588837, -0.16061794,  0.46164231,  0.51736673,\n",
       "         0.61124748]])"
      ]
     },
     "execution_count": 15,
     "metadata": {},
     "output_type": "execute_result"
    }
   ],
   "source": [
    "eigvecs"
   ]
  },
  {
   "cell_type": "code",
   "execution_count": 16,
   "id": "e7717281",
   "metadata": {},
   "outputs": [],
   "source": [
    "np.savetxt('Data/EigenAnalysis/SRK_vals_6parameter.csv',eigvals,delimiter=',')\n",
    "np.savetxt('Data/EigenAnalysis/SRK_vecs_6parameter.csv',eigvecs,delimiter=',')"
   ]
  },
  {
   "cell_type": "markdown",
   "id": "national-effects",
   "metadata": {},
   "source": [
    "Conclusion: Fully identifiable because all eigvals ~ 0"
   ]
  },
  {
   "cell_type": "markdown",
   "id": "infrared-queensland",
   "metadata": {},
   "source": [
    "## FIM with Enthalpy of Vaporization (and Pressure)"
   ]
  },
  {
   "cell_type": "markdown",
   "id": "improving-peter",
   "metadata": {},
   "source": [
    "### Step 1: Perturb Parameters, Calculate Enthalpy of Vaporization\n",
    "\n",
    "1. Perturb Parameters: stepsize = 0.001\n",
    "\n",
    "2. Holding all other parameters constant, calculate new pressure predictions at different temps, compositions \n",
    "\n",
    "*T = (T1=298, T2=323)\n",
    "\n",
    "*x = (0.01,0.2,0.325,0.4)\n",
    "\n",
    "*Pguess comes from data_full\n",
    "\n",
    "3. Save P, Use Clausius Clapeyron to calculate enthvap"
   ]
  },
  {
   "cell_type": "code",
   "execution_count": null,
   "id": "still-uncertainty",
   "metadata": {},
   "outputs": [],
   "source": [
    "h = 0.001\n",
    "kR32_emimTF2N_A_plus = parameters['fs.properties.PR_kappa_A[R32,emimTf2N]'] + h\n",
    "kR32_emimTF2N_A_minus = parameters['fs.properties.PR_kappa_A[R32,emimTf2N]'] - h\n",
    "kemimTF2N_R32_A_plus = parameters['fs.properties.PR_kappa_A[emimTf2N,R32]'] + h\n",
    "kemimTF2N_R32_A_minus = parameters['fs.properties.PR_kappa_A[emimTf2N,R32]'] - h\n",
    "kR32_emimTF2N_B_plus = parameters['fs.properties.PR_kappa_B[R32,emimTf2N]'] + h\n",
    "kR32_emimTF2N_B_minus = parameters['fs.properties.PR_kappa_B[R32,emimTf2N]'] - h\n",
    "kemimTF2N_R32_B_plus = parameters['fs.properties.PR_kappa_B[emimTf2N,R32]'] + h\n",
    "kemimTF2N_R32_B_minus = parameters['fs.properties.PR_kappa_B[emimTf2N,R32]'] - h\n",
    "kR32_emimTF2N_C_plus = parameters['fs.properties.PR_kappa_C[R32,emimTf2N]'] + h\n",
    "kR32_emimTF2N_C_minus = parameters['fs.properties.PR_kappa_C[R32,emimTf2N]'] - h\n",
    "kemimTF2N_R32_C_plus = parameters['fs.properties.PR_kappa_C[emimTf2N,R32]'] + h\n",
    "kemimTF2N_R32_C_minus = parameters['fs.properties.PR_kappa_C[emimTf2N,R32]'] - h"
   ]
  },
  {
   "cell_type": "code",
   "execution_count": null,
   "id": "turkish-dominant",
   "metadata": {},
   "outputs": [],
   "source": [
    "data = np.array([[kR32_emimTF2N_A_plus,parameters['fs.properties.PR_kappa_A[emimTf2N,R32]'],parameters['fs.properties.PR_kappa_B[R32,emimTf2N]'],parameters['fs.properties.PR_kappa_B[emimTf2N,R32]'],parameters['fs.properties.PR_kappa_C[R32,emimTf2N]'],parameters['fs.properties.PR_kappa_C[emimTf2N,R32]']],\n",
    "                [kR32_emimTF2N_A_minus,parameters['fs.properties.PR_kappa_A[emimTf2N,R32]'],parameters['fs.properties.PR_kappa_B[R32,emimTf2N]'],parameters['fs.properties.PR_kappa_B[emimTf2N,R32]'],parameters['fs.properties.PR_kappa_C[R32,emimTf2N]'],parameters['fs.properties.PR_kappa_C[emimTf2N,R32]']],\n",
    "                 \n",
    "                [parameters['fs.properties.PR_kappa_A[R32,emimTf2N]'],kemimTF2N_R32_A_plus,parameters['fs.properties.PR_kappa_B[R32,emimTf2N]'],parameters['fs.properties.PR_kappa_B[emimTf2N,R32]'],parameters['fs.properties.PR_kappa_C[R32,emimTf2N]'],parameters['fs.properties.PR_kappa_C[emimTf2N,R32]']],\n",
    "               [parameters['fs.properties.PR_kappa_A[R32,emimTf2N]'],kemimTF2N_R32_A_minus,parameters['fs.properties.PR_kappa_B[R32,emimTf2N]'],parameters['fs.properties.PR_kappa_B[emimTf2N,R32]'],parameters['fs.properties.PR_kappa_C[R32,emimTf2N]'],parameters['fs.properties.PR_kappa_C[emimTf2N,R32]']],\n",
    "                 \n",
    "                [parameters['fs.properties.PR_kappa_A[R32,emimTf2N]'],parameters['fs.properties.PR_kappa_A[emimTf2N,R32]'],kR32_emimTF2N_B_plus,parameters['fs.properties.PR_kappa_B[emimTf2N,R32]'],parameters['fs.properties.PR_kappa_C[R32,emimTf2N]'],parameters['fs.properties.PR_kappa_C[emimTf2N,R32]']],\n",
    "                 [parameters['fs.properties.PR_kappa_A[R32,emimTf2N]'],parameters['fs.properties.PR_kappa_A[emimTf2N,R32]'],kR32_emimTF2N_B_minus,parameters['fs.properties.PR_kappa_B[emimTf2N,R32]'],parameters['fs.properties.PR_kappa_C[R32,emimTf2N]'],parameters['fs.properties.PR_kappa_C[emimTf2N,R32]']],\n",
    "                 \n",
    "                 [parameters['fs.properties.PR_kappa_A[R32,emimTf2N]'],parameters['fs.properties.PR_kappa_A[emimTf2N,R32]'],parameters['fs.properties.PR_kappa_B[R32,emimTf2N]'],kemimTF2N_R32_B_plus,parameters['fs.properties.PR_kappa_C[R32,emimTf2N]'],parameters['fs.properties.PR_kappa_C[emimTf2N,R32]']],\n",
    "                 [parameters['fs.properties.PR_kappa_A[R32,emimTf2N]'],parameters['fs.properties.PR_kappa_A[emimTf2N,R32]'],parameters['fs.properties.PR_kappa_B[R32,emimTf2N]'],kemimTF2N_R32_B_minus,parameters['fs.properties.PR_kappa_C[R32,emimTf2N]'],parameters['fs.properties.PR_kappa_C[emimTf2N,R32]']],\n",
    "                 \n",
    "                [parameters['fs.properties.PR_kappa_A[R32,emimTf2N]'],parameters['fs.properties.PR_kappa_A[emimTf2N,R32]'],parameters['fs.properties.PR_kappa_B[R32,emimTf2N]'],parameters['fs.properties.PR_kappa_B[emimTf2N,R32]'],kR32_emimTF2N_C_plus,parameters['fs.properties.PR_kappa_C[emimTf2N,R32]']],\n",
    "                [parameters['fs.properties.PR_kappa_A[R32,emimTf2N]'],parameters['fs.properties.PR_kappa_A[emimTf2N,R32]'],parameters['fs.properties.PR_kappa_B[R32,emimTf2N]'],parameters['fs.properties.PR_kappa_B[emimTf2N,R32]'],kR32_emimTF2N_C_minus,parameters['fs.properties.PR_kappa_C[emimTf2N,R32]']],\n",
    "                 \n",
    "               [parameters['fs.properties.PR_kappa_A[R32,emimTf2N]'],parameters['fs.properties.PR_kappa_A[emimTf2N,R32]'],parameters['fs.properties.PR_kappa_B[R32,emimTf2N]'],parameters['fs.properties.PR_kappa_B[emimTf2N,R32]'],parameters['fs.properties.PR_kappa_C[R32,emimTf2N]'],kemimTF2N_R32_C_plus],\n",
    "               [parameters['fs.properties.PR_kappa_A[R32,emimTf2N]'],parameters['fs.properties.PR_kappa_A[emimTf2N,R32]'],parameters['fs.properties.PR_kappa_B[R32,emimTf2N]'],parameters['fs.properties.PR_kappa_B[emimTf2N,R32]'],parameters['fs.properties.PR_kappa_C[R32,emimTf2N]'],kemimTF2N_R32_C_minus]])"
   ]
  },
  {
   "cell_type": "code",
   "execution_count": null,
   "id": "stable-addition",
   "metadata": {},
   "outputs": [],
   "source": [
    "perturbed_params = pd.DataFrame(data=data,columns=['kR32_emimTF2N_A','kemimTF2N_R32_A','kR32_emimTF2N_B','kemimTF2N_R32_B','kR32_emimTF2N_C','kemimTF2N_R32_C'])\n",
    "perturbed_params"
   ]
  },
  {
   "cell_type": "code",
   "execution_count": null,
   "id": "active-engine",
   "metadata": {},
   "outputs": [],
   "source": [
    "x = [0.01,0.2,0.325,0.4]\n",
    "temps_298 = [298.15,298.15,298.15,298.15]\n",
    "pguess_298 = [9600,250000,399400,549000]\n",
    "temps_323 = [323.15,323.15,323.15,323.15]\n",
    "pguess_323 = [20400,400100,700300,1000000]"
   ]
  },
  {
   "cell_type": "code",
   "execution_count": null,
   "id": "tested-romantic",
   "metadata": {},
   "outputs": [],
   "source": [
    "test_298 = pd.DataFrame()\n",
    "test_298['temperature'] = temps_298\n",
    "test_298['pressure'] = pguess_298\n",
    "test_298['x_R32'] = x\n",
    "test_298['x_emimTf2N'] = 1-test_298['x_R32']\n",
    "# test_298"
   ]
  },
  {
   "cell_type": "code",
   "execution_count": null,
   "id": "protected-genetics",
   "metadata": {},
   "outputs": [],
   "source": [
    "test_323 = pd.DataFrame()\n",
    "test_323['temperature'] = temps_323\n",
    "test_323['pressure'] = pguess_323\n",
    "test_323['x_R32'] = x\n",
    "test_323['x_emimTf2N'] = 1-test_323['x_R32']\n",
    "# test_323"
   ]
  },
  {
   "cell_type": "code",
   "execution_count": null,
   "id": "patent-player",
   "metadata": {},
   "outputs": [],
   "source": [
    "test_data = pd.concat([test_298,test_323],ignore_index=True)"
   ]
  },
  {
   "cell_type": "code",
   "execution_count": null,
   "id": "genuine-cleaner",
   "metadata": {},
   "outputs": [],
   "source": [
    "# Loop through test values\n",
    "\n",
    "R32_x = np.zeros((len(perturbed_params),len(test_data)))\n",
    "P = np.zeros((len(perturbed_params),len(test_data)))\n",
    "\n",
    "for j in range(len(perturbed_params)):\n",
    "\n",
    "    m = ConcreteModel()\n",
    "\n",
    "    m.fs = FlowsheetBlock(default={\"dynamic\": False})\n",
    "\n",
    "    m.fs.properties = GenericParameterBlock(default=configuration)\n",
    "\n",
    "    m.fs.F101 = Flash(default={\"property_package\": m.fs.properties,\n",
    "                               \"has_heat_transfer\": True,\n",
    "                               \"has_pressure_change\": True})\n",
    "\n",
    "    m.fs.F101.inlet.flow_mol.fix(1)\n",
    "    m.fs.F101.inlet.temperature.fix(323.15)\n",
    "    m.fs.F101.inlet.pressure.fix(399800)\n",
    "    m.fs.F101.inlet.mole_frac_comp[0,'R32'].fix(0.5)\n",
    "    \n",
    "    m.fs.properties.PR_kappa_A['R32','emimTf2N'] = perturbed_params['kR32_emimTF2N_A'][j]\n",
    "    m.fs.properties.PR_kappa_A['emimTf2N','R32'] = perturbed_params['kemimTF2N_R32_A'][j]\n",
    "    m.fs.properties.PR_kappa_B['R32','emimTf2N'] = perturbed_params['kR32_emimTF2N_B'][j]\n",
    "    m.fs.properties.PR_kappa_B['emimTf2N','R32'] = perturbed_params['kemimTF2N_R32_B'][j]\n",
    "    m.fs.properties.PR_kappa_C['R32','emimTf2N'] = perturbed_params['kR32_emimTF2N_C'][j]\n",
    "    m.fs.properties.PR_kappa_C['emimTf2N','R32'] = perturbed_params['kemimTF2N_R32_C'][j]\n",
    "    \n",
    "\n",
    "    # Initialize the flash unit\n",
    "    m.fs.F101.initialize(outlvl=idaeslog.CRITICAL)\n",
    "\n",
    "    # Fix the state variables on the state block\n",
    "    # m.fs.F101.inlet.pressure.unfix()\n",
    "    m.fs.F101.inlet.mole_frac_comp[0,'emimTf2N'].unfix()\n",
    "\n",
    "    m.fs.liq = Param(mutable=True,default=0.040)\n",
    "    m.fs.liquid = Constraint(expr=m.fs.F101.liq_outlet.mole_frac_comp[0, \"emimTf2N\"] == m.fs.liq)\n",
    "\n",
    "    for i in range(len(test_data)):\n",
    "        m.fs.liq = test_data[\"x_emimTf2N\"].iloc[i]\n",
    "        m.fs.F101.inlet.temperature.fix(float(test_data[\"temperature\"].iloc[i]))\n",
    "        m.fs.F101.inlet.pressure.fix(float(test_data[\"pressure\"].iloc[i]))\n",
    "        m.fs.F101.inlet.mole_frac_comp[0,'R32'].fix(float(test_data[\"x_R32\"].iloc[i])+0.1)\n",
    "        m.fs.F101.inlet.mole_frac_comp[0,'emimTf2N'].fix(float(1-(test_data[\"x_R32\"].iloc[i]+0.1)))\n",
    "        m.fs.F101.vap_outlet.temperature.fix(float(test_data[\"temperature\"].iloc[i]))\n",
    "\n",
    "    #     DOF_final = degrees_of_freedom(m)\n",
    "    #     print(\"The final DOF is {0}\".format(DOF_final))\n",
    "        m.fs.F101.initialize(outlvl=idaeslog.CRITICAL)\n",
    "\n",
    "        status = solver.solve(m, tee = False)\n",
    "\n",
    "    #     m.fs.F101.report()\n",
    "        if (status.solver.status == SolverStatus.ok) and (status.solver.termination_condition == TerminationCondition.optimal):\n",
    "            print(test_data[\"x_emimTf2N\"].iloc[i])\n",
    "            R32_x[j,i] = value(m.fs.F101.liq_outlet.mole_frac_comp[0,'R32'])\n",
    "            P[j,i] = value(m.fs.F101.vap_outlet.pressure[0])\n",
    "\n",
    "        else:\n",
    "            print('Infeasible.')"
   ]
  },
  {
   "cell_type": "code",
   "execution_count": null,
   "id": "collective-diamond",
   "metadata": {},
   "outputs": [],
   "source": [
    "test_data['P_kR32_emimTF2N_A_plus'] = P[0]\n",
    "test_data['P_kR32_emimTF2N_A_minus'] = P[1]\n",
    "test_data['P_kemimTF2N_R32_A_plus'] = P[2]\n",
    "test_data['P_kemimTF2N_R32_A_minus'] = P[3]\n",
    "test_data['P_kR32_emimTF2N_B_plus'] = P[4]\n",
    "test_data['P_kR32_emimTF2N_B_minus'] = P[5]\n",
    "test_data['P_kemimTF2N_R32_B_plus'] = P[6]\n",
    "test_data['P_kemimTF2N_R32_B_minus'] = P[7]\n",
    "test_data['P_kR32_emimTF2N_C_plus'] = P[8]\n",
    "test_data['P_kR32_emimTF2N_C_minus'] = P[9]\n",
    "test_data['P_kemimTF2N_R32_C_plus'] = P[10]\n",
    "test_data['P_kemimTF2N_R32_C_minus'] = P[11]"
   ]
  },
  {
   "cell_type": "code",
   "execution_count": null,
   "id": "engaged-cleaners",
   "metadata": {},
   "outputs": [],
   "source": [
    "grad_P = test_data"
   ]
  },
  {
   "cell_type": "code",
   "execution_count": null,
   "id": "painful-luxembourg",
   "metadata": {},
   "outputs": [],
   "source": [
    "test_data_298 = test_data[test_data['temperature']==298.15]\n",
    "test_data_323 = test_data[test_data['temperature']==323.15].reset_index()"
   ]
  },
  {
   "cell_type": "code",
   "execution_count": null,
   "id": "bronze-bullet",
   "metadata": {},
   "outputs": [],
   "source": [
    "R = 8.314 #J/mol-K\n",
    "hvap_calc_kR32_emimTF2N_A_plus = []\n",
    "for i in range(len(x)):\n",
    "    T2 = test_data_323['temperature'][i]\n",
    "    T1 = test_data_298['temperature'][i]\n",
    "    P2 = test_data_323['P_kR32_emimTF2N_A_plus'][i]\n",
    "    P1 = test_data_298['P_kR32_emimTF2N_A_plus'][i]\n",
    "    hvap_calc_kR32_emimTF2N_A_plus.append(np.log(P2/P1)*R/(1/T2-1/T1))\n",
    "\n",
    "hvap_calc_kR32_emimTF2N_A_minus = []\n",
    "for i in range(len(x)):\n",
    "    T2 = test_data_323['temperature'][i]\n",
    "    T1 = test_data_298['temperature'][i]\n",
    "    P2 = test_data_323['P_kR32_emimTF2N_A_minus'][i]\n",
    "    P1 = test_data_298['P_kR32_emimTF2N_A_minus'][i]\n",
    "    hvap_calc_kR32_emimTF2N_A_minus.append(np.log(P2/P1)*R/(1/T2-1/T1))\n",
    "    \n",
    "hvap_calc_kemimTF2N_R32_A_plus = []\n",
    "for i in range(len(x)):\n",
    "    T2 = test_data_323['temperature'][i]\n",
    "    T1 = test_data_298['temperature'][i]\n",
    "    P2 = test_data_323['P_kemimTF2N_R32_A_plus'][i]\n",
    "    P1 = test_data_298['P_kemimTF2N_R32_A_plus'][i]\n",
    "    hvap_calc_kemimTF2N_R32_A_plus.append(np.log(P2/P1)*R/(1/T2-1/T1))\n",
    "    \n",
    "hvap_calc_kemimTF2N_R32_A_minus = []\n",
    "for i in range(len(x)):\n",
    "    T2 = test_data_323['temperature'][i]\n",
    "    T1 = test_data_298['temperature'][i]\n",
    "    P2 = test_data_323['P_kemimTF2N_R32_A_minus'][i]\n",
    "    P1 = test_data_298['P_kemimTF2N_R32_A_minus'][i]\n",
    "    hvap_calc_kemimTF2N_R32_A_minus.append(np.log(P2/P1)*R/(1/T2-1/T1))\n",
    "    \n",
    "hvap_calc_kR32_emimTF2N_B_plus = []\n",
    "for i in range(len(x)):\n",
    "    T2 = test_data_323['temperature'][i]\n",
    "    T1 = test_data_298['temperature'][i]\n",
    "    P2 = test_data_323['P_kR32_emimTF2N_B_plus'][i]\n",
    "    P1 = test_data_298['P_kR32_emimTF2N_B_plus'][i]\n",
    "    hvap_calc_kR32_emimTF2N_B_plus.append(np.log(P2/P1)*R/(1/T2-1/T1))\n",
    "\n",
    "hvap_calc_kR32_emimTF2N_B_minus = []\n",
    "for i in range(len(x)):\n",
    "    T2 = test_data_323['temperature'][i]\n",
    "    T1 = test_data_298['temperature'][i]\n",
    "    P2 = test_data_323['P_kR32_emimTF2N_B_minus'][i]\n",
    "    P1 = test_data_298['P_kR32_emimTF2N_B_minus'][i]\n",
    "    hvap_calc_kR32_emimTF2N_B_minus.append(np.log(P2/P1)*R/(1/T2-1/T1))\n",
    "    \n",
    "hvap_calc_kemimTF2N_R32_B_plus = []\n",
    "for i in range(len(x)):\n",
    "    T2 = test_data_323['temperature'][i]\n",
    "    T1 = test_data_298['temperature'][i]\n",
    "    P2 = test_data_323['P_kemimTF2N_R32_B_plus'][i]\n",
    "    P1 = test_data_298['P_kemimTF2N_R32_B_plus'][i]\n",
    "    hvap_calc_kemimTF2N_R32_B_plus.append(np.log(P2/P1)*R/(1/T2-1/T1))\n",
    "    \n",
    "hvap_calc_kemimTF2N_R32_B_minus = []\n",
    "for i in range(len(x)):\n",
    "    T2 = test_data_323['temperature'][i]\n",
    "    T1 = test_data_298['temperature'][i]\n",
    "    P2 = test_data_323['P_kemimTF2N_R32_B_minus'][i]\n",
    "    P1 = test_data_298['P_kemimTF2N_R32_B_minus'][i]\n",
    "    hvap_calc_kemimTF2N_R32_B_minus.append(np.log(P2/P1)*R/(1/T2-1/T1))\n",
    "    \n",
    "hvap_calc_kR32_emimTF2N_C_plus = []\n",
    "for i in range(len(x)):\n",
    "    T2 = test_data_323['temperature'][i]\n",
    "    T1 = test_data_298['temperature'][i]\n",
    "    P2 = test_data_323['P_kR32_emimTF2N_C_plus'][i]\n",
    "    P1 = test_data_298['P_kR32_emimTF2N_C_plus'][i]\n",
    "    hvap_calc_kR32_emimTF2N_C_plus.append(np.log(P2/P1)*R/(1/T2-1/T1))\n",
    "\n",
    "hvap_calc_kR32_emimTF2N_C_minus = []\n",
    "for i in range(len(x)):\n",
    "    T2 = test_data_323['temperature'][i]\n",
    "    T1 = test_data_298['temperature'][i]\n",
    "    P2 = test_data_323['P_kR32_emimTF2N_C_minus'][i]\n",
    "    P1 = test_data_298['P_kR32_emimTF2N_C_minus'][i]\n",
    "    hvap_calc_kR32_emimTF2N_C_minus.append(np.log(P2/P1)*R/(1/T2-1/T1))\n",
    "    \n",
    "hvap_calc_kemimTF2N_R32_C_plus = []\n",
    "for i in range(len(x)):\n",
    "    T2 = test_data_323['temperature'][i]\n",
    "    T1 = test_data_298['temperature'][i]\n",
    "    P2 = test_data_323['P_kemimTF2N_R32_C_plus'][i]\n",
    "    P1 = test_data_298['P_kemimTF2N_R32_C_plus'][i]\n",
    "    hvap_calc_kemimTF2N_R32_C_plus.append(np.log(P2/P1)*R/(1/T2-1/T1))\n",
    "    \n",
    "hvap_calc_kemimTF2N_R32_C_minus = []\n",
    "for i in range(len(x)):\n",
    "    T2 = test_data_323['temperature'][i]\n",
    "    T1 = test_data_298['temperature'][i]\n",
    "    P2 = test_data_323['P_kemimTF2N_R32_C_minus'][i]\n",
    "    P1 = test_data_298['P_kemimTF2N_R32_C_minus'][i]\n",
    "    hvap_calc_kemimTF2N_R32_C_minus.append(np.log(P2/P1)*R/(1/T2-1/T1))"
   ]
  },
  {
   "cell_type": "code",
   "execution_count": null,
   "id": "controversial-identity",
   "metadata": {},
   "outputs": [],
   "source": [
    "hvap = pd.DataFrame()\n",
    "hvap['x_R32'] = x\n",
    "hvap['hvap_kR32_emimTF2N_A_plus'] = hvap_calc_kR32_emimTF2N_A_plus\n",
    "hvap['hvap_kR32_emimTF2N_A_minus'] = hvap_calc_kR32_emimTF2N_A_minus\n",
    "hvap['hvap_kemimTF2N_R32_A_plus'] = hvap_calc_kemimTF2N_R32_A_plus\n",
    "hvap['hvap_kemimTF2N_R32_A_minus'] = hvap_calc_kemimTF2N_R32_A_minus\n",
    "hvap['hvap_kR32_emimTF2N_B_plus'] = hvap_calc_kR32_emimTF2N_B_plus\n",
    "hvap['hvap_kR32_emimTF2N_B_minus'] = hvap_calc_kR32_emimTF2N_B_minus\n",
    "hvap['hvap_kemimTF2N_R32_B_plus'] = hvap_calc_kemimTF2N_R32_B_plus\n",
    "hvap['hvap_kemimTF2N_R32_B_minus'] = hvap_calc_kemimTF2N_R32_B_minus\n",
    "hvap['hvap_kR32_emimTF2N_C_plus'] = hvap_calc_kR32_emimTF2N_C_plus\n",
    "hvap['hvap_kR32_emimTF2N_C_minus'] = hvap_calc_kR32_emimTF2N_C_minus\n",
    "hvap['hvap_kemimTF2N_R32_C_plus'] = hvap_calc_kemimTF2N_R32_C_plus\n",
    "hvap['hvap_kemimTF2N_R32_C_minus'] = hvap_calc_kemimTF2N_R32_C_minus"
   ]
  },
  {
   "cell_type": "code",
   "execution_count": null,
   "id": "prescription-norwegian",
   "metadata": {},
   "outputs": [],
   "source": [
    "hvap"
   ]
  },
  {
   "cell_type": "markdown",
   "id": "united-editor",
   "metadata": {},
   "source": [
    "### Step 2: Calculate Gradient wrt each param at each concentration"
   ]
  },
  {
   "cell_type": "code",
   "execution_count": null,
   "id": "transparent-procedure",
   "metadata": {},
   "outputs": [],
   "source": [
    "grad_kR32_emimTF2N_A = (hvap['hvap_kR32_emimTF2N_A_plus'] - hvap['hvap_kR32_emimTF2N_A_minus'])/(2*h)\n",
    "grad_kemimTF2N_R32_A = (hvap['hvap_kemimTF2N_R32_A_plus'] - hvap['hvap_kemimTF2N_R32_A_minus'])/(2*h)\n",
    "grad_kR32_emimTF2N_B = (hvap['hvap_kR32_emimTF2N_B_plus'] - hvap['hvap_kR32_emimTF2N_B_minus'])/(2*h)\n",
    "grad_kemimTF2N_R32_B = (hvap['hvap_kemimTF2N_R32_B_plus'] - hvap['hvap_kemimTF2N_R32_B_minus'])/(2*h)\n",
    "grad_kR32_emimTF2N_C = (hvap['hvap_kR32_emimTF2N_C_plus'] - hvap['hvap_kR32_emimTF2N_C_minus'])/(2*h)\n",
    "grad_kemimTF2N_R32_C = (hvap['hvap_kemimTF2N_R32_C_plus'] - hvap['hvap_kemimTF2N_R32_C_minus'])/(2*h)"
   ]
  },
  {
   "cell_type": "code",
   "execution_count": null,
   "id": "veterinary-landing",
   "metadata": {},
   "outputs": [],
   "source": [
    "grad_P['kR32_emimTF2N_A'] = (grad_P['P_kR32_emimTF2N_A_plus'] - grad_P['P_kR32_emimTF2N_A_minus'])/(2*h)\n",
    "grad_P['kemimTF2N_R32_A'] = (grad_P['P_kemimTF2N_R32_A_plus'] - grad_P['P_kemimTF2N_R32_A_minus'])/(2*h)\n",
    "grad_P['kR32_emimTF2N_B'] = (grad_P['P_kR32_emimTF2N_B_plus'] - grad_P['P_kR32_emimTF2N_B_minus'])/(2*h)\n",
    "grad_P['kemimTF2N_R32_B'] = (grad_P['P_kemimTF2N_R32_B_plus'] - grad_P['P_kemimTF2N_R32_B_minus'])/(2*h)\n",
    "grad_P['kR32_emimTF2N_C'] = (grad_P['P_kR32_emimTF2N_C_plus'] - grad_P['P_kR32_emimTF2N_C_minus'])/(2*h)\n",
    "grad_P['kemimTF2N_R32_C'] = (grad_P['P_kemimTF2N_R32_C_plus'] - grad_P['P_kemimTF2N_R32_C_minus'])/(2*h)"
   ]
  },
  {
   "cell_type": "markdown",
   "id": "humanitarian-nevada",
   "metadata": {},
   "source": [
    "### Step 3: Build Jacobian and FIM\n",
    "\n",
    "Rows: enthvap @ 4 concentrations; or pressure @ 4 concentrations, 2 temperatures\n",
    "\n",
    "Columns: parameters (6)"
   ]
  },
  {
   "cell_type": "code",
   "execution_count": null,
   "id": "interested-boston",
   "metadata": {},
   "outputs": [],
   "source": [
    "J_df = pd.DataFrame()\n",
    "J_df['kR32_emimTF2N_A'] = grad_kR32_emimTF2N_A\n",
    "J_df['kemimTF2N_R32_A'] = grad_kemimTF2N_R32_A\n",
    "J_df['kR32_emimTF2N_B'] = grad_kR32_emimTF2N_B\n",
    "J_df['kemimTF2N_R32_B'] = grad_kemimTF2N_R32_B\n",
    "J_df['kR32_emimTF2N_C'] = grad_kR32_emimTF2N_C\n",
    "J_df['kemimTF2N_R32_C'] = grad_kemimTF2N_R32_C"
   ]
  },
  {
   "cell_type": "code",
   "execution_count": null,
   "id": "developing-environment",
   "metadata": {},
   "outputs": [],
   "source": [
    "J = J_df.to_numpy()\n",
    "Jtrans = np.transpose(J)"
   ]
  },
  {
   "cell_type": "code",
   "execution_count": null,
   "id": "closed-ticket",
   "metadata": {},
   "outputs": [],
   "source": [
    "FIM = np.dot(Jtrans,J)"
   ]
  },
  {
   "cell_type": "code",
   "execution_count": null,
   "id": "regular-angle",
   "metadata": {},
   "outputs": [],
   "source": [
    "FIM"
   ]
  },
  {
   "cell_type": "code",
   "execution_count": null,
   "id": "elegant-expense",
   "metadata": {},
   "outputs": [],
   "source": [
    "J_df_P = pd.DataFrame()\n",
    "J_df_P['kR32_emimTF2N_A'] = grad_P['kR32_emimTF2N_A']\n",
    "J_df_P['kemimTF2N_R32_A'] = grad_P['kemimTF2N_R32_A']\n",
    "J_df_P['kR32_emimTF2N_B'] = grad_P['kR32_emimTF2N_B']\n",
    "J_df_P['kemimTF2N_R32_B'] = grad_P['kemimTF2N_R32_B']\n",
    "J_df_P['kR32_emimTF2N_C'] = grad_P['kR32_emimTF2N_C']\n",
    "J_df_P['kemimTF2N_R32_C'] = grad_P['kemimTF2N_R32_C']"
   ]
  },
  {
   "cell_type": "code",
   "execution_count": null,
   "id": "approximate-farming",
   "metadata": {},
   "outputs": [],
   "source": [
    "J_P = J_df_P.to_numpy()\n",
    "J_Ptrans = np.transpose(J_P)"
   ]
  },
  {
   "cell_type": "code",
   "execution_count": null,
   "id": "continuous-validity",
   "metadata": {},
   "outputs": [],
   "source": [
    "FIM_P = np.dot(J_Ptrans,J_P)"
   ]
  },
  {
   "cell_type": "code",
   "execution_count": null,
   "id": "growing-awareness",
   "metadata": {},
   "outputs": [],
   "source": [
    "FIM_P"
   ]
  },
  {
   "cell_type": "markdown",
   "id": "minus-asbestos",
   "metadata": {},
   "source": [
    "### Step 4: Find Eigenvalues, Eigenvectors"
   ]
  },
  {
   "cell_type": "markdown",
   "id": "utility-punch",
   "metadata": {},
   "source": [
    "**Enthalpy of Vaporization**"
   ]
  },
  {
   "cell_type": "code",
   "execution_count": null,
   "id": "guided-hunter",
   "metadata": {},
   "outputs": [],
   "source": [
    "eigvals, eigvecs = np.linalg.eig(FIM)"
   ]
  },
  {
   "cell_type": "code",
   "execution_count": null,
   "id": "moral-sight",
   "metadata": {},
   "outputs": [],
   "source": [
    "eigvals"
   ]
  },
  {
   "cell_type": "code",
   "execution_count": null,
   "id": "local-liberal",
   "metadata": {},
   "outputs": [],
   "source": [
    "eigvecs"
   ]
  },
  {
   "cell_type": "markdown",
   "id": "color-threshold",
   "metadata": {},
   "source": [
    "There are 2 eigvals ~0, indicating 2 unidentifiable directions. The corresponding eigenvector terms are mostly all of the same order of magnitude, meaning that it is not possible to identify the unidentifiable parameters."
   ]
  },
  {
   "cell_type": "markdown",
   "id": "amino-accordance",
   "metadata": {},
   "source": [
    "**Pressure**"
   ]
  },
  {
   "cell_type": "code",
   "execution_count": null,
   "id": "acceptable-episode",
   "metadata": {},
   "outputs": [],
   "source": [
    "eigvals_P, eigvecs_P = np.linalg.eig(FIM_P)"
   ]
  },
  {
   "cell_type": "code",
   "execution_count": null,
   "id": "thousand-scoop",
   "metadata": {},
   "outputs": [],
   "source": [
    "eigvals_P"
   ]
  },
  {
   "cell_type": "code",
   "execution_count": null,
   "id": "european-structure",
   "metadata": {},
   "outputs": [],
   "source": [
    "eigvecs_P"
   ]
  },
  {
   "cell_type": "markdown",
   "id": "younger-watershed",
   "metadata": {},
   "source": [
    "There are 2 eigvals ~ 0 (or unreal??), indicating 2 directions of unidentifiability. This is different than what was shown with the covariance predictions above."
   ]
  },
  {
   "cell_type": "markdown",
   "id": "injured-karen",
   "metadata": {},
   "source": [
    "## AIC Value\n",
    "\n",
    "See https://docs.google.com/document/d/1um0r2XK4ldjjy2colOqaZsEM3wIzGD6l_3B8gnpnI2I/edit# for equations"
   ]
  },
  {
   "cell_type": "markdown",
   "id": "round-bryan",
   "metadata": {},
   "source": [
    "### Calculate MLE"
   ]
  },
  {
   "cell_type": "code",
   "execution_count": null,
   "id": "requested-major",
   "metadata": {},
   "outputs": [],
   "source": [
    "### Define calc model P function\n",
    "\n",
    "def calcPmod(theta,data):\n",
    "    '''\n",
    "    Arguments:\n",
    "    theta - list of BIPs\n",
    "    data - data needed to run the model\n",
    "    \n",
    "    Returns\n",
    "    Pmod - list of calculated pressures\n",
    "    '''\n",
    "    \n",
    "    m = ConcreteModel()\n",
    "\n",
    "    m.fs = FlowsheetBlock(default={\"dynamic\": False})\n",
    "\n",
    "    m.fs.properties = GenericParameterBlock(default=configuration)\n",
    "\n",
    "    m.fs.F101 = Flash(default={\"property_package\": m.fs.properties,\n",
    "                               \"has_heat_transfer\": True,\n",
    "                               \"has_pressure_change\": True})\n",
    "\n",
    "    m.fs.F101.inlet.flow_mol.fix(1)\n",
    "    m.fs.F101.inlet.temperature.fix(323.15)\n",
    "    m.fs.F101.inlet.pressure.fix(399800)\n",
    "    m.fs.F101.inlet.mole_frac_comp[0,'R32'].fix(0.5)\n",
    "\n",
    "    m.fs.properties.PR_kappa_A['R32','emimTf2N'] = theta[0]\n",
    "    m.fs.properties.PR_kappa_A['emimTf2N','R32'] = theta[1]\n",
    "    m.fs.properties.PR_kappa_B['R32','emimTf2N'] = theta[2]\n",
    "    m.fs.properties.PR_kappa_B['emimTf2N','R32'] = theta[3]\n",
    "    m.fs.properties.PR_kappa_C['R32','emimTf2N'] = theta[4]\n",
    "    m.fs.properties.PR_kappa_C['emimTf2N','R32'] = theta[5]\n",
    "\n",
    "    # Initialize the flash unit\n",
    "    m.fs.F101.initialize(outlvl=idaeslog.CRITICAL)\n",
    "\n",
    "    # Fix the state variables on the state block\n",
    "    # m.fs.F101.inlet.pressure.unfix()\n",
    "    m.fs.F101.inlet.mole_frac_comp[0,'emimTf2N'].unfix()\n",
    "\n",
    "    R32_x = np.zeros((len(data)))\n",
    "    P = np.zeros((len(data)))\n",
    "\n",
    "    m.fs.liq = Param(mutable=True,default=0.040)\n",
    "    m.fs.liquid = Constraint(expr=m.fs.F101.liq_outlet.mole_frac_comp[0, \"emimTf2N\"] == m.fs.liq)\n",
    "\n",
    "    for i in range(len(data)):\n",
    "        m.fs.liq = data[\"x_emimTf2N\"].iloc[i]\n",
    "        m.fs.F101.inlet.temperature.fix(float(data[\"temperature\"].iloc[i]))\n",
    "        m.fs.F101.inlet.pressure.fix(float(data[\"pressure\"].iloc[i]))\n",
    "        m.fs.F101.inlet.mole_frac_comp[0,'R32'].fix(float(data[\"x_R32\"].iloc[i])+0.1)\n",
    "        m.fs.F101.inlet.mole_frac_comp[0,'emimTf2N'].fix(float(1-(data[\"x_R32\"].iloc[i]+0.1)))\n",
    "        m.fs.F101.vap_outlet.temperature.fix(float(data[\"temperature\"].iloc[i]))\n",
    "\n",
    "    #     DOF_final = degrees_of_freedom(m)\n",
    "    #     print(\"The final DOF is {0}\".format(DOF_final))\n",
    "        m.fs.F101.initialize(outlvl=idaeslog.CRITICAL)\n",
    "\n",
    "        status = solver.solve(m, tee = False)\n",
    "\n",
    "    #     m.fs.F101.report()\n",
    "        if (status.solver.status == SolverStatus.ok) and (status.solver.termination_condition == TerminationCondition.optimal):\n",
    "#             print(data[\"x_emimTf2N\"].iloc[i])\n",
    "            R32_x[i] = value(m.fs.F101.liq_outlet.mole_frac_comp[0,'R32']) \n",
    "            P[i] = value(m.fs.F101.vap_outlet.pressure[0])\n",
    "\n",
    "        else:\n",
    "            print('Infeasible.')\n",
    "            \n",
    "    Pmod = P\n",
    "    \n",
    "    return Pmod"
   ]
  },
  {
   "cell_type": "code",
   "execution_count": null,
   "id": "tired-india",
   "metadata": {},
   "outputs": [],
   "source": [
    "### Define function to calculate SSR\n",
    "def res(theta,data,Pexp):\n",
    "    '''\n",
    "    Arguments:\n",
    "    theta - list of BIPs\n",
    "    data - data needed to run the model\n",
    "    Pexp - list of experimental pressure data\n",
    "    \n",
    "    Returns:\n",
    "    residual between model and exp (note, this will be large because of units of P)\n",
    "    '''\n",
    "    \n",
    "    #Calculate model P\n",
    "    Pmod = calcPmod(theta,data)\n",
    "    \n",
    "    return Pexp - Pmod"
   ]
  },
  {
   "cell_type": "code",
   "execution_count": null,
   "id": "similar-september",
   "metadata": {},
   "outputs": [],
   "source": [
    "theta_guess = [parameters['fs.properties.PR_kappa_A[R32,emimTf2N]'],parameters['fs.properties.PR_kappa_A[emimTf2N,R32]'],parameters['fs.properties.PR_kappa_B[R32,emimTf2N]'],parameters['fs.properties.PR_kappa_B[emimTf2N,R32]'],parameters['fs.properties.PR_kappa_C[R32,emimTf2N]'],parameters['fs.properties.PR_kappa_C[emimTf2N,R32]']]\n",
    "Pexp = data_subset['pressure'].values.tolist()\n",
    "n = 6\n",
    "bnds = ([-20,-20,-20,-20,-20,-20],[20,20,20,20,20,20])"
   ]
  },
  {
   "cell_type": "code",
   "execution_count": null,
   "id": "dirty-treaty",
   "metadata": {},
   "outputs": [],
   "source": [
    "### solve\n",
    "sol = scipy.optimize.least_squares(res, theta_guess, method='trf', args=(data_subset,Pexp),bounds=bnds)"
   ]
  },
  {
   "cell_type": "code",
   "execution_count": null,
   "id": "resistant-anniversary",
   "metadata": {},
   "outputs": [],
   "source": [
    "theta_hat = sol.x\n",
    "theta_hat"
   ]
  },
  {
   "cell_type": "code",
   "execution_count": null,
   "id": "optimum-romantic",
   "metadata": {},
   "outputs": [],
   "source": [
    "def SSR(theta,data,Pexp):\n",
    "    '''\n",
    "    Arguments:\n",
    "    theta - list of BIPs\n",
    "    data - data needed to run the model\n",
    "    Pexp - list of experimental pressure data\n",
    "    \n",
    "    Returns:\n",
    "    SSR - sum of residuals squared\n",
    "    '''\n",
    "    \n",
    "    #Calculate model P\n",
    "    Pmod = calcPmod(theta,data)\n",
    "    \n",
    "    #Calculate residual squared\n",
    "    res = (Pexp - Pmod)**2\n",
    "    \n",
    "    #Sum residuals squared\n",
    "    SSR = np.sum(res)\n",
    "      \n",
    "    return SSR"
   ]
  },
  {
   "cell_type": "code",
   "execution_count": null,
   "id": "speaking-solution",
   "metadata": {},
   "outputs": [],
   "source": [
    "SSR = SSR(theta_hat,data_subset,Pexp)\n",
    "SSR"
   ]
  },
  {
   "cell_type": "code",
   "execution_count": null,
   "id": "marine-kinase",
   "metadata": {},
   "outputs": [],
   "source": [
    "sigma_sq = SSR/n\n",
    "sigma_sq"
   ]
  },
  {
   "cell_type": "code",
   "execution_count": null,
   "id": "latin-direction",
   "metadata": {},
   "outputs": [],
   "source": [
    "L = -n/2*np.log(2*np.pi) - n/2*np.log(sigma_sq) - 1/(2*sigma_sq)*SSR\n",
    "L"
   ]
  },
  {
   "cell_type": "code",
   "execution_count": null,
   "id": "cross-lloyd",
   "metadata": {},
   "outputs": [],
   "source": [
    "AIC = 2*n - 2*L\n",
    "AIC"
   ]
  },
  {
   "cell_type": "markdown",
   "id": "pressed-spray",
   "metadata": {},
   "source": [
    "Other AIC - using SSR calculated in above parameter fitting"
   ]
  },
  {
   "cell_type": "code",
   "execution_count": 17,
   "id": "dcec85f9",
   "metadata": {},
   "outputs": [],
   "source": [
    "n=6"
   ]
  },
  {
   "cell_type": "code",
   "execution_count": 18,
   "id": "specified-croatia",
   "metadata": {},
   "outputs": [],
   "source": [
    "SSR_other = obj_value*1E-2"
   ]
  },
  {
   "cell_type": "code",
   "execution_count": 19,
   "id": "cf6b52cd",
   "metadata": {},
   "outputs": [
    {
     "data": {
      "text/plain": [
       "0.11299368734301622"
      ]
     },
     "execution_count": 19,
     "metadata": {},
     "output_type": "execute_result"
    }
   ],
   "source": [
    "SSR_other"
   ]
  },
  {
   "cell_type": "code",
   "execution_count": 20,
   "id": "positive-chrome",
   "metadata": {},
   "outputs": [
    {
     "data": {
      "text/plain": [
       "0.018832281223836036"
      ]
     },
     "execution_count": 20,
     "metadata": {},
     "output_type": "execute_result"
    }
   ],
   "source": [
    "sigma_sq_other = SSR_other/n\n",
    "sigma_sq_other"
   ]
  },
  {
   "cell_type": "code",
   "execution_count": 21,
   "id": "raising-cruise",
   "metadata": {},
   "outputs": [
    {
     "data": {
      "text/plain": [
       "3.4029171866101953"
      ]
     },
     "execution_count": 21,
     "metadata": {},
     "output_type": "execute_result"
    }
   ],
   "source": [
    "L_other = -n/2*np.log(2*np.pi) - n/2*np.log(sigma_sq_other) - 1/(2*sigma_sq_other)*SSR_other\n",
    "L_other"
   ]
  },
  {
   "cell_type": "code",
   "execution_count": 22,
   "id": "solar-thermal",
   "metadata": {},
   "outputs": [
    {
     "data": {
      "text/plain": [
       "5.1941656267796095"
      ]
     },
     "execution_count": 22,
     "metadata": {},
     "output_type": "execute_result"
    }
   ],
   "source": [
    "AIC_other = 2*n - 2*L_other\n",
    "AIC_other"
   ]
  },
  {
   "cell_type": "code",
   "execution_count": 23,
   "id": "geological-pattern",
   "metadata": {},
   "outputs": [],
   "source": [
    "AIC_data = pd.DataFrame(data=[n,obj_value*1E-2,AIC_other])\n",
    "AIC_data = AIC_data.T\n",
    "AIC_data.columns = ['n','Objective, Pa^2','AIC']\n",
    "AIC_data.to_csv('Data/AIC/SRK_AIC_6parameter.csv')"
   ]
  },
  {
   "cell_type": "code",
   "execution_count": null,
   "id": "7bbeed96",
   "metadata": {},
   "outputs": [],
   "source": []
  }
 ],
 "metadata": {
  "kernelspec": {
   "display_name": "Python 3 (ipykernel)",
   "language": "python",
   "name": "python3"
  },
  "language_info": {
   "codemirror_mode": {
    "name": "ipython",
    "version": 3
   },
   "file_extension": ".py",
   "mimetype": "text/x-python",
   "name": "python",
   "nbconvert_exporter": "python",
   "pygments_lexer": "ipython3",
   "version": "3.9.9"
  }
 },
 "nbformat": 4,
 "nbformat_minor": 5
}
