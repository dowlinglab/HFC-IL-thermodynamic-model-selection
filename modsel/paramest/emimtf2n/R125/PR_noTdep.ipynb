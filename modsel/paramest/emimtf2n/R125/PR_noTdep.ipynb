{
 "cells": [
  {
   "cell_type": "markdown",
   "id": "voluntary-ridge",
   "metadata": {},
   "source": [
    "# Fit emimTF2N data\n",
    "\n",
    "EoS: PR\n",
    "\n",
    "Parameter T dependence: Constant\n",
    "\n",
    "N (total fitting parameters): 2"
   ]
  },
  {
   "cell_type": "markdown",
   "id": "improved-meeting",
   "metadata": {},
   "source": [
    "## Import Functions"
   ]
  },
  {
   "cell_type": "code",
   "execution_count": 1,
   "id": "contained-performance",
   "metadata": {},
   "outputs": [],
   "source": [
    "import idaes\n",
    "\n",
    "import pandas as pd\n",
    "import numpy as np\n",
    "import matplotlib.pyplot as plt\n",
    "import scipy.optimize\n",
    "\n",
    "import sys\n",
    "sys.path.append('../../')\n",
    "\n",
    "from pyomo.environ import (Constraint,\n",
    "                           Var,\n",
    "                           ConcreteModel,\n",
    "                           Expression,\n",
    "                           Param,\n",
    "                           Objective,\n",
    "                           SolverFactory,\n",
    "                           TransformationFactory,\n",
    "                           value)\n",
    "from pyomo.opt import TerminationCondition, SolverStatus\n",
    "\n",
    "from idaes.core import FlowsheetBlock\n",
    "import idaes.logger as idaeslog\n",
    "# Import the Generic Parameter Block\n",
    "from idaes.generic_models.properties.core.generic.generic_property import (\n",
    "        GenericParameterBlock)\n",
    "# Import unit models from the model library\n",
    "from idaes.generic_models.unit_models import Flash\n",
    "# Import degrees of freedom tool\n",
    "from idaes.core.util.model_statistics import degrees_of_freedom\n",
    "\n",
    "# parmest (binary_param2)\n",
    "from bip_fitting_functions import constant\n",
    "\n",
    "import scipy.stats as stats\n",
    "\n",
    "from matplotlib.patches import Ellipse\n",
    "import matplotlib.transforms as transforms\n",
    "import matplotlib.patches as mpatches"
   ]
  },
  {
   "cell_type": "markdown",
   "id": "judicial-calculator",
   "metadata": {},
   "source": [
    "## Load Data"
   ]
  },
  {
   "cell_type": "code",
   "execution_count": 2,
   "id": "technological-freeze",
   "metadata": {},
   "outputs": [],
   "source": [
    "data_full = pd.read_csv('r125_emimtf2n_full.csv')\n",
    "data_subset = pd.read_csv('r125_emimtf2n_subset.csv')"
   ]
  },
  {
   "cell_type": "code",
   "execution_count": 3,
   "id": "3e1f182e",
   "metadata": {},
   "outputs": [
    {
     "data": {
      "text/html": [
       "<div>\n",
       "<style scoped>\n",
       "    .dataframe tbody tr th:only-of-type {\n",
       "        vertical-align: middle;\n",
       "    }\n",
       "\n",
       "    .dataframe tbody tr th {\n",
       "        vertical-align: top;\n",
       "    }\n",
       "\n",
       "    .dataframe thead th {\n",
       "        text-align: right;\n",
       "    }\n",
       "</style>\n",
       "<table border=\"1\" class=\"dataframe\">\n",
       "  <thead>\n",
       "    <tr style=\"text-align: right;\">\n",
       "      <th></th>\n",
       "      <th>temperature</th>\n",
       "      <th>pressure</th>\n",
       "      <th>x_R125</th>\n",
       "      <th>x_emimTf2N</th>\n",
       "    </tr>\n",
       "  </thead>\n",
       "  <tbody>\n",
       "    <tr>\n",
       "      <th>0</th>\n",
       "      <td>283.1</td>\n",
       "      <td>10000</td>\n",
       "      <td>0.008</td>\n",
       "      <td>0.992</td>\n",
       "    </tr>\n",
       "    <tr>\n",
       "      <th>1</th>\n",
       "      <td>283.1</td>\n",
       "      <td>100000</td>\n",
       "      <td>0.085</td>\n",
       "      <td>0.915</td>\n",
       "    </tr>\n",
       "    <tr>\n",
       "      <th>2</th>\n",
       "      <td>283.1</td>\n",
       "      <td>199700</td>\n",
       "      <td>0.168</td>\n",
       "      <td>0.832</td>\n",
       "    </tr>\n",
       "    <tr>\n",
       "      <th>3</th>\n",
       "      <td>283.1</td>\n",
       "      <td>297700</td>\n",
       "      <td>0.250</td>\n",
       "      <td>0.750</td>\n",
       "    </tr>\n",
       "    <tr>\n",
       "      <th>4</th>\n",
       "      <td>283.1</td>\n",
       "      <td>399700</td>\n",
       "      <td>0.331</td>\n",
       "      <td>0.669</td>\n",
       "    </tr>\n",
       "    <tr>\n",
       "      <th>5</th>\n",
       "      <td>283.1</td>\n",
       "      <td>499900</td>\n",
       "      <td>0.413</td>\n",
       "      <td>0.587</td>\n",
       "    </tr>\n",
       "    <tr>\n",
       "      <th>6</th>\n",
       "      <td>283.1</td>\n",
       "      <td>599700</td>\n",
       "      <td>0.496</td>\n",
       "      <td>0.504</td>\n",
       "    </tr>\n",
       "    <tr>\n",
       "      <th>7</th>\n",
       "      <td>283.1</td>\n",
       "      <td>699900</td>\n",
       "      <td>0.583</td>\n",
       "      <td>0.417</td>\n",
       "    </tr>\n",
       "    <tr>\n",
       "      <th>8</th>\n",
       "      <td>283.1</td>\n",
       "      <td>799600</td>\n",
       "      <td>0.681</td>\n",
       "      <td>0.319</td>\n",
       "    </tr>\n",
       "    <tr>\n",
       "      <th>9</th>\n",
       "      <td>298.1</td>\n",
       "      <td>10200</td>\n",
       "      <td>0.006</td>\n",
       "      <td>0.994</td>\n",
       "    </tr>\n",
       "    <tr>\n",
       "      <th>10</th>\n",
       "      <td>298.1</td>\n",
       "      <td>99800</td>\n",
       "      <td>0.055</td>\n",
       "      <td>0.945</td>\n",
       "    </tr>\n",
       "    <tr>\n",
       "      <th>11</th>\n",
       "      <td>298.1</td>\n",
       "      <td>199700</td>\n",
       "      <td>0.109</td>\n",
       "      <td>0.891</td>\n",
       "    </tr>\n",
       "    <tr>\n",
       "      <th>12</th>\n",
       "      <td>298.1</td>\n",
       "      <td>299700</td>\n",
       "      <td>0.161</td>\n",
       "      <td>0.839</td>\n",
       "    </tr>\n",
       "    <tr>\n",
       "      <th>13</th>\n",
       "      <td>298.2</td>\n",
       "      <td>399600</td>\n",
       "      <td>0.213</td>\n",
       "      <td>0.787</td>\n",
       "    </tr>\n",
       "    <tr>\n",
       "      <th>14</th>\n",
       "      <td>298.2</td>\n",
       "      <td>499900</td>\n",
       "      <td>0.267</td>\n",
       "      <td>0.733</td>\n",
       "    </tr>\n",
       "    <tr>\n",
       "      <th>15</th>\n",
       "      <td>298.2</td>\n",
       "      <td>599700</td>\n",
       "      <td>0.317</td>\n",
       "      <td>0.683</td>\n",
       "    </tr>\n",
       "    <tr>\n",
       "      <th>16</th>\n",
       "      <td>298.1</td>\n",
       "      <td>800100</td>\n",
       "      <td>0.422</td>\n",
       "      <td>0.578</td>\n",
       "    </tr>\n",
       "    <tr>\n",
       "      <th>17</th>\n",
       "      <td>298.1</td>\n",
       "      <td>999800</td>\n",
       "      <td>0.521</td>\n",
       "      <td>0.479</td>\n",
       "    </tr>\n",
       "    <tr>\n",
       "      <th>18</th>\n",
       "      <td>323.1</td>\n",
       "      <td>10200</td>\n",
       "      <td>0.004</td>\n",
       "      <td>0.996</td>\n",
       "    </tr>\n",
       "    <tr>\n",
       "      <th>19</th>\n",
       "      <td>323.1</td>\n",
       "      <td>99800</td>\n",
       "      <td>0.030</td>\n",
       "      <td>0.970</td>\n",
       "    </tr>\n",
       "    <tr>\n",
       "      <th>20</th>\n",
       "      <td>323.1</td>\n",
       "      <td>200000</td>\n",
       "      <td>0.059</td>\n",
       "      <td>0.941</td>\n",
       "    </tr>\n",
       "    <tr>\n",
       "      <th>21</th>\n",
       "      <td>323.1</td>\n",
       "      <td>299800</td>\n",
       "      <td>0.088</td>\n",
       "      <td>0.912</td>\n",
       "    </tr>\n",
       "    <tr>\n",
       "      <th>22</th>\n",
       "      <td>323.1</td>\n",
       "      <td>399600</td>\n",
       "      <td>0.117</td>\n",
       "      <td>0.883</td>\n",
       "    </tr>\n",
       "    <tr>\n",
       "      <th>23</th>\n",
       "      <td>323.1</td>\n",
       "      <td>500200</td>\n",
       "      <td>0.152</td>\n",
       "      <td>0.848</td>\n",
       "    </tr>\n",
       "    <tr>\n",
       "      <th>24</th>\n",
       "      <td>323.1</td>\n",
       "      <td>599700</td>\n",
       "      <td>0.176</td>\n",
       "      <td>0.824</td>\n",
       "    </tr>\n",
       "    <tr>\n",
       "      <th>25</th>\n",
       "      <td>323.1</td>\n",
       "      <td>799900</td>\n",
       "      <td>0.228</td>\n",
       "      <td>0.772</td>\n",
       "    </tr>\n",
       "    <tr>\n",
       "      <th>26</th>\n",
       "      <td>323.1</td>\n",
       "      <td>1000100</td>\n",
       "      <td>0.285</td>\n",
       "      <td>0.715</td>\n",
       "    </tr>\n",
       "    <tr>\n",
       "      <th>27</th>\n",
       "      <td>348.1</td>\n",
       "      <td>10200</td>\n",
       "      <td>0.004</td>\n",
       "      <td>0.996</td>\n",
       "    </tr>\n",
       "    <tr>\n",
       "      <th>28</th>\n",
       "      <td>348.1</td>\n",
       "      <td>100000</td>\n",
       "      <td>0.018</td>\n",
       "      <td>0.982</td>\n",
       "    </tr>\n",
       "    <tr>\n",
       "      <th>29</th>\n",
       "      <td>348.1</td>\n",
       "      <td>199700</td>\n",
       "      <td>0.034</td>\n",
       "      <td>0.966</td>\n",
       "    </tr>\n",
       "    <tr>\n",
       "      <th>30</th>\n",
       "      <td>348.1</td>\n",
       "      <td>299800</td>\n",
       "      <td>0.050</td>\n",
       "      <td>0.950</td>\n",
       "    </tr>\n",
       "    <tr>\n",
       "      <th>31</th>\n",
       "      <td>348.1</td>\n",
       "      <td>399800</td>\n",
       "      <td>0.074</td>\n",
       "      <td>0.926</td>\n",
       "    </tr>\n",
       "    <tr>\n",
       "      <th>32</th>\n",
       "      <td>348.1</td>\n",
       "      <td>500100</td>\n",
       "      <td>0.097</td>\n",
       "      <td>0.903</td>\n",
       "    </tr>\n",
       "    <tr>\n",
       "      <th>33</th>\n",
       "      <td>348.1</td>\n",
       "      <td>599600</td>\n",
       "      <td>0.105</td>\n",
       "      <td>0.895</td>\n",
       "    </tr>\n",
       "    <tr>\n",
       "      <th>34</th>\n",
       "      <td>348.2</td>\n",
       "      <td>799800</td>\n",
       "      <td>0.140</td>\n",
       "      <td>0.860</td>\n",
       "    </tr>\n",
       "    <tr>\n",
       "      <th>35</th>\n",
       "      <td>348.1</td>\n",
       "      <td>999700</td>\n",
       "      <td>0.171</td>\n",
       "      <td>0.829</td>\n",
       "    </tr>\n",
       "  </tbody>\n",
       "</table>\n",
       "</div>"
      ],
      "text/plain": [
       "    temperature  pressure  x_R125  x_emimTf2N\n",
       "0         283.1     10000   0.008       0.992\n",
       "1         283.1    100000   0.085       0.915\n",
       "2         283.1    199700   0.168       0.832\n",
       "3         283.1    297700   0.250       0.750\n",
       "4         283.1    399700   0.331       0.669\n",
       "5         283.1    499900   0.413       0.587\n",
       "6         283.1    599700   0.496       0.504\n",
       "7         283.1    699900   0.583       0.417\n",
       "8         283.1    799600   0.681       0.319\n",
       "9         298.1     10200   0.006       0.994\n",
       "10        298.1     99800   0.055       0.945\n",
       "11        298.1    199700   0.109       0.891\n",
       "12        298.1    299700   0.161       0.839\n",
       "13        298.2    399600   0.213       0.787\n",
       "14        298.2    499900   0.267       0.733\n",
       "15        298.2    599700   0.317       0.683\n",
       "16        298.1    800100   0.422       0.578\n",
       "17        298.1    999800   0.521       0.479\n",
       "18        323.1     10200   0.004       0.996\n",
       "19        323.1     99800   0.030       0.970\n",
       "20        323.1    200000   0.059       0.941\n",
       "21        323.1    299800   0.088       0.912\n",
       "22        323.1    399600   0.117       0.883\n",
       "23        323.1    500200   0.152       0.848\n",
       "24        323.1    599700   0.176       0.824\n",
       "25        323.1    799900   0.228       0.772\n",
       "26        323.1   1000100   0.285       0.715\n",
       "27        348.1     10200   0.004       0.996\n",
       "28        348.1    100000   0.018       0.982\n",
       "29        348.1    199700   0.034       0.966\n",
       "30        348.1    299800   0.050       0.950\n",
       "31        348.1    399800   0.074       0.926\n",
       "32        348.1    500100   0.097       0.903\n",
       "33        348.1    599600   0.105       0.895\n",
       "34        348.2    799800   0.140       0.860\n",
       "35        348.1    999700   0.171       0.829"
      ]
     },
     "execution_count": 3,
     "metadata": {},
     "output_type": "execute_result"
    }
   ],
   "source": [
    "data_full"
   ]
  },
  {
   "cell_type": "code",
   "execution_count": 4,
   "id": "c9b05aea",
   "metadata": {},
   "outputs": [
    {
     "data": {
      "image/png": "[encoded data removed]",
      "text/plain": [
       "<Figure size 432x288 with 1 Axes>"
      ]
     },
     "metadata": {
      "needs_background": "light"
     },
     "output_type": "display_data"
    }
   ],
   "source": [
    "fig, ax = plt.subplots()\n",
    "\n",
    "ax.plot(data_full[\"x_R125\"][:9],data_full[\"pressure\"][:9]/1e6,\"*\",color='blue',label=\"T= 283 K\")\n",
    "ax.plot(data_full[\"x_R125\"][9:18],data_full[\"pressure\"][9:18]/1e6,\"*\",color='red',label=\"T= 298 K\")\n",
    "ax.plot(data_full[\"x_R125\"][18:27],data_full[\"pressure\"][18:27]/1e6,\"*\",color='green',label=\"T= 323 K\")\n",
    "ax.plot(data_full[\"x_R125\"][27:],data_full[\"pressure\"][27:]/1e6,\"*\",color='magenta',label=\"T= 348 K\")\n",
    "\n",
    "# plt.title('Isotherm R32-[emim][TF2N]')\n",
    "ax.set_ylabel('Pressure, MPa',fontsize=24)\n",
    "ax.set_xlabel('HFC-125 Mole Fraction',fontsize=24)\n",
    "\n",
    "ax.set_xticks([0.0, 0.2, 0.4, 0.6, 0.8, 1.0])\n",
    "ax.set_xticks([0.1, 0.3, 0.5, 0.7, 0.9],minor=True)\n",
    "ax.set_yticks([0.0, 0.2, 0.4, 0.6, 0.8, 1.0, 1.2])\n",
    "ax.set_yticks([0.1, 0.3, 0.5, 0.7, 0.9, 1.1],minor=True)\n",
    "\n",
    "ax.tick_params(\"both\", direction=\"in\", which=\"both\", length=4, labelsize=20, pad=10)\n",
    "ax.tick_params(\"both\", which=\"major\", length=8)\n",
    "ax.xaxis.set_ticks_position(\"both\")\n",
    "ax.yaxis.set_ticks_position(\"both\")\n",
    "\n",
    "ax.legend(fontsize=12, handletextpad=0.00, loc=\"lower right\")#, bbox_to_anchor=(1, 0.5))\n",
    "fig.savefig('R125-emimTF2N-data.pdf',bbox_inches='tight')\n",
    "plt.show()"
   ]
  },
  {
   "cell_type": "markdown",
   "id": "swiss-sphere",
   "metadata": {},
   "source": [
    "## Load Configuration + Check DOF"
   ]
  },
  {
   "cell_type": "code",
   "execution_count": 5,
   "id": "independent-layout",
   "metadata": {},
   "outputs": [],
   "source": [
    "from hfc125_emimtf2n_PR import configuration "
   ]
  },
  {
   "cell_type": "code",
   "execution_count": 6,
   "id": "featured-nicholas",
   "metadata": {},
   "outputs": [
    {
     "name": "stdout",
     "output_type": "stream",
     "text": [
      "The initial DOF is 7\n"
     ]
    }
   ],
   "source": [
    "m = ConcreteModel()\n",
    "m.fs = FlowsheetBlock(default={\"dynamic\": False})\n",
    "m.fs.properties = GenericParameterBlock(default=configuration)\n",
    "m.fs.F101 = Flash(default={\"property_package\": m.fs.properties,\n",
    "                           \"has_heat_transfer\": True,\n",
    "                           \"has_pressure_change\": True})\n",
    "DOF_initial = degrees_of_freedom(m)\n",
    "print('The initial DOF is {0}'.format(DOF_initial))"
   ]
  },
  {
   "cell_type": "markdown",
   "id": "veterinary-first",
   "metadata": {},
   "source": [
    "## Fit Parameters"
   ]
  },
  {
   "cell_type": "code",
   "execution_count": 7,
   "id": "personal-parade",
   "metadata": {},
   "outputs": [
    {
     "name": "stdout",
     "output_type": "stream",
     "text": [
      "0    100000.0\n",
      "Name: pressure, dtype: float64\n",
      "2022-04-04 19:19:20 [INFO] idaes.init.fs.state_block: Starting initialization\n",
      "2022-04-04 19:19:20 [INFO] idaes.init.fs.state_block: Dew and bubble point initialization: optimal - Optimal Solution Found.\n",
      "2022-04-04 19:19:20 [INFO] idaes.init.fs.state_block: Equilibrium temperature initialization completed.\n",
      "2022-04-04 19:19:21 [INFO] idaes.init.fs.state_block: Phase equilibrium initialization: optimal - Optimal Solution Found.\n",
      "2022-04-04 19:19:21 [INFO] idaes.init.fs.state_block: Property initialization: optimal - Optimal Solution Found.\n",
      "2022-04-04 19:19:21 [INFO] idaes.init.fs.state_block: Property package initialization: optimal - Optimal Solution Found.\n",
      "1    199700.0\n",
      "Name: pressure, dtype: float64\n",
      "2022-04-04 19:19:21 [INFO] idaes.init.fs.state_block: Starting initialization\n",
      "2022-04-04 19:19:21 [INFO] idaes.init.fs.state_block: Dew and bubble point initialization: optimal - Optimal Solution Found.\n",
      "2022-04-04 19:19:21 [INFO] idaes.init.fs.state_block: Equilibrium temperature initialization completed.\n",
      "2022-04-04 19:19:21 [INFO] idaes.init.fs.state_block: Phase equilibrium initialization: optimal - Optimal Solution Found.\n",
      "2022-04-04 19:19:21 [INFO] idaes.init.fs.state_block: Property initialization: optimal - Optimal Solution Found.\n",
      "2022-04-04 19:19:21 [INFO] idaes.init.fs.state_block: Property package initialization: optimal - Optimal Solution Found.\n",
      "2    297700.0\n",
      "Name: pressure, dtype: float64\n",
      "2022-04-04 19:19:21 [INFO] idaes.init.fs.state_block: Starting initialization\n",
      "2022-04-04 19:19:21 [INFO] idaes.init.fs.state_block: Dew and bubble point initialization: optimal - Optimal Solution Found.\n",
      "2022-04-04 19:19:21 [INFO] idaes.init.fs.state_block: Equilibrium temperature initialization completed.\n",
      "2022-04-04 19:19:21 [INFO] idaes.init.fs.state_block: Phase equilibrium initialization: optimal - Optimal Solution Found.\n",
      "2022-04-04 19:19:21 [INFO] idaes.init.fs.state_block: Property initialization: optimal - Optimal Solution Found.\n",
      "2022-04-04 19:19:21 [INFO] idaes.init.fs.state_block: Property package initialization: optimal - Optimal Solution Found.\n",
      "3    399700.0\n",
      "Name: pressure, dtype: float64\n",
      "2022-04-04 19:19:21 [INFO] idaes.init.fs.state_block: Starting initialization\n",
      "2022-04-04 19:19:22 [INFO] idaes.init.fs.state_block: Dew and bubble point initialization: optimal - Optimal Solution Found.\n",
      "2022-04-04 19:19:22 [INFO] idaes.init.fs.state_block: Equilibrium temperature initialization completed.\n",
      "2022-04-04 19:19:22 [INFO] idaes.init.fs.state_block: Phase equilibrium initialization: optimal - Optimal Solution Found.\n",
      "2022-04-04 19:19:22 [INFO] idaes.init.fs.state_block: Property initialization: optimal - Optimal Solution Found.\n",
      "2022-04-04 19:19:22 [INFO] idaes.init.fs.state_block: Property package initialization: optimal - Optimal Solution Found.\n",
      "4    499900.0\n",
      "Name: pressure, dtype: float64\n",
      "2022-04-04 19:19:22 [INFO] idaes.init.fs.state_block: Starting initialization\n",
      "2022-04-04 19:19:22 [INFO] idaes.init.fs.state_block: Dew and bubble point initialization: optimal - Optimal Solution Found.\n",
      "2022-04-04 19:19:22 [INFO] idaes.init.fs.state_block: Equilibrium temperature initialization completed.\n",
      "2022-04-04 19:19:22 [INFO] idaes.init.fs.state_block: Phase equilibrium initialization: optimal - Optimal Solution Found.\n",
      "2022-04-04 19:19:22 [INFO] idaes.init.fs.state_block: Property initialization: optimal - Optimal Solution Found.\n",
      "2022-04-04 19:19:22 [INFO] idaes.init.fs.state_block: Property package initialization: optimal - Optimal Solution Found.\n",
      "5    599700.0\n",
      "Name: pressure, dtype: float64\n",
      "2022-04-04 19:19:22 [INFO] idaes.init.fs.state_block: Starting initialization\n",
      "2022-04-04 19:19:22 [INFO] idaes.init.fs.state_block: Dew and bubble point initialization: optimal - Optimal Solution Found.\n",
      "2022-04-04 19:19:22 [INFO] idaes.init.fs.state_block: Equilibrium temperature initialization completed.\n",
      "2022-04-04 19:19:23 [INFO] idaes.init.fs.state_block: Phase equilibrium initialization: optimal - Optimal Solution Found.\n",
      "2022-04-04 19:19:23 [INFO] idaes.init.fs.state_block: Property initialization: optimal - Optimal Solution Found.\n",
      "2022-04-04 19:19:23 [INFO] idaes.init.fs.state_block: Property package initialization: optimal - Optimal Solution Found.\n",
      "6    699900.0\n",
      "Name: pressure, dtype: float64\n",
      "2022-04-04 19:19:23 [INFO] idaes.init.fs.state_block: Starting initialization\n",
      "2022-04-04 19:19:23 [INFO] idaes.init.fs.state_block: Dew and bubble point initialization: optimal - Optimal Solution Found.\n",
      "2022-04-04 19:19:23 [INFO] idaes.init.fs.state_block: Equilibrium temperature initialization completed.\n",
      "2022-04-04 19:19:23 [INFO] idaes.init.fs.state_block: Phase equilibrium initialization: optimal - Optimal Solution Found.\n",
      "2022-04-04 19:19:23 [INFO] idaes.init.fs.state_block: Property initialization: optimal - Optimal Solution Found.\n",
      "2022-04-04 19:19:23 [INFO] idaes.init.fs.state_block: Property package initialization: optimal - Optimal Solution Found.\n",
      "7    799600.0\n",
      "Name: pressure, dtype: float64\n",
      "2022-04-04 19:19:23 [INFO] idaes.init.fs.state_block: Starting initialization\n",
      "2022-04-04 19:19:23 [INFO] idaes.init.fs.state_block: Dew and bubble point initialization: optimal - Optimal Solution Found.\n",
      "2022-04-04 19:19:23 [INFO] idaes.init.fs.state_block: Equilibrium temperature initialization completed.\n",
      "2022-04-04 19:19:23 [INFO] idaes.init.fs.state_block: Phase equilibrium initialization: optimal - Optimal Solution Found.\n",
      "2022-04-04 19:19:24 [INFO] idaes.init.fs.state_block: Property initialization: optimal - Optimal Solution Found.\n",
      "2022-04-04 19:19:24 [INFO] idaes.init.fs.state_block: Property package initialization: optimal - Optimal Solution Found.\n",
      "8    99800.0\n",
      "Name: pressure, dtype: float64\n",
      "2022-04-04 19:19:24 [INFO] idaes.init.fs.state_block: Starting initialization\n",
      "2022-04-04 19:19:24 [INFO] idaes.init.fs.state_block: Dew and bubble point initialization: optimal - Optimal Solution Found.\n",
      "2022-04-04 19:19:24 [INFO] idaes.init.fs.state_block: Equilibrium temperature initialization completed.\n",
      "2022-04-04 19:19:24 [INFO] idaes.init.fs.state_block: Phase equilibrium initialization: optimal - Optimal Solution Found.\n",
      "2022-04-04 19:19:24 [INFO] idaes.init.fs.state_block: Property initialization: optimal - Optimal Solution Found.\n",
      "2022-04-04 19:19:24 [INFO] idaes.init.fs.state_block: Property package initialization: optimal - Optimal Solution Found.\n",
      "9    199700.0\n",
      "Name: pressure, dtype: float64\n",
      "2022-04-04 19:19:24 [INFO] idaes.init.fs.state_block: Starting initialization\n",
      "2022-04-04 19:19:24 [INFO] idaes.init.fs.state_block: Dew and bubble point initialization: optimal - Optimal Solution Found.\n",
      "2022-04-04 19:19:24 [INFO] idaes.init.fs.state_block: Equilibrium temperature initialization completed.\n",
      "2022-04-04 19:19:24 [INFO] idaes.init.fs.state_block: Phase equilibrium initialization: optimal - Optimal Solution Found.\n",
      "2022-04-04 19:19:24 [INFO] idaes.init.fs.state_block: Property initialization: optimal - Optimal Solution Found.\n",
      "2022-04-04 19:19:24 [INFO] idaes.init.fs.state_block: Property package initialization: optimal - Optimal Solution Found.\n",
      "10    299700.0\n",
      "Name: pressure, dtype: float64\n",
      "2022-04-04 19:19:25 [INFO] idaes.init.fs.state_block: Starting initialization\n",
      "2022-04-04 19:19:25 [INFO] idaes.init.fs.state_block: Dew and bubble point initialization: optimal - Optimal Solution Found.\n",
      "2022-04-04 19:19:25 [INFO] idaes.init.fs.state_block: Equilibrium temperature initialization completed.\n",
      "2022-04-04 19:19:25 [INFO] idaes.init.fs.state_block: Phase equilibrium initialization: optimal - Optimal Solution Found.\n",
      "2022-04-04 19:19:25 [INFO] idaes.init.fs.state_block: Property initialization: optimal - Optimal Solution Found.\n",
      "2022-04-04 19:19:25 [INFO] idaes.init.fs.state_block: Property package initialization: optimal - Optimal Solution Found.\n",
      "11    399600.0\n",
      "Name: pressure, dtype: float64\n",
      "2022-04-04 19:19:25 [INFO] idaes.init.fs.state_block: Starting initialization\n",
      "2022-04-04 19:19:25 [INFO] idaes.init.fs.state_block: Dew and bubble point initialization: optimal - Optimal Solution Found.\n",
      "2022-04-04 19:19:25 [INFO] idaes.init.fs.state_block: Equilibrium temperature initialization completed.\n",
      "2022-04-04 19:19:25 [INFO] idaes.init.fs.state_block: Phase equilibrium initialization: optimal - Optimal Solution Found.\n"
     ]
    },
    {
     "name": "stdout",
     "output_type": "stream",
     "text": [
      "2022-04-04 19:19:25 [INFO] idaes.init.fs.state_block: Property initialization: optimal - Optimal Solution Found.\n",
      "2022-04-04 19:19:25 [INFO] idaes.init.fs.state_block: Property package initialization: optimal - Optimal Solution Found.\n",
      "12    499900.0\n",
      "Name: pressure, dtype: float64\n",
      "2022-04-04 19:19:25 [INFO] idaes.init.fs.state_block: Starting initialization\n",
      "2022-04-04 19:19:25 [INFO] idaes.init.fs.state_block: Dew and bubble point initialization: optimal - Optimal Solution Found.\n",
      "2022-04-04 19:19:25 [INFO] idaes.init.fs.state_block: Equilibrium temperature initialization completed.\n",
      "2022-04-04 19:19:26 [INFO] idaes.init.fs.state_block: Phase equilibrium initialization: optimal - Optimal Solution Found.\n",
      "2022-04-04 19:19:26 [INFO] idaes.init.fs.state_block: Property initialization: optimal - Optimal Solution Found.\n",
      "2022-04-04 19:19:26 [INFO] idaes.init.fs.state_block: Property package initialization: optimal - Optimal Solution Found.\n",
      "13    599700.0\n",
      "Name: pressure, dtype: float64\n",
      "2022-04-04 19:19:26 [INFO] idaes.init.fs.state_block: Starting initialization\n",
      "2022-04-04 19:19:26 [INFO] idaes.init.fs.state_block: Dew and bubble point initialization: optimal - Optimal Solution Found.\n",
      "2022-04-04 19:19:26 [INFO] idaes.init.fs.state_block: Equilibrium temperature initialization completed.\n",
      "2022-04-04 19:19:26 [INFO] idaes.init.fs.state_block: Phase equilibrium initialization: optimal - Optimal Solution Found.\n",
      "2022-04-04 19:19:26 [INFO] idaes.init.fs.state_block: Property initialization: optimal - Optimal Solution Found.\n",
      "2022-04-04 19:19:26 [INFO] idaes.init.fs.state_block: Property package initialization: optimal - Optimal Solution Found.\n",
      "14    800100.0\n",
      "Name: pressure, dtype: float64\n",
      "2022-04-04 19:19:26 [INFO] idaes.init.fs.state_block: Starting initialization\n",
      "2022-04-04 19:19:26 [INFO] idaes.init.fs.state_block: Dew and bubble point initialization: optimal - Optimal Solution Found.\n",
      "2022-04-04 19:19:26 [INFO] idaes.init.fs.state_block: Equilibrium temperature initialization completed.\n",
      "2022-04-04 19:19:26 [INFO] idaes.init.fs.state_block: Phase equilibrium initialization: optimal - Optimal Solution Found.\n",
      "2022-04-04 19:19:26 [INFO] idaes.init.fs.state_block: Property initialization: optimal - Optimal Solution Found.\n",
      "2022-04-04 19:19:26 [INFO] idaes.init.fs.state_block: Property package initialization: optimal - Optimal Solution Found.\n",
      "15    999800.0\n",
      "Name: pressure, dtype: float64\n",
      "2022-04-04 19:19:26 [INFO] idaes.init.fs.state_block: Starting initialization\n",
      "2022-04-04 19:19:27 [INFO] idaes.init.fs.state_block: Dew and bubble point initialization: optimal - Optimal Solution Found.\n",
      "2022-04-04 19:19:27 [INFO] idaes.init.fs.state_block: Equilibrium temperature initialization completed.\n",
      "2022-04-04 19:19:27 [INFO] idaes.init.fs.state_block: Phase equilibrium initialization: optimal - Optimal Solution Found.\n",
      "2022-04-04 19:19:27 [INFO] idaes.init.fs.state_block: Property initialization: optimal - Optimal Solution Found.\n",
      "2022-04-04 19:19:27 [INFO] idaes.init.fs.state_block: Property package initialization: optimal - Optimal Solution Found.\n",
      "16    99800.0\n",
      "Name: pressure, dtype: float64\n",
      "2022-04-04 19:19:27 [INFO] idaes.init.fs.state_block: Starting initialization\n",
      "2022-04-04 19:19:27 [INFO] idaes.init.fs.state_block: Dew and bubble point initialization: optimal - Optimal Solution Found.\n",
      "2022-04-04 19:19:27 [INFO] idaes.init.fs.state_block: Equilibrium temperature initialization completed.\n",
      "2022-04-04 19:19:27 [INFO] idaes.init.fs.state_block: Phase equilibrium initialization: optimal - Optimal Solution Found.\n",
      "2022-04-04 19:19:27 [INFO] idaes.init.fs.state_block: Property initialization: optimal - Optimal Solution Found.\n",
      "2022-04-04 19:19:27 [INFO] idaes.init.fs.state_block: Property package initialization: optimal - Optimal Solution Found.\n",
      "17    200000.0\n",
      "Name: pressure, dtype: float64\n",
      "2022-04-04 19:19:27 [INFO] idaes.init.fs.state_block: Starting initialization\n",
      "2022-04-04 19:19:27 [INFO] idaes.init.fs.state_block: Dew and bubble point initialization: optimal - Optimal Solution Found.\n",
      "2022-04-04 19:19:27 [INFO] idaes.init.fs.state_block: Equilibrium temperature initialization completed.\n",
      "2022-04-04 19:19:27 [INFO] idaes.init.fs.state_block: Phase equilibrium initialization: optimal - Optimal Solution Found.\n",
      "2022-04-04 19:19:28 [INFO] idaes.init.fs.state_block: Property initialization: optimal - Optimal Solution Found.\n",
      "2022-04-04 19:19:28 [INFO] idaes.init.fs.state_block: Property package initialization: optimal - Optimal Solution Found.\n",
      "18    299800.0\n",
      "Name: pressure, dtype: float64\n",
      "2022-04-04 19:19:28 [INFO] idaes.init.fs.state_block: Starting initialization\n",
      "2022-04-04 19:19:28 [INFO] idaes.init.fs.state_block: Dew and bubble point initialization: optimal - Optimal Solution Found.\n",
      "2022-04-04 19:19:28 [INFO] idaes.init.fs.state_block: Equilibrium temperature initialization completed.\n",
      "2022-04-04 19:19:28 [INFO] idaes.init.fs.state_block: Phase equilibrium initialization: optimal - Optimal Solution Found.\n",
      "2022-04-04 19:19:28 [INFO] idaes.init.fs.state_block: Property initialization: optimal - Optimal Solution Found.\n",
      "2022-04-04 19:19:28 [INFO] idaes.init.fs.state_block: Property package initialization: optimal - Optimal Solution Found.\n",
      "19    399600.0\n",
      "Name: pressure, dtype: float64\n",
      "2022-04-04 19:19:28 [INFO] idaes.init.fs.state_block: Starting initialization\n",
      "2022-04-04 19:19:28 [INFO] idaes.init.fs.state_block: Dew and bubble point initialization: optimal - Optimal Solution Found.\n",
      "2022-04-04 19:19:28 [INFO] idaes.init.fs.state_block: Equilibrium temperature initialization completed.\n",
      "2022-04-04 19:19:28 [INFO] idaes.init.fs.state_block: Phase equilibrium initialization: optimal - Optimal Solution Found.\n",
      "2022-04-04 19:19:28 [INFO] idaes.init.fs.state_block: Property initialization: optimal - Optimal Solution Found.\n",
      "2022-04-04 19:19:28 [INFO] idaes.init.fs.state_block: Property package initialization: optimal - Optimal Solution Found.\n",
      "20    500200.0\n",
      "Name: pressure, dtype: float64\n",
      "2022-04-04 19:19:28 [INFO] idaes.init.fs.state_block: Starting initialization\n",
      "2022-04-04 19:19:28 [INFO] idaes.init.fs.state_block: Dew and bubble point initialization: optimal - Optimal Solution Found.\n",
      "2022-04-04 19:19:28 [INFO] idaes.init.fs.state_block: Equilibrium temperature initialization completed.\n",
      "2022-04-04 19:19:29 [INFO] idaes.init.fs.state_block: Phase equilibrium initialization: optimal - Optimal Solution Found.\n",
      "2022-04-04 19:19:29 [INFO] idaes.init.fs.state_block: Property initialization: optimal - Optimal Solution Found.\n",
      "2022-04-04 19:19:29 [INFO] idaes.init.fs.state_block: Property package initialization: optimal - Optimal Solution Found.\n",
      "21    599700.0\n",
      "Name: pressure, dtype: float64\n",
      "2022-04-04 19:19:29 [INFO] idaes.init.fs.state_block: Starting initialization\n",
      "2022-04-04 19:19:29 [INFO] idaes.init.fs.state_block: Dew and bubble point initialization: optimal - Optimal Solution Found.\n",
      "2022-04-04 19:19:29 [INFO] idaes.init.fs.state_block: Equilibrium temperature initialization completed.\n",
      "2022-04-04 19:19:29 [INFO] idaes.init.fs.state_block: Phase equilibrium initialization: optimal - Optimal Solution Found.\n",
      "2022-04-04 19:19:29 [INFO] idaes.init.fs.state_block: Property initialization: optimal - Optimal Solution Found.\n",
      "2022-04-04 19:19:29 [INFO] idaes.init.fs.state_block: Property package initialization: optimal - Optimal Solution Found.\n",
      "22    799900.0\n",
      "Name: pressure, dtype: float64\n",
      "2022-04-04 19:19:29 [INFO] idaes.init.fs.state_block: Starting initialization\n",
      "2022-04-04 19:19:29 [INFO] idaes.init.fs.state_block: Dew and bubble point initialization: optimal - Optimal Solution Found.\n",
      "2022-04-04 19:19:29 [INFO] idaes.init.fs.state_block: Equilibrium temperature initialization completed.\n",
      "2022-04-04 19:19:29 [INFO] idaes.init.fs.state_block: Phase equilibrium initialization: optimal - Optimal Solution Found.\n",
      "2022-04-04 19:19:29 [INFO] idaes.init.fs.state_block: Property initialization: optimal - Optimal Solution Found.\n",
      "2022-04-04 19:19:29 [INFO] idaes.init.fs.state_block: Property package initialization: optimal - Optimal Solution Found.\n",
      "23    1000100.0\n",
      "Name: pressure, dtype: float64\n",
      "2022-04-04 19:19:29 [INFO] idaes.init.fs.state_block: Starting initialization\n",
      "2022-04-04 19:19:30 [INFO] idaes.init.fs.state_block: Dew and bubble point initialization: optimal - Optimal Solution Found.\n"
     ]
    },
    {
     "name": "stdout",
     "output_type": "stream",
     "text": [
      "2022-04-04 19:19:30 [INFO] idaes.init.fs.state_block: Equilibrium temperature initialization completed.\n",
      "2022-04-04 19:19:30 [INFO] idaes.init.fs.state_block: Phase equilibrium initialization: optimal - Optimal Solution Found.\n",
      "2022-04-04 19:19:30 [INFO] idaes.init.fs.state_block: Property initialization: optimal - Optimal Solution Found.\n",
      "2022-04-04 19:19:30 [INFO] idaes.init.fs.state_block: Property package initialization: optimal - Optimal Solution Found.\n",
      "24    100000.0\n",
      "Name: pressure, dtype: float64\n",
      "2022-04-04 19:19:30 [INFO] idaes.init.fs.state_block: Starting initialization\n",
      "2022-04-04 19:19:30 [INFO] idaes.init.fs.state_block: Dew and bubble point initialization: optimal - Optimal Solution Found.\n",
      "2022-04-04 19:19:30 [INFO] idaes.init.fs.state_block: Equilibrium temperature initialization completed.\n",
      "2022-04-04 19:19:30 [INFO] idaes.init.fs.state_block: Phase equilibrium initialization: optimal - Optimal Solution Found.\n",
      "2022-04-04 19:19:30 [INFO] idaes.init.fs.state_block: Property initialization: optimal - Optimal Solution Found.\n",
      "2022-04-04 19:19:30 [INFO] idaes.init.fs.state_block: Property package initialization: optimal - Optimal Solution Found.\n",
      "25    199700.0\n",
      "Name: pressure, dtype: float64\n",
      "2022-04-04 19:19:30 [INFO] idaes.init.fs.state_block: Starting initialization\n",
      "2022-04-04 19:19:30 [INFO] idaes.init.fs.state_block: Dew and bubble point initialization: optimal - Optimal Solution Found.\n",
      "2022-04-04 19:19:30 [INFO] idaes.init.fs.state_block: Equilibrium temperature initialization completed.\n",
      "2022-04-04 19:19:30 [INFO] idaes.init.fs.state_block: Phase equilibrium initialization: optimal - Optimal Solution Found.\n",
      "2022-04-04 19:19:31 [INFO] idaes.init.fs.state_block: Property initialization: optimal - Optimal Solution Found.\n",
      "2022-04-04 19:19:31 [INFO] idaes.init.fs.state_block: Property package initialization: optimal - Optimal Solution Found.\n",
      "26    299800.0\n",
      "Name: pressure, dtype: float64\n",
      "2022-04-04 19:19:31 [INFO] idaes.init.fs.state_block: Starting initialization\n",
      "2022-04-04 19:19:31 [INFO] idaes.init.fs.state_block: Dew and bubble point initialization: optimal - Optimal Solution Found.\n",
      "2022-04-04 19:19:31 [INFO] idaes.init.fs.state_block: Equilibrium temperature initialization completed.\n",
      "2022-04-04 19:19:31 [INFO] idaes.init.fs.state_block: Phase equilibrium initialization: optimal - Optimal Solution Found.\n",
      "2022-04-04 19:19:31 [INFO] idaes.init.fs.state_block: Property initialization: optimal - Optimal Solution Found.\n",
      "2022-04-04 19:19:31 [INFO] idaes.init.fs.state_block: Property package initialization: optimal - Optimal Solution Found.\n",
      "27    399800.0\n",
      "Name: pressure, dtype: float64\n",
      "2022-04-04 19:19:31 [INFO] idaes.init.fs.state_block: Starting initialization\n",
      "2022-04-04 19:19:31 [INFO] idaes.init.fs.state_block: Dew and bubble point initialization: optimal - Optimal Solution Found.\n",
      "2022-04-04 19:19:31 [INFO] idaes.init.fs.state_block: Equilibrium temperature initialization completed.\n",
      "2022-04-04 19:19:31 [INFO] idaes.init.fs.state_block: Phase equilibrium initialization: optimal - Optimal Solution Found.\n",
      "2022-04-04 19:19:31 [INFO] idaes.init.fs.state_block: Property initialization: optimal - Optimal Solution Found.\n",
      "2022-04-04 19:19:31 [INFO] idaes.init.fs.state_block: Property package initialization: optimal - Optimal Solution Found.\n",
      "28    500100.0\n",
      "Name: pressure, dtype: float64\n",
      "2022-04-04 19:19:31 [INFO] idaes.init.fs.state_block: Starting initialization\n",
      "2022-04-04 19:19:31 [INFO] idaes.init.fs.state_block: Dew and bubble point initialization: optimal - Optimal Solution Found.\n",
      "2022-04-04 19:19:31 [INFO] idaes.init.fs.state_block: Equilibrium temperature initialization completed.\n",
      "2022-04-04 19:19:32 [INFO] idaes.init.fs.state_block: Phase equilibrium initialization: optimal - Optimal Solution Found.\n",
      "2022-04-04 19:19:32 [INFO] idaes.init.fs.state_block: Property initialization: optimal - Optimal Solution Found.\n",
      "2022-04-04 19:19:32 [INFO] idaes.init.fs.state_block: Property package initialization: optimal - Optimal Solution Found.\n",
      "29    599600.0\n",
      "Name: pressure, dtype: float64\n",
      "2022-04-04 19:19:32 [INFO] idaes.init.fs.state_block: Starting initialization\n",
      "2022-04-04 19:19:32 [INFO] idaes.init.fs.state_block: Dew and bubble point initialization: optimal - Optimal Solution Found.\n",
      "2022-04-04 19:19:32 [INFO] idaes.init.fs.state_block: Equilibrium temperature initialization completed.\n",
      "2022-04-04 19:19:32 [INFO] idaes.init.fs.state_block: Phase equilibrium initialization: optimal - Optimal Solution Found.\n",
      "2022-04-04 19:19:32 [INFO] idaes.init.fs.state_block: Property initialization: optimal - Optimal Solution Found.\n",
      "2022-04-04 19:19:32 [INFO] idaes.init.fs.state_block: Property package initialization: optimal - Optimal Solution Found.\n",
      "30    799800.0\n",
      "Name: pressure, dtype: float64\n",
      "2022-04-04 19:19:32 [INFO] idaes.init.fs.state_block: Starting initialization\n",
      "2022-04-04 19:19:32 [INFO] idaes.init.fs.state_block: Dew and bubble point initialization: optimal - Optimal Solution Found.\n",
      "2022-04-04 19:19:32 [INFO] idaes.init.fs.state_block: Equilibrium temperature initialization completed.\n",
      "2022-04-04 19:19:32 [INFO] idaes.init.fs.state_block: Phase equilibrium initialization: optimal - Optimal Solution Found.\n",
      "2022-04-04 19:19:33 [INFO] idaes.init.fs.state_block: Property initialization: optimal - Optimal Solution Found.\n",
      "2022-04-04 19:19:33 [INFO] idaes.init.fs.state_block: Property package initialization: optimal - Optimal Solution Found.\n",
      "31    999700.0\n",
      "Name: pressure, dtype: float64\n",
      "2022-04-04 19:19:33 [INFO] idaes.init.fs.state_block: Starting initialization\n",
      "2022-04-04 19:19:33 [INFO] idaes.init.fs.state_block: Dew and bubble point initialization: optimal - Optimal Solution Found.\n",
      "2022-04-04 19:19:33 [INFO] idaes.init.fs.state_block: Equilibrium temperature initialization completed.\n",
      "2022-04-04 19:19:33 [INFO] idaes.init.fs.state_block: Phase equilibrium initialization: optimal - Optimal Solution Found.\n",
      "2022-04-04 19:19:33 [INFO] idaes.init.fs.state_block: Property initialization: optimal - Optimal Solution Found.\n",
      "2022-04-04 19:19:33 [INFO] idaes.init.fs.state_block: Property package initialization: optimal - Optimal Solution Found.\n",
      "Ipopt 3.13.2: bound_relax_factor=0\n",
      "honor_original_bounds=no\n",
      "\n",
      "\n",
      "******************************************************************************\n",
      "This program contains Ipopt, a library for large-scale nonlinear optimization.\n",
      " Ipopt is released as open source code under the Eclipse Public License (EPL).\n",
      "         For more information visit http://projects.coin-or.org/Ipopt\n",
      "\n",
      "This version of Ipopt was compiled from source code available at\n",
      "    https://github.com/IDAES/Ipopt as part of the Institute for the Design of\n",
      "    Advanced Energy Systems Process Systems Engineering Framework (IDAES PSE\n",
      "    Framework) Copyright (c) 2018-2019. See https://github.com/IDAES/idaes-pse.\n",
      "\n",
      "This version of Ipopt was compiled using HSL, a collection of Fortran codes\n",
      "    for large-scale scientific computation.  All technical papers, sales and\n",
      "    publicity material resulting from use of the HSL codes within IPOPT must\n",
      "    contain the following acknowledgement:\n",
      "        HSL, a collection of Fortran codes for large-scale scientific\n",
      "        computation. See http://www.hsl.rl.ac.uk.\n",
      "******************************************************************************\n",
      "\n",
      "This is Ipopt version 3.13.2, running with linear solver ma27.\n",
      "\n",
      "Number of nonzeros in equality constraint Jacobian...:     1084\n",
      "Number of nonzeros in inequality constraint Jacobian.:        0\n",
      "Number of nonzeros in Lagrangian Hessian.............:     1088\n",
      "\n",
      "Total number of variables............................:      448\n",
      "                     variables with only lower bounds:      128\n",
      "                variables with lower and upper bounds:      256\n",
      "                     variables with only upper bounds:        0\n",
      "Total number of equality constraints.................:      446\n",
      "Total number of inequality constraints...............:        0\n",
      "        inequality constraints with only lower bounds:        0\n",
      "   inequality constraints with lower and upper bounds:        0\n",
      "        inequality constraints with only upper bounds:        0\n",
      "\n",
      "iter    objective    inf_pr   inf_du lg(mu)  ||d||  lg(rg) alpha_du alpha_pr  ls\n",
      "   0  0.0000000e+00 3.40e-01 3.55e-15  -1.0 0.00e+00    -  0.00e+00 0.00e+00   0\n",
      "   1  1.5574506e-02 2.43e-01 2.97e+04  -1.0 3.43e+04    -  4.83e-01 2.86e-01h  1\n",
      "   2  1.6049927e-02 2.41e-01 2.96e+04  -1.0 5.41e+04    -  7.37e-01 6.10e-03h  1\n"
     ]
    },
    {
     "name": "stdout",
     "output_type": "stream",
     "text": [
      "   3  1.6217018e+00 2.98e-01 9.30e+04  -1.0 1.37e+05    -  8.00e-01 5.75e-01h  1\n",
      "   4  3.6574382e+00 2.18e-01 1.62e+05  -1.0 8.65e+04    -  1.47e-01 4.77e-01h  1\n",
      "   5  3.6618189e+00 2.17e-01 1.54e+05  -1.0 3.87e+04  -4.0 9.66e-03 2.63e-03h  1\n",
      "   6  3.6862735e+00 2.09e-01 9.81e+04  -1.0 4.15e+04  -4.5 1.54e-02 1.52e-02h  1\n",
      "   7  4.6668455e+00 1.52e-01 6.34e+04  -1.0 4.73e+04    -  7.95e-01 3.26e-01H  1\n",
      "   8  5.2245858e+00 1.08e-01 4.77e+04  -1.0 3.25e+04    -  4.04e-01 2.47e-01h  3\n",
      "   9  5.2792114e+00 1.05e-01 4.63e+04  -1.0 2.47e+04    -  9.64e-01 3.09e-02h  6\n",
      "iter    objective    inf_pr   inf_du lg(mu)  ||d||  lg(rg) alpha_du alpha_pr  ls\n",
      "  10  5.2808730e+00 1.05e-01 4.62e+04  -1.0 2.40e+04    -  9.76e-01 9.67e-04h 11\n",
      "  11  5.2817035e+00 1.05e-01 4.62e+04  -1.0 2.40e+04    -  9.90e-01 4.83e-04h 12\n",
      "  12  5.2819111e+00 1.05e-01 4.62e+04  -1.0 2.40e+04    -  9.92e-01 1.21e-04h 14\n",
      "  13  5.2820149e+00 1.05e-01 4.62e+04  -1.0 2.40e+04    -  1.00e+00 6.04e-05h 15\n",
      "  14  5.2820408e+00 1.05e-01 4.62e+04  -1.0 2.40e+04    -  1.00e+00 1.51e-05h 17\n",
      "  15  7.1218286e+00 7.06e+01 8.49e+03  -1.0 2.40e+04    -  9.90e-01 9.90e-01s 22\n",
      "  16  2.0237219e+01 8.24e+00 1.58e+02  -1.0 7.04e+05    -  8.83e-01 8.83e-01s 22\n",
      "  17  2.1916715e+01 7.68e+00 1.51e+02  -1.0 5.91e+05    -  6.77e-02 6.77e-02s 22\n",
      "  18  2.4855444e+01 6.84e+00 1.43e+02  -1.0 5.76e+05    -  1.10e-01 1.10e-01s 22\n",
      "  19  2.7714624e+01 6.18e+00 1.36e+02  -1.0 5.83e+05    -  9.66e-02 9.66e-02s 22\n",
      "iter    objective    inf_pr   inf_du lg(mu)  ||d||  lg(rg) alpha_du alpha_pr  ls\n",
      "  20r 2.7714624e+01 6.18e+00 1.00e+03   0.8 0.00e+00    -  0.00e+00 0.00e+00R  1\n",
      "  21r 2.7714659e+01 1.12e-01 9.96e+02   0.8 4.99e+03    -  8.21e-03 1.23e-03f  1\n",
      "  22  3.7193960e+01 9.89e-02 6.67e+02  -1.0 1.07e+06    -  5.92e-02 1.46e-01h  3\n",
      "  23  3.6919008e+01 9.28e-02 2.36e+02  -1.0 2.88e+05    -  1.21e-01 6.19e-02f  5\n",
      "  24  2.7110397e+01 6.81e-02 3.48e+03  -1.0 8.36e+05    -  2.59e-01 4.95e-01f  2\n",
      "  25  2.7330589e+01 4.84e-02 1.34e+04  -1.0 4.29e+05    -  1.00e+00 4.95e-01h  2\n",
      "  26  3.0892733e+01 1.08e-02 7.30e+02  -1.0 1.95e+05    -  1.00e+00 9.90e-01h  1\n",
      "  27  3.0717450e+01 1.05e-04 5.94e+04  -1.0 5.58e+03    -  1.00e+00 9.90e-01h  1\n",
      "  28  3.0716557e+01 1.04e-06 5.94e+06  -1.0 1.49e+01    -  1.00e+00 9.90e-01h  1\n",
      "  29  3.0716548e+01 1.04e-08 5.94e+08  -1.0 1.42e-01    -  1.00e+00 9.90e-01h  1\n",
      "iter    objective    inf_pr   inf_du lg(mu)  ||d||  lg(rg) alpha_du alpha_pr  ls\n",
      "  30  3.0716548e+01 1.04e-10 5.94e+10  -1.0 1.41e-03    -  1.00e+00 9.90e-01h  1\n",
      "In iteration 30, 32 Slacks too small, adjusting variable bounds\n",
      "  31  3.0716548e+01 1.05e-12 5.94e+12  -1.0 1.44e-05    -  1.00e+00 9.90e-01h  1\n",
      "  32  3.0716548e+01 8.58e-13 5.57e-02  -1.0 1.92e-07    -  1.00e+00 1.00e+00h  1\n",
      "  33  3.0716533e+01 2.02e-12 6.01e+12  -9.0 7.30e+03    -  9.92e-01 1.09e-04f 14\n",
      "  34  3.0716526e+01 2.47e-12 6.06e+12  -9.0 7.40e+03    -  9.97e-01 6.09e-05f 15\n",
      "  35  3.0716519e+01 2.70e-12 6.06e+12  -9.0 7.40e+03    -  1.00e+00 6.10e-05f 15\n",
      "  36  3.0716516e+01 2.98e-12 6.06e+12  -9.0 7.40e+03    -  1.00e+00 3.05e-05f 16\n",
      "  37  3.0716512e+01 3.04e-12 6.06e+12  -9.0 7.40e+03    -  1.00e+00 3.05e-05f 16\n",
      "  38  3.0602766e+01 1.72e-04 5.10e+05  -9.0 7.40e+03    -  1.00e+00 1.00e+00f  1\n",
      "  39  3.0602440e+01 5.63e-10 6.82e-05  -9.0 1.46e+01    -  1.00e+00 1.00e+00h  1\n",
      "iter    objective    inf_pr   inf_du lg(mu)  ||d||  lg(rg) alpha_du alpha_pr  ls\n",
      "  40  3.0602440e+01 5.35e-13 7.28e-12  -9.0 2.60e-03    -  1.00e+00 1.00e+00h  1\n",
      "\n",
      "Number of Iterations....: 40\n",
      "\n",
      "                                   (scaled)                 (unscaled)\n",
      "Objective...............:   3.0602440219348665e+01    3.0602440219348665e+01\n",
      "Dual infeasibility......:   7.2759576141834259e-12    7.2759576141834259e-12\n",
      "Constraint violation....:   5.3468340865947539e-13    5.3468340865947539e-13\n",
      "Complementarity.........:   9.0909090909090931e-10    9.0909090909090931e-10\n",
      "Overall NLP error.......:   3.3330604038409482e-11    9.0909090909090931e-10\n",
      "\n",
      "\n",
      "Number of objective function evaluations             = 261\n",
      "Number of objective gradient evaluations             = 41\n",
      "Number of equality constraint evaluations            = 261\n",
      "Number of inequality constraint evaluations          = 0\n",
      "Number of equality constraint Jacobian evaluations   = 42\n",
      "Number of inequality constraint Jacobian evaluations = 0\n",
      "Number of Lagrangian Hessian evaluations             = 40\n",
      "Total CPU secs in IPOPT (w/o function evaluations)   =      0.058\n",
      "Total CPU secs in NLP function evaluations           =      1.721\n",
      "\n",
      "EXIT: Optimal Solution Found.\n",
      "WARNING: The current pynumero_ASL library is version=2, but found version=1.\n",
      "    Please recompile / update your pynumero_ASL library.\n",
      "The SSE at the optimal solution is 30.602440\n",
      "\n",
      "The values for the parameters are as follows:\n",
      "fs.properties.PR_kappa_A[emimTf2N,R125] = 0.09027731162171636\n",
      "fs.properties.PR_kappa_A[R125,emimTf2N] = 0.023245367418463066\n",
      "covariance_matrix                                          fs.properties.PR_kappa_A[emimTf2N,R125]  \\\n",
      "fs.properties.PR_kappa_A[emimTf2N,R125]                                 0.000014   \n",
      "fs.properties.PR_kappa_A[R125,emimTf2N]                                 0.000003   \n",
      "\n",
      "                                         fs.properties.PR_kappa_A[R125,emimTf2N]  \n",
      "fs.properties.PR_kappa_A[emimTf2N,R125]                             3.431011e-06  \n",
      "fs.properties.PR_kappa_A[R125,emimTf2N]                             8.411988e-07  \n"
     ]
    },
    {
     "name": "stderr",
     "output_type": "stream",
     "text": [
      "/Users/bridgettebefort/opt/anaconda3/envs/idaes-pse-dev/lib/python3.9/site-packages/pyomo/contrib/interior_point/interface.py:418: RuntimeWarning: divide by zero encountered in true_divide\n",
      "  data = (duals_primals_lb/(primals - self._nlp.primals_lb()) +\n"
     ]
    }
   ],
   "source": [
    "parameters, obj_value, a = constant(data_subset, configuration, 'R125', 'emimTf2N', \"x_R125\", \"x_emimTf2N\", \n",
    "    init_temp =  298.15, init_press =   399400 , init_x_c1 =    0.417, init_x_c2 = 0.583,\n",
    "    init_kappa_A_2_1 = -0.02, init_kappa_A_1_2 = 0.01, eps = 0.1, scaling_fac = 1e-9 , read=False)"
   ]
  },
  {
   "cell_type": "code",
   "execution_count": 8,
   "id": "collect-amount",
   "metadata": {},
   "outputs": [
    {
     "name": "stdout",
     "output_type": "stream",
     "text": [
      "Objective (SSE): 30.602440219348665\n"
     ]
    }
   ],
   "source": [
    "print('Objective (SSE):',obj_value)"
   ]
  },
  {
   "cell_type": "code",
   "execution_count": 9,
   "id": "fewer-madonna",
   "metadata": {},
   "outputs": [
    {
     "name": "stdout",
     "output_type": "stream",
     "text": [
      "Covariance Matrix:\n",
      "[[1.39941204e-05 3.43101102e-06]\n",
      " [3.43101102e-06 8.41198760e-07]]\n"
     ]
    }
   ],
   "source": [
    "cov = np.array(a)\n",
    "print('Covariance Matrix:')\n",
    "print(cov)"
   ]
  },
  {
   "cell_type": "code",
   "execution_count": 10,
   "id": "82565267",
   "metadata": {},
   "outputs": [],
   "source": [
    "np.savetxt('Data/Covariance/PR_Cov_2parameter.csv',cov,delimiter=',')"
   ]
  },
  {
   "cell_type": "markdown",
   "id": "received-chuck",
   "metadata": {},
   "source": [
    "## Apply Parameters + Plot"
   ]
  },
  {
   "cell_type": "code",
   "execution_count": 11,
   "id": "homeless-banana",
   "metadata": {},
   "outputs": [],
   "source": [
    "solver = SolverFactory('ipopt')\n",
    "solver.options = {'tol': 1e-6}"
   ]
  },
  {
   "cell_type": "code",
   "execution_count": 18,
   "id": "historical-spice",
   "metadata": {},
   "outputs": [
    {
     "name": "stdout",
     "output_type": "stream",
     "text": [
      "0.992\n",
      "0.915\n",
      "0.832\n",
      "0.75\n",
      "0.669\n",
      "0.587\n",
      "0.504\n",
      "0.417\n",
      "0.319\n",
      "0.994\n",
      "0.945\n",
      "0.891\n",
      "0.839\n",
      "0.787\n",
      "0.733\n",
      "0.683\n",
      "0.578\n",
      "0.479\n",
      "0.996\n",
      "0.97\n",
      "0.941\n",
      "0.912\n",
      "0.883\n",
      "0.848\n",
      "0.824\n",
      "0.772\n",
      "0.715\n",
      "0.996\n",
      "0.982\n",
      "0.966\n",
      "0.95\n",
      "0.926\n",
      "0.903\n",
      "0.895\n",
      "0.86\n",
      "0.829\n"
     ]
    }
   ],
   "source": [
    "m = ConcreteModel()\n",
    "\n",
    "m.fs = FlowsheetBlock(default={\"dynamic\": False})\n",
    "\n",
    "m.fs.properties = GenericParameterBlock(default=configuration)\n",
    "\n",
    "m.fs.F101 = Flash(default={\"property_package\": m.fs.properties,\n",
    "                           \"has_heat_transfer\": True,\n",
    "                           \"has_pressure_change\": True})\n",
    "\n",
    "m.fs.F101.inlet.flow_mol.fix(1)\n",
    "m.fs.F101.inlet.temperature.fix(323.15)\n",
    "m.fs.F101.inlet.pressure.fix(399800)\n",
    "m.fs.F101.inlet.mole_frac_comp[0,'R125'].fix(0.5)\n",
    "\n",
    "m.fs.properties.PR_kappa_A['R125','emimTf2N'] = parameters['fs.properties.PR_kappa_A[R125,emimTf2N]']\n",
    "m.fs.properties.PR_kappa_A['emimTf2N','R125'] = parameters['fs.properties.PR_kappa_A[emimTf2N,R125]']\n",
    "\n",
    "# Initialize the flash unit\n",
    "m.fs.F101.initialize(outlvl=idaeslog.CRITICAL)\n",
    "\n",
    "# Fix the state variables on the state block\n",
    "# m.fs.F101.inlet.pressure.unfix()\n",
    "m.fs.F101.inlet.mole_frac_comp[0,'emimTf2N'].unfix()\n",
    "\n",
    "R125_x = np.zeros((len(data_full)))\n",
    "P = np.zeros((len(data_full)))\n",
    "\n",
    "m.fs.liq = Param(mutable=True,default=0.040)\n",
    "m.fs.liquid = Constraint(expr=m.fs.F101.liq_outlet.mole_frac_comp[0, \"emimTf2N\"] == m.fs.liq)\n",
    "\n",
    "for i in range(len(data_full)):\n",
    "    m.fs.liq = data_full[\"x_emimTf2N\"].iloc[i]\n",
    "    m.fs.F101.inlet.temperature.fix(float(data_full[\"temperature\"].iloc[i]))\n",
    "    m.fs.F101.inlet.pressure.fix(float(data_full[\"pressure\"].iloc[i]))\n",
    "    m.fs.F101.inlet.mole_frac_comp[0,'R125'].fix(float(data_full[\"x_R125\"].iloc[i])+0.1)\n",
    "    m.fs.F101.inlet.mole_frac_comp[0,'emimTf2N'].fix(float(1-(data_full[\"x_R125\"].iloc[i]+0.1)))\n",
    "    m.fs.F101.vap_outlet.temperature.fix(float(data_full[\"temperature\"].iloc[i]))\n",
    "    \n",
    "#     DOF_final = degrees_of_freedom(m)\n",
    "#     print(\"The final DOF is {0}\".format(DOF_final))\n",
    "    m.fs.F101.initialize(outlvl=idaeslog.CRITICAL)\n",
    "    \n",
    "    status = solver.solve(m, tee = False)\n",
    "\n",
    "#     m.fs.F101.report()\n",
    "    if (status.solver.status == SolverStatus.ok) and (status.solver.termination_condition == TerminationCondition.optimal):\n",
    "        print(data_full[\"x_emimTf2N\"].iloc[i])\n",
    "        R125_x[i] = value(m.fs.F101.liq_outlet.mole_frac_comp[0,'R125']) \n",
    "        P[i] = value(m.fs.F101.vap_outlet.pressure[0])\n",
    "\n",
    "    else:\n",
    "        print('Infeasible.')"
   ]
  },
  {
   "cell_type": "code",
   "execution_count": 19,
   "id": "fde93e5f",
   "metadata": {},
   "outputs": [],
   "source": [
    "fitted_data = pd.DataFrame(data=[R125_x,P/1e6])\n",
    "fitted_data = fitted_data.T\n",
    "fitted_data.columns = ['R125_x','P, MPa']\n",
    "fitted_data.to_csv('Data/Fits/PR_FittedData_2parameter.csv')"
   ]
  },
  {
   "cell_type": "code",
   "execution_count": 20,
   "id": "helpful-powell",
   "metadata": {},
   "outputs": [
    {
     "data": {
      "image/png": "[encoded data removed]",
      "text/plain": [
       "<Figure size 432x288 with 1 Axes>"
      ]
     },
     "metadata": {
      "needs_background": "light"
     },
     "output_type": "display_data"
    }
   ],
   "source": [
    "P1= np.zeros((len(P)))\n",
    "\n",
    "for i in range(len(P)):\n",
    "    P1[i] = P[i]/1e6\n",
    "\n",
    "fig, ax = plt.subplots()\n",
    "\n",
    "ax.plot(R125_x[0:9],P1[0:9],\"b*-\",label=\"T= 283 K\")  \n",
    "ax.plot(R125_x[9:18],P1[9:18],\"r*-\",label=\"T= 298 K\") \n",
    "ax.plot(R125_x[18:27],P1[18:27],\"c*-\",label=\"T= 323 K\") \n",
    "ax.plot(R125_x[27:],P1[27:],\"m-*\",label=\"T= 348 K\")\n",
    "ax.plot(data_full[\"x_R125\"],data_full[\"pressure\"]/1e6,\"*\",color='orange',label=\"data\")  \n",
    "\n",
    "# plt.title('Isotherm R32-[emim][TF2N]')\n",
    "ax.set_ylabel('Pressure, MPa',fontsize=24)\n",
    "ax.set_xlabel('HFC-125 Mole Fraction',fontsize=24)\n",
    "\n",
    "ax.set_xticks([0.0, 0.2, 0.4, 0.6, 0.8, 1.0])\n",
    "ax.set_xticks([0.1, 0.3, 0.5, 0.7, 0.9],minor=True)\n",
    "ax.set_yticks([0.0, 0.2, 0.4, 0.6, 0.8, 1.0, 1.2])\n",
    "ax.set_yticks([0.1, 0.3, 0.5, 0.7, 0.9, 1.1],minor=True)\n",
    "\n",
    "ax.tick_params(\"both\", direction=\"in\", which=\"both\", length=4, labelsize=20, pad=10)\n",
    "ax.tick_params(\"both\", which=\"major\", length=8)\n",
    "ax.xaxis.set_ticks_position(\"both\")\n",
    "ax.yaxis.set_ticks_position(\"both\")\n",
    "\n",
    "ax.legend(fontsize=12, handletextpad=0.00, loc=\"lower right\")#, bbox_to_anchor=(1, 0.5))\n",
    "fig.savefig('R125-emimTF2N-noTdep.pdf',bbox_inches='tight')\n",
    "plt.show()"
   ]
  },
  {
   "cell_type": "code",
   "execution_count": null,
   "id": "incomplete-innocent",
   "metadata": {},
   "outputs": [],
   "source": [
    "def make_ellipse(mu, cov, ci=0.95):\n",
    "    e, v = np.linalg.eig(cov)\n",
    "  \n",
    "    alpha = np.arctan(v[0,1]/v[0,0])\n",
    "    angle = -alpha*180/np.pi \n",
    "    q = stats.chi2(2).ppf(ci)\n",
    "    e = Ellipse(mu, 2*np.sqrt(q*e[0]), 2*np.sqrt(q*e[1]), angle=angle)\n",
    "    return e"
   ]
  },
  {
   "cell_type": "code",
   "execution_count": null,
   "id": "wanted-muslim",
   "metadata": {},
   "outputs": [],
   "source": [
    "plt.rcParams[\"font.family\"] = \"serif\"\n",
    "plt.rcParams[\"font.serif\"] = \"Times New Roman\"\n",
    "plt.rcParams[\"font.size\"] = 14\n",
    "\n",
    "mu = parameters['fs.properties.PR_kappa_A[R32,emimTf2N]'], parameters['fs.properties.PR_kappa_A[emimTf2N,R32]']\n",
    "\n",
    "e = make_ellipse(mu, cov, ci=0.95)\n",
    "\n",
    "e.set_alpha(0.25)\n",
    "e.set_facecolor('black')\n",
    "e.set_zorder(10)\n",
    "\n",
    "ax = plt.subplot()\n",
    "\n",
    "ax.add_artist(e)\n",
    "ax.scatter(parameters['fs.properties.PR_kappa_A[R32,emimTf2N]'],parameters['fs.properties.PR_kappa_A[emimTf2N,R32]'],c='black',label='Reported Parameter Values')\n",
    "\n",
    "# plt.title('95% confidence ellipse')\n",
    "plt.xlabel(\"$\\kappa_{21}$\")\n",
    "plt.ylabel(\"$\\kappa_{12}$\")\n",
    "\n",
    "# patch = mpatches.Patch(color='blue', label='Frequentist approach',alpha=1)\n",
    "\n",
    "# plt.legend(handles=[patch])\n",
    "plt.legend()\n",
    "ax.set(xlim=[-0.021, -0.02], ylim=[-0.03, -0.028])\n",
    "# plt.savefig('R32_hmimCl_ellipse.png')\n",
    "plt.show()"
   ]
  },
  {
   "cell_type": "code",
   "execution_count": null,
   "id": "dimensional-buying",
   "metadata": {},
   "outputs": [],
   "source": [
    "## Why is the covariance matrix not printing on plot??"
   ]
  },
  {
   "cell_type": "markdown",
   "id": "present-tulsa",
   "metadata": {},
   "source": [
    "### Print Eigvals, Eigvectors of Covariance\n",
    "\n",
    "An identifiability analysis can be performed with these as well as a FIM because the covariance matrix is the inverse of the FIM. That means that if there are any eigvals >> 0, their eigvecs indicate directions of un-identifiability."
   ]
  },
  {
   "cell_type": "code",
   "execution_count": 21,
   "id": "associate-retreat",
   "metadata": {},
   "outputs": [],
   "source": [
    "eigvals, eigvecs = np.linalg.eig(cov)"
   ]
  },
  {
   "cell_type": "code",
   "execution_count": 22,
   "id": "genuine-lucas",
   "metadata": {},
   "outputs": [
    {
     "data": {
      "text/plain": [
       "array([1.48353191e-05, 3.88421855e-15])"
      ]
     },
     "execution_count": 22,
     "metadata": {},
     "output_type": "execute_result"
    }
   ],
   "source": [
    "eigvals"
   ]
  },
  {
   "cell_type": "code",
   "execution_count": 23,
   "id": "historic-outside",
   "metadata": {},
   "outputs": [
    {
     "data": {
      "text/plain": [
       "array([[ 0.97123507, -0.23812274],\n",
       "       [ 0.23812274,  0.97123507]])"
      ]
     },
     "execution_count": 23,
     "metadata": {},
     "output_type": "execute_result"
    }
   ],
   "source": [
    "eigvecs"
   ]
  },
  {
   "cell_type": "code",
   "execution_count": 24,
   "id": "04f61538",
   "metadata": {},
   "outputs": [],
   "source": [
    "np.savetxt('Data/EigenAnalysis/PR_vals_2parameter.csv',eigvals,delimiter=',')\n",
    "np.savetxt('Data/EigenAnalysis/PR_vecs_2parameter.csv',eigvecs,delimiter=',')"
   ]
  },
  {
   "cell_type": "markdown",
   "id": "responsible-permission",
   "metadata": {},
   "source": [
    "Conclusion: Fully identifiable because all eigvals ~ 0 "
   ]
  },
  {
   "cell_type": "markdown",
   "id": "advised-saint",
   "metadata": {},
   "source": [
    "## FIM with Enthalpy of Vaporization (and Pressure)"
   ]
  },
  {
   "cell_type": "markdown",
   "id": "textile-bermuda",
   "metadata": {},
   "source": [
    "### Step 1: Perturb Parameters, Calculate Enthalpy of Vaporization\n",
    "\n",
    "1. Perturb Parameters: stepsize = 0.001\n",
    "\n",
    "2. Holding all other parameters constant, calculate new pressure predictions at different temps, compositions \n",
    "\n",
    "*T = (T1=298, T2=323)\n",
    "\n",
    "*x = (0.01,0.2,0.325,0.4)\n",
    "\n",
    "*Pguess comes from data_full\n",
    "\n",
    "3. Save P, Use Clausius Clapeyron to calculate enthvap"
   ]
  },
  {
   "cell_type": "code",
   "execution_count": null,
   "id": "tested-jones",
   "metadata": {},
   "outputs": [],
   "source": [
    "h = 0.001\n",
    "kR32_emimTF2N_plus = parameters['fs.properties.PR_kappa_A[R32,emimTf2N]'] + h\n",
    "kR32_emimTF2N_minus = parameters['fs.properties.PR_kappa_A[R32,emimTf2N]'] - h\n",
    "kemimTF2N_R32_plus = parameters['fs.properties.PR_kappa_A[emimTf2N,R32]'] + h\n",
    "kemimTF2N_R32_minus = parameters['fs.properties.PR_kappa_A[emimTf2N,R32]'] - h"
   ]
  },
  {
   "cell_type": "code",
   "execution_count": null,
   "id": "human-michigan",
   "metadata": {},
   "outputs": [],
   "source": [
    "data = np.array([[kR32_emimTF2N_plus,parameters['fs.properties.PR_kappa_A[emimTf2N,R32]']],\n",
    "                [kR32_emimTF2N_minus,parameters['fs.properties.PR_kappa_A[emimTf2N,R32]']],\n",
    "                [parameters['fs.properties.PR_kappa_A[R32,emimTf2N]'],kemimTF2N_R32_plus],\n",
    "               [parameters['fs.properties.PR_kappa_A[R32,emimTf2N]'],kemimTF2N_R32_minus]])"
   ]
  },
  {
   "cell_type": "code",
   "execution_count": null,
   "id": "painful-norman",
   "metadata": {},
   "outputs": [],
   "source": [
    "perturbed_params = pd.DataFrame(data=data,columns=['kR32_emimTF2N','kemimTF2N_R32'])\n",
    "perturbed_params"
   ]
  },
  {
   "cell_type": "code",
   "execution_count": null,
   "id": "stable-calculator",
   "metadata": {},
   "outputs": [],
   "source": [
    "x = [0.01,0.2,0.325,0.4]\n",
    "temps_298 = [298.15,298.15,298.15,298.15]\n",
    "pguess_298 = [9600,250000,399400,549000]\n",
    "temps_323 = [323.15,323.15,323.15,323.15]\n",
    "pguess_323 = [20400,400100,700300,1000000]"
   ]
  },
  {
   "cell_type": "code",
   "execution_count": null,
   "id": "latter-omega",
   "metadata": {},
   "outputs": [],
   "source": [
    "test_298 = pd.DataFrame()\n",
    "test_298['temperature'] = temps_298\n",
    "test_298['pressure'] = pguess_298\n",
    "test_298['x_R32'] = x\n",
    "test_298['x_emimTf2N'] = 1-test_298['x_R32']\n",
    "# test_298"
   ]
  },
  {
   "cell_type": "code",
   "execution_count": null,
   "id": "cellular-accordance",
   "metadata": {},
   "outputs": [],
   "source": [
    "test_323 = pd.DataFrame()\n",
    "test_323['temperature'] = temps_323\n",
    "test_323['pressure'] = pguess_323\n",
    "test_323['x_R32'] = x\n",
    "test_323['x_emimTf2N'] = 1-test_323['x_R32']\n",
    "# test_323"
   ]
  },
  {
   "cell_type": "code",
   "execution_count": null,
   "id": "catholic-costa",
   "metadata": {},
   "outputs": [],
   "source": [
    "test_data = pd.concat([test_298,test_323],ignore_index=True)"
   ]
  },
  {
   "cell_type": "code",
   "execution_count": null,
   "id": "induced-haven",
   "metadata": {},
   "outputs": [],
   "source": [
    "# Loop through test values\n",
    "\n",
    "R32_x = np.zeros((len(perturbed_params),len(test_data)))\n",
    "P = np.zeros((len(perturbed_params),len(test_data)))\n",
    "\n",
    "for j in range(len(perturbed_params)):\n",
    "\n",
    "    m = ConcreteModel()\n",
    "\n",
    "    m.fs = FlowsheetBlock(default={\"dynamic\": False})\n",
    "\n",
    "    m.fs.properties = GenericParameterBlock(default=configuration)\n",
    "\n",
    "    m.fs.F101 = Flash(default={\"property_package\": m.fs.properties,\n",
    "                               \"has_heat_transfer\": True,\n",
    "                               \"has_pressure_change\": True})\n",
    "\n",
    "    m.fs.F101.inlet.flow_mol.fix(1)\n",
    "    m.fs.F101.inlet.temperature.fix(323.15)\n",
    "    m.fs.F101.inlet.pressure.fix(399800)\n",
    "    m.fs.F101.inlet.mole_frac_comp[0,'R32'].fix(0.5)\n",
    "\n",
    "    m.fs.properties.PR_kappa_A['R32','emimTf2N'] = perturbed_params['kR32_emimTF2N'][j]\n",
    "    m.fs.properties.PR_kappa_A['emimTf2N','R32'] = perturbed_params['kemimTF2N_R32'][j]\n",
    "\n",
    "    # Initialize the flash unit\n",
    "    m.fs.F101.initialize(outlvl=idaeslog.CRITICAL)\n",
    "\n",
    "    # Fix the state variables on the state block\n",
    "    # m.fs.F101.inlet.pressure.unfix()\n",
    "    m.fs.F101.inlet.mole_frac_comp[0,'emimTf2N'].unfix()\n",
    "\n",
    "    m.fs.liq = Param(mutable=True,default=0.040)\n",
    "    m.fs.liquid = Constraint(expr=m.fs.F101.liq_outlet.mole_frac_comp[0, \"emimTf2N\"] == m.fs.liq)\n",
    "\n",
    "    for i in range(len(test_data)):\n",
    "        m.fs.liq = test_data[\"x_emimTf2N\"].iloc[i]\n",
    "        m.fs.F101.inlet.temperature.fix(float(test_data[\"temperature\"].iloc[i]))\n",
    "        m.fs.F101.inlet.pressure.fix(float(test_data[\"pressure\"].iloc[i]))\n",
    "        m.fs.F101.inlet.mole_frac_comp[0,'R32'].fix(float(test_data[\"x_R32\"].iloc[i])+0.1)\n",
    "        m.fs.F101.inlet.mole_frac_comp[0,'emimTf2N'].fix(float(1-(test_data[\"x_R32\"].iloc[i]+0.1)))\n",
    "        m.fs.F101.vap_outlet.temperature.fix(float(test_data[\"temperature\"].iloc[i]))\n",
    "\n",
    "    #     DOF_final = degrees_of_freedom(m)\n",
    "    #     print(\"The final DOF is {0}\".format(DOF_final))\n",
    "        m.fs.F101.initialize(outlvl=idaeslog.CRITICAL)\n",
    "\n",
    "        status = solver.solve(m, tee = False)\n",
    "\n",
    "    #     m.fs.F101.report()\n",
    "        if (status.solver.status == SolverStatus.ok) and (status.solver.termination_condition == TerminationCondition.optimal):\n",
    "            print(test_data[\"x_emimTf2N\"].iloc[i])\n",
    "            R32_x[j,i] = value(m.fs.F101.liq_outlet.mole_frac_comp[0,'R32'])\n",
    "            P[j,i] = value(m.fs.F101.vap_outlet.pressure[0])\n",
    "\n",
    "        else:\n",
    "            print('Infeasible.')"
   ]
  },
  {
   "cell_type": "code",
   "execution_count": null,
   "id": "collect-leisure",
   "metadata": {},
   "outputs": [],
   "source": [
    "test_data['P_kR32_emimTF2N_plus'] = P[0]\n",
    "test_data['P_kR32_emimTF2N_minus'] = P[1]\n",
    "test_data['P_kemimTF2N_R32_plus'] = P[2]\n",
    "test_data['P_kemimTF2N_R32_minus'] = P[3]"
   ]
  },
  {
   "cell_type": "code",
   "execution_count": null,
   "id": "parallel-upgrade",
   "metadata": {},
   "outputs": [],
   "source": [
    "grad_P = test_data"
   ]
  },
  {
   "cell_type": "code",
   "execution_count": null,
   "id": "level-venture",
   "metadata": {},
   "outputs": [],
   "source": [
    "test_data_298 = test_data[test_data['temperature']==298.15]\n",
    "test_data_323 = test_data[test_data['temperature']==323.15].reset_index()"
   ]
  },
  {
   "cell_type": "code",
   "execution_count": null,
   "id": "bright-groove",
   "metadata": {},
   "outputs": [],
   "source": [
    "R = 8.314 #J/mol-K\n",
    "hvap_calc_kR32_emimTF2N_plus = []\n",
    "for i in range(len(x)):\n",
    "    T2 = test_data_323['temperature'][i]\n",
    "    T1 = test_data_298['temperature'][i]\n",
    "    P2 = test_data_323['P_kR32_emimTF2N_plus'][i]\n",
    "    P1 = test_data_298['P_kR32_emimTF2N_plus'][i]\n",
    "    hvap_calc_kR32_emimTF2N_plus.append(np.log(P2/P1)*R/(1/T2-1/T1))\n",
    "\n",
    "hvap_calc_kR32_emimTF2N_minus = []\n",
    "for i in range(len(x)):\n",
    "    T2 = test_data_323['temperature'][i]\n",
    "    T1 = test_data_298['temperature'][i]\n",
    "    P2 = test_data_323['P_kR32_emimTF2N_minus'][i]\n",
    "    P1 = test_data_298['P_kR32_emimTF2N_minus'][i]\n",
    "    hvap_calc_kR32_emimTF2N_minus.append(np.log(P2/P1)*R/(1/T2-1/T1))\n",
    "    \n",
    "hvap_calc_kemimTF2N_R32_plus = []\n",
    "for i in range(len(x)):\n",
    "    T2 = test_data_323['temperature'][i]\n",
    "    T1 = test_data_298['temperature'][i]\n",
    "    P2 = test_data_323['P_kemimTF2N_R32_plus'][i]\n",
    "    P1 = test_data_298['P_kemimTF2N_R32_plus'][i]\n",
    "    hvap_calc_kemimTF2N_R32_plus.append(np.log(P2/P1)*R/(1/T2-1/T1))\n",
    "    \n",
    "hvap_calc_kemimTF2N_R32_minus = []\n",
    "for i in range(len(x)):\n",
    "    T2 = test_data_323['temperature'][i]\n",
    "    T1 = test_data_298['temperature'][i]\n",
    "    P2 = test_data_323['P_kemimTF2N_R32_minus'][i]\n",
    "    P1 = test_data_298['P_kemimTF2N_R32_minus'][i]\n",
    "    hvap_calc_kemimTF2N_R32_minus.append(np.log(P2/P1)*R/(1/T2-1/T1))"
   ]
  },
  {
   "cell_type": "code",
   "execution_count": null,
   "id": "million-guyana",
   "metadata": {},
   "outputs": [],
   "source": [
    "hvap = pd.DataFrame()\n",
    "hvap['x_R32'] = x\n",
    "hvap['hvap_kR32_emimTF2N_plus'] = hvap_calc_kR32_emimTF2N_plus\n",
    "hvap['hvap_kR32_emimTF2N_minus'] = hvap_calc_kR32_emimTF2N_minus\n",
    "hvap['hvap_kemimTF2N_R32_plus'] = hvap_calc_kemimTF2N_R32_plus\n",
    "hvap['hvap_kemimTF2N_R32_minus'] = hvap_calc_kemimTF2N_R32_minus"
   ]
  },
  {
   "cell_type": "code",
   "execution_count": null,
   "id": "noble-brass",
   "metadata": {},
   "outputs": [],
   "source": [
    "hvap"
   ]
  },
  {
   "cell_type": "markdown",
   "id": "quantitative-sodium",
   "metadata": {},
   "source": [
    "### Step 2: Calculate Gradient wrt each param at each concentration"
   ]
  },
  {
   "cell_type": "code",
   "execution_count": null,
   "id": "magnetic-encyclopedia",
   "metadata": {},
   "outputs": [],
   "source": [
    "grad_kR32_emimTF2N = (hvap['hvap_kR32_emimTF2N_plus'] - hvap['hvap_kR32_emimTF2N_minus'])/(2*h)\n",
    "grad_kemimTF2N_R32 = (hvap['hvap_kemimTF2N_R32_plus'] - hvap['hvap_kemimTF2N_R32_minus'])/(2*h)"
   ]
  },
  {
   "cell_type": "code",
   "execution_count": null,
   "id": "equipped-challenge",
   "metadata": {},
   "outputs": [],
   "source": [
    "grad_P['kR32_emimTF2N'] = (grad_P['P_kR32_emimTF2N_plus'] - grad_P['P_kR32_emimTF2N_minus'])/(2*h)\n",
    "grad_P['kemimTF2N_R32'] = (grad_P['P_kemimTF2N_R32_plus'] - grad_P['P_kemimTF2N_R32_minus'])/(2*h)"
   ]
  },
  {
   "cell_type": "markdown",
   "id": "ultimate-korean",
   "metadata": {},
   "source": [
    "### Step 3: Build Jacobian and FIM\n",
    "\n",
    "Rows: enthvap @ 4 concentrations; or pressure @ 4 concentrations, 2 temperatures\n",
    "\n",
    "Columns: parameters (2)"
   ]
  },
  {
   "cell_type": "code",
   "execution_count": null,
   "id": "marine-drama",
   "metadata": {},
   "outputs": [],
   "source": [
    "J_df = pd.DataFrame()\n",
    "J_df['kR32_emimTF2N'] = grad_kR32_emimTF2N\n",
    "J_df['kemimTF2N_R32'] = grad_kemimTF2N_R32"
   ]
  },
  {
   "cell_type": "code",
   "execution_count": null,
   "id": "leading-vinyl",
   "metadata": {},
   "outputs": [],
   "source": [
    "J = J_df.to_numpy()\n",
    "Jtrans = np.transpose(J)"
   ]
  },
  {
   "cell_type": "code",
   "execution_count": null,
   "id": "faced-undergraduate",
   "metadata": {},
   "outputs": [],
   "source": [
    "FIM = np.dot(Jtrans,J)"
   ]
  },
  {
   "cell_type": "code",
   "execution_count": null,
   "id": "noble-player",
   "metadata": {},
   "outputs": [],
   "source": [
    "FIM"
   ]
  },
  {
   "cell_type": "code",
   "execution_count": null,
   "id": "stable-packaging",
   "metadata": {},
   "outputs": [],
   "source": [
    "J_df_P = pd.DataFrame()\n",
    "J_df_P['kR32_emimTF2N'] = grad_P['kR32_emimTF2N']\n",
    "J_df_P['kemimTF2N_R32'] = grad_P['kemimTF2N_R32']"
   ]
  },
  {
   "cell_type": "code",
   "execution_count": null,
   "id": "rough-graduation",
   "metadata": {},
   "outputs": [],
   "source": [
    "J_P = J_df_P.to_numpy()\n",
    "J_Ptrans = np.transpose(J_P)"
   ]
  },
  {
   "cell_type": "code",
   "execution_count": null,
   "id": "complicated-smell",
   "metadata": {},
   "outputs": [],
   "source": [
    "FIM_P = np.dot(J_Ptrans,J_P)"
   ]
  },
  {
   "cell_type": "code",
   "execution_count": null,
   "id": "distinct-salmon",
   "metadata": {},
   "outputs": [],
   "source": [
    "FIM_P"
   ]
  },
  {
   "cell_type": "markdown",
   "id": "varying-blowing",
   "metadata": {},
   "source": [
    "### Step 4: Find Eigenvalues, Eigenvectors"
   ]
  },
  {
   "cell_type": "markdown",
   "id": "shared-george",
   "metadata": {},
   "source": [
    "**Enthalpy of Vaporization**"
   ]
  },
  {
   "cell_type": "code",
   "execution_count": null,
   "id": "leading-throw",
   "metadata": {},
   "outputs": [],
   "source": [
    "eigvals, eigvecs = np.linalg.eig(FIM)"
   ]
  },
  {
   "cell_type": "code",
   "execution_count": null,
   "id": "objective-creativity",
   "metadata": {},
   "outputs": [],
   "source": [
    "eigvals"
   ]
  },
  {
   "cell_type": "code",
   "execution_count": null,
   "id": "disciplinary-creativity",
   "metadata": {},
   "outputs": [],
   "source": [
    "eigvecs"
   ]
  },
  {
   "cell_type": "markdown",
   "id": "fluid-sunrise",
   "metadata": {},
   "source": [
    "All eigenvalues >> 0, assuming that these 2 parameters are identifiable with the given T, x, P data"
   ]
  },
  {
   "cell_type": "markdown",
   "id": "greek-gossip",
   "metadata": {},
   "source": [
    "**Pressure**"
   ]
  },
  {
   "cell_type": "code",
   "execution_count": null,
   "id": "earned-defense",
   "metadata": {},
   "outputs": [],
   "source": [
    "eigvals_P, eigvecs_P = np.linalg.eig(FIM_P)"
   ]
  },
  {
   "cell_type": "code",
   "execution_count": null,
   "id": "thick-grain",
   "metadata": {},
   "outputs": [],
   "source": [
    "eigvals_P"
   ]
  },
  {
   "cell_type": "code",
   "execution_count": null,
   "id": "terminal-effort",
   "metadata": {},
   "outputs": [],
   "source": [
    "eigvecs_P"
   ]
  },
  {
   "cell_type": "markdown",
   "id": "weighted-meeting",
   "metadata": {},
   "source": [
    "All eigvals >> 0, assuming these 2 parameters are identifiable with the given T, x, P data"
   ]
  },
  {
   "cell_type": "markdown",
   "id": "capital-declaration",
   "metadata": {},
   "source": [
    "## AIC Value\n",
    "\n",
    "See https://docs.google.com/document/d/1um0r2XK4ldjjy2colOqaZsEM3wIzGD6l_3B8gnpnI2I/edit# for equations"
   ]
  },
  {
   "cell_type": "markdown",
   "id": "about-offering",
   "metadata": {},
   "source": [
    "### Calculate MLE"
   ]
  },
  {
   "cell_type": "code",
   "execution_count": null,
   "id": "cutting-chair",
   "metadata": {},
   "outputs": [],
   "source": [
    "### Define calc model P function\n",
    "\n",
    "def calcPmod(theta,data):\n",
    "    '''\n",
    "    Arguments:\n",
    "    theta - list of BIPs\n",
    "    data - data needed to run the model\n",
    "    \n",
    "    Returns\n",
    "    Pmod - list of calculated pressures\n",
    "    '''\n",
    "    \n",
    "    m = ConcreteModel()\n",
    "\n",
    "    m.fs = FlowsheetBlock(default={\"dynamic\": False})\n",
    "\n",
    "    m.fs.properties = GenericParameterBlock(default=configuration)\n",
    "\n",
    "    m.fs.F101 = Flash(default={\"property_package\": m.fs.properties,\n",
    "                               \"has_heat_transfer\": True,\n",
    "                               \"has_pressure_change\": True})\n",
    "\n",
    "    m.fs.F101.inlet.flow_mol.fix(1)\n",
    "    m.fs.F101.inlet.temperature.fix(323.15)\n",
    "    m.fs.F101.inlet.pressure.fix(399800)\n",
    "    m.fs.F101.inlet.mole_frac_comp[0,'R32'].fix(0.5)\n",
    "\n",
    "    m.fs.properties.PR_kappa_A['R32','emimTf2N'] = theta[0]\n",
    "    m.fs.properties.PR_kappa_A['emimTf2N','R32'] = theta[1]\n",
    "\n",
    "    # Initialize the flash unit\n",
    "    m.fs.F101.initialize(outlvl=idaeslog.CRITICAL)\n",
    "\n",
    "    # Fix the state variables on the state block\n",
    "    # m.fs.F101.inlet.pressure.unfix()\n",
    "    m.fs.F101.inlet.mole_frac_comp[0,'emimTf2N'].unfix()\n",
    "\n",
    "    R32_x = np.zeros((len(data)))\n",
    "    P = np.zeros((len(data)))\n",
    "\n",
    "    m.fs.liq = Param(mutable=True,default=0.040)\n",
    "    m.fs.liquid = Constraint(expr=m.fs.F101.liq_outlet.mole_frac_comp[0, \"emimTf2N\"] == m.fs.liq)\n",
    "\n",
    "    for i in range(len(data)):\n",
    "        m.fs.liq = data[\"x_emimTf2N\"].iloc[i]\n",
    "        m.fs.F101.inlet.temperature.fix(float(data[\"temperature\"].iloc[i]))\n",
    "        m.fs.F101.inlet.pressure.fix(float(data[\"pressure\"].iloc[i]))\n",
    "        m.fs.F101.inlet.mole_frac_comp[0,'R32'].fix(float(data[\"x_R32\"].iloc[i])+0.1)\n",
    "        m.fs.F101.inlet.mole_frac_comp[0,'emimTf2N'].fix(float(1-(data[\"x_R32\"].iloc[i]+0.1)))\n",
    "        m.fs.F101.vap_outlet.temperature.fix(float(data[\"temperature\"].iloc[i]))\n",
    "\n",
    "    #     DOF_final = degrees_of_freedom(m)\n",
    "    #     print(\"The final DOF is {0}\".format(DOF_final))\n",
    "        m.fs.F101.initialize(outlvl=idaeslog.CRITICAL)\n",
    "\n",
    "        status = solver.solve(m, tee = False)\n",
    "\n",
    "    #     m.fs.F101.report()\n",
    "        if (status.solver.status == SolverStatus.ok) and (status.solver.termination_condition == TerminationCondition.optimal):\n",
    "#             print(data[\"x_emimTf2N\"].iloc[i])\n",
    "            R32_x[i] = value(m.fs.F101.liq_outlet.mole_frac_comp[0,'R32']) \n",
    "            P[i] = value(m.fs.F101.vap_outlet.pressure[0])\n",
    "\n",
    "        else:\n",
    "            print('Infeasible.')\n",
    "            \n",
    "    Pmod = P\n",
    "    \n",
    "    return Pmod"
   ]
  },
  {
   "cell_type": "code",
   "execution_count": null,
   "id": "mediterranean-oregon",
   "metadata": {},
   "outputs": [],
   "source": [
    "### Define function to calculate residual\n",
    "def res(theta,data,Pexp):\n",
    "    '''\n",
    "    Arguments:\n",
    "    theta - list of BIPs\n",
    "    data - data needed to run the model\n",
    "    Pexp - list of experimental pressure data\n",
    "    \n",
    "    Returns:\n",
    "    residual between model and exp (note, this will be large because of units of P)\n",
    "    '''\n",
    "    \n",
    "    #Calculate model P\n",
    "    Pmod = calcPmod(theta,data)\n",
    "    \n",
    "    return Pexp - Pmod"
   ]
  },
  {
   "cell_type": "code",
   "execution_count": null,
   "id": "afraid-format",
   "metadata": {},
   "outputs": [],
   "source": [
    "theta_guess = [parameters['fs.properties.PR_kappa_A[R32,emimTf2N]'],parameters['fs.properties.PR_kappa_A[emimTf2N,R32]']]\n",
    "Pexp = data_subset['pressure'].values.tolist()\n",
    "n = 2\n",
    "bnds = ([-20,-20],[20,20])"
   ]
  },
  {
   "cell_type": "code",
   "execution_count": null,
   "id": "affected-dressing",
   "metadata": {},
   "outputs": [],
   "source": [
    "# theta0 = [-0.05,-0.04,-0.03,-0.02,-0.01,-0.001]\n",
    "# restest = []\n",
    "# for i in range(len(theta0)):\n",
    "#     theta_guess = [theta0[i],parameters['fs.properties.PR_kappa_A[emimTf2N,R32]']]\n",
    "#     restest.append(res(theta_guess,data_subset,Pexp,n))\n",
    "    \n",
    "# plt.plot(theta0,restest)\n",
    "# plt.show()"
   ]
  },
  {
   "cell_type": "code",
   "execution_count": null,
   "id": "limiting-saskatchewan",
   "metadata": {},
   "outputs": [],
   "source": [
    "### solve\n",
    "sol = scipy.optimize.least_squares(res, theta_guess, method='trf', args=(data_subset,Pexp),bounds=bnds)"
   ]
  },
  {
   "cell_type": "code",
   "execution_count": null,
   "id": "wanted-plane",
   "metadata": {},
   "outputs": [],
   "source": [
    "theta_hat = sol.x\n",
    "theta_hat"
   ]
  },
  {
   "cell_type": "code",
   "execution_count": null,
   "id": "centered-public",
   "metadata": {},
   "outputs": [],
   "source": [
    "def SSR(theta,data,Pexp):\n",
    "    '''\n",
    "    Arguments:\n",
    "    theta - list of BIPs\n",
    "    data - data needed to run the model\n",
    "    Pexp - list of experimental pressure data\n",
    "    \n",
    "    Returns:\n",
    "    SSR - sum of residuals squared\n",
    "    '''\n",
    "    \n",
    "    #Calculate model P\n",
    "    Pmod = calcPmod(theta,data)\n",
    "    \n",
    "    #Calculate residual squared\n",
    "    res = (Pexp - Pmod)**2\n",
    "    \n",
    "    #Sum residuals squared\n",
    "    SSR = np.sum(res)\n",
    "    \n",
    "    return SSR"
   ]
  },
  {
   "cell_type": "code",
   "execution_count": null,
   "id": "editorial-masters",
   "metadata": {},
   "outputs": [],
   "source": [
    "SSR = SSR(theta_hat,data_subset,Pexp)\n",
    "SSR"
   ]
  },
  {
   "cell_type": "code",
   "execution_count": null,
   "id": "weekly-artist",
   "metadata": {},
   "outputs": [],
   "source": [
    "sigma_sq = SSR/n\n",
    "sigma_sq"
   ]
  },
  {
   "cell_type": "code",
   "execution_count": null,
   "id": "official-trouble",
   "metadata": {},
   "outputs": [],
   "source": [
    "L = -n/2*np.log(2*np.pi) - n/2*np.log(sigma_sq) - 1/(2*sigma_sq)*SSR\n",
    "L"
   ]
  },
  {
   "cell_type": "code",
   "execution_count": null,
   "id": "absent-twist",
   "metadata": {},
   "outputs": [],
   "source": [
    "AIC = 2*n - 2*L\n",
    "AIC"
   ]
  },
  {
   "cell_type": "markdown",
   "id": "tired-handle",
   "metadata": {},
   "source": [
    "Other AIC - using SSR calculated in above parameter fitting"
   ]
  },
  {
   "cell_type": "code",
   "execution_count": 25,
   "id": "e0601fdd",
   "metadata": {},
   "outputs": [],
   "source": [
    "n=2"
   ]
  },
  {
   "cell_type": "code",
   "execution_count": 26,
   "id": "medical-antarctica",
   "metadata": {},
   "outputs": [
    {
     "data": {
      "text/plain": [
       "30.602440219348665"
      ]
     },
     "execution_count": 26,
     "metadata": {},
     "output_type": "execute_result"
    }
   ],
   "source": [
    "SSR_other = obj_value\n",
    "SSR_other"
   ]
  },
  {
   "cell_type": "code",
   "execution_count": 27,
   "id": "capital-direction",
   "metadata": {},
   "outputs": [
    {
     "data": {
      "text/plain": [
       "15.301220109674333"
      ]
     },
     "execution_count": 27,
     "metadata": {},
     "output_type": "execute_result"
    }
   ],
   "source": [
    "sigma_sq_other = SSR_other/n\n",
    "sigma_sq_other"
   ]
  },
  {
   "cell_type": "code",
   "execution_count": 28,
   "id": "canadian-blast",
   "metadata": {},
   "outputs": [
    {
     "data": {
      "text/plain": [
       "-5.565809637358562"
      ]
     },
     "execution_count": 28,
     "metadata": {},
     "output_type": "execute_result"
    }
   ],
   "source": [
    "L_other = -n/2*np.log(2*np.pi) - n/2*np.log(sigma_sq_other) - 1/(2*sigma_sq_other)*SSR_other\n",
    "L_other"
   ]
  },
  {
   "cell_type": "code",
   "execution_count": 29,
   "id": "banner-clearing",
   "metadata": {},
   "outputs": [
    {
     "data": {
      "text/plain": [
       "15.131619274717124"
      ]
     },
     "execution_count": 29,
     "metadata": {},
     "output_type": "execute_result"
    }
   ],
   "source": [
    "AIC_other = 2*n - 2*L_other\n",
    "AIC_other"
   ]
  },
  {
   "cell_type": "code",
   "execution_count": 30,
   "id": "damaged-triangle",
   "metadata": {},
   "outputs": [],
   "source": [
    "AIC_data = pd.DataFrame(data=[n,obj_value,AIC_other])\n",
    "AIC_data = AIC_data.T\n",
    "AIC_data.columns = ['n','Objective, Pa^2','AIC']\n",
    "AIC_data.to_csv('Data/AIC/PR_AIC_2parameter.csv')"
   ]
  },
  {
   "cell_type": "code",
   "execution_count": null,
   "id": "040d52c8",
   "metadata": {},
   "outputs": [],
   "source": []
  }
 ],
 "metadata": {
  "kernelspec": {
   "display_name": "Python 3 (ipykernel)",
   "language": "python",
   "name": "python3"
  },
  "language_info": {
   "codemirror_mode": {
    "name": "ipython",
    "version": 3
   },
   "file_extension": ".py",
   "mimetype": "text/x-python",
   "name": "python",
   "nbconvert_exporter": "python",
   "pygments_lexer": "ipython3",
   "version": "3.9.9"
  }
 },
 "nbformat": 4,
 "nbformat_minor": 5
}
