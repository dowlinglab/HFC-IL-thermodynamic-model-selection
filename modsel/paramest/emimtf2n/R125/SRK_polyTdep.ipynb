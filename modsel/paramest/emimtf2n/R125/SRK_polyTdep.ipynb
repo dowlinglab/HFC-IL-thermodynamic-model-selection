{
 "cells": [
  {
   "cell_type": "markdown",
   "id": "instructional-learning",
   "metadata": {},
   "source": [
    "# Fit emimTF2N data\n",
    "\n",
    "EoS: SRK\n",
    "\n",
    "Parameter T dependence: Order 3 Polynomial\n",
    "\n",
    "N (total fitting parameters): 8\n",
    "\n",
    "**Finds an optimal solution, but can't get it to work when plotting - the control volume fails to initialize"
   ]
  },
  {
   "cell_type": "markdown",
   "id": "extended-rabbit",
   "metadata": {},
   "source": [
    "## Import Functions"
   ]
  },
  {
   "cell_type": "code",
   "execution_count": 1,
   "id": "complicated-toronto",
   "metadata": {},
   "outputs": [],
   "source": [
    "import idaes\n",
    "\n",
    "import pandas as pd\n",
    "import numpy as np\n",
    "import matplotlib.pyplot as plt\n",
    "import scipy.optimize\n",
    "\n",
    "import sys\n",
    "sys.path.append('../../')\n",
    "\n",
    "from pyomo.environ import (Constraint,\n",
    "                           Var,\n",
    "                           ConcreteModel,\n",
    "                           Expression,\n",
    "                           Param,\n",
    "                           Objective,\n",
    "                           SolverFactory,\n",
    "                           TransformationFactory,\n",
    "                           value)\n",
    "from pyomo.opt import TerminationCondition, SolverStatus\n",
    "\n",
    "from idaes.core import FlowsheetBlock\n",
    "import idaes.logger as idaeslog\n",
    "# Import the Generic Parameter Block\n",
    "from idaes.generic_models.properties.core.generic.generic_property import (\n",
    "        GenericParameterBlock)\n",
    "# Import unit models from the model library\n",
    "from idaes.generic_models.unit_models import Flash\n",
    "# Import degrees of freedom tool\n",
    "from idaes.core.util.model_statistics import degrees_of_freedom\n",
    "\n",
    "# parmest (binary_param2)\n",
    "from bip_fitting_functions_SRK import polynomial\n",
    "\n",
    "import scipy.stats as stats\n",
    "\n",
    "from matplotlib.patches import Ellipse\n",
    "import matplotlib.transforms as transforms\n",
    "import matplotlib.patches as mpatches"
   ]
  },
  {
   "cell_type": "markdown",
   "id": "potential-awareness",
   "metadata": {},
   "source": [
    "## Load Data"
   ]
  },
  {
   "cell_type": "code",
   "execution_count": 2,
   "id": "latest-artist",
   "metadata": {},
   "outputs": [],
   "source": [
    "data_full = pd.read_csv('r125_emimtf2n_full.csv')\n",
    "data_subset = pd.read_csv('r125_emimtf2n_subset.csv')"
   ]
  },
  {
   "cell_type": "markdown",
   "id": "superior-attendance",
   "metadata": {},
   "source": [
    "## Load Configuration + Check DOF"
   ]
  },
  {
   "cell_type": "code",
   "execution_count": 3,
   "id": "binding-cattle",
   "metadata": {},
   "outputs": [],
   "source": [
    "from hfc125_emimtf2n_SRK_polynomial import configuration "
   ]
  },
  {
   "cell_type": "code",
   "execution_count": 4,
   "id": "backed-diving",
   "metadata": {},
   "outputs": [
    {
     "name": "stdout",
     "output_type": "stream",
     "text": [
      "The initial DOF is 7\n"
     ]
    }
   ],
   "source": [
    "m = ConcreteModel()\n",
    "m.fs = FlowsheetBlock(default={\"dynamic\": False})\n",
    "m.fs.properties = GenericParameterBlock(default=configuration)\n",
    "m.fs.F101 = Flash(default={\"property_package\": m.fs.properties,\n",
    "                           \"has_heat_transfer\": True,\n",
    "                           \"has_pressure_change\": True})\n",
    "DOF_initial = degrees_of_freedom(m)\n",
    "print('The initial DOF is {0}'.format(DOF_initial))"
   ]
  },
  {
   "cell_type": "markdown",
   "id": "conventional-health",
   "metadata": {},
   "source": [
    "## Fit Parameters"
   ]
  },
  {
   "cell_type": "code",
   "execution_count": 5,
   "id": "sensitive-secondary",
   "metadata": {},
   "outputs": [
    {
     "name": "stdout",
     "output_type": "stream",
     "text": [
      "2022-04-05 17:21:22 [INFO] idaes.init.fs.state_block: Property package initialization: optimal - Optimal Solution Found.\n",
      "2022-04-05 17:21:22 [INFO] idaes.init.fs.state_block: Property package initialization: optimal - Optimal Solution Found.\n",
      "2022-04-05 17:21:23 [INFO] idaes.init.fs.state_block: Property package initialization: optimal - Optimal Solution Found.\n",
      "2022-04-05 17:21:23 [INFO] idaes.init.fs.state_block: Property package initialization: optimal - Optimal Solution Found.\n",
      "2022-04-05 17:21:23 [INFO] idaes.init.fs.state_block: Property package initialization: optimal - Optimal Solution Found.\n",
      "2022-04-05 17:21:24 [INFO] idaes.init.fs.state_block: Property package initialization: optimal - Optimal Solution Found.\n",
      "2022-04-05 17:21:24 [INFO] idaes.init.fs.state_block: Property package initialization: optimal - Optimal Solution Found.\n",
      "2022-04-05 17:21:25 [INFO] idaes.init.fs.state_block: Property package initialization: optimal - Optimal Solution Found.\n",
      "2022-04-05 17:21:25 [INFO] idaes.init.fs.state_block: Property package initialization: optimal - Optimal Solution Found.\n",
      "2022-04-05 17:21:25 [INFO] idaes.init.fs.state_block: Property package initialization: optimal - Optimal Solution Found.\n",
      "2022-04-05 17:21:26 [INFO] idaes.init.fs.state_block: Property package initialization: optimal - Optimal Solution Found.\n",
      "2022-04-05 17:21:26 [INFO] idaes.init.fs.state_block: Property package initialization: optimal - Optimal Solution Found.\n",
      "2022-04-05 17:21:26 [INFO] idaes.init.fs.state_block: Property package initialization: optimal - Optimal Solution Found.\n",
      "2022-04-05 17:21:27 [INFO] idaes.init.fs.state_block: Property package initialization: optimal - Optimal Solution Found.\n",
      "2022-04-05 17:21:27 [INFO] idaes.init.fs.state_block: Property package initialization: optimal - Optimal Solution Found.\n",
      "2022-04-05 17:21:27 [INFO] idaes.init.fs.state_block: Property package initialization: optimal - Optimal Solution Found.\n",
      "2022-04-05 17:21:28 [INFO] idaes.init.fs.state_block: Property package initialization: optimal - Optimal Solution Found.\n",
      "2022-04-05 17:21:28 [INFO] idaes.init.fs.state_block: Property package initialization: optimal - Optimal Solution Found.\n",
      "2022-04-05 17:21:29 [INFO] idaes.init.fs.state_block: Property package initialization: optimal - Optimal Solution Found.\n",
      "2022-04-05 17:21:29 [INFO] idaes.init.fs.state_block: Property package initialization: optimal - Optimal Solution Found.\n",
      "2022-04-05 17:21:29 [INFO] idaes.init.fs.state_block: Property package initialization: optimal - Optimal Solution Found.\n",
      "2022-04-05 17:21:30 [INFO] idaes.init.fs.state_block: Property package initialization: optimal - Optimal Solution Found.\n",
      "2022-04-05 17:21:30 [INFO] idaes.init.fs.state_block: Property package initialization: optimal - Optimal Solution Found.\n",
      "2022-04-05 17:21:30 [INFO] idaes.init.fs.state_block: Property package initialization: optimal - Optimal Solution Found.\n",
      "2022-04-05 17:21:31 [INFO] idaes.init.fs.state_block: Property package initialization: optimal - Optimal Solution Found.\n",
      "2022-04-05 17:21:31 [INFO] idaes.init.fs.state_block: Property package initialization: optimal - Optimal Solution Found.\n",
      "2022-04-05 17:21:31 [INFO] idaes.init.fs.state_block: Property package initialization: optimal - Optimal Solution Found.\n",
      "2022-04-05 17:21:32 [INFO] idaes.init.fs.state_block: Property package initialization: optimal - Optimal Solution Found.\n",
      "2022-04-05 17:21:32 [INFO] idaes.init.fs.state_block: Property package initialization: optimal - Optimal Solution Found.\n",
      "2022-04-05 17:21:32 [INFO] idaes.init.fs.state_block: Property package initialization: optimal - Optimal Solution Found.\n",
      "2022-04-05 17:21:33 [INFO] idaes.init.fs.state_block: Property package initialization: optimal - Optimal Solution Found.\n",
      "2022-04-05 17:21:33 [INFO] idaes.init.fs.state_block: Property package initialization: optimal - Optimal Solution Found.\n",
      "Ipopt 3.13.2: bound_relax_factor=0\n",
      "honor_original_bounds=no\n",
      "\n",
      "\n",
      "******************************************************************************\n",
      "This program contains Ipopt, a library for large-scale nonlinear optimization.\n",
      " Ipopt is released as open source code under the Eclipse Public License (EPL).\n",
      "         For more information visit http://projects.coin-or.org/Ipopt\n",
      "\n",
      "This version of Ipopt was compiled from source code available at\n",
      "    https://github.com/IDAES/Ipopt as part of the Institute for the Design of\n",
      "    Advanced Energy Systems Process Systems Engineering Framework (IDAES PSE\n",
      "    Framework) Copyright (c) 2018-2019. See https://github.com/IDAES/idaes-pse.\n",
      "\n",
      "This version of Ipopt was compiled using HSL, a collection of Fortran codes\n",
      "    for large-scale scientific computation.  All technical papers, sales and\n",
      "    publicity material resulting from use of the HSL codes within IPOPT must\n",
      "    contain the following acknowledgement:\n",
      "        HSL, a collection of Fortran codes for large-scale scientific\n",
      "        computation. See http://www.hsl.rl.ac.uk.\n",
      "******************************************************************************\n",
      "\n",
      "This is Ipopt version 3.13.2, running with linear solver ma27.\n",
      "\n",
      "Number of nonzeros in equality constraint Jacobian...:     1840\n",
      "Number of nonzeros in inequality constraint Jacobian.:        0\n",
      "Number of nonzeros in Lagrangian Hessian.............:     3296\n",
      "\n",
      "Total number of variables............................:      640\n",
      "                     variables with only lower bounds:      128\n",
      "                variables with lower and upper bounds:      448\n",
      "                     variables with only upper bounds:        0\n",
      "Total number of equality constraints.................:      632\n",
      "Total number of inequality constraints...............:        0\n",
      "        inequality constraints with only lower bounds:        0\n",
      "   inequality constraints with lower and upper bounds:        0\n",
      "        inequality constraints with only upper bounds:        0\n",
      "\n",
      "iter    objective    inf_pr   inf_du lg(mu)  ||d||  lg(rg) alpha_du alpha_pr  ls\n",
      "   0  0.0000000e+00 4.25e-01 2.72e-14  -1.0 0.00e+00    -  0.00e+00 0.00e+00   0\n",
      "   1  1.1225125e+02 1.43e-01 8.68e+02  -1.0 4.30e+04    -  7.46e-01 9.90e-01h  1\n",
      "   2  1.1089375e+02 1.27e+00 4.05e+03  -1.0 1.66e+03  -4.0 9.78e-03 4.64e-03H  1\n",
      "   3  1.1090528e+02 1.27e+00 4.04e+03  -1.0 1.88e+03  -3.6 4.63e-02 1.53e-03h  1\n",
      "   4  1.1111306e+02 1.23e+00 3.91e+03  -1.0 1.89e+03  -4.1 6.56e-01 3.09e-02h  6\n",
      "   5  1.1152478e+02 1.15e+00 3.67e+03  -1.0 1.78e+03  -3.6 2.31e-01 6.19e-02h  5\n",
      "   6  1.1196612e+02 1.09e+00 3.47e+03  -1.0 3.91e+03  -4.1 3.80e-02 5.53e-02f  3\n",
      "   7  1.1214852e+02 1.05e+00 3.36e+03  -1.0 1.29e+03  -4.6 6.86e-01 3.09e-02h  6\n",
      "   8  1.1232362e+02 1.02e+00 3.26e+03  -1.0 1.48e+03  -4.2 9.22e-01 3.09e-02h  6\n",
      "   9  1.0718795e+02 5.70e+01 2.25e+04  -1.0 1.50e+03  -3.7 6.38e-03 1.03e-02H  1\n",
      "iter    objective    inf_pr   inf_du lg(mu)  ||d||  lg(rg) alpha_du alpha_pr  ls\n",
      "  10  1.0816770e+02 4.84e+01 2.10e+04  -1.0 4.29e+03  -3.3 8.93e-01 1.15e-01h  1\n",
      "  11  1.1033649e+02 3.95e+01 1.77e+04  -1.0 4.43e+03  -3.8 5.74e-02 2.47e-01h  3\n",
      "  12  1.1121612e+02 3.53e+01 1.57e+04  -1.0 4.02e+03  -4.3 4.03e-01 1.24e-01h  4\n",
      "  13  1.1130380e+02 3.49e+01 1.54e+04  -1.0 3.39e+03  -3.8 3.91e-01 1.38e-02h  6\n",
      "  14  1.1042673e+02 3.35e+01 1.48e+04  -1.0 1.07e+05    -  7.13e-01 4.29e-02f  5\n",
      "  15  1.1091903e+02 3.09e+01 1.36e+04  -1.0 4.06e+03  -4.3 2.04e-01 8.29e-02h  3\n",
      "  16  1.1348862e+02 1.83e+01 1.49e+04  -1.0 2.26e+03  -3.0 9.90e-01 4.66e-01h  1\n",
      "  17  1.1686749e+02 8.32e+00 4.47e+03  -1.0 1.22e+03  -3.5 7.57e-01 9.90e-01h  1\n",
      "  18  1.1671720e+02 2.16e+00 3.87e+05  -1.0 1.35e+02  -2.1 1.72e-01 9.90e-01h  1\n",
      "  19  1.1682808e+02 6.69e-01 4.62e+07  -1.0 7.51e+01  -2.6 3.17e-03 9.90e-01h  1\n",
      "iter    objective    inf_pr   inf_du lg(mu)  ||d||  lg(rg) alpha_du alpha_pr  ls\n",
      "  20  1.1691139e+02 4.60e-01 3.41e+09  -1.0 2.44e+02  -3.1 9.84e-01 2.47e-01h  3\n",
      "  21  1.1700441e+02 6.08e-02 9.63e+07  -1.0 9.44e+01  -2.7 1.00e+00 9.90e-01h  1\n",
      "  22  1.1698216e+02 6.64e-02 6.22e+09  -1.0 7.81e+01  -3.1 1.00e+00 9.90e-01h  1\n",
      "In iteration 22, 32 Slacks too small, adjusting variable bounds\n",
      "  23  1.1698197e+02 8.94e-03 6.22e+11  -1.0 5.52e+00  -0.9 1.00e+00 9.90e-01h  1\n",
      "  24  1.1698189e+02 2.12e-04 6.27e+01  -1.0 9.30e-01  -1.4 1.00e+00 1.00e+00h  1\n",
      "  25  1.1698182e+02 1.18e-07 1.72e+08  -5.7 2.09e-02  -1.9 1.00e+00 1.00e+00h  1\n",
      "  26  1.1698163e+02 2.06e-08 2.76e-04  -5.7 5.90e-02  -2.3 1.00e+00 1.00e+00h  1\n",
      "  27  1.1698107e+02 1.85e-07 2.76e-04  -8.6 1.77e-01  -2.8 1.00e+00 1.00e+00f  1\n",
      "  28  1.1697937e+02 1.67e-06 2.76e-04  -8.6 5.31e-01  -3.3 1.00e+00 1.00e+00f  1\n",
      "  29  1.1697428e+02 1.51e-05 2.75e-04  -8.6 1.59e+00  -3.8 1.00e+00 1.00e+00f  1\n",
      "iter    objective    inf_pr   inf_du lg(mu)  ||d||  lg(rg) alpha_du alpha_pr  ls\n",
      "  30  1.1695903e+02 1.37e-04 3.29e-04  -8.6 4.77e+00  -4.2 1.00e+00 1.00e+00f  1\n",
      "  31  1.1691354e+02 1.28e-03 4.35e-03  -8.6 1.43e+01  -4.7 1.00e+00 1.00e+00f  1\n"
     ]
    },
    {
     "name": "stdout",
     "output_type": "stream",
     "text": [
      "  32  1.1677912e+02 1.86e-02 1.76e-01  -8.6 4.24e+01  -5.2 1.00e+00 1.00e+00f  1\n",
      "  33  1.1639380e+02 2.48e-01 3.75e-01  -8.6 1.24e+02  -5.7 1.00e+00 1.00e+00f  1\n",
      "  34  1.1630384e+02 2.18e-01 2.79e-01  -8.6 3.45e+02  -6.1 1.00e+00 9.61e-02h  1\n",
      "  35  1.1513288e+02 9.70e+00 2.67e-01  -8.6 4.77e+03    -  4.56e-06 1.49e-01f  1\n",
      "  36  1.1388864e+02 2.17e+02 1.70e+00  -8.6 7.27e+02  -6.6 1.02e-08 8.17e-01h  1\n",
      "  37  1.1194625e+02 2.17e+02 7.24e+00  -8.6 4.44e+03  -7.1 2.10e-02 2.59e-01h  1\n",
      "  38  1.1288178e+02 2.07e+02 3.07e+01  -8.6 3.94e+04    -  1.84e-01 4.66e-02h  4\n",
      "  39  1.1356390e+02 2.03e+02 3.25e+01  -8.6 3.78e+04    -  4.66e-02 1.72e-02h  5\n",
      "iter    objective    inf_pr   inf_du lg(mu)  ||d||  lg(rg) alpha_du alpha_pr  ls\n",
      "  40  1.1374071e+02 2.02e+02 3.25e+01  -8.6 3.77e+04    -  3.12e-01 3.96e-03h  7\n",
      "  41  1.1383007e+02 2.02e+02 3.24e+01  -8.6 3.77e+04    -  8.39e-02 1.95e-03h  8\n",
      "  42  1.1387497e+02 2.02e+02 3.24e+01  -8.6 3.76e+04    -  6.86e-01 9.64e-04h  9\n",
      "  43  1.3896412e+02 1.52e+02 2.88e+02  -8.6 3.76e+04    -  7.71e-02 2.46e-01h  1\n",
      "  44r 1.3896412e+02 1.52e+02 1.00e+03   2.2 0.00e+00    -  0.00e+00 3.22e-09R  2\n",
      "  45r 1.3896419e+02 1.52e+02 2.67e+03   2.2 2.73e+09    -  1.97e-08 1.18e-10f  1\n",
      "  46r 1.3896467e+02 1.46e+02 2.74e+03   1.5 3.29e+04    -  6.13e-04 1.81e-04f  1\n",
      "  47r 1.3896544e+02 1.90e+01 3.58e+03   1.5 5.17e+04    -  3.43e-02 2.80e-03f  1\n",
      "  48  1.5325905e+02 1.86e+01 4.09e+02  -8.6 3.67e+05    -  9.08e-02 1.81e-02h  4\n",
      "  49  1.5582468e+02 1.86e+01 4.08e+02  -8.6 3.25e+05    -  1.65e-01 2.14e-03h  7\n",
      "iter    objective    inf_pr   inf_du lg(mu)  ||d||  lg(rg) alpha_du alpha_pr  ls\n",
      "  50  1.5691590e+02 1.86e+01 4.07e+02  -8.6 3.10e+05    -  1.48e-01 8.78e-04h  8\n",
      "  51  1.5730581e+02 1.85e+01 4.07e+02  -8.6 2.99e+05    -  1.01e-01 3.14e-04h  9\n",
      "  52  1.5732813e+02 1.85e+01 4.07e+02  -8.6 3.30e+05  -5.8 1.60e-02 1.85e-05h 11\n",
      "  53  1.5790786e+02 1.85e+01 1.80e+05  -8.6 2.95e+05  -0.8 1.51e-02 4.38e-04h  1\n",
      "  54r 1.5790786e+02 1.85e+01 9.99e+02   1.3 0.00e+00  -1.3 0.00e+00 3.93e-07R  4\n",
      "  55r 1.5790853e+02 1.04e+01 1.03e+03   1.3 1.54e+04    -  4.37e-03 1.19e-03f  1\n",
      "  56  1.6048714e+02 1.04e+01 4.57e+01  -8.6 9.93e+05    -  3.52e-02 9.43e-04h  5\n",
      "  57r 1.6048714e+02 1.04e+01 9.99e+02   0.9 0.00e+00  -1.8 0.00e+00 4.85e-07R 14\n",
      "  58r 1.6048640e+02 1.04e+01 9.94e+02   0.9 5.83e+03    -  1.52e-02 3.42e-03f  1\n",
      "  59  1.6212701e+02 1.04e+01 2.11e+01  -8.6 7.59e+05    -  4.31e-02 5.33e-04h  6\n",
      "iter    objective    inf_pr   inf_du lg(mu)  ||d||  lg(rg) alpha_du alpha_pr  ls\n",
      "  60r 1.6212701e+02 1.04e+01 9.99e+02   0.7 0.00e+00    -  0.00e+00 3.82e-07R 13\n",
      "  61r 1.6212798e+02 3.98e+00 9.93e+02   0.7 4.92e+03    -  6.81e-03 5.76e-03f  1\n",
      "  62  1.6320515e+02 3.98e+00 1.89e+01  -8.6 1.12e+06    -  1.58e-02 3.41e-04h  8\n",
      "  63  1.6430506e+02 3.98e+00 1.83e+01  -8.6 1.11e+06    -  2.95e-02 3.29e-04h  8\n",
      "  64  1.6471932e+02 3.98e+00 1.78e+01  -8.6 1.10e+06    -  1.87e-02 1.18e-04h  9\n",
      "  65  1.6532417e+02 3.98e+00 1.71e+01  -8.6 1.13e+06    -  2.97e-02 1.71e-04h  7\n",
      "  66  1.6574619e+02 3.98e+00 1.67e+01  -8.6 1.16e+06    -  1.87e-02 1.18e-04h  9\n",
      "  67r 1.6574619e+02 3.98e+00 9.99e+02   0.5 0.00e+00    -  0.00e+00 4.80e-07R 11\n",
      "  68r 1.6574568e+02 3.46e+00 9.96e+02   0.5 3.54e+03    -  6.66e-03 2.14e-03f  1\n",
      "  69r 1.6574568e+02 3.46e+00 9.99e+02   0.4 0.00e+00    -  0.00e+00 4.83e-07R 15\n",
      "iter    objective    inf_pr   inf_du lg(mu)  ||d||  lg(rg) alpha_du alpha_pr  ls\n",
      "  70r 1.6574593e+02 3.18e+00 9.98e+02   0.4 3.41e+03    -  2.49e-03 1.27e-03f  1\n",
      "  71  1.6595595e+02 3.18e+00 1.80e+00  -8.6 2.70e+06    -  7.09e-03 3.57e-05h 10\n",
      "  72r 1.6595595e+02 3.18e+00 9.99e+02   0.3 0.00e+00    -  0.00e+00 3.91e-07R 16\n",
      "  73r 1.6595684e+02 2.86e+00 9.97e+02   0.3 3.05e+03    -  2.22e-03 1.57e-03f  1\n",
      "  74r 1.6596124e+02 2.27e+00 9.92e+02   0.3 2.54e+03    -  1.15e-02 4.69e-03f  1\n",
      "  75  1.6602945e+02 2.27e+00 3.22e+00  -8.6 8.10e+05    -  6.33e-02 5.04e-04h  7\n",
      "  76  1.6619683e+02 2.27e+00 1.13e+01  -8.6 7.99e+05    -  1.10e-01 8.05e-04h  7\n",
      "  77  1.6655567e+02 2.26e+00 2.69e+01  -8.6 7.87e+05    -  1.59e-01 1.13e-03h  7\n",
      "  78  1.6828773e+02 2.26e+00 1.39e+02  -8.6 7.73e+05    -  1.99e-01 3.08e-03h  6\n",
      "  79  1.7245959e+02 2.25e+00 3.50e+02  -8.6 7.37e+05    -  2.37e-01 4.30e-03h  6\n",
      "iter    objective    inf_pr   inf_du lg(mu)  ||d||  lg(rg) alpha_du alpha_pr  ls\n",
      "  80  1.7983399e+02 2.24e+00 6.35e+02  -8.6 6.86e+05    -  2.66e-01 5.16e-03h  6\n",
      "  81  1.8430968e+02 2.24e+00 7.03e+02  -8.6 6.19e+05    -  2.76e-01 2.61e-03h  7\n",
      "  82  1.8554795e+02 2.23e+00 7.07e+02  -8.6 5.85e+05    -  2.79e-01 6.87e-04h  9\n",
      "  83  1.8586706e+02 2.23e+00 7.07e+02  -8.6 5.76e+05    -  2.90e-01 1.75e-04h 11\n",
      "  84  1.8602842e+02 2.23e+00 7.07e+02  -8.6 5.74e+05    -  3.18e-01 8.81e-05h 12\n",
      "  85  2.0136389e+03 4.28e+02 2.58e+05  -8.6 5.73e+05    -  3.39e-01 1.81e-01w  1\n",
      "  86  2.3408643e+03 4.04e+02 2.44e+05  -8.6 8.77e+05    -  1.21e-05 5.82e-02w  1\n",
      "  87  1.9176865e+03 3.90e+02 2.35e+05  -8.6 1.12e+06    -  5.59e-09 3.53e-02w  1\n",
      "  88  1.8606901e+02 2.23e+00 7.07e+02  -8.6 4.62e+06    -  3.39e-01 2.21e-05h 13\n",
      "  89r 1.8606901e+02 2.23e+00 9.99e+02   0.2 0.00e+00    -  0.00e+00 3.48e-07R 20\n",
      "iter    objective    inf_pr   inf_du lg(mu)  ||d||  lg(rg) alpha_du alpha_pr  ls\n",
      "  90r 1.8607210e+02 3.29e+00 9.97e+02   0.2 2.78e+03    -  4.56e-03 1.36e-03f  1\n",
      "  91r 1.8607487e+02 3.29e+00 9.96e+02   0.2 2.51e+03    -  2.42e-04 1.19e-03f  1\n",
      "  92r 1.8608130e+02 3.29e+00 9.93e+02   0.2 2.40e+03    -  3.20e-03 2.86e-03f  1\n",
      "  93r 1.8608130e+02 3.29e+00 9.91e+02   0.2 1.16e+02   0.0 7.98e-03 1.72e-03f  1\n",
      "  94r 1.8608612e+02 3.28e+00 9.82e+02   0.2 1.84e+03    -  2.05e-02 8.25e-03f  1\n",
      "  95r 1.8608762e+02 1.02e+01 9.91e+02   0.2 2.80e+03    -  1.11e-04 3.97e-03f  1\n",
      "  96r 1.8608762e+02 1.02e+01 9.86e+02   0.2 6.37e+01   1.3 3.05e-03 1.62e-03f  1\n",
      "  97r 1.8608190e+02 1.02e+01 1.02e+03   0.2 5.94e+03    -  7.91e-06 8.72e-04f  1\n",
      "  98r 1.8608190e+02 1.02e+01 1.17e+03   0.2 3.31e+01   1.8 2.23e-02 4.14e-03f  1\n",
      "  99r 1.8607561e+02 1.01e+01 1.20e+03   0.2 1.49e+03    -  3.19e-04 5.07e-03f  1\n",
      "iter    objective    inf_pr   inf_du lg(mu)  ||d||  lg(rg) alpha_du alpha_pr  ls\n",
      " 100r 1.8607561e+02 1.01e+01 1.34e+03   0.2 1.90e+01   1.3 2.01e-02 2.82e-03f  1\n",
      " 101r 1.8606901e+02 1.01e+01 1.38e+03   0.2 2.23e+03    -  1.74e-04 2.05e-03f  1\n",
      " 102r 1.8606901e+02 1.01e+01 1.38e+03   0.2 1.02e+02   0.8 1.69e-03 1.18e-04f  1\n",
      " 103r 1.8606449e+02 1.00e+01 1.40e+03   0.2 2.97e+03    -  4.83e-05 9.48e-04f  1\n",
      " 104r 1.8606449e+02 1.00e+01 1.43e+03   0.2 2.33e+01   1.2 8.82e-03 3.09e-04f  1\n",
      " 105r 1.8606923e+02 9.94e+00 1.45e+03   0.2 6.71e+02    -  4.64e-02 9.22e-03f  1\n",
      " 106r 1.8607565e+02 9.60e+00 1.96e+03   0.2 6.24e+02    -  8.39e-02 3.23e-02f  1\n",
      " 107r 1.8607565e+02 9.15e+00 1.86e+03   0.2 9.80e+00   0.7 5.00e-02 4.60e-02f  1\n",
      " 108r 1.8607565e+02 9.03e+00 1.94e+03   0.2 1.74e+01   0.3 9.35e-02 1.31e-02f  1\n",
      " 109r 1.8607565e+02 8.51e+00 2.08e+03   0.2 3.07e+01  -0.2 8.72e-02 5.78e-02f  1\n",
      "iter    objective    inf_pr   inf_du lg(mu)  ||d||  lg(rg) alpha_du alpha_pr  ls\n",
      " 110r 1.8608333e+02 8.49e+00 2.09e+03   0.2 3.35e+03    -  6.54e-03 1.98e-03f  1\n",
      " 111r 1.8610619e+02 2.58e+00 1.44e+03   0.2 4.89e+02    -  2.47e-01 6.19e-02f  1\n",
      " 112r 1.8609624e+02 2.28e+00 7.49e+02   0.2 1.23e+02    -  7.79e-01 2.28e-01f  1\n",
      " 113r 1.8598541e+02 6.34e+00 3.66e+02   0.2 1.97e+02    -  4.81e-01 5.40e-01f  1\n",
      " 114r 1.8585258e+02 2.56e+00 5.86e+02   0.2 1.53e+02    -  4.62e-01 8.10e-01f  1\n",
      " 115r 1.8591743e+02 9.67e+00 4.24e+02   0.2 9.88e+01    -  1.00e+00 5.05e-01f  1\n",
      " 116r 1.8600087e+02 1.17e+01 3.38e+02   0.2 9.83e+01    -  1.00e+00 1.00e+00f  1\n",
      " 117r 1.8608292e+02 1.03e+00 2.27e+02   0.2 1.83e+02    -  7.83e-01 7.60e-01h  1\n",
      " 118  1.2754618e+02 1.11e+01 2.94e+02  -8.6 2.22e+04    -  7.63e-01 1.00e+00f  1\n",
      " 119  1.1723825e+02 9.30e+00 1.56e+03  -8.6 8.75e+03    -  2.84e-01 1.00e+00f  1\n",
      "iter    objective    inf_pr   inf_du lg(mu)  ||d||  lg(rg) alpha_du alpha_pr  ls\n",
      " 120  1.1717743e+02 1.67e+02 9.72e+03  -8.6 1.24e+02  -2.3 7.32e-01 1.00e+00h  1\n",
      " 121  1.1721035e+02 1.47e+02 1.02e+04  -8.6 1.01e+02  -2.7 5.19e-01 1.25e-01h  4\n",
      " 122  1.1722874e+02 1.43e+02 1.17e+04  -8.6 2.15e+02  -3.2 9.19e-01 3.12e-02h  6\n",
      " 123  1.1723381e+02 1.42e+02 1.18e+04  -8.6 4.64e+02  -3.7 7.47e-01 3.91e-03h  9\n",
      " 124  1.1723625e+02 1.42e+02 1.18e+04  -8.6 2.26e+02  -3.3 9.16e-01 3.91e-03h  9\n",
      " 125  1.1716400e+02 1.52e+02 1.18e+04  -8.6 5.43e+02  -3.7 6.37e-05 8.13e-05H  1\n",
      " 126  1.1717346e+02 1.51e+02 1.17e+04  -8.6 7.91e+02  -4.2 2.88e-07 7.81e-03h  8\n"
     ]
    },
    {
     "name": "stdout",
     "output_type": "stream",
     "text": [
      " 127  1.1717660e+02 1.50e+02 1.17e+04  -8.6 9.66e+02  -4.7 6.40e-01 1.95e-03h 10\n",
      " 128  1.1717714e+02 1.50e+02 1.17e+04  -8.6 1.08e+03  -5.2 9.87e-03 2.44e-04h 13\n",
      " 129  1.1717738e+02 1.50e+02 1.17e+04  -8.6 1.88e+03  -5.7 6.93e-01 6.10e-05h 15\n",
      "iter    objective    inf_pr   inf_du lg(mu)  ||d||  lg(rg) alpha_du alpha_pr  ls\n",
      " 130  1.1731671e+02 1.49e+02 1.15e+04  -8.6 6.69e+03  -6.1 1.02e-02 1.02e-02s 22\n",
      " 131  1.2061377e+02 7.49e+01 2.28e+03  -8.6 1.89e+03  -5.7 7.10e-01 7.10e-01s 22\n",
      " 132r 1.2061377e+02 7.49e+01 1.00e+03   1.6 0.00e+00  -6.2 0.00e+00 0.00e+00R  1\n",
      " 133r 1.2061324e+02 5.70e+01 1.75e+03   1.6 2.80e+04    -  2.19e-02 1.52e-03f  1\n",
      " 134r 1.2061242e+02 2.29e+01 2.24e+03   0.9 2.10e+03    -  4.14e-02 1.47e-02f  1\n",
      " 135r 1.2060980e+02 2.20e+01 1.97e+03   0.9 3.96e+02    -  1.46e-01 2.40e-02f  1\n",
      " 136r 1.2060006e+02 9.26e+01 1.92e+03   0.9 8.42e+02    -  5.43e-01 1.46e-01f  1\n",
      " 137r 1.2060006e+02 6.15e+01 1.37e+03   0.9 1.70e+01   0.0 5.72e-01 3.88e-01f  1\n",
      " 138r 1.2060006e+02 3.28e+01 1.40e+03   0.9 2.73e+01  -0.5 8.23e-01 6.41e-01f  1\n",
      " 139r 1.2060006e+02 2.43e+01 9.92e+02   0.9 2.65e+01  -0.1 6.65e-01 2.95e-01f  1\n",
      "iter    objective    inf_pr   inf_du lg(mu)  ||d||  lg(rg) alpha_du alpha_pr  ls\n",
      " 140r 1.2060006e+02 2.37e+01 7.12e+03   0.9 4.30e-01   5.8 2.09e-02 2.59e-02h  1\n",
      " 141r 1.2060006e+02 2.35e+01 2.24e+04   0.9 6.84e-01   5.3 9.15e-02 6.52e-03h  1\n",
      " 142r 1.2060006e+02 2.03e+01 1.33e+04   0.9 6.89e-01   4.8 8.69e-02 1.37e-01h  1\n",
      " 143r 1.2060006e+02 1.28e+01 1.34e+04   0.9 5.97e-01   4.4 2.77e-01 3.73e-01h  1\n",
      " 144r 1.2060006e+02 6.26e+00 3.24e+04   0.9 3.76e-01   4.8 1.95e-01 5.21e-01h  1\n",
      " 145  1.2077131e+02 6.17e+00 1.29e+00  -8.6 9.61e+03    -  5.18e-01 1.44e-02h  7\n",
      " 146  1.2078564e+02 6.16e+00 1.29e+00  -8.6 3.98e+03    -  5.42e-01 1.95e-03h 10\n",
      " 147  1.2079607e+02 6.15e+00 1.29e+00  -8.6 4.21e+03    -  5.12e-01 9.77e-04h 11\n",
      " 148  1.2083565e+02 6.13e+00 1.29e+00  -8.6 3.95e+03    -  5.94e-01 3.91e-03h  9\n",
      " 149  1.2142517e+02 5.71e+00 2.27e+00  -8.6 4.44e+03    -  5.78e-01 6.25e-02h  5\n",
      "iter    objective    inf_pr   inf_du lg(mu)  ||d||  lg(rg) alpha_du alpha_pr  ls\n",
      " 150  1.2154287e+02 5.62e+00 2.25e+00  -8.6 3.78e+03    -  7.08e-01 1.56e-02h  7\n",
      " 151  1.2155626e+02 5.61e+00 2.25e+00  -8.6 3.61e+03    -  7.59e-01 1.95e-03h 10\n",
      " 152  1.2156882e+02 5.60e+00 2.24e+00  -8.6 9.61e+03    -  5.03e-01 1.95e-03h 10\n",
      " 153  1.2167078e+02 5.51e+00 2.33e+00  -8.6 1.03e+04    -  7.41e-01 1.56e-02h  7\n",
      " 154r 1.2167078e+02 5.51e+00 9.99e+02   0.4 0.00e+00  -0.3 0.00e+00 3.47e-07R 21\n",
      " 155r 1.2167138e+02 3.66e+00 9.96e+02   0.4 3.84e+03    -  4.23e-03 1.58e-03f  1\n",
      " 156  1.1693684e+02 3.77e+02 8.19e+00  -8.6 3.81e+03    -  4.93e-01 5.37e-01f  1\n",
      " 157  1.1330562e+02 5.45e+00 3.39e+00  -8.6 2.08e+03    -  1.33e-03 1.00e+00h  1\n",
      " 158  1.1330561e+02 5.45e+00 1.83e+03  -8.6 4.50e+02    -  4.07e-01 1.24e-05h  1\n",
      " 159  1.1308171e+02 8.31e+00 9.63e+02  -8.6 3.68e+02    -  4.80e-01 4.78e-01h  1\n",
      "iter    objective    inf_pr   inf_du lg(mu)  ||d||  lg(rg) alpha_du alpha_pr  ls\n",
      " 160  1.1305913e+02 7.95e+00 6.94e+02  -8.6 1.96e+03    -  5.26e-05 4.35e-02h  1\n",
      " 161  1.1303890e+02 7.31e+00 9.97e+04  -8.6 3.01e+02  -0.8 9.16e-07 8.63e-02h  1\n",
      "In iteration 161, 1 Slack too small, adjusting variable bound\n",
      " 162  1.1303890e+02 7.31e+00 9.97e+04  -8.6 2.03e+02  -1.3 4.51e-01 6.50e-06h  1\n",
      " 163  1.1295183e+02 5.06e+00 2.20e+05  -8.6 2.09e+02  -1.8 7.19e-06 3.38e-01h  1\n",
      "In iteration 163, 1 Slack too small, adjusting variable bound\n",
      " 164  1.1292721e+02 4.36e+00 1.87e+05  -8.6 9.57e+01  -0.4 4.61e-01 1.45e-01h  1\n",
      " 165  1.1278952e+02 1.53e+00 9.77e+04  -8.6 7.78e+01  -0.0 1.15e-01 1.00e+00h  1\n",
      " 166  1.1278595e+02 5.28e-01 4.71e+04  -8.6 1.90e+01  -0.5 5.97e-01 1.00e+00h  1\n",
      " 167  1.1278563e+02 1.34e-01 1.10e+04  -8.6 9.74e+00  -1.0 9.91e-01 1.00e+00h  1\n",
      " 168  1.1278548e+02 1.40e-02 5.75e+02  -8.6 4.31e+00  -1.4 9.99e-01 1.00e+00h  1\n",
      " 169  1.1278546e+02 1.91e-04 2.94e+01  -8.6 5.66e-01  -1.9 1.00e+00 1.00e+00h  1\n",
      "iter    objective    inf_pr   inf_du lg(mu)  ||d||  lg(rg) alpha_du alpha_pr  ls\n",
      " 170  1.1278546e+02 3.02e-08 1.46e-02  -8.6 1.57e-02  -2.4 1.00e+00 1.00e+00h  1\n",
      " 171  1.1278545e+02 1.09e-07 5.99e-05  -8.6 4.51e-02  -2.9 1.00e+00 1.00e+00h  1\n",
      " 172  1.1278543e+02 9.86e-07 6.01e-05  -8.6 1.36e-01  -3.4 1.00e+00 1.00e+00h  1\n",
      " 173  1.1278534e+02 8.96e-06 6.07e-05  -8.6 4.11e-01  -3.8 1.00e+00 1.00e+00h  1\n",
      " 174  1.1278509e+02 8.28e-05 4.56e-04  -8.6 1.27e+00  -4.3 1.00e+00 1.00e+00h  1\n",
      " 175  1.1278427e+02 7.79e-04 4.06e-03  -8.6 4.04e+00  -4.8 1.00e+00 1.00e+00h  1\n",
      " 176  1.1278131e+02 1.11e+00 2.78e-02  -8.6 1.30e+01  -5.3 1.00e+00 1.00e+00h  1\n",
      " 177  1.1277077e+02 1.88e-01 4.89e-02  -8.6 3.59e+01  -5.7 1.00e+00 1.00e+00h  1\n",
      " 178  1.1275125e+02 7.23e-01 1.18e-01  -8.6 7.33e+02    -  9.09e-01 1.36e-01h  1\n",
      " 179  1.1274575e+02 4.86e-01 6.55e-01  -8.6 2.01e+02    -  2.01e-02 5.51e-01h  1\n",
      "iter    objective    inf_pr   inf_du lg(mu)  ||d||  lg(rg) alpha_du alpha_pr  ls\n",
      " 180  1.1274574e+02 4.86e-01 6.55e-01  -8.6 2.01e+02    -  1.79e-06 3.79e-04h  1\n",
      " 181  1.1274390e+02 2.11e-01 1.29e+00  -8.6 2.07e+02    -  9.53e-02 4.27e-01f  1\n",
      " 182  1.1274261e+02 6.08e-02 2.67e+00  -8.6 1.55e+02    -  2.91e-01 1.00e+00h  1\n",
      " 183  1.1274175e+02 5.04e-02 2.15e+00  -8.6 1.75e+01    -  1.28e-01 1.83e-01h  1\n",
      " 184  1.1274177e+02 4.71e-02 2.01e+00  -8.6 8.04e+00    -  1.00e+00 6.44e-02h  1\n",
      " 185  1.1274175e+02 3.66e-02 1.58e+00  -8.6 3.60e+00    -  1.93e-02 2.23e-01h  1\n",
      " 186  1.1274177e+02 6.84e-04 1.15e-01  -8.6 2.97e+00    -  9.05e-01 1.00e+00h  1\n",
      " 187  1.1274176e+02 5.28e-04 9.05e-02  -8.6 9.68e-01    -  1.00e+00 2.13e-01h  1\n",
      " 188  1.1274176e+02 6.09e-07 1.94e-04  -8.6 2.23e-01    -  9.92e-01 1.00e+00h  1\n",
      " 189  1.1274176e+02 1.94e-11 3.03e-09  -8.6 1.43e-04    -  1.00e+00 1.00e+00h  1\n",
      "\n",
      "Number of Iterations....: 189\n",
      "\n",
      "                                   (scaled)                 (unscaled)\n",
      "Objective...............:   1.1274176365246821e+02    1.1274176365246821e+02\n",
      "Dual infeasibility......:   3.0340901373658632e-09    3.0340901373658632e-09\n",
      "Constraint violation....:   1.2048584352442049e-11    1.9390933303498059e-11\n",
      "Complementarity.........:   2.5059126690025531e-09    2.5059126690025531e-09\n",
      "Overall NLP error.......:   5.0598423485247419e-10    3.0340901373658632e-09\n",
      "\n",
      "\n",
      "Number of objective function evaluations             = 778\n",
      "Number of objective gradient evaluations             = 149\n",
      "Number of equality constraint evaluations            = 778\n",
      "Number of inequality constraint evaluations          = 0\n",
      "Number of equality constraint Jacobian evaluations   = 200\n",
      "Number of inequality constraint Jacobian evaluations = 0\n",
      "Number of Lagrangian Hessian evaluations             = 189\n",
      "Total CPU secs in IPOPT (w/o function evaluations)   =      0.292\n",
      "Total CPU secs in NLP function evaluations           =      7.437\n",
      "\n",
      "EXIT: Optimal Solution Found.\n",
      "WARNING: The current pynumero_ASL library is version=2, but found version=1.\n",
      "    Please recompile / update your pynumero_ASL library.\n",
      "The SSE at the optimal solution is 112.741764\n",
      "\n",
      "The values for the parameters are as follows:\n",
      "fs.properties.SRK_kappa_A[emimTf2N,R125] = 0.0057290525167812256\n",
      "fs.properties.SRK_kappa_A[R125,emimTf2N] = 0.0012619999880067792\n",
      "fs.properties.SRK_kappa_B[emimTf2N,R125] = 0.4025353847142298\n",
      "fs.properties.SRK_kappa_B[R125,emimTf2N] = 0.06524950718953335\n",
      "fs.properties.SRK_kappa_C[emimTf2N,R125] = -0.8327533761633331\n",
      "fs.properties.SRK_kappa_C[R125,emimTf2N] = -0.21524656078088095\n",
      "fs.properties.SRK_kappa_D[emimTf2N,R125] = 0.35561575206882157\n",
      "fs.properties.SRK_kappa_D[R125,emimTf2N] = 0.11776877469274542\n",
      "covariance_matrix                                           fs.properties.SRK_kappa_A[emimTf2N,R125]  \\\n",
      "fs.properties.SRK_kappa_A[emimTf2N,R125]                                  0.009001   \n",
      "fs.properties.SRK_kappa_A[R125,emimTf2N]                                  0.000346   \n",
      "fs.properties.SRK_kappa_B[emimTf2N,R125]                                 -0.270864   \n",
      "fs.properties.SRK_kappa_B[R125,emimTf2N]                                 -0.009368   \n",
      "fs.properties.SRK_kappa_C[emimTf2N,R125]                                  0.510538   \n",
      "fs.properties.SRK_kappa_C[R125,emimTf2N]                                  0.017464   \n",
      "fs.properties.SRK_kappa_D[emimTf2N,R125]                                 -0.248034   \n",
      "fs.properties.SRK_kappa_D[R125,emimTf2N]                                 -0.008413   \n",
      "\n",
      "                                          fs.properties.SRK_kappa_A[R125,emimTf2N]  \\\n",
      "fs.properties.SRK_kappa_A[emimTf2N,R125]                                  0.000346   \n",
      "fs.properties.SRK_kappa_A[R125,emimTf2N]                                  0.000041   \n",
      "fs.properties.SRK_kappa_B[emimTf2N,R125]                                 -0.009639   \n",
      "fs.properties.SRK_kappa_B[R125,emimTf2N]                                 -0.001172   \n",
      "fs.properties.SRK_kappa_C[emimTf2N,R125]                                  0.017241   \n",
      "fs.properties.SRK_kappa_C[R125,emimTf2N]                                  0.002088   \n",
      "fs.properties.SRK_kappa_D[emimTf2N,R125]                                 -0.007924   \n",
      "fs.properties.SRK_kappa_D[R125,emimTf2N]                                 -0.000955   \n",
      "\n",
      "                                          fs.properties.SRK_kappa_B[emimTf2N,R125]  \\\n",
      "fs.properties.SRK_kappa_A[emimTf2N,R125]                                 -0.270864   \n",
      "fs.properties.SRK_kappa_A[R125,emimTf2N]                                 -0.009639   \n",
      "fs.properties.SRK_kappa_B[emimTf2N,R125]                                  8.576980   \n",
      "fs.properties.SRK_kappa_B[R125,emimTf2N]                                  0.293346   \n",
      "fs.properties.SRK_kappa_C[emimTf2N,R125]                                -16.210221   \n",
      "fs.properties.SRK_kappa_C[R125,emimTf2N]                                 -0.550508   \n",
      "fs.properties.SRK_kappa_D[emimTf2N,R125]                                  7.883710   \n",
      "fs.properties.SRK_kappa_D[R125,emimTf2N]                                  0.265883   \n",
      "\n",
      "                                          fs.properties.SRK_kappa_B[R125,emimTf2N]  \\\n",
      "fs.properties.SRK_kappa_A[emimTf2N,R125]                                 -0.009368   \n",
      "fs.properties.SRK_kappa_A[R125,emimTf2N]                                 -0.001172   \n",
      "fs.properties.SRK_kappa_B[emimTf2N,R125]                                  0.293346   \n",
      "fs.properties.SRK_kappa_B[R125,emimTf2N]                                  0.036558   \n",
      "fs.properties.SRK_kappa_C[emimTf2N,R125]                                 -0.527065   \n",
      "fs.properties.SRK_kappa_C[R125,emimTf2N]                                 -0.065363   \n",
      "fs.properties.SRK_kappa_D[emimTf2N,R125]                                  0.242325   \n",
      "fs.properties.SRK_kappa_D[R125,emimTf2N]                                  0.029944   \n",
      "\n",
      "                                          fs.properties.SRK_kappa_C[emimTf2N,R125]  \\\n",
      "fs.properties.SRK_kappa_A[emimTf2N,R125]                                  0.510538   \n",
      "fs.properties.SRK_kappa_A[R125,emimTf2N]                                  0.017241   \n",
      "fs.properties.SRK_kappa_B[emimTf2N,R125]                                -16.210221   \n",
      "fs.properties.SRK_kappa_B[R125,emimTf2N]                                 -0.527065   \n",
      "fs.properties.SRK_kappa_C[emimTf2N,R125]                                 30.695831   \n",
      "fs.properties.SRK_kappa_C[R125,emimTf2N]                                  0.993509   \n",
      "fs.properties.SRK_kappa_D[emimTf2N,R125]                                -14.958474   \n",
      "fs.properties.SRK_kappa_D[R125,emimTf2N]                                 -0.481997   \n",
      "\n",
      "                                          fs.properties.SRK_kappa_C[R125,emimTf2N]  \\\n",
      "fs.properties.SRK_kappa_A[emimTf2N,R125]                                  0.017464   \n",
      "fs.properties.SRK_kappa_A[R125,emimTf2N]                                  0.002088   \n",
      "fs.properties.SRK_kappa_B[emimTf2N,R125]                                 -0.550508   \n",
      "fs.properties.SRK_kappa_B[R125,emimTf2N]                                 -0.065363   \n",
      "fs.properties.SRK_kappa_C[emimTf2N,R125]                                  0.993509   \n",
      "fs.properties.SRK_kappa_C[R125,emimTf2N]                                  0.117094   \n",
      "fs.properties.SRK_kappa_D[emimTf2N,R125]                                 -0.458990   \n",
      "fs.properties.SRK_kappa_D[R125,emimTf2N]                                 -0.053748   \n",
      "\n",
      "                                          fs.properties.SRK_kappa_D[emimTf2N,R125]  \\\n",
      "fs.properties.SRK_kappa_A[emimTf2N,R125]                                 -0.248034   \n",
      "fs.properties.SRK_kappa_A[R125,emimTf2N]                                 -0.007924   \n",
      "fs.properties.SRK_kappa_B[emimTf2N,R125]                                  7.883710   \n",
      "fs.properties.SRK_kappa_B[R125,emimTf2N]                                  0.242325   \n",
      "fs.properties.SRK_kappa_C[emimTf2N,R125]                                -14.958474   \n",
      "fs.properties.SRK_kappa_C[R125,emimTf2N]                                 -0.458990   \n",
      "fs.properties.SRK_kappa_D[emimTf2N,R125]                                  7.305072   \n",
      "fs.properties.SRK_kappa_D[R125,emimTf2N]                                  0.223806   \n",
      "\n",
      "                                          fs.properties.SRK_kappa_D[R125,emimTf2N]  \n",
      "fs.properties.SRK_kappa_A[emimTf2N,R125]                                 -0.008413  \n",
      "fs.properties.SRK_kappa_A[R125,emimTf2N]                                 -0.000955  \n",
      "fs.properties.SRK_kappa_B[emimTf2N,R125]                                  0.265883  \n",
      "fs.properties.SRK_kappa_B[R125,emimTf2N]                                  0.029944  \n",
      "fs.properties.SRK_kappa_C[emimTf2N,R125]                                 -0.481997  \n",
      "fs.properties.SRK_kappa_C[R125,emimTf2N]                                 -0.053748  \n",
      "fs.properties.SRK_kappa_D[emimTf2N,R125]                                  0.223806  \n",
      "fs.properties.SRK_kappa_D[R125,emimTf2N]                                  0.024723  \n"
     ]
    }
   ],
   "source": [
    "parameters, obj_value, a = polynomial(data_subset, configuration, 'R125', 'emimTf2N', \"x_R125\", \"x_emimTf2N\", \n",
    "    init_temp =  283.1, init_press =   399300 , init_x_c1 =    0.448, init_x_c2 = 0.552,\n",
    "    init_kappa_2_1A = 0.001, init_kappa_1_2A = 0.006,\n",
    "    init_kappa_2_1B = -0.003, init_kappa_1_2B = -0.001,\n",
    "    init_kappa_2_1C = 0.001, init_kappa_1_2C =  0.005,\n",
    "    init_kappa_2_1D = -0.001, init_kappa_1_2D = -0.001,                                 \n",
    "    eps = 0.1, scaling_fac = 1e-6)"
   ]
  },
  {
   "cell_type": "code",
   "execution_count": 6,
   "id": "basic-preserve",
   "metadata": {},
   "outputs": [
    {
     "name": "stdout",
     "output_type": "stream",
     "text": [
      "Objective (SSE): 112.74176365246821\n"
     ]
    }
   ],
   "source": [
    "print('Objective (SSE):',obj_value)"
   ]
  },
  {
   "cell_type": "code",
   "execution_count": 7,
   "id": "governmental-nudist",
   "metadata": {},
   "outputs": [
    {
     "name": "stdout",
     "output_type": "stream",
     "text": [
      "Covariance Matrix:\n",
      "[[ 9.00136615e-03  3.46159231e-04 -2.70863571e-01 -9.36799277e-03\n",
      "   5.10538277e-01  1.74635644e-02 -2.48034484e-01 -8.41283573e-03]\n",
      " [ 3.46159231e-04  4.09060633e-05 -9.63892483e-03 -1.17220499e-03\n",
      "   1.72414534e-02  2.08778153e-03 -7.92413676e-03 -9.55427143e-04]\n",
      " [-2.70863571e-01 -9.63892483e-03  8.57698009e+00  2.93345885e-01\n",
      "  -1.62102213e+01 -5.50508396e-01  7.88371042e+00  2.65882967e-01]\n",
      " [-9.36799277e-03 -1.17220499e-03  2.93345885e-01  3.65582199e-02\n",
      "  -5.27064893e-01 -6.53625624e-02  2.42325275e-01  2.99435463e-02]\n",
      " [ 5.10538277e-01  1.72414534e-02 -1.62102213e+01 -5.27064893e-01\n",
      "   3.06958312e+01  9.93509197e-01 -1.49584744e+01 -4.81996580e-01]\n",
      " [ 1.74635644e-02  2.08778153e-03 -5.50508396e-01 -6.53625624e-02\n",
      "   9.93509197e-01  1.17093681e-01 -4.58989988e-01 -5.37478446e-02]\n",
      " [-2.48034484e-01 -7.92413676e-03  7.88371042e+00  2.42325275e-01\n",
      "  -1.49584744e+01 -4.58989988e-01  7.30507209e+00  2.23805970e-01]\n",
      " [-8.41283573e-03 -9.55427143e-04  2.65882967e-01  2.99435463e-02\n",
      "  -4.81996580e-01 -5.37478446e-02  2.23805970e-01  2.47225506e-02]]\n"
     ]
    }
   ],
   "source": [
    "cov = np.array(a)\n",
    "print('Covariance Matrix:')\n",
    "print(cov)"
   ]
  },
  {
   "cell_type": "code",
   "execution_count": 8,
   "id": "05063047",
   "metadata": {},
   "outputs": [],
   "source": [
    "np.savetxt('Data/Covariance/SRK_Cov_8parameter.csv',cov,delimiter=',')"
   ]
  },
  {
   "cell_type": "markdown",
   "id": "aging-authentication",
   "metadata": {},
   "source": [
    "## Apply Parameters + Plot"
   ]
  },
  {
   "cell_type": "code",
   "execution_count": 13,
   "id": "endangered-gibraltar",
   "metadata": {},
   "outputs": [],
   "source": [
    "solver = SolverFactory('ipopt')\n",
    "solver.options = {'tol': 1e-6}"
   ]
  },
  {
   "cell_type": "code",
   "execution_count": 12,
   "id": "royal-switch",
   "metadata": {},
   "outputs": [
    {
     "ename": "InitializationError",
     "evalue": "fs.F101.control_volume.properties_in failed to initialize successfully. Please check the output logs for more information.",
     "output_type": "error",
     "traceback": [
      "\u001b[0;31m---------------------------------------------------------------------------\u001b[0m",
      "\u001b[0;31mInitializationError\u001b[0m                       Traceback (most recent call last)",
      "\u001b[0;32m/var/folders/4w/g52120tx7_s7wtgcx42rk8100000gn/T/ipykernel_37439/2487994465.py\u001b[0m in \u001b[0;36m<module>\u001b[0;34m\u001b[0m\n\u001b[1;32m     24\u001b[0m \u001b[0;34m\u001b[0m\u001b[0m\n\u001b[1;32m     25\u001b[0m \u001b[0;31m# Initialize the flash unit\u001b[0m\u001b[0;34m\u001b[0m\u001b[0;34m\u001b[0m\u001b[0m\n\u001b[0;32m---> 26\u001b[0;31m \u001b[0mm\u001b[0m\u001b[0;34m.\u001b[0m\u001b[0mfs\u001b[0m\u001b[0;34m.\u001b[0m\u001b[0mF101\u001b[0m\u001b[0;34m.\u001b[0m\u001b[0minitialize\u001b[0m\u001b[0;34m(\u001b[0m\u001b[0moutlvl\u001b[0m\u001b[0;34m=\u001b[0m\u001b[0midaeslog\u001b[0m\u001b[0;34m.\u001b[0m\u001b[0mCRITICAL\u001b[0m\u001b[0;34m)\u001b[0m\u001b[0;34m\u001b[0m\u001b[0;34m\u001b[0m\u001b[0m\n\u001b[0m\u001b[1;32m     27\u001b[0m \u001b[0;34m\u001b[0m\u001b[0m\n\u001b[1;32m     28\u001b[0m \u001b[0;31m# Fix the state variables on the state block\u001b[0m\u001b[0;34m\u001b[0m\u001b[0;34m\u001b[0m\u001b[0m\n",
      "\u001b[0;32m~/Dowling-Maginn-Lab/DowlingLab/IL-MD/idaes-pse/idaes/core/unit_model.py\u001b[0m in \u001b[0;36minitialize\u001b[0;34m(blk, state_args, outlvl, solver, optarg)\u001b[0m\n\u001b[1;32m    627\u001b[0m         \u001b[0;31m# ---------------------------------------------------------------------\u001b[0m\u001b[0;34m\u001b[0m\u001b[0;34m\u001b[0m\u001b[0m\n\u001b[1;32m    628\u001b[0m         \u001b[0;31m# Initialize control volume block\u001b[0m\u001b[0;34m\u001b[0m\u001b[0;34m\u001b[0m\u001b[0m\n\u001b[0;32m--> 629\u001b[0;31m         flags = blk.control_volume.initialize(\n\u001b[0m\u001b[1;32m    630\u001b[0m             \u001b[0moutlvl\u001b[0m\u001b[0;34m=\u001b[0m\u001b[0moutlvl\u001b[0m\u001b[0;34m,\u001b[0m\u001b[0;34m\u001b[0m\u001b[0;34m\u001b[0m\u001b[0m\n\u001b[1;32m    631\u001b[0m             \u001b[0moptarg\u001b[0m\u001b[0;34m=\u001b[0m\u001b[0moptarg\u001b[0m\u001b[0;34m,\u001b[0m\u001b[0;34m\u001b[0m\u001b[0;34m\u001b[0m\u001b[0m\n",
      "\u001b[0;32m~/Dowling-Maginn-Lab/DowlingLab/IL-MD/idaes-pse/idaes/core/control_volume0d.py\u001b[0m in \u001b[0;36minitialize\u001b[0;34m(blk, state_args, outlvl, optarg, solver, hold_state)\u001b[0m\n\u001b[1;32m   1365\u001b[0m \u001b[0;34m\u001b[0m\u001b[0m\n\u001b[1;32m   1366\u001b[0m         \u001b[0;31m# Initialize state blocks\u001b[0m\u001b[0;34m\u001b[0m\u001b[0;34m\u001b[0m\u001b[0m\n\u001b[0;32m-> 1367\u001b[0;31m         in_flags = blk.properties_in.initialize(\n\u001b[0m\u001b[1;32m   1368\u001b[0m             \u001b[0moutlvl\u001b[0m\u001b[0;34m=\u001b[0m\u001b[0moutlvl\u001b[0m\u001b[0;34m,\u001b[0m\u001b[0;34m\u001b[0m\u001b[0;34m\u001b[0m\u001b[0m\n\u001b[1;32m   1369\u001b[0m             \u001b[0moptarg\u001b[0m\u001b[0;34m=\u001b[0m\u001b[0moptarg\u001b[0m\u001b[0;34m,\u001b[0m\u001b[0;34m\u001b[0m\u001b[0;34m\u001b[0m\u001b[0m\n",
      "\u001b[0;32m~/Dowling-Maginn-Lab/DowlingLab/IL-MD/idaes-pse/idaes/generic_models/properties/core/generic/generic_property.py\u001b[0m in \u001b[0;36minitialize\u001b[0;34m(blk, state_args, state_vars_fixed, hold_state, outlvl, solver, optarg)\u001b[0m\n\u001b[1;32m   1434\u001b[0m                 \u001b[0mTerminationCondition\u001b[0m\u001b[0;34m.\u001b[0m\u001b[0moptimal\u001b[0m \u001b[0;32mor\u001b[0m\u001b[0;34m\u001b[0m\u001b[0;34m\u001b[0m\u001b[0m\n\u001b[1;32m   1435\u001b[0m                 res.solver.status != SolverStatus.ok)):\n\u001b[0;32m-> 1436\u001b[0;31m             raise InitializationError(\n\u001b[0m\u001b[1;32m   1437\u001b[0m                 \u001b[0;34mf\"{blk.name} failed to initialize successfully. Please check \"\u001b[0m\u001b[0;34m\u001b[0m\u001b[0;34m\u001b[0m\u001b[0m\n\u001b[1;32m   1438\u001b[0m                 f\"the output logs for more information.\")\n",
      "\u001b[0;31mInitializationError\u001b[0m: fs.F101.control_volume.properties_in failed to initialize successfully. Please check the output logs for more information."
     ]
    }
   ],
   "source": [
    "m = ConcreteModel()\n",
    "\n",
    "m.fs = FlowsheetBlock(default={\"dynamic\": False})\n",
    "\n",
    "m.fs.properties = GenericParameterBlock(default=configuration)\n",
    "\n",
    "m.fs.F101 = Flash(default={\"property_package\": m.fs.properties,\n",
    "                           \"has_heat_transfer\": True,\n",
    "                           \"has_pressure_change\": True})\n",
    "\n",
    "m.fs.F101.inlet.flow_mol.fix(1)\n",
    "m.fs.F101.inlet.temperature.fix(323.15)\n",
    "m.fs.F101.inlet.pressure.fix(399800)\n",
    "m.fs.F101.inlet.mole_frac_comp[0,'R125'].fix(0.5)\n",
    "\n",
    "m.fs.properties.SRK_kappa_A['R125','emimTf2N'] = parameters['fs.properties.SRK_kappa_A[R125,emimTf2N]']\n",
    "m.fs.properties.SRK_kappa_A['emimTf2N','R125'] = parameters['fs.properties.SRK_kappa_A[emimTf2N,R125]']\n",
    "m.fs.properties.SRK_kappa_B['R125','emimTf2N'] = parameters['fs.properties.SRK_kappa_B[R125,emimTf2N]']\n",
    "m.fs.properties.SRK_kappa_B['emimTf2N','R125'] = parameters['fs.properties.SRK_kappa_B[emimTf2N,R125]']\n",
    "m.fs.properties.SRK_kappa_C['R125','emimTf2N'] = parameters['fs.properties.SRK_kappa_C[R125,emimTf2N]']\n",
    "m.fs.properties.SRK_kappa_C['emimTf2N','R125'] = parameters['fs.properties.SRK_kappa_C[emimTf2N,R125]']\n",
    "m.fs.properties.SRK_kappa_D['R125','emimTf2N'] = parameters['fs.properties.SRK_kappa_D[R125,emimTf2N]']\n",
    "m.fs.properties.SRK_kappa_D['emimTf2N','R125'] = parameters['fs.properties.SRK_kappa_D[emimTf2N,R125]']\n",
    "\n",
    "# Initialize the flash unit\n",
    "m.fs.F101.initialize(outlvl=idaeslog.CRITICAL)\n",
    "\n",
    "# Fix the state variables on the state block\n",
    "# m.fs.F101.inlet.pressure.unfix()\n",
    "m.fs.F101.inlet.mole_frac_comp[0,'emimTf2N'].unfix()\n",
    "\n",
    "R125_x = np.zeros((len(data_full)))\n",
    "P = np.zeros((len(data_full)))\n",
    "\n",
    "m.fs.liq = Param(mutable=True,default=0.040)\n",
    "m.fs.liquid = Constraint(expr=m.fs.F101.liq_outlet.mole_frac_comp[0, \"emimTf2N\"] == m.fs.liq)\n",
    "\n",
    "for i in range(len(data_full)):\n",
    "    m.fs.liq = data_full[\"x_emimTf2N\"].iloc[i]\n",
    "    m.fs.F101.inlet.temperature.fix(float(data_full[\"temperature\"].iloc[i]))\n",
    "    m.fs.F101.inlet.pressure.fix(float(data_full[\"pressure\"].iloc[i]))\n",
    "    m.fs.F101.inlet.mole_frac_comp[0,'R125'].fix(float(data_full[\"x_R125\"].iloc[i])+0.1)\n",
    "    m.fs.F101.inlet.mole_frac_comp[0,'emimTf2N'].fix(float(1-(data_full[\"x_R125\"].iloc[i]+0.1)))\n",
    "    m.fs.F101.vap_outlet.temperature.fix(float(data_full[\"temperature\"].iloc[i]))\n",
    "    \n",
    "#     DOF_final = degrees_of_freedom(m)\n",
    "#     print(\"The final DOF is {0}\".format(DOF_final))\n",
    "    m.fs.F101.initialize(outlvl=idaeslog.CRITICAL)\n",
    "    \n",
    "    status = solver.solve(m, tee = False)\n",
    "\n",
    "#     m.fs.F101.report()\n",
    "    if (status.solver.status == SolverStatus.ok) and (status.solver.termination_condition == TerminationCondition.optimal):\n",
    "        print(data_full[\"x_emimTf2N\"].iloc[i])\n",
    "        R125_x[i] = value(m.fs.F101.liq_outlet.mole_frac_comp[0,'R125']) \n",
    "        P[i] = value(m.fs.F101.vap_outlet.pressure[0])\n",
    "\n",
    "    else:\n",
    "        print('Infeasible.')"
   ]
  },
  {
   "cell_type": "code",
   "execution_count": null,
   "id": "ca5eb3c4",
   "metadata": {},
   "outputs": [],
   "source": [
    "fitted_data = pd.DataFrame(data=[R32_x,P/1e6])\n",
    "fitted_data = fitted_data.T\n",
    "fitted_data.columns = ['R32_x','P, MPa']\n",
    "fitted_data.to_csv('Data/Fits/SRK_FittedData_8parameter.csv')"
   ]
  },
  {
   "cell_type": "code",
   "execution_count": null,
   "id": "religious-joining",
   "metadata": {},
   "outputs": [],
   "source": [
    "P1= np.zeros((len(P)))\n",
    "\n",
    "for i in range(len(P)):\n",
    "    P1[i] = P[i]/1e6\n",
    "\n",
    "fig, ax = plt.subplots()\n",
    "\n",
    "ax.plot(R32_x[0:7],P1[0:7],\"b*-\",label=\"T= 283 K\")  \n",
    "ax.plot(R32_x[7:15],P1[7:15],\"r*-\",label=\"T= 298 K\") \n",
    "ax.plot(R32_x[15:23],P1[15:23],\"c*-\",label=\"T= 323 K\") \n",
    "ax.plot(R32_x[23:31],P1[23:31],\"m-*\",label=\"T= 348 K\")\n",
    "ax.plot(data_full[\"x_R32\"],data_full[\"pressure\"]/1e6,\"*\",color='orange',label=\"data\")  \n",
    "\n",
    "# plt.title('Isotherm R32-[emim][TF2N]')\n",
    "ax.set_ylabel('Pressure, MPa',fontsize=24)\n",
    "ax.set_xlabel('HFC-32 Mole Fraction',fontsize=24)\n",
    "\n",
    "ax.set_xticks([0.0, 0.2, 0.4, 0.6, 0.8, 1.0])\n",
    "ax.set_xticks([0.1, 0.3, 0.5, 0.7, 0.9],minor=True)\n",
    "ax.set_yticks([0.0, 0.2, 0.4, 0.6, 0.8, 1.0, 1.2])\n",
    "ax.set_yticks([0.1, 0.3, 0.5, 0.7, 0.9, 1.1],minor=True)\n",
    "\n",
    "ax.tick_params(\"both\", direction=\"in\", which=\"both\", length=4, labelsize=20, pad=10)\n",
    "ax.tick_params(\"both\", which=\"major\", length=8)\n",
    "ax.xaxis.set_ticks_position(\"both\")\n",
    "ax.yaxis.set_ticks_position(\"both\")\n",
    "\n",
    "ax.legend(fontsize=12, handletextpad=0.00, loc=\"lower right\")#, bbox_to_anchor=(1, 0.5))\n",
    "# fig.savefig('R32-emimTF2N-quadTdep.pdf',bbox_inches='tight')\n",
    "plt.show()"
   ]
  },
  {
   "cell_type": "markdown",
   "id": "graduate-addiction",
   "metadata": {},
   "source": [
    "### Print Eigvals, Eigvectors\n",
    "\n",
    "An identifiability analysis can be performed with these as well as a FIM because the covariance matrix is the inverse of the FIM. That means that if there are any eigvals > 0, their eigvecs indicate directions of un-identifiability."
   ]
  },
  {
   "cell_type": "code",
   "execution_count": null,
   "id": "convinced-terrain",
   "metadata": {},
   "outputs": [],
   "source": [
    "eigvals, eigvecs = np.linalg.eig(cov)"
   ]
  },
  {
   "cell_type": "code",
   "execution_count": null,
   "id": "standing-startup",
   "metadata": {},
   "outputs": [],
   "source": [
    "eigvals"
   ]
  },
  {
   "cell_type": "code",
   "execution_count": null,
   "id": "minor-relay",
   "metadata": {},
   "outputs": [],
   "source": [
    "eigvecs"
   ]
  },
  {
   "cell_type": "code",
   "execution_count": null,
   "id": "170eace1",
   "metadata": {},
   "outputs": [],
   "source": [
    "np.savetxt('Data/EigenAnalysis/SRK_vals_8parameter.csv',eigvals,delimiter=',')\n",
    "np.savetxt('Data/EigenAnalysis/SRK_vecs_8parameter.csv',eigvecs,delimiter=',')"
   ]
  },
  {
   "cell_type": "markdown",
   "id": "national-effects",
   "metadata": {},
   "source": [
    "Conclusion: Fully identifiable because all eigvals ~ 0"
   ]
  },
  {
   "cell_type": "markdown",
   "id": "infrared-queensland",
   "metadata": {},
   "source": [
    "## FIM with Enthalpy of Vaporization (and Pressure)"
   ]
  },
  {
   "cell_type": "markdown",
   "id": "improving-peter",
   "metadata": {},
   "source": [
    "### Step 1: Perturb Parameters, Calculate Enthalpy of Vaporization\n",
    "\n",
    "1. Perturb Parameters: stepsize = 0.001\n",
    "\n",
    "2. Holding all other parameters constant, calculate new pressure predictions at different temps, compositions \n",
    "\n",
    "*T = (T1=298, T2=323)\n",
    "\n",
    "*x = (0.01,0.2,0.325,0.4)\n",
    "\n",
    "*Pguess comes from data_full\n",
    "\n",
    "3. Save P, Use Clausius Clapeyron to calculate enthvap"
   ]
  },
  {
   "cell_type": "code",
   "execution_count": null,
   "id": "still-uncertainty",
   "metadata": {},
   "outputs": [],
   "source": [
    "h = 0.001\n",
    "kR32_emimTF2N_A_plus = parameters['fs.properties.PR_kappa_A[R32,emimTf2N]'] + h\n",
    "kR32_emimTF2N_A_minus = parameters['fs.properties.PR_kappa_A[R32,emimTf2N]'] - h\n",
    "kemimTF2N_R32_A_plus = parameters['fs.properties.PR_kappa_A[emimTf2N,R32]'] + h\n",
    "kemimTF2N_R32_A_minus = parameters['fs.properties.PR_kappa_A[emimTf2N,R32]'] - h\n",
    "kR32_emimTF2N_B_plus = parameters['fs.properties.PR_kappa_B[R32,emimTf2N]'] + h\n",
    "kR32_emimTF2N_B_minus = parameters['fs.properties.PR_kappa_B[R32,emimTf2N]'] - h\n",
    "kemimTF2N_R32_B_plus = parameters['fs.properties.PR_kappa_B[emimTf2N,R32]'] + h\n",
    "kemimTF2N_R32_B_minus = parameters['fs.properties.PR_kappa_B[emimTf2N,R32]'] - h\n",
    "kR32_emimTF2N_C_plus = parameters['fs.properties.PR_kappa_C[R32,emimTf2N]'] + h\n",
    "kR32_emimTF2N_C_minus = parameters['fs.properties.PR_kappa_C[R32,emimTf2N]'] - h\n",
    "kemimTF2N_R32_C_plus = parameters['fs.properties.PR_kappa_C[emimTf2N,R32]'] + h\n",
    "kemimTF2N_R32_C_minus = parameters['fs.properties.PR_kappa_C[emimTf2N,R32]'] - h"
   ]
  },
  {
   "cell_type": "code",
   "execution_count": null,
   "id": "turkish-dominant",
   "metadata": {},
   "outputs": [],
   "source": [
    "data = np.array([[kR32_emimTF2N_A_plus,parameters['fs.properties.PR_kappa_A[emimTf2N,R32]'],parameters['fs.properties.PR_kappa_B[R32,emimTf2N]'],parameters['fs.properties.PR_kappa_B[emimTf2N,R32]'],parameters['fs.properties.PR_kappa_C[R32,emimTf2N]'],parameters['fs.properties.PR_kappa_C[emimTf2N,R32]']],\n",
    "                [kR32_emimTF2N_A_minus,parameters['fs.properties.PR_kappa_A[emimTf2N,R32]'],parameters['fs.properties.PR_kappa_B[R32,emimTf2N]'],parameters['fs.properties.PR_kappa_B[emimTf2N,R32]'],parameters['fs.properties.PR_kappa_C[R32,emimTf2N]'],parameters['fs.properties.PR_kappa_C[emimTf2N,R32]']],\n",
    "                 \n",
    "                [parameters['fs.properties.PR_kappa_A[R32,emimTf2N]'],kemimTF2N_R32_A_plus,parameters['fs.properties.PR_kappa_B[R32,emimTf2N]'],parameters['fs.properties.PR_kappa_B[emimTf2N,R32]'],parameters['fs.properties.PR_kappa_C[R32,emimTf2N]'],parameters['fs.properties.PR_kappa_C[emimTf2N,R32]']],\n",
    "               [parameters['fs.properties.PR_kappa_A[R32,emimTf2N]'],kemimTF2N_R32_A_minus,parameters['fs.properties.PR_kappa_B[R32,emimTf2N]'],parameters['fs.properties.PR_kappa_B[emimTf2N,R32]'],parameters['fs.properties.PR_kappa_C[R32,emimTf2N]'],parameters['fs.properties.PR_kappa_C[emimTf2N,R32]']],\n",
    "                 \n",
    "                [parameters['fs.properties.PR_kappa_A[R32,emimTf2N]'],parameters['fs.properties.PR_kappa_A[emimTf2N,R32]'],kR32_emimTF2N_B_plus,parameters['fs.properties.PR_kappa_B[emimTf2N,R32]'],parameters['fs.properties.PR_kappa_C[R32,emimTf2N]'],parameters['fs.properties.PR_kappa_C[emimTf2N,R32]']],\n",
    "                 [parameters['fs.properties.PR_kappa_A[R32,emimTf2N]'],parameters['fs.properties.PR_kappa_A[emimTf2N,R32]'],kR32_emimTF2N_B_minus,parameters['fs.properties.PR_kappa_B[emimTf2N,R32]'],parameters['fs.properties.PR_kappa_C[R32,emimTf2N]'],parameters['fs.properties.PR_kappa_C[emimTf2N,R32]']],\n",
    "                 \n",
    "                 [parameters['fs.properties.PR_kappa_A[R32,emimTf2N]'],parameters['fs.properties.PR_kappa_A[emimTf2N,R32]'],parameters['fs.properties.PR_kappa_B[R32,emimTf2N]'],kemimTF2N_R32_B_plus,parameters['fs.properties.PR_kappa_C[R32,emimTf2N]'],parameters['fs.properties.PR_kappa_C[emimTf2N,R32]']],\n",
    "                 [parameters['fs.properties.PR_kappa_A[R32,emimTf2N]'],parameters['fs.properties.PR_kappa_A[emimTf2N,R32]'],parameters['fs.properties.PR_kappa_B[R32,emimTf2N]'],kemimTF2N_R32_B_minus,parameters['fs.properties.PR_kappa_C[R32,emimTf2N]'],parameters['fs.properties.PR_kappa_C[emimTf2N,R32]']],\n",
    "                 \n",
    "                [parameters['fs.properties.PR_kappa_A[R32,emimTf2N]'],parameters['fs.properties.PR_kappa_A[emimTf2N,R32]'],parameters['fs.properties.PR_kappa_B[R32,emimTf2N]'],parameters['fs.properties.PR_kappa_B[emimTf2N,R32]'],kR32_emimTF2N_C_plus,parameters['fs.properties.PR_kappa_C[emimTf2N,R32]']],\n",
    "                [parameters['fs.properties.PR_kappa_A[R32,emimTf2N]'],parameters['fs.properties.PR_kappa_A[emimTf2N,R32]'],parameters['fs.properties.PR_kappa_B[R32,emimTf2N]'],parameters['fs.properties.PR_kappa_B[emimTf2N,R32]'],kR32_emimTF2N_C_minus,parameters['fs.properties.PR_kappa_C[emimTf2N,R32]']],\n",
    "                 \n",
    "               [parameters['fs.properties.PR_kappa_A[R32,emimTf2N]'],parameters['fs.properties.PR_kappa_A[emimTf2N,R32]'],parameters['fs.properties.PR_kappa_B[R32,emimTf2N]'],parameters['fs.properties.PR_kappa_B[emimTf2N,R32]'],parameters['fs.properties.PR_kappa_C[R32,emimTf2N]'],kemimTF2N_R32_C_plus],\n",
    "               [parameters['fs.properties.PR_kappa_A[R32,emimTf2N]'],parameters['fs.properties.PR_kappa_A[emimTf2N,R32]'],parameters['fs.properties.PR_kappa_B[R32,emimTf2N]'],parameters['fs.properties.PR_kappa_B[emimTf2N,R32]'],parameters['fs.properties.PR_kappa_C[R32,emimTf2N]'],kemimTF2N_R32_C_minus]])"
   ]
  },
  {
   "cell_type": "code",
   "execution_count": null,
   "id": "stable-addition",
   "metadata": {},
   "outputs": [],
   "source": [
    "perturbed_params = pd.DataFrame(data=data,columns=['kR32_emimTF2N_A','kemimTF2N_R32_A','kR32_emimTF2N_B','kemimTF2N_R32_B','kR32_emimTF2N_C','kemimTF2N_R32_C'])\n",
    "perturbed_params"
   ]
  },
  {
   "cell_type": "code",
   "execution_count": null,
   "id": "active-engine",
   "metadata": {},
   "outputs": [],
   "source": [
    "x = [0.01,0.2,0.325,0.4]\n",
    "temps_298 = [298.15,298.15,298.15,298.15]\n",
    "pguess_298 = [9600,250000,399400,549000]\n",
    "temps_323 = [323.15,323.15,323.15,323.15]\n",
    "pguess_323 = [20400,400100,700300,1000000]"
   ]
  },
  {
   "cell_type": "code",
   "execution_count": null,
   "id": "tested-romantic",
   "metadata": {},
   "outputs": [],
   "source": [
    "test_298 = pd.DataFrame()\n",
    "test_298['temperature'] = temps_298\n",
    "test_298['pressure'] = pguess_298\n",
    "test_298['x_R32'] = x\n",
    "test_298['x_emimTf2N'] = 1-test_298['x_R32']\n",
    "# test_298"
   ]
  },
  {
   "cell_type": "code",
   "execution_count": null,
   "id": "protected-genetics",
   "metadata": {},
   "outputs": [],
   "source": [
    "test_323 = pd.DataFrame()\n",
    "test_323['temperature'] = temps_323\n",
    "test_323['pressure'] = pguess_323\n",
    "test_323['x_R32'] = x\n",
    "test_323['x_emimTf2N'] = 1-test_323['x_R32']\n",
    "# test_323"
   ]
  },
  {
   "cell_type": "code",
   "execution_count": null,
   "id": "patent-player",
   "metadata": {},
   "outputs": [],
   "source": [
    "test_data = pd.concat([test_298,test_323],ignore_index=True)"
   ]
  },
  {
   "cell_type": "code",
   "execution_count": null,
   "id": "genuine-cleaner",
   "metadata": {},
   "outputs": [],
   "source": [
    "# Loop through test values\n",
    "\n",
    "R32_x = np.zeros((len(perturbed_params),len(test_data)))\n",
    "P = np.zeros((len(perturbed_params),len(test_data)))\n",
    "\n",
    "for j in range(len(perturbed_params)):\n",
    "\n",
    "    m = ConcreteModel()\n",
    "\n",
    "    m.fs = FlowsheetBlock(default={\"dynamic\": False})\n",
    "\n",
    "    m.fs.properties = GenericParameterBlock(default=configuration)\n",
    "\n",
    "    m.fs.F101 = Flash(default={\"property_package\": m.fs.properties,\n",
    "                               \"has_heat_transfer\": True,\n",
    "                               \"has_pressure_change\": True})\n",
    "\n",
    "    m.fs.F101.inlet.flow_mol.fix(1)\n",
    "    m.fs.F101.inlet.temperature.fix(323.15)\n",
    "    m.fs.F101.inlet.pressure.fix(399800)\n",
    "    m.fs.F101.inlet.mole_frac_comp[0,'R32'].fix(0.5)\n",
    "    \n",
    "    m.fs.properties.PR_kappa_A['R32','emimTf2N'] = perturbed_params['kR32_emimTF2N_A'][j]\n",
    "    m.fs.properties.PR_kappa_A['emimTf2N','R32'] = perturbed_params['kemimTF2N_R32_A'][j]\n",
    "    m.fs.properties.PR_kappa_B['R32','emimTf2N'] = perturbed_params['kR32_emimTF2N_B'][j]\n",
    "    m.fs.properties.PR_kappa_B['emimTf2N','R32'] = perturbed_params['kemimTF2N_R32_B'][j]\n",
    "    m.fs.properties.PR_kappa_C['R32','emimTf2N'] = perturbed_params['kR32_emimTF2N_C'][j]\n",
    "    m.fs.properties.PR_kappa_C['emimTf2N','R32'] = perturbed_params['kemimTF2N_R32_C'][j]\n",
    "    \n",
    "\n",
    "    # Initialize the flash unit\n",
    "    m.fs.F101.initialize(outlvl=idaeslog.CRITICAL)\n",
    "\n",
    "    # Fix the state variables on the state block\n",
    "    # m.fs.F101.inlet.pressure.unfix()\n",
    "    m.fs.F101.inlet.mole_frac_comp[0,'emimTf2N'].unfix()\n",
    "\n",
    "    m.fs.liq = Param(mutable=True,default=0.040)\n",
    "    m.fs.liquid = Constraint(expr=m.fs.F101.liq_outlet.mole_frac_comp[0, \"emimTf2N\"] == m.fs.liq)\n",
    "\n",
    "    for i in range(len(test_data)):\n",
    "        m.fs.liq = test_data[\"x_emimTf2N\"].iloc[i]\n",
    "        m.fs.F101.inlet.temperature.fix(float(test_data[\"temperature\"].iloc[i]))\n",
    "        m.fs.F101.inlet.pressure.fix(float(test_data[\"pressure\"].iloc[i]))\n",
    "        m.fs.F101.inlet.mole_frac_comp[0,'R32'].fix(float(test_data[\"x_R32\"].iloc[i])+0.1)\n",
    "        m.fs.F101.inlet.mole_frac_comp[0,'emimTf2N'].fix(float(1-(test_data[\"x_R32\"].iloc[i]+0.1)))\n",
    "        m.fs.F101.vap_outlet.temperature.fix(float(test_data[\"temperature\"].iloc[i]))\n",
    "\n",
    "    #     DOF_final = degrees_of_freedom(m)\n",
    "    #     print(\"The final DOF is {0}\".format(DOF_final))\n",
    "        m.fs.F101.initialize(outlvl=idaeslog.CRITICAL)\n",
    "\n",
    "        status = solver.solve(m, tee = False)\n",
    "\n",
    "    #     m.fs.F101.report()\n",
    "        if (status.solver.status == SolverStatus.ok) and (status.solver.termination_condition == TerminationCondition.optimal):\n",
    "            print(test_data[\"x_emimTf2N\"].iloc[i])\n",
    "            R32_x[j,i] = value(m.fs.F101.liq_outlet.mole_frac_comp[0,'R32'])\n",
    "            P[j,i] = value(m.fs.F101.vap_outlet.pressure[0])\n",
    "\n",
    "        else:\n",
    "            print('Infeasible.')"
   ]
  },
  {
   "cell_type": "code",
   "execution_count": null,
   "id": "collective-diamond",
   "metadata": {},
   "outputs": [],
   "source": [
    "test_data['P_kR32_emimTF2N_A_plus'] = P[0]\n",
    "test_data['P_kR32_emimTF2N_A_minus'] = P[1]\n",
    "test_data['P_kemimTF2N_R32_A_plus'] = P[2]\n",
    "test_data['P_kemimTF2N_R32_A_minus'] = P[3]\n",
    "test_data['P_kR32_emimTF2N_B_plus'] = P[4]\n",
    "test_data['P_kR32_emimTF2N_B_minus'] = P[5]\n",
    "test_data['P_kemimTF2N_R32_B_plus'] = P[6]\n",
    "test_data['P_kemimTF2N_R32_B_minus'] = P[7]\n",
    "test_data['P_kR32_emimTF2N_C_plus'] = P[8]\n",
    "test_data['P_kR32_emimTF2N_C_minus'] = P[9]\n",
    "test_data['P_kemimTF2N_R32_C_plus'] = P[10]\n",
    "test_data['P_kemimTF2N_R32_C_minus'] = P[11]"
   ]
  },
  {
   "cell_type": "code",
   "execution_count": null,
   "id": "engaged-cleaners",
   "metadata": {},
   "outputs": [],
   "source": [
    "grad_P = test_data"
   ]
  },
  {
   "cell_type": "code",
   "execution_count": null,
   "id": "painful-luxembourg",
   "metadata": {},
   "outputs": [],
   "source": [
    "test_data_298 = test_data[test_data['temperature']==298.15]\n",
    "test_data_323 = test_data[test_data['temperature']==323.15].reset_index()"
   ]
  },
  {
   "cell_type": "code",
   "execution_count": null,
   "id": "bronze-bullet",
   "metadata": {},
   "outputs": [],
   "source": [
    "R = 8.314 #J/mol-K\n",
    "hvap_calc_kR32_emimTF2N_A_plus = []\n",
    "for i in range(len(x)):\n",
    "    T2 = test_data_323['temperature'][i]\n",
    "    T1 = test_data_298['temperature'][i]\n",
    "    P2 = test_data_323['P_kR32_emimTF2N_A_plus'][i]\n",
    "    P1 = test_data_298['P_kR32_emimTF2N_A_plus'][i]\n",
    "    hvap_calc_kR32_emimTF2N_A_plus.append(np.log(P2/P1)*R/(1/T2-1/T1))\n",
    "\n",
    "hvap_calc_kR32_emimTF2N_A_minus = []\n",
    "for i in range(len(x)):\n",
    "    T2 = test_data_323['temperature'][i]\n",
    "    T1 = test_data_298['temperature'][i]\n",
    "    P2 = test_data_323['P_kR32_emimTF2N_A_minus'][i]\n",
    "    P1 = test_data_298['P_kR32_emimTF2N_A_minus'][i]\n",
    "    hvap_calc_kR32_emimTF2N_A_minus.append(np.log(P2/P1)*R/(1/T2-1/T1))\n",
    "    \n",
    "hvap_calc_kemimTF2N_R32_A_plus = []\n",
    "for i in range(len(x)):\n",
    "    T2 = test_data_323['temperature'][i]\n",
    "    T1 = test_data_298['temperature'][i]\n",
    "    P2 = test_data_323['P_kemimTF2N_R32_A_plus'][i]\n",
    "    P1 = test_data_298['P_kemimTF2N_R32_A_plus'][i]\n",
    "    hvap_calc_kemimTF2N_R32_A_plus.append(np.log(P2/P1)*R/(1/T2-1/T1))\n",
    "    \n",
    "hvap_calc_kemimTF2N_R32_A_minus = []\n",
    "for i in range(len(x)):\n",
    "    T2 = test_data_323['temperature'][i]\n",
    "    T1 = test_data_298['temperature'][i]\n",
    "    P2 = test_data_323['P_kemimTF2N_R32_A_minus'][i]\n",
    "    P1 = test_data_298['P_kemimTF2N_R32_A_minus'][i]\n",
    "    hvap_calc_kemimTF2N_R32_A_minus.append(np.log(P2/P1)*R/(1/T2-1/T1))\n",
    "    \n",
    "hvap_calc_kR32_emimTF2N_B_plus = []\n",
    "for i in range(len(x)):\n",
    "    T2 = test_data_323['temperature'][i]\n",
    "    T1 = test_data_298['temperature'][i]\n",
    "    P2 = test_data_323['P_kR32_emimTF2N_B_plus'][i]\n",
    "    P1 = test_data_298['P_kR32_emimTF2N_B_plus'][i]\n",
    "    hvap_calc_kR32_emimTF2N_B_plus.append(np.log(P2/P1)*R/(1/T2-1/T1))\n",
    "\n",
    "hvap_calc_kR32_emimTF2N_B_minus = []\n",
    "for i in range(len(x)):\n",
    "    T2 = test_data_323['temperature'][i]\n",
    "    T1 = test_data_298['temperature'][i]\n",
    "    P2 = test_data_323['P_kR32_emimTF2N_B_minus'][i]\n",
    "    P1 = test_data_298['P_kR32_emimTF2N_B_minus'][i]\n",
    "    hvap_calc_kR32_emimTF2N_B_minus.append(np.log(P2/P1)*R/(1/T2-1/T1))\n",
    "    \n",
    "hvap_calc_kemimTF2N_R32_B_plus = []\n",
    "for i in range(len(x)):\n",
    "    T2 = test_data_323['temperature'][i]\n",
    "    T1 = test_data_298['temperature'][i]\n",
    "    P2 = test_data_323['P_kemimTF2N_R32_B_plus'][i]\n",
    "    P1 = test_data_298['P_kemimTF2N_R32_B_plus'][i]\n",
    "    hvap_calc_kemimTF2N_R32_B_plus.append(np.log(P2/P1)*R/(1/T2-1/T1))\n",
    "    \n",
    "hvap_calc_kemimTF2N_R32_B_minus = []\n",
    "for i in range(len(x)):\n",
    "    T2 = test_data_323['temperature'][i]\n",
    "    T1 = test_data_298['temperature'][i]\n",
    "    P2 = test_data_323['P_kemimTF2N_R32_B_minus'][i]\n",
    "    P1 = test_data_298['P_kemimTF2N_R32_B_minus'][i]\n",
    "    hvap_calc_kemimTF2N_R32_B_minus.append(np.log(P2/P1)*R/(1/T2-1/T1))\n",
    "    \n",
    "hvap_calc_kR32_emimTF2N_C_plus = []\n",
    "for i in range(len(x)):\n",
    "    T2 = test_data_323['temperature'][i]\n",
    "    T1 = test_data_298['temperature'][i]\n",
    "    P2 = test_data_323['P_kR32_emimTF2N_C_plus'][i]\n",
    "    P1 = test_data_298['P_kR32_emimTF2N_C_plus'][i]\n",
    "    hvap_calc_kR32_emimTF2N_C_plus.append(np.log(P2/P1)*R/(1/T2-1/T1))\n",
    "\n",
    "hvap_calc_kR32_emimTF2N_C_minus = []\n",
    "for i in range(len(x)):\n",
    "    T2 = test_data_323['temperature'][i]\n",
    "    T1 = test_data_298['temperature'][i]\n",
    "    P2 = test_data_323['P_kR32_emimTF2N_C_minus'][i]\n",
    "    P1 = test_data_298['P_kR32_emimTF2N_C_minus'][i]\n",
    "    hvap_calc_kR32_emimTF2N_C_minus.append(np.log(P2/P1)*R/(1/T2-1/T1))\n",
    "    \n",
    "hvap_calc_kemimTF2N_R32_C_plus = []\n",
    "for i in range(len(x)):\n",
    "    T2 = test_data_323['temperature'][i]\n",
    "    T1 = test_data_298['temperature'][i]\n",
    "    P2 = test_data_323['P_kemimTF2N_R32_C_plus'][i]\n",
    "    P1 = test_data_298['P_kemimTF2N_R32_C_plus'][i]\n",
    "    hvap_calc_kemimTF2N_R32_C_plus.append(np.log(P2/P1)*R/(1/T2-1/T1))\n",
    "    \n",
    "hvap_calc_kemimTF2N_R32_C_minus = []\n",
    "for i in range(len(x)):\n",
    "    T2 = test_data_323['temperature'][i]\n",
    "    T1 = test_data_298['temperature'][i]\n",
    "    P2 = test_data_323['P_kemimTF2N_R32_C_minus'][i]\n",
    "    P1 = test_data_298['P_kemimTF2N_R32_C_minus'][i]\n",
    "    hvap_calc_kemimTF2N_R32_C_minus.append(np.log(P2/P1)*R/(1/T2-1/T1))"
   ]
  },
  {
   "cell_type": "code",
   "execution_count": null,
   "id": "controversial-identity",
   "metadata": {},
   "outputs": [],
   "source": [
    "hvap = pd.DataFrame()\n",
    "hvap['x_R32'] = x\n",
    "hvap['hvap_kR32_emimTF2N_A_plus'] = hvap_calc_kR32_emimTF2N_A_plus\n",
    "hvap['hvap_kR32_emimTF2N_A_minus'] = hvap_calc_kR32_emimTF2N_A_minus\n",
    "hvap['hvap_kemimTF2N_R32_A_plus'] = hvap_calc_kemimTF2N_R32_A_plus\n",
    "hvap['hvap_kemimTF2N_R32_A_minus'] = hvap_calc_kemimTF2N_R32_A_minus\n",
    "hvap['hvap_kR32_emimTF2N_B_plus'] = hvap_calc_kR32_emimTF2N_B_plus\n",
    "hvap['hvap_kR32_emimTF2N_B_minus'] = hvap_calc_kR32_emimTF2N_B_minus\n",
    "hvap['hvap_kemimTF2N_R32_B_plus'] = hvap_calc_kemimTF2N_R32_B_plus\n",
    "hvap['hvap_kemimTF2N_R32_B_minus'] = hvap_calc_kemimTF2N_R32_B_minus\n",
    "hvap['hvap_kR32_emimTF2N_C_plus'] = hvap_calc_kR32_emimTF2N_C_plus\n",
    "hvap['hvap_kR32_emimTF2N_C_minus'] = hvap_calc_kR32_emimTF2N_C_minus\n",
    "hvap['hvap_kemimTF2N_R32_C_plus'] = hvap_calc_kemimTF2N_R32_C_plus\n",
    "hvap['hvap_kemimTF2N_R32_C_minus'] = hvap_calc_kemimTF2N_R32_C_minus"
   ]
  },
  {
   "cell_type": "code",
   "execution_count": null,
   "id": "prescription-norwegian",
   "metadata": {},
   "outputs": [],
   "source": [
    "hvap"
   ]
  },
  {
   "cell_type": "markdown",
   "id": "united-editor",
   "metadata": {},
   "source": [
    "### Step 2: Calculate Gradient wrt each param at each concentration"
   ]
  },
  {
   "cell_type": "code",
   "execution_count": null,
   "id": "transparent-procedure",
   "metadata": {},
   "outputs": [],
   "source": [
    "grad_kR32_emimTF2N_A = (hvap['hvap_kR32_emimTF2N_A_plus'] - hvap['hvap_kR32_emimTF2N_A_minus'])/(2*h)\n",
    "grad_kemimTF2N_R32_A = (hvap['hvap_kemimTF2N_R32_A_plus'] - hvap['hvap_kemimTF2N_R32_A_minus'])/(2*h)\n",
    "grad_kR32_emimTF2N_B = (hvap['hvap_kR32_emimTF2N_B_plus'] - hvap['hvap_kR32_emimTF2N_B_minus'])/(2*h)\n",
    "grad_kemimTF2N_R32_B = (hvap['hvap_kemimTF2N_R32_B_plus'] - hvap['hvap_kemimTF2N_R32_B_minus'])/(2*h)\n",
    "grad_kR32_emimTF2N_C = (hvap['hvap_kR32_emimTF2N_C_plus'] - hvap['hvap_kR32_emimTF2N_C_minus'])/(2*h)\n",
    "grad_kemimTF2N_R32_C = (hvap['hvap_kemimTF2N_R32_C_plus'] - hvap['hvap_kemimTF2N_R32_C_minus'])/(2*h)"
   ]
  },
  {
   "cell_type": "code",
   "execution_count": null,
   "id": "veterinary-landing",
   "metadata": {},
   "outputs": [],
   "source": [
    "grad_P['kR32_emimTF2N_A'] = (grad_P['P_kR32_emimTF2N_A_plus'] - grad_P['P_kR32_emimTF2N_A_minus'])/(2*h)\n",
    "grad_P['kemimTF2N_R32_A'] = (grad_P['P_kemimTF2N_R32_A_plus'] - grad_P['P_kemimTF2N_R32_A_minus'])/(2*h)\n",
    "grad_P['kR32_emimTF2N_B'] = (grad_P['P_kR32_emimTF2N_B_plus'] - grad_P['P_kR32_emimTF2N_B_minus'])/(2*h)\n",
    "grad_P['kemimTF2N_R32_B'] = (grad_P['P_kemimTF2N_R32_B_plus'] - grad_P['P_kemimTF2N_R32_B_minus'])/(2*h)\n",
    "grad_P['kR32_emimTF2N_C'] = (grad_P['P_kR32_emimTF2N_C_plus'] - grad_P['P_kR32_emimTF2N_C_minus'])/(2*h)\n",
    "grad_P['kemimTF2N_R32_C'] = (grad_P['P_kemimTF2N_R32_C_plus'] - grad_P['P_kemimTF2N_R32_C_minus'])/(2*h)"
   ]
  },
  {
   "cell_type": "markdown",
   "id": "humanitarian-nevada",
   "metadata": {},
   "source": [
    "### Step 3: Build Jacobian and FIM\n",
    "\n",
    "Rows: enthvap @ 4 concentrations; or pressure @ 4 concentrations, 2 temperatures\n",
    "\n",
    "Columns: parameters (6)"
   ]
  },
  {
   "cell_type": "code",
   "execution_count": null,
   "id": "interested-boston",
   "metadata": {},
   "outputs": [],
   "source": [
    "J_df = pd.DataFrame()\n",
    "J_df['kR32_emimTF2N_A'] = grad_kR32_emimTF2N_A\n",
    "J_df['kemimTF2N_R32_A'] = grad_kemimTF2N_R32_A\n",
    "J_df['kR32_emimTF2N_B'] = grad_kR32_emimTF2N_B\n",
    "J_df['kemimTF2N_R32_B'] = grad_kemimTF2N_R32_B\n",
    "J_df['kR32_emimTF2N_C'] = grad_kR32_emimTF2N_C\n",
    "J_df['kemimTF2N_R32_C'] = grad_kemimTF2N_R32_C"
   ]
  },
  {
   "cell_type": "code",
   "execution_count": null,
   "id": "developing-environment",
   "metadata": {},
   "outputs": [],
   "source": [
    "J = J_df.to_numpy()\n",
    "Jtrans = np.transpose(J)"
   ]
  },
  {
   "cell_type": "code",
   "execution_count": null,
   "id": "closed-ticket",
   "metadata": {},
   "outputs": [],
   "source": [
    "FIM = np.dot(Jtrans,J)"
   ]
  },
  {
   "cell_type": "code",
   "execution_count": null,
   "id": "regular-angle",
   "metadata": {},
   "outputs": [],
   "source": [
    "FIM"
   ]
  },
  {
   "cell_type": "code",
   "execution_count": null,
   "id": "elegant-expense",
   "metadata": {},
   "outputs": [],
   "source": [
    "J_df_P = pd.DataFrame()\n",
    "J_df_P['kR32_emimTF2N_A'] = grad_P['kR32_emimTF2N_A']\n",
    "J_df_P['kemimTF2N_R32_A'] = grad_P['kemimTF2N_R32_A']\n",
    "J_df_P['kR32_emimTF2N_B'] = grad_P['kR32_emimTF2N_B']\n",
    "J_df_P['kemimTF2N_R32_B'] = grad_P['kemimTF2N_R32_B']\n",
    "J_df_P['kR32_emimTF2N_C'] = grad_P['kR32_emimTF2N_C']\n",
    "J_df_P['kemimTF2N_R32_C'] = grad_P['kemimTF2N_R32_C']"
   ]
  },
  {
   "cell_type": "code",
   "execution_count": null,
   "id": "approximate-farming",
   "metadata": {},
   "outputs": [],
   "source": [
    "J_P = J_df_P.to_numpy()\n",
    "J_Ptrans = np.transpose(J_P)"
   ]
  },
  {
   "cell_type": "code",
   "execution_count": null,
   "id": "continuous-validity",
   "metadata": {},
   "outputs": [],
   "source": [
    "FIM_P = np.dot(J_Ptrans,J_P)"
   ]
  },
  {
   "cell_type": "code",
   "execution_count": null,
   "id": "growing-awareness",
   "metadata": {},
   "outputs": [],
   "source": [
    "FIM_P"
   ]
  },
  {
   "cell_type": "markdown",
   "id": "minus-asbestos",
   "metadata": {},
   "source": [
    "### Step 4: Find Eigenvalues, Eigenvectors"
   ]
  },
  {
   "cell_type": "markdown",
   "id": "utility-punch",
   "metadata": {},
   "source": [
    "**Enthalpy of Vaporization**"
   ]
  },
  {
   "cell_type": "code",
   "execution_count": null,
   "id": "guided-hunter",
   "metadata": {},
   "outputs": [],
   "source": [
    "eigvals, eigvecs = np.linalg.eig(FIM)"
   ]
  },
  {
   "cell_type": "code",
   "execution_count": null,
   "id": "moral-sight",
   "metadata": {},
   "outputs": [],
   "source": [
    "eigvals"
   ]
  },
  {
   "cell_type": "code",
   "execution_count": null,
   "id": "local-liberal",
   "metadata": {},
   "outputs": [],
   "source": [
    "eigvecs"
   ]
  },
  {
   "cell_type": "markdown",
   "id": "color-threshold",
   "metadata": {},
   "source": [
    "There are 2 eigvals ~0, indicating 2 unidentifiable directions. The corresponding eigenvector terms are mostly all of the same order of magnitude, meaning that it is not possible to identify the unidentifiable parameters."
   ]
  },
  {
   "cell_type": "markdown",
   "id": "amino-accordance",
   "metadata": {},
   "source": [
    "**Pressure**"
   ]
  },
  {
   "cell_type": "code",
   "execution_count": null,
   "id": "acceptable-episode",
   "metadata": {},
   "outputs": [],
   "source": [
    "eigvals_P, eigvecs_P = np.linalg.eig(FIM_P)"
   ]
  },
  {
   "cell_type": "code",
   "execution_count": null,
   "id": "thousand-scoop",
   "metadata": {},
   "outputs": [],
   "source": [
    "eigvals_P"
   ]
  },
  {
   "cell_type": "code",
   "execution_count": null,
   "id": "european-structure",
   "metadata": {},
   "outputs": [],
   "source": [
    "eigvecs_P"
   ]
  },
  {
   "cell_type": "markdown",
   "id": "younger-watershed",
   "metadata": {},
   "source": [
    "There are 2 eigvals ~ 0 (or unreal??), indicating 2 directions of unidentifiability. This is different than what was shown with the covariance predictions above."
   ]
  },
  {
   "cell_type": "markdown",
   "id": "injured-karen",
   "metadata": {},
   "source": [
    "## AIC Value\n",
    "\n",
    "See https://docs.google.com/document/d/1um0r2XK4ldjjy2colOqaZsEM3wIzGD6l_3B8gnpnI2I/edit# for equations"
   ]
  },
  {
   "cell_type": "markdown",
   "id": "round-bryan",
   "metadata": {},
   "source": [
    "### Calculate MLE"
   ]
  },
  {
   "cell_type": "code",
   "execution_count": null,
   "id": "requested-major",
   "metadata": {},
   "outputs": [],
   "source": [
    "### Define calc model P function\n",
    "\n",
    "def calcPmod(theta,data):\n",
    "    '''\n",
    "    Arguments:\n",
    "    theta - list of BIPs\n",
    "    data - data needed to run the model\n",
    "    \n",
    "    Returns\n",
    "    Pmod - list of calculated pressures\n",
    "    '''\n",
    "    \n",
    "    m = ConcreteModel()\n",
    "\n",
    "    m.fs = FlowsheetBlock(default={\"dynamic\": False})\n",
    "\n",
    "    m.fs.properties = GenericParameterBlock(default=configuration)\n",
    "\n",
    "    m.fs.F101 = Flash(default={\"property_package\": m.fs.properties,\n",
    "                               \"has_heat_transfer\": True,\n",
    "                               \"has_pressure_change\": True})\n",
    "\n",
    "    m.fs.F101.inlet.flow_mol.fix(1)\n",
    "    m.fs.F101.inlet.temperature.fix(323.15)\n",
    "    m.fs.F101.inlet.pressure.fix(399800)\n",
    "    m.fs.F101.inlet.mole_frac_comp[0,'R32'].fix(0.5)\n",
    "\n",
    "    m.fs.properties.PR_kappa_A['R32','emimTf2N'] = theta[0]\n",
    "    m.fs.properties.PR_kappa_A['emimTf2N','R32'] = theta[1]\n",
    "    m.fs.properties.PR_kappa_B['R32','emimTf2N'] = theta[2]\n",
    "    m.fs.properties.PR_kappa_B['emimTf2N','R32'] = theta[3]\n",
    "    m.fs.properties.PR_kappa_C['R32','emimTf2N'] = theta[4]\n",
    "    m.fs.properties.PR_kappa_C['emimTf2N','R32'] = theta[5]\n",
    "\n",
    "    # Initialize the flash unit\n",
    "    m.fs.F101.initialize(outlvl=idaeslog.CRITICAL)\n",
    "\n",
    "    # Fix the state variables on the state block\n",
    "    # m.fs.F101.inlet.pressure.unfix()\n",
    "    m.fs.F101.inlet.mole_frac_comp[0,'emimTf2N'].unfix()\n",
    "\n",
    "    R32_x = np.zeros((len(data)))\n",
    "    P = np.zeros((len(data)))\n",
    "\n",
    "    m.fs.liq = Param(mutable=True,default=0.040)\n",
    "    m.fs.liquid = Constraint(expr=m.fs.F101.liq_outlet.mole_frac_comp[0, \"emimTf2N\"] == m.fs.liq)\n",
    "\n",
    "    for i in range(len(data)):\n",
    "        m.fs.liq = data[\"x_emimTf2N\"].iloc[i]\n",
    "        m.fs.F101.inlet.temperature.fix(float(data[\"temperature\"].iloc[i]))\n",
    "        m.fs.F101.inlet.pressure.fix(float(data[\"pressure\"].iloc[i]))\n",
    "        m.fs.F101.inlet.mole_frac_comp[0,'R32'].fix(float(data[\"x_R32\"].iloc[i])+0.1)\n",
    "        m.fs.F101.inlet.mole_frac_comp[0,'emimTf2N'].fix(float(1-(data[\"x_R32\"].iloc[i]+0.1)))\n",
    "        m.fs.F101.vap_outlet.temperature.fix(float(data[\"temperature\"].iloc[i]))\n",
    "\n",
    "    #     DOF_final = degrees_of_freedom(m)\n",
    "    #     print(\"The final DOF is {0}\".format(DOF_final))\n",
    "        m.fs.F101.initialize(outlvl=idaeslog.CRITICAL)\n",
    "\n",
    "        status = solver.solve(m, tee = False)\n",
    "\n",
    "    #     m.fs.F101.report()\n",
    "        if (status.solver.status == SolverStatus.ok) and (status.solver.termination_condition == TerminationCondition.optimal):\n",
    "#             print(data[\"x_emimTf2N\"].iloc[i])\n",
    "            R32_x[i] = value(m.fs.F101.liq_outlet.mole_frac_comp[0,'R32']) \n",
    "            P[i] = value(m.fs.F101.vap_outlet.pressure[0])\n",
    "\n",
    "        else:\n",
    "            print('Infeasible.')\n",
    "            \n",
    "    Pmod = P\n",
    "    \n",
    "    return Pmod"
   ]
  },
  {
   "cell_type": "code",
   "execution_count": null,
   "id": "tired-india",
   "metadata": {},
   "outputs": [],
   "source": [
    "### Define function to calculate SSR\n",
    "def res(theta,data,Pexp):\n",
    "    '''\n",
    "    Arguments:\n",
    "    theta - list of BIPs\n",
    "    data - data needed to run the model\n",
    "    Pexp - list of experimental pressure data\n",
    "    \n",
    "    Returns:\n",
    "    residual between model and exp (note, this will be large because of units of P)\n",
    "    '''\n",
    "    \n",
    "    #Calculate model P\n",
    "    Pmod = calcPmod(theta,data)\n",
    "    \n",
    "    return Pexp - Pmod"
   ]
  },
  {
   "cell_type": "code",
   "execution_count": null,
   "id": "similar-september",
   "metadata": {},
   "outputs": [],
   "source": [
    "theta_guess = [parameters['fs.properties.PR_kappa_A[R32,emimTf2N]'],parameters['fs.properties.PR_kappa_A[emimTf2N,R32]'],parameters['fs.properties.PR_kappa_B[R32,emimTf2N]'],parameters['fs.properties.PR_kappa_B[emimTf2N,R32]'],parameters['fs.properties.PR_kappa_C[R32,emimTf2N]'],parameters['fs.properties.PR_kappa_C[emimTf2N,R32]']]\n",
    "Pexp = data_subset['pressure'].values.tolist()\n",
    "n = 8\n",
    "bnds = ([-20,-20,-20,-20,-20,-20],[20,20,20,20,20,20])"
   ]
  },
  {
   "cell_type": "code",
   "execution_count": null,
   "id": "dirty-treaty",
   "metadata": {},
   "outputs": [],
   "source": [
    "### solve\n",
    "sol = scipy.optimize.least_squares(res, theta_guess, method='trf', args=(data_subset,Pexp),bounds=bnds)"
   ]
  },
  {
   "cell_type": "code",
   "execution_count": null,
   "id": "resistant-anniversary",
   "metadata": {},
   "outputs": [],
   "source": [
    "theta_hat = sol.x\n",
    "theta_hat"
   ]
  },
  {
   "cell_type": "code",
   "execution_count": null,
   "id": "optimum-romantic",
   "metadata": {},
   "outputs": [],
   "source": [
    "def SSR(theta,data,Pexp):\n",
    "    '''\n",
    "    Arguments:\n",
    "    theta - list of BIPs\n",
    "    data - data needed to run the model\n",
    "    Pexp - list of experimental pressure data\n",
    "    \n",
    "    Returns:\n",
    "    SSR - sum of residuals squared\n",
    "    '''\n",
    "    \n",
    "    #Calculate model P\n",
    "    Pmod = calcPmod(theta,data)\n",
    "    \n",
    "    #Calculate residual squared\n",
    "    res = (Pexp - Pmod)**2\n",
    "    \n",
    "    #Sum residuals squared\n",
    "    SSR = np.sum(res)\n",
    "      \n",
    "    return SSR"
   ]
  },
  {
   "cell_type": "code",
   "execution_count": null,
   "id": "speaking-solution",
   "metadata": {},
   "outputs": [],
   "source": [
    "SSR = SSR(theta_hat,data_subset,Pexp)\n",
    "SSR"
   ]
  },
  {
   "cell_type": "code",
   "execution_count": null,
   "id": "marine-kinase",
   "metadata": {},
   "outputs": [],
   "source": [
    "sigma_sq = SSR/n\n",
    "sigma_sq"
   ]
  },
  {
   "cell_type": "code",
   "execution_count": null,
   "id": "latin-direction",
   "metadata": {},
   "outputs": [],
   "source": [
    "L = -n/2*np.log(2*np.pi) - n/2*np.log(sigma_sq) - 1/(2*sigma_sq)*SSR\n",
    "L"
   ]
  },
  {
   "cell_type": "code",
   "execution_count": null,
   "id": "cross-lloyd",
   "metadata": {},
   "outputs": [],
   "source": [
    "AIC = 2*n - 2*L\n",
    "AIC"
   ]
  },
  {
   "cell_type": "markdown",
   "id": "pressed-spray",
   "metadata": {},
   "source": [
    "Other AIC - using SSR calculated in above parameter fitting"
   ]
  },
  {
   "cell_type": "code",
   "execution_count": null,
   "id": "2be37c80",
   "metadata": {},
   "outputs": [],
   "source": [
    "n=8"
   ]
  },
  {
   "cell_type": "code",
   "execution_count": null,
   "id": "specified-croatia",
   "metadata": {},
   "outputs": [],
   "source": [
    "SSR_other = obj_value*1E-3"
   ]
  },
  {
   "cell_type": "code",
   "execution_count": null,
   "id": "cf6b52cd",
   "metadata": {},
   "outputs": [],
   "source": [
    "SSR_other"
   ]
  },
  {
   "cell_type": "code",
   "execution_count": null,
   "id": "positive-chrome",
   "metadata": {},
   "outputs": [],
   "source": [
    "sigma_sq_other = SSR_other/n\n",
    "sigma_sq_other"
   ]
  },
  {
   "cell_type": "code",
   "execution_count": null,
   "id": "raising-cruise",
   "metadata": {},
   "outputs": [],
   "source": [
    "L_other = -n/2*np.log(2*np.pi) - n/2*np.log(sigma_sq_other) - 1/(2*sigma_sq_other)*SSR_other\n",
    "L_other"
   ]
  },
  {
   "cell_type": "code",
   "execution_count": null,
   "id": "solar-thermal",
   "metadata": {},
   "outputs": [],
   "source": [
    "AIC_other = 2*n - 2*L_other\n",
    "AIC_other"
   ]
  },
  {
   "cell_type": "code",
   "execution_count": null,
   "id": "geological-pattern",
   "metadata": {},
   "outputs": [],
   "source": [
    "AIC_data = pd.DataFrame(data=[n,obj_value*1E-2,AIC_other])\n",
    "AIC_data = AIC_data.T\n",
    "AIC_data.columns = ['n','Objective, Pa^2','AIC']\n",
    "AIC_data.to_csv('Data/AIC/SRK_AIC_8parameter.csv')"
   ]
  },
  {
   "cell_type": "code",
   "execution_count": null,
   "id": "27a2815c",
   "metadata": {},
   "outputs": [],
   "source": []
  }
 ],
 "metadata": {
  "kernelspec": {
   "display_name": "Python 3 (ipykernel)",
   "language": "python",
   "name": "python3"
  },
  "language_info": {
   "codemirror_mode": {
    "name": "ipython",
    "version": 3
   },
   "file_extension": ".py",
   "mimetype": "text/x-python",
   "name": "python",
   "nbconvert_exporter": "python",
   "pygments_lexer": "ipython3",
   "version": "3.9.9"
  }
 },
 "nbformat": 4,
 "nbformat_minor": 5
}
