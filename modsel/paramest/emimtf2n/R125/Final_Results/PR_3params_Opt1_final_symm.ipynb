{
 "cells": [
  {
   "cell_type": "markdown",
   "id": "enclosed-court",
   "metadata": {},
   "source": [
    "# Fit emimTF2N data\n",
    "\n",
    "EoS: PR\n",
    "\n",
    "Parameter T dependence: Linear in [R125, emimTF2N] direction\n",
    "\n",
    "N (total fitting parameters): 3"
   ]
  },
  {
   "cell_type": "markdown",
   "id": "intermediate-synthetic",
   "metadata": {},
   "source": [
    "## Import Functions"
   ]
  },
  {
   "cell_type": "code",
   "execution_count": 1,
   "id": "respiratory-miniature",
   "metadata": {},
   "outputs": [],
   "source": [
    "import idaes\n",
    "\n",
    "import pandas as pd\n",
    "import numpy as np\n",
    "import matplotlib.pyplot as plt\n",
    "import scipy.optimize\n",
    "\n",
    "import sys\n",
    "sys.path.append('../../../')\n",
    "\n",
    "from pyomo.environ import (Constraint,\n",
    "                           Var,\n",
    "                           ConcreteModel,\n",
    "                           Expression,\n",
    "                           Param,\n",
    "                           Objective,\n",
    "                           SolverFactory,\n",
    "                           TransformationFactory,\n",
    "                           value)\n",
    "from pyomo.opt import TerminationCondition, SolverStatus\n",
    "\n",
    "from idaes.core import FlowsheetBlock\n",
    "import idaes.logger as idaeslog\n",
    "# Import the Generic Parameter Block\n",
    "from idaes.generic_models.properties.core.generic.generic_property import (\n",
    "        GenericParameterBlock)\n",
    "# Import unit models from the model library\n",
    "from idaes.generic_models.unit_models import Flash\n",
    "# Import degrees of freedom tool\n",
    "from idaes.core.util.model_statistics import degrees_of_freedom\n",
    "\n",
    "# parmest (binary_param2)\n",
    "from bip_fitting_functions import linear\n",
    "\n",
    "import scipy.stats as stats\n",
    "\n",
    "from matplotlib.patches import Ellipse\n",
    "import matplotlib.transforms as transforms\n",
    "import matplotlib.patches as mpatches"
   ]
  },
  {
   "cell_type": "markdown",
   "id": "vietnamese-strength",
   "metadata": {},
   "source": [
    "## Load Data"
   ]
  },
  {
   "cell_type": "code",
   "execution_count": 2,
   "id": "regulation-drawing",
   "metadata": {},
   "outputs": [],
   "source": [
    "data_subset = pd.read_csv('../r125_emimtf2n_subset.csv')"
   ]
  },
  {
   "cell_type": "markdown",
   "id": "painful-numbers",
   "metadata": {},
   "source": [
    "## Load Configuration + Load Original Parameters"
   ]
  },
  {
   "cell_type": "code",
   "execution_count": 3,
   "id": "f23f37be",
   "metadata": {},
   "outputs": [],
   "source": [
    "params = pd.read_csv('Data/Fits/PR_params_3params_Opt1.csv',header=None)"
   ]
  },
  {
   "cell_type": "code",
   "execution_count": 4,
   "id": "2f0a6790",
   "metadata": {},
   "outputs": [
    {
     "data": {
      "text/html": [
       "<div>\n",
       "<style scoped>\n",
       "    .dataframe tbody tr th:only-of-type {\n",
       "        vertical-align: middle;\n",
       "    }\n",
       "\n",
       "    .dataframe tbody tr th {\n",
       "        vertical-align: top;\n",
       "    }\n",
       "\n",
       "    .dataframe thead th {\n",
       "        text-align: right;\n",
       "    }\n",
       "</style>\n",
       "<table border=\"1\" class=\"dataframe\">\n",
       "  <thead>\n",
       "    <tr style=\"text-align: right;\">\n",
       "      <th></th>\n",
       "      <th>0</th>\n",
       "    </tr>\n",
       "  </thead>\n",
       "  <tbody>\n",
       "    <tr>\n",
       "      <th>0</th>\n",
       "      <td>-0.051249</td>\n",
       "    </tr>\n",
       "    <tr>\n",
       "      <th>1</th>\n",
       "      <td>-0.062227</td>\n",
       "    </tr>\n",
       "    <tr>\n",
       "      <th>2</th>\n",
       "      <td>0.031433</td>\n",
       "    </tr>\n",
       "    <tr>\n",
       "      <th>3</th>\n",
       "      <td>0.000000</td>\n",
       "    </tr>\n",
       "    <tr>\n",
       "      <th>4</th>\n",
       "      <td>0.000000</td>\n",
       "    </tr>\n",
       "    <tr>\n",
       "      <th>5</th>\n",
       "      <td>0.000000</td>\n",
       "    </tr>\n",
       "    <tr>\n",
       "      <th>6</th>\n",
       "      <td>0.000000</td>\n",
       "    </tr>\n",
       "    <tr>\n",
       "      <th>7</th>\n",
       "      <td>0.000000</td>\n",
       "    </tr>\n",
       "  </tbody>\n",
       "</table>\n",
       "</div>"
      ],
      "text/plain": [
       "          0\n",
       "0 -0.051249\n",
       "1 -0.062227\n",
       "2  0.031433\n",
       "3  0.000000\n",
       "4  0.000000\n",
       "5  0.000000\n",
       "6  0.000000\n",
       "7  0.000000"
      ]
     },
     "execution_count": 4,
     "metadata": {},
     "output_type": "execute_result"
    }
   ],
   "source": [
    "params"
   ]
  },
  {
   "cell_type": "code",
   "execution_count": 5,
   "id": "bdb1325b",
   "metadata": {},
   "outputs": [],
   "source": [
    "# Take average of A, B (ij vs. ji) params, save\n",
    "paramA_symm = (params.iloc[0] + params.iloc[1])/2\n",
    "paramB_symm = (params.iloc[2] + params.iloc[3])/2"
   ]
  },
  {
   "cell_type": "code",
   "execution_count": 6,
   "id": "valid-clearing",
   "metadata": {},
   "outputs": [],
   "source": [
    "from hfc125_emimtf2n_PR import configuration "
   ]
  },
  {
   "cell_type": "code",
   "execution_count": 7,
   "id": "processed-onion",
   "metadata": {},
   "outputs": [
    {
     "name": "stdout",
     "output_type": "stream",
     "text": [
      "The initial DOF is 7\n"
     ]
    }
   ],
   "source": [
    "m = ConcreteModel()\n",
    "m.fs = FlowsheetBlock(default={\"dynamic\": False})\n",
    "m.fs.properties = GenericParameterBlock(default=configuration)\n",
    "m.fs.F101 = Flash(default={\"property_package\": m.fs.properties,\n",
    "                           \"has_heat_transfer\": True,\n",
    "                           \"has_pressure_change\": True})\n",
    "DOF_initial = degrees_of_freedom(m)\n",
    "print('The initial DOF is {0}'.format(DOF_initial))"
   ]
  },
  {
   "cell_type": "markdown",
   "id": "verified-image",
   "metadata": {},
   "source": [
    "## Apply Parameters + Plot"
   ]
  },
  {
   "cell_type": "code",
   "execution_count": 8,
   "id": "arranged-sentence",
   "metadata": {},
   "outputs": [],
   "source": [
    "solver = SolverFactory('ipopt')\n",
    "solver.options = {'tol': 1e-6}"
   ]
  },
  {
   "cell_type": "markdown",
   "id": "b24a6124",
   "metadata": {},
   "source": [
    "### Original Parameters"
   ]
  },
  {
   "cell_type": "code",
   "execution_count": 9,
   "id": "05787915",
   "metadata": {},
   "outputs": [
    {
     "name": "stdout",
     "output_type": "stream",
     "text": [
      "i: 0\n",
      "Try x_IL: 0.915\n",
      "Feasible/Optimal Solution\n",
      "i: 1\n",
      "Try x_IL: 0.832\n",
      "Feasible/Optimal Solution\n",
      "i: 2\n",
      "Try x_IL: 0.75\n",
      "Feasible/Optimal Solution\n",
      "i: 3\n",
      "Try x_IL: 0.669\n",
      "Feasible/Optimal Solution\n",
      "i: 4\n",
      "Try x_IL: 0.587\n",
      "Feasible/Optimal Solution\n",
      "i: 5\n",
      "Try x_IL: 0.504\n",
      "Feasible/Optimal Solution\n",
      "i: 6\n",
      "Try x_IL: 0.417\n",
      "Feasible/Optimal Solution\n",
      "i: 7\n",
      "Try x_IL: 0.319\n",
      "Feasible/Optimal Solution\n",
      "i: 8\n",
      "Try x_IL: 0.945\n",
      "Feasible/Optimal Solution\n",
      "i: 9\n",
      "Try x_IL: 0.891\n",
      "Feasible/Optimal Solution\n",
      "i: 10\n",
      "Try x_IL: 0.839\n",
      "Feasible/Optimal Solution\n",
      "i: 11\n",
      "Try x_IL: 0.787\n",
      "Feasible/Optimal Solution\n",
      "i: 12\n",
      "Try x_IL: 0.733\n",
      "Feasible/Optimal Solution\n",
      "i: 13\n",
      "Try x_IL: 0.683\n",
      "Feasible/Optimal Solution\n",
      "i: 14\n",
      "Try x_IL: 0.578\n",
      "Feasible/Optimal Solution\n",
      "i: 15\n",
      "Try x_IL: 0.479\n",
      "Feasible/Optimal Solution\n",
      "i: 16\n",
      "Try x_IL: 0.97\n",
      "Feasible/Optimal Solution\n",
      "i: 17\n",
      "Try x_IL: 0.941\n",
      "Feasible/Optimal Solution\n",
      "i: 18\n",
      "Try x_IL: 0.912\n",
      "Feasible/Optimal Solution\n",
      "i: 19\n",
      "Try x_IL: 0.883\n",
      "Feasible/Optimal Solution\n",
      "i: 20\n",
      "Try x_IL: 0.848\n",
      "Feasible/Optimal Solution\n",
      "i: 21\n",
      "Try x_IL: 0.824\n",
      "Feasible/Optimal Solution\n",
      "i: 22\n",
      "Try x_IL: 0.772\n",
      "Feasible/Optimal Solution\n",
      "i: 23\n",
      "Try x_IL: 0.715\n",
      "Feasible/Optimal Solution\n",
      "i: 24\n",
      "Try x_IL: 0.982\n",
      "Feasible/Optimal Solution\n",
      "i: 25\n",
      "Try x_IL: 0.966\n",
      "Feasible/Optimal Solution\n",
      "i: 26\n",
      "Try x_IL: 0.95\n",
      "Feasible/Optimal Solution\n",
      "i: 27\n",
      "Try x_IL: 0.926\n",
      "Feasible/Optimal Solution\n",
      "i: 28\n",
      "Try x_IL: 0.903\n",
      "Feasible/Optimal Solution\n",
      "i: 29\n",
      "Try x_IL: 0.895\n",
      "Feasible/Optimal Solution\n",
      "i: 30\n",
      "Try x_IL: 0.86\n",
      "Feasible/Optimal Solution\n",
      "i: 31\n",
      "Try x_IL: 0.829\n",
      "Feasible/Optimal Solution\n"
     ]
    }
   ],
   "source": [
    "m = ConcreteModel()\n",
    "\n",
    "m.fs = FlowsheetBlock(default={\"dynamic\": False})\n",
    "\n",
    "m.fs.properties = GenericParameterBlock(default=configuration)\n",
    "\n",
    "m.fs.F101 = Flash(default={\"property_package\": m.fs.properties,\n",
    "                           \"has_heat_transfer\": True,\n",
    "                           \"has_pressure_change\": True})\n",
    "\n",
    "m.fs.F101.inlet.flow_mol.fix(1)\n",
    "m.fs.F101.inlet.temperature.fix(323.15)\n",
    "m.fs.F101.inlet.pressure.fix(399800)\n",
    "m.fs.F101.inlet.mole_frac_comp[0,'R125'].fix(0.5)\n",
    "\n",
    "m.fs.properties.PR_kappa_A['R125','emimTf2N'] = params.iloc[0,0]\n",
    "m.fs.properties.PR_kappa_A['emimTf2N','R125'] = params.iloc[1,0]\n",
    "m.fs.properties.PR_kappa_B['R125','emimTf2N'] = params.iloc[2,0]\n",
    "# m.fs.properties.PR_kappa_B['emimTf2N','R32'] = parameters['fs.properties.PR_kappa_B[emimTf2N,R32]']\n",
    "\n",
    "# Initialize the flash unit\n",
    "m.fs.F101.initialize(outlvl=idaeslog.CRITICAL)\n",
    "\n",
    "# Fix the state variables on the state block\n",
    "# m.fs.F101.inlet.pressure.unfix()\n",
    "m.fs.F101.inlet.mole_frac_comp[0,'emimTf2N'].unfix()\n",
    "\n",
    "#change to extended for actual model fit\n",
    "R125_x = np.zeros((len(data_subset)))\n",
    "P = np.zeros((len(data_subset)))\n",
    "T = np.zeros((len(data_subset)))\n",
    "\n",
    "m.fs.liq = Param(mutable=True,default=0.040)\n",
    "m.fs.liquid = Constraint(expr=m.fs.F101.liq_outlet.mole_frac_comp[0, \"emimTf2N\"] == m.fs.liq)\n",
    "\n",
    "for i in range(len(data_subset)):\n",
    "    print('i:',i)\n",
    "    print('Try x_IL:',data_subset[\"x_emimTf2N\"].iloc[i])\n",
    "    m.fs.liq = data_subset[\"x_emimTf2N\"].iloc[i]\n",
    "    m.fs.F101.inlet.temperature.fix(float(data_subset[\"temperature\"].iloc[i]))\n",
    "    m.fs.F101.inlet.pressure.fix(float(data_subset[\"pressure\"].iloc[i]))\n",
    "    m.fs.F101.inlet.mole_frac_comp[0,'R125'].fix(float(data_subset[\"x_R125\"].iloc[i])+0.1)\n",
    "    m.fs.F101.inlet.mole_frac_comp[0,'emimTf2N'].fix(float(1-(data_subset[\"x_R125\"].iloc[i]+0.1)))\n",
    "    m.fs.F101.vap_outlet.temperature.fix(float(data_subset[\"temperature\"].iloc[i]))\n",
    "    \n",
    "    try:\n",
    "        m.fs.F101.initialize(outlvl=idaeslog.CRITICAL)\n",
    "        \n",
    "    except:\n",
    "        print('Initialization Error')\n",
    "        \n",
    "    try:\n",
    "\n",
    "        status = solver.solve(m, tee = False)\n",
    "        \n",
    "        if (status.solver.status == SolverStatus.ok) and (status.solver.termination_condition == TerminationCondition.optimal):\n",
    "            print('Feasible/Optimal Solution')\n",
    "            R125_x[i] = value(m.fs.F101.liq_outlet.mole_frac_comp[0,'R125']) \n",
    "            P[i] = value(m.fs.F101.vap_outlet.pressure[0])\n",
    "            T[i] = data_subset[\"temperature\"].iloc[i]\n",
    "        else:\n",
    "            print('Infeasible Solution')\n",
    "            R125_x[i] = np.nan\n",
    "            P[i] = np.nan\n",
    "            T[i] = data_subset[\"temperature\"].iloc[i]\n",
    "            \n",
    "    except ValueError:\n",
    "        R125_x[i] = np.nan\n",
    "        P[i] = np.nan\n",
    "        T[i] = data_subset[\"temperature\"].iloc[i]\n",
    "        print('Solver Error')"
   ]
  },
  {
   "cell_type": "code",
   "execution_count": 10,
   "id": "229c375c",
   "metadata": {},
   "outputs": [],
   "source": [
    "fitted_data = pd.DataFrame(data=[R125_x,P/1e6,T])\n",
    "fitted_data = fitted_data.T\n",
    "fitted_data.columns = ['R125_x','P, MPa','T, K']"
   ]
  },
  {
   "cell_type": "code",
   "execution_count": 11,
   "id": "1808f662",
   "metadata": {},
   "outputs": [],
   "source": [
    "error = (fitted_data['P, MPa']*1E6 - data_subset['pressure'])\n",
    "error_squared = error**2\n",
    "SSE = np.sum(error_squared)\n",
    "# For scaling (per original setup)\n",
    "SSE_sc = SSE*1E-9"
   ]
  },
  {
   "cell_type": "code",
   "execution_count": 12,
   "id": "1460a57c",
   "metadata": {},
   "outputs": [
    {
     "data": {
      "text/plain": [
       "3.7636144754494913"
      ]
     },
     "execution_count": 12,
     "metadata": {},
     "output_type": "execute_result"
    }
   ],
   "source": [
    "SSE_sc"
   ]
  },
  {
   "cell_type": "code",
   "execution_count": 27,
   "id": "d3c32d47",
   "metadata": {},
   "outputs": [
    {
     "data": {
      "text/plain": [
       "3763614475.449491"
      ]
     },
     "execution_count": 27,
     "metadata": {},
     "output_type": "execute_result"
    }
   ],
   "source": [
    "SSE"
   ]
  },
  {
   "cell_type": "markdown",
   "id": "f4f32fbc",
   "metadata": {},
   "source": [
    "### Symmetric Parameters"
   ]
  },
  {
   "cell_type": "code",
   "execution_count": 13,
   "id": "third-electronics",
   "metadata": {},
   "outputs": [
    {
     "name": "stdout",
     "output_type": "stream",
     "text": [
      "i: 0\n",
      "Try x_IL: 0.915\n",
      "Feasible/Optimal Solution\n",
      "i: 1\n",
      "Try x_IL: 0.832\n",
      "Feasible/Optimal Solution\n",
      "i: 2\n",
      "Try x_IL: 0.75\n",
      "Feasible/Optimal Solution\n",
      "i: 3\n",
      "Try x_IL: 0.669\n",
      "Feasible/Optimal Solution\n",
      "i: 4\n",
      "Try x_IL: 0.587\n",
      "Feasible/Optimal Solution\n",
      "i: 5\n",
      "Try x_IL: 0.504\n",
      "Feasible/Optimal Solution\n",
      "i: 6\n",
      "Try x_IL: 0.417\n",
      "Feasible/Optimal Solution\n",
      "i: 7\n",
      "Try x_IL: 0.319\n",
      "Feasible/Optimal Solution\n",
      "i: 8\n",
      "Try x_IL: 0.945\n",
      "Feasible/Optimal Solution\n",
      "i: 9\n",
      "Try x_IL: 0.891\n",
      "Feasible/Optimal Solution\n",
      "i: 10\n",
      "Try x_IL: 0.839\n",
      "Feasible/Optimal Solution\n",
      "i: 11\n",
      "Try x_IL: 0.787\n",
      "Feasible/Optimal Solution\n",
      "i: 12\n",
      "Try x_IL: 0.733\n",
      "Feasible/Optimal Solution\n",
      "i: 13\n",
      "Try x_IL: 0.683\n",
      "Feasible/Optimal Solution\n",
      "i: 14\n",
      "Try x_IL: 0.578\n",
      "Feasible/Optimal Solution\n",
      "i: 15\n",
      "Try x_IL: 0.479\n",
      "Feasible/Optimal Solution\n",
      "i: 16\n",
      "Try x_IL: 0.97\n",
      "Feasible/Optimal Solution\n",
      "i: 17\n",
      "Try x_IL: 0.941\n",
      "Feasible/Optimal Solution\n",
      "i: 18\n",
      "Try x_IL: 0.912\n",
      "Feasible/Optimal Solution\n",
      "i: 19\n",
      "Try x_IL: 0.883\n",
      "Feasible/Optimal Solution\n",
      "i: 20\n",
      "Try x_IL: 0.848\n",
      "Feasible/Optimal Solution\n",
      "i: 21\n",
      "Try x_IL: 0.824\n",
      "Feasible/Optimal Solution\n",
      "i: 22\n",
      "Try x_IL: 0.772\n",
      "Feasible/Optimal Solution\n",
      "i: 23\n",
      "Try x_IL: 0.715\n",
      "Feasible/Optimal Solution\n",
      "i: 24\n",
      "Try x_IL: 0.982\n",
      "Feasible/Optimal Solution\n",
      "i: 25\n",
      "Try x_IL: 0.966\n",
      "Feasible/Optimal Solution\n",
      "i: 26\n",
      "Try x_IL: 0.95\n",
      "Feasible/Optimal Solution\n",
      "i: 27\n",
      "Try x_IL: 0.926\n",
      "Feasible/Optimal Solution\n",
      "i: 28\n",
      "Try x_IL: 0.903\n",
      "Feasible/Optimal Solution\n",
      "i: 29\n",
      "Try x_IL: 0.895\n",
      "Feasible/Optimal Solution\n",
      "i: 30\n",
      "Try x_IL: 0.86\n",
      "Feasible/Optimal Solution\n",
      "i: 31\n",
      "Try x_IL: 0.829\n",
      "Feasible/Optimal Solution\n"
     ]
    }
   ],
   "source": [
    "m = ConcreteModel()\n",
    "\n",
    "m.fs = FlowsheetBlock(default={\"dynamic\": False})\n",
    "\n",
    "m.fs.properties = GenericParameterBlock(default=configuration)\n",
    "\n",
    "m.fs.F101 = Flash(default={\"property_package\": m.fs.properties,\n",
    "                           \"has_heat_transfer\": True,\n",
    "                           \"has_pressure_change\": True})\n",
    "\n",
    "m.fs.F101.inlet.flow_mol.fix(1)\n",
    "m.fs.F101.inlet.temperature.fix(323.15)\n",
    "m.fs.F101.inlet.pressure.fix(399800)\n",
    "m.fs.F101.inlet.mole_frac_comp[0,'R125'].fix(0.5)\n",
    "\n",
    "m.fs.properties.PR_kappa_A['R125','emimTf2N'] = paramA_symm[0]\n",
    "m.fs.properties.PR_kappa_A['emimTf2N','R125'] = paramA_symm[0]\n",
    "m.fs.properties.PR_kappa_B['R125','emimTf2N'] = paramB_symm[0]\n",
    "# m.fs.properties.PR_kappa_B['emimTf2N','R32'] = parameters['fs.properties.PR_kappa_B[emimTf2N,R32]']\n",
    "\n",
    "# Initialize the flash unit\n",
    "m.fs.F101.initialize(outlvl=idaeslog.CRITICAL)\n",
    "\n",
    "# Fix the state variables on the state block\n",
    "# m.fs.F101.inlet.pressure.unfix()\n",
    "m.fs.F101.inlet.mole_frac_comp[0,'emimTf2N'].unfix()\n",
    "\n",
    "#change to extended for actual model fit\n",
    "R125_x = np.zeros((len(data_subset)))\n",
    "P = np.zeros((len(data_subset)))\n",
    "T = np.zeros((len(data_subset)))\n",
    "\n",
    "m.fs.liq = Param(mutable=True,default=0.040)\n",
    "m.fs.liquid = Constraint(expr=m.fs.F101.liq_outlet.mole_frac_comp[0, \"emimTf2N\"] == m.fs.liq)\n",
    "\n",
    "for i in range(len(data_subset)):\n",
    "    print('i:',i)\n",
    "    print('Try x_IL:',data_subset[\"x_emimTf2N\"].iloc[i])\n",
    "    m.fs.liq = data_subset[\"x_emimTf2N\"].iloc[i]\n",
    "    m.fs.F101.inlet.temperature.fix(float(data_subset[\"temperature\"].iloc[i]))\n",
    "    m.fs.F101.inlet.pressure.fix(float(data_subset[\"pressure\"].iloc[i]))\n",
    "    m.fs.F101.inlet.mole_frac_comp[0,'R125'].fix(float(data_subset[\"x_R125\"].iloc[i])+0.1)\n",
    "    m.fs.F101.inlet.mole_frac_comp[0,'emimTf2N'].fix(float(1-(data_subset[\"x_R125\"].iloc[i]+0.1)))\n",
    "    m.fs.F101.vap_outlet.temperature.fix(float(data_subset[\"temperature\"].iloc[i]))\n",
    "    \n",
    "    try:\n",
    "        m.fs.F101.initialize(outlvl=idaeslog.CRITICAL)\n",
    "        \n",
    "    except:\n",
    "        print('Initialization Error')\n",
    "        \n",
    "    try:\n",
    "\n",
    "        status = solver.solve(m, tee = False)\n",
    "        \n",
    "        if (status.solver.status == SolverStatus.ok) and (status.solver.termination_condition == TerminationCondition.optimal):\n",
    "            print('Feasible/Optimal Solution')\n",
    "            R125_x[i] = value(m.fs.F101.liq_outlet.mole_frac_comp[0,'R125']) \n",
    "            P[i] = value(m.fs.F101.vap_outlet.pressure[0])\n",
    "            T[i] = data_subset[\"temperature\"].iloc[i]\n",
    "        else:\n",
    "            print('Infeasible Solution')\n",
    "            R125_x[i] = np.nan\n",
    "            P[i] = np.nan\n",
    "            T[i] = data_subset[\"temperature\"].iloc[i]\n",
    "            \n",
    "    except ValueError:\n",
    "        R125_x[i] = np.nan\n",
    "        P[i] = np.nan\n",
    "        T[i] = data_subset[\"temperature\"].iloc[i]\n",
    "        print('Solver Error')"
   ]
  },
  {
   "cell_type": "code",
   "execution_count": 14,
   "id": "c41a19c0",
   "metadata": {},
   "outputs": [],
   "source": [
    "fitted_data_symm = pd.DataFrame(data=[R125_x,P/1e6,T])\n",
    "fitted_data_symm = fitted_data_symm.T\n",
    "fitted_data_symm.columns = ['R125_x','P, MPa','T, K']"
   ]
  },
  {
   "cell_type": "code",
   "execution_count": 15,
   "id": "9e338397",
   "metadata": {},
   "outputs": [],
   "source": [
    "error_symm = (fitted_data_symm['P, MPa']*1E6 - data_subset['pressure'])\n",
    "error_squared_symm = error_symm**2\n",
    "SSE_symm = np.sum(error_squared_symm)\n",
    "# For scaling (per original setup)\n",
    "SSE_sc_symm = SSE_symm*1E-9"
   ]
  },
  {
   "cell_type": "code",
   "execution_count": 28,
   "id": "db615555",
   "metadata": {},
   "outputs": [
    {
     "data": {
      "text/plain": [
       "522721050444469.56"
      ]
     },
     "execution_count": 28,
     "metadata": {},
     "output_type": "execute_result"
    }
   ],
   "source": [
    "SSE_symm"
   ]
  },
  {
   "cell_type": "code",
   "execution_count": 16,
   "id": "dbffe5da",
   "metadata": {},
   "outputs": [
    {
     "data": {
      "text/plain": [
       "522721.0504444696"
      ]
     },
     "execution_count": 16,
     "metadata": {},
     "output_type": "execute_result"
    }
   ],
   "source": [
    "SSE_sc_symm"
   ]
  },
  {
   "cell_type": "markdown",
   "id": "21c20a5c",
   "metadata": {},
   "source": [
    "### Plot"
   ]
  },
  {
   "cell_type": "code",
   "execution_count": 26,
   "id": "561c8d54",
   "metadata": {},
   "outputs": [
    {
     "data": {
      "text/plain": [
       "<matplotlib.legend.Legend at 0x123a0f940>"
      ]
     },
     "execution_count": 26,
     "metadata": {},
     "output_type": "execute_result"
    },
    {
     "data": {
      "image/png": "[encoded data removed]",
      "text/plain": [
       "<Figure size 432x288 with 1 Axes>"
      ]
     },
     "metadata": {
      "needs_background": "light"
     },
     "output_type": "display_data"
    }
   ],
   "source": [
    "fig, ax = plt.subplots()\n",
    "\n",
    "ax.plot([0.0,1.2],[0.0,1.2],color='black')\n",
    "\n",
    "ax.scatter(data_subset['pressure']/1e6,fitted_data['P, MPa'],color='blue',label='Results with Original Parameters')\n",
    "ax.scatter(data_subset['pressure']/1e6,fitted_data_symm['P, MPa'],color='red',label='Results with Symmetric Parameters')\n",
    "\n",
    "ax.set_ylim(0,1.2)\n",
    "\n",
    "ax.set_xticks([0.0, 0.2, 0.4, 0.6, 0.8, 1.0, 1.2])\n",
    "ax.set_xticks([0.1, 0.3, 0.5, 0.7, 0.9, 1.1],minor=True)\n",
    "ax.set_yticks([0.0, 0.2, 0.4, 0.6, 0.8, 1.0, 1.2])\n",
    "ax.set_yticks([0.1, 0.3, 0.5, 0.7, 0.9, 1.1],minor=True)\n",
    "\n",
    "ax.tick_params(\"both\", direction=\"in\", which=\"both\", length=4, labelsize=20, pad=10)\n",
    "ax.tick_params(\"both\", which=\"major\", length=8)\n",
    "ax.xaxis.set_ticks_position(\"both\")\n",
    "ax.yaxis.set_ticks_position(\"both\")\n",
    "\n",
    "ax.set_xlabel('Experimental Pressure, MPa',fontsize=24)\n",
    "ax.set_ylabel('Model Pressure, MPa',fontsize=24)\n",
    "ax.legend(fontsize=12, handletextpad=0.00, loc=\"lower right\")\n",
    "# fig.savefig('125-emim-parity_results_symmetry_highPincl.png',bbox_inches='tight')"
   ]
  },
  {
   "cell_type": "code",
   "execution_count": null,
   "id": "8be370ca",
   "metadata": {},
   "outputs": [],
   "source": []
  }
 ],
 "metadata": {
  "kernelspec": {
   "display_name": "Python 3 (ipykernel)",
   "language": "python",
   "name": "python3"
  },
  "language_info": {
   "codemirror_mode": {
    "name": "ipython",
    "version": 3
   },
   "file_extension": ".py",
   "mimetype": "text/x-python",
   "name": "python",
   "nbconvert_exporter": "python",
   "pygments_lexer": "ipython3",
   "version": "3.9.9"
  }
 },
 "nbformat": 4,
 "nbformat_minor": 5
}
