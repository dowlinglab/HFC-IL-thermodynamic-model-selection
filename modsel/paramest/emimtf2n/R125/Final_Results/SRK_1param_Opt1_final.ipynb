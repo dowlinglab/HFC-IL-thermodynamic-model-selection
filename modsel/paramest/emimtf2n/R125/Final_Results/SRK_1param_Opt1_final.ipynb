{
 "cells": [
  {
   "cell_type": "markdown",
   "id": "voluntary-ridge",
   "metadata": {},
   "source": [
    "# Fit emimTF2N data\n",
    "\n",
    "EoS: SRK\n",
    "\n",
    "Parameter T dependence: Constant, 1 parameter - R125,emimTF2N pair\n",
    "\n",
    "N (total fitting parameters): 1"
   ]
  },
  {
   "cell_type": "markdown",
   "id": "improved-meeting",
   "metadata": {},
   "source": [
    "## Import Functions"
   ]
  },
  {
   "cell_type": "code",
   "execution_count": 1,
   "id": "contained-performance",
   "metadata": {},
   "outputs": [],
   "source": [
    "import idaes\n",
    "\n",
    "import pandas as pd\n",
    "import numpy as np\n",
    "import matplotlib.pyplot as plt\n",
    "import scipy.optimize\n",
    "\n",
    "import sys\n",
    "sys.path.append('../../../')\n",
    "\n",
    "from pyomo.environ import (Constraint,\n",
    "                           Var,\n",
    "                           ConcreteModel,\n",
    "                           Expression,\n",
    "                           Param,\n",
    "                           Objective,\n",
    "                           SolverFactory,\n",
    "                           TransformationFactory,\n",
    "                           value)\n",
    "from pyomo.opt import TerminationCondition, SolverStatus\n",
    "\n",
    "from idaes.core import FlowsheetBlock\n",
    "import idaes.logger as idaeslog\n",
    "# Import the Generic Parameter Block\n",
    "from idaes.generic_models.properties.core.generic.generic_property import (\n",
    "        GenericParameterBlock)\n",
    "# Import unit models from the model library\n",
    "from idaes.generic_models.unit_models import Flash\n",
    "# Import degrees of freedom tool\n",
    "from idaes.core.util.model_statistics import degrees_of_freedom\n",
    "\n",
    "# parmest (binary_param2)\n",
    "from bip_fitting_functions_SRK import constant\n",
    "\n",
    "import scipy.stats as stats"
   ]
  },
  {
   "cell_type": "markdown",
   "id": "judicial-calculator",
   "metadata": {},
   "source": [
    "## Load Data"
   ]
  },
  {
   "cell_type": "code",
   "execution_count": 2,
   "id": "technological-freeze",
   "metadata": {},
   "outputs": [],
   "source": [
    "data_full = pd.read_csv('../r125_emimtf2n_full.csv')\n",
    "data_subset = pd.read_csv('../r125_emimtf2n_subset.csv')\n",
    "data_extended = pd.read_csv('../r125-emimtf2n-extended.csv')"
   ]
  },
  {
   "cell_type": "markdown",
   "id": "swiss-sphere",
   "metadata": {},
   "source": [
    "## Load Configuration + Check DOF + Load Parameters"
   ]
  },
  {
   "cell_type": "code",
   "execution_count": 3,
   "id": "1a62f881",
   "metadata": {},
   "outputs": [],
   "source": [
    "lhs_results1 = pd.read_csv('../Data/Fits/LHS_Fits/SRK_1param_Opt1_LHS.csv',index_col=0)\n",
    "lhs_results1 = lhs_results1[['sc_param2','SSR']]\n",
    "lhs_results2 = pd.read_csv('Data/Init_Final/LHS_Output/SRK_1param_Opt1_LHS_final.csv',index_col=0)\n",
    "lhs_results2 = lhs_results2[['sc_param2','SSR']]\n",
    "lhs_results = pd.concat([lhs_results1,lhs_results2],axis=0).reset_index(drop=True)"
   ]
  },
  {
   "cell_type": "code",
   "execution_count": 4,
   "id": "7ec05c55",
   "metadata": {},
   "outputs": [
    {
     "data": {
      "text/html": [
       "<div>\n",
       "<style scoped>\n",
       "    .dataframe tbody tr th:only-of-type {\n",
       "        vertical-align: middle;\n",
       "    }\n",
       "\n",
       "    .dataframe tbody tr th {\n",
       "        vertical-align: top;\n",
       "    }\n",
       "\n",
       "    .dataframe thead th {\n",
       "        text-align: right;\n",
       "    }\n",
       "</style>\n",
       "<table border=\"1\" class=\"dataframe\">\n",
       "  <thead>\n",
       "    <tr style=\"text-align: right;\">\n",
       "      <th></th>\n",
       "      <th>sc_param2</th>\n",
       "      <th>SSR</th>\n",
       "    </tr>\n",
       "  </thead>\n",
       "  <tbody>\n",
       "    <tr>\n",
       "      <th>5</th>\n",
       "      <td>0.004003</td>\n",
       "      <td>22.558030</td>\n",
       "    </tr>\n",
       "    <tr>\n",
       "      <th>102</th>\n",
       "      <td>-0.002499</td>\n",
       "      <td>0.372310</td>\n",
       "    </tr>\n",
       "    <tr>\n",
       "      <th>192</th>\n",
       "      <td>-0.004797</td>\n",
       "      <td>0.372310</td>\n",
       "    </tr>\n",
       "    <tr>\n",
       "      <th>364</th>\n",
       "      <td>-0.007129</td>\n",
       "      <td>0.372310</td>\n",
       "    </tr>\n",
       "    <tr>\n",
       "      <th>1481</th>\n",
       "      <td>-0.000582</td>\n",
       "      <td>0.372310</td>\n",
       "    </tr>\n",
       "    <tr>\n",
       "      <th>1657</th>\n",
       "      <td>-0.007992</td>\n",
       "      <td>0.372310</td>\n",
       "    </tr>\n",
       "    <tr>\n",
       "      <th>1937</th>\n",
       "      <td>0.007608</td>\n",
       "      <td>22.558030</td>\n",
       "    </tr>\n",
       "    <tr>\n",
       "      <th>2217</th>\n",
       "      <td>-0.005234</td>\n",
       "      <td>0.372310</td>\n",
       "    </tr>\n",
       "    <tr>\n",
       "      <th>2477</th>\n",
       "      <td>0.008302</td>\n",
       "      <td>22.558030</td>\n",
       "    </tr>\n",
       "    <tr>\n",
       "      <th>2808</th>\n",
       "      <td>0.009070</td>\n",
       "      <td>22.558030</td>\n",
       "    </tr>\n",
       "    <tr>\n",
       "      <th>2899</th>\n",
       "      <td>-0.008150</td>\n",
       "      <td>0.372310</td>\n",
       "    </tr>\n",
       "    <tr>\n",
       "      <th>3297</th>\n",
       "      <td>-0.001650</td>\n",
       "      <td>0.372310</td>\n",
       "    </tr>\n",
       "    <tr>\n",
       "      <th>3357</th>\n",
       "      <td>-0.511421</td>\n",
       "      <td>20.650757</td>\n",
       "    </tr>\n",
       "    <tr>\n",
       "      <th>3369</th>\n",
       "      <td>0.006278</td>\n",
       "      <td>22.558030</td>\n",
       "    </tr>\n",
       "    <tr>\n",
       "      <th>3456</th>\n",
       "      <td>-0.010428</td>\n",
       "      <td>0.372310</td>\n",
       "    </tr>\n",
       "    <tr>\n",
       "      <th>3501</th>\n",
       "      <td>-0.001982</td>\n",
       "      <td>0.372310</td>\n",
       "    </tr>\n",
       "    <tr>\n",
       "      <th>3567</th>\n",
       "      <td>0.006599</td>\n",
       "      <td>22.558030</td>\n",
       "    </tr>\n",
       "    <tr>\n",
       "      <th>3761</th>\n",
       "      <td>-0.011546</td>\n",
       "      <td>0.372310</td>\n",
       "    </tr>\n",
       "    <tr>\n",
       "      <th>3876</th>\n",
       "      <td>-0.008901</td>\n",
       "      <td>0.372310</td>\n",
       "    </tr>\n",
       "    <tr>\n",
       "      <th>4054</th>\n",
       "      <td>-0.003311</td>\n",
       "      <td>0.372310</td>\n",
       "    </tr>\n",
       "    <tr>\n",
       "      <th>4192</th>\n",
       "      <td>-0.011155</td>\n",
       "      <td>0.372310</td>\n",
       "    </tr>\n",
       "    <tr>\n",
       "      <th>4434</th>\n",
       "      <td>0.003380</td>\n",
       "      <td>22.558030</td>\n",
       "    </tr>\n",
       "    <tr>\n",
       "      <th>4444</th>\n",
       "      <td>-0.002965</td>\n",
       "      <td>0.372310</td>\n",
       "    </tr>\n",
       "    <tr>\n",
       "      <th>4447</th>\n",
       "      <td>-0.508392</td>\n",
       "      <td>59.099188</td>\n",
       "    </tr>\n",
       "    <tr>\n",
       "      <th>4669</th>\n",
       "      <td>-0.494795</td>\n",
       "      <td>0.372310</td>\n",
       "    </tr>\n",
       "    <tr>\n",
       "      <th>4721</th>\n",
       "      <td>0.003990</td>\n",
       "      <td>22.558030</td>\n",
       "    </tr>\n",
       "    <tr>\n",
       "      <th>4782</th>\n",
       "      <td>-0.006323</td>\n",
       "      <td>0.372310</td>\n",
       "    </tr>\n",
       "    <tr>\n",
       "      <th>4881</th>\n",
       "      <td>0.009791</td>\n",
       "      <td>22.558030</td>\n",
       "    </tr>\n",
       "    <tr>\n",
       "      <th>4950</th>\n",
       "      <td>-0.004800</td>\n",
       "      <td>0.372310</td>\n",
       "    </tr>\n",
       "    <tr>\n",
       "      <th>5049</th>\n",
       "      <td>-0.178589</td>\n",
       "      <td>19.799054</td>\n",
       "    </tr>\n",
       "    <tr>\n",
       "      <th>5187</th>\n",
       "      <td>0.005367</td>\n",
       "      <td>22.558030</td>\n",
       "    </tr>\n",
       "  </tbody>\n",
       "</table>\n",
       "</div>"
      ],
      "text/plain": [
       "      sc_param2        SSR\n",
       "5      0.004003  22.558030\n",
       "102   -0.002499   0.372310\n",
       "192   -0.004797   0.372310\n",
       "364   -0.007129   0.372310\n",
       "1481  -0.000582   0.372310\n",
       "1657  -0.007992   0.372310\n",
       "1937   0.007608  22.558030\n",
       "2217  -0.005234   0.372310\n",
       "2477   0.008302  22.558030\n",
       "2808   0.009070  22.558030\n",
       "2899  -0.008150   0.372310\n",
       "3297  -0.001650   0.372310\n",
       "3357  -0.511421  20.650757\n",
       "3369   0.006278  22.558030\n",
       "3456  -0.010428   0.372310\n",
       "3501  -0.001982   0.372310\n",
       "3567   0.006599  22.558030\n",
       "3761  -0.011546   0.372310\n",
       "3876  -0.008901   0.372310\n",
       "4054  -0.003311   0.372310\n",
       "4192  -0.011155   0.372310\n",
       "4434   0.003380  22.558030\n",
       "4444  -0.002965   0.372310\n",
       "4447  -0.508392  59.099188\n",
       "4669  -0.494795   0.372310\n",
       "4721   0.003990  22.558030\n",
       "4782  -0.006323   0.372310\n",
       "4881   0.009791  22.558030\n",
       "4950  -0.004800   0.372310\n",
       "5049  -0.178589  19.799054\n",
       "5187   0.005367  22.558030"
      ]
     },
     "execution_count": 4,
     "metadata": {},
     "output_type": "execute_result"
    }
   ],
   "source": [
    "lhs_results.dropna(axis=0)"
   ]
  },
  {
   "cell_type": "code",
   "execution_count": 5,
   "id": "60ce9c35",
   "metadata": {},
   "outputs": [
    {
     "data": {
      "text/html": [
       "<div>\n",
       "<style scoped>\n",
       "    .dataframe tbody tr th:only-of-type {\n",
       "        vertical-align: middle;\n",
       "    }\n",
       "\n",
       "    .dataframe tbody tr th {\n",
       "        vertical-align: top;\n",
       "    }\n",
       "\n",
       "    .dataframe thead th {\n",
       "        text-align: right;\n",
       "    }\n",
       "</style>\n",
       "<table border=\"1\" class=\"dataframe\">\n",
       "  <thead>\n",
       "    <tr style=\"text-align: right;\">\n",
       "      <th></th>\n",
       "      <th>sc_param2</th>\n",
       "      <th>SSR</th>\n",
       "    </tr>\n",
       "  </thead>\n",
       "  <tbody>\n",
       "    <tr>\n",
       "      <th>4669</th>\n",
       "      <td>-0.494795</td>\n",
       "      <td>0.37231</td>\n",
       "    </tr>\n",
       "  </tbody>\n",
       "</table>\n",
       "</div>"
      ],
      "text/plain": [
       "      sc_param2      SSR\n",
       "4669  -0.494795  0.37231"
      ]
     },
     "execution_count": 5,
     "metadata": {},
     "output_type": "execute_result"
    }
   ],
   "source": [
    "lhs_best = lhs_results[lhs_results.SSR == lhs_results.SSR.min()]\n",
    "lhs_best"
   ]
  },
  {
   "cell_type": "code",
   "execution_count": 6,
   "id": "f3d89125",
   "metadata": {},
   "outputs": [
    {
     "data": {
      "text/plain": [
       "-0.0029652469314005"
      ]
     },
     "execution_count": 6,
     "metadata": {},
     "output_type": "execute_result"
    }
   ],
   "source": [
    "sc_param2 = lhs_results.at[4444, 'sc_param2']\n",
    "sc_param2"
   ]
  },
  {
   "cell_type": "code",
   "execution_count": 7,
   "id": "independent-layout",
   "metadata": {},
   "outputs": [],
   "source": [
    "from hfc125_emimtf2n_SRK import configuration "
   ]
  },
  {
   "cell_type": "code",
   "execution_count": 8,
   "id": "featured-nicholas",
   "metadata": {},
   "outputs": [
    {
     "name": "stdout",
     "output_type": "stream",
     "text": [
      "The initial DOF is 7\n"
     ]
    }
   ],
   "source": [
    "m = ConcreteModel()\n",
    "m.fs = FlowsheetBlock(default={\"dynamic\": False})\n",
    "m.fs.properties = GenericParameterBlock(default=configuration)\n",
    "m.fs.F101 = Flash(default={\"property_package\": m.fs.properties,\n",
    "                           \"has_heat_transfer\": True,\n",
    "                           \"has_pressure_change\": True})\n",
    "DOF_initial = degrees_of_freedom(m)\n",
    "print('The initial DOF is {0}'.format(DOF_initial))"
   ]
  },
  {
   "cell_type": "markdown",
   "id": "veterinary-first",
   "metadata": {},
   "source": [
    "## Fit Parameters"
   ]
  },
  {
   "cell_type": "code",
   "execution_count": 9,
   "id": "personal-parade",
   "metadata": {},
   "outputs": [
    {
     "name": "stdout",
     "output_type": "stream",
     "text": [
      "2022-09-19 12:02:54 [INFO] idaes.init.fs.state_block: Property package initialization: optimal - Optimal Solution Found.\n",
      "2022-09-19 12:02:54 [INFO] idaes.init.fs.state_block: Property package initialization: optimal - Optimal Solution Found.\n",
      "2022-09-19 12:02:54 [INFO] idaes.init.fs.state_block: Property package initialization: optimal - Optimal Solution Found.\n",
      "2022-09-19 12:02:55 [INFO] idaes.init.fs.state_block: Property package initialization: optimal - Optimal Solution Found.\n",
      "2022-09-19 12:02:55 [INFO] idaes.init.fs.state_block: Property package initialization: optimal - Optimal Solution Found.\n",
      "2022-09-19 12:02:55 [INFO] idaes.init.fs.state_block: Property package initialization: optimal - Optimal Solution Found.\n",
      "2022-09-19 12:02:56 [INFO] idaes.init.fs.state_block: Property package initialization: optimal - Optimal Solution Found.\n",
      "2022-09-19 12:02:56 [INFO] idaes.init.fs.state_block: Property package initialization: optimal - Optimal Solution Found.\n",
      "2022-09-19 12:02:57 [INFO] idaes.init.fs.state_block: Property package initialization: optimal - Optimal Solution Found.\n",
      "2022-09-19 12:02:57 [INFO] idaes.init.fs.state_block: Property package initialization: optimal - Optimal Solution Found.\n",
      "2022-09-19 12:02:57 [INFO] idaes.init.fs.state_block: Property package initialization: optimal - Optimal Solution Found.\n",
      "2022-09-19 12:02:58 [INFO] idaes.init.fs.state_block: Property package initialization: optimal - Optimal Solution Found.\n",
      "2022-09-19 12:02:58 [INFO] idaes.init.fs.state_block: Property package initialization: optimal - Optimal Solution Found.\n",
      "2022-09-19 12:02:59 [INFO] idaes.init.fs.state_block: Property package initialization: optimal - Optimal Solution Found.\n",
      "2022-09-19 12:02:59 [INFO] idaes.init.fs.state_block: Property package initialization: optimal - Optimal Solution Found.\n",
      "2022-09-19 12:03:00 [INFO] idaes.init.fs.state_block: Property package initialization: optimal - Optimal Solution Found.\n",
      "2022-09-19 12:03:00 [INFO] idaes.init.fs.state_block: Property package initialization: optimal - Optimal Solution Found.\n",
      "2022-09-19 12:03:01 [INFO] idaes.init.fs.state_block: Property package initialization: optimal - Optimal Solution Found.\n",
      "2022-09-19 12:03:02 [INFO] idaes.init.fs.state_block: Property package initialization: optimal - Optimal Solution Found.\n",
      "2022-09-19 12:03:02 [INFO] idaes.init.fs.state_block: Property package initialization: optimal - Optimal Solution Found.\n",
      "2022-09-19 12:03:03 [INFO] idaes.init.fs.state_block: Property package initialization: optimal - Optimal Solution Found.\n",
      "2022-09-19 12:03:03 [INFO] idaes.init.fs.state_block: Property package initialization: optimal - Optimal Solution Found.\n",
      "2022-09-19 12:03:04 [INFO] idaes.init.fs.state_block: Property package initialization: optimal - Optimal Solution Found.\n",
      "2022-09-19 12:03:04 [INFO] idaes.init.fs.state_block: Property package initialization: optimal - Optimal Solution Found.\n",
      "2022-09-19 12:03:05 [INFO] idaes.init.fs.state_block: Property package initialization: optimal - Optimal Solution Found.\n",
      "2022-09-19 12:03:05 [INFO] idaes.init.fs.state_block: Property package initialization: optimal - Optimal Solution Found.\n",
      "2022-09-19 12:03:06 [INFO] idaes.init.fs.state_block: Property package initialization: optimal - Optimal Solution Found.\n",
      "2022-09-19 12:03:06 [INFO] idaes.init.fs.state_block: Property package initialization: optimal - Optimal Solution Found.\n",
      "2022-09-19 12:03:07 [INFO] idaes.init.fs.state_block: Property package initialization: optimal - Optimal Solution Found.\n",
      "2022-09-19 12:03:07 [INFO] idaes.init.fs.state_block: Property package initialization: optimal - Optimal Solution Found.\n",
      "2022-09-19 12:03:08 [INFO] idaes.init.fs.state_block: Property package initialization: optimal - Optimal Solution Found.\n",
      "2022-09-19 12:03:08 [INFO] idaes.init.fs.state_block: Property package initialization: optimal - Optimal Solution Found.\n",
      "WARNING: The current pynumero_ASL library is version=2, but found version=1.\n",
      "    Please recompile / update your pynumero_ASL library.\n"
     ]
    },
    {
     "name": "stderr",
     "output_type": "stream",
     "text": [
      "/Users/bridgettebefort/opt/anaconda3/envs/idaes-pse-dev/lib/python3.9/site-packages/pyomo/contrib/interior_point/interface.py:418: RuntimeWarning: divide by zero encountered in true_divide\n",
      "  data = (duals_primals_lb/(primals - self._nlp.primals_lb()) +\n"
     ]
    }
   ],
   "source": [
    "parameters, obj_value, a = constant(data_subset, configuration, 'R125', 'emimTf2N', \"x_R125\", \"x_emimTf2N\", \n",
    "        init_temp =  283.1, init_press =   399300 , init_x_c1 =    0.448, init_x_c2 = 0.552,\n",
    "        init_kappa_A_2_1 = 0, init_kappa_A_1_2 = sc_param2,\n",
    "        eps = 0.1, scaling_fac = 1e-9 , read=False, optional_params='Opt1', \n",
    "        filename='Data/Fits/Ipopt_Output/SRK_1param_Opt1_final.txt', )"
   ]
  },
  {
   "cell_type": "code",
   "execution_count": 10,
   "id": "collect-amount",
   "metadata": {},
   "outputs": [
    {
     "name": "stdout",
     "output_type": "stream",
     "text": [
      "Objective (SSE): 0.3723097654509517\n"
     ]
    }
   ],
   "source": [
    "print('Objective (SSE):',obj_value)"
   ]
  },
  {
   "cell_type": "code",
   "execution_count": 11,
   "id": "1f79cd18",
   "metadata": {},
   "outputs": [
    {
     "name": "stdout",
     "output_type": "stream",
     "text": [
      "Parameters: fs.properties.SRK_kappa_A[R125,emimTf2N]   -0.024758\n",
      "dtype: float64\n"
     ]
    }
   ],
   "source": [
    "print('Parameters:',parameters)"
   ]
  },
  {
   "cell_type": "code",
   "execution_count": 12,
   "id": "3b63cdfe",
   "metadata": {},
   "outputs": [],
   "source": [
    "np.savetxt('Data/Fits/SRK_params_1param_Opt1.csv',parameters,delimiter=',')"
   ]
  },
  {
   "cell_type": "code",
   "execution_count": 13,
   "id": "fewer-madonna",
   "metadata": {},
   "outputs": [
    {
     "name": "stdout",
     "output_type": "stream",
     "text": [
      "Covariance Matrix:\n",
      "[[5.52368694e-07]]\n"
     ]
    }
   ],
   "source": [
    "cov = np.array(a)\n",
    "print('Covariance Matrix:')\n",
    "print(cov)"
   ]
  },
  {
   "cell_type": "code",
   "execution_count": 14,
   "id": "ddb054fc",
   "metadata": {},
   "outputs": [],
   "source": [
    "np.savetxt('Data/Covariance/SRK_Cov_1param_Opt1.csv',cov,delimiter=',')"
   ]
  },
  {
   "cell_type": "markdown",
   "id": "received-chuck",
   "metadata": {},
   "source": [
    "## Apply Parameters + Plot"
   ]
  },
  {
   "cell_type": "code",
   "execution_count": null,
   "id": "homeless-banana",
   "metadata": {},
   "outputs": [],
   "source": [
    "solver = SolverFactory('ipopt')\n",
    "solver.options = {'tol': 1e-6}"
   ]
  },
  {
   "cell_type": "code",
   "execution_count": null,
   "id": "historical-spice",
   "metadata": {},
   "outputs": [],
   "source": [
    "m = ConcreteModel()\n",
    "\n",
    "m.fs = FlowsheetBlock(default={\"dynamic\": False})\n",
    "\n",
    "m.fs.properties = GenericParameterBlock(default=configuration)\n",
    "\n",
    "m.fs.F101 = Flash(default={\"property_package\": m.fs.properties,\n",
    "                           \"has_heat_transfer\": True,\n",
    "                           \"has_pressure_change\": True})\n",
    "\n",
    "m.fs.F101.inlet.flow_mol.fix(1)\n",
    "m.fs.F101.inlet.temperature.fix(323.15)\n",
    "m.fs.F101.inlet.pressure.fix(399800)\n",
    "m.fs.F101.inlet.mole_frac_comp[0,'R125'].fix(0.5)\n",
    "\n",
    "m.fs.properties.SRK_kappa_A['R125','emimTf2N'] = parameters['fs.properties.SRK_kappa_A[R125,emimTf2N]']\n",
    "# m.fs.properties.PR_kappa_A['emimTf2N','R32'] = parameters['fs.properties.PR_kappa_A[emimTf2N,R32]']\n",
    "\n",
    "# Initialize the flash unit\n",
    "m.fs.F101.initialize(outlvl=idaeslog.CRITICAL)\n",
    "\n",
    "# Fix the state variables on the state block\n",
    "# m.fs.F101.inlet.pressure.unfix()\n",
    "m.fs.F101.inlet.mole_frac_comp[0,'emimTf2N'].unfix()\n",
    "\n",
    "R125_x = np.zeros((len(data_extended)))\n",
    "P = np.zeros((len(data_extended)))\n",
    "T = np.zeros((len(data_extended)))\n",
    "\n",
    "m.fs.liq = Param(mutable=True,default=0.040)\n",
    "m.fs.liquid = Constraint(expr=m.fs.F101.liq_outlet.mole_frac_comp[0, \"emimTf2N\"] == m.fs.liq)\n",
    "\n",
    "for i in range(len(data_extended)):\n",
    "    print('i:',i)\n",
    "    print('Try x_IL:',data_extended[\"x_emimTf2N\"].iloc[i])\n",
    "    m.fs.liq = data_extended[\"x_emimTf2N\"].iloc[i]\n",
    "    m.fs.F101.inlet.temperature.fix(float(data_extended[\"temperature\"].iloc[i]))\n",
    "    m.fs.F101.inlet.pressure.fix(float(data_extended[\"pressure\"].iloc[i]))\n",
    "    m.fs.F101.inlet.mole_frac_comp[0,'R125'].fix(float(data_extended[\"x_R125\"].iloc[i])+0.1)\n",
    "    m.fs.F101.inlet.mole_frac_comp[0,'emimTf2N'].fix(float(1-(data_extended[\"x_R125\"].iloc[i]+0.1)))\n",
    "    m.fs.F101.vap_outlet.temperature.fix(float(data_extended[\"temperature\"].iloc[i]))\n",
    "    \n",
    "    try:\n",
    "        m.fs.F101.initialize(outlvl=idaeslog.CRITICAL)\n",
    "        \n",
    "    except:\n",
    "        print('Initialization Error')\n",
    "        \n",
    "    try:\n",
    "\n",
    "        status = solver.solve(m, tee = False)\n",
    "        \n",
    "        if (status.solver.status == SolverStatus.ok) and (status.solver.termination_condition == TerminationCondition.optimal):\n",
    "            print('Feasible/Optimal Solution')\n",
    "            R125_x[i] = value(m.fs.F101.liq_outlet.mole_frac_comp[0,'R125']) \n",
    "            P[i] = value(m.fs.F101.vap_outlet.pressure[0])\n",
    "            T[i] = data_extended[\"temperature\"].iloc[i]\n",
    "        else:\n",
    "            print('Infeasible Solution')\n",
    "            R125_x[i] = np.nan\n",
    "            P[i] = np.nan\n",
    "            T[i] = data_extended[\"temperature\"].iloc[i]\n",
    "            \n",
    "    except ValueError:\n",
    "        R125_x[i] = np.nan\n",
    "        P[i] = np.nan\n",
    "        T[i] = data_extended[\"temperature\"].iloc[i]\n",
    "        print('Solver Error')"
   ]
  },
  {
   "cell_type": "code",
   "execution_count": null,
   "id": "b6a55660",
   "metadata": {},
   "outputs": [],
   "source": [
    "fitted_data = pd.DataFrame(data=[R125_x,P/1e6,T])\n",
    "fitted_data = fitted_data.T\n",
    "fitted_data.columns = ['R125_x','P, MPa','T, K']\n",
    "fitted_data.to_csv('Data/Fits/SRK_FittedData_1param_Opt1.csv')"
   ]
  },
  {
   "cell_type": "code",
   "execution_count": null,
   "id": "helpful-powell",
   "metadata": {},
   "outputs": [],
   "source": [
    "plt.plot(fitted_data.where(fitted_data['T, K']==283.1)['R125_x'],fitted_data.where(fitted_data['T, K']==283.1)['P, MPa'],\"b-\",label='T=283 K')\n",
    "plt.plot(fitted_data.where(fitted_data['T, K']==298.1)['R125_x'],fitted_data.where(fitted_data['T, K']==298.1)['P, MPa'],\"r-\",label='T=298 K')\n",
    "plt.plot(fitted_data.where(fitted_data['T, K']==323.1)['R125_x'],fitted_data.where(fitted_data['T, K']==323.1)['P, MPa'],\"c-\",label='T=323 K')\n",
    "plt.plot(fitted_data.where(fitted_data['T, K']==348.1)['R125_x'],fitted_data.where(fitted_data['T, K']==348.1)['P, MPa'],\"m-\",label='T=348 K')\n",
    "plt.plot(data_full[\"x_R125\"],data_full[\"pressure\"]/1e6,\"*\",color='orange',label=\"data\")  \n",
    "plt.title('Isotherm R125-[emim][TF2N]')\n",
    "plt.ylabel('Pressure (MPa)')\n",
    "plt.xlabel('x R125')\n",
    "plt.grid(True)\n",
    "plt.ylim(0,1.110000)\n",
    "plt.legend()\n",
    "plt.show()"
   ]
  },
  {
   "cell_type": "markdown",
   "id": "present-tulsa",
   "metadata": {},
   "source": [
    "### Print Eigvals, Eigvectors of Covariance\n",
    "\n",
    "An identifiability analysis can be performed with these as well as a FIM because the covariance matrix is the inverse of the FIM. That means that if there are any eigvals >> 0, their eigvecs indicate directions of un-identifiability."
   ]
  },
  {
   "cell_type": "code",
   "execution_count": null,
   "id": "associate-retreat",
   "metadata": {},
   "outputs": [],
   "source": [
    "eigvals, eigvecs = np.linalg.eig(cov)"
   ]
  },
  {
   "cell_type": "code",
   "execution_count": null,
   "id": "genuine-lucas",
   "metadata": {},
   "outputs": [],
   "source": [
    "eigvals"
   ]
  },
  {
   "cell_type": "code",
   "execution_count": null,
   "id": "historic-outside",
   "metadata": {},
   "outputs": [],
   "source": [
    "eigvecs"
   ]
  },
  {
   "cell_type": "code",
   "execution_count": null,
   "id": "786d371d",
   "metadata": {},
   "outputs": [],
   "source": [
    "np.savetxt('Data/EigenAnalysis/SRK_vals_1param_Opt1.csv',eigvals,delimiter=',')\n",
    "np.savetxt('Data/EigenAnalysis/SRK_vecs_1param_Opt1.csv',eigvecs,delimiter=',')"
   ]
  },
  {
   "cell_type": "code",
   "execution_count": null,
   "id": "f7387795",
   "metadata": {},
   "outputs": [],
   "source": [
    "FIM = np.linalg.inv(cov) \n",
    "\n",
    "#A_opt\n",
    "FIM_trace = np.trace(FIM)\n",
    "cov_trace = np.trace(cov)\n",
    "\n",
    "#D_opt\n",
    "FIM_det = np.linalg.det(FIM)\n",
    "\n",
    "#E_opt\n",
    "eigvals_FIM, eigvecs_FIM = np.linalg.eig(FIM)\n",
    "eigvals_FIM_min = eigvals_FIM.min()\n",
    "eigvals_FIM_max = eigvals_FIM.max()\n",
    "\n",
    "np.savetxt('Data/EigenAnalysis/SRK_FIMtrdet_1param_Opt1.csv',[cov_trace,FIM_trace,FIM_det,eigvals_FIM_min,eigvals_FIM_max])\n",
    "np.savetxt('Data/EigenAnalysis/SRK_FIMvals_1param_Opt1.csv',eigvals_FIM,delimiter=',')\n",
    "np.savetxt('Data/EigenAnalysis/SRK_FIMvecs_1param_Opt1.csv',eigvecs_FIM,delimiter=',')"
   ]
  },
  {
   "cell_type": "markdown",
   "id": "capital-declaration",
   "metadata": {},
   "source": [
    "## AIC Value\n",
    "\n",
    "See: https://doi.org/10.1080/21642583.2018.1496042\n",
    "\n",
    "AIC(k) = Nln(MSE(k))+2k\n",
    "\n",
    "N: number of data points\n",
    "\n",
    "MSE(k): mean squared error of the model with k parameters\n",
    "\n",
    "k: number of parameters\n",
    "\n",
    "MSE(k) = SSE(k)/N\n",
    "\n",
    "SSE: sum of squared error of the model with k parameters"
   ]
  },
  {
   "cell_type": "code",
   "execution_count": null,
   "id": "16758848",
   "metadata": {},
   "outputs": [],
   "source": [
    "#number of datapoints\n",
    "N = len(data_subset)\n",
    "#MSE(k)\n",
    "MSE = obj_value/N\n",
    "#number of parameters\n",
    "k = 1"
   ]
  },
  {
   "cell_type": "code",
   "execution_count": null,
   "id": "absent-twist",
   "metadata": {},
   "outputs": [],
   "source": [
    "AIC = N*np.log(MSE) + 2*k\n",
    "AIC"
   ]
  },
  {
   "cell_type": "code",
   "execution_count": null,
   "id": "damaged-triangle",
   "metadata": {},
   "outputs": [],
   "source": [
    "AIC_data = pd.DataFrame(data=[N,MSE,k,obj_value,AIC])\n",
    "AIC_data = AIC_data.T\n",
    "AIC_data.columns = ['N','MSE','k','Objective, Pa^2','AIC']\n",
    "AIC_data.to_csv('Data/AIC/SRK_AIC_1param_Opt1.csv')"
   ]
  },
  {
   "cell_type": "code",
   "execution_count": null,
   "id": "21ca4377",
   "metadata": {},
   "outputs": [],
   "source": []
  }
 ],
 "metadata": {
  "kernelspec": {
   "display_name": "Python 3 (ipykernel)",
   "language": "python",
   "name": "python3"
  },
  "language_info": {
   "codemirror_mode": {
    "name": "ipython",
    "version": 3
   },
   "file_extension": ".py",
   "mimetype": "text/x-python",
   "name": "python",
   "nbconvert_exporter": "python",
   "pygments_lexer": "ipython3",
   "version": "3.9.9"
  }
 },
 "nbformat": 4,
 "nbformat_minor": 5
}
