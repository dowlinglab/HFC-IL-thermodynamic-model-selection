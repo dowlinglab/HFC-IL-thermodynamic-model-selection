{
 "cells": [
  {
   "cell_type": "markdown",
   "id": "instructional-learning",
   "metadata": {},
   "source": [
    "# Fit emimTF2N data\n",
    "\n",
    "EoS: PR\n",
    "\n",
    "Parameter T dependence: Linear\n",
    "\n",
    "N (total fitting parameters): 4"
   ]
  },
  {
   "cell_type": "markdown",
   "id": "extended-rabbit",
   "metadata": {},
   "source": [
    "## Import Functions"
   ]
  },
  {
   "cell_type": "code",
   "execution_count": 1,
   "id": "complicated-toronto",
   "metadata": {},
   "outputs": [],
   "source": [
    "import idaes\n",
    "\n",
    "import pandas as pd\n",
    "import numpy as np\n",
    "import matplotlib.pyplot as plt\n",
    "import scipy.optimize\n",
    "\n",
    "import sys\n",
    "sys.path.append('../../../')\n",
    "\n",
    "from pyomo.environ import (Constraint,\n",
    "                           Var,\n",
    "                           ConcreteModel,\n",
    "                           Expression,\n",
    "                           Param,\n",
    "                           Objective,\n",
    "                           SolverFactory,\n",
    "                           TransformationFactory,\n",
    "                           value)\n",
    "from pyomo.opt import TerminationCondition, SolverStatus\n",
    "\n",
    "from idaes.core import FlowsheetBlock\n",
    "import idaes.logger as idaeslog\n",
    "# Import the Generic Parameter Block\n",
    "from idaes.generic_models.properties.core.generic.generic_property import (\n",
    "        GenericParameterBlock)\n",
    "# Import unit models from the model library\n",
    "from idaes.generic_models.unit_models import Flash\n",
    "# Import degrees of freedom tool\n",
    "from idaes.core.util.model_statistics import degrees_of_freedom\n",
    "\n",
    "# parmest (binary_param2)\n",
    "from bip_fitting_functions import linear\n",
    "\n",
    "import scipy.stats as stats"
   ]
  },
  {
   "cell_type": "markdown",
   "id": "potential-awareness",
   "metadata": {},
   "source": [
    "## Load Data"
   ]
  },
  {
   "cell_type": "code",
   "execution_count": 2,
   "id": "latest-artist",
   "metadata": {},
   "outputs": [],
   "source": [
    "data_full = pd.read_csv('../r125_emimtf2n_full.csv')\n",
    "data_subset = pd.read_csv('../r125_emimtf2n_subset.csv')\n",
    "data_extended = pd.read_csv('../r125-emimtf2n-extended.csv')"
   ]
  },
  {
   "cell_type": "markdown",
   "id": "superior-attendance",
   "metadata": {},
   "source": [
    "## Load Configuration + Check DOF + Load Parameters"
   ]
  },
  {
   "cell_type": "code",
   "execution_count": 3,
   "id": "7d322cdf",
   "metadata": {},
   "outputs": [],
   "source": [
    "lhs_results1 = pd.read_csv('../Data/Fits/LHS_Fits/PR_linTdep_LHS.csv',index_col=0)\n",
    "lhs_results1 = lhs_results1[['sc_param1','sc_param2','sc_param3','sc_param4','SSR']]\n",
    "lhs_results2 = pd.read_csv('Data/Init_Final/LHS_Output/PR_linTdep_LHS_final.csv',index_col=0)\n",
    "lhs_results2 = lhs_results2[['sc_param1','sc_param2','sc_param3','sc_param4','SSR']]"
   ]
  },
  {
   "cell_type": "code",
   "execution_count": 4,
   "id": "ee75fe0e",
   "metadata": {},
   "outputs": [],
   "source": [
    "lhs_results = pd.concat([lhs_results1,lhs_results2],axis=0).reset_index(drop=True)"
   ]
  },
  {
   "cell_type": "code",
   "execution_count": 5,
   "id": "a18f5e6d",
   "metadata": {},
   "outputs": [
    {
     "data": {
      "text/html": [
       "<div>\n",
       "<style scoped>\n",
       "    .dataframe tbody tr th:only-of-type {\n",
       "        vertical-align: middle;\n",
       "    }\n",
       "\n",
       "    .dataframe tbody tr th {\n",
       "        vertical-align: top;\n",
       "    }\n",
       "\n",
       "    .dataframe thead th {\n",
       "        text-align: right;\n",
       "    }\n",
       "</style>\n",
       "<table border=\"1\" class=\"dataframe\">\n",
       "  <thead>\n",
       "    <tr style=\"text-align: right;\">\n",
       "      <th></th>\n",
       "      <th>sc_param1</th>\n",
       "      <th>sc_param2</th>\n",
       "      <th>sc_param3</th>\n",
       "      <th>sc_param4</th>\n",
       "      <th>SSR</th>\n",
       "    </tr>\n",
       "  </thead>\n",
       "  <tbody>\n",
       "    <tr>\n",
       "      <th>24</th>\n",
       "      <td>-0.920014</td>\n",
       "      <td>-0.286915</td>\n",
       "      <td>0.621217</td>\n",
       "      <td>0.255704</td>\n",
       "      <td>0.117352</td>\n",
       "    </tr>\n",
       "    <tr>\n",
       "      <th>71</th>\n",
       "      <td>-0.115629</td>\n",
       "      <td>-0.834497</td>\n",
       "      <td>-0.784946</td>\n",
       "      <td>0.781298</td>\n",
       "      <td>0.117352</td>\n",
       "    </tr>\n",
       "    <tr>\n",
       "      <th>150</th>\n",
       "      <td>-0.752131</td>\n",
       "      <td>-0.477515</td>\n",
       "      <td>-0.363124</td>\n",
       "      <td>0.407035</td>\n",
       "      <td>0.119971</td>\n",
       "    </tr>\n",
       "    <tr>\n",
       "      <th>473</th>\n",
       "      <td>0.556070</td>\n",
       "      <td>-1.038849</td>\n",
       "      <td>-0.821634</td>\n",
       "      <td>1.088539</td>\n",
       "      <td>0.117352</td>\n",
       "    </tr>\n",
       "    <tr>\n",
       "      <th>509</th>\n",
       "      <td>-0.403903</td>\n",
       "      <td>-0.505431</td>\n",
       "      <td>-0.798019</td>\n",
       "      <td>0.472897</td>\n",
       "      <td>0.117352</td>\n",
       "    </tr>\n",
       "    <tr>\n",
       "      <th>1224</th>\n",
       "      <td>-0.332046</td>\n",
       "      <td>-0.166957</td>\n",
       "      <td>-0.091635</td>\n",
       "      <td>0.142481</td>\n",
       "      <td>0.117808</td>\n",
       "    </tr>\n",
       "    <tr>\n",
       "      <th>1249</th>\n",
       "      <td>0.107046</td>\n",
       "      <td>-1.351754</td>\n",
       "      <td>-0.828205</td>\n",
       "      <td>1.373039</td>\n",
       "      <td>0.117352</td>\n",
       "    </tr>\n",
       "    <tr>\n",
       "      <th>1669</th>\n",
       "      <td>0.534416</td>\n",
       "      <td>-0.861035</td>\n",
       "      <td>-1.269344</td>\n",
       "      <td>0.855259</td>\n",
       "      <td>0.117352</td>\n",
       "    </tr>\n",
       "    <tr>\n",
       "      <th>2379</th>\n",
       "      <td>1.182459</td>\n",
       "      <td>-1.868503</td>\n",
       "      <td>-1.462754</td>\n",
       "      <td>1.734388</td>\n",
       "      <td>5.369137</td>\n",
       "    </tr>\n",
       "    <tr>\n",
       "      <th>2468</th>\n",
       "      <td>-1.421433</td>\n",
       "      <td>-1.791666</td>\n",
       "      <td>0.552875</td>\n",
       "      <td>1.786227</td>\n",
       "      <td>0.117352</td>\n",
       "    </tr>\n",
       "    <tr>\n",
       "      <th>2509</th>\n",
       "      <td>0.905605</td>\n",
       "      <td>-1.038117</td>\n",
       "      <td>-0.917062</td>\n",
       "      <td>1.022360</td>\n",
       "      <td>1.978968</td>\n",
       "    </tr>\n",
       "    <tr>\n",
       "      <th>2828</th>\n",
       "      <td>-0.978521</td>\n",
       "      <td>-1.189381</td>\n",
       "      <td>-1.719844</td>\n",
       "      <td>1.125595</td>\n",
       "      <td>0.117808</td>\n",
       "    </tr>\n",
       "    <tr>\n",
       "      <th>3370</th>\n",
       "      <td>0.441328</td>\n",
       "      <td>-1.464215</td>\n",
       "      <td>-0.002035</td>\n",
       "      <td>1.249609</td>\n",
       "      <td>804.078404</td>\n",
       "    </tr>\n",
       "    <tr>\n",
       "      <th>3378</th>\n",
       "      <td>-0.640937</td>\n",
       "      <td>-0.545939</td>\n",
       "      <td>0.672123</td>\n",
       "      <td>0.356119</td>\n",
       "      <td>5.369137</td>\n",
       "    </tr>\n",
       "    <tr>\n",
       "      <th>3569</th>\n",
       "      <td>-1.679435</td>\n",
       "      <td>-1.245789</td>\n",
       "      <td>1.378619</td>\n",
       "      <td>1.023912</td>\n",
       "      <td>0.279840</td>\n",
       "    </tr>\n",
       "    <tr>\n",
       "      <th>3745</th>\n",
       "      <td>-1.833472</td>\n",
       "      <td>-1.343831</td>\n",
       "      <td>0.640976</td>\n",
       "      <td>1.350624</td>\n",
       "      <td>0.117808</td>\n",
       "    </tr>\n",
       "    <tr>\n",
       "      <th>4040</th>\n",
       "      <td>-1.277838</td>\n",
       "      <td>-1.518247</td>\n",
       "      <td>0.093436</td>\n",
       "      <td>1.490117</td>\n",
       "      <td>0.117352</td>\n",
       "    </tr>\n",
       "    <tr>\n",
       "      <th>4390</th>\n",
       "      <td>-1.743537</td>\n",
       "      <td>-0.779287</td>\n",
       "      <td>0.623990</td>\n",
       "      <td>0.776498</td>\n",
       "      <td>2.200410</td>\n",
       "    </tr>\n",
       "    <tr>\n",
       "      <th>4394</th>\n",
       "      <td>1.494380</td>\n",
       "      <td>-1.468341</td>\n",
       "      <td>-1.966234</td>\n",
       "      <td>1.523332</td>\n",
       "      <td>0.117352</td>\n",
       "    </tr>\n",
       "    <tr>\n",
       "      <th>4504</th>\n",
       "      <td>-0.735790</td>\n",
       "      <td>-1.504159</td>\n",
       "      <td>0.132012</td>\n",
       "      <td>1.491727</td>\n",
       "      <td>0.117352</td>\n",
       "    </tr>\n",
       "    <tr>\n",
       "      <th>4559</th>\n",
       "      <td>-0.365087</td>\n",
       "      <td>-0.492002</td>\n",
       "      <td>0.335834</td>\n",
       "      <td>0.456671</td>\n",
       "      <td>0.117352</td>\n",
       "    </tr>\n",
       "    <tr>\n",
       "      <th>4870</th>\n",
       "      <td>-1.202559</td>\n",
       "      <td>-0.724917</td>\n",
       "      <td>-0.368787</td>\n",
       "      <td>0.612648</td>\n",
       "      <td>1.247072</td>\n",
       "    </tr>\n",
       "    <tr>\n",
       "      <th>5015</th>\n",
       "      <td>-1.444503</td>\n",
       "      <td>-0.854708</td>\n",
       "      <td>-1.853169</td>\n",
       "      <td>1.050974</td>\n",
       "      <td>0.119971</td>\n",
       "    </tr>\n",
       "  </tbody>\n",
       "</table>\n",
       "</div>"
      ],
      "text/plain": [
       "      sc_param1  sc_param2  sc_param3  sc_param4         SSR\n",
       "24    -0.920014  -0.286915   0.621217   0.255704    0.117352\n",
       "71    -0.115629  -0.834497  -0.784946   0.781298    0.117352\n",
       "150   -0.752131  -0.477515  -0.363124   0.407035    0.119971\n",
       "473    0.556070  -1.038849  -0.821634   1.088539    0.117352\n",
       "509   -0.403903  -0.505431  -0.798019   0.472897    0.117352\n",
       "1224  -0.332046  -0.166957  -0.091635   0.142481    0.117808\n",
       "1249   0.107046  -1.351754  -0.828205   1.373039    0.117352\n",
       "1669   0.534416  -0.861035  -1.269344   0.855259    0.117352\n",
       "2379   1.182459  -1.868503  -1.462754   1.734388    5.369137\n",
       "2468  -1.421433  -1.791666   0.552875   1.786227    0.117352\n",
       "2509   0.905605  -1.038117  -0.917062   1.022360    1.978968\n",
       "2828  -0.978521  -1.189381  -1.719844   1.125595    0.117808\n",
       "3370   0.441328  -1.464215  -0.002035   1.249609  804.078404\n",
       "3378  -0.640937  -0.545939   0.672123   0.356119    5.369137\n",
       "3569  -1.679435  -1.245789   1.378619   1.023912    0.279840\n",
       "3745  -1.833472  -1.343831   0.640976   1.350624    0.117808\n",
       "4040  -1.277838  -1.518247   0.093436   1.490117    0.117352\n",
       "4390  -1.743537  -0.779287   0.623990   0.776498    2.200410\n",
       "4394   1.494380  -1.468341  -1.966234   1.523332    0.117352\n",
       "4504  -0.735790  -1.504159   0.132012   1.491727    0.117352\n",
       "4559  -0.365087  -0.492002   0.335834   0.456671    0.117352\n",
       "4870  -1.202559  -0.724917  -0.368787   0.612648    1.247072\n",
       "5015  -1.444503  -0.854708  -1.853169   1.050974    0.119971"
      ]
     },
     "execution_count": 5,
     "metadata": {},
     "output_type": "execute_result"
    }
   ],
   "source": [
    "lhs_results.dropna(axis=0)"
   ]
  },
  {
   "cell_type": "code",
   "execution_count": 6,
   "id": "a629d9f3",
   "metadata": {},
   "outputs": [
    {
     "data": {
      "text/html": [
       "<div>\n",
       "<style scoped>\n",
       "    .dataframe tbody tr th:only-of-type {\n",
       "        vertical-align: middle;\n",
       "    }\n",
       "\n",
       "    .dataframe tbody tr th {\n",
       "        vertical-align: top;\n",
       "    }\n",
       "\n",
       "    .dataframe thead th {\n",
       "        text-align: right;\n",
       "    }\n",
       "</style>\n",
       "<table border=\"1\" class=\"dataframe\">\n",
       "  <thead>\n",
       "    <tr style=\"text-align: right;\">\n",
       "      <th></th>\n",
       "      <th>sc_param1</th>\n",
       "      <th>sc_param2</th>\n",
       "      <th>sc_param3</th>\n",
       "      <th>sc_param4</th>\n",
       "      <th>SSR</th>\n",
       "    </tr>\n",
       "  </thead>\n",
       "  <tbody>\n",
       "    <tr>\n",
       "      <th>4504</th>\n",
       "      <td>-0.73579</td>\n",
       "      <td>-1.504159</td>\n",
       "      <td>0.132012</td>\n",
       "      <td>1.491727</td>\n",
       "      <td>0.117352</td>\n",
       "    </tr>\n",
       "  </tbody>\n",
       "</table>\n",
       "</div>"
      ],
      "text/plain": [
       "      sc_param1  sc_param2  sc_param3  sc_param4       SSR\n",
       "4504   -0.73579  -1.504159   0.132012   1.491727  0.117352"
      ]
     },
     "execution_count": 6,
     "metadata": {},
     "output_type": "execute_result"
    }
   ],
   "source": [
    "lhs_best = lhs_results[lhs_results.SSR == lhs_results.SSR.min()]\n",
    "lhs_best"
   ]
  },
  {
   "cell_type": "code",
   "execution_count": 7,
   "id": "15aa687d",
   "metadata": {},
   "outputs": [],
   "source": [
    "sc_param1 = lhs_best.at[4504, 'sc_param1']\n",
    "sc_param2 = lhs_best.at[4504, 'sc_param2']\n",
    "sc_param3 = lhs_best.at[4504, 'sc_param3']\n",
    "sc_param4 = lhs_best.at[4504, 'sc_param4']"
   ]
  },
  {
   "cell_type": "code",
   "execution_count": 8,
   "id": "binding-cattle",
   "metadata": {},
   "outputs": [],
   "source": [
    "from hfc125_emimtf2n_PR import configuration "
   ]
  },
  {
   "cell_type": "code",
   "execution_count": 9,
   "id": "backed-diving",
   "metadata": {},
   "outputs": [
    {
     "name": "stdout",
     "output_type": "stream",
     "text": [
      "The initial DOF is 7\n"
     ]
    }
   ],
   "source": [
    "m = ConcreteModel()\n",
    "m.fs = FlowsheetBlock(default={\"dynamic\": False})\n",
    "m.fs.properties = GenericParameterBlock(default=configuration)\n",
    "m.fs.F101 = Flash(default={\"property_package\": m.fs.properties,\n",
    "                           \"has_heat_transfer\": True,\n",
    "                           \"has_pressure_change\": True})\n",
    "DOF_initial = degrees_of_freedom(m)\n",
    "print('The initial DOF is {0}'.format(DOF_initial))"
   ]
  },
  {
   "cell_type": "markdown",
   "id": "conventional-health",
   "metadata": {},
   "source": [
    "## Fit Parameters"
   ]
  },
  {
   "cell_type": "code",
   "execution_count": 10,
   "id": "sensitive-secondary",
   "metadata": {},
   "outputs": [
    {
     "name": "stdout",
     "output_type": "stream",
     "text": [
      "2022-11-22 13:21:34 [INFO] idaes.init.fs.state_block: Property package initialization: optimal - Optimal Solution Found.\n",
      "2022-11-22 13:21:35 [INFO] idaes.init.fs.state_block: Property package initialization: optimal - Optimal Solution Found.\n",
      "2022-11-22 13:21:35 [INFO] idaes.init.fs.state_block: Property package initialization: optimal - Optimal Solution Found.\n",
      "2022-11-22 13:21:36 [INFO] idaes.init.fs.state_block: Property package initialization: optimal - Optimal Solution Found.\n",
      "2022-11-22 13:21:36 [INFO] idaes.init.fs.state_block: Property package initialization: optimal - Optimal Solution Found.\n",
      "2022-11-22 13:21:37 [INFO] idaes.init.fs.state_block: Property package initialization: optimal - Optimal Solution Found.\n",
      "2022-11-22 13:21:37 [INFO] idaes.init.fs.state_block: Property package initialization: optimal - Optimal Solution Found.\n",
      "2022-11-22 13:21:37 [INFO] idaes.init.fs.state_block: Property package initialization: optimal - Optimal Solution Found.\n",
      "2022-11-22 13:21:38 [INFO] idaes.init.fs.state_block: Property package initialization: optimal - Optimal Solution Found.\n",
      "2022-11-22 13:21:38 [INFO] idaes.init.fs.state_block: Property package initialization: optimal - Optimal Solution Found.\n",
      "2022-11-22 13:21:39 [INFO] idaes.init.fs.state_block: Property package initialization: optimal - Optimal Solution Found.\n",
      "2022-11-22 13:21:39 [INFO] idaes.init.fs.state_block: Property package initialization: optimal - Optimal Solution Found.\n",
      "2022-11-22 13:21:39 [INFO] idaes.init.fs.state_block: Property package initialization: optimal - Optimal Solution Found.\n",
      "2022-11-22 13:21:40 [INFO] idaes.init.fs.state_block: Property package initialization: optimal - Optimal Solution Found.\n",
      "2022-11-22 13:21:40 [INFO] idaes.init.fs.state_block: Property package initialization: optimal - Optimal Solution Found.\n",
      "2022-11-22 13:21:41 [INFO] idaes.init.fs.state_block: Property package initialization: optimal - Optimal Solution Found.\n",
      "2022-11-22 13:21:41 [INFO] idaes.init.fs.state_block: Property package initialization: optimal - Optimal Solution Found.\n",
      "2022-11-22 13:21:41 [INFO] idaes.init.fs.state_block: Property package initialization: optimal - Optimal Solution Found.\n",
      "2022-11-22 13:21:42 [INFO] idaes.init.fs.state_block: Property package initialization: optimal - Optimal Solution Found.\n",
      "2022-11-22 13:21:42 [INFO] idaes.init.fs.state_block: Property package initialization: optimal - Optimal Solution Found.\n",
      "2022-11-22 13:21:43 [INFO] idaes.init.fs.state_block: Property package initialization: optimal - Optimal Solution Found.\n",
      "2022-11-22 13:21:43 [INFO] idaes.init.fs.state_block: Property package initialization: optimal - Optimal Solution Found.\n",
      "2022-11-22 13:21:44 [INFO] idaes.init.fs.state_block: Property package initialization: optimal - Optimal Solution Found.\n",
      "2022-11-22 13:21:44 [INFO] idaes.init.fs.state_block: Property package initialization: optimal - Optimal Solution Found.\n",
      "2022-11-22 13:21:44 [INFO] idaes.init.fs.state_block: Property package initialization: optimal - Optimal Solution Found.\n",
      "2022-11-22 13:21:45 [INFO] idaes.init.fs.state_block: Property package initialization: optimal - Optimal Solution Found.\n",
      "2022-11-22 13:21:45 [INFO] idaes.init.fs.state_block: Property package initialization: optimal - Optimal Solution Found.\n",
      "2022-11-22 13:21:45 [INFO] idaes.init.fs.state_block: Property package initialization: optimal - Optimal Solution Found.\n",
      "2022-11-22 13:21:46 [INFO] idaes.init.fs.state_block: Property package initialization: optimal - Optimal Solution Found.\n",
      "2022-11-22 13:21:46 [INFO] idaes.init.fs.state_block: Property package initialization: optimal - Optimal Solution Found.\n",
      "2022-11-22 13:21:47 [INFO] idaes.init.fs.state_block: Property package initialization: optimal - Optimal Solution Found.\n",
      "2022-11-22 13:21:47 [INFO] idaes.init.fs.state_block: Property package initialization: optimal - Optimal Solution Found.\n",
      "WARNING: The current pynumero_ASL library is version=2, but found version=1.\n",
      "    Please recompile / update your pynumero_ASL library.\n"
     ]
    },
    {
     "name": "stderr",
     "output_type": "stream",
     "text": [
      "/Users/bridgettebefort/opt/anaconda3/envs/idaes-pse-dev/lib/python3.9/site-packages/pyomo/contrib/interior_point/interface.py:418: RuntimeWarning: divide by zero encountered in true_divide\n",
      "  data = (duals_primals_lb/(primals - self._nlp.primals_lb()) +\n"
     ]
    }
   ],
   "source": [
    "parameters, obj_value, a = linear(data_subset, configuration, 'R125', 'emimTf2N', \"x_R125\", \"x_emimTf2N\", \n",
    "        init_temp =  283.1, init_press =   399300 , init_x_c1 =    0.448, init_x_c2 = 0.552,\n",
    "        init_kappa_2_1A = sc_param1, init_kappa_1_2A = sc_param2,\n",
    "        init_kappa_2_1B = sc_param3, init_kappa_1_2B = sc_param4, \n",
    "        eps = 0.1, scaling_fac = 1e-9, \n",
    "        filename='Data/Fits/Ipopt_Output/PR_linTdep_final.txt')"
   ]
  },
  {
   "cell_type": "code",
   "execution_count": 11,
   "id": "basic-preserve",
   "metadata": {},
   "outputs": [
    {
     "name": "stdout",
     "output_type": "stream",
     "text": [
      "Objective (SSE): 0.11735158519179448\n"
     ]
    }
   ],
   "source": [
    "print('Objective (SSE):',obj_value)"
   ]
  },
  {
   "cell_type": "code",
   "execution_count": 12,
   "id": "2329151d",
   "metadata": {},
   "outputs": [
    {
     "name": "stdout",
     "output_type": "stream",
     "text": [
      "Parameters: fs.properties.PR_kappa_A[R125,emimTf2N]   -0.052388\n",
      "fs.properties.PR_kappa_A[emimTf2N,R125]   -0.102865\n",
      "fs.properties.PR_kappa_B[R125,emimTf2N]    0.032664\n",
      "fs.properties.PR_kappa_B[emimTf2N,R125]    0.042199\n",
      "dtype: float64\n"
     ]
    }
   ],
   "source": [
    "print('Parameters:',parameters)"
   ]
  },
  {
   "cell_type": "code",
   "execution_count": 13,
   "id": "3700ef6d",
   "metadata": {},
   "outputs": [],
   "source": [
    "params2save = np.zeros(8)\n",
    "params2save[0] = parameters[0]\n",
    "params2save[1] = parameters[1]\n",
    "params2save[2] = parameters[2]\n",
    "params2save[3] = parameters[3]"
   ]
  },
  {
   "cell_type": "code",
   "execution_count": 14,
   "id": "f30c785a",
   "metadata": {},
   "outputs": [],
   "source": [
    "np.savetxt('Data/Fits/PR_params_linTdep.csv',params2save,delimiter=',')"
   ]
  },
  {
   "cell_type": "code",
   "execution_count": 15,
   "id": "governmental-nudist",
   "metadata": {},
   "outputs": [
    {
     "name": "stdout",
     "output_type": "stream",
     "text": [
      "Covariance Matrix:\n",
      "[[ 9.81317823e-05  8.11102893e-04 -9.07602970e-05 -7.76123043e-04]\n",
      " [ 8.11102893e-04  2.66089340e-02 -8.59875064e-04 -2.75275645e-02]\n",
      " [-9.07602970e-05 -8.59875064e-04  8.49454636e-05  8.37388072e-04]\n",
      " [-7.76123043e-04 -2.75275645e-02  8.37388072e-04  2.85755268e-02]]\n"
     ]
    }
   ],
   "source": [
    "cov = np.array(a)\n",
    "print('Covariance Matrix:')\n",
    "print(cov)"
   ]
  },
  {
   "cell_type": "code",
   "execution_count": 16,
   "id": "c4328a0b",
   "metadata": {},
   "outputs": [],
   "source": [
    "np.savetxt('Data/Covariance/PR_Cov_linTdep.csv',cov,delimiter=',')"
   ]
  },
  {
   "cell_type": "markdown",
   "id": "aging-authentication",
   "metadata": {},
   "source": [
    "## Apply Parameters + Plot"
   ]
  },
  {
   "cell_type": "code",
   "execution_count": 17,
   "id": "endangered-gibraltar",
   "metadata": {},
   "outputs": [],
   "source": [
    "solver = SolverFactory('ipopt')\n",
    "solver.options = {'tol': 1e-6}"
   ]
  },
  {
   "cell_type": "code",
   "execution_count": 18,
   "id": "royal-switch",
   "metadata": {},
   "outputs": [
    {
     "name": "stdout",
     "output_type": "stream",
     "text": [
      "i: 0\n",
      "Try x_IL: 0.915\n",
      "Feasible/Optimal Solution\n",
      "i: 1\n",
      "Try x_IL: 0.832\n",
      "Feasible/Optimal Solution\n",
      "i: 2\n",
      "Try x_IL: 0.75\n",
      "Feasible/Optimal Solution\n",
      "i: 3\n",
      "Try x_IL: 0.669\n",
      "Feasible/Optimal Solution\n",
      "i: 4\n",
      "Try x_IL: 0.587\n",
      "Feasible/Optimal Solution\n",
      "i: 5\n",
      "Try x_IL: 0.504\n",
      "Feasible/Optimal Solution\n",
      "i: 6\n",
      "Try x_IL: 0.417\n",
      "Feasible/Optimal Solution\n",
      "i: 7\n",
      "Try x_IL: 0.319\n",
      "Feasible/Optimal Solution\n",
      "i: 8\n",
      "Try x_IL: 0.945\n",
      "Feasible/Optimal Solution\n",
      "i: 9\n",
      "Try x_IL: 0.891\n",
      "Feasible/Optimal Solution\n",
      "i: 10\n",
      "Try x_IL: 0.839\n",
      "Feasible/Optimal Solution\n",
      "i: 11\n",
      "Try x_IL: 0.787\n",
      "Feasible/Optimal Solution\n",
      "i: 12\n",
      "Try x_IL: 0.733\n",
      "Feasible/Optimal Solution\n",
      "i: 13\n",
      "Try x_IL: 0.683\n",
      "Feasible/Optimal Solution\n",
      "i: 14\n",
      "Try x_IL: 0.578\n",
      "Feasible/Optimal Solution\n",
      "i: 15\n",
      "Try x_IL: 0.479\n",
      "Feasible/Optimal Solution\n",
      "i: 16\n",
      "Try x_IL: 0.97\n",
      "Feasible/Optimal Solution\n",
      "i: 17\n",
      "Try x_IL: 0.941\n",
      "Feasible/Optimal Solution\n",
      "i: 18\n",
      "Try x_IL: 0.912\n",
      "Feasible/Optimal Solution\n",
      "i: 19\n",
      "Try x_IL: 0.883\n",
      "Feasible/Optimal Solution\n",
      "i: 20\n",
      "Try x_IL: 0.848\n",
      "Feasible/Optimal Solution\n",
      "i: 21\n",
      "Try x_IL: 0.824\n",
      "Feasible/Optimal Solution\n",
      "i: 22\n",
      "Try x_IL: 0.772\n",
      "Feasible/Optimal Solution\n",
      "i: 23\n",
      "Try x_IL: 0.715\n",
      "Feasible/Optimal Solution\n",
      "i: 24\n",
      "Try x_IL: 0.982\n",
      "Feasible/Optimal Solution\n",
      "i: 25\n",
      "Try x_IL: 0.966\n",
      "Feasible/Optimal Solution\n",
      "i: 26\n",
      "Try x_IL: 0.95\n",
      "Feasible/Optimal Solution\n",
      "i: 27\n",
      "Try x_IL: 0.926\n",
      "Feasible/Optimal Solution\n",
      "i: 28\n",
      "Try x_IL: 0.903\n",
      "Feasible/Optimal Solution\n",
      "i: 29\n",
      "Try x_IL: 0.895\n",
      "Feasible/Optimal Solution\n",
      "i: 30\n",
      "Try x_IL: 0.86\n",
      "Feasible/Optimal Solution\n",
      "i: 31\n",
      "Try x_IL: 0.829\n",
      "Feasible/Optimal Solution\n"
     ]
    }
   ],
   "source": [
    "m = ConcreteModel()\n",
    "\n",
    "m.fs = FlowsheetBlock(default={\"dynamic\": False})\n",
    "\n",
    "m.fs.properties = GenericParameterBlock(default=configuration)\n",
    "\n",
    "m.fs.F101 = Flash(default={\"property_package\": m.fs.properties,\n",
    "                           \"has_heat_transfer\": True,\n",
    "                           \"has_pressure_change\": True})\n",
    "\n",
    "m.fs.F101.inlet.flow_mol.fix(1)\n",
    "m.fs.F101.inlet.temperature.fix(323.15)\n",
    "m.fs.F101.inlet.pressure.fix(399800)\n",
    "m.fs.F101.inlet.mole_frac_comp[0,'R125'].fix(0.5)\n",
    "\n",
    "m.fs.properties.PR_kappa_A['R125','emimTf2N'] = parameters['fs.properties.PR_kappa_A[R125,emimTf2N]']\n",
    "m.fs.properties.PR_kappa_A['emimTf2N','R125'] = parameters['fs.properties.PR_kappa_A[emimTf2N,R125]']\n",
    "m.fs.properties.PR_kappa_B['R125','emimTf2N'] = parameters['fs.properties.PR_kappa_B[R125,emimTf2N]']\n",
    "m.fs.properties.PR_kappa_B['emimTf2N','R125'] = parameters['fs.properties.PR_kappa_B[emimTf2N,R125]']\n",
    "\n",
    "# Initialize the flash unit\n",
    "m.fs.F101.initialize(outlvl=idaeslog.CRITICAL)\n",
    "\n",
    "# Fix the state variables on the state block\n",
    "# m.fs.F101.inlet.pressure.unfix()\n",
    "m.fs.F101.inlet.mole_frac_comp[0,'emimTf2N'].unfix()\n",
    "\n",
    "R125_x = np.zeros((len(data_subset)))\n",
    "P = np.zeros((len(data_subset)))\n",
    "T = np.zeros((len(data_subset)))\n",
    "\n",
    "m.fs.liq = Param(mutable=True,default=0.040)\n",
    "m.fs.liquid = Constraint(expr=m.fs.F101.liq_outlet.mole_frac_comp[0, \"emimTf2N\"] == m.fs.liq)\n",
    "\n",
    "for i in range(len(data_subset)):\n",
    "    print('i:',i)\n",
    "    print('Try x_IL:',data_subset[\"x_emimTf2N\"].iloc[i])\n",
    "    m.fs.liq = data_subset[\"x_emimTf2N\"].iloc[i]\n",
    "    m.fs.F101.inlet.temperature.fix(float(data_subset[\"temperature\"].iloc[i]))\n",
    "    m.fs.F101.inlet.pressure.fix(float(data_subset[\"pressure\"].iloc[i]))\n",
    "    m.fs.F101.inlet.mole_frac_comp[0,'R125'].fix(float(data_subset[\"x_R125\"].iloc[i])+0.1)\n",
    "    m.fs.F101.inlet.mole_frac_comp[0,'emimTf2N'].fix(float(1-(data_subset[\"x_R125\"].iloc[i]+0.1)))\n",
    "    m.fs.F101.vap_outlet.temperature.fix(float(data_subset[\"temperature\"].iloc[i]))\n",
    "    \n",
    "    try:\n",
    "        m.fs.F101.initialize(outlvl=idaeslog.CRITICAL)\n",
    "        \n",
    "    except:\n",
    "        print('Initialization Error')\n",
    "        \n",
    "    try:\n",
    "\n",
    "        status = solver.solve(m, tee = False)\n",
    "        \n",
    "        if (status.solver.status == SolverStatus.ok) and (status.solver.termination_condition == TerminationCondition.optimal):\n",
    "            print('Feasible/Optimal Solution')\n",
    "            R125_x[i] = value(m.fs.F101.liq_outlet.mole_frac_comp[0,'R125']) \n",
    "            P[i] = value(m.fs.F101.vap_outlet.pressure[0])\n",
    "            T[i] = data_subset[\"temperature\"].iloc[i]\n",
    "        else:\n",
    "            print('Infeasible Solution')\n",
    "            R125_x[i] = np.nan\n",
    "            P[i] = np.nan\n",
    "            T[i] = data_subset[\"temperature\"].iloc[i]\n",
    "            \n",
    "    except ValueError:\n",
    "        R125_x[i] = np.nan\n",
    "        P[i] = np.nan\n",
    "        T[i] = data_subset[\"temperature\"].iloc[i]\n",
    "        print('Solver Error')"
   ]
  },
  {
   "cell_type": "code",
   "execution_count": 19,
   "id": "a03e6af1",
   "metadata": {},
   "outputs": [],
   "source": [
    "fitted_data = pd.DataFrame(data=[R125_x,P/1e6,T])\n",
    "fitted_data = fitted_data.T\n",
    "fitted_data.columns = ['R125_x','P, MPa','T, K']\n",
    "fitted_data.to_csv('Data/Fits/PR_FittedData_linTdep_subset.csv')"
   ]
  },
  {
   "cell_type": "code",
   "execution_count": null,
   "id": "c53672a6",
   "metadata": {},
   "outputs": [],
   "source": [
    "# fitted_data = pd.DataFrame(data=[R125_x,P/1e6,T])\n",
    "# fitted_data = fitted_data.T\n",
    "# fitted_data.columns = ['R125_x','P, MPa','T, K']\n",
    "# fitted_data.to_csv('Data/Fits/PR_FittedData_linTdep.csv')"
   ]
  },
  {
   "cell_type": "code",
   "execution_count": null,
   "id": "religious-joining",
   "metadata": {},
   "outputs": [],
   "source": [
    "plt.plot(fitted_data.where(fitted_data['T, K']==283.1)['R125_x'],fitted_data.where(fitted_data['T, K']==283.1)['P, MPa'],\"b-\",label='T=283 K')\n",
    "plt.plot(fitted_data.where(fitted_data['T, K']==298.1)['R125_x'],fitted_data.where(fitted_data['T, K']==298.1)['P, MPa'],\"r-\",label='T=298 K')\n",
    "plt.plot(fitted_data.where(fitted_data['T, K']==323.1)['R125_x'],fitted_data.where(fitted_data['T, K']==323.1)['P, MPa'],\"c-\",label='T=323 K')\n",
    "plt.plot(fitted_data.where(fitted_data['T, K']==348.1)['R125_x'],fitted_data.where(fitted_data['T, K']==348.1)['P, MPa'],\"m-\",label='T=348 K')\n",
    "plt.plot(data_full[\"x_R125\"],data_full[\"pressure\"]/1e6,\"*\",color='orange',label=\"data\")  \n",
    "plt.title('Isotherm R125-[emim][TF2N]')\n",
    "plt.ylabel('Pressure (MPa)')\n",
    "plt.xlabel('x R125')\n",
    "plt.grid(True)\n",
    "plt.ylim(0,1.110000)\n",
    "plt.legend()\n",
    "plt.show()"
   ]
  },
  {
   "cell_type": "markdown",
   "id": "vanilla-chapel",
   "metadata": {},
   "source": [
    "### Print Eigvals, Eigvectors\n",
    "\n",
    "An identifiability analysis can be performed with these as well as a FIM because the covariance matrix is the inverse of the FIM. That means that if there are any eigvals > 0, their eigvecs indicate directions of un-identifiability."
   ]
  },
  {
   "cell_type": "code",
   "execution_count": null,
   "id": "focused-rotation",
   "metadata": {},
   "outputs": [],
   "source": [
    "eigvals, eigvecs = np.linalg.eig(cov)"
   ]
  },
  {
   "cell_type": "code",
   "execution_count": null,
   "id": "indie-eclipse",
   "metadata": {},
   "outputs": [],
   "source": [
    "eigvals"
   ]
  },
  {
   "cell_type": "code",
   "execution_count": null,
   "id": "lightweight-october",
   "metadata": {},
   "outputs": [],
   "source": [
    "eigvecs"
   ]
  },
  {
   "cell_type": "code",
   "execution_count": null,
   "id": "b4e31cab",
   "metadata": {},
   "outputs": [],
   "source": [
    "np.savetxt('Data/EigenAnalysis/PR_vals_linTdep.csv',eigvals,delimiter=',')\n",
    "np.savetxt('Data/EigenAnalysis/PR_vecs_linTdep.csv',eigvecs,delimiter=',')"
   ]
  },
  {
   "cell_type": "code",
   "execution_count": null,
   "id": "3474a45c",
   "metadata": {},
   "outputs": [],
   "source": [
    "FIM = np.linalg.inv(cov) \n",
    "\n",
    "#A_opt\n",
    "FIM_trace = np.trace(FIM)\n",
    "cov_trace = np.trace(cov)\n",
    "\n",
    "#D_opt\n",
    "FIM_det = np.linalg.det(FIM)\n",
    "\n",
    "#E_opt\n",
    "eigvals_FIM, eigvecs_FIM = np.linalg.eig(FIM)\n",
    "eigvals_FIM_min = eigvals_FIM.min()\n",
    "eigvals_FIM_max = eigvals_FIM.max()\n",
    "\n",
    "np.savetxt('Data/EigenAnalysis/PR_FIMtrdet_linTdep.csv',[cov_trace,FIM_trace,FIM_det,eigvals_FIM_min,eigvals_FIM_max])\n",
    "np.savetxt('Data/EigenAnalysis/PR_FIMvals_linTdep.csv',eigvals_FIM,delimiter=',')\n",
    "np.savetxt('Data/EigenAnalysis/PR_FIMvecs_linTdep.csv',eigvecs_FIM,delimiter=',')"
   ]
  },
  {
   "cell_type": "markdown",
   "id": "suited-substance",
   "metadata": {},
   "source": [
    "## AIC Value\n",
    "\n",
    "See: https://doi.org/10.1080/21642583.2018.1496042\n",
    "\n",
    "AIC(k) = Nln(MSE(k))+2k\n",
    "\n",
    "N: number of data points\n",
    "\n",
    "MSE(k): mean squared error of the model with k parameters\n",
    "\n",
    "k: number of parameters\n",
    "\n",
    "MSE(k) = SSE(k)/N\n",
    "\n",
    "SSE: sum of squared error of the model with k parameters"
   ]
  },
  {
   "cell_type": "code",
   "execution_count": null,
   "id": "9336291c",
   "metadata": {},
   "outputs": [],
   "source": [
    "#number of datapoints\n",
    "N = len(data_subset)\n",
    "#MSE(k)\n",
    "MSE = obj_value/N\n",
    "#number of parameters\n",
    "k = 4"
   ]
  },
  {
   "cell_type": "code",
   "execution_count": null,
   "id": "finite-pacific",
   "metadata": {},
   "outputs": [],
   "source": [
    "AIC = N*np.log(MSE) + 2*k\n",
    "AIC"
   ]
  },
  {
   "cell_type": "code",
   "execution_count": null,
   "id": "casual-princess",
   "metadata": {},
   "outputs": [],
   "source": [
    "AIC_data = pd.DataFrame(data=[N,MSE,k,obj_value,AIC])\n",
    "AIC_data = AIC_data.T\n",
    "AIC_data.columns = ['N','MSE','k','Objective, Pa^2','AIC']\n",
    "AIC_data.to_csv('Data/AIC/PR_AIC_linTdep.csv')"
   ]
  },
  {
   "cell_type": "code",
   "execution_count": null,
   "id": "8d5bb1c5",
   "metadata": {},
   "outputs": [],
   "source": []
  }
 ],
 "metadata": {
  "kernelspec": {
   "display_name": "Python 3 (ipykernel)",
   "language": "python",
   "name": "python3"
  },
  "language_info": {
   "codemirror_mode": {
    "name": "ipython",
    "version": 3
   },
   "file_extension": ".py",
   "mimetype": "text/x-python",
   "name": "python",
   "nbconvert_exporter": "python",
   "pygments_lexer": "ipython3",
   "version": "3.9.9"
  }
 },
 "nbformat": 4,
 "nbformat_minor": 5
}
