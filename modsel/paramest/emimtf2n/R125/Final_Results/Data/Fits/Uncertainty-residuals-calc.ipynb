{
 "cells": [
  {
   "cell_type": "markdown",
   "id": "9f939027",
   "metadata": {},
   "source": [
    "# R125/emimTF2N"
   ]
  },
  {
   "cell_type": "code",
   "execution_count": 1,
   "id": "6b7787aa",
   "metadata": {},
   "outputs": [],
   "source": [
    "import pandas as pd\n",
    "import numpy as np\n",
    "\n",
    "import sys\n",
    "sys.path.append('../../../')"
   ]
  },
  {
   "cell_type": "code",
   "execution_count": 2,
   "id": "8d414493",
   "metadata": {},
   "outputs": [],
   "source": [
    "data_subset = pd.read_csv('../../../r125_emimtf2n_subset.csv')\n",
    "data_model_subset = pd.read_csv('PR_FittedData_linTdep_subset.csv')"
   ]
  },
  {
   "cell_type": "code",
   "execution_count": 3,
   "id": "32689979",
   "metadata": {},
   "outputs": [],
   "source": [
    "residuals = (data_subset['pressure']/1E6 - data_model_subset['P, MPa'])**2"
   ]
  },
  {
   "cell_type": "code",
   "execution_count": 4,
   "id": "013decec",
   "metadata": {},
   "outputs": [],
   "source": [
    "#sigma calc\n",
    "n = len(data_subset) #number of data points\n",
    "p = 4 #number of parameters\n",
    "\n",
    "sigma_squared = np.matmul(residuals.T,residuals)/(n-p)"
   ]
  },
  {
   "cell_type": "code",
   "execution_count": 5,
   "id": "79a4b7ca",
   "metadata": {},
   "outputs": [
    {
     "name": "stdout",
     "output_type": "stream",
     "text": [
      "Sigma^2 =  1.2511693644269783e-07\n"
     ]
    }
   ],
   "source": [
    "print('Sigma^2 = ',sigma_squared)"
   ]
  },
  {
   "cell_type": "code",
   "execution_count": null,
   "id": "a41fb6f6",
   "metadata": {},
   "outputs": [],
   "source": []
  }
 ],
 "metadata": {
  "kernelspec": {
   "display_name": "Python 3 (ipykernel)",
   "language": "python",
   "name": "python3"
  },
  "language_info": {
   "codemirror_mode": {
    "name": "ipython",
    "version": 3
   },
   "file_extension": ".py",
   "mimetype": "text/x-python",
   "name": "python",
   "nbconvert_exporter": "python",
   "pygments_lexer": "ipython3",
   "version": "3.9.9"
  }
 },
 "nbformat": 4,
 "nbformat_minor": 5
}
