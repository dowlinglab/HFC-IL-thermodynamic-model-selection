{
 "cells": [
  {
   "cell_type": "markdown",
   "id": "instructional-learning",
   "metadata": {},
   "source": [
    "# Fit emimTF2N data\n",
    "\n",
    "EoS: PR\n",
    "\n",
    "Parameter T dependence: Quadratic\n",
    "\n",
    "N (total fitting parameters): 6"
   ]
  },
  {
   "cell_type": "markdown",
   "id": "extended-rabbit",
   "metadata": {},
   "source": [
    "## Import Functions"
   ]
  },
  {
   "cell_type": "code",
   "execution_count": 1,
   "id": "complicated-toronto",
   "metadata": {},
   "outputs": [],
   "source": [
    "import idaes\n",
    "\n",
    "import pandas as pd\n",
    "import numpy as np\n",
    "import matplotlib.pyplot as plt\n",
    "import scipy.optimize\n",
    "\n",
    "import sys\n",
    "sys.path.append('../../../')\n",
    "\n",
    "from pyomo.environ import (Constraint,\n",
    "                           Var,\n",
    "                           ConcreteModel,\n",
    "                           Expression,\n",
    "                           Param,\n",
    "                           Objective,\n",
    "                           SolverFactory,\n",
    "                           TransformationFactory,\n",
    "                           value)\n",
    "from pyomo.opt import TerminationCondition, SolverStatus\n",
    "\n",
    "from idaes.core import FlowsheetBlock\n",
    "import idaes.logger as idaeslog\n",
    "# Import the Generic Parameter Block\n",
    "from idaes.generic_models.properties.core.generic.generic_property import (\n",
    "        GenericParameterBlock)\n",
    "# Import unit models from the model library\n",
    "from idaes.generic_models.unit_models import Flash\n",
    "# Import degrees of freedom tool\n",
    "from idaes.core.util.model_statistics import degrees_of_freedom\n",
    "\n",
    "# parmest (binary_param2)\n",
    "from bip_fitting_functions import cuadratic\n",
    "\n",
    "import scipy.stats as stats"
   ]
  },
  {
   "cell_type": "markdown",
   "id": "potential-awareness",
   "metadata": {},
   "source": [
    "## Load Data"
   ]
  },
  {
   "cell_type": "code",
   "execution_count": 2,
   "id": "latest-artist",
   "metadata": {},
   "outputs": [],
   "source": [
    "data_full = pd.read_csv('../r125_emimtf2n_full.csv')\n",
    "data_subset = pd.read_csv('../r125_emimtf2n_subset.csv')\n",
    "data_extended = pd.read_csv('../r125-emimtf2n-extended.csv')"
   ]
  },
  {
   "cell_type": "markdown",
   "id": "superior-attendance",
   "metadata": {},
   "source": [
    "## Load Configuration + Check DOF + Load Parameters"
   ]
  },
  {
   "cell_type": "code",
   "execution_count": 3,
   "id": "ef6ce1f2",
   "metadata": {},
   "outputs": [],
   "source": [
    "lhs_results1 = pd.read_csv('../Data/Fits/LHS_Fits/PR_quadTdep_LHS.csv',index_col=0)\n",
    "lhs_results1 = lhs_results1[['sc_param1','sc_param2','sc_param3','sc_param4','sc_param5','sc_param6','SSR']]\n",
    "lhs_results2 = pd.read_csv('Data/Init_Final/LHS_Output/PR_quadTdep_LHS_final.csv',index_col=0)\n",
    "lhs_results2 = lhs_results2[['sc_param1','sc_param2','sc_param3','sc_param4','sc_param5','sc_param6','SSR']]"
   ]
  },
  {
   "cell_type": "code",
   "execution_count": 4,
   "id": "bf25cbd9",
   "metadata": {},
   "outputs": [],
   "source": [
    "lhs_results = pd.concat([lhs_results1,lhs_results2],axis=0).reset_index(drop=True)"
   ]
  },
  {
   "cell_type": "code",
   "execution_count": 5,
   "id": "cb16b5c7",
   "metadata": {},
   "outputs": [
    {
     "data": {
      "text/html": [
       "<div>\n",
       "<style scoped>\n",
       "    .dataframe tbody tr th:only-of-type {\n",
       "        vertical-align: middle;\n",
       "    }\n",
       "\n",
       "    .dataframe tbody tr th {\n",
       "        vertical-align: top;\n",
       "    }\n",
       "\n",
       "    .dataframe thead th {\n",
       "        text-align: right;\n",
       "    }\n",
       "</style>\n",
       "<table border=\"1\" class=\"dataframe\">\n",
       "  <thead>\n",
       "    <tr style=\"text-align: right;\">\n",
       "      <th></th>\n",
       "      <th>sc_param1</th>\n",
       "      <th>sc_param2</th>\n",
       "      <th>sc_param3</th>\n",
       "      <th>sc_param4</th>\n",
       "      <th>sc_param5</th>\n",
       "      <th>sc_param6</th>\n",
       "      <th>SSR</th>\n",
       "    </tr>\n",
       "  </thead>\n",
       "  <tbody>\n",
       "    <tr>\n",
       "      <th>11</th>\n",
       "      <td>-0.932453</td>\n",
       "      <td>-0.459271</td>\n",
       "      <td>-0.911759</td>\n",
       "      <td>-0.513797</td>\n",
       "      <td>0.692297</td>\n",
       "      <td>0.936531</td>\n",
       "      <td>11.317269</td>\n",
       "    </tr>\n",
       "    <tr>\n",
       "      <th>227</th>\n",
       "      <td>0.140683</td>\n",
       "      <td>-0.506367</td>\n",
       "      <td>-0.463518</td>\n",
       "      <td>0.552634</td>\n",
       "      <td>0.371398</td>\n",
       "      <td>-0.011327</td>\n",
       "      <td>11.317269</td>\n",
       "    </tr>\n",
       "    <tr>\n",
       "      <th>317</th>\n",
       "      <td>-0.287150</td>\n",
       "      <td>-1.549336</td>\n",
       "      <td>-1.177858</td>\n",
       "      <td>-0.571437</td>\n",
       "      <td>0.740480</td>\n",
       "      <td>1.468091</td>\n",
       "      <td>5053.244800</td>\n",
       "    </tr>\n",
       "    <tr>\n",
       "      <th>777</th>\n",
       "      <td>-1.416031</td>\n",
       "      <td>-1.550567</td>\n",
       "      <td>-0.251962</td>\n",
       "      <td>-0.119530</td>\n",
       "      <td>1.175178</td>\n",
       "      <td>1.663826</td>\n",
       "      <td>1758.237809</td>\n",
       "    </tr>\n",
       "    <tr>\n",
       "      <th>1041</th>\n",
       "      <td>-1.773214</td>\n",
       "      <td>-1.330504</td>\n",
       "      <td>-0.322407</td>\n",
       "      <td>-0.503838</td>\n",
       "      <td>0.674388</td>\n",
       "      <td>1.898514</td>\n",
       "      <td>11.317269</td>\n",
       "    </tr>\n",
       "    <tr>\n",
       "      <th>1148</th>\n",
       "      <td>-0.009158</td>\n",
       "      <td>-1.450230</td>\n",
       "      <td>-1.394972</td>\n",
       "      <td>1.209682</td>\n",
       "      <td>-1.639140</td>\n",
       "      <td>0.197456</td>\n",
       "      <td>11.317269</td>\n",
       "    </tr>\n",
       "    <tr>\n",
       "      <th>1255</th>\n",
       "      <td>-1.450291</td>\n",
       "      <td>-1.289904</td>\n",
       "      <td>1.465798</td>\n",
       "      <td>1.675292</td>\n",
       "      <td>0.427188</td>\n",
       "      <td>-0.674721</td>\n",
       "      <td>234.245233</td>\n",
       "    </tr>\n",
       "    <tr>\n",
       "      <th>1510</th>\n",
       "      <td>-1.644923</td>\n",
       "      <td>-1.195560</td>\n",
       "      <td>0.502120</td>\n",
       "      <td>0.238762</td>\n",
       "      <td>-0.607318</td>\n",
       "      <td>0.786893</td>\n",
       "      <td>3237.162013</td>\n",
       "    </tr>\n",
       "    <tr>\n",
       "      <th>1751</th>\n",
       "      <td>-0.496796</td>\n",
       "      <td>0.589789</td>\n",
       "      <td>0.292200</td>\n",
       "      <td>-1.622518</td>\n",
       "      <td>-0.059634</td>\n",
       "      <td>1.001379</td>\n",
       "      <td>11.317267</td>\n",
       "    </tr>\n",
       "    <tr>\n",
       "      <th>1806</th>\n",
       "      <td>-1.955602</td>\n",
       "      <td>-1.210803</td>\n",
       "      <td>1.545365</td>\n",
       "      <td>-1.850051</td>\n",
       "      <td>-0.423649</td>\n",
       "      <td>1.731783</td>\n",
       "      <td>2832.394749</td>\n",
       "    </tr>\n",
       "    <tr>\n",
       "      <th>1809</th>\n",
       "      <td>0.566993</td>\n",
       "      <td>-0.951085</td>\n",
       "      <td>-1.315314</td>\n",
       "      <td>-0.611164</td>\n",
       "      <td>-0.990208</td>\n",
       "      <td>1.563275</td>\n",
       "      <td>11.317269</td>\n",
       "    </tr>\n",
       "    <tr>\n",
       "      <th>2179</th>\n",
       "      <td>0.959440</td>\n",
       "      <td>0.366436</td>\n",
       "      <td>-0.987365</td>\n",
       "      <td>-1.025320</td>\n",
       "      <td>-1.082544</td>\n",
       "      <td>0.595059</td>\n",
       "      <td>11.322266</td>\n",
       "    </tr>\n",
       "    <tr>\n",
       "      <th>2282</th>\n",
       "      <td>0.160756</td>\n",
       "      <td>-1.655440</td>\n",
       "      <td>-1.674642</td>\n",
       "      <td>1.138236</td>\n",
       "      <td>0.760883</td>\n",
       "      <td>0.548013</td>\n",
       "      <td>11.317269</td>\n",
       "    </tr>\n",
       "    <tr>\n",
       "      <th>2556</th>\n",
       "      <td>-0.777587</td>\n",
       "      <td>-1.914308</td>\n",
       "      <td>-1.631356</td>\n",
       "      <td>1.398157</td>\n",
       "      <td>0.889419</td>\n",
       "      <td>0.564050</td>\n",
       "      <td>11.317269</td>\n",
       "    </tr>\n",
       "    <tr>\n",
       "      <th>2838</th>\n",
       "      <td>-1.649173</td>\n",
       "      <td>-1.740378</td>\n",
       "      <td>-0.801502</td>\n",
       "      <td>1.067077</td>\n",
       "      <td>1.447060</td>\n",
       "      <td>0.671529</td>\n",
       "      <td>11.317269</td>\n",
       "    </tr>\n",
       "    <tr>\n",
       "      <th>3245</th>\n",
       "      <td>-1.074393</td>\n",
       "      <td>-1.595788</td>\n",
       "      <td>-0.745885</td>\n",
       "      <td>-0.279509</td>\n",
       "      <td>-0.101554</td>\n",
       "      <td>1.976194</td>\n",
       "      <td>11.317269</td>\n",
       "    </tr>\n",
       "    <tr>\n",
       "      <th>3356</th>\n",
       "      <td>-1.166421</td>\n",
       "      <td>-1.090785</td>\n",
       "      <td>0.664832</td>\n",
       "      <td>-0.610357</td>\n",
       "      <td>-0.904962</td>\n",
       "      <td>1.750159</td>\n",
       "      <td>11.317269</td>\n",
       "    </tr>\n",
       "    <tr>\n",
       "      <th>3379</th>\n",
       "      <td>0.011967</td>\n",
       "      <td>-0.615975</td>\n",
       "      <td>-0.538972</td>\n",
       "      <td>-0.009636</td>\n",
       "      <td>-0.600811</td>\n",
       "      <td>0.636935</td>\n",
       "      <td>11.317269</td>\n",
       "    </tr>\n",
       "    <tr>\n",
       "      <th>3419</th>\n",
       "      <td>-0.121737</td>\n",
       "      <td>-1.526025</td>\n",
       "      <td>-0.263526</td>\n",
       "      <td>0.248538</td>\n",
       "      <td>-0.317789</td>\n",
       "      <td>1.097153</td>\n",
       "      <td>4042.583388</td>\n",
       "    </tr>\n",
       "    <tr>\n",
       "      <th>3429</th>\n",
       "      <td>-1.042145</td>\n",
       "      <td>-0.035142</td>\n",
       "      <td>0.521893</td>\n",
       "      <td>-1.604445</td>\n",
       "      <td>0.052254</td>\n",
       "      <td>1.676846</td>\n",
       "      <td>11.317269</td>\n",
       "    </tr>\n",
       "    <tr>\n",
       "      <th>3446</th>\n",
       "      <td>-1.123173</td>\n",
       "      <td>-1.790506</td>\n",
       "      <td>-1.308630</td>\n",
       "      <td>1.606775</td>\n",
       "      <td>1.880680</td>\n",
       "      <td>0.159922</td>\n",
       "      <td>1513.826194</td>\n",
       "    </tr>\n",
       "    <tr>\n",
       "      <th>3759</th>\n",
       "      <td>-1.620993</td>\n",
       "      <td>-0.600077</td>\n",
       "      <td>-1.087049</td>\n",
       "      <td>-1.431569</td>\n",
       "      <td>1.133974</td>\n",
       "      <td>1.746051</td>\n",
       "      <td>4232.044096</td>\n",
       "    </tr>\n",
       "    <tr>\n",
       "      <th>3850</th>\n",
       "      <td>-1.861880</td>\n",
       "      <td>-0.256101</td>\n",
       "      <td>1.262772</td>\n",
       "      <td>0.470554</td>\n",
       "      <td>0.317778</td>\n",
       "      <td>-0.298283</td>\n",
       "      <td>6399.820920</td>\n",
       "    </tr>\n",
       "    <tr>\n",
       "      <th>3983</th>\n",
       "      <td>0.711122</td>\n",
       "      <td>0.175527</td>\n",
       "      <td>-0.938228</td>\n",
       "      <td>-1.881777</td>\n",
       "      <td>-1.441844</td>\n",
       "      <td>1.679764</td>\n",
       "      <td>11.317269</td>\n",
       "    </tr>\n",
       "    <tr>\n",
       "      <th>4373</th>\n",
       "      <td>-0.171374</td>\n",
       "      <td>-1.721584</td>\n",
       "      <td>-1.605580</td>\n",
       "      <td>-0.349570</td>\n",
       "      <td>0.645276</td>\n",
       "      <td>1.630075</td>\n",
       "      <td>3718.572890</td>\n",
       "    </tr>\n",
       "    <tr>\n",
       "      <th>4619</th>\n",
       "      <td>-1.799640</td>\n",
       "      <td>-1.828068</td>\n",
       "      <td>1.433889</td>\n",
       "      <td>1.657194</td>\n",
       "      <td>-1.425321</td>\n",
       "      <td>-0.036264</td>\n",
       "      <td>975.125121</td>\n",
       "    </tr>\n",
       "    <tr>\n",
       "      <th>5123</th>\n",
       "      <td>-1.816478</td>\n",
       "      <td>-1.817083</td>\n",
       "      <td>1.728598</td>\n",
       "      <td>1.226059</td>\n",
       "      <td>-0.281781</td>\n",
       "      <td>0.515963</td>\n",
       "      <td>1719.762631</td>\n",
       "    </tr>\n",
       "  </tbody>\n",
       "</table>\n",
       "</div>"
      ],
      "text/plain": [
       "      sc_param1  sc_param2  sc_param3  sc_param4  sc_param5  sc_param6  \\\n",
       "11    -0.932453  -0.459271  -0.911759  -0.513797   0.692297   0.936531   \n",
       "227    0.140683  -0.506367  -0.463518   0.552634   0.371398  -0.011327   \n",
       "317   -0.287150  -1.549336  -1.177858  -0.571437   0.740480   1.468091   \n",
       "777   -1.416031  -1.550567  -0.251962  -0.119530   1.175178   1.663826   \n",
       "1041  -1.773214  -1.330504  -0.322407  -0.503838   0.674388   1.898514   \n",
       "1148  -0.009158  -1.450230  -1.394972   1.209682  -1.639140   0.197456   \n",
       "1255  -1.450291  -1.289904   1.465798   1.675292   0.427188  -0.674721   \n",
       "1510  -1.644923  -1.195560   0.502120   0.238762  -0.607318   0.786893   \n",
       "1751  -0.496796   0.589789   0.292200  -1.622518  -0.059634   1.001379   \n",
       "1806  -1.955602  -1.210803   1.545365  -1.850051  -0.423649   1.731783   \n",
       "1809   0.566993  -0.951085  -1.315314  -0.611164  -0.990208   1.563275   \n",
       "2179   0.959440   0.366436  -0.987365  -1.025320  -1.082544   0.595059   \n",
       "2282   0.160756  -1.655440  -1.674642   1.138236   0.760883   0.548013   \n",
       "2556  -0.777587  -1.914308  -1.631356   1.398157   0.889419   0.564050   \n",
       "2838  -1.649173  -1.740378  -0.801502   1.067077   1.447060   0.671529   \n",
       "3245  -1.074393  -1.595788  -0.745885  -0.279509  -0.101554   1.976194   \n",
       "3356  -1.166421  -1.090785   0.664832  -0.610357  -0.904962   1.750159   \n",
       "3379   0.011967  -0.615975  -0.538972  -0.009636  -0.600811   0.636935   \n",
       "3419  -0.121737  -1.526025  -0.263526   0.248538  -0.317789   1.097153   \n",
       "3429  -1.042145  -0.035142   0.521893  -1.604445   0.052254   1.676846   \n",
       "3446  -1.123173  -1.790506  -1.308630   1.606775   1.880680   0.159922   \n",
       "3759  -1.620993  -0.600077  -1.087049  -1.431569   1.133974   1.746051   \n",
       "3850  -1.861880  -0.256101   1.262772   0.470554   0.317778  -0.298283   \n",
       "3983   0.711122   0.175527  -0.938228  -1.881777  -1.441844   1.679764   \n",
       "4373  -0.171374  -1.721584  -1.605580  -0.349570   0.645276   1.630075   \n",
       "4619  -1.799640  -1.828068   1.433889   1.657194  -1.425321  -0.036264   \n",
       "5123  -1.816478  -1.817083   1.728598   1.226059  -0.281781   0.515963   \n",
       "\n",
       "              SSR  \n",
       "11      11.317269  \n",
       "227     11.317269  \n",
       "317   5053.244800  \n",
       "777   1758.237809  \n",
       "1041    11.317269  \n",
       "1148    11.317269  \n",
       "1255   234.245233  \n",
       "1510  3237.162013  \n",
       "1751    11.317267  \n",
       "1806  2832.394749  \n",
       "1809    11.317269  \n",
       "2179    11.322266  \n",
       "2282    11.317269  \n",
       "2556    11.317269  \n",
       "2838    11.317269  \n",
       "3245    11.317269  \n",
       "3356    11.317269  \n",
       "3379    11.317269  \n",
       "3419  4042.583388  \n",
       "3429    11.317269  \n",
       "3446  1513.826194  \n",
       "3759  4232.044096  \n",
       "3850  6399.820920  \n",
       "3983    11.317269  \n",
       "4373  3718.572890  \n",
       "4619   975.125121  \n",
       "5123  1719.762631  "
      ]
     },
     "execution_count": 5,
     "metadata": {},
     "output_type": "execute_result"
    }
   ],
   "source": [
    "lhs_results.dropna(axis=0)"
   ]
  },
  {
   "cell_type": "code",
   "execution_count": 6,
   "id": "4a1d0353",
   "metadata": {},
   "outputs": [
    {
     "data": {
      "text/html": [
       "<div>\n",
       "<style scoped>\n",
       "    .dataframe tbody tr th:only-of-type {\n",
       "        vertical-align: middle;\n",
       "    }\n",
       "\n",
       "    .dataframe tbody tr th {\n",
       "        vertical-align: top;\n",
       "    }\n",
       "\n",
       "    .dataframe thead th {\n",
       "        text-align: right;\n",
       "    }\n",
       "</style>\n",
       "<table border=\"1\" class=\"dataframe\">\n",
       "  <thead>\n",
       "    <tr style=\"text-align: right;\">\n",
       "      <th></th>\n",
       "      <th>sc_param1</th>\n",
       "      <th>sc_param2</th>\n",
       "      <th>sc_param3</th>\n",
       "      <th>sc_param4</th>\n",
       "      <th>sc_param5</th>\n",
       "      <th>sc_param6</th>\n",
       "      <th>SSR</th>\n",
       "    </tr>\n",
       "  </thead>\n",
       "  <tbody>\n",
       "    <tr>\n",
       "      <th>1751</th>\n",
       "      <td>-0.496796</td>\n",
       "      <td>0.589789</td>\n",
       "      <td>0.2922</td>\n",
       "      <td>-1.622518</td>\n",
       "      <td>-0.059634</td>\n",
       "      <td>1.001379</td>\n",
       "      <td>11.317267</td>\n",
       "    </tr>\n",
       "  </tbody>\n",
       "</table>\n",
       "</div>"
      ],
      "text/plain": [
       "      sc_param1  sc_param2  sc_param3  sc_param4  sc_param5  sc_param6  \\\n",
       "1751  -0.496796   0.589789     0.2922  -1.622518  -0.059634   1.001379   \n",
       "\n",
       "            SSR  \n",
       "1751  11.317267  "
      ]
     },
     "execution_count": 6,
     "metadata": {},
     "output_type": "execute_result"
    }
   ],
   "source": [
    "lhs_best = lhs_results[lhs_results.SSR == lhs_results.SSR.min()]\n",
    "lhs_best"
   ]
  },
  {
   "cell_type": "code",
   "execution_count": 7,
   "id": "0ce5edba",
   "metadata": {},
   "outputs": [],
   "source": [
    "sc_param1 = lhs_best.at[1751, 'sc_param1']\n",
    "sc_param2 = lhs_best.at[1751, 'sc_param2']\n",
    "sc_param3 = lhs_best.at[1751, 'sc_param3']\n",
    "sc_param4 = lhs_best.at[1751, 'sc_param4']\n",
    "sc_param5 = lhs_best.at[1751, 'sc_param5']\n",
    "sc_param6 = lhs_best.at[1751, 'sc_param6']"
   ]
  },
  {
   "cell_type": "code",
   "execution_count": 8,
   "id": "561f43aa",
   "metadata": {},
   "outputs": [
    {
     "data": {
      "text/plain": [
       "-0.4967961034287567"
      ]
     },
     "execution_count": 8,
     "metadata": {},
     "output_type": "execute_result"
    }
   ],
   "source": [
    "sc_param1"
   ]
  },
  {
   "cell_type": "code",
   "execution_count": 9,
   "id": "binding-cattle",
   "metadata": {},
   "outputs": [],
   "source": [
    "from hfc125_emimtf2n_PR import configuration "
   ]
  },
  {
   "cell_type": "code",
   "execution_count": 10,
   "id": "backed-diving",
   "metadata": {},
   "outputs": [
    {
     "name": "stdout",
     "output_type": "stream",
     "text": [
      "The initial DOF is 7\n"
     ]
    }
   ],
   "source": [
    "m = ConcreteModel()\n",
    "m.fs = FlowsheetBlock(default={\"dynamic\": False})\n",
    "m.fs.properties = GenericParameterBlock(default=configuration)\n",
    "m.fs.F101 = Flash(default={\"property_package\": m.fs.properties,\n",
    "                           \"has_heat_transfer\": True,\n",
    "                           \"has_pressure_change\": True})\n",
    "DOF_initial = degrees_of_freedom(m)\n",
    "print('The initial DOF is {0}'.format(DOF_initial))"
   ]
  },
  {
   "cell_type": "markdown",
   "id": "conventional-health",
   "metadata": {},
   "source": [
    "## Fit Parameters"
   ]
  },
  {
   "cell_type": "code",
   "execution_count": 11,
   "id": "9372a703",
   "metadata": {},
   "outputs": [
    {
     "name": "stdout",
     "output_type": "stream",
     "text": [
      "2022-10-14 12:17:05 [INFO] idaes.init.fs.state_block: Property package initialization: optimal - Optimal Solution Found.\n",
      "2022-10-14 12:17:06 [INFO] idaes.init.fs.state_block: Property package initialization: optimal - Optimal Solution Found.\n",
      "2022-10-14 12:17:06 [INFO] idaes.init.fs.state_block: Property package initialization: optimal - Optimal Solution Found.\n",
      "2022-10-14 12:17:06 [INFO] idaes.init.fs.state_block: Property package initialization: optimal - Optimal Solution Found.\n",
      "2022-10-14 12:17:07 [INFO] idaes.init.fs.state_block: Property package initialization: optimal - Optimal Solution Found.\n",
      "2022-10-14 12:17:07 [INFO] idaes.init.fs.state_block: Property package initialization: optimal - Optimal Solution Found.\n",
      "2022-10-14 12:17:08 [INFO] idaes.init.fs.state_block: Property package initialization: optimal - Optimal Solution Found.\n",
      "2022-10-14 12:17:08 [INFO] idaes.init.fs.state_block: Property package initialization: optimal - Optimal Solution Found.\n",
      "2022-10-14 12:17:08 [INFO] idaes.init.fs.state_block: Property package initialization: optimal - Optimal Solution Found.\n",
      "2022-10-14 12:17:09 [INFO] idaes.init.fs.state_block: Property package initialization: optimal - Optimal Solution Found.\n",
      "2022-10-14 12:17:09 [INFO] idaes.init.fs.state_block: Property package initialization: optimal - Optimal Solution Found.\n",
      "2022-10-14 12:17:09 [INFO] idaes.init.fs.state_block: Property package initialization: optimal - Optimal Solution Found.\n",
      "2022-10-14 12:17:10 [INFO] idaes.init.fs.state_block: Property package initialization: optimal - Optimal Solution Found.\n",
      "2022-10-14 12:17:11 [INFO] idaes.init.fs.state_block: Property package initialization: optimal - Optimal Solution Found.\n",
      "2022-10-14 12:17:11 [INFO] idaes.init.fs.state_block: Property package initialization: optimal - Optimal Solution Found.\n",
      "2022-10-14 12:17:12 [INFO] idaes.init.fs.state_block: Property package initialization: optimal - Optimal Solution Found.\n",
      "2022-10-14 12:17:13 [INFO] idaes.init.fs.state_block: Property package initialization: optimal - Optimal Solution Found.\n",
      "2022-10-14 12:17:14 [INFO] idaes.init.fs.state_block: Property package initialization: optimal - Optimal Solution Found.\n",
      "2022-10-14 12:17:14 [INFO] idaes.init.fs.state_block: Property package initialization: optimal - Optimal Solution Found.\n",
      "2022-10-14 12:17:15 [INFO] idaes.init.fs.state_block: Property package initialization: optimal - Optimal Solution Found.\n",
      "2022-10-14 12:17:15 [INFO] idaes.init.fs.state_block: Property package initialization: optimal - Optimal Solution Found.\n",
      "2022-10-14 12:17:16 [INFO] idaes.init.fs.state_block: Property package initialization: optimal - Optimal Solution Found.\n",
      "2022-10-14 12:17:16 [INFO] idaes.init.fs.state_block: Property package initialization: optimal - Optimal Solution Found.\n",
      "2022-10-14 12:17:16 [INFO] idaes.init.fs.state_block: Property package initialization: optimal - Optimal Solution Found.\n",
      "2022-10-14 12:17:17 [INFO] idaes.init.fs.state_block: Property package initialization: optimal - Optimal Solution Found.\n",
      "2022-10-14 12:17:17 [INFO] idaes.init.fs.state_block: Property package initialization: optimal - Optimal Solution Found.\n",
      "2022-10-14 12:17:17 [INFO] idaes.init.fs.state_block: Property package initialization: optimal - Optimal Solution Found.\n",
      "2022-10-14 12:17:18 [INFO] idaes.init.fs.state_block: Property package initialization: optimal - Optimal Solution Found.\n",
      "2022-10-14 12:17:18 [INFO] idaes.init.fs.state_block: Property package initialization: optimal - Optimal Solution Found.\n",
      "2022-10-14 12:17:18 [INFO] idaes.init.fs.state_block: Property package initialization: optimal - Optimal Solution Found.\n",
      "2022-10-14 12:17:19 [INFO] idaes.init.fs.state_block: Property package initialization: optimal - Optimal Solution Found.\n",
      "2022-10-14 12:17:19 [INFO] idaes.init.fs.state_block: Property package initialization: optimal - Optimal Solution Found.\n",
      "WARNING: The current pynumero_ASL library is version=2, but found version=1.\n",
      "    Please recompile / update your pynumero_ASL library.\n"
     ]
    },
    {
     "name": "stderr",
     "output_type": "stream",
     "text": [
      "/Users/bridgettebefort/opt/anaconda3/envs/idaes-pse-dev/lib/python3.9/site-packages/pyomo/contrib/interior_point/interface.py:418: RuntimeWarning: divide by zero encountered in true_divide\n",
      "  data = (duals_primals_lb/(primals - self._nlp.primals_lb()) +\n"
     ]
    }
   ],
   "source": [
    "parameters, obj_value, a = cuadratic(data_subset, configuration, 'R125', 'emimTf2N', \"x_R125\", \"x_emimTf2N\", \n",
    "        init_temp =  283.1, init_press =   399300 , init_x_c1 =    0.448, init_x_c2 = 0.552,\n",
    "        init_kappa_2_1A = sc_param1, init_kappa_1_2A = sc_param2, \n",
    "        init_kappa_2_1B = sc_param3, init_kappa_1_2B = sc_param4,\n",
    "        init_kappa_2_1C = sc_param5, init_kappa_1_2C = sc_param6,\n",
    "        eps = 0.1, scaling_fac = 1e-7 , filename='Data/Fits/Ipopt_Output/PR_quadTdep_final.txt')"
   ]
  },
  {
   "cell_type": "code",
   "execution_count": 12,
   "id": "basic-preserve",
   "metadata": {},
   "outputs": [
    {
     "name": "stdout",
     "output_type": "stream",
     "text": [
      "Objective (SSE): 11.317266936398706\n"
     ]
    }
   ],
   "source": [
    "print('Objective (SSE):',obj_value)"
   ]
  },
  {
   "cell_type": "code",
   "execution_count": 13,
   "id": "6894a48d",
   "metadata": {},
   "outputs": [
    {
     "name": "stdout",
     "output_type": "stream",
     "text": [
      "Parameters: fs.properties.PR_kappa_A[emimTf2N,R125]    0.793442\n",
      "fs.properties.PR_kappa_A[R125,emimTf2N]    0.110739\n",
      "fs.properties.PR_kappa_B[emimTf2N,R125]   -1.594267\n",
      "fs.properties.PR_kappa_B[R125,emimTf2N]   -0.272435\n",
      "fs.properties.PR_kappa_C[emimTf2N,R125]    0.736423\n",
      "fs.properties.PR_kappa_C[R125,emimTf2N]    0.141693\n",
      "dtype: float64\n"
     ]
    }
   ],
   "source": [
    "print('Parameters:',parameters)"
   ]
  },
  {
   "cell_type": "code",
   "execution_count": 14,
   "id": "fec662d2",
   "metadata": {},
   "outputs": [],
   "source": [
    "params2save = np.zeros(8)\n",
    "params2save[0] = parameters[1]\n",
    "params2save[1] = parameters[0]\n",
    "params2save[2] = parameters[3]\n",
    "params2save[3] = parameters[2]\n",
    "params2save[4] = parameters[5]\n",
    "params2save[5] = parameters[4]"
   ]
  },
  {
   "cell_type": "code",
   "execution_count": 15,
   "id": "2c99ddc0",
   "metadata": {},
   "outputs": [],
   "source": [
    "np.savetxt('Data/Fits/PR_params_quadTdep.csv',params2save,delimiter=',')"
   ]
  },
  {
   "cell_type": "code",
   "execution_count": 16,
   "id": "governmental-nudist",
   "metadata": {},
   "outputs": [
    {
     "name": "stdout",
     "output_type": "stream",
     "text": [
      "Covariance Matrix:\n",
      "[[ 6.93087435e+00  2.27506993e-01 -1.38082898e+01 -4.51562958e-01\n",
      "   6.86097747e+00  2.23333377e-01]\n",
      " [ 2.27506993e-01  2.87333663e-02 -4.29205756e-01 -5.39705381e-02\n",
      "   2.00963758e-01  2.51929733e-02]\n",
      " [-1.38082898e+01 -4.29205756e-01  2.75629417e+01  8.56107016e-01\n",
      "  -1.37229520e+01 -4.25529943e-01]\n",
      " [-4.51562959e-01 -5.39705381e-02  8.56107016e-01  1.01582151e-01\n",
      "  -4.03071701e-01 -4.75188540e-02]\n",
      " [ 6.86097747e+00  2.00963758e-01 -1.37229520e+01 -4.03071701e-01\n",
      "   6.84688468e+00  2.01474052e-01]\n",
      " [ 2.23333377e-01  2.51929733e-02 -4.25529943e-01 -4.75188540e-02\n",
      "   2.01474052e-01  2.22790423e-02]]\n"
     ]
    }
   ],
   "source": [
    "cov = np.array(a)\n",
    "print('Covariance Matrix:')\n",
    "print(cov)"
   ]
  },
  {
   "cell_type": "code",
   "execution_count": 17,
   "id": "639e59de",
   "metadata": {},
   "outputs": [],
   "source": [
    "np.savetxt('Data/Covariance/PR_Cov_quadTdep.csv',cov,delimiter=',')"
   ]
  },
  {
   "cell_type": "markdown",
   "id": "aging-authentication",
   "metadata": {},
   "source": [
    "## Apply Parameters + Plot"
   ]
  },
  {
   "cell_type": "code",
   "execution_count": null,
   "id": "endangered-gibraltar",
   "metadata": {},
   "outputs": [],
   "source": [
    "solver = SolverFactory('ipopt')\n",
    "solver.options = {'tol': 1e-6}"
   ]
  },
  {
   "cell_type": "code",
   "execution_count": null,
   "id": "royal-switch",
   "metadata": {},
   "outputs": [],
   "source": [
    "m = ConcreteModel()\n",
    "\n",
    "m.fs = FlowsheetBlock(default={\"dynamic\": False})\n",
    "\n",
    "m.fs.properties = GenericParameterBlock(default=configuration)\n",
    "\n",
    "m.fs.F101 = Flash(default={\"property_package\": m.fs.properties,\n",
    "                           \"has_heat_transfer\": True,\n",
    "                           \"has_pressure_change\": True})\n",
    "\n",
    "m.fs.F101.inlet.flow_mol.fix(1)\n",
    "m.fs.F101.inlet.temperature.fix(323.15)\n",
    "m.fs.F101.inlet.pressure.fix(399800)\n",
    "m.fs.F101.inlet.mole_frac_comp[0,'R125'].fix(0.5)\n",
    "\n",
    "m.fs.properties.PR_kappa_A['R125','emimTf2N'] = parameters['fs.properties.PR_kappa_A[R125,emimTf2N]']\n",
    "m.fs.properties.PR_kappa_A['emimTf2N','R125'] = parameters['fs.properties.PR_kappa_A[emimTf2N,R125]']\n",
    "m.fs.properties.PR_kappa_B['R125','emimTf2N'] = parameters['fs.properties.PR_kappa_B[R125,emimTf2N]']\n",
    "m.fs.properties.PR_kappa_B['emimTf2N','R125'] = parameters['fs.properties.PR_kappa_B[emimTf2N,R125]']\n",
    "m.fs.properties.PR_kappa_C['R125','emimTf2N'] = parameters['fs.properties.PR_kappa_C[R125,emimTf2N]']\n",
    "m.fs.properties.PR_kappa_C['emimTf2N','R125'] = parameters['fs.properties.PR_kappa_C[emimTf2N,R125]']\n",
    "\n",
    "# Initialize the flash unit\n",
    "m.fs.F101.initialize(outlvl=idaeslog.CRITICAL)\n",
    "\n",
    "# Fix the state variables on the state block\n",
    "# m.fs.F101.inlet.pressure.unfix()\n",
    "m.fs.F101.inlet.mole_frac_comp[0,'emimTf2N'].unfix()\n",
    "\n",
    "# data_extended = data_extended[::-1]\n",
    "R125_x = np.zeros((len(data_extended)))\n",
    "P = np.zeros((len(data_extended)))\n",
    "T = np.zeros((len(data_extended)))\n",
    "\n",
    "m.fs.liq = Param(mutable=True,default=0.040)\n",
    "m.fs.liquid = Constraint(expr=m.fs.F101.liq_outlet.mole_frac_comp[0, \"emimTf2N\"] == m.fs.liq)\n",
    "\n",
    "for i in range(len(data_extended)):\n",
    "    print('i:',i)\n",
    "    print('Try x_IL:',data_extended[\"x_emimTf2N\"].iloc[i])\n",
    "    m.fs.liq = data_extended[\"x_emimTf2N\"].iloc[i]\n",
    "    m.fs.F101.inlet.temperature.fix(float(data_extended[\"temperature\"].iloc[i]))\n",
    "    m.fs.F101.inlet.pressure.fix(float(data_extended[\"pressure\"].iloc[i]))\n",
    "    m.fs.F101.inlet.mole_frac_comp[0,'R125'].fix(float(data_extended[\"x_R125\"].iloc[i])+0.1)\n",
    "    m.fs.F101.inlet.mole_frac_comp[0,'emimTf2N'].fix(float(1-(data_extended[\"x_R125\"].iloc[i]+0.1)))\n",
    "    m.fs.F101.vap_outlet.temperature.fix(float(data_extended[\"temperature\"].iloc[i]))\n",
    "    \n",
    "    try:\n",
    "        m.fs.F101.initialize(outlvl=idaeslog.CRITICAL)\n",
    "        \n",
    "    except:\n",
    "        print('Initialization Error')\n",
    "        \n",
    "    try:\n",
    "\n",
    "        status = solver.solve(m, tee = False)\n",
    "        \n",
    "        if (status.solver.status == SolverStatus.ok) and (status.solver.termination_condition == TerminationCondition.optimal):\n",
    "            print('Feasible/Optimal Solution')\n",
    "            R125_x[i] = value(m.fs.F101.liq_outlet.mole_frac_comp[0,'R125']) \n",
    "            P[i] = value(m.fs.F101.vap_outlet.pressure[0])\n",
    "            T[i] = data_extended[\"temperature\"].iloc[i]\n",
    "        else:\n",
    "            print('Infeasible Solution')\n",
    "            R125_x[i] = np.nan\n",
    "            P[i] = np.nan\n",
    "            T[i] = data_extended[\"temperature\"].iloc[i]\n",
    "            \n",
    "    except ValueError:\n",
    "        R125_x[i] = np.nan\n",
    "        P[i] = np.nan\n",
    "        T[i] = data_extended[\"temperature\"].iloc[i]\n",
    "        print('Solver Error')"
   ]
  },
  {
   "cell_type": "code",
   "execution_count": null,
   "id": "36ee356e",
   "metadata": {},
   "outputs": [],
   "source": [
    "fitted_data = pd.DataFrame(data=[R125_x,P/1e6,T])\n",
    "fitted_data = fitted_data.T\n",
    "fitted_data.columns = ['R125_x','P, MPa','T, K']\n",
    "fitted_data.to_csv('Data/Fits/PR_FittedData_quadTdep.csv')"
   ]
  },
  {
   "cell_type": "code",
   "execution_count": null,
   "id": "religious-joining",
   "metadata": {},
   "outputs": [],
   "source": [
    "plt.plot(fitted_data.where(fitted_data['T, K']==283.1)['R125_x'],fitted_data.where(fitted_data['T, K']==283.1)['P, MPa'],\"b-\",label='T=283 K')\n",
    "plt.plot(fitted_data.where(fitted_data['T, K']==298.1)['R125_x'],fitted_data.where(fitted_data['T, K']==298.1)['P, MPa'],\"r-\",label='T=298 K')\n",
    "plt.plot(fitted_data.where(fitted_data['T, K']==323.1)['R125_x'],fitted_data.where(fitted_data['T, K']==323.1)['P, MPa'],\"c-\",label='T=323 K')\n",
    "plt.plot(fitted_data.where(fitted_data['T, K']==348.1)['R125_x'],fitted_data.where(fitted_data['T, K']==348.1)['P, MPa'],\"m-\",label='T=348 K')\n",
    "plt.plot(data_full[\"x_R125\"],data_full[\"pressure\"]/1e6,\"*\",color='orange',label=\"data\")  \n",
    "plt.title('Isotherm R125-[emim][TF2N]')\n",
    "plt.ylabel('Pressure (MPa)')\n",
    "plt.xlabel('x R125')\n",
    "plt.grid(True)\n",
    "plt.ylim(0,1.110000)\n",
    "plt.legend()\n",
    "plt.show()"
   ]
  },
  {
   "cell_type": "markdown",
   "id": "graduate-addiction",
   "metadata": {},
   "source": [
    "### Print Eigvals, Eigvectors\n",
    "\n",
    "An identifiability analysis can be performed with these as well as a FIM because the covariance matrix is the inverse of the FIM. That means that if there are any eigvals > 0, their eigvecs indicate directions of un-identifiability."
   ]
  },
  {
   "cell_type": "code",
   "execution_count": null,
   "id": "convinced-terrain",
   "metadata": {},
   "outputs": [],
   "source": [
    "eigvals, eigvecs = np.linalg.eig(cov)"
   ]
  },
  {
   "cell_type": "code",
   "execution_count": null,
   "id": "standing-startup",
   "metadata": {},
   "outputs": [],
   "source": [
    "eigvals"
   ]
  },
  {
   "cell_type": "code",
   "execution_count": null,
   "id": "minor-relay",
   "metadata": {},
   "outputs": [],
   "source": [
    "eigvecs"
   ]
  },
  {
   "cell_type": "code",
   "execution_count": null,
   "id": "16f2a896",
   "metadata": {},
   "outputs": [],
   "source": [
    "np.savetxt('Data/EigenAnalysis/PR_vals_quadTdep.csv',eigvals,delimiter=',')\n",
    "np.savetxt('Data/EigenAnalysis/PR_vecs_quadTdep.csv',eigvecs,delimiter=',')"
   ]
  },
  {
   "cell_type": "code",
   "execution_count": null,
   "id": "ed78ed8c",
   "metadata": {},
   "outputs": [],
   "source": [
    "FIM = np.linalg.inv(cov) \n",
    "\n",
    "#A_opt\n",
    "FIM_trace = np.trace(FIM)\n",
    "cov_trace = np.trace(cov)\n",
    "\n",
    "#D_opt\n",
    "FIM_det = np.linalg.det(FIM)\n",
    "\n",
    "#E_opt\n",
    "eigvals_FIM, eigvecs_FIM = np.linalg.eig(FIM)\n",
    "eigvals_FIM_min = eigvals_FIM.min()\n",
    "eigvals_FIM_max = eigvals_FIM.max()\n",
    "\n",
    "np.savetxt('Data/EigenAnalysis/PR_FIMtrdet_quadTdep.csv',[cov_trace,FIM_trace,FIM_det,eigvals_FIM_min,eigvals_FIM_max])\n",
    "np.savetxt('Data/EigenAnalysis/PR_FIMvals_quadTdep.csv',eigvals_FIM,delimiter=',')\n",
    "np.savetxt('Data/EigenAnalysis/PR_FIMvecs_quadTdep.csv',eigvecs_FIM,delimiter=',')"
   ]
  },
  {
   "cell_type": "markdown",
   "id": "injured-karen",
   "metadata": {},
   "source": [
    "## AIC Value\n",
    "\n",
    "See: https://doi.org/10.1080/21642583.2018.1496042\n",
    "\n",
    "AIC(k) = Nln(MSE(k))+2k\n",
    "\n",
    "N: number of data points\n",
    "\n",
    "MSE(k): mean squared error of the model with k parameters\n",
    "\n",
    "k: number of parameters\n",
    "\n",
    "MSE(k) = SSE(k)/N\n",
    "\n",
    "SSE: sum of squared error of the model with k parameters"
   ]
  },
  {
   "cell_type": "code",
   "execution_count": null,
   "id": "7cdc26c5",
   "metadata": {},
   "outputs": [],
   "source": [
    "#number of datapoints\n",
    "N = len(data_subset)\n",
    "#MSE(k)\n",
    "MSE = obj_value*1E-2/N\n",
    "#number of parameters\n",
    "k = 6"
   ]
  },
  {
   "cell_type": "code",
   "execution_count": null,
   "id": "solar-thermal",
   "metadata": {},
   "outputs": [],
   "source": [
    "AIC = N*np.log(MSE) + 2*k\n",
    "AIC"
   ]
  },
  {
   "cell_type": "code",
   "execution_count": null,
   "id": "geological-pattern",
   "metadata": {},
   "outputs": [],
   "source": [
    "AIC_data = pd.DataFrame(data=[N,MSE,k,obj_value,AIC])\n",
    "AIC_data = AIC_data.T\n",
    "AIC_data.columns = ['N','MSE','k','Objective, Pa^2','AIC']\n",
    "AIC_data.to_csv('Data/AIC/PR_AIC_quadTdep.csv')"
   ]
  },
  {
   "cell_type": "code",
   "execution_count": null,
   "id": "f4a5a463",
   "metadata": {},
   "outputs": [],
   "source": []
  }
 ],
 "metadata": {
  "kernelspec": {
   "display_name": "Python 3 (ipykernel)",
   "language": "python",
   "name": "python3"
  },
  "language_info": {
   "codemirror_mode": {
    "name": "ipython",
    "version": 3
   },
   "file_extension": ".py",
   "mimetype": "text/x-python",
   "name": "python",
   "nbconvert_exporter": "python",
   "pygments_lexer": "ipython3",
   "version": "3.9.9"
  }
 },
 "nbformat": 4,
 "nbformat_minor": 5
}
