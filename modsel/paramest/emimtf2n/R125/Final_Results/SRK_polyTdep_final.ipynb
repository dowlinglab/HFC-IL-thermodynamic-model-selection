{
 "cells": [
  {
   "cell_type": "markdown",
   "id": "instructional-learning",
   "metadata": {},
   "source": [
    "# Fit emimTF2N data\n",
    "\n",
    "EoS: SRK\n",
    "\n",
    "Parameter T dependence: Order 3 Polynomial\n",
    "\n",
    "N (total fitting parameters): 8\n",
    "\n",
    "**Finds an optimal solution, but can't get it to work when plotting - the control volume fails to initialize"
   ]
  },
  {
   "cell_type": "markdown",
   "id": "extended-rabbit",
   "metadata": {},
   "source": [
    "## Import Functions"
   ]
  },
  {
   "cell_type": "code",
   "execution_count": 1,
   "id": "complicated-toronto",
   "metadata": {},
   "outputs": [],
   "source": [
    "import idaes\n",
    "\n",
    "import pandas as pd\n",
    "import numpy as np\n",
    "import matplotlib.pyplot as plt\n",
    "import scipy.optimize\n",
    "\n",
    "import sys\n",
    "sys.path.append('../../../')\n",
    "\n",
    "from pyomo.environ import (Constraint,\n",
    "                           Var,\n",
    "                           ConcreteModel,\n",
    "                           Expression,\n",
    "                           Param,\n",
    "                           Objective,\n",
    "                           SolverFactory,\n",
    "                           TransformationFactory,\n",
    "                           value)\n",
    "from pyomo.opt import TerminationCondition, SolverStatus\n",
    "\n",
    "from idaes.core import FlowsheetBlock\n",
    "import idaes.logger as idaeslog\n",
    "# Import the Generic Parameter Block\n",
    "from idaes.generic_models.properties.core.generic.generic_property import (\n",
    "        GenericParameterBlock)\n",
    "# Import unit models from the model library\n",
    "from idaes.generic_models.unit_models import Flash\n",
    "# Import degrees of freedom tool\n",
    "from idaes.core.util.model_statistics import degrees_of_freedom\n",
    "\n",
    "# parmest (binary_param2)\n",
    "from bip_fitting_functions_SRK import polynomial\n",
    "\n",
    "import scipy.stats as stats"
   ]
  },
  {
   "cell_type": "markdown",
   "id": "potential-awareness",
   "metadata": {},
   "source": [
    "## Load Data"
   ]
  },
  {
   "cell_type": "code",
   "execution_count": 2,
   "id": "latest-artist",
   "metadata": {},
   "outputs": [],
   "source": [
    "data_full = pd.read_csv('../r125_emimtf2n_full.csv')\n",
    "data_subset = pd.read_csv('../r125_emimtf2n_subset.csv')\n",
    "data_extended = pd.read_csv('../r125-emimtf2n-extended.csv')"
   ]
  },
  {
   "cell_type": "markdown",
   "id": "superior-attendance",
   "metadata": {},
   "source": [
    "## Load Configuration + Check DOF + Load Parameters"
   ]
  },
  {
   "cell_type": "code",
   "execution_count": 3,
   "id": "39a276c4",
   "metadata": {},
   "outputs": [],
   "source": [
    "lhs_results1 = pd.read_csv('../Data/Fits/LHS_Fits/SRK_polyTdep_LHS.csv',index_col=0)\n",
    "lhs_results1 = lhs_results1[['sc_param1','sc_param2','sc_param3','sc_param4','sc_param5','sc_param6','sc_param7','sc_param8','SSR']]\n",
    "\n",
    "lhs_results2 = pd.read_csv('../Data/Fits/LHS_Fits/SRK_polyTdep_LHS_fromsc.csv',index_col=0)\n",
    "lhs_results2 = lhs_results2[['sc_param1','sc_param2','sc_param3','sc_param4','sc_param5','sc_param6','sc_param7','sc_param8','SSR']]\n",
    "\n",
    "lhs_results3 = pd.read_csv('../Data/Fits/LHS_Fits/SRK_polyTdep_LHS_fromsc11.csv',index_col=0)\n",
    "lhs_results3 = lhs_results3[['sc_param1','sc_param2','sc_param3','sc_param4','sc_param5','sc_param6','sc_param7','sc_param8','SSR']]\n",
    "\n",
    "lhs_results4 = pd.read_csv('../Data/Fits/LHS_Fits/SRK_polyTdep_LHS_fromsc227.csv',index_col=0)\n",
    "lhs_results4 = lhs_results4[['sc_param1','sc_param2','sc_param3','sc_param4','sc_param5','sc_param6','sc_param7','sc_param8','SSR']]\n",
    "\n",
    "lhs_results5 = pd.read_csv('Data/Init_Final/LHS_Output/SRK_polyTdep_LHS_final.csv',index_col=0)\n",
    "lhs_results5 = lhs_results5[['sc_param1','sc_param2','sc_param3','sc_param4','sc_param5','sc_param6','sc_param7','sc_param8','SSR']]\n",
    "\n",
    "lhs_results6 = pd.read_csv('Data/Init_Final/LHS_Output/SRK_polyTdep_LHS_fromquad_final.csv',index_col=0)\n",
    "lhs_results6 = lhs_results6[['sc_param1','sc_param2','sc_param3','sc_param4','sc_param5','sc_param6','sc_param7','sc_param8','SSR']]\n",
    "\n",
    "lhs_results = pd.concat([lhs_results1,lhs_results2,lhs_results3,lhs_results4,lhs_results5,lhs_results6],axis=0).reset_index(drop=True)"
   ]
  },
  {
   "cell_type": "code",
   "execution_count": 4,
   "id": "a64808fa",
   "metadata": {},
   "outputs": [
    {
     "data": {
      "text/html": [
       "<div>\n",
       "<style scoped>\n",
       "    .dataframe tbody tr th:only-of-type {\n",
       "        vertical-align: middle;\n",
       "    }\n",
       "\n",
       "    .dataframe tbody tr th {\n",
       "        vertical-align: top;\n",
       "    }\n",
       "\n",
       "    .dataframe thead th {\n",
       "        text-align: right;\n",
       "    }\n",
       "</style>\n",
       "<table border=\"1\" class=\"dataframe\">\n",
       "  <thead>\n",
       "    <tr style=\"text-align: right;\">\n",
       "      <th></th>\n",
       "      <th>sc_param1</th>\n",
       "      <th>sc_param2</th>\n",
       "      <th>sc_param3</th>\n",
       "      <th>sc_param4</th>\n",
       "      <th>sc_param5</th>\n",
       "      <th>sc_param6</th>\n",
       "      <th>sc_param7</th>\n",
       "      <th>sc_param8</th>\n",
       "      <th>SSR</th>\n",
       "    </tr>\n",
       "  </thead>\n",
       "  <tbody>\n",
       "    <tr>\n",
       "      <th>691</th>\n",
       "      <td>-0.932453</td>\n",
       "      <td>-0.459271</td>\n",
       "      <td>-0.911759</td>\n",
       "      <td>-0.513797</td>\n",
       "      <td>0.692297</td>\n",
       "      <td>0.936531</td>\n",
       "      <td>0.233765</td>\n",
       "      <td>0.016461</td>\n",
       "      <td>13.029285</td>\n",
       "    </tr>\n",
       "    <tr>\n",
       "      <th>724</th>\n",
       "      <td>-0.932453</td>\n",
       "      <td>-0.459271</td>\n",
       "      <td>-0.911759</td>\n",
       "      <td>-0.513797</td>\n",
       "      <td>0.692297</td>\n",
       "      <td>0.936531</td>\n",
       "      <td>0.136351</td>\n",
       "      <td>0.031701</td>\n",
       "      <td>13.059942</td>\n",
       "    </tr>\n",
       "    <tr>\n",
       "      <th>906</th>\n",
       "      <td>0.140683</td>\n",
       "      <td>-0.506367</td>\n",
       "      <td>-0.463518</td>\n",
       "      <td>0.552634</td>\n",
       "      <td>0.371398</td>\n",
       "      <td>-0.011327</td>\n",
       "      <td>-0.080361</td>\n",
       "      <td>-0.074367</td>\n",
       "      <td>13.059942</td>\n",
       "    </tr>\n",
       "    <tr>\n",
       "      <th>970</th>\n",
       "      <td>0.140683</td>\n",
       "      <td>-0.506367</td>\n",
       "      <td>-0.463518</td>\n",
       "      <td>0.552634</td>\n",
       "      <td>0.371398</td>\n",
       "      <td>-0.011327</td>\n",
       "      <td>-0.165507</td>\n",
       "      <td>-0.154970</td>\n",
       "      <td>2566.781524</td>\n",
       "    </tr>\n",
       "    <tr>\n",
       "      <th>1166</th>\n",
       "      <td>-1.951156</td>\n",
       "      <td>-1.677026</td>\n",
       "      <td>-0.610838</td>\n",
       "      <td>1.175293</td>\n",
       "      <td>-1.071340</td>\n",
       "      <td>0.670624</td>\n",
       "      <td>1.070138</td>\n",
       "      <td>-0.144267</td>\n",
       "      <td>375.356890</td>\n",
       "    </tr>\n",
       "    <tr>\n",
       "      <th>6501</th>\n",
       "      <td>0.711122</td>\n",
       "      <td>0.175527</td>\n",
       "      <td>-0.938228</td>\n",
       "      <td>-1.881777</td>\n",
       "      <td>-1.441844</td>\n",
       "      <td>1.679764</td>\n",
       "      <td>0.797194</td>\n",
       "      <td>0.093325</td>\n",
       "      <td>13.029285</td>\n",
       "    </tr>\n",
       "    <tr>\n",
       "      <th>7920</th>\n",
       "      <td>0.711122</td>\n",
       "      <td>0.175527</td>\n",
       "      <td>-0.938228</td>\n",
       "      <td>-1.881777</td>\n",
       "      <td>-1.441844</td>\n",
       "      <td>1.679764</td>\n",
       "      <td>0.137375</td>\n",
       "      <td>0.015709</td>\n",
       "      <td>2761.640204</td>\n",
       "    </tr>\n",
       "    <tr>\n",
       "      <th>9564</th>\n",
       "      <td>0.711122</td>\n",
       "      <td>0.175527</td>\n",
       "      <td>-0.938228</td>\n",
       "      <td>-1.881777</td>\n",
       "      <td>-1.441844</td>\n",
       "      <td>1.679764</td>\n",
       "      <td>-0.049402</td>\n",
       "      <td>-0.026052</td>\n",
       "      <td>13.029285</td>\n",
       "    </tr>\n",
       "    <tr>\n",
       "      <th>9902</th>\n",
       "      <td>0.711122</td>\n",
       "      <td>0.175527</td>\n",
       "      <td>-0.938228</td>\n",
       "      <td>-1.881777</td>\n",
       "      <td>-1.441844</td>\n",
       "      <td>1.679764</td>\n",
       "      <td>-0.083052</td>\n",
       "      <td>-0.000258</td>\n",
       "      <td>1010.191466</td>\n",
       "    </tr>\n",
       "    <tr>\n",
       "      <th>9949</th>\n",
       "      <td>0.711122</td>\n",
       "      <td>0.175527</td>\n",
       "      <td>-0.938228</td>\n",
       "      <td>-1.881777</td>\n",
       "      <td>-1.441844</td>\n",
       "      <td>1.679764</td>\n",
       "      <td>0.237887</td>\n",
       "      <td>0.010243</td>\n",
       "      <td>2110.822436</td>\n",
       "    </tr>\n",
       "    <tr>\n",
       "      <th>10694</th>\n",
       "      <td>0.711122</td>\n",
       "      <td>0.175527</td>\n",
       "      <td>-0.938228</td>\n",
       "      <td>-1.881777</td>\n",
       "      <td>-1.441844</td>\n",
       "      <td>1.679764</td>\n",
       "      <td>-0.013716</td>\n",
       "      <td>-0.035864</td>\n",
       "      <td>12.818440</td>\n",
       "    </tr>\n",
       "    <tr>\n",
       "      <th>10701</th>\n",
       "      <td>0.711122</td>\n",
       "      <td>0.175527</td>\n",
       "      <td>-0.938228</td>\n",
       "      <td>-1.881777</td>\n",
       "      <td>-1.441844</td>\n",
       "      <td>1.679764</td>\n",
       "      <td>0.083200</td>\n",
       "      <td>0.007522</td>\n",
       "      <td>10.972701</td>\n",
       "    </tr>\n",
       "  </tbody>\n",
       "</table>\n",
       "</div>"
      ],
      "text/plain": [
       "       sc_param1  sc_param2  sc_param3  sc_param4  sc_param5  sc_param6  \\\n",
       "691    -0.932453  -0.459271  -0.911759  -0.513797   0.692297   0.936531   \n",
       "724    -0.932453  -0.459271  -0.911759  -0.513797   0.692297   0.936531   \n",
       "906     0.140683  -0.506367  -0.463518   0.552634   0.371398  -0.011327   \n",
       "970     0.140683  -0.506367  -0.463518   0.552634   0.371398  -0.011327   \n",
       "1166   -1.951156  -1.677026  -0.610838   1.175293  -1.071340   0.670624   \n",
       "6501    0.711122   0.175527  -0.938228  -1.881777  -1.441844   1.679764   \n",
       "7920    0.711122   0.175527  -0.938228  -1.881777  -1.441844   1.679764   \n",
       "9564    0.711122   0.175527  -0.938228  -1.881777  -1.441844   1.679764   \n",
       "9902    0.711122   0.175527  -0.938228  -1.881777  -1.441844   1.679764   \n",
       "9949    0.711122   0.175527  -0.938228  -1.881777  -1.441844   1.679764   \n",
       "10694   0.711122   0.175527  -0.938228  -1.881777  -1.441844   1.679764   \n",
       "10701   0.711122   0.175527  -0.938228  -1.881777  -1.441844   1.679764   \n",
       "\n",
       "       sc_param7  sc_param8          SSR  \n",
       "691     0.233765   0.016461    13.029285  \n",
       "724     0.136351   0.031701    13.059942  \n",
       "906    -0.080361  -0.074367    13.059942  \n",
       "970    -0.165507  -0.154970  2566.781524  \n",
       "1166    1.070138  -0.144267   375.356890  \n",
       "6501    0.797194   0.093325    13.029285  \n",
       "7920    0.137375   0.015709  2761.640204  \n",
       "9564   -0.049402  -0.026052    13.029285  \n",
       "9902   -0.083052  -0.000258  1010.191466  \n",
       "9949    0.237887   0.010243  2110.822436  \n",
       "10694  -0.013716  -0.035864    12.818440  \n",
       "10701   0.083200   0.007522    10.972701  "
      ]
     },
     "execution_count": 4,
     "metadata": {},
     "output_type": "execute_result"
    }
   ],
   "source": [
    "lhs_results.dropna(axis=0)"
   ]
  },
  {
   "cell_type": "code",
   "execution_count": 5,
   "id": "923d9dba",
   "metadata": {},
   "outputs": [
    {
     "data": {
      "text/html": [
       "<div>\n",
       "<style scoped>\n",
       "    .dataframe tbody tr th:only-of-type {\n",
       "        vertical-align: middle;\n",
       "    }\n",
       "\n",
       "    .dataframe tbody tr th {\n",
       "        vertical-align: top;\n",
       "    }\n",
       "\n",
       "    .dataframe thead th {\n",
       "        text-align: right;\n",
       "    }\n",
       "</style>\n",
       "<table border=\"1\" class=\"dataframe\">\n",
       "  <thead>\n",
       "    <tr style=\"text-align: right;\">\n",
       "      <th></th>\n",
       "      <th>sc_param1</th>\n",
       "      <th>sc_param2</th>\n",
       "      <th>sc_param3</th>\n",
       "      <th>sc_param4</th>\n",
       "      <th>sc_param5</th>\n",
       "      <th>sc_param6</th>\n",
       "      <th>sc_param7</th>\n",
       "      <th>sc_param8</th>\n",
       "      <th>SSR</th>\n",
       "    </tr>\n",
       "  </thead>\n",
       "  <tbody>\n",
       "    <tr>\n",
       "      <th>10701</th>\n",
       "      <td>0.711122</td>\n",
       "      <td>0.175527</td>\n",
       "      <td>-0.938228</td>\n",
       "      <td>-1.881777</td>\n",
       "      <td>-1.441844</td>\n",
       "      <td>1.679764</td>\n",
       "      <td>0.0832</td>\n",
       "      <td>0.007522</td>\n",
       "      <td>10.972701</td>\n",
       "    </tr>\n",
       "  </tbody>\n",
       "</table>\n",
       "</div>"
      ],
      "text/plain": [
       "       sc_param1  sc_param2  sc_param3  sc_param4  sc_param5  sc_param6  \\\n",
       "10701   0.711122   0.175527  -0.938228  -1.881777  -1.441844   1.679764   \n",
       "\n",
       "       sc_param7  sc_param8        SSR  \n",
       "10701     0.0832   0.007522  10.972701  "
      ]
     },
     "execution_count": 5,
     "metadata": {},
     "output_type": "execute_result"
    }
   ],
   "source": [
    "lhs_best = lhs_results[lhs_results.SSR == lhs_results.SSR.min()]\n",
    "lhs_best"
   ]
  },
  {
   "cell_type": "code",
   "execution_count": 6,
   "id": "adb4b347",
   "metadata": {},
   "outputs": [],
   "source": [
    "sc_param1 = lhs_best.at[10701, 'sc_param1']\n",
    "sc_param2 = lhs_best.at[10701, 'sc_param2']\n",
    "sc_param3 = lhs_best.at[10701, 'sc_param3']\n",
    "sc_param4 = lhs_best.at[10701, 'sc_param4']\n",
    "sc_param5 = lhs_best.at[10701, 'sc_param5']\n",
    "sc_param6 = lhs_best.at[10701, 'sc_param6']\n",
    "sc_param7 = lhs_best.at[10701, 'sc_param7']\n",
    "sc_param8 = lhs_best.at[10701, 'sc_param8']"
   ]
  },
  {
   "cell_type": "code",
   "execution_count": 7,
   "id": "binding-cattle",
   "metadata": {},
   "outputs": [],
   "source": [
    "from hfc125_emimtf2n_SRK_polynomial import configuration "
   ]
  },
  {
   "cell_type": "code",
   "execution_count": 8,
   "id": "backed-diving",
   "metadata": {},
   "outputs": [
    {
     "name": "stdout",
     "output_type": "stream",
     "text": [
      "The initial DOF is 7\n"
     ]
    }
   ],
   "source": [
    "m = ConcreteModel()\n",
    "m.fs = FlowsheetBlock(default={\"dynamic\": False})\n",
    "m.fs.properties = GenericParameterBlock(default=configuration)\n",
    "m.fs.F101 = Flash(default={\"property_package\": m.fs.properties,\n",
    "                           \"has_heat_transfer\": True,\n",
    "                           \"has_pressure_change\": True})\n",
    "DOF_initial = degrees_of_freedom(m)\n",
    "print('The initial DOF is {0}'.format(DOF_initial))"
   ]
  },
  {
   "cell_type": "markdown",
   "id": "conventional-health",
   "metadata": {},
   "source": [
    "## Fit Parameters"
   ]
  },
  {
   "cell_type": "code",
   "execution_count": 9,
   "id": "sensitive-secondary",
   "metadata": {},
   "outputs": [
    {
     "name": "stdout",
     "output_type": "stream",
     "text": [
      "2022-10-14 12:32:35 [INFO] idaes.init.fs.state_block: Property package initialization: optimal - Optimal Solution Found.\n",
      "2022-10-14 12:32:35 [INFO] idaes.init.fs.state_block: Property package initialization: optimal - Optimal Solution Found.\n",
      "2022-10-14 12:32:36 [INFO] idaes.init.fs.state_block: Property package initialization: optimal - Optimal Solution Found.\n",
      "2022-10-14 12:32:36 [INFO] idaes.init.fs.state_block: Property package initialization: optimal - Optimal Solution Found.\n",
      "2022-10-14 12:32:36 [INFO] idaes.init.fs.state_block: Property package initialization: optimal - Optimal Solution Found.\n",
      "2022-10-14 12:32:37 [INFO] idaes.init.fs.state_block: Property package initialization: optimal - Optimal Solution Found.\n",
      "2022-10-14 12:32:37 [INFO] idaes.init.fs.state_block: Property package initialization: optimal - Optimal Solution Found.\n",
      "2022-10-14 12:32:38 [INFO] idaes.init.fs.state_block: Property package initialization: optimal - Optimal Solution Found.\n",
      "2022-10-14 12:32:38 [INFO] idaes.init.fs.state_block: Property package initialization: optimal - Optimal Solution Found.\n",
      "2022-10-14 12:32:38 [INFO] idaes.init.fs.state_block: Property package initialization: optimal - Optimal Solution Found.\n",
      "2022-10-14 12:32:39 [INFO] idaes.init.fs.state_block: Property package initialization: optimal - Optimal Solution Found.\n",
      "2022-10-14 12:32:39 [INFO] idaes.init.fs.state_block: Property package initialization: optimal - Optimal Solution Found.\n",
      "2022-10-14 12:32:39 [INFO] idaes.init.fs.state_block: Property package initialization: optimal - Optimal Solution Found.\n",
      "2022-10-14 12:32:40 [INFO] idaes.init.fs.state_block: Property package initialization: optimal - Optimal Solution Found.\n",
      "2022-10-14 12:32:40 [INFO] idaes.init.fs.state_block: Property package initialization: optimal - Optimal Solution Found.\n",
      "2022-10-14 12:32:41 [INFO] idaes.init.fs.state_block: Property package initialization: optimal - Optimal Solution Found.\n",
      "2022-10-14 12:32:41 [INFO] idaes.init.fs.state_block: Property package initialization: optimal - Optimal Solution Found.\n",
      "2022-10-14 12:32:41 [INFO] idaes.init.fs.state_block: Property package initialization: optimal - Optimal Solution Found.\n",
      "2022-10-14 12:32:42 [INFO] idaes.init.fs.state_block: Property package initialization: optimal - Optimal Solution Found.\n",
      "2022-10-14 12:32:42 [INFO] idaes.init.fs.state_block: Property package initialization: optimal - Optimal Solution Found.\n",
      "2022-10-14 12:32:42 [INFO] idaes.init.fs.state_block: Property package initialization: optimal - Optimal Solution Found.\n",
      "2022-10-14 12:32:43 [INFO] idaes.init.fs.state_block: Property package initialization: optimal - Optimal Solution Found.\n",
      "2022-10-14 12:32:43 [INFO] idaes.init.fs.state_block: Property package initialization: optimal - Optimal Solution Found.\n",
      "2022-10-14 12:32:44 [INFO] idaes.init.fs.state_block: Property package initialization: optimal - Optimal Solution Found.\n",
      "2022-10-14 12:32:44 [INFO] idaes.init.fs.state_block: Property package initialization: optimal - Optimal Solution Found.\n",
      "2022-10-14 12:32:44 [INFO] idaes.init.fs.state_block: Property package initialization: optimal - Optimal Solution Found.\n",
      "2022-10-14 12:32:45 [INFO] idaes.init.fs.state_block: Property package initialization: optimal - Optimal Solution Found.\n",
      "2022-10-14 12:32:45 [INFO] idaes.init.fs.state_block: Property package initialization: optimal - Optimal Solution Found.\n",
      "2022-10-14 12:32:45 [INFO] idaes.init.fs.state_block: Property package initialization: optimal - Optimal Solution Found.\n",
      "2022-10-14 12:32:46 [INFO] idaes.init.fs.state_block: Property package initialization: optimal - Optimal Solution Found.\n",
      "2022-10-14 12:32:46 [INFO] idaes.init.fs.state_block: Property package initialization: optimal - Optimal Solution Found.\n",
      "2022-10-14 12:32:47 [INFO] idaes.init.fs.state_block: Property package initialization: optimal - Optimal Solution Found.\n",
      "WARNING: The current pynumero_ASL library is version=2, but found version=1.\n",
      "    Please recompile / update your pynumero_ASL library.\n"
     ]
    },
    {
     "name": "stderr",
     "output_type": "stream",
     "text": [
      "/Users/bridgettebefort/opt/anaconda3/envs/idaes-pse-dev/lib/python3.9/site-packages/pyomo/contrib/interior_point/interface.py:418: RuntimeWarning: divide by zero encountered in true_divide\n",
      "  data = (duals_primals_lb/(primals - self._nlp.primals_lb()) +\n"
     ]
    }
   ],
   "source": [
    "parameters, obj_value, a = polynomial(data_subset, configuration, 'R125', 'emimTf2N', \"x_R125\", \"x_emimTf2N\", \n",
    "        init_temp =  283.1, init_press =   399300 , init_x_c1 =    0.448, init_x_c2 = 0.552,\n",
    "        init_kappa_2_1A = sc_param1, init_kappa_1_2A = sc_param2,\n",
    "        init_kappa_2_1B = sc_param3, init_kappa_1_2B = sc_param4,\n",
    "        init_kappa_2_1C = sc_param5, init_kappa_1_2C = sc_param6,\n",
    "        init_kappa_2_1D = sc_param7, init_kappa_1_2D = sc_param8,\n",
    "        eps = 0.1, scaling_fac = 1e-7, \n",
    "        filename='Data/Fits/Ipopt_Output/SRK_polyTdep_final.txt')"
   ]
  },
  {
   "cell_type": "code",
   "execution_count": 10,
   "id": "basic-preserve",
   "metadata": {},
   "outputs": [
    {
     "name": "stdout",
     "output_type": "stream",
     "text": [
      "Objective (SSE): 10.972701417726299\n"
     ]
    }
   ],
   "source": [
    "print('Objective (SSE):',obj_value)"
   ]
  },
  {
   "cell_type": "code",
   "execution_count": 11,
   "id": "3989fd16",
   "metadata": {},
   "outputs": [
    {
     "name": "stdout",
     "output_type": "stream",
     "text": [
      "Parameters: fs.properties.SRK_kappa_A[emimTf2N,R125]    -4.316561\n",
      "fs.properties.SRK_kappa_A[R125,emimTf2N]    -2.685470\n",
      "fs.properties.SRK_kappa_B[emimTf2N,R125]    10.862388\n",
      "fs.properties.SRK_kappa_B[R125,emimTf2N]     7.606709\n",
      "fs.properties.SRK_kappa_C[emimTf2N,R125]    -8.885760\n",
      "fs.properties.SRK_kappa_C[R125,emimTf2N]    -7.246046\n",
      "fs.properties.SRK_kappa_D[emimTf2N,R125]     2.278946\n",
      "fs.properties.SRK_kappa_D[R125,emimTf2N]     2.295020\n",
      "dtype: float64\n"
     ]
    }
   ],
   "source": [
    "print('Parameters:',parameters)"
   ]
  },
  {
   "cell_type": "code",
   "execution_count": 12,
   "id": "3f929e5a",
   "metadata": {},
   "outputs": [],
   "source": [
    "params2save = np.zeros(8)\n",
    "params2save[0] = parameters[1]\n",
    "params2save[1] = parameters[0]\n",
    "params2save[2] = parameters[3]\n",
    "params2save[3] = parameters[2]\n",
    "params2save[4] = parameters[5]\n",
    "params2save[5] = parameters[4]\n",
    "params2save[6] = parameters[7]\n",
    "params2save[7] = parameters[6]"
   ]
  },
  {
   "cell_type": "code",
   "execution_count": 13,
   "id": "1c307173",
   "metadata": {},
   "outputs": [],
   "source": [
    "np.savetxt('Data/Fits/SRK_params_polyTdep.csv',params2save,delimiter=',')"
   ]
  },
  {
   "cell_type": "code",
   "execution_count": 14,
   "id": "governmental-nudist",
   "metadata": {},
   "outputs": [
    {
     "name": "stdout",
     "output_type": "stream",
     "text": [
      "Covariance Matrix:\n",
      "[[  41.65798262   19.68564752  -98.24618754  -55.08148842   72.21889234\n",
      "    51.15987129  -15.70706953  -15.77333478]\n",
      " [  19.68564752   11.16225055  -47.95344245  -31.32110861   37.25882239\n",
      "    29.1885995    -9.02506729   -9.03465746]\n",
      " [ -98.24618754  -47.95344245  233.03361751  134.29588131 -172.9654092\n",
      "  -124.85665449   38.35515164   38.53650941]\n",
      " [ -55.08148843  -31.32110861  134.29588132   87.91436272 -104.46810721\n",
      "   -81.95466363   25.34865192   25.37518063]\n",
      " [  72.21889235   37.25882239 -172.9654092  -104.46810721  130.51634735\n",
      "    97.25472536  -29.89729745  -30.0623489 ]\n",
      " [  51.1598713    29.18859951 -124.85665449  -81.95466363   97.25472536\n",
      "    76.42344433  -23.64576828  -23.67018074]\n",
      " [ -15.70706953   -9.02506729   38.35515164   25.34865192  -29.89729745\n",
      "   -23.64576828    7.27618264    7.32613356]\n",
      " [ -15.77333478   -9.03465746   38.53650941   25.37518063  -30.0623489\n",
      "   -23.67018074    7.32613356    7.33360704]]\n"
     ]
    }
   ],
   "source": [
    "cov = np.array(a)\n",
    "print('Covariance Matrix:')\n",
    "print(cov)"
   ]
  },
  {
   "cell_type": "code",
   "execution_count": 15,
   "id": "05063047",
   "metadata": {},
   "outputs": [],
   "source": [
    "np.savetxt('Data/Covariance/SRK_Cov_polyTdep.csv',cov,delimiter=',')"
   ]
  },
  {
   "cell_type": "markdown",
   "id": "aging-authentication",
   "metadata": {},
   "source": [
    "## Apply Parameters + Plot"
   ]
  },
  {
   "cell_type": "code",
   "execution_count": null,
   "id": "endangered-gibraltar",
   "metadata": {},
   "outputs": [],
   "source": [
    "solver = SolverFactory('ipopt')\n",
    "solver.options = {'tol': 1e-6}"
   ]
  },
  {
   "cell_type": "code",
   "execution_count": null,
   "id": "royal-switch",
   "metadata": {},
   "outputs": [],
   "source": [
    "m = ConcreteModel()\n",
    "\n",
    "m.fs = FlowsheetBlock(default={\"dynamic\": False})\n",
    "\n",
    "m.fs.properties = GenericParameterBlock(default=configuration)\n",
    "\n",
    "m.fs.F101 = Flash(default={\"property_package\": m.fs.properties,\n",
    "                           \"has_heat_transfer\": True,\n",
    "                           \"has_pressure_change\": True})\n",
    "\n",
    "m.fs.F101.inlet.flow_mol.fix(1)\n",
    "m.fs.F101.inlet.temperature.fix(283.15)\n",
    "m.fs.F101.inlet.pressure.fix(100000)\n",
    "m.fs.F101.inlet.mole_frac_comp[0,'R125'].fix(0.1)\n",
    "\n",
    "m.fs.properties.SRK_kappa_A['R125','emimTf2N'] = parameters['fs.properties.SRK_kappa_A[R125,emimTf2N]']\n",
    "m.fs.properties.SRK_kappa_A['emimTf2N','R125'] = parameters['fs.properties.SRK_kappa_A[emimTf2N,R125]']\n",
    "m.fs.properties.SRK_kappa_B['R125','emimTf2N'] = parameters['fs.properties.SRK_kappa_B[R125,emimTf2N]']\n",
    "m.fs.properties.SRK_kappa_B['emimTf2N','R125'] = parameters['fs.properties.SRK_kappa_B[emimTf2N,R125]']\n",
    "m.fs.properties.SRK_kappa_C['R125','emimTf2N'] = parameters['fs.properties.SRK_kappa_C[R125,emimTf2N]']\n",
    "m.fs.properties.SRK_kappa_C['emimTf2N','R125'] = parameters['fs.properties.SRK_kappa_C[emimTf2N,R125]']\n",
    "m.fs.properties.SRK_kappa_D['R125','emimTf2N'] = parameters['fs.properties.SRK_kappa_D[R125,emimTf2N]']\n",
    "m.fs.properties.SRK_kappa_D['emimTf2N','R125'] = parameters['fs.properties.SRK_kappa_D[emimTf2N,R125]']\n",
    "\n",
    "# Initialize the flash unit\n",
    "m.fs.F101.initialize(outlvl=idaeslog.CRITICAL)\n",
    "\n",
    "# Fix the state variables on the state block\n",
    "# m.fs.F101.inlet.pressure.unfix()\n",
    "m.fs.F101.inlet.mole_frac_comp[0,'emimTf2N'].unfix()\n",
    "\n",
    "R125_x = np.zeros((len(data_extended)))\n",
    "P = np.zeros((len(data_extended)))\n",
    "T = np.zeros((len(data_extended)))\n",
    "\n",
    "m.fs.liq = Param(mutable=True,default=0.040)\n",
    "m.fs.liquid = Constraint(expr=m.fs.F101.liq_outlet.mole_frac_comp[0, \"emimTf2N\"] == m.fs.liq)\n",
    "\n",
    "for i in range(len(data_extended)):\n",
    "    print('i:',i)\n",
    "    print('Try x_IL:',data_extended[\"x_emimTf2N\"].iloc[i])\n",
    "    m.fs.liq = data_extended[\"x_emimTf2N\"].iloc[i]\n",
    "    m.fs.F101.inlet.temperature.fix(float(data_extended[\"temperature\"].iloc[i]))\n",
    "    m.fs.F101.inlet.pressure.fix(float(data_extended[\"pressure\"].iloc[i]))\n",
    "    m.fs.F101.inlet.mole_frac_comp[0,'R125'].fix(float(data_extended[\"x_R125\"].iloc[i])+0.1)\n",
    "    m.fs.F101.inlet.mole_frac_comp[0,'emimTf2N'].fix(float(1-(data_extended[\"x_R125\"].iloc[i]+0.1)))\n",
    "    m.fs.F101.vap_outlet.temperature.fix(float(data_extended[\"temperature\"].iloc[i]))\n",
    "    \n",
    "    try:\n",
    "        m.fs.F101.initialize(outlvl=idaeslog.CRITICAL)\n",
    "        \n",
    "    except:\n",
    "        print('Initialization Error')\n",
    "        \n",
    "    try:\n",
    "\n",
    "        status = solver.solve(m, tee = False)\n",
    "        \n",
    "        if (status.solver.status == SolverStatus.ok) and (status.solver.termination_condition == TerminationCondition.optimal):\n",
    "            print('Feasible/Optimal Solution')\n",
    "            R125_x[i] = value(m.fs.F101.liq_outlet.mole_frac_comp[0,'R125']) \n",
    "            P[i] = value(m.fs.F101.vap_outlet.pressure[0])\n",
    "            T[i] = data_extended[\"temperature\"].iloc[i]\n",
    "        else:\n",
    "            print('Infeasible Solution')\n",
    "            R125_x[i] = np.nan\n",
    "            P[i] = np.nan\n",
    "            T[i] = data_extended[\"temperature\"].iloc[i]\n",
    "            \n",
    "    except ValueError:\n",
    "        R125_x[i] = np.nan\n",
    "        P[i] = np.nan\n",
    "        T[i] = data_extended[\"temperature\"].iloc[i]\n",
    "        print('Solver Error')"
   ]
  },
  {
   "cell_type": "code",
   "execution_count": null,
   "id": "ca5eb3c4",
   "metadata": {},
   "outputs": [],
   "source": [
    "fitted_data = pd.DataFrame(data=[R125_x,P/1e6,T])\n",
    "fitted_data = fitted_data.T\n",
    "fitted_data.columns = ['R125_x','P, MPa','T, K']\n",
    "fitted_data.to_csv('Data/Fits/SRK_FittedData_polyTdep.csv')"
   ]
  },
  {
   "cell_type": "code",
   "execution_count": null,
   "id": "religious-joining",
   "metadata": {},
   "outputs": [],
   "source": [
    "plt.plot(fitted_data.where(fitted_data['T, K']==283.1)['R125_x'],fitted_data.where(fitted_data['T, K']==283.1)['P, MPa'],\"b-\",label='T=283 K')\n",
    "plt.plot(fitted_data.where(fitted_data['T, K']==298.1)['R125_x'],fitted_data.where(fitted_data['T, K']==298.1)['P, MPa'],\"r-\",label='T=298 K')\n",
    "plt.plot(fitted_data.where(fitted_data['T, K']==323.1)['R125_x'],fitted_data.where(fitted_data['T, K']==323.1)['P, MPa'],\"c-\",label='T=323 K')\n",
    "plt.plot(fitted_data.where(fitted_data['T, K']==348.1)['R125_x'],fitted_data.where(fitted_data['T, K']==348.1)['P, MPa'],\"m-\",label='T=348 K')\n",
    "plt.plot(data_full[\"x_R125\"],data_full[\"pressure\"]/1e6,\"*\",color='orange',label=\"data\")  \n",
    "plt.title('Isotherm R125-[emim][TF2N]')\n",
    "plt.ylabel('Pressure (MPa)')\n",
    "plt.xlabel('x R125')\n",
    "plt.grid(True)\n",
    "plt.ylim(0,1.110000)\n",
    "plt.legend()\n",
    "plt.show()"
   ]
  },
  {
   "cell_type": "markdown",
   "id": "graduate-addiction",
   "metadata": {},
   "source": [
    "### Print Eigvals, Eigvectors\n",
    "\n",
    "An identifiability analysis can be performed with these as well as a FIM because the covariance matrix is the inverse of the FIM. That means that if there are any eigvals > 0, their eigvecs indicate directions of un-identifiability."
   ]
  },
  {
   "cell_type": "code",
   "execution_count": null,
   "id": "convinced-terrain",
   "metadata": {},
   "outputs": [],
   "source": [
    "eigvals, eigvecs = np.linalg.eig(cov)"
   ]
  },
  {
   "cell_type": "code",
   "execution_count": null,
   "id": "standing-startup",
   "metadata": {},
   "outputs": [],
   "source": [
    "eigvals"
   ]
  },
  {
   "cell_type": "code",
   "execution_count": null,
   "id": "minor-relay",
   "metadata": {},
   "outputs": [],
   "source": [
    "eigvecs"
   ]
  },
  {
   "cell_type": "code",
   "execution_count": null,
   "id": "170eace1",
   "metadata": {},
   "outputs": [],
   "source": [
    "np.savetxt('Data/EigenAnalysis/SRK_vals_polyTdep.csv',eigvals,delimiter=',')\n",
    "np.savetxt('Data/EigenAnalysis/SRK_vecs_polyTdep.csv',eigvecs,delimiter=',')"
   ]
  },
  {
   "cell_type": "code",
   "execution_count": null,
   "id": "2894d980",
   "metadata": {},
   "outputs": [],
   "source": [
    "FIM = np.linalg.inv(cov) \n",
    "\n",
    "#A_opt\n",
    "FIM_trace = np.trace(FIM)\n",
    "cov_trace = np.trace(cov)\n",
    "\n",
    "#D_opt\n",
    "FIM_det = np.linalg.det(FIM)\n",
    "\n",
    "#E_opt\n",
    "eigvals_FIM, eigvecs_FIM = np.linalg.eig(FIM)\n",
    "eigvals_FIM_min = eigvals_FIM.min()\n",
    "eigvals_FIM_max = eigvals_FIM.max()\n",
    "\n",
    "np.savetxt('Data/EigenAnalysis/SRK_FIMtrdet_polyTdep.csv',[cov_trace,FIM_trace,FIM_det,eigvals_FIM_min,eigvals_FIM_max])\n",
    "np.savetxt('Data/EigenAnalysis/SRK_FIMvals_polyTdep.csv',eigvals_FIM,delimiter=',')\n",
    "np.savetxt('Data/EigenAnalysis/SRK_FIMvecs_polyTdep.csv',eigvecs_FIM,delimiter=',')"
   ]
  },
  {
   "cell_type": "markdown",
   "id": "injured-karen",
   "metadata": {},
   "source": [
    "## AIC Value\n",
    "\n",
    "See: https://doi.org/10.1080/21642583.2018.1496042\n",
    "\n",
    "AIC(k) = Nln(MSE(k))+2k\n",
    "\n",
    "N: number of data points\n",
    "\n",
    "MSE(k): mean squared error of the model with k parameters\n",
    "\n",
    "k: number of parameters\n",
    "\n",
    "MSE(k) = SSE(k)/N\n",
    "\n",
    "SSE: sum of squared error of the model with k parameters"
   ]
  },
  {
   "cell_type": "code",
   "execution_count": null,
   "id": "2be37c80",
   "metadata": {},
   "outputs": [],
   "source": [
    "#number of datapoints\n",
    "N = len(data_subset)\n",
    "#MSE(k)\n",
    "MSE = obj_value*1E-2/N\n",
    "#number of parameters\n",
    "k = 8"
   ]
  },
  {
   "cell_type": "code",
   "execution_count": null,
   "id": "solar-thermal",
   "metadata": {},
   "outputs": [],
   "source": [
    "AIC = N*np.log(MSE) + 2*k\n",
    "AIC"
   ]
  },
  {
   "cell_type": "code",
   "execution_count": null,
   "id": "geological-pattern",
   "metadata": {},
   "outputs": [],
   "source": [
    "AIC_data = pd.DataFrame(data=[N,MSE,k,obj_value,AIC])\n",
    "AIC_data = AIC_data.T\n",
    "AIC_data.columns = ['N','MSE','k','Objective, Pa^2','AIC']\n",
    "AIC_data.to_csv('Data/AIC/SRK_AIC_polyTdep.csv')"
   ]
  },
  {
   "cell_type": "code",
   "execution_count": null,
   "id": "27a2815c",
   "metadata": {},
   "outputs": [],
   "source": []
  }
 ],
 "metadata": {
  "kernelspec": {
   "display_name": "Python 3 (ipykernel)",
   "language": "python",
   "name": "python3"
  },
  "language_info": {
   "codemirror_mode": {
    "name": "ipython",
    "version": 3
   },
   "file_extension": ".py",
   "mimetype": "text/x-python",
   "name": "python",
   "nbconvert_exporter": "python",
   "pygments_lexer": "ipython3",
   "version": "3.9.9"
  }
 },
 "nbformat": 4,
 "nbformat_minor": 5
}
