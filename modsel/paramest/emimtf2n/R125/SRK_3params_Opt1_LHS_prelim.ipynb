{
 "cells": [
  {
   "cell_type": "markdown",
   "id": "d4de6609",
   "metadata": {},
   "source": [
    "# Organize LH sample for SRK 3params Opt1 LHS multistart"
   ]
  },
  {
   "cell_type": "code",
   "execution_count": 1,
   "id": "309efa6a",
   "metadata": {},
   "outputs": [],
   "source": [
    "import pandas as pd\n",
    "import numpy as np\n",
    "\n",
    "import sys\n",
    "sys.path.append('../../')"
   ]
  },
  {
   "cell_type": "code",
   "execution_count": 2,
   "id": "6539d4ff",
   "metadata": {},
   "outputs": [],
   "source": [
    "SRK_no_results = pd.read_csv('Final_Results/Data/Init_Final/LHS_Output/SRK_noTdep_LHS_final.csv',index_col=0)"
   ]
  },
  {
   "cell_type": "code",
   "execution_count": 3,
   "id": "c57b9fa9",
   "metadata": {},
   "outputs": [
    {
     "data": {
      "text/html": [
       "<div>\n",
       "<style scoped>\n",
       "    .dataframe tbody tr th:only-of-type {\n",
       "        vertical-align: middle;\n",
       "    }\n",
       "\n",
       "    .dataframe tbody tr th {\n",
       "        vertical-align: top;\n",
       "    }\n",
       "\n",
       "    .dataframe thead th {\n",
       "        text-align: right;\n",
       "    }\n",
       "</style>\n",
       "<table border=\"1\" class=\"dataframe\">\n",
       "  <thead>\n",
       "    <tr style=\"text-align: right;\">\n",
       "      <th></th>\n",
       "      <th>Param1</th>\n",
       "      <th>Param2</th>\n",
       "      <th>sc_param1</th>\n",
       "      <th>sc_param2</th>\n",
       "      <th>SRK_kappa_A[emimTf2N,R125]</th>\n",
       "      <th>SRK_kappa_A[R125,emimTf2N]</th>\n",
       "      <th>SSR</th>\n",
       "    </tr>\n",
       "  </thead>\n",
       "  <tbody>\n",
       "    <tr>\n",
       "      <th>2923</th>\n",
       "      <td>0.377554</td>\n",
       "      <td>0.474876</td>\n",
       "      <td>-0.489994</td>\n",
       "      <td>-0.100592</td>\n",
       "      <td>-0.052865</td>\n",
       "      <td>-0.028872</td>\n",
       "      <td>0.133158</td>\n",
       "    </tr>\n",
       "  </tbody>\n",
       "</table>\n",
       "</div>"
      ],
      "text/plain": [
       "        Param1    Param2  sc_param1  sc_param2  SRK_kappa_A[emimTf2N,R125]  \\\n",
       "2923  0.377554  0.474876  -0.489994  -0.100592                   -0.052865   \n",
       "\n",
       "      SRK_kappa_A[R125,emimTf2N]       SSR  \n",
       "2923                   -0.028872  0.133158  "
      ]
     },
     "execution_count": 3,
     "metadata": {},
     "output_type": "execute_result"
    }
   ],
   "source": [
    "SRK_no_results[SRK_no_results.SSR == SRK_no_results.SSR.min()]"
   ]
  },
  {
   "cell_type": "code",
   "execution_count": 4,
   "id": "a45ca2d2",
   "metadata": {},
   "outputs": [],
   "source": [
    "no_2923 = SRK_no_results.iloc[2923]"
   ]
  },
  {
   "cell_type": "code",
   "execution_count": 10,
   "id": "3b201487",
   "metadata": {},
   "outputs": [
    {
     "data": {
      "text/plain": [
       "sc_param1   -0.489994\n",
       "sc_param2   -0.100592\n",
       "Name: 2923, dtype: float64"
      ]
     },
     "execution_count": 10,
     "metadata": {},
     "output_type": "execute_result"
    }
   ],
   "source": [
    "no_2923"
   ]
  },
  {
   "cell_type": "code",
   "execution_count": 5,
   "id": "d0b2c57a",
   "metadata": {},
   "outputs": [],
   "source": [
    "lhs = pd.read_csv('../../LHS_5000x8.txt')"
   ]
  },
  {
   "cell_type": "code",
   "execution_count": 6,
   "id": "3ba4bd62",
   "metadata": {},
   "outputs": [],
   "source": [
    "lhs['sc_param4'] = ((lhs['Param4']-lhs['Param4'].min())/(lhs['Param4'].max()-lhs['Param4'].min()))*4+(-2)"
   ]
  },
  {
   "cell_type": "code",
   "execution_count": 7,
   "id": "d1497feb",
   "metadata": {},
   "outputs": [],
   "source": [
    "no_2923 = no_2923[['sc_param1','sc_param2']]"
   ]
  },
  {
   "cell_type": "code",
   "execution_count": 8,
   "id": "1e325f20",
   "metadata": {},
   "outputs": [],
   "source": [
    "no_2923_df = pd.DataFrame(no_2923).T\n",
    "sc_2923 = pd.concat([no_2923_df]*5000,ignore_index=True)\n",
    "sc_2923_lhs = pd.concat([sc_2923,lhs[['sc_param4']]],axis=1,ignore_index=True)\n",
    "sc_2923_lhs.columns = ['sc_param1','sc_param2','sc_param4']\n",
    "sc_2923_lhs.to_csv('Final_Results/Data/Init_Final/SRK_3params_Opt1_fromno.csv',sep=',')"
   ]
  },
  {
   "cell_type": "code",
   "execution_count": 9,
   "id": "3ee80540",
   "metadata": {},
   "outputs": [
    {
     "data": {
      "text/html": [
       "<div>\n",
       "<style scoped>\n",
       "    .dataframe tbody tr th:only-of-type {\n",
       "        vertical-align: middle;\n",
       "    }\n",
       "\n",
       "    .dataframe tbody tr th {\n",
       "        vertical-align: top;\n",
       "    }\n",
       "\n",
       "    .dataframe thead th {\n",
       "        text-align: right;\n",
       "    }\n",
       "</style>\n",
       "<table border=\"1\" class=\"dataframe\">\n",
       "  <thead>\n",
       "    <tr style=\"text-align: right;\">\n",
       "      <th></th>\n",
       "      <th>sc_param1</th>\n",
       "      <th>sc_param2</th>\n",
       "      <th>sc_param4</th>\n",
       "    </tr>\n",
       "  </thead>\n",
       "  <tbody>\n",
       "    <tr>\n",
       "      <th>0</th>\n",
       "      <td>-0.489994</td>\n",
       "      <td>-0.100592</td>\n",
       "      <td>-1.159643</td>\n",
       "    </tr>\n",
       "    <tr>\n",
       "      <th>1</th>\n",
       "      <td>-0.489994</td>\n",
       "      <td>-0.100592</td>\n",
       "      <td>0.222301</td>\n",
       "    </tr>\n",
       "    <tr>\n",
       "      <th>2</th>\n",
       "      <td>-0.489994</td>\n",
       "      <td>-0.100592</td>\n",
       "      <td>-1.614484</td>\n",
       "    </tr>\n",
       "    <tr>\n",
       "      <th>3</th>\n",
       "      <td>-0.489994</td>\n",
       "      <td>-0.100592</td>\n",
       "      <td>1.212994</td>\n",
       "    </tr>\n",
       "    <tr>\n",
       "      <th>4</th>\n",
       "      <td>-0.489994</td>\n",
       "      <td>-0.100592</td>\n",
       "      <td>-1.649471</td>\n",
       "    </tr>\n",
       "    <tr>\n",
       "      <th>...</th>\n",
       "      <td>...</td>\n",
       "      <td>...</td>\n",
       "      <td>...</td>\n",
       "    </tr>\n",
       "    <tr>\n",
       "      <th>4995</th>\n",
       "      <td>-0.489994</td>\n",
       "      <td>-0.100592</td>\n",
       "      <td>1.859791</td>\n",
       "    </tr>\n",
       "    <tr>\n",
       "      <th>4996</th>\n",
       "      <td>-0.489994</td>\n",
       "      <td>-0.100592</td>\n",
       "      <td>-0.915210</td>\n",
       "    </tr>\n",
       "    <tr>\n",
       "      <th>4997</th>\n",
       "      <td>-0.489994</td>\n",
       "      <td>-0.100592</td>\n",
       "      <td>0.413430</td>\n",
       "    </tr>\n",
       "    <tr>\n",
       "      <th>4998</th>\n",
       "      <td>-0.489994</td>\n",
       "      <td>-0.100592</td>\n",
       "      <td>1.494202</td>\n",
       "    </tr>\n",
       "    <tr>\n",
       "      <th>4999</th>\n",
       "      <td>-0.489994</td>\n",
       "      <td>-0.100592</td>\n",
       "      <td>-0.821543</td>\n",
       "    </tr>\n",
       "  </tbody>\n",
       "</table>\n",
       "<p>5000 rows × 3 columns</p>\n",
       "</div>"
      ],
      "text/plain": [
       "      sc_param1  sc_param2  sc_param4\n",
       "0     -0.489994  -0.100592  -1.159643\n",
       "1     -0.489994  -0.100592   0.222301\n",
       "2     -0.489994  -0.100592  -1.614484\n",
       "3     -0.489994  -0.100592   1.212994\n",
       "4     -0.489994  -0.100592  -1.649471\n",
       "...         ...        ...        ...\n",
       "4995  -0.489994  -0.100592   1.859791\n",
       "4996  -0.489994  -0.100592  -0.915210\n",
       "4997  -0.489994  -0.100592   0.413430\n",
       "4998  -0.489994  -0.100592   1.494202\n",
       "4999  -0.489994  -0.100592  -0.821543\n",
       "\n",
       "[5000 rows x 3 columns]"
      ]
     },
     "execution_count": 9,
     "metadata": {},
     "output_type": "execute_result"
    }
   ],
   "source": [
    "sc_2923_lhs"
   ]
  },
  {
   "cell_type": "code",
   "execution_count": null,
   "id": "804d5655",
   "metadata": {},
   "outputs": [],
   "source": []
  }
 ],
 "metadata": {
  "kernelspec": {
   "display_name": "Python 3 (ipykernel)",
   "language": "python",
   "name": "python3"
  },
  "language_info": {
   "codemirror_mode": {
    "name": "ipython",
    "version": 3
   },
   "file_extension": ".py",
   "mimetype": "text/x-python",
   "name": "python",
   "nbconvert_exporter": "python",
   "pygments_lexer": "ipython3",
   "version": "3.9.9"
  }
 },
 "nbformat": 4,
 "nbformat_minor": 5
}
