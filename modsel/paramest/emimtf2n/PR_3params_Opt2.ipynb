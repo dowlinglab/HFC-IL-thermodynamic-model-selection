{
 "cells": [
  {
   "cell_type": "markdown",
   "id": "faced-jones",
   "metadata": {},
   "source": [
    "# Fit emimTF2N data\n",
    "\n",
    "EoS: PR\n",
    "\n",
    "Parameter T dependence: Linear in [emimTF2N,R32] direction\n",
    "\n",
    "N (total fitting parameters): 3\n",
    "\n",
    "**Note: Need to figure out initialization**"
   ]
  },
  {
   "cell_type": "markdown",
   "id": "searching-native",
   "metadata": {},
   "source": [
    "## Import Functions"
   ]
  },
  {
   "cell_type": "code",
   "execution_count": 1,
   "id": "dress-edward",
   "metadata": {},
   "outputs": [],
   "source": [
    "import idaes\n",
    "\n",
    "import pandas as pd\n",
    "import numpy as np\n",
    "import matplotlib.pyplot as plt\n",
    "import scipy.optimize\n",
    "\n",
    "import sys\n",
    "sys.path.append('../')\n",
    "\n",
    "from pyomo.environ import (Constraint,\n",
    "                           Var,\n",
    "                           ConcreteModel,\n",
    "                           Expression,\n",
    "                           Param,\n",
    "                           Objective,\n",
    "                           SolverFactory,\n",
    "                           TransformationFactory,\n",
    "                           value)\n",
    "from pyomo.opt import TerminationCondition, SolverStatus\n",
    "\n",
    "from idaes.core import FlowsheetBlock\n",
    "import idaes.logger as idaeslog\n",
    "# Import the Generic Parameter Block\n",
    "from idaes.generic_models.properties.core.generic.generic_property import (\n",
    "        GenericParameterBlock)\n",
    "# Import unit models from the model library\n",
    "from idaes.generic_models.unit_models import Flash\n",
    "# Import degrees of freedom tool\n",
    "from idaes.core.util.model_statistics import degrees_of_freedom\n",
    "\n",
    "# parmest (binary_param2)\n",
    "from bip_fitting_functions import linear\n",
    "\n",
    "import scipy.stats as stats\n",
    "\n",
    "from matplotlib.patches import Ellipse\n",
    "import matplotlib.transforms as transforms\n",
    "import matplotlib.patches as mpatches"
   ]
  },
  {
   "cell_type": "markdown",
   "id": "productive-hungarian",
   "metadata": {},
   "source": [
    "## Load Data"
   ]
  },
  {
   "cell_type": "code",
   "execution_count": 2,
   "id": "coated-warehouse",
   "metadata": {},
   "outputs": [],
   "source": [
    "data_full = pd.read_csv('r32_emimtf2n_full.csv')\n",
    "data_subset = pd.read_csv('r32_emimtf2n_subset.csv')"
   ]
  },
  {
   "cell_type": "markdown",
   "id": "rough-mining",
   "metadata": {},
   "source": [
    "## Load Configuration + Check DOF"
   ]
  },
  {
   "cell_type": "code",
   "execution_count": 3,
   "id": "falling-swiss",
   "metadata": {},
   "outputs": [],
   "source": [
    "from hfc32_emimtf2n_PR import configuration "
   ]
  },
  {
   "cell_type": "code",
   "execution_count": 4,
   "id": "hairy-cause",
   "metadata": {},
   "outputs": [
    {
     "name": "stdout",
     "output_type": "stream",
     "text": [
      "WARNING: DEPRECATED: Using __getitem__ to return a set value from its\n",
      "    (ordered) position is deprecated.  Please use at()  (deprecated in 6.1,\n",
      "    will be removed in 7.0) (called from /Users/bridgettebefort/Dowling-\n",
      "    Maginn-Lab/DowlingLab/IL-MD/idaes-\n",
      "    pse/idaes/generic_models/properties/core/state_definitions/FTPx.py:178)\n",
      "WARNING: DEPRECATED: Using __getitem__ to return a set value from its\n",
      "    (ordered) position is deprecated.  Please use at()  (deprecated in 6.1,\n",
      "    will be removed in 7.0) (called from /Users/bridgettebefort/Dowling-\n",
      "    Maginn-Lab/DowlingLab/IL-MD/idaes-\n",
      "    pse/idaes/generic_models/properties/core/state_definitions/FTPx.py:176)\n",
      "The initial DOF is 7\n"
     ]
    }
   ],
   "source": [
    "m = ConcreteModel()\n",
    "m.fs = FlowsheetBlock(default={\"dynamic\": False})\n",
    "m.fs.properties = GenericParameterBlock(default=configuration)\n",
    "m.fs.F101 = Flash(default={\"property_package\": m.fs.properties,\n",
    "                           \"has_heat_transfer\": True,\n",
    "                           \"has_pressure_change\": True})\n",
    "DOF_initial = degrees_of_freedom(m)\n",
    "print('The initial DOF is {0}'.format(DOF_initial))"
   ]
  },
  {
   "cell_type": "markdown",
   "id": "collectible-chapel",
   "metadata": {},
   "source": [
    "## Fit Parameters"
   ]
  },
  {
   "cell_type": "code",
   "execution_count": 5,
   "id": "painful-composite",
   "metadata": {},
   "outputs": [
    {
     "name": "stdout",
     "output_type": "stream",
     "text": [
      "2021-09-30 09:48:22 [INFO] idaes.init.fs.state_block: Property package initialization: optimal - Optimal Solution Found.\n",
      "2021-09-30 09:48:22 [INFO] idaes.init.fs.state_block: Property package initialization: optimal - Optimal Solution Found.\n",
      "2021-09-30 09:48:22 [INFO] idaes.init.fs.state_block: Property package initialization: infeasible - Converged to a locally infeasible point. Problem may be infeasible..\n",
      "2021-09-30 09:48:23 [INFO] idaes.init.fs.state_block: Property package initialization: infeasible - Converged to a locally infeasible point. Problem may be infeasible..\n",
      "2021-09-30 09:48:23 [INFO] idaes.init.fs.state_block: Property package initialization: optimal - Optimal Solution Found.\n",
      "2021-09-30 09:48:24 [INFO] idaes.init.fs.state_block: Property package initialization: infeasible - Converged to a locally infeasible point. Problem may be infeasible..\n",
      "2021-09-30 09:48:24 [INFO] idaes.init.fs.state_block: Property package initialization: optimal - Optimal Solution Found.\n",
      "2021-09-30 09:48:25 [INFO] idaes.init.fs.state_block: Property package initialization: optimal - Optimal Solution Found.\n",
      "2021-09-30 09:48:25 [INFO] idaes.init.fs.state_block: Property package initialization: optimal - Optimal Solution Found.\n",
      "2021-09-30 09:48:25 [INFO] idaes.init.fs.state_block: Property package initialization: infeasible - Converged to a locally infeasible point. Problem may be infeasible..\n",
      "2021-09-30 09:48:26 [INFO] idaes.init.fs.state_block: Property package initialization: infeasible - Converged to a locally infeasible point. Problem may be infeasible..\n",
      "2021-09-30 09:48:26 [INFO] idaes.init.fs.state_block: Property package initialization: infeasible - Converged to a locally infeasible point. Problem may be infeasible..\n",
      "2021-09-30 09:48:27 [INFO] idaes.init.fs.state_block: Property package initialization: optimal - Optimal Solution Found.\n",
      "2021-09-30 09:48:27 [INFO] idaes.init.fs.state_block: Property package initialization: optimal - Optimal Solution Found.\n",
      "2021-09-30 09:48:27 [INFO] idaes.init.fs.state_block: Property package initialization: optimal - Optimal Solution Found.\n",
      "2021-09-30 09:48:28 [INFO] idaes.init.fs.state_block: Property package initialization: optimal - Optimal Solution Found.\n",
      "2021-09-30 09:48:28 [INFO] idaes.init.fs.state_block: Property package initialization: optimal - Optimal Solution Found.\n",
      "2021-09-30 09:48:29 [INFO] idaes.init.fs.state_block: Property package initialization: infeasible - Converged to a locally infeasible point. Problem may be infeasible..\n",
      "2021-09-30 09:48:29 [INFO] idaes.init.fs.state_block: Property package initialization: infeasible - Converged to a locally infeasible point. Problem may be infeasible..\n",
      "2021-09-30 09:48:30 [INFO] idaes.init.fs.state_block: Property package initialization: infeasible - Converged to a locally infeasible point. Problem may be infeasible..\n",
      "2021-09-30 09:48:30 [INFO] idaes.init.fs.state_block: Property package initialization: optimal - Optimal Solution Found.\n",
      "2021-09-30 09:48:30 [INFO] idaes.init.fs.state_block: Property package initialization: optimal - Optimal Solution Found.\n",
      "2021-09-30 09:48:31 [INFO] idaes.init.fs.state_block: Property package initialization: optimal - Optimal Solution Found.\n",
      "2021-09-30 09:48:31 [INFO] idaes.init.fs.state_block: Property package initialization: optimal - Optimal Solution Found.\n",
      "2021-09-30 09:48:31 [INFO] idaes.init.fs.state_block: Property package initialization: optimal - Optimal Solution Found.\n",
      "2021-09-30 09:48:32 [INFO] idaes.init.fs.state_block: Property package initialization: optimal - Optimal Solution Found.\n",
      "2021-09-30 09:48:32 [INFO] idaes.init.fs.state_block: Property package initialization: optimal - Optimal Solution Found.\n",
      "Ipopt 3.13.2: bound_relax_factor=0\n",
      "honor_original_bounds=no\n",
      "\n",
      "\n",
      "******************************************************************************\n",
      "This program contains Ipopt, a library for large-scale nonlinear optimization.\n",
      " Ipopt is released as open source code under the Eclipse Public License (EPL).\n",
      "         For more information visit http://projects.coin-or.org/Ipopt\n",
      "\n",
      "This version of Ipopt was compiled from source code available at\n",
      "    https://github.com/IDAES/Ipopt as part of the Institute for the Design of\n",
      "    Advanced Energy Systems Process Systems Engineering Framework (IDAES PSE\n",
      "    Framework) Copyright (c) 2018-2019. See https://github.com/IDAES/idaes-pse.\n",
      "\n",
      "This version of Ipopt was compiled using HSL, a collection of Fortran codes\n",
      "    for large-scale scientific computation.  All technical papers, sales and\n",
      "    publicity material resulting from use of the HSL codes within IPOPT must\n",
      "    contain the following acknowledgement:\n",
      "        HSL, a collection of Fortran codes for large-scale scientific\n",
      "        computation. See http://www.hsl.rl.ac.uk.\n",
      "******************************************************************************\n",
      "\n",
      "This is Ipopt version 3.13.2, running with linear solver ma27.\n",
      "\n",
      "Number of nonzeros in equality constraint Jacobian...:     1020\n",
      "Number of nonzeros in inequality constraint Jacobian.:        0\n",
      "Number of nonzeros in Lagrangian Hessian.............:     1161\n",
      "\n",
      "Total number of variables............................:      405\n",
      "                     variables with only lower bounds:      162\n",
      "                variables with lower and upper bounds:      189\n",
      "                     variables with only upper bounds:        0\n",
      "Total number of equality constraints.................:      402\n",
      "Total number of inequality constraints...............:        0\n",
      "        inequality constraints with only lower bounds:        0\n",
      "   inequality constraints with lower and upper bounds:        0\n",
      "        inequality constraints with only upper bounds:        0\n",
      "\n",
      "iter    objective    inf_pr   inf_du lg(mu)  ||d||  lg(rg) alpha_du alpha_pr  ls\n",
      "   0  0.0000000e+00 7.56e+00 4.00e-15  -1.0 0.00e+00    -  0.00e+00 0.00e+00   0\n",
      "   1  1.3184742e-02 7.54e+00 2.43e+03  -1.0 5.16e+06    -  1.56e-04 2.00e-03h  1\n",
      "   2  1.5443552e-02 7.54e+00 2.43e+03  -1.0 6.75e+06    -  3.98e-03 1.43e-04h  1\n",
      "   3  1.5444012e-01 7.51e+00 1.16e+04  -1.0 6.84e+06    -  3.64e-02 3.78e-03h  1\n",
      "   4  1.3314428e+00 7.45e+00 7.49e+04  -1.0 6.71e+06    -  1.33e-02 9.92e-03h  5\n",
      "   5  4.8644812e-01 7.33e+00 1.02e+05  -1.0 7.67e+06    -  2.27e-02 1.05e-03H  1\n",
      "   6  1.3162607e+00 7.30e+00 9.93e+04  -1.0 9.89e+06    -  5.17e-04 5.91e-03h  5\n",
      "   7  1.1322342e+00 7.29e+00 9.93e+04  -1.0 9.44e+06    -  1.03e-02 1.24e-04H  1\n",
      "   8  1.3536550e+00 7.28e+00 9.91e+04  -1.0 1.10e+07    -  1.57e-04 1.26e-03f  7\n",
      "   9  1.3959053e+00 7.28e+00 9.89e+04  -1.0 2.02e+07    -  1.44e-01 1.69e-04h  9\n",
      "iter    objective    inf_pr   inf_du lg(mu)  ||d||  lg(rg) alpha_du alpha_pr  ls\n",
      "  10  2.2086271e+00 7.23e+00 1.00e+05  -1.0 7.86e+06    -  8.77e-04 8.11e-03h  6\n",
      "  11  2.8318845e+00 7.21e+00 1.00e+05  -1.0 7.68e+06    -  6.15e-02 3.57e-03h  7\n",
      "  12  3.3342769e+00 7.19e+00 9.99e+04  -1.0 7.38e+06    -  8.82e-02 2.40e-03h  8\n",
      "  13  5.4618444e+00 6.93e+00 1.02e+05  -1.0 7.31e+06    -  1.13e-03 1.97e-02h  1\n",
      "  14  5.4884743e+00 6.93e+00 1.02e+05  -1.0 7.13e+06    -  9.55e-06 1.80e-04h  1\n",
      "  15  5.4884751e+00 6.93e+00 1.02e+05  -1.0 7.08e+05    -  4.41e-07 6.93e-08f  4\n",
      "  16  5.4884749e+00 6.93e+00 1.02e+05  -1.0 1.15e+06    -  1.02e-06 6.52e-09h  7\n",
      "  17r 5.4884749e+00 6.93e+00 9.99e+02   0.7 0.00e+00    -  0.00e+00 1.40e-11R 16\n",
      "  18r 5.4884749e+00 6.92e+00 1.00e+03   0.7 2.62e+05    -  8.32e-04 7.22e-06f  9\n",
      "  19r 5.4884748e+00 6.89e+00 9.98e+02   0.7 9.41e+04    -  1.19e-02 4.91e-05f  1\n",
      "iter    objective    inf_pr   inf_du lg(mu)  ||d||  lg(rg) alpha_du alpha_pr  ls\n",
      "  20  1.2266137e+02 6.92e+00 7.85e+05  -1.0 5.14e+06    -  1.02e-01 1.76e-01h  1\n",
      "  21  1.2270585e+02 6.92e+00 7.85e+05  -1.0 3.96e+06  -4.0 2.77e-01 1.86e-04h  1\n",
      "  22  1.1682350e+03 1.04e+00 1.56e+07  -1.0 3.79e+06    -  1.80e-01 9.90e-01h  1\n",
      "  23  1.2366194e+03 9.72e-01 2.28e+07  -1.0 3.26e+06  -4.5 4.86e-01 6.33e-02h  1\n",
      "  24  1.2371829e+03 9.72e-01 2.28e+07  -1.0 6.29e+06  -5.0 9.69e-02 1.83e-04h  1\n",
      "  25  1.2341518e+03 9.54e-01 2.24e+07  -1.0 3.64e+06  -5.4 3.05e-01 1.81e-02f  4\n",
      "  26  1.2244591e+03 9.46e-01 2.22e+07  -1.0 5.56e+06  -5.9 1.61e-01 8.96e-03f  6\n",
      "  27  1.2251935e+03 9.42e-01 2.21e+07  -1.0 1.92e+06  -5.5 5.26e-01 3.87e-03h  1\n",
      "  28  1.3357495e+03 7.12e-01 2.90e+07  -1.0 1.79e+06  -5.1 5.52e-01 2.40e-01h  1\n",
      "  29  2.2321802e+03 2.92e+00 2.98e+08  -1.0 1.90e+06  -5.5 7.14e-01 9.90e-01h  1\n",
      "iter    objective    inf_pr   inf_du lg(mu)  ||d||  lg(rg) alpha_du alpha_pr  ls\n",
      "  30  2.2973502e+03 2.91e+00 2.98e+08  -1.0 7.05e+07    -  1.08e-03 2.22e-03h  5\n",
      "  31  2.3119558e+03 2.91e+00 2.98e+08  -1.0 2.36e+07    -  5.61e-05 1.36e-03h  8\n",
      "  32r 2.3119558e+03 2.91e+00 1.00e+03   0.5 0.00e+00  -5.1 0.00e+00 2.64e-07R  3\n",
      "  33r 2.3119557e+03 1.90e+00 9.99e+02   0.5 2.79e+03    -  3.04e-02 1.03e-03f  1\n",
      "  34  2.3120679e+03 1.90e+00 2.99e+04  -1.0 3.13e+06    -  6.86e-01 5.98e-05h  1\n",
      "  35  1.2423919e+04 1.95e+00 2.32e+06  -1.0 1.09e+07    -  4.19e-01 9.90e-01h  1\n",
      "  36  7.0501938e+03 4.69e-01 4.22e+06  -1.0 4.86e+06    -  3.12e-01 9.90e-01f  1\n",
      "  37  8.1201899e+03 1.41e-01 6.44e+07  -1.0 1.06e+06    -  7.64e-01 9.90e-01h  1\n",
      "  38  8.2431619e+03 7.97e-03 3.78e+09  -1.0 2.82e+05    -  8.57e-01 9.90e-01h  1\n"
     ]
    },
    {
     "name": "stdout",
     "output_type": "stream",
     "text": [
      "  39  8.1466751e+03 1.98e-03 2.14e+11  -1.0 1.84e+05    -  9.14e-01 9.90e-01f  1\n",
      "In iteration 39, 27 Slacks too small, adjusting variable bounds\n",
      "iter    objective    inf_pr   inf_du lg(mu)  ||d||  lg(rg) alpha_du alpha_pr  ls\n",
      "  40  7.7753245e+03 2.65e-01 2.25e+14  -1.0 9.72e+05    -  1.97e-01 9.90e-01f  1\n",
      "  41  7.7409089e+03 5.19e-01 2.16e+14  -1.0 1.29e+06    -  2.80e-04 3.12e-02f  6\n",
      "  42  7.7322842e+03 1.84e-01 5.42e+13  -1.0 2.17e+04  -5.6 3.07e-02 1.00e+00f  1\n",
      "  43  7.7286521e+03 1.42e-01 1.80e+12  -1.0 8.44e+04    -  9.67e-01 2.29e-01f  1\n",
      "  44  7.7046736e+03 2.56e-04 1.81e+10  -1.0 4.41e+04    -  9.90e-01 1.00e+00f  1\n",
      "  45  7.7033306e+03 1.52e-08 9.84e+08  -1.0 1.15e+03  -6.1 9.46e-01 1.00e+00f  1\n",
      "  46  7.5791497e+03 3.11e-04 1.59e+10  -1.7 6.28e+06    -  2.63e-02 1.83e-02f  1\n",
      "  47  1.1251465e+03 1.02e+02 1.90e+12  -1.7 8.72e+06    -  6.72e-02 1.00e+00f  1\n",
      "  48  1.0764235e+03 9.76e+01 7.94e+11  -1.7 4.41e+06    -  5.83e-01 4.45e-02f  1\n",
      "  49  1.0120261e+03 4.04e+01 3.22e+08  -1.7 4.21e+06    -  1.00e+00 1.00e+00f  1\n",
      "iter    objective    inf_pr   inf_du lg(mu)  ||d||  lg(rg) alpha_du alpha_pr  ls\n",
      "  50  1.0426867e+02 3.39e+01 1.06e+05  -1.7 2.91e+06    -  1.00e+00 6.09e-01f  1\n",
      "  51  1.0963749e+02 2.49e+00 2.77e+06  -1.7 7.03e+05  -6.5 4.51e-01 1.00e+00h  1\n",
      "  52  1.0625610e+02 2.44e+00 1.28e+07  -1.7 3.56e+07  -6.1 1.55e-06 3.47e-02f  2\n",
      "  53  1.0483898e+02 1.72e+01 1.22e+07  -1.7 8.33e+05  -5.7 1.98e-01 1.00e+00f  1\n",
      "  54  8.4012745e+01 5.41e-01 3.40e+06  -1.7 2.77e+05  -6.2 5.03e-01 1.00e+00f  1\n",
      "  55  1.6385206e+02 1.50e-01 1.27e+06  -1.7 1.01e+06  -6.6 1.00e+00 1.00e+00h  1\n",
      "  56  1.5838424e+02 1.15e-01 5.78e+10  -2.5 1.81e+06  -7.1 3.61e-01 2.33e-01f  3\n",
      "  57  2.1596362e+02 3.51e-02 4.32e+10  -2.5 4.41e+05  -6.7 8.49e-01 1.00e+00h  1\n",
      "  58  2.6272946e+02 9.43e-03 1.84e+05  -2.5 1.86e+05  -7.2 1.00e+00 1.00e+00h  1\n",
      "  59  2.6643090e+02 3.13e-04 6.02e+03  -3.8 3.05e+04  -7.6 1.00e+00 1.00e+00h  1\n",
      "iter    objective    inf_pr   inf_du lg(mu)  ||d||  lg(rg) alpha_du alpha_pr  ls\n",
      "  60  2.6175017e+02 1.72e-05 2.54e+02  -3.8 1.94e+04  -8.1 1.00e+00 1.00e+00f  1\n",
      "  61  4.9812023e+01 9.83e-01 1.47e+09  -5.7 2.35e+06    -  6.22e-01 1.00e+00f  1\n",
      "  62  2.8797191e+01 6.24e-01 9.04e+08  -5.7 6.84e+05  -8.6 3.84e-01 1.00e+00f  1\n",
      "  63  2.7166167e+01 6.33e-01 5.86e+08  -5.7 1.44e+06    -  3.52e-01 1.00e+00F  1\n",
      "  64  1.3876525e+01 5.79e-01 3.88e+06  -5.7 4.55e+05    -  9.93e-01 1.00e+00f  1\n",
      "  65  6.8610222e+00 1.02e-01 1.29e+01  -5.7 2.18e+05    -  1.00e+00 1.00e+00f  1\n",
      "  66  4.8354385e+00 2.63e-02 8.14e+00  -5.7 1.28e+05    -  1.00e+00 1.00e+00f  1\n",
      "  67  4.9055382e+00 6.27e-03 2.89e+00  -5.7 2.60e+04    -  1.00e+00 1.00e+00h  1\n",
      "  68  5.0507911e+00 1.71e-04 1.36e-01  -5.7 5.19e+03    -  1.00e+00 1.00e+00h  1\n",
      "  69  5.0538404e+00 4.39e-07 7.13e-05  -5.7 3.33e+02    -  1.00e+00 1.00e+00h  1\n",
      "iter    objective    inf_pr   inf_du lg(mu)  ||d||  lg(rg) alpha_du alpha_pr  ls\n",
      "  70  5.0538485e+00 7.35e-11 5.17e-09  -8.6 1.03e+00    -  1.00e+00 1.00e+00h  1\n",
      "\n",
      "Number of Iterations....: 70\n",
      "\n",
      "                                   (scaled)                 (unscaled)\n",
      "Objective...............:   5.0538485364979646e+00    5.0538485364979646e+00\n",
      "Dual infeasibility......:   5.1659299060702324e-09    5.1659299060702324e-09\n",
      "Constraint violation....:   7.3468786609964809e-11    7.3468786609964809e-11\n",
      "Complementarity.........:   2.5379871107404751e-09    2.5379871107404751e-09\n",
      "Overall NLP error.......:   1.3739796156947949e-10    5.1659299060702324e-09\n",
      "\n",
      "\n",
      "Number of objective function evaluations             = 206\n",
      "Number of objective gradient evaluations             = 70\n",
      "Number of equality constraint evaluations            = 206\n",
      "Number of inequality constraint evaluations          = 0\n",
      "Number of equality constraint Jacobian evaluations   = 73\n",
      "Number of inequality constraint Jacobian evaluations = 0\n",
      "Number of Lagrangian Hessian evaluations             = 70\n",
      "Total CPU secs in IPOPT (w/o function evaluations)   =      0.075\n",
      "Total CPU secs in NLP function evaluations           =      1.482\n",
      "\n",
      "EXIT: Optimal Solution Found.\n",
      "The SSE at the optimal solution is 5.053849\n",
      "\n",
      "The values for the parameters are as follows:\n",
      "fs.properties.PR_kappa_A[R32,emimTf2N] = -0.014600940082835728\n",
      "fs.properties.PR_kappa_A[emimTf2N,R32] = -2.739918738226542\n",
      "fs.properties.PR_kappa_B[emimTf2N,R32] = 3.088872307310677\n",
      "covariance_matrix                                         fs.properties.PR_kappa_A[R32,emimTf2N]  \\\n",
      "fs.properties.PR_kappa_A[R32,emimTf2N]                                0.000020   \n",
      "fs.properties.PR_kappa_A[emimTf2N,R32]                                0.002883   \n",
      "fs.properties.PR_kappa_B[emimTf2N,R32]                               -0.002648   \n",
      "\n",
      "                                        fs.properties.PR_kappa_A[emimTf2N,R32]  \\\n",
      "fs.properties.PR_kappa_A[R32,emimTf2N]                                0.002883   \n",
      "fs.properties.PR_kappa_A[emimTf2N,R32]                               -1.235022   \n",
      "fs.properties.PR_kappa_B[emimTf2N,R32]                                1.183644   \n",
      "\n",
      "                                        fs.properties.PR_kappa_B[emimTf2N,R32]  \n",
      "fs.properties.PR_kappa_A[R32,emimTf2N]                               -0.002648  \n",
      "fs.properties.PR_kappa_A[emimTf2N,R32]                                1.183644  \n",
      "fs.properties.PR_kappa_B[emimTf2N,R32]                               -1.133085  \n"
     ]
    },
    {
     "name": "stderr",
     "output_type": "stream",
     "text": [
      "/anaconda3/envs/idaes-pse-dev/lib/python3.9/site-packages/pyomo/contrib/interior_point/interface.py:418: RuntimeWarning: divide by zero encountered in true_divide\n",
      "  data = (duals_primals_lb/(primals - self._nlp.primals_lb()) +\n"
     ]
    }
   ],
   "source": [
    "parameters, obj_value, a = linear(data_subset, configuration, 'R32', 'emimTf2N', \"x_R32\", \"x_emimTf2N\", \n",
    "    init_temp =  283.1, init_press =   399300 , init_x_c1 =    0.448, init_x_c2 = 0.552,\n",
    "    init_kappa_2_1A = 1.2354, init_kappa_1_2A = 0.1695,\n",
    "    init_kappa_2_1B = -0.14, init_kappa_1_2B = 0.0, eps = 0.1, scaling_fac = 1e-9,optional_params = 'Opt2')"
   ]
  },
  {
   "cell_type": "code",
   "execution_count": 6,
   "id": "natural-pierce",
   "metadata": {},
   "outputs": [
    {
     "name": "stdout",
     "output_type": "stream",
     "text": [
      "Objective (SSE): 5.0538485364979655\n"
     ]
    }
   ],
   "source": [
    "print('Objective (SSE):',obj_value)"
   ]
  },
  {
   "cell_type": "code",
   "execution_count": 7,
   "id": "connected-slovakia",
   "metadata": {},
   "outputs": [
    {
     "data": {
      "text/plain": [
       "{'fs.properties.PR_kappa_A[R32,emimTf2N]': -0.014600940082835728,\n",
       " 'fs.properties.PR_kappa_A[emimTf2N,R32]': -2.739918738226542,\n",
       " 'fs.properties.PR_kappa_B[emimTf2N,R32]': 3.088872307310677}"
      ]
     },
     "execution_count": 7,
     "metadata": {},
     "output_type": "execute_result"
    }
   ],
   "source": [
    "parameters"
   ]
  },
  {
   "cell_type": "code",
   "execution_count": 8,
   "id": "ceramic-attribute",
   "metadata": {},
   "outputs": [
    {
     "name": "stdout",
     "output_type": "stream",
     "text": [
      "Covariance Matrix:\n",
      "[[ 2.00862426e-05  2.88269977e-03 -2.64823213e-03]\n",
      " [ 2.88269977e-03 -1.23502215e+00  1.18364448e+00]\n",
      " [-2.64823213e-03  1.18364448e+00 -1.13308458e+00]]\n"
     ]
    }
   ],
   "source": [
    "cov = np.array(a)\n",
    "print('Covariance Matrix:')\n",
    "print(cov)"
   ]
  },
  {
   "cell_type": "markdown",
   "id": "stuffed-moscow",
   "metadata": {},
   "source": [
    "## Apply Parameters + Plot"
   ]
  },
  {
   "cell_type": "code",
   "execution_count": 9,
   "id": "prerequisite-beads",
   "metadata": {},
   "outputs": [],
   "source": [
    "solver = SolverFactory('ipopt')\n",
    "solver.options = {'tol': 1e-6}"
   ]
  },
  {
   "cell_type": "code",
   "execution_count": 10,
   "id": "liable-vacuum",
   "metadata": {},
   "outputs": [
    {
     "name": "stdout",
     "output_type": "stream",
     "text": [
      "0.986\n",
      "0.864\n",
      "0.694\n",
      "0.552\n",
      "0.43\n",
      "0.328\n",
      "0.214\n",
      "0.99\n",
      "0.905\n",
      "0.782\n",
      "0.675\n",
      "0.583\n",
      "0.501\n",
      "0.43\n",
      "0.357\n",
      "0.995\n",
      "0.945\n",
      "0.867\n",
      "0.8\n",
      "0.736\n",
      "0.68\n",
      "0.632\n",
      "0.583\n",
      "0.998\n",
      "0.966\n",
      "0.916\n",
      "0.869\n",
      "0.825\n",
      "0.784\n",
      "0.746\n",
      "0.712\n"
     ]
    }
   ],
   "source": [
    "m = ConcreteModel()\n",
    "\n",
    "m.fs = FlowsheetBlock(default={\"dynamic\": False})\n",
    "\n",
    "m.fs.properties = GenericParameterBlock(default=configuration)\n",
    "\n",
    "m.fs.F101 = Flash(default={\"property_package\": m.fs.properties,\n",
    "                           \"has_heat_transfer\": True,\n",
    "                           \"has_pressure_change\": True})\n",
    "\n",
    "m.fs.F101.inlet.flow_mol.fix(1)\n",
    "m.fs.F101.inlet.temperature.fix(323.15)\n",
    "m.fs.F101.inlet.pressure.fix(399800)\n",
    "m.fs.F101.inlet.mole_frac_comp[0,'R32'].fix(0.5)\n",
    "\n",
    "m.fs.properties.PR_kappa_A['R32','emimTf2N'] = parameters['fs.properties.PR_kappa_A[R32,emimTf2N]']\n",
    "m.fs.properties.PR_kappa_A['emimTf2N','R32'] = parameters['fs.properties.PR_kappa_A[emimTf2N,R32]']\n",
    "# m.fs.properties.PR_kappa_B['R32','emimTf2N'] = parameters['fs.properties.PR_kappa_B[R32,emimTf2N]']\n",
    "m.fs.properties.PR_kappa_B['emimTf2N','R32'] = parameters['fs.properties.PR_kappa_B[emimTf2N,R32]']\n",
    "\n",
    "# Initialize the flash unit\n",
    "m.fs.F101.initialize(outlvl=idaeslog.CRITICAL)\n",
    "\n",
    "# Fix the state variables on the state block\n",
    "# m.fs.F101.inlet.pressure.unfix()\n",
    "m.fs.F101.inlet.mole_frac_comp[0,'emimTf2N'].unfix()\n",
    "\n",
    "R32_x = np.zeros((len(data_full)))\n",
    "P = np.zeros((len(data_full)))\n",
    "\n",
    "m.fs.liq = Param(mutable=True,default=0.040)\n",
    "m.fs.liquid = Constraint(expr=m.fs.F101.liq_outlet.mole_frac_comp[0, \"emimTf2N\"] == m.fs.liq)\n",
    "\n",
    "for i in range(len(data_full)):\n",
    "    m.fs.liq = data_full[\"x_emimTf2N\"].iloc[i]\n",
    "    m.fs.F101.inlet.temperature.fix(float(data_full[\"temperature\"].iloc[i]))\n",
    "    m.fs.F101.inlet.pressure.fix(float(data_full[\"pressure\"].iloc[i]))\n",
    "    m.fs.F101.inlet.mole_frac_comp[0,'R32'].fix(float(data_full[\"x_R32\"].iloc[i])+0.1)\n",
    "    m.fs.F101.inlet.mole_frac_comp[0,'emimTf2N'].fix(float(1-(data_full[\"x_R32\"].iloc[i]+0.1)))\n",
    "    m.fs.F101.vap_outlet.temperature.fix(float(data_full[\"temperature\"].iloc[i]))\n",
    "    \n",
    "#     DOF_final = degrees_of_freedom(m)\n",
    "#     print(\"The final DOF is {0}\".format(DOF_final))\n",
    "    m.fs.F101.initialize(outlvl=idaeslog.CRITICAL)\n",
    "    \n",
    "    status = solver.solve(m, tee = False)\n",
    "\n",
    "#     m.fs.F101.report()\n",
    "    if (status.solver.status == SolverStatus.ok) and (status.solver.termination_condition == TerminationCondition.optimal):\n",
    "        print(data_full[\"x_emimTf2N\"].iloc[i])\n",
    "        R32_x[i] = value(m.fs.F101.liq_outlet.mole_frac_comp[0,'R32']) \n",
    "        P[i] = value(m.fs.F101.vap_outlet.pressure[0])\n",
    "\n",
    "    else:\n",
    "        print('Infeasible.')"
   ]
  },
  {
   "cell_type": "code",
   "execution_count": 11,
   "id": "boring-cancer",
   "metadata": {},
   "outputs": [
    {
     "data": {
      "image/png": "[encoded data removed]",
      "text/plain": [
       "<Figure size 432x288 with 1 Axes>"
      ]
     },
     "metadata": {
      "needs_background": "light"
     },
     "output_type": "display_data"
    }
   ],
   "source": [
    "P1= np.zeros((len(P)))\n",
    "\n",
    "for i in range(len(P)):\n",
    "    P1[i] = P[i]/1e6\n",
    "\n",
    "plt.plot(R32_x[0:7],P1[0:7],\"b*-\",label=\"T= 283 K\")  \n",
    "plt.plot(R32_x[7:15],P1[7:15],\"r*-\",label=\"T= 298 K\") \n",
    "plt.plot(R32_x[15:23],P1[15:23],\"c*-\",label=\"T= 323 K\") \n",
    "plt.plot(R32_x[23:31],P1[23:31],\"m-*\",label=\"T= 348 K\")\n",
    "plt.plot(data_full[\"x_R32\"],data_full[\"pressure\"]/1e6,\"*\",color='orange',label=\"data\")  \n",
    "plt.title('Isotherm R32-[emim][TF2N]')\n",
    "plt.ylabel('Pressure (MPa)')\n",
    "plt.xlabel('x R32')\n",
    "plt.grid(True)\n",
    "plt.ylim(0,1.110000)\n",
    "plt.legend()\n",
    "plt.show()"
   ]
  },
  {
   "cell_type": "markdown",
   "id": "amended-confidence",
   "metadata": {},
   "source": [
    "### Print Eigvals, Eigvectors\n",
    "\n",
    "An identifiability analysis can be performed with these as well as a FIM because the covariance matrix is the inverse of the FIM. That means that if there are any eigvals > 0, their eigvecs indicate directions of un-identifiability."
   ]
  },
  {
   "cell_type": "code",
   "execution_count": 12,
   "id": "structural-documentation",
   "metadata": {},
   "outputs": [],
   "source": [
    "eigvals, eigvecs = np.linalg.eig(cov)"
   ]
  },
  {
   "cell_type": "code",
   "execution_count": 13,
   "id": "collective-tournament",
   "metadata": {},
   "outputs": [
    {
     "data": {
      "text/plain": [
       "array([-2.36880119e+00,  1.66318271e-05,  6.97907514e-04])"
      ]
     },
     "execution_count": 13,
     "metadata": {},
     "output_type": "execute_result"
    }
   ],
   "source": [
    "eigvals"
   ]
  },
  {
   "cell_type": "code",
   "execution_count": 14,
   "id": "selective-empire",
   "metadata": {},
   "outputs": [
    {
     "data": {
      "text/plain": [
       "array([[-0.00165214,  0.9926913 ,  0.12067005],\n",
       "       [ 0.7221559 , -0.08228674,  0.68681857],\n",
       "       [-0.69172836, -0.08827731,  0.71674193]])"
      ]
     },
     "execution_count": 14,
     "metadata": {},
     "output_type": "execute_result"
    }
   ],
   "source": [
    "eigvecs"
   ]
  },
  {
   "cell_type": "markdown",
   "id": "tracked-monte",
   "metadata": {},
   "source": [
    "Conclusion: "
   ]
  },
  {
   "cell_type": "markdown",
   "id": "advance-winner",
   "metadata": {},
   "source": [
    "## AIC Value\n",
    "\n",
    "See https://docs.google.com/document/d/1um0r2XK4ldjjy2colOqaZsEM3wIzGD6l_3B8gnpnI2I/edit# for equations"
   ]
  },
  {
   "cell_type": "code",
   "execution_count": 15,
   "id": "plain-certificate",
   "metadata": {},
   "outputs": [],
   "source": [
    "n = 3"
   ]
  },
  {
   "cell_type": "code",
   "execution_count": 16,
   "id": "pregnant-moderator",
   "metadata": {},
   "outputs": [],
   "source": [
    "SSR = obj_value"
   ]
  },
  {
   "cell_type": "code",
   "execution_count": 17,
   "id": "entire-abraham",
   "metadata": {},
   "outputs": [
    {
     "data": {
      "text/plain": [
       "1.6846161788326552"
      ]
     },
     "execution_count": 17,
     "metadata": {},
     "output_type": "execute_result"
    }
   ],
   "source": [
    "sigma_sq = SSR/n\n",
    "sigma_sq"
   ]
  },
  {
   "cell_type": "code",
   "execution_count": 18,
   "id": "worldwide-liabilities",
   "metadata": {},
   "outputs": [
    {
     "data": {
      "text/plain": [
       "-5.039122225834991"
      ]
     },
     "execution_count": 18,
     "metadata": {},
     "output_type": "execute_result"
    }
   ],
   "source": [
    "L = -n/2*np.log(2*np.pi) - n/2*np.log(sigma_sq) - 1/(2*sigma_sq)*SSR\n",
    "L"
   ]
  },
  {
   "cell_type": "code",
   "execution_count": 19,
   "id": "heavy-worst",
   "metadata": {},
   "outputs": [
    {
     "data": {
      "text/plain": [
       "16.07824445166998"
      ]
     },
     "execution_count": 19,
     "metadata": {},
     "output_type": "execute_result"
    }
   ],
   "source": [
    "AIC = 2*n - 2*L\n",
    "AIC"
   ]
  },
  {
   "cell_type": "code",
   "execution_count": null,
   "id": "southwest-insider",
   "metadata": {},
   "outputs": [],
   "source": []
  }
 ],
 "metadata": {
  "kernelspec": {
   "display_name": "Python 3",
   "language": "python",
   "name": "python3"
  },
  "language_info": {
   "codemirror_mode": {
    "name": "ipython",
    "version": 3
   },
   "file_extension": ".py",
   "mimetype": "text/x-python",
   "name": "python",
   "nbconvert_exporter": "python",
   "pygments_lexer": "ipython3",
   "version": "3.9.1"
  }
 },
 "nbformat": 4,
 "nbformat_minor": 5
}
