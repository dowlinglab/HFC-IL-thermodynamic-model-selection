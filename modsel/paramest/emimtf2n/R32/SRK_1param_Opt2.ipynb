{
 "cells": [
  {
   "cell_type": "markdown",
   "id": "voluntary-ridge",
   "metadata": {},
   "source": [
    "# Fit emimTF2N data\n",
    "\n",
    "EoS: SRK\n",
    "\n",
    "Parameter T dependence: Constant, 1 parameter - emimTF2N,r32 pair\n",
    "\n",
    "N (total fitting parameters): 1"
   ]
  },
  {
   "cell_type": "markdown",
   "id": "improved-meeting",
   "metadata": {},
   "source": [
    "## Import Functions"
   ]
  },
  {
   "cell_type": "code",
   "execution_count": 1,
   "id": "contained-performance",
   "metadata": {},
   "outputs": [],
   "source": [
    "import idaes\n",
    "\n",
    "import pandas as pd\n",
    "import numpy as np\n",
    "import matplotlib.pyplot as plt\n",
    "import scipy.optimize\n",
    "\n",
    "import sys\n",
    "sys.path.append('../../')\n",
    "\n",
    "from pyomo.environ import (Constraint,\n",
    "                           Var,\n",
    "                           ConcreteModel,\n",
    "                           Expression,\n",
    "                           Param,\n",
    "                           Objective,\n",
    "                           SolverFactory,\n",
    "                           TransformationFactory,\n",
    "                           value)\n",
    "from pyomo.opt import TerminationCondition, SolverStatus\n",
    "\n",
    "from idaes.core import FlowsheetBlock\n",
    "import idaes.logger as idaeslog\n",
    "# Import the Generic Parameter Block\n",
    "from idaes.generic_models.properties.core.generic.generic_property import (\n",
    "        GenericParameterBlock)\n",
    "# Import unit models from the model library\n",
    "from idaes.generic_models.unit_models import Flash\n",
    "# Import degrees of freedom tool\n",
    "from idaes.core.util.model_statistics import degrees_of_freedom\n",
    "\n",
    "# parmest (binary_param2)\n",
    "from bip_fitting_functions_SRK import constant\n",
    "\n",
    "import scipy.stats as stats\n",
    "\n",
    "from matplotlib.patches import Ellipse\n",
    "import matplotlib.transforms as transforms\n",
    "import matplotlib.patches as mpatches"
   ]
  },
  {
   "cell_type": "markdown",
   "id": "judicial-calculator",
   "metadata": {},
   "source": [
    "## Load Data"
   ]
  },
  {
   "cell_type": "code",
   "execution_count": 2,
   "id": "technological-freeze",
   "metadata": {},
   "outputs": [],
   "source": [
    "data_full = pd.read_csv('r32_emimtf2n_full.csv')\n",
    "data_subset = pd.read_csv('r32_emimtf2n_subset.csv')"
   ]
  },
  {
   "cell_type": "markdown",
   "id": "swiss-sphere",
   "metadata": {},
   "source": [
    "## Load Configuration + Check DOF"
   ]
  },
  {
   "cell_type": "code",
   "execution_count": 3,
   "id": "independent-layout",
   "metadata": {},
   "outputs": [],
   "source": [
    "from hfc32_emimtf2n_SRK import configuration "
   ]
  },
  {
   "cell_type": "code",
   "execution_count": 4,
   "id": "featured-nicholas",
   "metadata": {},
   "outputs": [
    {
     "name": "stdout",
     "output_type": "stream",
     "text": [
      "WARNING: DEPRECATED: Using __getitem__ to return a set value from its\n",
      "    (ordered) position is deprecated.  Please use at()  (deprecated in 6.1,\n",
      "    will be removed in 7.0) (called from /Users/bridgettebefort/Dowling-\n",
      "    Maginn-Lab/DowlingLab/IL-MD/idaes-\n",
      "    pse/idaes/generic_models/properties/core/state_definitions/FTPx.py:178)\n",
      "The initial DOF is 7\n"
     ]
    }
   ],
   "source": [
    "m = ConcreteModel()\n",
    "m.fs = FlowsheetBlock(default={\"dynamic\": False})\n",
    "m.fs.properties = GenericParameterBlock(default=configuration)\n",
    "m.fs.F101 = Flash(default={\"property_package\": m.fs.properties,\n",
    "                           \"has_heat_transfer\": True,\n",
    "                           \"has_pressure_change\": True})\n",
    "DOF_initial = degrees_of_freedom(m)\n",
    "print('The initial DOF is {0}'.format(DOF_initial))"
   ]
  },
  {
   "cell_type": "markdown",
   "id": "veterinary-first",
   "metadata": {},
   "source": [
    "## Fit Parameters"
   ]
  },
  {
   "cell_type": "code",
   "execution_count": 5,
   "id": "personal-parade",
   "metadata": {},
   "outputs": [
    {
     "name": "stdout",
     "output_type": "stream",
     "text": [
      "2022-01-17 15:21:52 [INFO] idaes.init.fs.state_block: Property package initialization: optimal - Optimal Solution Found.\n",
      "2022-01-17 15:21:53 [INFO] idaes.init.fs.state_block: Property package initialization: optimal - Optimal Solution Found.\n",
      "2022-01-17 15:21:54 [INFO] idaes.init.fs.state_block: Property package initialization: optimal - Optimal Solution Found.\n",
      "2022-01-17 15:21:54 [INFO] idaes.init.fs.state_block: Property package initialization: optimal - Optimal Solution Found.\n",
      "2022-01-17 15:21:54 [INFO] idaes.init.fs.state_block: Property package initialization: optimal - Optimal Solution Found.\n",
      "2022-01-17 15:21:55 [INFO] idaes.init.fs.state_block: Property package initialization: infeasible - Converged to a locally infeasible point. Problem may be infeasible..\n",
      "2022-01-17 15:21:55 [INFO] idaes.init.fs.state_block: Property package initialization: optimal - Optimal Solution Found.\n",
      "2022-01-17 15:21:56 [INFO] idaes.init.fs.state_block: Property package initialization: optimal - Optimal Solution Found.\n",
      "2022-01-17 15:21:56 [INFO] idaes.init.fs.state_block: Property package initialization: optimal - Optimal Solution Found.\n",
      "2022-01-17 15:21:56 [INFO] idaes.init.fs.state_block: Property package initialization: optimal - Optimal Solution Found.\n",
      "2022-01-17 15:21:57 [INFO] idaes.init.fs.state_block: Property package initialization: optimal - Optimal Solution Found.\n",
      "2022-01-17 15:21:57 [INFO] idaes.init.fs.state_block: Property package initialization: optimal - Optimal Solution Found.\n",
      "2022-01-17 15:21:57 [INFO] idaes.init.fs.state_block: Property package initialization: optimal - Optimal Solution Found.\n",
      "2022-01-17 15:21:58 [INFO] idaes.init.fs.state_block: Property package initialization: optimal - Optimal Solution Found.\n",
      "2022-01-17 15:21:58 [INFO] idaes.init.fs.state_block: Property package initialization: optimal - Optimal Solution Found.\n",
      "2022-01-17 15:21:59 [INFO] idaes.init.fs.state_block: Property package initialization: optimal - Optimal Solution Found.\n",
      "2022-01-17 15:21:59 [INFO] idaes.init.fs.state_block: Property package initialization: optimal - Optimal Solution Found.\n",
      "2022-01-17 15:22:00 [INFO] idaes.init.fs.state_block: Property package initialization: optimal - Optimal Solution Found.\n",
      "2022-01-17 15:22:00 [INFO] idaes.init.fs.state_block: Property package initialization: optimal - Optimal Solution Found.\n",
      "2022-01-17 15:22:00 [INFO] idaes.init.fs.state_block: Property package initialization: optimal - Optimal Solution Found.\n",
      "2022-01-17 15:22:01 [INFO] idaes.init.fs.state_block: Property package initialization: optimal - Optimal Solution Found.\n",
      "2022-01-17 15:22:01 [INFO] idaes.init.fs.state_block: Property package initialization: optimal - Optimal Solution Found.\n",
      "2022-01-17 15:22:01 [INFO] idaes.init.fs.state_block: Property package initialization: optimal - Optimal Solution Found.\n",
      "2022-01-17 15:22:02 [INFO] idaes.init.fs.state_block: Property package initialization: optimal - Optimal Solution Found.\n",
      "2022-01-17 15:22:02 [INFO] idaes.init.fs.state_block: Property package initialization: optimal - Optimal Solution Found.\n",
      "2022-01-17 15:22:02 [INFO] idaes.init.fs.state_block: Property package initialization: optimal - Optimal Solution Found.\n",
      "2022-01-17 15:22:03 [INFO] idaes.init.fs.state_block: Property package initialization: optimal - Optimal Solution Found.\n",
      "Ipopt 3.13.2: bound_relax_factor=0\n",
      "honor_original_bounds=no\n",
      "\n",
      "\n",
      "******************************************************************************\n",
      "This program contains Ipopt, a library for large-scale nonlinear optimization.\n",
      " Ipopt is released as open source code under the Eclipse Public License (EPL).\n",
      "         For more information visit http://projects.coin-or.org/Ipopt\n",
      "\n",
      "This version of Ipopt was compiled from source code available at\n",
      "    https://github.com/IDAES/Ipopt as part of the Institute for the Design of\n",
      "    Advanced Energy Systems Process Systems Engineering Framework (IDAES PSE\n",
      "    Framework) Copyright (c) 2018-2019. See https://github.com/IDAES/idaes-pse.\n",
      "\n",
      "This version of Ipopt was compiled using HSL, a collection of Fortran codes\n",
      "    for large-scale scientific computation.  All technical papers, sales and\n",
      "    publicity material resulting from use of the HSL codes within IPOPT must\n",
      "    contain the following acknowledgement:\n",
      "        HSL, a collection of Fortran codes for large-scale scientific\n",
      "        computation. See http://www.hsl.rl.ac.uk.\n",
      "******************************************************************************\n",
      "\n",
      "This is Ipopt version 3.13.2, running with linear solver ma27.\n",
      "\n",
      "Number of nonzeros in equality constraint Jacobian...:      808\n",
      "Number of nonzeros in inequality constraint Jacobian.:        0\n",
      "Number of nonzeros in Lagrangian Hessian.............:      702\n",
      "\n",
      "Total number of variables............................:      351\n",
      "                     variables with only lower bounds:      162\n",
      "                variables with lower and upper bounds:      135\n",
      "                     variables with only upper bounds:        0\n",
      "Total number of equality constraints.................:      350\n",
      "Total number of inequality constraints...............:        0\n",
      "        inequality constraints with only lower bounds:        0\n",
      "   inequality constraints with lower and upper bounds:        0\n",
      "        inequality constraints with only upper bounds:        0\n",
      "\n",
      "iter    objective    inf_pr   inf_du lg(mu)  ||d||  lg(rg) alpha_du alpha_pr  ls\n",
      "   0  0.0000000e+00 4.71e-01 8.88e-16  -1.0 0.00e+00    -  0.00e+00 0.00e+00   0\n",
      "   1  2.4529023e-05 4.70e-01 6.46e+02  -1.0 3.20e+05    -  6.74e-01 1.03e-03h  1\n",
      "   2  2.9710388e+01 8.96e-02 7.02e+04  -1.0 3.58e+05    -  6.71e-01 9.90e-01h  1\n",
      "   3  4.4493952e+01 4.72e-03 6.05e+03  -1.0 8.38e+04    -  9.10e-01 9.90e-01h  1\n",
      "   4  4.5245952e+01 5.85e-05 2.72e+02  -1.0 4.04e+03    -  9.87e-01 9.90e-01h  1\n",
      "   5  4.5262265e+01 4.78e-06 2.21e+00  -1.0 7.13e+01    -  9.90e-01 9.90e-01h  1\n",
      "   6  4.5274272e+01 1.21e-05 1.06e+03  -1.7 1.11e+02    -  9.90e-01 9.90e-01h  1\n",
      "   7  4.5254766e+01 3.29e-05 1.94e+06  -3.8 1.82e+02    -  1.00e+00 9.87e-01f  1\n",
      "   8  4.5254854e+01 1.31e-08 1.73e+06  -3.8 8.20e-01    -  1.00e+00 1.00e+00h  1\n",
      "In iteration 8, 27 Slacks too small, adjusting variable bounds\n",
      "   9  4.5254854e+01 2.31e-12 1.15e+10  -3.8 2.07e-04    -  1.00e+00 1.00e+00h  1\n",
      "iter    objective    inf_pr   inf_du lg(mu)  ||d||  lg(rg) alpha_du alpha_pr  ls\n",
      "  10  4.5254854e+01 7.05e-13 4.17e-03  -3.8 2.81e-07    -  1.00e+00 1.00e+00h  1\n",
      "  11  4.5254704e+01 6.63e-13 1.88e+06  -9.0 1.39e+00    -  1.00e+00 1.00e+00F  1\n",
      "  12  4.5254704e+01 1.02e-12 1.60e-10  -9.0 8.39e-06    -  1.00e+00 1.00e+00f  1\n",
      "\n",
      "Number of Iterations....: 12\n",
      "\n",
      "                                   (scaled)                 (unscaled)\n",
      "Objective...............:   4.5254703906999076e+01    4.5254703906999076e+01\n",
      "Dual infeasibility......:   1.6007106751203537e-10    1.6007106751203537e-10\n",
      "Constraint violation....:   1.0249578963339445e-12    1.0249578963339445e-12\n",
      "Complementarity.........:   9.0909092380722975e-10    9.0909092380722975e-10\n",
      "Overall NLP error.......:   2.0244544544611963e-11    9.0909092380722975e-10\n",
      "\n",
      "\n",
      "Number of objective function evaluations             = 14\n",
      "Number of objective gradient evaluations             = 13\n",
      "Number of equality constraint evaluations            = 14\n",
      "Number of inequality constraint evaluations          = 0\n",
      "Number of equality constraint Jacobian evaluations   = 13\n",
      "Number of inequality constraint Jacobian evaluations = 0\n",
      "Number of Lagrangian Hessian evaluations             = 12\n",
      "Total CPU secs in IPOPT (w/o function evaluations)   =      0.020\n",
      "Total CPU secs in NLP function evaluations           =      0.172\n",
      "\n",
      "EXIT: Optimal Solution Found.\n",
      "The SSE at the optimal solution is 45.254704\n",
      "\n",
      "The values for the parameters are as follows:\n",
      "fs.properties.SRK_kappa_A[emimTf2N,R32] = 0.02690257203313461\n",
      "covariance_matrix                                          fs.properties.SRK_kappa_A[emimTf2N,R32]\n",
      "fs.properties.SRK_kappa_A[emimTf2N,R32]                             1.832309e-13\n"
     ]
    },
    {
     "name": "stderr",
     "output_type": "stream",
     "text": [
      "/Users/bridgettebefort/opt/anaconda3/envs/idaes-pse-dev/lib/python3.7/site-packages/pyomo/contrib/interior_point/interface.py:418: RuntimeWarning: divide by zero encountered in true_divide\n",
      "  data = (duals_primals_lb/(primals - self._nlp.primals_lb()) +\n"
     ]
    }
   ],
   "source": [
    "parameters, obj_value, a = constant(data_subset, configuration, 'R32', 'emimTf2N', \"x_R32\", \"x_emimTf2N\", \n",
    "    init_temp =  298.15, init_press =   399400 , init_x_c1 =    0.417, init_x_c2 = 0.583,\n",
    "    init_kappa_A_2_1 = 0.028, init_kappa_A_1_2 = 0.0, eps = 0.1, scaling_fac = 1e-9 , read=False, optional_params='Opt2')"
   ]
  },
  {
   "cell_type": "code",
   "execution_count": 6,
   "id": "collect-amount",
   "metadata": {},
   "outputs": [
    {
     "name": "stdout",
     "output_type": "stream",
     "text": [
      "Objective (SSE): 45.25470390699907\n"
     ]
    }
   ],
   "source": [
    "print('Objective (SSE):',obj_value)"
   ]
  },
  {
   "cell_type": "code",
   "execution_count": 7,
   "id": "fewer-madonna",
   "metadata": {},
   "outputs": [
    {
     "name": "stdout",
     "output_type": "stream",
     "text": [
      "Covariance Matrix:\n",
      "[[1.83230905e-13]]\n"
     ]
    }
   ],
   "source": [
    "cov = np.array(a)\n",
    "print('Covariance Matrix:')\n",
    "print(cov)"
   ]
  },
  {
   "cell_type": "code",
   "execution_count": 8,
   "id": "c364c8c8",
   "metadata": {},
   "outputs": [],
   "source": [
    "np.savetxt('Data/Covariance/SRK_Cov_1parameter_ILHFCfit.csv',cov,delimiter=',')"
   ]
  },
  {
   "cell_type": "markdown",
   "id": "received-chuck",
   "metadata": {},
   "source": [
    "## Apply Parameters + Plot"
   ]
  },
  {
   "cell_type": "code",
   "execution_count": 9,
   "id": "homeless-banana",
   "metadata": {},
   "outputs": [],
   "source": [
    "solver = SolverFactory('ipopt')\n",
    "solver.options = {'tol': 1e-6}"
   ]
  },
  {
   "cell_type": "code",
   "execution_count": 11,
   "id": "historical-spice",
   "metadata": {},
   "outputs": [
    {
     "name": "stdout",
     "output_type": "stream",
     "text": [
      "0.986\n",
      "0.864\n",
      "0.694\n",
      "0.552\n",
      "0.43\n",
      "0.328\n",
      "0.214\n",
      "0.99\n",
      "0.905\n",
      "0.782\n",
      "0.675\n",
      "0.583\n",
      "0.501\n",
      "0.43\n",
      "0.357\n",
      "0.995\n",
      "0.945\n",
      "0.867\n",
      "0.8\n",
      "0.736\n",
      "0.68\n",
      "0.632\n",
      "0.583\n",
      "0.998\n",
      "0.966\n",
      "0.916\n",
      "0.869\n",
      "0.825\n",
      "0.784\n",
      "0.746\n",
      "0.712\n"
     ]
    }
   ],
   "source": [
    "m = ConcreteModel()\n",
    "\n",
    "m.fs = FlowsheetBlock(default={\"dynamic\": False})\n",
    "\n",
    "m.fs.properties = GenericParameterBlock(default=configuration)\n",
    "\n",
    "m.fs.F101 = Flash(default={\"property_package\": m.fs.properties,\n",
    "                           \"has_heat_transfer\": True,\n",
    "                           \"has_pressure_change\": True})\n",
    "\n",
    "m.fs.F101.inlet.flow_mol.fix(1)\n",
    "m.fs.F101.inlet.temperature.fix(323.15)\n",
    "m.fs.F101.inlet.pressure.fix(399800)\n",
    "m.fs.F101.inlet.mole_frac_comp[0,'R32'].fix(0.5)\n",
    "\n",
    "# m.fs.properties.PR_kappa_A['R32','emimTf2N'] = parameters['fs.properties.PR_kappa_A[R32,emimTf2N]']\n",
    "m.fs.properties.SRK_kappa_A['emimTf2N','R32'] = parameters['fs.properties.SRK_kappa_A[emimTf2N,R32]']\n",
    "\n",
    "# Initialize the flash unit\n",
    "m.fs.F101.initialize(outlvl=idaeslog.CRITICAL)\n",
    "\n",
    "# Fix the state variables on the state block\n",
    "# m.fs.F101.inlet.pressure.unfix()\n",
    "m.fs.F101.inlet.mole_frac_comp[0,'emimTf2N'].unfix()\n",
    "\n",
    "R32_x = np.zeros((len(data_full)))\n",
    "P = np.zeros((len(data_full)))\n",
    "\n",
    "m.fs.liq = Param(mutable=True,default=0.040)\n",
    "m.fs.liquid = Constraint(expr=m.fs.F101.liq_outlet.mole_frac_comp[0, \"emimTf2N\"] == m.fs.liq)\n",
    "\n",
    "for i in range(len(data_full)):\n",
    "    m.fs.liq = data_full[\"x_emimTf2N\"].iloc[i]\n",
    "    m.fs.F101.inlet.temperature.fix(float(data_full[\"temperature\"].iloc[i]))\n",
    "    m.fs.F101.inlet.pressure.fix(float(data_full[\"pressure\"].iloc[i]))\n",
    "    m.fs.F101.inlet.mole_frac_comp[0,'R32'].fix(float(data_full[\"x_R32\"].iloc[i])+0.1)\n",
    "    m.fs.F101.inlet.mole_frac_comp[0,'emimTf2N'].fix(float(1-(data_full[\"x_R32\"].iloc[i]+0.1)))\n",
    "    m.fs.F101.vap_outlet.temperature.fix(float(data_full[\"temperature\"].iloc[i]))\n",
    "    \n",
    "#     DOF_final = degrees_of_freedom(m)\n",
    "#     print(\"The final DOF is {0}\".format(DOF_final))\n",
    "    m.fs.F101.initialize(outlvl=idaeslog.CRITICAL)\n",
    "    \n",
    "    status = solver.solve(m, tee = False)\n",
    "\n",
    "#     m.fs.F101.report()\n",
    "    if (status.solver.status == SolverStatus.ok) and (status.solver.termination_condition == TerminationCondition.optimal):\n",
    "        print(data_full[\"x_emimTf2N\"].iloc[i])\n",
    "        R32_x[i] = value(m.fs.F101.liq_outlet.mole_frac_comp[0,'R32']) \n",
    "        P[i] = value(m.fs.F101.vap_outlet.pressure[0])\n",
    "\n",
    "    else:\n",
    "        print('Infeasible.')"
   ]
  },
  {
   "cell_type": "code",
   "execution_count": 12,
   "id": "d39a8e25",
   "metadata": {},
   "outputs": [],
   "source": [
    "fitted_data = pd.DataFrame(data=[R32_x,P/1e6])\n",
    "fitted_data = fitted_data.T\n",
    "fitted_data.columns = ['R32_x','P, MPa']\n",
    "fitted_data.to_csv('Data/Fits/SRK_FittedData_1parameter_ILHFCfit.csv')"
   ]
  },
  {
   "cell_type": "code",
   "execution_count": 13,
   "id": "helpful-powell",
   "metadata": {},
   "outputs": [
    {
     "data": {
      "image/png": "[encoded data removed]",
      "text/plain": [
       "<Figure size 432x288 with 1 Axes>"
      ]
     },
     "metadata": {
      "needs_background": "light"
     },
     "output_type": "display_data"
    }
   ],
   "source": [
    "P1= np.zeros((len(P)))\n",
    "\n",
    "for i in range(len(P)):\n",
    "    P1[i] = P[i]/1e6\n",
    "\n",
    "plt.plot(R32_x[0:7],P1[0:7],\"b*-\",label=\"T= 283 K\")  \n",
    "plt.plot(R32_x[7:15],P1[7:15],\"r*-\",label=\"T= 298 K\") \n",
    "plt.plot(R32_x[15:23],P1[15:23],\"c*-\",label=\"T= 323 K\") \n",
    "plt.plot(R32_x[23:31],P1[23:31],\"m-*\",label=\"T= 348 K\")\n",
    "plt.plot(data_full[\"x_R32\"],data_full[\"pressure\"]/1e6,\"*\",color='orange',label=\"data\")  \n",
    "plt.title('Isotherm R32-[emim][TF2N]')\n",
    "plt.ylabel('Pressure (MPa)')\n",
    "plt.xlabel('x R32')\n",
    "plt.grid(True)\n",
    "plt.ylim(0,1.110000)\n",
    "plt.legend()\n",
    "plt.show()"
   ]
  },
  {
   "cell_type": "markdown",
   "id": "present-tulsa",
   "metadata": {},
   "source": [
    "### Print Eigvals, Eigvectors of Covariance\n",
    "\n",
    "An identifiability analysis can be performed with these as well as a FIM because the covariance matrix is the inverse of the FIM. That means that if there are any eigvals >> 0, their eigvecs indicate directions of un-identifiability."
   ]
  },
  {
   "cell_type": "code",
   "execution_count": 14,
   "id": "associate-retreat",
   "metadata": {},
   "outputs": [],
   "source": [
    "eigvals, eigvecs = np.linalg.eig(cov)"
   ]
  },
  {
   "cell_type": "code",
   "execution_count": 15,
   "id": "genuine-lucas",
   "metadata": {},
   "outputs": [
    {
     "data": {
      "text/plain": [
       "array([1.83230905e-13])"
      ]
     },
     "execution_count": 15,
     "metadata": {},
     "output_type": "execute_result"
    }
   ],
   "source": [
    "eigvals"
   ]
  },
  {
   "cell_type": "code",
   "execution_count": 16,
   "id": "historic-outside",
   "metadata": {},
   "outputs": [
    {
     "data": {
      "text/plain": [
       "array([[1.]])"
      ]
     },
     "execution_count": 16,
     "metadata": {},
     "output_type": "execute_result"
    }
   ],
   "source": [
    "eigvecs"
   ]
  },
  {
   "cell_type": "code",
   "execution_count": 17,
   "id": "c5ad5661",
   "metadata": {},
   "outputs": [],
   "source": [
    "np.savetxt('Data/EigenAnalysis/SRK_vals_1parameter_ILHFCfit.csv',eigvals,delimiter=',')\n",
    "np.savetxt('Data/EigenAnalysis/SRK_vecs_1parameter_ILHFCfit.csv',eigvecs,delimiter=',')"
   ]
  },
  {
   "cell_type": "markdown",
   "id": "responsible-permission",
   "metadata": {},
   "source": [
    "Conclusion: Fully identifiable because all eigvals ~ 0 "
   ]
  },
  {
   "cell_type": "markdown",
   "id": "advised-saint",
   "metadata": {},
   "source": [
    "## FIM with Enthalpy of Vaporization (and Pressure)"
   ]
  },
  {
   "cell_type": "markdown",
   "id": "textile-bermuda",
   "metadata": {},
   "source": [
    "### Step 1: Perturb Parameters, Calculate Enthalpy of Vaporization\n",
    "\n",
    "1. Perturb Parameters: stepsize = 0.001\n",
    "\n",
    "2. Holding all other parameters constant, calculate new pressure predictions at different temps, compositions \n",
    "\n",
    "*T = (T1=298, T2=323)\n",
    "\n",
    "*x = (0.01,0.2,0.325,0.4)\n",
    "\n",
    "*Pguess comes from data_full\n",
    "\n",
    "3. Save P, Use Clausius Clapeyron to calculate enthvap"
   ]
  },
  {
   "cell_type": "code",
   "execution_count": null,
   "id": "tested-jones",
   "metadata": {},
   "outputs": [],
   "source": [
    "h = 0.001\n",
    "kR32_emimTF2N_plus = parameters['fs.properties.PR_kappa_A[R32,emimTf2N]'] + h\n",
    "kR32_emimTF2N_minus = parameters['fs.properties.PR_kappa_A[R32,emimTf2N]'] - h\n",
    "kemimTF2N_R32_plus = parameters['fs.properties.PR_kappa_A[emimTf2N,R32]'] + h\n",
    "kemimTF2N_R32_minus = parameters['fs.properties.PR_kappa_A[emimTf2N,R32]'] - h"
   ]
  },
  {
   "cell_type": "code",
   "execution_count": null,
   "id": "human-michigan",
   "metadata": {},
   "outputs": [],
   "source": [
    "data = np.array([[kR32_emimTF2N_plus,parameters['fs.properties.PR_kappa_A[emimTf2N,R32]']],\n",
    "                [kR32_emimTF2N_minus,parameters['fs.properties.PR_kappa_A[emimTf2N,R32]']],\n",
    "                [parameters['fs.properties.PR_kappa_A[R32,emimTf2N]'],kemimTF2N_R32_plus],\n",
    "               [parameters['fs.properties.PR_kappa_A[R32,emimTf2N]'],kemimTF2N_R32_minus]])"
   ]
  },
  {
   "cell_type": "code",
   "execution_count": null,
   "id": "painful-norman",
   "metadata": {},
   "outputs": [],
   "source": [
    "perturbed_params = pd.DataFrame(data=data,columns=['kR32_emimTF2N','kemimTF2N_R32'])\n",
    "perturbed_params"
   ]
  },
  {
   "cell_type": "code",
   "execution_count": null,
   "id": "stable-calculator",
   "metadata": {},
   "outputs": [],
   "source": [
    "x = [0.01,0.2,0.325,0.4]\n",
    "temps_298 = [298.15,298.15,298.15,298.15]\n",
    "pguess_298 = [9600,250000,399400,549000]\n",
    "temps_323 = [323.15,323.15,323.15,323.15]\n",
    "pguess_323 = [20400,400100,700300,1000000]"
   ]
  },
  {
   "cell_type": "code",
   "execution_count": null,
   "id": "latter-omega",
   "metadata": {},
   "outputs": [],
   "source": [
    "test_298 = pd.DataFrame()\n",
    "test_298['temperature'] = temps_298\n",
    "test_298['pressure'] = pguess_298\n",
    "test_298['x_R32'] = x\n",
    "test_298['x_emimTf2N'] = 1-test_298['x_R32']\n",
    "# test_298"
   ]
  },
  {
   "cell_type": "code",
   "execution_count": null,
   "id": "cellular-accordance",
   "metadata": {},
   "outputs": [],
   "source": [
    "test_323 = pd.DataFrame()\n",
    "test_323['temperature'] = temps_323\n",
    "test_323['pressure'] = pguess_323\n",
    "test_323['x_R32'] = x\n",
    "test_323['x_emimTf2N'] = 1-test_323['x_R32']\n",
    "# test_323"
   ]
  },
  {
   "cell_type": "code",
   "execution_count": null,
   "id": "catholic-costa",
   "metadata": {},
   "outputs": [],
   "source": [
    "test_data = pd.concat([test_298,test_323],ignore_index=True)"
   ]
  },
  {
   "cell_type": "code",
   "execution_count": null,
   "id": "induced-haven",
   "metadata": {},
   "outputs": [],
   "source": [
    "# Loop through test values\n",
    "\n",
    "R32_x = np.zeros((len(perturbed_params),len(test_data)))\n",
    "P = np.zeros((len(perturbed_params),len(test_data)))\n",
    "\n",
    "for j in range(len(perturbed_params)):\n",
    "\n",
    "    m = ConcreteModel()\n",
    "\n",
    "    m.fs = FlowsheetBlock(default={\"dynamic\": False})\n",
    "\n",
    "    m.fs.properties = GenericParameterBlock(default=configuration)\n",
    "\n",
    "    m.fs.F101 = Flash(default={\"property_package\": m.fs.properties,\n",
    "                               \"has_heat_transfer\": True,\n",
    "                               \"has_pressure_change\": True})\n",
    "\n",
    "    m.fs.F101.inlet.flow_mol.fix(1)\n",
    "    m.fs.F101.inlet.temperature.fix(323.15)\n",
    "    m.fs.F101.inlet.pressure.fix(399800)\n",
    "    m.fs.F101.inlet.mole_frac_comp[0,'R32'].fix(0.5)\n",
    "\n",
    "    m.fs.properties.PR_kappa_A['R32','emimTf2N'] = perturbed_params['kR32_emimTF2N'][j]\n",
    "    m.fs.properties.PR_kappa_A['emimTf2N','R32'] = perturbed_params['kemimTF2N_R32'][j]\n",
    "\n",
    "    # Initialize the flash unit\n",
    "    m.fs.F101.initialize(outlvl=idaeslog.CRITICAL)\n",
    "\n",
    "    # Fix the state variables on the state block\n",
    "    # m.fs.F101.inlet.pressure.unfix()\n",
    "    m.fs.F101.inlet.mole_frac_comp[0,'emimTf2N'].unfix()\n",
    "\n",
    "    m.fs.liq = Param(mutable=True,default=0.040)\n",
    "    m.fs.liquid = Constraint(expr=m.fs.F101.liq_outlet.mole_frac_comp[0, \"emimTf2N\"] == m.fs.liq)\n",
    "\n",
    "    for i in range(len(test_data)):\n",
    "        m.fs.liq = test_data[\"x_emimTf2N\"].iloc[i]\n",
    "        m.fs.F101.inlet.temperature.fix(float(test_data[\"temperature\"].iloc[i]))\n",
    "        m.fs.F101.inlet.pressure.fix(float(test_data[\"pressure\"].iloc[i]))\n",
    "        m.fs.F101.inlet.mole_frac_comp[0,'R32'].fix(float(test_data[\"x_R32\"].iloc[i])+0.1)\n",
    "        m.fs.F101.inlet.mole_frac_comp[0,'emimTf2N'].fix(float(1-(test_data[\"x_R32\"].iloc[i]+0.1)))\n",
    "        m.fs.F101.vap_outlet.temperature.fix(float(test_data[\"temperature\"].iloc[i]))\n",
    "\n",
    "    #     DOF_final = degrees_of_freedom(m)\n",
    "    #     print(\"The final DOF is {0}\".format(DOF_final))\n",
    "        m.fs.F101.initialize(outlvl=idaeslog.CRITICAL)\n",
    "\n",
    "        status = solver.solve(m, tee = False)\n",
    "\n",
    "    #     m.fs.F101.report()\n",
    "        if (status.solver.status == SolverStatus.ok) and (status.solver.termination_condition == TerminationCondition.optimal):\n",
    "            print(test_data[\"x_emimTf2N\"].iloc[i])\n",
    "            R32_x[j,i] = value(m.fs.F101.liq_outlet.mole_frac_comp[0,'R32'])\n",
    "            P[j,i] = value(m.fs.F101.vap_outlet.pressure[0])\n",
    "\n",
    "        else:\n",
    "            print('Infeasible.')"
   ]
  },
  {
   "cell_type": "code",
   "execution_count": null,
   "id": "collect-leisure",
   "metadata": {},
   "outputs": [],
   "source": [
    "test_data['P_kR32_emimTF2N_plus'] = P[0]\n",
    "test_data['P_kR32_emimTF2N_minus'] = P[1]\n",
    "test_data['P_kemimTF2N_R32_plus'] = P[2]\n",
    "test_data['P_kemimTF2N_R32_minus'] = P[3]"
   ]
  },
  {
   "cell_type": "code",
   "execution_count": null,
   "id": "parallel-upgrade",
   "metadata": {},
   "outputs": [],
   "source": [
    "grad_P = test_data"
   ]
  },
  {
   "cell_type": "code",
   "execution_count": null,
   "id": "level-venture",
   "metadata": {},
   "outputs": [],
   "source": [
    "test_data_298 = test_data[test_data['temperature']==298.15]\n",
    "test_data_323 = test_data[test_data['temperature']==323.15].reset_index()"
   ]
  },
  {
   "cell_type": "code",
   "execution_count": null,
   "id": "bright-groove",
   "metadata": {},
   "outputs": [],
   "source": [
    "R = 8.314 #J/mol-K\n",
    "hvap_calc_kR32_emimTF2N_plus = []\n",
    "for i in range(len(x)):\n",
    "    T2 = test_data_323['temperature'][i]\n",
    "    T1 = test_data_298['temperature'][i]\n",
    "    P2 = test_data_323['P_kR32_emimTF2N_plus'][i]\n",
    "    P1 = test_data_298['P_kR32_emimTF2N_plus'][i]\n",
    "    hvap_calc_kR32_emimTF2N_plus.append(np.log(P2/P1)*R/(1/T2-1/T1))\n",
    "\n",
    "hvap_calc_kR32_emimTF2N_minus = []\n",
    "for i in range(len(x)):\n",
    "    T2 = test_data_323['temperature'][i]\n",
    "    T1 = test_data_298['temperature'][i]\n",
    "    P2 = test_data_323['P_kR32_emimTF2N_minus'][i]\n",
    "    P1 = test_data_298['P_kR32_emimTF2N_minus'][i]\n",
    "    hvap_calc_kR32_emimTF2N_minus.append(np.log(P2/P1)*R/(1/T2-1/T1))\n",
    "    \n",
    "hvap_calc_kemimTF2N_R32_plus = []\n",
    "for i in range(len(x)):\n",
    "    T2 = test_data_323['temperature'][i]\n",
    "    T1 = test_data_298['temperature'][i]\n",
    "    P2 = test_data_323['P_kemimTF2N_R32_plus'][i]\n",
    "    P1 = test_data_298['P_kemimTF2N_R32_plus'][i]\n",
    "    hvap_calc_kemimTF2N_R32_plus.append(np.log(P2/P1)*R/(1/T2-1/T1))\n",
    "    \n",
    "hvap_calc_kemimTF2N_R32_minus = []\n",
    "for i in range(len(x)):\n",
    "    T2 = test_data_323['temperature'][i]\n",
    "    T1 = test_data_298['temperature'][i]\n",
    "    P2 = test_data_323['P_kemimTF2N_R32_minus'][i]\n",
    "    P1 = test_data_298['P_kemimTF2N_R32_minus'][i]\n",
    "    hvap_calc_kemimTF2N_R32_minus.append(np.log(P2/P1)*R/(1/T2-1/T1))"
   ]
  },
  {
   "cell_type": "code",
   "execution_count": null,
   "id": "million-guyana",
   "metadata": {},
   "outputs": [],
   "source": [
    "hvap = pd.DataFrame()\n",
    "hvap['x_R32'] = x\n",
    "hvap['hvap_kR32_emimTF2N_plus'] = hvap_calc_kR32_emimTF2N_plus\n",
    "hvap['hvap_kR32_emimTF2N_minus'] = hvap_calc_kR32_emimTF2N_minus\n",
    "hvap['hvap_kemimTF2N_R32_plus'] = hvap_calc_kemimTF2N_R32_plus\n",
    "hvap['hvap_kemimTF2N_R32_minus'] = hvap_calc_kemimTF2N_R32_minus"
   ]
  },
  {
   "cell_type": "code",
   "execution_count": null,
   "id": "noble-brass",
   "metadata": {},
   "outputs": [],
   "source": [
    "hvap"
   ]
  },
  {
   "cell_type": "markdown",
   "id": "quantitative-sodium",
   "metadata": {},
   "source": [
    "### Step 2: Calculate Gradient wrt each param at each concentration"
   ]
  },
  {
   "cell_type": "code",
   "execution_count": null,
   "id": "magnetic-encyclopedia",
   "metadata": {},
   "outputs": [],
   "source": [
    "grad_kR32_emimTF2N = (hvap['hvap_kR32_emimTF2N_plus'] - hvap['hvap_kR32_emimTF2N_minus'])/(2*h)\n",
    "grad_kemimTF2N_R32 = (hvap['hvap_kemimTF2N_R32_plus'] - hvap['hvap_kemimTF2N_R32_minus'])/(2*h)"
   ]
  },
  {
   "cell_type": "code",
   "execution_count": null,
   "id": "equipped-challenge",
   "metadata": {},
   "outputs": [],
   "source": [
    "grad_P['kR32_emimTF2N'] = (grad_P['P_kR32_emimTF2N_plus'] - grad_P['P_kR32_emimTF2N_minus'])/(2*h)\n",
    "grad_P['kemimTF2N_R32'] = (grad_P['P_kemimTF2N_R32_plus'] - grad_P['P_kemimTF2N_R32_minus'])/(2*h)"
   ]
  },
  {
   "cell_type": "markdown",
   "id": "ultimate-korean",
   "metadata": {},
   "source": [
    "### Step 3: Build Jacobian and FIM\n",
    "\n",
    "Rows: enthvap @ 4 concentrations; or pressure @ 4 concentrations, 2 temperatures\n",
    "\n",
    "Columns: parameters (2)"
   ]
  },
  {
   "cell_type": "code",
   "execution_count": null,
   "id": "marine-drama",
   "metadata": {},
   "outputs": [],
   "source": [
    "J_df = pd.DataFrame()\n",
    "J_df['kR32_emimTF2N'] = grad_kR32_emimTF2N\n",
    "J_df['kemimTF2N_R32'] = grad_kemimTF2N_R32"
   ]
  },
  {
   "cell_type": "code",
   "execution_count": null,
   "id": "leading-vinyl",
   "metadata": {},
   "outputs": [],
   "source": [
    "J = J_df.to_numpy()\n",
    "Jtrans = np.transpose(J)"
   ]
  },
  {
   "cell_type": "code",
   "execution_count": null,
   "id": "faced-undergraduate",
   "metadata": {},
   "outputs": [],
   "source": [
    "FIM = np.dot(Jtrans,J)"
   ]
  },
  {
   "cell_type": "code",
   "execution_count": null,
   "id": "noble-player",
   "metadata": {},
   "outputs": [],
   "source": [
    "FIM"
   ]
  },
  {
   "cell_type": "code",
   "execution_count": null,
   "id": "stable-packaging",
   "metadata": {},
   "outputs": [],
   "source": [
    "J_df_P = pd.DataFrame()\n",
    "J_df_P['kR32_emimTF2N'] = grad_P['kR32_emimTF2N']\n",
    "J_df_P['kemimTF2N_R32'] = grad_P['kemimTF2N_R32']"
   ]
  },
  {
   "cell_type": "code",
   "execution_count": null,
   "id": "rough-graduation",
   "metadata": {},
   "outputs": [],
   "source": [
    "J_P = J_df_P.to_numpy()\n",
    "J_Ptrans = np.transpose(J_P)"
   ]
  },
  {
   "cell_type": "code",
   "execution_count": null,
   "id": "complicated-smell",
   "metadata": {},
   "outputs": [],
   "source": [
    "FIM_P = np.dot(J_Ptrans,J_P)"
   ]
  },
  {
   "cell_type": "code",
   "execution_count": null,
   "id": "distinct-salmon",
   "metadata": {},
   "outputs": [],
   "source": [
    "FIM_P"
   ]
  },
  {
   "cell_type": "markdown",
   "id": "varying-blowing",
   "metadata": {},
   "source": [
    "### Step 4: Find Eigenvalues, Eigenvectors"
   ]
  },
  {
   "cell_type": "markdown",
   "id": "shared-george",
   "metadata": {},
   "source": [
    "**Enthalpy of Vaporization**"
   ]
  },
  {
   "cell_type": "code",
   "execution_count": null,
   "id": "leading-throw",
   "metadata": {},
   "outputs": [],
   "source": [
    "eigvals, eigvecs = np.linalg.eig(FIM)"
   ]
  },
  {
   "cell_type": "code",
   "execution_count": null,
   "id": "objective-creativity",
   "metadata": {},
   "outputs": [],
   "source": [
    "eigvals"
   ]
  },
  {
   "cell_type": "code",
   "execution_count": null,
   "id": "disciplinary-creativity",
   "metadata": {},
   "outputs": [],
   "source": [
    "eigvecs"
   ]
  },
  {
   "cell_type": "markdown",
   "id": "fluid-sunrise",
   "metadata": {},
   "source": [
    "All eigenvalues >> 0, assuming that these 2 parameters are identifiable with the given T, x, P data"
   ]
  },
  {
   "cell_type": "markdown",
   "id": "greek-gossip",
   "metadata": {},
   "source": [
    "**Pressure**"
   ]
  },
  {
   "cell_type": "code",
   "execution_count": null,
   "id": "earned-defense",
   "metadata": {},
   "outputs": [],
   "source": [
    "eigvals_P, eigvecs_P = np.linalg.eig(FIM_P)"
   ]
  },
  {
   "cell_type": "code",
   "execution_count": null,
   "id": "thick-grain",
   "metadata": {},
   "outputs": [],
   "source": [
    "eigvals_P"
   ]
  },
  {
   "cell_type": "code",
   "execution_count": null,
   "id": "terminal-effort",
   "metadata": {},
   "outputs": [],
   "source": [
    "eigvecs_P"
   ]
  },
  {
   "cell_type": "markdown",
   "id": "weighted-meeting",
   "metadata": {},
   "source": [
    "All eigvals >> 0, assuming these 2 parameters are identifiable with the given T, x, P data"
   ]
  },
  {
   "cell_type": "markdown",
   "id": "capital-declaration",
   "metadata": {},
   "source": [
    "## AIC Value\n",
    "\n",
    "See https://docs.google.com/document/d/1um0r2XK4ldjjy2colOqaZsEM3wIzGD6l_3B8gnpnI2I/edit# for equations"
   ]
  },
  {
   "cell_type": "code",
   "execution_count": 18,
   "id": "revolutionary-sheet",
   "metadata": {},
   "outputs": [],
   "source": [
    "n = 1"
   ]
  },
  {
   "cell_type": "code",
   "execution_count": 19,
   "id": "editorial-masters",
   "metadata": {},
   "outputs": [
    {
     "data": {
      "text/plain": [
       "45.25470390699907"
      ]
     },
     "execution_count": 19,
     "metadata": {},
     "output_type": "execute_result"
    }
   ],
   "source": [
    "SSR = obj_value\n",
    "SSR"
   ]
  },
  {
   "cell_type": "code",
   "execution_count": 20,
   "id": "weekly-artist",
   "metadata": {},
   "outputs": [
    {
     "data": {
      "text/plain": [
       "45.25470390699907"
      ]
     },
     "execution_count": 20,
     "metadata": {},
     "output_type": "execute_result"
    }
   ],
   "source": [
    "sigma_sq = SSR/n\n",
    "sigma_sq"
   ]
  },
  {
   "cell_type": "code",
   "execution_count": 21,
   "id": "official-trouble",
   "metadata": {},
   "outputs": [
    {
     "data": {
      "text/plain": [
       "-3.32509184244915"
      ]
     },
     "execution_count": 21,
     "metadata": {},
     "output_type": "execute_result"
    }
   ],
   "source": [
    "L = -n/2*np.log(2*np.pi) - n/2*np.log(sigma_sq) - 1/(2*sigma_sq)*SSR\n",
    "L"
   ]
  },
  {
   "cell_type": "code",
   "execution_count": 22,
   "id": "absent-twist",
   "metadata": {},
   "outputs": [
    {
     "data": {
      "text/plain": [
       "8.6501836848983"
      ]
     },
     "execution_count": 22,
     "metadata": {},
     "output_type": "execute_result"
    }
   ],
   "source": [
    "AIC = 2*n - 2*L\n",
    "AIC"
   ]
  },
  {
   "cell_type": "code",
   "execution_count": 23,
   "id": "damaged-triangle",
   "metadata": {},
   "outputs": [],
   "source": [
    "AIC_data = pd.DataFrame(data=[n,obj_value,AIC])\n",
    "AIC_data = AIC_data.T\n",
    "AIC_data.columns = ['n','Objective, Pa^2','AIC']\n",
    "AIC_data.to_csv('Data/AIC/SRK_AIC_1parameter_ILHFCfit.csv')"
   ]
  },
  {
   "cell_type": "code",
   "execution_count": null,
   "id": "8060f27c",
   "metadata": {},
   "outputs": [],
   "source": []
  }
 ],
 "metadata": {
  "kernelspec": {
   "display_name": "Python 3 (ipykernel)",
   "language": "python",
   "name": "python3"
  },
  "language_info": {
   "codemirror_mode": {
    "name": "ipython",
    "version": 3
   },
   "file_extension": ".py",
   "mimetype": "text/x-python",
   "name": "python",
   "nbconvert_exporter": "python",
   "pygments_lexer": "ipython3",
   "version": "3.7.12"
  }
 },
 "nbformat": 4,
 "nbformat_minor": 5
}
