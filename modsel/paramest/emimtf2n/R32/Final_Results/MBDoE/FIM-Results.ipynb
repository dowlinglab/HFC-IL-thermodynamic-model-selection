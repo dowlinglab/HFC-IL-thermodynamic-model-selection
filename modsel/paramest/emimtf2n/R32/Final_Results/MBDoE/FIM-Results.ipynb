{
 "cells": [
  {
   "cell_type": "markdown",
   "id": "8de267db",
   "metadata": {},
   "source": [
    "# Analyze FIM Results\n",
    "\n",
    "System: R32/emimTF2N"
   ]
  },
  {
   "cell_type": "code",
   "execution_count": 1,
   "id": "a6c8ec60",
   "metadata": {},
   "outputs": [],
   "source": [
    "import json\n",
    "import sys\n",
    "sys.path.append('../../../../')\n",
    "\n",
    "import numpy as np"
   ]
  },
  {
   "cell_type": "markdown",
   "id": "b407b7dc",
   "metadata": {},
   "source": [
    "## PR 1param, Opt1"
   ]
  },
  {
   "cell_type": "code",
   "execution_count": 3,
   "id": "94902d62",
   "metadata": {},
   "outputs": [
    {
     "name": "stdout",
     "output_type": "stream",
     "text": [
      "Eigenvalues: [10470.00464292]\n",
      "\n",
      "Eigenvectors: [[1.]]\n",
      "\n",
      "Trace: 10470.004642920812\n",
      "\n",
      "Determinant: 10470.004642920807\n"
     ]
    }
   ],
   "source": [
    "# Opening JSON file\n",
    "f = open('../../../../emimtf2n_FIM_info/PR_1param_Opt1.json')\n",
    "  \n",
    "data_PR_1param_Opt1 = json.load(f)\n",
    "\n",
    "for i in data_PR_1param_Opt1:\n",
    "    data_PR_1param_Opt1 = i\n",
    "    \n",
    "FIM_PR_1param_Opt1 = data_PR_1param_Opt1['Total']\n",
    "\n",
    "FIM_PR_1param_Opt1_sc = np.zeros((1,1))\n",
    "\n",
    "for i in range(1):\n",
    "    for j in range(1):\n",
    "        FIM_PR_1param_Opt1_sc[i,j] = FIM_PR_1param_Opt1[i][j]*1E-10\n",
    "\n",
    "eigvals, eigvecs = np.linalg.eig(FIM_PR_1param_Opt1_sc)\n",
    "print('Eigenvalues:',eigvals)\n",
    "print('')\n",
    "print('Eigenvectors:',eigvecs)\n",
    "print('')\n",
    "trace = np.trace(FIM_PR_1param_Opt1_sc)\n",
    "print('Trace:',trace)\n",
    "print('')\n",
    "det = np.linalg.det(FIM_PR_1param_Opt1_sc)\n",
    "print('Determinant:',det)"
   ]
  },
  {
   "cell_type": "markdown",
   "id": "8a8194fd",
   "metadata": {},
   "source": [
    "## PR 1param, Opt2"
   ]
  },
  {
   "cell_type": "code",
   "execution_count": 4,
   "id": "8a6ca9ca",
   "metadata": {},
   "outputs": [
    {
     "name": "stdout",
     "output_type": "stream",
     "text": [
      "Eigenvalues: [11.19851669]\n",
      "\n",
      "Eigenvectors: [[1.]]\n",
      "\n",
      "Trace: 11.198516687332532\n",
      "\n",
      "Determinant: 11.198516687332532\n"
     ]
    }
   ],
   "source": [
    "# Opening JSON file\n",
    "f = open('../../../../emimtf2n_FIM_info/PR_1param_Opt2.json')\n",
    "  \n",
    "data_PR_1param_Opt2 = json.load(f)\n",
    "\n",
    "for i in data_PR_1param_Opt2:\n",
    "    data_PR_1param_Opt2 = i\n",
    "    \n",
    "FIM_PR_1param_Opt2 = data_PR_1param_Opt2['Total']\n",
    "\n",
    "FIM_PR_1param_Opt2_sc = np.zeros((1,1))\n",
    "\n",
    "for i in range(1):\n",
    "    for j in range(1):\n",
    "        FIM_PR_1param_Opt2_sc[i,j] = FIM_PR_1param_Opt2[i][j]*1E-10\n",
    "\n",
    "eigvals, eigvecs = np.linalg.eig(FIM_PR_1param_Opt2_sc)\n",
    "print('Eigenvalues:',eigvals)\n",
    "print('')\n",
    "print('Eigenvectors:',eigvecs)\n",
    "print('')\n",
    "trace = np.trace(FIM_PR_1param_Opt2_sc)\n",
    "print('Trace:',trace)\n",
    "print('')\n",
    "det = np.linalg.det(FIM_PR_1param_Opt2_sc)\n",
    "print('Determinant:',det)"
   ]
  },
  {
   "cell_type": "markdown",
   "id": "0a3a3569",
   "metadata": {},
   "source": [
    "## PR noTdep"
   ]
  },
  {
   "cell_type": "code",
   "execution_count": 5,
   "id": "5dbc24b1",
   "metadata": {},
   "outputs": [
    {
     "name": "stdout",
     "output_type": "stream",
     "text": [
      "Eigenvalues: [  42427.48746709 1172076.85205063]\n",
      "\n",
      "Eigenvectors: [[-0.97455025 -0.22416916]\n",
      " [ 0.22416916 -0.97455025]]\n",
      "\n",
      "Cov Eigenvalues: [2.35696257e-05 8.53186374e-07]\n",
      "\n",
      "Trace: 1214504.339517717\n",
      "\n",
      "Determinant: 49728275950.84661\n",
      "CN: 27.625412722347093\n"
     ]
    }
   ],
   "source": [
    "# Opening JSON file\n",
    "f = open('../../../../emimtf2n_FIM_info/PR_noTdep.json')\n",
    "  \n",
    "data_PR_noTdep = json.load(f)\n",
    "\n",
    "for i in data_PR_noTdep:\n",
    "    data_PR_noTdep = i\n",
    "    \n",
    "FIM_PR_noTdep = data_PR_noTdep['Total']\n",
    "\n",
    "FIM_PR_noTdep_sc = np.zeros((2,2))\n",
    "\n",
    "for i in range(2):\n",
    "    for j in range(2):\n",
    "        FIM_PR_noTdep_sc[i,j] = FIM_PR_noTdep[i][j]*1E-10\n",
    "\n",
    "eigvals, eigvecs = np.linalg.eig(FIM_PR_noTdep_sc)\n",
    "print('Eigenvalues:',eigvals)\n",
    "print('')\n",
    "print('Eigenvectors:',eigvecs)\n",
    "print('')\n",
    "#Eigvals of covariance\n",
    "eig_cov = 1/eigvals\n",
    "print('Cov Eigenvalues:',eig_cov)\n",
    "print('')\n",
    "trace = np.trace(FIM_PR_noTdep_sc)\n",
    "print('Trace:',trace)\n",
    "print('')\n",
    "det = np.linalg.det(FIM_PR_noTdep_sc)\n",
    "print('Determinant:',det)\n",
    "CN = eigvals.max()/eigvals.min()\n",
    "print('CN:',CN)"
   ]
  },
  {
   "cell_type": "markdown",
   "id": "2411155a",
   "metadata": {},
   "source": [
    "## PR 3params, Opt1"
   ]
  },
  {
   "cell_type": "code",
   "execution_count": 6,
   "id": "fcd717b4",
   "metadata": {},
   "outputs": [
    {
     "name": "stdout",
     "output_type": "stream",
     "text": [
      "Eigenvalues: [6.24558892e+02 2.17131971e-01 3.29745023e+00]\n",
      "\n",
      "Eigenvectors: [[-0.47014575  0.84236831 -0.26339818]\n",
      " [ 0.08612441  0.34080075  0.93618237]\n",
      " [-0.87837666 -0.41745715  0.2327745 ]]\n",
      "\n",
      "Cov Eigenvalues: [1.60113003e-03 4.60549404e+00 3.03264623e-01]\n",
      "\n",
      "Trace: 628.0734738596357\n",
      "\n",
      "Determinant: 447.17284248611367\n",
      "CN: 2876.4022529446256\n"
     ]
    }
   ],
   "source": [
    "# Opening JSON file\n",
    "f = open('../../../../emimtf2n_FIM_info/PR_3param_Opt1.json')\n",
    "  \n",
    "data_PR_3params_Opt1 = json.load(f)\n",
    "\n",
    "for i in data_PR_3params_Opt1:\n",
    "    data_PR_3params_Opt1 = i\n",
    "    \n",
    "FIM_PR_3params_Opt1 = data_PR_3params_Opt1['Total']\n",
    "\n",
    "FIM_PR_3params_Opt1_sc = np.zeros((3,3))\n",
    "\n",
    "for i in range(3):\n",
    "    for j in range(3):\n",
    "        FIM_PR_3params_Opt1_sc[i,j] = FIM_PR_3params_Opt1[i][j]*1E-10\n",
    "\n",
    "eigvals, eigvecs = np.linalg.eig(FIM_PR_3params_Opt1_sc)\n",
    "print('Eigenvalues:',eigvals)\n",
    "print('')\n",
    "print('Eigenvectors:',eigvecs)\n",
    "print('')\n",
    "#Eigvals of covariance\n",
    "eig_cov = 1/eigvals\n",
    "print('Cov Eigenvalues:',eig_cov)\n",
    "print('')\n",
    "trace = np.trace(FIM_PR_3params_Opt1_sc)\n",
    "print('Trace:',trace)\n",
    "print('')\n",
    "det = np.linalg.det(FIM_PR_3params_Opt1_sc)\n",
    "print('Determinant:',det)\n",
    "CN = eigvals.max()/eigvals.min()\n",
    "print('CN:',CN)"
   ]
  },
  {
   "cell_type": "markdown",
   "id": "92ad94ae",
   "metadata": {},
   "source": [
    "## PR 3params, Opt2"
   ]
  },
  {
   "cell_type": "code",
   "execution_count": 7,
   "id": "ecea8a7b",
   "metadata": {},
   "outputs": [
    {
     "name": "stdout",
     "output_type": "stream",
     "text": [
      "Eigenvalues: [2.06342637e+04 1.49559029e+02 1.23731750e+01]\n",
      "\n",
      "Eigenvectors: [[-0.07319592  0.9122032  -0.40314721]\n",
      " [ 0.02671372 -0.40229322 -0.91512105]\n",
      " [ 0.99695975  0.07775269 -0.00507788]]\n",
      "\n",
      "Cov Eigenvalues: [4.84630814e-05 6.68632316e-03 8.08199997e-02]\n",
      "\n",
      "Trace: 20796.195861654443\n",
      "\n",
      "Determinant: 38184118.40286437\n",
      "CN: 1667.6611821176848\n"
     ]
    }
   ],
   "source": [
    "# Opening JSON file\n",
    "f = open('../../../../emimtf2n_FIM_info/PR_3param_Opt2.json')\n",
    "  \n",
    "data_PR_3params_Opt2 = json.load(f)\n",
    "\n",
    "for i in data_PR_3params_Opt2:\n",
    "    data_PR_3params_Opt2 = i\n",
    "    \n",
    "FIM_PR_3params_Opt2 = data_PR_3params_Opt2['Total']\n",
    "\n",
    "FIM_PR_3params_Opt2_sc = np.zeros((3,3))\n",
    "\n",
    "for i in range(3):\n",
    "    for j in range(3):\n",
    "        FIM_PR_3params_Opt2_sc[i,j] = FIM_PR_3params_Opt2[i][j]*1E-10\n",
    "\n",
    "eigvals, eigvecs = np.linalg.eig(FIM_PR_3params_Opt2_sc)\n",
    "print('Eigenvalues:',eigvals)\n",
    "print('')\n",
    "print('Eigenvectors:',eigvecs)\n",
    "print('')\n",
    "#Eigvals of covariance\n",
    "eig_cov = 1/eigvals\n",
    "print('Cov Eigenvalues:',eig_cov)\n",
    "print('')\n",
    "trace = np.trace(FIM_PR_3params_Opt2_sc)\n",
    "print('Trace:',trace)\n",
    "print('')\n",
    "det = np.linalg.det(FIM_PR_3params_Opt2_sc)\n",
    "print('Determinant:',det)\n",
    "CN = eigvals.max()/eigvals.min()\n",
    "print('CN:',CN)"
   ]
  },
  {
   "cell_type": "markdown",
   "id": "10cd49df",
   "metadata": {},
   "source": [
    "## PR linTdep"
   ]
  },
  {
   "cell_type": "code",
   "execution_count": 8,
   "id": "572194f5",
   "metadata": {},
   "outputs": [
    {
     "name": "stdout",
     "output_type": "stream",
     "text": [
      "Eigenvalues: [2.42521458e+03 2.65922061e+02 7.77310021e-01 1.64276372e-01]\n",
      "\n",
      "Eigenvectors: [[ 0.39510657 -0.32132388 -0.78412275 -0.35467348]\n",
      " [-0.44588908 -0.51000672  0.29007191 -0.6759692 ]\n",
      " [ 0.61114986 -0.60647464  0.44539781  0.24557108]\n",
      " [-0.52112338 -0.51849072 -0.3203601   0.59746733]]\n",
      "\n",
      "Cov Eigenvalues: [4.12334648e-04 3.76050034e-03 1.28648798e+00 6.08730269e+00]\n",
      "\n",
      "Trace: 2692.0782264467425\n",
      "\n",
      "Determinant: 82351.95376080667\n",
      "CN: 14763.015243927133\n"
     ]
    }
   ],
   "source": [
    "# Opening JSON file\n",
    "f = open('../../../../emimtf2n_FIM_info/PR_linTdep.json')\n",
    "  \n",
    "data_PR_linTdep = json.load(f)\n",
    "\n",
    "for i in data_PR_linTdep:\n",
    "    data_PR_linTdep = i\n",
    "    \n",
    "FIM_PR_linTdep = data_PR_linTdep['Total']\n",
    "\n",
    "FIM_PR_linTdep_sc = np.zeros((4,4))\n",
    "\n",
    "for i in range(4):\n",
    "    for j in range(4):\n",
    "        FIM_PR_linTdep_sc[i,j] = FIM_PR_linTdep[i][j]*1E-10\n",
    "\n",
    "eigvals, eigvecs = np.linalg.eig(FIM_PR_linTdep_sc)\n",
    "print('Eigenvalues:',eigvals)\n",
    "print('')\n",
    "print('Eigenvectors:',eigvecs)\n",
    "print('')\n",
    "#Eigvals of covariance\n",
    "eig_cov = 1/eigvals\n",
    "print('Cov Eigenvalues:',eig_cov)\n",
    "print('')\n",
    "trace = np.trace(FIM_PR_linTdep_sc)\n",
    "print('Trace:',trace)\n",
    "print('')\n",
    "det = np.linalg.det(FIM_PR_linTdep_sc)\n",
    "print('Determinant:',det)\n",
    "CN = eigvals.max()/eigvals.min()\n",
    "print('CN:',CN)"
   ]
  },
  {
   "cell_type": "markdown",
   "id": "08b57d45",
   "metadata": {},
   "source": [
    "## PR quadTdep"
   ]
  },
  {
   "cell_type": "code",
   "execution_count": 10,
   "id": "8d0260fc",
   "metadata": {},
   "outputs": [
    {
     "name": "stdout",
     "output_type": "stream",
     "text": [
      "Eigenvalues: [2.23371386e+04 2.60343538e+02 1.32287740e+01 2.12677456e-01\n",
      " 8.54650300e-03 8.22396039e-05]\n",
      "\n",
      "Eigenvectors: [[ 0.45104367  0.15268398  0.73712377 -0.04012275  0.4766875   0.03247998]\n",
      " [-0.10437935 -0.74644066  0.17244104  0.56160495  0.0995749   0.27727261]\n",
      " [ 0.82902366 -0.1647875  -0.13862732  0.08606271 -0.50748669 -0.03738705]\n",
      " [-0.07748034 -0.5045409   0.17615655 -0.36092246 -0.01606349 -0.7601849 ]\n",
      " [ 0.29954641 -0.21631945 -0.59420051 -0.19777335  0.6843154   0.0547881 ]\n",
      " [-0.05150806 -0.30166769  0.15358945 -0.7114801  -0.19174339  0.58291023]]\n",
      "\n",
      "Cov Eigenvalues: [4.47684915e-05 3.84107862e-03 7.55927951e-02 4.70195580e+00\n",
      " 1.17006921e+02 1.21595916e+04]\n",
      "\n",
      "Trace: 22610.932206281006\n",
      "\n",
      "Determinant: 11.49965617129065\n",
      "CN: 271610483.6527655\n"
     ]
    }
   ],
   "source": [
    "# Opening JSON file\n",
    "f = open('../../../../emimtf2n_FIM_info/PR_quadTdep.json')\n",
    "  \n",
    "data_PR_quadTdep = json.load(f)\n",
    "\n",
    "for i in data_PR_quadTdep:\n",
    "    data_PR_quadTdep = i\n",
    "    \n",
    "FIM_PR_quadTdep = data_PR_quadTdep['Total']\n",
    "\n",
    "FIM_PR_quadTdep_sc = np.zeros((6,6))\n",
    "\n",
    "for i in range(6):\n",
    "    for j in range(6):\n",
    "        FIM_PR_quadTdep_sc[i,j] = FIM_PR_quadTdep[i][j]*1E-10\n",
    "\n",
    "eigvals, eigvecs = np.linalg.eig(FIM_PR_quadTdep_sc)\n",
    "print('Eigenvalues:',eigvals)\n",
    "print('')\n",
    "print('Eigenvectors:',eigvecs)\n",
    "print('')\n",
    "# Eigvals of covariance\n",
    "eig_cov = 1/eigvals\n",
    "print('Cov Eigenvalues:',eig_cov)\n",
    "print('')\n",
    "trace = np.trace(FIM_PR_quadTdep_sc)\n",
    "print('Trace:',trace)\n",
    "print('')\n",
    "det = np.linalg.det(FIM_PR_quadTdep_sc)\n",
    "print('Determinant:',det)\n",
    "CN = eigvals.max()/eigvals.min()\n",
    "print('CN:',CN)"
   ]
  },
  {
   "cell_type": "markdown",
   "id": "ea96a84c",
   "metadata": {},
   "source": [
    "## PR polyTdep"
   ]
  },
  {
   "cell_type": "code",
   "execution_count": 11,
   "id": "d71fd7e6",
   "metadata": {},
   "outputs": [
    {
     "name": "stdout",
     "output_type": "stream",
     "text": [
      "Eigenvalues: [3.05992363e+13 1.92446310e+07 1.78191387e+06 1.29537925e+05\n",
      " 9.73617836e+03 1.10814649e+02 8.93060197e-02 4.34487792e+01]\n",
      "\n",
      "Eigenvectors: [[ 2.96791437e-03  1.74768867e-01  4.72296299e-02  4.99418917e-01\n",
      "   4.80280816e-02 -5.25612998e-01  4.05264846e-01  5.24377331e-01]\n",
      " [-3.40639147e-04 -3.92709921e-02 -1.46718794e-02 -3.35080989e-02\n",
      "   7.34048908e-01 -3.99111695e-01  1.39462352e-01 -5.28734244e-01]\n",
      " [ 9.26364835e-03  6.23452857e-01  1.61027087e-02  5.79598483e-01\n",
      "   6.30225078e-02  1.96629432e-01 -4.10528274e-01 -2.52696260e-01]\n",
      " [-8.55151730e-04 -4.50861117e-02 -5.37580273e-01 -2.71409147e-02\n",
      "   5.58703627e-01  3.09264260e-01 -2.06536213e-01  5.07733893e-01]\n",
      " [ 9.56984879e-03  7.31111325e-01 -9.78691965e-03 -5.17121108e-01\n",
      "   5.12126029e-02  1.34820277e-01  4.16786234e-01  5.79950774e-02]\n",
      " [-7.01952688e-04 -1.32061656e-02 -8.10386385e-01  1.62101511e-01\n",
      "  -3.32149901e-01 -4.70646143e-02  3.07420925e-01 -3.31329616e-01]\n",
      " [ 7.02143905e-01  1.37072786e-01 -1.62401844e-01 -2.46979883e-01\n",
      "  -1.23406049e-01 -4.56761226e-01 -4.14163534e-01  7.37425209e-02]\n",
      " [-7.11903358e-01  1.53948980e-01 -1.58448779e-01 -2.41032611e-01\n",
      "  -1.20700394e-01 -4.48453914e-01 -4.06657303e-01  7.23788962e-02]]\n",
      "\n",
      "Cov Eigenvalues: [3.26805542e-14 5.19625448e-08 5.61194352e-07 7.71974691e-06\n",
      " 1.02709704e-04 9.02407771e-03 1.11974535e+01 2.30156064e-02]\n",
      "\n",
      "Trace: 30599257416211.38\n",
      "\n",
      "Determinant: 5.665228437131781e+38\n",
      "CN: 342633524189099.1\n"
     ]
    }
   ],
   "source": [
    "# Opening JSON file\n",
    "f = open('../../../../emimtf2n_FIM_info/PR_polyTdep.json')\n",
    "  \n",
    "data_PR_polyTdep = json.load(f)\n",
    "\n",
    "for i in data_PR_polyTdep:\n",
    "    data_PR_polyTdep = i\n",
    "    \n",
    "FIM_PR_polyTdep = data_PR_polyTdep['Total']\n",
    "\n",
    "FIM_PR_polyTdep_sc = np.zeros((8,8))\n",
    "\n",
    "for i in range(8):\n",
    "    for j in range(8):\n",
    "        FIM_PR_polyTdep_sc[i,j] = FIM_PR_polyTdep[i][j]*1E-10\n",
    "\n",
    "eigvals, eigvecs = np.linalg.eig(FIM_PR_polyTdep_sc)\n",
    "print('Eigenvalues:',eigvals)\n",
    "print('')\n",
    "print('Eigenvectors:',eigvecs)\n",
    "print('')\n",
    "#Eigvals of covariance\n",
    "eig_cov = 1/eigvals\n",
    "print('Cov Eigenvalues:',eig_cov)\n",
    "print('')\n",
    "trace = np.trace(FIM_PR_polyTdep_sc)\n",
    "print('Trace:',trace)\n",
    "print('')\n",
    "det = np.linalg.det(FIM_PR_polyTdep_sc)\n",
    "print('Determinant:',det)\n",
    "CN = eigvals.max()/eigvals.min()\n",
    "print('CN:',CN)"
   ]
  },
  {
   "cell_type": "markdown",
   "id": "765cc852",
   "metadata": {},
   "source": [
    "## SRK 1param, Opt1"
   ]
  },
  {
   "cell_type": "code",
   "execution_count": 12,
   "id": "dee32a51",
   "metadata": {},
   "outputs": [
    {
     "name": "stdout",
     "output_type": "stream",
     "text": [
      "Eigenvalues: [371388.07063497]\n",
      "\n",
      "Eigenvectors: [[1.]]\n",
      "\n",
      "Trace: 371388.07063497056\n",
      "\n",
      "Determinant: 371388.07063497056\n"
     ]
    }
   ],
   "source": [
    "# Opening JSON file\n",
    "f = open('../../../../emimtf2n_FIM_info/SRK_1param_Opt1.json')\n",
    "  \n",
    "data_SRK_1param_Opt1 = json.load(f)\n",
    "\n",
    "for i in data_SRK_1param_Opt1:\n",
    "    data_SRK_1param_Opt1 = i\n",
    "    \n",
    "FIM_SRK_1param_Opt1 = data_SRK_1param_Opt1['Total']\n",
    "\n",
    "FIM_SRK_1param_Opt1_sc = np.zeros((1,1))\n",
    "\n",
    "for i in range(1):\n",
    "    for j in range(1):\n",
    "        FIM_SRK_1param_Opt1_sc[i,j] = FIM_SRK_1param_Opt1[i][j]*1E-10\n",
    "\n",
    "eigvals, eigvecs = np.linalg.eig(FIM_SRK_1param_Opt1_sc)\n",
    "print('Eigenvalues:',eigvals)\n",
    "print('')\n",
    "print('Eigenvectors:',eigvecs)\n",
    "print('')\n",
    "trace = np.trace(FIM_SRK_1param_Opt1_sc)\n",
    "print('Trace:',trace)\n",
    "print('')\n",
    "det = np.linalg.det(FIM_SRK_1param_Opt1_sc)\n",
    "print('Determinant:',det)"
   ]
  },
  {
   "cell_type": "markdown",
   "id": "f4e61358",
   "metadata": {},
   "source": [
    "## SRK 1param, Opt2"
   ]
  },
  {
   "cell_type": "code",
   "execution_count": 13,
   "id": "857b90e8",
   "metadata": {},
   "outputs": [
    {
     "name": "stdout",
     "output_type": "stream",
     "text": [
      "Eigenvalues: [18.62347963]\n",
      "\n",
      "Eigenvectors: [[1.]]\n",
      "\n",
      "Trace: 18.623479628152154\n",
      "\n",
      "Determinant: 18.62347962815215\n"
     ]
    }
   ],
   "source": [
    "# Opening JSON file\n",
    "f = open('../../../../emimtf2n_FIM_info/SRK_1param_Opt2.json')\n",
    "  \n",
    "data_SRK_1param_Opt2 = json.load(f)\n",
    "\n",
    "for i in data_SRK_1param_Opt2:\n",
    "    data_SRK_1param_Opt2 = i\n",
    "    \n",
    "FIM_SRK_1param_Opt2 = data_SRK_1param_Opt2['Total']\n",
    "\n",
    "FIM_SRK_1param_Opt2_sc = np.zeros((1,1))\n",
    "\n",
    "for i in range(1):\n",
    "    for j in range(1):\n",
    "        FIM_SRK_1param_Opt2_sc[i,j] = FIM_SRK_1param_Opt2[i][j]*1E-10\n",
    "\n",
    "eigvals, eigvecs = np.linalg.eig(FIM_SRK_1param_Opt2_sc)\n",
    "print('Eigenvalues:',eigvals)\n",
    "print('')\n",
    "print('Eigenvectors:',eigvecs)\n",
    "print('')\n",
    "trace = np.trace(FIM_SRK_1param_Opt2_sc)\n",
    "print('Trace:',trace)\n",
    "print('')\n",
    "det = np.linalg.det(FIM_SRK_1param_Opt2_sc)\n",
    "print('Determinant:',det)"
   ]
  },
  {
   "cell_type": "markdown",
   "id": "84630491",
   "metadata": {},
   "source": [
    "## SRK noTdep"
   ]
  },
  {
   "cell_type": "code",
   "execution_count": 14,
   "id": "07728001",
   "metadata": {},
   "outputs": [
    {
     "name": "stdout",
     "output_type": "stream",
     "text": [
      "Eigenvalues: [ 31256.19534044 281900.92878926]\n",
      "\n",
      "Eigenvectors: [[-0.97686144 -0.21387318]\n",
      " [ 0.21387318 -0.97686144]]\n",
      "\n",
      "Cov Eigenvalues: [3.19936572e-05 3.54734553e-06]\n",
      "\n",
      "Trace: 313157.12412970007\n",
      "\n",
      "Determinant: 8811150496.887798\n",
      "CN: 9.019041688178932\n"
     ]
    }
   ],
   "source": [
    "# Opening JSON file\n",
    "f = open('../../../../emimtf2n_FIM_info/SRK_noTdep.json')\n",
    "  \n",
    "data_SRK_noTdep = json.load(f)\n",
    "\n",
    "for i in data_SRK_noTdep:\n",
    "    data_SRK_noTdep = i\n",
    "    \n",
    "FIM_SRK_noTdep = data_SRK_noTdep['Total']\n",
    "\n",
    "FIM_SRK_noTdep_sc = np.zeros((2,2))\n",
    "\n",
    "for i in range(2):\n",
    "    for j in range(2):\n",
    "        FIM_SRK_noTdep_sc[i,j] = FIM_SRK_noTdep[i][j]*1E-10\n",
    "\n",
    "eigvals, eigvecs = np.linalg.eig(FIM_SRK_noTdep_sc)\n",
    "print('Eigenvalues:',eigvals)\n",
    "print('')\n",
    "print('Eigenvectors:',eigvecs)\n",
    "print('')\n",
    "#Eigvals of covariance\n",
    "eig_cov = 1/eigvals\n",
    "print('Cov Eigenvalues:',eig_cov)\n",
    "print('')\n",
    "trace = np.trace(FIM_SRK_noTdep_sc)\n",
    "print('Trace:',trace)\n",
    "print('')\n",
    "det = np.linalg.det(FIM_SRK_noTdep_sc)\n",
    "print('Determinant:',det)\n",
    "CN = eigvals.max()/eigvals.min()\n",
    "print('CN:',CN)"
   ]
  },
  {
   "cell_type": "markdown",
   "id": "bf9fbbd8",
   "metadata": {},
   "source": [
    "## SRK 3params, Opt1"
   ]
  },
  {
   "cell_type": "code",
   "execution_count": 15,
   "id": "4f1f3c8b",
   "metadata": {},
   "outputs": [
    {
     "name": "stdout",
     "output_type": "stream",
     "text": [
      "Eigenvalues: [8.45109789e+02 2.92704416e-01 3.19060521e+00]\n",
      "\n",
      "Eigenvectors: [[-0.48891918  0.80203114 -0.34308028]\n",
      " [ 0.07035842  0.42826724  0.90090891]\n",
      " [-0.86948705 -0.41633306  0.26581772]]\n",
      "\n",
      "Cov Eigenvalues: [1.18327821e-03 3.41641583e+00 3.13420161e-01]\n",
      "\n",
      "Trace: 848.5930983650965\n",
      "\n",
      "Determinant: 789.251610315053\n",
      "CN: 2887.2464610163265\n"
     ]
    }
   ],
   "source": [
    "# Opening JSON file\n",
    "f = open('../../../../emimtf2n_FIM_info/SRK_3params_Opt1.json')\n",
    "  \n",
    "data_SRK_3params_Opt1 = json.load(f)\n",
    "\n",
    "for i in data_SRK_3params_Opt1:\n",
    "    data_SRK_3params_Opt1 = i\n",
    "    \n",
    "FIM_SRK_3params_Opt1 = data_SRK_3params_Opt1['Total']\n",
    "\n",
    "FIM_SRK_3params_Opt1_sc = np.zeros((3,3))\n",
    "\n",
    "for i in range(3):\n",
    "    for j in range(3):\n",
    "        FIM_SRK_3params_Opt1_sc[i,j] = FIM_SRK_3params_Opt1[i][j]*1E-10\n",
    "\n",
    "eigvals, eigvecs = np.linalg.eig(FIM_SRK_3params_Opt1_sc)\n",
    "print('Eigenvalues:',eigvals)\n",
    "print('')\n",
    "print('Eigenvectors:',eigvecs)\n",
    "print('')\n",
    "#Eigvals of covariance\n",
    "eig_cov = 1/eigvals\n",
    "print('Cov Eigenvalues:',eig_cov)\n",
    "print('')\n",
    "trace = np.trace(FIM_SRK_3params_Opt1_sc)\n",
    "print('Trace:',trace)\n",
    "print('')\n",
    "det = np.linalg.det(FIM_SRK_3params_Opt1_sc)\n",
    "print('Determinant:',det)\n",
    "CN = eigvals.max()/eigvals.min()\n",
    "print('CN:',CN)"
   ]
  },
  {
   "cell_type": "markdown",
   "id": "9a36b2a3",
   "metadata": {},
   "source": [
    "## SRK 3params, Opt2"
   ]
  },
  {
   "cell_type": "code",
   "execution_count": 16,
   "id": "6203e5c5",
   "metadata": {},
   "outputs": [
    {
     "name": "stdout",
     "output_type": "stream",
     "text": [
      "Eigenvalues: [20016.20176651   204.78724068    20.22919569]\n",
      "\n",
      "Eigenvectors: [[-0.09096951  0.81897215 -0.5665767 ]\n",
      " [ 0.03181476 -0.56625526 -0.82361569]\n",
      " [ 0.99534535  0.09294941 -0.02545656]]\n",
      "\n",
      "Cov Eigenvalues: [4.99595284e-05 4.88311672e-03 4.94335027e-02]\n",
      "\n",
      "Trace: 20241.218202879027\n",
      "\n",
      "Determinant: 82920742.09450088\n",
      "CN: 989.4709641668885\n"
     ]
    }
   ],
   "source": [
    "# Opening JSON file\n",
    "f = open('../../../../emimtf2n_FIM_info/SRK_3params_Opt2.json')\n",
    "  \n",
    "data_SRK_3params_Opt2 = json.load(f)\n",
    "\n",
    "for i in data_SRK_3params_Opt2:\n",
    "    data_SRK_3params_Opt2 = i\n",
    "    \n",
    "FIM_SRK_3params_Opt2 = data_SRK_3params_Opt2['Total']\n",
    "\n",
    "FIM_SRK_3params_Opt2_sc = np.zeros((3,3))\n",
    "\n",
    "for i in range(3):\n",
    "    for j in range(3):\n",
    "        FIM_SRK_3params_Opt2_sc[i,j] = FIM_SRK_3params_Opt2[i][j]*1E-10\n",
    "\n",
    "eigvals, eigvecs = np.linalg.eig(FIM_SRK_3params_Opt2_sc)\n",
    "print('Eigenvalues:',eigvals)\n",
    "print('')\n",
    "print('Eigenvectors:',eigvecs)\n",
    "print('')\n",
    "#Eigvals of covariance\n",
    "eig_cov = 1/eigvals\n",
    "print('Cov Eigenvalues:',eig_cov)\n",
    "print('')\n",
    "trace = np.trace(FIM_SRK_3params_Opt2_sc)\n",
    "print('Trace:',trace)\n",
    "print('')\n",
    "det = np.linalg.det(FIM_SRK_3params_Opt2_sc)\n",
    "print('Determinant:',det)\n",
    "CN = eigvals.max()/eigvals.min()\n",
    "print('CN:',CN)"
   ]
  },
  {
   "cell_type": "markdown",
   "id": "ab514200",
   "metadata": {},
   "source": [
    "## SRK linTdep"
   ]
  },
  {
   "cell_type": "code",
   "execution_count": 17,
   "id": "4ab41a11",
   "metadata": {},
   "outputs": [
    {
     "name": "stdout",
     "output_type": "stream",
     "text": [
      "Eigenvalues: [2.79255474e+03 3.00189406e+02 9.55375840e-01 1.76097066e-01]\n",
      "\n",
      "Eigenvectors: [[ 0.41889839 -0.30150889 -0.79776363 -0.31175266]\n",
      " [-0.42162533 -0.53353564  0.24965259 -0.68938044]\n",
      " [ 0.63807981 -0.57247448  0.46497351  0.22119394]\n",
      " [-0.48950013 -0.54470641 -0.29162718  0.61533579]]\n",
      "\n",
      "Cov Eigenvalues: [3.58095040e-04 3.33123015e-03 1.04670849e+00 5.67868631e+00]\n",
      "\n",
      "Trace: 3093.8756153169415\n",
      "\n",
      "Determinant: 141033.8723970868\n",
      "CN: 15858.04236661735\n"
     ]
    }
   ],
   "source": [
    "# Opening JSON file\n",
    "f = open('../../../../emimtf2n_FIM_info/SRK_linTdep.json')\n",
    "  \n",
    "data_SRK_linTdep = json.load(f)\n",
    "\n",
    "for i in data_SRK_linTdep:\n",
    "    data_SRK_linTdep = i\n",
    "    \n",
    "FIM_SRK_linTdep = data_SRK_linTdep['Total']\n",
    "\n",
    "FIM_SRK_linTdep_sc = np.zeros((4,4))\n",
    "\n",
    "for i in range(4):\n",
    "    for j in range(4):\n",
    "        FIM_SRK_linTdep_sc[i,j] = FIM_SRK_linTdep[i][j]*1E-10\n",
    "\n",
    "eigvals, eigvecs = np.linalg.eig(FIM_SRK_linTdep_sc)\n",
    "print('Eigenvalues:',eigvals)\n",
    "print('')\n",
    "print('Eigenvectors:',eigvecs)\n",
    "print('')\n",
    "#Eigvals of covariance\n",
    "eig_cov = 1/eigvals\n",
    "print('Cov Eigenvalues:',eig_cov)\n",
    "print('')\n",
    "trace = np.trace(FIM_SRK_linTdep_sc)\n",
    "print('Trace:',trace)\n",
    "print('')\n",
    "det = np.linalg.det(FIM_SRK_linTdep_sc)\n",
    "print('Determinant:',det)\n",
    "CN = eigvals.max()/eigvals.min()\n",
    "print('CN:',CN)"
   ]
  },
  {
   "cell_type": "markdown",
   "id": "efadb7a5",
   "metadata": {},
   "source": [
    "## SRK quadTdep"
   ]
  },
  {
   "cell_type": "code",
   "execution_count": 18,
   "id": "686d4f2f",
   "metadata": {},
   "outputs": [
    {
     "name": "stdout",
     "output_type": "stream",
     "text": [
      "Eigenvalues: [2.50022600e+04 1.83107856e+02 1.45976310e+01 2.82823158e-01\n",
      " 9.67159810e-03 1.43736011e-05]\n",
      "\n",
      "Eigenvectors: [[ 0.45713706  0.22963461  0.71802539 -0.02030101  0.4713395   0.01265431]\n",
      " [-0.07731419 -0.70307161  0.20991027  0.64723394  0.12164681  0.1481242 ]\n",
      " [ 0.83174476 -0.15876469 -0.1437368   0.07214069 -0.5068664  -0.01470837]\n",
      " [-0.02386753 -0.19776754  0.07825928 -0.0244337   0.02543783 -0.97619145]\n",
      " [ 0.29473038 -0.2556613  -0.56922202 -0.19391122  0.69690272  0.02196882]\n",
      " [-0.07624454 -0.56857482  0.29929704 -0.73298925 -0.14073769  0.15572536]]\n",
      "\n",
      "Cov Eigenvalues: [3.99963844e-05 5.46126214e-03 6.85042663e-02 3.53577835e+00\n",
      " 1.03395529e+02 6.95719876e+04]\n",
      "\n",
      "Trace: 25200.25797660742\n",
      "\n",
      "Determinant: 2.627528423736401\n",
      "CN: 1739456921.9709058\n"
     ]
    }
   ],
   "source": [
    "# Opening JSON file\n",
    "f = open('../../../../emimtf2n_FIM_info/SRK_quadTdep.json')\n",
    "  \n",
    "data_SRK_quadTdep = json.load(f)\n",
    "\n",
    "for i in data_SRK_quadTdep:\n",
    "    data_SRK_quadTdep = i\n",
    "    \n",
    "FIM_SRK_quadTdep = data_SRK_quadTdep['Total']\n",
    "\n",
    "FIM_SRK_quadTdep_sc = np.zeros((6,6))\n",
    "\n",
    "for i in range(6):\n",
    "    for j in range(6):\n",
    "        FIM_SRK_quadTdep_sc[i,j] = FIM_SRK_quadTdep[i][j]*1E-10\n",
    "\n",
    "eigvals, eigvecs = np.linalg.eig(FIM_SRK_quadTdep_sc)\n",
    "print('Eigenvalues:',eigvals)\n",
    "print('')\n",
    "print('Eigenvectors:',eigvecs)\n",
    "print('')\n",
    "#Eigvals of covariance\n",
    "eig_cov = 1/eigvals\n",
    "print('Cov Eigenvalues:',eig_cov)\n",
    "print('')\n",
    "trace = np.trace(FIM_SRK_quadTdep_sc)\n",
    "print('Trace:',trace)\n",
    "print('')\n",
    "det = np.linalg.det(FIM_SRK_quadTdep_sc)\n",
    "print('Determinant:',det)\n",
    "CN = eigvals.max()/eigvals.min()\n",
    "print('CN:',CN)"
   ]
  },
  {
   "cell_type": "markdown",
   "id": "c40f7a00",
   "metadata": {},
   "source": [
    "## SRK polyTdep"
   ]
  },
  {
   "cell_type": "code",
   "execution_count": 19,
   "id": "55d8b163",
   "metadata": {},
   "outputs": [
    {
     "name": "stdout",
     "output_type": "stream",
     "text": [
      "Eigenvalues: [6.16761010e+06 4.33621956e+04 4.76429466e+03 3.28907184e+01\n",
      " 3.96053052e+00 2.81086577e-02 1.43195806e-03 3.52239531e-06]\n",
      "\n",
      "Eigenvectors: [[ 0.23936248 -0.2415815   0.46054146  0.2707524  -0.62235571  0.08471086\n",
      "   0.45076036 -0.03537283]\n",
      " [-0.03351188  0.32975732  0.15992713 -0.57159844 -0.23347979 -0.61116713\n",
      "   0.14352154 -0.29866218]\n",
      " [ 0.68330892 -0.1708741   0.43998533 -0.13325675  0.23814515 -0.11025572\n",
      "  -0.47139799  0.03822322]\n",
      " [-0.07384326  0.66180691  0.36558324 -0.18075418 -0.11801478  0.45266065\n",
      "  -0.08729223  0.40470548]\n",
      " [ 0.6494141   0.3175355  -0.42405654 -0.04897003  0.17096396  0.14154628\n",
      "   0.49419518 -0.04144417]\n",
      " [-0.05393061  0.43485796  0.28033609  0.58547589  0.27282879 -0.07750642\n",
      "  -0.02850192 -0.552598  ]\n",
      " [ 0.21058282  0.25341146 -0.41205417  0.29568476 -0.58709364 -0.17540669\n",
      "  -0.50679191  0.04398758]\n",
      " [-0.01504458  0.10753853  0.08298061  0.34194936  0.19793129 -0.58773354\n",
      "   0.21095353  0.65976136]]\n",
      "\n",
      "Cov Eigenvalues: [1.62137357e-07 2.30615628e-05 2.09894658e-04 3.04037142e-02\n",
      " 2.52491426e-01 3.55762275e+01 6.98344473e+02 2.83897721e+05]\n",
      "\n",
      "Trace: 6215773.47301976\n",
      "\n",
      "Determinant: 23532164.68412657\n",
      "CN: 1750970449470.5713\n"
     ]
    }
   ],
   "source": [
    "# Opening JSON file\n",
    "f = open('../../../../emimtf2n_FIM_info/SRK_polyTdep.json')\n",
    "  \n",
    "data_SRK_polyTdep = json.load(f)\n",
    "\n",
    "for i in data_SRK_polyTdep:\n",
    "    data_SRK_polyTdep = i\n",
    "    \n",
    "FIM_SRK_polyTdep = data_SRK_polyTdep['Total']\n",
    "\n",
    "FIM_SRK_polyTdep_sc = np.zeros((8,8))\n",
    "\n",
    "for i in range(8):\n",
    "    for j in range(8):\n",
    "        FIM_SRK_polyTdep_sc[i,j] = FIM_SRK_polyTdep[i][j]*1E-10\n",
    "\n",
    "eigvals, eigvecs = np.linalg.eig(FIM_SRK_polyTdep_sc)\n",
    "print('Eigenvalues:',eigvals)\n",
    "print('')\n",
    "print('Eigenvectors:',eigvecs)\n",
    "print('')\n",
    "#Eigvals of covariance\n",
    "eig_cov = 1/eigvals\n",
    "print('Cov Eigenvalues:',eig_cov)\n",
    "print('')\n",
    "trace = np.trace(FIM_SRK_polyTdep_sc)\n",
    "print('Trace:',trace)\n",
    "print('')\n",
    "det = np.linalg.det(FIM_SRK_polyTdep_sc)\n",
    "print('Determinant:',det)\n",
    "CN = eigvals.max()/eigvals.min()\n",
    "print('CN:',CN)"
   ]
  },
  {
   "cell_type": "code",
   "execution_count": null,
   "id": "e55ec5f1",
   "metadata": {},
   "outputs": [],
   "source": []
  }
 ],
 "metadata": {
  "kernelspec": {
   "display_name": "Python 3 (ipykernel)",
   "language": "python",
   "name": "python3"
  },
  "language_info": {
   "codemirror_mode": {
    "name": "ipython",
    "version": 3
   },
   "file_extension": ".py",
   "mimetype": "text/x-python",
   "name": "python",
   "nbconvert_exporter": "python",
   "pygments_lexer": "ipython3",
   "version": "3.9.9"
  }
 },
 "nbformat": 4,
 "nbformat_minor": 5
}
