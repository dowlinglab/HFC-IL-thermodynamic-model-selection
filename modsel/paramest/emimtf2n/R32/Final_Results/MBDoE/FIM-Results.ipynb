{
 "cells": [
  {
   "cell_type": "markdown",
   "id": "8de267db",
   "metadata": {},
   "source": [
    "# Analyze FIM Results"
   ]
  },
  {
   "cell_type": "code",
   "execution_count": 1,
   "id": "a6c8ec60",
   "metadata": {},
   "outputs": [],
   "source": [
    "import json\n",
    "import sys\n",
    "sys.path.append('../../../../')\n",
    "\n",
    "import numpy as np"
   ]
  },
  {
   "cell_type": "code",
   "execution_count": 12,
   "id": "94902d62",
   "metadata": {},
   "outputs": [],
   "source": [
    "# Opening JSON file\n",
    "f = open('../../../../emimtf2n_FIM_info/PR_linTdep.json')\n",
    "  \n",
    "data = json.load(f)\n",
    "\n",
    "for i in data:\n",
    "    data = i\n",
    "    \n",
    "FIM = data['Total']"
   ]
  },
  {
   "cell_type": "code",
   "execution_count": 13,
   "id": "b661c845",
   "metadata": {},
   "outputs": [],
   "source": [
    "eigvals, eigvecs = np.linalg.eig(FIM)"
   ]
  },
  {
   "cell_type": "code",
   "execution_count": 14,
   "id": "dcfa5fc3",
   "metadata": {},
   "outputs": [
    {
     "data": {
      "text/plain": [
       "array([2.42521458e+13, 2.65922061e+12, 7.77310021e+09, 1.64276372e+09])"
      ]
     },
     "execution_count": 14,
     "metadata": {},
     "output_type": "execute_result"
    }
   ],
   "source": [
    "eigvals"
   ]
  },
  {
   "cell_type": "code",
   "execution_count": 15,
   "id": "3913efde",
   "metadata": {},
   "outputs": [
    {
     "data": {
      "text/plain": [
       "array([[ 0.39510657, -0.32132388, -0.78412275, -0.35467348],\n",
       "       [-0.44588908, -0.51000672,  0.29007191, -0.6759692 ],\n",
       "       [ 0.61114986, -0.60647464,  0.44539781,  0.24557108],\n",
       "       [-0.52112338, -0.51849072, -0.3203601 ,  0.59746733]])"
      ]
     },
     "execution_count": 15,
     "metadata": {},
     "output_type": "execute_result"
    }
   ],
   "source": [
    "eigvecs"
   ]
  },
  {
   "cell_type": "code",
   "execution_count": 16,
   "id": "65006e1f",
   "metadata": {},
   "outputs": [],
   "source": [
    "trace = np.trace(FIM)"
   ]
  },
  {
   "cell_type": "code",
   "execution_count": 17,
   "id": "7c49dede",
   "metadata": {},
   "outputs": [
    {
     "data": {
      "text/plain": [
       "26920782264467.426"
      ]
     },
     "execution_count": 17,
     "metadata": {},
     "output_type": "execute_result"
    }
   ],
   "source": [
    "trace"
   ]
  },
  {
   "cell_type": "code",
   "execution_count": 18,
   "id": "792994c7",
   "metadata": {},
   "outputs": [],
   "source": [
    "det = np.linalg.det(FIM)"
   ]
  },
  {
   "cell_type": "code",
   "execution_count": 19,
   "id": "235c93c6",
   "metadata": {},
   "outputs": [
    {
     "data": {
      "text/plain": [
       "8.235195376080783e+44"
      ]
     },
     "execution_count": 19,
     "metadata": {},
     "output_type": "execute_result"
    }
   ],
   "source": [
    "det"
   ]
  },
  {
   "cell_type": "code",
   "execution_count": 20,
   "id": "81079e0a",
   "metadata": {},
   "outputs": [],
   "source": [
    "FIM_min_eigval = eigvals.min()"
   ]
  },
  {
   "cell_type": "code",
   "execution_count": 21,
   "id": "47159b66",
   "metadata": {
    "scrolled": true
   },
   "outputs": [
    {
     "data": {
      "text/plain": [
       "1642763716.7681115"
      ]
     },
     "execution_count": 21,
     "metadata": {},
     "output_type": "execute_result"
    }
   ],
   "source": [
    "FIM_min_eigval"
   ]
  },
  {
   "cell_type": "code",
   "execution_count": null,
   "id": "f89dcad3",
   "metadata": {},
   "outputs": [],
   "source": []
  }
 ],
 "metadata": {
  "kernelspec": {
   "display_name": "Python 3 (ipykernel)",
   "language": "python",
   "name": "python3"
  },
  "language_info": {
   "codemirror_mode": {
    "name": "ipython",
    "version": 3
   },
   "file_extension": ".py",
   "mimetype": "text/x-python",
   "name": "python",
   "nbconvert_exporter": "python",
   "pygments_lexer": "ipython3",
   "version": "3.9.9"
  }
 },
 "nbformat": 4,
 "nbformat_minor": 5
}
