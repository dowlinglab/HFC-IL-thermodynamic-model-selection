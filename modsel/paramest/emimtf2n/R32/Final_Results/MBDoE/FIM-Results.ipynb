{
 "cells": [
  {
   "cell_type": "markdown",
   "id": "8de267db",
   "metadata": {},
   "source": [
    "# Analyze FIM Results\n",
    "\n",
    "System: R32/emimTF2N"
   ]
  },
  {
   "cell_type": "code",
   "execution_count": 1,
   "id": "a6c8ec60",
   "metadata": {},
   "outputs": [],
   "source": [
    "import json\n",
    "import sys\n",
    "sys.path.append('../../../../')\n",
    "\n",
    "import numpy as np"
   ]
  },
  {
   "cell_type": "markdown",
   "id": "b407b7dc",
   "metadata": {},
   "source": [
    "## PR 1param, Opt1"
   ]
  },
  {
   "cell_type": "code",
   "execution_count": 2,
   "id": "94902d62",
   "metadata": {},
   "outputs": [
    {
     "name": "stdout",
     "output_type": "stream",
     "text": [
      "Eigenvalues: [1.04700046e+14]\n",
      "\n",
      "Eigenvectors: [[1.]]\n",
      "\n",
      "Trace: 104700046429208.12\n",
      "\n",
      "Determinant: 104700046429207.92\n"
     ]
    }
   ],
   "source": [
    "# Opening JSON file\n",
    "f = open('../../../../emimtf2n_FIM_info/PR_1param_Opt1.json')\n",
    "  \n",
    "data_PR_1param_Opt1 = json.load(f)\n",
    "\n",
    "for i in data_PR_1param_Opt1:\n",
    "    data_PR_1param_Opt1 = i\n",
    "    \n",
    "FIM_PR_1param_Opt1 = data_PR_1param_Opt1['Total']\n",
    "\n",
    "eigvals, eigvecs = np.linalg.eig(FIM_PR_1param_Opt1)\n",
    "print('Eigenvalues:',eigvals)\n",
    "print('')\n",
    "print('Eigenvectors:',eigvecs)\n",
    "print('')\n",
    "trace = np.trace(FIM_PR_1param_Opt1)\n",
    "print('Trace:',trace)\n",
    "print('')\n",
    "det = np.linalg.det(FIM_PR_1param_Opt1)\n",
    "print('Determinant:',det)"
   ]
  },
  {
   "cell_type": "markdown",
   "id": "8a8194fd",
   "metadata": {},
   "source": [
    "## PR 1param, Opt2"
   ]
  },
  {
   "cell_type": "code",
   "execution_count": 3,
   "id": "8a6ca9ca",
   "metadata": {},
   "outputs": [
    {
     "name": "stdout",
     "output_type": "stream",
     "text": [
      "Eigenvalues: [1.11985167e+11]\n",
      "\n",
      "Eigenvectors: [[1.]]\n",
      "\n",
      "Trace: 111985166873.32532\n",
      "\n",
      "Determinant: 111985166873.32521\n"
     ]
    }
   ],
   "source": [
    "# Opening JSON file\n",
    "f = open('../../../../emimtf2n_FIM_info/PR_1param_Opt2.json')\n",
    "  \n",
    "data_PR_1param_Opt2 = json.load(f)\n",
    "\n",
    "for i in data_PR_1param_Opt2:\n",
    "    data_PR_1param_Opt2 = i\n",
    "    \n",
    "FIM_PR_1param_Opt2 = data_PR_1param_Opt2['Total']\n",
    "\n",
    "eigvals, eigvecs = np.linalg.eig(FIM_PR_1param_Opt2)\n",
    "print('Eigenvalues:',eigvals)\n",
    "print('')\n",
    "print('Eigenvectors:',eigvecs)\n",
    "print('')\n",
    "trace = np.trace(FIM_PR_1param_Opt2)\n",
    "print('Trace:',trace)\n",
    "print('')\n",
    "det = np.linalg.det(FIM_PR_1param_Opt2)\n",
    "print('Determinant:',det)"
   ]
  },
  {
   "cell_type": "markdown",
   "id": "0a3a3569",
   "metadata": {},
   "source": [
    "## PR noTdep"
   ]
  },
  {
   "cell_type": "code",
   "execution_count": 4,
   "id": "5dbc24b1",
   "metadata": {},
   "outputs": [
    {
     "name": "stdout",
     "output_type": "stream",
     "text": [
      "Eigenvalues: [4.24274875e+14 1.17207685e+16]\n",
      "\n",
      "Eigenvectors: [[-0.97455025 -0.22416916]\n",
      " [ 0.22416916 -0.97455025]]\n",
      "\n",
      "Trace: 1.214504339517717e+16\n",
      "\n",
      "Determinant: 4.9728275950846656e+30\n",
      "CN: 27.62541272234709\n"
     ]
    }
   ],
   "source": [
    "# Opening JSON file\n",
    "f = open('../../../../emimtf2n_FIM_info/PR_noTdep.json')\n",
    "  \n",
    "data_PR_noTdep = json.load(f)\n",
    "\n",
    "for i in data_PR_noTdep:\n",
    "    data_PR_noTdep = i\n",
    "    \n",
    "FIM_PR_noTdep = data_PR_noTdep['Total']\n",
    "\n",
    "eigvals, eigvecs = np.linalg.eig(FIM_PR_noTdep)\n",
    "print('Eigenvalues:',eigvals)\n",
    "print('')\n",
    "print('Eigenvectors:',eigvecs)\n",
    "print('')\n",
    "trace = np.trace(FIM_PR_noTdep)\n",
    "print('Trace:',trace)\n",
    "print('')\n",
    "det = np.linalg.det(FIM_PR_noTdep)\n",
    "print('Determinant:',det)\n",
    "CN = eigvals.max()/eigvals.min()\n",
    "print('CN:',CN)"
   ]
  },
  {
   "cell_type": "markdown",
   "id": "2411155a",
   "metadata": {},
   "source": [
    "## PR 3params, Opt1"
   ]
  },
  {
   "cell_type": "code",
   "execution_count": 5,
   "id": "fcd717b4",
   "metadata": {},
   "outputs": [
    {
     "name": "stdout",
     "output_type": "stream",
     "text": [
      "Eigenvalues: [6.24558892e+12 2.17131971e+09 3.29745023e+10]\n",
      "\n",
      "Eigenvectors: [[-0.47014575  0.84236831 -0.26339818]\n",
      " [ 0.08612441  0.34080075  0.93618237]\n",
      " [-0.87837666 -0.41745715  0.2327745 ]]\n",
      "\n",
      "Trace: 6280734738596.357\n",
      "\n",
      "Determinant: 4.471728424860832e+32\n",
      "CN: 2876.4022529449912\n"
     ]
    }
   ],
   "source": [
    "# Opening JSON file\n",
    "f = open('../../../../emimtf2n_FIM_info/PR_3param_Opt1.json')\n",
    "  \n",
    "data_PR_3params_Opt1 = json.load(f)\n",
    "\n",
    "for i in data_PR_3params_Opt1:\n",
    "    data_PR_3params_Opt1 = i\n",
    "    \n",
    "FIM_PR_3params_Opt1 = data_PR_3params_Opt1['Total']\n",
    "\n",
    "eigvals, eigvecs = np.linalg.eig(FIM_PR_3params_Opt1)\n",
    "print('Eigenvalues:',eigvals)\n",
    "print('')\n",
    "print('Eigenvectors:',eigvecs)\n",
    "print('')\n",
    "trace = np.trace(FIM_PR_3params_Opt1)\n",
    "print('Trace:',trace)\n",
    "print('')\n",
    "det = np.linalg.det(FIM_PR_3params_Opt1)\n",
    "print('Determinant:',det)\n",
    "CN = eigvals.max()/eigvals.min()\n",
    "print('CN:',CN)"
   ]
  },
  {
   "cell_type": "markdown",
   "id": "92ad94ae",
   "metadata": {},
   "source": [
    "## PR 3params, Opt2"
   ]
  },
  {
   "cell_type": "code",
   "execution_count": 6,
   "id": "ecea8a7b",
   "metadata": {},
   "outputs": [
    {
     "name": "stdout",
     "output_type": "stream",
     "text": [
      "Eigenvalues: [2.06342637e+14 1.49559029e+12 1.23731750e+11]\n",
      "\n",
      "Eigenvectors: [[-0.07319592  0.9122032  -0.40314721]\n",
      " [ 0.02671372 -0.40229322 -0.91512105]\n",
      " [ 0.99695975  0.07775269 -0.00507788]]\n",
      "\n",
      "Trace: 207961958616544.44\n",
      "\n",
      "Determinant: 3.818411840286428e+37\n",
      "CN: 1667.6611821176853\n"
     ]
    }
   ],
   "source": [
    "# Opening JSON file\n",
    "f = open('../../../../emimtf2n_FIM_info/PR_3param_Opt2.json')\n",
    "  \n",
    "data_PR_3params_Opt2 = json.load(f)\n",
    "\n",
    "for i in data_PR_3params_Opt2:\n",
    "    data_PR_3params_Opt2 = i\n",
    "    \n",
    "FIM_PR_3params_Opt2 = data_PR_3params_Opt2['Total']\n",
    "\n",
    "eigvals, eigvecs = np.linalg.eig(FIM_PR_3params_Opt2)\n",
    "print('Eigenvalues:',eigvals)\n",
    "print('')\n",
    "print('Eigenvectors:',eigvecs)\n",
    "print('')\n",
    "trace = np.trace(FIM_PR_3params_Opt2)\n",
    "print('Trace:',trace)\n",
    "print('')\n",
    "det = np.linalg.det(FIM_PR_3params_Opt2)\n",
    "print('Determinant:',det)\n",
    "CN = eigvals.max()/eigvals.min()\n",
    "print('CN:',CN)"
   ]
  },
  {
   "cell_type": "markdown",
   "id": "10cd49df",
   "metadata": {},
   "source": [
    "## PR linTdep"
   ]
  },
  {
   "cell_type": "code",
   "execution_count": 7,
   "id": "572194f5",
   "metadata": {},
   "outputs": [
    {
     "name": "stdout",
     "output_type": "stream",
     "text": [
      "Eigenvalues: [2.42521458e+13 2.65922061e+12 7.77310021e+09 1.64276372e+09]\n",
      "\n",
      "Eigenvectors: [[ 0.39510657 -0.32132388 -0.78412275 -0.35467348]\n",
      " [-0.44588908 -0.51000672  0.29007191 -0.6759692 ]\n",
      " [ 0.61114986 -0.60647464  0.44539781  0.24557108]\n",
      " [-0.52112338 -0.51849072 -0.3203601   0.59746733]]\n",
      "\n",
      "Trace: 26920782264467.426\n",
      "\n",
      "Determinant: 8.235195376080783e+44\n",
      "CN: 14763.01524392535\n"
     ]
    }
   ],
   "source": [
    "# Opening JSON file\n",
    "f = open('../../../../emimtf2n_FIM_info/PR_linTdep.json')\n",
    "  \n",
    "data_PR_linTdep = json.load(f)\n",
    "\n",
    "for i in data_PR_linTdep:\n",
    "    data_PR_linTdep = i\n",
    "    \n",
    "FIM_PR_linTdep = data_PR_linTdep['Total']\n",
    "\n",
    "eigvals, eigvecs = np.linalg.eig(FIM_PR_linTdep)\n",
    "print('Eigenvalues:',eigvals)\n",
    "print('')\n",
    "print('Eigenvectors:',eigvecs)\n",
    "print('')\n",
    "trace = np.trace(FIM_PR_linTdep)\n",
    "print('Trace:',trace)\n",
    "print('')\n",
    "det = np.linalg.det(FIM_PR_linTdep)\n",
    "print('Determinant:',det)\n",
    "CN = eigvals.max()/eigvals.min()\n",
    "print('CN:',CN)"
   ]
  },
  {
   "cell_type": "markdown",
   "id": "08b57d45",
   "metadata": {},
   "source": [
    "## PR quadTdep"
   ]
  },
  {
   "cell_type": "code",
   "execution_count": 8,
   "id": "8d0260fc",
   "metadata": {},
   "outputs": [
    {
     "name": "stdout",
     "output_type": "stream",
     "text": [
      "Eigenvalues: [2.23371386e+14 2.60343538e+12 1.32287740e+11 2.12677456e+09\n",
      " 8.54650301e+07 8.22396040e+05]\n",
      "\n",
      "Eigenvectors: [[ 0.45104367  0.15268398  0.73712377 -0.04012275  0.4766875   0.03247998]\n",
      " [-0.10437935 -0.74644066  0.17244104  0.56160495  0.0995749   0.27727261]\n",
      " [ 0.82902366 -0.1647875  -0.13862732  0.08606271 -0.50748669 -0.03738705]\n",
      " [-0.07748034 -0.5045409   0.17615655 -0.36092246 -0.01606349 -0.7601849 ]\n",
      " [ 0.29954641 -0.21631945 -0.59420051 -0.19777335  0.6843154   0.0547881 ]\n",
      " [-0.05150806 -0.30166769  0.15358945 -0.7114801  -0.19174339  0.58291023]]\n",
      "\n",
      "Trace: 226109322062810.06\n",
      "\n",
      "Determinant: 1.1499656169507561e+61\n",
      "CN: 271610483.2603539\n"
     ]
    }
   ],
   "source": [
    "# Opening JSON file\n",
    "f = open('../../../../emimtf2n_FIM_info/PR_quadTdep.json')\n",
    "  \n",
    "data_PR_quadTdep = json.load(f)\n",
    "\n",
    "for i in data_PR_quadTdep:\n",
    "    data_PR_quadTdep = i\n",
    "    \n",
    "FIM_PR_quadTdep = data_PR_quadTdep['Total']\n",
    "\n",
    "eigvals, eigvecs = np.linalg.eig(FIM_PR_quadTdep)\n",
    "print('Eigenvalues:',eigvals)\n",
    "print('')\n",
    "print('Eigenvectors:',eigvecs)\n",
    "print('')\n",
    "trace = np.trace(FIM_PR_quadTdep)\n",
    "print('Trace:',trace)\n",
    "print('')\n",
    "det = np.linalg.det(FIM_PR_quadTdep)\n",
    "print('Determinant:',det)\n",
    "CN = eigvals.max()/eigvals.min()\n",
    "print('CN:',CN)"
   ]
  },
  {
   "cell_type": "markdown",
   "id": "ea96a84c",
   "metadata": {},
   "source": [
    "## PR polyTdep"
   ]
  },
  {
   "cell_type": "code",
   "execution_count": 9,
   "id": "d71fd7e6",
   "metadata": {},
   "outputs": [
    {
     "name": "stdout",
     "output_type": "stream",
     "text": [
      "Eigenvalues: [3.05992363e+23 1.92446310e+17 1.78191387e+16 1.29537925e+15\n",
      " 9.73617811e+13 1.10814648e+12 8.88089455e+08 4.34486794e+11]\n",
      "\n",
      "Eigenvectors: [[ 2.96791437e-03  1.74768867e-01 -4.72296299e-02  4.99418917e-01\n",
      "  -4.80281075e-02  5.25613076e-01  4.05261155e-01  5.24387758e-01]\n",
      " [-3.40639147e-04 -3.92709921e-02  1.46718794e-02 -3.35080990e-02\n",
      "  -7.34048926e-01  3.99111642e-01  1.39461521e-01 -5.28728573e-01]\n",
      " [ 9.26364835e-03  6.23452857e-01 -1.61027087e-02  5.79598483e-01\n",
      "  -6.30225222e-02 -1.96629479e-01 -4.10526771e-01 -2.52703605e-01]\n",
      " [-8.55151730e-04 -4.50861117e-02  5.37580273e-01 -2.71409150e-02\n",
      "  -5.58703622e-01 -3.09264212e-01 -2.06535759e-01  5.07728172e-01]\n",
      " [ 9.56984879e-03  7.31111325e-01  9.78691967e-03 -5.17121109e-01\n",
      "  -5.12125537e-02 -1.34820251e-01  4.16786774e-01  5.79993223e-02]\n",
      " [-7.01952688e-04 -1.32061656e-02  8.10386385e-01  1.62101511e-01\n",
      "   3.32149927e-01  4.70645905e-02  3.07421390e-01 -3.31325074e-01]\n",
      " [ 7.02143905e-01  1.37072786e-01  1.62401844e-01 -2.46979882e-01\n",
      "   1.23405971e-01  4.56761215e-01 -4.14165938e-01  7.37414038e-02]\n",
      " [-7.11903358e-01  1.53948980e-01  1.58448779e-01 -2.41032610e-01\n",
      "   1.20700317e-01  4.48453904e-01 -4.06659663e-01  7.23777990e-02]]\n",
      "\n",
      "Trace: 3.059925741621138e+23\n",
      "\n",
      "Determinant: 5.659436183284412e+118\n",
      "CN: 344551284665755.1\n"
     ]
    }
   ],
   "source": [
    "# Opening JSON file\n",
    "f = open('../../../../emimtf2n_FIM_info/PR_polyTdep.json')\n",
    "  \n",
    "data_PR_polyTdep = json.load(f)\n",
    "\n",
    "for i in data_PR_polyTdep:\n",
    "    data_PR_polyTdep = i\n",
    "    \n",
    "FIM_PR_polyTdep = data_PR_polyTdep['Total']\n",
    "\n",
    "eigvals, eigvecs = np.linalg.eig(FIM_PR_polyTdep)\n",
    "print('Eigenvalues:',eigvals)\n",
    "print('')\n",
    "print('Eigenvectors:',eigvecs)\n",
    "print('')\n",
    "trace = np.trace(FIM_PR_polyTdep)\n",
    "print('Trace:',trace)\n",
    "print('')\n",
    "det = np.linalg.det(FIM_PR_polyTdep)\n",
    "print('Determinant:',det)\n",
    "CN = eigvals.max()/eigvals.min()\n",
    "print('CN:',CN)"
   ]
  },
  {
   "cell_type": "markdown",
   "id": "765cc852",
   "metadata": {},
   "source": [
    "## SRK 1param, Opt1"
   ]
  },
  {
   "cell_type": "code",
   "execution_count": 10,
   "id": "dee32a51",
   "metadata": {},
   "outputs": [
    {
     "name": "stdout",
     "output_type": "stream",
     "text": [
      "Eigenvalues: [3.71388071e+15]\n",
      "\n",
      "Eigenvectors: [[1.]]\n",
      "\n",
      "Trace: 3713880706349705.5\n",
      "\n",
      "Determinant: 3713880706349700.5\n"
     ]
    }
   ],
   "source": [
    "# Opening JSON file\n",
    "f = open('../../../../emimtf2n_FIM_info/SRK_1param_Opt1.json')\n",
    "  \n",
    "data_SRK_1param_Opt1 = json.load(f)\n",
    "\n",
    "for i in data_SRK_1param_Opt1:\n",
    "    data_SRK_1param_Opt1 = i\n",
    "    \n",
    "FIM_SRK_1param_Opt1 = data_SRK_1param_Opt1['Total']\n",
    "\n",
    "eigvals, eigvecs = np.linalg.eig(FIM_SRK_1param_Opt1)\n",
    "print('Eigenvalues:',eigvals)\n",
    "print('')\n",
    "print('Eigenvectors:',eigvecs)\n",
    "print('')\n",
    "trace = np.trace(FIM_SRK_1param_Opt1)\n",
    "print('Trace:',trace)\n",
    "print('')\n",
    "det = np.linalg.det(FIM_SRK_1param_Opt1)\n",
    "print('Determinant:',det)"
   ]
  },
  {
   "cell_type": "markdown",
   "id": "f4e61358",
   "metadata": {},
   "source": [
    "## SRK 1param, Opt2"
   ]
  },
  {
   "cell_type": "code",
   "execution_count": 11,
   "id": "857b90e8",
   "metadata": {},
   "outputs": [
    {
     "name": "stdout",
     "output_type": "stream",
     "text": [
      "Eigenvalues: [1.86234796e+11]\n",
      "\n",
      "Eigenvectors: [[1.]]\n",
      "\n",
      "Trace: 186234796281.52155\n",
      "\n",
      "Determinant: 186234796281.52158\n"
     ]
    }
   ],
   "source": [
    "# Opening JSON file\n",
    "f = open('../../../../emimtf2n_FIM_info/SRK_1param_Opt2.json')\n",
    "  \n",
    "data_SRK_1param_Opt2 = json.load(f)\n",
    "\n",
    "for i in data_SRK_1param_Opt2:\n",
    "    data_SRK_1param_Opt2 = i\n",
    "    \n",
    "FIM_SRK_1param_Opt2 = data_SRK_1param_Opt2['Total']\n",
    "\n",
    "eigvals, eigvecs = np.linalg.eig(FIM_SRK_1param_Opt2)\n",
    "print('Eigenvalues:',eigvals)\n",
    "print('')\n",
    "print('Eigenvectors:',eigvecs)\n",
    "print('')\n",
    "trace = np.trace(FIM_SRK_1param_Opt2)\n",
    "print('Trace:',trace)\n",
    "print('')\n",
    "det = np.linalg.det(FIM_SRK_1param_Opt2)\n",
    "print('Determinant:',det)"
   ]
  },
  {
   "cell_type": "markdown",
   "id": "84630491",
   "metadata": {},
   "source": [
    "## SRK noTdep"
   ]
  },
  {
   "cell_type": "code",
   "execution_count": 12,
   "id": "07728001",
   "metadata": {},
   "outputs": [
    {
     "name": "stdout",
     "output_type": "stream",
     "text": [
      "Eigenvalues: [3.12561953e+14 2.81900929e+15]\n",
      "\n",
      "Eigenvectors: [[-0.97686144 -0.21387318]\n",
      " [ 0.21387318 -0.97686144]]\n",
      "\n",
      "Trace: 3131571241297000.5\n",
      "\n",
      "Determinant: 8.811150496887805e+29\n",
      "CN: 9.019041688178921\n"
     ]
    }
   ],
   "source": [
    "# Opening JSON file\n",
    "f = open('../../../../emimtf2n_FIM_info/SRK_noTdep.json')\n",
    "  \n",
    "data_SRK_noTdep = json.load(f)\n",
    "\n",
    "for i in data_SRK_noTdep:\n",
    "    data_SRK_noTdep = i\n",
    "    \n",
    "FIM_SRK_noTdep = data_SRK_noTdep['Total']\n",
    "\n",
    "eigvals, eigvecs = np.linalg.eig(FIM_SRK_noTdep)\n",
    "print('Eigenvalues:',eigvals)\n",
    "print('')\n",
    "print('Eigenvectors:',eigvecs)\n",
    "print('')\n",
    "trace = np.trace(FIM_SRK_noTdep)\n",
    "print('Trace:',trace)\n",
    "print('')\n",
    "det = np.linalg.det(FIM_SRK_noTdep)\n",
    "print('Determinant:',det)\n",
    "CN = eigvals.max()/eigvals.min()\n",
    "print('CN:',CN)"
   ]
  },
  {
   "cell_type": "markdown",
   "id": "bf9fbbd8",
   "metadata": {},
   "source": [
    "## SRK 3params, Opt1"
   ]
  },
  {
   "cell_type": "code",
   "execution_count": 13,
   "id": "4f1f3c8b",
   "metadata": {},
   "outputs": [
    {
     "name": "stdout",
     "output_type": "stream",
     "text": [
      "Eigenvalues: [8.45109789e+12 2.92704416e+09 3.19060521e+10]\n",
      "\n",
      "Eigenvectors: [[-0.48891918  0.80203114 -0.34308028]\n",
      " [ 0.07035842  0.42826724  0.90090891]\n",
      " [-0.86948705 -0.41633306  0.26581772]]\n",
      "\n",
      "Trace: 8485930983650.965\n",
      "\n",
      "Determinant: 7.892516103150987e+32\n",
      "CN: 2887.2464610169272\n"
     ]
    }
   ],
   "source": [
    "# Opening JSON file\n",
    "f = open('../../../../emimtf2n_FIM_info/SRK_3params_Opt1.json')\n",
    "  \n",
    "data_SRK_3params_Opt1 = json.load(f)\n",
    "\n",
    "for i in data_SRK_3params_Opt1:\n",
    "    data_SRK_3params_Opt1 = i\n",
    "    \n",
    "FIM_SRK_3params_Opt1 = data_SRK_3params_Opt1['Total']\n",
    "\n",
    "eigvals, eigvecs = np.linalg.eig(FIM_SRK_3params_Opt1)\n",
    "print('Eigenvalues:',eigvals)\n",
    "print('')\n",
    "print('Eigenvectors:',eigvecs)\n",
    "print('')\n",
    "trace = np.trace(FIM_SRK_3params_Opt1)\n",
    "print('Trace:',trace)\n",
    "print('')\n",
    "det = np.linalg.det(FIM_SRK_3params_Opt1)\n",
    "print('Determinant:',det)\n",
    "CN = eigvals.max()/eigvals.min()\n",
    "print('CN:',CN)"
   ]
  },
  {
   "cell_type": "markdown",
   "id": "9a36b2a3",
   "metadata": {},
   "source": [
    "## SRK 3params, Opt2"
   ]
  },
  {
   "cell_type": "code",
   "execution_count": 14,
   "id": "6203e5c5",
   "metadata": {},
   "outputs": [
    {
     "name": "stdout",
     "output_type": "stream",
     "text": [
      "Eigenvalues: [2.00162018e+14 2.04787241e+12 2.02291957e+11]\n",
      "\n",
      "Eigenvectors: [[-0.09096951  0.81897215 -0.5665767 ]\n",
      " [ 0.03181476 -0.56625526 -0.82361569]\n",
      " [ 0.99534535  0.09294941 -0.02545656]]\n",
      "\n",
      "Trace: 202412182028790.25\n",
      "\n",
      "Determinant: 8.292074209450069e+37\n",
      "CN: 989.4709641668719\n"
     ]
    }
   ],
   "source": [
    "# Opening JSON file\n",
    "f = open('../../../../emimtf2n_FIM_info/SRK_3params_Opt2.json')\n",
    "  \n",
    "data_SRK_3params_Opt2 = json.load(f)\n",
    "\n",
    "for i in data_SRK_3params_Opt2:\n",
    "    data_SRK_3params_Opt2 = i\n",
    "    \n",
    "FIM_SRK_3params_Opt2 = data_SRK_3params_Opt2['Total']\n",
    "\n",
    "eigvals, eigvecs = np.linalg.eig(FIM_SRK_3params_Opt2)\n",
    "print('Eigenvalues:',eigvals)\n",
    "print('')\n",
    "print('Eigenvectors:',eigvecs)\n",
    "print('')\n",
    "trace = np.trace(FIM_SRK_3params_Opt2)\n",
    "print('Trace:',trace)\n",
    "print('')\n",
    "det = np.linalg.det(FIM_SRK_3params_Opt2)\n",
    "print('Determinant:',det)\n",
    "CN = eigvals.max()/eigvals.min()\n",
    "print('CN:',CN)"
   ]
  },
  {
   "cell_type": "markdown",
   "id": "ab514200",
   "metadata": {},
   "source": [
    "## SRK linTdep"
   ]
  },
  {
   "cell_type": "code",
   "execution_count": 15,
   "id": "4ab41a11",
   "metadata": {},
   "outputs": [
    {
     "name": "stdout",
     "output_type": "stream",
     "text": [
      "Eigenvalues: [2.79255474e+13 3.00189406e+12 9.55375840e+09 1.76097066e+09]\n",
      "\n",
      "Eigenvectors: [[ 0.41889839 -0.30150889 -0.79776363 -0.31175266]\n",
      " [-0.42162533 -0.53353564  0.24965259 -0.68938044]\n",
      " [ 0.63807981 -0.57247448  0.46497351  0.22119394]\n",
      " [-0.48950013 -0.54470641 -0.29162718  0.61533579]]\n",
      "\n",
      "Trace: 30938756153169.414\n",
      "\n",
      "Determinant: 1.4103387239710356e+45\n",
      "CN: 15858.042366620974\n"
     ]
    }
   ],
   "source": [
    "# Opening JSON file\n",
    "f = open('../../../../emimtf2n_FIM_info/SRK_linTdep.json')\n",
    "  \n",
    "data_SRK_linTdep = json.load(f)\n",
    "\n",
    "for i in data_SRK_linTdep:\n",
    "    data_SRK_linTdep = i\n",
    "    \n",
    "FIM_SRK_linTdep = data_SRK_linTdep['Total']\n",
    "\n",
    "eigvals, eigvecs = np.linalg.eig(FIM_SRK_linTdep)\n",
    "print('Eigenvalues:',eigvals)\n",
    "print('')\n",
    "print('Eigenvectors:',eigvecs)\n",
    "print('')\n",
    "trace = np.trace(FIM_SRK_linTdep)\n",
    "print('Trace:',trace)\n",
    "print('')\n",
    "det = np.linalg.det(FIM_SRK_linTdep)\n",
    "print('Determinant:',det)\n",
    "CN = eigvals.max()/eigvals.min()\n",
    "print('CN:',CN)"
   ]
  },
  {
   "cell_type": "markdown",
   "id": "efadb7a5",
   "metadata": {},
   "source": [
    "## SRK quadTdep"
   ]
  },
  {
   "cell_type": "code",
   "execution_count": 16,
   "id": "686d4f2f",
   "metadata": {},
   "outputs": [
    {
     "name": "stdout",
     "output_type": "stream",
     "text": [
      "Eigenvalues: [2.50022600e+14 1.83107856e+12 1.45976310e+11 2.82823158e+09\n",
      " 9.67159810e+07 1.43736011e+05]\n",
      "\n",
      "Eigenvectors: [[ 0.45713706  0.22963461  0.71802539 -0.02030101  0.4713395   0.01265431]\n",
      " [-0.07731419 -0.70307161  0.20991027  0.64723394  0.12164681  0.1481242 ]\n",
      " [ 0.83174476 -0.15876469 -0.1437368   0.07214069 -0.5068664  -0.01470837]\n",
      " [-0.02386753 -0.19776754  0.07825928 -0.0244337   0.02543783 -0.97619145]\n",
      " [ 0.29473038 -0.2556613  -0.56922202 -0.19391122  0.69690272  0.02196882]\n",
      " [-0.07624454 -0.56857482  0.29929704 -0.73298925 -0.14073769  0.15572536]]\n",
      "\n",
      "Trace: 252002579766074.16\n",
      "\n",
      "Determinant: 2.6275284242997703e+60\n",
      "CN: 1739456921.204277\n"
     ]
    }
   ],
   "source": [
    "# Opening JSON file\n",
    "f = open('../../../../emimtf2n_FIM_info/SRK_quadTdep.json')\n",
    "  \n",
    "data_SRK_quadTdep = json.load(f)\n",
    "\n",
    "for i in data_SRK_quadTdep:\n",
    "    data_SRK_quadTdep = i\n",
    "    \n",
    "FIM_SRK_quadTdep = data_SRK_quadTdep['Total']\n",
    "\n",
    "eigvals, eigvecs = np.linalg.eig(FIM_SRK_quadTdep)\n",
    "print('Eigenvalues:',eigvals)\n",
    "print('')\n",
    "print('Eigenvectors:',eigvecs)\n",
    "print('')\n",
    "trace = np.trace(FIM_SRK_quadTdep)\n",
    "print('Trace:',trace)\n",
    "print('')\n",
    "det = np.linalg.det(FIM_SRK_quadTdep)\n",
    "print('Determinant:',det)\n",
    "CN = eigvals.max()/eigvals.min()\n",
    "print('CN:',CN)"
   ]
  },
  {
   "cell_type": "markdown",
   "id": "c40f7a00",
   "metadata": {},
   "source": [
    "## SRK polyTdep"
   ]
  },
  {
   "cell_type": "code",
   "execution_count": 17,
   "id": "55d8b163",
   "metadata": {},
   "outputs": [
    {
     "name": "stdout",
     "output_type": "stream",
     "text": [
      "Eigenvalues: [6.16761010e+16 4.33621956e+14 4.76429466e+13 3.28907184e+11\n",
      " 3.96053052e+10 2.81086576e+08 1.43195787e+07 3.52238142e+04]\n",
      "\n",
      "Eigenvectors: [[ 0.23936248 -0.2415815   0.46054146  0.2707524  -0.62235571  0.08471086\n",
      "   0.45076036 -0.03537283]\n",
      " [-0.03351188  0.32975732  0.15992713 -0.57159844 -0.23347979 -0.61116713\n",
      "   0.14352153 -0.29866218]\n",
      " [ 0.68330892 -0.1708741   0.43998533 -0.13325675  0.23814515 -0.11025572\n",
      "  -0.47139799  0.03822322]\n",
      " [-0.07384326  0.66180691  0.36558324 -0.18075418 -0.11801478  0.45266065\n",
      "  -0.08729222  0.40470548]\n",
      " [ 0.6494141   0.3175355  -0.42405654 -0.04897003  0.17096396  0.14154628\n",
      "   0.49419518 -0.04144418]\n",
      " [-0.05393061  0.43485796  0.28033609  0.58547589  0.27282879 -0.07750642\n",
      "  -0.02850193 -0.552598  ]\n",
      " [ 0.21058282  0.25341146 -0.41205417  0.29568476 -0.58709364 -0.17540669\n",
      "  -0.50679191  0.04398758]\n",
      " [-0.01504458  0.10753853  0.08298061  0.34194936  0.19793129 -0.58773354\n",
      "   0.21095354  0.65976136]]\n",
      "\n",
      "Trace: 6.215773473019759e+16\n",
      "\n",
      "Determinant: 2.3532171668941913e+87\n",
      "CN: 1750977356104.0007\n"
     ]
    }
   ],
   "source": [
    "# Opening JSON file\n",
    "f = open('../../../../emimtf2n_FIM_info/SRK_polyTdep.json')\n",
    "  \n",
    "data_SRK_polyTdep = json.load(f)\n",
    "\n",
    "for i in data_SRK_polyTdep:\n",
    "    data_SRK_polyTdep = i\n",
    "    \n",
    "FIM_SRK_polyTdep = data_SRK_polyTdep['Total']\n",
    "\n",
    "eigvals, eigvecs = np.linalg.eig(FIM_SRK_polyTdep)\n",
    "print('Eigenvalues:',eigvals)\n",
    "print('')\n",
    "print('Eigenvectors:',eigvecs)\n",
    "print('')\n",
    "trace = np.trace(FIM_SRK_polyTdep)\n",
    "print('Trace:',trace)\n",
    "print('')\n",
    "det = np.linalg.det(FIM_SRK_polyTdep)\n",
    "print('Determinant:',det)\n",
    "CN = eigvals.max()/eigvals.min()\n",
    "print('CN:',CN)"
   ]
  },
  {
   "cell_type": "code",
   "execution_count": null,
   "id": "e55ec5f1",
   "metadata": {},
   "outputs": [],
   "source": []
  }
 ],
 "metadata": {
  "kernelspec": {
   "display_name": "Python 3 (ipykernel)",
   "language": "python",
   "name": "python3"
  },
  "language_info": {
   "codemirror_mode": {
    "name": "ipython",
    "version": 3
   },
   "file_extension": ".py",
   "mimetype": "text/x-python",
   "name": "python",
   "nbconvert_exporter": "python",
   "pygments_lexer": "ipython3",
   "version": "3.9.9"
  }
 },
 "nbformat": 4,
 "nbformat_minor": 5
}
