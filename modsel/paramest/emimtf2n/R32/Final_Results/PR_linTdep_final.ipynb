{
 "cells": [
  {
   "cell_type": "markdown",
   "id": "instructional-learning",
   "metadata": {},
   "source": [
    "# Fit emimTF2N data\n",
    "\n",
    "EoS: PR\n",
    "\n",
    "Parameter T dependence: Linear\n",
    "\n",
    "N (total fitting parameters): 4"
   ]
  },
  {
   "cell_type": "markdown",
   "id": "extended-rabbit",
   "metadata": {},
   "source": [
    "## Import Functions"
   ]
  },
  {
   "cell_type": "code",
   "execution_count": 1,
   "id": "complicated-toronto",
   "metadata": {},
   "outputs": [],
   "source": [
    "import idaes\n",
    "\n",
    "import pandas as pd\n",
    "import numpy as np\n",
    "import matplotlib.pyplot as plt\n",
    "import scipy.optimize\n",
    "\n",
    "import sys\n",
    "sys.path.append('../../../')\n",
    "\n",
    "from pyomo.environ import (Constraint,\n",
    "                           Var,\n",
    "                           ConcreteModel,\n",
    "                           Expression,\n",
    "                           Param,\n",
    "                           Objective,\n",
    "                           SolverFactory,\n",
    "                           TransformationFactory,\n",
    "                           value)\n",
    "from pyomo.opt import TerminationCondition, SolverStatus\n",
    "\n",
    "from idaes.core import FlowsheetBlock\n",
    "import idaes.logger as idaeslog\n",
    "# Import the Generic Parameter Block\n",
    "from idaes.generic_models.properties.core.generic.generic_property import (\n",
    "        GenericParameterBlock)\n",
    "# Import unit models from the model library\n",
    "from idaes.generic_models.unit_models import Flash\n",
    "# Import degrees of freedom tool\n",
    "from idaes.core.util.model_statistics import degrees_of_freedom\n",
    "\n",
    "# parmest (binary_param2)\n",
    "from bip_fitting_functions import linear\n",
    "\n",
    "import scipy.stats as stats"
   ]
  },
  {
   "cell_type": "markdown",
   "id": "potential-awareness",
   "metadata": {},
   "source": [
    "## Load Data"
   ]
  },
  {
   "cell_type": "code",
   "execution_count": 2,
   "id": "latest-artist",
   "metadata": {},
   "outputs": [],
   "source": [
    "data_full = pd.read_csv('../r32_emimtf2n_full.csv')\n",
    "data_subset = pd.read_csv('../r32_emimtf2n_subset.csv')\n",
    "data_extended = pd.read_csv('r32-emimtf2n-extended.csv')"
   ]
  },
  {
   "cell_type": "markdown",
   "id": "superior-attendance",
   "metadata": {},
   "source": [
    "## Load Configuration + Check DOF + Load Parameters"
   ]
  },
  {
   "cell_type": "code",
   "execution_count": 3,
   "id": "923b31cd",
   "metadata": {},
   "outputs": [],
   "source": [
    "lhs_results1 = pd.read_csv('../Data/Fits/LHS_Fits/PR_linTdep_LHS.csv',index_col=0)\n",
    "lhs_results1 = lhs_results1[['sc_param1','sc_param2','sc_param3','sc_param4','SSR']]\n",
    "lhs_results2 = pd.read_csv('Data/Init_Final/LHS_Output/PR_linTdep_LHS_final.csv',index_col=0)\n",
    "lhs_results2 = lhs_results2[['sc_param1','sc_param2','sc_param3','sc_param4','SSR']]\n",
    "lhs_results = pd.concat([lhs_results1,lhs_results2],axis=0).reset_index(drop=True)"
   ]
  },
  {
   "cell_type": "code",
   "execution_count": 4,
   "id": "712a7323",
   "metadata": {},
   "outputs": [
    {
     "data": {
      "text/html": [
       "<div>\n",
       "<style scoped>\n",
       "    .dataframe tbody tr th:only-of-type {\n",
       "        vertical-align: middle;\n",
       "    }\n",
       "\n",
       "    .dataframe tbody tr th {\n",
       "        vertical-align: top;\n",
       "    }\n",
       "\n",
       "    .dataframe thead th {\n",
       "        text-align: right;\n",
       "    }\n",
       "</style>\n",
       "<table border=\"1\" class=\"dataframe\">\n",
       "  <thead>\n",
       "    <tr style=\"text-align: right;\">\n",
       "      <th></th>\n",
       "      <th>sc_param1</th>\n",
       "      <th>sc_param2</th>\n",
       "      <th>sc_param3</th>\n",
       "      <th>sc_param4</th>\n",
       "      <th>SSR</th>\n",
       "    </tr>\n",
       "  </thead>\n",
       "  <tbody>\n",
       "    <tr>\n",
       "      <th>70</th>\n",
       "      <td>-0.495915</td>\n",
       "      <td>0.312509</td>\n",
       "      <td>0.820636</td>\n",
       "      <td>-0.314104</td>\n",
       "      <td>4.257008</td>\n",
       "    </tr>\n",
       "    <tr>\n",
       "      <th>189</th>\n",
       "      <td>0.596881</td>\n",
       "      <td>-0.709315</td>\n",
       "      <td>-0.383858</td>\n",
       "      <td>0.762490</td>\n",
       "      <td>6.391630</td>\n",
       "    </tr>\n",
       "    <tr>\n",
       "      <th>211</th>\n",
       "      <td>0.544616</td>\n",
       "      <td>0.477999</td>\n",
       "      <td>-0.617227</td>\n",
       "      <td>-0.462823</td>\n",
       "      <td>0.045088</td>\n",
       "    </tr>\n",
       "    <tr>\n",
       "      <th>505</th>\n",
       "      <td>-0.772163</td>\n",
       "      <td>-0.032215</td>\n",
       "      <td>0.612869</td>\n",
       "      <td>-0.001824</td>\n",
       "      <td>4.000310</td>\n",
       "    </tr>\n",
       "    <tr>\n",
       "      <th>998</th>\n",
       "      <td>-1.268737</td>\n",
       "      <td>-1.189984</td>\n",
       "      <td>1.138086</td>\n",
       "      <td>1.171186</td>\n",
       "      <td>0.045088</td>\n",
       "    </tr>\n",
       "    <tr>\n",
       "      <th>1412</th>\n",
       "      <td>-1.061266</td>\n",
       "      <td>-1.838114</td>\n",
       "      <td>1.193033</td>\n",
       "      <td>1.613235</td>\n",
       "      <td>5.602443</td>\n",
       "    </tr>\n",
       "    <tr>\n",
       "      <th>1750</th>\n",
       "      <td>1.746855</td>\n",
       "      <td>-1.890239</td>\n",
       "      <td>-1.206917</td>\n",
       "      <td>1.812856</td>\n",
       "      <td>10.183323</td>\n",
       "    </tr>\n",
       "    <tr>\n",
       "      <th>2005</th>\n",
       "      <td>-0.562794</td>\n",
       "      <td>-1.840355</td>\n",
       "      <td>0.312277</td>\n",
       "      <td>1.654955</td>\n",
       "      <td>5.602443</td>\n",
       "    </tr>\n",
       "    <tr>\n",
       "      <th>2011</th>\n",
       "      <td>-1.002698</td>\n",
       "      <td>0.423430</td>\n",
       "      <td>1.012012</td>\n",
       "      <td>-0.405596</td>\n",
       "      <td>0.045088</td>\n",
       "    </tr>\n",
       "    <tr>\n",
       "      <th>2692</th>\n",
       "      <td>0.057213</td>\n",
       "      <td>-0.961787</td>\n",
       "      <td>0.116965</td>\n",
       "      <td>0.939299</td>\n",
       "      <td>6.391630</td>\n",
       "    </tr>\n",
       "    <tr>\n",
       "      <th>4301</th>\n",
       "      <td>-1.570062</td>\n",
       "      <td>0.451052</td>\n",
       "      <td>1.651695</td>\n",
       "      <td>-0.439320</td>\n",
       "      <td>0.045088</td>\n",
       "    </tr>\n",
       "    <tr>\n",
       "      <th>4808</th>\n",
       "      <td>-0.855126</td>\n",
       "      <td>-0.692320</td>\n",
       "      <td>1.580111</td>\n",
       "      <td>0.577012</td>\n",
       "      <td>5.740088</td>\n",
       "    </tr>\n",
       "  </tbody>\n",
       "</table>\n",
       "</div>"
      ],
      "text/plain": [
       "      sc_param1  sc_param2  sc_param3  sc_param4        SSR\n",
       "70    -0.495915   0.312509   0.820636  -0.314104   4.257008\n",
       "189    0.596881  -0.709315  -0.383858   0.762490   6.391630\n",
       "211    0.544616   0.477999  -0.617227  -0.462823   0.045088\n",
       "505   -0.772163  -0.032215   0.612869  -0.001824   4.000310\n",
       "998   -1.268737  -1.189984   1.138086   1.171186   0.045088\n",
       "1412  -1.061266  -1.838114   1.193033   1.613235   5.602443\n",
       "1750   1.746855  -1.890239  -1.206917   1.812856  10.183323\n",
       "2005  -0.562794  -1.840355   0.312277   1.654955   5.602443\n",
       "2011  -1.002698   0.423430   1.012012  -0.405596   0.045088\n",
       "2692   0.057213  -0.961787   0.116965   0.939299   6.391630\n",
       "4301  -1.570062   0.451052   1.651695  -0.439320   0.045088\n",
       "4808  -0.855126  -0.692320   1.580111   0.577012   5.740088"
      ]
     },
     "execution_count": 4,
     "metadata": {},
     "output_type": "execute_result"
    }
   ],
   "source": [
    "lhs_results.dropna(axis=0)"
   ]
  },
  {
   "cell_type": "code",
   "execution_count": 5,
   "id": "b592b756",
   "metadata": {},
   "outputs": [
    {
     "data": {
      "text/html": [
       "<div>\n",
       "<style scoped>\n",
       "    .dataframe tbody tr th:only-of-type {\n",
       "        vertical-align: middle;\n",
       "    }\n",
       "\n",
       "    .dataframe tbody tr th {\n",
       "        vertical-align: top;\n",
       "    }\n",
       "\n",
       "    .dataframe thead th {\n",
       "        text-align: right;\n",
       "    }\n",
       "</style>\n",
       "<table border=\"1\" class=\"dataframe\">\n",
       "  <thead>\n",
       "    <tr style=\"text-align: right;\">\n",
       "      <th></th>\n",
       "      <th>sc_param1</th>\n",
       "      <th>sc_param2</th>\n",
       "      <th>sc_param3</th>\n",
       "      <th>sc_param4</th>\n",
       "      <th>SSR</th>\n",
       "    </tr>\n",
       "  </thead>\n",
       "  <tbody>\n",
       "    <tr>\n",
       "      <th>998</th>\n",
       "      <td>-1.268737</td>\n",
       "      <td>-1.189984</td>\n",
       "      <td>1.138086</td>\n",
       "      <td>1.171186</td>\n",
       "      <td>0.045088</td>\n",
       "    </tr>\n",
       "  </tbody>\n",
       "</table>\n",
       "</div>"
      ],
      "text/plain": [
       "     sc_param1  sc_param2  sc_param3  sc_param4       SSR\n",
       "998  -1.268737  -1.189984   1.138086   1.171186  0.045088"
      ]
     },
     "execution_count": 5,
     "metadata": {},
     "output_type": "execute_result"
    }
   ],
   "source": [
    "lhs_best = lhs_results[lhs_results.SSR == lhs_results.SSR.min()]\n",
    "lhs_best"
   ]
  },
  {
   "cell_type": "code",
   "execution_count": 6,
   "id": "6f0a4705",
   "metadata": {},
   "outputs": [],
   "source": [
    "sc_param1 = lhs_best.at[998, 'sc_param1']\n",
    "sc_param2 = lhs_best.at[998, 'sc_param2']\n",
    "sc_param3 = lhs_best.at[998, 'sc_param3']\n",
    "sc_param4 = lhs_best.at[998, 'sc_param4']"
   ]
  },
  {
   "cell_type": "code",
   "execution_count": 7,
   "id": "binding-cattle",
   "metadata": {},
   "outputs": [],
   "source": [
    "from hfc32_emimtf2n_PR import configuration "
   ]
  },
  {
   "cell_type": "code",
   "execution_count": 8,
   "id": "backed-diving",
   "metadata": {},
   "outputs": [
    {
     "name": "stdout",
     "output_type": "stream",
     "text": [
      "The initial DOF is 7\n"
     ]
    }
   ],
   "source": [
    "m = ConcreteModel()\n",
    "m.fs = FlowsheetBlock(default={\"dynamic\": False})\n",
    "m.fs.properties = GenericParameterBlock(default=configuration)\n",
    "m.fs.F101 = Flash(default={\"property_package\": m.fs.properties,\n",
    "                           \"has_heat_transfer\": True,\n",
    "                           \"has_pressure_change\": True})\n",
    "DOF_initial = degrees_of_freedom(m)\n",
    "print('The initial DOF is {0}'.format(DOF_initial))"
   ]
  },
  {
   "cell_type": "markdown",
   "id": "conventional-health",
   "metadata": {},
   "source": [
    "## Fit Parameters"
   ]
  },
  {
   "cell_type": "code",
   "execution_count": 9,
   "id": "78abe6a7",
   "metadata": {},
   "outputs": [
    {
     "name": "stdout",
     "output_type": "stream",
     "text": [
      "2022-10-07 13:19:40 [INFO] idaes.init.fs.state_block: Property package initialization: optimal - Optimal Solution Found.\n",
      "2022-10-07 13:19:41 [INFO] idaes.init.fs.state_block: Property package initialization: optimal - Optimal Solution Found.\n",
      "2022-10-07 13:19:41 [INFO] idaes.init.fs.state_block: Property package initialization: optimal - Optimal Solution Found.\n",
      "2022-10-07 13:19:42 [INFO] idaes.init.fs.state_block: Property package initialization: optimal - Optimal Solution Found.\n",
      "2022-10-07 13:19:42 [INFO] idaes.init.fs.state_block: Property package initialization: optimal - Optimal Solution Found.\n",
      "2022-10-07 13:19:43 [INFO] idaes.init.fs.state_block: Property package initialization: optimal - Optimal Solution Found.\n",
      "2022-10-07 13:19:43 [INFO] idaes.init.fs.state_block: Property package initialization: optimal - Optimal Solution Found.\n",
      "2022-10-07 13:19:43 [INFO] idaes.init.fs.state_block: Property package initialization: optimal - Optimal Solution Found.\n",
      "2022-10-07 13:19:44 [INFO] idaes.init.fs.state_block: Property package initialization: optimal - Optimal Solution Found.\n",
      "2022-10-07 13:19:44 [INFO] idaes.init.fs.state_block: Property package initialization: optimal - Optimal Solution Found.\n",
      "2022-10-07 13:19:44 [INFO] idaes.init.fs.state_block: Property package initialization: optimal - Optimal Solution Found.\n",
      "2022-10-07 13:19:45 [INFO] idaes.init.fs.state_block: Property package initialization: optimal - Optimal Solution Found.\n",
      "2022-10-07 13:19:45 [INFO] idaes.init.fs.state_block: Property package initialization: optimal - Optimal Solution Found.\n",
      "2022-10-07 13:19:45 [INFO] idaes.init.fs.state_block: Property package initialization: optimal - Optimal Solution Found.\n",
      "2022-10-07 13:19:46 [INFO] idaes.init.fs.state_block: Property package initialization: optimal - Optimal Solution Found.\n",
      "2022-10-07 13:19:46 [INFO] idaes.init.fs.state_block: Property package initialization: optimal - Optimal Solution Found.\n",
      "2022-10-07 13:19:47 [INFO] idaes.init.fs.state_block: Property package initialization: optimal - Optimal Solution Found.\n",
      "2022-10-07 13:19:47 [INFO] idaes.init.fs.state_block: Property package initialization: optimal - Optimal Solution Found.\n",
      "2022-10-07 13:19:48 [INFO] idaes.init.fs.state_block: Property package initialization: optimal - Optimal Solution Found.\n",
      "2022-10-07 13:19:48 [INFO] idaes.init.fs.state_block: Property package initialization: optimal - Optimal Solution Found.\n",
      "2022-10-07 13:19:49 [INFO] idaes.init.fs.state_block: Property package initialization: optimal - Optimal Solution Found.\n",
      "2022-10-07 13:19:49 [INFO] idaes.init.fs.state_block: Property package initialization: optimal - Optimal Solution Found.\n",
      "2022-10-07 13:19:49 [INFO] idaes.init.fs.state_block: Property package initialization: optimal - Optimal Solution Found.\n",
      "2022-10-07 13:19:50 [INFO] idaes.init.fs.state_block: Property package initialization: optimal - Optimal Solution Found.\n",
      "2022-10-07 13:19:50 [INFO] idaes.init.fs.state_block: Property package initialization: optimal - Optimal Solution Found.\n",
      "2022-10-07 13:19:51 [INFO] idaes.init.fs.state_block: Property package initialization: optimal - Optimal Solution Found.\n",
      "2022-10-07 13:19:51 [INFO] idaes.init.fs.state_block: Property package initialization: optimal - Optimal Solution Found.\n",
      "WARNING: The current pynumero_ASL library is version=2, but found version=1.\n",
      "    Please recompile / update your pynumero_ASL library.\n"
     ]
    }
   ],
   "source": [
    "parameters, obj_value, a = linear(data_subset, configuration, 'R32', 'emimTf2N', \"x_R32\", \"x_emimTf2N\", \n",
    "        init_temp =  283.1, init_press =   399300 , init_x_c1 =    0.448, init_x_c2 = 0.552,\n",
    "        init_kappa_2_1A = sc_param1, init_kappa_1_2A = sc_param2,\n",
    "        init_kappa_2_1B = sc_param3, init_kappa_1_2B = sc_param4, \n",
    "        eps = 0.1, scaling_fac = 1e-9, \n",
    "        filename='Data/Fits/Ipopt_Output/PR_linTdep_final.txt')"
   ]
  },
  {
   "cell_type": "code",
   "execution_count": 10,
   "id": "basic-preserve",
   "metadata": {},
   "outputs": [
    {
     "name": "stdout",
     "output_type": "stream",
     "text": [
      "Objective (SSE): 0.045088099907705466\n"
     ]
    }
   ],
   "source": [
    "print('Objective (SSE):',obj_value)"
   ]
  },
  {
   "cell_type": "code",
   "execution_count": 11,
   "id": "ffefeb80",
   "metadata": {},
   "outputs": [
    {
     "name": "stdout",
     "output_type": "stream",
     "text": [
      "Parameters: fs.properties.PR_kappa_A[R32,emimTf2N]    0.095992\n",
      "fs.properties.PR_kappa_A[emimTf2N,R32]    1.003637\n",
      "fs.properties.PR_kappa_B[R32,emimTf2N]   -0.141481\n",
      "fs.properties.PR_kappa_B[emimTf2N,R32]   -1.163092\n",
      "dtype: float64\n"
     ]
    }
   ],
   "source": [
    "print('Parameters:',parameters)"
   ]
  },
  {
   "cell_type": "code",
   "execution_count": 12,
   "id": "6a0d1894",
   "metadata": {},
   "outputs": [],
   "source": [
    "params2save = np.zeros(8)\n",
    "params2save[0] = parameters[0]\n",
    "params2save[1] = parameters[1]\n",
    "params2save[2] = parameters[2]\n",
    "params2save[3] = parameters[3]"
   ]
  },
  {
   "cell_type": "code",
   "execution_count": 13,
   "id": "d4291de2",
   "metadata": {},
   "outputs": [],
   "source": [
    "np.savetxt('Data/Fits/PR_params_linTdep.csv',params2save,delimiter=',')"
   ]
  },
  {
   "cell_type": "code",
   "execution_count": 14,
   "id": "governmental-nudist",
   "metadata": {},
   "outputs": [
    {
     "name": "stdout",
     "output_type": "stream",
     "text": [
      "Covariance Matrix:\n",
      "[[ 7.64309852e-05  5.99004723e-04 -7.07659665e-05 -5.74191238e-04]\n",
      " [ 5.99004723e-04  1.54587825e-02 -6.37295718e-04 -1.59672349e-02]\n",
      " [-7.07659665e-05 -6.37295718e-04  6.64567151e-05  6.22057283e-04]\n",
      " [-5.74191238e-04 -1.59672349e-02  6.22057283e-04  1.65576152e-02]]\n"
     ]
    }
   ],
   "source": [
    "cov = np.array(a)\n",
    "print('Covariance Matrix:')\n",
    "print(cov)"
   ]
  },
  {
   "cell_type": "code",
   "execution_count": 15,
   "id": "c4328a0b",
   "metadata": {},
   "outputs": [],
   "source": [
    "np.savetxt('Data/Covariance/PR_Cov_linTdep.csv',cov,delimiter=',')"
   ]
  },
  {
   "cell_type": "markdown",
   "id": "aging-authentication",
   "metadata": {},
   "source": [
    "## Apply Parameters + Plot"
   ]
  },
  {
   "cell_type": "code",
   "execution_count": null,
   "id": "endangered-gibraltar",
   "metadata": {},
   "outputs": [],
   "source": [
    "solver = SolverFactory('ipopt')\n",
    "solver.options = {'tol': 1e-6}"
   ]
  },
  {
   "cell_type": "code",
   "execution_count": null,
   "id": "royal-switch",
   "metadata": {},
   "outputs": [],
   "source": [
    "m = ConcreteModel()\n",
    "\n",
    "m.fs = FlowsheetBlock(default={\"dynamic\": False})\n",
    "\n",
    "m.fs.properties = GenericParameterBlock(default=configuration)\n",
    "\n",
    "m.fs.F101 = Flash(default={\"property_package\": m.fs.properties,\n",
    "                           \"has_heat_transfer\": True,\n",
    "                           \"has_pressure_change\": True})\n",
    "\n",
    "m.fs.F101.inlet.flow_mol.fix(1)\n",
    "m.fs.F101.inlet.temperature.fix(323.15)\n",
    "m.fs.F101.inlet.pressure.fix(399800)\n",
    "m.fs.F101.inlet.mole_frac_comp[0,'R32'].fix(0.5)\n",
    "\n",
    "m.fs.properties.PR_kappa_A['R32','emimTf2N'] = parameters['fs.properties.PR_kappa_A[R32,emimTf2N]']\n",
    "m.fs.properties.PR_kappa_A['emimTf2N','R32'] = parameters['fs.properties.PR_kappa_A[emimTf2N,R32]']\n",
    "m.fs.properties.PR_kappa_B['R32','emimTf2N'] = parameters['fs.properties.PR_kappa_B[R32,emimTf2N]']\n",
    "m.fs.properties.PR_kappa_B['emimTf2N','R32'] = parameters['fs.properties.PR_kappa_B[emimTf2N,R32]']\n",
    "\n",
    "# Initialize the flash unit\n",
    "m.fs.F101.initialize(outlvl=idaeslog.CRITICAL)\n",
    "\n",
    "# Fix the state variables on the state block\n",
    "# m.fs.F101.inlet.pressure.unfix()\n",
    "m.fs.F101.inlet.mole_frac_comp[0,'emimTf2N'].unfix()\n",
    "\n",
    "R32_x = np.zeros((len(data_extended)))\n",
    "P = np.zeros((len(data_extended)))\n",
    "T = np.zeros((len(data_extended)))\n",
    "\n",
    "m.fs.liq = Param(mutable=True,default=0.040)\n",
    "m.fs.liquid = Constraint(expr=m.fs.F101.liq_outlet.mole_frac_comp[0, \"emimTf2N\"] == m.fs.liq)\n",
    "\n",
    "for i in range(len(data_extended)):\n",
    "    print('i:',i)\n",
    "    print('Try x_IL:',data_extended[\"x_emimTf2N\"].iloc[i])\n",
    "    m.fs.liq = data_extended[\"x_emimTf2N\"].iloc[i]\n",
    "    m.fs.F101.inlet.temperature.fix(float(data_extended[\"temperature\"].iloc[i]))\n",
    "    m.fs.F101.inlet.pressure.fix(float(data_extended[\"pressure\"].iloc[i]))\n",
    "    m.fs.F101.inlet.mole_frac_comp[0,'R32'].fix(float(data_extended[\"x_R32\"].iloc[i])+0.1)\n",
    "    m.fs.F101.inlet.mole_frac_comp[0,'emimTf2N'].fix(float(1-(data_extended[\"x_R32\"].iloc[i]+0.1)))\n",
    "    m.fs.F101.vap_outlet.temperature.fix(float(data_extended[\"temperature\"].iloc[i]))\n",
    "    \n",
    "    try:\n",
    "        m.fs.F101.initialize(outlvl=idaeslog.CRITICAL)\n",
    "        \n",
    "    except:\n",
    "        print('Initialization Error')\n",
    "        \n",
    "    try:\n",
    "\n",
    "        status = solver.solve(m, tee = False)\n",
    "        \n",
    "        if (status.solver.status == SolverStatus.ok) and (status.solver.termination_condition == TerminationCondition.optimal):\n",
    "            print('Feasible/Optimal Solution')\n",
    "            R32_x[i] = value(m.fs.F101.liq_outlet.mole_frac_comp[0,'R32']) \n",
    "            P[i] = value(m.fs.F101.vap_outlet.pressure[0])\n",
    "            T[i] = data_extended[\"temperature\"].iloc[i]\n",
    "        else:\n",
    "            print('Infeasible Solution')\n",
    "            R32_x[i] = np.nan\n",
    "            P[i] = np.nan\n",
    "            T[i] = data_extended[\"temperature\"].iloc[i]\n",
    "            \n",
    "    except ValueError:\n",
    "        R32_x[i] = np.nan\n",
    "        P[i] = np.nan\n",
    "        T[i] = data_extended[\"temperature\"].iloc[i]\n",
    "        print('Solver Error')"
   ]
  },
  {
   "cell_type": "code",
   "execution_count": null,
   "id": "c53672a6",
   "metadata": {},
   "outputs": [],
   "source": [
    "fitted_data = pd.DataFrame(data=[R32_x,P/1e6,T])\n",
    "fitted_data = fitted_data.T\n",
    "fitted_data.columns = ['R32_x','P, MPa','T, K']\n",
    "fitted_data.to_csv('Data/Fits/PR_FittedData_linTdep.csv')"
   ]
  },
  {
   "cell_type": "code",
   "execution_count": null,
   "id": "religious-joining",
   "metadata": {},
   "outputs": [],
   "source": [
    "plt.plot(fitted_data.where(fitted_data['T, K']==283.15)['R32_x'],fitted_data.where(fitted_data['T, K']==283.15)['P, MPa'],\"b-\",label='T=283 K')\n",
    "plt.plot(fitted_data.where(fitted_data['T, K']==298.15)['R32_x'],fitted_data.where(fitted_data['T, K']==298.15)['P, MPa'],\"r-\",label='T=298 K')\n",
    "plt.plot(fitted_data.where(fitted_data['T, K']==323.15)['R32_x'],fitted_data.where(fitted_data['T, K']==323.15)['P, MPa'],\"c-\",label='T=323 K')\n",
    "plt.plot(fitted_data.where(fitted_data['T, K']==348.05)['R32_x'],fitted_data.where(fitted_data['T, K']==348.05)['P, MPa'],\"m-\",label='T=348 K')\n",
    "plt.plot(data_full[\"x_R32\"],data_full[\"pressure\"]/1e6,\"*\",color='orange',label=\"data\")  \n",
    "plt.title('Isotherm R32-[emim][TF2N]')\n",
    "plt.ylabel('Pressure (MPa)')\n",
    "plt.xlabel('x R32')\n",
    "plt.grid(True)\n",
    "plt.ylim(0,1.110000)\n",
    "plt.legend()\n",
    "plt.show()"
   ]
  },
  {
   "cell_type": "markdown",
   "id": "vanilla-chapel",
   "metadata": {},
   "source": [
    "### Print Eigvals, Eigvectors\n",
    "\n",
    "An identifiability analysis can be performed with these as well as a FIM because the covariance matrix is the inverse of the FIM. That means that if there are any eigvals > 0, their eigvecs indicate directions of un-identifiability."
   ]
  },
  {
   "cell_type": "code",
   "execution_count": null,
   "id": "focused-rotation",
   "metadata": {},
   "outputs": [],
   "source": [
    "eigvals, eigvecs = np.linalg.eig(cov)"
   ]
  },
  {
   "cell_type": "code",
   "execution_count": null,
   "id": "indie-eclipse",
   "metadata": {},
   "outputs": [],
   "source": [
    "eigvals"
   ]
  },
  {
   "cell_type": "code",
   "execution_count": null,
   "id": "lightweight-october",
   "metadata": {},
   "outputs": [],
   "source": [
    "eigvecs"
   ]
  },
  {
   "cell_type": "code",
   "execution_count": null,
   "id": "b4e31cab",
   "metadata": {},
   "outputs": [],
   "source": [
    "np.savetxt('Data/EigenAnalysis/PR_vals_linTdep.csv',eigvals,delimiter=',')\n",
    "np.savetxt('Data/EigenAnalysis/PR_vecs_linTdep.csv',eigvecs,delimiter=',')"
   ]
  },
  {
   "cell_type": "code",
   "execution_count": null,
   "id": "809183a0",
   "metadata": {},
   "outputs": [],
   "source": [
    "FIM = np.linalg.inv(cov) \n",
    "\n",
    "#A_opt\n",
    "FIM_trace = np.trace(FIM)\n",
    "cov_trace = np.trace(cov)\n",
    "\n",
    "#D_opt\n",
    "FIM_det = np.linalg.det(FIM)\n",
    "\n",
    "#E_opt\n",
    "eigvals_FIM, eigvecs_FIM = np.linalg.eig(FIM)\n",
    "eigvals_FIM_min = eigvals_FIM.min()\n",
    "eigvals_FIM_max = eigvals_FIM.max()\n",
    "\n",
    "np.savetxt('Data/EigenAnalysis/PR_FIMtrdet_linTdep.csv',[cov_trace,FIM_trace,FIM_det,eigvals_FIM_min,eigvals_FIM_max])\n",
    "np.savetxt('Data/EigenAnalysis/PR_FIMvals_linTdep.csv',eigvals_FIM,delimiter=',')\n",
    "np.savetxt('Data/EigenAnalysis/PR_FIMvecs_linTdep.csv',eigvecs_FIM,delimiter=',')"
   ]
  },
  {
   "cell_type": "markdown",
   "id": "suited-substance",
   "metadata": {},
   "source": [
    "## AIC Value\n",
    "\n",
    "See: https://doi.org/10.1080/21642583.2018.1496042\n",
    "\n",
    "AIC(k) = Nln(MSE(k))+2k\n",
    "\n",
    "N: number of data points\n",
    "\n",
    "MSE(k): mean squared error of the model with k parameters\n",
    "\n",
    "k: number of parameters\n",
    "\n",
    "MSE(k) = SSE(k)/N\n",
    "\n",
    "SSE: sum of squared error of the model with k parameters"
   ]
  },
  {
   "cell_type": "code",
   "execution_count": null,
   "id": "9336291c",
   "metadata": {},
   "outputs": [],
   "source": [
    "#number of datapoints\n",
    "N = len(data_subset)\n",
    "#MSE(k)\n",
    "MSE = obj_value/N\n",
    "#number of parameters\n",
    "k = 4"
   ]
  },
  {
   "cell_type": "code",
   "execution_count": null,
   "id": "finite-pacific",
   "metadata": {},
   "outputs": [],
   "source": [
    "AIC = N*np.log(MSE) + 2*k\n",
    "AIC"
   ]
  },
  {
   "cell_type": "code",
   "execution_count": null,
   "id": "casual-princess",
   "metadata": {},
   "outputs": [],
   "source": [
    "AIC_data = pd.DataFrame(data=[N,MSE,k,obj_value,AIC])\n",
    "AIC_data = AIC_data.T\n",
    "AIC_data.columns = ['N','MSE','k','Objective, Pa^2','AIC']\n",
    "AIC_data.to_csv('Data/AIC/PR_AIC_linTdep.csv')"
   ]
  },
  {
   "cell_type": "code",
   "execution_count": null,
   "id": "8d5bb1c5",
   "metadata": {},
   "outputs": [],
   "source": []
  }
 ],
 "metadata": {
  "kernelspec": {
   "display_name": "Python 3 (ipykernel)",
   "language": "python",
   "name": "python3"
  },
  "language_info": {
   "codemirror_mode": {
    "name": "ipython",
    "version": 3
   },
   "file_extension": ".py",
   "mimetype": "text/x-python",
   "name": "python",
   "nbconvert_exporter": "python",
   "pygments_lexer": "ipython3",
   "version": "3.9.9"
  }
 },
 "nbformat": 4,
 "nbformat_minor": 5
}
