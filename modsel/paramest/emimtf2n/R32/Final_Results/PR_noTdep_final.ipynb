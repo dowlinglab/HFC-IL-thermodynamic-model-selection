{
 "cells": [
  {
   "cell_type": "markdown",
   "id": "voluntary-ridge",
   "metadata": {},
   "source": [
    "# Fit emimTF2N data\n",
    "\n",
    "EoS: PR\n",
    "\n",
    "Parameter T dependence: Constant\n",
    "\n",
    "N (total fitting parameters): 2"
   ]
  },
  {
   "cell_type": "markdown",
   "id": "improved-meeting",
   "metadata": {},
   "source": [
    "## Import Functions"
   ]
  },
  {
   "cell_type": "code",
   "execution_count": 1,
   "id": "contained-performance",
   "metadata": {},
   "outputs": [],
   "source": [
    "import idaes\n",
    "\n",
    "import pandas as pd\n",
    "import numpy as np\n",
    "import matplotlib.pyplot as plt\n",
    "import scipy.optimize\n",
    "\n",
    "import sys\n",
    "sys.path.append('../../../')\n",
    "\n",
    "from pyomo.environ import (Constraint,\n",
    "                           Var,\n",
    "                           ConcreteModel,\n",
    "                           Expression,\n",
    "                           Param,\n",
    "                           Objective,\n",
    "                           SolverFactory,\n",
    "                           TransformationFactory,\n",
    "                           value)\n",
    "from pyomo.opt import TerminationCondition, SolverStatus\n",
    "\n",
    "from idaes.core import FlowsheetBlock\n",
    "import idaes.logger as idaeslog\n",
    "# Import the Generic Parameter Block\n",
    "from idaes.generic_models.properties.core.generic.generic_property import (\n",
    "        GenericParameterBlock)\n",
    "# Import unit models from the model library\n",
    "from idaes.generic_models.unit_models import Flash\n",
    "# Import degrees of freedom tool\n",
    "from idaes.core.util.model_statistics import degrees_of_freedom\n",
    "\n",
    "# parmest (binary_param2)\n",
    "from bip_fitting_functions import constant\n",
    "\n",
    "import scipy.stats as stats\n",
    "\n",
    "from matplotlib.patches import Ellipse\n",
    "import matplotlib.transforms as transforms\n",
    "import matplotlib.patches as mpatches"
   ]
  },
  {
   "cell_type": "markdown",
   "id": "judicial-calculator",
   "metadata": {},
   "source": [
    "## Load Data"
   ]
  },
  {
   "cell_type": "code",
   "execution_count": 2,
   "id": "technological-freeze",
   "metadata": {},
   "outputs": [],
   "source": [
    "data_full = pd.read_csv('../r32_emimtf2n_full.csv')\n",
    "data_subset = pd.read_csv('../r32_emimtf2n_subset.csv')\n",
    "data_extended = pd.read_csv('r32-emimtf2n-extended.csv')"
   ]
  },
  {
   "cell_type": "code",
   "execution_count": 3,
   "id": "c9b05aea",
   "metadata": {},
   "outputs": [
    {
     "data": {
      "image/png": "[encoded data removed]",
      "text/plain": [
       "<Figure size 432x288 with 1 Axes>"
      ]
     },
     "metadata": {
      "needs_background": "light"
     },
     "output_type": "display_data"
    }
   ],
   "source": [
    "fig, ax = plt.subplots()\n",
    "\n",
    "ax.plot(data_full[\"x_R32\"][:7],data_full[\"pressure\"][:7]/1e6,\"*\",color='blue',label=\"T= 283 K\")\n",
    "ax.plot(data_full[\"x_R32\"][7:15],data_full[\"pressure\"][7:15]/1e6,\"*\",color='red',label=\"T= 298 K\")\n",
    "ax.plot(data_full[\"x_R32\"][15:23],data_full[\"pressure\"][15:23]/1e6,\"*\",color='green',label=\"T= 323 K\")\n",
    "ax.plot(data_full[\"x_R32\"][23:],data_full[\"pressure\"][23:]/1e6,\"*\",color='magenta',label=\"T= 323 K\")\n",
    "\n",
    "# plt.title('Isotherm R32-[emim][TF2N]')\n",
    "ax.set_ylabel('Pressure, MPa',fontsize=24)\n",
    "ax.set_xlabel('HFC-32 Mole Fraction',fontsize=24)\n",
    "\n",
    "ax.set_xticks([0.0, 0.2, 0.4, 0.6, 0.8, 1.0])\n",
    "ax.set_xticks([0.1, 0.3, 0.5, 0.7, 0.9],minor=True)\n",
    "ax.set_yticks([0.0, 0.2, 0.4, 0.6, 0.8, 1.0, 1.2])\n",
    "ax.set_yticks([0.1, 0.3, 0.5, 0.7, 0.9, 1.1],minor=True)\n",
    "\n",
    "ax.tick_params(\"both\", direction=\"in\", which=\"both\", length=4, labelsize=20, pad=10)\n",
    "ax.tick_params(\"both\", which=\"major\", length=8)\n",
    "ax.xaxis.set_ticks_position(\"both\")\n",
    "ax.yaxis.set_ticks_position(\"both\")\n",
    "\n",
    "ax.legend(fontsize=12, handletextpad=0.00, loc=\"lower right\")#, bbox_to_anchor=(1, 0.5))\n",
    "fig.savefig('R32-emimTF2N-data.pdf',bbox_inches='tight')\n",
    "plt.show()"
   ]
  },
  {
   "cell_type": "markdown",
   "id": "swiss-sphere",
   "metadata": {},
   "source": [
    "## Load Configuration + Check DOF + Load Parameters"
   ]
  },
  {
   "cell_type": "code",
   "execution_count": 4,
   "id": "40a18350",
   "metadata": {},
   "outputs": [],
   "source": [
    "lhs_results1 = pd.read_csv('../Data/Fits/LHS_Fits/PR_noTdep_LHS.csv',index_col=0)\n",
    "lhs_results1 = lhs_results1[['sc_param1','sc_param2','SSR']]\n",
    "lhs_results2 = pd.read_csv('Data/Init_Final/LHS_Output/PR_noTdep_LHS_final.csv',index_col=0)\n",
    "lhs_results2 = lhs_results2[['sc_param1','sc_param2','SSR']]\n",
    "lhs_results = pd.concat([lhs_results1,lhs_results2],axis=0).reset_index(drop=True)"
   ]
  },
  {
   "cell_type": "code",
   "execution_count": 5,
   "id": "32830975",
   "metadata": {},
   "outputs": [
    {
     "data": {
      "text/html": [
       "<div>\n",
       "<style scoped>\n",
       "    .dataframe tbody tr th:only-of-type {\n",
       "        vertical-align: middle;\n",
       "    }\n",
       "\n",
       "    .dataframe tbody tr th {\n",
       "        vertical-align: top;\n",
       "    }\n",
       "\n",
       "    .dataframe thead th {\n",
       "        text-align: right;\n",
       "    }\n",
       "</style>\n",
       "<table border=\"1\" class=\"dataframe\">\n",
       "  <thead>\n",
       "    <tr style=\"text-align: right;\">\n",
       "      <th></th>\n",
       "      <th>sc_param1</th>\n",
       "      <th>sc_param2</th>\n",
       "      <th>SSR</th>\n",
       "    </tr>\n",
       "  </thead>\n",
       "  <tbody>\n",
       "    <tr>\n",
       "      <th>51</th>\n",
       "      <td>-0.217418</td>\n",
       "      <td>-0.082728</td>\n",
       "      <td>0.652664</td>\n",
       "    </tr>\n",
       "    <tr>\n",
       "      <th>78</th>\n",
       "      <td>-0.294291</td>\n",
       "      <td>-0.085820</td>\n",
       "      <td>0.652664</td>\n",
       "    </tr>\n",
       "    <tr>\n",
       "      <th>664</th>\n",
       "      <td>-0.545594</td>\n",
       "      <td>-0.077784</td>\n",
       "      <td>0.870525</td>\n",
       "    </tr>\n",
       "    <tr>\n",
       "      <th>688</th>\n",
       "      <td>0.690192</td>\n",
       "      <td>0.057419</td>\n",
       "      <td>11.445208</td>\n",
       "    </tr>\n",
       "    <tr>\n",
       "      <th>825</th>\n",
       "      <td>0.071151</td>\n",
       "      <td>0.025815</td>\n",
       "      <td>12.154741</td>\n",
       "    </tr>\n",
       "    <tr>\n",
       "      <th>957</th>\n",
       "      <td>-0.280031</td>\n",
       "      <td>-0.064855</td>\n",
       "      <td>0.652664</td>\n",
       "    </tr>\n",
       "    <tr>\n",
       "      <th>1958</th>\n",
       "      <td>0.536221</td>\n",
       "      <td>0.060693</td>\n",
       "      <td>11.616880</td>\n",
       "    </tr>\n",
       "    <tr>\n",
       "      <th>2229</th>\n",
       "      <td>-0.417981</td>\n",
       "      <td>-0.059876</td>\n",
       "      <td>2.755627</td>\n",
       "    </tr>\n",
       "    <tr>\n",
       "      <th>2572</th>\n",
       "      <td>-0.349454</td>\n",
       "      <td>-0.074959</td>\n",
       "      <td>0.652664</td>\n",
       "    </tr>\n",
       "    <tr>\n",
       "      <th>2683</th>\n",
       "      <td>0.284756</td>\n",
       "      <td>0.047869</td>\n",
       "      <td>12.052790</td>\n",
       "    </tr>\n",
       "    <tr>\n",
       "      <th>3308</th>\n",
       "      <td>-0.301591</td>\n",
       "      <td>-0.094947</td>\n",
       "      <td>0.652664</td>\n",
       "    </tr>\n",
       "    <tr>\n",
       "      <th>3456</th>\n",
       "      <td>-0.114423</td>\n",
       "      <td>-0.010428</td>\n",
       "      <td>11.445205</td>\n",
       "    </tr>\n",
       "    <tr>\n",
       "      <th>3912</th>\n",
       "      <td>-0.344180</td>\n",
       "      <td>-0.090998</td>\n",
       "      <td>0.652664</td>\n",
       "    </tr>\n",
       "    <tr>\n",
       "      <th>4049</th>\n",
       "      <td>-0.098809</td>\n",
       "      <td>-0.019783</td>\n",
       "      <td>11.147713</td>\n",
       "    </tr>\n",
       "    <tr>\n",
       "      <th>4134</th>\n",
       "      <td>0.016818</td>\n",
       "      <td>0.050890</td>\n",
       "      <td>11.871305</td>\n",
       "    </tr>\n",
       "    <tr>\n",
       "      <th>4377</th>\n",
       "      <td>-0.186208</td>\n",
       "      <td>-0.037378</td>\n",
       "      <td>5.276421</td>\n",
       "    </tr>\n",
       "    <tr>\n",
       "      <th>4444</th>\n",
       "      <td>-0.037005</td>\n",
       "      <td>-0.002965</td>\n",
       "      <td>12.255712</td>\n",
       "    </tr>\n",
       "    <tr>\n",
       "      <th>4782</th>\n",
       "      <td>-0.202906</td>\n",
       "      <td>-0.006323</td>\n",
       "      <td>11.611505</td>\n",
       "    </tr>\n",
       "    <tr>\n",
       "      <th>4993</th>\n",
       "      <td>-0.043280</td>\n",
       "      <td>-0.018732</td>\n",
       "      <td>6.924927</td>\n",
       "    </tr>\n",
       "    <tr>\n",
       "      <th>5208</th>\n",
       "      <td>-0.027006</td>\n",
       "      <td>0.021498</td>\n",
       "      <td>11.897676</td>\n",
       "    </tr>\n",
       "  </tbody>\n",
       "</table>\n",
       "</div>"
      ],
      "text/plain": [
       "      sc_param1  sc_param2        SSR\n",
       "51    -0.217418  -0.082728   0.652664\n",
       "78    -0.294291  -0.085820   0.652664\n",
       "664   -0.545594  -0.077784   0.870525\n",
       "688    0.690192   0.057419  11.445208\n",
       "825    0.071151   0.025815  12.154741\n",
       "957   -0.280031  -0.064855   0.652664\n",
       "1958   0.536221   0.060693  11.616880\n",
       "2229  -0.417981  -0.059876   2.755627\n",
       "2572  -0.349454  -0.074959   0.652664\n",
       "2683   0.284756   0.047869  12.052790\n",
       "3308  -0.301591  -0.094947   0.652664\n",
       "3456  -0.114423  -0.010428  11.445205\n",
       "3912  -0.344180  -0.090998   0.652664\n",
       "4049  -0.098809  -0.019783  11.147713\n",
       "4134   0.016818   0.050890  11.871305\n",
       "4377  -0.186208  -0.037378   5.276421\n",
       "4444  -0.037005  -0.002965  12.255712\n",
       "4782  -0.202906  -0.006323  11.611505\n",
       "4993  -0.043280  -0.018732   6.924927\n",
       "5208  -0.027006   0.021498  11.897676"
      ]
     },
     "execution_count": 5,
     "metadata": {},
     "output_type": "execute_result"
    }
   ],
   "source": [
    "lhs_results.dropna(axis=0)"
   ]
  },
  {
   "cell_type": "code",
   "execution_count": 6,
   "id": "a6f41ff7",
   "metadata": {},
   "outputs": [
    {
     "data": {
      "text/html": [
       "<div>\n",
       "<style scoped>\n",
       "    .dataframe tbody tr th:only-of-type {\n",
       "        vertical-align: middle;\n",
       "    }\n",
       "\n",
       "    .dataframe tbody tr th {\n",
       "        vertical-align: top;\n",
       "    }\n",
       "\n",
       "    .dataframe thead th {\n",
       "        text-align: right;\n",
       "    }\n",
       "</style>\n",
       "<table border=\"1\" class=\"dataframe\">\n",
       "  <thead>\n",
       "    <tr style=\"text-align: right;\">\n",
       "      <th></th>\n",
       "      <th>sc_param1</th>\n",
       "      <th>sc_param2</th>\n",
       "      <th>SSR</th>\n",
       "    </tr>\n",
       "  </thead>\n",
       "  <tbody>\n",
       "    <tr>\n",
       "      <th>78</th>\n",
       "      <td>-0.294291</td>\n",
       "      <td>-0.08582</td>\n",
       "      <td>0.652664</td>\n",
       "    </tr>\n",
       "  </tbody>\n",
       "</table>\n",
       "</div>"
      ],
      "text/plain": [
       "    sc_param1  sc_param2       SSR\n",
       "78  -0.294291   -0.08582  0.652664"
      ]
     },
     "execution_count": 6,
     "metadata": {},
     "output_type": "execute_result"
    }
   ],
   "source": [
    "lhs_best = lhs_results[lhs_results.SSR == lhs_results.SSR.min()]\n",
    "lhs_best"
   ]
  },
  {
   "cell_type": "code",
   "execution_count": 7,
   "id": "866f1f71",
   "metadata": {},
   "outputs": [],
   "source": [
    "sc_param1 = lhs_results.at[78, 'sc_param1']\n",
    "sc_param2 = lhs_results.at[78, 'sc_param2']"
   ]
  },
  {
   "cell_type": "code",
   "execution_count": 8,
   "id": "independent-layout",
   "metadata": {},
   "outputs": [],
   "source": [
    "from hfc32_emimtf2n_PR import configuration "
   ]
  },
  {
   "cell_type": "code",
   "execution_count": 9,
   "id": "featured-nicholas",
   "metadata": {},
   "outputs": [
    {
     "name": "stdout",
     "output_type": "stream",
     "text": [
      "The initial DOF is 7\n"
     ]
    }
   ],
   "source": [
    "m = ConcreteModel()\n",
    "m.fs = FlowsheetBlock(default={\"dynamic\": False})\n",
    "m.fs.properties = GenericParameterBlock(default=configuration)\n",
    "m.fs.F101 = Flash(default={\"property_package\": m.fs.properties,\n",
    "                           \"has_heat_transfer\": True,\n",
    "                           \"has_pressure_change\": True})\n",
    "DOF_initial = degrees_of_freedom(m)\n",
    "print('The initial DOF is {0}'.format(DOF_initial))"
   ]
  },
  {
   "cell_type": "markdown",
   "id": "veterinary-first",
   "metadata": {},
   "source": [
    "## Fit Parameters"
   ]
  },
  {
   "cell_type": "markdown",
   "id": "453eb558",
   "metadata": {},
   "source": [
    "## Apply Parameters + Plot"
   ]
  },
  {
   "cell_type": "code",
   "execution_count": 10,
   "id": "15cabef0",
   "metadata": {},
   "outputs": [
    {
     "name": "stdout",
     "output_type": "stream",
     "text": [
      "2022-10-13 16:43:39 [INFO] idaes.init.fs.state_block: Property package initialization: optimal - Optimal Solution Found.\n",
      "2022-10-13 16:43:39 [INFO] idaes.init.fs.state_block: Property package initialization: optimal - Optimal Solution Found.\n",
      "2022-10-13 16:43:39 [INFO] idaes.init.fs.state_block: Property package initialization: optimal - Optimal Solution Found.\n",
      "2022-10-13 16:43:40 [INFO] idaes.init.fs.state_block: Property package initialization: optimal - Optimal Solution Found.\n",
      "2022-10-13 16:43:40 [INFO] idaes.init.fs.state_block: Property package initialization: optimal - Optimal Solution Found.\n",
      "2022-10-13 16:43:41 [INFO] idaes.init.fs.state_block: Property package initialization: optimal - Optimal Solution Found.\n",
      "2022-10-13 16:43:41 [INFO] idaes.init.fs.state_block: Property package initialization: optimal - Optimal Solution Found.\n",
      "2022-10-13 16:43:42 [INFO] idaes.init.fs.state_block: Property package initialization: optimal - Optimal Solution Found.\n",
      "2022-10-13 16:43:42 [INFO] idaes.init.fs.state_block: Property package initialization: optimal - Optimal Solution Found.\n",
      "2022-10-13 16:43:42 [INFO] idaes.init.fs.state_block: Property package initialization: optimal - Optimal Solution Found.\n",
      "2022-10-13 16:43:43 [INFO] idaes.init.fs.state_block: Property package initialization: optimal - Optimal Solution Found.\n",
      "2022-10-13 16:43:43 [INFO] idaes.init.fs.state_block: Property package initialization: optimal - Optimal Solution Found.\n",
      "2022-10-13 16:43:44 [INFO] idaes.init.fs.state_block: Property package initialization: optimal - Optimal Solution Found.\n",
      "2022-10-13 16:43:44 [INFO] idaes.init.fs.state_block: Property package initialization: optimal - Optimal Solution Found.\n",
      "2022-10-13 16:43:44 [INFO] idaes.init.fs.state_block: Property package initialization: optimal - Optimal Solution Found.\n",
      "2022-10-13 16:43:45 [INFO] idaes.init.fs.state_block: Property package initialization: optimal - Optimal Solution Found.\n",
      "2022-10-13 16:43:45 [INFO] idaes.init.fs.state_block: Property package initialization: optimal - Optimal Solution Found.\n",
      "2022-10-13 16:43:46 [INFO] idaes.init.fs.state_block: Property package initialization: optimal - Optimal Solution Found.\n",
      "2022-10-13 16:43:46 [INFO] idaes.init.fs.state_block: Property package initialization: optimal - Optimal Solution Found.\n",
      "2022-10-13 16:43:46 [INFO] idaes.init.fs.state_block: Property package initialization: optimal - Optimal Solution Found.\n",
      "2022-10-13 16:43:47 [INFO] idaes.init.fs.state_block: Property package initialization: optimal - Optimal Solution Found.\n",
      "2022-10-13 16:43:47 [INFO] idaes.init.fs.state_block: Property package initialization: optimal - Optimal Solution Found.\n",
      "2022-10-13 16:43:47 [INFO] idaes.init.fs.state_block: Property package initialization: optimal - Optimal Solution Found.\n",
      "2022-10-13 16:43:48 [INFO] idaes.init.fs.state_block: Property package initialization: optimal - Optimal Solution Found.\n",
      "2022-10-13 16:43:48 [INFO] idaes.init.fs.state_block: Property package initialization: optimal - Optimal Solution Found.\n",
      "2022-10-13 16:43:49 [INFO] idaes.init.fs.state_block: Property package initialization: optimal - Optimal Solution Found.\n",
      "2022-10-13 16:43:49 [INFO] idaes.init.fs.state_block: Property package initialization: optimal - Optimal Solution Found.\n",
      "WARNING: The current pynumero_ASL library is version=2, but found version=1.\n",
      "    Please recompile / update your pynumero_ASL library.\n"
     ]
    },
    {
     "name": "stderr",
     "output_type": "stream",
     "text": [
      "/Users/bridgettebefort/opt/anaconda3/envs/idaes-pse-dev/lib/python3.9/site-packages/pyomo/contrib/interior_point/interface.py:418: RuntimeWarning: divide by zero encountered in true_divide\n",
      "  data = (duals_primals_lb/(primals - self._nlp.primals_lb()) +\n"
     ]
    }
   ],
   "source": [
    "parameters, obj_value, a = constant(data_subset, configuration, 'R32', 'emimTf2N', \"x_R32\", \"x_emimTf2N\", \n",
    "        init_temp =  283.1, init_press =   399300 , init_x_c1 =    0.448, init_x_c2 = 0.552,\n",
    "        init_kappa_A_2_1 = sc_param1, init_kappa_A_1_2 = sc_param2, \n",
    "        eps = 0.1, scaling_fac = 1e-9 , read=False, \n",
    "        filename='Data/Fits/Ipopt_Output/PR_noTdep_final.txt')"
   ]
  },
  {
   "cell_type": "code",
   "execution_count": 11,
   "id": "collect-amount",
   "metadata": {},
   "outputs": [
    {
     "name": "stdout",
     "output_type": "stream",
     "text": [
      "Objective (SSE): 0.6526637302427074\n"
     ]
    }
   ],
   "source": [
    "print('Objective (SSE):',obj_value)"
   ]
  },
  {
   "cell_type": "code",
   "execution_count": 12,
   "id": "5cf32852",
   "metadata": {},
   "outputs": [
    {
     "name": "stdout",
     "output_type": "stream",
     "text": [
      "Parameters: fs.properties.PR_kappa_A[emimTf2N,R32]   -0.200947\n",
      "fs.properties.PR_kappa_A[R32,emimTf2N]   -0.056196\n",
      "dtype: float64\n"
     ]
    }
   ],
   "source": [
    "print('Parameters:',parameters)"
   ]
  },
  {
   "cell_type": "code",
   "execution_count": 13,
   "id": "bce7870f",
   "metadata": {},
   "outputs": [],
   "source": [
    "params2save = np.zeros(8)\n",
    "params2save[0] = parameters[1]\n",
    "params2save[1] = parameters[0]"
   ]
  },
  {
   "cell_type": "code",
   "execution_count": 14,
   "id": "2cb2b150",
   "metadata": {},
   "outputs": [],
   "source": [
    "np.savetxt('Data/Fits/PR_params_noTdep.csv',params2save,delimiter=',')"
   ]
  },
  {
   "cell_type": "code",
   "execution_count": 15,
   "id": "fewer-madonna",
   "metadata": {},
   "outputs": [
    {
     "name": "stdout",
     "output_type": "stream",
     "text": [
      "Covariance Matrix:\n",
      "[[3.66990409e-04 3.31181344e-05]\n",
      " [3.31181344e-05 4.59347392e-06]]\n"
     ]
    }
   ],
   "source": [
    "cov = np.array(a)\n",
    "print('Covariance Matrix:')\n",
    "print(cov)"
   ]
  },
  {
   "cell_type": "code",
   "execution_count": 16,
   "id": "82565267",
   "metadata": {},
   "outputs": [],
   "source": [
    "np.savetxt('Data/Covariance/PR_Cov_noTdep.csv',cov,delimiter=',')"
   ]
  },
  {
   "cell_type": "markdown",
   "id": "884da893",
   "metadata": {},
   "source": [
    "## Apply Parameters + Plot"
   ]
  },
  {
   "cell_type": "code",
   "execution_count": 17,
   "id": "homeless-banana",
   "metadata": {},
   "outputs": [],
   "source": [
    "solver = SolverFactory('ipopt')\n",
    "solver.options = {'tol': 1e-6}"
   ]
  },
  {
   "cell_type": "code",
   "execution_count": 18,
   "id": "historical-spice",
   "metadata": {},
   "outputs": [
    {
     "name": "stdout",
     "output_type": "stream",
     "text": [
      "i: 0\n",
      "Try x_IL: 0.975\n",
      "Feasible/Optimal Solution\n",
      "i: 1\n",
      "Try x_IL: 0.95\n",
      "Feasible/Optimal Solution\n",
      "i: 2\n",
      "Try x_IL: 0.925\n",
      "Feasible/Optimal Solution\n",
      "i: 3\n",
      "Try x_IL: 0.9\n",
      "Feasible/Optimal Solution\n",
      "i: 4\n",
      "Try x_IL: 0.875\n",
      "Feasible/Optimal Solution\n",
      "i: 5\n",
      "Try x_IL: 0.864\n",
      "Feasible/Optimal Solution\n",
      "i: 6\n",
      "Try x_IL: 0.85\n",
      "Feasible/Optimal Solution\n",
      "i: 7\n",
      "Try x_IL: 0.825\n",
      "Feasible/Optimal Solution\n",
      "i: 8\n",
      "Try x_IL: 0.8\n",
      "Feasible/Optimal Solution\n",
      "i: 9\n",
      "Try x_IL: 0.775\n",
      "Feasible/Optimal Solution\n",
      "i: 10\n",
      "Try x_IL: 0.75\n",
      "Feasible/Optimal Solution\n",
      "i: 11\n",
      "Try x_IL: 0.725\n",
      "Feasible/Optimal Solution\n",
      "i: 12\n",
      "Try x_IL: 0.7\n",
      "Feasible/Optimal Solution\n",
      "i: 13\n",
      "Try x_IL: 0.694\n",
      "Feasible/Optimal Solution\n",
      "i: 14\n",
      "Try x_IL: 0.675\n",
      "Feasible/Optimal Solution\n",
      "i: 15\n",
      "Try x_IL: 0.65\n",
      "Feasible/Optimal Solution\n",
      "i: 16\n",
      "Try x_IL: 0.625\n",
      "Feasible/Optimal Solution\n",
      "i: 17\n",
      "Try x_IL: 0.6\n",
      "Feasible/Optimal Solution\n",
      "i: 18\n",
      "Try x_IL: 0.575\n",
      "Feasible/Optimal Solution\n",
      "i: 19\n",
      "Try x_IL: 0.552\n",
      "Feasible/Optimal Solution\n",
      "i: 20\n",
      "Try x_IL: 0.55\n",
      "Feasible/Optimal Solution\n",
      "i: 21\n",
      "Try x_IL: 0.525\n",
      "Feasible/Optimal Solution\n",
      "i: 22\n",
      "Try x_IL: 0.5\n",
      "Feasible/Optimal Solution\n",
      "i: 23\n",
      "Try x_IL: 0.475\n",
      "Feasible/Optimal Solution\n",
      "i: 24\n",
      "Try x_IL: 0.45\n",
      "Feasible/Optimal Solution\n",
      "i: 25\n",
      "Try x_IL: 0.43\n",
      "Feasible/Optimal Solution\n",
      "i: 26\n",
      "Try x_IL: 0.425\n",
      "Feasible/Optimal Solution\n",
      "i: 27\n",
      "Try x_IL: 0.4\n",
      "Feasible/Optimal Solution\n",
      "i: 28\n",
      "Try x_IL: 0.375\n",
      "Feasible/Optimal Solution\n",
      "i: 29\n",
      "Try x_IL: 0.35\n",
      "Feasible/Optimal Solution\n",
      "i: 30\n",
      "Try x_IL: 0.328\n",
      "Feasible/Optimal Solution\n",
      "i: 31\n",
      "Try x_IL: 0.325\n",
      "Feasible/Optimal Solution\n",
      "i: 32\n",
      "Try x_IL: 0.3\n",
      "Feasible/Optimal Solution\n",
      "i: 33\n",
      "Try x_IL: 0.275\n",
      "Feasible/Optimal Solution\n",
      "i: 34\n",
      "Try x_IL: 0.25\n",
      "Feasible/Optimal Solution\n",
      "i: 35\n",
      "Try x_IL: 0.214\n",
      "Feasible/Optimal Solution\n",
      "i: 36\n",
      "Try x_IL: 0.975\n",
      "Feasible/Optimal Solution\n",
      "i: 37\n",
      "Try x_IL: 0.95\n",
      "Feasible/Optimal Solution\n",
      "i: 38\n",
      "Try x_IL: 0.925\n",
      "Feasible/Optimal Solution\n",
      "i: 39\n",
      "Try x_IL: 0.905\n",
      "Feasible/Optimal Solution\n",
      "i: 40\n",
      "Try x_IL: 0.9\n",
      "Feasible/Optimal Solution\n",
      "i: 41\n",
      "Try x_IL: 0.875\n",
      "Feasible/Optimal Solution\n",
      "i: 42\n",
      "Try x_IL: 0.85\n",
      "Feasible/Optimal Solution\n",
      "i: 43\n",
      "Try x_IL: 0.825\n",
      "Feasible/Optimal Solution\n",
      "i: 44\n",
      "Try x_IL: 0.8\n",
      "Feasible/Optimal Solution\n",
      "i: 45\n",
      "Try x_IL: 0.782\n",
      "Feasible/Optimal Solution\n",
      "i: 46\n",
      "Try x_IL: 0.775\n",
      "Feasible/Optimal Solution\n",
      "i: 47\n",
      "Try x_IL: 0.75\n",
      "Feasible/Optimal Solution\n",
      "i: 48\n",
      "Try x_IL: 0.725\n",
      "Feasible/Optimal Solution\n",
      "i: 49\n",
      "Try x_IL: 0.7\n",
      "Feasible/Optimal Solution\n",
      "i: 50\n",
      "Try x_IL: 0.675\n",
      "Feasible/Optimal Solution\n",
      "i: 51\n",
      "Try x_IL: 0.65\n",
      "Feasible/Optimal Solution\n",
      "i: 52\n",
      "Try x_IL: 0.625\n",
      "Feasible/Optimal Solution\n",
      "i: 53\n",
      "Try x_IL: 0.6\n",
      "Feasible/Optimal Solution\n",
      "i: 54\n",
      "Try x_IL: 0.583\n",
      "Feasible/Optimal Solution\n",
      "i: 55\n",
      "Try x_IL: 0.575\n",
      "Feasible/Optimal Solution\n",
      "i: 56\n",
      "Try x_IL: 0.55\n",
      "Feasible/Optimal Solution\n",
      "i: 57\n",
      "Try x_IL: 0.525\n",
      "Feasible/Optimal Solution\n",
      "i: 58\n",
      "Try x_IL: 0.501\n",
      "Feasible/Optimal Solution\n",
      "i: 59\n",
      "Try x_IL: 0.5\n",
      "Feasible/Optimal Solution\n",
      "i: 60\n",
      "Try x_IL: 0.475\n",
      "Feasible/Optimal Solution\n",
      "i: 61\n",
      "Try x_IL: 0.45\n",
      "Feasible/Optimal Solution\n",
      "i: 62\n",
      "Try x_IL: 0.43\n",
      "Feasible/Optimal Solution\n",
      "i: 63\n",
      "Try x_IL: 0.425\n",
      "Feasible/Optimal Solution\n",
      "i: 64\n",
      "Try x_IL: 0.4\n",
      "Feasible/Optimal Solution\n",
      "i: 65\n",
      "Try x_IL: 0.375\n",
      "Feasible/Optimal Solution\n",
      "i: 66\n",
      "Try x_IL: 0.357\n",
      "Feasible/Optimal Solution\n",
      "i: 67\n",
      "Try x_IL: 0.975\n",
      "Feasible/Optimal Solution\n",
      "i: 68\n",
      "Try x_IL: 0.95\n",
      "Feasible/Optimal Solution\n",
      "i: 69\n",
      "Try x_IL: 0.945\n",
      "Feasible/Optimal Solution\n",
      "i: 70\n",
      "Try x_IL: 0.925\n",
      "Feasible/Optimal Solution\n",
      "i: 71\n",
      "Try x_IL: 0.9\n",
      "Feasible/Optimal Solution\n",
      "i: 72\n",
      "Try x_IL: 0.875\n",
      "Feasible/Optimal Solution\n",
      "i: 73\n",
      "Try x_IL: 0.867\n",
      "Feasible/Optimal Solution\n",
      "i: 74\n",
      "Try x_IL: 0.85\n",
      "Feasible/Optimal Solution\n",
      "i: 75\n",
      "Try x_IL: 0.825\n",
      "Feasible/Optimal Solution\n",
      "i: 76\n",
      "Try x_IL: 0.8\n",
      "Feasible/Optimal Solution\n",
      "i: 77\n",
      "Try x_IL: 0.775\n",
      "Feasible/Optimal Solution\n",
      "i: 78\n",
      "Try x_IL: 0.75\n",
      "Feasible/Optimal Solution\n",
      "i: 79\n",
      "Try x_IL: 0.736\n",
      "Feasible/Optimal Solution\n",
      "i: 80\n",
      "Try x_IL: 0.725\n",
      "Feasible/Optimal Solution\n",
      "i: 81\n",
      "Try x_IL: 0.7\n",
      "Feasible/Optimal Solution\n",
      "i: 82\n",
      "Try x_IL: 0.68\n",
      "Feasible/Optimal Solution\n",
      "i: 83\n",
      "Try x_IL: 0.675\n",
      "Feasible/Optimal Solution\n",
      "i: 84\n",
      "Try x_IL: 0.65\n",
      "Feasible/Optimal Solution\n",
      "i: 85\n",
      "Try x_IL: 0.632\n",
      "Feasible/Optimal Solution\n",
      "i: 86\n",
      "Try x_IL: 0.625\n",
      "Feasible/Optimal Solution\n",
      "i: 87\n",
      "Try x_IL: 0.6\n",
      "Feasible/Optimal Solution\n",
      "i: 88\n",
      "Try x_IL: 0.583\n",
      "Feasible/Optimal Solution\n",
      "i: 89\n",
      "Try x_IL: 0.975\n",
      "Feasible/Optimal Solution\n",
      "i: 90\n",
      "Try x_IL: 0.966\n",
      "Feasible/Optimal Solution\n",
      "i: 91\n",
      "Try x_IL: 0.95\n",
      "Feasible/Optimal Solution\n",
      "i: 92\n",
      "Try x_IL: 0.925\n",
      "Feasible/Optimal Solution\n",
      "i: 93\n",
      "Try x_IL: 0.916\n",
      "Feasible/Optimal Solution\n",
      "i: 94\n",
      "Try x_IL: 0.9\n",
      "Feasible/Optimal Solution\n",
      "i: 95\n",
      "Try x_IL: 0.875\n",
      "Feasible/Optimal Solution\n",
      "i: 96\n",
      "Try x_IL: 0.869\n",
      "Feasible/Optimal Solution\n",
      "i: 97\n",
      "Try x_IL: 0.85\n",
      "Feasible/Optimal Solution\n",
      "i: 98\n",
      "Try x_IL: 0.825\n",
      "Feasible/Optimal Solution\n",
      "i: 99\n",
      "Try x_IL: 0.8\n",
      "Feasible/Optimal Solution\n",
      "i: 100\n",
      "Try x_IL: 0.784\n",
      "Feasible/Optimal Solution\n",
      "i: 101\n",
      "Try x_IL: 0.775\n",
      "Feasible/Optimal Solution\n",
      "i: 102\n",
      "Try x_IL: 0.75\n",
      "Feasible/Optimal Solution\n",
      "i: 103\n",
      "Try x_IL: 0.746\n",
      "Feasible/Optimal Solution\n",
      "i: 104\n",
      "Try x_IL: 0.725\n",
      "Feasible/Optimal Solution\n",
      "i: 105\n",
      "Try x_IL: 0.712\n",
      "Feasible/Optimal Solution\n"
     ]
    }
   ],
   "source": [
    "m = ConcreteModel()\n",
    "\n",
    "m.fs = FlowsheetBlock(default={\"dynamic\": False})\n",
    "\n",
    "m.fs.properties = GenericParameterBlock(default=configuration)\n",
    "\n",
    "m.fs.F101 = Flash(default={\"property_package\": m.fs.properties,\n",
    "                           \"has_heat_transfer\": True,\n",
    "                           \"has_pressure_change\": True})\n",
    "\n",
    "m.fs.F101.inlet.flow_mol.fix(1)\n",
    "m.fs.F101.inlet.temperature.fix(323.15)\n",
    "m.fs.F101.inlet.pressure.fix(399800)\n",
    "m.fs.F101.inlet.mole_frac_comp[0,'R32'].fix(0.5)\n",
    "\n",
    "m.fs.properties.PR_kappa_A['R32','emimTf2N'] = parameters['fs.properties.PR_kappa_A[R32,emimTf2N]']\n",
    "m.fs.properties.PR_kappa_A['emimTf2N','R32'] = parameters['fs.properties.PR_kappa_A[emimTf2N,R32]']\n",
    "\n",
    "# Initialize the flash unit\n",
    "m.fs.F101.initialize(outlvl=idaeslog.CRITICAL)\n",
    "\n",
    "# Fix the state variables on the state block\n",
    "# m.fs.F101.inlet.pressure.unfix()\n",
    "m.fs.F101.inlet.mole_frac_comp[0,'emimTf2N'].unfix()\n",
    "\n",
    "R32_x = np.zeros((len(data_extended)))\n",
    "P = np.zeros((len(data_extended)))\n",
    "T = np.zeros((len(data_extended)))\n",
    "\n",
    "m.fs.liq = Param(mutable=True,default=0.040)\n",
    "m.fs.liquid = Constraint(expr=m.fs.F101.liq_outlet.mole_frac_comp[0, \"emimTf2N\"] == m.fs.liq)\n",
    "\n",
    "for i in range(len(data_extended)):\n",
    "    print('i:',i)\n",
    "    print('Try x_IL:',data_extended[\"x_emimTf2N\"].iloc[i])\n",
    "    m.fs.liq = data_extended[\"x_emimTf2N\"].iloc[i]\n",
    "    m.fs.F101.inlet.temperature.fix(float(data_extended[\"temperature\"].iloc[i]))\n",
    "    m.fs.F101.inlet.pressure.fix(float(data_extended[\"pressure\"].iloc[i]))\n",
    "    m.fs.F101.inlet.mole_frac_comp[0,'R32'].fix(float(data_extended[\"x_R32\"].iloc[i])+0.1)\n",
    "    m.fs.F101.inlet.mole_frac_comp[0,'emimTf2N'].fix(float(1-(data_extended[\"x_R32\"].iloc[i]+0.1)))\n",
    "    m.fs.F101.vap_outlet.temperature.fix(float(data_extended[\"temperature\"].iloc[i]))\n",
    "    \n",
    "    try:\n",
    "        m.fs.F101.initialize(outlvl=idaeslog.CRITICAL)\n",
    "        \n",
    "    except:\n",
    "        print('Initialization Error')\n",
    "        \n",
    "    try:\n",
    "        \n",
    "        status = solver.solve(m, tee = False)\n",
    "\n",
    "        if (status.solver.status == SolverStatus.ok) and (status.solver.termination_condition == TerminationCondition.optimal):\n",
    "            print('Feasible/Optimal Solution')\n",
    "            R32_x[i] = value(m.fs.F101.liq_outlet.mole_frac_comp[0,'R32']) \n",
    "            P[i] = value(m.fs.F101.vap_outlet.pressure[0])\n",
    "            T[i] = data_extended[\"temperature\"].iloc[i]\n",
    "        else:\n",
    "            print('Infeasible Solution')\n",
    "            R32_x[i] = np.nan\n",
    "            P[i] = np.nan\n",
    "            T[i] = data_extended[\"temperature\"].iloc[i]\n",
    "\n",
    "    except ValueError:\n",
    "        R32_x[i] = np.nan\n",
    "        P[i] = np.nan\n",
    "        T[i] = data_extended[\"temperature\"].iloc[i]\n",
    "        print('Solver Error')"
   ]
  },
  {
   "cell_type": "code",
   "execution_count": 19,
   "id": "fde93e5f",
   "metadata": {},
   "outputs": [],
   "source": [
    "fitted_data = pd.DataFrame(data=[R32_x,P/1e6,T])\n",
    "fitted_data = fitted_data.T\n",
    "fitted_data.columns = ['R32_x','P, MPa','T, K']\n",
    "fitted_data.to_csv('Data/Fits/PR_FittedData_noTdep.csv')"
   ]
  },
  {
   "cell_type": "code",
   "execution_count": 20,
   "id": "helpful-powell",
   "metadata": {},
   "outputs": [
    {
     "data": {
      "image/png": "[encoded data removed]",
      "text/plain": [
       "<Figure size 432x288 with 1 Axes>"
      ]
     },
     "metadata": {
      "needs_background": "light"
     },
     "output_type": "display_data"
    }
   ],
   "source": [
    "plt.plot(fitted_data.where(fitted_data['T, K']==283.15)['R32_x'],fitted_data.where(fitted_data['T, K']==283.15)['P, MPa'],\"b-\",label='T=283 K')\n",
    "plt.plot(fitted_data.where(fitted_data['T, K']==298.15)['R32_x'],fitted_data.where(fitted_data['T, K']==298.15)['P, MPa'],\"r-\",label='T=298 K')\n",
    "plt.plot(fitted_data.where(fitted_data['T, K']==323.15)['R32_x'],fitted_data.where(fitted_data['T, K']==323.15)['P, MPa'],\"c-\",label='T=323 K')\n",
    "plt.plot(fitted_data.where(fitted_data['T, K']==348.05)['R32_x'],fitted_data.where(fitted_data['T, K']==348.05)['P, MPa'],\"m-\",label='T=348 K')\n",
    "plt.plot(data_full[\"x_R32\"],data_full[\"pressure\"]/1e6,\"*\",color='orange',label=\"data\")  \n",
    "plt.title('Isotherm R32-[emim][TF2N]')\n",
    "plt.ylabel('Pressure (MPa)')\n",
    "plt.xlabel('x R32')\n",
    "plt.grid(True)\n",
    "plt.ylim(0,1.110000)\n",
    "plt.legend()\n",
    "plt.show()"
   ]
  },
  {
   "cell_type": "markdown",
   "id": "present-tulsa",
   "metadata": {},
   "source": [
    "### Print Eigvals, Eigvectors of Covariance\n",
    "\n",
    "An identifiability analysis can be performed with these as well as a FIM because the covariance matrix is the inverse of the FIM. That means that if there are any eigvals >> 0, their eigvecs indicate directions of un-identifiability."
   ]
  },
  {
   "cell_type": "code",
   "execution_count": 21,
   "id": "associate-retreat",
   "metadata": {},
   "outputs": [],
   "source": [
    "eigvals, eigvecs = np.linalg.eig(cov)"
   ]
  },
  {
   "cell_type": "code",
   "execution_count": 22,
   "id": "genuine-lucas",
   "metadata": {},
   "outputs": [
    {
     "data": {
      "text/plain": [
       "array([3.69992092e-04, 1.59179092e-06])"
      ]
     },
     "execution_count": 22,
     "metadata": {},
     "output_type": "execute_result"
    }
   ],
   "source": [
    "eigvals"
   ]
  },
  {
   "cell_type": "code",
   "execution_count": 23,
   "id": "historic-outside",
   "metadata": {},
   "outputs": [
    {
     "data": {
      "text/plain": [
       "array([[ 0.99591773, -0.09026563],\n",
       "       [ 0.09026563,  0.99591773]])"
      ]
     },
     "execution_count": 23,
     "metadata": {},
     "output_type": "execute_result"
    }
   ],
   "source": [
    "eigvecs"
   ]
  },
  {
   "cell_type": "code",
   "execution_count": null,
   "id": "04f61538",
   "metadata": {},
   "outputs": [],
   "source": [
    "np.savetxt('Data/EigenAnalysis/PR_vals_noTdep.csv',eigvals,delimiter=',')\n",
    "np.savetxt('Data/EigenAnalysis/PR_vecs_noTdep.csv',eigvecs,delimiter=',')"
   ]
  },
  {
   "cell_type": "code",
   "execution_count": null,
   "id": "44b5322a",
   "metadata": {},
   "outputs": [],
   "source": [
    "FIM = np.linalg.inv(cov) \n",
    "\n",
    "#A_opt\n",
    "FIM_trace = np.trace(FIM)\n",
    "cov_trace = np.trace(cov)\n",
    "\n",
    "#D_opt\n",
    "FIM_det = np.linalg.det(FIM)\n",
    "\n",
    "#E_opt\n",
    "eigvals_FIM, eigvecs_FIM = np.linalg.eig(FIM)\n",
    "eigvals_FIM_min = eigvals_FIM.min()\n",
    "eigvals_FIM_max = eigvals_FIM.max()\n",
    "\n",
    "np.savetxt('Data/EigenAnalysis/PR_FIMtrdet_noTdep.csv',[cov_trace,FIM_trace,FIM_det,eigvals_FIM_min,eigvals_FIM_max])\n",
    "np.savetxt('Data/EigenAnalysis/PR_FIMvals_noTdep.csv',eigvals_FIM,delimiter=',')\n",
    "np.savetxt('Data/EigenAnalysis/PR_FIMvecs_noTdep.csv',eigvecs_FIM,delimiter=',')"
   ]
  },
  {
   "cell_type": "markdown",
   "id": "capital-declaration",
   "metadata": {},
   "source": [
    "## AIC Value\n",
    "\n",
    "See: https://doi.org/10.1080/21642583.2018.1496042\n",
    "\n",
    "AIC(k) = Nln(MSE(k))+2k\n",
    "\n",
    "N: number of data points\n",
    "\n",
    "MSE(k): mean squared error of the model with k parameters\n",
    "\n",
    "k: number of parameters\n",
    "\n",
    "MSE(k) = SSE(k)/N\n",
    "\n",
    "SSE: sum of squared error of the model with k parameters"
   ]
  },
  {
   "cell_type": "code",
   "execution_count": null,
   "id": "e0601fdd",
   "metadata": {},
   "outputs": [],
   "source": [
    "#number of datapoints\n",
    "N = len(data_subset)\n",
    "#MSE(k)\n",
    "MSE = obj_value/N\n",
    "#number of parameters\n",
    "k = 2"
   ]
  },
  {
   "cell_type": "code",
   "execution_count": null,
   "id": "banner-clearing",
   "metadata": {},
   "outputs": [],
   "source": [
    "AIC = N*np.log(MSE) + 2*k\n",
    "AIC"
   ]
  },
  {
   "cell_type": "code",
   "execution_count": null,
   "id": "damaged-triangle",
   "metadata": {},
   "outputs": [],
   "source": [
    "AIC_data = pd.DataFrame(data=[N,MSE,k,obj_value,AIC])\n",
    "AIC_data = AIC_data.T\n",
    "AIC_data.columns = ['N','MSE','k','Objective, Pa^2','AIC']\n",
    "AIC_data.to_csv('Data/AIC/PR_AIC_noTdep.csv')"
   ]
  },
  {
   "cell_type": "code",
   "execution_count": null,
   "id": "040d52c8",
   "metadata": {},
   "outputs": [],
   "source": []
  }
 ],
 "metadata": {
  "kernelspec": {
   "display_name": "Python 3 (ipykernel)",
   "language": "python",
   "name": "python3"
  },
  "language_info": {
   "codemirror_mode": {
    "name": "ipython",
    "version": 3
   },
   "file_extension": ".py",
   "mimetype": "text/x-python",
   "name": "python",
   "nbconvert_exporter": "python",
   "pygments_lexer": "ipython3",
   "version": "3.9.9"
  }
 },
 "nbformat": 4,
 "nbformat_minor": 5
}
