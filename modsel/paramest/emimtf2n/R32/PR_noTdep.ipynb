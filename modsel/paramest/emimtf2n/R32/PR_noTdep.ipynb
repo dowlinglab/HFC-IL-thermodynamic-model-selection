{
 "cells": [
  {
   "cell_type": "markdown",
   "id": "voluntary-ridge",
   "metadata": {},
   "source": [
    "# Fit emimTF2N data\n",
    "\n",
    "EoS: PR\n",
    "\n",
    "Parameter T dependence: Constant\n",
    "\n",
    "N (total fitting parameters): 2"
   ]
  },
  {
   "cell_type": "markdown",
   "id": "improved-meeting",
   "metadata": {},
   "source": [
    "## Import Functions"
   ]
  },
  {
   "cell_type": "code",
   "execution_count": 1,
   "id": "contained-performance",
   "metadata": {},
   "outputs": [],
   "source": [
    "import idaes\n",
    "\n",
    "import pandas as pd\n",
    "import numpy as np\n",
    "import matplotlib.pyplot as plt\n",
    "import scipy.optimize\n",
    "\n",
    "import sys\n",
    "sys.path.append('../')\n",
    "\n",
    "from pyomo.environ import (Constraint,\n",
    "                           Var,\n",
    "                           ConcreteModel,\n",
    "                           Expression,\n",
    "                           Param,\n",
    "                           Objective,\n",
    "                           SolverFactory,\n",
    "                           TransformationFactory,\n",
    "                           value)\n",
    "from pyomo.opt import TerminationCondition, SolverStatus\n",
    "\n",
    "from idaes.core import FlowsheetBlock\n",
    "import idaes.logger as idaeslog\n",
    "# Import the Generic Parameter Block\n",
    "from idaes.generic_models.properties.core.generic.generic_property import (\n",
    "        GenericParameterBlock)\n",
    "# Import unit models from the model library\n",
    "from idaes.generic_models.unit_models import Flash\n",
    "# Import degrees of freedom tool\n",
    "from idaes.core.util.model_statistics import degrees_of_freedom\n",
    "\n",
    "# parmest (binary_param2)\n",
    "from bip_fitting_functions import constant\n",
    "\n",
    "import scipy.stats as stats\n",
    "\n",
    "from matplotlib.patches import Ellipse\n",
    "import matplotlib.transforms as transforms\n",
    "import matplotlib.patches as mpatches"
   ]
  },
  {
   "cell_type": "markdown",
   "id": "judicial-calculator",
   "metadata": {},
   "source": [
    "## Load Data"
   ]
  },
  {
   "cell_type": "code",
   "execution_count": 2,
   "id": "technological-freeze",
   "metadata": {},
   "outputs": [],
   "source": [
    "data_full = pd.read_csv('r32_emimtf2n_full.csv')\n",
    "data_subset = pd.read_csv('r32_emimtf2n_subset.csv')"
   ]
  },
  {
   "cell_type": "code",
   "execution_count": 3,
   "id": "3e1f182e",
   "metadata": {},
   "outputs": [
    {
     "data": {
      "text/html": [
       "<div>\n",
       "<style scoped>\n",
       "    .dataframe tbody tr th:only-of-type {\n",
       "        vertical-align: middle;\n",
       "    }\n",
       "\n",
       "    .dataframe tbody tr th {\n",
       "        vertical-align: top;\n",
       "    }\n",
       "\n",
       "    .dataframe thead th {\n",
       "        text-align: right;\n",
       "    }\n",
       "</style>\n",
       "<table border=\"1\" class=\"dataframe\">\n",
       "  <thead>\n",
       "    <tr style=\"text-align: right;\">\n",
       "      <th></th>\n",
       "      <th>temperature</th>\n",
       "      <th>pressure</th>\n",
       "      <th>x_R32</th>\n",
       "      <th>x_emimTf2N</th>\n",
       "    </tr>\n",
       "  </thead>\n",
       "  <tbody>\n",
       "    <tr>\n",
       "      <th>0</th>\n",
       "      <td>283.15</td>\n",
       "      <td>10200</td>\n",
       "      <td>0.014</td>\n",
       "      <td>0.986</td>\n",
       "    </tr>\n",
       "    <tr>\n",
       "      <th>1</th>\n",
       "      <td>283.15</td>\n",
       "      <td>100100</td>\n",
       "      <td>0.136</td>\n",
       "      <td>0.864</td>\n",
       "    </tr>\n",
       "    <tr>\n",
       "      <th>2</th>\n",
       "      <td>283.15</td>\n",
       "      <td>250300</td>\n",
       "      <td>0.306</td>\n",
       "      <td>0.694</td>\n",
       "    </tr>\n",
       "    <tr>\n",
       "      <th>3</th>\n",
       "      <td>283.15</td>\n",
       "      <td>399300</td>\n",
       "      <td>0.448</td>\n",
       "      <td>0.552</td>\n",
       "    </tr>\n",
       "    <tr>\n",
       "      <th>4</th>\n",
       "      <td>283.15</td>\n",
       "      <td>549300</td>\n",
       "      <td>0.570</td>\n",
       "      <td>0.430</td>\n",
       "    </tr>\n",
       "    <tr>\n",
       "      <th>5</th>\n",
       "      <td>283.15</td>\n",
       "      <td>700400</td>\n",
       "      <td>0.672</td>\n",
       "      <td>0.328</td>\n",
       "    </tr>\n",
       "    <tr>\n",
       "      <th>6</th>\n",
       "      <td>283.15</td>\n",
       "      <td>849400</td>\n",
       "      <td>0.786</td>\n",
       "      <td>0.214</td>\n",
       "    </tr>\n",
       "    <tr>\n",
       "      <th>7</th>\n",
       "      <td>298.15</td>\n",
       "      <td>9600</td>\n",
       "      <td>0.010</td>\n",
       "      <td>0.990</td>\n",
       "    </tr>\n",
       "    <tr>\n",
       "      <th>8</th>\n",
       "      <td>298.15</td>\n",
       "      <td>99800</td>\n",
       "      <td>0.095</td>\n",
       "      <td>0.905</td>\n",
       "    </tr>\n",
       "    <tr>\n",
       "      <th>9</th>\n",
       "      <td>298.15</td>\n",
       "      <td>250200</td>\n",
       "      <td>0.218</td>\n",
       "      <td>0.782</td>\n",
       "    </tr>\n",
       "    <tr>\n",
       "      <th>10</th>\n",
       "      <td>298.15</td>\n",
       "      <td>399400</td>\n",
       "      <td>0.325</td>\n",
       "      <td>0.675</td>\n",
       "    </tr>\n",
       "    <tr>\n",
       "      <th>11</th>\n",
       "      <td>298.15</td>\n",
       "      <td>549400</td>\n",
       "      <td>0.417</td>\n",
       "      <td>0.583</td>\n",
       "    </tr>\n",
       "    <tr>\n",
       "      <th>12</th>\n",
       "      <td>298.15</td>\n",
       "      <td>699500</td>\n",
       "      <td>0.499</td>\n",
       "      <td>0.501</td>\n",
       "    </tr>\n",
       "    <tr>\n",
       "      <th>13</th>\n",
       "      <td>298.15</td>\n",
       "      <td>849500</td>\n",
       "      <td>0.570</td>\n",
       "      <td>0.430</td>\n",
       "    </tr>\n",
       "    <tr>\n",
       "      <th>14</th>\n",
       "      <td>298.15</td>\n",
       "      <td>999700</td>\n",
       "      <td>0.643</td>\n",
       "      <td>0.357</td>\n",
       "    </tr>\n",
       "    <tr>\n",
       "      <th>15</th>\n",
       "      <td>323.15</td>\n",
       "      <td>10200</td>\n",
       "      <td>0.005</td>\n",
       "      <td>0.995</td>\n",
       "    </tr>\n",
       "    <tr>\n",
       "      <th>16</th>\n",
       "      <td>323.15</td>\n",
       "      <td>100300</td>\n",
       "      <td>0.055</td>\n",
       "      <td>0.945</td>\n",
       "    </tr>\n",
       "    <tr>\n",
       "      <th>17</th>\n",
       "      <td>323.15</td>\n",
       "      <td>249700</td>\n",
       "      <td>0.133</td>\n",
       "      <td>0.867</td>\n",
       "    </tr>\n",
       "    <tr>\n",
       "      <th>18</th>\n",
       "      <td>323.15</td>\n",
       "      <td>400100</td>\n",
       "      <td>0.200</td>\n",
       "      <td>0.800</td>\n",
       "    </tr>\n",
       "    <tr>\n",
       "      <th>19</th>\n",
       "      <td>323.15</td>\n",
       "      <td>549500</td>\n",
       "      <td>0.264</td>\n",
       "      <td>0.736</td>\n",
       "    </tr>\n",
       "    <tr>\n",
       "      <th>20</th>\n",
       "      <td>323.15</td>\n",
       "      <td>700300</td>\n",
       "      <td>0.320</td>\n",
       "      <td>0.680</td>\n",
       "    </tr>\n",
       "    <tr>\n",
       "      <th>21</th>\n",
       "      <td>323.15</td>\n",
       "      <td>850400</td>\n",
       "      <td>0.368</td>\n",
       "      <td>0.632</td>\n",
       "    </tr>\n",
       "    <tr>\n",
       "      <th>22</th>\n",
       "      <td>323.15</td>\n",
       "      <td>1000400</td>\n",
       "      <td>0.417</td>\n",
       "      <td>0.583</td>\n",
       "    </tr>\n",
       "    <tr>\n",
       "      <th>23</th>\n",
       "      <td>348.05</td>\n",
       "      <td>10300</td>\n",
       "      <td>0.002</td>\n",
       "      <td>0.998</td>\n",
       "    </tr>\n",
       "    <tr>\n",
       "      <th>24</th>\n",
       "      <td>348.05</td>\n",
       "      <td>99800</td>\n",
       "      <td>0.034</td>\n",
       "      <td>0.966</td>\n",
       "    </tr>\n",
       "    <tr>\n",
       "      <th>25</th>\n",
       "      <td>348.05</td>\n",
       "      <td>249700</td>\n",
       "      <td>0.084</td>\n",
       "      <td>0.916</td>\n",
       "    </tr>\n",
       "    <tr>\n",
       "      <th>26</th>\n",
       "      <td>348.05</td>\n",
       "      <td>399500</td>\n",
       "      <td>0.131</td>\n",
       "      <td>0.869</td>\n",
       "    </tr>\n",
       "    <tr>\n",
       "      <th>27</th>\n",
       "      <td>348.05</td>\n",
       "      <td>550300</td>\n",
       "      <td>0.175</td>\n",
       "      <td>0.825</td>\n",
       "    </tr>\n",
       "    <tr>\n",
       "      <th>28</th>\n",
       "      <td>348.05</td>\n",
       "      <td>699200</td>\n",
       "      <td>0.216</td>\n",
       "      <td>0.784</td>\n",
       "    </tr>\n",
       "    <tr>\n",
       "      <th>29</th>\n",
       "      <td>348.05</td>\n",
       "      <td>850400</td>\n",
       "      <td>0.254</td>\n",
       "      <td>0.746</td>\n",
       "    </tr>\n",
       "    <tr>\n",
       "      <th>30</th>\n",
       "      <td>348.05</td>\n",
       "      <td>1000500</td>\n",
       "      <td>0.288</td>\n",
       "      <td>0.712</td>\n",
       "    </tr>\n",
       "  </tbody>\n",
       "</table>\n",
       "</div>"
      ],
      "text/plain": [
       "    temperature  pressure  x_R32  x_emimTf2N\n",
       "0        283.15     10200  0.014       0.986\n",
       "1        283.15    100100  0.136       0.864\n",
       "2        283.15    250300  0.306       0.694\n",
       "3        283.15    399300  0.448       0.552\n",
       "4        283.15    549300  0.570       0.430\n",
       "5        283.15    700400  0.672       0.328\n",
       "6        283.15    849400  0.786       0.214\n",
       "7        298.15      9600  0.010       0.990\n",
       "8        298.15     99800  0.095       0.905\n",
       "9        298.15    250200  0.218       0.782\n",
       "10       298.15    399400  0.325       0.675\n",
       "11       298.15    549400  0.417       0.583\n",
       "12       298.15    699500  0.499       0.501\n",
       "13       298.15    849500  0.570       0.430\n",
       "14       298.15    999700  0.643       0.357\n",
       "15       323.15     10200  0.005       0.995\n",
       "16       323.15    100300  0.055       0.945\n",
       "17       323.15    249700  0.133       0.867\n",
       "18       323.15    400100  0.200       0.800\n",
       "19       323.15    549500  0.264       0.736\n",
       "20       323.15    700300  0.320       0.680\n",
       "21       323.15    850400  0.368       0.632\n",
       "22       323.15   1000400  0.417       0.583\n",
       "23       348.05     10300  0.002       0.998\n",
       "24       348.05     99800  0.034       0.966\n",
       "25       348.05    249700  0.084       0.916\n",
       "26       348.05    399500  0.131       0.869\n",
       "27       348.05    550300  0.175       0.825\n",
       "28       348.05    699200  0.216       0.784\n",
       "29       348.05    850400  0.254       0.746\n",
       "30       348.05   1000500  0.288       0.712"
      ]
     },
     "execution_count": 3,
     "metadata": {},
     "output_type": "execute_result"
    }
   ],
   "source": [
    "data_full"
   ]
  },
  {
   "cell_type": "code",
   "execution_count": 4,
   "id": "c9b05aea",
   "metadata": {},
   "outputs": [
    {
     "data": {
      "image/png": "[encoded data removed]",
      "text/plain": [
       "<Figure size 432x288 with 1 Axes>"
      ]
     },
     "metadata": {
      "needs_background": "light"
     },
     "output_type": "display_data"
    }
   ],
   "source": [
    "fig, ax = plt.subplots()\n",
    "\n",
    "ax.plot(data_full[\"x_R32\"][:7],data_full[\"pressure\"][:7]/1e6,\"*\",color='blue',label=\"T= 283 K\")\n",
    "ax.plot(data_full[\"x_R32\"][7:15],data_full[\"pressure\"][7:15]/1e6,\"*\",color='red',label=\"T= 298 K\")\n",
    "ax.plot(data_full[\"x_R32\"][15:23],data_full[\"pressure\"][15:23]/1e6,\"*\",color='green',label=\"T= 323 K\")\n",
    "ax.plot(data_full[\"x_R32\"][23:],data_full[\"pressure\"][23:]/1e6,\"*\",color='magenta',label=\"T= 323 K\")\n",
    "\n",
    "# plt.title('Isotherm R32-[emim][TF2N]')\n",
    "ax.set_ylabel('Pressure, MPa',fontsize=24)\n",
    "ax.set_xlabel('HFC-32 Mole Fraction',fontsize=24)\n",
    "\n",
    "ax.set_xticks([0.0, 0.2, 0.4, 0.6, 0.8, 1.0])\n",
    "ax.set_xticks([0.1, 0.3, 0.5, 0.7, 0.9],minor=True)\n",
    "ax.set_yticks([0.0, 0.2, 0.4, 0.6, 0.8, 1.0, 1.2])\n",
    "ax.set_yticks([0.1, 0.3, 0.5, 0.7, 0.9, 1.1],minor=True)\n",
    "\n",
    "ax.tick_params(\"both\", direction=\"in\", which=\"both\", length=4, labelsize=20, pad=10)\n",
    "ax.tick_params(\"both\", which=\"major\", length=8)\n",
    "ax.xaxis.set_ticks_position(\"both\")\n",
    "ax.yaxis.set_ticks_position(\"both\")\n",
    "\n",
    "ax.legend(fontsize=12, handletextpad=0.00, loc=\"lower right\")#, bbox_to_anchor=(1, 0.5))\n",
    "fig.savefig('R32-emimTF2N-data.pdf',bbox_inches='tight')\n",
    "plt.show()"
   ]
  },
  {
   "cell_type": "markdown",
   "id": "swiss-sphere",
   "metadata": {},
   "source": [
    "## Load Configuration + Check DOF"
   ]
  },
  {
   "cell_type": "code",
   "execution_count": 5,
   "id": "independent-layout",
   "metadata": {},
   "outputs": [],
   "source": [
    "from hfc32_emimtf2n_PR import configuration "
   ]
  },
  {
   "cell_type": "code",
   "execution_count": 6,
   "id": "featured-nicholas",
   "metadata": {},
   "outputs": [
    {
     "name": "stdout",
     "output_type": "stream",
     "text": [
      "WARNING: DEPRECATED: Using __getitem__ to return a set value from its\n",
      "    (ordered) position is deprecated.  Please use at()  (deprecated in 6.1,\n",
      "    will be removed in 7.0) (called from /Users/bridgettebefort/Dowling-\n",
      "    Maginn-Lab/DowlingLab/IL-MD/idaes-\n",
      "    pse/idaes/generic_models/properties/core/state_definitions/FTPx.py:178)\n",
      "The initial DOF is 7\n"
     ]
    }
   ],
   "source": [
    "m = ConcreteModel()\n",
    "m.fs = FlowsheetBlock(default={\"dynamic\": False})\n",
    "m.fs.properties = GenericParameterBlock(default=configuration)\n",
    "m.fs.F101 = Flash(default={\"property_package\": m.fs.properties,\n",
    "                           \"has_heat_transfer\": True,\n",
    "                           \"has_pressure_change\": True})\n",
    "DOF_initial = degrees_of_freedom(m)\n",
    "print('The initial DOF is {0}'.format(DOF_initial))"
   ]
  },
  {
   "cell_type": "markdown",
   "id": "veterinary-first",
   "metadata": {},
   "source": [
    "## Fit Parameters"
   ]
  },
  {
   "cell_type": "code",
   "execution_count": 7,
   "id": "personal-parade",
   "metadata": {},
   "outputs": [
    {
     "name": "stdout",
     "output_type": "stream",
     "text": [
      "2021-12-01 11:47:05 [INFO] idaes.init.fs.state_block: Property package initialization: optimal - Optimal Solution Found.\n",
      "2021-12-01 11:47:06 [INFO] idaes.init.fs.state_block: Property package initialization: optimal - Optimal Solution Found.\n",
      "2021-12-01 11:47:06 [INFO] idaes.init.fs.state_block: Property package initialization: optimal - Optimal Solution Found.\n",
      "2021-12-01 11:47:07 [INFO] idaes.init.fs.state_block: Property package initialization: optimal - Optimal Solution Found.\n",
      "2021-12-01 11:47:07 [INFO] idaes.init.fs.state_block: Property package initialization: optimal - Optimal Solution Found.\n",
      "2021-12-01 11:47:07 [INFO] idaes.init.fs.state_block: Property package initialization: optimal - Optimal Solution Found.\n",
      "2021-12-01 11:47:08 [INFO] idaes.init.fs.state_block: Property package initialization: optimal - Optimal Solution Found.\n",
      "2021-12-01 11:47:08 [INFO] idaes.init.fs.state_block: Property package initialization: optimal - Optimal Solution Found.\n",
      "2021-12-01 11:47:08 [INFO] idaes.init.fs.state_block: Property package initialization: optimal - Optimal Solution Found.\n",
      "2021-12-01 11:47:09 [INFO] idaes.init.fs.state_block: Property package initialization: optimal - Optimal Solution Found.\n",
      "2021-12-01 11:47:09 [INFO] idaes.init.fs.state_block: Property package initialization: optimal - Optimal Solution Found.\n",
      "2021-12-01 11:47:10 [INFO] idaes.init.fs.state_block: Property package initialization: optimal - Optimal Solution Found.\n",
      "2021-12-01 11:47:10 [INFO] idaes.init.fs.state_block: Property package initialization: optimal - Optimal Solution Found.\n",
      "2021-12-01 11:47:10 [INFO] idaes.init.fs.state_block: Property package initialization: optimal - Optimal Solution Found.\n",
      "2021-12-01 11:47:11 [INFO] idaes.init.fs.state_block: Property package initialization: optimal - Optimal Solution Found.\n",
      "2021-12-01 11:47:11 [INFO] idaes.init.fs.state_block: Property package initialization: optimal - Optimal Solution Found.\n",
      "2021-12-01 11:47:11 [INFO] idaes.init.fs.state_block: Property package initialization: optimal - Optimal Solution Found.\n",
      "2021-12-01 11:47:12 [INFO] idaes.init.fs.state_block: Property package initialization: optimal - Optimal Solution Found.\n",
      "2021-12-01 11:47:12 [INFO] idaes.init.fs.state_block: Property package initialization: infeasible - Converged to a locally infeasible point. Problem may be infeasible..\n",
      "2021-12-01 11:47:12 [INFO] idaes.init.fs.state_block: Property package initialization: optimal - Optimal Solution Found.\n",
      "2021-12-01 11:47:13 [INFO] idaes.init.fs.state_block: Property package initialization: optimal - Optimal Solution Found.\n",
      "2021-12-01 11:47:13 [INFO] idaes.init.fs.state_block: Property package initialization: optimal - Optimal Solution Found.\n",
      "2021-12-01 11:47:13 [INFO] idaes.init.fs.state_block: Property package initialization: optimal - Optimal Solution Found.\n",
      "2021-12-01 11:47:14 [INFO] idaes.init.fs.state_block: Property package initialization: optimal - Optimal Solution Found.\n",
      "2021-12-01 11:47:14 [INFO] idaes.init.fs.state_block: Property package initialization: optimal - Optimal Solution Found.\n",
      "2021-12-01 11:47:15 [INFO] idaes.init.fs.state_block: Property package initialization: infeasible - Converged to a locally infeasible point. Problem may be infeasible..\n",
      "2021-12-01 11:47:15 [INFO] idaes.init.fs.state_block: Property package initialization: optimal - Optimal Solution Found.\n",
      "Ipopt 3.13.2: bound_relax_factor=0\n",
      "honor_original_bounds=no\n",
      "\n",
      "\n",
      "******************************************************************************\n",
      "This program contains Ipopt, a library for large-scale nonlinear optimization.\n",
      " Ipopt is released as open source code under the Eclipse Public License (EPL).\n",
      "         For more information visit http://projects.coin-or.org/Ipopt\n",
      "\n",
      "This version of Ipopt was compiled from source code available at\n",
      "    https://github.com/IDAES/Ipopt as part of the Institute for the Design of\n",
      "    Advanced Energy Systems Process Systems Engineering Framework (IDAES PSE\n",
      "    Framework) Copyright (c) 2018-2019. See https://github.com/IDAES/idaes-pse.\n",
      "\n",
      "This version of Ipopt was compiled using HSL, a collection of Fortran codes\n",
      "    for large-scale scientific computation.  All technical papers, sales and\n",
      "    publicity material resulting from use of the HSL codes within IPOPT must\n",
      "    contain the following acknowledgement:\n",
      "        HSL, a collection of Fortran codes for large-scale scientific\n",
      "        computation. See http://www.hsl.rl.ac.uk.\n",
      "******************************************************************************\n",
      "\n",
      "This is Ipopt version 3.13.2, running with linear solver ma27.\n",
      "\n",
      "Number of nonzeros in equality constraint Jacobian...:      914\n",
      "Number of nonzeros in inequality constraint Jacobian.:        0\n",
      "Number of nonzeros in Lagrangian Hessian.............:      918\n",
      "\n",
      "Total number of variables............................:      378\n",
      "                     variables with only lower bounds:      162\n",
      "                variables with lower and upper bounds:      162\n",
      "                     variables with only upper bounds:        0\n",
      "Total number of equality constraints.................:      376\n",
      "Total number of inequality constraints...............:        0\n",
      "        inequality constraints with only lower bounds:        0\n",
      "   inequality constraints with lower and upper bounds:        0\n",
      "        inequality constraints with only upper bounds:        0\n",
      "\n",
      "iter    objective    inf_pr   inf_du lg(mu)  ||d||  lg(rg) alpha_du alpha_pr  ls\n",
      "   0  0.0000000e+00 6.62e-01 1.42e-14  -1.0 0.00e+00    -  0.00e+00 0.00e+00   0\n",
      "   1  3.0771223e-06 6.61e-01 4.21e+02  -1.0 9.77e+04    -  5.54e-01 1.30e-03h  1\n",
      "   2  1.4579022e-01 5.90e-01 6.09e+03  -1.0 1.99e+05    -  7.74e-01 1.33e-01h  1\n",
      "   3  8.2195427e+00 4.98e-01 5.01e+04  -1.0 1.80e+05    -  7.94e-01 9.58e-01h  1\n",
      "   4  8.3025754e+00 4.84e-01 4.87e+04  -1.0 3.47e+04    -  2.76e-01 2.83e-02h  1\n",
      "   5  8.4198133e+00 4.64e-01 4.69e+04  -1.0 3.33e+04    -  9.51e-04 4.10e-02h  1\n",
      "   6  1.1374192e+01 1.90e-02 3.58e+04  -1.0 3.20e+04    -  2.07e-01 9.90e-01h  1\n",
      "   7  1.1460899e+01 6.75e-05 1.74e+03  -1.0 8.95e+02    -  9.54e-01 9.90e-01h  1\n",
      "   8  1.1461038e+01 6.33e-05 1.53e+06  -1.0 9.99e+02    -  5.77e-01 6.19e-02f  5\n",
      "   9  1.1461094e+01 6.28e-05 2.74e+06  -1.0 1.02e+03    -  3.91e-01 7.73e-03f  8\n",
      "iter    objective    inf_pr   inf_du lg(mu)  ||d||  lg(rg) alpha_du alpha_pr  ls\n",
      "  10  1.1457396e+01 3.59e-03 1.47e+06  -1.0 1.35e+04    -  6.20e-02 2.47e-01f  3\n",
      "  11  1.1467416e+01 3.47e-03 1.57e+06  -1.0 3.58e+03    -  6.18e-01 9.90e-01h  1\n",
      "  12  1.1495081e+01 1.89e-03 1.63e+08  -1.0 1.08e+04    -  6.08e-01 9.90e-01H  1\n",
      "  13  1.1579278e+01 9.97e-04 1.35e+10  -1.0 1.82e+04    -  6.72e-01 9.90e-01H  1\n",
      "  14  1.1726519e+01 5.38e-04 2.06e+10  -1.0 1.91e+04    -  9.85e-01 9.90e-01H  1\n",
      "In iteration 14, 27 Slacks too small, adjusting variable bounds\n",
      "  15  1.1777391e+01 2.30e-04 1.96e+11  -1.0 4.84e+03    -  9.90e-01 9.90e-01h  1\n",
      "  16  1.1526008e+01 5.78e-03 3.37e+12  -1.7 2.07e+04    -  9.92e-01 1.00e+00f  1\n",
      "  17  1.1500917e+01 3.28e-04 2.53e-01  -1.7 7.09e+03    -  1.00e+00 1.00e+00h  1\n",
      "  18  1.1449658e+01 6.24e-03 1.01e+10  -5.7 1.20e+04    -  9.82e-01 9.70e-01f  1\n",
      "  19  1.1445400e+01 8.18e-04 1.32e-01  -5.7 5.20e+03    -  1.00e+00 1.00e+00h  1\n",
      "iter    objective    inf_pr   inf_du lg(mu)  ||d||  lg(rg) alpha_du alpha_pr  ls\n",
      "  20  1.1445205e+01 1.61e-04 2.03e-02  -5.7 1.41e+03    -  1.00e+00 1.00e+00h  1\n",
      "  21  1.1445207e+01 8.31e-07 9.74e-05  -5.7 1.25e+02    -  1.00e+00 1.00e+00h  1\n",
      "  22  1.1445205e+01 2.01e-09 1.94e-07  -8.6 4.42e+00    -  1.00e+00 1.00e+00h  1\n",
      "\n",
      "Number of Iterations....: 22\n",
      "\n",
      "                                   (scaled)                 (unscaled)\n",
      "Objective...............:   1.1445205140482910e+01    1.1445205140482910e+01\n",
      "Dual infeasibility......:   1.9419522513743869e-07    1.9419522513743869e-07\n",
      "Constraint violation....:   2.0055188620915487e-09    2.0055188620915487e-09\n",
      "Complementarity.........:   3.5629820092647883e-09    3.5629820092647883e-09\n",
      "Overall NLP error.......:   2.9314958411085376e-09    1.9419522513743869e-07\n",
      "\n",
      "\n",
      "Number of objective function evaluations             = 55\n",
      "Number of objective gradient evaluations             = 23\n",
      "Number of equality constraint evaluations            = 55\n",
      "Number of inequality constraint evaluations          = 0\n",
      "Number of equality constraint Jacobian evaluations   = 23\n",
      "Number of inequality constraint Jacobian evaluations = 0\n",
      "Number of Lagrangian Hessian evaluations             = 22\n",
      "Total CPU secs in IPOPT (w/o function evaluations)   =      0.029\n",
      "Total CPU secs in NLP function evaluations           =      0.453\n",
      "\n",
      "EXIT: Optimal Solution Found.\n"
     ]
    },
    {
     "name": "stdout",
     "output_type": "stream",
     "text": [
      "The SSE at the optimal solution is 11.445205\n",
      "\n",
      "The values for the parameters are as follows:\n",
      "fs.properties.PR_kappa_A[emimTf2N,R32] = -0.02894149152636121\n",
      "fs.properties.PR_kappa_A[R32,emimTf2N] = -0.020541972796452503\n",
      "covariance_matrix                                         fs.properties.PR_kappa_A[emimTf2N,R32]  \\\n",
      "fs.properties.PR_kappa_A[emimTf2N,R32]                                0.004748   \n",
      "fs.properties.PR_kappa_A[R32,emimTf2N]                                0.000242   \n",
      "\n",
      "                                        fs.properties.PR_kappa_A[R32,emimTf2N]  \n",
      "fs.properties.PR_kappa_A[emimTf2N,R32]                                0.000242  \n",
      "fs.properties.PR_kappa_A[R32,emimTf2N]                                0.000012  \n"
     ]
    },
    {
     "name": "stderr",
     "output_type": "stream",
     "text": [
      "/Users/bridgettebefort/opt/anaconda3/envs/idaes-pse-dev/lib/python3.7/site-packages/pyomo/contrib/interior_point/interface.py:418: RuntimeWarning: divide by zero encountered in true_divide\n",
      "  data = (duals_primals_lb/(primals - self._nlp.primals_lb()) +\n"
     ]
    }
   ],
   "source": [
    "parameters, obj_value, a = constant(data_subset, configuration, 'R32', 'emimTf2N', \"x_R32\", \"x_emimTf2N\", \n",
    "    init_temp =  298.15, init_press =   399400 , init_x_c1 =    0.417, init_x_c2 = 0.583,\n",
    "    init_kappa_A_2_1 = -0.0496, init_kappa_A_1_2 = -0.023, eps = 0.1, scaling_fac = 1e-9 , read=False)"
   ]
  },
  {
   "cell_type": "code",
   "execution_count": 8,
   "id": "collect-amount",
   "metadata": {},
   "outputs": [
    {
     "name": "stdout",
     "output_type": "stream",
     "text": [
      "Objective (SSE): 11.445205140482908\n"
     ]
    }
   ],
   "source": [
    "print('Objective (SSE):',obj_value)"
   ]
  },
  {
   "cell_type": "code",
   "execution_count": 9,
   "id": "fewer-madonna",
   "metadata": {},
   "outputs": [
    {
     "name": "stdout",
     "output_type": "stream",
     "text": [
      "Covariance Matrix:\n",
      "[[4.74762839e-03 2.42043214e-04]\n",
      " [2.42043214e-04 1.23398279e-05]]\n"
     ]
    }
   ],
   "source": [
    "cov = np.array(a)\n",
    "print('Covariance Matrix:')\n",
    "print(cov)"
   ]
  },
  {
   "cell_type": "markdown",
   "id": "received-chuck",
   "metadata": {},
   "source": [
    "## Apply Parameters + Plot"
   ]
  },
  {
   "cell_type": "code",
   "execution_count": 10,
   "id": "homeless-banana",
   "metadata": {},
   "outputs": [],
   "source": [
    "solver = SolverFactory('ipopt')\n",
    "solver.options = {'tol': 1e-6}"
   ]
  },
  {
   "cell_type": "code",
   "execution_count": 11,
   "id": "historical-spice",
   "metadata": {},
   "outputs": [
    {
     "name": "stdout",
     "output_type": "stream",
     "text": [
      "0.986\n",
      "0.864\n",
      "0.694\n",
      "0.552\n",
      "0.43\n",
      "0.328\n",
      "0.214\n",
      "0.99\n",
      "0.905\n",
      "0.782\n",
      "0.675\n",
      "0.583\n",
      "0.501\n",
      "0.43\n",
      "0.357\n",
      "0.995\n",
      "0.945\n",
      "0.867\n",
      "0.8\n",
      "0.736\n",
      "0.68\n",
      "0.632\n",
      "0.583\n",
      "0.998\n",
      "0.966\n",
      "0.916\n",
      "0.869\n",
      "0.825\n",
      "0.784\n",
      "0.746\n",
      "0.712\n"
     ]
    }
   ],
   "source": [
    "m = ConcreteModel()\n",
    "\n",
    "m.fs = FlowsheetBlock(default={\"dynamic\": False})\n",
    "\n",
    "m.fs.properties = GenericParameterBlock(default=configuration)\n",
    "\n",
    "m.fs.F101 = Flash(default={\"property_package\": m.fs.properties,\n",
    "                           \"has_heat_transfer\": True,\n",
    "                           \"has_pressure_change\": True})\n",
    "\n",
    "m.fs.F101.inlet.flow_mol.fix(1)\n",
    "m.fs.F101.inlet.temperature.fix(323.15)\n",
    "m.fs.F101.inlet.pressure.fix(399800)\n",
    "m.fs.F101.inlet.mole_frac_comp[0,'R32'].fix(0.5)\n",
    "\n",
    "m.fs.properties.PR_kappa_A['R32','emimTf2N'] = parameters['fs.properties.PR_kappa_A[R32,emimTf2N]']\n",
    "m.fs.properties.PR_kappa_A['emimTf2N','R32'] = parameters['fs.properties.PR_kappa_A[emimTf2N,R32]']\n",
    "\n",
    "# Initialize the flash unit\n",
    "m.fs.F101.initialize(outlvl=idaeslog.CRITICAL)\n",
    "\n",
    "# Fix the state variables on the state block\n",
    "# m.fs.F101.inlet.pressure.unfix()\n",
    "m.fs.F101.inlet.mole_frac_comp[0,'emimTf2N'].unfix()\n",
    "\n",
    "R32_x = np.zeros((len(data_full)))\n",
    "P = np.zeros((len(data_full)))\n",
    "\n",
    "m.fs.liq = Param(mutable=True,default=0.040)\n",
    "m.fs.liquid = Constraint(expr=m.fs.F101.liq_outlet.mole_frac_comp[0, \"emimTf2N\"] == m.fs.liq)\n",
    "\n",
    "for i in range(len(data_full)):\n",
    "    m.fs.liq = data_full[\"x_emimTf2N\"].iloc[i]\n",
    "    m.fs.F101.inlet.temperature.fix(float(data_full[\"temperature\"].iloc[i]))\n",
    "    m.fs.F101.inlet.pressure.fix(float(data_full[\"pressure\"].iloc[i]))\n",
    "    m.fs.F101.inlet.mole_frac_comp[0,'R32'].fix(float(data_full[\"x_R32\"].iloc[i])+0.1)\n",
    "    m.fs.F101.inlet.mole_frac_comp[0,'emimTf2N'].fix(float(1-(data_full[\"x_R32\"].iloc[i]+0.1)))\n",
    "    m.fs.F101.vap_outlet.temperature.fix(float(data_full[\"temperature\"].iloc[i]))\n",
    "    \n",
    "#     DOF_final = degrees_of_freedom(m)\n",
    "#     print(\"The final DOF is {0}\".format(DOF_final))\n",
    "    m.fs.F101.initialize(outlvl=idaeslog.CRITICAL)\n",
    "    \n",
    "    status = solver.solve(m, tee = False)\n",
    "\n",
    "#     m.fs.F101.report()\n",
    "    if (status.solver.status == SolverStatus.ok) and (status.solver.termination_condition == TerminationCondition.optimal):\n",
    "        print(data_full[\"x_emimTf2N\"].iloc[i])\n",
    "        R32_x[i] = value(m.fs.F101.liq_outlet.mole_frac_comp[0,'R32']) \n",
    "        P[i] = value(m.fs.F101.vap_outlet.pressure[0])\n",
    "\n",
    "    else:\n",
    "        print('Infeasible.')"
   ]
  },
  {
   "cell_type": "code",
   "execution_count": 12,
   "id": "helpful-powell",
   "metadata": {},
   "outputs": [
    {
     "data": {
      "image/png": "[encoded data removed]",
      "text/plain": [
       "<Figure size 432x288 with 1 Axes>"
      ]
     },
     "metadata": {
      "needs_background": "light"
     },
     "output_type": "display_data"
    }
   ],
   "source": [
    "P1= np.zeros((len(P)))\n",
    "\n",
    "for i in range(len(P)):\n",
    "    P1[i] = P[i]/1e6\n",
    "\n",
    "fig, ax = plt.subplots()\n",
    "\n",
    "ax.plot(R32_x[0:7],P1[0:7],\"b*-\",label=\"T= 283 K\")  \n",
    "ax.plot(R32_x[7:15],P1[7:15],\"r*-\",label=\"T= 298 K\") \n",
    "ax.plot(R32_x[15:23],P1[15:23],\"c*-\",label=\"T= 323 K\") \n",
    "ax.plot(R32_x[23:31],P1[23:31],\"m-*\",label=\"T= 348 K\")\n",
    "ax.plot(data_full[\"x_R32\"],data_full[\"pressure\"]/1e6,\"*\",color='orange',label=\"data\")  \n",
    "\n",
    "# plt.title('Isotherm R32-[emim][TF2N]')\n",
    "ax.set_ylabel('Pressure, MPa',fontsize=24)\n",
    "ax.set_xlabel('HFC-32 Mole Fraction',fontsize=24)\n",
    "\n",
    "ax.set_xticks([0.0, 0.2, 0.4, 0.6, 0.8, 1.0])\n",
    "ax.set_xticks([0.1, 0.3, 0.5, 0.7, 0.9],minor=True)\n",
    "ax.set_yticks([0.0, 0.2, 0.4, 0.6, 0.8, 1.0, 1.2])\n",
    "ax.set_yticks([0.1, 0.3, 0.5, 0.7, 0.9, 1.1],minor=True)\n",
    "\n",
    "ax.tick_params(\"both\", direction=\"in\", which=\"both\", length=4, labelsize=20, pad=10)\n",
    "ax.tick_params(\"both\", which=\"major\", length=8)\n",
    "ax.xaxis.set_ticks_position(\"both\")\n",
    "ax.yaxis.set_ticks_position(\"both\")\n",
    "\n",
    "ax.legend(fontsize=12, handletextpad=0.00, loc=\"lower right\")#, bbox_to_anchor=(1, 0.5))\n",
    "fig.savefig('R32-emimTF2N-noTdep.pdf',bbox_inches='tight')\n",
    "plt.show()"
   ]
  },
  {
   "cell_type": "code",
   "execution_count": null,
   "id": "incomplete-innocent",
   "metadata": {},
   "outputs": [],
   "source": [
    "def make_ellipse(mu, cov, ci=0.95):\n",
    "    e, v = np.linalg.eig(cov)\n",
    "  \n",
    "    alpha = np.arctan(v[0,1]/v[0,0])\n",
    "    angle = -alpha*180/np.pi \n",
    "    q = stats.chi2(2).ppf(ci)\n",
    "    e = Ellipse(mu, 2*np.sqrt(q*e[0]), 2*np.sqrt(q*e[1]), angle=angle)\n",
    "    return e"
   ]
  },
  {
   "cell_type": "code",
   "execution_count": null,
   "id": "wanted-muslim",
   "metadata": {},
   "outputs": [],
   "source": [
    "plt.rcParams[\"font.family\"] = \"serif\"\n",
    "plt.rcParams[\"font.serif\"] = \"Times New Roman\"\n",
    "plt.rcParams[\"font.size\"] = 14\n",
    "\n",
    "mu = parameters['fs.properties.PR_kappa_A[R32,emimTf2N]'], parameters['fs.properties.PR_kappa_A[emimTf2N,R32]']\n",
    "\n",
    "e = make_ellipse(mu, cov, ci=0.95)\n",
    "\n",
    "e.set_alpha(0.25)\n",
    "e.set_facecolor('black')\n",
    "e.set_zorder(10)\n",
    "\n",
    "ax = plt.subplot()\n",
    "\n",
    "ax.add_artist(e)\n",
    "ax.scatter(parameters['fs.properties.PR_kappa_A[R32,emimTf2N]'],parameters['fs.properties.PR_kappa_A[emimTf2N,R32]'],c='black',label='Reported Parameter Values')\n",
    "\n",
    "# plt.title('95% confidence ellipse')\n",
    "plt.xlabel(\"$\\kappa_{21}$\")\n",
    "plt.ylabel(\"$\\kappa_{12}$\")\n",
    "\n",
    "# patch = mpatches.Patch(color='blue', label='Frequentist approach',alpha=1)\n",
    "\n",
    "# plt.legend(handles=[patch])\n",
    "plt.legend()\n",
    "ax.set(xlim=[-0.021, -0.02], ylim=[-0.03, -0.028])\n",
    "# plt.savefig('R32_hmimCl_ellipse.png')\n",
    "plt.show()"
   ]
  },
  {
   "cell_type": "code",
   "execution_count": null,
   "id": "dimensional-buying",
   "metadata": {},
   "outputs": [],
   "source": [
    "## Why is the covariance matrix not printing on plot??"
   ]
  },
  {
   "cell_type": "markdown",
   "id": "present-tulsa",
   "metadata": {},
   "source": [
    "### Print Eigvals, Eigvectors of Covariance\n",
    "\n",
    "An identifiability analysis can be performed with these as well as a FIM because the covariance matrix is the inverse of the FIM. That means that if there are any eigvals >> 0, their eigvecs indicate directions of un-identifiability."
   ]
  },
  {
   "cell_type": "code",
   "execution_count": null,
   "id": "associate-retreat",
   "metadata": {},
   "outputs": [],
   "source": [
    "eigvals, eigvecs = np.linalg.eig(cov)"
   ]
  },
  {
   "cell_type": "code",
   "execution_count": null,
   "id": "genuine-lucas",
   "metadata": {},
   "outputs": [],
   "source": [
    "eigvals"
   ]
  },
  {
   "cell_type": "code",
   "execution_count": null,
   "id": "historic-outside",
   "metadata": {},
   "outputs": [],
   "source": [
    "eigvecs"
   ]
  },
  {
   "cell_type": "markdown",
   "id": "responsible-permission",
   "metadata": {},
   "source": [
    "Conclusion: Fully identifiable because all eigvals ~ 0 "
   ]
  },
  {
   "cell_type": "markdown",
   "id": "advised-saint",
   "metadata": {},
   "source": [
    "## FIM with Enthalpy of Vaporization (and Pressure)"
   ]
  },
  {
   "cell_type": "markdown",
   "id": "textile-bermuda",
   "metadata": {},
   "source": [
    "### Step 1: Perturb Parameters, Calculate Enthalpy of Vaporization\n",
    "\n",
    "1. Perturb Parameters: stepsize = 0.001\n",
    "\n",
    "2. Holding all other parameters constant, calculate new pressure predictions at different temps, compositions \n",
    "\n",
    "*T = (T1=298, T2=323)\n",
    "\n",
    "*x = (0.01,0.2,0.325,0.4)\n",
    "\n",
    "*Pguess comes from data_full\n",
    "\n",
    "3. Save P, Use Clausius Clapeyron to calculate enthvap"
   ]
  },
  {
   "cell_type": "code",
   "execution_count": null,
   "id": "tested-jones",
   "metadata": {},
   "outputs": [],
   "source": [
    "h = 0.001\n",
    "kR32_emimTF2N_plus = parameters['fs.properties.PR_kappa_A[R32,emimTf2N]'] + h\n",
    "kR32_emimTF2N_minus = parameters['fs.properties.PR_kappa_A[R32,emimTf2N]'] - h\n",
    "kemimTF2N_R32_plus = parameters['fs.properties.PR_kappa_A[emimTf2N,R32]'] + h\n",
    "kemimTF2N_R32_minus = parameters['fs.properties.PR_kappa_A[emimTf2N,R32]'] - h"
   ]
  },
  {
   "cell_type": "code",
   "execution_count": null,
   "id": "human-michigan",
   "metadata": {},
   "outputs": [],
   "source": [
    "data = np.array([[kR32_emimTF2N_plus,parameters['fs.properties.PR_kappa_A[emimTf2N,R32]']],\n",
    "                [kR32_emimTF2N_minus,parameters['fs.properties.PR_kappa_A[emimTf2N,R32]']],\n",
    "                [parameters['fs.properties.PR_kappa_A[R32,emimTf2N]'],kemimTF2N_R32_plus],\n",
    "               [parameters['fs.properties.PR_kappa_A[R32,emimTf2N]'],kemimTF2N_R32_minus]])"
   ]
  },
  {
   "cell_type": "code",
   "execution_count": null,
   "id": "painful-norman",
   "metadata": {},
   "outputs": [],
   "source": [
    "perturbed_params = pd.DataFrame(data=data,columns=['kR32_emimTF2N','kemimTF2N_R32'])\n",
    "perturbed_params"
   ]
  },
  {
   "cell_type": "code",
   "execution_count": null,
   "id": "stable-calculator",
   "metadata": {},
   "outputs": [],
   "source": [
    "x = [0.01,0.2,0.325,0.4]\n",
    "temps_298 = [298.15,298.15,298.15,298.15]\n",
    "pguess_298 = [9600,250000,399400,549000]\n",
    "temps_323 = [323.15,323.15,323.15,323.15]\n",
    "pguess_323 = [20400,400100,700300,1000000]"
   ]
  },
  {
   "cell_type": "code",
   "execution_count": null,
   "id": "latter-omega",
   "metadata": {},
   "outputs": [],
   "source": [
    "test_298 = pd.DataFrame()\n",
    "test_298['temperature'] = temps_298\n",
    "test_298['pressure'] = pguess_298\n",
    "test_298['x_R32'] = x\n",
    "test_298['x_emimTf2N'] = 1-test_298['x_R32']\n",
    "# test_298"
   ]
  },
  {
   "cell_type": "code",
   "execution_count": null,
   "id": "cellular-accordance",
   "metadata": {},
   "outputs": [],
   "source": [
    "test_323 = pd.DataFrame()\n",
    "test_323['temperature'] = temps_323\n",
    "test_323['pressure'] = pguess_323\n",
    "test_323['x_R32'] = x\n",
    "test_323['x_emimTf2N'] = 1-test_323['x_R32']\n",
    "# test_323"
   ]
  },
  {
   "cell_type": "code",
   "execution_count": null,
   "id": "catholic-costa",
   "metadata": {},
   "outputs": [],
   "source": [
    "test_data = pd.concat([test_298,test_323],ignore_index=True)"
   ]
  },
  {
   "cell_type": "code",
   "execution_count": null,
   "id": "induced-haven",
   "metadata": {},
   "outputs": [],
   "source": [
    "# Loop through test values\n",
    "\n",
    "R32_x = np.zeros((len(perturbed_params),len(test_data)))\n",
    "P = np.zeros((len(perturbed_params),len(test_data)))\n",
    "\n",
    "for j in range(len(perturbed_params)):\n",
    "\n",
    "    m = ConcreteModel()\n",
    "\n",
    "    m.fs = FlowsheetBlock(default={\"dynamic\": False})\n",
    "\n",
    "    m.fs.properties = GenericParameterBlock(default=configuration)\n",
    "\n",
    "    m.fs.F101 = Flash(default={\"property_package\": m.fs.properties,\n",
    "                               \"has_heat_transfer\": True,\n",
    "                               \"has_pressure_change\": True})\n",
    "\n",
    "    m.fs.F101.inlet.flow_mol.fix(1)\n",
    "    m.fs.F101.inlet.temperature.fix(323.15)\n",
    "    m.fs.F101.inlet.pressure.fix(399800)\n",
    "    m.fs.F101.inlet.mole_frac_comp[0,'R32'].fix(0.5)\n",
    "\n",
    "    m.fs.properties.PR_kappa_A['R32','emimTf2N'] = perturbed_params['kR32_emimTF2N'][j]\n",
    "    m.fs.properties.PR_kappa_A['emimTf2N','R32'] = perturbed_params['kemimTF2N_R32'][j]\n",
    "\n",
    "    # Initialize the flash unit\n",
    "    m.fs.F101.initialize(outlvl=idaeslog.CRITICAL)\n",
    "\n",
    "    # Fix the state variables on the state block\n",
    "    # m.fs.F101.inlet.pressure.unfix()\n",
    "    m.fs.F101.inlet.mole_frac_comp[0,'emimTf2N'].unfix()\n",
    "\n",
    "    m.fs.liq = Param(mutable=True,default=0.040)\n",
    "    m.fs.liquid = Constraint(expr=m.fs.F101.liq_outlet.mole_frac_comp[0, \"emimTf2N\"] == m.fs.liq)\n",
    "\n",
    "    for i in range(len(test_data)):\n",
    "        m.fs.liq = test_data[\"x_emimTf2N\"].iloc[i]\n",
    "        m.fs.F101.inlet.temperature.fix(float(test_data[\"temperature\"].iloc[i]))\n",
    "        m.fs.F101.inlet.pressure.fix(float(test_data[\"pressure\"].iloc[i]))\n",
    "        m.fs.F101.inlet.mole_frac_comp[0,'R32'].fix(float(test_data[\"x_R32\"].iloc[i])+0.1)\n",
    "        m.fs.F101.inlet.mole_frac_comp[0,'emimTf2N'].fix(float(1-(test_data[\"x_R32\"].iloc[i]+0.1)))\n",
    "        m.fs.F101.vap_outlet.temperature.fix(float(test_data[\"temperature\"].iloc[i]))\n",
    "\n",
    "    #     DOF_final = degrees_of_freedom(m)\n",
    "    #     print(\"The final DOF is {0}\".format(DOF_final))\n",
    "        m.fs.F101.initialize(outlvl=idaeslog.CRITICAL)\n",
    "\n",
    "        status = solver.solve(m, tee = False)\n",
    "\n",
    "    #     m.fs.F101.report()\n",
    "        if (status.solver.status == SolverStatus.ok) and (status.solver.termination_condition == TerminationCondition.optimal):\n",
    "            print(test_data[\"x_emimTf2N\"].iloc[i])\n",
    "            R32_x[j,i] = value(m.fs.F101.liq_outlet.mole_frac_comp[0,'R32'])\n",
    "            P[j,i] = value(m.fs.F101.vap_outlet.pressure[0])\n",
    "\n",
    "        else:\n",
    "            print('Infeasible.')"
   ]
  },
  {
   "cell_type": "code",
   "execution_count": null,
   "id": "collect-leisure",
   "metadata": {},
   "outputs": [],
   "source": [
    "test_data['P_kR32_emimTF2N_plus'] = P[0]\n",
    "test_data['P_kR32_emimTF2N_minus'] = P[1]\n",
    "test_data['P_kemimTF2N_R32_plus'] = P[2]\n",
    "test_data['P_kemimTF2N_R32_minus'] = P[3]"
   ]
  },
  {
   "cell_type": "code",
   "execution_count": null,
   "id": "parallel-upgrade",
   "metadata": {},
   "outputs": [],
   "source": [
    "grad_P = test_data"
   ]
  },
  {
   "cell_type": "code",
   "execution_count": null,
   "id": "level-venture",
   "metadata": {},
   "outputs": [],
   "source": [
    "test_data_298 = test_data[test_data['temperature']==298.15]\n",
    "test_data_323 = test_data[test_data['temperature']==323.15].reset_index()"
   ]
  },
  {
   "cell_type": "code",
   "execution_count": null,
   "id": "bright-groove",
   "metadata": {},
   "outputs": [],
   "source": [
    "R = 8.314 #J/mol-K\n",
    "hvap_calc_kR32_emimTF2N_plus = []\n",
    "for i in range(len(x)):\n",
    "    T2 = test_data_323['temperature'][i]\n",
    "    T1 = test_data_298['temperature'][i]\n",
    "    P2 = test_data_323['P_kR32_emimTF2N_plus'][i]\n",
    "    P1 = test_data_298['P_kR32_emimTF2N_plus'][i]\n",
    "    hvap_calc_kR32_emimTF2N_plus.append(np.log(P2/P1)*R/(1/T2-1/T1))\n",
    "\n",
    "hvap_calc_kR32_emimTF2N_minus = []\n",
    "for i in range(len(x)):\n",
    "    T2 = test_data_323['temperature'][i]\n",
    "    T1 = test_data_298['temperature'][i]\n",
    "    P2 = test_data_323['P_kR32_emimTF2N_minus'][i]\n",
    "    P1 = test_data_298['P_kR32_emimTF2N_minus'][i]\n",
    "    hvap_calc_kR32_emimTF2N_minus.append(np.log(P2/P1)*R/(1/T2-1/T1))\n",
    "    \n",
    "hvap_calc_kemimTF2N_R32_plus = []\n",
    "for i in range(len(x)):\n",
    "    T2 = test_data_323['temperature'][i]\n",
    "    T1 = test_data_298['temperature'][i]\n",
    "    P2 = test_data_323['P_kemimTF2N_R32_plus'][i]\n",
    "    P1 = test_data_298['P_kemimTF2N_R32_plus'][i]\n",
    "    hvap_calc_kemimTF2N_R32_plus.append(np.log(P2/P1)*R/(1/T2-1/T1))\n",
    "    \n",
    "hvap_calc_kemimTF2N_R32_minus = []\n",
    "for i in range(len(x)):\n",
    "    T2 = test_data_323['temperature'][i]\n",
    "    T1 = test_data_298['temperature'][i]\n",
    "    P2 = test_data_323['P_kemimTF2N_R32_minus'][i]\n",
    "    P1 = test_data_298['P_kemimTF2N_R32_minus'][i]\n",
    "    hvap_calc_kemimTF2N_R32_minus.append(np.log(P2/P1)*R/(1/T2-1/T1))"
   ]
  },
  {
   "cell_type": "code",
   "execution_count": null,
   "id": "million-guyana",
   "metadata": {},
   "outputs": [],
   "source": [
    "hvap = pd.DataFrame()\n",
    "hvap['x_R32'] = x\n",
    "hvap['hvap_kR32_emimTF2N_plus'] = hvap_calc_kR32_emimTF2N_plus\n",
    "hvap['hvap_kR32_emimTF2N_minus'] = hvap_calc_kR32_emimTF2N_minus\n",
    "hvap['hvap_kemimTF2N_R32_plus'] = hvap_calc_kemimTF2N_R32_plus\n",
    "hvap['hvap_kemimTF2N_R32_minus'] = hvap_calc_kemimTF2N_R32_minus"
   ]
  },
  {
   "cell_type": "code",
   "execution_count": null,
   "id": "noble-brass",
   "metadata": {},
   "outputs": [],
   "source": [
    "hvap"
   ]
  },
  {
   "cell_type": "markdown",
   "id": "quantitative-sodium",
   "metadata": {},
   "source": [
    "### Step 2: Calculate Gradient wrt each param at each concentration"
   ]
  },
  {
   "cell_type": "code",
   "execution_count": null,
   "id": "magnetic-encyclopedia",
   "metadata": {},
   "outputs": [],
   "source": [
    "grad_kR32_emimTF2N = (hvap['hvap_kR32_emimTF2N_plus'] - hvap['hvap_kR32_emimTF2N_minus'])/(2*h)\n",
    "grad_kemimTF2N_R32 = (hvap['hvap_kemimTF2N_R32_plus'] - hvap['hvap_kemimTF2N_R32_minus'])/(2*h)"
   ]
  },
  {
   "cell_type": "code",
   "execution_count": null,
   "id": "equipped-challenge",
   "metadata": {},
   "outputs": [],
   "source": [
    "grad_P['kR32_emimTF2N'] = (grad_P['P_kR32_emimTF2N_plus'] - grad_P['P_kR32_emimTF2N_minus'])/(2*h)\n",
    "grad_P['kemimTF2N_R32'] = (grad_P['P_kemimTF2N_R32_plus'] - grad_P['P_kemimTF2N_R32_minus'])/(2*h)"
   ]
  },
  {
   "cell_type": "markdown",
   "id": "ultimate-korean",
   "metadata": {},
   "source": [
    "### Step 3: Build Jacobian and FIM\n",
    "\n",
    "Rows: enthvap @ 4 concentrations; or pressure @ 4 concentrations, 2 temperatures\n",
    "\n",
    "Columns: parameters (2)"
   ]
  },
  {
   "cell_type": "code",
   "execution_count": null,
   "id": "marine-drama",
   "metadata": {},
   "outputs": [],
   "source": [
    "J_df = pd.DataFrame()\n",
    "J_df['kR32_emimTF2N'] = grad_kR32_emimTF2N\n",
    "J_df['kemimTF2N_R32'] = grad_kemimTF2N_R32"
   ]
  },
  {
   "cell_type": "code",
   "execution_count": null,
   "id": "leading-vinyl",
   "metadata": {},
   "outputs": [],
   "source": [
    "J = J_df.to_numpy()\n",
    "Jtrans = np.transpose(J)"
   ]
  },
  {
   "cell_type": "code",
   "execution_count": null,
   "id": "faced-undergraduate",
   "metadata": {},
   "outputs": [],
   "source": [
    "FIM = np.dot(Jtrans,J)"
   ]
  },
  {
   "cell_type": "code",
   "execution_count": null,
   "id": "noble-player",
   "metadata": {},
   "outputs": [],
   "source": [
    "FIM"
   ]
  },
  {
   "cell_type": "code",
   "execution_count": null,
   "id": "stable-packaging",
   "metadata": {},
   "outputs": [],
   "source": [
    "J_df_P = pd.DataFrame()\n",
    "J_df_P['kR32_emimTF2N'] = grad_P['kR32_emimTF2N']\n",
    "J_df_P['kemimTF2N_R32'] = grad_P['kemimTF2N_R32']"
   ]
  },
  {
   "cell_type": "code",
   "execution_count": null,
   "id": "rough-graduation",
   "metadata": {},
   "outputs": [],
   "source": [
    "J_P = J_df_P.to_numpy()\n",
    "J_Ptrans = np.transpose(J_P)"
   ]
  },
  {
   "cell_type": "code",
   "execution_count": null,
   "id": "complicated-smell",
   "metadata": {},
   "outputs": [],
   "source": [
    "FIM_P = np.dot(J_Ptrans,J_P)"
   ]
  },
  {
   "cell_type": "code",
   "execution_count": null,
   "id": "distinct-salmon",
   "metadata": {},
   "outputs": [],
   "source": [
    "FIM_P"
   ]
  },
  {
   "cell_type": "markdown",
   "id": "varying-blowing",
   "metadata": {},
   "source": [
    "### Step 4: Find Eigenvalues, Eigenvectors"
   ]
  },
  {
   "cell_type": "markdown",
   "id": "shared-george",
   "metadata": {},
   "source": [
    "**Enthalpy of Vaporization**"
   ]
  },
  {
   "cell_type": "code",
   "execution_count": null,
   "id": "leading-throw",
   "metadata": {},
   "outputs": [],
   "source": [
    "eigvals, eigvecs = np.linalg.eig(FIM)"
   ]
  },
  {
   "cell_type": "code",
   "execution_count": null,
   "id": "objective-creativity",
   "metadata": {},
   "outputs": [],
   "source": [
    "eigvals"
   ]
  },
  {
   "cell_type": "code",
   "execution_count": null,
   "id": "disciplinary-creativity",
   "metadata": {},
   "outputs": [],
   "source": [
    "eigvecs"
   ]
  },
  {
   "cell_type": "markdown",
   "id": "fluid-sunrise",
   "metadata": {},
   "source": [
    "All eigenvalues >> 0, assuming that these 2 parameters are identifiable with the given T, x, P data"
   ]
  },
  {
   "cell_type": "markdown",
   "id": "greek-gossip",
   "metadata": {},
   "source": [
    "**Pressure**"
   ]
  },
  {
   "cell_type": "code",
   "execution_count": null,
   "id": "earned-defense",
   "metadata": {},
   "outputs": [],
   "source": [
    "eigvals_P, eigvecs_P = np.linalg.eig(FIM_P)"
   ]
  },
  {
   "cell_type": "code",
   "execution_count": null,
   "id": "thick-grain",
   "metadata": {},
   "outputs": [],
   "source": [
    "eigvals_P"
   ]
  },
  {
   "cell_type": "code",
   "execution_count": null,
   "id": "terminal-effort",
   "metadata": {},
   "outputs": [],
   "source": [
    "eigvecs_P"
   ]
  },
  {
   "cell_type": "markdown",
   "id": "weighted-meeting",
   "metadata": {},
   "source": [
    "All eigvals >> 0, assuming these 2 parameters are identifiable with the given T, x, P data"
   ]
  },
  {
   "cell_type": "markdown",
   "id": "capital-declaration",
   "metadata": {},
   "source": [
    "## AIC Value\n",
    "\n",
    "See https://docs.google.com/document/d/1um0r2XK4ldjjy2colOqaZsEM3wIzGD6l_3B8gnpnI2I/edit# for equations"
   ]
  },
  {
   "cell_type": "markdown",
   "id": "about-offering",
   "metadata": {},
   "source": [
    "### Calculate MLE"
   ]
  },
  {
   "cell_type": "code",
   "execution_count": null,
   "id": "cutting-chair",
   "metadata": {},
   "outputs": [],
   "source": [
    "### Define calc model P function\n",
    "\n",
    "def calcPmod(theta,data):\n",
    "    '''\n",
    "    Arguments:\n",
    "    theta - list of BIPs\n",
    "    data - data needed to run the model\n",
    "    \n",
    "    Returns\n",
    "    Pmod - list of calculated pressures\n",
    "    '''\n",
    "    \n",
    "    m = ConcreteModel()\n",
    "\n",
    "    m.fs = FlowsheetBlock(default={\"dynamic\": False})\n",
    "\n",
    "    m.fs.properties = GenericParameterBlock(default=configuration)\n",
    "\n",
    "    m.fs.F101 = Flash(default={\"property_package\": m.fs.properties,\n",
    "                               \"has_heat_transfer\": True,\n",
    "                               \"has_pressure_change\": True})\n",
    "\n",
    "    m.fs.F101.inlet.flow_mol.fix(1)\n",
    "    m.fs.F101.inlet.temperature.fix(323.15)\n",
    "    m.fs.F101.inlet.pressure.fix(399800)\n",
    "    m.fs.F101.inlet.mole_frac_comp[0,'R32'].fix(0.5)\n",
    "\n",
    "    m.fs.properties.PR_kappa_A['R32','emimTf2N'] = theta[0]\n",
    "    m.fs.properties.PR_kappa_A['emimTf2N','R32'] = theta[1]\n",
    "\n",
    "    # Initialize the flash unit\n",
    "    m.fs.F101.initialize(outlvl=idaeslog.CRITICAL)\n",
    "\n",
    "    # Fix the state variables on the state block\n",
    "    # m.fs.F101.inlet.pressure.unfix()\n",
    "    m.fs.F101.inlet.mole_frac_comp[0,'emimTf2N'].unfix()\n",
    "\n",
    "    R32_x = np.zeros((len(data)))\n",
    "    P = np.zeros((len(data)))\n",
    "\n",
    "    m.fs.liq = Param(mutable=True,default=0.040)\n",
    "    m.fs.liquid = Constraint(expr=m.fs.F101.liq_outlet.mole_frac_comp[0, \"emimTf2N\"] == m.fs.liq)\n",
    "\n",
    "    for i in range(len(data)):\n",
    "        m.fs.liq = data[\"x_emimTf2N\"].iloc[i]\n",
    "        m.fs.F101.inlet.temperature.fix(float(data[\"temperature\"].iloc[i]))\n",
    "        m.fs.F101.inlet.pressure.fix(float(data[\"pressure\"].iloc[i]))\n",
    "        m.fs.F101.inlet.mole_frac_comp[0,'R32'].fix(float(data[\"x_R32\"].iloc[i])+0.1)\n",
    "        m.fs.F101.inlet.mole_frac_comp[0,'emimTf2N'].fix(float(1-(data[\"x_R32\"].iloc[i]+0.1)))\n",
    "        m.fs.F101.vap_outlet.temperature.fix(float(data[\"temperature\"].iloc[i]))\n",
    "\n",
    "    #     DOF_final = degrees_of_freedom(m)\n",
    "    #     print(\"The final DOF is {0}\".format(DOF_final))\n",
    "        m.fs.F101.initialize(outlvl=idaeslog.CRITICAL)\n",
    "\n",
    "        status = solver.solve(m, tee = False)\n",
    "\n",
    "    #     m.fs.F101.report()\n",
    "        if (status.solver.status == SolverStatus.ok) and (status.solver.termination_condition == TerminationCondition.optimal):\n",
    "#             print(data[\"x_emimTf2N\"].iloc[i])\n",
    "            R32_x[i] = value(m.fs.F101.liq_outlet.mole_frac_comp[0,'R32']) \n",
    "            P[i] = value(m.fs.F101.vap_outlet.pressure[0])\n",
    "\n",
    "        else:\n",
    "            print('Infeasible.')\n",
    "            \n",
    "    Pmod = P\n",
    "    \n",
    "    return Pmod"
   ]
  },
  {
   "cell_type": "code",
   "execution_count": null,
   "id": "mediterranean-oregon",
   "metadata": {},
   "outputs": [],
   "source": [
    "### Define function to calculate residual\n",
    "def res(theta,data,Pexp):\n",
    "    '''\n",
    "    Arguments:\n",
    "    theta - list of BIPs\n",
    "    data - data needed to run the model\n",
    "    Pexp - list of experimental pressure data\n",
    "    \n",
    "    Returns:\n",
    "    residual between model and exp (note, this will be large because of units of P)\n",
    "    '''\n",
    "    \n",
    "    #Calculate model P\n",
    "    Pmod = calcPmod(theta,data)\n",
    "    \n",
    "    return Pexp - Pmod"
   ]
  },
  {
   "cell_type": "code",
   "execution_count": null,
   "id": "afraid-format",
   "metadata": {},
   "outputs": [],
   "source": [
    "theta_guess = [parameters['fs.properties.PR_kappa_A[R32,emimTf2N]'],parameters['fs.properties.PR_kappa_A[emimTf2N,R32]']]\n",
    "Pexp = data_subset['pressure'].values.tolist()\n",
    "n = 2\n",
    "bnds = ([-20,-20],[20,20])"
   ]
  },
  {
   "cell_type": "code",
   "execution_count": null,
   "id": "affected-dressing",
   "metadata": {},
   "outputs": [],
   "source": [
    "# theta0 = [-0.05,-0.04,-0.03,-0.02,-0.01,-0.001]\n",
    "# restest = []\n",
    "# for i in range(len(theta0)):\n",
    "#     theta_guess = [theta0[i],parameters['fs.properties.PR_kappa_A[emimTf2N,R32]']]\n",
    "#     restest.append(res(theta_guess,data_subset,Pexp,n))\n",
    "    \n",
    "# plt.plot(theta0,restest)\n",
    "# plt.show()"
   ]
  },
  {
   "cell_type": "code",
   "execution_count": null,
   "id": "limiting-saskatchewan",
   "metadata": {},
   "outputs": [],
   "source": [
    "### solve\n",
    "sol = scipy.optimize.least_squares(res, theta_guess, method='trf', args=(data_subset,Pexp),bounds=bnds)"
   ]
  },
  {
   "cell_type": "code",
   "execution_count": null,
   "id": "wanted-plane",
   "metadata": {},
   "outputs": [],
   "source": [
    "theta_hat = sol.x\n",
    "theta_hat"
   ]
  },
  {
   "cell_type": "code",
   "execution_count": null,
   "id": "centered-public",
   "metadata": {},
   "outputs": [],
   "source": [
    "def SSR(theta,data,Pexp):\n",
    "    '''\n",
    "    Arguments:\n",
    "    theta - list of BIPs\n",
    "    data - data needed to run the model\n",
    "    Pexp - list of experimental pressure data\n",
    "    \n",
    "    Returns:\n",
    "    SSR - sum of residuals squared\n",
    "    '''\n",
    "    \n",
    "    #Calculate model P\n",
    "    Pmod = calcPmod(theta,data)\n",
    "    \n",
    "    #Calculate residual squared\n",
    "    res = (Pexp - Pmod)**2\n",
    "    \n",
    "    #Sum residuals squared\n",
    "    SSR = np.sum(res)\n",
    "    \n",
    "    return SSR"
   ]
  },
  {
   "cell_type": "code",
   "execution_count": null,
   "id": "editorial-masters",
   "metadata": {},
   "outputs": [],
   "source": [
    "SSR = SSR(theta_hat,data_subset,Pexp)\n",
    "SSR"
   ]
  },
  {
   "cell_type": "code",
   "execution_count": null,
   "id": "weekly-artist",
   "metadata": {},
   "outputs": [],
   "source": [
    "sigma_sq = SSR/n\n",
    "sigma_sq"
   ]
  },
  {
   "cell_type": "code",
   "execution_count": null,
   "id": "official-trouble",
   "metadata": {},
   "outputs": [],
   "source": [
    "L = -n/2*np.log(2*np.pi) - n/2*np.log(sigma_sq) - 1/(2*sigma_sq)*SSR\n",
    "L"
   ]
  },
  {
   "cell_type": "code",
   "execution_count": null,
   "id": "absent-twist",
   "metadata": {},
   "outputs": [],
   "source": [
    "AIC = 2*n - 2*L\n",
    "AIC"
   ]
  },
  {
   "cell_type": "markdown",
   "id": "tired-handle",
   "metadata": {},
   "source": [
    "Other AIC - using SSR calculated in above parameter fitting"
   ]
  },
  {
   "cell_type": "code",
   "execution_count": 14,
   "id": "e0601fdd",
   "metadata": {},
   "outputs": [],
   "source": [
    "n=2"
   ]
  },
  {
   "cell_type": "code",
   "execution_count": 15,
   "id": "medical-antarctica",
   "metadata": {},
   "outputs": [
    {
     "data": {
      "text/plain": [
       "11.445205140482908"
      ]
     },
     "execution_count": 15,
     "metadata": {},
     "output_type": "execute_result"
    }
   ],
   "source": [
    "SSR_other = obj_value\n",
    "SSR_other"
   ]
  },
  {
   "cell_type": "code",
   "execution_count": 16,
   "id": "capital-direction",
   "metadata": {},
   "outputs": [
    {
     "data": {
      "text/plain": [
       "5.722602570241454"
      ]
     },
     "execution_count": 16,
     "metadata": {},
     "output_type": "execute_result"
    }
   ],
   "source": [
    "sigma_sq_other = SSR_other/n\n",
    "sigma_sq_other"
   ]
  },
  {
   "cell_type": "code",
   "execution_count": 17,
   "id": "canadian-blast",
   "metadata": {},
   "outputs": [
    {
     "data": {
      "text/plain": [
       "-4.582300763119763"
      ]
     },
     "execution_count": 17,
     "metadata": {},
     "output_type": "execute_result"
    }
   ],
   "source": [
    "L_other = -n/2*np.log(2*np.pi) - n/2*np.log(sigma_sq_other) - 1/(2*sigma_sq_other)*SSR_other\n",
    "L_other"
   ]
  },
  {
   "cell_type": "code",
   "execution_count": 18,
   "id": "banner-clearing",
   "metadata": {},
   "outputs": [
    {
     "data": {
      "text/plain": [
       "13.164601526239526"
      ]
     },
     "execution_count": 18,
     "metadata": {},
     "output_type": "execute_result"
    }
   ],
   "source": [
    "AIC_other = 2*n - 2*L_other\n",
    "AIC_other"
   ]
  },
  {
   "cell_type": "code",
   "execution_count": null,
   "id": "damaged-triangle",
   "metadata": {},
   "outputs": [],
   "source": []
  }
 ],
 "metadata": {
  "kernelspec": {
   "display_name": "Python 3 (ipykernel)",
   "language": "python",
   "name": "python3"
  },
  "language_info": {
   "codemirror_mode": {
    "name": "ipython",
    "version": 3
   },
   "file_extension": ".py",
   "mimetype": "text/x-python",
   "name": "python",
   "nbconvert_exporter": "python",
   "pygments_lexer": "ipython3",
   "version": "3.7.12"
  }
 },
 "nbformat": 4,
 "nbformat_minor": 5
}
