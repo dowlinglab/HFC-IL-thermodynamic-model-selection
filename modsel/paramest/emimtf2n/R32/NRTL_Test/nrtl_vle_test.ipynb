{
 "cells": [
  {
   "cell_type": "markdown",
   "id": "8006c348",
   "metadata": {},
   "source": [
    "## Imports"
   ]
  },
  {
   "cell_type": "code",
   "execution_count": null,
   "id": "5ef0ed8a",
   "metadata": {},
   "outputs": [],
   "source": [
    "# Todo: import ConcreteModel from pyomo.environ\n",
    "from pyomo.environ import ConcreteModel, value\n",
    "\n",
    "# Todo: import FlowsheetBlock from idaes.core\n",
    "from idaes.core import FlowsheetBlock"
   ]
  },
  {
   "cell_type": "code",
   "execution_count": null,
   "id": "ab130658",
   "metadata": {},
   "outputs": [],
   "source": [
    "from hfc32_emimtf2n_nrtl_VLE import HFCILParameterBlock\n",
    "import idaes.logger as idaeslog"
   ]
  },
  {
   "cell_type": "code",
   "execution_count": null,
   "id": "6cb5be98",
   "metadata": {},
   "outputs": [],
   "source": [
    "import pyomo.contrib.parmest.parmest as parmest\n",
    "import pandas as pd"
   ]
  },
  {
   "cell_type": "code",
   "execution_count": null,
   "id": "b6d3f6a3",
   "metadata": {},
   "outputs": [],
   "source": [
    "data = pd.read_csv('r32_emimtf2n_subset.csv')"
   ]
  },
  {
   "cell_type": "code",
   "execution_count": null,
   "id": "ce90b5a8",
   "metadata": {},
   "outputs": [],
   "source": [
    "data"
   ]
  },
  {
   "cell_type": "markdown",
   "id": "4346f79d",
   "metadata": {},
   "source": [
    "## Model Setup"
   ]
  },
  {
   "cell_type": "code",
   "execution_count": null,
   "id": "77faab38",
   "metadata": {},
   "outputs": [],
   "source": [
    "eps=0.0\n",
    "comp_1='R32'\n",
    "x_comp_1='x_R32'\n",
    "comp_2='emimTf2N'\n",
    "init_tau_1_2 = -0.3\n",
    "init_tau_2_1 = 0.5"
   ]
  },
  {
   "cell_type": "code",
   "execution_count": null,
   "id": "ac8a09f8",
   "metadata": {},
   "outputs": [],
   "source": [
    "def NRTL_model(data):\n",
    "    \n",
    "    #Todo: Create a ConcreteModel object\n",
    "    m = ConcreteModel()\n",
    "    \n",
    "    #Todo: Create FlowsheetBlock object\n",
    "    m.fs = FlowsheetBlock(default={\"dynamic\": False})\n",
    "    \n",
    "\n",
    "    #Todo: Create a properties parameter object with the following options:\n",
    "    # \"valid_phase\": ('Liq', 'Vap')\n",
    "    # \"activity_coeff_model\": 'NRTL'\n",
    "    m.fs.properties = HFCILParameterBlock(default={\"valid_phase\":\n",
    "                                                 ('Liq', 'Vap'),\n",
    "                                                 \"activity_coeff_model\":\n",
    "                                                 'NRTL'})\n",
    "    m.fs.state_block = m.fs.properties.state_block_class(\n",
    "        default={\"parameters\": m.fs.properties,\n",
    "                 \"defined_state\": True})\n",
    "\n",
    "    \n",
    "    # Fix the state variables on the state block\n",
    "    # hint: state variables exist on the state block i.e. on m.fs.state_block\n",
    "    \n",
    "    x = float(data[x_comp_1])+eps\n",
    "    \n",
    "    m.fs.state_block.flow_mol.fix(1)\n",
    "    m.fs.state_block.temperature.fix(float(data[\"temperature\"]))\n",
    "    m.fs.state_block.pressure.fix(float(data[\"pressure\"]))\n",
    "    m.fs.state_block.mole_frac_comp[comp_2].fix(1-x)\n",
    "    m.fs.state_block.mole_frac_comp[comp_1].fix(x)\n",
    "\n",
    "    # Fix NRTL specific parameters. \n",
    "    \n",
    "    # non-randomness parameter - alpha_ij (set at 0.3, 0 if i=j)\n",
    "    m.fs.properties.\\\n",
    "        alpha[comp_2, comp_2].fix(0)\n",
    "    m.fs.properties.\\\n",
    "        alpha[comp_2, comp_1].fix(0.3)\n",
    "    m.fs.properties.\\\n",
    "        alpha[comp_1, comp_1].fix(0)\n",
    "    m.fs.properties.\\\n",
    "        alpha[comp_1, comp_2].fix(0.3)\n",
    "\n",
    "    # binary interaction parameter - tau_ij (0 if i=j, else to be estimated later but fixing to initialize)\n",
    "    m.fs.properties.\\\n",
    "        tau[comp_2, comp_2].fix(0)\n",
    "    m.fs.properties.\\\n",
    "        tau[comp_2, comp_1].fix(init_tau_2_1)\n",
    "    m.fs.properties.\\\n",
    "        tau[comp_1, comp_1].fix(0)\n",
    "    m.fs.properties.\\\n",
    "        tau[comp_1, comp_2].fix(init_tau_1_2)\n",
    "\n",
    "    # Initialize the flash unit\n",
    "    m.fs.state_block.initialize(outlvl=idaeslog.INFO_LOW)\n",
    "\n",
    "    # Fix at actual temperature\n",
    "    m.fs.state_block.temperature.fix(float(data[\"temperature\"]))\n",
    "\n",
    "    # Set bounds on variables to be estimated\n",
    "    m.fs.properties.\\\n",
    "        tau[\"benzene\", \"toluene\"].setlb(-5)\n",
    "    m.fs.properties.\\\n",
    "        tau[\"benzene\", \"toluene\"].setub(5)\n",
    "\n",
    "    m.fs.properties.\\\n",
    "        tau[\"toluene\", \"benzene\"].setlb(-5)\n",
    "    m.fs.properties.\\\n",
    "        tau[\"toluene\", \"benzene\"].setub(5)\n",
    "\n",
    "    # Return initialized flash model\n",
    "    return m"
   ]
  },
  {
   "cell_type": "code",
   "execution_count": null,
   "id": "8df2ed20",
   "metadata": {},
   "outputs": [],
   "source": [
    "from idaes.core.util.model_statistics import degrees_of_freedom\n",
    "\n",
    "m=NRTL_model(data)\n",
    "\n",
    "degrees_of_freedom(m)"
   ]
  },
  {
   "cell_type": "code",
   "execution_count": null,
   "id": "664afcf4",
   "metadata": {},
   "outputs": [],
   "source": []
  }
 ],
 "metadata": {
  "kernelspec": {
   "display_name": "Python 3 (ipykernel)",
   "language": "python",
   "name": "python3"
  },
  "language_info": {
   "codemirror_mode": {
    "name": "ipython",
    "version": 3
   },
   "file_extension": ".py",
   "mimetype": "text/x-python",
   "name": "python",
   "nbconvert_exporter": "python",
   "pygments_lexer": "ipython3",
   "version": "3.9.9"
  }
 },
 "nbformat": 4,
 "nbformat_minor": 5
}
