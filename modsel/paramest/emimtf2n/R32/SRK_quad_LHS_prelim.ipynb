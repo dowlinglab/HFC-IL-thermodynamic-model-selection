{
 "cells": [
  {
   "cell_type": "markdown",
   "id": "d4de6609",
   "metadata": {},
   "source": [
    "# Organize LH sample for PR poly LHS multistart"
   ]
  },
  {
   "cell_type": "code",
   "execution_count": 1,
   "id": "309efa6a",
   "metadata": {},
   "outputs": [],
   "source": [
    "import pandas as pd\n",
    "import numpy as np\n",
    "\n",
    "import sys\n",
    "sys.path.append('../../')"
   ]
  },
  {
   "cell_type": "code",
   "execution_count": 2,
   "id": "6539d4ff",
   "metadata": {},
   "outputs": [],
   "source": [
    "SRK_lin_results = pd.read_csv('Data/Fits/LHS_Fits/SRK_linTdep_LHS.csv',index_col=0)"
   ]
  },
  {
   "cell_type": "code",
   "execution_count": 3,
   "id": "c57b9fa9",
   "metadata": {},
   "outputs": [
    {
     "data": {
      "text/html": [
       "<div>\n",
       "<style scoped>\n",
       "    .dataframe tbody tr th:only-of-type {\n",
       "        vertical-align: middle;\n",
       "    }\n",
       "\n",
       "    .dataframe tbody tr th {\n",
       "        vertical-align: top;\n",
       "    }\n",
       "\n",
       "    .dataframe thead th {\n",
       "        text-align: right;\n",
       "    }\n",
       "</style>\n",
       "<table border=\"1\" class=\"dataframe\">\n",
       "  <thead>\n",
       "    <tr style=\"text-align: right;\">\n",
       "      <th></th>\n",
       "      <th>Param1</th>\n",
       "      <th>Param2</th>\n",
       "      <th>Param3</th>\n",
       "      <th>Param4</th>\n",
       "      <th>sc_param1</th>\n",
       "      <th>sc_param2</th>\n",
       "      <th>sc_param3</th>\n",
       "      <th>sc_param4</th>\n",
       "      <th>SRK_kappa_A[emimTf2N,R32]</th>\n",
       "      <th>SRK_kappa_A[R32,emimTf2N]</th>\n",
       "      <th>SRK_kappa_B[emimTf2N,R32]</th>\n",
       "      <th>SRK_kappa_B[R32,emimTf2N]</th>\n",
       "      <th>SSR</th>\n",
       "    </tr>\n",
       "  </thead>\n",
       "  <tbody>\n",
       "    <tr>\n",
       "      <th>70</th>\n",
       "      <td>0.253478</td>\n",
       "      <td>0.654050</td>\n",
       "      <td>0.909866</td>\n",
       "      <td>0.343286</td>\n",
       "      <td>-0.495915</td>\n",
       "      <td>0.312509</td>\n",
       "      <td>0.820636</td>\n",
       "      <td>-0.314104</td>\n",
       "      <td>0.092406</td>\n",
       "      <td>-2.647708</td>\n",
       "      <td>-0.102096</td>\n",
       "      <td>3.011996</td>\n",
       "      <td>3.970975</td>\n",
       "    </tr>\n",
       "    <tr>\n",
       "      <th>189</th>\n",
       "      <td>0.796447</td>\n",
       "      <td>0.144943</td>\n",
       "      <td>0.308837</td>\n",
       "      <td>0.878434</td>\n",
       "      <td>0.596881</td>\n",
       "      <td>-0.709315</td>\n",
       "      <td>-0.383858</td>\n",
       "      <td>0.762490</td>\n",
       "      <td>0.132577</td>\n",
       "      <td>-2.849367</td>\n",
       "      <td>-0.137143</td>\n",
       "      <td>3.176878</td>\n",
       "      <td>6.469150</td>\n",
       "    </tr>\n",
       "    <tr>\n",
       "      <th>211</th>\n",
       "      <td>0.770478</td>\n",
       "      <td>0.736503</td>\n",
       "      <td>0.192389</td>\n",
       "      <td>0.269361</td>\n",
       "      <td>0.544616</td>\n",
       "      <td>0.477999</td>\n",
       "      <td>-0.617227</td>\n",
       "      <td>-0.462823</td>\n",
       "      <td>0.111197</td>\n",
       "      <td>1.055461</td>\n",
       "      <td>-0.161220</td>\n",
       "      <td>-1.213869</td>\n",
       "      <td>0.047553</td>\n",
       "    </tr>\n",
       "  </tbody>\n",
       "</table>\n",
       "</div>"
      ],
      "text/plain": [
       "       Param1    Param2    Param3    Param4  sc_param1  sc_param2  sc_param3  \\\n",
       "70   0.253478  0.654050  0.909866  0.343286  -0.495915   0.312509   0.820636   \n",
       "189  0.796447  0.144943  0.308837  0.878434   0.596881  -0.709315  -0.383858   \n",
       "211  0.770478  0.736503  0.192389  0.269361   0.544616   0.477999  -0.617227   \n",
       "\n",
       "     sc_param4  SRK_kappa_A[emimTf2N,R32]  SRK_kappa_A[R32,emimTf2N]  \\\n",
       "70   -0.314104                   0.092406                  -2.647708   \n",
       "189   0.762490                   0.132577                  -2.849367   \n",
       "211  -0.462823                   0.111197                   1.055461   \n",
       "\n",
       "     SRK_kappa_B[emimTf2N,R32]  SRK_kappa_B[R32,emimTf2N]       SSR  \n",
       "70                   -0.102096                   3.011996  3.970975  \n",
       "189                  -0.137143                   3.176878  6.469150  \n",
       "211                  -0.161220                  -1.213869  0.047553  "
      ]
     },
     "execution_count": 3,
     "metadata": {},
     "output_type": "execute_result"
    }
   ],
   "source": [
    "SRK_lin_results.dropna(axis=0)"
   ]
  },
  {
   "cell_type": "code",
   "execution_count": 4,
   "id": "a45ca2d2",
   "metadata": {},
   "outputs": [],
   "source": [
    "lin_211 = SRK_lin_results.iloc[211]"
   ]
  },
  {
   "cell_type": "code",
   "execution_count": 5,
   "id": "0fd9b1b0",
   "metadata": {},
   "outputs": [
    {
     "data": {
      "text/plain": [
       "Param1                       0.770478\n",
       "Param2                       0.736503\n",
       "Param3                       0.192389\n",
       "Param4                       0.269361\n",
       "sc_param1                    0.544616\n",
       "sc_param2                    0.477999\n",
       "sc_param3                   -0.617227\n",
       "sc_param4                   -0.462823\n",
       "SRK_kappa_A[emimTf2N,R32]    0.111197\n",
       "SRK_kappa_A[R32,emimTf2N]    1.055461\n",
       "SRK_kappa_B[emimTf2N,R32]   -0.161220\n",
       "SRK_kappa_B[R32,emimTf2N]   -1.213869\n",
       "SSR                          0.047553\n",
       "Name: 211, dtype: float64"
      ]
     },
     "execution_count": 5,
     "metadata": {},
     "output_type": "execute_result"
    }
   ],
   "source": [
    "lin_211"
   ]
  },
  {
   "cell_type": "code",
   "execution_count": 6,
   "id": "d0b2c57a",
   "metadata": {},
   "outputs": [],
   "source": [
    "lhs = pd.read_csv('../../LHS_250x8.txt')"
   ]
  },
  {
   "cell_type": "code",
   "execution_count": 7,
   "id": "3ba4bd62",
   "metadata": {},
   "outputs": [],
   "source": [
    "lhs['sc_param5'] = ((lhs['Param5']-lhs['Param5'].min())/(lhs['Param5'].max()-lhs['Param5'].min()))*4+(-2)\n",
    "lhs['sc_param6'] = ((lhs['Param6']-lhs['Param6'].min())/(lhs['Param6'].max()-lhs['Param6'].min()))*4+(-2)"
   ]
  },
  {
   "cell_type": "code",
   "execution_count": 8,
   "id": "d1497feb",
   "metadata": {},
   "outputs": [],
   "source": [
    "lin_211_sc = lin_211[['sc_param1','sc_param2','sc_param3','sc_param4']]\n",
    "lin_211_act = lin_211[['SRK_kappa_A[emimTf2N,R32]','SRK_kappa_A[R32,emimTf2N]','SRK_kappa_B[emimTf2N,R32]','SRK_kappa_B[R32,emimTf2N]']]"
   ]
  },
  {
   "cell_type": "code",
   "execution_count": 9,
   "id": "1e325f20",
   "metadata": {},
   "outputs": [],
   "source": [
    "lin_211_sc_df = pd.DataFrame(lin_211_sc).T\n",
    "sc = pd.concat([lin_211_sc_df]*250,ignore_index=True)\n",
    "sc_lhs = pd.concat([sc,lhs[['sc_param5','sc_param6']]],axis=1,ignore_index=True)\n",
    "sc_lhs.columns = ['sc_param1','sc_param2','sc_param3','sc_param4','sc_param5','sc_param6']\n",
    "sc_lhs.to_csv('Data/Fits/LHS_Fits/SRK_quadTdep_scLHS.csv',sep=',')"
   ]
  },
  {
   "cell_type": "code",
   "execution_count": 10,
   "id": "faa8f63a",
   "metadata": {},
   "outputs": [],
   "source": [
    "lin_211_act_df = pd.DataFrame(lin_211_act).T\n",
    "lin_211_act_df.columns = ['sc_param1','sc_param2','sc_param3','sc_param4']\n",
    "act = pd.concat([lin_211_act_df]*250,ignore_index=True)\n",
    "act_lhs = pd.concat([act,lhs[['sc_param5','sc_param6']]],axis=1,ignore_index=True)\n",
    "act_lhs.columns = ['sc_param1','sc_param2','sc_param3','sc_param4','sc_param5','sc_param6']\n",
    "act_lhs.to_csv('Data/Fits/LHS_Fits/SRK_quadTdep_actLHS.csv',sep=',')"
   ]
  },
  {
   "cell_type": "code",
   "execution_count": null,
   "id": "3ee80540",
   "metadata": {},
   "outputs": [],
   "source": [
    "sc_lhs"
   ]
  },
  {
   "cell_type": "code",
   "execution_count": null,
   "id": "ae5e23a5",
   "metadata": {},
   "outputs": [],
   "source": [
    "act_lhs"
   ]
  },
  {
   "cell_type": "code",
   "execution_count": null,
   "id": "804d5655",
   "metadata": {},
   "outputs": [],
   "source": []
  }
 ],
 "metadata": {
  "kernelspec": {
   "display_name": "Python 3 (ipykernel)",
   "language": "python",
   "name": "python3"
  },
  "language_info": {
   "codemirror_mode": {
    "name": "ipython",
    "version": 3
   },
   "file_extension": ".py",
   "mimetype": "text/x-python",
   "name": "python",
   "nbconvert_exporter": "python",
   "pygments_lexer": "ipython3",
   "version": "3.9.9"
  }
 },
 "nbformat": 4,
 "nbformat_minor": 5
}
