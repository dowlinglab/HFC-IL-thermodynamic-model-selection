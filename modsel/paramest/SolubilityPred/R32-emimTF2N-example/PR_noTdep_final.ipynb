{
 "cells": [
  {
   "cell_type": "markdown",
   "id": "voluntary-ridge",
   "metadata": {},
   "source": [
    "# Fit emimTF2N data\n",
    "\n",
    "EoS: PR\n",
    "\n",
    "Parameter T dependence: Constant\n",
    "\n",
    "N (total fitting parameters): 2"
   ]
  },
  {
   "cell_type": "markdown",
   "id": "improved-meeting",
   "metadata": {},
   "source": [
    "## Import Functions"
   ]
  },
  {
   "cell_type": "code",
   "execution_count": 1,
   "id": "contained-performance",
   "metadata": {},
   "outputs": [],
   "source": [
    "import idaes\n",
    "\n",
    "import pandas as pd\n",
    "import numpy as np\n",
    "import matplotlib.pyplot as plt\n",
    "import scipy.optimize\n",
    "\n",
    "import sys\n",
    "sys.path.append('../')\n",
    "\n",
    "from pyomo.environ import (Constraint,\n",
    "                           Var,\n",
    "                           ConcreteModel,\n",
    "                           Expression,\n",
    "                           Param,\n",
    "                           Objective,\n",
    "                           SolverFactory,\n",
    "                           TransformationFactory,\n",
    "                           value)\n",
    "from pyomo.opt import TerminationCondition, SolverStatus\n",
    "\n",
    "from idaes.core import FlowsheetBlock\n",
    "import idaes.logger as idaeslog\n",
    "# Import the Generic Parameter Block\n",
    "from idaes.generic_models.properties.core.generic.generic_property import (\n",
    "        GenericParameterBlock)\n",
    "# Import unit models from the model library\n",
    "from idaes.generic_models.unit_models import Flash\n",
    "# Import degrees of freedom tool\n",
    "from idaes.core.util.model_statistics import degrees_of_freedom\n",
    "\n",
    "# parmest\n",
    "from bip_fitting_functions import constant\n",
    "\n",
    "import scipy.stats as stats"
   ]
  },
  {
   "cell_type": "markdown",
   "id": "judicial-calculator",
   "metadata": {},
   "source": [
    "## Load Data"
   ]
  },
  {
   "cell_type": "code",
   "execution_count": 2,
   "id": "technological-freeze",
   "metadata": {},
   "outputs": [],
   "source": [
    "#FILLIN: change data file\n",
    "data_subset = pd.read_csv('r32_emimtf2n_subset.csv')"
   ]
  },
  {
   "cell_type": "markdown",
   "id": "swiss-sphere",
   "metadata": {},
   "source": [
    "## Load Configuration + Check DOF "
   ]
  },
  {
   "cell_type": "code",
   "execution_count": 3,
   "id": "independent-layout",
   "metadata": {},
   "outputs": [],
   "source": [
    "#FILLIN: change configuration file\n",
    "from hfc32_emimtf2n_PR import configuration "
   ]
  },
  {
   "cell_type": "code",
   "execution_count": 4,
   "id": "featured-nicholas",
   "metadata": {},
   "outputs": [
    {
     "name": "stdout",
     "output_type": "stream",
     "text": [
      "The initial DOF is 7\n"
     ]
    }
   ],
   "source": [
    "m = ConcreteModel()\n",
    "m.fs = FlowsheetBlock(default={\"dynamic\": False})\n",
    "m.fs.properties = GenericParameterBlock(default=configuration)\n",
    "m.fs.F101 = Flash(default={\"property_package\": m.fs.properties,\n",
    "                           \"has_heat_transfer\": True,\n",
    "                           \"has_pressure_change\": True})\n",
    "DOF_initial = degrees_of_freedom(m)\n",
    "print('The initial DOF is {0}'.format(DOF_initial))"
   ]
  },
  {
   "cell_type": "markdown",
   "id": "veterinary-first",
   "metadata": {},
   "source": [
    "## Fit Parameters"
   ]
  },
  {
   "cell_type": "code",
   "execution_count": 5,
   "id": "15cabef0",
   "metadata": {},
   "outputs": [
    {
     "name": "stdout",
     "output_type": "stream",
     "text": [
      "2022-08-31 14:16:16 [INFO] idaes.init.fs.state_block: Property package initialization: optimal - Optimal Solution Found.\n",
      "2022-08-31 14:16:18 [INFO] idaes.init.fs.state_block: Property package initialization: optimal - Optimal Solution Found.\n",
      "2022-08-31 14:16:20 [INFO] idaes.init.fs.state_block: Property package initialization: optimal - Optimal Solution Found.\n",
      "2022-08-31 14:16:20 [INFO] idaes.init.fs.state_block: Property package initialization: optimal - Optimal Solution Found.\n",
      "2022-08-31 14:16:21 [INFO] idaes.init.fs.state_block: Property package initialization: optimal - Optimal Solution Found.\n",
      "2022-08-31 14:16:22 [INFO] idaes.init.fs.state_block: Property package initialization: optimal - Optimal Solution Found.\n",
      "2022-08-31 14:16:23 [INFO] idaes.init.fs.state_block: Property package initialization: optimal - Optimal Solution Found.\n",
      "2022-08-31 14:16:24 [INFO] idaes.init.fs.state_block: Property package initialization: optimal - Optimal Solution Found.\n",
      "2022-08-31 14:16:25 [INFO] idaes.init.fs.state_block: Property package initialization: optimal - Optimal Solution Found.\n",
      "2022-08-31 14:16:26 [INFO] idaes.init.fs.state_block: Property package initialization: optimal - Optimal Solution Found.\n",
      "2022-08-31 14:16:27 [INFO] idaes.init.fs.state_block: Property package initialization: optimal - Optimal Solution Found.\n",
      "2022-08-31 14:16:28 [INFO] idaes.init.fs.state_block: Property package initialization: optimal - Optimal Solution Found.\n",
      "2022-08-31 14:16:28 [INFO] idaes.init.fs.state_block: Property package initialization: optimal - Optimal Solution Found.\n",
      "2022-08-31 14:16:29 [INFO] idaes.init.fs.state_block: Property package initialization: optimal - Optimal Solution Found.\n",
      "2022-08-31 14:16:30 [INFO] idaes.init.fs.state_block: Property package initialization: optimal - Optimal Solution Found.\n",
      "2022-08-31 14:16:32 [INFO] idaes.init.fs.state_block: Property package initialization: optimal - Optimal Solution Found.\n",
      "2022-08-31 14:16:33 [INFO] idaes.init.fs.state_block: Property package initialization: optimal - Optimal Solution Found.\n",
      "2022-08-31 14:16:33 [INFO] idaes.init.fs.state_block: Property package initialization: optimal - Optimal Solution Found.\n",
      "2022-08-31 14:16:34 [INFO] idaes.init.fs.state_block: Property package initialization: optimal - Optimal Solution Found.\n",
      "2022-08-31 14:16:35 [INFO] idaes.init.fs.state_block: Property package initialization: optimal - Optimal Solution Found.\n",
      "2022-08-31 14:16:36 [INFO] idaes.init.fs.state_block: Property package initialization: optimal - Optimal Solution Found.\n",
      "2022-08-31 14:16:37 [INFO] idaes.init.fs.state_block: Property package initialization: optimal - Optimal Solution Found.\n",
      "2022-08-31 14:16:38 [INFO] idaes.init.fs.state_block: Property package initialization: optimal - Optimal Solution Found.\n",
      "2022-08-31 14:16:38 [INFO] idaes.init.fs.state_block: Property package initialization: optimal - Optimal Solution Found.\n",
      "2022-08-31 14:16:39 [INFO] idaes.init.fs.state_block: Property package initialization: optimal - Optimal Solution Found.\n",
      "2022-08-31 14:16:40 [INFO] idaes.init.fs.state_block: Property package initialization: optimal - Optimal Solution Found.\n",
      "2022-08-31 14:16:41 [INFO] idaes.init.fs.state_block: Property package initialization: optimal - Optimal Solution Found.\n",
      "WARNING: The current pynumero_ASL library is version=2, but found version=1.\n",
      "    Please recompile / update your pynumero_ASL library.\n"
     ]
    },
    {
     "name": "stderr",
     "output_type": "stream",
     "text": [
      "/Users/bridgettebefort/opt/anaconda3/envs/idaes-pse-dev/lib/python3.9/site-packages/pyomo/contrib/interior_point/interface.py:418: RuntimeWarning: divide by zero encountered in true_divide\n",
      "  data = (duals_primals_lb/(primals - self._nlp.primals_lb()) +\n"
     ]
    }
   ],
   "source": [
    "#FILLIN: change component names, change init_kappa values to find good initial point\n",
    "\n",
    "parameters, obj_value, a = constant(data_subset, configuration, 'R32', 'emimTf2N', \"x_R32\", \"x_emimTf2N\", \n",
    "        init_temp =  283.1, init_press =   399300 , init_x_c1 =    0.448, init_x_c2 = 0.552,\n",
    "        init_kappa_A_2_1 = -0.294291, init_kappa_A_1_2 = -0.08582, #FILLIN: may need to change these to initialize\n",
    "        eps = 0.1, scaling_fac = 1e-9, \n",
    "        filename='Data/Ipopt_Output/PR_noTdep_final.txt')"
   ]
  },
  {
   "cell_type": "code",
   "execution_count": 6,
   "id": "collect-amount",
   "metadata": {},
   "outputs": [
    {
     "name": "stdout",
     "output_type": "stream",
     "text": [
      "Objective (SSE): 0.6526637302428189\n"
     ]
    }
   ],
   "source": [
    "print('Objective (SSE):',obj_value)"
   ]
  },
  {
   "cell_type": "code",
   "execution_count": 7,
   "id": "5cf32852",
   "metadata": {},
   "outputs": [
    {
     "name": "stdout",
     "output_type": "stream",
     "text": [
      "Parameters: fs.properties.PR_kappa_A[emimTf2N,R32]   -0.200947\n",
      "fs.properties.PR_kappa_A[R32,emimTf2N]   -0.056196\n",
      "dtype: float64\n"
     ]
    }
   ],
   "source": [
    "print('Parameters:',parameters)"
   ]
  },
  {
   "cell_type": "code",
   "execution_count": 8,
   "id": "fewer-madonna",
   "metadata": {},
   "outputs": [
    {
     "name": "stdout",
     "output_type": "stream",
     "text": [
      "Covariance Matrix:\n",
      "[[3.66990409e-04 3.31181344e-05]\n",
      " [3.31181344e-05 4.59347392e-06]]\n"
     ]
    }
   ],
   "source": [
    "cov = np.array(a)\n",
    "print('Covariance Matrix:')\n",
    "print(cov)"
   ]
  },
  {
   "cell_type": "markdown",
   "id": "884da893",
   "metadata": {},
   "source": [
    "## Apply Parameters + Plot + Predict"
   ]
  },
  {
   "cell_type": "code",
   "execution_count": 9,
   "id": "homeless-banana",
   "metadata": {},
   "outputs": [],
   "source": [
    "# Define solver options\n",
    "solver = SolverFactory('ipopt')\n",
    "solver.options = {'tol': 1e-6}"
   ]
  },
  {
   "cell_type": "markdown",
   "id": "f30b5fe6",
   "metadata": {},
   "source": [
    "### Plot"
   ]
  },
  {
   "cell_type": "code",
   "execution_count": 10,
   "id": "historical-spice",
   "metadata": {},
   "outputs": [
    {
     "name": "stdout",
     "output_type": "stream",
     "text": [
      "i: 0\n",
      "Try x_IL: 0.864\n",
      "Feasible/Optimal Solution\n",
      "i: 1\n",
      "Try x_IL: 0.694\n",
      "Feasible/Optimal Solution\n",
      "i: 2\n",
      "Try x_IL: 0.552\n",
      "Feasible/Optimal Solution\n",
      "i: 3\n",
      "Try x_IL: 0.43\n",
      "Feasible/Optimal Solution\n",
      "i: 4\n",
      "Try x_IL: 0.328\n",
      "Feasible/Optimal Solution\n",
      "i: 5\n",
      "Try x_IL: 0.214\n",
      "Feasible/Optimal Solution\n",
      "i: 6\n",
      "Try x_IL: 0.905\n",
      "Feasible/Optimal Solution\n",
      "i: 7\n",
      "Try x_IL: 0.782\n",
      "Feasible/Optimal Solution\n",
      "i: 8\n",
      "Try x_IL: 0.675\n",
      "Feasible/Optimal Solution\n",
      "i: 9\n",
      "Try x_IL: 0.583\n",
      "Feasible/Optimal Solution\n",
      "i: 10\n",
      "Try x_IL: 0.501\n",
      "Feasible/Optimal Solution\n",
      "i: 11\n",
      "Try x_IL: 0.43\n",
      "Feasible/Optimal Solution\n",
      "i: 12\n",
      "Try x_IL: 0.357\n",
      "Feasible/Optimal Solution\n",
      "i: 13\n",
      "Try x_IL: 0.945\n",
      "Feasible/Optimal Solution\n",
      "i: 14\n",
      "Try x_IL: 0.867\n",
      "Feasible/Optimal Solution\n",
      "i: 15\n",
      "Try x_IL: 0.8\n",
      "Feasible/Optimal Solution\n",
      "i: 16\n",
      "Try x_IL: 0.736\n",
      "Feasible/Optimal Solution\n",
      "i: 17\n",
      "Try x_IL: 0.68\n",
      "Feasible/Optimal Solution\n",
      "i: 18\n",
      "Try x_IL: 0.632\n",
      "Feasible/Optimal Solution\n",
      "i: 19\n",
      "Try x_IL: 0.583\n",
      "Feasible/Optimal Solution\n",
      "i: 20\n",
      "Try x_IL: 0.966\n",
      "Feasible/Optimal Solution\n",
      "i: 21\n",
      "Try x_IL: 0.916\n",
      "Feasible/Optimal Solution\n",
      "i: 22\n",
      "Try x_IL: 0.869\n",
      "Feasible/Optimal Solution\n",
      "i: 23\n",
      "Try x_IL: 0.825\n",
      "Feasible/Optimal Solution\n",
      "i: 24\n",
      "Try x_IL: 0.784\n",
      "Feasible/Optimal Solution\n",
      "i: 25\n",
      "Try x_IL: 0.746\n",
      "Feasible/Optimal Solution\n",
      "i: 26\n",
      "Try x_IL: 0.712\n",
      "Feasible/Optimal Solution\n"
     ]
    }
   ],
   "source": [
    "# Build out idaes model\n",
    "#FILLIN: change data file, names of components\n",
    "m = ConcreteModel()\n",
    "\n",
    "m.fs = FlowsheetBlock(default={\"dynamic\": False})\n",
    "\n",
    "m.fs.properties = GenericParameterBlock(default=configuration)\n",
    "\n",
    "m.fs.F101 = Flash(default={\"property_package\": m.fs.properties,\n",
    "                           \"has_heat_transfer\": True,\n",
    "                           \"has_pressure_change\": True})\n",
    "\n",
    "m.fs.F101.inlet.flow_mol.fix(1)\n",
    "m.fs.F101.inlet.temperature.fix(323.15)\n",
    "m.fs.F101.inlet.pressure.fix(399800)\n",
    "m.fs.F101.inlet.mole_frac_comp[0,'R32'].fix(0.5) #FILLIN: change component name\n",
    "\n",
    "m.fs.properties.PR_kappa_A['R32','emimTf2N'] = parameters['fs.properties.PR_kappa_A[R32,emimTf2N]'] #FILLIN: change component name\n",
    "m.fs.properties.PR_kappa_A['emimTf2N','R32'] = parameters['fs.properties.PR_kappa_A[emimTf2N,R32]'] #FILLIN: change component name\n",
    "\n",
    "# Initialize the flash unit\n",
    "m.fs.F101.initialize(outlvl=idaeslog.CRITICAL)\n",
    "\n",
    "# Fix the state variables on the state block\n",
    "# m.fs.F101.inlet.pressure.unfix()\n",
    "m.fs.F101.inlet.mole_frac_comp[0,'emimTf2N'].unfix() #FILLIN: change component name\n",
    "\n",
    "R32_x = np.zeros((len(data_subset))) #FILLIN: change data file, component name\n",
    "P = np.zeros((len(data_subset))) #FILLIN: change data file\n",
    "T = np.zeros((len(data_subset))) #FILLIN: change data file\n",
    "\n",
    "m.fs.liq = Param(mutable=True,default=0.040)\n",
    "m.fs.liquid = Constraint(expr=m.fs.F101.liq_outlet.mole_frac_comp[0, \"emimTf2N\"] == m.fs.liq) #FILLIN: change component name\n",
    "\n",
    "for i in range(len(data_subset)): #FILLIN: change data file\n",
    "    print('i:',i)\n",
    "    print('Try x_IL:',data_subset[\"x_emimTf2N\"].iloc[i]) #FILLIN: change data file, component name\n",
    "    m.fs.liq = data_subset[\"x_emimTf2N\"].iloc[i] #FILLIN: change data file, component name\n",
    "    m.fs.F101.inlet.temperature.fix(float(data_subset[\"temperature\"].iloc[i])) #FILLIN: change data file\n",
    "    m.fs.F101.inlet.pressure.fix(float(data_subset[\"pressure\"].iloc[i])) #FILLIN: change data file\n",
    "    m.fs.F101.inlet.mole_frac_comp[0,'R32'].fix(float(data_subset[\"x_R32\"].iloc[i])+0.1) #FILLIN: change data file, component name\n",
    "    m.fs.F101.inlet.mole_frac_comp[0,'emimTf2N'].fix(float(1-(data_subset[\"x_R32\"].iloc[i]+0.1))) #FILLIN: change data file, component name\n",
    "    m.fs.F101.vap_outlet.temperature.fix(float(data_subset[\"temperature\"].iloc[i])) #FILLIN: change data file\n",
    "    \n",
    "    try:\n",
    "        m.fs.F101.initialize(outlvl=idaeslog.CRITICAL)\n",
    "        \n",
    "    except:\n",
    "        print('Initialization Error')\n",
    "        \n",
    "    try:\n",
    "        \n",
    "        status = solver.solve(m, tee = False)\n",
    "\n",
    "        if (status.solver.status == SolverStatus.ok) and (status.solver.termination_condition == TerminationCondition.optimal):\n",
    "            print('Feasible/Optimal Solution')\n",
    "            R32_x[i] = value(m.fs.F101.liq_outlet.mole_frac_comp[0,'R32']) #FILLIN: change data file, component name\n",
    "            P[i] = value(m.fs.F101.vap_outlet.pressure[0])\n",
    "            T[i] = data_subset[\"temperature\"].iloc[i] #FILLIN: change data file\n",
    "        else:\n",
    "            print('Infeasible Solution')\n",
    "            R32_x[i] = np.nan #FILLIN: change data file, component name\n",
    "            P[i] = np.nan\n",
    "            T[i] = data_subset[\"temperature\"].iloc[i] #FILLIN: change data file\n",
    "\n",
    "    except ValueError:\n",
    "        R32_x[i] = np.nan #FILLIN: change data file, component name\n",
    "        P[i] = np.nan\n",
    "        T[i] = data_subset[\"temperature\"].iloc[i] #FILLIN: change data file\n",
    "        print('Solver Error')"
   ]
  },
  {
   "cell_type": "code",
   "execution_count": 11,
   "id": "fde93e5f",
   "metadata": {},
   "outputs": [],
   "source": [
    "fitted_data = pd.DataFrame(data=[R32_x,P/1e6,T])  #FILLIN: change component name\n",
    "fitted_data = fitted_data.T\n",
    "fitted_data.columns = ['R32_x','P, MPa','T, K']  #FILLIN: change component name"
   ]
  },
  {
   "cell_type": "code",
   "execution_count": 12,
   "id": "helpful-powell",
   "metadata": {},
   "outputs": [
    {
     "data": {
      "image/png": "[encoded data removed]",
      "text/plain": [
       "<Figure size 432x288 with 1 Axes>"
      ]
     },
     "metadata": {
      "needs_background": "light"
     },
     "output_type": "display_data"
    }
   ],
   "source": [
    " #FILLIN: change component name\n",
    "plt.plot(fitted_data.where(fitted_data['T, K']==283.15)['R32_x'],fitted_data.where(fitted_data['T, K']==283.15)['P, MPa'],\"b-\",label='T=283 K')\n",
    "plt.plot(fitted_data.where(fitted_data['T, K']==298.15)['R32_x'],fitted_data.where(fitted_data['T, K']==298.15)['P, MPa'],\"r-\",label='T=298 K')\n",
    "plt.plot(fitted_data.where(fitted_data['T, K']==323.15)['R32_x'],fitted_data.where(fitted_data['T, K']==323.15)['P, MPa'],\"c-\",label='T=323 K')\n",
    "plt.plot(fitted_data.where(fitted_data['T, K']==348.05)['R32_x'],fitted_data.where(fitted_data['T, K']==348.05)['P, MPa'],\"m-\",label='T=348 K')\n",
    " #FILLIN: change data file, component name\n",
    "plt.plot(data_subset[\"x_R32\"],data_subset[\"pressure\"]/1e6,\"*\",color='orange',label=\"data\")  \n",
    " #FILLIN: change component name\n",
    "plt.title('Isotherm R32-[emim][TF2N]')\n",
    "plt.ylabel('Pressure (MPa)')\n",
    " #FILLIN: change component name\n",
    "plt.xlabel('x R32')\n",
    "plt.grid(True)\n",
    "plt.ylim(0,1.110000)\n",
    "plt.legend()\n",
    "plt.show()"
   ]
  },
  {
   "cell_type": "markdown",
   "id": "cdd8f42a",
   "metadata": {},
   "source": [
    "### Evaluate at specific points"
   ]
  },
  {
   "cell_type": "code",
   "execution_count": 13,
   "id": "be8fefcf",
   "metadata": {},
   "outputs": [
    {
     "data": {
      "text/html": [
       "<div>\n",
       "<style scoped>\n",
       "    .dataframe tbody tr th:only-of-type {\n",
       "        vertical-align: middle;\n",
       "    }\n",
       "\n",
       "    .dataframe tbody tr th {\n",
       "        vertical-align: top;\n",
       "    }\n",
       "\n",
       "    .dataframe thead th {\n",
       "        text-align: right;\n",
       "    }\n",
       "</style>\n",
       "<table border=\"1\" class=\"dataframe\">\n",
       "  <thead>\n",
       "    <tr style=\"text-align: right;\">\n",
       "      <th></th>\n",
       "      <th>temperature</th>\n",
       "      <th>pressure</th>\n",
       "      <th>x_R32</th>\n",
       "      <th>x_emimTf2N</th>\n",
       "    </tr>\n",
       "  </thead>\n",
       "  <tbody>\n",
       "    <tr>\n",
       "      <th>0</th>\n",
       "      <td>298.15</td>\n",
       "      <td>400000</td>\n",
       "      <td>0.350</td>\n",
       "      <td>0.650</td>\n",
       "    </tr>\n",
       "    <tr>\n",
       "      <th>1</th>\n",
       "      <td>298.15</td>\n",
       "      <td>500000</td>\n",
       "      <td>0.375</td>\n",
       "      <td>0.625</td>\n",
       "    </tr>\n",
       "  </tbody>\n",
       "</table>\n",
       "</div>"
      ],
      "text/plain": [
       "   temperature  pressure  x_R32  x_emimTf2N\n",
       "0       298.15    400000  0.350       0.650\n",
       "1       298.15    500000  0.375       0.625"
      ]
     },
     "execution_count": 13,
     "metadata": {},
     "output_type": "execute_result"
    }
   ],
   "source": [
    "# Set up dataframe of new points to evaluate - you will need to guess pressure/compositions\n",
    "#FILLIN: change names of components\n",
    "eval_points = {'temperature':[298.15,298.15],'pressure':[400000,500000],'x_R32':[0.35,0.375],'x_emimTf2N':[0.65,0.625]}\n",
    "new_data = pd.DataFrame(data=eval_points)\n",
    "new_data"
   ]
  },
  {
   "cell_type": "code",
   "execution_count": 14,
   "id": "0154e530",
   "metadata": {},
   "outputs": [
    {
     "name": "stdout",
     "output_type": "stream",
     "text": [
      "i: 0\n",
      "Try x_IL: 0.65\n",
      "Feasible/Optimal Solution\n",
      "i: 1\n",
      "Try x_IL: 0.625\n",
      "Feasible/Optimal Solution\n"
     ]
    }
   ],
   "source": [
    "# Build out idaes model\n",
    "#FILLIN: change names of components\n",
    "m = ConcreteModel()\n",
    "\n",
    "m.fs = FlowsheetBlock(default={\"dynamic\": False})\n",
    "\n",
    "m.fs.properties = GenericParameterBlock(default=configuration)\n",
    "\n",
    "m.fs.F101 = Flash(default={\"property_package\": m.fs.properties,\n",
    "                           \"has_heat_transfer\": True,\n",
    "                           \"has_pressure_change\": True})\n",
    "\n",
    "m.fs.F101.inlet.flow_mol.fix(1)\n",
    "m.fs.F101.inlet.temperature.fix(323.15)\n",
    "m.fs.F101.inlet.pressure.fix(399800)\n",
    "m.fs.F101.inlet.mole_frac_comp[0,'R32'].fix(0.5) #FILLIN: change component name\n",
    "\n",
    "m.fs.properties.PR_kappa_A['R32','emimTf2N'] = parameters['fs.properties.PR_kappa_A[R32,emimTf2N]'] #FILLIN: change component name\n",
    "m.fs.properties.PR_kappa_A['emimTf2N','R32'] = parameters['fs.properties.PR_kappa_A[emimTf2N,R32]'] #FILLIN: change component name\n",
    "\n",
    "# Initialize the flash unit\n",
    "m.fs.F101.initialize(outlvl=idaeslog.CRITICAL)\n",
    "\n",
    "# Fix the state variables on the state block\n",
    "# m.fs.F101.inlet.pressure.unfix()\n",
    "m.fs.F101.inlet.mole_frac_comp[0,'emimTf2N'].unfix() #FILLIN: change component name\n",
    "\n",
    "R32_x = np.zeros((len(new_data))) #FILLIN: change component name\n",
    "P = np.zeros((len(new_data))) \n",
    "T = np.zeros((len(new_data))) \n",
    "\n",
    "m.fs.liq = Param(mutable=True,default=0.040)\n",
    "m.fs.liquid = Constraint(expr=m.fs.F101.liq_outlet.mole_frac_comp[0, \"emimTf2N\"] == m.fs.liq) #FILLIN: change component name\n",
    "\n",
    "for i in range(len(new_data)): \n",
    "    print('i:',i)\n",
    "    print('Try x_IL:',new_data[\"x_emimTf2N\"].iloc[i]) #FILLIN: change component name\n",
    "    m.fs.liq = new_data[\"x_emimTf2N\"].iloc[i] #FILLIN: change component name\n",
    "    m.fs.F101.inlet.temperature.fix(float(new_data[\"temperature\"].iloc[i])) \n",
    "    m.fs.F101.inlet.pressure.fix(float(new_data[\"pressure\"].iloc[i])) \n",
    "    m.fs.F101.inlet.mole_frac_comp[0,'R32'].fix(float(new_data[\"x_R32\"].iloc[i])+0.1) #FILLIN: change component name\n",
    "    m.fs.F101.inlet.mole_frac_comp[0,'emimTf2N'].fix(float(1-(new_data[\"x_R32\"].iloc[i]+0.1))) #FILLIN: change component name\n",
    "    m.fs.F101.vap_outlet.temperature.fix(float(new_data[\"temperature\"].iloc[i]))\n",
    "    \n",
    "    try:\n",
    "        m.fs.F101.initialize(outlvl=idaeslog.CRITICAL)\n",
    "        \n",
    "    except:\n",
    "        print('Initialization Error')\n",
    "        \n",
    "    try:\n",
    "        \n",
    "        status = solver.solve(m, tee = False)\n",
    "\n",
    "        if (status.solver.status == SolverStatus.ok) and (status.solver.termination_condition == TerminationCondition.optimal):\n",
    "            print('Feasible/Optimal Solution')\n",
    "            R32_x[i] = value(m.fs.F101.liq_outlet.mole_frac_comp[0,'R32']) #FILLIN: change component name\n",
    "            P[i] = value(m.fs.F101.vap_outlet.pressure[0])\n",
    "            T[i] = new_data[\"temperature\"].iloc[i]\n",
    "        else:\n",
    "            print('Infeasible Solution')\n",
    "            R32_x[i] = np.nan #FILLIN: change data file, component name\n",
    "            P[i] = np.nan\n",
    "            T[i] = new_data[\"temperature\"].iloc[i] \n",
    "\n",
    "    except ValueError:\n",
    "        R32_x[i] = np.nan #FILLIN: change component name\n",
    "        P[i] = np.nan\n",
    "        T[i] = new_data[\"temperature\"].iloc[i]\n",
    "        print('Solver Error')"
   ]
  },
  {
   "cell_type": "code",
   "execution_count": 15,
   "id": "9ddf180e",
   "metadata": {},
   "outputs": [],
   "source": [
    "fitted_new_data = pd.DataFrame(data=[R32_x,P/1e6,T]) #FILLIN: change component name\n",
    "fitted_new_data = fitted_new_data.T\n",
    "fitted_new_data.columns = ['R32_x','P, MPa','T, K'] #FILLIN: change component name"
   ]
  },
  {
   "cell_type": "code",
   "execution_count": 16,
   "id": "83a2e8e8",
   "metadata": {},
   "outputs": [
    {
     "data": {
      "text/html": [
       "<div>\n",
       "<style scoped>\n",
       "    .dataframe tbody tr th:only-of-type {\n",
       "        vertical-align: middle;\n",
       "    }\n",
       "\n",
       "    .dataframe tbody tr th {\n",
       "        vertical-align: top;\n",
       "    }\n",
       "\n",
       "    .dataframe thead th {\n",
       "        text-align: right;\n",
       "    }\n",
       "</style>\n",
       "<table border=\"1\" class=\"dataframe\">\n",
       "  <thead>\n",
       "    <tr style=\"text-align: right;\">\n",
       "      <th></th>\n",
       "      <th>R32_x</th>\n",
       "      <th>P, MPa</th>\n",
       "      <th>T, K</th>\n",
       "    </tr>\n",
       "  </thead>\n",
       "  <tbody>\n",
       "    <tr>\n",
       "      <th>0</th>\n",
       "      <td>0.350</td>\n",
       "      <td>0.415379</td>\n",
       "      <td>298.15</td>\n",
       "    </tr>\n",
       "    <tr>\n",
       "      <th>1</th>\n",
       "      <td>0.375</td>\n",
       "      <td>0.453215</td>\n",
       "      <td>298.15</td>\n",
       "    </tr>\n",
       "  </tbody>\n",
       "</table>\n",
       "</div>"
      ],
      "text/plain": [
       "   R32_x    P, MPa    T, K\n",
       "0  0.350  0.415379  298.15\n",
       "1  0.375  0.453215  298.15"
      ]
     },
     "execution_count": 16,
     "metadata": {},
     "output_type": "execute_result"
    }
   ],
   "source": [
    "fitted_new_data"
   ]
  },
  {
   "cell_type": "code",
   "execution_count": null,
   "id": "8c829a2b",
   "metadata": {},
   "outputs": [],
   "source": []
  }
 ],
 "metadata": {
  "kernelspec": {
   "display_name": "Python 3 (ipykernel)",
   "language": "python",
   "name": "python3"
  },
  "language_info": {
   "codemirror_mode": {
    "name": "ipython",
    "version": 3
   },
   "file_extension": ".py",
   "mimetype": "text/x-python",
   "name": "python",
   "nbconvert_exporter": "python",
   "pygments_lexer": "ipython3",
   "version": "3.9.9"
  }
 },
 "nbformat": 4,
 "nbformat_minor": 5
}
