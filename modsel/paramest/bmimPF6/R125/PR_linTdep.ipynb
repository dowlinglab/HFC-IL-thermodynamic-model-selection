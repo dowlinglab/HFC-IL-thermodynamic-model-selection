{
 "cells": [
  {
   "cell_type": "markdown",
   "id": "instructional-learning",
   "metadata": {},
   "source": [
    "# Fit bmimpf6 data\n",
    "\n",
    "EoS: PR\n",
    "\n",
    "Parameter T dependence: Linear\n",
    "\n",
    "N (total fitting parameters): 4"
   ]
  },
  {
   "cell_type": "markdown",
   "id": "extended-rabbit",
   "metadata": {},
   "source": [
    "## Import Functions"
   ]
  },
  {
   "cell_type": "code",
   "execution_count": 1,
   "id": "complicated-toronto",
   "metadata": {},
   "outputs": [],
   "source": [
    "import idaes\n",
    "\n",
    "import pandas as pd\n",
    "import numpy as np\n",
    "import matplotlib.pyplot as plt\n",
    "import scipy.optimize\n",
    "\n",
    "import sys\n",
    "sys.path.append('../../')\n",
    "\n",
    "from pyomo.environ import (Constraint,\n",
    "                           Var,\n",
    "                           ConcreteModel,\n",
    "                           Expression,\n",
    "                           Param,\n",
    "                           Objective,\n",
    "                           SolverFactory,\n",
    "                           TransformationFactory,\n",
    "                           value)\n",
    "from pyomo.opt import TerminationCondition, SolverStatus\n",
    "\n",
    "from idaes.core import FlowsheetBlock\n",
    "import idaes.logger as idaeslog\n",
    "# Import the Generic Parameter Block\n",
    "from idaes.generic_models.properties.core.generic.generic_property import (\n",
    "        GenericParameterBlock)\n",
    "# Import unit models from the model library\n",
    "from idaes.generic_models.unit_models import Flash\n",
    "# Import degrees of freedom tool\n",
    "from idaes.core.util.model_statistics import degrees_of_freedom\n",
    "\n",
    "# parmest (binary_param2)\n",
    "from bip_fitting_functions import linear\n",
    "\n",
    "import scipy.stats as stats\n",
    "\n",
    "from matplotlib.patches import Ellipse\n",
    "import matplotlib.transforms as transforms\n",
    "import matplotlib.patches as mpatches"
   ]
  },
  {
   "cell_type": "markdown",
   "id": "potential-awareness",
   "metadata": {},
   "source": [
    "## Load Data"
   ]
  },
  {
   "cell_type": "code",
   "execution_count": 2,
   "id": "latest-artist",
   "metadata": {},
   "outputs": [],
   "source": [
    "data_full = pd.read_csv('r125_bmimpf6_full.csv')\n",
    "data_subset = pd.read_csv('r125_bmimpf6_subset.csv')"
   ]
  },
  {
   "cell_type": "markdown",
   "id": "superior-attendance",
   "metadata": {},
   "source": [
    "## Load Configuration + Check DOF"
   ]
  },
  {
   "cell_type": "code",
   "execution_count": 3,
   "id": "binding-cattle",
   "metadata": {},
   "outputs": [],
   "source": [
    "from hfc125_bmimpf6_PR import configuration "
   ]
  },
  {
   "cell_type": "code",
   "execution_count": 4,
   "id": "backed-diving",
   "metadata": {},
   "outputs": [
    {
     "name": "stdout",
     "output_type": "stream",
     "text": [
      "The initial DOF is 7\n"
     ]
    }
   ],
   "source": [
    "m = ConcreteModel()\n",
    "m.fs = FlowsheetBlock(default={\"dynamic\": False})\n",
    "m.fs.properties = GenericParameterBlock(default=configuration)\n",
    "m.fs.F101 = Flash(default={\"property_package\": m.fs.properties,\n",
    "                           \"has_heat_transfer\": True,\n",
    "                           \"has_pressure_change\": True})\n",
    "DOF_initial = degrees_of_freedom(m)\n",
    "print('The initial DOF is {0}'.format(DOF_initial))"
   ]
  },
  {
   "cell_type": "markdown",
   "id": "conventional-health",
   "metadata": {},
   "source": [
    "## Fit Parameters"
   ]
  },
  {
   "cell_type": "code",
   "execution_count": 6,
   "id": "sensitive-secondary",
   "metadata": {},
   "outputs": [
    {
     "name": "stdout",
     "output_type": "stream",
     "text": [
      "2022-04-25 08:52:50 [INFO] idaes.init.fs.state_block: Property package initialization: optimal - Optimal Solution Found.\n",
      "2022-04-25 08:52:50 [INFO] idaes.init.fs.state_block: Property package initialization: optimal - Optimal Solution Found.\n",
      "2022-04-25 08:52:51 [INFO] idaes.init.fs.state_block: Property package initialization: optimal - Optimal Solution Found.\n",
      "2022-04-25 08:52:51 [INFO] idaes.init.fs.state_block: Property package initialization: optimal - Optimal Solution Found.\n",
      "2022-04-25 08:52:51 [INFO] idaes.init.fs.state_block: Property package initialization: optimal - Optimal Solution Found.\n",
      "2022-04-25 08:52:52 [INFO] idaes.init.fs.state_block: Property package initialization: optimal - Optimal Solution Found.\n",
      "2022-04-25 08:52:52 [INFO] idaes.init.fs.state_block: Property package initialization: optimal - Optimal Solution Found.\n",
      "2022-04-25 08:52:52 [INFO] idaes.init.fs.state_block: Property package initialization: optimal - Optimal Solution Found.\n",
      "2022-04-25 08:52:53 [INFO] idaes.init.fs.state_block: Property package initialization: optimal - Optimal Solution Found.\n",
      "2022-04-25 08:52:53 [INFO] idaes.init.fs.state_block: Property package initialization: optimal - Optimal Solution Found.\n",
      "2022-04-25 08:52:53 [INFO] idaes.init.fs.state_block: Property package initialization: optimal - Optimal Solution Found.\n",
      "2022-04-25 08:52:54 [INFO] idaes.init.fs.state_block: Property package initialization: optimal - Optimal Solution Found.\n",
      "2022-04-25 08:52:54 [INFO] idaes.init.fs.state_block: Property package initialization: optimal - Optimal Solution Found.\n",
      "2022-04-25 08:52:55 [INFO] idaes.init.fs.state_block: Property package initialization: optimal - Optimal Solution Found.\n",
      "2022-04-25 08:52:55 [INFO] idaes.init.fs.state_block: Property package initialization: optimal - Optimal Solution Found.\n",
      "2022-04-25 08:52:55 [INFO] idaes.init.fs.state_block: Property package initialization: optimal - Optimal Solution Found.\n",
      "2022-04-25 08:52:56 [INFO] idaes.init.fs.state_block: Property package initialization: optimal - Optimal Solution Found.\n",
      "2022-04-25 08:52:56 [INFO] idaes.init.fs.state_block: Property package initialization: optimal - Optimal Solution Found.\n",
      "2022-04-25 08:52:56 [INFO] idaes.init.fs.state_block: Property package initialization: optimal - Optimal Solution Found.\n",
      "2022-04-25 08:52:57 [INFO] idaes.init.fs.state_block: Property package initialization: optimal - Optimal Solution Found.\n",
      "2022-04-25 08:52:57 [INFO] idaes.init.fs.state_block: Property package initialization: optimal - Optimal Solution Found.\n",
      "2022-04-25 08:52:57 [INFO] idaes.init.fs.state_block: Property package initialization: optimal - Optimal Solution Found.\n",
      "2022-04-25 08:52:58 [INFO] idaes.init.fs.state_block: Property package initialization: optimal - Optimal Solution Found.\n",
      "2022-04-25 08:52:58 [INFO] idaes.init.fs.state_block: Property package initialization: optimal - Optimal Solution Found.\n",
      "2022-04-25 08:52:58 [INFO] idaes.init.fs.state_block: Property package initialization: optimal - Optimal Solution Found.\n",
      "2022-04-25 08:52:59 [INFO] idaes.init.fs.state_block: Property package initialization: optimal - Optimal Solution Found.\n",
      "2022-04-25 08:52:59 [INFO] idaes.init.fs.state_block: Property package initialization: optimal - Optimal Solution Found.\n",
      "2022-04-25 08:52:59 [INFO] idaes.init.fs.state_block: Property package initialization: optimal - Optimal Solution Found.\n",
      "2022-04-25 08:53:00 [INFO] idaes.init.fs.state_block: Property package initialization: optimal - Optimal Solution Found.\n",
      "2022-04-25 08:53:00 [INFO] idaes.init.fs.state_block: Property package initialization: optimal - Optimal Solution Found.\n",
      "2022-04-25 08:53:00 [INFO] idaes.init.fs.state_block: Property package initialization: optimal - Optimal Solution Found.\n",
      "2022-04-25 08:53:01 [INFO] idaes.init.fs.state_block: Property package initialization: optimal - Optimal Solution Found.\n",
      "Ipopt 3.13.2: bound_relax_factor=0\n",
      "honor_original_bounds=no\n",
      "\n",
      "\n",
      "******************************************************************************\n",
      "This program contains Ipopt, a library for large-scale nonlinear optimization.\n",
      " Ipopt is released as open source code under the Eclipse Public License (EPL).\n",
      "         For more information visit http://projects.coin-or.org/Ipopt\n",
      "\n",
      "This version of Ipopt was compiled from source code available at\n",
      "    https://github.com/IDAES/Ipopt as part of the Institute for the Design of\n",
      "    Advanced Energy Systems Process Systems Engineering Framework (IDAES PSE\n",
      "    Framework) Copyright (c) 2018-2019. See https://github.com/IDAES/idaes-pse.\n",
      "\n",
      "This version of Ipopt was compiled using HSL, a collection of Fortran codes\n",
      "    for large-scale scientific computation.  All technical papers, sales and\n",
      "    publicity material resulting from use of the HSL codes within IPOPT must\n",
      "    contain the following acknowledgement:\n",
      "        HSL, a collection of Fortran codes for large-scale scientific\n",
      "        computation. See http://www.hsl.rl.ac.uk.\n",
      "******************************************************************************\n",
      "\n",
      "This is Ipopt version 3.13.2, running with linear solver ma27.\n",
      "\n",
      "Number of nonzeros in equality constraint Jacobian...:     1336\n",
      "Number of nonzeros in inequality constraint Jacobian.:        0\n",
      "Number of nonzeros in Lagrangian Hessian.............:     1696\n",
      "\n",
      "Total number of variables............................:      512\n",
      "                     variables with only lower bounds:      128\n",
      "                variables with lower and upper bounds:      320\n",
      "                     variables with only upper bounds:        0\n",
      "Total number of equality constraints.................:      508\n",
      "Total number of inequality constraints...............:        0\n",
      "        inequality constraints with only lower bounds:        0\n",
      "   inequality constraints with lower and upper bounds:        0\n",
      "        inequality constraints with only upper bounds:        0\n",
      "\n",
      "iter    objective    inf_pr   inf_du lg(mu)  ||d||  lg(rg) alpha_du alpha_pr  ls\n",
      "   0  0.0000000e+00 8.12e-01 7.18e-14  -1.0 0.00e+00    -  0.00e+00 0.00e+00   0\n",
      "   1  1.3478135e-02 7.51e-01 1.41e+03  -1.0 1.53e+05    -  3.43e-01 7.46e-02h  1\n",
      "   2  3.4605088e-02 7.16e-01 1.45e+03  -1.0 1.41e+05    -  5.58e-01 4.60e-02h  1\n",
      "   3  2.6532975e+00 6.31e-01 3.43e+04  -1.0 1.21e+05    -  2.48e-01 9.90e-01h  1\n",
      "   4  2.4910076e+00 6.90e-01 1.18e+05  -1.0 1.24e+04    -  2.90e-01 9.90e-01h  1\n",
      "   5  2.4976198e+00 4.51e-01 3.27e+04  -1.0 7.97e+02    -  7.20e-01 9.90e-01h  1\n",
      "   6  2.5873013e+00 4.39e-01 6.18e+06  -1.0 1.47e+05    -  5.78e-01 3.09e-02h  6\n",
      "   7  3.4150481e+00 5.22e-01 8.93e+06  -1.0 4.09e+05    -  6.14e-01 2.47e-01h  3\n",
      "   8  3.4063155e+00 4.90e-01 8.22e+06  -1.0 7.70e+03  -4.0 5.19e-02 6.19e-02h  5\n",
      "   9  1.8194008e+01 1.04e-01 1.61e+07  -1.0 1.65e+05    -  1.10e-02 9.90e-01H  1\n",
      "iter    objective    inf_pr   inf_du lg(mu)  ||d||  lg(rg) alpha_du alpha_pr  ls\n",
      "  10  1.8206572e+01 3.07e-02 3.64e+08  -1.0 7.79e+02  -4.5 9.89e-01 7.67e-01h  1\n",
      "  11  1.8230384e+01 1.98e-03 3.65e+06  -1.0 3.16e+02  -5.0 9.90e-01 9.90e-01h  1\n",
      "  12  1.8230518e+01 2.27e-05 7.23e+08  -1.7 1.83e+01  -5.4 9.85e-01 9.90e-01h  1\n",
      "  13  1.8233592e+01 1.22e-05 1.72e+10  -1.7 7.84e+01  -5.9 9.91e-01 9.90e-01H  1\n",
      "In iteration 13, 32 Slacks too small, adjusting variable bounds\n",
      "  14  1.8237339e+01 7.68e-04 1.42e+13  -1.7 1.69e+02  -6.4 1.00e+00 9.90e-01h  1\n",
      "  15  1.8243476e+01 3.20e-04 1.48e+00  -1.7 4.20e+02  -6.9 1.00e+00 1.00e+00F  1\n",
      "  16  1.8207544e+01 1.63e-03 1.41e+11  -5.7 3.37e+02  -7.3 9.90e-01 1.00e+00f  1\n",
      "  17  1.8137036e+01 9.32e-03 6.71e-01  -5.7 1.00e+03  -7.8 1.00e+00 6.58e-01f  1\n",
      "  18  1.7912209e+01 7.40e-03 4.54e+00  -5.7 2.91e+03  -8.3 8.03e-01 1.00e+00f  1\n",
      "  19  1.6922239e+01 1.05e+01 3.29e+01  -5.7 1.46e+04  -8.8 3.63e-01 1.00e+00f  1\n",
      "iter    objective    inf_pr   inf_du lg(mu)  ||d||  lg(rg) alpha_du alpha_pr  ls\n",
      "  20  4.5336103e+00 5.49e+00 3.90e+01  -5.7 3.60e+05    -  6.76e-01 1.00e+00f  1\n",
      "  21  4.7789378e+00 5.15e+00 3.26e+01  -5.7 4.68e+05    -  1.83e-01 6.11e-02h  3\n",
      "  22  4.9578893e+00 5.23e+00 2.82e+01  -5.7 1.09e+05    -  1.00e+00 5.35e-01h  1\n",
      "  23  2.9896356e+00 4.01e+01 3.32e+01  -5.7 1.44e+05    -  3.41e-05 1.00e+00f  1\n",
      "  24  1.5880351e+00 9.35e+00 2.15e+01  -5.7 1.60e+05    -  4.42e-01 1.00e+00h  1\n",
      "  25  1.5961723e+00 5.95e+00 1.21e+01  -5.7 7.29e+04    -  7.15e-01 3.64e-01h  1\n"
     ]
    },
    {
     "name": "stdout",
     "output_type": "stream",
     "text": [
      "  26  3.1810513e+00 6.08e+00 4.40e+03  -5.7 5.22e+05    -  3.55e-07 2.50e-01h  3\n",
      "  27  3.1794624e+00 6.07e+00 4.37e+03  -5.7 7.33e+04  -5.6 2.34e-03 8.69e-04h  1\n",
      "  28  2.9118957e+00 5.85e+00 3.73e+03  -5.7 9.47e+05    -  2.06e-03 3.63e-02h  1\n",
      "  29  2.9118784e+00 5.85e+00 3.73e+03  -5.7 1.07e+05  -6.1 1.61e-01 1.09e-05h  1\n",
      "iter    objective    inf_pr   inf_du lg(mu)  ||d||  lg(rg) alpha_du alpha_pr  ls\n",
      "  30  3.1764010e+00 5.49e+00 3.78e+03  -5.7 3.09e+06    -  3.52e-04 6.25e-02h  5\n",
      "  31  3.1763995e+00 5.49e+00 3.78e+03  -5.7 5.44e+04  -6.6 1.61e-03 2.41e-06h  2\n",
      "  32r 3.1763995e+00 5.49e+00 1.00e+03   0.7 0.00e+00  -7.1 0.00e+00 3.72e-07R  4\n",
      "  33r 3.1763070e+00 4.31e+00 3.90e+03   0.7 3.96e+04    -  2.49e-03 6.22e-04f  3\n",
      "  34  3.1853666e+00 4.27e+00 6.01e+03  -5.7 1.73e+05    -  3.22e-03 9.24e-03h  7\n",
      "  35  2.8686234e+00 4.09e+00 4.37e+06  -5.7 6.80e+04    -  1.14e-02 5.05e-01h  1\n",
      "  36  2.9438600e+00 4.08e+00 4.37e+06  -5.7 7.09e+05    -  5.91e-02 2.03e-03H  1\n",
      "  37  2.9783672e+00 4.07e+00 4.36e+06  -5.7 1.01e+06    -  2.65e-01 1.96e-03h  8\n",
      "  38  2.9877080e+00 4.07e+00 4.36e+06  -5.7 1.82e+06    -  5.09e-01 2.84e-04h 11\n",
      "  39  2.9909835e+00 4.07e+00 4.36e+06  -5.7 1.07e+06  -6.6 7.22e-02 1.79e-04h 11\n",
      "iter    objective    inf_pr   inf_du lg(mu)  ||d||  lg(rg) alpha_du alpha_pr  ls\n",
      "  40  2.9937924e+00 4.07e+00 4.35e+06  -5.7 4.78e+05  -6.2 4.18e-02 3.47e-04h  9\n",
      "  41  2.9955599e+00 4.07e+00 4.35e+06  -5.7 4.81e+05  -5.8 4.26e-08 1.47e-04h 10\n",
      "  42  2.9968367e+00 4.07e+00 4.35e+06  -5.7 1.34e+06  -6.3 2.45e-01 7.80e-05h  9\n",
      "  43  2.9986558e+00 4.07e+00 4.35e+06  -5.7 3.09e+06  -6.7 1.09e-03 4.13e-05h 13\n",
      "  44  3.0022598e+00 4.07e+00 4.35e+06  -5.7 3.21e+06  -7.2 5.28e-03 7.93e-05h 12\n",
      "  45  3.0057347e+00 4.07e+00 4.35e+06  -5.7 1.79e+06    -  3.11e-01 4.09e-04h  1\n",
      "  46r 3.0057347e+00 4.07e+00 9.99e+02   0.6 0.00e+00    -  0.00e+00 2.91e-08R  2\n",
      "  47r 3.0056724e+00 3.22e+01 2.10e+03   0.6 1.56e+05    -  1.65e-06 2.37e-03f  1\n",
      "  48r 3.0056706e+00 3.21e+01 2.08e+03   0.6 4.18e+03    -  9.08e-03 1.23e-03f  1\n",
      "  49r 3.0056650e+00 3.20e+01 2.08e+03   0.6 1.61e+03    -  7.57e-04 2.36e-03f  1\n",
      "iter    objective    inf_pr   inf_du lg(mu)  ||d||  lg(rg) alpha_du alpha_pr  ls\n",
      "  50r 3.0056712e+00 3.19e+01 1.96e+03   0.6 1.81e+03    -  4.24e-02 3.39e-03f  1\n",
      "  51r 3.0056787e+00 3.06e+01 1.67e+03   0.6 5.82e+02    -  8.45e-02 4.22e-02f  1\n",
      "  52r 3.0056664e+00 3.58e+01 1.54e+03   0.6 3.31e+02    -  8.45e-02 7.07e-02f  1\n",
      "  53r 3.0056622e+00 3.26e+01 1.43e+03   0.6 3.46e+02    -  2.65e-01 8.83e-02f  1\n",
      "  54r 3.0056670e+00 3.24e+01 1.42e+03   0.6 2.97e+02    -  1.39e-01 8.02e-03h  1\n",
      "  55r 3.0057115e+00 2.42e+01 1.02e+03   0.6 2.22e+02    -  5.35e-03 2.52e-01f  1\n",
      "  56r 3.0057083e+00 2.21e+01 9.49e+02   0.6 1.74e+02    -  5.54e-02 8.57e-02f  1\n",
      "  57r 3.0055740e+00 1.04e+01 6.76e+02   0.6 1.80e+02    -  6.15e-01 5.28e-01h  1\n",
      "  58r 3.0056035e+00 2.12e+00 9.75e+03   0.6 6.54e+01    -  2.44e-02 1.00e+00h  1\n",
      "  59  2.9737048e+00 1.98e+00 1.77e+01  -5.7 4.96e+05    -  6.56e-01 6.25e-02h  5\n",
      "iter    objective    inf_pr   inf_du lg(mu)  ||d||  lg(rg) alpha_du alpha_pr  ls\n",
      "  60  3.1785366e+00 1.92e+00 1.83e+01  -5.7 5.96e+05    -  6.21e-01 3.12e-02h  6\n",
      "  61  3.4733794e+00 1.89e+00 1.81e+01  -5.7 1.52e+06    -  3.84e-01 1.56e-02h  7\n",
      "  62  3.4714400e+00 1.83e+00 1.80e+01  -5.7 1.92e+05    -  7.48e-01 3.12e-02h  6\n",
      "  63  3.1978428e+00 7.65e-01 1.39e+02  -5.7 2.22e+05    -  7.05e-01 5.00e-01f  2\n",
      "  64  6.1979189e+00 3.42e-01 1.05e+03  -5.7 1.17e+05    -  3.69e-01 1.00e+00h  1\n",
      "  65  5.4199086e+00 1.50e-01 8.30e+02  -5.7 7.16e+04    -  7.94e-01 1.00e+00f  1\n",
      "  66  5.3603995e+00 1.42e-02 2.00e+07  -5.7 2.75e+04    -  9.70e-01 1.00e+00h  1\n",
      "  67  5.2548826e+00 4.74e-03 1.51e+06  -5.7 1.08e+04    -  9.99e-01 1.00e+00h  1\n",
      "  68  3.9684798e+00 3.70e-02 5.65e+05  -5.7 4.25e+05    -  6.27e-01 5.00e-01f  2\n",
      "  69  3.8728215e+00 3.37e-01 7.01e+04  -5.7 2.00e+05    -  8.76e-01 9.57e-01f  1\n",
      "iter    objective    inf_pr   inf_du lg(mu)  ||d||  lg(rg) alpha_du alpha_pr  ls\n",
      "  70  4.3308128e+00 2.86e-01 2.27e+01  -5.7 2.26e+05    -  1.00e+00 1.00e+00h  1\n",
      "  71  2.7021544e+00 1.53e+00 2.01e+00  -5.7 1.18e+05    -  1.00e+00 1.00e+00f  1\n",
      "  72  2.7408561e+00 2.80e-03 4.98e-01  -5.7 4.48e+04    -  1.00e+00 1.00e+00h  1\n",
      "  73  2.7235622e+00 9.68e-05 2.19e-02  -5.7 4.92e+03    -  1.00e+00 1.00e+00h  1\n",
      "  74  2.7241826e+00 4.08e-08 3.33e-05  -8.6 9.08e+01    -  1.00e+00 1.00e+00h  1\n",
      "  75  2.7241831e+00 1.11e-12 2.33e-10  -8.6 5.11e-02    -  1.00e+00 1.00e+00h  1\n",
      "\n",
      "Number of Iterations....: 75\n",
      "\n",
      "                                   (scaled)                 (unscaled)\n",
      "Objective...............:   2.7241830857388836e+00    2.7241830857388836e+00\n",
      "Dual infeasibility......:   2.3283064365386963e-10    2.3283064365386963e-10\n",
      "Constraint violation....:   6.3282712403633923e-13    1.1106671138350066e-12\n",
      "Complementarity.........:   2.5059036642388138e-09    2.5059036642388138e-09\n",
      "Overall NLP error.......:   3.3682619249311311e-12    2.5059036642388138e-09\n",
      "\n",
      "\n",
      "Number of objective function evaluations             = 246\n",
      "Number of objective gradient evaluations             = 65\n",
      "Number of equality constraint evaluations            = 246\n",
      "Number of inequality constraint evaluations          = 0\n",
      "Number of equality constraint Jacobian evaluations   = 78\n",
      "Number of inequality constraint Jacobian evaluations = 0\n",
      "Number of Lagrangian Hessian evaluations             = 75\n",
      "Total CPU secs in IPOPT (w/o function evaluations)   =      0.093\n",
      "Total CPU secs in NLP function evaluations           =      2.244\n",
      "\n",
      "EXIT: Optimal Solution Found.\n",
      "WARNING: The current pynumero_ASL library is version=2, but found version=1.\n",
      "    Please recompile / update your pynumero_ASL library.\n",
      "The SSE at the optimal solution is 2.724183\n",
      "\n",
      "The values for the parameters are as follows:\n",
      "fs.properties.PR_kappa_A[R125,bmimpf6] = 0.05889221686628969\n",
      "fs.properties.PR_kappa_A[bmimpf6,R125] = 2.131456268177676\n",
      "fs.properties.PR_kappa_B[R125,bmimpf6] = -0.005390919355338653\n",
      "fs.properties.PR_kappa_B[bmimpf6,R125] = -1.6101748964586216\n",
      "covariance_matrix                                         fs.properties.PR_kappa_A[R125,bmimpf6]  \\\n",
      "fs.properties.PR_kappa_A[R125,bmimpf6]                                0.000059   \n",
      "fs.properties.PR_kappa_A[bmimpf6,R125]                                0.002021   \n",
      "fs.properties.PR_kappa_B[R125,bmimpf6]                               -0.000061   \n",
      "fs.properties.PR_kappa_B[bmimpf6,R125]                               -0.002313   \n",
      "\n",
      "                                        fs.properties.PR_kappa_A[bmimpf6,R125]  \\\n",
      "fs.properties.PR_kappa_A[R125,bmimpf6]                                0.002021   \n",
      "fs.properties.PR_kappa_A[bmimpf6,R125]                                0.069109   \n",
      "fs.properties.PR_kappa_B[R125,bmimpf6]                               -0.002070   \n",
      "fs.properties.PR_kappa_B[bmimpf6,R125]                               -0.079065   \n",
      "\n",
      "                                        fs.properties.PR_kappa_B[R125,bmimpf6]  \\\n",
      "fs.properties.PR_kappa_A[R125,bmimpf6]                               -0.000061   \n",
      "fs.properties.PR_kappa_A[bmimpf6,R125]                               -0.002070   \n",
      "fs.properties.PR_kappa_B[R125,bmimpf6]                                0.000069   \n",
      "fs.properties.PR_kappa_B[bmimpf6,R125]                                0.002508   \n",
      "\n",
      "                                        fs.properties.PR_kappa_B[bmimpf6,R125]  \n",
      "fs.properties.PR_kappa_A[R125,bmimpf6]                               -0.002313  \n",
      "fs.properties.PR_kappa_A[bmimpf6,R125]                               -0.079065  \n",
      "fs.properties.PR_kappa_B[R125,bmimpf6]                                0.002508  \n",
      "fs.properties.PR_kappa_B[bmimpf6,R125]                                0.094812  \n"
     ]
    },
    {
     "name": "stderr",
     "output_type": "stream",
     "text": [
      "/Users/bridgettebefort/opt/anaconda3/envs/idaes-pse-dev/lib/python3.9/site-packages/pyomo/contrib/interior_point/interface.py:418: RuntimeWarning: divide by zero encountered in true_divide\n",
      "  data = (duals_primals_lb/(primals - self._nlp.primals_lb()) +\n"
     ]
    }
   ],
   "source": [
    "parameters, obj_value, a = linear(data_subset, configuration, 'R125', 'bmimpf6', \"x_R125\", \"x_bmimpf6\", \n",
    "    init_temp =  283.1, init_press =   399300 , init_x_c1 =    0.448, init_x_c2 = 0.552,\n",
    "    init_kappa_2_1A = 0.001, init_kappa_1_2A = -0.001,\n",
    "    init_kappa_2_1B = -0.001, init_kappa_1_2B = -0.001, eps = 0.1, scaling_fac = 1e-9)"
   ]
  },
  {
   "cell_type": "code",
   "execution_count": 7,
   "id": "basic-preserve",
   "metadata": {},
   "outputs": [
    {
     "name": "stdout",
     "output_type": "stream",
     "text": [
      "Objective (SSE): 2.7241830857388836\n"
     ]
    }
   ],
   "source": [
    "print('Objective (SSE):',obj_value)"
   ]
  },
  {
   "cell_type": "code",
   "execution_count": 8,
   "id": "governmental-nudist",
   "metadata": {},
   "outputs": [
    {
     "name": "stdout",
     "output_type": "stream",
     "text": [
      "Covariance Matrix:\n",
      "[[ 5.91035895e-05  2.02097788e-03 -6.06452892e-05 -2.31255257e-03]\n",
      " [ 2.02097788e-03  6.91087258e-02 -2.07011901e-03 -7.90653256e-02]\n",
      " [-6.06452892e-05 -2.07011901e-03  6.93402253e-05  2.50848584e-03]\n",
      " [-2.31255257e-03 -7.90653256e-02  2.50848584e-03  9.48122969e-02]]\n"
     ]
    }
   ],
   "source": [
    "cov = np.array(a)\n",
    "print('Covariance Matrix:')\n",
    "print(cov)"
   ]
  },
  {
   "cell_type": "code",
   "execution_count": 9,
   "id": "c4328a0b",
   "metadata": {},
   "outputs": [],
   "source": [
    "np.savetxt('Data/Covariance/PR_Cov_4parameter.csv',cov,delimiter=',')"
   ]
  },
  {
   "cell_type": "markdown",
   "id": "aging-authentication",
   "metadata": {},
   "source": [
    "## Apply Parameters + Plot"
   ]
  },
  {
   "cell_type": "code",
   "execution_count": 10,
   "id": "endangered-gibraltar",
   "metadata": {},
   "outputs": [],
   "source": [
    "solver = SolverFactory('ipopt')\n",
    "solver.options = {'tol': 1e-6}"
   ]
  },
  {
   "cell_type": "code",
   "execution_count": 13,
   "id": "royal-switch",
   "metadata": {},
   "outputs": [
    {
     "ename": "InitializationError",
     "evalue": "fs.F101.control_volume.properties_in failed to initialize successfully. Please check the output logs for more information.",
     "output_type": "error",
     "traceback": [
      "\u001b[0;31m---------------------------------------------------------------------------\u001b[0m",
      "\u001b[0;31mInitializationError\u001b[0m                       Traceback (most recent call last)",
      "\u001b[0;32m/var/folders/4w/g52120tx7_s7wtgcx42rk8100000gn/T/ipykernel_5582/4138815811.py\u001b[0m in \u001b[0;36m<module>\u001b[0;34m\u001b[0m\n\u001b[1;32m     20\u001b[0m \u001b[0;34m\u001b[0m\u001b[0m\n\u001b[1;32m     21\u001b[0m \u001b[0;31m# Initialize the flash unit\u001b[0m\u001b[0;34m\u001b[0m\u001b[0;34m\u001b[0m\u001b[0m\n\u001b[0;32m---> 22\u001b[0;31m \u001b[0mm\u001b[0m\u001b[0;34m.\u001b[0m\u001b[0mfs\u001b[0m\u001b[0;34m.\u001b[0m\u001b[0mF101\u001b[0m\u001b[0;34m.\u001b[0m\u001b[0minitialize\u001b[0m\u001b[0;34m(\u001b[0m\u001b[0moutlvl\u001b[0m\u001b[0;34m=\u001b[0m\u001b[0midaeslog\u001b[0m\u001b[0;34m.\u001b[0m\u001b[0mCRITICAL\u001b[0m\u001b[0;34m)\u001b[0m\u001b[0;34m\u001b[0m\u001b[0;34m\u001b[0m\u001b[0m\n\u001b[0m\u001b[1;32m     23\u001b[0m \u001b[0;34m\u001b[0m\u001b[0m\n\u001b[1;32m     24\u001b[0m \u001b[0;31m# Fix the state variables on the state block\u001b[0m\u001b[0;34m\u001b[0m\u001b[0;34m\u001b[0m\u001b[0m\n",
      "\u001b[0;32m~/Dowling-Maginn-Lab/DowlingLab/IL-MD/idaes-pse/idaes/core/unit_model.py\u001b[0m in \u001b[0;36minitialize\u001b[0;34m(blk, state_args, outlvl, solver, optarg)\u001b[0m\n\u001b[1;32m    627\u001b[0m         \u001b[0;31m# ---------------------------------------------------------------------\u001b[0m\u001b[0;34m\u001b[0m\u001b[0;34m\u001b[0m\u001b[0m\n\u001b[1;32m    628\u001b[0m         \u001b[0;31m# Initialize control volume block\u001b[0m\u001b[0;34m\u001b[0m\u001b[0;34m\u001b[0m\u001b[0m\n\u001b[0;32m--> 629\u001b[0;31m         flags = blk.control_volume.initialize(\n\u001b[0m\u001b[1;32m    630\u001b[0m             \u001b[0moutlvl\u001b[0m\u001b[0;34m=\u001b[0m\u001b[0moutlvl\u001b[0m\u001b[0;34m,\u001b[0m\u001b[0;34m\u001b[0m\u001b[0;34m\u001b[0m\u001b[0m\n\u001b[1;32m    631\u001b[0m             \u001b[0moptarg\u001b[0m\u001b[0;34m=\u001b[0m\u001b[0moptarg\u001b[0m\u001b[0;34m,\u001b[0m\u001b[0;34m\u001b[0m\u001b[0;34m\u001b[0m\u001b[0m\n",
      "\u001b[0;32m~/Dowling-Maginn-Lab/DowlingLab/IL-MD/idaes-pse/idaes/core/control_volume0d.py\u001b[0m in \u001b[0;36minitialize\u001b[0;34m(blk, state_args, outlvl, optarg, solver, hold_state)\u001b[0m\n\u001b[1;32m   1365\u001b[0m \u001b[0;34m\u001b[0m\u001b[0m\n\u001b[1;32m   1366\u001b[0m         \u001b[0;31m# Initialize state blocks\u001b[0m\u001b[0;34m\u001b[0m\u001b[0;34m\u001b[0m\u001b[0m\n\u001b[0;32m-> 1367\u001b[0;31m         in_flags = blk.properties_in.initialize(\n\u001b[0m\u001b[1;32m   1368\u001b[0m             \u001b[0moutlvl\u001b[0m\u001b[0;34m=\u001b[0m\u001b[0moutlvl\u001b[0m\u001b[0;34m,\u001b[0m\u001b[0;34m\u001b[0m\u001b[0;34m\u001b[0m\u001b[0m\n\u001b[1;32m   1369\u001b[0m             \u001b[0moptarg\u001b[0m\u001b[0;34m=\u001b[0m\u001b[0moptarg\u001b[0m\u001b[0;34m,\u001b[0m\u001b[0;34m\u001b[0m\u001b[0;34m\u001b[0m\u001b[0m\n",
      "\u001b[0;32m~/Dowling-Maginn-Lab/DowlingLab/IL-MD/idaes-pse/idaes/generic_models/properties/core/generic/generic_property.py\u001b[0m in \u001b[0;36minitialize\u001b[0;34m(blk, state_args, state_vars_fixed, hold_state, outlvl, solver, optarg)\u001b[0m\n\u001b[1;32m   1434\u001b[0m                 \u001b[0mTerminationCondition\u001b[0m\u001b[0;34m.\u001b[0m\u001b[0moptimal\u001b[0m \u001b[0;32mor\u001b[0m\u001b[0;34m\u001b[0m\u001b[0;34m\u001b[0m\u001b[0m\n\u001b[1;32m   1435\u001b[0m                 res.solver.status != SolverStatus.ok)):\n\u001b[0;32m-> 1436\u001b[0;31m             raise InitializationError(\n\u001b[0m\u001b[1;32m   1437\u001b[0m                 \u001b[0;34mf\"{blk.name} failed to initialize successfully. Please check \"\u001b[0m\u001b[0;34m\u001b[0m\u001b[0;34m\u001b[0m\u001b[0m\n\u001b[1;32m   1438\u001b[0m                 f\"the output logs for more information.\")\n",
      "\u001b[0;31mInitializationError\u001b[0m: fs.F101.control_volume.properties_in failed to initialize successfully. Please check the output logs for more information."
     ]
    }
   ],
   "source": [
    "m = ConcreteModel()\n",
    "\n",
    "m.fs = FlowsheetBlock(default={\"dynamic\": False})\n",
    "\n",
    "m.fs.properties = GenericParameterBlock(default=configuration)\n",
    "\n",
    "m.fs.F101 = Flash(default={\"property_package\": m.fs.properties,\n",
    "                           \"has_heat_transfer\": True,\n",
    "                           \"has_pressure_change\": True})\n",
    "\n",
    "m.fs.F101.inlet.flow_mol.fix(1)\n",
    "m.fs.F101.inlet.temperature.fix(323.15)\n",
    "m.fs.F101.inlet.pressure.fix(399800)\n",
    "m.fs.F101.inlet.mole_frac_comp[0,'R125'].fix(0.5)\n",
    "\n",
    "m.fs.properties.PR_kappa_A['R125','bmimpf6'] = parameters['fs.properties.PR_kappa_A[R125,bmimpf6]']\n",
    "m.fs.properties.PR_kappa_A['bmimpf6','R125'] = parameters['fs.properties.PR_kappa_A[bmimpf6,R125]']\n",
    "m.fs.properties.PR_kappa_B['R125','bmimpf6'] = parameters['fs.properties.PR_kappa_B[R125,bmimpf6]']\n",
    "m.fs.properties.PR_kappa_B['bmimpf6','R125'] = parameters['fs.properties.PR_kappa_B[bmimpf6,R125]']\n",
    "\n",
    "# Initialize the flash unit\n",
    "m.fs.F101.initialize(outlvl=idaeslog.CRITICAL)\n",
    "\n",
    "# Fix the state variables on the state block\n",
    "# m.fs.F101.inlet.pressure.unfix()\n",
    "m.fs.F101.inlet.mole_frac_comp[0,'bmimpf6'].unfix()\n",
    "\n",
    "R125_x = np.zeros((len(data_full)))\n",
    "P = np.zeros((len(data_full)))\n",
    "\n",
    "m.fs.liq = Param(mutable=True,default=0.040)\n",
    "m.fs.liquid = Constraint(expr=m.fs.F101.liq_outlet.mole_frac_comp[0, \"bmimpf6\"] == m.fs.liq)\n",
    "\n",
    "for i in range(len(data_full)):\n",
    "    m.fs.liq = data_full[\"x_bmimpf6\"].iloc[i]\n",
    "    m.fs.F101.inlet.temperature.fix(float(data_full[\"temperature\"].iloc[i]))\n",
    "    m.fs.F101.inlet.pressure.fix(float(data_full[\"pressure\"].iloc[i]))\n",
    "    m.fs.F101.inlet.mole_frac_comp[0,'R125'].fix(float(data_full[\"x_R125\"].iloc[i])+0.1)\n",
    "    m.fs.F101.inlet.mole_frac_comp[0,'bmimpf6'].fix(float(1-(data_full[\"x_R125\"].iloc[i]+0.1)))\n",
    "    m.fs.F101.vap_outlet.temperature.fix(float(data_full[\"temperature\"].iloc[i]))\n",
    "    \n",
    "#     DOF_final = degrees_of_freedom(m)\n",
    "#     print(\"The final DOF is {0}\".format(DOF_final))\n",
    "    m.fs.F101.initialize(outlvl=idaeslog.CRITICAL)\n",
    "    \n",
    "    status = solver.solve(m, tee = False)\n",
    "\n",
    "#     m.fs.F101.report()\n",
    "    if (status.solver.status == SolverStatus.ok) and (status.solver.termination_condition == TerminationCondition.optimal):\n",
    "        print(data_full[\"x_bmimpf6\"].iloc[i])\n",
    "        R125_x[i] = value(m.fs.F101.liq_outlet.mole_frac_comp[0,'R125']) \n",
    "        P[i] = value(m.fs.F101.vap_outlet.pressure[0])\n",
    "\n",
    "    else:\n",
    "        print('Infeasible.')"
   ]
  },
  {
   "cell_type": "code",
   "execution_count": null,
   "id": "c53672a6",
   "metadata": {},
   "outputs": [],
   "source": [
    "fitted_data = pd.DataFrame(data=[R125_x,P/1e6])\n",
    "fitted_data = fitted_data.T\n",
    "fitted_data.columns = ['R125_x','P, MPa']\n",
    "fitted_data.to_csv('Data/Fits/PR_FittedData_4parameter.csv')"
   ]
  },
  {
   "cell_type": "code",
   "execution_count": null,
   "id": "religious-joining",
   "metadata": {},
   "outputs": [],
   "source": [
    "P1= np.zeros((len(P)))\n",
    "\n",
    "for i in range(len(P)):\n",
    "    P1[i] = P[i]/1e6\n",
    "\n",
    "fig, ax = plt.subplots()\n",
    "\n",
    "ax.plot(R125_x[0:9],P1[0:9],\"b*-\",label=\"T= 283 K\")  \n",
    "ax.plot(R125_x[9:18],P1[9:18],\"r*-\",label=\"T= 298 K\") \n",
    "ax.plot(R125_x[18:27],P1[18:27],\"c*-\",label=\"T= 323 K\") \n",
    "ax.plot(R125_x[27:],P1[27:],\"m-*\",label=\"T= 348 K\")\n",
    "ax.plot(data_full[\"x_R125\"],data_full[\"pressure\"]/1e6,\"*\",color='orange',label=\"data\")  \n",
    "\n",
    "# plt.title('Isotherm R32-[emim][TF2N]')\n",
    "ax.set_ylabel('Pressure, MPa',fontsize=24)\n",
    "ax.set_xlabel('HFC-125 Mole Fraction',fontsize=24)\n",
    "\n",
    "ax.set_xticks([0.0, 0.2, 0.4, 0.6, 0.8, 1.0])\n",
    "ax.set_xticks([0.1, 0.3, 0.5, 0.7, 0.9],minor=True)\n",
    "ax.set_yticks([0.0, 0.2, 0.4, 0.6, 0.8, 1.0, 1.2])\n",
    "ax.set_yticks([0.1, 0.3, 0.5, 0.7, 0.9, 1.1],minor=True)\n",
    "\n",
    "ax.tick_params(\"both\", direction=\"in\", which=\"both\", length=4, labelsize=20, pad=10)\n",
    "ax.tick_params(\"both\", which=\"major\", length=8)\n",
    "ax.xaxis.set_ticks_position(\"both\")\n",
    "ax.yaxis.set_ticks_position(\"both\")\n",
    "\n",
    "ax.legend(fontsize=12, handletextpad=0.00, loc=\"lower right\")#, bbox_to_anchor=(1, 0.5))\n",
    "fig.savefig('R125-emimTF2N-linTdep.pdf',bbox_inches='tight')\n",
    "plt.show()"
   ]
  },
  {
   "cell_type": "markdown",
   "id": "vanilla-chapel",
   "metadata": {},
   "source": [
    "### Print Eigvals, Eigvectors\n",
    "\n",
    "An identifiability analysis can be performed with these as well as a FIM because the covariance matrix is the inverse of the FIM. That means that if there are any eigvals > 0, their eigvecs indicate directions of un-identifiability."
   ]
  },
  {
   "cell_type": "code",
   "execution_count": null,
   "id": "focused-rotation",
   "metadata": {},
   "outputs": [],
   "source": [
    "eigvals, eigvecs = np.linalg.eig(cov)"
   ]
  },
  {
   "cell_type": "code",
   "execution_count": null,
   "id": "indie-eclipse",
   "metadata": {},
   "outputs": [],
   "source": [
    "eigvals"
   ]
  },
  {
   "cell_type": "code",
   "execution_count": null,
   "id": "lightweight-october",
   "metadata": {},
   "outputs": [],
   "source": [
    "eigvecs"
   ]
  },
  {
   "cell_type": "code",
   "execution_count": null,
   "id": "b4e31cab",
   "metadata": {},
   "outputs": [],
   "source": [
    "np.savetxt('Data/EigenAnalysis/PR_vals_4parameter.csv',eigvals,delimiter=',')\n",
    "np.savetxt('Data/EigenAnalysis/PR_vecs_4parameter.csv',eigvecs,delimiter=',')"
   ]
  },
  {
   "cell_type": "markdown",
   "id": "fitting-flooring",
   "metadata": {},
   "source": [
    "Conclusion: Full identifiable because all eigvals ~ 0"
   ]
  },
  {
   "cell_type": "markdown",
   "id": "secure-pulse",
   "metadata": {},
   "source": [
    "## FIM with Enthalpy of Vaporization (and Pressure)"
   ]
  },
  {
   "cell_type": "markdown",
   "id": "specialized-science",
   "metadata": {},
   "source": [
    "### Step 1: Perturb Parameters, Calculate Enthalpy of Vaporization\n",
    "\n",
    "1. Perturb Parameters: stepsize = 0.001\n",
    "\n",
    "2. Holding all other parameters constant, calculate new pressure predictions at different temps, compositions \n",
    "\n",
    "*T = (T1=298, T2=323)\n",
    "\n",
    "*x = (0.01,0.2,0.325,0.4)\n",
    "\n",
    "*Pguess comes from data_full\n",
    "\n",
    "3. Save P, Use Clausius Clapeyron to calculate enthvap"
   ]
  },
  {
   "cell_type": "code",
   "execution_count": null,
   "id": "completed-consultancy",
   "metadata": {},
   "outputs": [],
   "source": [
    "h = 0.001\n",
    "kR32_emimTF2N_A_plus = parameters['fs.properties.PR_kappa_A[R32,emimTf2N]'] + h\n",
    "kR32_emimTF2N_A_minus = parameters['fs.properties.PR_kappa_A[R32,emimTf2N]'] - h\n",
    "kemimTF2N_R32_A_plus = parameters['fs.properties.PR_kappa_A[emimTf2N,R32]'] + h\n",
    "kemimTF2N_R32_A_minus = parameters['fs.properties.PR_kappa_A[emimTf2N,R32]'] - h\n",
    "kR32_emimTF2N_B_plus = parameters['fs.properties.PR_kappa_B[R32,emimTf2N]'] + h\n",
    "kR32_emimTF2N_B_minus = parameters['fs.properties.PR_kappa_B[R32,emimTf2N]'] - h\n",
    "kemimTF2N_R32_B_plus = parameters['fs.properties.PR_kappa_B[emimTf2N,R32]'] + h\n",
    "kemimTF2N_R32_B_minus = parameters['fs.properties.PR_kappa_B[emimTf2N,R32]'] - h"
   ]
  },
  {
   "cell_type": "code",
   "execution_count": null,
   "id": "minimal-modeling",
   "metadata": {},
   "outputs": [],
   "source": [
    "data = np.array([[kR32_emimTF2N_A_plus,parameters['fs.properties.PR_kappa_A[emimTf2N,R32]'],parameters['fs.properties.PR_kappa_B[R32,emimTf2N]'],parameters['fs.properties.PR_kappa_B[emimTf2N,R32]']],\n",
    "                [kR32_emimTF2N_A_minus,parameters['fs.properties.PR_kappa_A[emimTf2N,R32]'],parameters['fs.properties.PR_kappa_B[R32,emimTf2N]'],parameters['fs.properties.PR_kappa_B[emimTf2N,R32]']],\n",
    "                [parameters['fs.properties.PR_kappa_A[R32,emimTf2N]'],kemimTF2N_R32_A_plus,parameters['fs.properties.PR_kappa_B[R32,emimTf2N]'],parameters['fs.properties.PR_kappa_B[emimTf2N,R32]']],\n",
    "               [parameters['fs.properties.PR_kappa_A[R32,emimTf2N]'],kemimTF2N_R32_A_minus,parameters['fs.properties.PR_kappa_B[R32,emimTf2N]'],parameters['fs.properties.PR_kappa_B[emimTf2N,R32]']],\n",
    "                [parameters['fs.properties.PR_kappa_A[R32,emimTf2N]'],parameters['fs.properties.PR_kappa_A[emimTf2N,R32]'],kR32_emimTF2N_B_plus,parameters['fs.properties.PR_kappa_B[emimTf2N,R32]']],\n",
    "                 [parameters['fs.properties.PR_kappa_A[R32,emimTf2N]'],parameters['fs.properties.PR_kappa_A[emimTf2N,R32]'],kR32_emimTF2N_B_minus,parameters['fs.properties.PR_kappa_B[emimTf2N,R32]']],\n",
    "                 [parameters['fs.properties.PR_kappa_A[R32,emimTf2N]'],parameters['fs.properties.PR_kappa_A[emimTf2N,R32]'],parameters['fs.properties.PR_kappa_B[R32,emimTf2N]'],kemimTF2N_R32_B_plus],\n",
    "                 [parameters['fs.properties.PR_kappa_A[R32,emimTf2N]'],parameters['fs.properties.PR_kappa_A[emimTf2N,R32]'],parameters['fs.properties.PR_kappa_B[R32,emimTf2N]'],kemimTF2N_R32_B_minus]])"
   ]
  },
  {
   "cell_type": "code",
   "execution_count": null,
   "id": "hazardous-category",
   "metadata": {},
   "outputs": [],
   "source": [
    "perturbed_params = pd.DataFrame(data=data,columns=['kR32_emimTF2N_A','kemimTF2N_R32_A','kR32_emimTF2N_B','kemimTF2N_R32_B'])\n",
    "perturbed_params"
   ]
  },
  {
   "cell_type": "code",
   "execution_count": null,
   "id": "powered-niger",
   "metadata": {},
   "outputs": [],
   "source": [
    "x = [0.01,0.2,0.325,0.4]\n",
    "temps_298 = [298.15,298.15,298.15,298.15]\n",
    "pguess_298 = [9600,250000,399400,549000]\n",
    "temps_323 = [323.15,323.15,323.15,323.15]\n",
    "pguess_323 = [20400,400100,700300,1000000]"
   ]
  },
  {
   "cell_type": "code",
   "execution_count": null,
   "id": "asian-second",
   "metadata": {},
   "outputs": [],
   "source": [
    "test_298 = pd.DataFrame()\n",
    "test_298['temperature'] = temps_298\n",
    "test_298['pressure'] = pguess_298\n",
    "test_298['x_R32'] = x\n",
    "test_298['x_emimTf2N'] = 1-test_298['x_R32']\n",
    "# test_298"
   ]
  },
  {
   "cell_type": "code",
   "execution_count": null,
   "id": "nutritional-trigger",
   "metadata": {},
   "outputs": [],
   "source": [
    "test_323 = pd.DataFrame()\n",
    "test_323['temperature'] = temps_323\n",
    "test_323['pressure'] = pguess_323\n",
    "test_323['x_R32'] = x\n",
    "test_323['x_emimTf2N'] = 1-test_323['x_R32']\n",
    "# test_323"
   ]
  },
  {
   "cell_type": "code",
   "execution_count": null,
   "id": "spread-short",
   "metadata": {},
   "outputs": [],
   "source": [
    "test_data = pd.concat([test_298,test_323],ignore_index=True)"
   ]
  },
  {
   "cell_type": "code",
   "execution_count": null,
   "id": "temporal-forth",
   "metadata": {},
   "outputs": [],
   "source": [
    "# Loop through test values\n",
    "\n",
    "R32_x = np.zeros((len(perturbed_params),len(test_data)))\n",
    "P = np.zeros((len(perturbed_params),len(test_data)))\n",
    "\n",
    "for j in range(len(perturbed_params)):\n",
    "\n",
    "    m = ConcreteModel()\n",
    "\n",
    "    m.fs = FlowsheetBlock(default={\"dynamic\": False})\n",
    "\n",
    "    m.fs.properties = GenericParameterBlock(default=configuration)\n",
    "\n",
    "    m.fs.F101 = Flash(default={\"property_package\": m.fs.properties,\n",
    "                               \"has_heat_transfer\": True,\n",
    "                               \"has_pressure_change\": True})\n",
    "\n",
    "    m.fs.F101.inlet.flow_mol.fix(1)\n",
    "    m.fs.F101.inlet.temperature.fix(323.15)\n",
    "    m.fs.F101.inlet.pressure.fix(399800)\n",
    "    m.fs.F101.inlet.mole_frac_comp[0,'R32'].fix(0.5)\n",
    "    \n",
    "    m.fs.properties.PR_kappa_A['R32','emimTf2N'] = perturbed_params['kR32_emimTF2N_A'][j]\n",
    "    m.fs.properties.PR_kappa_A['emimTf2N','R32'] = perturbed_params['kemimTF2N_R32_A'][j]\n",
    "    m.fs.properties.PR_kappa_B['R32','emimTf2N'] = perturbed_params['kR32_emimTF2N_B'][j]\n",
    "    m.fs.properties.PR_kappa_B['emimTf2N','R32'] = perturbed_params['kemimTF2N_R32_B'][j]\n",
    "    \n",
    "\n",
    "    # Initialize the flash unit\n",
    "    m.fs.F101.initialize(outlvl=idaeslog.CRITICAL)\n",
    "\n",
    "    # Fix the state variables on the state block\n",
    "    # m.fs.F101.inlet.pressure.unfix()\n",
    "    m.fs.F101.inlet.mole_frac_comp[0,'emimTf2N'].unfix()\n",
    "\n",
    "    m.fs.liq = Param(mutable=True,default=0.040)\n",
    "    m.fs.liquid = Constraint(expr=m.fs.F101.liq_outlet.mole_frac_comp[0, \"emimTf2N\"] == m.fs.liq)\n",
    "\n",
    "    for i in range(len(test_data)):\n",
    "        m.fs.liq = test_data[\"x_emimTf2N\"].iloc[i]\n",
    "        m.fs.F101.inlet.temperature.fix(float(test_data[\"temperature\"].iloc[i]))\n",
    "        m.fs.F101.inlet.pressure.fix(float(test_data[\"pressure\"].iloc[i]))\n",
    "        m.fs.F101.inlet.mole_frac_comp[0,'R32'].fix(float(test_data[\"x_R32\"].iloc[i])+0.1)\n",
    "        m.fs.F101.inlet.mole_frac_comp[0,'emimTf2N'].fix(float(1-(test_data[\"x_R32\"].iloc[i]+0.1)))\n",
    "        m.fs.F101.vap_outlet.temperature.fix(float(test_data[\"temperature\"].iloc[i]))\n",
    "\n",
    "    #     DOF_final = degrees_of_freedom(m)\n",
    "    #     print(\"The final DOF is {0}\".format(DOF_final))\n",
    "        m.fs.F101.initialize(outlvl=idaeslog.CRITICAL)\n",
    "\n",
    "        status = solver.solve(m, tee = False)\n",
    "\n",
    "    #     m.fs.F101.report()\n",
    "        if (status.solver.status == SolverStatus.ok) and (status.solver.termination_condition == TerminationCondition.optimal):\n",
    "            print(test_data[\"x_emimTf2N\"].iloc[i])\n",
    "            R32_x[j,i] = value(m.fs.F101.liq_outlet.mole_frac_comp[0,'R32'])\n",
    "            P[j,i] = value(m.fs.F101.vap_outlet.pressure[0])\n",
    "\n",
    "        else:\n",
    "            print('Infeasible.')"
   ]
  },
  {
   "cell_type": "code",
   "execution_count": null,
   "id": "diagnostic-trademark",
   "metadata": {},
   "outputs": [],
   "source": [
    "test_data['P_kR32_emimTF2N_A_plus'] = P[0]\n",
    "test_data['P_kR32_emimTF2N_A_minus'] = P[1]\n",
    "test_data['P_kemimTF2N_R32_A_plus'] = P[2]\n",
    "test_data['P_kemimTF2N_R32_A_minus'] = P[3]\n",
    "test_data['P_kR32_emimTF2N_B_plus'] = P[4]\n",
    "test_data['P_kR32_emimTF2N_B_minus'] = P[5]\n",
    "test_data['P_kemimTF2N_R32_B_plus'] = P[6]\n",
    "test_data['P_kemimTF2N_R32_B_minus'] = P[7]"
   ]
  },
  {
   "cell_type": "code",
   "execution_count": null,
   "id": "expanded-columbus",
   "metadata": {},
   "outputs": [],
   "source": [
    "grad_P = test_data"
   ]
  },
  {
   "cell_type": "code",
   "execution_count": null,
   "id": "geographic-charles",
   "metadata": {},
   "outputs": [],
   "source": [
    "test_data_298 = test_data[test_data['temperature']==298.15]\n",
    "test_data_323 = test_data[test_data['temperature']==323.15].reset_index()"
   ]
  },
  {
   "cell_type": "code",
   "execution_count": null,
   "id": "adjustable-complaint",
   "metadata": {},
   "outputs": [],
   "source": [
    "R = 8.314 #J/mol-K\n",
    "hvap_calc_kR32_emimTF2N_A_plus = []\n",
    "for i in range(len(x)):\n",
    "    T2 = test_data_323['temperature'][i]\n",
    "    T1 = test_data_298['temperature'][i]\n",
    "    P2 = test_data_323['P_kR32_emimTF2N_A_plus'][i]\n",
    "    P1 = test_data_298['P_kR32_emimTF2N_A_plus'][i]\n",
    "    hvap_calc_kR32_emimTF2N_A_plus.append(np.log(P2/P1)*R/(1/T2-1/T1))\n",
    "\n",
    "hvap_calc_kR32_emimTF2N_A_minus = []\n",
    "for i in range(len(x)):\n",
    "    T2 = test_data_323['temperature'][i]\n",
    "    T1 = test_data_298['temperature'][i]\n",
    "    P2 = test_data_323['P_kR32_emimTF2N_A_minus'][i]\n",
    "    P1 = test_data_298['P_kR32_emimTF2N_A_minus'][i]\n",
    "    hvap_calc_kR32_emimTF2N_A_minus.append(np.log(P2/P1)*R/(1/T2-1/T1))\n",
    "    \n",
    "hvap_calc_kemimTF2N_R32_A_plus = []\n",
    "for i in range(len(x)):\n",
    "    T2 = test_data_323['temperature'][i]\n",
    "    T1 = test_data_298['temperature'][i]\n",
    "    P2 = test_data_323['P_kemimTF2N_R32_A_plus'][i]\n",
    "    P1 = test_data_298['P_kemimTF2N_R32_A_plus'][i]\n",
    "    hvap_calc_kemimTF2N_R32_A_plus.append(np.log(P2/P1)*R/(1/T2-1/T1))\n",
    "    \n",
    "hvap_calc_kemimTF2N_R32_A_minus = []\n",
    "for i in range(len(x)):\n",
    "    T2 = test_data_323['temperature'][i]\n",
    "    T1 = test_data_298['temperature'][i]\n",
    "    P2 = test_data_323['P_kemimTF2N_R32_A_minus'][i]\n",
    "    P1 = test_data_298['P_kemimTF2N_R32_A_minus'][i]\n",
    "    hvap_calc_kemimTF2N_R32_A_minus.append(np.log(P2/P1)*R/(1/T2-1/T1))\n",
    "    \n",
    "hvap_calc_kR32_emimTF2N_B_plus = []\n",
    "for i in range(len(x)):\n",
    "    T2 = test_data_323['temperature'][i]\n",
    "    T1 = test_data_298['temperature'][i]\n",
    "    P2 = test_data_323['P_kR32_emimTF2N_B_plus'][i]\n",
    "    P1 = test_data_298['P_kR32_emimTF2N_B_plus'][i]\n",
    "    hvap_calc_kR32_emimTF2N_B_plus.append(np.log(P2/P1)*R/(1/T2-1/T1))\n",
    "\n",
    "hvap_calc_kR32_emimTF2N_B_minus = []\n",
    "for i in range(len(x)):\n",
    "    T2 = test_data_323['temperature'][i]\n",
    "    T1 = test_data_298['temperature'][i]\n",
    "    P2 = test_data_323['P_kR32_emimTF2N_B_minus'][i]\n",
    "    P1 = test_data_298['P_kR32_emimTF2N_B_minus'][i]\n",
    "    hvap_calc_kR32_emimTF2N_B_minus.append(np.log(P2/P1)*R/(1/T2-1/T1))\n",
    "    \n",
    "hvap_calc_kemimTF2N_R32_B_plus = []\n",
    "for i in range(len(x)):\n",
    "    T2 = test_data_323['temperature'][i]\n",
    "    T1 = test_data_298['temperature'][i]\n",
    "    P2 = test_data_323['P_kemimTF2N_R32_B_plus'][i]\n",
    "    P1 = test_data_298['P_kemimTF2N_R32_B_plus'][i]\n",
    "    hvap_calc_kemimTF2N_R32_B_plus.append(np.log(P2/P1)*R/(1/T2-1/T1))\n",
    "    \n",
    "hvap_calc_kemimTF2N_R32_B_minus = []\n",
    "for i in range(len(x)):\n",
    "    T2 = test_data_323['temperature'][i]\n",
    "    T1 = test_data_298['temperature'][i]\n",
    "    P2 = test_data_323['P_kemimTF2N_R32_B_minus'][i]\n",
    "    P1 = test_data_298['P_kemimTF2N_R32_B_minus'][i]\n",
    "    hvap_calc_kemimTF2N_R32_B_minus.append(np.log(P2/P1)*R/(1/T2-1/T1))"
   ]
  },
  {
   "cell_type": "code",
   "execution_count": null,
   "id": "assured-enlargement",
   "metadata": {},
   "outputs": [],
   "source": [
    "hvap = pd.DataFrame()\n",
    "hvap['x_R32'] = x\n",
    "hvap['hvap_kR32_emimTF2N_A_plus'] = hvap_calc_kR32_emimTF2N_A_plus\n",
    "hvap['hvap_kR32_emimTF2N_A_minus'] = hvap_calc_kR32_emimTF2N_A_minus\n",
    "hvap['hvap_kemimTF2N_R32_A_plus'] = hvap_calc_kemimTF2N_R32_A_plus\n",
    "hvap['hvap_kemimTF2N_R32_A_minus'] = hvap_calc_kemimTF2N_R32_A_minus\n",
    "hvap['hvap_kR32_emimTF2N_B_plus'] = hvap_calc_kR32_emimTF2N_B_plus\n",
    "hvap['hvap_kR32_emimTF2N_B_minus'] = hvap_calc_kR32_emimTF2N_B_minus\n",
    "hvap['hvap_kemimTF2N_R32_B_plus'] = hvap_calc_kemimTF2N_R32_B_plus\n",
    "hvap['hvap_kemimTF2N_R32_B_minus'] = hvap_calc_kemimTF2N_R32_B_minus"
   ]
  },
  {
   "cell_type": "code",
   "execution_count": null,
   "id": "everyday-westminster",
   "metadata": {},
   "outputs": [],
   "source": [
    "hvap"
   ]
  },
  {
   "cell_type": "markdown",
   "id": "twelve-television",
   "metadata": {},
   "source": [
    "### Step 2: Calculate Gradient wrt each param at each concentration"
   ]
  },
  {
   "cell_type": "code",
   "execution_count": null,
   "id": "muslim-youth",
   "metadata": {},
   "outputs": [],
   "source": [
    "grad_kR32_emimTF2N_A = (hvap['hvap_kR32_emimTF2N_A_plus'] - hvap['hvap_kR32_emimTF2N_A_minus'])/(2*h)\n",
    "grad_kemimTF2N_R32_A = (hvap['hvap_kemimTF2N_R32_A_plus'] - hvap['hvap_kemimTF2N_R32_A_minus'])/(2*h)\n",
    "grad_kR32_emimTF2N_B = (hvap['hvap_kR32_emimTF2N_B_plus'] - hvap['hvap_kR32_emimTF2N_B_minus'])/(2*h)\n",
    "grad_kemimTF2N_R32_B = (hvap['hvap_kemimTF2N_R32_B_plus'] - hvap['hvap_kemimTF2N_R32_B_minus'])/(2*h)"
   ]
  },
  {
   "cell_type": "code",
   "execution_count": null,
   "id": "handmade-forward",
   "metadata": {},
   "outputs": [],
   "source": [
    "grad_P['kR32_emimTF2N_A'] = (grad_P['P_kR32_emimTF2N_A_plus'] - grad_P['P_kR32_emimTF2N_A_minus'])/(2*h)\n",
    "grad_P['kemimTF2N_R32_A'] = (grad_P['P_kemimTF2N_R32_A_plus'] - grad_P['P_kemimTF2N_R32_A_minus'])/(2*h)\n",
    "grad_P['kR32_emimTF2N_B'] = (grad_P['P_kR32_emimTF2N_B_plus'] - grad_P['P_kR32_emimTF2N_B_minus'])/(2*h)\n",
    "grad_P['kemimTF2N_R32_B'] = (grad_P['P_kemimTF2N_R32_B_plus'] - grad_P['P_kemimTF2N_R32_B_minus'])/(2*h)"
   ]
  },
  {
   "cell_type": "markdown",
   "id": "amazing-garage",
   "metadata": {},
   "source": [
    "### Step 3: Build Jacobian and FIM\n",
    "\n",
    "Rows: enthvap @ 4 concentrations; or pressure @ 4 concentrations, 2 temps\n",
    "\n",
    "Columns: parameters (4)"
   ]
  },
  {
   "cell_type": "code",
   "execution_count": null,
   "id": "paperback-apartment",
   "metadata": {},
   "outputs": [],
   "source": [
    "J_df = pd.DataFrame()\n",
    "J_df['kR32_emimTF2N_A'] = grad_kR32_emimTF2N_A\n",
    "J_df['kemimTF2N_R32_A'] = grad_kemimTF2N_R32_A\n",
    "J_df['kR32_emimTF2N_B'] = grad_kR32_emimTF2N_B\n",
    "J_df['kemimTF2N_R32_B'] = grad_kemimTF2N_R32_B"
   ]
  },
  {
   "cell_type": "code",
   "execution_count": null,
   "id": "sophisticated-technical",
   "metadata": {},
   "outputs": [],
   "source": [
    "J = J_df.to_numpy()\n",
    "Jtrans = np.transpose(J)"
   ]
  },
  {
   "cell_type": "code",
   "execution_count": null,
   "id": "thrown-winning",
   "metadata": {},
   "outputs": [],
   "source": [
    "FIM = np.dot(Jtrans,J)"
   ]
  },
  {
   "cell_type": "code",
   "execution_count": null,
   "id": "acting-sculpture",
   "metadata": {},
   "outputs": [],
   "source": [
    "FIM"
   ]
  },
  {
   "cell_type": "code",
   "execution_count": null,
   "id": "changing-liver",
   "metadata": {},
   "outputs": [],
   "source": [
    "J_df_P = pd.DataFrame()\n",
    "J_df_P['kR32_emimTF2N_A'] = grad_P['kR32_emimTF2N_A']\n",
    "J_df_P['kemimTF2N_R32_A'] = grad_P['kemimTF2N_R32_A']\n",
    "J_df_P['kR32_emimTF2N_B'] = grad_P['kR32_emimTF2N_B']\n",
    "J_df_P['kemimTF2N_R32_B'] = grad_P['kemimTF2N_R32_B']"
   ]
  },
  {
   "cell_type": "code",
   "execution_count": null,
   "id": "educated-sleeping",
   "metadata": {},
   "outputs": [],
   "source": [
    "J_P = J_df_P.to_numpy()\n",
    "J_Ptrans = np.transpose(J_P)"
   ]
  },
  {
   "cell_type": "code",
   "execution_count": null,
   "id": "metric-management",
   "metadata": {},
   "outputs": [],
   "source": [
    "FIM_P = np.dot(J_Ptrans,J_P)"
   ]
  },
  {
   "cell_type": "code",
   "execution_count": null,
   "id": "lovely-hopkins",
   "metadata": {},
   "outputs": [],
   "source": [
    "FIM_P"
   ]
  },
  {
   "cell_type": "markdown",
   "id": "gorgeous-needle",
   "metadata": {},
   "source": [
    "### Step 4: Find Eigenvalues, Eigenvectors"
   ]
  },
  {
   "cell_type": "markdown",
   "id": "prime-installation",
   "metadata": {},
   "source": [
    "**Enthalpy of Vaporization**"
   ]
  },
  {
   "cell_type": "code",
   "execution_count": null,
   "id": "consecutive-holiday",
   "metadata": {},
   "outputs": [],
   "source": [
    "eigvals, eigvecs = np.linalg.eig(FIM)"
   ]
  },
  {
   "cell_type": "code",
   "execution_count": null,
   "id": "played-parish",
   "metadata": {},
   "outputs": [],
   "source": [
    "eigvals"
   ]
  },
  {
   "cell_type": "code",
   "execution_count": null,
   "id": "harmful-harmony",
   "metadata": {},
   "outputs": [],
   "source": [
    "eigvecs"
   ]
  },
  {
   "cell_type": "markdown",
   "id": "dressed-designer",
   "metadata": {},
   "source": [
    "There is 1 eigval < 0, indicating 1 unidentifiable direction. Its corresponding eigenvector has the highest values in the last two parameters, indicating these would be the directions of unidentifiability."
   ]
  },
  {
   "cell_type": "markdown",
   "id": "mobile-project",
   "metadata": {},
   "source": [
    "**Pressure**"
   ]
  },
  {
   "cell_type": "code",
   "execution_count": null,
   "id": "dutch-expansion",
   "metadata": {},
   "outputs": [],
   "source": [
    "eigvals_P, eigvecs_P = np.linalg.eig(FIM_P)"
   ]
  },
  {
   "cell_type": "code",
   "execution_count": null,
   "id": "innocent-novelty",
   "metadata": {},
   "outputs": [],
   "source": [
    "eigvals_P"
   ]
  },
  {
   "cell_type": "code",
   "execution_count": null,
   "id": "incomplete-medicine",
   "metadata": {},
   "outputs": [],
   "source": [
    "eigvecs_P"
   ]
  },
  {
   "cell_type": "markdown",
   "id": "ultimate-median",
   "metadata": {},
   "source": [
    "All eigvals >> 0, assuming these 4 parameters are identifiable with the given T,x,P data"
   ]
  },
  {
   "cell_type": "markdown",
   "id": "suited-substance",
   "metadata": {},
   "source": [
    "## AIC Value\n",
    "\n",
    "See https://docs.google.com/document/d/1um0r2XK4ldjjy2colOqaZsEM3wIzGD6l_3B8gnpnI2I/edit# for equations"
   ]
  },
  {
   "cell_type": "markdown",
   "id": "seasonal-robinson",
   "metadata": {},
   "source": [
    "### Calculate MLE"
   ]
  },
  {
   "cell_type": "code",
   "execution_count": null,
   "id": "vietnamese-domestic",
   "metadata": {},
   "outputs": [],
   "source": [
    "### Define calc model P function\n",
    "\n",
    "def calcPmod(theta,data):\n",
    "    '''\n",
    "    Arguments:\n",
    "    theta - list of BIPs\n",
    "    data - data needed to run the model\n",
    "    \n",
    "    Returns\n",
    "    Pmod - list of calculated pressures\n",
    "    '''\n",
    "    \n",
    "    m = ConcreteModel()\n",
    "\n",
    "    m.fs = FlowsheetBlock(default={\"dynamic\": False})\n",
    "\n",
    "    m.fs.properties = GenericParameterBlock(default=configuration)\n",
    "\n",
    "    m.fs.F101 = Flash(default={\"property_package\": m.fs.properties,\n",
    "                               \"has_heat_transfer\": True,\n",
    "                               \"has_pressure_change\": True})\n",
    "\n",
    "    m.fs.F101.inlet.flow_mol.fix(1)\n",
    "    m.fs.F101.inlet.temperature.fix(323.15)\n",
    "    m.fs.F101.inlet.pressure.fix(399800)\n",
    "    m.fs.F101.inlet.mole_frac_comp[0,'R32'].fix(0.5)\n",
    "\n",
    "    m.fs.properties.PR_kappa_A['R32','emimTf2N'] = theta[0]\n",
    "    m.fs.properties.PR_kappa_A['emimTf2N','R32'] = theta[1]\n",
    "    m.fs.properties.PR_kappa_B['R32','emimTf2N'] = theta[2]\n",
    "    m.fs.properties.PR_kappa_B['emimTf2N','R32'] = theta[3]\n",
    "\n",
    "    # Initialize the flash unit\n",
    "    m.fs.F101.initialize(outlvl=idaeslog.CRITICAL)\n",
    "\n",
    "    # Fix the state variables on the state block\n",
    "    # m.fs.F101.inlet.pressure.unfix()\n",
    "    m.fs.F101.inlet.mole_frac_comp[0,'emimTf2N'].unfix()\n",
    "\n",
    "    R32_x = np.zeros((len(data)))\n",
    "    P = np.zeros((len(data)))\n",
    "\n",
    "    m.fs.liq = Param(mutable=True,default=0.040)\n",
    "    m.fs.liquid = Constraint(expr=m.fs.F101.liq_outlet.mole_frac_comp[0, \"emimTf2N\"] == m.fs.liq)\n",
    "\n",
    "    for i in range(len(data)):\n",
    "        m.fs.liq = data[\"x_emimTf2N\"].iloc[i]\n",
    "        m.fs.F101.inlet.temperature.fix(float(data[\"temperature\"].iloc[i]))\n",
    "        m.fs.F101.inlet.pressure.fix(float(data[\"pressure\"].iloc[i]))\n",
    "        m.fs.F101.inlet.mole_frac_comp[0,'R32'].fix(float(data[\"x_R32\"].iloc[i])+0.1)\n",
    "        m.fs.F101.inlet.mole_frac_comp[0,'emimTf2N'].fix(float(1-(data[\"x_R32\"].iloc[i]+0.1)))\n",
    "        m.fs.F101.vap_outlet.temperature.fix(float(data[\"temperature\"].iloc[i]))\n",
    "\n",
    "    #     DOF_final = degrees_of_freedom(m)\n",
    "    #     print(\"The final DOF is {0}\".format(DOF_final))\n",
    "        m.fs.F101.initialize(outlvl=idaeslog.CRITICAL)\n",
    "\n",
    "        status = solver.solve(m, tee = False)\n",
    "\n",
    "    #     m.fs.F101.report()\n",
    "        if (status.solver.status == SolverStatus.ok) and (status.solver.termination_condition == TerminationCondition.optimal):\n",
    "#             print(data[\"x_emimTf2N\"].iloc[i])\n",
    "            R32_x[i] = value(m.fs.F101.liq_outlet.mole_frac_comp[0,'R32']) \n",
    "            P[i] = value(m.fs.F101.vap_outlet.pressure[0])\n",
    "\n",
    "        else:\n",
    "            print('Infeasible.')\n",
    "            \n",
    "    Pmod = P\n",
    "    \n",
    "    return Pmod"
   ]
  },
  {
   "cell_type": "code",
   "execution_count": null,
   "id": "incident-catholic",
   "metadata": {},
   "outputs": [],
   "source": [
    "### Define function to calculate SSR\n",
    "def res(theta,data,Pexp):\n",
    "    '''\n",
    "    Arguments:\n",
    "    theta - list of BIPs\n",
    "    data - data needed to run the model\n",
    "    Pexp - list of experimental pressure data\n",
    "    \n",
    "    Returns:\n",
    "    residual between model and exp (note, this will be large because of units of P)\n",
    "    '''\n",
    "    \n",
    "    #Calculate model P\n",
    "    Pmod = calcPmod(theta,data)\n",
    "    \n",
    "    return Pexp - Pmod"
   ]
  },
  {
   "cell_type": "code",
   "execution_count": null,
   "id": "statistical-repository",
   "metadata": {},
   "outputs": [],
   "source": [
    "theta_guess = [parameters['fs.properties.PR_kappa_A[R32,emimTf2N]'],parameters['fs.properties.PR_kappa_A[emimTf2N,R32]'],parameters['fs.properties.PR_kappa_B[R32,emimTf2N]'],parameters['fs.properties.PR_kappa_B[emimTf2N,R32]']]\n",
    "Pexp = data_subset['pressure'].values.tolist()\n",
    "n = 4\n",
    "bnds = ([-20,-20,-20,-20],[20,20,20,20])"
   ]
  },
  {
   "cell_type": "code",
   "execution_count": null,
   "id": "narrative-significance",
   "metadata": {},
   "outputs": [],
   "source": [
    "### solve\n",
    "sol = scipy.optimize.least_squares(res, theta_guess, method='trf', args=(data_subset,Pexp),bounds=bnds)"
   ]
  },
  {
   "cell_type": "code",
   "execution_count": null,
   "id": "configured-tracy",
   "metadata": {},
   "outputs": [],
   "source": [
    "theta_hat = sol.x\n",
    "theta_hat"
   ]
  },
  {
   "cell_type": "code",
   "execution_count": null,
   "id": "spanish-suspension",
   "metadata": {},
   "outputs": [],
   "source": [
    "def SSR(theta,data,Pexp):\n",
    "    '''\n",
    "    Arguments:\n",
    "    theta - list of BIPs\n",
    "    data - data needed to run the model\n",
    "    Pexp - list of experimental pressure data\n",
    "    \n",
    "    Returns:\n",
    "    SSR - sum of residuals squared\n",
    "    '''\n",
    "    \n",
    "    #Calculate model P\n",
    "    Pmod = calcPmod(theta,data)\n",
    "    \n",
    "    #Calculate residual squared\n",
    "    res = (Pexp - Pmod)**2\n",
    "    \n",
    "    #Sum residuals squared\n",
    "    SSR = np.sum(res)\n",
    "      \n",
    "    return SSR"
   ]
  },
  {
   "cell_type": "code",
   "execution_count": null,
   "id": "changing-medicare",
   "metadata": {},
   "outputs": [],
   "source": [
    "SSR = SSR(theta_hat,data_subset,Pexp)\n",
    "SSR"
   ]
  },
  {
   "cell_type": "code",
   "execution_count": null,
   "id": "manual-factor",
   "metadata": {},
   "outputs": [],
   "source": [
    "sigma_sq = SSR/n\n",
    "sigma_sq"
   ]
  },
  {
   "cell_type": "code",
   "execution_count": null,
   "id": "satisfied-geology",
   "metadata": {},
   "outputs": [],
   "source": [
    "L = -n/2*np.log(2*np.pi) - n/2*np.log(sigma_sq) - 1/(2*sigma_sq)*SSR\n",
    "L"
   ]
  },
  {
   "cell_type": "code",
   "execution_count": null,
   "id": "weird-psychiatry",
   "metadata": {},
   "outputs": [],
   "source": [
    "AIC = 2*n - 2*L\n",
    "AIC"
   ]
  },
  {
   "cell_type": "markdown",
   "id": "united-equity",
   "metadata": {},
   "source": [
    "Other AIC - using SSR calculated in above parameter fitting"
   ]
  },
  {
   "cell_type": "code",
   "execution_count": null,
   "id": "9336291c",
   "metadata": {},
   "outputs": [],
   "source": [
    "n=4"
   ]
  },
  {
   "cell_type": "code",
   "execution_count": null,
   "id": "fourth-norfolk",
   "metadata": {},
   "outputs": [],
   "source": [
    "SSR_other = obj_value"
   ]
  },
  {
   "cell_type": "code",
   "execution_count": null,
   "id": "according-present",
   "metadata": {},
   "outputs": [],
   "source": [
    "sigma_sq_other = SSR_other/n\n",
    "sigma_sq_other"
   ]
  },
  {
   "cell_type": "code",
   "execution_count": null,
   "id": "passive-hardware",
   "metadata": {},
   "outputs": [],
   "source": [
    "L_other = -n/2*np.log(2*np.pi) - n/2*np.log(sigma_sq_other) - 1/(2*sigma_sq_other)*SSR_other\n",
    "L_other"
   ]
  },
  {
   "cell_type": "code",
   "execution_count": null,
   "id": "finite-pacific",
   "metadata": {},
   "outputs": [],
   "source": [
    "AIC_other = 2*n - 2*L_other\n",
    "AIC_other"
   ]
  },
  {
   "cell_type": "code",
   "execution_count": null,
   "id": "casual-princess",
   "metadata": {},
   "outputs": [],
   "source": [
    "AIC_data = pd.DataFrame(data=[n,obj_value,AIC_other])\n",
    "AIC_data = AIC_data.T\n",
    "AIC_data.columns = ['n','Objective, Pa^2','AIC']\n",
    "AIC_data.to_csv('Data/AIC/PR_AIC_4parameter.csv')"
   ]
  },
  {
   "cell_type": "code",
   "execution_count": null,
   "id": "8d5bb1c5",
   "metadata": {},
   "outputs": [],
   "source": []
  }
 ],
 "metadata": {
  "kernelspec": {
   "display_name": "Python 3 (ipykernel)",
   "language": "python",
   "name": "python3"
  },
  "language_info": {
   "codemirror_mode": {
    "name": "ipython",
    "version": 3
   },
   "file_extension": ".py",
   "mimetype": "text/x-python",
   "name": "python",
   "nbconvert_exporter": "python",
   "pygments_lexer": "ipython3",
   "version": "3.9.9"
  }
 },
 "nbformat": 4,
 "nbformat_minor": 5
}
