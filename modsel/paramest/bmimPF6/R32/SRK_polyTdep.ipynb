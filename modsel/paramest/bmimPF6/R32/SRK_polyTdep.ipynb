{
 "cells": [
  {
   "cell_type": "markdown",
   "id": "instructional-learning",
   "metadata": {},
   "source": [
    "# Fit bmimpf6 data\n",
    "\n",
    "EoS: SRK\n",
    "\n",
    "Parameter T dependence: Order 3 Polynomial\n",
    "\n",
    "N (total fitting parameters): 8\n",
    "-need to work on initialization"
   ]
  },
  {
   "cell_type": "markdown",
   "id": "extended-rabbit",
   "metadata": {},
   "source": [
    "## Import Functions"
   ]
  },
  {
   "cell_type": "code",
   "execution_count": 1,
   "id": "complicated-toronto",
   "metadata": {},
   "outputs": [],
   "source": [
    "import idaes\n",
    "\n",
    "import pandas as pd\n",
    "import numpy as np\n",
    "import matplotlib.pyplot as plt\n",
    "import scipy.optimize\n",
    "\n",
    "import sys\n",
    "sys.path.append('../../')\n",
    "\n",
    "from pyomo.environ import (Constraint,\n",
    "                           Var,\n",
    "                           ConcreteModel,\n",
    "                           Expression,\n",
    "                           Param,\n",
    "                           Objective,\n",
    "                           SolverFactory,\n",
    "                           TransformationFactory,\n",
    "                           value)\n",
    "from pyomo.opt import TerminationCondition, SolverStatus\n",
    "\n",
    "from idaes.core import FlowsheetBlock\n",
    "import idaes.logger as idaeslog\n",
    "# Import the Generic Parameter Block\n",
    "from idaes.generic_models.properties.core.generic.generic_property import (\n",
    "        GenericParameterBlock)\n",
    "# Import unit models from the model library\n",
    "from idaes.generic_models.unit_models import Flash\n",
    "# Import degrees of freedom tool\n",
    "from idaes.core.util.model_statistics import degrees_of_freedom\n",
    "\n",
    "# parmest (binary_param2)\n",
    "from bip_fitting_functions_SRK import polynomial\n",
    "\n",
    "import scipy.stats as stats\n",
    "\n",
    "from matplotlib.patches import Ellipse\n",
    "import matplotlib.transforms as transforms\n",
    "import matplotlib.patches as mpatches"
   ]
  },
  {
   "cell_type": "markdown",
   "id": "potential-awareness",
   "metadata": {},
   "source": [
    "## Load Data"
   ]
  },
  {
   "cell_type": "code",
   "execution_count": 2,
   "id": "latest-artist",
   "metadata": {},
   "outputs": [],
   "source": [
    "data_full = pd.read_csv('r32_bmimpf6_full.csv')\n",
    "# data_subset = pd.read_csv('r32_emimtf2n_subset.csv')"
   ]
  },
  {
   "cell_type": "markdown",
   "id": "superior-attendance",
   "metadata": {},
   "source": [
    "## Load Configuration + Check DOF"
   ]
  },
  {
   "cell_type": "code",
   "execution_count": 3,
   "id": "binding-cattle",
   "metadata": {},
   "outputs": [],
   "source": [
    "from hfc32_bmimpf6_SRK_polynomial import configuration "
   ]
  },
  {
   "cell_type": "code",
   "execution_count": 4,
   "id": "backed-diving",
   "metadata": {},
   "outputs": [
    {
     "name": "stdout",
     "output_type": "stream",
     "text": [
      "The initial DOF is 7\n"
     ]
    }
   ],
   "source": [
    "m = ConcreteModel()\n",
    "m.fs = FlowsheetBlock(default={\"dynamic\": False})\n",
    "m.fs.properties = GenericParameterBlock(default=configuration)\n",
    "m.fs.F101 = Flash(default={\"property_package\": m.fs.properties,\n",
    "                           \"has_heat_transfer\": True,\n",
    "                           \"has_pressure_change\": True})\n",
    "DOF_initial = degrees_of_freedom(m)\n",
    "print('The initial DOF is {0}'.format(DOF_initial))"
   ]
  },
  {
   "cell_type": "markdown",
   "id": "conventional-health",
   "metadata": {},
   "source": [
    "## Fit Parameters"
   ]
  },
  {
   "cell_type": "code",
   "execution_count": 6,
   "id": "sensitive-secondary",
   "metadata": {},
   "outputs": [
    {
     "name": "stdout",
     "output_type": "stream",
     "text": [
      "2022-04-20 16:48:46 [INFO] idaes.init.fs.state_block: Property package initialization: optimal - Optimal Solution Found.\n",
      "2022-04-20 16:48:46 [INFO] idaes.init.fs.state_block: Property package initialization: optimal - Optimal Solution Found.\n",
      "2022-04-20 16:48:46 [INFO] idaes.init.fs.state_block: Property package initialization: optimal - Optimal Solution Found.\n",
      "2022-04-20 16:48:47 [INFO] idaes.init.fs.state_block: Property package initialization: optimal - Optimal Solution Found.\n",
      "2022-04-20 16:48:47 [INFO] idaes.init.fs.state_block: Property package initialization: optimal - Optimal Solution Found.\n",
      "2022-04-20 16:48:48 [INFO] idaes.init.fs.state_block: Property package initialization: optimal - Optimal Solution Found.\n",
      "2022-04-20 16:48:48 [INFO] idaes.init.fs.state_block: Property package initialization: optimal - Optimal Solution Found.\n",
      "2022-04-20 16:48:48 [INFO] idaes.init.fs.state_block: Property package initialization: optimal - Optimal Solution Found.\n",
      "2022-04-20 16:48:49 [INFO] idaes.init.fs.state_block: Property package initialization: optimal - Optimal Solution Found.\n",
      "2022-04-20 16:48:49 [INFO] idaes.init.fs.state_block: Property package initialization: optimal - Optimal Solution Found.\n",
      "2022-04-20 16:48:50 [INFO] idaes.init.fs.state_block: Property package initialization: optimal - Optimal Solution Found.\n",
      "2022-04-20 16:48:50 [INFO] idaes.init.fs.state_block: Property package initialization: optimal - Optimal Solution Found.\n",
      "2022-04-20 16:48:51 [INFO] idaes.init.fs.state_block: Property package initialization: optimal - Optimal Solution Found.\n",
      "2022-04-20 16:48:51 [INFO] idaes.init.fs.state_block: Property package initialization: optimal - Optimal Solution Found.\n",
      "2022-04-20 16:48:52 [INFO] idaes.init.fs.state_block: Property package initialization: optimal - Optimal Solution Found.\n",
      "2022-04-20 16:48:52 [INFO] idaes.init.fs.state_block: Property package initialization: optimal - Optimal Solution Found.\n",
      "2022-04-20 16:48:53 [INFO] idaes.init.fs.state_block: Property package initialization: optimal - Optimal Solution Found.\n",
      "2022-04-20 16:48:53 [INFO] idaes.init.fs.state_block: Property package initialization: optimal - Optimal Solution Found.\n",
      "2022-04-20 16:48:53 [INFO] idaes.init.fs.state_block: Property package initialization: optimal - Optimal Solution Found.\n",
      "2022-04-20 16:48:54 [INFO] idaes.init.fs.state_block: Property package initialization: optimal - Optimal Solution Found.\n",
      "2022-04-20 16:48:54 [INFO] idaes.init.fs.state_block: Property package initialization: optimal - Optimal Solution Found.\n",
      "2022-04-20 16:48:55 [INFO] idaes.init.fs.state_block: Property package initialization: optimal - Optimal Solution Found.\n",
      "2022-04-20 16:48:55 [INFO] idaes.init.fs.state_block: Property package initialization: optimal - Optimal Solution Found.\n",
      "2022-04-20 16:48:55 [INFO] idaes.init.fs.state_block: Property package initialization: optimal - Optimal Solution Found.\n",
      "2022-04-20 16:48:56 [INFO] idaes.init.fs.state_block: Property package initialization: optimal - Optimal Solution Found.\n",
      "2022-04-20 16:48:56 [INFO] idaes.init.fs.state_block: Property package initialization: optimal - Optimal Solution Found.\n",
      "2022-04-20 16:48:57 [INFO] idaes.init.fs.state_block: Property package initialization: optimal - Optimal Solution Found.\n",
      "2022-04-20 16:48:57 [INFO] idaes.init.fs.state_block: Property package initialization: optimal - Optimal Solution Found.\n",
      "2022-04-20 16:48:57 [INFO] idaes.init.fs.state_block: Property package initialization: optimal - Optimal Solution Found.\n",
      "2022-04-20 16:48:58 [INFO] idaes.init.fs.state_block: Property package initialization: optimal - Optimal Solution Found.\n",
      "2022-04-20 16:48:58 [INFO] idaes.init.fs.state_block: Property package initialization: optimal - Optimal Solution Found.\n",
      "Ipopt 3.13.2: bound_relax_factor=0\n",
      "honor_original_bounds=no\n",
      "\n",
      "\n",
      "******************************************************************************\n",
      "This program contains Ipopt, a library for large-scale nonlinear optimization.\n",
      " Ipopt is released as open source code under the Eclipse Public License (EPL).\n",
      "         For more information visit http://projects.coin-or.org/Ipopt\n",
      "\n",
      "This version of Ipopt was compiled from source code available at\n",
      "    https://github.com/IDAES/Ipopt as part of the Institute for the Design of\n",
      "    Advanced Energy Systems Process Systems Engineering Framework (IDAES PSE\n",
      "    Framework) Copyright (c) 2018-2019. See https://github.com/IDAES/idaes-pse.\n",
      "\n",
      "This version of Ipopt was compiled using HSL, a collection of Fortran codes\n",
      "    for large-scale scientific computation.  All technical papers, sales and\n",
      "    publicity material resulting from use of the HSL codes within IPOPT must\n",
      "    contain the following acknowledgement:\n",
      "        HSL, a collection of Fortran codes for large-scale scientific\n",
      "        computation. See http://www.hsl.rl.ac.uk.\n",
      "******************************************************************************\n",
      "\n",
      "This is Ipopt version 3.13.2, running with linear solver ma27.\n",
      "\n",
      "Number of nonzeros in equality constraint Jacobian...:     1782\n",
      "Number of nonzeros in inequality constraint Jacobian.:        0\n",
      "Number of nonzeros in Lagrangian Hessian.............:     3193\n",
      "\n",
      "Total number of variables............................:      620\n",
      "                     variables with only lower bounds:      124\n",
      "                variables with lower and upper bounds:      434\n",
      "                     variables with only upper bounds:        0\n",
      "Total number of equality constraints.................:      612\n",
      "Total number of inequality constraints...............:        0\n",
      "        inequality constraints with only lower bounds:        0\n",
      "   inequality constraints with lower and upper bounds:        0\n",
      "        inequality constraints with only upper bounds:        0\n",
      "\n",
      "iter    objective    inf_pr   inf_du lg(mu)  ||d||  lg(rg) alpha_du alpha_pr  ls\n",
      "   0  0.0000000e+00 1.14e+00 6.57e-14  -1.0 0.00e+00    -  0.00e+00 0.00e+00   0\n",
      "   1  1.0233268e+00 1.57e+00 1.75e+03  -1.0 4.06e+04    -  4.28e-01 3.39e-01h  1\n",
      "   2  1.1616212e+00 1.51e+00 1.69e+03  -1.0 2.52e+04  -4.0 5.47e-02 3.70e-02h  2\n",
      "   3  7.9090440e+00 3.37e+00 6.80e+03  -1.0 2.54e+04    -  1.59e-02 9.07e-01H  1\n",
      "   4  9.0386298e+00 1.54e+00 4.12e+03  -1.0 3.15e+03    -  6.97e-02 8.41e-01h  1\n",
      "   5  9.2931813e+00 1.88e-01 4.86e+02  -1.0 6.66e+02    -  6.69e-01 9.90e-01h  1\n",
      "   6  9.2678007e+00 9.74e-03 2.39e+04  -1.0 1.66e+02    -  7.66e-01 9.90e-01h  1\n",
      "   7  9.1572111e+00 1.17e-03 2.81e+06  -1.0 6.10e+02    -  7.27e-01 9.90e-01H  1\n",
      "   8  8.8944348e+00 1.19e-03 5.79e+08  -1.0 1.57e+03    -  4.47e-01 9.90e-01H  1\n",
      "   9  8.8922687e+00 1.19e-03 7.69e+10  -1.0 1.62e+03    -  7.34e-01 7.73e-03h  8\n",
      "iter    objective    inf_pr   inf_du lg(mu)  ||d||  lg(rg) alpha_du alpha_pr  ls\n",
      "  10  8.8901398e+00 1.20e-03 1.08e+11  -1.0 2.97e+03    -  3.00e-01 3.87e-03f  9\n",
      "  11  8.8877635e+00 1.22e-03 1.52e+11  -1.0 3.30e+03    -  4.11e-01 3.87e-03f  9\n",
      "  12  8.8874314e+00 1.22e-03 1.72e+11  -1.0 3.74e+03    -  1.87e-01 4.83e-04f 12\n",
      "  13  8.8870874e+00 1.22e-03 2.06e+11  -1.0 3.95e+03    -  3.17e-01 4.83e-04f 12\n",
      "  14  8.8869076e+00 1.22e-03 2.22e+11  -1.0 4.25e+03    -  1.45e-01 2.42e-04f 13\n",
      "  15  8.6069547e+00 2.48e-01 8.84e+10  -1.0 4.38e+03    -  2.76e-01 4.95e-01f  2\n",
      "  16  8.5817399e+00 2.23e-01 1.92e+11  -1.0 2.30e+03    -  6.57e-01 1.24e-01h  4\n",
      "  17  8.5708173e+00 2.12e-01 4.07e+11  -1.0 2.12e+03    -  9.88e-01 6.19e-02h  5\n",
      "  18  8.5682088e+00 2.09e-01 6.55e+11  -1.0 1.97e+03    -  9.90e-01 1.55e-02h  7\n",
      "  19  8.5147697e+00 9.06e+00 8.28e+09  -1.0 1.94e+03    -  9.97e-01 9.90e-01w  1\n",
      "iter    objective    inf_pr   inf_du lg(mu)  ||d||  lg(rg) alpha_du alpha_pr  ls\n",
      "  20  8.5184195e+00 3.46e+00 2.65e+11  -1.0 4.93e+01  -4.5 1.00e+00 9.90e-01w  1\n",
      "In iteration 20, 31 Slacks too small, adjusting variable bounds\n",
      "  21  8.5197820e+00 6.93e-01 2.65e+13  -1.0 3.89e+01  -4.1 1.00e+00 9.90e-01w  1\n",
      "  22  8.5669456e+00 2.07e-01 9.13e+11  -1.0 6.97e+01  -4.5 9.97e-01 7.73e-03h  7\n",
      "  23  8.5663160e+00 2.06e-01 1.16e+12  -1.0 1.93e+03    -  1.00e+00 3.90e-03h  9\n",
      "  24  8.5661600e+00 2.06e-01 1.41e+12  -1.0 1.92e+03    -  1.00e+00 9.76e-04h 11\n",
      "  25  8.5661551e+00 2.06e-01 1.66e+12  -1.0 1.92e+03    -  1.00e+00 3.05e-05h 16\n",
      "  26  8.5661527e+00 2.06e-01 1.91e+12  -1.0 1.92e+03    -  1.00e+00 1.53e-05h 17\n"
     ]
    },
    {
     "name": "stdout",
     "output_type": "stream",
     "text": [
      "  27  8.5161141e+00 8.90e+00 7.55e+08  -1.0 1.92e+03    -  1.00e+00 1.00e+00s 22\n",
      "  28  8.5246645e+00 3.04e+00 4.82e+00  -1.0 6.85e+01  -5.0 1.00e+00 1.00e+00s 22\n",
      "  29r 8.5246645e+00 3.04e+00 1.00e+03   0.2 0.00e+00    -  0.00e+00 0.00e+00R  1\n",
      "iter    objective    inf_pr   inf_du lg(mu)  ||d||  lg(rg) alpha_du alpha_pr  ls\n",
      "  30r 8.5248526e+00 1.97e+00 1.51e+03   0.2 5.83e+03    -  3.78e-02 1.91e-03f  1\n",
      "  31  8.5256852e+00 1.51e-01 3.37e+03  -1.0 5.86e+02    -  8.94e-01 9.90e-01h  1\n",
      "  32  8.5248885e+00 2.72e-03 1.16e+04  -1.0 6.83e+01    -  9.87e-01 9.90e-01h  1\n",
      "  33  8.5248855e+00 2.72e-03 3.48e+08  -1.0 1.40e+03    -  9.87e-01 4.83e-04h 12\n",
      "  34  8.5281613e+00 2.41e-02 5.90e+08  -1.0 8.23e+03    -  7.37e-01 2.57e-02f  6\n",
      "  35  8.5281946e+00 2.41e-02 8.48e+08  -1.0 2.40e+03    -  7.15e-01 4.83e-04h 12\n",
      "  36  8.5282295e+00 2.41e-02 1.21e+09  -1.0 2.52e+03    -  9.90e-01 4.83e-04h 12\n",
      "  37  8.5282858e+00 2.40e-02 1.43e+09  -1.0 2.17e+03    -  6.30e-01 9.67e-04h 11\n",
      "  38  8.5283214e+00 2.40e-02 1.79e+09  -1.0 2.53e+03    -  1.00e+00 4.83e-04h 12\n",
      "  39  8.5283813e+00 2.40e-02 2.01e+09  -1.0 2.24e+03    -  6.03e-01 9.67e-04h 11\n",
      "iter    objective    inf_pr   inf_du lg(mu)  ||d||  lg(rg) alpha_du alpha_pr  ls\n",
      "  40  8.5284173e+00 2.40e-02 2.37e+09  -1.0 2.54e+03    -  1.00e+00 4.83e-04h 12\n",
      "  41  8.5284788e+00 2.40e-02 2.59e+09  -1.0 2.27e+03    -  5.92e-01 9.67e-04h 11\n",
      "  42  8.5285146e+00 2.39e-02 2.95e+09  -1.0 2.52e+03    -  1.00e+00 4.83e-04h 12\n",
      "  43  8.6843444e+00 6.53e+01 1.20e+08  -1.0 2.29e+03    -  5.80e-01 9.90e-01w  1\n",
      "  44  8.9676088e+00 1.49e+02 2.46e+08  -1.0 1.89e+05  -5.5 6.32e-02 6.69e-02w  1\n",
      "  45  8.9417525e+00 1.74e+02 2.46e+08  -1.0 8.79e+06  -6.0 4.18e-05 3.76e-05w  1\n",
      "  46  8.5285774e+00 2.39e-02 3.16e+09  -1.0 2.26e+06    -  5.80e-01 9.67e-04h 10\n",
      "  47  8.5286129e+00 2.39e-02 3.52e+09  -1.0 2.51e+03    -  1.00e+00 4.83e-04h 12\n",
      "  48  8.5286449e+00 2.39e-02 3.73e+09  -1.0 2.31e+03    -  5.73e-01 4.83e-04h 12\n",
      "  49  8.5286804e+00 2.39e-02 4.09e+09  -1.0 2.50e+03    -  1.00e+00 4.83e-04h 12\n",
      "iter    objective    inf_pr   inf_du lg(mu)  ||d||  lg(rg) alpha_du alpha_pr  ls\n",
      "  50  8.5287126e+00 2.39e-02 4.29e+09  -1.0 2.32e+03    -  5.69e-01 4.83e-04h 12\n",
      "  51  8.5287480e+00 2.39e-02 4.66e+09  -1.0 2.49e+03    -  1.00e+00 4.83e-04h 12\n",
      "  52  8.5287805e+00 2.38e-02 4.86e+09  -1.0 2.33e+03    -  5.66e-01 4.83e-04h 12\n",
      "  53  8.5288158e+00 2.38e-02 5.22e+09  -1.0 2.49e+03    -  1.00e+00 4.83e-04h 12\n",
      "  54  8.5288487e+00 2.38e-02 5.43e+09  -1.0 2.34e+03    -  5.63e-01 4.83e-04h 12\n",
      "  55  8.5288840e+00 2.38e-02 5.79e+09  -1.0 2.48e+03    -  1.00e+00 4.83e-04h 12\n",
      "  56  8.6923017e+00 7.62e+01 9.95e+07  -1.0 2.34e+03    -  5.60e-01 9.90e-01w  1\n",
      "  57  8.5084958e+00 1.74e+02 1.04e+08  -1.0 1.89e+05  -5.5 7.82e-03 7.96e-03w  1\n",
      "  58  8.9101303e+00 1.73e+02 4.62e+08  -1.0 2.38e+05  -5.1 7.14e-03 1.69e-02w  1\n",
      "  59  8.5289170e+00 2.38e-02 5.99e+09  -1.0 1.90e+05  -5.6 5.60e-01 4.83e-04h 11\n",
      "iter    objective    inf_pr   inf_du lg(mu)  ||d||  lg(rg) alpha_du alpha_pr  ls\n",
      "  60  8.5289523e+00 2.38e-02 6.35e+09  -1.0 2.48e+03    -  1.00e+00 4.83e-04h 12\n",
      "  61  8.5289856e+00 2.38e-02 6.56e+09  -1.0 2.35e+03    -  5.58e-01 4.83e-04h 12\n",
      "  62  8.5290210e+00 2.38e-02 6.92e+09  -1.0 2.48e+03    -  1.00e+00 4.83e-04h 12\n",
      "  63  8.5290544e+00 2.37e-02 7.12e+09  -1.0 2.36e+03    -  5.55e-01 4.83e-04h 12\n",
      "  64  8.5290898e+00 2.37e-02 7.48e+09  -1.0 2.47e+03    -  1.00e+00 4.83e-04h 12\n",
      "  65  8.5291235e+00 2.37e-02 7.68e+09  -1.0 2.36e+03    -  5.53e-01 4.83e-04h 12\n",
      "  66  8.5291589e+00 2.37e-02 8.04e+09  -1.0 2.47e+03    -  1.00e+00 4.83e-04h 12\n",
      "  67  8.5291928e+00 2.37e-02 8.24e+09  -1.0 2.37e+03    -  5.51e-01 4.83e-04h 12\n",
      "  68  8.5292282e+00 2.37e-02 8.61e+09  -1.0 2.47e+03    -  1.00e+00 4.83e-04h 12\n",
      "  69  8.6963125e+00 8.37e+01 7.60e+07  -1.0 2.37e+03    -  5.49e-01 9.90e-01w  1\n",
      "iter    objective    inf_pr   inf_du lg(mu)  ||d||  lg(rg) alpha_du alpha_pr  ls\n",
      "  70  1.9541235e+01 1.90e+03 6.07e+08  -1.0 1.86e+05    -  2.69e-01 2.84e-01w  1\n",
      "  71  1.0206088e+02 1.45e+03 1.27e+10  -1.0 1.52e+05    -  6.20e-01 3.66e-01w  1\n",
      "  72  8.5292623e+00 2.37e-02 8.80e+09  -1.0 1.83e+05  -6.1 5.49e-01 4.83e-04h 11\n",
      "  73  8.5292978e+00 2.37e-02 9.17e+09  -1.0 2.47e+03    -  1.00e+00 4.83e-04h 12\n",
      "  74  8.5293320e+00 2.36e-02 9.36e+09  -1.0 2.38e+03    -  5.47e-01 4.83e-04h 12\n",
      "  75  8.5293677e+00 2.36e-02 9.73e+09  -1.0 2.47e+03    -  1.00e+00 4.83e-04h 12\n",
      "  76  8.5294020e+00 2.36e-02 9.92e+09  -1.0 2.38e+03    -  5.45e-01 4.83e-04h 12\n",
      "  77  8.5294378e+00 2.36e-02 1.03e+10  -1.0 2.47e+03    -  1.00e+00 4.83e-04h 12\n",
      "  78  8.5294723e+00 2.36e-02 1.05e+10  -1.0 2.39e+03    -  5.43e-01 4.83e-04h 12\n",
      "  79  8.5295081e+00 2.36e-02 1.08e+10  -1.0 2.47e+03    -  1.00e+00 4.83e-04h 12\n",
      "iter    objective    inf_pr   inf_du lg(mu)  ||d||  lg(rg) alpha_du alpha_pr  ls\n",
      "  80  8.5295429e+00 2.36e-02 1.10e+10  -1.0 2.39e+03    -  5.41e-01 4.83e-04h 12\n",
      "  81  8.5295788e+00 2.36e-02 1.14e+10  -1.0 2.48e+03    -  1.00e+00 4.83e-04h 12\n",
      "  82  8.7009317e+00 9.16e+01 5.29e+07  -1.0 2.40e+03    -  5.39e-01 9.90e-01w  1\n",
      "  83  4.9849979e+01 6.16e+01 1.22e+09  -1.0 2.72e+05    -  3.61e-01 3.27e-01w  1\n",
      "  84  1.4998051e+02 3.86e+01 2.14e+10  -1.0 1.41e+05    -  7.51e-01 3.74e-01w  1\n",
      "  85  8.5296137e+00 2.35e-02 1.16e+10  -1.0 1.89e+05    -  5.39e-01 4.83e-04h 11\n",
      "  86  8.5296497e+00 2.35e-02 1.20e+10  -1.0 2.48e+03    -  1.00e+00 4.83e-04h 12\n",
      "  87  8.5296848e+00 2.35e-02 1.22e+10  -1.0 2.40e+03    -  5.36e-01 4.83e-04h 12\n",
      "  88  8.5297209e+00 2.35e-02 1.25e+10  -1.0 2.48e+03    -  1.00e+00 4.83e-04h 12\n",
      "  89  8.5297562e+00 2.35e-02 1.27e+10  -1.0 2.41e+03    -  5.34e-01 4.83e-04h 12\n",
      "iter    objective    inf_pr   inf_du lg(mu)  ||d||  lg(rg) alpha_du alpha_pr  ls\n",
      "  90  8.5297925e+00 2.35e-02 1.31e+10  -1.0 2.48e+03    -  1.00e+00 4.83e-04h 12\n",
      "  91  8.5298279e+00 2.35e-02 1.33e+10  -1.0 2.41e+03    -  5.31e-01 4.83e-04h 12\n",
      "  92  8.5298643e+00 2.35e-02 1.36e+10  -1.0 2.48e+03    -  1.00e+00 4.83e-04h 12\n",
      "  93  8.5298999e+00 2.34e-02 1.38e+10  -1.0 2.42e+03    -  5.29e-01 4.83e-04h 12\n",
      "  94  8.5299364e+00 2.34e-02 1.42e+10  -1.0 2.49e+03    -  1.00e+00 4.83e-04h 12\n",
      "  95  8.7075262e+00 1.01e+02 3.06e+07  -1.0 2.43e+03    -  5.26e-01 9.90e-01w  1\n",
      "  96  3.7765982e+01 7.36e+01 2.60e+09  -1.0 2.03e+05    -  3.39e-01 2.69e-01w  1\n",
      "  97  4.6994337e+01 1.50e+02 3.15e+09  -1.0 2.74e+05  -6.5 5.41e-02 4.12e-02w  1\n",
      "  98  8.5299722e+00 2.34e-02 1.44e+10  -1.0 2.63e+05  -7.0 5.26e-01 4.83e-04h 11\n",
      "  99  8.5300088e+00 2.34e-02 1.47e+10  -1.0 2.49e+03    -  1.00e+00 4.83e-04h 12\n",
      "iter    objective    inf_pr   inf_du lg(mu)  ||d||  lg(rg) alpha_du alpha_pr  ls\n",
      " 100  8.5300449e+00 2.34e-02 1.49e+10  -1.0 2.43e+03    -  5.23e-01 4.83e-04h 12\n",
      " 101  8.5300816e+00 2.34e-02 1.53e+10  -1.0 2.49e+03    -  1.00e+00 4.83e-04h 12\n",
      " 102  8.5301178e+00 2.34e-02 1.55e+10  -1.0 2.44e+03    -  5.20e-01 4.83e-04h 12\n",
      " 103  8.5301547e+00 2.34e-02 1.58e+10  -1.0 2.50e+03    -  1.00e+00 4.83e-04h 12\n",
      " 104  8.5301911e+00 2.33e-02 1.60e+10  -1.0 2.45e+03    -  5.18e-01 4.83e-04h 12\n",
      " 105  8.5302281e+00 2.33e-02 1.64e+10  -1.0 2.50e+03    -  1.00e+00 4.83e-04h 12\n",
      " 106  8.5302647e+00 2.33e-02 1.66e+10  -1.0 2.45e+03    -  5.15e-01 4.83e-04h 12\n",
      " 107  8.5303018e+00 2.33e-02 1.69e+10  -1.0 2.51e+03    -  1.00e+00 4.83e-04h 12\n",
      " 108  8.7169591e+00 1.11e+02 9.26e+06  -1.0 2.46e+03    -  5.12e-01 9.90e-01w  1\n",
      " 109  5.0840375e+01 7.51e+01 3.22e+09  -1.0 2.26e+05    -  4.10e-01 3.23e-01w  1\n",
      "iter    objective    inf_pr   inf_du lg(mu)  ||d||  lg(rg) alpha_du alpha_pr  ls\n",
      " 110  3.0866137e+02 2.76e+03 7.58e+09  -1.0 3.48e+05    -  3.38e-01 5.05e-01w  1\n",
      " 111  8.5303386e+00 2.33e-02 1.71e+10  -1.0 4.11e+05    -  5.12e-01 4.83e-04h 11\n",
      " 112  8.5303759e+00 2.33e-02 1.75e+10  -1.0 2.51e+03    -  1.00e+00 4.83e-04h 12\n",
      " 113  8.5304129e+00 2.33e-02 1.77e+10  -1.0 2.47e+03    -  5.09e-01 4.83e-04h 12\n",
      " 114  8.5304503e+00 2.33e-02 1.80e+10  -1.0 2.52e+03    -  1.00e+00 4.83e-04h 12\n",
      " 115  8.5304874e+00 2.32e-02 1.82e+10  -1.0 2.47e+03    -  5.06e-01 4.83e-04h 12\n",
      " 116  8.5305250e+00 2.32e-02 1.86e+10  -1.0 2.52e+03    -  1.00e+00 4.83e-04h 12\n",
      " 117  8.5305623e+00 2.32e-02 1.87e+10  -1.0 2.48e+03    -  5.03e-01 4.83e-04h 12\n",
      " 118  8.5306377e+00 2.32e-02 1.91e+10  -1.0 2.53e+03    -  1.00e+00 9.67e-04h 11\n",
      " 119  8.5306754e+00 2.32e-02 1.93e+10  -1.0 2.49e+03    -  4.97e-01 4.83e-04h 12\n"
     ]
    },
    {
     "name": "stdout",
     "output_type": "stream",
     "text": [
      "iter    objective    inf_pr   inf_du lg(mu)  ||d||  lg(rg) alpha_du alpha_pr  ls\n",
      " 120  8.5307135e+00 2.32e-02 1.96e+10  -1.0 2.54e+03    -  1.00e+00 4.83e-04h 12\n",
      " 121  8.7330081e+00 1.25e+02 9.95e+06  -1.0 2.51e+03    -  4.93e-01 9.90e-01w  1\n",
      " 122  9.4851879e+01 8.73e+01 3.09e+09  -1.0 3.03e+05    -  3.83e-01 3.01e-01w  1\n",
      " 123  2.7765066e+02 2.33e+03 2.02e+09  -1.0 3.32e+05    -  1.66e-01 2.48e-01w  1\n",
      " 124  8.5307515e+00 2.31e-02 1.98e+10  -1.0 2.89e+06    -  4.93e-01 4.83e-04h 11\n",
      " 125  8.5307895e+00 2.31e-02 2.02e+10  -1.0 2.54e+03    -  1.00e+00 4.83e-04h 12\n",
      " 126  8.5314021e+00 2.24e-02 2.02e+10  -1.0 2.51e+03    -  4.93e-01 7.73e-03h  8\n",
      " 127  5.5935845e+00 1.54e+02 1.96e+10  -1.0 2.66e+03    -  9.48e-03 2.76e-02F  1\n",
      " 128  5.6589906e+00 1.52e+02 1.95e+10  -1.0 4.84e+05    -  1.26e-02 7.09e-03h  8\n",
      " 129  5.7402567e+00 1.52e+02 1.95e+10  -1.0 5.73e+05    -  1.70e-01 1.43e-03h  7\n",
      "iter    objective    inf_pr   inf_du lg(mu)  ||d||  lg(rg) alpha_du alpha_pr  ls\n",
      " 130  5.7505256e+00 1.52e+02 1.96e+10  -1.0 5.97e+05    -  2.25e-02 1.62e-04h 11\n",
      " 131  5.7561698e+00 1.52e+02 1.99e+10  -1.0 5.99e+05    -  1.00e+00 8.86e-05h 12\n",
      " 132  5.7579086e+00 1.52e+02 1.99e+10  -1.0 6.23e+05    -  2.06e-02 2.61e-05h 16\n",
      " 133  3.1169774e+03 1.01e+02 2.21e+09  -1.0 6.19e+05    -  1.07e-01 8.74e-01h  1\n",
      " 134  3.3758087e+03 1.67e+02 1.28e+09  -1.0 4.80e+05  -7.5 2.21e-03 1.76e-01h  1\n",
      " 135  3.3832283e+03 1.52e+02 1.23e+09  -1.0 3.46e+05  -6.2 9.12e-03 1.66e-02h  2\n",
      " 136  3.3928971e+03 1.14e+02 1.26e+09  -1.0 5.13e+05  -6.6 3.94e-02 2.42e-02h  1\n",
      " 137  3.3951293e+03 1.14e+02 1.82e+09  -1.0 4.10e+05  -7.1 1.44e-01 1.81e-03h  1\n",
      " 138  5.6793931e+03 6.32e+01 2.51e+09  -1.0 3.89e+05  -6.7 7.17e-04 7.50e-01h  1\n",
      " 139  5.6784152e+03 6.32e+01 2.49e+09  -1.0 6.71e+05  -4.5 1.85e-03 9.22e-04h  1\n",
      "iter    objective    inf_pr   inf_du lg(mu)  ||d||  lg(rg) alpha_du alpha_pr  ls\n",
      " 140  5.6661703e+03 6.29e+01 7.94e+08  -1.0 6.46e+05  -4.9 1.10e-01 3.63e-03h  1\n",
      " 141  5.6660204e+03 6.29e+01 7.57e+08  -1.0 5.44e+05  -4.5 2.41e-03 5.46e-05h  1\n",
      " 142  5.6608052e+03 6.27e+01 4.10e+08  -1.0 6.52e+05  -5.0 7.68e-02 3.39e-03h  1\n",
      " 143  5.6032373e+03 8.24e+01 5.65e+08  -1.0 5.84e+05  -5.5 3.22e-01 3.05e-01f  1\n",
      " 144  5.7085372e+03 7.64e+01 1.70e+10  -1.0 7.17e+05  -4.1 7.96e-01 7.64e-02h  1\n",
      " 145  8.7145762e+03 4.08e+01 1.78e+09  -1.0 6.86e+05  -4.6 3.65e-01 6.66e-01h  1\n",
      " 146  8.7475506e+03 4.03e+01 5.32e+10  -1.0 1.16e+06  -3.3 7.56e-01 1.32e-02h  1\n",
      " 147  1.0607733e+04 3.04e+01 6.57e+10  -1.0 1.19e+06  -2.9 6.56e-01 2.86e-01h  1\n",
      " 148  1.4637465e+04 1.75e+01 1.32e+10  -1.0 1.56e+06  -2.4 1.63e-01 4.54e-01h  1\n",
      " 149  1.4637400e+04 1.75e+01 1.35e+11  -1.0 2.55e+05  -1.1 6.81e-01 4.56e-05h  1\n",
      "iter    objective    inf_pr   inf_du lg(mu)  ||d||  lg(rg) alpha_du alpha_pr  ls\n",
      " 150  1.4623681e+04 1.74e+01 2.32e+11  -1.0 2.34e+05  -1.6 5.17e-01 5.37e-03f  1\n",
      " 151  1.4623570e+04 1.74e+01 3.73e+11  -1.0 2.50e+05  -1.2 7.42e-01 7.42e-05h  1\n",
      " 152  1.4627933e+04 1.73e+01 4.47e+11  -1.0 4.11e+05  -1.6 4.04e-01 4.44e-03h  1\n",
      " 153  2.0560396e+04 2.02e+01 3.22e+11  -1.0 4.14e+05  -2.1 7.09e-01 4.22e-01H  1\n",
      " 154  2.1408645e+04 1.86e+01 2.94e+11  -1.0 1.78e+06  -2.6 7.47e-02 8.12e-02h  3\n",
      " 155  2.3923777e+04 1.22e+01 1.94e+11  -1.0 8.57e+05  -2.2 5.25e-01 4.41e-01h  1\n",
      " 156  2.3166891e+04 1.21e+01 1.98e+11  -1.0 4.76e+07  -2.6 4.76e-03 5.56e-03f  1\n",
      " 157  2.3170801e+04 1.21e+01 7.85e+11  -1.0 1.55e+06  -2.2 9.41e-01 3.49e-04H  1\n",
      " 158  2.3649342e+04 1.17e+01 7.70e+11  -1.0 1.25e+06  -1.8 4.32e-02 2.92e-02h  1\n",
      " 159  2.4953533e+04 1.03e+01 7.17e+11  -1.0 2.24e+06  -2.3 1.84e-01 1.23e-01H  1\n",
      "iter    objective    inf_pr   inf_du lg(mu)  ||d||  lg(rg) alpha_du alpha_pr  ls\n",
      " 160  2.4954937e+04 1.03e+01 7.37e+11  -1.0 1.72e+06  -1.8 2.91e-02 2.79e-04h  1\n",
      " 161  2.4957067e+04 1.03e+01 7.44e+11  -1.0 1.10e+06  -1.4 9.91e-03 1.93e-04h  2\n",
      " 162  2.4958804e+04 1.03e+01 7.49e+11  -1.0 2.08e+06  -1.9 9.06e-03 8.17e-04h  2\n",
      " 163  2.5013112e+04 1.02e+01 7.69e+11  -1.0 1.13e+06  -1.5 3.93e-02 5.03e-03h  1\n",
      " 164  2.4996279e+04 1.02e+01 7.74e+11  -1.0 3.85e+06  -1.9 1.41e-02 3.42e-03f  2\n",
      " 165  2.5060087e+04 1.01e+01 1.48e+12  -1.0 1.18e+06  -1.5 1.00e+00 6.18e-03h  1\n",
      " 166  2.5102476e+04 1.01e+01 1.47e+12  -1.0 9.84e+05  -2.0 1.03e-04 4.98e-03h  6\n",
      " 167  2.5102519e+04 1.01e+01 1.49e+12  -1.0 1.23e+06  -1.6 2.97e-02 4.67e-06h 12\n",
      " 168  2.5102576e+04 1.01e+01 1.77e+12  -1.0 1.03e+06  -1.1 3.96e-01 5.01e-06h 12\n",
      " 169  2.5184477e+04 9.98e+00 1.75e+12  -1.0 1.29e+06  -1.6 8.11e-03 9.28e-03h  1\n",
      "iter    objective    inf_pr   inf_du lg(mu)  ||d||  lg(rg) alpha_du alpha_pr  ls\n",
      " 170  2.5701786e+04 9.54e+00 1.64e+12  -1.0 1.05e+06  -1.2 3.22e-04 4.46e-02h  2\n",
      " 171  2.6206069e+04 8.79e+00 1.46e+12  -1.0 1.13e+06  -1.7 1.10e-03 7.84e-02h  1\n",
      " 172  2.6562414e+04 8.14e+00 1.47e+12  -1.0 7.78e+05  -1.2 2.24e-01 7.42e-02h  1\n",
      " 173  2.6563296e+04 8.13e+00 1.79e+12  -1.0 4.17e+05  -1.7 3.74e-01 3.28e-04h  1\n",
      " 174  2.6728088e+04 7.73e+00 1.71e+12  -1.0 4.78e+05  -2.2 6.56e-02 4.96e-02h  1\n",
      " 175  2.6728290e+04 7.73e+00 2.19e+12  -1.0 1.13e+06  -2.7 5.52e-01 4.87e-05h  2\n",
      " 176  2.6728486e+04 7.73e+00 2.20e+12  -1.0 7.33e+05  -2.2 9.66e-03 7.48e-05h  4\n",
      " 177  2.6728535e+04 7.73e+00 2.21e+12  -1.0 4.54e+05  -1.8 1.11e-02 3.17e-05h  2\n",
      " 178  2.6728529e+04 7.73e+00 2.21e+12  -1.0 1.13e+06  -1.4 1.17e-03 2.11e-05h  7\n",
      " 179  2.6708780e+04 7.65e+00 2.24e+12  -1.0 2.31e+06  -1.9 6.97e-02 1.06e-02f  1\n",
      "iter    objective    inf_pr   inf_du lg(mu)  ||d||  lg(rg) alpha_du alpha_pr  ls\n",
      " 180  2.6685647e+04 1.79e+01 2.02e+12  -1.0 2.27e+06  -2.3 2.36e-02 7.80e-02f  1\n",
      " 181  2.6686283e+04 7.04e+00 2.07e+12  -1.0 2.26e+06  -1.9 6.28e-02 1.01e-03h  2\n",
      " 182  2.6687899e+04 7.04e+00 2.07e+12  -1.0 1.12e+06   0.3 6.95e-04 4.44e-04h  2\n",
      " 183  2.6699585e+04 6.99e+00 2.05e+12  -1.0 3.08e+05  -0.2 4.51e-03 7.65e-03h  1\n",
      " 184  2.6699577e+04 6.99e+00 2.07e+12  -1.0 1.80e+06  -0.6 1.73e-02 1.98e-06f  9\n",
      " 185  2.6698597e+04 6.99e+00 2.07e+12  -1.0 2.36e+06  -1.1 4.01e-04 1.64e-04f  4\n",
      " 186  2.6689754e+04 6.98e+00 2.07e+12  -1.0 2.52e+06  -1.6 1.06e-05 1.53e-03f  2\n",
      " 187r 2.6689754e+04 6.98e+00 1.00e+03   0.8 0.00e+00  -1.2 0.00e+00 4.92e-07R  2\n",
      " 188r 2.6689752e+04 6.73e+00 1.04e+03   0.8 5.41e+03    -  1.48e-04 1.23e-03f  1\n",
      " 189  2.6689645e+04 2.36e+01 1.11e+05  -1.0 4.89e+05    -  3.88e-03 8.53e-04f  1\n",
      "iter    objective    inf_pr   inf_du lg(mu)  ||d||  lg(rg) alpha_du alpha_pr  ls\n",
      " 190  2.6693010e+04 2.34e+01 1.07e+05  -1.0 4.14e+05    -  1.25e-03 7.62e-03f  5\n",
      " 191  2.6695124e+04 8.30e+00 1.24e+05  -1.0 2.96e+05    -  6.57e-04 1.01e-03f  7\n",
      " 192  2.6846657e+04 1.55e+01 1.36e+05  -1.0 2.93e+05    -  4.30e-03 5.76e-02H  1\n",
      " 193  2.7018215e+04 2.81e+02 1.17e+06  -1.0 2.61e+05    -  8.08e-02 8.08e-02s 19\n",
      " 194r 2.7018215e+04 2.81e+02 1.00e+03   2.4 0.00e+00    -  0.00e+00 0.00e+00R  1\n",
      " 195r 2.7018211e+04 1.03e+01 2.61e+11   2.4 1.34e+05    -  1.45e-03 2.06e-03f  1\n",
      "MA27BD returned iflag=-4 and requires more memory.\n",
      " Increase liw from 34795 to 69590 and la from 37195 to 76430 and factorize again.\n",
      "WARNING: Problem in step computation; switching to emergency mode.\n",
      " 196r 2.7018211e+04 1.03e+01 2.61e+11   2.4 1.34e+05  19.8 0.00e+00 0.00e+00R  1\n",
      "WARNING: Problem in step computation; switching to emergency mode.\n",
      "Restoration phase is called at point that is almost feasible,\n",
      "  with constraint violation 0.000000e+00. Abort.\n",
      "Restoration phase in the restoration phase failed.\n",
      "\n",
      "Number of Iterations....: 196\n",
      "\n",
      "                                   (scaled)                 (unscaled)\n",
      "Objective...............:   2.7018210790243549e+04    2.7018210790243549e+04\n",
      "Dual infeasibility......:   2.6085553812067682e+11    2.6085553812067682e+11\n",
      "Constraint violation....:   1.0336920858057915e+01    1.0336920858057915e+01\n",
      "Complementarity.........:   9.0868344821252537e+08    9.0868344821252537e+08\n",
      "Overall NLP error.......:   2.6085553812067682e+11    2.6085553812067682e+11\n",
      "\n",
      "\n",
      "Number of objective function evaluations             = 1429\n",
      "Number of objective gradient evaluations             = 196\n",
      "Number of equality constraint evaluations            = 1429\n",
      "Number of inequality constraint evaluations          = 0\n",
      "Number of equality constraint Jacobian evaluations   = 200\n",
      "Number of inequality constraint Jacobian evaluations = 0\n",
      "Number of Lagrangian Hessian evaluations             = 197\n",
      "Total CPU secs in IPOPT (w/o function evaluations)   =      0.464\n",
      "Total CPU secs in NLP function evaluations           =     11.075\n",
      "\n",
      "EXIT: Restoration Failed!\n"
     ]
    },
    {
     "ename": "ValueError",
     "evalue": "Cannot load a SolverResults object with bad status: error",
     "output_type": "error",
     "traceback": [
      "\u001b[0;31m---------------------------------------------------------------------------\u001b[0m",
      "\u001b[0;31mValueError\u001b[0m                                Traceback (most recent call last)",
      "\u001b[0;32m/var/folders/4w/g52120tx7_s7wtgcx42rk8100000gn/T/ipykernel_7550/1158227578.py\u001b[0m in \u001b[0;36m<module>\u001b[0;34m\u001b[0m\n\u001b[0;32m----> 1\u001b[0;31m parameters, obj_value, a = polynomial(data_full, configuration, 'R32', 'bmimpf6', \"x_R32\", \"x_bmimpf6\", \n\u001b[0m\u001b[1;32m      2\u001b[0m     \u001b[0minit_temp\u001b[0m \u001b[0;34m=\u001b[0m  \u001b[0;36m283.1\u001b[0m\u001b[0;34m,\u001b[0m \u001b[0minit_press\u001b[0m \u001b[0;34m=\u001b[0m   \u001b[0;36m399300\u001b[0m \u001b[0;34m,\u001b[0m \u001b[0minit_x_c1\u001b[0m \u001b[0;34m=\u001b[0m    \u001b[0;36m0.448\u001b[0m\u001b[0;34m,\u001b[0m \u001b[0minit_x_c2\u001b[0m \u001b[0;34m=\u001b[0m \u001b[0;36m0.552\u001b[0m\u001b[0;34m,\u001b[0m\u001b[0;34m\u001b[0m\u001b[0;34m\u001b[0m\u001b[0m\n\u001b[1;32m      3\u001b[0m     \u001b[0minit_kappa_2_1A\u001b[0m \u001b[0;34m=\u001b[0m \u001b[0;34m-\u001b[0m\u001b[0;36m0.001\u001b[0m\u001b[0;34m,\u001b[0m \u001b[0minit_kappa_1_2A\u001b[0m \u001b[0;34m=\u001b[0m \u001b[0;34m-\u001b[0m\u001b[0;36m0.001\u001b[0m\u001b[0;34m,\u001b[0m\u001b[0;34m\u001b[0m\u001b[0;34m\u001b[0m\u001b[0m\n\u001b[1;32m      4\u001b[0m     \u001b[0minit_kappa_2_1B\u001b[0m \u001b[0;34m=\u001b[0m \u001b[0;34m-\u001b[0m\u001b[0;36m0.001\u001b[0m\u001b[0;34m,\u001b[0m \u001b[0minit_kappa_1_2B\u001b[0m \u001b[0;34m=\u001b[0m \u001b[0;34m-\u001b[0m\u001b[0;36m0.001\u001b[0m\u001b[0;34m,\u001b[0m\u001b[0;34m\u001b[0m\u001b[0;34m\u001b[0m\u001b[0m\n\u001b[1;32m      5\u001b[0m     \u001b[0minit_kappa_2_1C\u001b[0m \u001b[0;34m=\u001b[0m \u001b[0;34m-\u001b[0m\u001b[0;36m0.001\u001b[0m\u001b[0;34m,\u001b[0m \u001b[0minit_kappa_1_2C\u001b[0m \u001b[0;34m=\u001b[0m \u001b[0;34m-\u001b[0m\u001b[0;36m0.001\u001b[0m\u001b[0;34m,\u001b[0m\u001b[0;34m\u001b[0m\u001b[0;34m\u001b[0m\u001b[0m\n",
      "\u001b[0;32m~/Dowling-Maginn-Lab/DowlingLab/extractive-distillation2/modsel/paramest/bmimPF6/R32/../../bip_fitting_functions_SRK.py\u001b[0m in \u001b[0;36mpolynomial\u001b[0;34m(file, configuration, comp_1, comp_2, x_comp_1, x_comp_2, init_temp, init_press, init_x_c1, init_x_c2, init_kappa_1_2A, init_kappa_2_1A, init_kappa_1_2B, init_kappa_2_1B, init_kappa_1_2C, init_kappa_2_1C, init_kappa_1_2D, init_kappa_2_1D, eps, scaling_fac, terms)\u001b[0m\n\u001b[1;32m    154\u001b[0m     \u001b[0mpest\u001b[0m \u001b[0;34m=\u001b[0m \u001b[0mparmest\u001b[0m\u001b[0;34m.\u001b[0m\u001b[0mEstimator\u001b[0m\u001b[0;34m(\u001b[0m\u001b[0mSRK_model\u001b[0m\u001b[0;34m,\u001b[0m \u001b[0mdata\u001b[0m\u001b[0;34m,\u001b[0m \u001b[0mvariable_name\u001b[0m\u001b[0;34m,\u001b[0m \u001b[0mSSE\u001b[0m\u001b[0;34m,\u001b[0m \u001b[0mtee\u001b[0m\u001b[0;34m=\u001b[0m\u001b[0;32mTrue\u001b[0m\u001b[0;34m)\u001b[0m\u001b[0;34m\u001b[0m\u001b[0;34m\u001b[0m\u001b[0m\n\u001b[1;32m    155\u001b[0m \u001b[0;34m\u001b[0m\u001b[0m\n\u001b[0;32m--> 156\u001b[0;31m     \u001b[0mobj_value\u001b[0m\u001b[0;34m,\u001b[0m \u001b[0mparameters\u001b[0m\u001b[0;34m,\u001b[0m \u001b[0ma\u001b[0m\u001b[0;34m=\u001b[0m \u001b[0mpest\u001b[0m\u001b[0;34m.\u001b[0m\u001b[0mtheta_est\u001b[0m\u001b[0;34m(\u001b[0m\u001b[0mcalc_cov\u001b[0m\u001b[0;34m=\u001b[0m\u001b[0;32mTrue\u001b[0m\u001b[0;34m)\u001b[0m\u001b[0;34m\u001b[0m\u001b[0;34m\u001b[0m\u001b[0m\n\u001b[0m\u001b[1;32m    157\u001b[0m \u001b[0;34m\u001b[0m\u001b[0m\n\u001b[1;32m    158\u001b[0m     \u001b[0mprint_params\u001b[0m\u001b[0;34m(\u001b[0m\u001b[0mobj_value\u001b[0m\u001b[0;34m,\u001b[0m \u001b[0mparameters\u001b[0m\u001b[0;34m)\u001b[0m\u001b[0;34m\u001b[0m\u001b[0;34m\u001b[0m\u001b[0m\n",
      "\u001b[0;32m~/opt/anaconda3/envs/idaes-pse-dev/lib/python3.9/site-packages/pyomo/contrib/parmest/parmest.py\u001b[0m in \u001b[0;36mtheta_est\u001b[0;34m(self, solver, return_values, bootlist, calc_cov)\u001b[0m\n\u001b[1;32m    672\u001b[0m         \u001b[0;32massert\u001b[0m \u001b[0misinstance\u001b[0m\u001b[0;34m(\u001b[0m\u001b[0mbootlist\u001b[0m\u001b[0;34m,\u001b[0m \u001b[0;34m(\u001b[0m\u001b[0mtype\u001b[0m\u001b[0;34m(\u001b[0m\u001b[0;32mNone\u001b[0m\u001b[0;34m)\u001b[0m\u001b[0;34m,\u001b[0m \u001b[0mlist\u001b[0m\u001b[0;34m)\u001b[0m\u001b[0;34m)\u001b[0m\u001b[0;34m\u001b[0m\u001b[0;34m\u001b[0m\u001b[0m\n\u001b[1;32m    673\u001b[0m \u001b[0;34m\u001b[0m\u001b[0m\n\u001b[0;32m--> 674\u001b[0;31m         return self._Q_opt(solver=solver, return_values=return_values,\n\u001b[0m\u001b[1;32m    675\u001b[0m                            bootlist=bootlist, calc_cov=calc_cov)\n\u001b[1;32m    676\u001b[0m \u001b[0;34m\u001b[0m\u001b[0m\n",
      "\u001b[0;32m~/opt/anaconda3/envs/idaes-pse-dev/lib/python3.9/site-packages/pyomo/contrib/parmest/parmest.py\u001b[0m in \u001b[0;36m_Q_opt\u001b[0;34m(self, ThetaVals, solver, return_values, bootlist, calc_cov)\u001b[0m\n\u001b[1;32m    457\u001b[0m                 \u001b[0;31m# calculate the reduced hessian\u001b[0m\u001b[0;34m\u001b[0m\u001b[0;34m\u001b[0m\u001b[0m\n\u001b[1;32m    458\u001b[0m                 \u001b[0msolve_result\u001b[0m\u001b[0;34m,\u001b[0m \u001b[0minv_red_hes\u001b[0m \u001b[0;34m=\u001b[0m\u001b[0;31m \u001b[0m\u001b[0;31m\\\u001b[0m\u001b[0;34m\u001b[0m\u001b[0;34m\u001b[0m\u001b[0m\n\u001b[0;32m--> 459\u001b[0;31m                     inverse_reduced_hessian.inv_reduced_hessian_barrier(\n\u001b[0m\u001b[1;32m    460\u001b[0m                         \u001b[0mself\u001b[0m\u001b[0;34m.\u001b[0m\u001b[0mef_instance\u001b[0m\u001b[0;34m,\u001b[0m\u001b[0;34m\u001b[0m\u001b[0;34m\u001b[0m\u001b[0m\n\u001b[1;32m    461\u001b[0m                         \u001b[0mindependent_variables\u001b[0m\u001b[0;34m=\u001b[0m \u001b[0mind_vars\u001b[0m\u001b[0;34m,\u001b[0m\u001b[0;34m\u001b[0m\u001b[0;34m\u001b[0m\u001b[0m\n",
      "\u001b[0;32m~/opt/anaconda3/envs/idaes-pse-dev/lib/python3.9/site-packages/pyomo/contrib/interior_point/inverse_reduced_hessian.py\u001b[0m in \u001b[0;36minv_reduced_hessian_barrier\u001b[0;34m(model, independent_variables, bound_tolerance, solver_options, tee)\u001b[0m\n\u001b[1;32m     80\u001b[0m \u001b[0;34m\u001b[0m\u001b[0m\n\u001b[1;32m     81\u001b[0m     \u001b[0;31m# solve the problem\u001b[0m\u001b[0;34m\u001b[0m\u001b[0;34m\u001b[0m\u001b[0m\n\u001b[0;32m---> 82\u001b[0;31m     \u001b[0mstatus\u001b[0m \u001b[0;34m=\u001b[0m \u001b[0msolver\u001b[0m\u001b[0;34m.\u001b[0m\u001b[0msolve\u001b[0m\u001b[0;34m(\u001b[0m\u001b[0mm\u001b[0m\u001b[0;34m,\u001b[0m \u001b[0mtee\u001b[0m\u001b[0;34m=\u001b[0m\u001b[0mtee\u001b[0m\u001b[0;34m)\u001b[0m\u001b[0;34m\u001b[0m\u001b[0;34m\u001b[0m\u001b[0m\n\u001b[0m\u001b[1;32m     83\u001b[0m     \u001b[0;32mif\u001b[0m \u001b[0;32mnot\u001b[0m \u001b[0mcheck_optimal_termination\u001b[0m\u001b[0;34m(\u001b[0m\u001b[0mstatus\u001b[0m\u001b[0;34m)\u001b[0m\u001b[0;34m:\u001b[0m\u001b[0;34m\u001b[0m\u001b[0;34m\u001b[0m\u001b[0m\n\u001b[1;32m     84\u001b[0m         \u001b[0;32mreturn\u001b[0m \u001b[0mstatus\u001b[0m\u001b[0;34m,\u001b[0m \u001b[0;32mNone\u001b[0m\u001b[0;34m\u001b[0m\u001b[0;34m\u001b[0m\u001b[0m\n",
      "\u001b[0;32m~/opt/anaconda3/envs/idaes-pse-dev/lib/python3.9/site-packages/pyomo/opt/base/solvers.py\u001b[0m in \u001b[0;36msolve\u001b[0;34m(self, *args, **kwds)\u001b[0m\n\u001b[1;32m    624\u001b[0m                 \u001b[0;32melse\u001b[0m\u001b[0;34m:\u001b[0m\u001b[0;34m\u001b[0m\u001b[0;34m\u001b[0m\u001b[0m\n\u001b[1;32m    625\u001b[0m                     \u001b[0;32mif\u001b[0m \u001b[0mself\u001b[0m\u001b[0;34m.\u001b[0m\u001b[0m_load_solutions\u001b[0m\u001b[0;34m:\u001b[0m\u001b[0;34m\u001b[0m\u001b[0;34m\u001b[0m\u001b[0m\n\u001b[0;32m--> 626\u001b[0;31m                         _model.solutions.load_from(\n\u001b[0m\u001b[1;32m    627\u001b[0m                             \u001b[0mresult\u001b[0m\u001b[0;34m,\u001b[0m\u001b[0;34m\u001b[0m\u001b[0;34m\u001b[0m\u001b[0m\n\u001b[1;32m    628\u001b[0m                             \u001b[0mselect\u001b[0m\u001b[0;34m=\u001b[0m\u001b[0mself\u001b[0m\u001b[0;34m.\u001b[0m\u001b[0m_select_index\u001b[0m\u001b[0;34m,\u001b[0m\u001b[0;34m\u001b[0m\u001b[0;34m\u001b[0m\u001b[0m\n",
      "\u001b[0;32m~/opt/anaconda3/envs/idaes-pse-dev/lib/python3.9/site-packages/pyomo/core/base/PyomoModel.py\u001b[0m in \u001b[0;36mload_from\u001b[0;34m(self, results, allow_consistent_values_for_fixed_vars, comparison_tolerance_for_fixed_vars, ignore_invalid_labels, id, delete_symbol_map, clear, default_variable_value, select, ignore_fixed_vars)\u001b[0m\n\u001b[1;32m    222\u001b[0m                     \"an 'aborted' status, but containing a solution\")\n\u001b[1;32m    223\u001b[0m             \u001b[0;32melse\u001b[0m\u001b[0;34m:\u001b[0m\u001b[0;34m\u001b[0m\u001b[0;34m\u001b[0m\u001b[0m\n\u001b[0;32m--> 224\u001b[0;31m                 raise ValueError(\"Cannot load a SolverResults object \"\n\u001b[0m\u001b[1;32m    225\u001b[0m                                  \u001b[0;34m\"with bad status: %s\"\u001b[0m\u001b[0;34m\u001b[0m\u001b[0;34m\u001b[0m\u001b[0m\n\u001b[1;32m    226\u001b[0m                                  % str(results.solver.status))\n",
      "\u001b[0;31mValueError\u001b[0m: Cannot load a SolverResults object with bad status: error"
     ]
    }
   ],
   "source": [
    "parameters, obj_value, a = polynomial(data_full, configuration, 'R32', 'bmimpf6', \"x_R32\", \"x_bmimpf6\", \n",
    "    init_temp =  283.1, init_press =   399300 , init_x_c1 =    0.448, init_x_c2 = 0.552,\n",
    "    init_kappa_2_1A = -0.001, init_kappa_1_2A = -0.001,\n",
    "    init_kappa_2_1B = -0.001, init_kappa_1_2B = -0.001,\n",
    "    init_kappa_2_1C = -0.001, init_kappa_1_2C = -0.001,\n",
    "    init_kappa_2_1D = -0.001, init_kappa_1_2D = -0.001,                                 \n",
    "    eps = 0.1, scaling_fac = 1e-7)"
   ]
  },
  {
   "cell_type": "code",
   "execution_count": null,
   "id": "basic-preserve",
   "metadata": {},
   "outputs": [],
   "source": [
    "print('Objective (SSE):',obj_value)"
   ]
  },
  {
   "cell_type": "code",
   "execution_count": null,
   "id": "governmental-nudist",
   "metadata": {},
   "outputs": [],
   "source": [
    "cov = np.array(a)\n",
    "print('Covariance Matrix:')\n",
    "print(cov)"
   ]
  },
  {
   "cell_type": "code",
   "execution_count": null,
   "id": "05063047",
   "metadata": {},
   "outputs": [],
   "source": [
    "np.savetxt('Data/Covariance/SRK_Cov_8parameter.csv',cov,delimiter=',')"
   ]
  },
  {
   "cell_type": "markdown",
   "id": "aging-authentication",
   "metadata": {},
   "source": [
    "## Apply Parameters + Plot"
   ]
  },
  {
   "cell_type": "code",
   "execution_count": null,
   "id": "endangered-gibraltar",
   "metadata": {},
   "outputs": [],
   "source": [
    "solver = SolverFactory('ipopt')\n",
    "solver.options = {'tol': 1e-6}"
   ]
  },
  {
   "cell_type": "code",
   "execution_count": null,
   "id": "royal-switch",
   "metadata": {},
   "outputs": [],
   "source": [
    "m = ConcreteModel()\n",
    "\n",
    "m.fs = FlowsheetBlock(default={\"dynamic\": False})\n",
    "\n",
    "m.fs.properties = GenericParameterBlock(default=configuration)\n",
    "\n",
    "m.fs.F101 = Flash(default={\"property_package\": m.fs.properties,\n",
    "                           \"has_heat_transfer\": True,\n",
    "                           \"has_pressure_change\": True})\n",
    "\n",
    "m.fs.F101.inlet.flow_mol.fix(1)\n",
    "m.fs.F101.inlet.temperature.fix(323.15)\n",
    "m.fs.F101.inlet.pressure.fix(399800)\n",
    "m.fs.F101.inlet.mole_frac_comp[0,'R32'].fix(0.5)\n",
    "\n",
    "m.fs.properties.SRK_kappa_A['R32','emimTf2N'] = parameters['fs.properties.SRK_kappa_A[R32,emimTf2N]']\n",
    "m.fs.properties.SRK_kappa_A['emimTf2N','R32'] = parameters['fs.properties.SRK_kappa_A[emimTf2N,R32]']\n",
    "m.fs.properties.SRK_kappa_B['R32','emimTf2N'] = parameters['fs.properties.SRK_kappa_B[R32,emimTf2N]']\n",
    "m.fs.properties.SRK_kappa_B['emimTf2N','R32'] = parameters['fs.properties.SRK_kappa_B[emimTf2N,R32]']\n",
    "m.fs.properties.SRK_kappa_C['R32','emimTf2N'] = parameters['fs.properties.SRK_kappa_C[R32,emimTf2N]']\n",
    "m.fs.properties.SRK_kappa_C['emimTf2N','R32'] = parameters['fs.properties.SRK_kappa_C[emimTf2N,R32]']\n",
    "m.fs.properties.SRK_kappa_D['R32','emimTf2N'] = parameters['fs.properties.SRK_kappa_D[R32,emimTf2N]']\n",
    "m.fs.properties.SRK_kappa_D['emimTf2N','R32'] = parameters['fs.properties.SRK_kappa_D[emimTf2N,R32]']\n",
    "\n",
    "# Initialize the flash unit\n",
    "m.fs.F101.initialize(outlvl=idaeslog.CRITICAL)\n",
    "\n",
    "# Fix the state variables on the state block\n",
    "# m.fs.F101.inlet.pressure.unfix()\n",
    "m.fs.F101.inlet.mole_frac_comp[0,'emimTf2N'].unfix()\n",
    "\n",
    "R32_x = np.zeros((len(data_full)))\n",
    "P = np.zeros((len(data_full)))\n",
    "\n",
    "m.fs.liq = Param(mutable=True,default=0.040)\n",
    "m.fs.liquid = Constraint(expr=m.fs.F101.liq_outlet.mole_frac_comp[0, \"emimTf2N\"] == m.fs.liq)\n",
    "\n",
    "for i in range(len(data_full)):\n",
    "    m.fs.liq = data_full[\"x_emimTf2N\"].iloc[i]\n",
    "    m.fs.F101.inlet.temperature.fix(float(data_full[\"temperature\"].iloc[i]))\n",
    "    m.fs.F101.inlet.pressure.fix(float(data_full[\"pressure\"].iloc[i]))\n",
    "    m.fs.F101.inlet.mole_frac_comp[0,'R32'].fix(float(data_full[\"x_R32\"].iloc[i])+0.1)\n",
    "    m.fs.F101.inlet.mole_frac_comp[0,'emimTf2N'].fix(float(1-(data_full[\"x_R32\"].iloc[i]+0.1)))\n",
    "    m.fs.F101.vap_outlet.temperature.fix(float(data_full[\"temperature\"].iloc[i]))\n",
    "    \n",
    "#     DOF_final = degrees_of_freedom(m)\n",
    "#     print(\"The final DOF is {0}\".format(DOF_final))\n",
    "    m.fs.F101.initialize(outlvl=idaeslog.CRITICAL)\n",
    "    \n",
    "    status = solver.solve(m, tee = False)\n",
    "\n",
    "#     m.fs.F101.report()\n",
    "    if (status.solver.status == SolverStatus.ok) and (status.solver.termination_condition == TerminationCondition.optimal):\n",
    "        print(data_full[\"x_emimTf2N\"].iloc[i])\n",
    "        R32_x[i] = value(m.fs.F101.liq_outlet.mole_frac_comp[0,'R32']) \n",
    "        P[i] = value(m.fs.F101.vap_outlet.pressure[0])\n",
    "\n",
    "    else:\n",
    "        print('Infeasible.')"
   ]
  },
  {
   "cell_type": "code",
   "execution_count": null,
   "id": "ca5eb3c4",
   "metadata": {},
   "outputs": [],
   "source": [
    "fitted_data = pd.DataFrame(data=[R32_x,P/1e6])\n",
    "fitted_data = fitted_data.T\n",
    "fitted_data.columns = ['R32_x','P, MPa']\n",
    "fitted_data.to_csv('Data/Fits/SRK_FittedData_8parameter.csv')"
   ]
  },
  {
   "cell_type": "code",
   "execution_count": null,
   "id": "religious-joining",
   "metadata": {},
   "outputs": [],
   "source": [
    "P1= np.zeros((len(P)))\n",
    "\n",
    "for i in range(len(P)):\n",
    "    P1[i] = P[i]/1e6\n",
    "\n",
    "fig, ax = plt.subplots()\n",
    "\n",
    "ax.plot(R32_x[0:7],P1[0:7],\"b*-\",label=\"T= 283 K\")  \n",
    "ax.plot(R32_x[7:15],P1[7:15],\"r*-\",label=\"T= 298 K\") \n",
    "ax.plot(R32_x[15:23],P1[15:23],\"c*-\",label=\"T= 323 K\") \n",
    "ax.plot(R32_x[23:31],P1[23:31],\"m-*\",label=\"T= 348 K\")\n",
    "ax.plot(data_full[\"x_R32\"],data_full[\"pressure\"]/1e6,\"*\",color='orange',label=\"data\")  \n",
    "\n",
    "# plt.title('Isotherm R32-[emim][TF2N]')\n",
    "ax.set_ylabel('Pressure, MPa',fontsize=24)\n",
    "ax.set_xlabel('HFC-32 Mole Fraction',fontsize=24)\n",
    "\n",
    "ax.set_xticks([0.0, 0.2, 0.4, 0.6, 0.8, 1.0])\n",
    "ax.set_xticks([0.1, 0.3, 0.5, 0.7, 0.9],minor=True)\n",
    "ax.set_yticks([0.0, 0.2, 0.4, 0.6, 0.8, 1.0, 1.2])\n",
    "ax.set_yticks([0.1, 0.3, 0.5, 0.7, 0.9, 1.1],minor=True)\n",
    "\n",
    "ax.tick_params(\"both\", direction=\"in\", which=\"both\", length=4, labelsize=20, pad=10)\n",
    "ax.tick_params(\"both\", which=\"major\", length=8)\n",
    "ax.xaxis.set_ticks_position(\"both\")\n",
    "ax.yaxis.set_ticks_position(\"both\")\n",
    "\n",
    "ax.legend(fontsize=12, handletextpad=0.00, loc=\"lower right\")#, bbox_to_anchor=(1, 0.5))\n",
    "# fig.savefig('R32-emimTF2N-quadTdep.pdf',bbox_inches='tight')\n",
    "plt.show()"
   ]
  },
  {
   "cell_type": "markdown",
   "id": "graduate-addiction",
   "metadata": {},
   "source": [
    "### Print Eigvals, Eigvectors\n",
    "\n",
    "An identifiability analysis can be performed with these as well as a FIM because the covariance matrix is the inverse of the FIM. That means that if there are any eigvals > 0, their eigvecs indicate directions of un-identifiability."
   ]
  },
  {
   "cell_type": "code",
   "execution_count": null,
   "id": "convinced-terrain",
   "metadata": {},
   "outputs": [],
   "source": [
    "eigvals, eigvecs = np.linalg.eig(cov)"
   ]
  },
  {
   "cell_type": "code",
   "execution_count": null,
   "id": "standing-startup",
   "metadata": {},
   "outputs": [],
   "source": [
    "eigvals"
   ]
  },
  {
   "cell_type": "code",
   "execution_count": null,
   "id": "minor-relay",
   "metadata": {},
   "outputs": [],
   "source": [
    "eigvecs"
   ]
  },
  {
   "cell_type": "code",
   "execution_count": null,
   "id": "170eace1",
   "metadata": {},
   "outputs": [],
   "source": [
    "np.savetxt('Data/EigenAnalysis/SRK_vals_8parameter.csv',eigvals,delimiter=',')\n",
    "np.savetxt('Data/EigenAnalysis/SRK_vecs_8parameter.csv',eigvecs,delimiter=',')"
   ]
  },
  {
   "cell_type": "markdown",
   "id": "national-effects",
   "metadata": {},
   "source": [
    "Conclusion: Fully identifiable because all eigvals ~ 0"
   ]
  },
  {
   "cell_type": "markdown",
   "id": "infrared-queensland",
   "metadata": {},
   "source": [
    "## FIM with Enthalpy of Vaporization (and Pressure)"
   ]
  },
  {
   "cell_type": "markdown",
   "id": "improving-peter",
   "metadata": {},
   "source": [
    "### Step 1: Perturb Parameters, Calculate Enthalpy of Vaporization\n",
    "\n",
    "1. Perturb Parameters: stepsize = 0.001\n",
    "\n",
    "2. Holding all other parameters constant, calculate new pressure predictions at different temps, compositions \n",
    "\n",
    "*T = (T1=298, T2=323)\n",
    "\n",
    "*x = (0.01,0.2,0.325,0.4)\n",
    "\n",
    "*Pguess comes from data_full\n",
    "\n",
    "3. Save P, Use Clausius Clapeyron to calculate enthvap"
   ]
  },
  {
   "cell_type": "code",
   "execution_count": null,
   "id": "still-uncertainty",
   "metadata": {},
   "outputs": [],
   "source": [
    "h = 0.001\n",
    "kR32_emimTF2N_A_plus = parameters['fs.properties.PR_kappa_A[R32,emimTf2N]'] + h\n",
    "kR32_emimTF2N_A_minus = parameters['fs.properties.PR_kappa_A[R32,emimTf2N]'] - h\n",
    "kemimTF2N_R32_A_plus = parameters['fs.properties.PR_kappa_A[emimTf2N,R32]'] + h\n",
    "kemimTF2N_R32_A_minus = parameters['fs.properties.PR_kappa_A[emimTf2N,R32]'] - h\n",
    "kR32_emimTF2N_B_plus = parameters['fs.properties.PR_kappa_B[R32,emimTf2N]'] + h\n",
    "kR32_emimTF2N_B_minus = parameters['fs.properties.PR_kappa_B[R32,emimTf2N]'] - h\n",
    "kemimTF2N_R32_B_plus = parameters['fs.properties.PR_kappa_B[emimTf2N,R32]'] + h\n",
    "kemimTF2N_R32_B_minus = parameters['fs.properties.PR_kappa_B[emimTf2N,R32]'] - h\n",
    "kR32_emimTF2N_C_plus = parameters['fs.properties.PR_kappa_C[R32,emimTf2N]'] + h\n",
    "kR32_emimTF2N_C_minus = parameters['fs.properties.PR_kappa_C[R32,emimTf2N]'] - h\n",
    "kemimTF2N_R32_C_plus = parameters['fs.properties.PR_kappa_C[emimTf2N,R32]'] + h\n",
    "kemimTF2N_R32_C_minus = parameters['fs.properties.PR_kappa_C[emimTf2N,R32]'] - h"
   ]
  },
  {
   "cell_type": "code",
   "execution_count": null,
   "id": "turkish-dominant",
   "metadata": {},
   "outputs": [],
   "source": [
    "data = np.array([[kR32_emimTF2N_A_plus,parameters['fs.properties.PR_kappa_A[emimTf2N,R32]'],parameters['fs.properties.PR_kappa_B[R32,emimTf2N]'],parameters['fs.properties.PR_kappa_B[emimTf2N,R32]'],parameters['fs.properties.PR_kappa_C[R32,emimTf2N]'],parameters['fs.properties.PR_kappa_C[emimTf2N,R32]']],\n",
    "                [kR32_emimTF2N_A_minus,parameters['fs.properties.PR_kappa_A[emimTf2N,R32]'],parameters['fs.properties.PR_kappa_B[R32,emimTf2N]'],parameters['fs.properties.PR_kappa_B[emimTf2N,R32]'],parameters['fs.properties.PR_kappa_C[R32,emimTf2N]'],parameters['fs.properties.PR_kappa_C[emimTf2N,R32]']],\n",
    "                 \n",
    "                [parameters['fs.properties.PR_kappa_A[R32,emimTf2N]'],kemimTF2N_R32_A_plus,parameters['fs.properties.PR_kappa_B[R32,emimTf2N]'],parameters['fs.properties.PR_kappa_B[emimTf2N,R32]'],parameters['fs.properties.PR_kappa_C[R32,emimTf2N]'],parameters['fs.properties.PR_kappa_C[emimTf2N,R32]']],\n",
    "               [parameters['fs.properties.PR_kappa_A[R32,emimTf2N]'],kemimTF2N_R32_A_minus,parameters['fs.properties.PR_kappa_B[R32,emimTf2N]'],parameters['fs.properties.PR_kappa_B[emimTf2N,R32]'],parameters['fs.properties.PR_kappa_C[R32,emimTf2N]'],parameters['fs.properties.PR_kappa_C[emimTf2N,R32]']],\n",
    "                 \n",
    "                [parameters['fs.properties.PR_kappa_A[R32,emimTf2N]'],parameters['fs.properties.PR_kappa_A[emimTf2N,R32]'],kR32_emimTF2N_B_plus,parameters['fs.properties.PR_kappa_B[emimTf2N,R32]'],parameters['fs.properties.PR_kappa_C[R32,emimTf2N]'],parameters['fs.properties.PR_kappa_C[emimTf2N,R32]']],\n",
    "                 [parameters['fs.properties.PR_kappa_A[R32,emimTf2N]'],parameters['fs.properties.PR_kappa_A[emimTf2N,R32]'],kR32_emimTF2N_B_minus,parameters['fs.properties.PR_kappa_B[emimTf2N,R32]'],parameters['fs.properties.PR_kappa_C[R32,emimTf2N]'],parameters['fs.properties.PR_kappa_C[emimTf2N,R32]']],\n",
    "                 \n",
    "                 [parameters['fs.properties.PR_kappa_A[R32,emimTf2N]'],parameters['fs.properties.PR_kappa_A[emimTf2N,R32]'],parameters['fs.properties.PR_kappa_B[R32,emimTf2N]'],kemimTF2N_R32_B_plus,parameters['fs.properties.PR_kappa_C[R32,emimTf2N]'],parameters['fs.properties.PR_kappa_C[emimTf2N,R32]']],\n",
    "                 [parameters['fs.properties.PR_kappa_A[R32,emimTf2N]'],parameters['fs.properties.PR_kappa_A[emimTf2N,R32]'],parameters['fs.properties.PR_kappa_B[R32,emimTf2N]'],kemimTF2N_R32_B_minus,parameters['fs.properties.PR_kappa_C[R32,emimTf2N]'],parameters['fs.properties.PR_kappa_C[emimTf2N,R32]']],\n",
    "                 \n",
    "                [parameters['fs.properties.PR_kappa_A[R32,emimTf2N]'],parameters['fs.properties.PR_kappa_A[emimTf2N,R32]'],parameters['fs.properties.PR_kappa_B[R32,emimTf2N]'],parameters['fs.properties.PR_kappa_B[emimTf2N,R32]'],kR32_emimTF2N_C_plus,parameters['fs.properties.PR_kappa_C[emimTf2N,R32]']],\n",
    "                [parameters['fs.properties.PR_kappa_A[R32,emimTf2N]'],parameters['fs.properties.PR_kappa_A[emimTf2N,R32]'],parameters['fs.properties.PR_kappa_B[R32,emimTf2N]'],parameters['fs.properties.PR_kappa_B[emimTf2N,R32]'],kR32_emimTF2N_C_minus,parameters['fs.properties.PR_kappa_C[emimTf2N,R32]']],\n",
    "                 \n",
    "               [parameters['fs.properties.PR_kappa_A[R32,emimTf2N]'],parameters['fs.properties.PR_kappa_A[emimTf2N,R32]'],parameters['fs.properties.PR_kappa_B[R32,emimTf2N]'],parameters['fs.properties.PR_kappa_B[emimTf2N,R32]'],parameters['fs.properties.PR_kappa_C[R32,emimTf2N]'],kemimTF2N_R32_C_plus],\n",
    "               [parameters['fs.properties.PR_kappa_A[R32,emimTf2N]'],parameters['fs.properties.PR_kappa_A[emimTf2N,R32]'],parameters['fs.properties.PR_kappa_B[R32,emimTf2N]'],parameters['fs.properties.PR_kappa_B[emimTf2N,R32]'],parameters['fs.properties.PR_kappa_C[R32,emimTf2N]'],kemimTF2N_R32_C_minus]])"
   ]
  },
  {
   "cell_type": "code",
   "execution_count": null,
   "id": "stable-addition",
   "metadata": {},
   "outputs": [],
   "source": [
    "perturbed_params = pd.DataFrame(data=data,columns=['kR32_emimTF2N_A','kemimTF2N_R32_A','kR32_emimTF2N_B','kemimTF2N_R32_B','kR32_emimTF2N_C','kemimTF2N_R32_C'])\n",
    "perturbed_params"
   ]
  },
  {
   "cell_type": "code",
   "execution_count": null,
   "id": "active-engine",
   "metadata": {},
   "outputs": [],
   "source": [
    "x = [0.01,0.2,0.325,0.4]\n",
    "temps_298 = [298.15,298.15,298.15,298.15]\n",
    "pguess_298 = [9600,250000,399400,549000]\n",
    "temps_323 = [323.15,323.15,323.15,323.15]\n",
    "pguess_323 = [20400,400100,700300,1000000]"
   ]
  },
  {
   "cell_type": "code",
   "execution_count": null,
   "id": "tested-romantic",
   "metadata": {},
   "outputs": [],
   "source": [
    "test_298 = pd.DataFrame()\n",
    "test_298['temperature'] = temps_298\n",
    "test_298['pressure'] = pguess_298\n",
    "test_298['x_R32'] = x\n",
    "test_298['x_emimTf2N'] = 1-test_298['x_R32']\n",
    "# test_298"
   ]
  },
  {
   "cell_type": "code",
   "execution_count": null,
   "id": "protected-genetics",
   "metadata": {},
   "outputs": [],
   "source": [
    "test_323 = pd.DataFrame()\n",
    "test_323['temperature'] = temps_323\n",
    "test_323['pressure'] = pguess_323\n",
    "test_323['x_R32'] = x\n",
    "test_323['x_emimTf2N'] = 1-test_323['x_R32']\n",
    "# test_323"
   ]
  },
  {
   "cell_type": "code",
   "execution_count": null,
   "id": "patent-player",
   "metadata": {},
   "outputs": [],
   "source": [
    "test_data = pd.concat([test_298,test_323],ignore_index=True)"
   ]
  },
  {
   "cell_type": "code",
   "execution_count": null,
   "id": "genuine-cleaner",
   "metadata": {},
   "outputs": [],
   "source": [
    "# Loop through test values\n",
    "\n",
    "R32_x = np.zeros((len(perturbed_params),len(test_data)))\n",
    "P = np.zeros((len(perturbed_params),len(test_data)))\n",
    "\n",
    "for j in range(len(perturbed_params)):\n",
    "\n",
    "    m = ConcreteModel()\n",
    "\n",
    "    m.fs = FlowsheetBlock(default={\"dynamic\": False})\n",
    "\n",
    "    m.fs.properties = GenericParameterBlock(default=configuration)\n",
    "\n",
    "    m.fs.F101 = Flash(default={\"property_package\": m.fs.properties,\n",
    "                               \"has_heat_transfer\": True,\n",
    "                               \"has_pressure_change\": True})\n",
    "\n",
    "    m.fs.F101.inlet.flow_mol.fix(1)\n",
    "    m.fs.F101.inlet.temperature.fix(323.15)\n",
    "    m.fs.F101.inlet.pressure.fix(399800)\n",
    "    m.fs.F101.inlet.mole_frac_comp[0,'R32'].fix(0.5)\n",
    "    \n",
    "    m.fs.properties.PR_kappa_A['R32','emimTf2N'] = perturbed_params['kR32_emimTF2N_A'][j]\n",
    "    m.fs.properties.PR_kappa_A['emimTf2N','R32'] = perturbed_params['kemimTF2N_R32_A'][j]\n",
    "    m.fs.properties.PR_kappa_B['R32','emimTf2N'] = perturbed_params['kR32_emimTF2N_B'][j]\n",
    "    m.fs.properties.PR_kappa_B['emimTf2N','R32'] = perturbed_params['kemimTF2N_R32_B'][j]\n",
    "    m.fs.properties.PR_kappa_C['R32','emimTf2N'] = perturbed_params['kR32_emimTF2N_C'][j]\n",
    "    m.fs.properties.PR_kappa_C['emimTf2N','R32'] = perturbed_params['kemimTF2N_R32_C'][j]\n",
    "    \n",
    "\n",
    "    # Initialize the flash unit\n",
    "    m.fs.F101.initialize(outlvl=idaeslog.CRITICAL)\n",
    "\n",
    "    # Fix the state variables on the state block\n",
    "    # m.fs.F101.inlet.pressure.unfix()\n",
    "    m.fs.F101.inlet.mole_frac_comp[0,'emimTf2N'].unfix()\n",
    "\n",
    "    m.fs.liq = Param(mutable=True,default=0.040)\n",
    "    m.fs.liquid = Constraint(expr=m.fs.F101.liq_outlet.mole_frac_comp[0, \"emimTf2N\"] == m.fs.liq)\n",
    "\n",
    "    for i in range(len(test_data)):\n",
    "        m.fs.liq = test_data[\"x_emimTf2N\"].iloc[i]\n",
    "        m.fs.F101.inlet.temperature.fix(float(test_data[\"temperature\"].iloc[i]))\n",
    "        m.fs.F101.inlet.pressure.fix(float(test_data[\"pressure\"].iloc[i]))\n",
    "        m.fs.F101.inlet.mole_frac_comp[0,'R32'].fix(float(test_data[\"x_R32\"].iloc[i])+0.1)\n",
    "        m.fs.F101.inlet.mole_frac_comp[0,'emimTf2N'].fix(float(1-(test_data[\"x_R32\"].iloc[i]+0.1)))\n",
    "        m.fs.F101.vap_outlet.temperature.fix(float(test_data[\"temperature\"].iloc[i]))\n",
    "\n",
    "    #     DOF_final = degrees_of_freedom(m)\n",
    "    #     print(\"The final DOF is {0}\".format(DOF_final))\n",
    "        m.fs.F101.initialize(outlvl=idaeslog.CRITICAL)\n",
    "\n",
    "        status = solver.solve(m, tee = False)\n",
    "\n",
    "    #     m.fs.F101.report()\n",
    "        if (status.solver.status == SolverStatus.ok) and (status.solver.termination_condition == TerminationCondition.optimal):\n",
    "            print(test_data[\"x_emimTf2N\"].iloc[i])\n",
    "            R32_x[j,i] = value(m.fs.F101.liq_outlet.mole_frac_comp[0,'R32'])\n",
    "            P[j,i] = value(m.fs.F101.vap_outlet.pressure[0])\n",
    "\n",
    "        else:\n",
    "            print('Infeasible.')"
   ]
  },
  {
   "cell_type": "code",
   "execution_count": null,
   "id": "collective-diamond",
   "metadata": {},
   "outputs": [],
   "source": [
    "test_data['P_kR32_emimTF2N_A_plus'] = P[0]\n",
    "test_data['P_kR32_emimTF2N_A_minus'] = P[1]\n",
    "test_data['P_kemimTF2N_R32_A_plus'] = P[2]\n",
    "test_data['P_kemimTF2N_R32_A_minus'] = P[3]\n",
    "test_data['P_kR32_emimTF2N_B_plus'] = P[4]\n",
    "test_data['P_kR32_emimTF2N_B_minus'] = P[5]\n",
    "test_data['P_kemimTF2N_R32_B_plus'] = P[6]\n",
    "test_data['P_kemimTF2N_R32_B_minus'] = P[7]\n",
    "test_data['P_kR32_emimTF2N_C_plus'] = P[8]\n",
    "test_data['P_kR32_emimTF2N_C_minus'] = P[9]\n",
    "test_data['P_kemimTF2N_R32_C_plus'] = P[10]\n",
    "test_data['P_kemimTF2N_R32_C_minus'] = P[11]"
   ]
  },
  {
   "cell_type": "code",
   "execution_count": null,
   "id": "engaged-cleaners",
   "metadata": {},
   "outputs": [],
   "source": [
    "grad_P = test_data"
   ]
  },
  {
   "cell_type": "code",
   "execution_count": null,
   "id": "painful-luxembourg",
   "metadata": {},
   "outputs": [],
   "source": [
    "test_data_298 = test_data[test_data['temperature']==298.15]\n",
    "test_data_323 = test_data[test_data['temperature']==323.15].reset_index()"
   ]
  },
  {
   "cell_type": "code",
   "execution_count": null,
   "id": "bronze-bullet",
   "metadata": {},
   "outputs": [],
   "source": [
    "R = 8.314 #J/mol-K\n",
    "hvap_calc_kR32_emimTF2N_A_plus = []\n",
    "for i in range(len(x)):\n",
    "    T2 = test_data_323['temperature'][i]\n",
    "    T1 = test_data_298['temperature'][i]\n",
    "    P2 = test_data_323['P_kR32_emimTF2N_A_plus'][i]\n",
    "    P1 = test_data_298['P_kR32_emimTF2N_A_plus'][i]\n",
    "    hvap_calc_kR32_emimTF2N_A_plus.append(np.log(P2/P1)*R/(1/T2-1/T1))\n",
    "\n",
    "hvap_calc_kR32_emimTF2N_A_minus = []\n",
    "for i in range(len(x)):\n",
    "    T2 = test_data_323['temperature'][i]\n",
    "    T1 = test_data_298['temperature'][i]\n",
    "    P2 = test_data_323['P_kR32_emimTF2N_A_minus'][i]\n",
    "    P1 = test_data_298['P_kR32_emimTF2N_A_minus'][i]\n",
    "    hvap_calc_kR32_emimTF2N_A_minus.append(np.log(P2/P1)*R/(1/T2-1/T1))\n",
    "    \n",
    "hvap_calc_kemimTF2N_R32_A_plus = []\n",
    "for i in range(len(x)):\n",
    "    T2 = test_data_323['temperature'][i]\n",
    "    T1 = test_data_298['temperature'][i]\n",
    "    P2 = test_data_323['P_kemimTF2N_R32_A_plus'][i]\n",
    "    P1 = test_data_298['P_kemimTF2N_R32_A_plus'][i]\n",
    "    hvap_calc_kemimTF2N_R32_A_plus.append(np.log(P2/P1)*R/(1/T2-1/T1))\n",
    "    \n",
    "hvap_calc_kemimTF2N_R32_A_minus = []\n",
    "for i in range(len(x)):\n",
    "    T2 = test_data_323['temperature'][i]\n",
    "    T1 = test_data_298['temperature'][i]\n",
    "    P2 = test_data_323['P_kemimTF2N_R32_A_minus'][i]\n",
    "    P1 = test_data_298['P_kemimTF2N_R32_A_minus'][i]\n",
    "    hvap_calc_kemimTF2N_R32_A_minus.append(np.log(P2/P1)*R/(1/T2-1/T1))\n",
    "    \n",
    "hvap_calc_kR32_emimTF2N_B_plus = []\n",
    "for i in range(len(x)):\n",
    "    T2 = test_data_323['temperature'][i]\n",
    "    T1 = test_data_298['temperature'][i]\n",
    "    P2 = test_data_323['P_kR32_emimTF2N_B_plus'][i]\n",
    "    P1 = test_data_298['P_kR32_emimTF2N_B_plus'][i]\n",
    "    hvap_calc_kR32_emimTF2N_B_plus.append(np.log(P2/P1)*R/(1/T2-1/T1))\n",
    "\n",
    "hvap_calc_kR32_emimTF2N_B_minus = []\n",
    "for i in range(len(x)):\n",
    "    T2 = test_data_323['temperature'][i]\n",
    "    T1 = test_data_298['temperature'][i]\n",
    "    P2 = test_data_323['P_kR32_emimTF2N_B_minus'][i]\n",
    "    P1 = test_data_298['P_kR32_emimTF2N_B_minus'][i]\n",
    "    hvap_calc_kR32_emimTF2N_B_minus.append(np.log(P2/P1)*R/(1/T2-1/T1))\n",
    "    \n",
    "hvap_calc_kemimTF2N_R32_B_plus = []\n",
    "for i in range(len(x)):\n",
    "    T2 = test_data_323['temperature'][i]\n",
    "    T1 = test_data_298['temperature'][i]\n",
    "    P2 = test_data_323['P_kemimTF2N_R32_B_plus'][i]\n",
    "    P1 = test_data_298['P_kemimTF2N_R32_B_plus'][i]\n",
    "    hvap_calc_kemimTF2N_R32_B_plus.append(np.log(P2/P1)*R/(1/T2-1/T1))\n",
    "    \n",
    "hvap_calc_kemimTF2N_R32_B_minus = []\n",
    "for i in range(len(x)):\n",
    "    T2 = test_data_323['temperature'][i]\n",
    "    T1 = test_data_298['temperature'][i]\n",
    "    P2 = test_data_323['P_kemimTF2N_R32_B_minus'][i]\n",
    "    P1 = test_data_298['P_kemimTF2N_R32_B_minus'][i]\n",
    "    hvap_calc_kemimTF2N_R32_B_minus.append(np.log(P2/P1)*R/(1/T2-1/T1))\n",
    "    \n",
    "hvap_calc_kR32_emimTF2N_C_plus = []\n",
    "for i in range(len(x)):\n",
    "    T2 = test_data_323['temperature'][i]\n",
    "    T1 = test_data_298['temperature'][i]\n",
    "    P2 = test_data_323['P_kR32_emimTF2N_C_plus'][i]\n",
    "    P1 = test_data_298['P_kR32_emimTF2N_C_plus'][i]\n",
    "    hvap_calc_kR32_emimTF2N_C_plus.append(np.log(P2/P1)*R/(1/T2-1/T1))\n",
    "\n",
    "hvap_calc_kR32_emimTF2N_C_minus = []\n",
    "for i in range(len(x)):\n",
    "    T2 = test_data_323['temperature'][i]\n",
    "    T1 = test_data_298['temperature'][i]\n",
    "    P2 = test_data_323['P_kR32_emimTF2N_C_minus'][i]\n",
    "    P1 = test_data_298['P_kR32_emimTF2N_C_minus'][i]\n",
    "    hvap_calc_kR32_emimTF2N_C_minus.append(np.log(P2/P1)*R/(1/T2-1/T1))\n",
    "    \n",
    "hvap_calc_kemimTF2N_R32_C_plus = []\n",
    "for i in range(len(x)):\n",
    "    T2 = test_data_323['temperature'][i]\n",
    "    T1 = test_data_298['temperature'][i]\n",
    "    P2 = test_data_323['P_kemimTF2N_R32_C_plus'][i]\n",
    "    P1 = test_data_298['P_kemimTF2N_R32_C_plus'][i]\n",
    "    hvap_calc_kemimTF2N_R32_C_plus.append(np.log(P2/P1)*R/(1/T2-1/T1))\n",
    "    \n",
    "hvap_calc_kemimTF2N_R32_C_minus = []\n",
    "for i in range(len(x)):\n",
    "    T2 = test_data_323['temperature'][i]\n",
    "    T1 = test_data_298['temperature'][i]\n",
    "    P2 = test_data_323['P_kemimTF2N_R32_C_minus'][i]\n",
    "    P1 = test_data_298['P_kemimTF2N_R32_C_minus'][i]\n",
    "    hvap_calc_kemimTF2N_R32_C_minus.append(np.log(P2/P1)*R/(1/T2-1/T1))"
   ]
  },
  {
   "cell_type": "code",
   "execution_count": null,
   "id": "controversial-identity",
   "metadata": {},
   "outputs": [],
   "source": [
    "hvap = pd.DataFrame()\n",
    "hvap['x_R32'] = x\n",
    "hvap['hvap_kR32_emimTF2N_A_plus'] = hvap_calc_kR32_emimTF2N_A_plus\n",
    "hvap['hvap_kR32_emimTF2N_A_minus'] = hvap_calc_kR32_emimTF2N_A_minus\n",
    "hvap['hvap_kemimTF2N_R32_A_plus'] = hvap_calc_kemimTF2N_R32_A_plus\n",
    "hvap['hvap_kemimTF2N_R32_A_minus'] = hvap_calc_kemimTF2N_R32_A_minus\n",
    "hvap['hvap_kR32_emimTF2N_B_plus'] = hvap_calc_kR32_emimTF2N_B_plus\n",
    "hvap['hvap_kR32_emimTF2N_B_minus'] = hvap_calc_kR32_emimTF2N_B_minus\n",
    "hvap['hvap_kemimTF2N_R32_B_plus'] = hvap_calc_kemimTF2N_R32_B_plus\n",
    "hvap['hvap_kemimTF2N_R32_B_minus'] = hvap_calc_kemimTF2N_R32_B_minus\n",
    "hvap['hvap_kR32_emimTF2N_C_plus'] = hvap_calc_kR32_emimTF2N_C_plus\n",
    "hvap['hvap_kR32_emimTF2N_C_minus'] = hvap_calc_kR32_emimTF2N_C_minus\n",
    "hvap['hvap_kemimTF2N_R32_C_plus'] = hvap_calc_kemimTF2N_R32_C_plus\n",
    "hvap['hvap_kemimTF2N_R32_C_minus'] = hvap_calc_kemimTF2N_R32_C_minus"
   ]
  },
  {
   "cell_type": "code",
   "execution_count": null,
   "id": "prescription-norwegian",
   "metadata": {},
   "outputs": [],
   "source": [
    "hvap"
   ]
  },
  {
   "cell_type": "markdown",
   "id": "united-editor",
   "metadata": {},
   "source": [
    "### Step 2: Calculate Gradient wrt each param at each concentration"
   ]
  },
  {
   "cell_type": "code",
   "execution_count": null,
   "id": "transparent-procedure",
   "metadata": {},
   "outputs": [],
   "source": [
    "grad_kR32_emimTF2N_A = (hvap['hvap_kR32_emimTF2N_A_plus'] - hvap['hvap_kR32_emimTF2N_A_minus'])/(2*h)\n",
    "grad_kemimTF2N_R32_A = (hvap['hvap_kemimTF2N_R32_A_plus'] - hvap['hvap_kemimTF2N_R32_A_minus'])/(2*h)\n",
    "grad_kR32_emimTF2N_B = (hvap['hvap_kR32_emimTF2N_B_plus'] - hvap['hvap_kR32_emimTF2N_B_minus'])/(2*h)\n",
    "grad_kemimTF2N_R32_B = (hvap['hvap_kemimTF2N_R32_B_plus'] - hvap['hvap_kemimTF2N_R32_B_minus'])/(2*h)\n",
    "grad_kR32_emimTF2N_C = (hvap['hvap_kR32_emimTF2N_C_plus'] - hvap['hvap_kR32_emimTF2N_C_minus'])/(2*h)\n",
    "grad_kemimTF2N_R32_C = (hvap['hvap_kemimTF2N_R32_C_plus'] - hvap['hvap_kemimTF2N_R32_C_minus'])/(2*h)"
   ]
  },
  {
   "cell_type": "code",
   "execution_count": null,
   "id": "veterinary-landing",
   "metadata": {},
   "outputs": [],
   "source": [
    "grad_P['kR32_emimTF2N_A'] = (grad_P['P_kR32_emimTF2N_A_plus'] - grad_P['P_kR32_emimTF2N_A_minus'])/(2*h)\n",
    "grad_P['kemimTF2N_R32_A'] = (grad_P['P_kemimTF2N_R32_A_plus'] - grad_P['P_kemimTF2N_R32_A_minus'])/(2*h)\n",
    "grad_P['kR32_emimTF2N_B'] = (grad_P['P_kR32_emimTF2N_B_plus'] - grad_P['P_kR32_emimTF2N_B_minus'])/(2*h)\n",
    "grad_P['kemimTF2N_R32_B'] = (grad_P['P_kemimTF2N_R32_B_plus'] - grad_P['P_kemimTF2N_R32_B_minus'])/(2*h)\n",
    "grad_P['kR32_emimTF2N_C'] = (grad_P['P_kR32_emimTF2N_C_plus'] - grad_P['P_kR32_emimTF2N_C_minus'])/(2*h)\n",
    "grad_P['kemimTF2N_R32_C'] = (grad_P['P_kemimTF2N_R32_C_plus'] - grad_P['P_kemimTF2N_R32_C_minus'])/(2*h)"
   ]
  },
  {
   "cell_type": "markdown",
   "id": "humanitarian-nevada",
   "metadata": {},
   "source": [
    "### Step 3: Build Jacobian and FIM\n",
    "\n",
    "Rows: enthvap @ 4 concentrations; or pressure @ 4 concentrations, 2 temperatures\n",
    "\n",
    "Columns: parameters (6)"
   ]
  },
  {
   "cell_type": "code",
   "execution_count": null,
   "id": "interested-boston",
   "metadata": {},
   "outputs": [],
   "source": [
    "J_df = pd.DataFrame()\n",
    "J_df['kR32_emimTF2N_A'] = grad_kR32_emimTF2N_A\n",
    "J_df['kemimTF2N_R32_A'] = grad_kemimTF2N_R32_A\n",
    "J_df['kR32_emimTF2N_B'] = grad_kR32_emimTF2N_B\n",
    "J_df['kemimTF2N_R32_B'] = grad_kemimTF2N_R32_B\n",
    "J_df['kR32_emimTF2N_C'] = grad_kR32_emimTF2N_C\n",
    "J_df['kemimTF2N_R32_C'] = grad_kemimTF2N_R32_C"
   ]
  },
  {
   "cell_type": "code",
   "execution_count": null,
   "id": "developing-environment",
   "metadata": {},
   "outputs": [],
   "source": [
    "J = J_df.to_numpy()\n",
    "Jtrans = np.transpose(J)"
   ]
  },
  {
   "cell_type": "code",
   "execution_count": null,
   "id": "closed-ticket",
   "metadata": {},
   "outputs": [],
   "source": [
    "FIM = np.dot(Jtrans,J)"
   ]
  },
  {
   "cell_type": "code",
   "execution_count": null,
   "id": "regular-angle",
   "metadata": {},
   "outputs": [],
   "source": [
    "FIM"
   ]
  },
  {
   "cell_type": "code",
   "execution_count": null,
   "id": "elegant-expense",
   "metadata": {},
   "outputs": [],
   "source": [
    "J_df_P = pd.DataFrame()\n",
    "J_df_P['kR32_emimTF2N_A'] = grad_P['kR32_emimTF2N_A']\n",
    "J_df_P['kemimTF2N_R32_A'] = grad_P['kemimTF2N_R32_A']\n",
    "J_df_P['kR32_emimTF2N_B'] = grad_P['kR32_emimTF2N_B']\n",
    "J_df_P['kemimTF2N_R32_B'] = grad_P['kemimTF2N_R32_B']\n",
    "J_df_P['kR32_emimTF2N_C'] = grad_P['kR32_emimTF2N_C']\n",
    "J_df_P['kemimTF2N_R32_C'] = grad_P['kemimTF2N_R32_C']"
   ]
  },
  {
   "cell_type": "code",
   "execution_count": null,
   "id": "approximate-farming",
   "metadata": {},
   "outputs": [],
   "source": [
    "J_P = J_df_P.to_numpy()\n",
    "J_Ptrans = np.transpose(J_P)"
   ]
  },
  {
   "cell_type": "code",
   "execution_count": null,
   "id": "continuous-validity",
   "metadata": {},
   "outputs": [],
   "source": [
    "FIM_P = np.dot(J_Ptrans,J_P)"
   ]
  },
  {
   "cell_type": "code",
   "execution_count": null,
   "id": "growing-awareness",
   "metadata": {},
   "outputs": [],
   "source": [
    "FIM_P"
   ]
  },
  {
   "cell_type": "markdown",
   "id": "minus-asbestos",
   "metadata": {},
   "source": [
    "### Step 4: Find Eigenvalues, Eigenvectors"
   ]
  },
  {
   "cell_type": "markdown",
   "id": "utility-punch",
   "metadata": {},
   "source": [
    "**Enthalpy of Vaporization**"
   ]
  },
  {
   "cell_type": "code",
   "execution_count": null,
   "id": "guided-hunter",
   "metadata": {},
   "outputs": [],
   "source": [
    "eigvals, eigvecs = np.linalg.eig(FIM)"
   ]
  },
  {
   "cell_type": "code",
   "execution_count": null,
   "id": "moral-sight",
   "metadata": {},
   "outputs": [],
   "source": [
    "eigvals"
   ]
  },
  {
   "cell_type": "code",
   "execution_count": null,
   "id": "local-liberal",
   "metadata": {},
   "outputs": [],
   "source": [
    "eigvecs"
   ]
  },
  {
   "cell_type": "markdown",
   "id": "color-threshold",
   "metadata": {},
   "source": [
    "There are 2 eigvals ~0, indicating 2 unidentifiable directions. The corresponding eigenvector terms are mostly all of the same order of magnitude, meaning that it is not possible to identify the unidentifiable parameters."
   ]
  },
  {
   "cell_type": "markdown",
   "id": "amino-accordance",
   "metadata": {},
   "source": [
    "**Pressure**"
   ]
  },
  {
   "cell_type": "code",
   "execution_count": null,
   "id": "acceptable-episode",
   "metadata": {},
   "outputs": [],
   "source": [
    "eigvals_P, eigvecs_P = np.linalg.eig(FIM_P)"
   ]
  },
  {
   "cell_type": "code",
   "execution_count": null,
   "id": "thousand-scoop",
   "metadata": {},
   "outputs": [],
   "source": [
    "eigvals_P"
   ]
  },
  {
   "cell_type": "code",
   "execution_count": null,
   "id": "european-structure",
   "metadata": {},
   "outputs": [],
   "source": [
    "eigvecs_P"
   ]
  },
  {
   "cell_type": "markdown",
   "id": "younger-watershed",
   "metadata": {},
   "source": [
    "There are 2 eigvals ~ 0 (or unreal??), indicating 2 directions of unidentifiability. This is different than what was shown with the covariance predictions above."
   ]
  },
  {
   "cell_type": "markdown",
   "id": "injured-karen",
   "metadata": {},
   "source": [
    "## AIC Value\n",
    "\n",
    "See https://docs.google.com/document/d/1um0r2XK4ldjjy2colOqaZsEM3wIzGD6l_3B8gnpnI2I/edit# for equations"
   ]
  },
  {
   "cell_type": "markdown",
   "id": "round-bryan",
   "metadata": {},
   "source": [
    "### Calculate MLE"
   ]
  },
  {
   "cell_type": "code",
   "execution_count": null,
   "id": "requested-major",
   "metadata": {},
   "outputs": [],
   "source": [
    "### Define calc model P function\n",
    "\n",
    "def calcPmod(theta,data):\n",
    "    '''\n",
    "    Arguments:\n",
    "    theta - list of BIPs\n",
    "    data - data needed to run the model\n",
    "    \n",
    "    Returns\n",
    "    Pmod - list of calculated pressures\n",
    "    '''\n",
    "    \n",
    "    m = ConcreteModel()\n",
    "\n",
    "    m.fs = FlowsheetBlock(default={\"dynamic\": False})\n",
    "\n",
    "    m.fs.properties = GenericParameterBlock(default=configuration)\n",
    "\n",
    "    m.fs.F101 = Flash(default={\"property_package\": m.fs.properties,\n",
    "                               \"has_heat_transfer\": True,\n",
    "                               \"has_pressure_change\": True})\n",
    "\n",
    "    m.fs.F101.inlet.flow_mol.fix(1)\n",
    "    m.fs.F101.inlet.temperature.fix(323.15)\n",
    "    m.fs.F101.inlet.pressure.fix(399800)\n",
    "    m.fs.F101.inlet.mole_frac_comp[0,'R32'].fix(0.5)\n",
    "\n",
    "    m.fs.properties.PR_kappa_A['R32','emimTf2N'] = theta[0]\n",
    "    m.fs.properties.PR_kappa_A['emimTf2N','R32'] = theta[1]\n",
    "    m.fs.properties.PR_kappa_B['R32','emimTf2N'] = theta[2]\n",
    "    m.fs.properties.PR_kappa_B['emimTf2N','R32'] = theta[3]\n",
    "    m.fs.properties.PR_kappa_C['R32','emimTf2N'] = theta[4]\n",
    "    m.fs.properties.PR_kappa_C['emimTf2N','R32'] = theta[5]\n",
    "\n",
    "    # Initialize the flash unit\n",
    "    m.fs.F101.initialize(outlvl=idaeslog.CRITICAL)\n",
    "\n",
    "    # Fix the state variables on the state block\n",
    "    # m.fs.F101.inlet.pressure.unfix()\n",
    "    m.fs.F101.inlet.mole_frac_comp[0,'emimTf2N'].unfix()\n",
    "\n",
    "    R32_x = np.zeros((len(data)))\n",
    "    P = np.zeros((len(data)))\n",
    "\n",
    "    m.fs.liq = Param(mutable=True,default=0.040)\n",
    "    m.fs.liquid = Constraint(expr=m.fs.F101.liq_outlet.mole_frac_comp[0, \"emimTf2N\"] == m.fs.liq)\n",
    "\n",
    "    for i in range(len(data)):\n",
    "        m.fs.liq = data[\"x_emimTf2N\"].iloc[i]\n",
    "        m.fs.F101.inlet.temperature.fix(float(data[\"temperature\"].iloc[i]))\n",
    "        m.fs.F101.inlet.pressure.fix(float(data[\"pressure\"].iloc[i]))\n",
    "        m.fs.F101.inlet.mole_frac_comp[0,'R32'].fix(float(data[\"x_R32\"].iloc[i])+0.1)\n",
    "        m.fs.F101.inlet.mole_frac_comp[0,'emimTf2N'].fix(float(1-(data[\"x_R32\"].iloc[i]+0.1)))\n",
    "        m.fs.F101.vap_outlet.temperature.fix(float(data[\"temperature\"].iloc[i]))\n",
    "\n",
    "    #     DOF_final = degrees_of_freedom(m)\n",
    "    #     print(\"The final DOF is {0}\".format(DOF_final))\n",
    "        m.fs.F101.initialize(outlvl=idaeslog.CRITICAL)\n",
    "\n",
    "        status = solver.solve(m, tee = False)\n",
    "\n",
    "    #     m.fs.F101.report()\n",
    "        if (status.solver.status == SolverStatus.ok) and (status.solver.termination_condition == TerminationCondition.optimal):\n",
    "#             print(data[\"x_emimTf2N\"].iloc[i])\n",
    "            R32_x[i] = value(m.fs.F101.liq_outlet.mole_frac_comp[0,'R32']) \n",
    "            P[i] = value(m.fs.F101.vap_outlet.pressure[0])\n",
    "\n",
    "        else:\n",
    "            print('Infeasible.')\n",
    "            \n",
    "    Pmod = P\n",
    "    \n",
    "    return Pmod"
   ]
  },
  {
   "cell_type": "code",
   "execution_count": null,
   "id": "tired-india",
   "metadata": {},
   "outputs": [],
   "source": [
    "### Define function to calculate SSR\n",
    "def res(theta,data,Pexp):\n",
    "    '''\n",
    "    Arguments:\n",
    "    theta - list of BIPs\n",
    "    data - data needed to run the model\n",
    "    Pexp - list of experimental pressure data\n",
    "    \n",
    "    Returns:\n",
    "    residual between model and exp (note, this will be large because of units of P)\n",
    "    '''\n",
    "    \n",
    "    #Calculate model P\n",
    "    Pmod = calcPmod(theta,data)\n",
    "    \n",
    "    return Pexp - Pmod"
   ]
  },
  {
   "cell_type": "code",
   "execution_count": null,
   "id": "similar-september",
   "metadata": {},
   "outputs": [],
   "source": [
    "theta_guess = [parameters['fs.properties.PR_kappa_A[R32,emimTf2N]'],parameters['fs.properties.PR_kappa_A[emimTf2N,R32]'],parameters['fs.properties.PR_kappa_B[R32,emimTf2N]'],parameters['fs.properties.PR_kappa_B[emimTf2N,R32]'],parameters['fs.properties.PR_kappa_C[R32,emimTf2N]'],parameters['fs.properties.PR_kappa_C[emimTf2N,R32]']]\n",
    "Pexp = data_subset['pressure'].values.tolist()\n",
    "n = 8\n",
    "bnds = ([-20,-20,-20,-20,-20,-20],[20,20,20,20,20,20])"
   ]
  },
  {
   "cell_type": "code",
   "execution_count": null,
   "id": "dirty-treaty",
   "metadata": {},
   "outputs": [],
   "source": [
    "### solve\n",
    "sol = scipy.optimize.least_squares(res, theta_guess, method='trf', args=(data_subset,Pexp),bounds=bnds)"
   ]
  },
  {
   "cell_type": "code",
   "execution_count": null,
   "id": "resistant-anniversary",
   "metadata": {},
   "outputs": [],
   "source": [
    "theta_hat = sol.x\n",
    "theta_hat"
   ]
  },
  {
   "cell_type": "code",
   "execution_count": null,
   "id": "optimum-romantic",
   "metadata": {},
   "outputs": [],
   "source": [
    "def SSR(theta,data,Pexp):\n",
    "    '''\n",
    "    Arguments:\n",
    "    theta - list of BIPs\n",
    "    data - data needed to run the model\n",
    "    Pexp - list of experimental pressure data\n",
    "    \n",
    "    Returns:\n",
    "    SSR - sum of residuals squared\n",
    "    '''\n",
    "    \n",
    "    #Calculate model P\n",
    "    Pmod = calcPmod(theta,data)\n",
    "    \n",
    "    #Calculate residual squared\n",
    "    res = (Pexp - Pmod)**2\n",
    "    \n",
    "    #Sum residuals squared\n",
    "    SSR = np.sum(res)\n",
    "      \n",
    "    return SSR"
   ]
  },
  {
   "cell_type": "code",
   "execution_count": null,
   "id": "speaking-solution",
   "metadata": {},
   "outputs": [],
   "source": [
    "SSR = SSR(theta_hat,data_subset,Pexp)\n",
    "SSR"
   ]
  },
  {
   "cell_type": "code",
   "execution_count": null,
   "id": "marine-kinase",
   "metadata": {},
   "outputs": [],
   "source": [
    "sigma_sq = SSR/n\n",
    "sigma_sq"
   ]
  },
  {
   "cell_type": "code",
   "execution_count": null,
   "id": "latin-direction",
   "metadata": {},
   "outputs": [],
   "source": [
    "L = -n/2*np.log(2*np.pi) - n/2*np.log(sigma_sq) - 1/(2*sigma_sq)*SSR\n",
    "L"
   ]
  },
  {
   "cell_type": "code",
   "execution_count": null,
   "id": "cross-lloyd",
   "metadata": {},
   "outputs": [],
   "source": [
    "AIC = 2*n - 2*L\n",
    "AIC"
   ]
  },
  {
   "cell_type": "markdown",
   "id": "pressed-spray",
   "metadata": {},
   "source": [
    "Other AIC - using SSR calculated in above parameter fitting"
   ]
  },
  {
   "cell_type": "code",
   "execution_count": null,
   "id": "2be37c80",
   "metadata": {},
   "outputs": [],
   "source": [
    "n=8"
   ]
  },
  {
   "cell_type": "code",
   "execution_count": null,
   "id": "specified-croatia",
   "metadata": {},
   "outputs": [],
   "source": [
    "SSR_other = obj_value*1E-2"
   ]
  },
  {
   "cell_type": "code",
   "execution_count": null,
   "id": "cf6b52cd",
   "metadata": {},
   "outputs": [],
   "source": [
    "SSR_other"
   ]
  },
  {
   "cell_type": "code",
   "execution_count": null,
   "id": "positive-chrome",
   "metadata": {},
   "outputs": [],
   "source": [
    "sigma_sq_other = SSR_other/n\n",
    "sigma_sq_other"
   ]
  },
  {
   "cell_type": "code",
   "execution_count": null,
   "id": "raising-cruise",
   "metadata": {},
   "outputs": [],
   "source": [
    "L_other = -n/2*np.log(2*np.pi) - n/2*np.log(sigma_sq_other) - 1/(2*sigma_sq_other)*SSR_other\n",
    "L_other"
   ]
  },
  {
   "cell_type": "code",
   "execution_count": null,
   "id": "solar-thermal",
   "metadata": {},
   "outputs": [],
   "source": [
    "AIC_other = 2*n - 2*L_other\n",
    "AIC_other"
   ]
  },
  {
   "cell_type": "code",
   "execution_count": null,
   "id": "geological-pattern",
   "metadata": {},
   "outputs": [],
   "source": [
    "AIC_data = pd.DataFrame(data=[n,obj_value*1E-2,AIC_other])\n",
    "AIC_data = AIC_data.T\n",
    "AIC_data.columns = ['n','Objective, Pa^2','AIC']\n",
    "AIC_data.to_csv('Data/AIC/SRK_AIC_8parameter.csv')"
   ]
  },
  {
   "cell_type": "code",
   "execution_count": null,
   "id": "27a2815c",
   "metadata": {},
   "outputs": [],
   "source": []
  }
 ],
 "metadata": {
  "kernelspec": {
   "display_name": "Python 3 (ipykernel)",
   "language": "python",
   "name": "python3"
  },
  "language_info": {
   "codemirror_mode": {
    "name": "ipython",
    "version": 3
   },
   "file_extension": ".py",
   "mimetype": "text/x-python",
   "name": "python",
   "nbconvert_exporter": "python",
   "pygments_lexer": "ipython3",
   "version": "3.9.9"
  }
 },
 "nbformat": 4,
 "nbformat_minor": 5
}
