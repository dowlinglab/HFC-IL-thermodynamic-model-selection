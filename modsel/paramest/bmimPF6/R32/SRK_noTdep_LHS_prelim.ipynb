{
 "cells": [
  {
   "cell_type": "markdown",
   "id": "d4de6609",
   "metadata": {},
   "source": [
    "# Organize LH sample for SRK noTdep LHS multistart"
   ]
  },
  {
   "cell_type": "code",
   "execution_count": 1,
   "id": "309efa6a",
   "metadata": {},
   "outputs": [],
   "source": [
    "import pandas as pd\n",
    "import numpy as np\n",
    "\n",
    "import sys\n",
    "sys.path.append('../../')"
   ]
  },
  {
   "cell_type": "code",
   "execution_count": 2,
   "id": "6539d4ff",
   "metadata": {},
   "outputs": [],
   "source": [
    "SRK_1param_Opt1_results = pd.read_csv('Data/Fits/LHS_Fits/SRK_1param_Opt1_LHS.csv',index_col=0)\n",
    "SRK_1param_Opt2_results = pd.read_csv('Data/Fits/LHS_Fits/SRK_1param_Opt2_LHS.csv',index_col=0)"
   ]
  },
  {
   "cell_type": "code",
   "execution_count": 3,
   "id": "c57b9fa9",
   "metadata": {},
   "outputs": [
    {
     "data": {
      "text/html": [
       "<div>\n",
       "<style scoped>\n",
       "    .dataframe tbody tr th:only-of-type {\n",
       "        vertical-align: middle;\n",
       "    }\n",
       "\n",
       "    .dataframe tbody tr th {\n",
       "        vertical-align: top;\n",
       "    }\n",
       "\n",
       "    .dataframe thead th {\n",
       "        text-align: right;\n",
       "    }\n",
       "</style>\n",
       "<table border=\"1\" class=\"dataframe\">\n",
       "  <thead>\n",
       "    <tr style=\"text-align: right;\">\n",
       "      <th></th>\n",
       "      <th>Param2</th>\n",
       "      <th>sc_param2</th>\n",
       "      <th>SRK_kappa_A[R32,emimTf2N]</th>\n",
       "      <th>SSR</th>\n",
       "    </tr>\n",
       "  </thead>\n",
       "  <tbody>\n",
       "    <tr>\n",
       "      <th>5</th>\n",
       "      <td>0.500342</td>\n",
       "      <td>0.004003</td>\n",
       "      <td>-0.002313</td>\n",
       "      <td>20.187151</td>\n",
       "    </tr>\n",
       "    <tr>\n",
       "      <th>59</th>\n",
       "      <td>0.448450</td>\n",
       "      <td>-0.100148</td>\n",
       "      <td>-0.003761</td>\n",
       "      <td>18.208599</td>\n",
       "    </tr>\n",
       "    <tr>\n",
       "      <th>89</th>\n",
       "      <td>0.509033</td>\n",
       "      <td>0.021446</td>\n",
       "      <td>-0.002313</td>\n",
       "      <td>20.187152</td>\n",
       "    </tr>\n",
       "    <tr>\n",
       "      <th>101</th>\n",
       "      <td>0.436409</td>\n",
       "      <td>-0.124315</td>\n",
       "      <td>-0.033490</td>\n",
       "      <td>0.717427</td>\n",
       "    </tr>\n",
       "    <tr>\n",
       "      <th>153</th>\n",
       "      <td>0.447741</td>\n",
       "      <td>-0.101572</td>\n",
       "      <td>-0.033490</td>\n",
       "      <td>0.717427</td>\n",
       "    </tr>\n",
       "    <tr>\n",
       "      <th>230</th>\n",
       "      <td>0.507362</td>\n",
       "      <td>0.018093</td>\n",
       "      <td>-0.002313</td>\n",
       "      <td>20.187151</td>\n",
       "    </tr>\n",
       "  </tbody>\n",
       "</table>\n",
       "</div>"
      ],
      "text/plain": [
       "       Param2  sc_param2  SRK_kappa_A[R32,emimTf2N]        SSR\n",
       "5    0.500342   0.004003                  -0.002313  20.187151\n",
       "59   0.448450  -0.100148                  -0.003761  18.208599\n",
       "89   0.509033   0.021446                  -0.002313  20.187152\n",
       "101  0.436409  -0.124315                  -0.033490   0.717427\n",
       "153  0.447741  -0.101572                  -0.033490   0.717427\n",
       "230  0.507362   0.018093                  -0.002313  20.187151"
      ]
     },
     "execution_count": 3,
     "metadata": {},
     "output_type": "execute_result"
    }
   ],
   "source": [
    "SRK_1param_Opt1_results.dropna(axis=0)"
   ]
  },
  {
   "cell_type": "code",
   "execution_count": 4,
   "id": "9e8b9801",
   "metadata": {},
   "outputs": [
    {
     "data": {
      "text/html": [
       "<div>\n",
       "<style scoped>\n",
       "    .dataframe tbody tr th:only-of-type {\n",
       "        vertical-align: middle;\n",
       "    }\n",
       "\n",
       "    .dataframe tbody tr th {\n",
       "        vertical-align: top;\n",
       "    }\n",
       "\n",
       "    .dataframe thead th {\n",
       "        text-align: right;\n",
       "    }\n",
       "</style>\n",
       "<table border=\"1\" class=\"dataframe\">\n",
       "  <thead>\n",
       "    <tr style=\"text-align: right;\">\n",
       "      <th></th>\n",
       "      <th>Param2</th>\n",
       "      <th>sc_param2</th>\n",
       "      <th>SRK_kappa_A[R32,emimTf2N]</th>\n",
       "      <th>SSR</th>\n",
       "    </tr>\n",
       "  </thead>\n",
       "  <tbody>\n",
       "    <tr>\n",
       "      <th>153</th>\n",
       "      <td>0.447741</td>\n",
       "      <td>-0.101572</td>\n",
       "      <td>-0.03349</td>\n",
       "      <td>0.717427</td>\n",
       "    </tr>\n",
       "  </tbody>\n",
       "</table>\n",
       "</div>"
      ],
      "text/plain": [
       "       Param2  sc_param2  SRK_kappa_A[R32,emimTf2N]       SSR\n",
       "153  0.447741  -0.101572                   -0.03349  0.717427"
      ]
     },
     "execution_count": 4,
     "metadata": {},
     "output_type": "execute_result"
    }
   ],
   "source": [
    "SRK_1param_Opt1_results[SRK_1param_Opt1_results.SSR == SRK_1param_Opt1_results.SSR.min()]"
   ]
  },
  {
   "cell_type": "code",
   "execution_count": 5,
   "id": "a45ca2d2",
   "metadata": {},
   "outputs": [],
   "source": [
    "Opt1_153 = SRK_1param_Opt1_results.iloc[153]"
   ]
  },
  {
   "cell_type": "code",
   "execution_count": 6,
   "id": "abd4deb2",
   "metadata": {},
   "outputs": [
    {
     "data": {
      "text/html": [
       "<div>\n",
       "<style scoped>\n",
       "    .dataframe tbody tr th:only-of-type {\n",
       "        vertical-align: middle;\n",
       "    }\n",
       "\n",
       "    .dataframe tbody tr th {\n",
       "        vertical-align: top;\n",
       "    }\n",
       "\n",
       "    .dataframe thead th {\n",
       "        text-align: right;\n",
       "    }\n",
       "</style>\n",
       "<table border=\"1\" class=\"dataframe\">\n",
       "  <thead>\n",
       "    <tr style=\"text-align: right;\">\n",
       "      <th></th>\n",
       "      <th>Param1</th>\n",
       "      <th>sc_param1</th>\n",
       "      <th>SRK_kappa_A[bmimpf6,R32]</th>\n",
       "      <th>SSR</th>\n",
       "    </tr>\n",
       "  </thead>\n",
       "  <tbody>\n",
       "    <tr>\n",
       "      <th>21</th>\n",
       "      <td>0.494270</td>\n",
       "      <td>-0.011289</td>\n",
       "      <td>0.004845</td>\n",
       "      <td>23.158023</td>\n",
       "    </tr>\n",
       "    <tr>\n",
       "      <th>33</th>\n",
       "      <td>0.504919</td>\n",
       "      <td>0.010144</td>\n",
       "      <td>0.017648</td>\n",
       "      <td>21.981677</td>\n",
       "    </tr>\n",
       "    <tr>\n",
       "      <th>50</th>\n",
       "      <td>0.488707</td>\n",
       "      <td>-0.022485</td>\n",
       "      <td>0.004845</td>\n",
       "      <td>23.158023</td>\n",
       "    </tr>\n",
       "    <tr>\n",
       "      <th>72</th>\n",
       "      <td>0.461280</td>\n",
       "      <td>-0.077685</td>\n",
       "      <td>0.017648</td>\n",
       "      <td>21.981678</td>\n",
       "    </tr>\n",
       "    <tr>\n",
       "      <th>74</th>\n",
       "      <td>0.503719</td>\n",
       "      <td>0.007728</td>\n",
       "      <td>0.017648</td>\n",
       "      <td>21.981677</td>\n",
       "    </tr>\n",
       "    <tr>\n",
       "      <th>120</th>\n",
       "      <td>0.472536</td>\n",
       "      <td>-0.055031</td>\n",
       "      <td>0.017648</td>\n",
       "      <td>21.981679</td>\n",
       "    </tr>\n",
       "    <tr>\n",
       "      <th>122</th>\n",
       "      <td>0.453030</td>\n",
       "      <td>-0.094290</td>\n",
       "      <td>0.017648</td>\n",
       "      <td>21.981680</td>\n",
       "    </tr>\n",
       "    <tr>\n",
       "      <th>127</th>\n",
       "      <td>0.497057</td>\n",
       "      <td>-0.005679</td>\n",
       "      <td>0.017648</td>\n",
       "      <td>21.981676</td>\n",
       "    </tr>\n",
       "    <tr>\n",
       "      <th>146</th>\n",
       "      <td>0.456142</td>\n",
       "      <td>-0.088028</td>\n",
       "      <td>0.017648</td>\n",
       "      <td>21.981678</td>\n",
       "    </tr>\n",
       "    <tr>\n",
       "      <th>148</th>\n",
       "      <td>0.471516</td>\n",
       "      <td>-0.057084</td>\n",
       "      <td>0.017648</td>\n",
       "      <td>21.981680</td>\n",
       "    </tr>\n",
       "    <tr>\n",
       "      <th>165</th>\n",
       "      <td>0.481267</td>\n",
       "      <td>-0.037459</td>\n",
       "      <td>0.004845</td>\n",
       "      <td>23.158025</td>\n",
       "    </tr>\n",
       "    <tr>\n",
       "      <th>173</th>\n",
       "      <td>0.464531</td>\n",
       "      <td>-0.071143</td>\n",
       "      <td>0.017648</td>\n",
       "      <td>21.981680</td>\n",
       "    </tr>\n",
       "    <tr>\n",
       "      <th>190</th>\n",
       "      <td>0.487078</td>\n",
       "      <td>-0.025764</td>\n",
       "      <td>0.004845</td>\n",
       "      <td>23.158023</td>\n",
       "    </tr>\n",
       "    <tr>\n",
       "      <th>226</th>\n",
       "      <td>0.476739</td>\n",
       "      <td>-0.046572</td>\n",
       "      <td>0.017648</td>\n",
       "      <td>21.981680</td>\n",
       "    </tr>\n",
       "  </tbody>\n",
       "</table>\n",
       "</div>"
      ],
      "text/plain": [
       "       Param1  sc_param1  SRK_kappa_A[bmimpf6,R32]        SSR\n",
       "21   0.494270  -0.011289                  0.004845  23.158023\n",
       "33   0.504919   0.010144                  0.017648  21.981677\n",
       "50   0.488707  -0.022485                  0.004845  23.158023\n",
       "72   0.461280  -0.077685                  0.017648  21.981678\n",
       "74   0.503719   0.007728                  0.017648  21.981677\n",
       "120  0.472536  -0.055031                  0.017648  21.981679\n",
       "122  0.453030  -0.094290                  0.017648  21.981680\n",
       "127  0.497057  -0.005679                  0.017648  21.981676\n",
       "146  0.456142  -0.088028                  0.017648  21.981678\n",
       "148  0.471516  -0.057084                  0.017648  21.981680\n",
       "165  0.481267  -0.037459                  0.004845  23.158025\n",
       "173  0.464531  -0.071143                  0.017648  21.981680\n",
       "190  0.487078  -0.025764                  0.004845  23.158023\n",
       "226  0.476739  -0.046572                  0.017648  21.981680"
      ]
     },
     "execution_count": 6,
     "metadata": {},
     "output_type": "execute_result"
    }
   ],
   "source": [
    "SRK_1param_Opt2_results.dropna(axis=0)"
   ]
  },
  {
   "cell_type": "code",
   "execution_count": 7,
   "id": "28d35bfa",
   "metadata": {},
   "outputs": [
    {
     "data": {
      "text/html": [
       "<div>\n",
       "<style scoped>\n",
       "    .dataframe tbody tr th:only-of-type {\n",
       "        vertical-align: middle;\n",
       "    }\n",
       "\n",
       "    .dataframe tbody tr th {\n",
       "        vertical-align: top;\n",
       "    }\n",
       "\n",
       "    .dataframe thead th {\n",
       "        text-align: right;\n",
       "    }\n",
       "</style>\n",
       "<table border=\"1\" class=\"dataframe\">\n",
       "  <thead>\n",
       "    <tr style=\"text-align: right;\">\n",
       "      <th></th>\n",
       "      <th>Param1</th>\n",
       "      <th>sc_param1</th>\n",
       "      <th>SRK_kappa_A[bmimpf6,R32]</th>\n",
       "      <th>SSR</th>\n",
       "    </tr>\n",
       "  </thead>\n",
       "  <tbody>\n",
       "    <tr>\n",
       "      <th>127</th>\n",
       "      <td>0.497057</td>\n",
       "      <td>-0.005679</td>\n",
       "      <td>0.017648</td>\n",
       "      <td>21.981676</td>\n",
       "    </tr>\n",
       "  </tbody>\n",
       "</table>\n",
       "</div>"
      ],
      "text/plain": [
       "       Param1  sc_param1  SRK_kappa_A[bmimpf6,R32]        SSR\n",
       "127  0.497057  -0.005679                  0.017648  21.981676"
      ]
     },
     "execution_count": 7,
     "metadata": {},
     "output_type": "execute_result"
    }
   ],
   "source": [
    "SRK_1param_Opt2_results[SRK_1param_Opt2_results.SSR == SRK_1param_Opt2_results.SSR.min()]"
   ]
  },
  {
   "cell_type": "code",
   "execution_count": 8,
   "id": "0ab6e4bf",
   "metadata": {},
   "outputs": [],
   "source": [
    "Opt2_127 = SRK_1param_Opt2_results.iloc[127]"
   ]
  },
  {
   "cell_type": "code",
   "execution_count": 9,
   "id": "d0b2c57a",
   "metadata": {},
   "outputs": [],
   "source": [
    "lhs = pd.read_csv('../../LHS_250x8.txt')"
   ]
  },
  {
   "cell_type": "code",
   "execution_count": 10,
   "id": "3ba4bd62",
   "metadata": {},
   "outputs": [],
   "source": [
    "lhs['sc_param1'] = ((lhs['Param1']-lhs['Param1'].min())/(lhs['Param1'].max()-lhs['Param1'].min()))*2+(-1)\n",
    "lhs['sc_param2'] = ((lhs['Param2']-lhs['Param2'].min())/(lhs['Param2'].max()-lhs['Param2'].min()))*2+(-1)"
   ]
  },
  {
   "cell_type": "code",
   "execution_count": 11,
   "id": "d1497feb",
   "metadata": {},
   "outputs": [],
   "source": [
    "Opt1_153_sc = Opt1_153[['sc_param2']]"
   ]
  },
  {
   "cell_type": "code",
   "execution_count": 12,
   "id": "d314e586",
   "metadata": {},
   "outputs": [],
   "source": [
    "Opt2_127_sc = Opt2_127[['sc_param1']]"
   ]
  },
  {
   "cell_type": "code",
   "execution_count": 13,
   "id": "1e325f20",
   "metadata": {},
   "outputs": [],
   "source": [
    "Opt1_153_sc_df = pd.DataFrame(Opt1_153_sc).T\n",
    "sc_Opt1_153 = pd.concat([Opt1_153_sc_df]*250,ignore_index=True)\n",
    "sc_lhs_Opt1_153 = pd.concat([lhs[['sc_param1']],sc_Opt1_153],axis=1,ignore_index=True)\n",
    "sc_lhs_Opt1_153.columns = ['sc_param1','sc_param2']\n",
    "sc_lhs_Opt1_153.to_csv('Data/Fits/LHS_Fits/SRK_noTdep_scLHS_Opt1_153.csv',sep=',')"
   ]
  },
  {
   "cell_type": "code",
   "execution_count": 14,
   "id": "386d8b2a",
   "metadata": {},
   "outputs": [],
   "source": [
    "Opt2_127_sc_df = pd.DataFrame(Opt2_127_sc).T\n",
    "sc_Opt2_127 = pd.concat([Opt2_127_sc_df]*250,ignore_index=True)\n",
    "sc_lhs_Opt2_127 = pd.concat([sc_Opt2_127,lhs[['sc_param2']]],axis=1,ignore_index=True)\n",
    "sc_lhs_Opt2_127.columns = ['sc_param1','sc_param2']\n",
    "sc_lhs_Opt2_127.to_csv('Data/Fits/LHS_Fits/SRK_noTdep_scLHS_Opt2_127.csv',sep=',')"
   ]
  },
  {
   "cell_type": "code",
   "execution_count": null,
   "id": "92781975",
   "metadata": {},
   "outputs": [],
   "source": [
    "sc_lhs_Opt1_78"
   ]
  },
  {
   "cell_type": "code",
   "execution_count": null,
   "id": "3ee80540",
   "metadata": {},
   "outputs": [],
   "source": [
    "sc_lhs_Opt2_206"
   ]
  },
  {
   "cell_type": "code",
   "execution_count": null,
   "id": "804d5655",
   "metadata": {},
   "outputs": [],
   "source": []
  }
 ],
 "metadata": {
  "kernelspec": {
   "display_name": "Python 3 (ipykernel)",
   "language": "python",
   "name": "python3"
  },
  "language_info": {
   "codemirror_mode": {
    "name": "ipython",
    "version": 3
   },
   "file_extension": ".py",
   "mimetype": "text/x-python",
   "name": "python",
   "nbconvert_exporter": "python",
   "pygments_lexer": "ipython3",
   "version": "3.9.9"
  }
 },
 "nbformat": 4,
 "nbformat_minor": 5
}
