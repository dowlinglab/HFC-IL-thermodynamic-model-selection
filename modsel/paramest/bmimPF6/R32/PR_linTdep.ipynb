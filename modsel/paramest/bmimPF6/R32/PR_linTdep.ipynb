{
 "cells": [
  {
   "cell_type": "markdown",
   "id": "instructional-learning",
   "metadata": {},
   "source": [
    "# Fit bmimpf6 data\n",
    "\n",
    "EoS: PR\n",
    "\n",
    "Parameter T dependence: Linear\n",
    "\n",
    "N (total fitting parameters): 4"
   ]
  },
  {
   "cell_type": "markdown",
   "id": "extended-rabbit",
   "metadata": {},
   "source": [
    "## Import Functions"
   ]
  },
  {
   "cell_type": "code",
   "execution_count": 1,
   "id": "complicated-toronto",
   "metadata": {},
   "outputs": [],
   "source": [
    "import idaes\n",
    "\n",
    "import pandas as pd\n",
    "import numpy as np\n",
    "import matplotlib.pyplot as plt\n",
    "import scipy.optimize\n",
    "\n",
    "import sys\n",
    "sys.path.append('../../')\n",
    "\n",
    "from pyomo.environ import (Constraint,\n",
    "                           Var,\n",
    "                           ConcreteModel,\n",
    "                           Expression,\n",
    "                           Param,\n",
    "                           Objective,\n",
    "                           SolverFactory,\n",
    "                           TransformationFactory,\n",
    "                           value)\n",
    "from pyomo.opt import TerminationCondition, SolverStatus\n",
    "\n",
    "from idaes.core import FlowsheetBlock\n",
    "import idaes.logger as idaeslog\n",
    "# Import the Generic Parameter Block\n",
    "from idaes.generic_models.properties.core.generic.generic_property import (\n",
    "        GenericParameterBlock)\n",
    "# Import unit models from the model library\n",
    "from idaes.generic_models.unit_models import Flash\n",
    "# Import degrees of freedom tool\n",
    "from idaes.core.util.model_statistics import degrees_of_freedom\n",
    "\n",
    "# parmest (binary_param2)\n",
    "from bip_fitting_functions import linear\n",
    "\n",
    "import scipy.stats as stats\n",
    "\n",
    "from matplotlib.patches import Ellipse\n",
    "import matplotlib.transforms as transforms\n",
    "import matplotlib.patches as mpatches"
   ]
  },
  {
   "cell_type": "markdown",
   "id": "potential-awareness",
   "metadata": {},
   "source": [
    "## Load Data"
   ]
  },
  {
   "cell_type": "code",
   "execution_count": 2,
   "id": "latest-artist",
   "metadata": {},
   "outputs": [],
   "source": [
    "data_full = pd.read_csv('r32_bmimpf6_full.csv')\n",
    "# data_subset = pd.read_csv('r32_emimtf2n_subset.csv')"
   ]
  },
  {
   "cell_type": "markdown",
   "id": "superior-attendance",
   "metadata": {},
   "source": [
    "## Load Configuration + Check DOF"
   ]
  },
  {
   "cell_type": "code",
   "execution_count": 3,
   "id": "binding-cattle",
   "metadata": {},
   "outputs": [],
   "source": [
    "from hfc32_bmimpf6_PR import configuration "
   ]
  },
  {
   "cell_type": "code",
   "execution_count": 4,
   "id": "backed-diving",
   "metadata": {},
   "outputs": [
    {
     "name": "stdout",
     "output_type": "stream",
     "text": [
      "The initial DOF is 7\n"
     ]
    }
   ],
   "source": [
    "m = ConcreteModel()\n",
    "m.fs = FlowsheetBlock(default={\"dynamic\": False})\n",
    "m.fs.properties = GenericParameterBlock(default=configuration)\n",
    "m.fs.F101 = Flash(default={\"property_package\": m.fs.properties,\n",
    "                           \"has_heat_transfer\": True,\n",
    "                           \"has_pressure_change\": True})\n",
    "DOF_initial = degrees_of_freedom(m)\n",
    "print('The initial DOF is {0}'.format(DOF_initial))"
   ]
  },
  {
   "cell_type": "markdown",
   "id": "conventional-health",
   "metadata": {},
   "source": [
    "## Fit Parameters"
   ]
  },
  {
   "cell_type": "code",
   "execution_count": 6,
   "id": "sensitive-secondary",
   "metadata": {},
   "outputs": [
    {
     "name": "stdout",
     "output_type": "stream",
     "text": [
      "2022-04-20 13:12:26 [INFO] idaes.init.fs.state_block: Property package initialization: optimal - Optimal Solution Found.\n",
      "2022-04-20 13:12:26 [INFO] idaes.init.fs.state_block: Property package initialization: optimal - Optimal Solution Found.\n",
      "2022-04-20 13:12:26 [INFO] idaes.init.fs.state_block: Property package initialization: optimal - Optimal Solution Found.\n",
      "2022-04-20 13:12:27 [INFO] idaes.init.fs.state_block: Property package initialization: optimal - Optimal Solution Found.\n",
      "2022-04-20 13:12:27 [INFO] idaes.init.fs.state_block: Property package initialization: optimal - Optimal Solution Found.\n",
      "2022-04-20 13:12:28 [INFO] idaes.init.fs.state_block: Property package initialization: optimal - Optimal Solution Found.\n",
      "2022-04-20 13:12:28 [INFO] idaes.init.fs.state_block: Property package initialization: optimal - Optimal Solution Found.\n",
      "2022-04-20 13:12:28 [INFO] idaes.init.fs.state_block: Property package initialization: optimal - Optimal Solution Found.\n",
      "2022-04-20 13:12:29 [INFO] idaes.init.fs.state_block: Property package initialization: optimal - Optimal Solution Found.\n",
      "2022-04-20 13:12:29 [INFO] idaes.init.fs.state_block: Property package initialization: optimal - Optimal Solution Found.\n",
      "2022-04-20 13:12:29 [INFO] idaes.init.fs.state_block: Property package initialization: optimal - Optimal Solution Found.\n",
      "2022-04-20 13:12:30 [INFO] idaes.init.fs.state_block: Property package initialization: optimal - Optimal Solution Found.\n",
      "2022-04-20 13:12:30 [INFO] idaes.init.fs.state_block: Property package initialization: optimal - Optimal Solution Found.\n",
      "2022-04-20 13:12:30 [INFO] idaes.init.fs.state_block: Property package initialization: optimal - Optimal Solution Found.\n",
      "2022-04-20 13:12:31 [INFO] idaes.init.fs.state_block: Property package initialization: optimal - Optimal Solution Found.\n",
      "2022-04-20 13:12:31 [INFO] idaes.init.fs.state_block: Property package initialization: optimal - Optimal Solution Found.\n",
      "2022-04-20 13:12:31 [INFO] idaes.init.fs.state_block: Property package initialization: optimal - Optimal Solution Found.\n",
      "2022-04-20 13:12:32 [INFO] idaes.init.fs.state_block: Property package initialization: optimal - Optimal Solution Found.\n",
      "2022-04-20 13:12:32 [INFO] idaes.init.fs.state_block: Property package initialization: optimal - Optimal Solution Found.\n",
      "2022-04-20 13:12:33 [INFO] idaes.init.fs.state_block: Property package initialization: optimal - Optimal Solution Found.\n",
      "2022-04-20 13:12:33 [INFO] idaes.init.fs.state_block: Property package initialization: optimal - Optimal Solution Found.\n",
      "2022-04-20 13:12:33 [INFO] idaes.init.fs.state_block: Property package initialization: optimal - Optimal Solution Found.\n",
      "2022-04-20 13:12:34 [INFO] idaes.init.fs.state_block: Property package initialization: optimal - Optimal Solution Found.\n",
      "2022-04-20 13:12:34 [INFO] idaes.init.fs.state_block: Property package initialization: optimal - Optimal Solution Found.\n",
      "2022-04-20 13:12:34 [INFO] idaes.init.fs.state_block: Property package initialization: optimal - Optimal Solution Found.\n",
      "2022-04-20 13:12:35 [INFO] idaes.init.fs.state_block: Property package initialization: optimal - Optimal Solution Found.\n",
      "2022-04-20 13:12:35 [INFO] idaes.init.fs.state_block: Property package initialization: optimal - Optimal Solution Found.\n",
      "2022-04-20 13:12:35 [INFO] idaes.init.fs.state_block: Property package initialization: optimal - Optimal Solution Found.\n",
      "2022-04-20 13:12:36 [INFO] idaes.init.fs.state_block: Property package initialization: optimal - Optimal Solution Found.\n",
      "2022-04-20 13:12:36 [INFO] idaes.init.fs.state_block: Property package initialization: optimal - Optimal Solution Found.\n",
      "2022-04-20 13:12:36 [INFO] idaes.init.fs.state_block: Property package initialization: optimal - Optimal Solution Found.\n",
      "Ipopt 3.13.2: bound_relax_factor=0\n",
      "honor_original_bounds=no\n",
      "\n",
      "\n",
      "******************************************************************************\n",
      "This program contains Ipopt, a library for large-scale nonlinear optimization.\n",
      " Ipopt is released as open source code under the Eclipse Public License (EPL).\n",
      "         For more information visit http://projects.coin-or.org/Ipopt\n",
      "\n",
      "This version of Ipopt was compiled from source code available at\n",
      "    https://github.com/IDAES/Ipopt as part of the Institute for the Design of\n",
      "    Advanced Energy Systems Process Systems Engineering Framework (IDAES PSE\n",
      "    Framework) Copyright (c) 2018-2019. See https://github.com/IDAES/idaes-pse.\n",
      "\n",
      "This version of Ipopt was compiled using HSL, a collection of Fortran codes\n",
      "    for large-scale scientific computation.  All technical papers, sales and\n",
      "    publicity material resulting from use of the HSL codes within IPOPT must\n",
      "    contain the following acknowledgement:\n",
      "        HSL, a collection of Fortran codes for large-scale scientific\n",
      "        computation. See http://www.hsl.rl.ac.uk.\n",
      "******************************************************************************\n",
      "\n",
      "This is Ipopt version 3.13.2, running with linear solver ma27.\n",
      "\n",
      "Number of nonzeros in equality constraint Jacobian...:     1294\n",
      "Number of nonzeros in inequality constraint Jacobian.:        0\n",
      "Number of nonzeros in Lagrangian Hessian.............:     1643\n",
      "\n",
      "Total number of variables............................:      496\n",
      "                     variables with only lower bounds:      124\n",
      "                variables with lower and upper bounds:      310\n",
      "                     variables with only upper bounds:        0\n",
      "Total number of equality constraints.................:      492\n",
      "Total number of inequality constraints...............:        0\n",
      "        inequality constraints with only lower bounds:        0\n",
      "   inequality constraints with lower and upper bounds:        0\n",
      "        inequality constraints with only upper bounds:        0\n",
      "\n",
      "iter    objective    inf_pr   inf_du lg(mu)  ||d||  lg(rg) alpha_du alpha_pr  ls\n",
      "   0  0.0000000e+00 1.02e+00 5.68e-14  -1.0 0.00e+00    -  0.00e+00 0.00e+00   0\n",
      "   1  5.3428173e-02 5.63e-01 1.13e+04  -1.0 5.24e+04    -  3.73e-01 5.27e-01h  1\n",
      "   2  1.3598363e-01 2.53e-01 4.20e+03  -1.0 2.65e+04    -  6.69e-01 6.16e-01h  1\n",
      "   3  2.1195520e-01 2.34e-02 9.08e+01  -1.0 1.11e+04    -  8.12e-01 9.90e-01h  1\n",
      "   4  2.1342193e-01 7.18e-04 1.39e+02  -1.0 5.23e+02    -  9.65e-01 9.90e-01h  1\n",
      "   5  2.1250275e-01 2.00e-03 8.24e+04  -1.0 3.68e+03    -  2.74e-01 1.24e-01f  4\n",
      "   6  2.1241393e-01 2.00e-03 3.61e+05  -1.0 5.12e+03    -  4.54e-01 7.73e-03h  8\n",
      "   7  2.1165614e-01 3.79e-03 3.24e+05  -1.0 4.60e+03    -  1.36e-01 1.24e-01f  4\n",
      "   8  2.1144849e-01 3.79e-03 6.21e+05  -1.0 6.57e+03    -  4.34e-01 1.55e-02h  7\n",
      "   9  2.1030839e-01 8.01e-03 6.26e+05  -1.0 6.25e+03    -  2.36e-01 1.24e-01f  4\n",
      "iter    objective    inf_pr   inf_du lg(mu)  ||d||  lg(rg) alpha_du alpha_pr  ls\n",
      "  10  2.1013151e-01 7.97e-03 8.99e+05  -1.0 7.02e+03    -  3.54e-01 1.55e-02h  7\n",
      "  11  2.0985514e-01 2.18e-02 8.89e+05  -1.0 5.88e+03    -  2.43e-01 1.24e-01f  4\n",
      "  12  2.0986197e-01 2.18e-02 1.18e+06  -1.0 6.55e+03    -  3.28e-01 1.55e-02h  7\n",
      "  13  2.1038151e-01 2.39e-02 1.37e+06  -1.0 8.11e+03    -  2.61e-01 3.09e-02h  6\n",
      "  14  2.1111313e-01 2.65e-02 1.54e+06  -1.0 9.76e+03    -  2.44e-01 3.09e-02h  6\n",
      "  15  2.9337611e-01 1.06e+02 7.33e+05  -1.0 1.36e+04    -  2.76e-01 9.90e-01w  1\n",
      "  16  3.3534361e+00 2.55e+01 2.93e+07  -1.0 2.70e+05    -  7.11e-01 9.90e-01w  1\n",
      "  17  6.7705924e+00 1.75e+00 6.08e+09  -1.0 2.65e+05    -  4.10e-01 9.90e-01w  1\n",
      "  18  2.1252082e-01 3.04e-02 1.75e+06  -1.0 1.21e+05    -  2.76e-01 3.09e-02h  5\n",
      "  19  2.1320972e-01 3.10e-02 2.04e+06  -1.0 1.33e+04    -  3.07e-01 1.55e-02h  7\n",
      "iter    objective    inf_pr   inf_du lg(mu)  ||d||  lg(rg) alpha_du alpha_pr  ls\n",
      "  20  2.1353675e-01 3.10e-02 2.46e+06  -1.0 1.30e+04    -  4.09e-01 7.73e-03h  8\n",
      "  21  2.1392683e-01 3.12e-02 2.84e+06  -1.0 1.17e+04    -  3.85e-01 1.55e-02h  7\n",
      "  22  2.1400443e-01 3.11e-02 3.43e+06  -1.0 1.20e+04    -  5.40e-01 3.87e-03h  9\n",
      "  23  2.1410179e-01 3.11e-02 3.89e+06  -1.0 1.17e+04    -  4.72e-01 1.55e-02h  7\n",
      "  24  2.1420640e-01 3.10e-02 4.54e+06  -1.0 1.18e+04    -  6.38e-01 1.55e-02h  7\n",
      "  25  2.1422040e-01 3.09e-02 5.13e+06  -1.0 1.17e+04    -  5.77e-01 1.55e-02h  7\n",
      "  26  2.1425046e-01 3.07e-02 5.92e+06  -1.0 1.17e+04    -  7.51e-01 1.55e-02h  7\n",
      "  27  2.1424583e-01 3.04e-02 6.61e+06  -1.0 1.17e+04    -  6.66e-01 1.55e-02h  7\n",
      "  28  2.6968156e-01 4.36e+00 1.17e+05  -1.0 1.16e+04    -  8.40e-01 9.90e-01w  1\n",
      "  29  2.8487913e-01 1.20e+00 1.22e+06  -1.0 1.54e+04    -  1.00e+00 9.90e-01w  1\n"
     ]
    },
    {
     "name": "stdout",
     "output_type": "stream",
     "text": [
      "iter    objective    inf_pr   inf_du lg(mu)  ||d||  lg(rg) alpha_du alpha_pr  ls\n",
      "  30  3.8871430e-01 9.20e+00 1.22e+08  -1.0 1.28e+04    -  1.00e+00 9.90e-01w  1\n",
      "  31  2.1426622e-01 3.01e-02 7.51e+06  -1.0 6.07e+03    -  8.40e-01 1.55e-02h  6\n",
      "  32  2.1431309e-01 2.99e-02 8.16e+06  -1.0 1.16e+04    -  7.42e-01 3.09e-02h  6\n",
      "  33  2.1443972e-01 2.95e-02 9.11e+06  -1.0 1.15e+04    -  9.67e-01 3.09e-02h  6\n",
      "  34  2.1458218e-01 2.91e-02 9.94e+06  -1.0 1.15e+04    -  8.79e-01 3.09e-02h  6\n",
      "  35  2.1477022e-01 2.86e-02 1.10e+07  -1.0 1.14e+04    -  1.00e+00 3.09e-02h  6\n",
      "  36  2.1501035e-01 2.80e-02 1.20e+07  -1.0 1.13e+04    -  1.00e+00 3.09e-02h  6\n",
      "  37  2.1528653e-01 2.75e-02 1.30e+07  -1.0 1.12e+04    -  1.00e+00 3.09e-02h  6\n",
      "  38  2.1562600e-01 2.69e-02 1.41e+07  -1.0 1.12e+04    -  1.00e+00 3.09e-02h  6\n",
      "  39  2.1600133e-01 2.63e-02 1.51e+07  -1.0 1.11e+04    -  1.00e+00 3.09e-02h  6\n",
      "iter    objective    inf_pr   inf_du lg(mu)  ||d||  lg(rg) alpha_du alpha_pr  ls\n",
      "  40  2.1643469e-01 2.56e-02 1.62e+07  -1.0 1.11e+04    -  1.00e+00 3.09e-02h  6\n",
      "  41  2.6675830e-01 3.76e+00 1.78e+05  -1.0 1.10e+04    -  1.00e+00 9.90e-01w  1\n",
      "  42  3.2203588e-01 9.77e-01 1.65e+06  -1.0 1.34e+04    -  1.00e+00 9.90e-01w  1\n",
      "  43  4.4097845e-01 8.28e+00 1.64e+08  -1.0 1.16e+04    -  1.00e+00 9.90e-01w  1\n",
      "  44  2.1690920e-01 2.50e-02 1.73e+07  -1.0 3.37e+03    -  1.00e+00 3.09e-02h  5\n",
      "  45  2.1802782e-01 2.41e-02 1.78e+07  -1.0 1.10e+04    -  1.00e+00 6.19e-02h  5\n",
      "  46  2.7336302e-01 1.34e-02 1.96e+05  -1.0 1.09e+04    -  1.00e+00 9.90e-01H  1\n",
      "  47  3.3821795e-01 3.66e-02 1.81e+06  -1.0 1.37e+04    -  1.00e+00 9.90e-01H  1\n",
      "  48  3.5019612e-01 3.38e-02 1.59e+10  -1.0 1.12e+04    -  1.00e+00 1.24e-01h  4\n",
      "  49  3.7545306e-01 3.12e-02 2.75e+10  -1.0 1.06e+04    -  1.00e+00 2.47e-01h  3\n",
      "iter    objective    inf_pr   inf_du lg(mu)  ||d||  lg(rg) alpha_du alpha_pr  ls\n",
      "  50  3.9903725e-01 2.70e-02 4.13e+10  -1.0 8.84e+03    -  1.00e+00 2.47e-01h  3\n",
      "  51  4.0158385e-01 2.62e-02 7.54e+10  -1.0 7.25e+03    -  1.00e+00 3.09e-02h  6\n",
      "  52  4.0220932e-01 2.60e-02 1.12e+11  -1.0 7.08e+03    -  1.00e+00 7.73e-03h  8\n",
      "  53  4.0221175e-01 2.60e-02 1.50e+11  -1.0 7.04e+03    -  1.00e+00 3.02e-05h 16\n",
      "  54  4.0221297e-01 2.60e-02 1.88e+11  -1.0 7.04e+03    -  1.00e+00 1.51e-05h 17\n",
      "  55  4.9281284e-01 9.33e+00 1.88e+09  -1.0 7.04e+03    -  9.90e-01 9.90e-01s 22\n",
      "  56  4.2917883e-01 3.26e+00 1.88e+07  -1.0 3.88e+03    -  9.90e-01 9.90e-01s 22\n",
      "  57  4.5308644e-01 8.19e-01 1.88e+05  -1.0 1.54e+03    -  9.90e-01 9.90e-01s 22\n",
      "In iteration 57, 31 Slacks too small, adjusting variable bounds\n",
      "  58  3.0434605e-01 7.03e-02 2.95e+12  -1.7 1.19e+04    -  9.92e-01 1.00e+00h  1\n",
      "  59  2.4802031e-01 5.02e-02 1.00e-02  -1.7 5.06e+03    -  1.00e+00 1.00e+00h  1\n",
      "iter    objective    inf_pr   inf_du lg(mu)  ||d||  lg(rg) alpha_du alpha_pr  ls\n",
      "  60  1.9947925e-01 1.20e-01 6.25e-02  -2.5 6.42e+03    -  1.00e+00 1.00e+00h  1\n",
      "  61  1.8479572e-01 6.35e-02 1.44e-01  -2.5 2.79e+03    -  1.00e+00 1.00e+00h  1\n",
      "  62  1.8448309e-01 7.87e-03 1.27e-02  -2.5 4.75e+02    -  1.00e+00 1.00e+00h  1\n",
      "  63  1.7634474e-01 2.26e-01 1.59e+12  -3.8 2.43e+03    -  1.00e+00 9.69e-01h  1\n",
      "  64  1.7645367e-01 2.52e-02 2.95e-03  -3.8 1.30e+03    -  1.00e+00 1.00e+00h  1\n",
      "  65  1.7646087e-01 6.41e-04 4.88e-04  -3.8 8.51e+01    -  1.00e+00 1.00e+00h  1\n",
      "  66  1.7627546e-01 3.46e-04 7.57e+10  -5.7 3.30e+02    -  1.00e+00 9.73e-01h  1\n",
      "  67  1.7627767e-01 1.42e-06 1.53e-05  -5.7 2.58e+01    -  1.00e+00 1.00e+00h  1\n",
      "  68  1.7627582e-01 6.89e-08 2.74e-06  -8.6 4.55e+00    -  1.00e+00 1.00e+00h  1\n",
      "  69  1.7627582e-01 1.47e-11 3.73e-09  -9.0 6.97e-03    -  1.00e+00 1.00e+00h  1\n",
      "\n",
      "Number of Iterations....: 69\n",
      "\n",
      "                                   (scaled)                 (unscaled)\n",
      "Objective...............:   1.7627581649146648e-01    1.7627581649146648e-01\n",
      "Dual infeasibility......:   3.7252902984619141e-09    3.7252902984619141e-09\n",
      "Constraint violation....:   1.4705126005765123e-11    1.4705126005765123e-11\n",
      "Complementarity.........:   9.0909284539943856e-10    9.0909284539943856e-10\n",
      "Overall NLP error.......:   1.4705126005765123e-11    3.7252902984619141e-09\n",
      "\n",
      "\n",
      "Number of objective function evaluations             = 379\n",
      "Number of objective gradient evaluations             = 70\n",
      "Number of equality constraint evaluations            = 379\n",
      "Number of inequality constraint evaluations          = 0\n",
      "Number of equality constraint Jacobian evaluations   = 70\n",
      "Number of inequality constraint Jacobian evaluations = 0\n",
      "Number of Lagrangian Hessian evaluations             = 69\n",
      "Total CPU secs in IPOPT (w/o function evaluations)   =      0.094\n",
      "Total CPU secs in NLP function evaluations           =      2.879\n",
      "\n",
      "EXIT: Optimal Solution Found.\n",
      "WARNING: The current pynumero_ASL library is version=2, but found version=1.\n",
      "    Please recompile / update your pynumero_ASL library.\n",
      "The SSE at the optimal solution is 0.176276\n",
      "\n",
      "The values for the parameters are as follows:\n",
      "fs.properties.PR_kappa_A[R32,bmimpf6] = 0.021921268682101643\n",
      "fs.properties.PR_kappa_A[bmimpf6,R32] = 0.14100940693631886\n",
      "fs.properties.PR_kappa_B[R32,bmimpf6] = -0.048275834445247856\n",
      "fs.properties.PR_kappa_B[bmimpf6,R32] = -0.18066202337753043\n",
      "covariance_matrix                                        fs.properties.PR_kappa_A[R32,bmimpf6]  \\\n",
      "fs.properties.PR_kappa_A[R32,bmimpf6]                               0.000197   \n",
      "fs.properties.PR_kappa_A[bmimpf6,R32]                               0.001062   \n",
      "fs.properties.PR_kappa_B[R32,bmimpf6]                              -0.000179   \n",
      "fs.properties.PR_kappa_B[bmimpf6,R32]                              -0.000959   \n",
      "\n",
      "                                       fs.properties.PR_kappa_A[bmimpf6,R32]  \\\n",
      "fs.properties.PR_kappa_A[R32,bmimpf6]                               0.001062   \n",
      "fs.properties.PR_kappa_A[bmimpf6,R32]                               0.005734   \n",
      "fs.properties.PR_kappa_B[R32,bmimpf6]                              -0.000966   \n",
      "fs.properties.PR_kappa_B[bmimpf6,R32]                              -0.005178   \n",
      "\n",
      "                                       fs.properties.PR_kappa_B[R32,bmimpf6]  \\\n",
      "fs.properties.PR_kappa_A[R32,bmimpf6]                              -0.000179   \n",
      "fs.properties.PR_kappa_A[bmimpf6,R32]                              -0.000966   \n",
      "fs.properties.PR_kappa_B[R32,bmimpf6]                               0.000164   \n",
      "fs.properties.PR_kappa_B[bmimpf6,R32]                               0.000879   \n",
      "\n",
      "                                       fs.properties.PR_kappa_B[bmimpf6,R32]  \n",
      "fs.properties.PR_kappa_A[R32,bmimpf6]                              -0.000959  \n",
      "fs.properties.PR_kappa_A[bmimpf6,R32]                              -0.005178  \n",
      "fs.properties.PR_kappa_B[R32,bmimpf6]                               0.000879  \n",
      "fs.properties.PR_kappa_B[bmimpf6,R32]                               0.004782  \n"
     ]
    }
   ],
   "source": [
    "parameters, obj_value, a = linear(data_full, configuration, 'R32', 'bmimpf6', \"x_R32\", \"x_bmimpf6\", \n",
    "    init_temp =  283.1, init_press =   399300 , init_x_c1 =    0.448, init_x_c2 = 0.552,\n",
    "    init_kappa_2_1A = -0.001, init_kappa_1_2A = -0.001,\n",
    "    init_kappa_2_1B = -0.01, init_kappa_1_2B = -0.01, eps = 0.1, scaling_fac = 1e-9)"
   ]
  },
  {
   "cell_type": "code",
   "execution_count": 7,
   "id": "basic-preserve",
   "metadata": {},
   "outputs": [
    {
     "name": "stdout",
     "output_type": "stream",
     "text": [
      "Objective (SSE): 0.17627581649146642\n"
     ]
    }
   ],
   "source": [
    "print('Objective (SSE):',obj_value)"
   ]
  },
  {
   "cell_type": "code",
   "execution_count": 8,
   "id": "governmental-nudist",
   "metadata": {},
   "outputs": [
    {
     "name": "stdout",
     "output_type": "stream",
     "text": [
      "Covariance Matrix:\n",
      "[[ 0.00019681  0.00106226 -0.00017892 -0.00095887]\n",
      " [ 0.00106226  0.00573363 -0.00096581 -0.00517786]\n",
      " [-0.00017892 -0.00096581  0.00016351  0.00087906]\n",
      " [-0.00095887 -0.00517786  0.00087906  0.00478214]]\n"
     ]
    }
   ],
   "source": [
    "cov = np.array(a)\n",
    "print('Covariance Matrix:')\n",
    "print(cov)"
   ]
  },
  {
   "cell_type": "code",
   "execution_count": 9,
   "id": "c4328a0b",
   "metadata": {},
   "outputs": [],
   "source": [
    "np.savetxt('Data/Covariance/PR_Cov_4parameter.csv',cov,delimiter=',')"
   ]
  },
  {
   "cell_type": "markdown",
   "id": "aging-authentication",
   "metadata": {},
   "source": [
    "## Apply Parameters + Plot"
   ]
  },
  {
   "cell_type": "code",
   "execution_count": 10,
   "id": "endangered-gibraltar",
   "metadata": {},
   "outputs": [],
   "source": [
    "solver = SolverFactory('ipopt')\n",
    "solver.options = {'tol': 1e-6}"
   ]
  },
  {
   "cell_type": "code",
   "execution_count": 11,
   "id": "royal-switch",
   "metadata": {},
   "outputs": [
    {
     "name": "stdout",
     "output_type": "stream",
     "text": [
      "0.974\n",
      "0.894\n",
      "0.729\n",
      "0.572\n",
      "0.442\n",
      "0.35\n",
      "0.185\n",
      "0.982\n",
      "0.924\n",
      "0.81\n",
      "0.703\n",
      "0.61\n",
      "0.525\n",
      "0.448\n",
      "0.372\n",
      "0.994\n",
      "0.953\n",
      "0.887\n",
      "0.826\n",
      "0.769\n",
      "0.715\n",
      "0.665\n",
      "0.618\n",
      "0.997\n",
      "0.971\n",
      "0.93\n",
      "0.891\n",
      "0.854\n",
      "0.818\n",
      "0.786\n",
      "0.752\n"
     ]
    }
   ],
   "source": [
    "m = ConcreteModel()\n",
    "\n",
    "m.fs = FlowsheetBlock(default={\"dynamic\": False})\n",
    "\n",
    "m.fs.properties = GenericParameterBlock(default=configuration)\n",
    "\n",
    "m.fs.F101 = Flash(default={\"property_package\": m.fs.properties,\n",
    "                           \"has_heat_transfer\": True,\n",
    "                           \"has_pressure_change\": True})\n",
    "\n",
    "m.fs.F101.inlet.flow_mol.fix(1)\n",
    "m.fs.F101.inlet.temperature.fix(323.15)\n",
    "m.fs.F101.inlet.pressure.fix(399800)\n",
    "m.fs.F101.inlet.mole_frac_comp[0,'R32'].fix(0.5)\n",
    "\n",
    "m.fs.properties.PR_kappa_A['R32','bmimpf6'] = parameters['fs.properties.PR_kappa_A[R32,bmimpf6]']\n",
    "m.fs.properties.PR_kappa_A['bmimpf6','R32'] = parameters['fs.properties.PR_kappa_A[bmimpf6,R32]']\n",
    "m.fs.properties.PR_kappa_B['R32','bmimpf6'] = parameters['fs.properties.PR_kappa_B[R32,bmimpf6]']\n",
    "m.fs.properties.PR_kappa_B['bmimpf6','R32'] = parameters['fs.properties.PR_kappa_B[bmimpf6,R32]']\n",
    "\n",
    "# Initialize the flash unit\n",
    "m.fs.F101.initialize(outlvl=idaeslog.CRITICAL)\n",
    "\n",
    "# Fix the state variables on the state block\n",
    "# m.fs.F101.inlet.pressure.unfix()\n",
    "m.fs.F101.inlet.mole_frac_comp[0,'bmimpf6'].unfix()\n",
    "\n",
    "R32_x = np.zeros((len(data_full)))\n",
    "P = np.zeros((len(data_full)))\n",
    "\n",
    "m.fs.liq = Param(mutable=True,default=0.040)\n",
    "m.fs.liquid = Constraint(expr=m.fs.F101.liq_outlet.mole_frac_comp[0, \"bmimpf6\"] == m.fs.liq)\n",
    "\n",
    "for i in range(len(data_full)):\n",
    "    m.fs.liq = data_full[\"x_bmimpf6\"].iloc[i]\n",
    "    m.fs.F101.inlet.temperature.fix(float(data_full[\"temperature\"].iloc[i]))\n",
    "    m.fs.F101.inlet.pressure.fix(float(data_full[\"pressure\"].iloc[i]))\n",
    "    m.fs.F101.inlet.mole_frac_comp[0,'R32'].fix(float(data_full[\"x_R32\"].iloc[i])+0.1)\n",
    "    m.fs.F101.inlet.mole_frac_comp[0,'bmimpf6'].fix(float(1-(data_full[\"x_R32\"].iloc[i]+0.1)))\n",
    "    m.fs.F101.vap_outlet.temperature.fix(float(data_full[\"temperature\"].iloc[i]))\n",
    "    \n",
    "#     DOF_final = degrees_of_freedom(m)\n",
    "#     print(\"The final DOF is {0}\".format(DOF_final))\n",
    "    m.fs.F101.initialize(outlvl=idaeslog.CRITICAL)\n",
    "    \n",
    "    status = solver.solve(m, tee = False)\n",
    "\n",
    "#     m.fs.F101.report()\n",
    "    if (status.solver.status == SolverStatus.ok) and (status.solver.termination_condition == TerminationCondition.optimal):\n",
    "        print(data_full[\"x_bmimpf6\"].iloc[i])\n",
    "        R32_x[i] = value(m.fs.F101.liq_outlet.mole_frac_comp[0,'R32']) \n",
    "        P[i] = value(m.fs.F101.vap_outlet.pressure[0])\n",
    "\n",
    "    else:\n",
    "        print('Infeasible.')"
   ]
  },
  {
   "cell_type": "code",
   "execution_count": 12,
   "id": "c53672a6",
   "metadata": {},
   "outputs": [],
   "source": [
    "fitted_data = pd.DataFrame(data=[R32_x,P/1e6])\n",
    "fitted_data = fitted_data.T\n",
    "fitted_data.columns = ['R32_x','P, MPa']\n",
    "fitted_data.to_csv('Data/Fits/PR_FittedData_4parameter.csv')"
   ]
  },
  {
   "cell_type": "code",
   "execution_count": 13,
   "id": "religious-joining",
   "metadata": {},
   "outputs": [
    {
     "data": {
      "image/png": "[encoded data removed]",
      "text/plain": [
       "<Figure size 432x288 with 1 Axes>"
      ]
     },
     "metadata": {
      "needs_background": "light"
     },
     "output_type": "display_data"
    }
   ],
   "source": [
    "P1= np.zeros((len(P)))\n",
    "\n",
    "for i in range(len(P)):\n",
    "    P1[i] = P[i]/1e6\n",
    "\n",
    "fig, ax = plt.subplots()\n",
    "\n",
    "ax.plot(R32_x[0:7],P1[0:7],\"b*-\",label=\"T= 283 K\")  \n",
    "ax.plot(R32_x[7:15],P1[7:15],\"r*-\",label=\"T= 298 K\") \n",
    "ax.plot(R32_x[15:23],P1[15:23],\"c*-\",label=\"T= 323 K\") \n",
    "ax.plot(R32_x[23:31],P1[23:31],\"m-*\",label=\"T= 348 K\")\n",
    "ax.plot(data_full[\"x_R32\"],data_full[\"pressure\"]/1e6,\"*\",color='orange',label=\"data\")  \n",
    "\n",
    "# plt.title('Isotherm R32-[emim][TF2N]')\n",
    "ax.set_ylabel('Pressure, MPa',fontsize=24)\n",
    "ax.set_xlabel('HFC-32 Mole Fraction',fontsize=24)\n",
    "\n",
    "ax.set_xticks([0.0, 0.2, 0.4, 0.6, 0.8, 1.0])\n",
    "ax.set_xticks([0.1, 0.3, 0.5, 0.7, 0.9],minor=True)\n",
    "ax.set_yticks([0.0, 0.2, 0.4, 0.6, 0.8, 1.0, 1.2])\n",
    "ax.set_yticks([0.1, 0.3, 0.5, 0.7, 0.9, 1.1],minor=True)\n",
    "\n",
    "ax.tick_params(\"both\", direction=\"in\", which=\"both\", length=4, labelsize=20, pad=10)\n",
    "ax.tick_params(\"both\", which=\"major\", length=8)\n",
    "ax.xaxis.set_ticks_position(\"both\")\n",
    "ax.yaxis.set_ticks_position(\"both\")\n",
    "\n",
    "ax.legend(fontsize=12, handletextpad=0.00, loc=\"lower right\")#, bbox_to_anchor=(1, 0.5))\n",
    "fig.savefig('R32-bmimpf6-linTdep.pdf',bbox_inches='tight')\n",
    "plt.show()"
   ]
  },
  {
   "cell_type": "markdown",
   "id": "vanilla-chapel",
   "metadata": {},
   "source": [
    "### Print Eigvals, Eigvectors\n",
    "\n",
    "An identifiability analysis can be performed with these as well as a FIM because the covariance matrix is the inverse of the FIM. That means that if there are any eigvals > 0, their eigvecs indicate directions of un-identifiability."
   ]
  },
  {
   "cell_type": "code",
   "execution_count": 14,
   "id": "focused-rotation",
   "metadata": {},
   "outputs": [],
   "source": [
    "eigvals, eigvecs = np.linalg.eig(cov)"
   ]
  },
  {
   "cell_type": "code",
   "execution_count": 15,
   "id": "indie-eclipse",
   "metadata": {},
   "outputs": [
    {
     "data": {
      "text/plain": [
       "array([1.08164928e-02, 5.92167909e-05, 2.04295590e-11, 3.73293492e-07])"
      ]
     },
     "execution_count": 15,
     "metadata": {},
     "output_type": "execute_result"
    }
   ],
   "source": [
    "eigvals"
   ]
  },
  {
   "cell_type": "code",
   "execution_count": 16,
   "id": "lightweight-october",
   "metadata": {},
   "outputs": [
    {
     "data": {
      "text/plain": [
       "array([[-0.13456408, -0.12642161,  0.9827208 ,  0.01303521],\n",
       "       [-0.72646126, -0.65319065, -0.18202295, -0.11164079],\n",
       "       [ 0.12279966,  0.02370478,  0.03301743, -0.9915988 ],\n",
       "       [ 0.66262115, -0.74618874, -0.00610942,  0.06401752]])"
      ]
     },
     "execution_count": 16,
     "metadata": {},
     "output_type": "execute_result"
    }
   ],
   "source": [
    "eigvecs"
   ]
  },
  {
   "cell_type": "code",
   "execution_count": 17,
   "id": "b4e31cab",
   "metadata": {},
   "outputs": [],
   "source": [
    "np.savetxt('Data/EigenAnalysis/PR_vals_4parameter.csv',eigvals,delimiter=',')\n",
    "np.savetxt('Data/EigenAnalysis/PR_vecs_4parameter.csv',eigvecs,delimiter=',')"
   ]
  },
  {
   "cell_type": "markdown",
   "id": "fitting-flooring",
   "metadata": {},
   "source": [
    "Conclusion: Full identifiable because all eigvals ~ 0"
   ]
  },
  {
   "cell_type": "markdown",
   "id": "suited-substance",
   "metadata": {},
   "source": [
    "## AIC Value\n",
    "\n",
    "See https://docs.google.com/document/d/1um0r2XK4ldjjy2colOqaZsEM3wIzGD6l_3B8gnpnI2I/edit# for equations"
   ]
  },
  {
   "cell_type": "markdown",
   "id": "united-equity",
   "metadata": {},
   "source": [
    "Other AIC - using SSR calculated in above parameter fitting"
   ]
  },
  {
   "cell_type": "code",
   "execution_count": 18,
   "id": "9336291c",
   "metadata": {},
   "outputs": [],
   "source": [
    "n=4"
   ]
  },
  {
   "cell_type": "code",
   "execution_count": 19,
   "id": "fourth-norfolk",
   "metadata": {},
   "outputs": [],
   "source": [
    "SSR_other = obj_value"
   ]
  },
  {
   "cell_type": "code",
   "execution_count": 20,
   "id": "according-present",
   "metadata": {},
   "outputs": [
    {
     "data": {
      "text/plain": [
       "0.044068954122866606"
      ]
     },
     "execution_count": 20,
     "metadata": {},
     "output_type": "execute_result"
    }
   ],
   "source": [
    "sigma_sq_other = SSR_other/n\n",
    "sigma_sq_other"
   ]
  },
  {
   "cell_type": "code",
   "execution_count": 21,
   "id": "passive-hardware",
   "metadata": {},
   "outputs": [
    {
     "data": {
      "text/plain": [
       "0.568245332359238"
      ]
     },
     "execution_count": 21,
     "metadata": {},
     "output_type": "execute_result"
    }
   ],
   "source": [
    "L_other = -n/2*np.log(2*np.pi) - n/2*np.log(sigma_sq_other) - 1/(2*sigma_sq_other)*SSR_other\n",
    "L_other"
   ]
  },
  {
   "cell_type": "code",
   "execution_count": 22,
   "id": "finite-pacific",
   "metadata": {},
   "outputs": [
    {
     "data": {
      "text/plain": [
       "6.863509335281524"
      ]
     },
     "execution_count": 22,
     "metadata": {},
     "output_type": "execute_result"
    }
   ],
   "source": [
    "AIC_other = 2*n - 2*L_other\n",
    "AIC_other"
   ]
  },
  {
   "cell_type": "code",
   "execution_count": 23,
   "id": "casual-princess",
   "metadata": {},
   "outputs": [],
   "source": [
    "AIC_data = pd.DataFrame(data=[n,obj_value,AIC_other])\n",
    "AIC_data = AIC_data.T\n",
    "AIC_data.columns = ['n','Objective, Pa^2','AIC']\n",
    "AIC_data.to_csv('Data/AIC/PR_AIC_4parameter.csv')"
   ]
  },
  {
   "cell_type": "code",
   "execution_count": null,
   "id": "8d5bb1c5",
   "metadata": {},
   "outputs": [],
   "source": []
  }
 ],
 "metadata": {
  "kernelspec": {
   "display_name": "Python 3 (ipykernel)",
   "language": "python",
   "name": "python3"
  },
  "language_info": {
   "codemirror_mode": {
    "name": "ipython",
    "version": 3
   },
   "file_extension": ".py",
   "mimetype": "text/x-python",
   "name": "python",
   "nbconvert_exporter": "python",
   "pygments_lexer": "ipython3",
   "version": "3.9.9"
  }
 },
 "nbformat": 4,
 "nbformat_minor": 5
}
