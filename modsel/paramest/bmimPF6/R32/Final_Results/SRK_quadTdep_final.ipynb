{
 "cells": [
  {
   "cell_type": "markdown",
   "id": "instructional-learning",
   "metadata": {},
   "source": [
    "# Fit bmimpf6 data\n",
    "\n",
    "EoS: SRK\n",
    "\n",
    "Parameter T dependence: Quadratic\n",
    "\n",
    "N (total fitting parameters): 6"
   ]
  },
  {
   "cell_type": "markdown",
   "id": "extended-rabbit",
   "metadata": {},
   "source": [
    "## Import Functions"
   ]
  },
  {
   "cell_type": "code",
   "execution_count": null,
   "id": "complicated-toronto",
   "metadata": {},
   "outputs": [],
   "source": [
    "import idaes\n",
    "\n",
    "import pandas as pd\n",
    "import numpy as np\n",
    "import matplotlib.pyplot as plt\n",
    "import scipy.optimize\n",
    "\n",
    "import sys\n",
    "sys.path.append('../../../')\n",
    "\n",
    "from pyomo.environ import (Constraint,\n",
    "                           Var,\n",
    "                           ConcreteModel,\n",
    "                           Expression,\n",
    "                           Param,\n",
    "                           Objective,\n",
    "                           SolverFactory,\n",
    "                           TransformationFactory,\n",
    "                           value)\n",
    "from pyomo.opt import TerminationCondition, SolverStatus\n",
    "\n",
    "from idaes.core import FlowsheetBlock\n",
    "import idaes.logger as idaeslog\n",
    "# Import the Generic Parameter Block\n",
    "from idaes.generic_models.properties.core.generic.generic_property import (\n",
    "        GenericParameterBlock)\n",
    "# Import unit models from the model library\n",
    "from idaes.generic_models.unit_models import Flash\n",
    "# Import degrees of freedom tool\n",
    "from idaes.core.util.model_statistics import degrees_of_freedom\n",
    "\n",
    "# parmest (binary_param2)\n",
    "from bip_fitting_functions_SRK import cuadratic\n",
    "\n",
    "import scipy.stats as stats"
   ]
  },
  {
   "cell_type": "markdown",
   "id": "potential-awareness",
   "metadata": {},
   "source": [
    "## Load Data"
   ]
  },
  {
   "cell_type": "code",
   "execution_count": null,
   "id": "latest-artist",
   "metadata": {},
   "outputs": [],
   "source": [
    "data_full = pd.read_csv('../r32_bmimpf6_full.csv')\n",
    "data_subset = pd.read_csv('../r32_bmimpf6_subset.csv')\n",
    "data_extended = pd.read_csv('../r32-bmimpf6-extended.csv')"
   ]
  },
  {
   "cell_type": "markdown",
   "id": "superior-attendance",
   "metadata": {},
   "source": [
    "## Load Configuration + Check DOF + Load Parameters"
   ]
  },
  {
   "cell_type": "code",
   "execution_count": null,
   "id": "76d2fb99",
   "metadata": {},
   "outputs": [],
   "source": [
    "lhs_results1 = pd.read_csv('../Data/Fits/LHS_Fits/SRK_quadTdep_LHS_.csv',index_col=0)\n",
    "lhs_results1 = lhs_results1[['sc_param1','sc_param2','sc_param3','sc_param4','sc_param5','sc_param6','SSR']]\n",
    "\n",
    "lhs_results2 = pd.read_csv('Data/Init_Final/LHS_Output/SRK_quadTdep_LHS_final.csv',index_col=0)\n",
    "lhs_results2 = lhs_results2[['sc_param1','sc_param2','sc_param3','sc_param4','sc_param5','sc_param6','SSR']]\n",
    "\n",
    "lhs_results = pd.concat([lhs_results1,lhs_results2],axis=0).reset_index(drop=True)"
   ]
  },
  {
   "cell_type": "code",
   "execution_count": null,
   "id": "f3634a0d",
   "metadata": {},
   "outputs": [],
   "source": [
    "lhs_results.dropna(axis=0)"
   ]
  },
  {
   "cell_type": "code",
   "execution_count": null,
   "id": "3dc30acb",
   "metadata": {},
   "outputs": [],
   "source": [
    "lhs_best = lhs_results[lhs_results.SSR == lhs_results.SSR.min()]\n",
    "lhs_best"
   ]
  },
  {
   "cell_type": "code",
   "execution_count": null,
   "id": "54e88c64",
   "metadata": {},
   "outputs": [],
   "source": [
    "sc_param1 = lhs_results.at[227, 'sc_param1']\n",
    "sc_param2 = lhs_results.at[227, 'sc_param2']\n",
    "sc_param3 = lhs_results.at[227, 'sc_param3']\n",
    "sc_param4 = lhs_results.at[227, 'sc_param4']\n",
    "sc_param5 = lhs_results.at[227, 'sc_param5']\n",
    "sc_param6 = lhs_results.at[227, 'sc_param6']"
   ]
  },
  {
   "cell_type": "code",
   "execution_count": null,
   "id": "binding-cattle",
   "metadata": {},
   "outputs": [],
   "source": [
    "from hfc32_bmimpf6_SRK import configuration "
   ]
  },
  {
   "cell_type": "code",
   "execution_count": null,
   "id": "backed-diving",
   "metadata": {},
   "outputs": [],
   "source": [
    "m = ConcreteModel()\n",
    "m.fs = FlowsheetBlock(default={\"dynamic\": False})\n",
    "m.fs.properties = GenericParameterBlock(default=configuration)\n",
    "m.fs.F101 = Flash(default={\"property_package\": m.fs.properties,\n",
    "                           \"has_heat_transfer\": True,\n",
    "                           \"has_pressure_change\": True})\n",
    "DOF_initial = degrees_of_freedom(m)\n",
    "print('The initial DOF is {0}'.format(DOF_initial))"
   ]
  },
  {
   "cell_type": "markdown",
   "id": "conventional-health",
   "metadata": {},
   "source": [
    "## Fit Parameters"
   ]
  },
  {
   "cell_type": "code",
   "execution_count": null,
   "id": "sensitive-secondary",
   "metadata": {},
   "outputs": [],
   "source": [
    "parameters, obj_value, a = cuadratic(data_subset, configuration, 'R32', 'bmimpf6', \"x_R32\", \"x_bmimpf6\", \n",
    "        init_temp =  283.1, init_press =   399300 , init_x_c1 =    0.448, init_x_c2 = 0.552,\n",
    "        init_kappa_2_1A = sc_param1, init_kappa_1_2A = sc_param2, \n",
    "        init_kappa_2_1B = sc_param3, init_kappa_1_2B = sc_param4,\n",
    "        init_kappa_2_1C = sc_param5, init_kappa_1_2C = sc_param6,\n",
    "        eps = 0.1, scaling_fac = 1e-7, \n",
    "        filename='Data/Fits/Ipopt_Output/SRK_quadTdep_final.txt')"
   ]
  },
  {
   "cell_type": "code",
   "execution_count": null,
   "id": "basic-preserve",
   "metadata": {},
   "outputs": [],
   "source": [
    "print('Objective (SSE):',obj_value)"
   ]
  },
  {
   "cell_type": "code",
   "execution_count": null,
   "id": "e40599a7",
   "metadata": {},
   "outputs": [],
   "source": [
    "print('Parameters:',parameters)"
   ]
  },
  {
   "cell_type": "code",
   "execution_count": null,
   "id": "4053788c",
   "metadata": {},
   "outputs": [],
   "source": [
    "params2save = np.zeros(8)\n",
    "params2save[0] = parameters[1]\n",
    "params2save[1] = parameters[0]\n",
    "params2save[2] = parameters[3]\n",
    "params2save[3] = parameters[2]\n",
    "params2save[4] = parameters[5]\n",
    "params2save[5] = parameters[4]"
   ]
  },
  {
   "cell_type": "code",
   "execution_count": null,
   "id": "f3de81ac",
   "metadata": {},
   "outputs": [],
   "source": [
    "np.savetxt('Data/Fits/SRK_params_quadTdep.csv',params2save,delimiter=',')"
   ]
  },
  {
   "cell_type": "code",
   "execution_count": null,
   "id": "governmental-nudist",
   "metadata": {},
   "outputs": [],
   "source": [
    "cov = np.array(a)\n",
    "print('Covariance Matrix:')\n",
    "print(cov)"
   ]
  },
  {
   "cell_type": "code",
   "execution_count": null,
   "id": "f3e17afb",
   "metadata": {},
   "outputs": [],
   "source": [
    "np.savetxt('Data/Covariance/SRK_Cov_quadTdep.csv',cov,delimiter=',')"
   ]
  },
  {
   "cell_type": "markdown",
   "id": "aging-authentication",
   "metadata": {},
   "source": [
    "## Apply Parameters + Plot"
   ]
  },
  {
   "cell_type": "code",
   "execution_count": null,
   "id": "endangered-gibraltar",
   "metadata": {},
   "outputs": [],
   "source": [
    "solver = SolverFactory('ipopt')\n",
    "solver.options = {'tol': 1e-6}"
   ]
  },
  {
   "cell_type": "code",
   "execution_count": null,
   "id": "81d73417",
   "metadata": {},
   "outputs": [],
   "source": [
    "m = ConcreteModel()\n",
    "\n",
    "m.fs = FlowsheetBlock(default={\"dynamic\": False})\n",
    "\n",
    "m.fs.properties = GenericParameterBlock(default=configuration)\n",
    "\n",
    "m.fs.F101 = Flash(default={\"property_package\": m.fs.properties,\n",
    "                           \"has_heat_transfer\": True,\n",
    "                           \"has_pressure_change\": True})\n",
    "\n",
    "m.fs.F101.inlet.flow_mol.fix(1)\n",
    "m.fs.F101.inlet.temperature.fix(323.15)\n",
    "m.fs.F101.inlet.pressure.fix(399800)\n",
    "m.fs.F101.inlet.mole_frac_comp[0,'R32'].fix(0.5)\n",
    "\n",
    "m.fs.properties.SRK_kappa_A['R32','bmimpf6'] = parameters['fs.properties.SRK_kappa_A[R32,bmimpf6]']\n",
    "m.fs.properties.SRK_kappa_A['bmimpf6','R32'] = parameters['fs.properties.SRK_kappa_A[bmimpf6,R32]']\n",
    "m.fs.properties.SRK_kappa_B['R32','bmimpf6'] = parameters['fs.properties.SRK_kappa_B[R32,bmimpf6]']\n",
    "m.fs.properties.SRK_kappa_B['bmimpf6','R32'] = parameters['fs.properties.SRK_kappa_B[bmimpf6,R32]']\n",
    "m.fs.properties.SRK_kappa_C['R32','bmimpf6'] = parameters['fs.properties.SRK_kappa_C[R32,bmimpf6]']\n",
    "m.fs.properties.SRK_kappa_C['bmimpf6','R32'] = parameters['fs.properties.SRK_kappa_C[bmimpf6,R32]']\n",
    "\n",
    "# Initialize the flash unit\n",
    "m.fs.F101.initialize(outlvl=idaeslog.CRITICAL)\n",
    "\n",
    "# Fix the state variables on the state block\n",
    "# m.fs.F101.inlet.pressure.unfix()\n",
    "m.fs.F101.inlet.mole_frac_comp[0,'bmimpf6'].unfix()\n",
    "\n",
    "R32_x = np.zeros((len(data_extended)))\n",
    "P = np.zeros((len(data_extended)))\n",
    "T = np.zeros((len(data_extended)))\n",
    "\n",
    "m.fs.liq = Param(mutable=True,default=0.040)\n",
    "m.fs.liquid = Constraint(expr=m.fs.F101.liq_outlet.mole_frac_comp[0, \"bmimpf6\"] == m.fs.liq)\n",
    "\n",
    "for i in range(len(data_extended)):\n",
    "    print('i:',i)\n",
    "    print('Try x_IL:',data_extended[\"x_bmimpf6\"].iloc[i])\n",
    "    m.fs.liq = data_extended[\"x_bmimpf6\"].iloc[i]\n",
    "    m.fs.F101.inlet.temperature.fix(float(data_extended[\"temperature\"].iloc[i]))\n",
    "    m.fs.F101.inlet.pressure.fix(float(data_extended[\"pressure\"].iloc[i]))\n",
    "    m.fs.F101.inlet.mole_frac_comp[0,'R32'].fix(float(data_extended[\"x_R32\"].iloc[i])+0.1)\n",
    "    m.fs.F101.inlet.mole_frac_comp[0,'bmimpf6'].fix(float(1-(data_extended[\"x_R32\"].iloc[i]+0.1)))\n",
    "    m.fs.F101.vap_outlet.temperature.fix(float(data_extended[\"temperature\"].iloc[i]))\n",
    "    \n",
    "    try:\n",
    "        m.fs.F101.initialize(outlvl=idaeslog.CRITICAL)\n",
    "        \n",
    "    except:\n",
    "        print('Initialization Error')\n",
    "        \n",
    "    try:\n",
    "\n",
    "        status = solver.solve(m, tee = False)\n",
    "        \n",
    "        if (status.solver.status == SolverStatus.ok) and (status.solver.termination_condition == TerminationCondition.optimal):\n",
    "            print('Feasible/Optimal Solution')\n",
    "            R32_x[i] = value(m.fs.F101.liq_outlet.mole_frac_comp[0,'R32']) \n",
    "            P[i] = value(m.fs.F101.vap_outlet.pressure[0])\n",
    "            T[i] = data_extended[\"temperature\"].iloc[i]\n",
    "        else:\n",
    "            print('Infeasible Solution')\n",
    "            R32_x[i] = np.nan\n",
    "            P[i] = np.nan\n",
    "            T[i] = data_extended[\"temperature\"].iloc[i]\n",
    "            \n",
    "    except ValueError:\n",
    "        R32_x[i] = np.nan\n",
    "        P[i] = np.nan\n",
    "        T[i] = data_extended[\"temperature\"].iloc[i]\n",
    "        print('Solver Error')"
   ]
  },
  {
   "cell_type": "code",
   "execution_count": null,
   "id": "337a753d",
   "metadata": {},
   "outputs": [],
   "source": [
    "fitted_data = pd.DataFrame(data=[R32_x,P/1e6,T])\n",
    "fitted_data = fitted_data.T\n",
    "fitted_data.columns = ['R32_x','P, MPa','T, K']\n",
    "fitted_data.to_csv('Data/Fits/SRK_FittedData_quadTdep.csv')"
   ]
  },
  {
   "cell_type": "code",
   "execution_count": null,
   "id": "religious-joining",
   "metadata": {},
   "outputs": [],
   "source": [
    "plt.plot(fitted_data.where(fitted_data['T, K']==283.2)['R32_x'],fitted_data.where(fitted_data['T, K']==283.2)['P, MPa'],\"b-\",label='T=283 K')\n",
    "plt.plot(fitted_data.where(fitted_data['T, K']==298.1)['R32_x'],fitted_data.where(fitted_data['T, K']==298.1)['P, MPa'],\"r-\",label='T=298 K')\n",
    "plt.plot(fitted_data.where(fitted_data['T, K']==323.1)['R32_x'],fitted_data.where(fitted_data['T, K']==323.1)['P, MPa'],\"c-\",label='T=323 K')\n",
    "plt.plot(fitted_data.where(fitted_data['T, K']==348.1)['R32_x'],fitted_data.where(fitted_data['T, K']==348.1)['P, MPa'],\"m-\",label='T=348 K')\n",
    "plt.plot(data_full[\"x_R32\"],data_full[\"pressure\"]/1e6,\"*\",color='orange',label=\"data\")  \n",
    "plt.title('Isotherm R32-[bmim][pf6]')\n",
    "plt.ylabel('Pressure (MPa)')\n",
    "plt.xlabel('x R32')\n",
    "plt.grid(True)\n",
    "plt.ylim(0,1.110000)\n",
    "plt.legend()\n",
    "plt.show()"
   ]
  },
  {
   "cell_type": "markdown",
   "id": "graduate-addiction",
   "metadata": {},
   "source": [
    "### Print Eigvals, Eigvectors\n",
    "\n",
    "An identifiability analysis can be performed with these as well as a FIM because the covariance matrix is the inverse of the FIM. That means that if there are any eigvals > 0, their eigvecs indicate directions of un-identifiability."
   ]
  },
  {
   "cell_type": "code",
   "execution_count": null,
   "id": "convinced-terrain",
   "metadata": {},
   "outputs": [],
   "source": [
    "eigvals, eigvecs = np.linalg.eig(cov)"
   ]
  },
  {
   "cell_type": "code",
   "execution_count": null,
   "id": "standing-startup",
   "metadata": {},
   "outputs": [],
   "source": [
    "eigvals"
   ]
  },
  {
   "cell_type": "code",
   "execution_count": null,
   "id": "minor-relay",
   "metadata": {},
   "outputs": [],
   "source": [
    "eigvecs"
   ]
  },
  {
   "cell_type": "code",
   "execution_count": null,
   "id": "e7717281",
   "metadata": {},
   "outputs": [],
   "source": [
    "np.savetxt('Data/EigenAnalysis/SRK_vals_quadTdep.csv',eigvals,delimiter=',')\n",
    "np.savetxt('Data/EigenAnalysis/SRK_vecs_quadTdep.csv',eigvecs,delimiter=',')"
   ]
  },
  {
   "cell_type": "code",
   "execution_count": null,
   "id": "481f0379",
   "metadata": {},
   "outputs": [],
   "source": [
    "FIM = np.linalg.inv(cov) \n",
    "\n",
    "#A_opt\n",
    "FIM_trace = np.trace(FIM)\n",
    "cov_trace = np.trace(cov)\n",
    "\n",
    "#D_opt\n",
    "FIM_det = np.linalg.det(FIM)\n",
    "\n",
    "#E_opt\n",
    "eigvals_FIM, eigvecs_FIM = np.linalg.eig(FIM)\n",
    "eigvals_FIM_min = eigvals_FIM.min()\n",
    "eigvals_FIM_max = eigvals_FIM.max()\n",
    "\n",
    "np.savetxt('Data/EigenAnalysis/SRK_FIMtrdet_quadTdep.csv',[cov_trace,FIM_trace,FIM_det,eigvals_FIM_min,eigvals_FIM_max])\n",
    "np.savetxt('Data/EigenAnalysis/SRK_FIMvals_quadTdep.csv',eigvals_FIM,delimiter=',')\n",
    "np.savetxt('Data/EigenAnalysis/SRK_FIMvecs_quadTdep.csv',eigvecs_FIM,delimiter=',')"
   ]
  },
  {
   "cell_type": "markdown",
   "id": "injured-karen",
   "metadata": {},
   "source": [
    "## AIC Value\n",
    "\n",
    "See: https://doi.org/10.1080/21642583.2018.1496042\n",
    "\n",
    "AIC(k) = Nln(MSE(k))+2k\n",
    "\n",
    "N: number of data points\n",
    "\n",
    "MSE(k): mean squared error of the model with k parameters\n",
    "\n",
    "k: number of parameters\n",
    "\n",
    "MSE(k) = SSE(k)/N\n",
    "\n",
    "SSE: sum of squared error of the model with k parameters"
   ]
  },
  {
   "cell_type": "code",
   "execution_count": null,
   "id": "dcec85f9",
   "metadata": {},
   "outputs": [],
   "source": [
    "#number of datapoints\n",
    "N = len(data_subset)\n",
    "#MSE(k)\n",
    "MSE = obj_value*1E-2/N\n",
    "#number of parameters\n",
    "k = 6"
   ]
  },
  {
   "cell_type": "code",
   "execution_count": null,
   "id": "solar-thermal",
   "metadata": {},
   "outputs": [],
   "source": [
    "AIC = N*np.log(MSE) + 2*k\n",
    "AIC"
   ]
  },
  {
   "cell_type": "code",
   "execution_count": null,
   "id": "geological-pattern",
   "metadata": {},
   "outputs": [],
   "source": [
    "AIC_data = pd.DataFrame(data=[N,MSE,k,obj_value,AIC])\n",
    "AIC_data = AIC_data.T\n",
    "AIC_data.columns = ['N','MSE','k','Objective, Pa^2','AIC']\n",
    "AIC_data.to_csv('Data/AIC/SRK_AIC_quadTdep.csv')"
   ]
  },
  {
   "cell_type": "code",
   "execution_count": null,
   "id": "7bbeed96",
   "metadata": {},
   "outputs": [],
   "source": []
  }
 ],
 "metadata": {
  "kernelspec": {
   "display_name": "Python 3 (ipykernel)",
   "language": "python",
   "name": "python3"
  },
  "language_info": {
   "codemirror_mode": {
    "name": "ipython",
    "version": 3
   },
   "file_extension": ".py",
   "mimetype": "text/x-python",
   "name": "python",
   "nbconvert_exporter": "python",
   "pygments_lexer": "ipython3",
   "version": "3.9.9"
  }
 },
 "nbformat": 4,
 "nbformat_minor": 5
}
