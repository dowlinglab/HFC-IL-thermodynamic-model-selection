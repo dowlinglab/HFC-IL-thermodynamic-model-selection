{
 "cells": [
  {
   "cell_type": "markdown",
   "id": "voluntary-ridge",
   "metadata": {},
   "source": [
    "# Fit bmimpf6 data\n",
    "\n",
    "EoS: SRK\n",
    "\n",
    "Parameter T dependence: Constant, 1 parameter - bmimpf6,r32 pair\n",
    "\n",
    "N (total fitting parameters): 1"
   ]
  },
  {
   "cell_type": "markdown",
   "id": "improved-meeting",
   "metadata": {},
   "source": [
    "## Import Functions"
   ]
  },
  {
   "cell_type": "code",
   "execution_count": 1,
   "id": "contained-performance",
   "metadata": {},
   "outputs": [],
   "source": [
    "import idaes\n",
    "\n",
    "import pandas as pd\n",
    "import numpy as np\n",
    "import matplotlib.pyplot as plt\n",
    "import scipy.optimize\n",
    "\n",
    "import sys\n",
    "sys.path.append('../../../')\n",
    "\n",
    "from pyomo.environ import (Constraint,\n",
    "                           Var,\n",
    "                           ConcreteModel,\n",
    "                           Expression,\n",
    "                           Param,\n",
    "                           Objective,\n",
    "                           SolverFactory,\n",
    "                           TransformationFactory,\n",
    "                           value)\n",
    "from pyomo.opt import TerminationCondition, SolverStatus\n",
    "\n",
    "from idaes.core import FlowsheetBlock\n",
    "import idaes.logger as idaeslog\n",
    "# Import the Generic Parameter Block\n",
    "from idaes.generic_models.properties.core.generic.generic_property import (\n",
    "        GenericParameterBlock)\n",
    "# Import unit models from the model library\n",
    "from idaes.generic_models.unit_models import Flash\n",
    "# Import degrees of freedom tool\n",
    "from idaes.core.util.model_statistics import degrees_of_freedom\n",
    "\n",
    "# parmest (binary_param2)\n",
    "from bip_fitting_functions_SRK import constant\n",
    "\n",
    "import scipy.stats as stats"
   ]
  },
  {
   "cell_type": "markdown",
   "id": "judicial-calculator",
   "metadata": {},
   "source": [
    "## Load Data"
   ]
  },
  {
   "cell_type": "code",
   "execution_count": 2,
   "id": "technological-freeze",
   "metadata": {},
   "outputs": [],
   "source": [
    "data_full = pd.read_csv('../r32_bmimpf6_full.csv')\n",
    "data_subset = pd.read_csv('../r32_bmimpf6_subset.csv')\n",
    "data_extended = pd.read_csv('../r32-bmimpf6-extended.csv')"
   ]
  },
  {
   "cell_type": "markdown",
   "id": "swiss-sphere",
   "metadata": {},
   "source": [
    "## Load Configuration + Check DOF + Load Parameters"
   ]
  },
  {
   "cell_type": "code",
   "execution_count": 3,
   "id": "fa143dda",
   "metadata": {},
   "outputs": [],
   "source": [
    "lhs_results1 = pd.read_csv('../Data/Fits/LHS_Fits/SRK_1param_Opt2_LHS.csv',index_col=0)\n",
    "lhs_results1 = lhs_results1[['sc_param1','SSR']]\n",
    "\n",
    "lhs_results2 = pd.read_csv('Data/Init_Final/LHS_Output/SRK_1param_Opt2_LHS_final.csv',index_col=0)\n",
    "lhs_results2 = lhs_results2[['sc_param1','SSR']]\n",
    "\n",
    "lhs_results = pd.concat([lhs_results1,lhs_results2],axis=0).reset_index(drop=True)"
   ]
  },
  {
   "cell_type": "code",
   "execution_count": 4,
   "id": "b1370a94",
   "metadata": {},
   "outputs": [
    {
     "data": {
      "text/html": [
       "<div>\n",
       "<style scoped>\n",
       "    .dataframe tbody tr th:only-of-type {\n",
       "        vertical-align: middle;\n",
       "    }\n",
       "\n",
       "    .dataframe tbody tr th {\n",
       "        vertical-align: top;\n",
       "    }\n",
       "\n",
       "    .dataframe thead th {\n",
       "        text-align: right;\n",
       "    }\n",
       "</style>\n",
       "<table border=\"1\" class=\"dataframe\">\n",
       "  <thead>\n",
       "    <tr style=\"text-align: right;\">\n",
       "      <th></th>\n",
       "      <th>sc_param1</th>\n",
       "      <th>SSR</th>\n",
       "    </tr>\n",
       "  </thead>\n",
       "  <tbody>\n",
       "    <tr>\n",
       "      <th>255</th>\n",
       "      <td>-0.042122</td>\n",
       "      <td>23.158027</td>\n",
       "    </tr>\n",
       "    <tr>\n",
       "      <th>291</th>\n",
       "      <td>-0.007210</td>\n",
       "      <td>23.158023</td>\n",
       "    </tr>\n",
       "    <tr>\n",
       "      <th>308</th>\n",
       "      <td>-0.026199</td>\n",
       "      <td>23.158023</td>\n",
       "    </tr>\n",
       "    <tr>\n",
       "      <th>328</th>\n",
       "      <td>-0.080116</td>\n",
       "      <td>21.981678</td>\n",
       "    </tr>\n",
       "    <tr>\n",
       "      <th>490</th>\n",
       "      <td>-0.045671</td>\n",
       "      <td>21.981680</td>\n",
       "    </tr>\n",
       "    <tr>\n",
       "      <th>...</th>\n",
       "      <td>...</td>\n",
       "      <td>...</td>\n",
       "    </tr>\n",
       "    <tr>\n",
       "      <th>5007</th>\n",
       "      <td>-0.004190</td>\n",
       "      <td>21.981677</td>\n",
       "    </tr>\n",
       "    <tr>\n",
       "      <th>5011</th>\n",
       "      <td>-0.069579</td>\n",
       "      <td>21.981679</td>\n",
       "    </tr>\n",
       "    <tr>\n",
       "      <th>5149</th>\n",
       "      <td>-0.019253</td>\n",
       "      <td>23.158023</td>\n",
       "    </tr>\n",
       "    <tr>\n",
       "      <th>5205</th>\n",
       "      <td>-0.010536</td>\n",
       "      <td>23.158023</td>\n",
       "    </tr>\n",
       "    <tr>\n",
       "      <th>5208</th>\n",
       "      <td>-0.027006</td>\n",
       "      <td>23.158024</td>\n",
       "    </tr>\n",
       "  </tbody>\n",
       "</table>\n",
       "<p>139 rows × 2 columns</p>\n",
       "</div>"
      ],
      "text/plain": [
       "      sc_param1        SSR\n",
       "255   -0.042122  23.158027\n",
       "291   -0.007210  23.158023\n",
       "308   -0.026199  23.158023\n",
       "328   -0.080116  21.981678\n",
       "490   -0.045671  21.981680\n",
       "...         ...        ...\n",
       "5007  -0.004190  21.981677\n",
       "5011  -0.069579  21.981679\n",
       "5149  -0.019253  23.158023\n",
       "5205  -0.010536  23.158023\n",
       "5208  -0.027006  23.158024\n",
       "\n",
       "[139 rows x 2 columns]"
      ]
     },
     "execution_count": 4,
     "metadata": {},
     "output_type": "execute_result"
    }
   ],
   "source": [
    "lhs_results.dropna(axis=0)"
   ]
  },
  {
   "cell_type": "code",
   "execution_count": 5,
   "id": "d526f13b",
   "metadata": {},
   "outputs": [
    {
     "data": {
      "text/html": [
       "<div>\n",
       "<style scoped>\n",
       "    .dataframe tbody tr th:only-of-type {\n",
       "        vertical-align: middle;\n",
       "    }\n",
       "\n",
       "    .dataframe tbody tr th {\n",
       "        vertical-align: top;\n",
       "    }\n",
       "\n",
       "    .dataframe thead th {\n",
       "        text-align: right;\n",
       "    }\n",
       "</style>\n",
       "<table border=\"1\" class=\"dataframe\">\n",
       "  <thead>\n",
       "    <tr style=\"text-align: right;\">\n",
       "      <th></th>\n",
       "      <th>sc_param1</th>\n",
       "      <th>SSR</th>\n",
       "    </tr>\n",
       "  </thead>\n",
       "  <tbody>\n",
       "    <tr>\n",
       "      <th>2412</th>\n",
       "      <td>-0.055711</td>\n",
       "      <td>21.803458</td>\n",
       "    </tr>\n",
       "  </tbody>\n",
       "</table>\n",
       "</div>"
      ],
      "text/plain": [
       "      sc_param1        SSR\n",
       "2412  -0.055711  21.803458"
      ]
     },
     "execution_count": 5,
     "metadata": {},
     "output_type": "execute_result"
    }
   ],
   "source": [
    "lhs_best = lhs_results[lhs_results.SSR == lhs_results.SSR.min()]\n",
    "lhs_best"
   ]
  },
  {
   "cell_type": "code",
   "execution_count": 6,
   "id": "b6386a93",
   "metadata": {},
   "outputs": [],
   "source": [
    "sc_param1 = lhs_results.at[2412, 'sc_param1']"
   ]
  },
  {
   "cell_type": "code",
   "execution_count": 7,
   "id": "independent-layout",
   "metadata": {},
   "outputs": [],
   "source": [
    "from hfc32_bmimpf6_SRK import configuration "
   ]
  },
  {
   "cell_type": "code",
   "execution_count": 8,
   "id": "featured-nicholas",
   "metadata": {},
   "outputs": [
    {
     "name": "stdout",
     "output_type": "stream",
     "text": [
      "The initial DOF is 7\n"
     ]
    }
   ],
   "source": [
    "m = ConcreteModel()\n",
    "m.fs = FlowsheetBlock(default={\"dynamic\": False})\n",
    "m.fs.properties = GenericParameterBlock(default=configuration)\n",
    "m.fs.F101 = Flash(default={\"property_package\": m.fs.properties,\n",
    "                           \"has_heat_transfer\": True,\n",
    "                           \"has_pressure_change\": True})\n",
    "DOF_initial = degrees_of_freedom(m)\n",
    "print('The initial DOF is {0}'.format(DOF_initial))"
   ]
  },
  {
   "cell_type": "markdown",
   "id": "veterinary-first",
   "metadata": {},
   "source": [
    "## Fit Parameters"
   ]
  },
  {
   "cell_type": "code",
   "execution_count": 9,
   "id": "personal-parade",
   "metadata": {},
   "outputs": [
    {
     "name": "stdout",
     "output_type": "stream",
     "text": [
      "2022-09-19 12:15:20 [INFO] idaes.init.fs.state_block: Property package initialization: optimal - Optimal Solution Found.\n",
      "2022-09-19 12:15:20 [INFO] idaes.init.fs.state_block: Property package initialization: optimal - Optimal Solution Found.\n",
      "2022-09-19 12:15:21 [INFO] idaes.init.fs.state_block: Property package initialization: optimal - Optimal Solution Found.\n",
      "2022-09-19 12:15:21 [INFO] idaes.init.fs.state_block: Property package initialization: optimal - Optimal Solution Found.\n",
      "2022-09-19 12:15:21 [INFO] idaes.init.fs.state_block: Property package initialization: optimal - Optimal Solution Found.\n",
      "2022-09-19 12:15:22 [INFO] idaes.init.fs.state_block: Property package initialization: optimal - Optimal Solution Found.\n",
      "2022-09-19 12:15:22 [INFO] idaes.init.fs.state_block: Property package initialization: optimal - Optimal Solution Found.\n",
      "2022-09-19 12:15:22 [INFO] idaes.init.fs.state_block: Property package initialization: optimal - Optimal Solution Found.\n",
      "2022-09-19 12:15:23 [INFO] idaes.init.fs.state_block: Property package initialization: optimal - Optimal Solution Found.\n",
      "2022-09-19 12:15:23 [INFO] idaes.init.fs.state_block: Property package initialization: optimal - Optimal Solution Found.\n",
      "2022-09-19 12:15:24 [INFO] idaes.init.fs.state_block: Property package initialization: optimal - Optimal Solution Found.\n",
      "2022-09-19 12:15:24 [INFO] idaes.init.fs.state_block: Property package initialization: optimal - Optimal Solution Found.\n",
      "2022-09-19 12:15:24 [INFO] idaes.init.fs.state_block: Property package initialization: optimal - Optimal Solution Found.\n",
      "2022-09-19 12:15:25 [INFO] idaes.init.fs.state_block: Property package initialization: optimal - Optimal Solution Found.\n",
      "2022-09-19 12:15:25 [INFO] idaes.init.fs.state_block: Property package initialization: optimal - Optimal Solution Found.\n",
      "2022-09-19 12:15:26 [INFO] idaes.init.fs.state_block: Property package initialization: optimal - Optimal Solution Found.\n",
      "2022-09-19 12:15:26 [INFO] idaes.init.fs.state_block: Property package initialization: optimal - Optimal Solution Found.\n",
      "2022-09-19 12:15:26 [INFO] idaes.init.fs.state_block: Property package initialization: optimal - Optimal Solution Found.\n",
      "2022-09-19 12:15:27 [INFO] idaes.init.fs.state_block: Property package initialization: optimal - Optimal Solution Found.\n",
      "2022-09-19 12:15:27 [INFO] idaes.init.fs.state_block: Property package initialization: optimal - Optimal Solution Found.\n",
      "2022-09-19 12:15:28 [INFO] idaes.init.fs.state_block: Property package initialization: optimal - Optimal Solution Found.\n",
      "2022-09-19 12:15:28 [INFO] idaes.init.fs.state_block: Property package initialization: optimal - Optimal Solution Found.\n",
      "2022-09-19 12:15:29 [INFO] idaes.init.fs.state_block: Property package initialization: optimal - Optimal Solution Found.\n",
      "2022-09-19 12:15:29 [INFO] idaes.init.fs.state_block: Property package initialization: optimal - Optimal Solution Found.\n",
      "2022-09-19 12:15:30 [INFO] idaes.init.fs.state_block: Property package initialization: optimal - Optimal Solution Found.\n",
      "2022-09-19 12:15:30 [INFO] idaes.init.fs.state_block: Property package initialization: optimal - Optimal Solution Found.\n",
      "2022-09-19 12:15:30 [INFO] idaes.init.fs.state_block: Property package initialization: optimal - Optimal Solution Found.\n",
      "2022-09-19 12:15:31 [INFO] idaes.init.fs.state_block: Property package initialization: optimal - Optimal Solution Found.\n",
      "2022-09-19 12:15:31 [INFO] idaes.init.fs.state_block: Property package initialization: optimal - Optimal Solution Found.\n",
      "2022-09-19 12:15:32 [INFO] idaes.init.fs.state_block: Property package initialization: optimal - Optimal Solution Found.\n",
      "2022-09-19 12:15:32 [INFO] idaes.init.fs.state_block: Property package initialization: optimal - Optimal Solution Found.\n",
      "WARNING: The current pynumero_ASL library is version=2, but found version=1.\n",
      "    Please recompile / update your pynumero_ASL library.\n"
     ]
    },
    {
     "name": "stderr",
     "output_type": "stream",
     "text": [
      "/Users/bridgettebefort/opt/anaconda3/envs/idaes-pse-dev/lib/python3.9/site-packages/pyomo/contrib/interior_point/interface.py:418: RuntimeWarning: divide by zero encountered in true_divide\n",
      "  data = (duals_primals_lb/(primals - self._nlp.primals_lb()) +\n"
     ]
    }
   ],
   "source": [
    "parameters, obj_value, a = constant(data_subset, configuration, 'R32', 'bmimpf6', \"x_R32\", \"x_bmimpf6\", \n",
    "        init_temp =  283.1, init_press =   399300 , init_x_c1 =    0.448, init_x_c2 = 0.552,\n",
    "        init_kappa_A_2_1 = sc_param1, init_kappa_A_1_2 = 0, \n",
    "        eps = 0.1, scaling_fac = 1e-9 , read=False, optional_params='Opt2', \n",
    "        filename='Data/Fits/Ipopt_Output/SRK_1param_Opt2_final.txt')"
   ]
  },
  {
   "cell_type": "code",
   "execution_count": 10,
   "id": "collect-amount",
   "metadata": {},
   "outputs": [
    {
     "name": "stdout",
     "output_type": "stream",
     "text": [
      "Objective (SSE): 21.803458206043498\n"
     ]
    }
   ],
   "source": [
    "print('Objective (SSE):',obj_value)"
   ]
  },
  {
   "cell_type": "code",
   "execution_count": 11,
   "id": "f9ad84f7",
   "metadata": {},
   "outputs": [
    {
     "name": "stdout",
     "output_type": "stream",
     "text": [
      "Parameters: fs.properties.SRK_kappa_A[bmimpf6,R32]    0.019669\n",
      "dtype: float64\n"
     ]
    }
   ],
   "source": [
    "print('Parameters:',parameters)"
   ]
  },
  {
   "cell_type": "code",
   "execution_count": 12,
   "id": "45cf97cf",
   "metadata": {},
   "outputs": [],
   "source": [
    "np.savetxt('Data/Fits/SRK_params_1param_Opt2.csv',parameters,delimiter=',')"
   ]
  },
  {
   "cell_type": "code",
   "execution_count": 13,
   "id": "fewer-madonna",
   "metadata": {},
   "outputs": [
    {
     "name": "stdout",
     "output_type": "stream",
     "text": [
      "Covariance Matrix:\n",
      "[[1.71796404e-13]]\n"
     ]
    }
   ],
   "source": [
    "cov = np.array(a)\n",
    "print('Covariance Matrix:')\n",
    "print(cov)"
   ]
  },
  {
   "cell_type": "code",
   "execution_count": 14,
   "id": "c364c8c8",
   "metadata": {},
   "outputs": [],
   "source": [
    "np.savetxt('Data/Covariance/SRK_Cov_1param_Opt2.csv',cov,delimiter=',')"
   ]
  },
  {
   "cell_type": "markdown",
   "id": "received-chuck",
   "metadata": {},
   "source": [
    "## Apply Parameters + Plot"
   ]
  },
  {
   "cell_type": "code",
   "execution_count": null,
   "id": "homeless-banana",
   "metadata": {},
   "outputs": [],
   "source": [
    "solver = SolverFactory('ipopt')\n",
    "solver.options = {'tol': 1e-6}"
   ]
  },
  {
   "cell_type": "code",
   "execution_count": null,
   "id": "e95f4c51",
   "metadata": {},
   "outputs": [],
   "source": [
    "m = ConcreteModel()\n",
    "\n",
    "m.fs = FlowsheetBlock(default={\"dynamic\": False})\n",
    "\n",
    "m.fs.properties = GenericParameterBlock(default=configuration)\n",
    "\n",
    "m.fs.F101 = Flash(default={\"property_package\": m.fs.properties,\n",
    "                           \"has_heat_transfer\": True,\n",
    "                           \"has_pressure_change\": True})\n",
    "\n",
    "m.fs.F101.inlet.flow_mol.fix(1)\n",
    "m.fs.F101.inlet.temperature.fix(323.15)\n",
    "m.fs.F101.inlet.pressure.fix(399800)\n",
    "m.fs.F101.inlet.mole_frac_comp[0,'R32'].fix(0.5)\n",
    "\n",
    "# m.fs.properties.PR_kappa_A['R32','emimTf2N'] = parameters['fs.properties.PR_kappa_A[R32,emimTf2N]']\n",
    "m.fs.properties.SRK_kappa_A['bmimpf6','R32'] = parameters['fs.properties.SRK_kappa_A[bmimpf6,R32]']\n",
    "\n",
    "# Initialize the flash unit\n",
    "m.fs.F101.initialize(outlvl=idaeslog.CRITICAL)\n",
    "\n",
    "# Fix the state variables on the state block\n",
    "# m.fs.F101.inlet.pressure.unfix()\n",
    "m.fs.F101.inlet.mole_frac_comp[0,'bmimpf6'].unfix()\n",
    "\n",
    "R32_x = np.zeros((len(data_extended)))\n",
    "P = np.zeros((len(data_extended)))\n",
    "T = np.zeros((len(data_extended)))\n",
    "\n",
    "m.fs.liq = Param(mutable=True,default=0.040)\n",
    "m.fs.liquid = Constraint(expr=m.fs.F101.liq_outlet.mole_frac_comp[0, \"bmimpf6\"] == m.fs.liq)\n",
    "\n",
    "for i in range(len(data_extended)):\n",
    "    print('i:',i)\n",
    "    print('Try x_IL:',data_extended[\"x_bmimpf6\"].iloc[i])\n",
    "    m.fs.liq = data_extended[\"x_bmimpf6\"].iloc[i]\n",
    "    m.fs.F101.inlet.temperature.fix(float(data_extended[\"temperature\"].iloc[i]))\n",
    "    m.fs.F101.inlet.pressure.fix(float(data_extended[\"pressure\"].iloc[i]))\n",
    "    m.fs.F101.inlet.mole_frac_comp[0,'R32'].fix(float(data_extended[\"x_R32\"].iloc[i])+0.1)\n",
    "    m.fs.F101.inlet.mole_frac_comp[0,'bmimpf6'].fix(float(1-(data_extended[\"x_R32\"].iloc[i]+0.1)))\n",
    "    m.fs.F101.vap_outlet.temperature.fix(float(data_extended[\"temperature\"].iloc[i]))\n",
    "    \n",
    "    try:\n",
    "        m.fs.F101.initialize(outlvl=idaeslog.CRITICAL)\n",
    "        \n",
    "    except:\n",
    "        print('Initialization Error')\n",
    "        \n",
    "    try:\n",
    "\n",
    "        status = solver.solve(m, tee = False)\n",
    "        \n",
    "        if (status.solver.status == SolverStatus.ok) and (status.solver.termination_condition == TerminationCondition.optimal):\n",
    "            print('Feasible/Optimal Solution')\n",
    "            R32_x[i] = value(m.fs.F101.liq_outlet.mole_frac_comp[0,'R32']) \n",
    "            P[i] = value(m.fs.F101.vap_outlet.pressure[0])\n",
    "            T[i] = data_extended[\"temperature\"].iloc[i]\n",
    "        else:\n",
    "            print('Infeasible Solution')\n",
    "            R32_x[i] = np.nan\n",
    "            P[i] = np.nan\n",
    "            T[i] = data_extended[\"temperature\"].iloc[i]\n",
    "            \n",
    "    except ValueError:\n",
    "        R32_x[i] = np.nan\n",
    "        P[i] = np.nan\n",
    "        T[i] = data_extended[\"temperature\"].iloc[i]\n",
    "        print('Solver Error')"
   ]
  },
  {
   "cell_type": "code",
   "execution_count": null,
   "id": "d39a8e25",
   "metadata": {},
   "outputs": [],
   "source": [
    "fitted_data = pd.DataFrame(data=[R32_x,P/1e6,T])\n",
    "fitted_data = fitted_data.T\n",
    "fitted_data.columns = ['R32_x','P, MPa','T, K']\n",
    "fitted_data.to_csv('Data/Fits/SRK_FittedData_1param_Opt2.csv')"
   ]
  },
  {
   "cell_type": "code",
   "execution_count": null,
   "id": "helpful-powell",
   "metadata": {},
   "outputs": [],
   "source": [
    "plt.plot(fitted_data.where(fitted_data['T, K']==283.2)['R32_x'],fitted_data.where(fitted_data['T, K']==283.2)['P, MPa'],\"b-\",label='T=283 K')\n",
    "plt.plot(fitted_data.where(fitted_data['T, K']==298.1)['R32_x'],fitted_data.where(fitted_data['T, K']==298.1)['P, MPa'],\"r-\",label='T=298 K')\n",
    "plt.plot(fitted_data.where(fitted_data['T, K']==323.1)['R32_x'],fitted_data.where(fitted_data['T, K']==323.1)['P, MPa'],\"c-\",label='T=323 K')\n",
    "plt.plot(fitted_data.where(fitted_data['T, K']==348.1)['R32_x'],fitted_data.where(fitted_data['T, K']==348.1)['P, MPa'],\"m-\",label='T=348 K')\n",
    "plt.plot(data_full[\"x_R32\"],data_full[\"pressure\"]/1e6,\"*\",color='orange',label=\"data\")  \n",
    "plt.title('Isotherm R32-[bmim][pf6]')\n",
    "plt.ylabel('Pressure (MPa)')\n",
    "plt.xlabel('x R32')\n",
    "plt.grid(True)\n",
    "plt.ylim(0,1.110000)\n",
    "plt.legend()\n",
    "plt.show()"
   ]
  },
  {
   "cell_type": "markdown",
   "id": "present-tulsa",
   "metadata": {},
   "source": [
    "### Print Eigvals, Eigvectors of Covariance\n",
    "\n",
    "An identifiability analysis can be performed with these as well as a FIM because the covariance matrix is the inverse of the FIM. That means that if there are any eigvals >> 0, their eigvecs indicate directions of un-identifiability."
   ]
  },
  {
   "cell_type": "code",
   "execution_count": null,
   "id": "associate-retreat",
   "metadata": {},
   "outputs": [],
   "source": [
    "eigvals, eigvecs = np.linalg.eig(cov)"
   ]
  },
  {
   "cell_type": "code",
   "execution_count": null,
   "id": "genuine-lucas",
   "metadata": {},
   "outputs": [],
   "source": [
    "eigvals"
   ]
  },
  {
   "cell_type": "code",
   "execution_count": null,
   "id": "historic-outside",
   "metadata": {},
   "outputs": [],
   "source": [
    "eigvecs"
   ]
  },
  {
   "cell_type": "code",
   "execution_count": null,
   "id": "c5ad5661",
   "metadata": {},
   "outputs": [],
   "source": [
    "np.savetxt('Data/EigenAnalysis/SRK_vals_1param_Opt2.csv',eigvals,delimiter=',')\n",
    "np.savetxt('Data/EigenAnalysis/SRK_vecs_1param_Opt2.csv',eigvecs,delimiter=',')"
   ]
  },
  {
   "cell_type": "code",
   "execution_count": null,
   "id": "99b19747",
   "metadata": {},
   "outputs": [],
   "source": [
    "FIM = np.linalg.inv(cov) \n",
    "\n",
    "#A_opt\n",
    "FIM_trace = np.trace(FIM)\n",
    "cov_trace = np.trace(cov)\n",
    "\n",
    "#D_opt\n",
    "FIM_det = np.linalg.det(FIM)\n",
    "\n",
    "#E_opt\n",
    "eigvals_FIM, eigvecs_FIM = np.linalg.eig(FIM)\n",
    "eigvals_FIM_min = eigvals_FIM.min()\n",
    "eigvals_FIM_max = eigvals_FIM.max()\n",
    "\n",
    "np.savetxt('Data/EigenAnalysis/SRK_FIMtrdet_1param_Opt2.csv',[cov_trace,FIM_trace,FIM_det,eigvals_FIM_min,eigvals_FIM_max])\n",
    "np.savetxt('Data/EigenAnalysis/SRK_FIMvals_1param_Opt2.csv',eigvals_FIM,delimiter=',')\n",
    "np.savetxt('Data/EigenAnalysis/SRK_FIMvecs_1param_Opt2.csv',eigvecs_FIM,delimiter=',')"
   ]
  },
  {
   "cell_type": "markdown",
   "id": "capital-declaration",
   "metadata": {},
   "source": [
    "## AIC Value\n",
    "\n",
    "See: https://doi.org/10.1080/21642583.2018.1496042\n",
    "\n",
    "AIC(k) = Nln(MSE(k))+2k\n",
    "\n",
    "N: number of data points\n",
    "\n",
    "MSE(k): mean squared error of the model with k parameters\n",
    "\n",
    "k: number of parameters\n",
    "\n",
    "MSE(k) = SSE(k)/N\n",
    "\n",
    "SSE: sum of squared error of the model with k parameters"
   ]
  },
  {
   "cell_type": "code",
   "execution_count": null,
   "id": "revolutionary-sheet",
   "metadata": {},
   "outputs": [],
   "source": [
    "#number of datapoints\n",
    "N = len(data_subset)\n",
    "#MSE(k)\n",
    "MSE = obj_value/N\n",
    "#number of parameters\n",
    "k = 1"
   ]
  },
  {
   "cell_type": "code",
   "execution_count": null,
   "id": "absent-twist",
   "metadata": {},
   "outputs": [],
   "source": [
    "AIC = N*np.log(MSE) + 2*k\n",
    "AIC"
   ]
  },
  {
   "cell_type": "code",
   "execution_count": null,
   "id": "damaged-triangle",
   "metadata": {},
   "outputs": [],
   "source": [
    "AIC_data = pd.DataFrame(data=[N,MSE,k,obj_value,AIC])\n",
    "AIC_data = AIC_data.T\n",
    "AIC_data.columns = ['N','MSE','k','Objective, Pa^2','AIC']\n",
    "AIC_data.to_csv('Data/AIC/SRK_AIC_1param_Opt2.csv')"
   ]
  },
  {
   "cell_type": "code",
   "execution_count": null,
   "id": "8060f27c",
   "metadata": {},
   "outputs": [],
   "source": []
  },
  {
   "cell_type": "code",
   "execution_count": null,
   "id": "5bcb3d84",
   "metadata": {},
   "outputs": [],
   "source": []
  }
 ],
 "metadata": {
  "kernelspec": {
   "display_name": "Python 3 (ipykernel)",
   "language": "python",
   "name": "python3"
  },
  "language_info": {
   "codemirror_mode": {
    "name": "ipython",
    "version": 3
   },
   "file_extension": ".py",
   "mimetype": "text/x-python",
   "name": "python",
   "nbconvert_exporter": "python",
   "pygments_lexer": "ipython3",
   "version": "3.9.9"
  }
 },
 "nbformat": 4,
 "nbformat_minor": 5
}
