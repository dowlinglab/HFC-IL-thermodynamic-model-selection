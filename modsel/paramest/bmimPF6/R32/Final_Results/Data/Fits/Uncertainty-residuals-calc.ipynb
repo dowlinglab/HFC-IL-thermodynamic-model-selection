{
 "cells": [
  {
   "cell_type": "markdown",
   "id": "720e45ce",
   "metadata": {},
   "source": [
    "# R32/bmimPF6"
   ]
  },
  {
   "cell_type": "code",
   "execution_count": 1,
   "id": "39d8a129",
   "metadata": {},
   "outputs": [],
   "source": [
    "import pandas as pd\n",
    "import numpy as np\n",
    "\n",
    "import sys\n",
    "sys.path.append('../../../')"
   ]
  },
  {
   "cell_type": "code",
   "execution_count": 2,
   "id": "285fbd28",
   "metadata": {},
   "outputs": [],
   "source": [
    "data_subset = pd.read_csv('../../../r32_bmimpf6_full.csv')\n",
    "data_model_subset = pd.read_csv('PR_FittedData_linTdep_subset.csv')"
   ]
  },
  {
   "cell_type": "code",
   "execution_count": 3,
   "id": "23af6821",
   "metadata": {},
   "outputs": [],
   "source": [
    "residuals = (data_subset['pressure']/1E6 - data_model_subset['P, MPa'])**2"
   ]
  },
  {
   "cell_type": "code",
   "execution_count": 4,
   "id": "d7a54c87",
   "metadata": {},
   "outputs": [],
   "source": [
    "#sigma calc\n",
    "n = len(data_subset) #number of data points\n",
    "p = 4 #number of parameters\n",
    "\n",
    "sigma_squared = np.matmul(residuals.T,residuals)/(n-p)"
   ]
  },
  {
   "cell_type": "code",
   "execution_count": 5,
   "id": "2eee42a0",
   "metadata": {},
   "outputs": [
    {
     "name": "stdout",
     "output_type": "stream",
     "text": [
      "Sigma^2 =  1.5644966239299104e-07\n"
     ]
    }
   ],
   "source": [
    "print('Sigma^2 = ',sigma_squared)"
   ]
  },
  {
   "cell_type": "code",
   "execution_count": null,
   "id": "bd5ba336",
   "metadata": {},
   "outputs": [],
   "source": []
  }
 ],
 "metadata": {
  "kernelspec": {
   "display_name": "Python 3 (ipykernel)",
   "language": "python",
   "name": "python3"
  },
  "language_info": {
   "codemirror_mode": {
    "name": "ipython",
    "version": 3
   },
   "file_extension": ".py",
   "mimetype": "text/x-python",
   "name": "python",
   "nbconvert_exporter": "python",
   "pygments_lexer": "ipython3",
   "version": "3.9.9"
  }
 },
 "nbformat": 4,
 "nbformat_minor": 5
}
