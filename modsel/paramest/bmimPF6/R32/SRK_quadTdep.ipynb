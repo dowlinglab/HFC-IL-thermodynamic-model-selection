{
 "cells": [
  {
   "cell_type": "markdown",
   "id": "instructional-learning",
   "metadata": {},
   "source": [
    "# Fit bmimpf6 data\n",
    "\n",
    "EoS: SRK\n",
    "\n",
    "Parameter T dependence: Quadratic\n",
    "\n",
    "N (total fitting parameters): 6"
   ]
  },
  {
   "cell_type": "markdown",
   "id": "extended-rabbit",
   "metadata": {},
   "source": [
    "## Import Functions"
   ]
  },
  {
   "cell_type": "code",
   "execution_count": 1,
   "id": "complicated-toronto",
   "metadata": {},
   "outputs": [],
   "source": [
    "import idaes\n",
    "\n",
    "import pandas as pd\n",
    "import numpy as np\n",
    "import matplotlib.pyplot as plt\n",
    "import scipy.optimize\n",
    "\n",
    "import sys\n",
    "sys.path.append('../../')\n",
    "\n",
    "from pyomo.environ import (Constraint,\n",
    "                           Var,\n",
    "                           ConcreteModel,\n",
    "                           Expression,\n",
    "                           Param,\n",
    "                           Objective,\n",
    "                           SolverFactory,\n",
    "                           TransformationFactory,\n",
    "                           value)\n",
    "from pyomo.opt import TerminationCondition, SolverStatus\n",
    "\n",
    "from idaes.core import FlowsheetBlock\n",
    "import idaes.logger as idaeslog\n",
    "# Import the Generic Parameter Block\n",
    "from idaes.generic_models.properties.core.generic.generic_property import (\n",
    "        GenericParameterBlock)\n",
    "# Import unit models from the model library\n",
    "from idaes.generic_models.unit_models import Flash\n",
    "# Import degrees of freedom tool\n",
    "from idaes.core.util.model_statistics import degrees_of_freedom\n",
    "\n",
    "# parmest (binary_param2)\n",
    "from bip_fitting_functions_SRK import cuadratic\n",
    "\n",
    "import scipy.stats as stats\n",
    "\n",
    "from matplotlib.patches import Ellipse\n",
    "import matplotlib.transforms as transforms\n",
    "import matplotlib.patches as mpatches"
   ]
  },
  {
   "cell_type": "markdown",
   "id": "potential-awareness",
   "metadata": {},
   "source": [
    "## Load Data"
   ]
  },
  {
   "cell_type": "code",
   "execution_count": 2,
   "id": "latest-artist",
   "metadata": {},
   "outputs": [],
   "source": [
    "data_full = pd.read_csv('r32_bmimpf6_full.csv')\n",
    "# data_subset = pd.read_csv('r32_emimtf2n_subset.csv')"
   ]
  },
  {
   "cell_type": "markdown",
   "id": "superior-attendance",
   "metadata": {},
   "source": [
    "## Load Configuration + Check DOF"
   ]
  },
  {
   "cell_type": "code",
   "execution_count": 3,
   "id": "binding-cattle",
   "metadata": {},
   "outputs": [],
   "source": [
    "from hfc32_bmimpf6_SRK import configuration "
   ]
  },
  {
   "cell_type": "code",
   "execution_count": 4,
   "id": "backed-diving",
   "metadata": {},
   "outputs": [
    {
     "name": "stdout",
     "output_type": "stream",
     "text": [
      "The initial DOF is 7\n"
     ]
    }
   ],
   "source": [
    "m = ConcreteModel()\n",
    "m.fs = FlowsheetBlock(default={\"dynamic\": False})\n",
    "m.fs.properties = GenericParameterBlock(default=configuration)\n",
    "m.fs.F101 = Flash(default={\"property_package\": m.fs.properties,\n",
    "                           \"has_heat_transfer\": True,\n",
    "                           \"has_pressure_change\": True})\n",
    "DOF_initial = degrees_of_freedom(m)\n",
    "print('The initial DOF is {0}'.format(DOF_initial))"
   ]
  },
  {
   "cell_type": "markdown",
   "id": "conventional-health",
   "metadata": {},
   "source": [
    "## Fit Parameters"
   ]
  },
  {
   "cell_type": "code",
   "execution_count": 5,
   "id": "sensitive-secondary",
   "metadata": {},
   "outputs": [
    {
     "name": "stdout",
     "output_type": "stream",
     "text": [
      "2022-04-20 16:41:57 [INFO] idaes.init.fs.state_block: Property package initialization: optimal - Optimal Solution Found.\n",
      "2022-04-20 16:41:57 [INFO] idaes.init.fs.state_block: Property package initialization: optimal - Optimal Solution Found.\n",
      "2022-04-20 16:41:58 [INFO] idaes.init.fs.state_block: Property package initialization: optimal - Optimal Solution Found.\n",
      "2022-04-20 16:41:58 [INFO] idaes.init.fs.state_block: Property package initialization: optimal - Optimal Solution Found.\n",
      "2022-04-20 16:41:58 [INFO] idaes.init.fs.state_block: Property package initialization: optimal - Optimal Solution Found.\n",
      "2022-04-20 16:41:59 [INFO] idaes.init.fs.state_block: Property package initialization: optimal - Optimal Solution Found.\n",
      "2022-04-20 16:41:59 [INFO] idaes.init.fs.state_block: Property package initialization: optimal - Optimal Solution Found.\n",
      "2022-04-20 16:42:00 [INFO] idaes.init.fs.state_block: Property package initialization: optimal - Optimal Solution Found.\n",
      "2022-04-20 16:42:00 [INFO] idaes.init.fs.state_block: Property package initialization: optimal - Optimal Solution Found.\n",
      "2022-04-20 16:42:01 [INFO] idaes.init.fs.state_block: Property package initialization: optimal - Optimal Solution Found.\n",
      "2022-04-20 16:42:01 [INFO] idaes.init.fs.state_block: Property package initialization: optimal - Optimal Solution Found.\n",
      "2022-04-20 16:42:02 [INFO] idaes.init.fs.state_block: Property package initialization: optimal - Optimal Solution Found.\n",
      "2022-04-20 16:42:02 [INFO] idaes.init.fs.state_block: Property package initialization: optimal - Optimal Solution Found.\n",
      "2022-04-20 16:42:02 [INFO] idaes.init.fs.state_block: Property package initialization: optimal - Optimal Solution Found.\n",
      "2022-04-20 16:42:03 [INFO] idaes.init.fs.state_block: Property package initialization: optimal - Optimal Solution Found.\n",
      "2022-04-20 16:42:03 [INFO] idaes.init.fs.state_block: Property package initialization: optimal - Optimal Solution Found.\n",
      "2022-04-20 16:42:03 [INFO] idaes.init.fs.state_block: Property package initialization: optimal - Optimal Solution Found.\n",
      "2022-04-20 16:42:04 [INFO] idaes.init.fs.state_block: Property package initialization: optimal - Optimal Solution Found.\n",
      "2022-04-20 16:42:04 [INFO] idaes.init.fs.state_block: Property package initialization: optimal - Optimal Solution Found.\n",
      "2022-04-20 16:42:04 [INFO] idaes.init.fs.state_block: Property package initialization: optimal - Optimal Solution Found.\n",
      "2022-04-20 16:42:05 [INFO] idaes.init.fs.state_block: Property package initialization: optimal - Optimal Solution Found.\n",
      "2022-04-20 16:42:05 [INFO] idaes.init.fs.state_block: Property package initialization: optimal - Optimal Solution Found.\n",
      "2022-04-20 16:42:05 [INFO] idaes.init.fs.state_block: Property package initialization: optimal - Optimal Solution Found.\n",
      "2022-04-20 16:42:06 [INFO] idaes.init.fs.state_block: Property package initialization: optimal - Optimal Solution Found.\n",
      "2022-04-20 16:42:06 [INFO] idaes.init.fs.state_block: Property package initialization: optimal - Optimal Solution Found.\n",
      "2022-04-20 16:42:06 [INFO] idaes.init.fs.state_block: Property package initialization: optimal - Optimal Solution Found.\n",
      "2022-04-20 16:42:07 [INFO] idaes.init.fs.state_block: Property package initialization: optimal - Optimal Solution Found.\n",
      "2022-04-20 16:42:07 [INFO] idaes.init.fs.state_block: Property package initialization: optimal - Optimal Solution Found.\n",
      "2022-04-20 16:42:07 [INFO] idaes.init.fs.state_block: Property package initialization: optimal - Optimal Solution Found.\n",
      "2022-04-20 16:42:08 [INFO] idaes.init.fs.state_block: Property package initialization: optimal - Optimal Solution Found.\n",
      "2022-04-20 16:42:08 [INFO] idaes.init.fs.state_block: Property package initialization: optimal - Optimal Solution Found.\n",
      "Ipopt 3.13.2: bound_relax_factor=0\n",
      "honor_original_bounds=no\n",
      "\n",
      "\n",
      "******************************************************************************\n",
      "This program contains Ipopt, a library for large-scale nonlinear optimization.\n",
      " Ipopt is released as open source code under the Eclipse Public License (EPL).\n",
      "         For more information visit http://projects.coin-or.org/Ipopt\n",
      "\n",
      "This version of Ipopt was compiled from source code available at\n",
      "    https://github.com/IDAES/Ipopt as part of the Institute for the Design of\n",
      "    Advanced Energy Systems Process Systems Engineering Framework (IDAES PSE\n",
      "    Framework) Copyright (c) 2018-2019. See https://github.com/IDAES/idaes-pse.\n",
      "\n",
      "This version of Ipopt was compiled using HSL, a collection of Fortran codes\n",
      "    for large-scale scientific computation.  All technical papers, sales and\n",
      "    publicity material resulting from use of the HSL codes within IPOPT must\n",
      "    contain the following acknowledgement:\n",
      "        HSL, a collection of Fortran codes for large-scale scientific\n",
      "        computation. See http://www.hsl.rl.ac.uk.\n",
      "******************************************************************************\n",
      "\n",
      "This is Ipopt version 3.13.2, running with linear solver ma27.\n",
      "\n",
      "Number of nonzeros in equality constraint Jacobian...:     1538\n",
      "Number of nonzeros in inequality constraint Jacobian.:        0\n",
      "Number of nonzeros in Lagrangian Hessian.............:     2356\n",
      "\n",
      "Total number of variables............................:      558\n",
      "                     variables with only lower bounds:      124\n",
      "                variables with lower and upper bounds:      372\n",
      "                     variables with only upper bounds:        0\n",
      "Total number of equality constraints.................:      552\n",
      "Total number of inequality constraints...............:        0\n",
      "        inequality constraints with only lower bounds:        0\n",
      "   inequality constraints with lower and upper bounds:        0\n",
      "        inequality constraints with only upper bounds:        0\n",
      "\n",
      "iter    objective    inf_pr   inf_du lg(mu)  ||d||  lg(rg) alpha_du alpha_pr  ls\n",
      "   0  0.0000000e+00 1.15e+00 6.22e-14  -1.0 0.00e+00    -  0.00e+00 0.00e+00   0\n",
      "   1  1.4453200e+01 4.28e-01 6.40e+02  -1.0 4.41e+04    -  5.38e-01 9.90e-01h  1\n",
      "   2  1.5385955e+01 2.49e-02 2.23e+02  -1.0 4.09e+03    -  8.05e-01 9.90e-01h  1\n",
      "   3  1.5421514e+01 1.67e-03 1.56e+03  -1.0 5.44e+02    -  9.74e-01 9.90e-01h  1\n",
      "   4  1.5313066e+01 1.22e-02 6.23e+05  -1.0 6.73e+03    -  1.24e-01 6.19e-02f  5\n",
      "   5  1.5181264e+01 4.35e-02 2.33e+06  -1.0 7.10e+03    -  2.25e-01 6.19e-02f  5\n",
      "   6  1.5151443e+01 4.72e-02 2.84e+06  -1.0 9.16e+03    -  5.42e-02 7.10e-03f  7\n",
      "   7  1.5147421e+01 4.73e-02 3.06e+06  -1.0 1.86e+04    -  1.96e-02 2.95e-04f  9\n",
      "   8  1.5142719e+01 8.03e-04 3.06e+04  -1.0 1.39e+01  -4.0 9.90e-01 9.90e-01h  1\n",
      "   9  1.4884090e+01 3.08e-03 9.92e+08  -1.0 9.50e+03    -  9.90e-01 1.24e-01f  4\n",
      "iter    objective    inf_pr   inf_du lg(mu)  ||d||  lg(rg) alpha_du alpha_pr  ls\n",
      "  10  1.4741038e+01 1.18e-02 2.14e+09  -1.0 8.81e+03    -  9.90e-01 6.19e-02f  5\n",
      "  11  1.3889989e+01 6.25e-03 3.54e+07  -1.0 7.71e+03    -  1.00e+00 9.90e-01H  1\n",
      "  12  1.3886142e+01 6.26e-03 1.39e+11  -1.0 1.43e+03    -  1.00e+00 3.87e-03h  9\n",
      "  13  1.3882089e+01 6.27e-03 2.38e+11  -1.0 1.35e+03    -  7.16e-01 3.87e-03h  9\n",
      "  14  1.3877982e+01 6.28e-03 3.77e+11  -1.0 1.45e+03    -  1.00e+00 3.87e-03h  9\n",
      "  15  1.3874037e+01 6.28e-03 4.73e+11  -1.0 1.35e+03    -  7.01e-01 3.87e-03h  9\n",
      "  16  1.3869862e+01 6.30e-03 6.12e+11  -1.0 1.46e+03    -  1.00e+00 3.87e-03h  9\n",
      "  17  1.3865875e+01 6.30e-03 7.10e+11  -1.0 1.37e+03    -  7.08e-01 3.87e-03h  9\n",
      "  18  1.3861661e+01 6.31e-03 8.49e+11  -1.0 1.47e+03    -  1.00e+00 3.87e-03h  9\n",
      "  19  1.3857613e+01 6.32e-03 9.47e+11  -1.0 1.39e+03    -  7.10e-01 3.87e-03h  9\n",
      "iter    objective    inf_pr   inf_du lg(mu)  ||d||  lg(rg) alpha_du alpha_pr  ls\n",
      "  20  1.3853361e+01 6.33e-03 1.09e+12  -1.0 1.48e+03    -  1.00e+00 3.87e-03h  9\n",
      "  21  1.3849252e+01 6.34e-03 1.18e+12  -1.0 1.41e+03    -  7.13e-01 3.87e-03h  9\n",
      "  22  1.2807101e+01 1.16e+01 1.33e+10  -1.0 1.49e+03    -  1.00e+00 9.90e-01w  1\n",
      "  23  1.0400492e+01 5.14e+00 2.25e+12  -1.0 4.26e+03    -  8.35e-01 9.90e-01w  1\n",
      "In iteration 23, 31 Slacks too small, adjusting variable bounds\n",
      "  24  8.3731496e+00 4.43e+00 1.45e+13  -1.0 7.40e+03    -  1.00e+00 9.90e-01w  1\n",
      "  25  1.3814957e+01 8.29e-03 1.29e+12  -1.0 2.33e+03    -  1.00e+00 3.09e-02h  5\n",
      "  26  1.3810605e+01 8.29e-03 1.38e+12  -1.0 1.46e+03    -  7.19e-01 3.91e-03h  9\n",
      "  27  1.3806040e+01 8.29e-03 1.50e+12  -1.0 1.54e+03    -  1.00e+00 3.91e-03h  9\n",
      "  28  1.3801599e+01 8.29e-03 1.60e+12  -1.0 1.49e+03    -  7.39e-01 3.91e-03h  9\n",
      "  29  1.3796991e+01 8.29e-03 1.72e+12  -1.0 1.56e+03    -  1.00e+00 3.91e-03h  9\n"
     ]
    },
    {
     "name": "stdout",
     "output_type": "stream",
     "text": [
      "iter    objective    inf_pr   inf_du lg(mu)  ||d||  lg(rg) alpha_du alpha_pr  ls\n",
      "  30  1.3792485e+01 8.30e-03 1.81e+12  -1.0 1.50e+03    -  7.41e-01 3.91e-03h  9\n",
      "  31  1.3787827e+01 8.30e-03 1.93e+12  -1.0 1.57e+03    -  1.00e+00 3.91e-03h  9\n",
      "  32  1.3783260e+01 8.30e-03 2.02e+12  -1.0 1.52e+03    -  7.45e-01 3.91e-03h  9\n",
      "  33  1.3778549e+01 8.30e-03 2.14e+12  -1.0 1.58e+03    -  1.00e+00 3.91e-03h  9\n",
      "  34  1.3773922e+01 8.31e-03 2.22e+12  -1.0 1.54e+03    -  7.49e-01 3.91e-03h  9\n",
      "  35  1.2624104e+01 1.04e+01 2.55e+00  -1.0 1.60e+03    -  1.00e+00 1.00e+00w  1\n",
      "  36  9.8898931e+00 4.06e+00 1.83e+12  -1.0 5.00e+03    -  8.33e-01 1.00e+00w  1\n",
      "  37  8.3634443e+00 4.75e+00 2.63e+10  -1.0 6.46e+03    -  9.86e-01 1.00e+00w  1\n",
      "  38  1.3771539e+01 8.30e-03 2.34e+12  -1.0 2.41e+03    -  1.00e+00 1.95e-03h  9\n",
      "  39  1.3771247e+01 8.30e-03 2.44e+12  -1.0 1.56e+03    -  7.53e-01 2.44e-04h 13\n",
      "iter    objective    inf_pr   inf_du lg(mu)  ||d||  lg(rg) alpha_du alpha_pr  ls\n",
      "  40  1.3771172e+01 8.30e-03 2.56e+12  -1.0 1.60e+03    -  1.00e+00 6.10e-05h 15\n",
      "  41  1.2905736e+01 1.38e+01 6.28e+11  -1.0 1.56e+03    -  7.55e-01 7.55e-01s 22\n",
      "  42  1.0554501e+01 5.47e+00 2.12e+00  -1.0 3.91e+03    -  1.00e+00 1.00e+00s 22\n",
      "  43  8.3860985e+00 4.53e+00 1.55e+00  -1.0 7.52e+03    -  1.00e+00 1.00e+00s 22\n",
      "  44  8.3098133e+00 2.51e+00 3.33e+00  -1.0 2.24e+03    -  1.00e+00 1.00e+00s 22\n",
      "  45  8.3116612e+00 1.00e+00 2.44e-01  -1.0 7.80e+02    -  1.00e+00 1.00e+00s 22\n",
      "  46  8.3064053e+00 2.34e-01 2.20e-02  -1.7 3.47e+02    -  1.00e+00 1.00e+00h  1\n",
      "  47  8.3030567e+00 2.04e-02 6.29e-03  -2.5 3.78e+02    -  1.00e+00 1.00e+00h  1\n",
      "  48  8.3027883e+00 4.81e-04 1.54e-03  -3.8 1.31e+02    -  1.00e+00 1.00e+00h  1\n",
      "  49  8.3027873e+00 2.23e-06 8.82e-06  -5.7 8.23e+00    -  1.00e+00 1.00e+00h  1\n",
      "iter    objective    inf_pr   inf_du lg(mu)  ||d||  lg(rg) alpha_du alpha_pr  ls\n",
      "  50  8.3027873e+00 1.08e-10 1.65e-08  -8.6 5.61e-02    -  1.00e+00 1.00e+00h  1\n",
      "\n",
      "Number of Iterations....: 50\n",
      "\n",
      "                                   (scaled)                 (unscaled)\n",
      "Objective...............:   8.3027873368150935e+00    8.3027873368150935e+00\n",
      "Dual infeasibility......:   1.6472768038511276e-08    1.6472768038511276e-08\n",
      "Constraint violation....:   8.1689755528807323e-11    1.0754619417241429e-10\n",
      "Complementarity.........:   2.5181552452638472e-09    2.5181552452638472e-09\n",
      "Overall NLP error.......:   1.1192648261970387e-10    1.6472768038511276e-08\n",
      "\n",
      "\n",
      "Number of objective function evaluations             = 333\n",
      "Number of objective gradient evaluations             = 51\n",
      "Number of equality constraint evaluations            = 333\n",
      "Number of inequality constraint evaluations          = 0\n",
      "Number of equality constraint Jacobian evaluations   = 51\n",
      "Number of inequality constraint Jacobian evaluations = 0\n",
      "Number of Lagrangian Hessian evaluations             = 50\n",
      "Total CPU secs in IPOPT (w/o function evaluations)   =      0.087\n",
      "Total CPU secs in NLP function evaluations           =      2.425\n",
      "\n",
      "EXIT: Optimal Solution Found.\n",
      "WARNING: The current pynumero_ASL library is version=2, but found version=1.\n",
      "    Please recompile / update your pynumero_ASL library.\n",
      "The SSE at the optimal solution is 8.302787\n",
      "\n",
      "The values for the parameters are as follows:\n",
      "fs.properties.SRK_kappa_A[bmimpf6,R32] = 1.5557283227230425\n",
      "fs.properties.SRK_kappa_A[R32,bmimpf6] = 0.6974196545654442\n",
      "fs.properties.SRK_kappa_B[bmimpf6,R32] = -1.604891229411398\n",
      "fs.properties.SRK_kappa_B[R32,bmimpf6] = -1.2924974316299929\n",
      "fs.properties.SRK_kappa_C[bmimpf6,R32] = -0.03715973295067584\n",
      "fs.properties.SRK_kappa_C[R32,bmimpf6] = 0.5587327425389533\n",
      "covariance_matrix                                         fs.properties.SRK_kappa_A[bmimpf6,R32]  \\\n",
      "fs.properties.SRK_kappa_A[bmimpf6,R32]                                9.404674   \n",
      "fs.properties.SRK_kappa_A[R32,bmimpf6]                                0.257689   \n",
      "fs.properties.SRK_kappa_B[bmimpf6,R32]                              -18.793173   \n",
      "fs.properties.SRK_kappa_B[R32,bmimpf6]                               -0.519882   \n",
      "fs.properties.SRK_kappa_C[bmimpf6,R32]                                9.365839   \n",
      "fs.properties.SRK_kappa_C[R32,bmimpf6]                                0.261067   \n",
      "\n",
      "                                        fs.properties.SRK_kappa_A[R32,bmimpf6]  \\\n",
      "fs.properties.SRK_kappa_A[bmimpf6,R32]                                0.257689   \n",
      "fs.properties.SRK_kappa_A[R32,bmimpf6]                                0.031295   \n",
      "fs.properties.SRK_kappa_B[bmimpf6,R32]                               -0.486125   \n",
      "fs.properties.SRK_kappa_B[R32,bmimpf6]                               -0.058877   \n",
      "fs.properties.SRK_kappa_C[bmimpf6,R32]                                0.227389   \n",
      "fs.properties.SRK_kappa_C[R32,bmimpf6]                                0.027514   \n",
      "\n",
      "                                        fs.properties.SRK_kappa_B[bmimpf6,R32]  \\\n",
      "fs.properties.SRK_kappa_A[bmimpf6,R32]                              -18.793173   \n",
      "fs.properties.SRK_kappa_A[R32,bmimpf6]                               -0.486125   \n",
      "fs.properties.SRK_kappa_B[bmimpf6,R32]                               37.624515   \n",
      "fs.properties.SRK_kappa_B[R32,bmimpf6]                                0.986598   \n",
      "fs.properties.SRK_kappa_C[bmimpf6,R32]                              -18.787982   \n",
      "fs.properties.SRK_kappa_C[R32,bmimpf6]                               -0.498365   \n",
      "\n",
      "                                        fs.properties.SRK_kappa_B[R32,bmimpf6]  \\\n",
      "fs.properties.SRK_kappa_A[bmimpf6,R32]                               -0.519882   \n",
      "fs.properties.SRK_kappa_A[R32,bmimpf6]                               -0.058877   \n",
      "fs.properties.SRK_kappa_B[bmimpf6,R32]                                0.986598   \n",
      "fs.properties.SRK_kappa_B[R32,bmimpf6]                                0.111036   \n",
      "fs.properties.SRK_kappa_C[bmimpf6,R32]                               -0.464636   \n",
      "fs.properties.SRK_kappa_C[R32,bmimpf6]                               -0.052021   \n",
      "\n",
      "                                        fs.properties.SRK_kappa_C[bmimpf6,R32]  \\\n",
      "fs.properties.SRK_kappa_A[bmimpf6,R32]                                9.365839   \n",
      "fs.properties.SRK_kappa_A[R32,bmimpf6]                                0.227389   \n",
      "fs.properties.SRK_kappa_B[bmimpf6,R32]                              -18.787982   \n",
      "fs.properties.SRK_kappa_B[R32,bmimpf6]                               -0.464636   \n",
      "fs.properties.SRK_kappa_C[bmimpf6,R32]                                9.401684   \n",
      "fs.properties.SRK_kappa_C[R32,bmimpf6]                                0.236285   \n",
      "\n",
      "                                        fs.properties.SRK_kappa_C[R32,bmimpf6]  \n",
      "fs.properties.SRK_kappa_A[bmimpf6,R32]                                0.261067  \n",
      "fs.properties.SRK_kappa_A[R32,bmimpf6]                                0.027514  \n",
      "fs.properties.SRK_kappa_B[bmimpf6,R32]                               -0.498365  \n",
      "fs.properties.SRK_kappa_B[R32,bmimpf6]                               -0.052021  \n",
      "fs.properties.SRK_kappa_C[bmimpf6,R32]                                0.236285  \n",
      "fs.properties.SRK_kappa_C[R32,bmimpf6]                                0.024438  \n"
     ]
    }
   ],
   "source": [
    "parameters, obj_value, a = cuadratic(data_full, configuration, 'R32', 'bmimpf6', \"x_R32\", \"x_bmimpf6\", \n",
    "    init_temp =  283.1, init_press =   399300 , init_x_c1 =    0.448, init_x_c2 = 0.552,\n",
    "    init_kappa_2_1A = -0.001, init_kappa_1_2A = -0.001,\n",
    "    init_kappa_2_1B = -0.001, init_kappa_1_2B = -0.001,\n",
    "    init_kappa_2_1C = -0.001, init_kappa_1_2C = -0.001, \n",
    "    eps = 0.1, scaling_fac = 1e-7)"
   ]
  },
  {
   "cell_type": "code",
   "execution_count": 6,
   "id": "basic-preserve",
   "metadata": {},
   "outputs": [
    {
     "name": "stdout",
     "output_type": "stream",
     "text": [
      "Objective (SSE): 8.302787336815094\n"
     ]
    }
   ],
   "source": [
    "print('Objective (SSE):',obj_value)"
   ]
  },
  {
   "cell_type": "code",
   "execution_count": 7,
   "id": "governmental-nudist",
   "metadata": {},
   "outputs": [
    {
     "name": "stdout",
     "output_type": "stream",
     "text": [
      "Covariance Matrix:\n",
      "[[ 9.40467448e+00  2.57688779e-01 -1.87931733e+01 -5.19882158e-01\n",
      "   9.36583891e+00  2.61066875e-01]\n",
      " [ 2.57688779e-01  3.12947295e-02 -4.86124532e-01 -5.88769444e-02\n",
      "   2.27389142e-01  2.75143567e-02]\n",
      " [-1.87931733e+01 -4.86124532e-01  3.76245154e+01  9.86598247e-01\n",
      "  -1.87879820e+01 -4.98365149e-01]\n",
      " [-5.19882158e-01 -5.88769444e-02  9.86598247e-01  1.11036333e-01\n",
      "  -4.64635667e-01 -5.20206511e-02]\n",
      " [ 9.36583891e+00  2.27389142e-01 -1.87879820e+01 -4.64635667e-01\n",
      "   9.40168430e+00  2.36284804e-01]\n",
      " [ 2.61066875e-01  2.75143567e-02 -4.98365149e-01 -5.20206511e-02\n",
      "   2.36284804e-01  2.44376123e-02]]\n"
     ]
    }
   ],
   "source": [
    "cov = np.array(a)\n",
    "print('Covariance Matrix:')\n",
    "print(cov)"
   ]
  },
  {
   "cell_type": "code",
   "execution_count": 8,
   "id": "f3e17afb",
   "metadata": {},
   "outputs": [],
   "source": [
    "np.savetxt('Data/Covariance/SRK_Cov_6parameter.csv',cov,delimiter=',')"
   ]
  },
  {
   "cell_type": "markdown",
   "id": "aging-authentication",
   "metadata": {},
   "source": [
    "## Apply Parameters + Plot"
   ]
  },
  {
   "cell_type": "code",
   "execution_count": 9,
   "id": "endangered-gibraltar",
   "metadata": {},
   "outputs": [],
   "source": [
    "solver = SolverFactory('ipopt')\n",
    "solver.options = {'tol': 1e-6}"
   ]
  },
  {
   "cell_type": "code",
   "execution_count": 10,
   "id": "royal-switch",
   "metadata": {},
   "outputs": [
    {
     "name": "stdout",
     "output_type": "stream",
     "text": [
      "0.974\n",
      "0.894\n",
      "0.729\n",
      "0.572\n",
      "0.442\n",
      "0.35\n",
      "0.185\n",
      "0.982\n",
      "0.924\n",
      "0.81\n",
      "0.703\n",
      "0.61\n",
      "0.525\n",
      "0.448\n",
      "0.372\n",
      "0.994\n",
      "0.953\n",
      "0.887\n",
      "0.826\n",
      "0.769\n",
      "0.715\n",
      "0.665\n",
      "0.618\n",
      "0.997\n",
      "0.971\n",
      "0.93\n",
      "0.891\n",
      "0.854\n",
      "0.818\n",
      "0.786\n",
      "0.752\n"
     ]
    }
   ],
   "source": [
    "m = ConcreteModel()\n",
    "\n",
    "m.fs = FlowsheetBlock(default={\"dynamic\": False})\n",
    "\n",
    "m.fs.properties = GenericParameterBlock(default=configuration)\n",
    "\n",
    "m.fs.F101 = Flash(default={\"property_package\": m.fs.properties,\n",
    "                           \"has_heat_transfer\": True,\n",
    "                           \"has_pressure_change\": True})\n",
    "\n",
    "m.fs.F101.inlet.flow_mol.fix(1)\n",
    "m.fs.F101.inlet.temperature.fix(323.15)\n",
    "m.fs.F101.inlet.pressure.fix(399800)\n",
    "m.fs.F101.inlet.mole_frac_comp[0,'R32'].fix(0.5)\n",
    "\n",
    "m.fs.properties.SRK_kappa_A['R32','bmimpf6'] = parameters['fs.properties.SRK_kappa_A[R32,bmimpf6]']\n",
    "m.fs.properties.SRK_kappa_A['bmimpf6','R32'] = parameters['fs.properties.SRK_kappa_A[bmimpf6,R32]']\n",
    "m.fs.properties.SRK_kappa_B['R32','bmimpf6'] = parameters['fs.properties.SRK_kappa_B[R32,bmimpf6]']\n",
    "m.fs.properties.SRK_kappa_B['bmimpf6','R32'] = parameters['fs.properties.SRK_kappa_B[bmimpf6,R32]']\n",
    "m.fs.properties.SRK_kappa_C['R32','bmimpf6'] = parameters['fs.properties.SRK_kappa_C[R32,bmimpf6]']\n",
    "m.fs.properties.SRK_kappa_C['bmimpf6','R32'] = parameters['fs.properties.SRK_kappa_C[bmimpf6,R32]']\n",
    "\n",
    "# Initialize the flash unit\n",
    "m.fs.F101.initialize(outlvl=idaeslog.CRITICAL)\n",
    "\n",
    "# Fix the state variables on the state block\n",
    "# m.fs.F101.inlet.pressure.unfix()\n",
    "m.fs.F101.inlet.mole_frac_comp[0,'bmimpf6'].unfix()\n",
    "\n",
    "R32_x = np.zeros((len(data_full)))\n",
    "P = np.zeros((len(data_full)))\n",
    "\n",
    "m.fs.liq = Param(mutable=True,default=0.040)\n",
    "m.fs.liquid = Constraint(expr=m.fs.F101.liq_outlet.mole_frac_comp[0, \"bmimpf6\"] == m.fs.liq)\n",
    "\n",
    "for i in range(len(data_full)):\n",
    "    m.fs.liq = data_full[\"x_bmimpf6\"].iloc[i]\n",
    "    m.fs.F101.inlet.temperature.fix(float(data_full[\"temperature\"].iloc[i]))\n",
    "    m.fs.F101.inlet.pressure.fix(float(data_full[\"pressure\"].iloc[i]))\n",
    "    m.fs.F101.inlet.mole_frac_comp[0,'R32'].fix(float(data_full[\"x_R32\"].iloc[i])+0.1)\n",
    "    m.fs.F101.inlet.mole_frac_comp[0,'bmimpf6'].fix(float(1-(data_full[\"x_R32\"].iloc[i]+0.1)))\n",
    "    m.fs.F101.vap_outlet.temperature.fix(float(data_full[\"temperature\"].iloc[i]))\n",
    "    \n",
    "#     DOF_final = degrees_of_freedom(m)\n",
    "#     print(\"The final DOF is {0}\".format(DOF_final))\n",
    "    m.fs.F101.initialize(outlvl=idaeslog.CRITICAL)\n",
    "    \n",
    "    status = solver.solve(m, tee = False)\n",
    "\n",
    "#     m.fs.F101.report()\n",
    "    if (status.solver.status == SolverStatus.ok) and (status.solver.termination_condition == TerminationCondition.optimal):\n",
    "        print(data_full[\"x_bmimpf6\"].iloc[i])\n",
    "        R32_x[i] = value(m.fs.F101.liq_outlet.mole_frac_comp[0,'R32']) \n",
    "        P[i] = value(m.fs.F101.vap_outlet.pressure[0])\n",
    "\n",
    "    else:\n",
    "        print('Infeasible.')"
   ]
  },
  {
   "cell_type": "code",
   "execution_count": 11,
   "id": "337a753d",
   "metadata": {},
   "outputs": [],
   "source": [
    "fitted_data = pd.DataFrame(data=[R32_x,P/1e6])\n",
    "fitted_data = fitted_data.T\n",
    "fitted_data.columns = ['R32_x','P, MPa']\n",
    "fitted_data.to_csv('Data/Fits/SRK_FittedData_6parameter.csv')"
   ]
  },
  {
   "cell_type": "code",
   "execution_count": 12,
   "id": "religious-joining",
   "metadata": {},
   "outputs": [
    {
     "data": {
      "image/png": "[encoded data removed]",
      "text/plain": [
       "<Figure size 432x288 with 1 Axes>"
      ]
     },
     "metadata": {
      "needs_background": "light"
     },
     "output_type": "display_data"
    }
   ],
   "source": [
    "P1= np.zeros((len(P)))\n",
    "\n",
    "for i in range(len(P)):\n",
    "    P1[i] = P[i]/1e6\n",
    "\n",
    "fig, ax = plt.subplots()\n",
    "\n",
    "ax.plot(R32_x[0:7],P1[0:7],\"b*-\",label=\"T= 283 K\")  \n",
    "ax.plot(R32_x[7:15],P1[7:15],\"r*-\",label=\"T= 298 K\") \n",
    "ax.plot(R32_x[15:23],P1[15:23],\"c*-\",label=\"T= 323 K\") \n",
    "ax.plot(R32_x[23:31],P1[23:31],\"m-*\",label=\"T= 348 K\")\n",
    "ax.plot(data_full[\"x_R32\"],data_full[\"pressure\"]/1e6,\"*\",color='orange',label=\"data\")  \n",
    "\n",
    "# plt.title('Isotherm R32-[emim][TF2N]')\n",
    "ax.set_ylabel('Pressure, MPa',fontsize=24)\n",
    "ax.set_xlabel('HFC-32 Mole Fraction',fontsize=24)\n",
    "\n",
    "ax.set_xticks([0.0, 0.2, 0.4, 0.6, 0.8, 1.0])\n",
    "ax.set_xticks([0.1, 0.3, 0.5, 0.7, 0.9],minor=True)\n",
    "ax.set_yticks([0.0, 0.2, 0.4, 0.6, 0.8, 1.0, 1.2])\n",
    "ax.set_yticks([0.1, 0.3, 0.5, 0.7, 0.9, 1.1],minor=True)\n",
    "\n",
    "ax.tick_params(\"both\", direction=\"in\", which=\"both\", length=4, labelsize=20, pad=10)\n",
    "ax.tick_params(\"both\", which=\"major\", length=8)\n",
    "ax.xaxis.set_ticks_position(\"both\")\n",
    "ax.yaxis.set_ticks_position(\"both\")\n",
    "\n",
    "ax.legend(fontsize=12, handletextpad=0.00, loc=\"lower right\")#, bbox_to_anchor=(1, 0.5))\n",
    "# fig.savefig('R32-emimTF2N-quadTdep.pdf',bbox_inches='tight')\n",
    "plt.show()"
   ]
  },
  {
   "cell_type": "markdown",
   "id": "graduate-addiction",
   "metadata": {},
   "source": [
    "### Print Eigvals, Eigvectors\n",
    "\n",
    "An identifiability analysis can be performed with these as well as a FIM because the covariance matrix is the inverse of the FIM. That means that if there are any eigvals > 0, their eigvecs indicate directions of un-identifiability."
   ]
  },
  {
   "cell_type": "code",
   "execution_count": 13,
   "id": "convinced-terrain",
   "metadata": {},
   "outputs": [],
   "source": [
    "eigvals, eigvecs = np.linalg.eig(cov)"
   ]
  },
  {
   "cell_type": "code",
   "execution_count": 14,
   "id": "standing-startup",
   "metadata": {},
   "outputs": [
    {
     "data": {
      "text/plain": [
       "array([5.64322865e+01, 1.48441095e-01, 1.68385664e-02, 6.61612758e-05,\n",
       "       1.05292674e-05, 6.15676269e-08])"
      ]
     },
     "execution_count": 14,
     "metadata": {},
     "output_type": "execute_result"
    }
   ],
   "source": [
    "eigvals"
   ]
  },
  {
   "cell_type": "code",
   "execution_count": 15,
   "id": "minor-relay",
   "metadata": {},
   "outputs": [
    {
     "data": {
      "text/plain": [
       "array([[-0.40785822, -0.26568284,  0.63391202, -0.418648  ,  0.42949026,\n",
       "        -0.03862415],\n",
       "       [-0.01057268, -0.40657021, -0.15951602, -0.52736605, -0.49179883,\n",
       "         0.53773829],\n",
       "       [ 0.81652835, -0.01595038, -0.02768386, -0.41099275,  0.40223412,\n",
       "        -0.03941216],\n",
       "       [ 0.02145293,  0.74921505,  0.32152713, -0.07723904, -0.01445829,\n",
       "         0.57329049],\n",
       "       [-0.40772997,  0.29286698, -0.66408721, -0.40674131,  0.37403597,\n",
       "        -0.04039782],\n",
       "       [-0.01083457, -0.34170839, -0.1659888 ,  0.45420205,  0.52131352,\n",
       "         0.614409  ]])"
      ]
     },
     "execution_count": 15,
     "metadata": {},
     "output_type": "execute_result"
    }
   ],
   "source": [
    "eigvecs"
   ]
  },
  {
   "cell_type": "code",
   "execution_count": 16,
   "id": "e7717281",
   "metadata": {},
   "outputs": [],
   "source": [
    "np.savetxt('Data/EigenAnalysis/SRK_vals_6parameter.csv',eigvals,delimiter=',')\n",
    "np.savetxt('Data/EigenAnalysis/SRK_vecs_6parameter.csv',eigvecs,delimiter=',')"
   ]
  },
  {
   "cell_type": "markdown",
   "id": "national-effects",
   "metadata": {},
   "source": [
    "Conclusion: Fully identifiable because all eigvals ~ 0"
   ]
  },
  {
   "cell_type": "markdown",
   "id": "injured-karen",
   "metadata": {},
   "source": [
    "## AIC Value\n",
    "\n",
    "See https://docs.google.com/document/d/1um0r2XK4ldjjy2colOqaZsEM3wIzGD6l_3B8gnpnI2I/edit# for equations"
   ]
  },
  {
   "cell_type": "markdown",
   "id": "pressed-spray",
   "metadata": {},
   "source": [
    "Other AIC - using SSR calculated in above parameter fitting"
   ]
  },
  {
   "cell_type": "code",
   "execution_count": 17,
   "id": "dcec85f9",
   "metadata": {},
   "outputs": [],
   "source": [
    "n=6"
   ]
  },
  {
   "cell_type": "code",
   "execution_count": 18,
   "id": "specified-croatia",
   "metadata": {},
   "outputs": [],
   "source": [
    "SSR_other = obj_value*1E-2"
   ]
  },
  {
   "cell_type": "code",
   "execution_count": 19,
   "id": "cf6b52cd",
   "metadata": {},
   "outputs": [
    {
     "data": {
      "text/plain": [
       "0.08302787336815094"
      ]
     },
     "execution_count": 19,
     "metadata": {},
     "output_type": "execute_result"
    }
   ],
   "source": [
    "SSR_other"
   ]
  },
  {
   "cell_type": "code",
   "execution_count": 20,
   "id": "positive-chrome",
   "metadata": {},
   "outputs": [
    {
     "data": {
      "text/plain": [
       "0.013837978894691823"
      ]
     },
     "execution_count": 20,
     "metadata": {},
     "output_type": "execute_result"
    }
   ],
   "source": [
    "sigma_sq_other = SSR_other/n\n",
    "sigma_sq_other"
   ]
  },
  {
   "cell_type": "code",
   "execution_count": 21,
   "id": "raising-cruise",
   "metadata": {},
   "outputs": [
    {
     "data": {
      "text/plain": [
       "4.327383920003247"
      ]
     },
     "execution_count": 21,
     "metadata": {},
     "output_type": "execute_result"
    }
   ],
   "source": [
    "L_other = -n/2*np.log(2*np.pi) - n/2*np.log(sigma_sq_other) - 1/(2*sigma_sq_other)*SSR_other\n",
    "L_other"
   ]
  },
  {
   "cell_type": "code",
   "execution_count": 22,
   "id": "solar-thermal",
   "metadata": {},
   "outputs": [
    {
     "data": {
      "text/plain": [
       "3.3452321599935058"
      ]
     },
     "execution_count": 22,
     "metadata": {},
     "output_type": "execute_result"
    }
   ],
   "source": [
    "AIC_other = 2*n - 2*L_other\n",
    "AIC_other"
   ]
  },
  {
   "cell_type": "code",
   "execution_count": 23,
   "id": "geological-pattern",
   "metadata": {},
   "outputs": [],
   "source": [
    "AIC_data = pd.DataFrame(data=[n,obj_value*1E-2,AIC_other])\n",
    "AIC_data = AIC_data.T\n",
    "AIC_data.columns = ['n','Objective, Pa^2','AIC']\n",
    "AIC_data.to_csv('Data/AIC/SRK_AIC_6parameter.csv')"
   ]
  },
  {
   "cell_type": "code",
   "execution_count": null,
   "id": "7bbeed96",
   "metadata": {},
   "outputs": [],
   "source": []
  }
 ],
 "metadata": {
  "kernelspec": {
   "display_name": "Python 3 (ipykernel)",
   "language": "python",
   "name": "python3"
  },
  "language_info": {
   "codemirror_mode": {
    "name": "ipython",
    "version": 3
   },
   "file_extension": ".py",
   "mimetype": "text/x-python",
   "name": "python",
   "nbconvert_exporter": "python",
   "pygments_lexer": "ipython3",
   "version": "3.9.9"
  }
 },
 "nbformat": 4,
 "nbformat_minor": 5
}
