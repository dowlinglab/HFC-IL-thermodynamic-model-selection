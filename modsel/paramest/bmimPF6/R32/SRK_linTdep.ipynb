{
 "cells": [
  {
   "cell_type": "markdown",
   "id": "instructional-learning",
   "metadata": {},
   "source": [
    "# Fit bmimpf6 data\n",
    "\n",
    "EoS: SRK\n",
    "\n",
    "Parameter T dependence: Linear\n",
    "\n",
    "N (total fitting parameters): 4"
   ]
  },
  {
   "cell_type": "markdown",
   "id": "extended-rabbit",
   "metadata": {},
   "source": [
    "## Import Functions"
   ]
  },
  {
   "cell_type": "code",
   "execution_count": 1,
   "id": "complicated-toronto",
   "metadata": {},
   "outputs": [],
   "source": [
    "import idaes\n",
    "\n",
    "import pandas as pd\n",
    "import numpy as np\n",
    "import matplotlib.pyplot as plt\n",
    "import scipy.optimize\n",
    "\n",
    "import sys\n",
    "sys.path.append('../../')\n",
    "\n",
    "from pyomo.environ import (Constraint,\n",
    "                           Var,\n",
    "                           ConcreteModel,\n",
    "                           Expression,\n",
    "                           Param,\n",
    "                           Objective,\n",
    "                           SolverFactory,\n",
    "                           TransformationFactory,\n",
    "                           value)\n",
    "from pyomo.opt import TerminationCondition, SolverStatus\n",
    "\n",
    "from idaes.core import FlowsheetBlock\n",
    "import idaes.logger as idaeslog\n",
    "# Import the Generic Parameter Block\n",
    "from idaes.generic_models.properties.core.generic.generic_property import (\n",
    "        GenericParameterBlock)\n",
    "# Import unit models from the model library\n",
    "from idaes.generic_models.unit_models import Flash\n",
    "# Import degrees of freedom tool\n",
    "from idaes.core.util.model_statistics import degrees_of_freedom\n",
    "\n",
    "# parmest (binary_param2)\n",
    "from bip_fitting_functions_SRK import linear\n",
    "\n",
    "import scipy.stats as stats\n",
    "\n",
    "from matplotlib.patches import Ellipse\n",
    "import matplotlib.transforms as transforms\n",
    "import matplotlib.patches as mpatches"
   ]
  },
  {
   "cell_type": "markdown",
   "id": "potential-awareness",
   "metadata": {},
   "source": [
    "## Load Data"
   ]
  },
  {
   "cell_type": "code",
   "execution_count": 2,
   "id": "latest-artist",
   "metadata": {},
   "outputs": [],
   "source": [
    "data_full = pd.read_csv('r32_bmimpf6_full.csv')\n",
    "# data_subset = pd.read_csv('r32_emimtf2n_subset.csv')"
   ]
  },
  {
   "cell_type": "markdown",
   "id": "superior-attendance",
   "metadata": {},
   "source": [
    "## Load Configuration + Check DOF"
   ]
  },
  {
   "cell_type": "code",
   "execution_count": 3,
   "id": "binding-cattle",
   "metadata": {},
   "outputs": [],
   "source": [
    "from hfc32_bmimpf6_SRK import configuration "
   ]
  },
  {
   "cell_type": "code",
   "execution_count": 4,
   "id": "backed-diving",
   "metadata": {},
   "outputs": [
    {
     "name": "stdout",
     "output_type": "stream",
     "text": [
      "The initial DOF is 7\n"
     ]
    }
   ],
   "source": [
    "m = ConcreteModel()\n",
    "m.fs = FlowsheetBlock(default={\"dynamic\": False})\n",
    "m.fs.properties = GenericParameterBlock(default=configuration)\n",
    "m.fs.F101 = Flash(default={\"property_package\": m.fs.properties,\n",
    "                           \"has_heat_transfer\": True,\n",
    "                           \"has_pressure_change\": True})\n",
    "DOF_initial = degrees_of_freedom(m)\n",
    "print('The initial DOF is {0}'.format(DOF_initial))"
   ]
  },
  {
   "cell_type": "markdown",
   "id": "conventional-health",
   "metadata": {},
   "source": [
    "## Fit Parameters"
   ]
  },
  {
   "cell_type": "code",
   "execution_count": 6,
   "id": "sensitive-secondary",
   "metadata": {},
   "outputs": [
    {
     "name": "stdout",
     "output_type": "stream",
     "text": [
      "2022-04-20 16:37:20 [INFO] idaes.init.fs.state_block: Property package initialization: optimal - Optimal Solution Found.\n",
      "2022-04-20 16:37:20 [INFO] idaes.init.fs.state_block: Property package initialization: optimal - Optimal Solution Found.\n",
      "2022-04-20 16:37:20 [INFO] idaes.init.fs.state_block: Property package initialization: optimal - Optimal Solution Found.\n",
      "2022-04-20 16:37:21 [INFO] idaes.init.fs.state_block: Property package initialization: optimal - Optimal Solution Found.\n",
      "2022-04-20 16:37:21 [INFO] idaes.init.fs.state_block: Property package initialization: optimal - Optimal Solution Found.\n",
      "2022-04-20 16:37:22 [INFO] idaes.init.fs.state_block: Property package initialization: optimal - Optimal Solution Found.\n",
      "2022-04-20 16:37:22 [INFO] idaes.init.fs.state_block: Property package initialization: optimal - Optimal Solution Found.\n",
      "2022-04-20 16:37:22 [INFO] idaes.init.fs.state_block: Property package initialization: optimal - Optimal Solution Found.\n",
      "2022-04-20 16:37:23 [INFO] idaes.init.fs.state_block: Property package initialization: optimal - Optimal Solution Found.\n",
      "2022-04-20 16:37:23 [INFO] idaes.init.fs.state_block: Property package initialization: optimal - Optimal Solution Found.\n",
      "2022-04-20 16:37:24 [INFO] idaes.init.fs.state_block: Property package initialization: optimal - Optimal Solution Found.\n",
      "2022-04-20 16:37:24 [INFO] idaes.init.fs.state_block: Property package initialization: optimal - Optimal Solution Found.\n",
      "2022-04-20 16:37:25 [INFO] idaes.init.fs.state_block: Property package initialization: optimal - Optimal Solution Found.\n",
      "2022-04-20 16:37:25 [INFO] idaes.init.fs.state_block: Property package initialization: optimal - Optimal Solution Found.\n",
      "2022-04-20 16:37:26 [INFO] idaes.init.fs.state_block: Property package initialization: optimal - Optimal Solution Found.\n",
      "2022-04-20 16:37:26 [INFO] idaes.init.fs.state_block: Property package initialization: optimal - Optimal Solution Found.\n",
      "2022-04-20 16:37:27 [INFO] idaes.init.fs.state_block: Property package initialization: optimal - Optimal Solution Found.\n",
      "2022-04-20 16:37:27 [INFO] idaes.init.fs.state_block: Property package initialization: optimal - Optimal Solution Found.\n",
      "2022-04-20 16:37:28 [INFO] idaes.init.fs.state_block: Property package initialization: optimal - Optimal Solution Found.\n",
      "2022-04-20 16:37:29 [INFO] idaes.init.fs.state_block: Property package initialization: optimal - Optimal Solution Found.\n",
      "2022-04-20 16:37:29 [INFO] idaes.init.fs.state_block: Property package initialization: optimal - Optimal Solution Found.\n",
      "2022-04-20 16:37:30 [INFO] idaes.init.fs.state_block: Property package initialization: optimal - Optimal Solution Found.\n",
      "2022-04-20 16:37:30 [INFO] idaes.init.fs.state_block: Property package initialization: optimal - Optimal Solution Found.\n",
      "2022-04-20 16:37:31 [INFO] idaes.init.fs.state_block: Property package initialization: optimal - Optimal Solution Found.\n",
      "2022-04-20 16:37:31 [INFO] idaes.init.fs.state_block: Property package initialization: optimal - Optimal Solution Found.\n",
      "2022-04-20 16:37:32 [INFO] idaes.init.fs.state_block: Property package initialization: optimal - Optimal Solution Found.\n",
      "2022-04-20 16:37:32 [INFO] idaes.init.fs.state_block: Property package initialization: optimal - Optimal Solution Found.\n",
      "2022-04-20 16:37:32 [INFO] idaes.init.fs.state_block: Property package initialization: optimal - Optimal Solution Found.\n",
      "2022-04-20 16:37:33 [INFO] idaes.init.fs.state_block: Property package initialization: optimal - Optimal Solution Found.\n",
      "2022-04-20 16:37:33 [INFO] idaes.init.fs.state_block: Property package initialization: optimal - Optimal Solution Found.\n",
      "2022-04-20 16:37:33 [INFO] idaes.init.fs.state_block: Property package initialization: optimal - Optimal Solution Found.\n",
      "Ipopt 3.13.2: bound_relax_factor=0\n",
      "honor_original_bounds=no\n",
      "\n",
      "\n",
      "******************************************************************************\n",
      "This program contains Ipopt, a library for large-scale nonlinear optimization.\n",
      " Ipopt is released as open source code under the Eclipse Public License (EPL).\n",
      "         For more information visit http://projects.coin-or.org/Ipopt\n",
      "\n",
      "This version of Ipopt was compiled from source code available at\n",
      "    https://github.com/IDAES/Ipopt as part of the Institute for the Design of\n",
      "    Advanced Energy Systems Process Systems Engineering Framework (IDAES PSE\n",
      "    Framework) Copyright (c) 2018-2019. See https://github.com/IDAES/idaes-pse.\n",
      "\n",
      "This version of Ipopt was compiled using HSL, a collection of Fortran codes\n",
      "    for large-scale scientific computation.  All technical papers, sales and\n",
      "    publicity material resulting from use of the HSL codes within IPOPT must\n",
      "    contain the following acknowledgement:\n",
      "        HSL, a collection of Fortran codes for large-scale scientific\n",
      "        computation. See http://www.hsl.rl.ac.uk.\n",
      "******************************************************************************\n",
      "\n",
      "This is Ipopt version 3.13.2, running with linear solver ma27.\n",
      "\n",
      "Number of nonzeros in equality constraint Jacobian...:     1294\n",
      "Number of nonzeros in inequality constraint Jacobian.:        0\n",
      "Number of nonzeros in Lagrangian Hessian.............:     1643\n",
      "\n",
      "Total number of variables............................:      496\n",
      "                     variables with only lower bounds:      124\n",
      "                variables with lower and upper bounds:      310\n",
      "                     variables with only upper bounds:        0\n",
      "Total number of equality constraints.................:      492\n",
      "Total number of inequality constraints...............:        0\n",
      "        inequality constraints with only lower bounds:        0\n",
      "   inequality constraints with lower and upper bounds:        0\n",
      "        inequality constraints with only upper bounds:        0\n",
      "\n",
      "iter    objective    inf_pr   inf_du lg(mu)  ||d||  lg(rg) alpha_du alpha_pr  ls\n",
      "   0  0.0000000e+00 1.16e+00 7.06e-14  -1.0 0.00e+00    -  0.00e+00 0.00e+00   0\n",
      "   1  9.7575267e-02 4.89e-01 1.25e+04  -1.0 5.73e+04    -  2.92e-01 6.81e-01h  1\n",
      "   2  1.8173094e-01 1.71e-01 3.26e+03  -1.0 1.94e+04    -  7.12e-01 7.18e-01h  1\n",
      "   3  2.2602995e-01 1.09e-02 1.70e+02  -1.0 6.08e+03    -  8.67e-01 9.90e-01h  1\n",
      "   4  2.2452867e-01 4.80e-03 5.91e+02  -1.0 7.85e+02    -  9.38e-01 9.90e-01h  1\n",
      "   5  2.1855408e-01 5.99e-03 8.36e+05  -1.0 2.83e+03    -  2.37e-01 9.90e-01H  1\n",
      "   6  2.1198213e-01 1.40e-03 2.94e+07  -1.0 4.21e+03    -  7.25e-01 9.90e-01H  1\n",
      "   7  2.1200533e-01 1.39e-03 4.59e+09  -1.0 5.01e+03    -  4.19e-01 3.87e-03h  9\n",
      "   8  2.1203654e-01 1.39e-03 6.54e+09  -1.0 1.04e+04    -  1.76e-01 9.67e-04h 11\n",
      "   9  2.1203943e-01 1.33e-05 6.54e+07  -1.0 5.40e-01  -4.0 9.90e-01 9.90e-01h  1\n",
      "iter    objective    inf_pr   inf_du lg(mu)  ||d||  lg(rg) alpha_du alpha_pr  ls\n",
      "  10  2.1203533e-01 1.33e-05 1.11e+12  -1.0 1.26e+04    -  9.90e-01 6.04e-05h 15\n",
      "  11  2.2265022e-01 2.04e+01 1.11e+10  -1.0 1.58e+04    -  9.90e-01 9.90e-01s 22\n",
      "  12  2.8116996e-01 8.16e+00 1.11e+08  -1.0 1.75e+04    -  9.90e-01 9.90e-01s 22\n",
      "  13  3.9553079e-01 8.74e+00 5.13e-01  -1.0 9.07e+03    -  1.00e+00 1.00e+00s 22\n",
      "  14r 3.9553079e-01 8.74e+00 1.00e+03   0.5 0.00e+00    -  0.00e+00 0.00e+00R  1\n",
      "  15r 3.9552924e-01 3.00e+00 9.59e+02   0.5 3.47e+03    -  4.28e-01 1.82e-02f  1\n",
      "  16  3.9696516e-01 1.70e+00 5.22e+02  -1.0 4.73e+02    -  7.80e-01 4.95e-01h  2\n",
      "  17  3.9774317e-01 9.34e-01 1.64e+03  -1.0 2.64e+02    -  8.76e-01 4.95e-01h  2\n",
      "  18  3.9867631e-01 1.10e-01 1.51e+01  -1.0 1.85e+02    -  9.90e-01 9.90e-01h  1\n",
      "  19  4.0626617e-01 5.59e-02 3.53e+05  -1.0 2.25e+03    -  9.89e-01 4.95e-01h  2\n",
      "iter    objective    inf_pr   inf_du lg(mu)  ||d||  lg(rg) alpha_du alpha_pr  ls\n",
      "  20  4.1760105e-01 4.21e-02 1.32e+06  -1.0 3.66e+03    -  9.90e-01 2.47e-01h  3\n",
      "  21  4.3722685e-01 2.14e-02 1.60e+06  -1.0 2.67e+03    -  9.93e-01 4.95e-01h  2\n",
      "  22  4.3868740e-01 2.01e-02 4.99e+06  -1.0 1.44e+03    -  1.00e+00 6.19e-02h  5\n",
      "  23  4.4424034e-01 1.51e-02 6.74e+06  -1.0 1.36e+03    -  1.00e+00 2.47e-01h  3\n",
      "  24  4.4640411e-01 1.33e-02 1.05e+07  -1.0 1.05e+03    -  1.00e+00 1.24e-01h  4\n",
      "  25  4.4736413e-01 1.24e-02 1.55e+07  -1.0 9.30e+02    -  1.00e+00 6.19e-02h  5\n",
      "  26  4.4759047e-01 1.22e-02 2.16e+07  -1.0 8.77e+02    -  1.00e+00 1.55e-02h  7\n",
      "  27  4.4770203e-01 1.21e-02 2.79e+07  -1.0 8.64e+02    -  1.00e+00 7.73e-03h  8\n",
      "  28  4.4771587e-01 1.21e-02 3.44e+07  -1.0 8.58e+02    -  1.00e+00 9.67e-04h 11\n",
      "  29  4.6205534e-01 9.41e+00 4.10e+05  -1.0 8.57e+02    -  1.00e+00 9.90e-01w  1\n",
      "iter    objective    inf_pr   inf_du lg(mu)  ||d||  lg(rg) alpha_du alpha_pr  ls\n",
      "  30  4.2549573e-01 3.29e+00 6.58e+06  -1.0 2.41e+03    -  1.00e+00 9.90e-01w  1\n",
      "  31  4.3846271e-01 8.28e-01 6.57e+08  -1.0 9.24e+02    -  1.00e+00 9.90e-01w  1\n"
     ]
    },
    {
     "name": "stdout",
     "output_type": "stream",
     "text": [
      "  32  4.4772279e-01 1.21e-02 4.10e+07  -1.0 1.25e+02    -  1.00e+00 4.83e-04h 11\n",
      "  33  4.4772624e-01 1.21e-02 4.75e+07  -1.0 8.57e+02    -  1.00e+00 2.42e-04h 13\n",
      "  34  4.4772667e-01 1.21e-02 5.41e+07  -1.0 8.56e+02    -  1.00e+00 3.02e-05h 16\n",
      "  35  4.6205610e-01 9.41e+00 5.41e+05  -1.0 8.56e+02    -  9.90e-01 9.90e-01s 22\n",
      "  36  4.2549693e-01 3.29e+00 5.41e+03  -1.0 2.41e+03    -  9.90e-01 9.90e-01s 22\n",
      "  37  2.9893549e-01 7.88e-01 2.64e+08  -1.7 1.12e+04    -  9.70e-01 9.90e-01h  1\n",
      "  38  2.4849430e-01 7.59e-02 1.32e+10  -1.7 4.84e+03    -  1.00e+00 9.90e-01h  1\n",
      "In iteration 38, 31 Slacks too small, adjusting variable bounds\n",
      "  39  2.4663935e-01 2.09e-03 1.32e+12  -1.7 3.27e+02    -  1.00e+00 9.90e-01h  1\n",
      "iter    objective    inf_pr   inf_du lg(mu)  ||d||  lg(rg) alpha_du alpha_pr  ls\n",
      "  40  2.4653716e-01 4.68e-06 3.42e-03  -1.7 1.02e+01    -  1.00e+00 1.00e+00h  1\n",
      "  41  1.9733075e-01 1.55e-01 1.41e+11  -8.6 7.22e+03    -  8.95e-01 1.00e+00f  1\n",
      "  42  1.8002722e-01 5.70e-02 2.05e+10  -8.6 3.65e+03    -  8.55e-01 9.34e-01h  1\n",
      "  43  1.7933252e-01 8.44e-03 2.68e+08  -8.6 1.52e+03    -  9.87e-01 1.00e+00h  1\n",
      "  44  1.7932447e-01 9.83e-05 6.31e+04  -8.6 2.58e+02    -  1.00e+00 1.00e+00h  1\n",
      "  45  1.7932464e-01 1.71e-08 5.20e-08  -8.6 3.95e+00    -  1.00e+00 1.00e+00h  1\n",
      "\n",
      "Number of Iterations....: 45\n",
      "\n",
      "                                   (scaled)                 (unscaled)\n",
      "Objective...............:   1.7932463917605987e-01    1.7932463917605987e-01\n",
      "Dual infeasibility......:   5.1951424829400232e-08    5.1951424829400232e-08\n",
      "Constraint violation....:   4.8089117004652380e-09    1.7133907181943187e-08\n",
      "Complementarity.........:   3.1536985926236905e-09    3.1536985926236905e-09\n",
      "Overall NLP error.......:   4.8089117004652380e-09    5.1951424829400232e-08\n",
      "\n",
      "\n",
      "Number of objective function evaluations             = 231\n",
      "Number of objective gradient evaluations             = 46\n",
      "Number of equality constraint evaluations            = 231\n",
      "Number of inequality constraint evaluations          = 0\n",
      "Number of equality constraint Jacobian evaluations   = 47\n",
      "Number of inequality constraint Jacobian evaluations = 0\n",
      "Number of Lagrangian Hessian evaluations             = 45\n",
      "Total CPU secs in IPOPT (w/o function evaluations)   =      0.068\n",
      "Total CPU secs in NLP function evaluations           =      1.676\n",
      "\n",
      "EXIT: Optimal Solution Found.\n",
      "WARNING: The current pynumero_ASL library is version=2, but found version=1.\n",
      "    Please recompile / update your pynumero_ASL library.\n",
      "The SSE at the optimal solution is 0.179325\n",
      "\n",
      "The values for the parameters are as follows:\n",
      "fs.properties.SRK_kappa_A[R32,bmimpf6] = 0.03242047548168166\n",
      "fs.properties.SRK_kappa_A[bmimpf6,R32] = 0.17371552938856252\n",
      "fs.properties.SRK_kappa_B[R32,bmimpf6] = -0.06465978022125095\n",
      "fs.properties.SRK_kappa_B[bmimpf6,R32] = -0.2110941196704508\n",
      "covariance_matrix                                         fs.properties.SRK_kappa_A[R32,bmimpf6]  \\\n",
      "fs.properties.SRK_kappa_A[R32,bmimpf6]                                0.000204   \n",
      "fs.properties.SRK_kappa_A[bmimpf6,R32]                                0.001004   \n",
      "fs.properties.SRK_kappa_B[R32,bmimpf6]                               -0.000185   \n",
      "fs.properties.SRK_kappa_B[bmimpf6,R32]                               -0.000891   \n",
      "\n",
      "                                        fs.properties.SRK_kappa_A[bmimpf6,R32]  \\\n",
      "fs.properties.SRK_kappa_A[R32,bmimpf6]                                0.001004   \n",
      "fs.properties.SRK_kappa_A[bmimpf6,R32]                                0.004939   \n",
      "fs.properties.SRK_kappa_B[R32,bmimpf6]                               -0.000911   \n",
      "fs.properties.SRK_kappa_B[bmimpf6,R32]                               -0.004389   \n",
      "\n",
      "                                        fs.properties.SRK_kappa_B[R32,bmimpf6]  \\\n",
      "fs.properties.SRK_kappa_A[R32,bmimpf6]                               -0.000185   \n",
      "fs.properties.SRK_kappa_A[bmimpf6,R32]                               -0.000911   \n",
      "fs.properties.SRK_kappa_B[R32,bmimpf6]                                0.000169   \n",
      "fs.properties.SRK_kappa_B[bmimpf6,R32]                                0.000816   \n",
      "\n",
      "                                        fs.properties.SRK_kappa_B[bmimpf6,R32]  \n",
      "fs.properties.SRK_kappa_A[R32,bmimpf6]                               -0.000891  \n",
      "fs.properties.SRK_kappa_A[bmimpf6,R32]                               -0.004389  \n",
      "fs.properties.SRK_kappa_B[R32,bmimpf6]                                0.000816  \n",
      "fs.properties.SRK_kappa_B[bmimpf6,R32]                                0.004012  \n"
     ]
    }
   ],
   "source": [
    "parameters, obj_value, a = linear(data_full, configuration, 'R32', 'bmimpf6', \"x_R32\", \"x_bmimpf6\", \n",
    "    init_temp =  283.1, init_press =   399300 , init_x_c1 =    0.448, init_x_c2 = 0.552,\n",
    "    init_kappa_2_1A = -0.001, init_kappa_1_2A = -0.001,\n",
    "    init_kappa_2_1B = -0.001, init_kappa_1_2B = -0.001, eps = 0.1, scaling_fac = 1e-9)"
   ]
  },
  {
   "cell_type": "code",
   "execution_count": 7,
   "id": "basic-preserve",
   "metadata": {},
   "outputs": [
    {
     "name": "stdout",
     "output_type": "stream",
     "text": [
      "Objective (SSE): 0.17932463917605984\n"
     ]
    }
   ],
   "source": [
    "print('Objective (SSE):',obj_value)"
   ]
  },
  {
   "cell_type": "code",
   "execution_count": 8,
   "id": "governmental-nudist",
   "metadata": {},
   "outputs": [
    {
     "name": "stdout",
     "output_type": "stream",
     "text": [
      "Covariance Matrix:\n",
      "[[ 0.00020391  0.00100358 -0.00018498 -0.00089133]\n",
      " [ 0.00100358  0.0049394  -0.00091052 -0.00438949]\n",
      " [-0.00018498 -0.00091052  0.0001687   0.00081632]\n",
      " [-0.00089133 -0.00438949  0.00081632  0.00401228]]\n"
     ]
    }
   ],
   "source": [
    "cov = np.array(a)\n",
    "print('Covariance Matrix:')\n",
    "print(cov)"
   ]
  },
  {
   "cell_type": "code",
   "execution_count": 9,
   "id": "e449be04",
   "metadata": {},
   "outputs": [],
   "source": [
    "np.savetxt('Data/Covariance/SRK_Cov_4parameter.csv',cov,delimiter=',')"
   ]
  },
  {
   "cell_type": "markdown",
   "id": "aging-authentication",
   "metadata": {},
   "source": [
    "## Apply Parameters + Plot"
   ]
  },
  {
   "cell_type": "code",
   "execution_count": 10,
   "id": "endangered-gibraltar",
   "metadata": {},
   "outputs": [],
   "source": [
    "solver = SolverFactory('ipopt')\n",
    "solver.options = {'tol': 1e-6}"
   ]
  },
  {
   "cell_type": "code",
   "execution_count": 11,
   "id": "royal-switch",
   "metadata": {},
   "outputs": [
    {
     "name": "stdout",
     "output_type": "stream",
     "text": [
      "0.974\n",
      "0.894\n",
      "0.729\n",
      "0.572\n",
      "0.442\n",
      "0.35\n",
      "0.185\n",
      "0.982\n",
      "0.924\n",
      "0.81\n",
      "0.703\n",
      "0.61\n",
      "0.525\n",
      "0.448\n",
      "0.372\n",
      "0.994\n",
      "0.953\n",
      "0.887\n",
      "0.826\n",
      "0.769\n",
      "0.715\n",
      "0.665\n",
      "0.618\n",
      "0.997\n",
      "0.971\n",
      "0.93\n",
      "0.891\n",
      "0.854\n",
      "0.818\n",
      "0.786\n",
      "0.752\n"
     ]
    }
   ],
   "source": [
    "m = ConcreteModel()\n",
    "\n",
    "m.fs = FlowsheetBlock(default={\"dynamic\": False})\n",
    "\n",
    "m.fs.properties = GenericParameterBlock(default=configuration)\n",
    "\n",
    "m.fs.F101 = Flash(default={\"property_package\": m.fs.properties,\n",
    "                           \"has_heat_transfer\": True,\n",
    "                           \"has_pressure_change\": True})\n",
    "\n",
    "m.fs.F101.inlet.flow_mol.fix(1)\n",
    "m.fs.F101.inlet.temperature.fix(323.15)\n",
    "m.fs.F101.inlet.pressure.fix(399800)\n",
    "m.fs.F101.inlet.mole_frac_comp[0,'R32'].fix(0.5)\n",
    "\n",
    "m.fs.properties.SRK_kappa_A['R32','bmimpf6'] = parameters['fs.properties.SRK_kappa_A[R32,bmimpf6]']\n",
    "m.fs.properties.SRK_kappa_A['bmimpf6','R32'] = parameters['fs.properties.SRK_kappa_A[bmimpf6,R32]']\n",
    "m.fs.properties.SRK_kappa_B['R32','bmimpf6'] = parameters['fs.properties.SRK_kappa_B[R32,bmimpf6]']\n",
    "m.fs.properties.SRK_kappa_B['bmimpf6','R32'] = parameters['fs.properties.SRK_kappa_B[bmimpf6,R32]']\n",
    "\n",
    "# Initialize the flash unit\n",
    "m.fs.F101.initialize(outlvl=idaeslog.CRITICAL)\n",
    "\n",
    "# Fix the state variables on the state block\n",
    "# m.fs.F101.inlet.pressure.unfix()\n",
    "m.fs.F101.inlet.mole_frac_comp[0,'bmimpf6'].unfix()\n",
    "\n",
    "R32_x = np.zeros((len(data_full)))\n",
    "P = np.zeros((len(data_full)))\n",
    "\n",
    "m.fs.liq = Param(mutable=True,default=0.040)\n",
    "m.fs.liquid = Constraint(expr=m.fs.F101.liq_outlet.mole_frac_comp[0, \"bmimpf6\"] == m.fs.liq)\n",
    "\n",
    "for i in range(len(data_full)):\n",
    "    m.fs.liq = data_full[\"x_bmimpf6\"].iloc[i]\n",
    "    m.fs.F101.inlet.temperature.fix(float(data_full[\"temperature\"].iloc[i]))\n",
    "    m.fs.F101.inlet.pressure.fix(float(data_full[\"pressure\"].iloc[i]))\n",
    "    m.fs.F101.inlet.mole_frac_comp[0,'R32'].fix(float(data_full[\"x_R32\"].iloc[i])+0.1)\n",
    "    m.fs.F101.inlet.mole_frac_comp[0,'bmimpf6'].fix(float(1-(data_full[\"x_R32\"].iloc[i]+0.1)))\n",
    "    m.fs.F101.vap_outlet.temperature.fix(float(data_full[\"temperature\"].iloc[i]))\n",
    "    \n",
    "#     DOF_final = degrees_of_freedom(m)\n",
    "#     print(\"The final DOF is {0}\".format(DOF_final))\n",
    "    m.fs.F101.initialize(outlvl=idaeslog.CRITICAL)\n",
    "    \n",
    "    status = solver.solve(m, tee = False)\n",
    "\n",
    "#     m.fs.F101.report()\n",
    "    if (status.solver.status == SolverStatus.ok) and (status.solver.termination_condition == TerminationCondition.optimal):\n",
    "        print(data_full[\"x_bmimpf6\"].iloc[i])\n",
    "        R32_x[i] = value(m.fs.F101.liq_outlet.mole_frac_comp[0,'R32']) \n",
    "        P[i] = value(m.fs.F101.vap_outlet.pressure[0])\n",
    "\n",
    "    else:\n",
    "        print('Infeasible.')"
   ]
  },
  {
   "cell_type": "code",
   "execution_count": 12,
   "id": "03512f76",
   "metadata": {},
   "outputs": [],
   "source": [
    "fitted_data = pd.DataFrame(data=[R32_x,P/1e6])\n",
    "fitted_data = fitted_data.T\n",
    "fitted_data.columns = ['R32_x','P, MPa']\n",
    "fitted_data.to_csv('Data/Fits/SRK_FittedData_4parameter.csv')"
   ]
  },
  {
   "cell_type": "code",
   "execution_count": 13,
   "id": "religious-joining",
   "metadata": {},
   "outputs": [
    {
     "data": {
      "image/png": "[encoded data removed]",
      "text/plain": [
       "<Figure size 432x288 with 1 Axes>"
      ]
     },
     "metadata": {
      "needs_background": "light"
     },
     "output_type": "display_data"
    }
   ],
   "source": [
    "P1= np.zeros((len(P)))\n",
    "\n",
    "for i in range(len(P)):\n",
    "    P1[i] = P[i]/1e6\n",
    "\n",
    "fig, ax = plt.subplots()\n",
    "\n",
    "ax.plot(R32_x[0:7],P1[0:7],\"b*-\",label=\"T= 283 K\")  \n",
    "ax.plot(R32_x[7:15],P1[7:15],\"r*-\",label=\"T= 298 K\") \n",
    "ax.plot(R32_x[15:23],P1[15:23],\"c*-\",label=\"T= 323 K\") \n",
    "ax.plot(R32_x[23:31],P1[23:31],\"m-*\",label=\"T= 348 K\")\n",
    "ax.plot(data_full[\"x_R32\"],data_full[\"pressure\"]/1e6,\"*\",color='orange',label=\"data\")  \n",
    "\n",
    "# plt.title('Isotherm R32-[emim][TF2N]')\n",
    "ax.set_ylabel('Pressure, MPa',fontsize=24)\n",
    "ax.set_xlabel('HFC-32 Mole Fraction',fontsize=24)\n",
    "\n",
    "ax.set_xticks([0.0, 0.2, 0.4, 0.6, 0.8, 1.0])\n",
    "ax.set_xticks([0.1, 0.3, 0.5, 0.7, 0.9],minor=True)\n",
    "ax.set_yticks([0.0, 0.2, 0.4, 0.6, 0.8, 1.0, 1.2])\n",
    "ax.set_yticks([0.1, 0.3, 0.5, 0.7, 0.9, 1.1],minor=True)\n",
    "\n",
    "ax.tick_params(\"both\", direction=\"in\", which=\"both\", length=4, labelsize=20, pad=10)\n",
    "ax.tick_params(\"both\", which=\"major\", length=8)\n",
    "ax.xaxis.set_ticks_position(\"both\")\n",
    "ax.yaxis.set_ticks_position(\"both\")\n",
    "\n",
    "ax.legend(fontsize=12, handletextpad=0.00, loc=\"lower right\")#, bbox_to_anchor=(1, 0.5))\n",
    "# fig.savefig('R32-emimTF2N-linTdep.pdf',bbox_inches='tight')\n",
    "plt.show()"
   ]
  },
  {
   "cell_type": "markdown",
   "id": "vanilla-chapel",
   "metadata": {},
   "source": [
    "### Print Eigvals, Eigvectors\n",
    "\n",
    "An identifiability analysis can be performed with these as well as a FIM because the covariance matrix is the inverse of the FIM. That means that if there are any eigvals > 0, their eigvecs indicate directions of un-identifiability."
   ]
  },
  {
   "cell_type": "code",
   "execution_count": 14,
   "id": "focused-rotation",
   "metadata": {},
   "outputs": [],
   "source": [
    "eigvals, eigvecs = np.linalg.eig(cov)"
   ]
  },
  {
   "cell_type": "code",
   "execution_count": 15,
   "id": "indie-eclipse",
   "metadata": {},
   "outputs": [
    {
     "data": {
      "text/plain": [
       "array([9.26066462e-03, 6.32395660e-05, 7.63212962e-11, 3.92230385e-07])"
      ]
     },
     "execution_count": 15,
     "metadata": {},
     "output_type": "execute_result"
    }
   ],
   "source": [
    "eigvals"
   ]
  },
  {
   "cell_type": "code",
   "execution_count": 16,
   "id": "lightweight-october",
   "metadata": {},
   "outputs": [
    {
     "data": {
      "text/plain": [
       "array([[-0.14795589, -0.13683993,  0.97944962,  0.00789557],\n",
       "       [-0.72838826, -0.64311665, -0.1988515 , -0.12770905],\n",
       "       [ 0.13478923,  0.03366503,  0.03304328, -0.98975081],\n",
       "       [ 0.65527969, -0.75269016, -0.00668362,  0.06341441]])"
      ]
     },
     "execution_count": 16,
     "metadata": {},
     "output_type": "execute_result"
    }
   ],
   "source": [
    "eigvecs"
   ]
  },
  {
   "cell_type": "code",
   "execution_count": 17,
   "id": "004e04bc",
   "metadata": {},
   "outputs": [],
   "source": [
    "np.savetxt('Data/EigenAnalysis/SRK_vals_4parameter.csv',eigvals,delimiter=',')\n",
    "np.savetxt('Data/EigenAnalysis/SRK_vecs_4parameter.csv',eigvecs,delimiter=',')"
   ]
  },
  {
   "cell_type": "markdown",
   "id": "fitting-flooring",
   "metadata": {},
   "source": [
    "Conclusion: Full identifiable because all eigvals ~ 0"
   ]
  },
  {
   "cell_type": "markdown",
   "id": "suited-substance",
   "metadata": {},
   "source": [
    "## AIC Value\n",
    "\n",
    "See https://docs.google.com/document/d/1um0r2XK4ldjjy2colOqaZsEM3wIzGD6l_3B8gnpnI2I/edit# for equations"
   ]
  },
  {
   "cell_type": "markdown",
   "id": "united-equity",
   "metadata": {},
   "source": [
    "Other AIC - using SSR calculated in above parameter fitting"
   ]
  },
  {
   "cell_type": "code",
   "execution_count": 18,
   "id": "d7fed7a7",
   "metadata": {},
   "outputs": [],
   "source": [
    "n=4"
   ]
  },
  {
   "cell_type": "code",
   "execution_count": 19,
   "id": "fourth-norfolk",
   "metadata": {},
   "outputs": [],
   "source": [
    "SSR_other = obj_value"
   ]
  },
  {
   "cell_type": "code",
   "execution_count": 20,
   "id": "according-present",
   "metadata": {},
   "outputs": [
    {
     "data": {
      "text/plain": [
       "0.04483115979401496"
      ]
     },
     "execution_count": 20,
     "metadata": {},
     "output_type": "execute_result"
    }
   ],
   "source": [
    "sigma_sq_other = SSR_other/n\n",
    "sigma_sq_other"
   ]
  },
  {
   "cell_type": "code",
   "execution_count": 21,
   "id": "passive-hardware",
   "metadata": {},
   "outputs": [
    {
     "data": {
      "text/plain": [
       "0.5339495676102297"
      ]
     },
     "execution_count": 21,
     "metadata": {},
     "output_type": "execute_result"
    }
   ],
   "source": [
    "L_other = -n/2*np.log(2*np.pi) - n/2*np.log(sigma_sq_other) - 1/(2*sigma_sq_other)*SSR_other\n",
    "L_other"
   ]
  },
  {
   "cell_type": "code",
   "execution_count": 22,
   "id": "finite-pacific",
   "metadata": {},
   "outputs": [
    {
     "data": {
      "text/plain": [
       "6.932100864779541"
      ]
     },
     "execution_count": 22,
     "metadata": {},
     "output_type": "execute_result"
    }
   ],
   "source": [
    "AIC_other = 2*n - 2*L_other\n",
    "AIC_other"
   ]
  },
  {
   "cell_type": "code",
   "execution_count": 23,
   "id": "casual-princess",
   "metadata": {},
   "outputs": [],
   "source": [
    "AIC_data = pd.DataFrame(data=[n,obj_value,AIC_other])\n",
    "AIC_data = AIC_data.T\n",
    "AIC_data.columns = ['n','Objective, Pa^2','AIC']\n",
    "AIC_data.to_csv('Data/AIC/SRK_AIC_4parameter.csv')"
   ]
  },
  {
   "cell_type": "code",
   "execution_count": null,
   "id": "00140605",
   "metadata": {},
   "outputs": [],
   "source": []
  }
 ],
 "metadata": {
  "kernelspec": {
   "display_name": "Python 3 (ipykernel)",
   "language": "python",
   "name": "python3"
  },
  "language_info": {
   "codemirror_mode": {
    "name": "ipython",
    "version": 3
   },
   "file_extension": ".py",
   "mimetype": "text/x-python",
   "name": "python",
   "nbconvert_exporter": "python",
   "pygments_lexer": "ipython3",
   "version": "3.9.9"
  }
 },
 "nbformat": 4,
 "nbformat_minor": 5
}
