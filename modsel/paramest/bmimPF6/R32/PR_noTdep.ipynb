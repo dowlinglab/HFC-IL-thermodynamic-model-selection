{
 "cells": [
  {
   "cell_type": "markdown",
   "id": "voluntary-ridge",
   "metadata": {},
   "source": [
    "# Fit bmimpf6 data\n",
    "\n",
    "EoS: PR\n",
    "\n",
    "Parameter T dependence: Constant\n",
    "\n",
    "N (total fitting parameters): 2"
   ]
  },
  {
   "cell_type": "markdown",
   "id": "improved-meeting",
   "metadata": {},
   "source": [
    "## Import Functions"
   ]
  },
  {
   "cell_type": "code",
   "execution_count": 1,
   "id": "contained-performance",
   "metadata": {},
   "outputs": [],
   "source": [
    "import idaes\n",
    "\n",
    "import pandas as pd\n",
    "import numpy as np\n",
    "import matplotlib.pyplot as plt\n",
    "import scipy.optimize\n",
    "\n",
    "import sys\n",
    "sys.path.append('../../')\n",
    "\n",
    "from pyomo.environ import (Constraint,\n",
    "                           Var,\n",
    "                           ConcreteModel,\n",
    "                           Expression,\n",
    "                           Param,\n",
    "                           Objective,\n",
    "                           SolverFactory,\n",
    "                           TransformationFactory,\n",
    "                           value)\n",
    "from pyomo.opt import TerminationCondition, SolverStatus\n",
    "\n",
    "from idaes.core import FlowsheetBlock\n",
    "import idaes.logger as idaeslog\n",
    "# Import the Generic Parameter Block\n",
    "from idaes.generic_models.properties.core.generic.generic_property import (\n",
    "        GenericParameterBlock)\n",
    "# Import unit models from the model library\n",
    "from idaes.generic_models.unit_models import Flash\n",
    "# Import degrees of freedom tool\n",
    "from idaes.core.util.model_statistics import degrees_of_freedom\n",
    "\n",
    "# parmest (binary_param2)\n",
    "from bip_fitting_functions import constant\n",
    "\n",
    "import scipy.stats as stats\n",
    "\n",
    "from matplotlib.patches import Ellipse\n",
    "import matplotlib.transforms as transforms\n",
    "import matplotlib.patches as mpatches"
   ]
  },
  {
   "cell_type": "markdown",
   "id": "judicial-calculator",
   "metadata": {},
   "source": [
    "## Load Data"
   ]
  },
  {
   "cell_type": "code",
   "execution_count": 2,
   "id": "technological-freeze",
   "metadata": {},
   "outputs": [],
   "source": [
    "data_full = pd.read_csv('r32_bmimpf6_full.csv')\n",
    "# data_subset = pd.read_csv('r32_emimtf2n_subset.csv')"
   ]
  },
  {
   "cell_type": "code",
   "execution_count": 3,
   "id": "3e1f182e",
   "metadata": {},
   "outputs": [
    {
     "data": {
      "text/html": [
       "<div>\n",
       "<style scoped>\n",
       "    .dataframe tbody tr th:only-of-type {\n",
       "        vertical-align: middle;\n",
       "    }\n",
       "\n",
       "    .dataframe tbody tr th {\n",
       "        vertical-align: top;\n",
       "    }\n",
       "\n",
       "    .dataframe thead th {\n",
       "        text-align: right;\n",
       "    }\n",
       "</style>\n",
       "<table border=\"1\" class=\"dataframe\">\n",
       "  <thead>\n",
       "    <tr style=\"text-align: right;\">\n",
       "      <th></th>\n",
       "      <th>temperature</th>\n",
       "      <th>pressure</th>\n",
       "      <th>x_R32</th>\n",
       "      <th>x_bmimpf6</th>\n",
       "    </tr>\n",
       "  </thead>\n",
       "  <tbody>\n",
       "    <tr>\n",
       "      <th>0</th>\n",
       "      <td>283.2</td>\n",
       "      <td>9800</td>\n",
       "      <td>0.026</td>\n",
       "      <td>0.974</td>\n",
       "    </tr>\n",
       "    <tr>\n",
       "      <th>1</th>\n",
       "      <td>283.2</td>\n",
       "      <td>99600</td>\n",
       "      <td>0.106</td>\n",
       "      <td>0.894</td>\n",
       "    </tr>\n",
       "    <tr>\n",
       "      <th>2</th>\n",
       "      <td>283.2</td>\n",
       "      <td>249700</td>\n",
       "      <td>0.271</td>\n",
       "      <td>0.729</td>\n",
       "    </tr>\n",
       "    <tr>\n",
       "      <th>3</th>\n",
       "      <td>283.2</td>\n",
       "      <td>399600</td>\n",
       "      <td>0.428</td>\n",
       "      <td>0.572</td>\n",
       "    </tr>\n",
       "    <tr>\n",
       "      <th>4</th>\n",
       "      <td>283.2</td>\n",
       "      <td>549700</td>\n",
       "      <td>0.558</td>\n",
       "      <td>0.442</td>\n",
       "    </tr>\n",
       "    <tr>\n",
       "      <th>5</th>\n",
       "      <td>283.2</td>\n",
       "      <td>699600</td>\n",
       "      <td>0.650</td>\n",
       "      <td>0.350</td>\n",
       "    </tr>\n",
       "    <tr>\n",
       "      <th>6</th>\n",
       "      <td>283.2</td>\n",
       "      <td>849500</td>\n",
       "      <td>0.815</td>\n",
       "      <td>0.185</td>\n",
       "    </tr>\n",
       "    <tr>\n",
       "      <th>7</th>\n",
       "      <td>298.1</td>\n",
       "      <td>9700</td>\n",
       "      <td>0.018</td>\n",
       "      <td>0.982</td>\n",
       "    </tr>\n",
       "    <tr>\n",
       "      <th>8</th>\n",
       "      <td>298.2</td>\n",
       "      <td>99500</td>\n",
       "      <td>0.076</td>\n",
       "      <td>0.924</td>\n",
       "    </tr>\n",
       "    <tr>\n",
       "      <th>9</th>\n",
       "      <td>298.2</td>\n",
       "      <td>249700</td>\n",
       "      <td>0.190</td>\n",
       "      <td>0.810</td>\n",
       "    </tr>\n",
       "    <tr>\n",
       "      <th>10</th>\n",
       "      <td>298.2</td>\n",
       "      <td>399800</td>\n",
       "      <td>0.297</td>\n",
       "      <td>0.703</td>\n",
       "    </tr>\n",
       "    <tr>\n",
       "      <th>11</th>\n",
       "      <td>298.1</td>\n",
       "      <td>549700</td>\n",
       "      <td>0.390</td>\n",
       "      <td>0.610</td>\n",
       "    </tr>\n",
       "    <tr>\n",
       "      <th>12</th>\n",
       "      <td>298.1</td>\n",
       "      <td>699500</td>\n",
       "      <td>0.475</td>\n",
       "      <td>0.525</td>\n",
       "    </tr>\n",
       "    <tr>\n",
       "      <th>13</th>\n",
       "      <td>298.2</td>\n",
       "      <td>850100</td>\n",
       "      <td>0.552</td>\n",
       "      <td>0.448</td>\n",
       "    </tr>\n",
       "    <tr>\n",
       "      <th>14</th>\n",
       "      <td>298.1</td>\n",
       "      <td>999900</td>\n",
       "      <td>0.628</td>\n",
       "      <td>0.372</td>\n",
       "    </tr>\n",
       "    <tr>\n",
       "      <th>15</th>\n",
       "      <td>322.8</td>\n",
       "      <td>9900</td>\n",
       "      <td>0.006</td>\n",
       "      <td>0.994</td>\n",
       "    </tr>\n",
       "    <tr>\n",
       "      <th>16</th>\n",
       "      <td>323.1</td>\n",
       "      <td>99500</td>\n",
       "      <td>0.047</td>\n",
       "      <td>0.953</td>\n",
       "    </tr>\n",
       "    <tr>\n",
       "      <th>17</th>\n",
       "      <td>323.1</td>\n",
       "      <td>249600</td>\n",
       "      <td>0.113</td>\n",
       "      <td>0.887</td>\n",
       "    </tr>\n",
       "    <tr>\n",
       "      <th>18</th>\n",
       "      <td>323.1</td>\n",
       "      <td>399500</td>\n",
       "      <td>0.174</td>\n",
       "      <td>0.826</td>\n",
       "    </tr>\n",
       "    <tr>\n",
       "      <th>19</th>\n",
       "      <td>323.1</td>\n",
       "      <td>549700</td>\n",
       "      <td>0.231</td>\n",
       "      <td>0.769</td>\n",
       "    </tr>\n",
       "    <tr>\n",
       "      <th>20</th>\n",
       "      <td>323.1</td>\n",
       "      <td>699600</td>\n",
       "      <td>0.285</td>\n",
       "      <td>0.715</td>\n",
       "    </tr>\n",
       "    <tr>\n",
       "      <th>21</th>\n",
       "      <td>323.2</td>\n",
       "      <td>849600</td>\n",
       "      <td>0.335</td>\n",
       "      <td>0.665</td>\n",
       "    </tr>\n",
       "    <tr>\n",
       "      <th>22</th>\n",
       "      <td>323.2</td>\n",
       "      <td>999600</td>\n",
       "      <td>0.382</td>\n",
       "      <td>0.618</td>\n",
       "    </tr>\n",
       "    <tr>\n",
       "      <th>23</th>\n",
       "      <td>348.2</td>\n",
       "      <td>9900</td>\n",
       "      <td>0.003</td>\n",
       "      <td>0.997</td>\n",
       "    </tr>\n",
       "    <tr>\n",
       "      <th>24</th>\n",
       "      <td>348.2</td>\n",
       "      <td>99700</td>\n",
       "      <td>0.029</td>\n",
       "      <td>0.971</td>\n",
       "    </tr>\n",
       "    <tr>\n",
       "      <th>25</th>\n",
       "      <td>348.2</td>\n",
       "      <td>249500</td>\n",
       "      <td>0.070</td>\n",
       "      <td>0.930</td>\n",
       "    </tr>\n",
       "    <tr>\n",
       "      <th>26</th>\n",
       "      <td>348.2</td>\n",
       "      <td>399400</td>\n",
       "      <td>0.109</td>\n",
       "      <td>0.891</td>\n",
       "    </tr>\n",
       "    <tr>\n",
       "      <th>27</th>\n",
       "      <td>348.1</td>\n",
       "      <td>549800</td>\n",
       "      <td>0.146</td>\n",
       "      <td>0.854</td>\n",
       "    </tr>\n",
       "    <tr>\n",
       "      <th>28</th>\n",
       "      <td>348.1</td>\n",
       "      <td>699700</td>\n",
       "      <td>0.182</td>\n",
       "      <td>0.818</td>\n",
       "    </tr>\n",
       "    <tr>\n",
       "      <th>29</th>\n",
       "      <td>348.2</td>\n",
       "      <td>849600</td>\n",
       "      <td>0.214</td>\n",
       "      <td>0.786</td>\n",
       "    </tr>\n",
       "    <tr>\n",
       "      <th>30</th>\n",
       "      <td>348.2</td>\n",
       "      <td>999900</td>\n",
       "      <td>0.248</td>\n",
       "      <td>0.752</td>\n",
       "    </tr>\n",
       "  </tbody>\n",
       "</table>\n",
       "</div>"
      ],
      "text/plain": [
       "    temperature  pressure  x_R32  x_bmimpf6\n",
       "0         283.2      9800  0.026      0.974\n",
       "1         283.2     99600  0.106      0.894\n",
       "2         283.2    249700  0.271      0.729\n",
       "3         283.2    399600  0.428      0.572\n",
       "4         283.2    549700  0.558      0.442\n",
       "5         283.2    699600  0.650      0.350\n",
       "6         283.2    849500  0.815      0.185\n",
       "7         298.1      9700  0.018      0.982\n",
       "8         298.2     99500  0.076      0.924\n",
       "9         298.2    249700  0.190      0.810\n",
       "10        298.2    399800  0.297      0.703\n",
       "11        298.1    549700  0.390      0.610\n",
       "12        298.1    699500  0.475      0.525\n",
       "13        298.2    850100  0.552      0.448\n",
       "14        298.1    999900  0.628      0.372\n",
       "15        322.8      9900  0.006      0.994\n",
       "16        323.1     99500  0.047      0.953\n",
       "17        323.1    249600  0.113      0.887\n",
       "18        323.1    399500  0.174      0.826\n",
       "19        323.1    549700  0.231      0.769\n",
       "20        323.1    699600  0.285      0.715\n",
       "21        323.2    849600  0.335      0.665\n",
       "22        323.2    999600  0.382      0.618\n",
       "23        348.2      9900  0.003      0.997\n",
       "24        348.2     99700  0.029      0.971\n",
       "25        348.2    249500  0.070      0.930\n",
       "26        348.2    399400  0.109      0.891\n",
       "27        348.1    549800  0.146      0.854\n",
       "28        348.1    699700  0.182      0.818\n",
       "29        348.2    849600  0.214      0.786\n",
       "30        348.2    999900  0.248      0.752"
      ]
     },
     "execution_count": 3,
     "metadata": {},
     "output_type": "execute_result"
    }
   ],
   "source": [
    "data_full"
   ]
  },
  {
   "cell_type": "code",
   "execution_count": 5,
   "id": "c9b05aea",
   "metadata": {},
   "outputs": [
    {
     "data": {
      "image/png": "[encoded data removed]",
      "text/plain": [
       "<Figure size 432x288 with 1 Axes>"
      ]
     },
     "metadata": {
      "needs_background": "light"
     },
     "output_type": "display_data"
    }
   ],
   "source": [
    "fig, ax = plt.subplots()\n",
    "\n",
    "ax.plot(data_full[\"x_R32\"][:7],data_full[\"pressure\"][:7]/1e6,\"*\",color='blue',label=\"T= 283 K\")\n",
    "ax.plot(data_full[\"x_R32\"][7:15],data_full[\"pressure\"][7:15]/1e6,\"*\",color='red',label=\"T= 298 K\")\n",
    "ax.plot(data_full[\"x_R32\"][15:23],data_full[\"pressure\"][15:23]/1e6,\"*\",color='green',label=\"T= 323 K\")\n",
    "ax.plot(data_full[\"x_R32\"][23:],data_full[\"pressure\"][23:]/1e6,\"*\",color='magenta',label=\"T= 323 K\")\n",
    "\n",
    "# plt.title('Isotherm R32-[emim][TF2N]')\n",
    "ax.set_ylabel('Pressure, MPa',fontsize=24)\n",
    "ax.set_xlabel('HFC-32 Mole Fraction',fontsize=24)\n",
    "\n",
    "ax.set_xticks([0.0, 0.2, 0.4, 0.6, 0.8, 1.0])\n",
    "ax.set_xticks([0.1, 0.3, 0.5, 0.7, 0.9],minor=True)\n",
    "ax.set_yticks([0.0, 0.2, 0.4, 0.6, 0.8, 1.0, 1.2])\n",
    "ax.set_yticks([0.1, 0.3, 0.5, 0.7, 0.9, 1.1],minor=True)\n",
    "\n",
    "ax.tick_params(\"both\", direction=\"in\", which=\"both\", length=4, labelsize=20, pad=10)\n",
    "ax.tick_params(\"both\", which=\"major\", length=8)\n",
    "ax.xaxis.set_ticks_position(\"both\")\n",
    "ax.yaxis.set_ticks_position(\"both\")\n",
    "\n",
    "ax.legend(fontsize=12, handletextpad=0.00, loc=\"lower right\")#, bbox_to_anchor=(1, 0.5))\n",
    "fig.savefig('R32-bmimpf6-data.pdf',bbox_inches='tight')\n",
    "plt.show()"
   ]
  },
  {
   "cell_type": "markdown",
   "id": "swiss-sphere",
   "metadata": {},
   "source": [
    "## Load Configuration + Check DOF"
   ]
  },
  {
   "cell_type": "code",
   "execution_count": 6,
   "id": "independent-layout",
   "metadata": {},
   "outputs": [],
   "source": [
    "from hfc32_bmimpf6_PR import configuration "
   ]
  },
  {
   "cell_type": "code",
   "execution_count": 7,
   "id": "featured-nicholas",
   "metadata": {},
   "outputs": [
    {
     "name": "stdout",
     "output_type": "stream",
     "text": [
      "The initial DOF is 7\n"
     ]
    }
   ],
   "source": [
    "m = ConcreteModel()\n",
    "m.fs = FlowsheetBlock(default={\"dynamic\": False})\n",
    "m.fs.properties = GenericParameterBlock(default=configuration)\n",
    "m.fs.F101 = Flash(default={\"property_package\": m.fs.properties,\n",
    "                           \"has_heat_transfer\": True,\n",
    "                           \"has_pressure_change\": True})\n",
    "DOF_initial = degrees_of_freedom(m)\n",
    "print('The initial DOF is {0}'.format(DOF_initial))"
   ]
  },
  {
   "cell_type": "markdown",
   "id": "veterinary-first",
   "metadata": {},
   "source": [
    "## Fit Parameters"
   ]
  },
  {
   "cell_type": "code",
   "execution_count": 9,
   "id": "personal-parade",
   "metadata": {},
   "outputs": [
    {
     "name": "stdout",
     "output_type": "stream",
     "text": [
      "0    9800.0\n",
      "Name: pressure, dtype: float64\n",
      "2022-04-20 12:27:32 [INFO] idaes.init.fs.state_block: Starting initialization\n",
      "2022-04-20 12:27:33 [INFO] idaes.init.fs.state_block: Dew and bubble point initialization: optimal - Optimal Solution Found.\n",
      "2022-04-20 12:27:33 [INFO] idaes.init.fs.state_block: Equilibrium temperature initialization completed.\n",
      "2022-04-20 12:27:33 [INFO] idaes.init.fs.state_block: Phase equilibrium initialization: optimal - Optimal Solution Found.\n",
      "2022-04-20 12:27:33 [INFO] idaes.init.fs.state_block: Property initialization: optimal - Optimal Solution Found.\n",
      "2022-04-20 12:27:33 [INFO] idaes.init.fs.state_block: Property package initialization: optimal - Optimal Solution Found.\n",
      "1    99600.0\n",
      "Name: pressure, dtype: float64\n",
      "2022-04-20 12:27:33 [INFO] idaes.init.fs.state_block: Starting initialization\n",
      "2022-04-20 12:27:33 [INFO] idaes.init.fs.state_block: Dew and bubble point initialization: optimal - Optimal Solution Found.\n",
      "2022-04-20 12:27:33 [INFO] idaes.init.fs.state_block: Equilibrium temperature initialization completed.\n",
      "2022-04-20 12:27:33 [INFO] idaes.init.fs.state_block: Phase equilibrium initialization: optimal - Optimal Solution Found.\n",
      "2022-04-20 12:27:33 [INFO] idaes.init.fs.state_block: Property initialization: optimal - Optimal Solution Found.\n",
      "2022-04-20 12:27:33 [INFO] idaes.init.fs.state_block: Property package initialization: optimal - Optimal Solution Found.\n",
      "2    249700.0\n",
      "Name: pressure, dtype: float64\n",
      "2022-04-20 12:27:33 [INFO] idaes.init.fs.state_block: Starting initialization\n",
      "2022-04-20 12:27:33 [INFO] idaes.init.fs.state_block: Dew and bubble point initialization: optimal - Optimal Solution Found.\n",
      "2022-04-20 12:27:33 [INFO] idaes.init.fs.state_block: Equilibrium temperature initialization completed.\n",
      "2022-04-20 12:27:34 [INFO] idaes.init.fs.state_block: Phase equilibrium initialization: optimal - Optimal Solution Found.\n",
      "2022-04-20 12:27:34 [INFO] idaes.init.fs.state_block: Property initialization: optimal - Optimal Solution Found.\n",
      "2022-04-20 12:27:34 [INFO] idaes.init.fs.state_block: Property package initialization: optimal - Optimal Solution Found.\n",
      "3    399600.0\n",
      "Name: pressure, dtype: float64\n",
      "2022-04-20 12:27:34 [INFO] idaes.init.fs.state_block: Starting initialization\n",
      "2022-04-20 12:27:34 [INFO] idaes.init.fs.state_block: Dew and bubble point initialization: optimal - Optimal Solution Found.\n",
      "2022-04-20 12:27:34 [INFO] idaes.init.fs.state_block: Equilibrium temperature initialization completed.\n",
      "2022-04-20 12:27:34 [INFO] idaes.init.fs.state_block: Phase equilibrium initialization: optimal - Optimal Solution Found.\n",
      "2022-04-20 12:27:34 [INFO] idaes.init.fs.state_block: Property initialization: optimal - Optimal Solution Found.\n",
      "2022-04-20 12:27:34 [INFO] idaes.init.fs.state_block: Property package initialization: optimal - Optimal Solution Found.\n",
      "4    549700.0\n",
      "Name: pressure, dtype: float64\n",
      "2022-04-20 12:27:34 [INFO] idaes.init.fs.state_block: Starting initialization\n",
      "2022-04-20 12:27:34 [INFO] idaes.init.fs.state_block: Dew and bubble point initialization: optimal - Optimal Solution Found.\n",
      "2022-04-20 12:27:34 [INFO] idaes.init.fs.state_block: Equilibrium temperature initialization completed.\n",
      "2022-04-20 12:27:34 [INFO] idaes.init.fs.state_block: Phase equilibrium initialization: optimal - Optimal Solution Found.\n",
      "2022-04-20 12:27:35 [INFO] idaes.init.fs.state_block: Property initialization: optimal - Optimal Solution Found.\n",
      "2022-04-20 12:27:35 [INFO] idaes.init.fs.state_block: Property package initialization: optimal - Optimal Solution Found.\n",
      "5    699600.0\n",
      "Name: pressure, dtype: float64\n",
      "2022-04-20 12:27:35 [INFO] idaes.init.fs.state_block: Starting initialization\n",
      "2022-04-20 12:27:35 [INFO] idaes.init.fs.state_block: Dew and bubble point initialization: optimal - Optimal Solution Found.\n",
      "2022-04-20 12:27:35 [INFO] idaes.init.fs.state_block: Equilibrium temperature initialization completed.\n",
      "2022-04-20 12:27:35 [INFO] idaes.init.fs.state_block: Phase equilibrium initialization: optimal - Optimal Solution Found.\n",
      "2022-04-20 12:27:35 [INFO] idaes.init.fs.state_block: Property initialization: optimal - Optimal Solution Found.\n",
      "2022-04-20 12:27:35 [INFO] idaes.init.fs.state_block: Property package initialization: optimal - Optimal Solution Found.\n",
      "6    849500.0\n",
      "Name: pressure, dtype: float64\n",
      "2022-04-20 12:27:35 [INFO] idaes.init.fs.state_block: Starting initialization\n",
      "2022-04-20 12:27:35 [INFO] idaes.init.fs.state_block: Dew and bubble point initialization: optimal - Optimal Solution Found.\n",
      "2022-04-20 12:27:35 [INFO] idaes.init.fs.state_block: Equilibrium temperature initialization completed.\n",
      "2022-04-20 12:27:35 [INFO] idaes.init.fs.state_block: Phase equilibrium initialization: optimal - Optimal Solution Found.\n",
      "2022-04-20 12:27:35 [INFO] idaes.init.fs.state_block: Property initialization: optimal - Optimal Solution Found.\n",
      "2022-04-20 12:27:35 [INFO] idaes.init.fs.state_block: Property package initialization: optimal - Optimal Solution Found.\n",
      "7    9700.0\n",
      "Name: pressure, dtype: float64\n",
      "2022-04-20 12:27:35 [INFO] idaes.init.fs.state_block: Starting initialization\n",
      "2022-04-20 12:27:36 [INFO] idaes.init.fs.state_block: Dew and bubble point initialization: optimal - Optimal Solution Found.\n",
      "2022-04-20 12:27:36 [INFO] idaes.init.fs.state_block: Equilibrium temperature initialization completed.\n",
      "2022-04-20 12:27:36 [INFO] idaes.init.fs.state_block: Phase equilibrium initialization: optimal - Optimal Solution Found.\n",
      "2022-04-20 12:27:36 [INFO] idaes.init.fs.state_block: Property initialization: optimal - Optimal Solution Found.\n",
      "2022-04-20 12:27:36 [INFO] idaes.init.fs.state_block: Property package initialization: optimal - Optimal Solution Found.\n",
      "8    99500.0\n",
      "Name: pressure, dtype: float64\n",
      "2022-04-20 12:27:36 [INFO] idaes.init.fs.state_block: Starting initialization\n",
      "2022-04-20 12:27:36 [INFO] idaes.init.fs.state_block: Dew and bubble point initialization: optimal - Optimal Solution Found.\n",
      "2022-04-20 12:27:36 [INFO] idaes.init.fs.state_block: Equilibrium temperature initialization completed.\n",
      "2022-04-20 12:27:36 [INFO] idaes.init.fs.state_block: Phase equilibrium initialization: optimal - Optimal Solution Found.\n",
      "2022-04-20 12:27:36 [INFO] idaes.init.fs.state_block: Property initialization: optimal - Optimal Solution Found.\n",
      "2022-04-20 12:27:36 [INFO] idaes.init.fs.state_block: Property package initialization: optimal - Optimal Solution Found.\n",
      "9    249700.0\n",
      "Name: pressure, dtype: float64\n",
      "2022-04-20 12:27:36 [INFO] idaes.init.fs.state_block: Starting initialization\n",
      "2022-04-20 12:27:36 [INFO] idaes.init.fs.state_block: Dew and bubble point initialization: optimal - Optimal Solution Found.\n",
      "2022-04-20 12:27:36 [INFO] idaes.init.fs.state_block: Equilibrium temperature initialization completed.\n",
      "2022-04-20 12:27:37 [INFO] idaes.init.fs.state_block: Phase equilibrium initialization: optimal - Optimal Solution Found.\n",
      "2022-04-20 12:27:37 [INFO] idaes.init.fs.state_block: Property initialization: optimal - Optimal Solution Found.\n",
      "2022-04-20 12:27:37 [INFO] idaes.init.fs.state_block: Property package initialization: optimal - Optimal Solution Found.\n",
      "10    399800.0\n",
      "Name: pressure, dtype: float64\n",
      "2022-04-20 12:27:37 [INFO] idaes.init.fs.state_block: Starting initialization\n",
      "2022-04-20 12:27:37 [INFO] idaes.init.fs.state_block: Dew and bubble point initialization: optimal - Optimal Solution Found.\n",
      "2022-04-20 12:27:37 [INFO] idaes.init.fs.state_block: Equilibrium temperature initialization completed.\n",
      "2022-04-20 12:27:37 [INFO] idaes.init.fs.state_block: Phase equilibrium initialization: optimal - Optimal Solution Found.\n",
      "2022-04-20 12:27:37 [INFO] idaes.init.fs.state_block: Property initialization: optimal - Optimal Solution Found.\n",
      "2022-04-20 12:27:37 [INFO] idaes.init.fs.state_block: Property package initialization: optimal - Optimal Solution Found.\n",
      "11    549700.0\n",
      "Name: pressure, dtype: float64\n",
      "2022-04-20 12:27:37 [INFO] idaes.init.fs.state_block: Starting initialization\n",
      "2022-04-20 12:27:37 [INFO] idaes.init.fs.state_block: Dew and bubble point initialization: optimal - Optimal Solution Found.\n",
      "2022-04-20 12:27:37 [INFO] idaes.init.fs.state_block: Equilibrium temperature initialization completed.\n",
      "2022-04-20 12:27:37 [INFO] idaes.init.fs.state_block: Phase equilibrium initialization: optimal - Optimal Solution Found.\n"
     ]
    },
    {
     "name": "stdout",
     "output_type": "stream",
     "text": [
      "2022-04-20 12:27:37 [INFO] idaes.init.fs.state_block: Property initialization: optimal - Optimal Solution Found.\n",
      "2022-04-20 12:27:37 [INFO] idaes.init.fs.state_block: Property package initialization: optimal - Optimal Solution Found.\n",
      "12    699500.0\n",
      "Name: pressure, dtype: float64\n",
      "2022-04-20 12:27:37 [INFO] idaes.init.fs.state_block: Starting initialization\n",
      "2022-04-20 12:27:38 [INFO] idaes.init.fs.state_block: Dew and bubble point initialization: optimal - Optimal Solution Found.\n",
      "2022-04-20 12:27:38 [INFO] idaes.init.fs.state_block: Equilibrium temperature initialization completed.\n",
      "2022-04-20 12:27:38 [INFO] idaes.init.fs.state_block: Phase equilibrium initialization: optimal - Optimal Solution Found.\n",
      "2022-04-20 12:27:38 [INFO] idaes.init.fs.state_block: Property initialization: optimal - Optimal Solution Found.\n",
      "2022-04-20 12:27:38 [INFO] idaes.init.fs.state_block: Property package initialization: optimal - Optimal Solution Found.\n",
      "13    850100.0\n",
      "Name: pressure, dtype: float64\n",
      "2022-04-20 12:27:38 [INFO] idaes.init.fs.state_block: Starting initialization\n",
      "2022-04-20 12:27:38 [INFO] idaes.init.fs.state_block: Dew and bubble point initialization: optimal - Optimal Solution Found.\n",
      "2022-04-20 12:27:38 [INFO] idaes.init.fs.state_block: Equilibrium temperature initialization completed.\n",
      "2022-04-20 12:27:38 [INFO] idaes.init.fs.state_block: Phase equilibrium initialization: optimal - Optimal Solution Found.\n",
      "2022-04-20 12:27:38 [INFO] idaes.init.fs.state_block: Property initialization: optimal - Optimal Solution Found.\n",
      "2022-04-20 12:27:38 [INFO] idaes.init.fs.state_block: Property package initialization: optimal - Optimal Solution Found.\n",
      "14    999900.0\n",
      "Name: pressure, dtype: float64\n",
      "2022-04-20 12:27:38 [INFO] idaes.init.fs.state_block: Starting initialization\n",
      "2022-04-20 12:27:38 [INFO] idaes.init.fs.state_block: Dew and bubble point initialization: optimal - Optimal Solution Found.\n",
      "2022-04-20 12:27:38 [INFO] idaes.init.fs.state_block: Equilibrium temperature initialization completed.\n",
      "2022-04-20 12:27:39 [INFO] idaes.init.fs.state_block: Phase equilibrium initialization: optimal - Optimal Solution Found.\n",
      "2022-04-20 12:27:39 [INFO] idaes.init.fs.state_block: Property initialization: optimal - Optimal Solution Found.\n",
      "2022-04-20 12:27:39 [INFO] idaes.init.fs.state_block: Property package initialization: optimal - Optimal Solution Found.\n",
      "15    9900.0\n",
      "Name: pressure, dtype: float64\n",
      "2022-04-20 12:27:39 [INFO] idaes.init.fs.state_block: Starting initialization\n",
      "2022-04-20 12:27:39 [INFO] idaes.init.fs.state_block: Dew and bubble point initialization: optimal - Optimal Solution Found.\n",
      "2022-04-20 12:27:39 [INFO] idaes.init.fs.state_block: Equilibrium temperature initialization completed.\n",
      "2022-04-20 12:27:39 [INFO] idaes.init.fs.state_block: Phase equilibrium initialization: optimal - Optimal Solution Found.\n",
      "2022-04-20 12:27:39 [INFO] idaes.init.fs.state_block: Property initialization: optimal - Optimal Solution Found.\n",
      "2022-04-20 12:27:39 [INFO] idaes.init.fs.state_block: Property package initialization: optimal - Optimal Solution Found.\n",
      "16    99500.0\n",
      "Name: pressure, dtype: float64\n",
      "2022-04-20 12:27:39 [INFO] idaes.init.fs.state_block: Starting initialization\n",
      "2022-04-20 12:27:39 [INFO] idaes.init.fs.state_block: Dew and bubble point initialization: optimal - Optimal Solution Found.\n",
      "2022-04-20 12:27:39 [INFO] idaes.init.fs.state_block: Equilibrium temperature initialization completed.\n",
      "2022-04-20 12:27:39 [INFO] idaes.init.fs.state_block: Phase equilibrium initialization: optimal - Optimal Solution Found.\n",
      "2022-04-20 12:27:39 [INFO] idaes.init.fs.state_block: Property initialization: optimal - Optimal Solution Found.\n",
      "2022-04-20 12:27:39 [INFO] idaes.init.fs.state_block: Property package initialization: optimal - Optimal Solution Found.\n",
      "17    249600.0\n",
      "Name: pressure, dtype: float64\n",
      "2022-04-20 12:27:39 [INFO] idaes.init.fs.state_block: Starting initialization\n",
      "2022-04-20 12:27:40 [INFO] idaes.init.fs.state_block: Dew and bubble point initialization: optimal - Optimal Solution Found.\n",
      "2022-04-20 12:27:40 [INFO] idaes.init.fs.state_block: Equilibrium temperature initialization completed.\n",
      "2022-04-20 12:27:40 [INFO] idaes.init.fs.state_block: Phase equilibrium initialization: optimal - Optimal Solution Found.\n",
      "2022-04-20 12:27:40 [INFO] idaes.init.fs.state_block: Property initialization: optimal - Optimal Solution Found.\n",
      "2022-04-20 12:27:40 [INFO] idaes.init.fs.state_block: Property package initialization: optimal - Optimal Solution Found.\n",
      "18    399500.0\n",
      "Name: pressure, dtype: float64\n",
      "2022-04-20 12:27:40 [INFO] idaes.init.fs.state_block: Starting initialization\n",
      "2022-04-20 12:27:40 [INFO] idaes.init.fs.state_block: Dew and bubble point initialization: optimal - Optimal Solution Found.\n",
      "2022-04-20 12:27:40 [INFO] idaes.init.fs.state_block: Equilibrium temperature initialization completed.\n",
      "2022-04-20 12:27:40 [INFO] idaes.init.fs.state_block: Phase equilibrium initialization: optimal - Optimal Solution Found.\n",
      "2022-04-20 12:27:40 [INFO] idaes.init.fs.state_block: Property initialization: optimal - Optimal Solution Found.\n",
      "2022-04-20 12:27:40 [INFO] idaes.init.fs.state_block: Property package initialization: optimal - Optimal Solution Found.\n",
      "19    549700.0\n",
      "Name: pressure, dtype: float64\n",
      "2022-04-20 12:27:40 [INFO] idaes.init.fs.state_block: Starting initialization\n",
      "2022-04-20 12:27:40 [INFO] idaes.init.fs.state_block: Dew and bubble point initialization: optimal - Optimal Solution Found.\n",
      "2022-04-20 12:27:40 [INFO] idaes.init.fs.state_block: Equilibrium temperature initialization completed.\n",
      "2022-04-20 12:27:40 [INFO] idaes.init.fs.state_block: Phase equilibrium initialization: optimal - Optimal Solution Found.\n",
      "2022-04-20 12:27:41 [INFO] idaes.init.fs.state_block: Property initialization: optimal - Optimal Solution Found.\n",
      "2022-04-20 12:27:41 [INFO] idaes.init.fs.state_block: Property package initialization: optimal - Optimal Solution Found.\n",
      "20    699600.0\n",
      "Name: pressure, dtype: float64\n",
      "2022-04-20 12:27:41 [INFO] idaes.init.fs.state_block: Starting initialization\n",
      "2022-04-20 12:27:41 [INFO] idaes.init.fs.state_block: Dew and bubble point initialization: optimal - Optimal Solution Found.\n",
      "2022-04-20 12:27:41 [INFO] idaes.init.fs.state_block: Equilibrium temperature initialization completed.\n",
      "2022-04-20 12:27:41 [INFO] idaes.init.fs.state_block: Phase equilibrium initialization: optimal - Optimal Solution Found.\n",
      "2022-04-20 12:27:41 [INFO] idaes.init.fs.state_block: Property initialization: optimal - Optimal Solution Found.\n",
      "2022-04-20 12:27:41 [INFO] idaes.init.fs.state_block: Property package initialization: optimal - Optimal Solution Found.\n",
      "21    849600.0\n",
      "Name: pressure, dtype: float64\n",
      "2022-04-20 12:27:41 [INFO] idaes.init.fs.state_block: Starting initialization\n",
      "2022-04-20 12:27:41 [INFO] idaes.init.fs.state_block: Dew and bubble point initialization: optimal - Optimal Solution Found.\n",
      "2022-04-20 12:27:41 [INFO] idaes.init.fs.state_block: Equilibrium temperature initialization completed.\n",
      "2022-04-20 12:27:41 [INFO] idaes.init.fs.state_block: Phase equilibrium initialization: optimal - Optimal Solution Found.\n",
      "2022-04-20 12:27:41 [INFO] idaes.init.fs.state_block: Property initialization: optimal - Optimal Solution Found.\n",
      "2022-04-20 12:27:41 [INFO] idaes.init.fs.state_block: Property package initialization: optimal - Optimal Solution Found.\n",
      "22    999600.0\n",
      "Name: pressure, dtype: float64\n",
      "2022-04-20 12:27:41 [INFO] idaes.init.fs.state_block: Starting initialization\n",
      "2022-04-20 12:27:42 [INFO] idaes.init.fs.state_block: Dew and bubble point initialization: optimal - Optimal Solution Found.\n",
      "2022-04-20 12:27:42 [INFO] idaes.init.fs.state_block: Equilibrium temperature initialization completed.\n",
      "2022-04-20 12:27:42 [INFO] idaes.init.fs.state_block: Phase equilibrium initialization: optimal - Optimal Solution Found.\n",
      "2022-04-20 12:27:42 [INFO] idaes.init.fs.state_block: Property initialization: optimal - Optimal Solution Found.\n",
      "2022-04-20 12:27:42 [INFO] idaes.init.fs.state_block: Property package initialization: optimal - Optimal Solution Found.\n",
      "23    9900.0\n",
      "Name: pressure, dtype: float64\n",
      "2022-04-20 12:27:42 [INFO] idaes.init.fs.state_block: Starting initialization\n",
      "2022-04-20 12:27:42 [INFO] idaes.init.fs.state_block: Dew and bubble point initialization: optimal - Optimal Solution Found.\n"
     ]
    },
    {
     "name": "stdout",
     "output_type": "stream",
     "text": [
      "2022-04-20 12:27:42 [INFO] idaes.init.fs.state_block: Equilibrium temperature initialization completed.\n",
      "2022-04-20 12:27:42 [INFO] idaes.init.fs.state_block: Phase equilibrium initialization: optimal - Optimal Solution Found.\n",
      "2022-04-20 12:27:42 [INFO] idaes.init.fs.state_block: Property initialization: optimal - Optimal Solution Found.\n",
      "2022-04-20 12:27:42 [INFO] idaes.init.fs.state_block: Property package initialization: optimal - Optimal Solution Found.\n",
      "24    99700.0\n",
      "Name: pressure, dtype: float64\n",
      "2022-04-20 12:27:42 [INFO] idaes.init.fs.state_block: Starting initialization\n",
      "2022-04-20 12:27:42 [INFO] idaes.init.fs.state_block: Dew and bubble point initialization: optimal - Optimal Solution Found.\n",
      "2022-04-20 12:27:42 [INFO] idaes.init.fs.state_block: Equilibrium temperature initialization completed.\n",
      "2022-04-20 12:27:42 [INFO] idaes.init.fs.state_block: Phase equilibrium initialization: optimal - Optimal Solution Found.\n",
      "2022-04-20 12:27:43 [INFO] idaes.init.fs.state_block: Property initialization: optimal - Optimal Solution Found.\n",
      "2022-04-20 12:27:43 [INFO] idaes.init.fs.state_block: Property package initialization: optimal - Optimal Solution Found.\n",
      "25    249500.0\n",
      "Name: pressure, dtype: float64\n",
      "2022-04-20 12:27:43 [INFO] idaes.init.fs.state_block: Starting initialization\n",
      "2022-04-20 12:27:43 [INFO] idaes.init.fs.state_block: Dew and bubble point initialization: optimal - Optimal Solution Found.\n",
      "2022-04-20 12:27:43 [INFO] idaes.init.fs.state_block: Equilibrium temperature initialization completed.\n",
      "2022-04-20 12:27:43 [INFO] idaes.init.fs.state_block: Phase equilibrium initialization: optimal - Optimal Solution Found.\n",
      "2022-04-20 12:27:43 [INFO] idaes.init.fs.state_block: Property initialization: optimal - Optimal Solution Found.\n",
      "2022-04-20 12:27:43 [INFO] idaes.init.fs.state_block: Property package initialization: optimal - Optimal Solution Found.\n",
      "26    399400.0\n",
      "Name: pressure, dtype: float64\n",
      "2022-04-20 12:27:43 [INFO] idaes.init.fs.state_block: Starting initialization\n",
      "2022-04-20 12:27:43 [INFO] idaes.init.fs.state_block: Dew and bubble point initialization: optimal - Optimal Solution Found.\n",
      "2022-04-20 12:27:43 [INFO] idaes.init.fs.state_block: Equilibrium temperature initialization completed.\n",
      "2022-04-20 12:27:43 [INFO] idaes.init.fs.state_block: Phase equilibrium initialization: optimal - Optimal Solution Found.\n",
      "2022-04-20 12:27:43 [INFO] idaes.init.fs.state_block: Property initialization: optimal - Optimal Solution Found.\n",
      "2022-04-20 12:27:43 [INFO] idaes.init.fs.state_block: Property package initialization: optimal - Optimal Solution Found.\n",
      "27    549800.0\n",
      "Name: pressure, dtype: float64\n",
      "2022-04-20 12:27:43 [INFO] idaes.init.fs.state_block: Starting initialization\n",
      "2022-04-20 12:27:43 [INFO] idaes.init.fs.state_block: Dew and bubble point initialization: optimal - Optimal Solution Found.\n",
      "2022-04-20 12:27:43 [INFO] idaes.init.fs.state_block: Equilibrium temperature initialization completed.\n",
      "2022-04-20 12:27:44 [INFO] idaes.init.fs.state_block: Phase equilibrium initialization: optimal - Optimal Solution Found.\n",
      "2022-04-20 12:27:44 [INFO] idaes.init.fs.state_block: Property initialization: optimal - Optimal Solution Found.\n",
      "2022-04-20 12:27:44 [INFO] idaes.init.fs.state_block: Property package initialization: optimal - Optimal Solution Found.\n",
      "28    699700.0\n",
      "Name: pressure, dtype: float64\n",
      "2022-04-20 12:27:44 [INFO] idaes.init.fs.state_block: Starting initialization\n",
      "2022-04-20 12:27:44 [INFO] idaes.init.fs.state_block: Dew and bubble point initialization: optimal - Optimal Solution Found.\n",
      "2022-04-20 12:27:44 [INFO] idaes.init.fs.state_block: Equilibrium temperature initialization completed.\n",
      "2022-04-20 12:27:44 [INFO] idaes.init.fs.state_block: Phase equilibrium initialization: optimal - Optimal Solution Found.\n",
      "2022-04-20 12:27:44 [INFO] idaes.init.fs.state_block: Property initialization: optimal - Optimal Solution Found.\n",
      "2022-04-20 12:27:44 [INFO] idaes.init.fs.state_block: Property package initialization: optimal - Optimal Solution Found.\n",
      "29    849600.0\n",
      "Name: pressure, dtype: float64\n",
      "2022-04-20 12:27:44 [INFO] idaes.init.fs.state_block: Starting initialization\n",
      "2022-04-20 12:27:44 [INFO] idaes.init.fs.state_block: Dew and bubble point initialization: optimal - Optimal Solution Found.\n",
      "2022-04-20 12:27:44 [INFO] idaes.init.fs.state_block: Equilibrium temperature initialization completed.\n",
      "2022-04-20 12:27:44 [INFO] idaes.init.fs.state_block: Phase equilibrium initialization: optimal - Optimal Solution Found.\n",
      "2022-04-20 12:27:44 [INFO] idaes.init.fs.state_block: Property initialization: optimal - Optimal Solution Found.\n",
      "2022-04-20 12:27:44 [INFO] idaes.init.fs.state_block: Property package initialization: optimal - Optimal Solution Found.\n",
      "30    999900.0\n",
      "Name: pressure, dtype: float64\n",
      "2022-04-20 12:27:45 [INFO] idaes.init.fs.state_block: Starting initialization\n",
      "2022-04-20 12:27:45 [INFO] idaes.init.fs.state_block: Dew and bubble point initialization: optimal - Optimal Solution Found.\n",
      "2022-04-20 12:27:45 [INFO] idaes.init.fs.state_block: Equilibrium temperature initialization completed.\n",
      "2022-04-20 12:27:45 [INFO] idaes.init.fs.state_block: Phase equilibrium initialization: optimal - Optimal Solution Found.\n",
      "2022-04-20 12:27:45 [INFO] idaes.init.fs.state_block: Property initialization: optimal - Optimal Solution Found.\n",
      "2022-04-20 12:27:45 [INFO] idaes.init.fs.state_block: Property package initialization: optimal - Optimal Solution Found.\n",
      "Ipopt 3.13.2: bound_relax_factor=0\n",
      "honor_original_bounds=no\n",
      "\n",
      "\n",
      "******************************************************************************\n",
      "This program contains Ipopt, a library for large-scale nonlinear optimization.\n",
      " Ipopt is released as open source code under the Eclipse Public License (EPL).\n",
      "         For more information visit http://projects.coin-or.org/Ipopt\n",
      "\n",
      "This version of Ipopt was compiled from source code available at\n",
      "    https://github.com/IDAES/Ipopt as part of the Institute for the Design of\n",
      "    Advanced Energy Systems Process Systems Engineering Framework (IDAES PSE\n",
      "    Framework) Copyright (c) 2018-2019. See https://github.com/IDAES/idaes-pse.\n",
      "\n",
      "This version of Ipopt was compiled using HSL, a collection of Fortran codes\n",
      "    for large-scale scientific computation.  All technical papers, sales and\n",
      "    publicity material resulting from use of the HSL codes within IPOPT must\n",
      "    contain the following acknowledgement:\n",
      "        HSL, a collection of Fortran codes for large-scale scientific\n",
      "        computation. See http://www.hsl.rl.ac.uk.\n",
      "******************************************************************************\n",
      "\n",
      "This is Ipopt version 3.13.2, running with linear solver ma27.\n",
      "\n",
      "Number of nonzeros in equality constraint Jacobian...:     1050\n",
      "Number of nonzeros in inequality constraint Jacobian.:        0\n",
      "Number of nonzeros in Lagrangian Hessian.............:     1054\n",
      "\n",
      "Total number of variables............................:      434\n",
      "                     variables with only lower bounds:      124\n",
      "                variables with lower and upper bounds:      248\n",
      "                     variables with only upper bounds:        0\n",
      "Total number of equality constraints.................:      432\n",
      "Total number of inequality constraints...............:        0\n",
      "        inequality constraints with only lower bounds:        0\n",
      "   inequality constraints with lower and upper bounds:        0\n",
      "        inequality constraints with only upper bounds:        0\n",
      "\n",
      "iter    objective    inf_pr   inf_du lg(mu)  ||d||  lg(rg) alpha_du alpha_pr  ls\n",
      "   0  0.0000000e+00 1.21e+00 1.44e-14  -1.0 0.00e+00    -  0.00e+00 0.00e+00   0\n",
      "   1  2.9866185e-02 8.35e-01 9.87e+03  -1.0 6.58e+04    -  5.42e-01 3.38e-01h  1\n",
      "   2  3.0398996e-02 8.30e-01 9.81e+03  -1.0 6.59e+04    -  5.86e-01 6.74e-03h  1\n",
      "   3  4.7327176e-01 6.33e-01 6.89e+04  -1.0 1.60e+05    -  5.51e-01 2.61e-01h  1\n",
      "   4  1.5282168e+00 4.94e-01 5.45e+04  -1.0 1.42e+05    -  5.47e-01 2.35e-01h  1\n",
      "   5  9.7769115e+00 9.67e-02 6.23e+03  -1.0 1.13e+05    -  6.94e-01 9.90e-01h  1\n",
      "   6  1.0642262e+01 5.30e-03 1.02e+02  -1.0 7.95e+03    -  9.73e-01 9.90e-01h  1\n",
      "   7  1.0664298e+01 6.69e-05 1.50e+04  -1.0 2.00e+02    -  9.34e-01 9.90e-01h  1\n",
      "   8  1.0748985e+01 9.66e-04 1.05e+07  -1.0 1.56e+04    -  5.14e-01 1.24e-01f  4\n",
      "   9  1.1071467e+01 3.18e-04 1.33e+07  -1.0 4.26e+03    -  5.53e-01 9.90e-01H  1\n",
      "iter    objective    inf_pr   inf_du lg(mu)  ||d||  lg(rg) alpha_du alpha_pr  ls\n",
      "  10  1.1702955e+01 2.37e-04 1.03e+05  -1.0 6.73e+03    -  9.90e-01 9.90e-01H  1\n"
     ]
    },
    {
     "name": "stdout",
     "output_type": "stream",
     "text": [
      "  11  1.0649541e+01 1.14e-02 1.08e+09  -2.5 1.57e+04    -  9.37e-01 8.13e-01f  1\n",
      "  12  1.0654449e+01 2.65e-03 1.32e+10  -2.5 8.79e+01    -  9.98e-01 7.19e-01h  1\n",
      "  13  1.0660132e+01 7.47e-05 5.04e+08  -2.5 1.63e+02    -  1.00e+00 9.97e-01h  1\n",
      "In iteration 13, 31 Slacks too small, adjusting variable bounds\n",
      "  14  1.0660358e+01 3.19e-07 1.65e+11  -2.5 6.88e+00    -  1.00e+00 9.97e-01h  1\n",
      "  15  1.0660359e+01 5.25e-12 3.88e-03  -2.5 3.42e-02    -  1.00e+00 1.00e+00h  1\n",
      "  16  1.0654343e+01 2.13e-07 1.42e+10  -9.0 1.03e+02    -  9.99e-01 9.36e-01F  1\n",
      "  17  1.0654328e+01 2.64e-10 9.63e+06  -9.0 4.57e-01    -  1.00e+00 9.99e-01h  1\n",
      "  18  1.0654328e+01 6.95e-12 1.78e-09  -9.0 2.32e-05    -  1.00e+00 1.00e+00f  1\n",
      "\n",
      "Number of Iterations....: 18\n",
      "\n",
      "                                   (scaled)                 (unscaled)\n",
      "Objective...............:   1.0654327798769483e+01    1.0654327798769483e+01\n",
      "Dual infeasibility......:   1.7753336578607559e-09    1.7753336578607559e-09\n",
      "Constraint violation....:   6.9464434204746794e-12    6.9464434204746794e-12\n",
      "Complementarity.........:   9.0909095533598890e-10    9.0909095533598890e-10\n",
      "Overall NLP error.......:   4.2121774455093785e-11    1.7753336578607559e-09\n",
      "\n",
      "\n",
      "Number of objective function evaluations             = 29\n",
      "Number of objective gradient evaluations             = 19\n",
      "Number of equality constraint evaluations            = 29\n",
      "Number of inequality constraint evaluations          = 0\n",
      "Number of equality constraint Jacobian evaluations   = 19\n",
      "Number of inequality constraint Jacobian evaluations = 0\n",
      "Number of Lagrangian Hessian evaluations             = 18\n",
      "Total CPU secs in IPOPT (w/o function evaluations)   =      0.037\n",
      "Total CPU secs in NLP function evaluations           =      0.403\n",
      "\n",
      "EXIT: Optimal Solution Found.\n",
      "WARNING: The current pynumero_ASL library is version=2, but found version=1.\n",
      "    Please recompile / update your pynumero_ASL library.\n",
      "The SSE at the optimal solution is 10.654328\n",
      "\n",
      "The values for the parameters are as follows:\n",
      "fs.properties.PR_kappa_A[bmimpf6,R32] = -0.001554173926628452\n",
      "fs.properties.PR_kappa_A[R32,bmimpf6] = -0.0037304285579609258\n",
      "covariance_matrix                                        fs.properties.PR_kappa_A[bmimpf6,R32]  \\\n",
      "fs.properties.PR_kappa_A[bmimpf6,R32]                           3.781052e-13   \n",
      "fs.properties.PR_kappa_A[R32,bmimpf6]                           8.341776e-15   \n",
      "\n",
      "                                       fs.properties.PR_kappa_A[R32,bmimpf6]  \n",
      "fs.properties.PR_kappa_A[bmimpf6,R32]                           8.341776e-15  \n",
      "fs.properties.PR_kappa_A[R32,bmimpf6]                           1.037539e-15  \n"
     ]
    },
    {
     "name": "stderr",
     "output_type": "stream",
     "text": [
      "/Users/bridgettebefort/opt/anaconda3/envs/idaes-pse-dev/lib/python3.9/site-packages/pyomo/contrib/interior_point/interface.py:418: RuntimeWarning: divide by zero encountered in true_divide\n",
      "  data = (duals_primals_lb/(primals - self._nlp.primals_lb()) +\n"
     ]
    }
   ],
   "source": [
    "parameters, obj_value, a = constant(data_full, configuration, 'R32', 'bmimpf6', \"x_R32\", \"x_bmimpf6\", \n",
    "    init_temp =  298.15, init_press =   399400 , init_x_c1 =    0.417, init_x_c2 = 0.583,\n",
    "    init_kappa_A_2_1 = 0.01, init_kappa_A_1_2 = 0.01, eps = 0.1, scaling_fac = 1e-9 , read=False)"
   ]
  },
  {
   "cell_type": "code",
   "execution_count": 10,
   "id": "collect-amount",
   "metadata": {},
   "outputs": [
    {
     "name": "stdout",
     "output_type": "stream",
     "text": [
      "Objective (SSE): 10.654327798769483\n"
     ]
    }
   ],
   "source": [
    "print('Objective (SSE):',obj_value)"
   ]
  },
  {
   "cell_type": "code",
   "execution_count": 11,
   "id": "fewer-madonna",
   "metadata": {},
   "outputs": [
    {
     "name": "stdout",
     "output_type": "stream",
     "text": [
      "Covariance Matrix:\n",
      "[[3.78105166e-13 8.34177589e-15]\n",
      " [8.34177589e-15 1.03753881e-15]]\n"
     ]
    }
   ],
   "source": [
    "cov = np.array(a)\n",
    "print('Covariance Matrix:')\n",
    "print(cov)"
   ]
  },
  {
   "cell_type": "code",
   "execution_count": 13,
   "id": "82565267",
   "metadata": {},
   "outputs": [],
   "source": [
    "np.savetxt('Data/Covariance/PR_Cov_2parameter.csv',cov,delimiter=',')"
   ]
  },
  {
   "cell_type": "markdown",
   "id": "received-chuck",
   "metadata": {},
   "source": [
    "## Apply Parameters + Plot"
   ]
  },
  {
   "cell_type": "code",
   "execution_count": 14,
   "id": "homeless-banana",
   "metadata": {},
   "outputs": [],
   "source": [
    "solver = SolverFactory('ipopt')\n",
    "solver.options = {'tol': 1e-6}"
   ]
  },
  {
   "cell_type": "code",
   "execution_count": 15,
   "id": "historical-spice",
   "metadata": {},
   "outputs": [
    {
     "name": "stdout",
     "output_type": "stream",
     "text": [
      "0.974\n",
      "0.894\n",
      "0.729\n",
      "0.572\n",
      "0.442\n",
      "0.35\n",
      "0.185\n",
      "0.982\n",
      "0.924\n",
      "0.81\n",
      "0.703\n",
      "0.61\n",
      "0.525\n",
      "0.448\n",
      "0.372\n",
      "0.994\n",
      "0.953\n",
      "0.887\n",
      "0.826\n",
      "0.769\n",
      "0.715\n",
      "0.665\n",
      "0.618\n",
      "0.997\n",
      "0.971\n",
      "0.93\n",
      "0.891\n",
      "0.854\n",
      "0.818\n",
      "0.786\n",
      "0.752\n"
     ]
    }
   ],
   "source": [
    "m = ConcreteModel()\n",
    "\n",
    "m.fs = FlowsheetBlock(default={\"dynamic\": False})\n",
    "\n",
    "m.fs.properties = GenericParameterBlock(default=configuration)\n",
    "\n",
    "m.fs.F101 = Flash(default={\"property_package\": m.fs.properties,\n",
    "                           \"has_heat_transfer\": True,\n",
    "                           \"has_pressure_change\": True})\n",
    "\n",
    "m.fs.F101.inlet.flow_mol.fix(1)\n",
    "m.fs.F101.inlet.temperature.fix(323.15)\n",
    "m.fs.F101.inlet.pressure.fix(399800)\n",
    "m.fs.F101.inlet.mole_frac_comp[0,'R32'].fix(0.5)\n",
    "\n",
    "m.fs.properties.PR_kappa_A['R32','bmimpf6'] = parameters['fs.properties.PR_kappa_A[R32,bmimpf6]']\n",
    "m.fs.properties.PR_kappa_A['bmimpf6','R32'] = parameters['fs.properties.PR_kappa_A[bmimpf6,R32]']\n",
    "\n",
    "# Initialize the flash unit\n",
    "m.fs.F101.initialize(outlvl=idaeslog.CRITICAL)\n",
    "\n",
    "# Fix the state variables on the state block\n",
    "# m.fs.F101.inlet.pressure.unfix()\n",
    "m.fs.F101.inlet.mole_frac_comp[0,'bmimpf6'].unfix()\n",
    "\n",
    "R32_x = np.zeros((len(data_full)))\n",
    "P = np.zeros((len(data_full)))\n",
    "\n",
    "m.fs.liq = Param(mutable=True,default=0.040)\n",
    "m.fs.liquid = Constraint(expr=m.fs.F101.liq_outlet.mole_frac_comp[0, \"bmimpf6\"] == m.fs.liq)\n",
    "\n",
    "for i in range(len(data_full)):\n",
    "    m.fs.liq = data_full[\"x_bmimpf6\"].iloc[i]\n",
    "    m.fs.F101.inlet.temperature.fix(float(data_full[\"temperature\"].iloc[i]))\n",
    "    m.fs.F101.inlet.pressure.fix(float(data_full[\"pressure\"].iloc[i]))\n",
    "    m.fs.F101.inlet.mole_frac_comp[0,'R32'].fix(float(data_full[\"x_R32\"].iloc[i])+0.1)\n",
    "    m.fs.F101.inlet.mole_frac_comp[0,'bmimpf6'].fix(float(1-(data_full[\"x_R32\"].iloc[i]+0.1)))\n",
    "    m.fs.F101.vap_outlet.temperature.fix(float(data_full[\"temperature\"].iloc[i]))\n",
    "    \n",
    "#     DOF_final = degrees_of_freedom(m)\n",
    "#     print(\"The final DOF is {0}\".format(DOF_final))\n",
    "    m.fs.F101.initialize(outlvl=idaeslog.CRITICAL)\n",
    "    \n",
    "    status = solver.solve(m, tee = False)\n",
    "\n",
    "#     m.fs.F101.report()\n",
    "    if (status.solver.status == SolverStatus.ok) and (status.solver.termination_condition == TerminationCondition.optimal):\n",
    "        print(data_full[\"x_bmimpf6\"].iloc[i])\n",
    "        R32_x[i] = value(m.fs.F101.liq_outlet.mole_frac_comp[0,'R32']) \n",
    "        P[i] = value(m.fs.F101.vap_outlet.pressure[0])\n",
    "\n",
    "    else:\n",
    "        print('Infeasible.')"
   ]
  },
  {
   "cell_type": "code",
   "execution_count": 16,
   "id": "fde93e5f",
   "metadata": {},
   "outputs": [],
   "source": [
    "fitted_data = pd.DataFrame(data=[R32_x,P/1e6])\n",
    "fitted_data = fitted_data.T\n",
    "fitted_data.columns = ['R32_x','P, MPa']\n",
    "fitted_data.to_csv('Data/Fits/PR_FittedData_2parameter.csv')"
   ]
  },
  {
   "cell_type": "code",
   "execution_count": 17,
   "id": "helpful-powell",
   "metadata": {},
   "outputs": [
    {
     "data": {
      "image/png": "[encoded data removed]",
      "text/plain": [
       "<Figure size 432x288 with 1 Axes>"
      ]
     },
     "metadata": {
      "needs_background": "light"
     },
     "output_type": "display_data"
    }
   ],
   "source": [
    "P1= np.zeros((len(P)))\n",
    "\n",
    "for i in range(len(P)):\n",
    "    P1[i] = P[i]/1e6\n",
    "\n",
    "fig, ax = plt.subplots()\n",
    "\n",
    "ax.plot(R32_x[0:7],P1[0:7],\"b*-\",label=\"T= 283 K\")  \n",
    "ax.plot(R32_x[7:15],P1[7:15],\"r*-\",label=\"T= 298 K\") \n",
    "ax.plot(R32_x[15:23],P1[15:23],\"c*-\",label=\"T= 323 K\") \n",
    "ax.plot(R32_x[23:31],P1[23:31],\"m-*\",label=\"T= 348 K\")\n",
    "ax.plot(data_full[\"x_R32\"],data_full[\"pressure\"]/1e6,\"*\",color='orange',label=\"data\")  \n",
    "\n",
    "# plt.title('Isotherm R32-[emim][TF2N]')\n",
    "ax.set_ylabel('Pressure, MPa',fontsize=24)\n",
    "ax.set_xlabel('HFC-32 Mole Fraction',fontsize=24)\n",
    "\n",
    "ax.set_xticks([0.0, 0.2, 0.4, 0.6, 0.8, 1.0])\n",
    "ax.set_xticks([0.1, 0.3, 0.5, 0.7, 0.9],minor=True)\n",
    "ax.set_yticks([0.0, 0.2, 0.4, 0.6, 0.8, 1.0, 1.2])\n",
    "ax.set_yticks([0.1, 0.3, 0.5, 0.7, 0.9, 1.1],minor=True)\n",
    "\n",
    "ax.tick_params(\"both\", direction=\"in\", which=\"both\", length=4, labelsize=20, pad=10)\n",
    "ax.tick_params(\"both\", which=\"major\", length=8)\n",
    "ax.xaxis.set_ticks_position(\"both\")\n",
    "ax.yaxis.set_ticks_position(\"both\")\n",
    "\n",
    "ax.legend(fontsize=12, handletextpad=0.00, loc=\"lower right\")#, bbox_to_anchor=(1, 0.5))\n",
    "# fig.savefig('R32-bmimpf6-noTdep.pdf',bbox_inches='tight')\n",
    "plt.show()"
   ]
  },
  {
   "cell_type": "markdown",
   "id": "present-tulsa",
   "metadata": {},
   "source": [
    "### Print Eigvals, Eigvectors of Covariance\n",
    "\n",
    "An identifiability analysis can be performed with these as well as a FIM because the covariance matrix is the inverse of the FIM. That means that if there are any eigvals >> 0, their eigvecs indicate directions of un-identifiability."
   ]
  },
  {
   "cell_type": "code",
   "execution_count": 18,
   "id": "associate-retreat",
   "metadata": {},
   "outputs": [],
   "source": [
    "eigvals, eigvecs = np.linalg.eig(cov)"
   ]
  },
  {
   "cell_type": "code",
   "execution_count": 19,
   "id": "genuine-lucas",
   "metadata": {},
   "outputs": [
    {
     "data": {
      "text/plain": [
       "array([3.78289619e-13, 8.53085954e-16])"
      ]
     },
     "execution_count": 19,
     "metadata": {},
     "output_type": "execute_result"
    }
   ],
   "source": [
    "eigvals"
   ]
  },
  {
   "cell_type": "code",
   "execution_count": 20,
   "id": "historic-outside",
   "metadata": {},
   "outputs": [
    {
     "data": {
      "text/plain": [
       "array([[ 0.99975562, -0.02210654],\n",
       "       [ 0.02210654,  0.99975562]])"
      ]
     },
     "execution_count": 20,
     "metadata": {},
     "output_type": "execute_result"
    }
   ],
   "source": [
    "eigvecs"
   ]
  },
  {
   "cell_type": "code",
   "execution_count": 21,
   "id": "04f61538",
   "metadata": {},
   "outputs": [],
   "source": [
    "np.savetxt('Data/EigenAnalysis/PR_vals_2parameter.csv',eigvals,delimiter=',')\n",
    "np.savetxt('Data/EigenAnalysis/PR_vecs_2parameter.csv',eigvecs,delimiter=',')"
   ]
  },
  {
   "cell_type": "markdown",
   "id": "responsible-permission",
   "metadata": {},
   "source": [
    "Conclusion: Fully identifiable because all eigvals ~ 0 "
   ]
  },
  {
   "cell_type": "markdown",
   "id": "capital-declaration",
   "metadata": {},
   "source": [
    "## AIC Value\n",
    "\n",
    "See https://docs.google.com/document/d/1um0r2XK4ldjjy2colOqaZsEM3wIzGD6l_3B8gnpnI2I/edit# for equations"
   ]
  },
  {
   "cell_type": "markdown",
   "id": "about-offering",
   "metadata": {},
   "source": [
    "### Calculate MLE"
   ]
  },
  {
   "cell_type": "markdown",
   "id": "tired-handle",
   "metadata": {},
   "source": [
    "Other AIC - using SSR calculated in above parameter fitting"
   ]
  },
  {
   "cell_type": "code",
   "execution_count": 22,
   "id": "e0601fdd",
   "metadata": {},
   "outputs": [],
   "source": [
    "n=2"
   ]
  },
  {
   "cell_type": "code",
   "execution_count": 23,
   "id": "medical-antarctica",
   "metadata": {},
   "outputs": [
    {
     "data": {
      "text/plain": [
       "10.654327798769483"
      ]
     },
     "execution_count": 23,
     "metadata": {},
     "output_type": "execute_result"
    }
   ],
   "source": [
    "SSR_other = obj_value\n",
    "SSR_other"
   ]
  },
  {
   "cell_type": "code",
   "execution_count": 24,
   "id": "capital-direction",
   "metadata": {},
   "outputs": [
    {
     "data": {
      "text/plain": [
       "5.327163899384741"
      ]
     },
     "execution_count": 24,
     "metadata": {},
     "output_type": "execute_result"
    }
   ],
   "source": [
    "sigma_sq_other = SSR_other/n\n",
    "sigma_sq_other"
   ]
  },
  {
   "cell_type": "code",
   "execution_count": 25,
   "id": "canadian-blast",
   "metadata": {},
   "outputs": [
    {
     "data": {
      "text/plain": [
       "-4.510696061542141"
      ]
     },
     "execution_count": 25,
     "metadata": {},
     "output_type": "execute_result"
    }
   ],
   "source": [
    "L_other = -n/2*np.log(2*np.pi) - n/2*np.log(sigma_sq_other) - 1/(2*sigma_sq_other)*SSR_other\n",
    "L_other"
   ]
  },
  {
   "cell_type": "code",
   "execution_count": 26,
   "id": "banner-clearing",
   "metadata": {},
   "outputs": [
    {
     "data": {
      "text/plain": [
       "13.021392123084283"
      ]
     },
     "execution_count": 26,
     "metadata": {},
     "output_type": "execute_result"
    }
   ],
   "source": [
    "AIC_other = 2*n - 2*L_other\n",
    "AIC_other"
   ]
  },
  {
   "cell_type": "code",
   "execution_count": 27,
   "id": "damaged-triangle",
   "metadata": {},
   "outputs": [],
   "source": [
    "AIC_data = pd.DataFrame(data=[n,obj_value,AIC_other])\n",
    "AIC_data = AIC_data.T\n",
    "AIC_data.columns = ['n','Objective, Pa^2','AIC']\n",
    "AIC_data.to_csv('Data/AIC/PR_AIC_2parameter.csv')"
   ]
  },
  {
   "cell_type": "code",
   "execution_count": null,
   "id": "040d52c8",
   "metadata": {},
   "outputs": [],
   "source": []
  }
 ],
 "metadata": {
  "kernelspec": {
   "display_name": "Python 3 (ipykernel)",
   "language": "python",
   "name": "python3"
  },
  "language_info": {
   "codemirror_mode": {
    "name": "ipython",
    "version": 3
   },
   "file_extension": ".py",
   "mimetype": "text/x-python",
   "name": "python",
   "nbconvert_exporter": "python",
   "pygments_lexer": "ipython3",
   "version": "3.9.9"
  }
 },
 "nbformat": 4,
 "nbformat_minor": 5
}
