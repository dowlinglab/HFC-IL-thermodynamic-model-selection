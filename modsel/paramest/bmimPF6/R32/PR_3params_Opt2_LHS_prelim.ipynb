{
 "cells": [
  {
   "cell_type": "markdown",
   "id": "d4de6609",
   "metadata": {},
   "source": [
    "# Organize LH sample for PR 3params Opt2 LHS multistart"
   ]
  },
  {
   "cell_type": "code",
   "execution_count": 1,
   "id": "309efa6a",
   "metadata": {},
   "outputs": [],
   "source": [
    "import pandas as pd\n",
    "import numpy as np\n",
    "\n",
    "import sys\n",
    "sys.path.append('../../')"
   ]
  },
  {
   "cell_type": "code",
   "execution_count": 2,
   "id": "6539d4ff",
   "metadata": {},
   "outputs": [],
   "source": [
    "PR_no_results = pd.read_csv('Data/Fits/LHS_Fits/PR_noTdep_LHS_from206.csv',index_col=0)"
   ]
  },
  {
   "cell_type": "code",
   "execution_count": 3,
   "id": "9319acae",
   "metadata": {},
   "outputs": [
    {
     "data": {
      "text/html": [
       "<div>\n",
       "<style scoped>\n",
       "    .dataframe tbody tr th:only-of-type {\n",
       "        vertical-align: middle;\n",
       "    }\n",
       "\n",
       "    .dataframe tbody tr th {\n",
       "        vertical-align: top;\n",
       "    }\n",
       "\n",
       "    .dataframe thead th {\n",
       "        text-align: right;\n",
       "    }\n",
       "</style>\n",
       "<table border=\"1\" class=\"dataframe\">\n",
       "  <thead>\n",
       "    <tr style=\"text-align: right;\">\n",
       "      <th></th>\n",
       "      <th>Unnamed: 0.1</th>\n",
       "      <th>sc_param1</th>\n",
       "      <th>sc_param2</th>\n",
       "      <th>PR_kappa_A[bmimpf6,R32]</th>\n",
       "      <th>PR_kappa_A[R32,bmimpf6]</th>\n",
       "      <th>SSR</th>\n",
       "    </tr>\n",
       "  </thead>\n",
       "  <tbody>\n",
       "    <tr>\n",
       "      <th>5</th>\n",
       "      <td>5</td>\n",
       "      <td>0.021303</td>\n",
       "      <td>0.004003</td>\n",
       "      <td>0.004893</td>\n",
       "      <td>-0.003620</td>\n",
       "      <td>10.388623</td>\n",
       "    </tr>\n",
       "    <tr>\n",
       "      <th>89</th>\n",
       "      <td>89</td>\n",
       "      <td>0.021303</td>\n",
       "      <td>0.021446</td>\n",
       "      <td>-0.001554</td>\n",
       "      <td>-0.003730</td>\n",
       "      <td>10.654327</td>\n",
       "    </tr>\n",
       "    <tr>\n",
       "      <th>105</th>\n",
       "      <td>105</td>\n",
       "      <td>0.021303</td>\n",
       "      <td>0.035016</td>\n",
       "      <td>0.005894</td>\n",
       "      <td>-0.003603</td>\n",
       "      <td>10.348592</td>\n",
       "    </tr>\n",
       "    <tr>\n",
       "      <th>230</th>\n",
       "      <td>230</td>\n",
       "      <td>0.021303</td>\n",
       "      <td>0.018093</td>\n",
       "      <td>-0.001554</td>\n",
       "      <td>-0.003730</td>\n",
       "      <td>10.654327</td>\n",
       "    </tr>\n",
       "  </tbody>\n",
       "</table>\n",
       "</div>"
      ],
      "text/plain": [
       "     Unnamed: 0.1  sc_param1  sc_param2  PR_kappa_A[bmimpf6,R32]  \\\n",
       "5               5   0.021303   0.004003                 0.004893   \n",
       "89             89   0.021303   0.021446                -0.001554   \n",
       "105           105   0.021303   0.035016                 0.005894   \n",
       "230           230   0.021303   0.018093                -0.001554   \n",
       "\n",
       "     PR_kappa_A[R32,bmimpf6]        SSR  \n",
       "5                  -0.003620  10.388623  \n",
       "89                 -0.003730  10.654327  \n",
       "105                -0.003603  10.348592  \n",
       "230                -0.003730  10.654327  "
      ]
     },
     "execution_count": 3,
     "metadata": {},
     "output_type": "execute_result"
    }
   ],
   "source": [
    "PR_no_results.dropna(axis=0)"
   ]
  },
  {
   "cell_type": "code",
   "execution_count": 4,
   "id": "c57b9fa9",
   "metadata": {},
   "outputs": [
    {
     "data": {
      "text/html": [
       "<div>\n",
       "<style scoped>\n",
       "    .dataframe tbody tr th:only-of-type {\n",
       "        vertical-align: middle;\n",
       "    }\n",
       "\n",
       "    .dataframe tbody tr th {\n",
       "        vertical-align: top;\n",
       "    }\n",
       "\n",
       "    .dataframe thead th {\n",
       "        text-align: right;\n",
       "    }\n",
       "</style>\n",
       "<table border=\"1\" class=\"dataframe\">\n",
       "  <thead>\n",
       "    <tr style=\"text-align: right;\">\n",
       "      <th></th>\n",
       "      <th>Unnamed: 0.1</th>\n",
       "      <th>sc_param1</th>\n",
       "      <th>sc_param2</th>\n",
       "      <th>PR_kappa_A[bmimpf6,R32]</th>\n",
       "      <th>PR_kappa_A[R32,bmimpf6]</th>\n",
       "      <th>SSR</th>\n",
       "    </tr>\n",
       "  </thead>\n",
       "  <tbody>\n",
       "    <tr>\n",
       "      <th>105</th>\n",
       "      <td>105</td>\n",
       "      <td>0.021303</td>\n",
       "      <td>0.035016</td>\n",
       "      <td>0.005894</td>\n",
       "      <td>-0.003603</td>\n",
       "      <td>10.348592</td>\n",
       "    </tr>\n",
       "  </tbody>\n",
       "</table>\n",
       "</div>"
      ],
      "text/plain": [
       "     Unnamed: 0.1  sc_param1  sc_param2  PR_kappa_A[bmimpf6,R32]  \\\n",
       "105           105   0.021303   0.035016                 0.005894   \n",
       "\n",
       "     PR_kappa_A[R32,bmimpf6]        SSR  \n",
       "105                -0.003603  10.348592  "
      ]
     },
     "execution_count": 4,
     "metadata": {},
     "output_type": "execute_result"
    }
   ],
   "source": [
    "PR_no_results[PR_no_results.SSR == PR_no_results.SSR.min()]"
   ]
  },
  {
   "cell_type": "code",
   "execution_count": 5,
   "id": "a45ca2d2",
   "metadata": {},
   "outputs": [],
   "source": [
    "no_105 = PR_no_results.iloc[105]"
   ]
  },
  {
   "cell_type": "code",
   "execution_count": 6,
   "id": "d0b2c57a",
   "metadata": {},
   "outputs": [],
   "source": [
    "lhs = pd.read_csv('../../LHS_250x8.txt')"
   ]
  },
  {
   "cell_type": "code",
   "execution_count": 7,
   "id": "3ba4bd62",
   "metadata": {},
   "outputs": [],
   "source": [
    "lhs['sc_param3'] = ((lhs['Param3']-lhs['Param3'].min())/(lhs['Param3'].max()-lhs['Param3'].min()))*2+(-1)"
   ]
  },
  {
   "cell_type": "code",
   "execution_count": 8,
   "id": "d1497feb",
   "metadata": {},
   "outputs": [],
   "source": [
    "no_105_sc = no_105[['sc_param1','sc_param2']]"
   ]
  },
  {
   "cell_type": "code",
   "execution_count": 9,
   "id": "1e325f20",
   "metadata": {},
   "outputs": [],
   "source": [
    "no_105_sc_df = pd.DataFrame(no_105_sc).T\n",
    "sc_105 = pd.concat([no_105_sc_df]*250,ignore_index=True)\n",
    "sc_105_lhs = pd.concat([sc_105,lhs[['sc_param3']]],axis=1,ignore_index=True)\n",
    "sc_105_lhs.columns = ['sc_param1','sc_param2','sc_param3']\n",
    "sc_105_lhs.to_csv('Data/Fits/LHS_Fits/PR_3params_Opt2_from105.csv',sep=',')"
   ]
  },
  {
   "cell_type": "code",
   "execution_count": null,
   "id": "3ee80540",
   "metadata": {},
   "outputs": [],
   "source": [
    "sc_105_lhs"
   ]
  },
  {
   "cell_type": "code",
   "execution_count": null,
   "id": "804d5655",
   "metadata": {},
   "outputs": [],
   "source": []
  }
 ],
 "metadata": {
  "kernelspec": {
   "display_name": "Python 3 (ipykernel)",
   "language": "python",
   "name": "python3"
  },
  "language_info": {
   "codemirror_mode": {
    "name": "ipython",
    "version": 3
   },
   "file_extension": ".py",
   "mimetype": "text/x-python",
   "name": "python",
   "nbconvert_exporter": "python",
   "pygments_lexer": "ipython3",
   "version": "3.9.9"
  }
 },
 "nbformat": 4,
 "nbformat_minor": 5
}
