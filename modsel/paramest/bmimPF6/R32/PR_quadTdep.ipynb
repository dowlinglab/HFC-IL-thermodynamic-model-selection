{
 "cells": [
  {
   "cell_type": "markdown",
   "id": "instructional-learning",
   "metadata": {},
   "source": [
    "# Fit bmimpf6 data\n",
    "\n",
    "EoS: PR\n",
    "\n",
    "Parameter T dependence: Quadratic\n",
    "\n",
    "N (total fitting parameters): 6"
   ]
  },
  {
   "cell_type": "markdown",
   "id": "extended-rabbit",
   "metadata": {},
   "source": [
    "## Import Functions"
   ]
  },
  {
   "cell_type": "code",
   "execution_count": 1,
   "id": "complicated-toronto",
   "metadata": {},
   "outputs": [],
   "source": [
    "import idaes\n",
    "\n",
    "import pandas as pd\n",
    "import numpy as np\n",
    "import matplotlib.pyplot as plt\n",
    "import scipy.optimize\n",
    "\n",
    "import sys\n",
    "sys.path.append('../../')\n",
    "\n",
    "from pyomo.environ import (Constraint,\n",
    "                           Var,\n",
    "                           ConcreteModel,\n",
    "                           Expression,\n",
    "                           Param,\n",
    "                           Objective,\n",
    "                           SolverFactory,\n",
    "                           TransformationFactory,\n",
    "                           value)\n",
    "from pyomo.opt import TerminationCondition, SolverStatus\n",
    "\n",
    "from idaes.core import FlowsheetBlock\n",
    "import idaes.logger as idaeslog\n",
    "# Import the Generic Parameter Block\n",
    "from idaes.generic_models.properties.core.generic.generic_property import (\n",
    "        GenericParameterBlock)\n",
    "# Import unit models from the model library\n",
    "from idaes.generic_models.unit_models import Flash\n",
    "# Import degrees of freedom tool\n",
    "from idaes.core.util.model_statistics import degrees_of_freedom\n",
    "\n",
    "# parmest (binary_param2)\n",
    "from bip_fitting_functions import cuadratic\n",
    "\n",
    "import scipy.stats as stats\n",
    "\n",
    "from matplotlib.patches import Ellipse\n",
    "import matplotlib.transforms as transforms\n",
    "import matplotlib.patches as mpatches"
   ]
  },
  {
   "cell_type": "markdown",
   "id": "potential-awareness",
   "metadata": {},
   "source": [
    "## Load Data"
   ]
  },
  {
   "cell_type": "code",
   "execution_count": 2,
   "id": "latest-artist",
   "metadata": {},
   "outputs": [],
   "source": [
    "data_full = pd.read_csv('r32_bmimpf6_full.csv')\n",
    "# data_subset = pd.read_csv('r32_emimtf2n_subset.csv')"
   ]
  },
  {
   "cell_type": "markdown",
   "id": "superior-attendance",
   "metadata": {},
   "source": [
    "## Load Configuration + Check DOF"
   ]
  },
  {
   "cell_type": "code",
   "execution_count": 3,
   "id": "binding-cattle",
   "metadata": {},
   "outputs": [],
   "source": [
    "from hfc32_bmimpf6_PR import configuration "
   ]
  },
  {
   "cell_type": "code",
   "execution_count": 4,
   "id": "backed-diving",
   "metadata": {},
   "outputs": [
    {
     "name": "stdout",
     "output_type": "stream",
     "text": [
      "The initial DOF is 7\n"
     ]
    }
   ],
   "source": [
    "m = ConcreteModel()\n",
    "m.fs = FlowsheetBlock(default={\"dynamic\": False})\n",
    "m.fs.properties = GenericParameterBlock(default=configuration)\n",
    "m.fs.F101 = Flash(default={\"property_package\": m.fs.properties,\n",
    "                           \"has_heat_transfer\": True,\n",
    "                           \"has_pressure_change\": True})\n",
    "DOF_initial = degrees_of_freedom(m)\n",
    "print('The initial DOF is {0}'.format(DOF_initial))"
   ]
  },
  {
   "cell_type": "markdown",
   "id": "conventional-health",
   "metadata": {},
   "source": [
    "## Fit Parameters"
   ]
  },
  {
   "cell_type": "code",
   "execution_count": 6,
   "id": "sensitive-secondary",
   "metadata": {},
   "outputs": [
    {
     "name": "stdout",
     "output_type": "stream",
     "text": [
      "2022-04-20 13:17:45 [INFO] idaes.init.fs.state_block: Property package initialization: optimal - Optimal Solution Found.\n",
      "2022-04-20 13:17:45 [INFO] idaes.init.fs.state_block: Property package initialization: optimal - Optimal Solution Found.\n",
      "2022-04-20 13:17:46 [INFO] idaes.init.fs.state_block: Property package initialization: optimal - Optimal Solution Found.\n",
      "2022-04-20 13:17:46 [INFO] idaes.init.fs.state_block: Property package initialization: optimal - Optimal Solution Found.\n",
      "2022-04-20 13:17:47 [INFO] idaes.init.fs.state_block: Property package initialization: optimal - Optimal Solution Found.\n",
      "2022-04-20 13:17:47 [INFO] idaes.init.fs.state_block: Property package initialization: optimal - Optimal Solution Found.\n",
      "2022-04-20 13:17:47 [INFO] idaes.init.fs.state_block: Property package initialization: optimal - Optimal Solution Found.\n",
      "2022-04-20 13:17:48 [INFO] idaes.init.fs.state_block: Property package initialization: optimal - Optimal Solution Found.\n",
      "2022-04-20 13:17:48 [INFO] idaes.init.fs.state_block: Property package initialization: optimal - Optimal Solution Found.\n",
      "2022-04-20 13:17:48 [INFO] idaes.init.fs.state_block: Property package initialization: optimal - Optimal Solution Found.\n",
      "2022-04-20 13:17:49 [INFO] idaes.init.fs.state_block: Property package initialization: optimal - Optimal Solution Found.\n",
      "2022-04-20 13:17:49 [INFO] idaes.init.fs.state_block: Property package initialization: optimal - Optimal Solution Found.\n",
      "2022-04-20 13:17:49 [INFO] idaes.init.fs.state_block: Property package initialization: optimal - Optimal Solution Found.\n",
      "2022-04-20 13:17:50 [INFO] idaes.init.fs.state_block: Property package initialization: optimal - Optimal Solution Found.\n",
      "2022-04-20 13:17:50 [INFO] idaes.init.fs.state_block: Property package initialization: optimal - Optimal Solution Found.\n",
      "2022-04-20 13:17:50 [INFO] idaes.init.fs.state_block: Property package initialization: optimal - Optimal Solution Found.\n",
      "2022-04-20 13:17:51 [INFO] idaes.init.fs.state_block: Property package initialization: optimal - Optimal Solution Found.\n",
      "2022-04-20 13:17:51 [INFO] idaes.init.fs.state_block: Property package initialization: optimal - Optimal Solution Found.\n",
      "2022-04-20 13:17:52 [INFO] idaes.init.fs.state_block: Property package initialization: optimal - Optimal Solution Found.\n",
      "2022-04-20 13:17:52 [INFO] idaes.init.fs.state_block: Property package initialization: optimal - Optimal Solution Found.\n",
      "2022-04-20 13:17:52 [INFO] idaes.init.fs.state_block: Property package initialization: optimal - Optimal Solution Found.\n",
      "2022-04-20 13:17:53 [INFO] idaes.init.fs.state_block: Property package initialization: optimal - Optimal Solution Found.\n",
      "2022-04-20 13:17:53 [INFO] idaes.init.fs.state_block: Property package initialization: optimal - Optimal Solution Found.\n",
      "2022-04-20 13:17:54 [INFO] idaes.init.fs.state_block: Property package initialization: optimal - Optimal Solution Found.\n",
      "2022-04-20 13:17:54 [INFO] idaes.init.fs.state_block: Property package initialization: optimal - Optimal Solution Found.\n",
      "2022-04-20 13:17:55 [INFO] idaes.init.fs.state_block: Property package initialization: optimal - Optimal Solution Found.\n",
      "2022-04-20 13:17:55 [INFO] idaes.init.fs.state_block: Property package initialization: optimal - Optimal Solution Found.\n",
      "2022-04-20 13:17:55 [INFO] idaes.init.fs.state_block: Property package initialization: optimal - Optimal Solution Found.\n",
      "2022-04-20 13:17:56 [INFO] idaes.init.fs.state_block: Property package initialization: optimal - Optimal Solution Found.\n",
      "2022-04-20 13:17:56 [INFO] idaes.init.fs.state_block: Property package initialization: optimal - Optimal Solution Found.\n",
      "2022-04-20 13:17:57 [INFO] idaes.init.fs.state_block: Property package initialization: optimal - Optimal Solution Found.\n",
      "Ipopt 3.13.2: bound_relax_factor=0\n",
      "honor_original_bounds=no\n",
      "\n",
      "\n",
      "******************************************************************************\n",
      "This program contains Ipopt, a library for large-scale nonlinear optimization.\n",
      " Ipopt is released as open source code under the Eclipse Public License (EPL).\n",
      "         For more information visit http://projects.coin-or.org/Ipopt\n",
      "\n",
      "This version of Ipopt was compiled from source code available at\n",
      "    https://github.com/IDAES/Ipopt as part of the Institute for the Design of\n",
      "    Advanced Energy Systems Process Systems Engineering Framework (IDAES PSE\n",
      "    Framework) Copyright (c) 2018-2019. See https://github.com/IDAES/idaes-pse.\n",
      "\n",
      "This version of Ipopt was compiled using HSL, a collection of Fortran codes\n",
      "    for large-scale scientific computation.  All technical papers, sales and\n",
      "    publicity material resulting from use of the HSL codes within IPOPT must\n",
      "    contain the following acknowledgement:\n",
      "        HSL, a collection of Fortran codes for large-scale scientific\n",
      "        computation. See http://www.hsl.rl.ac.uk.\n",
      "******************************************************************************\n",
      "\n",
      "This is Ipopt version 3.13.2, running with linear solver ma27.\n",
      "\n",
      "Number of nonzeros in equality constraint Jacobian...:     1538\n",
      "Number of nonzeros in inequality constraint Jacobian.:        0\n",
      "Number of nonzeros in Lagrangian Hessian.............:     2356\n",
      "\n",
      "Total number of variables............................:      558\n",
      "                     variables with only lower bounds:      124\n",
      "                variables with lower and upper bounds:      372\n",
      "                     variables with only upper bounds:        0\n",
      "Total number of equality constraints.................:      552\n",
      "Total number of inequality constraints...............:        0\n",
      "        inequality constraints with only lower bounds:        0\n",
      "   inequality constraints with lower and upper bounds:        0\n",
      "        inequality constraints with only upper bounds:        0\n",
      "\n",
      "iter    objective    inf_pr   inf_du lg(mu)  ||d||  lg(rg) alpha_du alpha_pr  ls\n",
      "   0  0.0000000e+00 1.10e+00 5.68e-14  -1.0 0.00e+00    -  0.00e+00 0.00e+00   0\n",
      "   1  1.3664395e+01 4.20e-01 6.06e+02  -1.0 4.33e+04    -  5.38e-01 9.90e-01h  1\n",
      "   2  1.4597386e+01 2.48e-02 2.17e+02  -1.0 4.08e+03    -  8.06e-01 9.90e-01h  1\n",
      "   3  1.4637078e+01 1.31e-03 1.46e+03  -1.0 5.41e+02    -  9.75e-01 9.90e-01h  1\n",
      "   4  1.4522056e+01 1.73e-02 1.13e+06  -1.0 7.00e+03    -  1.75e-01 6.19e-02f  5\n",
      "   5  1.4444689e+01 3.08e-02 3.43e+06  -1.0 7.78e+03    -  2.50e-01 3.09e-02f  6\n",
      "   6  1.4418116e+01 3.44e-02 3.72e+06  -1.0 1.28e+04    -  3.07e-02 3.71e-03f  7\n",
      "   7  1.4414665e+01 5.11e-04 3.72e+04  -1.0 1.20e+01  -4.0 9.90e-01 9.90e-01h  1\n",
      "   8  1.4155376e+01 3.34e-03 9.51e+08  -1.0 9.53e+03    -  9.85e-01 1.24e-01f  4\n",
      "   9  1.4011812e+01 1.23e-02 2.06e+09  -1.0 8.98e+03    -  9.90e-01 6.19e-02f  5\n",
      "iter    objective    inf_pr   inf_du lg(mu)  ||d||  lg(rg) alpha_du alpha_pr  ls\n",
      "  10  1.3118968e+01 7.37e-03 1.15e+06  -1.0 7.79e+03    -  9.74e-01 9.90e-01H  1\n",
      "  11  1.2477486e+01 1.28e-02 4.38e+09  -1.7 1.70e+03    -  8.27e-01 9.90e-01H  1\n",
      "  12  9.6332418e+00 3.46e+00 6.45e+11  -1.7 1.03e+04    -  2.56e-01 4.95e-01f  2\n",
      "  13  8.6268910e+00 2.01e+00 9.95e+11  -1.7 6.62e+03    -  7.43e-01 4.95e-01h  2\n",
      "  14  8.3260589e+00 1.12e+00 5.82e+12  -1.7 4.23e+03    -  1.00e+00 4.95e-01h  2\n",
      "  15  8.2345397e+00 6.03e-01 1.15e+13  -1.7 2.50e+03    -  9.07e-01 4.95e-01h  2\n",
      "  16  8.2144564e+00 4.57e-01 3.98e+13  -1.7 1.98e+03    -  1.00e+00 2.47e-01h  3\n",
      "  17  8.2113615e+00 4.29e-01 8.88e+13  -1.7 1.52e+03    -  1.00e+00 6.19e-02h  5\n",
      "  18  8.2099826e+00 4.15e-01 1.43e+14  -1.7 1.44e+03    -  1.00e+00 3.09e-02h  6\n",
      "  19  8.2096560e+00 4.12e-01 2.02e+14  -1.7 1.40e+03    -  1.00e+00 7.73e-03h  8\n",
      "iter    objective    inf_pr   inf_du lg(mu)  ||d||  lg(rg) alpha_du alpha_pr  ls\n",
      "  20  8.2094950e+00 4.11e-01 2.61e+14  -1.7 1.39e+03    -  1.00e+00 3.87e-03h  9\n",
      "  21  8.2093354e+00 4.09e-01 3.21e+14  -1.7 1.39e+03    -  1.00e+00 3.87e-03h  9\n",
      "In iteration 21, 31 Slacks too small, adjusting variable bounds\n",
      "  22  8.1935702e+00 4.20e+00 3.83e+12  -1.7 1.38e+03    -  1.00e+00 9.90e-01w  1\n",
      "  23  8.1938131e+00 9.47e-01 6.25e-02  -1.7 7.60e+01    -  1.00e+00 1.00e+00w  1\n",
      "  24  8.1940785e+00 7.83e-02 1.57e-03  -1.7 2.62e+01    -  1.00e+00 1.00e+00w  1\n",
      "  25  8.1917147e+00 5.29e-03 5.47e-02  -2.5 2.98e+02    -  1.00e+00 1.00e+00h  1\n",
      "  26  8.1913893e+00 1.41e-03 5.86e-03  -3.8 1.42e+02    -  1.00e+00 1.00e+00h  1\n",
      "  27  8.1913876e+00 6.36e-06 3.81e-05  -5.7 1.11e+01    -  1.00e+00 1.00e+00h  1\n",
      "  28  8.1913876e+00 5.11e-10 7.48e-06  -8.6 8.75e-02    -  1.00e+00 1.00e+00h  1\n",
      "\n",
      "Number of Iterations....: 28\n",
      "\n",
      "                                   (scaled)                 (unscaled)\n",
      "Objective...............:   8.1913875737587123e+00    8.1913875737587123e+00\n",
      "Dual infeasibility......:   7.4803829193115234e-06    7.4803829193115234e-06\n",
      "Constraint violation....:   5.1141590962089367e-10    5.1141590962089367e-10\n",
      "Complementarity.........:   2.5486828784142860e-09    2.5486828784142860e-09\n",
      "Overall NLP error.......:   5.1141590962089367e-10    7.4803829193115234e-06\n",
      "\n",
      "\n",
      "Number of objective function evaluations             = 122\n",
      "Number of objective gradient evaluations             = 29\n",
      "Number of equality constraint evaluations            = 122\n",
      "Number of inequality constraint evaluations          = 0\n",
      "Number of equality constraint Jacobian evaluations   = 29\n",
      "Number of inequality constraint Jacobian evaluations = 0\n",
      "Number of Lagrangian Hessian evaluations             = 28\n",
      "Total CPU secs in IPOPT (w/o function evaluations)   =      0.055\n",
      "Total CPU secs in NLP function evaluations           =      1.078\n",
      "\n",
      "EXIT: Optimal Solution Found.\n"
     ]
    },
    {
     "name": "stdout",
     "output_type": "stream",
     "text": [
      "WARNING: The current pynumero_ASL library is version=2, but found version=1.\n",
      "    Please recompile / update your pynumero_ASL library.\n",
      "The SSE at the optimal solution is 8.191388\n",
      "\n",
      "The values for the parameters are as follows:\n",
      "fs.properties.PR_kappa_A[bmimpf6,R32] = 1.7620241081142063\n",
      "fs.properties.PR_kappa_A[R32,bmimpf6] = 0.6569169228062804\n",
      "fs.properties.PR_kappa_B[bmimpf6,R32] = -2.095995172907063\n",
      "fs.properties.PR_kappa_B[R32,bmimpf6] = -1.2223473294784253\n",
      "fs.properties.PR_kappa_C[bmimpf6,R32] = 0.24514215385339935\n",
      "fs.properties.PR_kappa_C[R32,bmimpf6] = 0.5349203394240544\n",
      "covariance_matrix                                        fs.properties.PR_kappa_A[bmimpf6,R32]  \\\n",
      "fs.properties.PR_kappa_A[bmimpf6,R32]                               8.867576   \n",
      "fs.properties.PR_kappa_A[R32,bmimpf6]                               0.245935   \n",
      "fs.properties.PR_kappa_B[bmimpf6,R32]                             -17.711841   \n",
      "fs.properties.PR_kappa_B[R32,bmimpf6]                              -0.495779   \n",
      "fs.properties.PR_kappa_C[bmimpf6,R32]                               8.822633   \n",
      "fs.properties.PR_kappa_C[R32,bmimpf6]                               0.248757   \n",
      "\n",
      "                                       fs.properties.PR_kappa_A[R32,bmimpf6]  \\\n",
      "fs.properties.PR_kappa_A[bmimpf6,R32]                               0.245935   \n",
      "fs.properties.PR_kappa_A[R32,bmimpf6]                               0.029959   \n",
      "fs.properties.PR_kappa_B[bmimpf6,R32]                              -0.463841   \n",
      "fs.properties.PR_kappa_B[R32,bmimpf6]                              -0.056348   \n",
      "fs.properties.PR_kappa_C[bmimpf6,R32]                               0.216917   \n",
      "fs.properties.PR_kappa_C[R32,bmimpf6]                               0.026325   \n",
      "\n",
      "                                       fs.properties.PR_kappa_B[bmimpf6,R32]  \\\n",
      "fs.properties.PR_kappa_A[bmimpf6,R32]                             -17.711841   \n",
      "fs.properties.PR_kappa_A[R32,bmimpf6]                              -0.463841   \n",
      "fs.properties.PR_kappa_B[bmimpf6,R32]                              35.443879   \n",
      "fs.properties.PR_kappa_B[R32,bmimpf6]                               0.940594   \n",
      "fs.properties.PR_kappa_C[bmimpf6,R32]                             -17.690623   \n",
      "fs.properties.PR_kappa_C[R32,bmimpf6]                              -0.474715   \n",
      "\n",
      "                                       fs.properties.PR_kappa_B[R32,bmimpf6]  \\\n",
      "fs.properties.PR_kappa_A[bmimpf6,R32]                              -0.495779   \n",
      "fs.properties.PR_kappa_A[R32,bmimpf6]                              -0.056348   \n",
      "fs.properties.PR_kappa_B[bmimpf6,R32]                               0.940594   \n",
      "fs.properties.PR_kappa_B[R32,bmimpf6]                               0.106236   \n",
      "fs.properties.PR_kappa_C[bmimpf6,R32]                              -0.442846   \n",
      "fs.properties.PR_kappa_C[R32,bmimpf6]                              -0.049758   \n",
      "\n",
      "                                       fs.properties.PR_kappa_C[bmimpf6,R32]  \\\n",
      "fs.properties.PR_kappa_A[bmimpf6,R32]                               8.822633   \n",
      "fs.properties.PR_kappa_A[R32,bmimpf6]                               0.216917   \n",
      "fs.properties.PR_kappa_B[bmimpf6,R32]                             -17.690623   \n",
      "fs.properties.PR_kappa_B[R32,bmimpf6]                              -0.442846   \n",
      "fs.properties.PR_kappa_C[bmimpf6,R32]                               8.848438   \n",
      "fs.properties.PR_kappa_C[R32,bmimpf6]                               0.224998   \n",
      "\n",
      "                                       fs.properties.PR_kappa_C[R32,bmimpf6]  \n",
      "fs.properties.PR_kappa_A[bmimpf6,R32]                               0.248757  \n",
      "fs.properties.PR_kappa_A[R32,bmimpf6]                               0.026325  \n",
      "fs.properties.PR_kappa_B[bmimpf6,R32]                              -0.474715  \n",
      "fs.properties.PR_kappa_B[R32,bmimpf6]                              -0.049758  \n",
      "fs.properties.PR_kappa_C[bmimpf6,R32]                               0.224998  \n",
      "fs.properties.PR_kappa_C[R32,bmimpf6]                               0.023368  \n"
     ]
    },
    {
     "name": "stderr",
     "output_type": "stream",
     "text": [
      "/Users/bridgettebefort/opt/anaconda3/envs/idaes-pse-dev/lib/python3.9/site-packages/pyomo/contrib/interior_point/interface.py:418: RuntimeWarning: divide by zero encountered in true_divide\n",
      "  data = (duals_primals_lb/(primals - self._nlp.primals_lb()) +\n"
     ]
    }
   ],
   "source": [
    "parameters, obj_value, a = cuadratic(data_full, configuration, 'R32', 'bmimpf6', \"x_R32\", \"x_bmimpf6\", \n",
    "    init_temp =  283.1, init_press =   399300 , init_x_c1 =    0.448, init_x_c2 = 0.552,\n",
    "    init_kappa_2_1A = -0.001, init_kappa_1_2A = -0.001,\n",
    "    init_kappa_2_1B = -0.001, init_kappa_1_2B = -0.001,\n",
    "    init_kappa_2_1C = -0.001, init_kappa_1_2C = -0.001, \n",
    "    eps = 0.1, scaling_fac = 1e-7)"
   ]
  },
  {
   "cell_type": "code",
   "execution_count": 7,
   "id": "basic-preserve",
   "metadata": {},
   "outputs": [
    {
     "name": "stdout",
     "output_type": "stream",
     "text": [
      "Objective (SSE): 8.191387573758712\n"
     ]
    }
   ],
   "source": [
    "print('Objective (SSE):',obj_value)"
   ]
  },
  {
   "cell_type": "code",
   "execution_count": 8,
   "id": "governmental-nudist",
   "metadata": {},
   "outputs": [
    {
     "name": "stdout",
     "output_type": "stream",
     "text": [
      "Covariance Matrix:\n",
      "[[ 8.86757573e+00  2.45934803e-01 -1.77118412e+01 -4.95779212e-01\n",
      "   8.82263345e+00  2.48757374e-01]\n",
      " [ 2.45934803e-01  2.99590566e-02 -4.63840773e-01 -5.63480059e-02\n",
      "   2.16916651e-01  2.63254138e-02]\n",
      " [-1.77118412e+01 -4.63840773e-01  3.54438789e+01  9.40593971e-01\n",
      "  -1.76906232e+01 -4.74714964e-01]\n",
      " [-4.95779212e-01 -5.63480059e-02  9.40593971e-01  1.06236449e-01\n",
      "  -4.42845899e-01 -4.97581270e-02]\n",
      " [ 8.82263345e+00  2.16916651e-01 -1.76906232e+01 -4.42845899e-01\n",
      "   8.84843773e+00  2.24997557e-01]\n",
      " [ 2.48757374e-01  2.63254138e-02 -4.74714964e-01 -4.97581270e-02\n",
      "   2.24997557e-01  2.33680491e-02]]\n"
     ]
    }
   ],
   "source": [
    "cov = np.array(a)\n",
    "print('Covariance Matrix:')\n",
    "print(cov)"
   ]
  },
  {
   "cell_type": "code",
   "execution_count": 9,
   "id": "639e59de",
   "metadata": {},
   "outputs": [],
   "source": [
    "np.savetxt('Data/Covariance/PR_Cov_6parameter.csv',cov,delimiter=',')"
   ]
  },
  {
   "cell_type": "markdown",
   "id": "aging-authentication",
   "metadata": {},
   "source": [
    "## Apply Parameters + Plot"
   ]
  },
  {
   "cell_type": "code",
   "execution_count": 10,
   "id": "endangered-gibraltar",
   "metadata": {},
   "outputs": [],
   "source": [
    "solver = SolverFactory('ipopt')\n",
    "solver.options = {'tol': 1e-6}"
   ]
  },
  {
   "cell_type": "code",
   "execution_count": 11,
   "id": "royal-switch",
   "metadata": {},
   "outputs": [
    {
     "name": "stdout",
     "output_type": "stream",
     "text": [
      "0.974\n",
      "0.894\n",
      "0.729\n",
      "0.572\n",
      "0.442\n",
      "0.35\n",
      "0.185\n",
      "0.982\n",
      "0.924\n",
      "0.81\n",
      "0.703\n",
      "0.61\n",
      "0.525\n",
      "0.448\n",
      "0.372\n",
      "0.994\n",
      "0.953\n",
      "0.887\n",
      "0.826\n",
      "0.769\n",
      "0.715\n",
      "0.665\n",
      "0.618\n",
      "0.997\n",
      "0.971\n",
      "0.93\n",
      "0.891\n",
      "0.854\n",
      "0.818\n",
      "0.786\n",
      "0.752\n"
     ]
    }
   ],
   "source": [
    "m = ConcreteModel()\n",
    "\n",
    "m.fs = FlowsheetBlock(default={\"dynamic\": False})\n",
    "\n",
    "m.fs.properties = GenericParameterBlock(default=configuration)\n",
    "\n",
    "m.fs.F101 = Flash(default={\"property_package\": m.fs.properties,\n",
    "                           \"has_heat_transfer\": True,\n",
    "                           \"has_pressure_change\": True})\n",
    "\n",
    "m.fs.F101.inlet.flow_mol.fix(1)\n",
    "m.fs.F101.inlet.temperature.fix(323.15)\n",
    "m.fs.F101.inlet.pressure.fix(399800)\n",
    "m.fs.F101.inlet.mole_frac_comp[0,'R32'].fix(0.5)\n",
    "\n",
    "m.fs.properties.PR_kappa_A['R32','bmimpf6'] = parameters['fs.properties.PR_kappa_A[R32,bmimpf6]']\n",
    "m.fs.properties.PR_kappa_A['bmimpf6','R32'] = parameters['fs.properties.PR_kappa_A[bmimpf6,R32]']\n",
    "m.fs.properties.PR_kappa_B['R32','bmimpf6'] = parameters['fs.properties.PR_kappa_B[R32,bmimpf6]']\n",
    "m.fs.properties.PR_kappa_B['bmimpf6','R32'] = parameters['fs.properties.PR_kappa_B[bmimpf6,R32]']\n",
    "m.fs.properties.PR_kappa_C['R32','bmimpf6'] = parameters['fs.properties.PR_kappa_C[R32,bmimpf6]']\n",
    "m.fs.properties.PR_kappa_C['bmimpf6','R32'] = parameters['fs.properties.PR_kappa_C[bmimpf6,R32]']\n",
    "\n",
    "# Initialize the flash unit\n",
    "m.fs.F101.initialize(outlvl=idaeslog.CRITICAL)\n",
    "\n",
    "# Fix the state variables on the state block\n",
    "# m.fs.F101.inlet.pressure.unfix()\n",
    "m.fs.F101.inlet.mole_frac_comp[0,'bmimpf6'].unfix()\n",
    "\n",
    "R32_x = np.zeros((len(data_full)))\n",
    "P = np.zeros((len(data_full)))\n",
    "\n",
    "m.fs.liq = Param(mutable=True,default=0.040)\n",
    "m.fs.liquid = Constraint(expr=m.fs.F101.liq_outlet.mole_frac_comp[0, \"bmimpf6\"] == m.fs.liq)\n",
    "\n",
    "for i in range(len(data_full)):\n",
    "    m.fs.liq = data_full[\"x_bmimpf6\"].iloc[i]\n",
    "    m.fs.F101.inlet.temperature.fix(float(data_full[\"temperature\"].iloc[i]))\n",
    "    m.fs.F101.inlet.pressure.fix(float(data_full[\"pressure\"].iloc[i]))\n",
    "    m.fs.F101.inlet.mole_frac_comp[0,'R32'].fix(float(data_full[\"x_R32\"].iloc[i])+0.1)\n",
    "    m.fs.F101.inlet.mole_frac_comp[0,'bmimpf6'].fix(float(1-(data_full[\"x_R32\"].iloc[i]+0.1)))\n",
    "    m.fs.F101.vap_outlet.temperature.fix(float(data_full[\"temperature\"].iloc[i]))\n",
    "    \n",
    "#     DOF_final = degrees_of_freedom(m)\n",
    "#     print(\"The final DOF is {0}\".format(DOF_final))\n",
    "    m.fs.F101.initialize(outlvl=idaeslog.CRITICAL)\n",
    "    \n",
    "    status = solver.solve(m, tee = False)\n",
    "\n",
    "#     m.fs.F101.report()\n",
    "    if (status.solver.status == SolverStatus.ok) and (status.solver.termination_condition == TerminationCondition.optimal):\n",
    "        print(data_full[\"x_bmimpf6\"].iloc[i])\n",
    "        R32_x[i] = value(m.fs.F101.liq_outlet.mole_frac_comp[0,'R32']) \n",
    "        P[i] = value(m.fs.F101.vap_outlet.pressure[0])\n",
    "\n",
    "    else:\n",
    "        print('Infeasible.')"
   ]
  },
  {
   "cell_type": "code",
   "execution_count": 12,
   "id": "36ee356e",
   "metadata": {},
   "outputs": [],
   "source": [
    "fitted_data = pd.DataFrame(data=[R32_x,P/1e6])\n",
    "fitted_data = fitted_data.T\n",
    "fitted_data.columns = ['R32_x','P, MPa']\n",
    "fitted_data.to_csv('Data/Fits/PR_FittedData_6parameter.csv')"
   ]
  },
  {
   "cell_type": "code",
   "execution_count": 13,
   "id": "religious-joining",
   "metadata": {},
   "outputs": [
    {
     "data": {
      "image/png": "[encoded data removed]",
      "text/plain": [
       "<Figure size 432x288 with 1 Axes>"
      ]
     },
     "metadata": {
      "needs_background": "light"
     },
     "output_type": "display_data"
    }
   ],
   "source": [
    "P1= np.zeros((len(P)))\n",
    "\n",
    "for i in range(len(P)):\n",
    "    P1[i] = P[i]/1e6\n",
    "\n",
    "fig, ax = plt.subplots()\n",
    "\n",
    "ax.plot(R32_x[0:7],P1[0:7],\"b*-\",label=\"T= 283 K\")  \n",
    "ax.plot(R32_x[7:15],P1[7:15],\"r*-\",label=\"T= 298 K\") \n",
    "ax.plot(R32_x[15:23],P1[15:23],\"c*-\",label=\"T= 323 K\") \n",
    "ax.plot(R32_x[23:31],P1[23:31],\"m-*\",label=\"T= 348 K\")\n",
    "ax.plot(data_full[\"x_R32\"],data_full[\"pressure\"]/1e6,\"*\",color='orange',label=\"data\")  \n",
    "\n",
    "# plt.title('Isotherm R32-[emim][TF2N]')\n",
    "ax.set_ylabel('Pressure, MPa',fontsize=24)\n",
    "ax.set_xlabel('HFC-32 Mole Fraction',fontsize=24)\n",
    "\n",
    "ax.set_xticks([0.0, 0.2, 0.4, 0.6, 0.8, 1.0])\n",
    "ax.set_xticks([0.1, 0.3, 0.5, 0.7, 0.9],minor=True)\n",
    "ax.set_yticks([0.0, 0.2, 0.4, 0.6, 0.8, 1.0, 1.2])\n",
    "ax.set_yticks([0.1, 0.3, 0.5, 0.7, 0.9, 1.1],minor=True)\n",
    "\n",
    "ax.tick_params(\"both\", direction=\"in\", which=\"both\", length=4, labelsize=20, pad=10)\n",
    "ax.tick_params(\"both\", which=\"major\", length=8)\n",
    "ax.xaxis.set_ticks_position(\"both\")\n",
    "ax.yaxis.set_ticks_position(\"both\")\n",
    "\n",
    "ax.legend(fontsize=12, handletextpad=0.00, loc=\"lower right\")#, bbox_to_anchor=(1, 0.5))\n",
    "fig.savefig('R32-bmimpf6-quadTdep.pdf',bbox_inches='tight')\n",
    "plt.show()"
   ]
  },
  {
   "cell_type": "markdown",
   "id": "graduate-addiction",
   "metadata": {},
   "source": [
    "### Print Eigvals, Eigvectors\n",
    "\n",
    "An identifiability analysis can be performed with these as well as a FIM because the covariance matrix is the inverse of the FIM. That means that if there are any eigvals > 0, their eigvecs indicate directions of un-identifiability."
   ]
  },
  {
   "cell_type": "code",
   "execution_count": 14,
   "id": "convinced-terrain",
   "metadata": {},
   "outputs": [],
   "source": [
    "eigvals, eigvecs = np.linalg.eig(cov)"
   ]
  },
  {
   "cell_type": "code",
   "execution_count": 15,
   "id": "standing-startup",
   "metadata": {},
   "outputs": [
    {
     "data": {
      "text/plain": [
       "array([5.31619172e+01, 1.41481648e-01, 1.59832752e-02, 6.36129316e-05,\n",
       "       1.00426521e-05, 5.85656694e-08])"
      ]
     },
     "execution_count": 15,
     "metadata": {},
     "output_type": "execute_result"
    }
   ],
   "source": [
    "eigvals"
   ]
  },
  {
   "cell_type": "code",
   "execution_count": 16,
   "id": "minor-relay",
   "metadata": {},
   "outputs": [
    {
     "data": {
      "text/plain": [
       "array([[ 0.408039  ,  0.26442256,  0.63442689, -0.41902848,  0.4289742 ,\n",
       "        -0.03851857],\n",
       "       [ 0.01070922,  0.4070236 , -0.15877553, -0.52688748, -0.49268852,\n",
       "         0.53726626],\n",
       "       [-0.81652582,  0.01639564, -0.02748373, -0.41145225,  0.40177266,\n",
       "        -0.03933444],\n",
       "       [-0.0217119 , -0.74978134,  0.32014147, -0.07758675, -0.01496131,\n",
       "         0.57325599],\n",
       "       [ 0.40753361, -0.29173207, -0.66460559, -0.40730642,  0.37360607,\n",
       "        -0.04035033],\n",
       "       [ 0.01095581,  0.34185381, -0.1653673 ,  0.45342424,  0.52154823,\n",
       "         0.61486869]])"
      ]
     },
     "execution_count": 16,
     "metadata": {},
     "output_type": "execute_result"
    }
   ],
   "source": [
    "eigvecs"
   ]
  },
  {
   "cell_type": "code",
   "execution_count": 17,
   "id": "16f2a896",
   "metadata": {},
   "outputs": [],
   "source": [
    "np.savetxt('Data/EigenAnalysis/PR_vals_6parameter.csv',eigvals,delimiter=',')\n",
    "np.savetxt('Data/EigenAnalysis/PR_vecs_6parameter.csv',eigvecs,delimiter=',')"
   ]
  },
  {
   "cell_type": "markdown",
   "id": "national-effects",
   "metadata": {},
   "source": [
    "Conclusion: Fully identifiable because all eigvals ~ 0"
   ]
  },
  {
   "cell_type": "markdown",
   "id": "injured-karen",
   "metadata": {},
   "source": [
    "## AIC Value\n",
    "\n",
    "See https://docs.google.com/document/d/1um0r2XK4ldjjy2colOqaZsEM3wIzGD6l_3B8gnpnI2I/edit# for equations"
   ]
  },
  {
   "cell_type": "markdown",
   "id": "pressed-spray",
   "metadata": {},
   "source": [
    "Other AIC - using SSR calculated in above parameter fitting"
   ]
  },
  {
   "cell_type": "code",
   "execution_count": 18,
   "id": "7cdc26c5",
   "metadata": {},
   "outputs": [],
   "source": [
    "n=6"
   ]
  },
  {
   "cell_type": "code",
   "execution_count": 19,
   "id": "specified-croatia",
   "metadata": {},
   "outputs": [],
   "source": [
    "SSR_other = obj_value*1E-2"
   ]
  },
  {
   "cell_type": "code",
   "execution_count": 20,
   "id": "cf6b52cd",
   "metadata": {},
   "outputs": [
    {
     "data": {
      "text/plain": [
       "0.08191387573758713"
      ]
     },
     "execution_count": 20,
     "metadata": {},
     "output_type": "execute_result"
    }
   ],
   "source": [
    "SSR_other"
   ]
  },
  {
   "cell_type": "code",
   "execution_count": 21,
   "id": "positive-chrome",
   "metadata": {},
   "outputs": [
    {
     "data": {
      "text/plain": [
       "0.013652312622931187"
      ]
     },
     "execution_count": 21,
     "metadata": {},
     "output_type": "execute_result"
    }
   ],
   "source": [
    "sigma_sq_other = SSR_other/n\n",
    "sigma_sq_other"
   ]
  },
  {
   "cell_type": "code",
   "execution_count": 22,
   "id": "raising-cruise",
   "metadata": {},
   "outputs": [
    {
     "data": {
      "text/plain": [
       "4.367907847100715"
      ]
     },
     "execution_count": 22,
     "metadata": {},
     "output_type": "execute_result"
    }
   ],
   "source": [
    "L_other = -n/2*np.log(2*np.pi) - n/2*np.log(sigma_sq_other) - 1/(2*sigma_sq_other)*SSR_other\n",
    "L_other"
   ]
  },
  {
   "cell_type": "code",
   "execution_count": 23,
   "id": "solar-thermal",
   "metadata": {},
   "outputs": [
    {
     "data": {
      "text/plain": [
       "3.2641843057985707"
      ]
     },
     "execution_count": 23,
     "metadata": {},
     "output_type": "execute_result"
    }
   ],
   "source": [
    "AIC_other = 2*n - 2*L_other\n",
    "AIC_other"
   ]
  },
  {
   "cell_type": "code",
   "execution_count": 24,
   "id": "geological-pattern",
   "metadata": {},
   "outputs": [],
   "source": [
    "AIC_data = pd.DataFrame(data=[n,obj_value*1e-2,AIC_other])\n",
    "AIC_data = AIC_data.T\n",
    "AIC_data.columns = ['n','Objective, Pa^2','AIC']\n",
    "AIC_data.to_csv('Data/AIC/PR_AIC_6parameter.csv')"
   ]
  },
  {
   "cell_type": "code",
   "execution_count": null,
   "id": "f4a5a463",
   "metadata": {},
   "outputs": [],
   "source": []
  }
 ],
 "metadata": {
  "kernelspec": {
   "display_name": "Python 3 (ipykernel)",
   "language": "python",
   "name": "python3"
  },
  "language_info": {
   "codemirror_mode": {
    "name": "ipython",
    "version": 3
   },
   "file_extension": ".py",
   "mimetype": "text/x-python",
   "name": "python",
   "nbconvert_exporter": "python",
   "pygments_lexer": "ipython3",
   "version": "3.9.9"
  }
 },
 "nbformat": 4,
 "nbformat_minor": 5
}
