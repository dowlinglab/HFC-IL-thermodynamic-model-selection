{
 "cells": [
  {
   "cell_type": "markdown",
   "id": "enclosed-court",
   "metadata": {},
   "source": [
    "# Fit bmimpf6 data\n",
    "\n",
    "EoS: SRK\n",
    "\n",
    "Parameter T dependence: Linear in [R32, bmimpf6] direction\n",
    "\n",
    "N (total fitting parameters): 3"
   ]
  },
  {
   "cell_type": "markdown",
   "id": "intermediate-synthetic",
   "metadata": {},
   "source": [
    "## Import Functions"
   ]
  },
  {
   "cell_type": "code",
   "execution_count": 1,
   "id": "respiratory-miniature",
   "metadata": {},
   "outputs": [],
   "source": [
    "import idaes\n",
    "\n",
    "import pandas as pd\n",
    "import numpy as np\n",
    "import matplotlib.pyplot as plt\n",
    "import scipy.optimize\n",
    "\n",
    "import sys\n",
    "sys.path.append('../../')\n",
    "\n",
    "from pyomo.environ import (Constraint,\n",
    "                           Var,\n",
    "                           ConcreteModel,\n",
    "                           Expression,\n",
    "                           Param,\n",
    "                           Objective,\n",
    "                           SolverFactory,\n",
    "                           TransformationFactory,\n",
    "                           value)\n",
    "from pyomo.opt import TerminationCondition, SolverStatus\n",
    "\n",
    "from idaes.core import FlowsheetBlock\n",
    "import idaes.logger as idaeslog\n",
    "# Import the Generic Parameter Block\n",
    "from idaes.generic_models.properties.core.generic.generic_property import (\n",
    "        GenericParameterBlock)\n",
    "# Import unit models from the model library\n",
    "from idaes.generic_models.unit_models import Flash\n",
    "# Import degrees of freedom tool\n",
    "from idaes.core.util.model_statistics import degrees_of_freedom\n",
    "\n",
    "# parmest (binary_param2)\n",
    "from bip_fitting_functions_SRK import linear\n",
    "\n",
    "import scipy.stats as stats\n",
    "\n",
    "from matplotlib.patches import Ellipse\n",
    "import matplotlib.transforms as transforms\n",
    "import matplotlib.patches as mpatches"
   ]
  },
  {
   "cell_type": "markdown",
   "id": "vietnamese-strength",
   "metadata": {},
   "source": [
    "## Load Data"
   ]
  },
  {
   "cell_type": "code",
   "execution_count": 2,
   "id": "regulation-drawing",
   "metadata": {},
   "outputs": [],
   "source": [
    "data_full = pd.read_csv('r32_bmimpf6_full.csv')\n",
    "# data_subset = pd.read_csv('r32_emimtf2n_subset.csv')"
   ]
  },
  {
   "cell_type": "markdown",
   "id": "painful-numbers",
   "metadata": {},
   "source": [
    "## Load Configuration + Check DOF"
   ]
  },
  {
   "cell_type": "code",
   "execution_count": 3,
   "id": "valid-clearing",
   "metadata": {},
   "outputs": [],
   "source": [
    "from hfc32_bmimpf6_SRK import configuration "
   ]
  },
  {
   "cell_type": "code",
   "execution_count": 4,
   "id": "processed-onion",
   "metadata": {},
   "outputs": [
    {
     "name": "stdout",
     "output_type": "stream",
     "text": [
      "The initial DOF is 7\n"
     ]
    }
   ],
   "source": [
    "m = ConcreteModel()\n",
    "m.fs = FlowsheetBlock(default={\"dynamic\": False})\n",
    "m.fs.properties = GenericParameterBlock(default=configuration)\n",
    "m.fs.F101 = Flash(default={\"property_package\": m.fs.properties,\n",
    "                           \"has_heat_transfer\": True,\n",
    "                           \"has_pressure_change\": True})\n",
    "DOF_initial = degrees_of_freedom(m)\n",
    "print('The initial DOF is {0}'.format(DOF_initial))"
   ]
  },
  {
   "cell_type": "markdown",
   "id": "iraqi-denver",
   "metadata": {},
   "source": [
    "## Fit Parameters"
   ]
  },
  {
   "cell_type": "code",
   "execution_count": 6,
   "id": "coupled-steps",
   "metadata": {},
   "outputs": [
    {
     "name": "stdout",
     "output_type": "stream",
     "text": [
      "2022-04-20 16:29:31 [INFO] idaes.init.fs.state_block: Property package initialization: optimal - Optimal Solution Found.\n",
      "2022-04-20 16:29:31 [INFO] idaes.init.fs.state_block: Property package initialization: optimal - Optimal Solution Found.\n",
      "2022-04-20 16:29:32 [INFO] idaes.init.fs.state_block: Property package initialization: optimal - Optimal Solution Found.\n",
      "2022-04-20 16:29:32 [INFO] idaes.init.fs.state_block: Property package initialization: optimal - Optimal Solution Found.\n",
      "2022-04-20 16:29:32 [INFO] idaes.init.fs.state_block: Property package initialization: optimal - Optimal Solution Found.\n",
      "2022-04-20 16:29:33 [INFO] idaes.init.fs.state_block: Property package initialization: optimal - Optimal Solution Found.\n",
      "2022-04-20 16:29:33 [INFO] idaes.init.fs.state_block: Property package initialization: optimal - Optimal Solution Found.\n",
      "2022-04-20 16:29:33 [INFO] idaes.init.fs.state_block: Property package initialization: optimal - Optimal Solution Found.\n",
      "2022-04-20 16:29:34 [INFO] idaes.init.fs.state_block: Property package initialization: optimal - Optimal Solution Found.\n",
      "2022-04-20 16:29:34 [INFO] idaes.init.fs.state_block: Property package initialization: optimal - Optimal Solution Found.\n",
      "2022-04-20 16:29:34 [INFO] idaes.init.fs.state_block: Property package initialization: optimal - Optimal Solution Found.\n",
      "2022-04-20 16:29:35 [INFO] idaes.init.fs.state_block: Property package initialization: optimal - Optimal Solution Found.\n",
      "2022-04-20 16:29:35 [INFO] idaes.init.fs.state_block: Property package initialization: optimal - Optimal Solution Found.\n",
      "2022-04-20 16:29:35 [INFO] idaes.init.fs.state_block: Property package initialization: optimal - Optimal Solution Found.\n",
      "2022-04-20 16:29:36 [INFO] idaes.init.fs.state_block: Property package initialization: optimal - Optimal Solution Found.\n",
      "2022-04-20 16:29:36 [INFO] idaes.init.fs.state_block: Property package initialization: optimal - Optimal Solution Found.\n",
      "2022-04-20 16:29:36 [INFO] idaes.init.fs.state_block: Property package initialization: optimal - Optimal Solution Found.\n",
      "2022-04-20 16:29:37 [INFO] idaes.init.fs.state_block: Property package initialization: optimal - Optimal Solution Found.\n",
      "2022-04-20 16:29:37 [INFO] idaes.init.fs.state_block: Property package initialization: optimal - Optimal Solution Found.\n",
      "2022-04-20 16:29:38 [INFO] idaes.init.fs.state_block: Property package initialization: optimal - Optimal Solution Found.\n",
      "2022-04-20 16:29:38 [INFO] idaes.init.fs.state_block: Property package initialization: optimal - Optimal Solution Found.\n",
      "2022-04-20 16:29:38 [INFO] idaes.init.fs.state_block: Property package initialization: optimal - Optimal Solution Found.\n",
      "2022-04-20 16:29:39 [INFO] idaes.init.fs.state_block: Property package initialization: optimal - Optimal Solution Found.\n",
      "2022-04-20 16:29:39 [INFO] idaes.init.fs.state_block: Property package initialization: optimal - Optimal Solution Found.\n",
      "2022-04-20 16:29:39 [INFO] idaes.init.fs.state_block: Property package initialization: optimal - Optimal Solution Found.\n",
      "2022-04-20 16:29:40 [INFO] idaes.init.fs.state_block: Property package initialization: optimal - Optimal Solution Found.\n",
      "2022-04-20 16:29:40 [INFO] idaes.init.fs.state_block: Property package initialization: optimal - Optimal Solution Found.\n",
      "2022-04-20 16:29:40 [INFO] idaes.init.fs.state_block: Property package initialization: optimal - Optimal Solution Found.\n",
      "2022-04-20 16:29:41 [INFO] idaes.init.fs.state_block: Property package initialization: optimal - Optimal Solution Found.\n",
      "2022-04-20 16:29:41 [INFO] idaes.init.fs.state_block: Property package initialization: optimal - Optimal Solution Found.\n",
      "2022-04-20 16:29:41 [INFO] idaes.init.fs.state_block: Property package initialization: optimal - Optimal Solution Found.\n",
      "Ipopt 3.13.2: bound_relax_factor=0\n",
      "honor_original_bounds=no\n",
      "\n",
      "\n",
      "******************************************************************************\n",
      "This program contains Ipopt, a library for large-scale nonlinear optimization.\n",
      " Ipopt is released as open source code under the Eclipse Public License (EPL).\n",
      "         For more information visit http://projects.coin-or.org/Ipopt\n",
      "\n",
      "This version of Ipopt was compiled from source code available at\n",
      "    https://github.com/IDAES/Ipopt as part of the Institute for the Design of\n",
      "    Advanced Energy Systems Process Systems Engineering Framework (IDAES PSE\n",
      "    Framework) Copyright (c) 2018-2019. See https://github.com/IDAES/idaes-pse.\n",
      "\n",
      "This version of Ipopt was compiled using HSL, a collection of Fortran codes\n",
      "    for large-scale scientific computation.  All technical papers, sales and\n",
      "    publicity material resulting from use of the HSL codes within IPOPT must\n",
      "    contain the following acknowledgement:\n",
      "        HSL, a collection of Fortran codes for large-scale scientific\n",
      "        computation. See http://www.hsl.rl.ac.uk.\n",
      "******************************************************************************\n",
      "\n",
      "This is Ipopt version 3.13.2, running with linear solver ma27.\n",
      "\n",
      "Number of nonzeros in equality constraint Jacobian...:     1172\n",
      "Number of nonzeros in inequality constraint Jacobian.:        0\n",
      "Number of nonzeros in Lagrangian Hessian.............:     1333\n",
      "\n",
      "Total number of variables............................:      465\n",
      "                     variables with only lower bounds:      124\n",
      "                variables with lower and upper bounds:      279\n",
      "                     variables with only upper bounds:        0\n",
      "Total number of equality constraints.................:      462\n",
      "Total number of inequality constraints...............:        0\n",
      "        inequality constraints with only lower bounds:        0\n",
      "   inequality constraints with lower and upper bounds:        0\n",
      "        inequality constraints with only upper bounds:        0\n",
      "\n",
      "iter    objective    inf_pr   inf_du lg(mu)  ||d||  lg(rg) alpha_du alpha_pr  ls\n",
      "   0  0.0000000e+00 1.16e+00 6.33e-14  -1.0 0.00e+00    -  0.00e+00 0.00e+00   0\n",
      "   1  2.2045751e-01 1.19e+00 1.14e+04  -1.0 5.67e+04    -  2.67e-01 9.90e-01h  1\n",
      "   2  2.4480028e-01 2.89e-02 2.22e+03  -1.0 4.26e+03    -  8.02e-01 9.90e-01h  1\n",
      "   3  2.4624690e-01 1.61e-03 2.45e+03  -1.0 5.64e+02    -  9.66e-01 9.90e-01h  1\n",
      "   4  2.4340551e-01 1.15e-03 6.96e+06  -1.0 1.08e+03    -  2.94e-01 9.90e-01H  1\n",
      "   5  2.4335477e-01 1.15e-03 7.27e+08  -1.0 2.14e+03    -  7.42e-01 7.73e-03h  8\n",
      "   6  2.4328511e-01 1.15e-03 1.02e+09  -1.0 4.87e+03    -  2.97e-01 3.87e-03h  9\n",
      "   7  2.4258243e-01 1.52e-03 1.77e+09  -1.0 6.27e+03    -  8.01e-01 3.09e-02f  6\n",
      "   8  2.4138307e-01 1.97e-03 1.93e+09  -1.0 6.68e+03    -  2.35e-01 3.09e-02f  6\n",
      "   9  2.4054598e-01 2.10e-03 2.92e+09  -1.0 1.28e+04    -  9.68e-01 1.55e-02f  7\n",
      "iter    objective    inf_pr   inf_du lg(mu)  ||d||  lg(rg) alpha_du alpha_pr  ls\n",
      "  10  2.3975353e-01 2.12e-03 3.15e+09  -1.0 1.59e+04    -  2.40e-01 7.73e-03f  8\n",
      "  11  2.1641102e-01 3.47e-02 3.19e+09  -1.0 2.51e+04    -  9.90e-01 2.47e-01f  3\n",
      "  12  2.3040993e-01 2.25e-02 7.03e+08  -1.0 1.28e+04    -  4.88e-01 9.90e-01H  1\n",
      "  13  2.3758288e-01 1.15e-02 8.96e+08  -1.0 9.59e+03    -  9.96e-01 9.90e-01H  1\n",
      "  14  2.3903175e-01 1.14e-02 1.42e+13  -1.0 1.35e+04    -  1.00e+00 3.09e-02h  6\n",
      "  15  2.3988384e-01 1.13e-02 2.89e+13  -1.0 1.48e+04    -  1.00e+00 1.55e-02h  7\n",
      "  16  2.4158650e-01 1.13e-02 4.29e+13  -1.0 1.44e+04    -  1.00e+00 3.09e-02h  6\n",
      "  17  2.4338294e-01 1.12e-02 5.69e+13  -1.0 1.44e+04    -  1.00e+00 3.09e-02h  6\n",
      "  18  2.4524945e-01 1.11e-02 7.10e+13  -1.0 1.44e+04    -  1.00e+00 3.09e-02h  6\n",
      "  19  2.4719257e-01 1.10e-02 8.51e+13  -1.0 1.44e+04    -  1.00e+00 3.09e-02h  6\n",
      "iter    objective    inf_pr   inf_du lg(mu)  ||d||  lg(rg) alpha_du alpha_pr  ls\n",
      "  20  2.4920769e-01 1.09e-02 9.94e+13  -1.0 1.43e+04    -  1.00e+00 3.09e-02h  6\n",
      "  21  2.5129435e-01 1.08e-02 1.14e+14  -1.0 1.43e+04    -  1.00e+00 3.09e-02h  6\n",
      "  22  2.5345014e-01 1.07e-02 1.28e+14  -1.0 1.42e+04    -  1.00e+00 3.09e-02h  6\n",
      "  23  2.5567328e-01 1.05e-02 1.43e+14  -1.0 1.42e+04    -  1.00e+00 3.09e-02h  6\n",
      "  24  3.6773620e-01 1.20e+01 1.63e+12  -1.0 1.41e+04    -  1.00e+00 9.90e-01w  1\n",
      "In iteration 24, 31 Slacks too small, adjusting variable bounds\n",
      "  25  4.4454960e-01 9.41e+00 1.98e+13  -1.0 6.84e+03    -  1.00e+00 9.90e-01w  1\n",
      "  26  4.3289437e-01 3.26e+00 2.45e-01  -1.0 1.04e+03    -  1.00e+00 1.00e+00w  1\n",
      "  27  2.9570361e-01 7.56e-01 4.65e+12  -1.7 1.16e+04    -  9.69e-01 1.00e+00h  1\n",
      "  28  2.5410729e-01 6.41e-02 1.40e-02  -1.7 5.21e+03    -  1.00e+00 1.00e+00h  1\n",
      "  29  2.1438286e-01 8.34e-02 1.66e+12  -3.8 7.50e+03    -  9.56e-01 1.00e+00h  1\n"
     ]
    },
    {
     "name": "stdout",
     "output_type": "stream",
     "text": [
      "iter    objective    inf_pr   inf_du lg(mu)  ||d||  lg(rg) alpha_du alpha_pr  ls\n",
      "  30  2.0472518e-01 3.94e-02 9.31e-03  -3.8 4.91e+03    -  1.00e+00 1.00e+00h  1\n",
      "  31  2.0402539e-01 2.69e-03 2.09e-03  -3.8 1.37e+03    -  1.00e+00 1.00e+00h  1\n",
      "  32  2.0397449e-01 6.83e-04 2.39e-04  -5.7 4.51e+02    -  1.00e+00 1.00e+00h  1\n",
      "  33  2.0397487e-01 7.69e-07 4.77e-07  -5.7 2.26e+01    -  1.00e+00 1.00e+00h  1\n",
      "  34  2.0397487e-01 6.45e-08 2.98e-08  -8.6 4.10e+00    -  1.00e+00 1.00e+00h  1\n",
      "  35  2.0397487e-01 4.81e-12 4.66e-10  -9.0 5.63e-03    -  1.00e+00 1.00e+00h  1\n",
      "\n",
      "Number of Iterations....: 35\n",
      "\n",
      "                                   (scaled)                 (unscaled)\n",
      "Objective...............:   2.0397486692612843e-01    2.0397486692612843e-01\n",
      "Dual infeasibility......:   4.6566128730773926e-10    4.6566128730773926e-10\n",
      "Constraint violation....:   4.8148152131943789e-12    4.8148152131943789e-12\n",
      "Complementarity.........:   9.0909210025726119e-10    9.0909210025726119e-10\n",
      "Overall NLP error.......:   4.8148152131943789e-12    9.0909210025726119e-10\n",
      "\n",
      "\n",
      "Number of objective function evaluations             = 172\n",
      "Number of objective gradient evaluations             = 36\n",
      "Number of equality constraint evaluations            = 172\n",
      "Number of inequality constraint evaluations          = 0\n",
      "Number of equality constraint Jacobian evaluations   = 36\n",
      "Number of inequality constraint Jacobian evaluations = 0\n",
      "Number of Lagrangian Hessian evaluations             = 35\n",
      "Total CPU secs in IPOPT (w/o function evaluations)   =      0.049\n",
      "Total CPU secs in NLP function evaluations           =      1.233\n",
      "\n",
      "EXIT: Optimal Solution Found.\n",
      "WARNING: The current pynumero_ASL library is version=2, but found version=1.\n",
      "    Please recompile / update your pynumero_ASL library.\n",
      "The SSE at the optimal solution is 0.203975\n",
      "\n",
      "The values for the parameters are as follows:\n",
      "fs.properties.SRK_kappa_A[R32,bmimpf6] = 0.021387071665564233\n",
      "fs.properties.SRK_kappa_A[bmimpf6,R32] = -0.032683682148486055\n",
      "fs.properties.SRK_kappa_B[R32,bmimpf6] = -0.05371544944943384\n",
      "covariance_matrix                                         fs.properties.SRK_kappa_A[R32,bmimpf6]  \\\n",
      "fs.properties.SRK_kappa_A[R32,bmimpf6]                                0.000194   \n",
      "fs.properties.SRK_kappa_A[bmimpf6,R32]                                0.000158   \n",
      "fs.properties.SRK_kappa_B[R32,bmimpf6]                               -0.000172   \n",
      "\n",
      "                                        fs.properties.SRK_kappa_A[bmimpf6,R32]  \\\n",
      "fs.properties.SRK_kappa_A[R32,bmimpf6]                                0.000158   \n",
      "fs.properties.SRK_kappa_A[bmimpf6,R32]                                0.000236   \n",
      "fs.properties.SRK_kappa_B[R32,bmimpf6]                               -0.000132   \n",
      "\n",
      "                                        fs.properties.SRK_kappa_B[R32,bmimpf6]  \n",
      "fs.properties.SRK_kappa_A[R32,bmimpf6]                               -0.000172  \n",
      "fs.properties.SRK_kappa_A[bmimpf6,R32]                               -0.000132  \n",
      "fs.properties.SRK_kappa_B[R32,bmimpf6]                                0.000153  \n"
     ]
    }
   ],
   "source": [
    "parameters, obj_value, a = linear(data_full, configuration, 'R32', 'bmimpf6', \"x_R32\", \"x_bmimpf6\", \n",
    "    init_temp =  283.1, init_press =   399300 , init_x_c1 =    0.448, init_x_c2 = 0.552,\n",
    "    init_kappa_2_1A = -0.001, init_kappa_1_2A = -0.001,\n",
    "    init_kappa_2_1B = 0.0, init_kappa_1_2B = -0.001, eps = 0.1, scaling_fac = 1e-9,optional_params = 'Opt1')"
   ]
  },
  {
   "cell_type": "code",
   "execution_count": 7,
   "id": "chief-picnic",
   "metadata": {},
   "outputs": [
    {
     "name": "stdout",
     "output_type": "stream",
     "text": [
      "Objective (SSE): 0.2039748669261284\n"
     ]
    }
   ],
   "source": [
    "print('Objective (SSE):',obj_value)"
   ]
  },
  {
   "cell_type": "code",
   "execution_count": 8,
   "id": "brave-escape",
   "metadata": {},
   "outputs": [
    {
     "name": "stdout",
     "output_type": "stream",
     "text": [
      "Covariance Matrix:\n",
      "[[ 0.00019434  0.00015802 -0.00017169]\n",
      " [ 0.00015802  0.0002358  -0.00013238]\n",
      " [-0.00017169 -0.00013238  0.00015257]]\n"
     ]
    }
   ],
   "source": [
    "cov = np.array(a)\n",
    "print('Covariance Matrix:')\n",
    "print(cov)"
   ]
  },
  {
   "cell_type": "code",
   "execution_count": 9,
   "id": "bc4d8a5b",
   "metadata": {},
   "outputs": [],
   "source": [
    "np.savetxt('Data/Covariance/SRK_Cov_3parameter_ILHFCB0.csv',cov,delimiter=',')"
   ]
  },
  {
   "cell_type": "markdown",
   "id": "verified-image",
   "metadata": {},
   "source": [
    "## Apply Parameters + Plot"
   ]
  },
  {
   "cell_type": "code",
   "execution_count": 10,
   "id": "arranged-sentence",
   "metadata": {},
   "outputs": [],
   "source": [
    "solver = SolverFactory('ipopt')\n",
    "solver.options = {'tol': 1e-6}"
   ]
  },
  {
   "cell_type": "code",
   "execution_count": 11,
   "id": "third-electronics",
   "metadata": {},
   "outputs": [
    {
     "name": "stdout",
     "output_type": "stream",
     "text": [
      "0.974\n",
      "0.894\n",
      "0.729\n",
      "0.572\n",
      "0.442\n",
      "0.35\n",
      "0.185\n",
      "0.982\n",
      "0.924\n",
      "0.81\n",
      "0.703\n",
      "0.61\n",
      "0.525\n",
      "0.448\n",
      "0.372\n",
      "0.994\n",
      "0.953\n",
      "0.887\n",
      "0.826\n",
      "0.769\n",
      "0.715\n",
      "0.665\n",
      "0.618\n",
      "0.997\n",
      "0.971\n",
      "0.93\n",
      "0.891\n",
      "0.854\n",
      "0.818\n",
      "0.786\n",
      "0.752\n"
     ]
    }
   ],
   "source": [
    "m = ConcreteModel()\n",
    "\n",
    "m.fs = FlowsheetBlock(default={\"dynamic\": False})\n",
    "\n",
    "m.fs.properties = GenericParameterBlock(default=configuration)\n",
    "\n",
    "m.fs.F101 = Flash(default={\"property_package\": m.fs.properties,\n",
    "                           \"has_heat_transfer\": True,\n",
    "                           \"has_pressure_change\": True})\n",
    "\n",
    "m.fs.F101.inlet.flow_mol.fix(1)\n",
    "m.fs.F101.inlet.temperature.fix(323.15)\n",
    "m.fs.F101.inlet.pressure.fix(399800)\n",
    "m.fs.F101.inlet.mole_frac_comp[0,'R32'].fix(0.5)\n",
    "\n",
    "m.fs.properties.SRK_kappa_A['R32','bmimpf6'] = parameters['fs.properties.SRK_kappa_A[R32,bmimpf6]']\n",
    "m.fs.properties.SRK_kappa_A['bmimpf6','R32'] = parameters['fs.properties.SRK_kappa_A[bmimpf6,R32]']\n",
    "m.fs.properties.SRK_kappa_B['R32','bmimpf6'] = parameters['fs.properties.SRK_kappa_B[R32,bmimpf6]']\n",
    "# m.fs.properties.PR_kappa_B['emimTf2N','R32'] = parameters['fs.properties.PR_kappa_B[emimTf2N,R32]']\n",
    "\n",
    "# Initialize the flash unit\n",
    "m.fs.F101.initialize(outlvl=idaeslog.CRITICAL)\n",
    "\n",
    "# Fix the state variables on the state block\n",
    "# m.fs.F101.inlet.pressure.unfix()\n",
    "m.fs.F101.inlet.mole_frac_comp[0,'bmimpf6'].unfix()\n",
    "\n",
    "R32_x = np.zeros((len(data_full)))\n",
    "P = np.zeros((len(data_full)))\n",
    "\n",
    "m.fs.liq = Param(mutable=True,default=0.040)\n",
    "m.fs.liquid = Constraint(expr=m.fs.F101.liq_outlet.mole_frac_comp[0, \"bmimpf6\"] == m.fs.liq)\n",
    "\n",
    "for i in range(len(data_full)):\n",
    "    m.fs.liq = data_full[\"x_bmimpf6\"].iloc[i]\n",
    "    m.fs.F101.inlet.temperature.fix(float(data_full[\"temperature\"].iloc[i]))\n",
    "    m.fs.F101.inlet.pressure.fix(float(data_full[\"pressure\"].iloc[i]))\n",
    "    m.fs.F101.inlet.mole_frac_comp[0,'R32'].fix(float(data_full[\"x_R32\"].iloc[i])+0.1)\n",
    "    m.fs.F101.inlet.mole_frac_comp[0,'bmimpf6'].fix(float(1-(data_full[\"x_R32\"].iloc[i]+0.1)))\n",
    "    m.fs.F101.vap_outlet.temperature.fix(float(data_full[\"temperature\"].iloc[i]))\n",
    "    \n",
    "#     DOF_final = degrees_of_freedom(m)\n",
    "#     print(\"The final DOF is {0}\".format(DOF_final))\n",
    "    m.fs.F101.initialize(outlvl=idaeslog.CRITICAL)\n",
    "    \n",
    "    status = solver.solve(m, tee = False)\n",
    "\n",
    "#     m.fs.F101.report()\n",
    "    if (status.solver.status == SolverStatus.ok) and (status.solver.termination_condition == TerminationCondition.optimal):\n",
    "        print(data_full[\"x_bmimpf6\"].iloc[i])\n",
    "        R32_x[i] = value(m.fs.F101.liq_outlet.mole_frac_comp[0,'R32']) \n",
    "        P[i] = value(m.fs.F101.vap_outlet.pressure[0])\n",
    "\n",
    "    else:\n",
    "        print('Infeasible.')"
   ]
  },
  {
   "cell_type": "code",
   "execution_count": 12,
   "id": "b9f65291",
   "metadata": {},
   "outputs": [],
   "source": [
    "fitted_data = pd.DataFrame(data=[R32_x,P/1e6])\n",
    "fitted_data = fitted_data.T\n",
    "fitted_data.columns = ['R32_x','P, MPa']\n",
    "fitted_data.to_csv('Data/Fits/SRK_FittedData_3parameter_ILHFCB0.csv')"
   ]
  },
  {
   "cell_type": "code",
   "execution_count": 13,
   "id": "harmful-bones",
   "metadata": {},
   "outputs": [
    {
     "data": {
      "image/png": "[encoded data removed]",
      "text/plain": [
       "<Figure size 432x288 with 1 Axes>"
      ]
     },
     "metadata": {
      "needs_background": "light"
     },
     "output_type": "display_data"
    }
   ],
   "source": [
    "P1= np.zeros((len(P)))\n",
    "\n",
    "for i in range(len(P)):\n",
    "    P1[i] = P[i]/1e6\n",
    "\n",
    "plt.plot(R32_x[0:7],P1[0:7],\"b*-\",label=\"T= 283 K\")  \n",
    "plt.plot(R32_x[7:15],P1[7:15],\"r*-\",label=\"T= 298 K\") \n",
    "plt.plot(R32_x[15:23],P1[15:23],\"c*-\",label=\"T= 323 K\") \n",
    "plt.plot(R32_x[23:31],P1[23:31],\"m-*\",label=\"T= 348 K\")\n",
    "plt.plot(data_full[\"x_R32\"],data_full[\"pressure\"]/1e6,\"*\",color='orange',label=\"data\")  \n",
    "plt.title('Isotherm R32-[bmim][pf6]')\n",
    "plt.ylabel('Pressure (MPa)')\n",
    "plt.xlabel('x R32')\n",
    "plt.grid(True)\n",
    "plt.ylim(0,1.110000)\n",
    "plt.legend()\n",
    "plt.show()"
   ]
  },
  {
   "cell_type": "markdown",
   "id": "jewish-extraction",
   "metadata": {},
   "source": [
    "### Print Eigvals, Eigvectors\n",
    "\n",
    "An identifiability analysis can be performed with these as well as a FIM because the covariance matrix is the inverse of the FIM. That means that if there are any eigvals > 0, their eigvecs indicate directions of un-identifiability."
   ]
  },
  {
   "cell_type": "code",
   "execution_count": 14,
   "id": "charming-excess",
   "metadata": {},
   "outputs": [],
   "source": [
    "eigvals, eigvecs = np.linalg.eig(cov)"
   ]
  },
  {
   "cell_type": "code",
   "execution_count": 15,
   "id": "polish-sellers",
   "metadata": {},
   "outputs": [
    {
     "data": {
      "text/plain": [
       "array([5.04481038e-04, 2.18212791e-07, 7.80068218e-05])"
      ]
     },
     "execution_count": 15,
     "metadata": {},
     "output_type": "execute_result"
    }
   ],
   "source": [
    "eigvals"
   ]
  },
  {
   "cell_type": "code",
   "execution_count": 16,
   "id": "controlling-holocaust",
   "metadata": {},
   "outputs": [
    {
     "data": {
      "text/plain": [
       "array([[-0.59848485, -0.68429097, -0.41660742],\n",
       "       [-0.60864166,  0.0502281 ,  0.79185382],\n",
       "       [ 0.52093302, -0.72747715,  0.44654875]])"
      ]
     },
     "execution_count": 16,
     "metadata": {},
     "output_type": "execute_result"
    }
   ],
   "source": [
    "eigvecs"
   ]
  },
  {
   "cell_type": "code",
   "execution_count": 17,
   "id": "64595797",
   "metadata": {},
   "outputs": [],
   "source": [
    "np.savetxt('Data/EigenAnalysis/SRK_vals_3parameter_ILHFCB0.csv',eigvals,delimiter=',')\n",
    "np.savetxt('Data/EigenAnalysis/SRK_vecs_3parameter_ILHFCB0.csv',eigvecs,delimiter=',')"
   ]
  },
  {
   "cell_type": "markdown",
   "id": "behind-illinois",
   "metadata": {},
   "source": [
    "Conclusion: Fully identifiable because all eigvals ~ 0"
   ]
  },
  {
   "cell_type": "markdown",
   "id": "afraid-workplace",
   "metadata": {},
   "source": [
    "## AIC Value\n",
    "\n",
    "See https://docs.google.com/document/d/1um0r2XK4ldjjy2colOqaZsEM3wIzGD6l_3B8gnpnI2I/edit# for equations"
   ]
  },
  {
   "cell_type": "code",
   "execution_count": 18,
   "id": "introductory-discount",
   "metadata": {},
   "outputs": [],
   "source": [
    "n = 3"
   ]
  },
  {
   "cell_type": "code",
   "execution_count": 19,
   "id": "engaged-listening",
   "metadata": {},
   "outputs": [],
   "source": [
    "SSR = obj_value"
   ]
  },
  {
   "cell_type": "code",
   "execution_count": 20,
   "id": "elect-proxy",
   "metadata": {},
   "outputs": [
    {
     "data": {
      "text/plain": [
       "0.06799162230870946"
      ]
     },
     "execution_count": 20,
     "metadata": {},
     "output_type": "execute_result"
    }
   ],
   "source": [
    "sigma_sq = SSR/n\n",
    "sigma_sq"
   ]
  },
  {
   "cell_type": "code",
   "execution_count": 21,
   "id": "connected-separate",
   "metadata": {},
   "outputs": [
    {
     "data": {
      "text/plain": [
       "-0.22425942550634814"
      ]
     },
     "execution_count": 21,
     "metadata": {},
     "output_type": "execute_result"
    }
   ],
   "source": [
    "L = -n/2*np.log(2*np.pi) - n/2*np.log(sigma_sq) - 1/(2*sigma_sq)*SSR\n",
    "L"
   ]
  },
  {
   "cell_type": "code",
   "execution_count": 22,
   "id": "foreign-coffee",
   "metadata": {},
   "outputs": [
    {
     "data": {
      "text/plain": [
       "6.448518851012697"
      ]
     },
     "execution_count": 22,
     "metadata": {},
     "output_type": "execute_result"
    }
   ],
   "source": [
    "AIC = 2*n - 2*L\n",
    "AIC"
   ]
  },
  {
   "cell_type": "code",
   "execution_count": 23,
   "id": "marine-article",
   "metadata": {},
   "outputs": [],
   "source": [
    "AIC_data = pd.DataFrame(data=[n,obj_value,AIC])\n",
    "AIC_data = AIC_data.T\n",
    "AIC_data.columns = ['n','Objective, Pa^2','AIC']\n",
    "AIC_data.to_csv('Data/AIC/SRK_AIC_3parameter_ILHFCB0.csv')"
   ]
  },
  {
   "cell_type": "code",
   "execution_count": null,
   "id": "5a8b1a24",
   "metadata": {},
   "outputs": [],
   "source": []
  }
 ],
 "metadata": {
  "kernelspec": {
   "display_name": "Python 3 (ipykernel)",
   "language": "python",
   "name": "python3"
  },
  "language_info": {
   "codemirror_mode": {
    "name": "ipython",
    "version": 3
   },
   "file_extension": ".py",
   "mimetype": "text/x-python",
   "name": "python",
   "nbconvert_exporter": "python",
   "pygments_lexer": "ipython3",
   "version": "3.9.9"
  }
 },
 "nbformat": 4,
 "nbformat_minor": 5
}
