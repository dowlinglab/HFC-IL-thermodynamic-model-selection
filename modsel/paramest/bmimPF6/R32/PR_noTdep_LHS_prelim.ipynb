{
 "cells": [
  {
   "cell_type": "markdown",
   "id": "d4de6609",
   "metadata": {},
   "source": [
    "# Organize LH sample for SRK noTdep LHS multistart"
   ]
  },
  {
   "cell_type": "code",
   "execution_count": 1,
   "id": "309efa6a",
   "metadata": {},
   "outputs": [],
   "source": [
    "import pandas as pd\n",
    "import numpy as np\n",
    "\n",
    "import sys\n",
    "sys.path.append('../../')"
   ]
  },
  {
   "cell_type": "code",
   "execution_count": 2,
   "id": "6539d4ff",
   "metadata": {},
   "outputs": [],
   "source": [
    "# PR_1param_Opt1_results = pd.read_csv('Data/Fits/LHS_Fits/PR_1param_Opt1_LHS.csv',index_col=0)\n",
    "PR_1param_Opt2_results = pd.read_csv('Data/Fits/LHS_Fits/PR_1param_Opt2_LHS.csv',index_col=0)"
   ]
  },
  {
   "cell_type": "code",
   "execution_count": null,
   "id": "c57b9fa9",
   "metadata": {},
   "outputs": [],
   "source": [
    "SRK_1param_Opt1_results.dropna(axis=0)"
   ]
  },
  {
   "cell_type": "code",
   "execution_count": null,
   "id": "9e8b9801",
   "metadata": {},
   "outputs": [],
   "source": [
    "SRK_1param_Opt1_results[SRK_1param_Opt1_results.SSR == SRK_1param_Opt1_results.SSR.min()]"
   ]
  },
  {
   "cell_type": "code",
   "execution_count": null,
   "id": "a45ca2d2",
   "metadata": {},
   "outputs": [],
   "source": [
    "Opt1_153 = SRK_1param_Opt1_results.iloc[153]"
   ]
  },
  {
   "cell_type": "code",
   "execution_count": 3,
   "id": "abd4deb2",
   "metadata": {},
   "outputs": [
    {
     "data": {
      "text/html": [
       "<div>\n",
       "<style scoped>\n",
       "    .dataframe tbody tr th:only-of-type {\n",
       "        vertical-align: middle;\n",
       "    }\n",
       "\n",
       "    .dataframe tbody tr th {\n",
       "        vertical-align: top;\n",
       "    }\n",
       "\n",
       "    .dataframe thead th {\n",
       "        text-align: right;\n",
       "    }\n",
       "</style>\n",
       "<table border=\"1\" class=\"dataframe\">\n",
       "  <thead>\n",
       "    <tr style=\"text-align: right;\">\n",
       "      <th></th>\n",
       "      <th>Param1</th>\n",
       "      <th>sc_param1</th>\n",
       "      <th>PR_kappa_A[bmimpf6,R32]</th>\n",
       "      <th>SSR</th>\n",
       "    </tr>\n",
       "  </thead>\n",
       "  <tbody>\n",
       "    <tr>\n",
       "      <th>21</th>\n",
       "      <td>0.494270</td>\n",
       "      <td>-0.011289</td>\n",
       "      <td>0.006258</td>\n",
       "      <td>14.110346</td>\n",
       "    </tr>\n",
       "    <tr>\n",
       "      <th>33</th>\n",
       "      <td>0.504919</td>\n",
       "      <td>0.010144</td>\n",
       "      <td>0.022720</td>\n",
       "      <td>13.020940</td>\n",
       "    </tr>\n",
       "    <tr>\n",
       "      <th>50</th>\n",
       "      <td>0.488707</td>\n",
       "      <td>-0.022485</td>\n",
       "      <td>0.006258</td>\n",
       "      <td>14.110346</td>\n",
       "    </tr>\n",
       "    <tr>\n",
       "      <th>72</th>\n",
       "      <td>0.461280</td>\n",
       "      <td>-0.077685</td>\n",
       "      <td>0.022720</td>\n",
       "      <td>13.020943</td>\n",
       "    </tr>\n",
       "    <tr>\n",
       "      <th>74</th>\n",
       "      <td>0.503719</td>\n",
       "      <td>0.007728</td>\n",
       "      <td>0.022720</td>\n",
       "      <td>13.020940</td>\n",
       "    </tr>\n",
       "    <tr>\n",
       "      <th>120</th>\n",
       "      <td>0.472536</td>\n",
       "      <td>-0.055031</td>\n",
       "      <td>0.022720</td>\n",
       "      <td>13.020942</td>\n",
       "    </tr>\n",
       "    <tr>\n",
       "      <th>122</th>\n",
       "      <td>0.453030</td>\n",
       "      <td>-0.094290</td>\n",
       "      <td>0.022720</td>\n",
       "      <td>13.020942</td>\n",
       "    </tr>\n",
       "    <tr>\n",
       "      <th>127</th>\n",
       "      <td>0.497057</td>\n",
       "      <td>-0.005679</td>\n",
       "      <td>0.006258</td>\n",
       "      <td>14.110346</td>\n",
       "    </tr>\n",
       "    <tr>\n",
       "      <th>146</th>\n",
       "      <td>0.456142</td>\n",
       "      <td>-0.088028</td>\n",
       "      <td>0.022720</td>\n",
       "      <td>13.020942</td>\n",
       "    </tr>\n",
       "    <tr>\n",
       "      <th>148</th>\n",
       "      <td>0.471516</td>\n",
       "      <td>-0.057084</td>\n",
       "      <td>0.022720</td>\n",
       "      <td>13.020942</td>\n",
       "    </tr>\n",
       "    <tr>\n",
       "      <th>149</th>\n",
       "      <td>0.448340</td>\n",
       "      <td>-0.103728</td>\n",
       "      <td>0.022720</td>\n",
       "      <td>13.020943</td>\n",
       "    </tr>\n",
       "    <tr>\n",
       "      <th>165</th>\n",
       "      <td>0.481267</td>\n",
       "      <td>-0.037459</td>\n",
       "      <td>0.006258</td>\n",
       "      <td>14.110348</td>\n",
       "    </tr>\n",
       "    <tr>\n",
       "      <th>173</th>\n",
       "      <td>0.464531</td>\n",
       "      <td>-0.071143</td>\n",
       "      <td>0.022720</td>\n",
       "      <td>13.020942</td>\n",
       "    </tr>\n",
       "    <tr>\n",
       "      <th>190</th>\n",
       "      <td>0.487078</td>\n",
       "      <td>-0.025764</td>\n",
       "      <td>0.006258</td>\n",
       "      <td>14.110346</td>\n",
       "    </tr>\n",
       "    <tr>\n",
       "      <th>206</th>\n",
       "      <td>0.510464</td>\n",
       "      <td>0.021303</td>\n",
       "      <td>0.022720</td>\n",
       "      <td>13.020940</td>\n",
       "    </tr>\n",
       "    <tr>\n",
       "      <th>221</th>\n",
       "      <td>0.445637</td>\n",
       "      <td>-0.109168</td>\n",
       "      <td>0.022720</td>\n",
       "      <td>13.020943</td>\n",
       "    </tr>\n",
       "    <tr>\n",
       "      <th>226</th>\n",
       "      <td>0.476739</td>\n",
       "      <td>-0.046572</td>\n",
       "      <td>0.022720</td>\n",
       "      <td>13.020943</td>\n",
       "    </tr>\n",
       "  </tbody>\n",
       "</table>\n",
       "</div>"
      ],
      "text/plain": [
       "       Param1  sc_param1  PR_kappa_A[bmimpf6,R32]        SSR\n",
       "21   0.494270  -0.011289                 0.006258  14.110346\n",
       "33   0.504919   0.010144                 0.022720  13.020940\n",
       "50   0.488707  -0.022485                 0.006258  14.110346\n",
       "72   0.461280  -0.077685                 0.022720  13.020943\n",
       "74   0.503719   0.007728                 0.022720  13.020940\n",
       "120  0.472536  -0.055031                 0.022720  13.020942\n",
       "122  0.453030  -0.094290                 0.022720  13.020942\n",
       "127  0.497057  -0.005679                 0.006258  14.110346\n",
       "146  0.456142  -0.088028                 0.022720  13.020942\n",
       "148  0.471516  -0.057084                 0.022720  13.020942\n",
       "149  0.448340  -0.103728                 0.022720  13.020943\n",
       "165  0.481267  -0.037459                 0.006258  14.110348\n",
       "173  0.464531  -0.071143                 0.022720  13.020942\n",
       "190  0.487078  -0.025764                 0.006258  14.110346\n",
       "206  0.510464   0.021303                 0.022720  13.020940\n",
       "221  0.445637  -0.109168                 0.022720  13.020943\n",
       "226  0.476739  -0.046572                 0.022720  13.020943"
      ]
     },
     "execution_count": 3,
     "metadata": {},
     "output_type": "execute_result"
    }
   ],
   "source": [
    "PR_1param_Opt2_results.dropna(axis=0)"
   ]
  },
  {
   "cell_type": "code",
   "execution_count": 4,
   "id": "28d35bfa",
   "metadata": {},
   "outputs": [
    {
     "data": {
      "text/html": [
       "<div>\n",
       "<style scoped>\n",
       "    .dataframe tbody tr th:only-of-type {\n",
       "        vertical-align: middle;\n",
       "    }\n",
       "\n",
       "    .dataframe tbody tr th {\n",
       "        vertical-align: top;\n",
       "    }\n",
       "\n",
       "    .dataframe thead th {\n",
       "        text-align: right;\n",
       "    }\n",
       "</style>\n",
       "<table border=\"1\" class=\"dataframe\">\n",
       "  <thead>\n",
       "    <tr style=\"text-align: right;\">\n",
       "      <th></th>\n",
       "      <th>Param1</th>\n",
       "      <th>sc_param1</th>\n",
       "      <th>PR_kappa_A[bmimpf6,R32]</th>\n",
       "      <th>SSR</th>\n",
       "    </tr>\n",
       "  </thead>\n",
       "  <tbody>\n",
       "    <tr>\n",
       "      <th>206</th>\n",
       "      <td>0.510464</td>\n",
       "      <td>0.021303</td>\n",
       "      <td>0.02272</td>\n",
       "      <td>13.02094</td>\n",
       "    </tr>\n",
       "  </tbody>\n",
       "</table>\n",
       "</div>"
      ],
      "text/plain": [
       "       Param1  sc_param1  PR_kappa_A[bmimpf6,R32]       SSR\n",
       "206  0.510464   0.021303                  0.02272  13.02094"
      ]
     },
     "execution_count": 4,
     "metadata": {},
     "output_type": "execute_result"
    }
   ],
   "source": [
    "PR_1param_Opt2_results[PR_1param_Opt2_results.SSR == PR_1param_Opt2_results.SSR.min()]"
   ]
  },
  {
   "cell_type": "code",
   "execution_count": 5,
   "id": "0ab6e4bf",
   "metadata": {},
   "outputs": [],
   "source": [
    "Opt2_206 = PR_1param_Opt2_results.iloc[206]"
   ]
  },
  {
   "cell_type": "code",
   "execution_count": 6,
   "id": "d0b2c57a",
   "metadata": {},
   "outputs": [],
   "source": [
    "lhs = pd.read_csv('../../LHS_250x8.txt')"
   ]
  },
  {
   "cell_type": "code",
   "execution_count": 7,
   "id": "3ba4bd62",
   "metadata": {},
   "outputs": [],
   "source": [
    "lhs['sc_param1'] = ((lhs['Param1']-lhs['Param1'].min())/(lhs['Param1'].max()-lhs['Param1'].min()))*2+(-1)\n",
    "lhs['sc_param2'] = ((lhs['Param2']-lhs['Param2'].min())/(lhs['Param2'].max()-lhs['Param2'].min()))*2+(-1)"
   ]
  },
  {
   "cell_type": "code",
   "execution_count": null,
   "id": "d1497feb",
   "metadata": {},
   "outputs": [],
   "source": [
    "Opt1_153_sc = Opt1_153[['sc_param2']]"
   ]
  },
  {
   "cell_type": "code",
   "execution_count": 8,
   "id": "d314e586",
   "metadata": {},
   "outputs": [],
   "source": [
    "Opt2_206_sc = Opt2_206[['sc_param1']]"
   ]
  },
  {
   "cell_type": "code",
   "execution_count": null,
   "id": "1e325f20",
   "metadata": {},
   "outputs": [],
   "source": [
    "Opt1_153_sc_df = pd.DataFrame(Opt1_153_sc).T\n",
    "sc_Opt1_153 = pd.concat([Opt1_153_sc_df]*250,ignore_index=True)\n",
    "sc_lhs_Opt1_153 = pd.concat([lhs[['sc_param1']],sc_Opt1_153],axis=1,ignore_index=True)\n",
    "sc_lhs_Opt1_153.columns = ['sc_param1','sc_param2']\n",
    "sc_lhs_Opt1_153.to_csv('Data/Fits/LHS_Fits/SRK_noTdep_scLHS_Opt1_153.csv',sep=',')"
   ]
  },
  {
   "cell_type": "code",
   "execution_count": 9,
   "id": "386d8b2a",
   "metadata": {},
   "outputs": [],
   "source": [
    "Opt2_206_sc_df = pd.DataFrame(Opt2_206_sc).T\n",
    "sc_Opt2_206 = pd.concat([Opt2_206_sc_df]*250,ignore_index=True)\n",
    "sc_lhs_Opt2_206 = pd.concat([sc_Opt2_206,lhs[['sc_param2']]],axis=1,ignore_index=True)\n",
    "sc_lhs_Opt2_206.columns = ['sc_param1','sc_param2']\n",
    "sc_lhs_Opt2_206.to_csv('Data/Fits/LHS_Fits/PR_noTdep_from206.csv',sep=',')"
   ]
  },
  {
   "cell_type": "code",
   "execution_count": null,
   "id": "92781975",
   "metadata": {},
   "outputs": [],
   "source": [
    "sc_lhs_Opt1_78"
   ]
  },
  {
   "cell_type": "code",
   "execution_count": null,
   "id": "3ee80540",
   "metadata": {},
   "outputs": [],
   "source": [
    "sc_lhs_Opt2_206"
   ]
  },
  {
   "cell_type": "code",
   "execution_count": null,
   "id": "804d5655",
   "metadata": {},
   "outputs": [],
   "source": []
  }
 ],
 "metadata": {
  "kernelspec": {
   "display_name": "Python 3 (ipykernel)",
   "language": "python",
   "name": "python3"
  },
  "language_info": {
   "codemirror_mode": {
    "name": "ipython",
    "version": 3
   },
   "file_extension": ".py",
   "mimetype": "text/x-python",
   "name": "python",
   "nbconvert_exporter": "python",
   "pygments_lexer": "ipython3",
   "version": "3.9.9"
  }
 },
 "nbformat": 4,
 "nbformat_minor": 5
}
