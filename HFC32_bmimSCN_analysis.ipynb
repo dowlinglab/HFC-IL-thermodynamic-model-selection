{
 "cells": [
  {
   "cell_type": "code",
   "execution_count": 1,
   "id": "instructional-renaissance",
   "metadata": {},
   "outputs": [],
   "source": [
    "# import functions\n",
    "import idaes\n",
    "import matplotlib.pyplot as plt\n",
    "import pandas as pd\n",
    "import numpy as np\n",
    "from pyomo.environ import (Constraint,\n",
    "                           Var,\n",
    "                           ConcreteModel,\n",
    "                           Expression,\n",
    "                           Param,\n",
    "                           Objective,\n",
    "                           SolverFactory,\n",
    "                           TransformationFactory,\n",
    "                           value)\n",
    "\n",
    "from idaes.core import FlowsheetBlock\n",
    "import idaes.logger as idaeslog\n",
    "from pyomo.opt import TerminationCondition, SolverStatus\n",
    "# Import the Generic Parameter Block\n",
    "from idaes.generic_models.properties.core.generic.generic_property import (\n",
    "        GenericParameterBlock)\n",
    "# Import unit models from the model library\n",
    "from idaes.generic_models.unit_models import Flash\n",
    "# Import degrees of freedom tool\n",
    "from idaes.core.util.model_statistics import degrees_of_freedom\n",
    "# parmest (binary_param2)\n",
    "from binary_param2 import binary_params_peng\n",
    "# import pressure and plot functions\n",
    "from binary_fitting_functions import calc_outlet_xP\n",
    "from binary_fitting_functions import plot_sens_analysis"
   ]
  },
  {
   "cell_type": "code",
   "execution_count": 2,
   "id": "funded-belarus",
   "metadata": {},
   "outputs": [],
   "source": [
    "# from HFC32_emimTf2N_PR import configuration\n",
    "from HFC32_bmimSCN_PR import configuration"
   ]
  },
  {
   "cell_type": "code",
   "execution_count": 3,
   "id": "elder-reputation",
   "metadata": {},
   "outputs": [],
   "source": [
    "#need to make excel csv for 125\n",
    "data = pd.read_csv('R32_bmimSCN.csv')\n",
    "# print(data)"
   ]
  },
  {
   "cell_type": "markdown",
   "id": "secure-friendly",
   "metadata": {},
   "source": [
    "# Create Model, Run Parmest"
   ]
  },
  {
   "cell_type": "code",
   "execution_count": 4,
   "id": "behind-death",
   "metadata": {},
   "outputs": [
    {
     "name": "stdout",
     "output_type": "stream",
     "text": [
      "2021-04-20 16:30:35 [INFO] idaes.generic_models.properties.core.generic.generic_property: DEPRECATED - definiton of generic property packages is moving to using static classes instead of modules. Please refer to the IDAES documentation.\n",
      "The initial DOF is 7\n"
     ]
    }
   ],
   "source": [
    "m = ConcreteModel()\n",
    "m.fs = FlowsheetBlock(default={\"dynamic\": False})\n",
    "m.fs.properties = GenericParameterBlock(default=configuration)\n",
    "m.fs.F101 = Flash(default={\"property_package\": m.fs.properties,\n",
    "                           \"has_heat_transfer\": True,\n",
    "                           \"has_pressure_change\": True})\n",
    "DOF_initial = degrees_of_freedom(m)\n",
    "print('The initial DOF is {0}'.format(DOF_initial))"
   ]
  },
  {
   "cell_type": "code",
   "execution_count": 5,
   "id": "sweet-garlic",
   "metadata": {},
   "outputs": [
    {
     "name": "stdout",
     "output_type": "stream",
     "text": [
      "   temperature  pressure  x_R32  x_bmimSCN\n",
      "0       298.15     50000  0.004      0.996\n",
      "1       298.15    100000  0.024      0.976\n",
      "2       298.15    200000  0.057      0.943\n",
      "3       298.15    400000  0.127      0.873\n",
      "4       298.15    600000  0.212      0.788\n",
      "5       298.15    800000  0.280      0.720\n",
      "6       298.15   1000000  0.349      0.651\n"
     ]
    }
   ],
   "source": [
    "print(data)"
   ]
  },
  {
   "cell_type": "code",
   "execution_count": 6,
   "id": "acting-receptor",
   "metadata": {},
   "outputs": [
    {
     "name": "stdout",
     "output_type": "stream",
     "text": [
      "2021-04-20 16:30:36 [INFO] idaes.generic_models.properties.core.generic.generic_property: DEPRECATED - definiton of generic property packages is moving to using static classes instead of modules. Please refer to the IDAES documentation.\n",
      "2021-04-20 16:30:36 [INFO] idaes.init.fs.state_block: Property package initialization: optimal - Optimal Solution Found.\n",
      "2021-04-20 16:30:36 [INFO] idaes.generic_models.properties.core.generic.generic_property: DEPRECATED - definiton of generic property packages is moving to using static classes instead of modules. Please refer to the IDAES documentation.\n",
      "2021-04-20 16:30:36 [INFO] idaes.init.fs.state_block: Property package initialization: optimal - Optimal Solution Found.\n",
      "2021-04-20 16:30:36 [INFO] idaes.generic_models.properties.core.generic.generic_property: DEPRECATED - definiton of generic property packages is moving to using static classes instead of modules. Please refer to the IDAES documentation.\n",
      "2021-04-20 16:30:37 [INFO] idaes.init.fs.state_block: Property package initialization: optimal - Optimal Solution Found.\n",
      "2021-04-20 16:30:37 [INFO] idaes.generic_models.properties.core.generic.generic_property: DEPRECATED - definiton of generic property packages is moving to using static classes instead of modules. Please refer to the IDAES documentation.\n",
      "2021-04-20 16:30:37 [INFO] idaes.init.fs.state_block: Property package initialization: optimal - Optimal Solution Found.\n",
      "2021-04-20 16:30:37 [INFO] idaes.generic_models.properties.core.generic.generic_property: DEPRECATED - definiton of generic property packages is moving to using static classes instead of modules. Please refer to the IDAES documentation.\n",
      "2021-04-20 16:30:37 [INFO] idaes.init.fs.state_block: Property package initialization: optimal - Optimal Solution Found.\n",
      "2021-04-20 16:30:37 [INFO] idaes.generic_models.properties.core.generic.generic_property: DEPRECATED - definiton of generic property packages is moving to using static classes instead of modules. Please refer to the IDAES documentation.\n",
      "2021-04-20 16:30:39 [INFO] idaes.init.fs.state_block: Property package initialization: infeasible - Converged to a locally infeasible point. Problem may be infeasible..\n",
      "2021-04-20 16:30:39 [INFO] idaes.generic_models.properties.core.generic.generic_property: DEPRECATED - definiton of generic property packages is moving to using static classes instead of modules. Please refer to the IDAES documentation.\n",
      "2021-04-20 16:30:42 [INFO] idaes.init.fs.state_block: Property package initialization: infeasible - Converged to a locally infeasible point. Problem may be infeasible..\n",
      "Ipopt 3.13.2: \n",
      "\n",
      "******************************************************************************\n",
      "This program contains Ipopt, a library for large-scale nonlinear optimization.\n",
      " Ipopt is released as open source code under the Eclipse Public License (EPL).\n",
      "         For more information visit http://projects.coin-or.org/Ipopt\n",
      "\n",
      "This version of Ipopt was compiled from source code available at\n",
      "    https://github.com/IDAES/Ipopt as part of the Institute for the Design of\n",
      "    Advanced Energy Systems Process Systems Engineering Framework (IDAES PSE\n",
      "    Framework) Copyright (c) 2018-2019. See https://github.com/IDAES/idaes-pse.\n",
      "\n",
      "This version of Ipopt was compiled using HSL, a collection of Fortran codes\n",
      "    for large-scale scientific computation.  All technical papers, sales and\n",
      "    publicity material resulting from use of the HSL codes within IPOPT must\n",
      "    contain the following acknowledgement:\n",
      "        HSL, a collection of Fortran codes for large-scale scientific\n",
      "        computation. See http://www.hsl.rl.ac.uk.\n",
      "******************************************************************************\n",
      "\n",
      "This is Ipopt version 3.13.2, running with linear solver ma27.\n",
      "\n",
      "Number of nonzeros in equality constraint Jacobian...:      238\n",
      "Number of nonzeros in inequality constraint Jacobian.:        0\n",
      "Number of nonzeros in Lagrangian Hessian.............:      238\n",
      "\n",
      "Total number of variables............................:      100\n",
      "                     variables with only lower bounds:       42\n",
      "                variables with lower and upper bounds:       42\n",
      "                     variables with only upper bounds:        0\n",
      "Total number of equality constraints.................:       98\n",
      "Total number of inequality constraints...............:        0\n",
      "        inequality constraints with only lower bounds:        0\n",
      "   inequality constraints with lower and upper bounds:        0\n",
      "        inequality constraints with only upper bounds:        0\n",
      "\n",
      "iter    objective    inf_pr   inf_du lg(mu)  ||d||  lg(rg) alpha_du alpha_pr  ls\n",
      "   0  0.0000000e+00 3.42e+00 4.44e-16  -1.0 0.00e+00    -  0.00e+00 0.00e+00   0\n",
      "   1  6.1863758e+00 3.97e+00 1.42e+05  -1.0 1.94e+05    -  5.33e-02 7.09e-01h  1\n",
      "   2  6.7195970e+00 1.98e+00 2.85e+04  -1.0 8.43e+04    -  1.93e-01 9.90e-01h  1\n",
      "   3  1.6980242e+01 1.42e+00 1.44e+04  -1.0 1.68e+05    -  2.85e-01 4.95e-01h  2\n",
      "   4  2.4534325e+01 1.29e+00 1.27e+04  -1.0 3.82e+05    -  3.06e-01 1.18e-01h  3\n",
      "   5  7.1723824e+01 1.90e+00 1.99e+05  -1.0 2.09e+05    -  4.25e-01 9.91e-01H  1\n",
      "   6  7.2227643e+01 4.23e-02 2.94e+05  -1.0 2.66e+04  -4.0 9.45e-01 1.00e+00h  1\n",
      "   7  7.2244995e+01 8.75e-04 9.40e+04  -1.0 1.21e+03  -4.5 9.90e-01 1.00e+00h  1\n",
      "   8  7.2241119e+01 3.71e-07 9.40e+02  -1.0 2.56e+01  -5.0 9.90e-01 1.00e+00h  1\n",
      "   9  1.0603050e+00 3.68e-01 1.26e+06  -1.7 4.14e+05    -  8.42e-01 1.00e+00f  1\n",
      "iter    objective    inf_pr   inf_du lg(mu)  ||d||  lg(rg) alpha_du alpha_pr  ls\n",
      "  10  6.1936202e-01 1.04e-02 1.25e+04  -1.7 1.61e+04    -  9.90e-01 1.00e+00h  1\n",
      "  11  6.1718712e-01 2.30e-04 2.11e+00  -1.7 9.45e+02    -  1.00e+00 1.00e+00h  1\n",
      "  12  6.1714603e-01 5.42e-07 9.96e-04  -3.8 3.22e+02    -  1.00e+00 1.00e+00h  1\n",
      "  13  6.1714549e-01 4.94e-11 7.24e-08  -5.7 2.90e+00    -  1.00e+00 1.00e+00h  1\n",
      "  14  6.1714549e-01 3.64e-12 8.39e-12  -8.6 3.00e-02    -  1.00e+00 1.00e+00h  1\n",
      "\n",
      "Number of Iterations....: 14\n",
      "\n",
      "                                   (scaled)                 (unscaled)\n",
      "Objective...............:   6.1714548678315484e-01    6.1714548678315484e-01\n",
      "Dual infeasibility......:   8.3852924603888823e-12    8.3852924603888823e-12\n",
      "Constraint violation....:   3.6397551639311132e-12    3.6397551639311132e-12\n",
      "Complementarity.........:   2.5060734074730558e-09    2.5060734074730558e-09\n",
      "Overall NLP error.......:   2.5060734074730558e-09    2.5060734074730558e-09\n",
      "\n",
      "\n",
      "Number of objective function evaluations             = 22\n",
      "Number of objective gradient evaluations             = 15\n",
      "Number of equality constraint evaluations            = 22\n",
      "Number of inequality constraint evaluations          = 0\n",
      "Number of equality constraint Jacobian evaluations   = 15\n",
      "Number of inequality constraint Jacobian evaluations = 0\n",
      "Number of Lagrangian Hessian evaluations             = 14\n",
      "Total CPU secs in IPOPT (w/o function evaluations)   =      0.005\n",
      "Total CPU secs in NLP function evaluations           =      0.026\n",
      "\n",
      "EXIT: Optimal Solution Found.\n",
      "The SSE at the optimal solution is 0.617145\n",
      "\n",
      "The values for the parameters are as follows:\n",
      "fs.properties.PR_kappa[R32,bmimSCN] = 0.07005730439791685\n",
      "fs.properties.PR_kappa[bmimSCN,R32] = 0.27091434793409624\n"
     ]
    }
   ],
   "source": [
    "binary_params_peng(data, configuration, 'R32', 'bmimSCN', \"x_R32\", \"x_bmimSCN\", \n",
    "    init_temp =  298.15, init_press =   100000 , init_x_c1 =   0.024, init_x_c2 = 0.976,\n",
    "    init_kappa_2_1 = 0.07, init_kappa_1_2 = 0.3, eps = 0.1, scaling_fac = 1e-9 , read=False)"
   ]
  },
  {
   "cell_type": "code",
   "execution_count": 7,
   "id": "ecological-benjamin",
   "metadata": {},
   "outputs": [],
   "source": [
    "k12 = 0.07005730439791685\n",
    "k21 = 0.27091434793409624"
   ]
  },
  {
   "cell_type": "code",
   "execution_count": 8,
   "id": "rational-zealand",
   "metadata": {},
   "outputs": [
    {
     "name": "stdout",
     "output_type": "stream",
     "text": [
      "The final DOF is 0\n",
      "The final DOF is 0\n",
      "The final DOF is 0\n",
      "The final DOF is 0\n",
      "The final DOF is 0\n",
      "The final DOF is 0\n",
      "The final DOF is 0\n"
     ]
    }
   ],
   "source": [
    "R32_x,P= calc_outlet_xP(data,m,\"R32\", \"bmimSCN\", k21, k12,verbose=True)"
   ]
  },
  {
   "cell_type": "code",
   "execution_count": 9,
   "id": "regular-macedonia",
   "metadata": {},
   "outputs": [
    {
     "data": {
      "image/png": "[encoded data removed]",
      "text/plain": [
       "<Figure size 432x288 with 1 Axes>"
      ]
     },
     "metadata": {
      "needs_background": "light"
     },
     "output_type": "display_data"
    }
   ],
   "source": [
    "plt.plot(R32_x,P,\"m*-\",label=\"T= 298 K\")\n",
    "plt.plot(data[\"x_R32\"],data[\"pressure\"],\"*\",color='orange',label=\"data\")  \n",
    "plt.title('Isotherm [R32][bmimSCN] fit to T= 298 K')\n",
    "plt.ylabel('Pressure (Pa)')\n",
    "plt.xlabel('x R32')\n",
    "plt.grid(True)\n",
    "# plt.ylim(0,1300000)\n",
    "plt.legend()\n",
    "plt.show()"
   ]
  },
  {
   "cell_type": "code",
   "execution_count": null,
   "id": "capable-story",
   "metadata": {},
   "outputs": [],
   "source": []
  }
 ],
 "metadata": {
  "kernelspec": {
   "display_name": "Python 3",
   "language": "python",
   "name": "python3"
  },
  "language_info": {
   "codemirror_mode": {
    "name": "ipython",
    "version": 3
   },
   "file_extension": ".py",
   "mimetype": "text/x-python",
   "name": "python",
   "nbconvert_exporter": "python",
   "pygments_lexer": "ipython3",
   "version": "3.9.2"
  }
 },
 "nbformat": 4,
 "nbformat_minor": 5
}
