{
 "cells": [
  {
   "cell_type": "code",
   "execution_count": 7,
   "id": "acting-deputy",
   "metadata": {},
   "outputs": [],
   "source": [
    "# import functions\n",
    "import idaes\n",
    "import matplotlib.pyplot as plt\n",
    "import pandas as pd\n",
    "import numpy as np\n",
    "from pyomo.environ import (Constraint,\n",
    "                           Var,\n",
    "                           ConcreteModel,\n",
    "                           Expression,\n",
    "                           Param,\n",
    "                           Objective,\n",
    "                           SolverFactory,\n",
    "                           TransformationFactory,\n",
    "                           value)\n",
    "\n",
    "from idaes.core import FlowsheetBlock\n",
    "import idaes.logger as idaeslog\n",
    "from pyomo.opt import TerminationCondition, SolverStatus\n",
    "# Import the Generic Parameter Block\n",
    "from idaes.generic_models.properties.core.generic.generic_property import (\n",
    "        GenericParameterBlock)\n",
    "# Import unit models from the model library\n",
    "from idaes.generic_models.unit_models import Flash\n",
    "# Import degrees of freedom tool\n",
    "from idaes.core.util.model_statistics import degrees_of_freedom\n",
    "# parmest (binary_param2)\n",
    "from binary_param2 import binary_params_peng"
   ]
  },
  {
   "cell_type": "code",
   "execution_count": 8,
   "id": "general-psychology",
   "metadata": {},
   "outputs": [],
   "source": [
    "# from HFC32_emimTf2N_PR import configuration\n",
    "from HFC125_bmimBF4_PR import configuration"
   ]
  },
  {
   "cell_type": "code",
   "execution_count": 13,
   "id": "matched-painting",
   "metadata": {},
   "outputs": [
    {
     "name": "stdout",
     "output_type": "stream",
     "text": [
      "    temperature  pressure  x_R125  x_bmimBF4\n",
      "0         283.1      9900   0.013      0.987\n",
      "1         283.2     99600   0.034      0.966\n",
      "2         283.3    199600   0.075      0.925\n",
      "3         283.2    299600   0.126      0.874\n",
      "4         283.3    399600   0.185      0.815\n",
      "5         283.1    499700   0.255      0.745\n",
      "6         283.2    599700   0.342      0.658\n",
      "7         283.1    699600   0.462      0.538\n",
      "8         283.2    799800   0.660      0.340\n",
      "9         298.2      9800   0.003      0.997\n",
      "10        298.2     99600   0.023      0.977\n",
      "11        298.2    199800   0.050      0.950\n",
      "12        298.1    299500   0.080      0.920\n",
      "13        298.2    399800   0.111      0.889\n",
      "14        298.2    499500   0.143      0.857\n",
      "15        298.2    599500   0.180      0.820\n",
      "16        298.2    799600   0.261      0.739\n",
      "17        298.1    999800   0.363      0.637\n",
      "18        323.1     10000   0.000      1.000\n",
      "19        323.1     99600   0.013      0.987\n",
      "20        323.1    199800   0.028      0.972\n",
      "21        323.2    300000   0.042      0.958\n",
      "22        323.1    399700   0.057      0.943\n",
      "23        323.2    499900   0.072      0.928\n",
      "24        323.1    599600   0.087      0.913\n",
      "25        323.1    799700   0.120      0.880\n",
      "26        323.1    999600   0.154      0.846\n",
      "27        348.2     10200   0.000      1.000\n",
      "28        348.1     99700   0.007      0.993\n",
      "29        348.2    199600   0.016      0.984\n",
      "30        348.3    299700   0.025      0.975\n",
      "31        348.2    399700   0.033      0.967\n",
      "32        348.2    499800   0.043      0.957\n",
      "33        348.2    599800   0.053      0.947\n",
      "34        348.3    800000   0.070      0.930\n",
      "35        348.2    999600   0.088      0.912\n"
     ]
    }
   ],
   "source": [
    "#need to make excel csv for 125\n",
    "data = pd.read_csv('R125_bmimBF4.csv')\n",
    "print(data)"
   ]
  },
  {
   "cell_type": "code",
   "execution_count": 16,
   "id": "outstanding-coast",
   "metadata": {},
   "outputs": [
    {
     "name": "stdout",
     "output_type": "stream",
     "text": [
      "2021-03-28 19:44:16 [INFO] idaes.generic_models.properties.core.generic.generic_property: DEPRECATED - definiton of generic property packages is moving to using static classes instead of modules. Please refer to the IDAES documentation.\n",
      "2021-03-28 19:44:16 [INFO] idaes.init.fs.state_block: Property package initialization: infeasible - Converged to a locally infeasible point. Problem may be infeasible..\n",
      "2021-03-28 19:44:16 [INFO] idaes.generic_models.properties.core.generic.generic_property: DEPRECATED - definiton of generic property packages is moving to using static classes instead of modules. Please refer to the IDAES documentation.\n",
      "2021-03-28 19:44:16 [INFO] idaes.init.fs.state_block: Property package initialization: infeasible - Converged to a locally infeasible point. Problem may be infeasible..\n",
      "2021-03-28 19:44:16 [INFO] idaes.generic_models.properties.core.generic.generic_property: DEPRECATED - definiton of generic property packages is moving to using static classes instead of modules. Please refer to the IDAES documentation.\n",
      "2021-03-28 19:44:17 [INFO] idaes.init.fs.state_block: Property package initialization: infeasible - Converged to a locally infeasible point. Problem may be infeasible..\n",
      "2021-03-28 19:44:17 [INFO] idaes.generic_models.properties.core.generic.generic_property: DEPRECATED - definiton of generic property packages is moving to using static classes instead of modules. Please refer to the IDAES documentation.\n",
      "2021-03-28 19:44:17 [INFO] idaes.init.fs.state_block: Property package initialization: infeasible - Converged to a locally infeasible point. Problem may be infeasible..\n",
      "2021-03-28 19:44:17 [INFO] idaes.generic_models.properties.core.generic.generic_property: DEPRECATED - definiton of generic property packages is moving to using static classes instead of modules. Please refer to the IDAES documentation.\n",
      "2021-03-28 19:44:17 [INFO] idaes.init.fs.state_block: Property package initialization: infeasible - Converged to a locally infeasible point. Problem may be infeasible..\n",
      "2021-03-28 19:44:17 [INFO] idaes.generic_models.properties.core.generic.generic_property: DEPRECATED - definiton of generic property packages is moving to using static classes instead of modules. Please refer to the IDAES documentation.\n",
      "2021-03-28 19:44:21 [INFO] idaes.init.fs.state_block: Property package initialization: maxIterations - Maximum Number of Iterations Exceeded..\n",
      "2021-03-28 19:44:21 [INFO] idaes.generic_models.properties.core.generic.generic_property: DEPRECATED - definiton of generic property packages is moving to using static classes instead of modules. Please refer to the IDAES documentation.\n",
      "2021-03-28 19:44:25 [INFO] idaes.init.fs.state_block: Property package initialization: maxIterations - Maximum Number of Iterations Exceeded..\n",
      "2021-03-28 19:44:25 [INFO] idaes.generic_models.properties.core.generic.generic_property: DEPRECATED - definiton of generic property packages is moving to using static classes instead of modules. Please refer to the IDAES documentation.\n",
      "2021-03-28 19:44:27 [INFO] idaes.init.fs.state_block: Property package initialization: maxIterations - Maximum Number of Iterations Exceeded..\n",
      "2021-03-28 19:44:27 [INFO] idaes.generic_models.properties.core.generic.generic_property: DEPRECATED - definiton of generic property packages is moving to using static classes instead of modules. Please refer to the IDAES documentation.\n",
      "2021-03-28 19:44:27 [INFO] idaes.init.fs.state_block: Property package initialization: infeasible - Converged to a locally infeasible point. Problem may be infeasible..\n",
      "2021-03-28 19:44:27 [INFO] idaes.generic_models.properties.core.generic.generic_property: DEPRECATED - definiton of generic property packages is moving to using static classes instead of modules. Please refer to the IDAES documentation.\n",
      "2021-03-28 19:44:28 [INFO] idaes.init.fs.state_block: Property package initialization: infeasible - Converged to a locally infeasible point. Problem may be infeasible..\n",
      "2021-03-28 19:44:28 [INFO] idaes.generic_models.properties.core.generic.generic_property: DEPRECATED - definiton of generic property packages is moving to using static classes instead of modules. Please refer to the IDAES documentation.\n",
      "2021-03-28 19:44:28 [INFO] idaes.init.fs.state_block: Property package initialization: infeasible - Converged to a locally infeasible point. Problem may be infeasible..\n",
      "2021-03-28 19:44:28 [INFO] idaes.generic_models.properties.core.generic.generic_property: DEPRECATED - definiton of generic property packages is moving to using static classes instead of modules. Please refer to the IDAES documentation.\n",
      "2021-03-28 19:44:28 [INFO] idaes.init.fs.state_block: Property package initialization: infeasible - Converged to a locally infeasible point. Problem may be infeasible..\n",
      "2021-03-28 19:44:28 [INFO] idaes.generic_models.properties.core.generic.generic_property: DEPRECATED - definiton of generic property packages is moving to using static classes instead of modules. Please refer to the IDAES documentation.\n",
      "2021-03-28 19:44:29 [INFO] idaes.init.fs.state_block: Property package initialization: infeasible - Converged to a locally infeasible point. Problem may be infeasible..\n",
      "2021-03-28 19:44:29 [INFO] idaes.generic_models.properties.core.generic.generic_property: DEPRECATED - definiton of generic property packages is moving to using static classes instead of modules. Please refer to the IDAES documentation.\n",
      "2021-03-28 19:44:29 [INFO] idaes.init.fs.state_block: Property package initialization: infeasible - Converged to a locally infeasible point. Problem may be infeasible..\n",
      "2021-03-28 19:44:29 [INFO] idaes.generic_models.properties.core.generic.generic_property: DEPRECATED - definiton of generic property packages is moving to using static classes instead of modules. Please refer to the IDAES documentation.\n",
      "2021-03-28 19:44:29 [INFO] idaes.init.fs.state_block: Property package initialization: infeasible - Converged to a locally infeasible point. Problem may be infeasible..\n",
      "2021-03-28 19:44:29 [INFO] idaes.generic_models.properties.core.generic.generic_property: DEPRECATED - definiton of generic property packages is moving to using static classes instead of modules. Please refer to the IDAES documentation.\n",
      "2021-03-28 19:44:30 [INFO] idaes.init.fs.state_block: Property package initialization: infeasible - Converged to a locally infeasible point. Problem may be infeasible..\n",
      "2021-03-28 19:44:30 [INFO] idaes.generic_models.properties.core.generic.generic_property: DEPRECATED - definiton of generic property packages is moving to using static classes instead of modules. Please refer to the IDAES documentation.\n",
      "2021-03-28 19:44:30 [INFO] idaes.init.fs.state_block: Property package initialization: infeasible - Converged to a locally infeasible point. Problem may be infeasible..\n",
      "2021-03-28 19:44:30 [INFO] idaes.generic_models.properties.core.generic.generic_property: DEPRECATED - definiton of generic property packages is moving to using static classes instead of modules. Please refer to the IDAES documentation.\n",
      "ERROR: Failed to create model instance for scenario=Experiment17\n"
     ]
    },
    {
     "ename": "ValueError",
     "evalue": "Cannot load a SolverResults object with bad status: error",
     "output_type": "error",
     "traceback": [
      "\u001b[1;31m---------------------------------------------------------------------------\u001b[0m",
      "\u001b[1;31mValueError\u001b[0m                                Traceback (most recent call last)",
      "\u001b[1;32m<ipython-input-16-66e17df076fe>\u001b[0m in \u001b[0;36m<module>\u001b[1;34m\u001b[0m\n\u001b[0;32m      1\u001b[0m \u001b[1;31m# from HFC32_emimTf2N_PR import configuration\u001b[0m\u001b[1;33m\u001b[0m\u001b[1;33m\u001b[0m\u001b[1;33m\u001b[0m\u001b[0m\n\u001b[1;32m----> 2\u001b[1;33m binary_params_peng('R125_bmimBF4.csv', configuration, 'R125', 'bmimBF4', \"x_R125\", \"x_bmimBF4\", \n\u001b[0m\u001b[0;32m      3\u001b[0m     \u001b[0minit_temp\u001b[0m \u001b[1;33m=\u001b[0m \u001b[1;36m298.2\u001b[0m\u001b[1;33m,\u001b[0m \u001b[0minit_press\u001b[0m \u001b[1;33m=\u001b[0m \u001b[1;36m799600\u001b[0m\u001b[1;33m,\u001b[0m \u001b[0minit_x_c1\u001b[0m \u001b[1;33m=\u001b[0m \u001b[1;36m0.261\u001b[0m \u001b[1;33m,\u001b[0m \u001b[0minit_x_c2\u001b[0m \u001b[1;33m=\u001b[0m \u001b[1;36m0.739\u001b[0m \u001b[1;33m,\u001b[0m\u001b[1;33m\u001b[0m\u001b[1;33m\u001b[0m\u001b[0m\n\u001b[0;32m      4\u001b[0m     init_kappa_2_1 = 0.5, init_kappa_1_2 = 0.5, eps = 0.1, scaling_fac = 1e-9)\n",
      "\u001b[1;32m~\\Documents\\GitHub\\extractive-distillation2\\binary_param2.py\u001b[0m in \u001b[0;36mbinary_params_peng\u001b[1;34m(file, configuration, comp_1, comp_2, x_comp_1, x_comp_2, init_temp, init_press, init_x_c1, init_x_c2, init_kappa_1_2, init_kappa_2_1, eps, scaling_fac)\u001b[0m\n\u001b[0;32m    120\u001b[0m     \u001b[0mpest\u001b[0m \u001b[1;33m=\u001b[0m \u001b[0mparmest\u001b[0m\u001b[1;33m.\u001b[0m\u001b[0mEstimator\u001b[0m\u001b[1;33m(\u001b[0m\u001b[0mPR_model\u001b[0m\u001b[1;33m,\u001b[0m \u001b[0mdata\u001b[0m\u001b[1;33m,\u001b[0m \u001b[0mvariable_name\u001b[0m\u001b[1;33m,\u001b[0m \u001b[0mSSE\u001b[0m\u001b[1;33m,\u001b[0m \u001b[0mtee\u001b[0m\u001b[1;33m=\u001b[0m\u001b[1;32mTrue\u001b[0m\u001b[1;33m)\u001b[0m\u001b[1;33m\u001b[0m\u001b[1;33m\u001b[0m\u001b[0m\n\u001b[0;32m    121\u001b[0m \u001b[1;33m\u001b[0m\u001b[0m\n\u001b[1;32m--> 122\u001b[1;33m     \u001b[0mobj_value\u001b[0m\u001b[1;33m,\u001b[0m \u001b[0mparameters\u001b[0m \u001b[1;33m=\u001b[0m \u001b[0mpest\u001b[0m\u001b[1;33m.\u001b[0m\u001b[0mtheta_est\u001b[0m\u001b[1;33m(\u001b[0m\u001b[1;33m)\u001b[0m\u001b[1;33m\u001b[0m\u001b[1;33m\u001b[0m\u001b[0m\n\u001b[0m\u001b[0;32m    123\u001b[0m \u001b[1;33m\u001b[0m\u001b[0m\n\u001b[0;32m    124\u001b[0m     \u001b[0mprint_params\u001b[0m\u001b[1;33m(\u001b[0m\u001b[0mobj_value\u001b[0m\u001b[1;33m,\u001b[0m \u001b[0mparameters\u001b[0m\u001b[1;33m)\u001b[0m\u001b[1;33m\u001b[0m\u001b[1;33m\u001b[0m\u001b[0m\n",
      "\u001b[1;32mc:\\users\\gfrancoh\\anaconda3\\envs\\idaes\\lib\\site-packages\\pyomo\\contrib\\parmest\\parmest.py\u001b[0m in \u001b[0;36mtheta_est\u001b[1;34m(self, solver, return_values, bootlist, calc_cov)\u001b[0m\n\u001b[0;32m    833\u001b[0m         \u001b[1;32massert\u001b[0m \u001b[0misinstance\u001b[0m\u001b[1;33m(\u001b[0m\u001b[0mbootlist\u001b[0m\u001b[1;33m,\u001b[0m \u001b[1;33m(\u001b[0m\u001b[0mtype\u001b[0m\u001b[1;33m(\u001b[0m\u001b[1;32mNone\u001b[0m\u001b[1;33m)\u001b[0m\u001b[1;33m,\u001b[0m \u001b[0mlist\u001b[0m\u001b[1;33m)\u001b[0m\u001b[1;33m)\u001b[0m\u001b[1;33m\u001b[0m\u001b[1;33m\u001b[0m\u001b[0m\n\u001b[0;32m    834\u001b[0m \u001b[1;33m\u001b[0m\u001b[0m\n\u001b[1;32m--> 835\u001b[1;33m         return self._Q_opt(solver=solver, return_values=return_values,\n\u001b[0m\u001b[0;32m    836\u001b[0m                            bootlist=bootlist, calc_cov=calc_cov)\n\u001b[0;32m    837\u001b[0m \u001b[1;33m\u001b[0m\u001b[0m\n",
      "\u001b[1;32mc:\\users\\gfrancoh\\anaconda3\\envs\\idaes\\lib\\site-packages\\pyomo\\contrib\\parmest\\parmest.py\u001b[0m in \u001b[0;36m_Q_opt\u001b[1;34m(self, ThetaVals, solver, return_values, bootlist, calc_cov)\u001b[0m\n\u001b[0;32m    487\u001b[0m             \u001b[0m_cuidver\u001b[0m \u001b[1;33m=\u001b[0m \u001b[0mtree_structure\u001b[0m\u001b[1;33m.\u001b[0m\u001b[0mCUID_repr_version\u001b[0m\u001b[1;33m\u001b[0m\u001b[1;33m\u001b[0m\u001b[0m\n\u001b[0;32m    488\u001b[0m             \u001b[0mtree_structure\u001b[0m\u001b[1;33m.\u001b[0m\u001b[0mCUID_repr_version\u001b[0m \u001b[1;33m=\u001b[0m \u001b[1;36m2\u001b[0m\u001b[1;33m\u001b[0m\u001b[1;33m\u001b[0m\u001b[0m\n\u001b[1;32m--> 489\u001b[1;33m             stsolver = st.StochSolver(\n\u001b[0m\u001b[0;32m    490\u001b[0m                 \u001b[0mfsfile\u001b[0m \u001b[1;33m=\u001b[0m \u001b[1;34m\"pyomo.contrib.parmest.parmest\"\u001b[0m\u001b[1;33m,\u001b[0m\u001b[1;33m\u001b[0m\u001b[1;33m\u001b[0m\u001b[0m\n\u001b[0;32m    491\u001b[0m                 \u001b[0mfsfct\u001b[0m \u001b[1;33m=\u001b[0m \u001b[1;34m\"_pysp_instance_creation_callback\"\u001b[0m\u001b[1;33m,\u001b[0m\u001b[1;33m\u001b[0m\u001b[1;33m\u001b[0m\u001b[0m\n",
      "\u001b[1;32mc:\\users\\gfrancoh\\anaconda3\\envs\\idaes\\lib\\site-packages\\pyomo\\pysp\\util\\rapper.py\u001b[0m in \u001b[0;36m__init__\u001b[1;34m(self, fsfile, fsfct, tree_model, phopts)\u001b[0m\n\u001b[0;32m    141\u001b[0m             \u001b[0mself\u001b[0m\u001b[1;33m.\u001b[0m\u001b[0mscenario_tree\u001b[0m \u001b[1;33m=\u001b[0m\u001b[0;31m \u001b[0m\u001b[0;31m\\\u001b[0m\u001b[1;33m\u001b[0m\u001b[1;33m\u001b[0m\u001b[0m\n\u001b[0;32m    142\u001b[0m                 \u001b[0mscenario_instance_factory\u001b[0m\u001b[1;33m.\u001b[0m\u001b[0mgenerate_scenario_tree\u001b[0m\u001b[1;33m(\u001b[0m\u001b[1;33m**\u001b[0m\u001b[0mkwargs\u001b[0m\u001b[1;33m)\u001b[0m \u001b[1;31m#verbose = True)\u001b[0m\u001b[1;33m\u001b[0m\u001b[1;33m\u001b[0m\u001b[0m\n\u001b[1;32m--> 143\u001b[1;33m             \u001b[0minstances\u001b[0m \u001b[1;33m=\u001b[0m \u001b[0mscenario_instance_factory\u001b[0m\u001b[1;33m.\u001b[0m\u001b[0;31m \u001b[0m\u001b[0;31m\\\u001b[0m\u001b[1;33m\u001b[0m\u001b[1;33m\u001b[0m\u001b[0m\n\u001b[0m\u001b[0;32m    144\u001b[0m                         \u001b[0mconstruct_instances_for_scenario_tree\u001b[0m\u001b[1;33m(\u001b[0m\u001b[0mself\u001b[0m\u001b[1;33m.\u001b[0m\u001b[0mscenario_tree\u001b[0m\u001b[1;33m)\u001b[0m\u001b[1;33m\u001b[0m\u001b[1;33m\u001b[0m\u001b[0m\n\u001b[0;32m    145\u001b[0m             \u001b[0mself\u001b[0m\u001b[1;33m.\u001b[0m\u001b[0mscenario_tree\u001b[0m\u001b[1;33m.\u001b[0m\u001b[0mlinkInInstances\u001b[0m\u001b[1;33m(\u001b[0m\u001b[0minstances\u001b[0m\u001b[1;33m)\u001b[0m\u001b[1;33m\u001b[0m\u001b[1;33m\u001b[0m\u001b[0m\n",
      "\u001b[1;32mc:\\users\\gfrancoh\\anaconda3\\envs\\idaes\\lib\\site-packages\\pyomo\\pysp\\scenariotree\\instance_factory.py\u001b[0m in \u001b[0;36mconstruct_instances_for_scenario_tree\u001b[1;34m(self, scenario_tree, profile_memory, output_instance_construction_time, compile_scenario_instances, verbose)\u001b[0m\n\u001b[0;32m    753\u001b[0m             \u001b[1;32mwith\u001b[0m \u001b[0mPauseGC\u001b[0m\u001b[1;33m(\u001b[0m\u001b[1;33m)\u001b[0m \u001b[1;32mas\u001b[0m \u001b[0mpgc\u001b[0m\u001b[1;33m:\u001b[0m\u001b[1;33m\u001b[0m\u001b[1;33m\u001b[0m\u001b[0m\n\u001b[0;32m    754\u001b[0m                 \u001b[0mscenario_instance\u001b[0m \u001b[1;33m=\u001b[0m\u001b[0;31m \u001b[0m\u001b[0;31m\\\u001b[0m\u001b[1;33m\u001b[0m\u001b[1;33m\u001b[0m\u001b[0m\n\u001b[1;32m--> 755\u001b[1;33m                     self.construct_scenario_instance(\n\u001b[0m\u001b[0;32m    756\u001b[0m                         \u001b[0mscenario\u001b[0m\u001b[1;33m.\u001b[0m\u001b[0m_name\u001b[0m\u001b[1;33m,\u001b[0m\u001b[1;33m\u001b[0m\u001b[1;33m\u001b[0m\u001b[0m\n\u001b[0;32m    757\u001b[0m                         \u001b[0mscenario_tree\u001b[0m\u001b[1;33m,\u001b[0m\u001b[1;33m\u001b[0m\u001b[1;33m\u001b[0m\u001b[0m\n",
      "\u001b[1;32mc:\\users\\gfrancoh\\anaconda3\\envs\\idaes\\lib\\site-packages\\pyomo\\pysp\\scenariotree\\instance_factory.py\u001b[0m in \u001b[0;36mconstruct_scenario_instance\u001b[1;34m(self, scenario_name, scenario_tree, profile_memory, output_instance_construction_time, compile_instance, verbose)\u001b[0m\n\u001b[0;32m    590\u001b[0m                         \u001b[1;31m# send the PySP scenario tree\u001b[0m\u001b[1;33m\u001b[0m\u001b[1;33m\u001b[0m\u001b[1;33m\u001b[0m\u001b[0m\n\u001b[0;32m    591\u001b[0m                         \u001b[0m_scenario_tree_arg\u001b[0m \u001b[1;33m=\u001b[0m \u001b[0mscenario_tree\u001b[0m\u001b[1;33m\u001b[0m\u001b[1;33m\u001b[0m\u001b[0m\n\u001b[1;32m--> 592\u001b[1;33m                     scenario_instance = self._model_callback(_scenario_tree_arg,\n\u001b[0m\u001b[0;32m    593\u001b[0m                                                              \u001b[0mscenario_name\u001b[0m\u001b[1;33m,\u001b[0m\u001b[1;33m\u001b[0m\u001b[1;33m\u001b[0m\u001b[0m\n\u001b[0;32m    594\u001b[0m                                                              node_name_list)\n",
      "\u001b[1;32mc:\\users\\gfrancoh\\anaconda3\\envs\\idaes\\lib\\site-packages\\pyomo\\contrib\\parmest\\parmest.py\u001b[0m in \u001b[0;36m_pysp_instance_creation_callback\u001b[1;34m(scenario_tree_model, scenario_name, node_names)\u001b[0m\n\u001b[0;32m    208\u001b[0m     \u001b[1;31m# at least three signatures are supported. The first is preferred\u001b[0m\u001b[1;33m\u001b[0m\u001b[1;33m\u001b[0m\u001b[1;33m\u001b[0m\u001b[0m\n\u001b[0;32m    209\u001b[0m     \u001b[1;32mtry\u001b[0m\u001b[1;33m:\u001b[0m\u001b[1;33m\u001b[0m\u001b[1;33m\u001b[0m\u001b[0m\n\u001b[1;32m--> 210\u001b[1;33m         \u001b[0minstance\u001b[0m \u001b[1;33m=\u001b[0m \u001b[0mcallback\u001b[0m\u001b[1;33m(\u001b[0m\u001b[0mexperiment_number\u001b[0m \u001b[1;33m=\u001b[0m \u001b[0mexp_num\u001b[0m\u001b[1;33m,\u001b[0m \u001b[0mcb_data\u001b[0m \u001b[1;33m=\u001b[0m \u001b[0mcb_data\u001b[0m\u001b[1;33m)\u001b[0m\u001b[1;33m\u001b[0m\u001b[1;33m\u001b[0m\u001b[0m\n\u001b[0m\u001b[0;32m    211\u001b[0m     \u001b[1;32mexcept\u001b[0m \u001b[0mTypeError\u001b[0m\u001b[1;33m:\u001b[0m\u001b[1;33m\u001b[0m\u001b[1;33m\u001b[0m\u001b[0m\n\u001b[0;32m    212\u001b[0m         \u001b[1;32mtry\u001b[0m\u001b[1;33m:\u001b[0m\u001b[1;33m\u001b[0m\u001b[1;33m\u001b[0m\u001b[0m\n",
      "\u001b[1;32mc:\\users\\gfrancoh\\anaconda3\\envs\\idaes\\lib\\site-packages\\pyomo\\contrib\\parmest\\parmest.py\u001b[0m in \u001b[0;36m_instance_creation_callback\u001b[1;34m(self, experiment_number, cb_data)\u001b[0m\n\u001b[0;32m    437\u001b[0m             \u001b[0mprint\u001b[0m\u001b[1;33m(\u001b[0m\u001b[1;34m'Unexpected data format'\u001b[0m\u001b[1;33m)\u001b[0m\u001b[1;33m\u001b[0m\u001b[1;33m\u001b[0m\u001b[0m\n\u001b[0;32m    438\u001b[0m             \u001b[1;32mreturn\u001b[0m\u001b[1;33m\u001b[0m\u001b[1;33m\u001b[0m\u001b[0m\n\u001b[1;32m--> 439\u001b[1;33m         \u001b[0mmodel\u001b[0m \u001b[1;33m=\u001b[0m \u001b[0mself\u001b[0m\u001b[1;33m.\u001b[0m\u001b[0m_create_parmest_model\u001b[0m\u001b[1;33m(\u001b[0m\u001b[0mexp_data\u001b[0m\u001b[1;33m)\u001b[0m\u001b[1;33m\u001b[0m\u001b[1;33m\u001b[0m\u001b[0m\n\u001b[0m\u001b[0;32m    440\u001b[0m \u001b[1;33m\u001b[0m\u001b[0m\n\u001b[0;32m    441\u001b[0m         \u001b[1;32mreturn\u001b[0m \u001b[0mmodel\u001b[0m\u001b[1;33m\u001b[0m\u001b[1;33m\u001b[0m\u001b[0m\n",
      "\u001b[1;32mc:\\users\\gfrancoh\\anaconda3\\envs\\idaes\\lib\\site-packages\\pyomo\\contrib\\parmest\\parmest.py\u001b[0m in \u001b[0;36m_create_parmest_model\u001b[1;34m(self, data)\u001b[0m\n\u001b[0;32m    369\u001b[0m         \u001b[1;32mfrom\u001b[0m \u001b[0mpyomo\u001b[0m\u001b[1;33m.\u001b[0m\u001b[0mcore\u001b[0m \u001b[1;32mimport\u001b[0m \u001b[0mObjective\u001b[0m\u001b[1;33m\u001b[0m\u001b[1;33m\u001b[0m\u001b[0m\n\u001b[0;32m    370\u001b[0m \u001b[1;33m\u001b[0m\u001b[0m\n\u001b[1;32m--> 371\u001b[1;33m         \u001b[0mmodel\u001b[0m \u001b[1;33m=\u001b[0m \u001b[0mself\u001b[0m\u001b[1;33m.\u001b[0m\u001b[0mmodel_function\u001b[0m\u001b[1;33m(\u001b[0m\u001b[0mdata\u001b[0m\u001b[1;33m)\u001b[0m\u001b[1;33m\u001b[0m\u001b[1;33m\u001b[0m\u001b[0m\n\u001b[0m\u001b[0;32m    372\u001b[0m \u001b[1;33m\u001b[0m\u001b[0m\n\u001b[0;32m    373\u001b[0m         \u001b[1;32mif\u001b[0m \u001b[1;33m(\u001b[0m\u001b[0mlen\u001b[0m\u001b[1;33m(\u001b[0m\u001b[0mself\u001b[0m\u001b[1;33m.\u001b[0m\u001b[0mtheta_names\u001b[0m\u001b[1;33m)\u001b[0m \u001b[1;33m==\u001b[0m \u001b[1;36m1\u001b[0m\u001b[1;33m)\u001b[0m \u001b[1;32mand\u001b[0m \u001b[1;33m(\u001b[0m\u001b[0mself\u001b[0m\u001b[1;33m.\u001b[0m\u001b[0mtheta_names\u001b[0m\u001b[1;33m[\u001b[0m\u001b[1;36m0\u001b[0m\u001b[1;33m]\u001b[0m \u001b[1;33m==\u001b[0m \u001b[1;34m'parmest_dummy_var'\u001b[0m\u001b[1;33m)\u001b[0m\u001b[1;33m:\u001b[0m\u001b[1;33m\u001b[0m\u001b[1;33m\u001b[0m\u001b[0m\n",
      "\u001b[1;32m~\\Documents\\GitHub\\extractive-distillation2\\binary_param2.py\u001b[0m in \u001b[0;36mPR_model\u001b[1;34m(data)\u001b[0m\n\u001b[0;32m     78\u001b[0m \u001b[1;33m\u001b[0m\u001b[0m\n\u001b[0;32m     79\u001b[0m         \u001b[1;31m# Initialize the flash unit\u001b[0m\u001b[1;33m\u001b[0m\u001b[1;33m\u001b[0m\u001b[1;33m\u001b[0m\u001b[0m\n\u001b[1;32m---> 80\u001b[1;33m         \u001b[0mm\u001b[0m\u001b[1;33m.\u001b[0m\u001b[0mfs\u001b[0m\u001b[1;33m.\u001b[0m\u001b[0mstate_block\u001b[0m\u001b[1;33m.\u001b[0m\u001b[0minitialize\u001b[0m\u001b[1;33m(\u001b[0m\u001b[0moutlvl\u001b[0m\u001b[1;33m=\u001b[0m\u001b[0midaeslog\u001b[0m\u001b[1;33m.\u001b[0m\u001b[0mCRITICAL\u001b[0m\u001b[1;33m)\u001b[0m\u001b[1;33m\u001b[0m\u001b[1;33m\u001b[0m\u001b[0m\n\u001b[0m\u001b[0;32m     81\u001b[0m \u001b[1;33m\u001b[0m\u001b[0m\n\u001b[0;32m     82\u001b[0m         \u001b[1;31m# Fix the state variables on the state block\u001b[0m\u001b[1;33m\u001b[0m\u001b[1;33m\u001b[0m\u001b[1;33m\u001b[0m\u001b[0m\n",
      "\u001b[1;32mc:\\users\\gfrancoh\\documents\\github\\idaes-pse-main\\idaes\\generic_models\\properties\\core\\generic\\generic_property.py\u001b[0m in \u001b[0;36minitialize\u001b[1;34m(blk, state_args, state_vars_fixed, hold_state, outlvl, solver, optarg)\u001b[0m\n\u001b[0;32m   1342\u001b[0m         \u001b[1;32mif\u001b[0m \u001b[0mn_cons\u001b[0m \u001b[1;33m>\u001b[0m \u001b[1;36m0\u001b[0m \u001b[1;32mand\u001b[0m \u001b[1;32mnot\u001b[0m \u001b[0mskip\u001b[0m\u001b[1;33m:\u001b[0m\u001b[1;33m\u001b[0m\u001b[1;33m\u001b[0m\u001b[0m\n\u001b[0;32m   1343\u001b[0m             \u001b[1;32mwith\u001b[0m \u001b[0midaeslog\u001b[0m\u001b[1;33m.\u001b[0m\u001b[0msolver_log\u001b[0m\u001b[1;33m(\u001b[0m\u001b[0msolve_log\u001b[0m\u001b[1;33m,\u001b[0m \u001b[0midaeslog\u001b[0m\u001b[1;33m.\u001b[0m\u001b[0mDEBUG\u001b[0m\u001b[1;33m)\u001b[0m \u001b[1;32mas\u001b[0m \u001b[0mslc\u001b[0m\u001b[1;33m:\u001b[0m\u001b[1;33m\u001b[0m\u001b[1;33m\u001b[0m\u001b[0m\n\u001b[1;32m-> 1344\u001b[1;33m                 \u001b[0mres\u001b[0m \u001b[1;33m=\u001b[0m \u001b[0msolve_indexed_blocks\u001b[0m\u001b[1;33m(\u001b[0m\u001b[0mopt\u001b[0m\u001b[1;33m,\u001b[0m \u001b[1;33m[\u001b[0m\u001b[0mblk\u001b[0m\u001b[1;33m]\u001b[0m\u001b[1;33m,\u001b[0m \u001b[0mtee\u001b[0m\u001b[1;33m=\u001b[0m\u001b[0mslc\u001b[0m\u001b[1;33m.\u001b[0m\u001b[0mtee\u001b[0m\u001b[1;33m)\u001b[0m\u001b[1;33m\u001b[0m\u001b[1;33m\u001b[0m\u001b[0m\n\u001b[0m\u001b[0;32m   1345\u001b[0m             init_log.info(\"Property initialization: {}.\".format(\n\u001b[0;32m   1346\u001b[0m                 idaeslog.condition(res))\n",
      "\u001b[1;32mc:\\users\\gfrancoh\\documents\\github\\idaes-pse-main\\idaes\\core\\util\\initialization.py\u001b[0m in \u001b[0;36msolve_indexed_blocks\u001b[1;34m(solver, blocks, **kwds)\u001b[0m\n\u001b[0;32m    204\u001b[0m \u001b[1;33m\u001b[0m\u001b[0m\n\u001b[0;32m    205\u001b[0m         \u001b[1;31m# Solve temporary Block\u001b[0m\u001b[1;33m\u001b[0m\u001b[1;33m\u001b[0m\u001b[1;33m\u001b[0m\u001b[0m\n\u001b[1;32m--> 206\u001b[1;33m         \u001b[0mresults\u001b[0m \u001b[1;33m=\u001b[0m \u001b[0msolver\u001b[0m\u001b[1;33m.\u001b[0m\u001b[0msolve\u001b[0m\u001b[1;33m(\u001b[0m\u001b[0mtmp\u001b[0m\u001b[1;33m,\u001b[0m \u001b[1;33m**\u001b[0m\u001b[0mkwds\u001b[0m\u001b[1;33m)\u001b[0m\u001b[1;33m\u001b[0m\u001b[1;33m\u001b[0m\u001b[0m\n\u001b[0m\u001b[0;32m    207\u001b[0m \u001b[1;33m\u001b[0m\u001b[0m\n\u001b[0;32m    208\u001b[0m     \u001b[1;32mfinally\u001b[0m\u001b[1;33m:\u001b[0m\u001b[1;33m\u001b[0m\u001b[1;33m\u001b[0m\u001b[0m\n",
      "\u001b[1;32mc:\\users\\gfrancoh\\anaconda3\\envs\\idaes\\lib\\site-packages\\pyomo\\opt\\base\\solvers.py\u001b[0m in \u001b[0;36msolve\u001b[1;34m(self, *args, **kwds)\u001b[0m\n\u001b[0;32m    630\u001b[0m                 \u001b[1;32melse\u001b[0m\u001b[1;33m:\u001b[0m\u001b[1;33m\u001b[0m\u001b[1;33m\u001b[0m\u001b[0m\n\u001b[0;32m    631\u001b[0m                     \u001b[1;32mif\u001b[0m \u001b[0mself\u001b[0m\u001b[1;33m.\u001b[0m\u001b[0m_load_solutions\u001b[0m\u001b[1;33m:\u001b[0m\u001b[1;33m\u001b[0m\u001b[1;33m\u001b[0m\u001b[0m\n\u001b[1;32m--> 632\u001b[1;33m                         _model.solutions.load_from(\n\u001b[0m\u001b[0;32m    633\u001b[0m                             \u001b[0mresult\u001b[0m\u001b[1;33m,\u001b[0m\u001b[1;33m\u001b[0m\u001b[1;33m\u001b[0m\u001b[0m\n\u001b[0;32m    634\u001b[0m                             \u001b[0mselect\u001b[0m\u001b[1;33m=\u001b[0m\u001b[0mself\u001b[0m\u001b[1;33m.\u001b[0m\u001b[0m_select_index\u001b[0m\u001b[1;33m,\u001b[0m\u001b[1;33m\u001b[0m\u001b[1;33m\u001b[0m\u001b[0m\n",
      "\u001b[1;32mc:\\users\\gfrancoh\\anaconda3\\envs\\idaes\\lib\\site-packages\\pyomo\\core\\base\\PyomoModel.py\u001b[0m in \u001b[0;36mload_from\u001b[1;34m(self, results, allow_consistent_values_for_fixed_vars, comparison_tolerance_for_fixed_vars, ignore_invalid_labels, id, delete_symbol_map, clear, default_variable_value, select, ignore_fixed_vars)\u001b[0m\n\u001b[0;32m    234\u001b[0m                     \"an 'aborted' status, but containing a solution\")\n\u001b[0;32m    235\u001b[0m             \u001b[1;32melse\u001b[0m\u001b[1;33m:\u001b[0m\u001b[1;33m\u001b[0m\u001b[1;33m\u001b[0m\u001b[0m\n\u001b[1;32m--> 236\u001b[1;33m                 raise ValueError(\"Cannot load a SolverResults object \"\n\u001b[0m\u001b[0;32m    237\u001b[0m                                  \u001b[1;34m\"with bad status: %s\"\u001b[0m\u001b[1;33m\u001b[0m\u001b[1;33m\u001b[0m\u001b[0m\n\u001b[0;32m    238\u001b[0m                                  % str(results.solver.status))\n",
      "\u001b[1;31mValueError\u001b[0m: Cannot load a SolverResults object with bad status: error"
     ]
    }
   ],
   "source": [
    "# from HFC32_emimTf2N_PR import configuration\n",
    "binary_params_peng('R125_bmimBF4.csv', configuration, 'R125', 'bmimBF4', \"x_R125\", \"x_bmimBF4\", \n",
    "    init_temp = 298.2, init_press = 799600, init_x_c1 = 0.261 , init_x_c2 = 0.739 ,\n",
    "    init_kappa_2_1 = 0.5, init_kappa_1_2 = 0.5, eps = 0.1, scaling_fac = 1e-9)"
   ]
  },
  {
   "cell_type": "code",
   "execution_count": 15,
   "id": "third-gallery",
   "metadata": {},
   "outputs": [
    {
     "name": "stdout",
     "output_type": "stream",
     "text": [
      "2021-03-28 19:24:00 [INFO] idaes.generic_models.properties.core.generic.generic_property: DEPRECATED - definiton of generic property packages is moving to using static classes instead of modules. Please refer to the IDAES documentation.\n",
      "The initial DOF is 7\n"
     ]
    }
   ],
   "source": [
    "m = ConcreteModel()\n",
    "m.fs = FlowsheetBlock(default={\"dynamic\": False})\n",
    "m.fs.properties = GenericParameterBlock(default=configuration)\n",
    "m.fs.F101 = Flash(default={\"property_package\": m.fs.properties,\n",
    "                           \"has_heat_transfer\": True,\n",
    "                           \"has_pressure_change\": True})\n",
    "DOF_initial = degrees_of_freedom(m)\n",
    "print('The initial DOF is {0}'.format(DOF_initial))"
   ]
  },
  {
   "cell_type": "code",
   "execution_count": null,
   "id": "widespread-freight",
   "metadata": {},
   "outputs": [],
   "source": []
  }
 ],
 "metadata": {
  "kernelspec": {
   "display_name": "Python 3",
   "language": "python",
   "name": "python3"
  },
  "language_info": {
   "codemirror_mode": {
    "name": "ipython",
    "version": 3
   },
   "file_extension": ".py",
   "mimetype": "text/x-python",
   "name": "python",
   "nbconvert_exporter": "python",
   "pygments_lexer": "ipython3",
   "version": "3.9.2"
  }
 },
 "nbformat": 4,
 "nbformat_minor": 5
}
