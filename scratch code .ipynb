{
 "cells": [
  {
   "cell_type": "code",
   "execution_count": 1,
   "id": "standard-appreciation",
   "metadata": {},
   "outputs": [],
   "source": [
    "# import functions\n",
    "import idaes\n",
    "import matplotlib.pyplot as plt\n",
    "import pandas as pd\n",
    "import numpy as np\n",
    "from pyomo.environ import (Constraint,\n",
    "                           Var,\n",
    "                           ConcreteModel,\n",
    "                           Expression,\n",
    "                           Param,\n",
    "                           Objective,\n",
    "                           SolverFactory,\n",
    "                           TransformationFactory,\n",
    "                           value)\n",
    "\n",
    "from idaes.core import FlowsheetBlock\n",
    "import idaes.logger as idaeslog\n",
    "from pyomo.opt import TerminationCondition, SolverStatus\n",
    "# Import the Generic Parameter Block\n",
    "from idaes.generic_models.properties.core.generic.generic_property import (\n",
    "        GenericParameterBlock)\n",
    "# Import unit models from the model library\n",
    "from idaes.generic_models.unit_models import Flash\n",
    "# Import degrees of freedom tool\n",
    "from idaes.core.util.model_statistics import degrees_of_freedom\n",
    "# import HFC_IL mixture properties\n",
    "from HFC32_emimTf2N_PR import configuration"
   ]
  },
  {
   "cell_type": "markdown",
   "id": "variable-blackjack",
   "metadata": {},
   "source": [
    "# Create flash model"
   ]
  },
  {
   "cell_type": "code",
   "execution_count": 2,
   "id": "sophisticated-visibility",
   "metadata": {},
   "outputs": [
    {
     "name": "stdout",
     "output_type": "stream",
     "text": [
      "2021-03-16 14:01:33 [INFO] idaes.generic_models.properties.core.generic.generic_property: DEPRECATED - definiton of generic property packages is moving to using static classes instead of modules. Please refer to the IDAES documentation.\n",
      "The initial DOF is 7\n"
     ]
    }
   ],
   "source": [
    "m = ConcreteModel()\n",
    "m.fs = FlowsheetBlock(default={\"dynamic\": False})\n",
    "m.fs.properties = GenericParameterBlock(default=configuration)\n",
    "m.fs.F101 = Flash(default={\"property_package\": m.fs.properties,\n",
    "                           \"has_heat_transfer\": True,\n",
    "                           \"has_pressure_change\": True})\n",
    "DOF_initial = degrees_of_freedom(m)\n",
    "print('The initial DOF is {0}'.format(DOF_initial))"
   ]
  },
  {
   "cell_type": "code",
   "execution_count": 3,
   "id": "civic-therapy",
   "metadata": {},
   "outputs": [
    {
     "name": "stdout",
     "output_type": "stream",
     "text": [
      "8\n"
     ]
    }
   ],
   "source": [
    "# Read data\n",
    "data = pd.read_csv('R32_emimTf2N.csv')\n",
    "data_283= data[0:7]\n",
    "data_298 = data[7:15]\n",
    "data_323 = data[15:23]\n",
    "data_348 = data[23:31]\n",
    "print(len(data_298))\n",
    "# print(data_298)"
   ]
  },
  {
   "cell_type": "markdown",
   "id": "oriented-profile",
   "metadata": {},
   "source": [
    "## code for diff kappas"
   ]
  },
  {
   "cell_type": "code",
   "execution_count": null,
   "id": "closed-entity",
   "metadata": {},
   "outputs": [],
   "source": [
    "# initialize arrays for x and P\n",
    "\n",
    "def calc_outlet_xP(data,k21,k12):\n",
    "    R32_x = np.zeros((len(data)))\n",
    "    P = np.zeros((len(data)))\n",
    "    \n",
    "    m.fs.liq = Param(mutable=True,default=0.040)\n",
    "    m.fs.liquid = Constraint(expr=m.fs.F101.liq_outlet.mole_frac_comp[0, \"emimTf2N\"] == m.fs.liq)\n",
    "\n",
    "    for i in range(len(data)):\n",
    "        m.fs.liq = data[\"x_emimTf2N\"].iloc[i]\n",
    "        m.fs.F101.inlet.flow_mol.fix(1) \n",
    "        m.fs.F101.inlet.temperature.fix(float(data[\"temperature\"].iloc[i]))\n",
    "        m.fs.F101.inlet.pressure.fix(float(data[\"pressure\"].iloc[i]))\n",
    "        m.fs.F101.inlet.mole_frac_comp[0,'R32'].fix(float(data[\"x_R32\"].iloc[i])+0.1)\n",
    "        m.fs.F101.inlet.mole_frac_comp[0,'emimTf2N'].fix(float(1-(data[\"x_R32\"].iloc[i]+0.1)))\n",
    "        m.fs.F101.vap_outlet.temperature.fix(float(data[\"temperature\"].iloc[i]))\n",
    "        m.fs.properties.PR_kappa['emimTf2N', 'R32'].fix(k21) # (-0.20093)\n",
    "        m.fs.properties.PR_kappa['R32', 'emimTf2N'].fix(k12) # (-0.05619)\n",
    "\n",
    "#         DOF_final = degrees_of_freedom(m)\n",
    "#         print(\"The final DOF is {0}\".format(DOF_final))\n",
    "\n",
    "        # solver\n",
    "        m.fs.F101.initialize(outlvl=idaeslog.CRITICAL)\n",
    "        solver = SolverFactory('ipopt')\n",
    "        solver.options = {'tol': 1e-6}\n",
    "        status = solver.solve(m, tee = False)\n",
    "    #     m.fs.F101.report()\n",
    "        if (status.solver.status == SolverStatus.ok) and (status.solver.termination_condition == TerminationCondition.optimal):\n",
    "            R32_x[i] = value(m.fs.F101.liq_outlet.mole_frac_comp[0,'R32']) \n",
    "            P[i] = value(m.fs.F101.vap_outlet.pressure[0])\n",
    "        else:\n",
    "            print('Infeasible.')\n",
    "    return(R32_x,P)"
   ]
  },
  {
   "cell_type": "code",
   "execution_count": null,
   "id": "altered-aurora",
   "metadata": {},
   "outputs": [],
   "source": [
    "kappa21= np.array([-0.200,-0.30,-0.40,-0.5])\n",
    "kappa12= np.array([-0.056,-0.066,-0.076,-0.086])\n",
    "\n",
    "# plot function to see if it works - works when i store value, plot, store value 2, plot 2 etc\n",
    "def plot_sens_analysis(data,kappa21,kappa12):\n",
    "    \n",
    "    for i in range(len(kappa21)):\n",
    "        for j in range(len(kappa12)):\n",
    "            x1,P1 = calc_outlet_xP(data, kappa21[i],kappa12[j])\n",
    "            \n",
    "            \n",
    "    x1,P1= calc_outlet_xP(data, kappa21[0],kappa12[0])\n",
    "    plt.plot(x1,P1,\"b+-\",label=\"K21=-0.2, K12=-0.056\")\n",
    "    x2,P2= calc_outlet_xP(data,kappa21[0],kappa12[1])\n",
    "    plt.plot(x2,P2,\"g+\",label=\"K21=-0.2, K12=-0.066\")\n",
    "    x3,P3= calc_outlet_xP(data,kappa21[0],kappa12[2])\n",
    "    plt.plot(x3,P3,\"m+\",label=\"K21=-0.2, K12=-0.076\")\n",
    "    x4,P4= calc_outlet_xP(data,kappa21[0],kappa12[3])\n",
    "    plt.plot(x4,P4,\"c+\",label=\"K21=-0.2, K12=-0.086\")\n",
    "    x5,P5= calc_outlet_xP(data,kappa21[1],kappa12[0])\n",
    "    plt.plot(x5,P5,\"b*\",label=\"K21=-0.3, K12=-0.056\")\n",
    "    x6,P6= calc_outlet_xP(data,kappa21[1],kappa12[1])\n",
    "    plt.plot(x6,P6,\"g*\",label=\"K21=-0.3, K12=-0.066\")\n",
    "    x7,P7= calc_outlet_xP(data,kappa21[1],kappa12[2])\n",
    "    plt.plot(x7,P7,\"m*\",label=\"K21=-0.3, K12=-0.076\")\n",
    "    x8,P8= calc_outlet_xP(data,kappa21[1],kappa12[3])\n",
    "    plt.plot(x8,P8,\"c*\",label=\"K21=-0.3, K12=-0.086\")\n",
    "    x9,P9= calc_outlet_xP(data,kappa21[2],kappa12[0])\n",
    "    plt.plot(x9,P9,\"b^\",label=\"K21=-0.4, K12=-0.056\")\n",
    "    x10,P10= calc_outlet_xP(data,kappa21[2],kappa12[1])\n",
    "    plt.plot(x10,P10,\"g^\",label=\"K21=-0.4, K12=-0.066\")\n",
    "    x11,P11= calc_outlet_xP(data,kappa21[2],kappa12[2])\n",
    "    plt.plot(x11,P11,\"m^\",label=\"K21=-0.4, K12=-0.076\")\n",
    "    x12,P12= calc_outlet_xP(data,kappa21[2],kappa12[3])\n",
    "    plt.plot(x12,P12,\"c^\",label=\"K21=-0.4, K12=-0.086\")\n",
    "    # plot data and configuration\n",
    "    plt.plot(data[\"x_R32\"],data[\"pressure\"],\"r.\",label=\"data\")  \n",
    "    plt.title('Isotherm [R32][emimTF2N] at T=?')\n",
    "    plt.ylabel('Pressure (Pa)')\n",
    "    plt.xlabel('x R32')\n",
    "    plt.grid(True)\n",
    "    plt.legend()\n",
    "    plt.show()"
   ]
  },
  {
   "cell_type": "code",
   "execution_count": null,
   "id": "bibliographic-yorkshire",
   "metadata": {},
   "outputs": [],
   "source": [
    "# Read data\n",
    "data = pd.read_csv('R32_emimTf2N.csv')\n",
    "data_283= data[0:7]\n",
    "data_298 = data[7:15]\n",
    "data_323 = data[15:23]\n",
    "data_348 = data[23:31]\n",
    "\n",
    "\n",
    "kappa21= np.array([-0.200,-0.30,-0.40,-0.5])\n",
    "kappa12= np.array([-0.056,-0.066,-0.076,-0.086])\n",
    "plot_sens_analysis(data,kappa21,kappa12)"
   ]
  },
  {
   "cell_type": "markdown",
   "id": "surprising-accounting",
   "metadata": {},
   "source": [
    "# try to make plot function for loop"
   ]
  },
  {
   "cell_type": "code",
   "execution_count": 4,
   "id": "mechanical-county",
   "metadata": {},
   "outputs": [
    {
     "name": "stdout",
     "output_type": "stream",
     "text": [
      "    temperature  pressure  x_R32  x_emimTf2N\n",
      "7        298.15      9600  0.010       0.990\n",
      "8        298.15     99800  0.095       0.905\n",
      "9        298.15    250200  0.218       0.782\n",
      "10       298.15    399400  0.325       0.675\n",
      "11       298.15    549400  0.417       0.583\n",
      "12       298.15    699500  0.499       0.501\n",
      "13       298.15    849500  0.570       0.430\n",
      "14       298.15    999700  0.643       0.357\n"
     ]
    }
   ],
   "source": [
    "# Read data\n",
    "import pandas as pd\n",
    "data = pd.read_csv('R32_emimTf2N.csv')\n",
    "data_283= data[0:7]\n",
    "data_298 = data[7:15]\n",
    "data_323 = data[15:23]\n",
    "data_348 = data[23:31]\n",
    "print(data_298)"
   ]
  },
  {
   "cell_type": "code",
   "execution_count": 5,
   "id": "mysterious-matter",
   "metadata": {},
   "outputs": [],
   "source": [
    "def calc_outlet_xP(data,k21,k12):\n",
    "    # create zeros arrays to be filled with x1 and P1\n",
    "    R32_x = np.zeros((len(data)))\n",
    "    P = np.zeros((len(data)))\n",
    "    # model constraints\n",
    "    m.fs.liq = Param(mutable=True,default=0.040)\n",
    "    m.fs.liquid = Constraint(expr=m.fs.F101.liq_outlet.mole_frac_comp[0, \"emimTf2N\"] == m.fs.liq)\n",
    "\n",
    "    for i in range(len(data)):\n",
    "        m.fs.liq = data[\"x_emimTf2N\"].iloc[i]\n",
    "        m.fs.F101.inlet.flow_mol.fix(1) \n",
    "        m.fs.F101.inlet.temperature.fix(float(data[\"temperature\"].iloc[i]))\n",
    "        m.fs.F101.inlet.pressure.fix(float(data[\"pressure\"].iloc[i]))\n",
    "        m.fs.F101.inlet.mole_frac_comp[0,'R32'].fix(float(data[\"x_R32\"].iloc[i])+0.1)\n",
    "        m.fs.F101.inlet.mole_frac_comp[0,'emimTf2N'].fix(float(1-(data[\"x_R32\"].iloc[i]+0.1)))\n",
    "        m.fs.F101.vap_outlet.temperature.fix(float(data[\"temperature\"].iloc[i]))\n",
    "        m.fs.properties.PR_kappa['emimTf2N', 'R32'].fix(k21) # (-0.20093)\n",
    "        m.fs.properties.PR_kappa['R32', 'emimTf2N'].fix(k12) # (-0.05619)\n",
    "\n",
    "#         DOF_final = degrees_of_freedom(m)\n",
    "#         print(\"The final DOF is {0}\".format(DOF_final))\n",
    "\n",
    "        # solver\n",
    "        m.fs.F101.initialize(outlvl=idaeslog.CRITICAL)\n",
    "        solver = SolverFactory('ipopt')\n",
    "        solver.options = {'tol': 1e-6}\n",
    "        status = solver.solve(m, tee = False)\n",
    "    #     m.fs.F101.report()\n",
    "        if (status.solver.status == SolverStatus.ok) and (status.solver.termination_condition == TerminationCondition.optimal):\n",
    "            R32_x[i] = value(m.fs.F101.liq_outlet.mole_frac_comp[0,'R32']) \n",
    "            P[i] = value(m.fs.F101.vap_outlet.pressure[0])\n",
    "            \n",
    "            \n",
    "            \n",
    "        else:\n",
    "            print('Infeasible.')\n",
    "    return(R32_x,P)"
   ]
  },
  {
   "cell_type": "code",
   "execution_count": 7,
   "id": "declared-houston",
   "metadata": {},
   "outputs": [
    {
     "name": "stdout",
     "output_type": "stream",
     "text": [
      "WARNING: Implicitly replacing the Component attribute liq (type=<class\n",
      "    'pyomo.core.base.param.SimpleParam'>) on block fs with a new Component\n",
      "    (type=<class 'pyomo.core.base.param.SimpleParam'>). This is usually\n",
      "    indicative of a modelling error. To avoid this warning, use\n",
      "    block.del_component() and block.add_component().\n",
      "WARNING: Implicitly replacing the Component attribute liquid (type=<class\n",
      "    'pyomo.core.base.constraint.SimpleConstraint'>) on block fs with a new\n",
      "    Component (type=<class\n",
      "    'pyomo.core.base.constraint.AbstractSimpleConstraint'>). This is usually\n",
      "    indicative of a modelling error. To avoid this warning, use\n",
      "    block.del_component() and block.add_component().\n"
     ]
    },
    {
     "data": {
      "image/png": "[encoded data removed]",
      "text/plain": [
       "<Figure size 432x288 with 1 Axes>"
      ]
     },
     "metadata": {
      "needs_background": "light"
     },
     "output_type": "display_data"
    },
    {
     "name": "stdout",
     "output_type": "stream",
     "text": [
      "WARNING: Implicitly replacing the Component attribute liq (type=<class\n",
      "    'pyomo.core.base.param.SimpleParam'>) on block fs with a new Component\n",
      "    (type=<class 'pyomo.core.base.param.SimpleParam'>). This is usually\n",
      "    indicative of a modelling error. To avoid this warning, use\n",
      "    block.del_component() and block.add_component().\n",
      "WARNING: Implicitly replacing the Component attribute liquid (type=<class\n",
      "    'pyomo.core.base.constraint.SimpleConstraint'>) on block fs with a new\n",
      "    Component (type=<class\n",
      "    'pyomo.core.base.constraint.AbstractSimpleConstraint'>). This is usually\n",
      "    indicative of a modelling error. To avoid this warning, use\n",
      "    block.del_component() and block.add_component().\n"
     ]
    },
    {
     "data": {
      "image/png": "[encoded data removed]",
      "text/plain": [
       "<Figure size 432x288 with 1 Axes>"
      ]
     },
     "metadata": {
      "needs_background": "light"
     },
     "output_type": "display_data"
    },
    {
     "name": "stdout",
     "output_type": "stream",
     "text": [
      "WARNING: Implicitly replacing the Component attribute liq (type=<class\n",
      "    'pyomo.core.base.param.SimpleParam'>) on block fs with a new Component\n",
      "    (type=<class 'pyomo.core.base.param.SimpleParam'>). This is usually\n",
      "    indicative of a modelling error. To avoid this warning, use\n",
      "    block.del_component() and block.add_component().\n",
      "WARNING: Implicitly replacing the Component attribute liquid (type=<class\n",
      "    'pyomo.core.base.constraint.SimpleConstraint'>) on block fs with a new\n",
      "    Component (type=<class\n",
      "    'pyomo.core.base.constraint.AbstractSimpleConstraint'>). This is usually\n",
      "    indicative of a modelling error. To avoid this warning, use\n",
      "    block.del_component() and block.add_component().\n"
     ]
    },
    {
     "data": {
      "image/png": "[encoded data removed]",
      "text/plain": [
       "<Figure size 432x288 with 1 Axes>"
      ]
     },
     "metadata": {
      "needs_background": "light"
     },
     "output_type": "display_data"
    },
    {
     "name": "stdout",
     "output_type": "stream",
     "text": [
      "WARNING: Implicitly replacing the Component attribute liq (type=<class\n",
      "    'pyomo.core.base.param.SimpleParam'>) on block fs with a new Component\n",
      "    (type=<class 'pyomo.core.base.param.SimpleParam'>). This is usually\n",
      "    indicative of a modelling error. To avoid this warning, use\n",
      "    block.del_component() and block.add_component().\n",
      "WARNING: Implicitly replacing the Component attribute liquid (type=<class\n",
      "    'pyomo.core.base.constraint.SimpleConstraint'>) on block fs with a new\n",
      "    Component (type=<class\n",
      "    'pyomo.core.base.constraint.AbstractSimpleConstraint'>). This is usually\n",
      "    indicative of a modelling error. To avoid this warning, use\n",
      "    block.del_component() and block.add_component().\n"
     ]
    },
    {
     "data": {
      "image/png": "[encoded data removed]",
      "text/plain": [
       "<Figure size 432x288 with 1 Axes>"
      ]
     },
     "metadata": {
      "needs_background": "light"
     },
     "output_type": "display_data"
    }
   ],
   "source": [
    "# kappa21= np.array([-0.200,-0.30,-0.40,-0.5])\n",
    "# kappa12= np.array([-0.056,-0.066,-0.076,-0.086])\n",
    "kappa21= np.array([-0.200,-0.30])\n",
    "kappa12= np.array([-0.056,-0.066])\n",
    "# K21_label = ['K21=-0.2','K21=-0.3','K21=-0.4','K21=-0.5']\n",
    "# K12_label= ['K12=-0.056', 'K12=-0.066','K12=-0.076','K12=-0.086']\n",
    "K21_label = ['K21=-0.2','K21=-0.3']\n",
    "K12_label= ['K12=-0.056', 'K12=-0.066']\n",
    "# plot_sens_analysis(data_298,kappa21,kappa12, \"T=298 K\")\n",
    "\n",
    "# plot function to see if it works - works when i store value, plot, store value 2, plot 2 etc\n",
    "def plot_sens_analysis(data,kappa21,kappa12,T_label, K21_label, K12_label):\n",
    "    x1= np.array([[0,0,0,0,0,0,0,0],[0,0,0,0,0,0,0,0],[0,0,0,0,0,0,0,0],[0,0,0,0,0,0,0,0]])\n",
    "    P1= np.array([[0,0,0,0,0,0,0,0],[0,0,0,0,0,0,0,0],[0,0,0,0,0,0,0,0],[0,0,0,0,0,0,0,0]])\n",
    "    for i in range(len(kappa21)):\n",
    "        for j in range(len(kappa12)):\n",
    "            # store data\n",
    "            x1[i,:],P1[i,:]= calc_outlet_xP(data, kappa21[i],kappa12[j])\n",
    "            # plot data\n",
    "            plt.plot(x1[i,:],P1[i,:],label= (K21_label[i],K21_label[j]))\n",
    "             \n",
    "                \n",
    "                \n",
    "                \n",
    "                \n",
    "                \n",
    "                \n",
    "                \n",
    "                \n",
    "                \n",
    "                \n",
    "                \n",
    "            plt.plot(data[\"x_R32\"],data[\"pressure\"],\"r.\",label=\"data\")  \n",
    "            plt.title('Isotherm [R32][emimTF2N] at '+ T_label)\n",
    "            plt.ylabel('Pressure (Pa)')\n",
    "            plt.xlabel('x R32')\n",
    "            plt.grid(True)\n",
    "            plt.legend()\n",
    "            plt.show()\n",
    "plot_sens_analysis(data_298,kappa21,kappa12,\"T= 298 K\", K21_label, K12_label)        \n"
   ]
  },
  {
   "cell_type": "code",
   "execution_count": 18,
   "id": "cosmetic-walker",
   "metadata": {},
   "outputs": [
    {
     "name": "stdout",
     "output_type": "stream",
     "text": [
      "[[1, 2, 3], [4, 5, 6]]\n"
     ]
    },
    {
     "data": {
      "text/plain": [
       "array([[ 1,  2,  3, 45],\n",
       "       [ 4,  5,  6, 90]])"
      ]
     },
     "execution_count": 18,
     "metadata": {},
     "output_type": "execute_result"
    }
   ],
   "source": [
    "import numpy as np\n",
    "x1 = [[1,2,3],[4,5,6]]\n",
    "print(x1)\n",
    "np.append(x1, [[45],[90]],axis = 1)\n",
    "\n",
    "\n"
   ]
  },
  {
   "cell_type": "code",
   "execution_count": null,
   "id": "disciplinary-yellow",
   "metadata": {},
   "outputs": [],
   "source": []
  }
 ],
 "metadata": {
  "kernelspec": {
   "display_name": "Python 3",
   "language": "python",
   "name": "python3"
  },
  "language_info": {
   "codemirror_mode": {
    "name": "ipython",
    "version": 3
   },
   "file_extension": ".py",
   "mimetype": "text/x-python",
   "name": "python",
   "nbconvert_exporter": "python",
   "pygments_lexer": "ipython3",
   "version": "3.9.1"
  }
 },
 "nbformat": 4,
 "nbformat_minor": 5
}
