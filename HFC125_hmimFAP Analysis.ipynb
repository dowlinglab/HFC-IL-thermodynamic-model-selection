{
 "cells": [
  {
   "cell_type": "code",
   "execution_count": 1,
   "id": "adult-cisco",
   "metadata": {},
   "outputs": [],
   "source": [
    "# import functions\n",
    "import idaes\n",
    "import matplotlib.pyplot as plt\n",
    "import pandas as pd\n",
    "import numpy as np\n",
    "from pyomo.environ import (Constraint,\n",
    "                           Var,\n",
    "                           ConcreteModel,\n",
    "                           Expression,\n",
    "                           Param,\n",
    "                           Objective,\n",
    "                           SolverFactory,\n",
    "                           TransformationFactory,\n",
    "                           value)\n",
    "\n",
    "from idaes.core import FlowsheetBlock\n",
    "import idaes.logger as idaeslog\n",
    "from pyomo.opt import TerminationCondition, SolverStatus\n",
    "# Import the Generic Parameter Block\n",
    "from idaes.generic_models.properties.core.generic.generic_property import (\n",
    "        GenericParameterBlock)\n",
    "# Import unit models from the model library\n",
    "from idaes.generic_models.unit_models import Flash\n",
    "# Import degrees of freedom tool\n",
    "from idaes.core.util.model_statistics import degrees_of_freedom\n",
    "# parmest (binary_param2)\n",
    "from binary_param2 import binary_params_peng\n",
    "# import pressure and plot functions\n",
    "from binary_fitting_functions import calc_outlet_xP\n",
    "from binary_fitting_functions import plot_sens_analysis"
   ]
  },
  {
   "cell_type": "code",
   "execution_count": 2,
   "id": "comparable-cartridge",
   "metadata": {},
   "outputs": [],
   "source": [
    "# from HFC32_emimTf2N_PR import configuration\n",
    "from HFC125_hmimFAP_PR import configuration"
   ]
  },
  {
   "cell_type": "code",
   "execution_count": 3,
   "id": "manual-fruit",
   "metadata": {},
   "outputs": [],
   "source": [
    "#need to make excel csv for 125\n",
    "data = pd.read_csv('R125_hmimFAP.csv')\n",
    "# print(data)"
   ]
  },
  {
   "cell_type": "markdown",
   "id": "varied-reporter",
   "metadata": {},
   "source": [
    "# Create Model and Run Parmest"
   ]
  },
  {
   "cell_type": "code",
   "execution_count": 4,
   "id": "terminal-serial",
   "metadata": {},
   "outputs": [
    {
     "name": "stdout",
     "output_type": "stream",
     "text": [
      "2021-04-20 16:31:03 [INFO] idaes.generic_models.properties.core.generic.generic_property: DEPRECATED - definiton of generic property packages is moving to using static classes instead of modules. Please refer to the IDAES documentation.\n",
      "The initial DOF is 7\n"
     ]
    }
   ],
   "source": [
    "m = ConcreteModel()\n",
    "m.fs = FlowsheetBlock(default={\"dynamic\": False})\n",
    "m.fs.properties = GenericParameterBlock(default=configuration)\n",
    "m.fs.F101 = Flash(default={\"property_package\": m.fs.properties,\n",
    "                           \"has_heat_transfer\": True,\n",
    "                           \"has_pressure_change\": True})\n",
    "DOF_initial = degrees_of_freedom(m)\n",
    "print('The initial DOF is {0}'.format(DOF_initial))"
   ]
  },
  {
   "cell_type": "code",
   "execution_count": 5,
   "id": "controversial-moore",
   "metadata": {},
   "outputs": [
    {
     "name": "stdout",
     "output_type": "stream",
     "text": [
      "   temperature  pressure  x_R125  x_hmimFAP\n",
      "0       298.15     50000   0.038      0.962\n",
      "1       298.15    100000   0.074      0.926\n",
      "2       298.15    200000   0.142      0.858\n",
      "3       298.15    400000   0.267      0.733\n",
      "4       298.15    600000   0.380      0.620\n",
      "5       298.15    800000   0.482      0.518\n",
      "6       298.15   1000000   0.578      0.422\n"
     ]
    }
   ],
   "source": [
    "print(data)"
   ]
  },
  {
   "cell_type": "code",
   "execution_count": 6,
   "id": "absent-elite",
   "metadata": {},
   "outputs": [
    {
     "name": "stdout",
     "output_type": "stream",
     "text": [
      "2021-04-20 16:31:04 [INFO] idaes.generic_models.properties.core.generic.generic_property: DEPRECATED - definiton of generic property packages is moving to using static classes instead of modules. Please refer to the IDAES documentation.\n",
      "2021-04-20 16:31:04 [INFO] idaes.init.fs.state_block: Property package initialization: optimal - Optimal Solution Found.\n",
      "2021-04-20 16:31:04 [INFO] idaes.generic_models.properties.core.generic.generic_property: DEPRECATED - definiton of generic property packages is moving to using static classes instead of modules. Please refer to the IDAES documentation.\n",
      "2021-04-20 16:31:04 [INFO] idaes.init.fs.state_block: Property package initialization: optimal - Optimal Solution Found.\n",
      "2021-04-20 16:31:04 [INFO] idaes.generic_models.properties.core.generic.generic_property: DEPRECATED - definiton of generic property packages is moving to using static classes instead of modules. Please refer to the IDAES documentation.\n",
      "2021-04-20 16:31:05 [INFO] idaes.init.fs.state_block: Property package initialization: optimal - Optimal Solution Found.\n",
      "2021-04-20 16:31:05 [INFO] idaes.generic_models.properties.core.generic.generic_property: DEPRECATED - definiton of generic property packages is moving to using static classes instead of modules. Please refer to the IDAES documentation.\n",
      "2021-04-20 16:31:05 [INFO] idaes.init.fs.state_block: Property package initialization: optimal - Optimal Solution Found.\n",
      "2021-04-20 16:31:05 [INFO] idaes.generic_models.properties.core.generic.generic_property: DEPRECATED - definiton of generic property packages is moving to using static classes instead of modules. Please refer to the IDAES documentation.\n",
      "2021-04-20 16:31:05 [INFO] idaes.init.fs.state_block: Property package initialization: optimal - Optimal Solution Found.\n",
      "2021-04-20 16:31:05 [INFO] idaes.generic_models.properties.core.generic.generic_property: DEPRECATED - definiton of generic property packages is moving to using static classes instead of modules. Please refer to the IDAES documentation.\n",
      "2021-04-20 16:31:05 [INFO] idaes.init.fs.state_block: Property package initialization: optimal - Optimal Solution Found.\n",
      "2021-04-20 16:31:05 [INFO] idaes.generic_models.properties.core.generic.generic_property: DEPRECATED - definiton of generic property packages is moving to using static classes instead of modules. Please refer to the IDAES documentation.\n",
      "2021-04-20 16:31:06 [INFO] idaes.init.fs.state_block: Property package initialization: infeasible - Converged to a locally infeasible point. Problem may be infeasible..\n",
      "Ipopt 3.13.2: \n",
      "\n",
      "******************************************************************************\n",
      "This program contains Ipopt, a library for large-scale nonlinear optimization.\n",
      " Ipopt is released as open source code under the Eclipse Public License (EPL).\n",
      "         For more information visit http://projects.coin-or.org/Ipopt\n",
      "\n",
      "This version of Ipopt was compiled from source code available at\n",
      "    https://github.com/IDAES/Ipopt as part of the Institute for the Design of\n",
      "    Advanced Energy Systems Process Systems Engineering Framework (IDAES PSE\n",
      "    Framework) Copyright (c) 2018-2019. See https://github.com/IDAES/idaes-pse.\n",
      "\n",
      "This version of Ipopt was compiled using HSL, a collection of Fortran codes\n",
      "    for large-scale scientific computation.  All technical papers, sales and\n",
      "    publicity material resulting from use of the HSL codes within IPOPT must\n",
      "    contain the following acknowledgement:\n",
      "        HSL, a collection of Fortran codes for large-scale scientific\n",
      "        computation. See http://www.hsl.rl.ac.uk.\n",
      "******************************************************************************\n",
      "\n",
      "This is Ipopt version 3.13.2, running with linear solver ma27.\n",
      "\n",
      "Number of nonzeros in equality constraint Jacobian...:      238\n",
      "Number of nonzeros in inequality constraint Jacobian.:        0\n",
      "Number of nonzeros in Lagrangian Hessian.............:      238\n",
      "\n",
      "Total number of variables............................:      100\n",
      "                     variables with only lower bounds:       42\n",
      "                variables with lower and upper bounds:       42\n",
      "                     variables with only upper bounds:        0\n",
      "Total number of equality constraints.................:       98\n",
      "Total number of inequality constraints...............:        0\n",
      "        inequality constraints with only lower bounds:        0\n",
      "   inequality constraints with lower and upper bounds:        0\n",
      "        inequality constraints with only upper bounds:        0\n",
      "\n",
      "iter    objective    inf_pr   inf_du lg(mu)  ||d||  lg(rg) alpha_du alpha_pr  ls\n",
      "   0  0.0000000e+00 9.95e-01 7.11e-15  -1.0 0.00e+00    -  0.00e+00 0.00e+00   0\n",
      "   1  1.4521658e-03 5.34e-02 1.22e+02  -1.0 1.84e+03    -  7.23e-02 9.90e-01h  1\n",
      "   2  1.5324144e-03 2.26e-04 4.84e+00  -1.0 8.04e+01    -  9.85e-01 9.90e-01h  1\n",
      "   3  1.5102645e-03 4.10e-09 1.00e+03  -1.0 2.02e+01    -  9.90e-01 1.00e+00h  1\n",
      "   4  8.5567583e-04 1.30e-05 1.11e+05  -1.0 1.21e+03    -  9.89e-01 1.00e+00f  1\n",
      "   5  2.1979116e-03 2.59e-05 1.10e+03  -1.0 1.75e+03    -  9.90e-01 1.00e+00h  1\n",
      "   6  8.1106503e-04 2.43e-05 2.58e+04  -2.5 1.75e+03    -  9.97e-01 1.00e+00h  1\n",
      "   7  8.1181938e-04 2.15e-10 2.83e-08  -2.5 8.09e+00    -  1.00e+00 1.00e+00h  1\n",
      "   8  8.1067104e-04 2.16e-08 5.74e+00  -8.6 5.21e+01    -  1.00e+00 1.00e+00h  1\n",
      "   9  8.1067203e-04 1.40e-13 2.52e-14  -8.6 6.97e-03    -  1.00e+00 1.00e+00h  1\n",
      "\n",
      "Number of Iterations....: 9\n",
      "\n",
      "                                   (scaled)                 (unscaled)\n",
      "Objective...............:   8.1067203147439950e-04    8.1067203147439950e-04\n",
      "Dual infeasibility......:   2.5168699493654030e-14    2.5168699493654030e-14\n",
      "Constraint violation....:   1.4033219031261979e-13    1.4033219031261979e-13\n",
      "Complementarity.........:   2.5059142179868825e-09    2.5059142179868825e-09\n",
      "Overall NLP error.......:   2.5059142179868825e-09    2.5059142179868825e-09\n",
      "\n",
      "\n",
      "Number of objective function evaluations             = 10\n",
      "Number of objective gradient evaluations             = 10\n",
      "Number of equality constraint evaluations            = 10\n",
      "Number of inequality constraint evaluations          = 0\n",
      "Number of equality constraint Jacobian evaluations   = 10\n",
      "Number of inequality constraint Jacobian evaluations = 0\n",
      "Number of Lagrangian Hessian evaluations             = 9\n",
      "Total CPU secs in IPOPT (w/o function evaluations)   =      0.000\n",
      "Total CPU secs in NLP function evaluations           =      0.016\n",
      "\n",
      "EXIT: Optimal Solution Found.\n",
      "The SSE at the optimal solution is 0.000811\n",
      "\n",
      "The values for the parameters are as follows:\n",
      "fs.properties.PR_kappa[R125,hmimFAP] = -0.04521400918380329\n",
      "fs.properties.PR_kappa[hmimFAP,R125] = -0.1381297766219178\n"
     ]
    }
   ],
   "source": [
    "binary_params_peng(data, configuration, 'R125', 'hmimFAP', \"x_R125\", \"x_hmimFAP\", \n",
    "    init_temp =  298.15, init_press =   100000 , init_x_c1 =    0.074, init_x_c2 = 0.926,\n",
    "    init_kappa_2_1 = 0.05, init_kappa_1_2 = 0.05, eps = 0.1, scaling_fac = 1e-9 , read=False)"
   ]
  },
  {
   "cell_type": "code",
   "execution_count": 7,
   "id": "split-elite",
   "metadata": {},
   "outputs": [],
   "source": [
    "k12 = -0.04521400918380329\n",
    "k21 = -0.1381297766219178"
   ]
  },
  {
   "cell_type": "markdown",
   "id": "asian-moment",
   "metadata": {},
   "source": [
    "# Best Fit"
   ]
  },
  {
   "cell_type": "code",
   "execution_count": 8,
   "id": "infrared-mystery",
   "metadata": {},
   "outputs": [
    {
     "name": "stdout",
     "output_type": "stream",
     "text": [
      "The final DOF is 0\n",
      "The final DOF is 0\n",
      "The final DOF is 0\n",
      "The final DOF is 0\n",
      "The final DOF is 0\n",
      "The final DOF is 0\n",
      "The final DOF is 0\n"
     ]
    }
   ],
   "source": [
    "R125_x,P= calc_outlet_xP(data,m,\"R125\", \"hmimFAP\", k21, k12,verbose=True)"
   ]
  },
  {
   "cell_type": "code",
   "execution_count": 9,
   "id": "noted-freeze",
   "metadata": {},
   "outputs": [
    {
     "data": {
      "image/png": "[encoded data removed]",
      "text/plain": [
       "<Figure size 432x288 with 1 Axes>"
      ]
     },
     "metadata": {
      "needs_background": "light"
     },
     "output_type": "display_data"
    }
   ],
   "source": [
    "plt.plot(R125_x,P,\"m*-\",label=\"T= 298 K\")\n",
    "plt.plot(data[\"x_R125\"],data[\"pressure\"],\"*\",color='orange',label=\"data\")  \n",
    "plt.title('Isotherm [R125][hmimFAP] fit to T= 298 K')\n",
    "plt.ylabel('Pressure (Pa)')\n",
    "plt.xlabel('x R125')\n",
    "plt.grid(True)\n",
    "# plt.ylim(0,1300000)\n",
    "plt.legend()\n",
    "plt.show()"
   ]
  },
  {
   "cell_type": "code",
   "execution_count": null,
   "id": "precious-defendant",
   "metadata": {},
   "outputs": [],
   "source": []
  }
 ],
 "metadata": {
  "kernelspec": {
   "display_name": "Python 3",
   "language": "python",
   "name": "python3"
  },
  "language_info": {
   "codemirror_mode": {
    "name": "ipython",
    "version": 3
   },
   "file_extension": ".py",
   "mimetype": "text/x-python",
   "name": "python",
   "nbconvert_exporter": "python",
   "pygments_lexer": "ipython3",
   "version": "3.9.2"
  }
 },
 "nbformat": 4,
 "nbformat_minor": 5
}
