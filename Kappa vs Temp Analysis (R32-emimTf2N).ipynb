{
 "cells": [
  {
   "cell_type": "code",
   "execution_count": 1,
   "id": "documented-opportunity",
   "metadata": {},
   "outputs": [],
   "source": [
    "# import functions\n",
    "import idaes\n",
    "import matplotlib.pyplot as plt\n",
    "import pandas as pd\n",
    "import numpy as np\n",
    "from pyomo.environ import (Constraint,\n",
    "                           Var,\n",
    "                           ConcreteModel,\n",
    "                           Expression,\n",
    "                           Param,\n",
    "                           Objective,\n",
    "                           SolverFactory,\n",
    "                           TransformationFactory,\n",
    "                           value)\n",
    "\n",
    "from idaes.core import FlowsheetBlock\n",
    "import idaes.logger as idaeslog\n",
    "from pyomo.opt import TerminationCondition, SolverStatus\n",
    "# Import the Generic Parameter Block\n",
    "from idaes.generic_models.properties.core.generic.generic_property import (\n",
    "        GenericParameterBlock)\n",
    "# Import unit models from the model library\n",
    "from idaes.generic_models.unit_models import Flash\n",
    "# Import degrees of freedom tool\n",
    "from idaes.core.util.model_statistics import degrees_of_freedom\n",
    "# parmest (binary_param2)\n",
    "from binary_param2 import binary_params_peng\n",
    "# import pressure and plot functions\n",
    "from binary_fitting_functions import calc_outlet_xP\n",
    "from binary_fitting_functions import plot_sens_analysis"
   ]
  },
  {
   "cell_type": "code",
   "execution_count": 2,
   "id": "simplified-auditor",
   "metadata": {},
   "outputs": [],
   "source": [
    "# from HFC32_emimTf2N_PR import configuration\n",
    "from HFC32_emimTf2N_PR import configuration"
   ]
  },
  {
   "cell_type": "code",
   "execution_count": 3,
   "id": "ambient-segment",
   "metadata": {},
   "outputs": [],
   "source": [
    "#need to make excel csv for 125\n",
    "data = pd.read_csv('R32_emimTf2N.csv')\n",
    "# print(data)"
   ]
  },
  {
   "cell_type": "code",
   "execution_count": 4,
   "id": "indoor-petite",
   "metadata": {},
   "outputs": [],
   "source": [
    "# 283\n",
    "data_283= data[(data.temperature > 282) & (data.temperature< 284)]\n",
    "\n",
    "# 298\n",
    "data_298 = data[(data.temperature > 297) & (data.temperature< 299)]\n",
    "data_298 = data_298.reset_index(drop=True)\n",
    "\n",
    "# 323\n",
    "data_323 = data[(data.temperature > 322) & (data.temperature< 324)]\n",
    "data_323 = data_323.reset_index(drop=True)\n",
    "\n",
    "# 323\n",
    "data_348 = data[(data.temperature > 347) & (data.temperature< 349)]\n",
    "data_348 = data_348.reset_index(drop=True)\n"
   ]
  },
  {
   "cell_type": "code",
   "execution_count": 5,
   "id": "fallen-sunrise",
   "metadata": {},
   "outputs": [
    {
     "name": "stdout",
     "output_type": "stream",
     "text": [
      "2021-04-06 14:16:48 [INFO] idaes.generic_models.properties.core.generic.generic_property: DEPRECATED - definiton of generic property packages is moving to using static classes instead of modules. Please refer to the IDAES documentation.\n",
      "The initial DOF is 7\n"
     ]
    }
   ],
   "source": [
    "m = ConcreteModel()\n",
    "m.fs = FlowsheetBlock(default={\"dynamic\": False})\n",
    "m.fs.properties = GenericParameterBlock(default=configuration)\n",
    "m.fs.F101 = Flash(default={\"property_package\": m.fs.properties,\n",
    "                           \"has_heat_transfer\": True,\n",
    "                           \"has_pressure_change\": True})\n",
    "DOF_initial = degrees_of_freedom(m)\n",
    "print('The initial DOF is {0}'.format(DOF_initial))"
   ]
  },
  {
   "cell_type": "markdown",
   "id": "addressed-reader",
   "metadata": {},
   "source": [
    "# T = 283 K"
   ]
  },
  {
   "cell_type": "code",
   "execution_count": 6,
   "id": "standard-consensus",
   "metadata": {},
   "outputs": [
    {
     "name": "stdout",
     "output_type": "stream",
     "text": [
      "   temperature  pressure  x_R32  x_emimTf2N\n",
      "0       283.15     10200  0.014       0.986\n",
      "1       283.15    100100  0.136       0.864\n",
      "2       283.15    250300  0.306       0.694\n",
      "3       283.15    399300  0.448       0.552\n",
      "4       283.15    549300  0.570       0.430\n",
      "5       283.15    700400  0.672       0.328\n",
      "6       283.15    849400  0.786       0.214\n"
     ]
    }
   ],
   "source": [
    "print(data_283)"
   ]
  },
  {
   "cell_type": "code",
   "execution_count": 7,
   "id": "documented-extension",
   "metadata": {},
   "outputs": [
    {
     "name": "stdout",
     "output_type": "stream",
     "text": [
      "2021-04-06 14:16:48 [INFO] idaes.generic_models.properties.core.generic.generic_property: DEPRECATED - definiton of generic property packages is moving to using static classes instead of modules. Please refer to the IDAES documentation.\n",
      "2021-04-06 14:16:48 [INFO] idaes.init.fs.state_block: Property package initialization: optimal - Optimal Solution Found.\n",
      "2021-04-06 14:16:48 [INFO] idaes.generic_models.properties.core.generic.generic_property: DEPRECATED - definiton of generic property packages is moving to using static classes instead of modules. Please refer to the IDAES documentation.\n",
      "2021-04-06 14:16:48 [INFO] idaes.init.fs.state_block: Property package initialization: optimal - Optimal Solution Found.\n",
      "2021-04-06 14:16:48 [INFO] idaes.generic_models.properties.core.generic.generic_property: DEPRECATED - definiton of generic property packages is moving to using static classes instead of modules. Please refer to the IDAES documentation.\n",
      "2021-04-06 14:16:49 [INFO] idaes.init.fs.state_block: Property package initialization: optimal - Optimal Solution Found.\n",
      "2021-04-06 14:16:49 [INFO] idaes.generic_models.properties.core.generic.generic_property: DEPRECATED - definiton of generic property packages is moving to using static classes instead of modules. Please refer to the IDAES documentation.\n",
      "2021-04-06 14:16:49 [INFO] idaes.init.fs.state_block: Property package initialization: optimal - Optimal Solution Found.\n",
      "2021-04-06 14:16:49 [INFO] idaes.generic_models.properties.core.generic.generic_property: DEPRECATED - definiton of generic property packages is moving to using static classes instead of modules. Please refer to the IDAES documentation.\n",
      "2021-04-06 14:16:49 [INFO] idaes.init.fs.state_block: Property package initialization: optimal - Optimal Solution Found.\n",
      "2021-04-06 14:16:49 [INFO] idaes.generic_models.properties.core.generic.generic_property: DEPRECATED - definiton of generic property packages is moving to using static classes instead of modules. Please refer to the IDAES documentation.\n",
      "2021-04-06 14:16:49 [INFO] idaes.init.fs.state_block: Property package initialization: optimal - Optimal Solution Found.\n",
      "2021-04-06 14:16:49 [INFO] idaes.generic_models.properties.core.generic.generic_property: DEPRECATED - definiton of generic property packages is moving to using static classes instead of modules. Please refer to the IDAES documentation.\n",
      "2021-04-06 14:16:50 [INFO] idaes.init.fs.state_block: Property package initialization: optimal - Optimal Solution Found.\n",
      "Ipopt 3.13.2: \n",
      "\n",
      "******************************************************************************\n",
      "This program contains Ipopt, a library for large-scale nonlinear optimization.\n",
      " Ipopt is released as open source code under the Eclipse Public License (EPL).\n",
      "         For more information visit http://projects.coin-or.org/Ipopt\n",
      "\n",
      "This version of Ipopt was compiled from source code available at\n",
      "    https://github.com/IDAES/Ipopt as part of the Institute for the Design of\n",
      "    Advanced Energy Systems Process Systems Engineering Framework (IDAES PSE\n",
      "    Framework) Copyright (c) 2018-2019. See https://github.com/IDAES/idaes-pse.\n",
      "\n",
      "This version of Ipopt was compiled using HSL, a collection of Fortran codes\n",
      "    for large-scale scientific computation.  All technical papers, sales and\n",
      "    publicity material resulting from use of the HSL codes within IPOPT must\n",
      "    contain the following acknowledgement:\n",
      "        HSL, a collection of Fortran codes for large-scale scientific\n",
      "        computation. See http://www.hsl.rl.ac.uk.\n",
      "******************************************************************************\n",
      "\n",
      "This is Ipopt version 3.13.2, running with linear solver ma27.\n",
      "\n",
      "Number of nonzeros in equality constraint Jacobian...:      238\n",
      "Number of nonzeros in inequality constraint Jacobian.:        0\n",
      "Number of nonzeros in Lagrangian Hessian.............:      238\n",
      "\n",
      "Total number of variables............................:      100\n",
      "                     variables with only lower bounds:       42\n",
      "                variables with lower and upper bounds:       42\n",
      "                     variables with only upper bounds:        0\n",
      "Total number of equality constraints.................:       98\n",
      "Total number of inequality constraints...............:        0\n",
      "        inequality constraints with only lower bounds:        0\n",
      "   inequality constraints with lower and upper bounds:        0\n",
      "        inequality constraints with only upper bounds:        0\n",
      "\n",
      "iter    objective    inf_pr   inf_du lg(mu)  ||d||  lg(rg) alpha_du alpha_pr  ls\n",
      "   0  0.0000000e+00 2.42e-01 4.44e-16  -1.0 0.00e+00    -  0.00e+00 0.00e+00   0\n",
      "   1  5.2912984e-03 1.82e-01 2.89e+03  -1.0 1.73e+04    -  9.02e-01 2.46e-01h  1\n",
      "   2  1.0657207e-02 1.61e-01 2.63e+03  -1.0 3.08e+04    -  8.41e-01 1.20e-01h  1\n",
      "   3  4.8640515e-01 1.93e-02 2.36e+02  -1.0 3.07e+04    -  8.57e-01 9.90e-01h  1\n",
      "   4  5.4411152e-01 2.09e-04 9.61e+00  -1.0 2.10e+03    -  9.84e-01 9.90e-01h  1\n",
      "   5  5.9050305e-01 4.45e-05 1.51e+03  -1.0 3.33e+03    -  9.90e-01 1.00e+00H  1\n",
      "   6  7.8728330e-01 1.05e-03 9.82e+04  -1.0 7.00e+03    -  9.90e-01 1.00e+00F  1\n",
      "   7  7.3265310e-01 1.80e-04 7.06e+02  -1.0 2.83e+03    -  9.93e-01 1.00e+00H  1\n",
      "   8  5.1109709e-01 2.50e-02 2.63e+05  -2.5 8.02e+03    -  1.00e+00 9.73e-01f  1\n",
      "   9  4.9855411e-01 1.44e-03 3.86e-01  -2.5 5.46e+03    -  1.00e+00 1.00e+00h  1\n",
      "iter    objective    inf_pr   inf_du lg(mu)  ||d||  lg(rg) alpha_du alpha_pr  ls\n",
      "  10  4.9313587e-01 4.28e-04 4.84e+03  -3.8 2.31e+03    -  1.00e+00 9.82e-01h  1\n",
      "  11  4.9322290e-01 1.39e-05 4.13e-03  -3.8 4.51e+02    -  1.00e+00 1.00e+00f  1\n",
      "  12  4.9307006e-01 8.52e-07 2.70e-04  -5.7 8.67e+01    -  1.00e+00 1.00e+00h  1\n",
      "  13  4.9307042e-01 2.11e-11 7.35e-09  -5.7 6.34e-01    -  1.00e+00 1.00e+00h  1\n",
      "  14  4.9306858e-01 1.04e-10 3.15e-08  -8.6 9.24e-01    -  1.00e+00 1.00e+00h  1\n",
      "  15  4.9306858e-01 6.97e-12 4.66e-13  -8.6 7.33e-05    -  1.00e+00 1.00e+00h  1\n",
      "\n",
      "Number of Iterations....: 15\n",
      "\n",
      "                                   (scaled)                 (unscaled)\n",
      "Objective...............:   4.9306858197751618e-01    4.9306858197751618e-01\n",
      "Dual infeasibility......:   4.6551651422532814e-13    4.6551651422532814e-13\n",
      "Constraint violation....:   6.9650951672883821e-12    6.9650951672883821e-12\n",
      "Complementarity.........:   2.5059035606140583e-09    2.5059035606140583e-09\n",
      "Overall NLP error.......:   2.5059035606140583e-09    2.5059035606140583e-09\n",
      "\n",
      "\n",
      "Number of objective function evaluations             = 21\n",
      "Number of objective gradient evaluations             = 16\n",
      "Number of equality constraint evaluations            = 21\n",
      "Number of inequality constraint evaluations          = 0\n",
      "Number of equality constraint Jacobian evaluations   = 16\n",
      "Number of inequality constraint Jacobian evaluations = 0\n",
      "Number of Lagrangian Hessian evaluations             = 15\n",
      "Total CPU secs in IPOPT (w/o function evaluations)   =      0.004\n",
      "Total CPU secs in NLP function evaluations           =      0.029\n",
      "\n",
      "EXIT: Optimal Solution Found.\n",
      "The SSE at the optimal solution is 0.493069\n",
      "\n",
      "The values for the parameters are as follows:\n",
      "fs.properties.PR_kappa[R32,emimTf2N] = -0.0208920791297406\n",
      "fs.properties.PR_kappa[emimTf2N,R32] = -0.029764818469326954\n"
     ]
    }
   ],
   "source": [
    "binary_params_peng(data_283, configuration, 'R32', 'emimTf2N', \"x_R32\", \"x_emimTf2N\", \n",
    "    init_temp =  283.1, init_press =   399300 , init_x_c1 =    0.448, init_x_c2 = 0.552,\n",
    "    init_kappa_2_1 = -0.03479509, init_kappa_1_2 = -0.015923346845, eps = 0.1, scaling_fac = 1e-9 , read=False)"
   ]
  },
  {
   "cell_type": "code",
   "execution_count": 8,
   "id": "helpful-gardening",
   "metadata": {},
   "outputs": [],
   "source": [
    "k12_283 = -0.0208920791297406\n",
    "k21_283 = -0.029764818469326954"
   ]
  },
  {
   "cell_type": "code",
   "execution_count": 9,
   "id": "nervous-admission",
   "metadata": {},
   "outputs": [
    {
     "name": "stdout",
     "output_type": "stream",
     "text": [
      "The final DOF is 0\n",
      "The final DOF is 0\n",
      "The final DOF is 0\n",
      "The final DOF is 0\n",
      "The final DOF is 0\n",
      "The final DOF is 0\n",
      "The final DOF is 0\n",
      "The final DOF is 0\n",
      "The final DOF is 0\n",
      "The final DOF is 0\n",
      "The final DOF is 0\n",
      "The final DOF is 0\n",
      "The final DOF is 0\n",
      "The final DOF is 0\n",
      "The final DOF is 0\n",
      "The final DOF is 0\n",
      "The final DOF is 0\n",
      "The final DOF is 0\n",
      "The final DOF is 0\n",
      "The final DOF is 0\n",
      "The final DOF is 0\n",
      "The final DOF is 0\n",
      "The final DOF is 0\n",
      "The final DOF is 0\n",
      "The final DOF is 0\n",
      "The final DOF is 0\n",
      "The final DOF is 0\n",
      "The final DOF is 0\n",
      "The final DOF is 0\n",
      "The final DOF is 0\n",
      "The final DOF is 0\n"
     ]
    }
   ],
   "source": [
    "R32_x,P= calc_outlet_xP(data,m,\"R32\", \"emimTf2N\", k21_283, k12_283,verbose=True)"
   ]
  },
  {
   "cell_type": "code",
   "execution_count": 10,
   "id": "negative-longer",
   "metadata": {},
   "outputs": [
    {
     "data": {
      "image/png": "[encoded data removed]",
      "text/plain": [
       "<Figure size 432x288 with 1 Axes>"
      ]
     },
     "metadata": {
      "needs_background": "light"
     },
     "output_type": "display_data"
    }
   ],
   "source": [
    "# plots with data - model as lines --- need to make this into a function that splits up the T's\n",
    "plt.plot(R32_x[0:7],P[0:7],\"b*-\",label=\"T= 283 K\")  \n",
    "plt.plot(R32_x[7:15],P[7:15],\"r*-\",label=\"T= 298 K\") \n",
    "plt.plot(R32_x[15:23],P[15:23],\"c*-\",label=\"T= 323 K\") \n",
    "plt.plot(R32_x[23:],P[23:],\"m*-\",label=\"T= 348 K\")\n",
    "plt.plot(data[\"x_R32\"],data[\"pressure\"],\"*\",color='orange',label=\"data\")  \n",
    "plt.title('Isotherm [R32][emimTf2N] fit to T= 283 K')\n",
    "plt.ylabel('Pressure (Pa)')\n",
    "plt.xlabel('x R32')\n",
    "plt.grid(True)\n",
    "plt.ylim(0,1300000)\n",
    "plt.legend()\n",
    "plt.show()"
   ]
  },
  {
   "cell_type": "markdown",
   "id": "prerequisite-joyce",
   "metadata": {},
   "source": [
    "#  T = 298 K"
   ]
  },
  {
   "cell_type": "code",
   "execution_count": 11,
   "id": "celtic-theorem",
   "metadata": {},
   "outputs": [
    {
     "name": "stdout",
     "output_type": "stream",
     "text": [
      "   temperature  pressure  x_R32  x_emimTf2N\n",
      "0       298.15      9600  0.010       0.990\n",
      "1       298.15     99800  0.095       0.905\n",
      "2       298.15    250200  0.218       0.782\n",
      "3       298.15    399400  0.325       0.675\n",
      "4       298.15    549400  0.417       0.583\n",
      "5       298.15    699500  0.499       0.501\n",
      "6       298.15    849500  0.570       0.430\n",
      "7       298.15    999700  0.643       0.357\n"
     ]
    }
   ],
   "source": [
    "print(data_298)"
   ]
  },
  {
   "cell_type": "code",
   "execution_count": 12,
   "id": "previous-command",
   "metadata": {},
   "outputs": [
    {
     "name": "stdout",
     "output_type": "stream",
     "text": [
      "2021-04-06 14:17:18 [INFO] idaes.generic_models.properties.core.generic.generic_property: DEPRECATED - definiton of generic property packages is moving to using static classes instead of modules. Please refer to the IDAES documentation.\n",
      "2021-04-06 14:17:18 [INFO] idaes.init.fs.state_block: Property package initialization: optimal - Optimal Solution Found.\n",
      "2021-04-06 14:17:18 [INFO] idaes.generic_models.properties.core.generic.generic_property: DEPRECATED - definiton of generic property packages is moving to using static classes instead of modules. Please refer to the IDAES documentation.\n",
      "2021-04-06 14:17:18 [INFO] idaes.init.fs.state_block: Property package initialization: optimal - Optimal Solution Found.\n",
      "2021-04-06 14:17:18 [INFO] idaes.generic_models.properties.core.generic.generic_property: DEPRECATED - definiton of generic property packages is moving to using static classes instead of modules. Please refer to the IDAES documentation.\n",
      "2021-04-06 14:17:19 [INFO] idaes.init.fs.state_block: Property package initialization: optimal - Optimal Solution Found.\n",
      "2021-04-06 14:17:19 [INFO] idaes.generic_models.properties.core.generic.generic_property: DEPRECATED - definiton of generic property packages is moving to using static classes instead of modules. Please refer to the IDAES documentation.\n",
      "2021-04-06 14:17:19 [INFO] idaes.init.fs.state_block: Property package initialization: optimal - Optimal Solution Found.\n",
      "2021-04-06 14:17:19 [INFO] idaes.generic_models.properties.core.generic.generic_property: DEPRECATED - definiton of generic property packages is moving to using static classes instead of modules. Please refer to the IDAES documentation.\n",
      "2021-04-06 14:17:19 [INFO] idaes.init.fs.state_block: Property package initialization: optimal - Optimal Solution Found.\n",
      "2021-04-06 14:17:19 [INFO] idaes.generic_models.properties.core.generic.generic_property: DEPRECATED - definiton of generic property packages is moving to using static classes instead of modules. Please refer to the IDAES documentation.\n",
      "2021-04-06 14:17:19 [INFO] idaes.init.fs.state_block: Property package initialization: optimal - Optimal Solution Found.\n",
      "2021-04-06 14:17:19 [INFO] idaes.generic_models.properties.core.generic.generic_property: DEPRECATED - definiton of generic property packages is moving to using static classes instead of modules. Please refer to the IDAES documentation.\n",
      "2021-04-06 14:17:20 [INFO] idaes.init.fs.state_block: Property package initialization: optimal - Optimal Solution Found.\n",
      "2021-04-06 14:17:20 [INFO] idaes.generic_models.properties.core.generic.generic_property: DEPRECATED - definiton of generic property packages is moving to using static classes instead of modules. Please refer to the IDAES documentation.\n",
      "2021-04-06 14:17:20 [INFO] idaes.init.fs.state_block: Property package initialization: optimal - Optimal Solution Found.\n",
      "Ipopt 3.13.2: \n",
      "\n",
      "******************************************************************************\n",
      "This program contains Ipopt, a library for large-scale nonlinear optimization.\n",
      " Ipopt is released as open source code under the Eclipse Public License (EPL).\n",
      "         For more information visit http://projects.coin-or.org/Ipopt\n",
      "\n",
      "This version of Ipopt was compiled from source code available at\n",
      "    https://github.com/IDAES/Ipopt as part of the Institute for the Design of\n",
      "    Advanced Energy Systems Process Systems Engineering Framework (IDAES PSE\n",
      "    Framework) Copyright (c) 2018-2019. See https://github.com/IDAES/idaes-pse.\n",
      "\n",
      "This version of Ipopt was compiled using HSL, a collection of Fortran codes\n",
      "    for large-scale scientific computation.  All technical papers, sales and\n",
      "    publicity material resulting from use of the HSL codes within IPOPT must\n",
      "    contain the following acknowledgement:\n",
      "        HSL, a collection of Fortran codes for large-scale scientific\n",
      "        computation. See http://www.hsl.rl.ac.uk.\n",
      "******************************************************************************\n",
      "\n",
      "This is Ipopt version 3.13.2, running with linear solver ma27.\n",
      "\n",
      "Number of nonzeros in equality constraint Jacobian...:      272\n",
      "Number of nonzeros in inequality constraint Jacobian.:        0\n",
      "Number of nonzeros in Lagrangian Hessian.............:      272\n",
      "\n",
      "Total number of variables............................:      114\n",
      "                     variables with only lower bounds:       48\n",
      "                variables with lower and upper bounds:       48\n",
      "                     variables with only upper bounds:        0\n",
      "Total number of equality constraints.................:      112\n",
      "Total number of inequality constraints...............:        0\n",
      "        inequality constraints with only lower bounds:        0\n",
      "   inequality constraints with lower and upper bounds:        0\n",
      "        inequality constraints with only upper bounds:        0\n",
      "\n",
      "iter    objective    inf_pr   inf_du lg(mu)  ||d||  lg(rg) alpha_du alpha_pr  ls\n",
      "   0  0.0000000e+00 3.24e-01 2.84e-14  -1.0 0.00e+00    -  0.00e+00 0.00e+00   0\n",
      "   1  3.2501301e-06 3.22e-01 1.32e+02  -1.0 1.43e+04    -  8.64e-01 6.44e-03h  1\n",
      "   2  4.6395478e-01 1.57e-01 4.04e+03  -1.0 5.98e+04    -  7.45e-01 5.59e-01h  1\n",
      "   3  1.8261470e+00 1.30e-02 5.17e+02  -1.0 3.19e+04    -  3.92e-01 9.90e-01h  1\n",
      "   4  1.9118649e+00 2.07e-04 1.83e+02  -1.0 1.59e+03    -  9.14e-01 9.90e-01h  1\n",
      "   5  1.9196576e+00 1.89e-04 5.99e+04  -1.0 6.53e+02    -  7.37e-01 1.00e+00h  1\n",
      "   6  1.9634147e+00 3.70e-04 4.93e+06  -1.0 4.54e+03    -  4.99e-01 1.00e+00F  1\n",
      "   7  2.0205917e+00 7.68e-04 1.33e+06  -1.0 4.49e+03    -  7.30e-01 1.00e+00F  1\n",
      "   8  2.1635818e+00 7.22e-04 2.24e+04  -1.0 8.80e+03    -  9.83e-01 1.00e+00F  1\n",
      "   9  2.2890619e+00 1.46e-04 2.24e+02  -1.0 4.34e+03    -  9.90e-01 1.00e+00F  1\n",
      "iter    objective    inf_pr   inf_du lg(mu)  ||d||  lg(rg) alpha_du alpha_pr  ls\n",
      "  10  1.9933664e+00 1.80e-02 6.67e+05  -2.5 1.42e+04    -  9.97e-01 9.29e-01f  1\n",
      "  11  1.9279046e+00 7.32e-03 1.42e+00  -2.5 7.69e+03    -  1.00e+00 1.00e+00h  1\n",
      "  12  1.9093572e+00 3.12e-03 6.09e+04  -3.8 2.94e+03    -  1.00e+00 7.73e-01h  1\n",
      "  13  1.9088238e+00 1.46e-05 7.26e-02  -3.8 2.04e+01    -  1.00e+00 1.00e+00h  1\n",
      "  14  1.9086513e+00 6.91e-07 8.06e-04  -3.8 3.67e+01    -  1.00e+00 1.00e+00h  1\n",
      "  15  1.9083445e+00 3.35e-07 3.34e+02  -5.7 2.60e+01    -  1.00e+00 9.78e-01h  1\n",
      "  16  1.9083438e+00 5.00e-11 7.71e-07  -5.7 2.64e-01    -  1.00e+00 1.00e+00f  1\n",
      "  17  1.9083401e+00 4.32e-11 2.41e-07  -8.6 2.95e-01    -  1.00e+00 1.00e+00h  1\n",
      "  18  1.9083401e+00 2.01e-12 1.30e-12  -8.6 1.25e-04    -  1.00e+00 1.00e+00h  1\n",
      "\n",
      "Number of Iterations....: 18\n",
      "\n",
      "                                   (scaled)                 (unscaled)\n",
      "Objective...............:   1.9083401052746847e+00    1.9083401052746847e+00\n",
      "Dual infeasibility......:   1.3019585409779211e-12    1.3019585409779211e-12\n",
      "Constraint violation....:   1.9313439736379223e-12    2.0083934515469082e-12\n",
      "Complementarity.........:   2.5059036527921404e-09    2.5059036527921404e-09\n",
      "Overall NLP error.......:   2.5059036527921404e-09    2.5059036527921404e-09\n",
      "\n",
      "\n",
      "Number of objective function evaluations             = 25\n",
      "Number of objective gradient evaluations             = 19\n",
      "Number of equality constraint evaluations            = 25\n",
      "Number of inequality constraint evaluations          = 0\n",
      "Number of equality constraint Jacobian evaluations   = 19\n",
      "Number of inequality constraint Jacobian evaluations = 0\n",
      "Number of Lagrangian Hessian evaluations             = 18\n",
      "Total CPU secs in IPOPT (w/o function evaluations)   =      0.006\n",
      "Total CPU secs in NLP function evaluations           =      0.034\n",
      "\n",
      "EXIT: Optimal Solution Found.\n",
      "The SSE at the optimal solution is 1.908340\n",
      "\n",
      "The values for the parameters are as follows:\n",
      "fs.properties.PR_kappa[R32,emimTf2N] = -0.020109912245191205\n",
      "fs.properties.PR_kappa[emimTf2N,R32] = -0.016572152505313225\n"
     ]
    }
   ],
   "source": [
    "binary_params_peng(data_298, configuration, 'R32', 'emimTf2N', \"x_R32\", \"x_emimTf2N\", \n",
    "    init_temp =  298.15, init_press =   399400 , init_x_c1 =    0.417, init_x_c2 = 0.583,\n",
    "    init_kappa_2_1 = k21_283, init_kappa_1_2 = k12_283, eps = 0.1, scaling_fac = 1e-9 , read=False)"
   ]
  },
  {
   "cell_type": "code",
   "execution_count": 13,
   "id": "demographic-marijuana",
   "metadata": {},
   "outputs": [],
   "source": [
    "k12_298 = -0.020109912245191205\n",
    "k21_298 = -0.016572152505313225"
   ]
  },
  {
   "cell_type": "code",
   "execution_count": 14,
   "id": "cooked-panama",
   "metadata": {},
   "outputs": [
    {
     "name": "stdout",
     "output_type": "stream",
     "text": [
      "WARNING: Implicitly replacing the Component attribute liq (type=<class\n",
      "    'pyomo.core.base.param.SimpleParam'>) on block fs with a new Component\n",
      "    (type=<class 'pyomo.core.base.param.SimpleParam'>). This is usually\n",
      "    indicative of a modelling error. To avoid this warning, use\n",
      "    block.del_component() and block.add_component().\n",
      "WARNING: Implicitly replacing the Component attribute liquid (type=<class\n",
      "    'pyomo.core.base.constraint.SimpleConstraint'>) on block fs with a new\n",
      "    Component (type=<class\n",
      "    'pyomo.core.base.constraint.AbstractSimpleConstraint'>). This is usually\n",
      "    indicative of a modelling error. To avoid this warning, use\n",
      "    block.del_component() and block.add_component().\n",
      "The final DOF is 0\n",
      "The final DOF is 0\n",
      "The final DOF is 0\n",
      "The final DOF is 0\n",
      "The final DOF is 0\n",
      "The final DOF is 0\n",
      "The final DOF is 0\n",
      "The final DOF is 0\n",
      "The final DOF is 0\n",
      "The final DOF is 0\n",
      "The final DOF is 0\n",
      "The final DOF is 0\n",
      "The final DOF is 0\n",
      "The final DOF is 0\n",
      "The final DOF is 0\n",
      "The final DOF is 0\n",
      "The final DOF is 0\n",
      "The final DOF is 0\n",
      "The final DOF is 0\n",
      "The final DOF is 0\n",
      "The final DOF is 0\n",
      "The final DOF is 0\n",
      "The final DOF is 0\n",
      "The final DOF is 0\n",
      "The final DOF is 0\n",
      "The final DOF is 0\n",
      "The final DOF is 0\n",
      "The final DOF is 0\n",
      "The final DOF is 0\n",
      "The final DOF is 0\n",
      "The final DOF is 0\n"
     ]
    }
   ],
   "source": [
    "R32_x,P= calc_outlet_xP(data,m,\"R32\", \"emimTf2N\", k21_298, k12_298,verbose=True)"
   ]
  },
  {
   "cell_type": "code",
   "execution_count": 15,
   "id": "intelligent-windows",
   "metadata": {},
   "outputs": [
    {
     "data": {
      "image/png": "[encoded data removed]",
      "text/plain": [
       "<Figure size 432x288 with 1 Axes>"
      ]
     },
     "metadata": {
      "needs_background": "light"
     },
     "output_type": "display_data"
    }
   ],
   "source": [
    "# plots with data - model as lines --- need to make this into a function that splits up the T's\n",
    "plt.plot(R32_x[0:7],P[0:7],\"b*-\",label=\"T= 283 K\")  \n",
    "plt.plot(R32_x[7:15],P[7:15],\"r*-\",label=\"T= 298 K\") \n",
    "plt.plot(R32_x[15:23],P[15:23],\"c*-\",label=\"T= 323 K\") \n",
    "plt.plot(R32_x[23:],P[23:],\"m*-\",label=\"T= 348 K\")\n",
    "plt.plot(data[\"x_R32\"],data[\"pressure\"],\"*\",color='orange',label=\"data\")  \n",
    "plt.title('Isotherm [R32][emimTf2N] fit to T= 298 K')\n",
    "plt.ylabel('Pressure (Pa)')\n",
    "plt.xlabel('x R32')\n",
    "plt.grid(True)\n",
    "plt.ylim(0,1300000)\n",
    "plt.legend()\n",
    "plt.show()"
   ]
  },
  {
   "cell_type": "markdown",
   "id": "composite-ticket",
   "metadata": {},
   "source": [
    "# T = 323 K"
   ]
  },
  {
   "cell_type": "code",
   "execution_count": 16,
   "id": "noted-evolution",
   "metadata": {},
   "outputs": [
    {
     "name": "stdout",
     "output_type": "stream",
     "text": [
      "   temperature  pressure  x_R32  x_emimTf2N\n",
      "0       323.15     10200  0.005       0.995\n",
      "1       323.15    100300  0.055       0.945\n",
      "2       323.15    249700  0.133       0.867\n",
      "3       323.15    400100  0.200       0.800\n",
      "4       323.15    549500  0.264       0.736\n",
      "5       323.15    700300  0.320       0.680\n",
      "6       323.15    850400  0.368       0.632\n",
      "7       323.15   1000400  0.417       0.583\n"
     ]
    }
   ],
   "source": [
    "print(data_323)"
   ]
  },
  {
   "cell_type": "code",
   "execution_count": 17,
   "id": "commercial-niagara",
   "metadata": {},
   "outputs": [
    {
     "name": "stdout",
     "output_type": "stream",
     "text": [
      "2021-04-06 14:17:48 [INFO] idaes.generic_models.properties.core.generic.generic_property: DEPRECATED - definiton of generic property packages is moving to using static classes instead of modules. Please refer to the IDAES documentation.\n",
      "2021-04-06 14:17:48 [INFO] idaes.init.fs.state_block: Property package initialization: optimal - Optimal Solution Found.\n",
      "2021-04-06 14:17:48 [INFO] idaes.generic_models.properties.core.generic.generic_property: DEPRECATED - definiton of generic property packages is moving to using static classes instead of modules. Please refer to the IDAES documentation.\n",
      "2021-04-06 14:17:48 [INFO] idaes.init.fs.state_block: Property package initialization: optimal - Optimal Solution Found.\n",
      "2021-04-06 14:17:48 [INFO] idaes.generic_models.properties.core.generic.generic_property: DEPRECATED - definiton of generic property packages is moving to using static classes instead of modules. Please refer to the IDAES documentation.\n",
      "2021-04-06 14:17:49 [INFO] idaes.init.fs.state_block: Property package initialization: infeasible - Converged to a locally infeasible point. Problem may be infeasible..\n",
      "2021-04-06 14:17:49 [INFO] idaes.generic_models.properties.core.generic.generic_property: DEPRECATED - definiton of generic property packages is moving to using static classes instead of modules. Please refer to the IDAES documentation.\n",
      "2021-04-06 14:17:49 [INFO] idaes.init.fs.state_block: Property package initialization: infeasible - Converged to a locally infeasible point. Problem may be infeasible..\n",
      "2021-04-06 14:17:49 [INFO] idaes.generic_models.properties.core.generic.generic_property: DEPRECATED - definiton of generic property packages is moving to using static classes instead of modules. Please refer to the IDAES documentation.\n",
      "2021-04-06 14:17:49 [INFO] idaes.init.fs.state_block: Property package initialization: infeasible - Converged to a locally infeasible point. Problem may be infeasible..\n",
      "2021-04-06 14:17:49 [INFO] idaes.generic_models.properties.core.generic.generic_property: DEPRECATED - definiton of generic property packages is moving to using static classes instead of modules. Please refer to the IDAES documentation.\n",
      "2021-04-06 14:17:50 [INFO] idaes.init.fs.state_block: Property package initialization: infeasible - Converged to a locally infeasible point. Problem may be infeasible..\n",
      "2021-04-06 14:17:50 [INFO] idaes.generic_models.properties.core.generic.generic_property: DEPRECATED - definiton of generic property packages is moving to using static classes instead of modules. Please refer to the IDAES documentation.\n",
      "2021-04-06 14:17:50 [INFO] idaes.init.fs.state_block: Property package initialization: optimal - Optimal Solution Found.\n",
      "2021-04-06 14:17:50 [INFO] idaes.generic_models.properties.core.generic.generic_property: DEPRECATED - definiton of generic property packages is moving to using static classes instead of modules. Please refer to the IDAES documentation.\n",
      "2021-04-06 14:17:50 [INFO] idaes.init.fs.state_block: Property package initialization: optimal - Optimal Solution Found.\n",
      "Ipopt 3.13.2: \n",
      "\n",
      "******************************************************************************\n",
      "This program contains Ipopt, a library for large-scale nonlinear optimization.\n",
      " Ipopt is released as open source code under the Eclipse Public License (EPL).\n",
      "         For more information visit http://projects.coin-or.org/Ipopt\n",
      "\n",
      "This version of Ipopt was compiled from source code available at\n",
      "    https://github.com/IDAES/Ipopt as part of the Institute for the Design of\n",
      "    Advanced Energy Systems Process Systems Engineering Framework (IDAES PSE\n",
      "    Framework) Copyright (c) 2018-2019. See https://github.com/IDAES/idaes-pse.\n",
      "\n",
      "This version of Ipopt was compiled using HSL, a collection of Fortran codes\n",
      "    for large-scale scientific computation.  All technical papers, sales and\n",
      "    publicity material resulting from use of the HSL codes within IPOPT must\n",
      "    contain the following acknowledgement:\n",
      "        HSL, a collection of Fortran codes for large-scale scientific\n",
      "        computation. See http://www.hsl.rl.ac.uk.\n",
      "******************************************************************************\n",
      "\n",
      "This is Ipopt version 3.13.2, running with linear solver ma27.\n",
      "\n",
      "Number of nonzeros in equality constraint Jacobian...:      272\n",
      "Number of nonzeros in inequality constraint Jacobian.:        0\n",
      "Number of nonzeros in Lagrangian Hessian.............:      272\n",
      "\n",
      "Total number of variables............................:      114\n",
      "                     variables with only lower bounds:       48\n",
      "                variables with lower and upper bounds:       48\n",
      "                     variables with only upper bounds:        0\n",
      "Total number of equality constraints.................:      112\n",
      "Total number of inequality constraints...............:        0\n",
      "        inequality constraints with only lower bounds:        0\n",
      "   inequality constraints with lower and upper bounds:        0\n",
      "        inequality constraints with only upper bounds:        0\n",
      "\n",
      "iter    objective    inf_pr   inf_du lg(mu)  ||d||  lg(rg) alpha_du alpha_pr  ls\n",
      "   0  0.0000000e+00 2.85e-01 5.68e-14  -1.0 0.00e+00    -  0.00e+00 0.00e+00   0\n",
      "   1  1.8431487e-05 2.84e-01 2.24e+02  -1.0 5.80e+04    -  8.06e-01 3.56e-03h  1\n",
      "   2  1.4711349e-01 2.48e-01 1.84e+03  -1.0 1.26e+05    -  1.77e-01 1.27e-01h  1\n",
      "   3  1.8789217e+00 1.61e-01 5.58e+03  -1.0 1.13e+05    -  1.38e-01 3.67e-01h  1\n",
      "   4  1.9194262e+00 1.60e-01 5.61e+03  -1.0 7.83e+04    -  7.48e-03 7.85e-03h  1\n",
      "   5  4.4681514e+00 9.96e-02 2.70e+04  -1.0 7.82e+04    -  1.04e-02 3.89e-01h  1\n",
      "   6  1.1053500e+01 7.71e-02 4.86e+04  -1.0 5.11e+04    -  3.53e-01 9.90e-01h  1\n",
      "   7  1.1518352e+01 5.84e-04 1.61e+03  -1.0 3.03e+03    -  9.83e-01 9.90e-01h  1\n",
      "   8  1.1533607e+01 1.19e-06 1.90e+04  -1.0 1.07e+02    -  9.35e-01 9.99e-01h  1\n",
      "   9  1.1995807e+01 8.59e-04 7.28e+06  -1.0 5.32e+03    -  2.34e-01 1.00e+00F  1\n",
      "iter    objective    inf_pr   inf_du lg(mu)  ||d||  lg(rg) alpha_du alpha_pr  ls\n",
      "  10  1.1995448e+01 4.61e-05 7.75e+04  -1.0 4.63e+02    -  9.90e-01 1.00e+00f  1\n",
      "  11  1.2003627e+01 1.66e-04 7.73e+02  -1.0 6.95e+02    -  9.90e-01 1.00e+00f  1\n",
      "  12  1.1532736e+01 3.00e-03 1.43e+06  -2.5 4.80e+03    -  9.97e-01 8.50e-01f  1\n",
      "  13  1.1529248e+01 5.73e-06 4.57e-01  -2.5 8.78e+01    -  1.00e+00 1.00e+00h  1\n",
      "  14  1.1523729e+01 4.33e-07 3.48e+03  -3.8 3.44e+01    -  1.00e+00 9.87e-01f  1\n",
      "  15  1.1523925e+01 8.18e-10 4.53e-05  -3.8 1.19e+00    -  1.00e+00 1.00e+00f  1\n",
      "  16  1.1523623e+01 1.22e-09 5.14e+01  -8.6 2.55e+00    -  1.00e+00 9.97e-01f  1\n",
      "  17  1.1523623e+01 9.58e-10 2.55e-10  -8.6 7.85e-04    -  1.00e+00 1.00e+00h  1\n",
      "\n",
      "Number of Iterations....: 17\n",
      "\n",
      "                                   (scaled)                 (unscaled)\n",
      "Objective...............:   1.1523622812083392e+01    1.1523622812083392e+01\n",
      "Dual infeasibility......:   2.5538956504099095e-10    2.5538956504099095e-10\n",
      "Constraint violation....:   9.5843599723366424e-10    9.5843599723366424e-10\n",
      "Complementarity.........:   2.5060861345735886e-09    2.5060861345735886e-09\n",
      "Overall NLP error.......:   2.5060861345735886e-09    2.5060861345735886e-09\n",
      "\n",
      "\n",
      "Number of objective function evaluations             = 19\n",
      "Number of objective gradient evaluations             = 18\n",
      "Number of equality constraint evaluations            = 19\n",
      "Number of inequality constraint evaluations          = 0\n",
      "Number of equality constraint Jacobian evaluations   = 18\n",
      "Number of inequality constraint Jacobian evaluations = 0\n",
      "Number of Lagrangian Hessian evaluations             = 17\n",
      "Total CPU secs in IPOPT (w/o function evaluations)   =      0.008\n",
      "Total CPU secs in NLP function evaluations           =      0.032\n",
      "\n",
      "EXIT: Optimal Solution Found.\n",
      "The SSE at the optimal solution is 11.523623\n",
      "\n",
      "The values for the parameters are as follows:\n",
      "fs.properties.PR_kappa[R32,emimTf2N] = -0.01895792530906956\n",
      "fs.properties.PR_kappa[emimTf2N,R32] = -0.002792598704415786\n"
     ]
    }
   ],
   "source": [
    "binary_params_peng(data_323, configuration, 'R32', 'emimTf2N', \"x_R32\", \"x_emimTf2N\", \n",
    "    init_temp =  323.15, init_press =   400100 , init_x_c1 =    0.200, init_x_c2 = 0.800,\n",
    "    init_kappa_2_1 = k21_298, init_kappa_1_2 = k12_298, eps = 0.1, scaling_fac = 1e-9 , read=False)"
   ]
  },
  {
   "cell_type": "code",
   "execution_count": 18,
   "id": "cubic-highway",
   "metadata": {},
   "outputs": [],
   "source": [
    "k12_323 = -0.01895792530906956\n",
    "k21_323 = -0.002792598704415786"
   ]
  },
  {
   "cell_type": "code",
   "execution_count": 19,
   "id": "scheduled-apartment",
   "metadata": {},
   "outputs": [
    {
     "name": "stdout",
     "output_type": "stream",
     "text": [
      "WARNING: Implicitly replacing the Component attribute liq (type=<class\n",
      "    'pyomo.core.base.param.SimpleParam'>) on block fs with a new Component\n",
      "    (type=<class 'pyomo.core.base.param.SimpleParam'>). This is usually\n",
      "    indicative of a modelling error. To avoid this warning, use\n",
      "    block.del_component() and block.add_component().\n",
      "WARNING: Implicitly replacing the Component attribute liquid (type=<class\n",
      "    'pyomo.core.base.constraint.SimpleConstraint'>) on block fs with a new\n",
      "    Component (type=<class\n",
      "    'pyomo.core.base.constraint.AbstractSimpleConstraint'>). This is usually\n",
      "    indicative of a modelling error. To avoid this warning, use\n",
      "    block.del_component() and block.add_component().\n",
      "The final DOF is 0\n",
      "The final DOF is 0\n",
      "The final DOF is 0\n",
      "The final DOF is 0\n",
      "The final DOF is 0\n",
      "The final DOF is 0\n",
      "The final DOF is 0\n",
      "The final DOF is 0\n",
      "The final DOF is 0\n",
      "The final DOF is 0\n",
      "The final DOF is 0\n",
      "The final DOF is 0\n",
      "The final DOF is 0\n",
      "The final DOF is 0\n",
      "The final DOF is 0\n",
      "The final DOF is 0\n",
      "The final DOF is 0\n",
      "The final DOF is 0\n",
      "The final DOF is 0\n",
      "The final DOF is 0\n",
      "The final DOF is 0\n",
      "The final DOF is 0\n",
      "The final DOF is 0\n",
      "The final DOF is 0\n",
      "The final DOF is 0\n",
      "The final DOF is 0\n",
      "The final DOF is 0\n",
      "The final DOF is 0\n",
      "The final DOF is 0\n",
      "The final DOF is 0\n",
      "The final DOF is 0\n"
     ]
    }
   ],
   "source": [
    "R32_x,P= calc_outlet_xP(data,m,\"R32\", \"emimTf2N\", k21_323, k12_323,verbose=True)"
   ]
  },
  {
   "cell_type": "code",
   "execution_count": 20,
   "id": "relative-opportunity",
   "metadata": {},
   "outputs": [
    {
     "data": {
      "image/png": "[encoded data removed]",
      "text/plain": [
       "<Figure size 432x288 with 1 Axes>"
      ]
     },
     "metadata": {
      "needs_background": "light"
     },
     "output_type": "display_data"
    }
   ],
   "source": [
    "# plots with data - model as lines --- need to make this into a function that splits up the T's\n",
    "plt.plot(R32_x[0:7],P[0:7],\"b*-\",label=\"T= 283 K\")  \n",
    "plt.plot(R32_x[7:15],P[7:15],\"r*-\",label=\"T= 298 K\") \n",
    "plt.plot(R32_x[15:23],P[15:23],\"c*-\",label=\"T= 323 K\") \n",
    "plt.plot(R32_x[23:],P[23:],\"m*-\",label=\"T= 348 K\")\n",
    "plt.plot(data[\"x_R32\"],data[\"pressure\"],\"*\",color='orange',label=\"data\")  \n",
    "plt.title('Isotherm [R32][emimTf2N] fit to T= 323 K')\n",
    "plt.ylabel('Pressure (Pa)')\n",
    "plt.xlabel('x R32')\n",
    "plt.grid(True)\n",
    "plt.ylim(0,1300000)\n",
    "plt.legend()\n",
    "plt.show()"
   ]
  },
  {
   "cell_type": "markdown",
   "id": "substantial-appeal",
   "metadata": {},
   "source": [
    "# T = 348 K"
   ]
  },
  {
   "cell_type": "code",
   "execution_count": 21,
   "id": "solved-legislature",
   "metadata": {},
   "outputs": [
    {
     "name": "stdout",
     "output_type": "stream",
     "text": [
      "   temperature  pressure  x_R32  x_emimTf2N\n",
      "0       348.05     10300  0.002       0.998\n",
      "1       348.05     99800  0.034       0.966\n",
      "2       348.05    249700  0.084       0.916\n",
      "3       348.05    399500  0.131       0.869\n",
      "4       348.05    550300  0.175       0.825\n",
      "5       348.05    699200  0.216       0.784\n",
      "6       348.05    850400  0.254       0.746\n",
      "7       348.05   1000500  0.288       0.712\n"
     ]
    }
   ],
   "source": [
    "print(data_348)"
   ]
  },
  {
   "cell_type": "code",
   "execution_count": 22,
   "id": "defined-detective",
   "metadata": {},
   "outputs": [
    {
     "name": "stdout",
     "output_type": "stream",
     "text": [
      "2021-04-06 14:18:18 [INFO] idaes.generic_models.properties.core.generic.generic_property: DEPRECATED - definiton of generic property packages is moving to using static classes instead of modules. Please refer to the IDAES documentation.\n",
      "2021-04-06 14:18:18 [INFO] idaes.init.fs.state_block: Property package initialization: optimal - Optimal Solution Found.\n",
      "2021-04-06 14:18:18 [INFO] idaes.generic_models.properties.core.generic.generic_property: DEPRECATED - definiton of generic property packages is moving to using static classes instead of modules. Please refer to the IDAES documentation.\n",
      "2021-04-06 14:18:18 [INFO] idaes.init.fs.state_block: Property package initialization: optimal - Optimal Solution Found.\n",
      "2021-04-06 14:18:18 [INFO] idaes.generic_models.properties.core.generic.generic_property: DEPRECATED - definiton of generic property packages is moving to using static classes instead of modules. Please refer to the IDAES documentation.\n",
      "2021-04-06 14:18:19 [INFO] idaes.init.fs.state_block: Property package initialization: infeasible - Converged to a locally infeasible point. Problem may be infeasible..\n",
      "2021-04-06 14:18:19 [INFO] idaes.generic_models.properties.core.generic.generic_property: DEPRECATED - definiton of generic property packages is moving to using static classes instead of modules. Please refer to the IDAES documentation.\n",
      "2021-04-06 14:18:19 [INFO] idaes.init.fs.state_block: Property package initialization: infeasible - Converged to a locally infeasible point. Problem may be infeasible..\n",
      "2021-04-06 14:18:19 [INFO] idaes.generic_models.properties.core.generic.generic_property: DEPRECATED - definiton of generic property packages is moving to using static classes instead of modules. Please refer to the IDAES documentation.\n",
      "2021-04-06 14:18:19 [INFO] idaes.init.fs.state_block: Property package initialization: optimal - Optimal Solution Found.\n",
      "2021-04-06 14:18:19 [INFO] idaes.generic_models.properties.core.generic.generic_property: DEPRECATED - definiton of generic property packages is moving to using static classes instead of modules. Please refer to the IDAES documentation.\n",
      "2021-04-06 14:18:20 [INFO] idaes.init.fs.state_block: Property package initialization: optimal - Optimal Solution Found.\n",
      "2021-04-06 14:18:20 [INFO] idaes.generic_models.properties.core.generic.generic_property: DEPRECATED - definiton of generic property packages is moving to using static classes instead of modules. Please refer to the IDAES documentation.\n",
      "2021-04-06 14:18:20 [INFO] idaes.init.fs.state_block: Property package initialization: optimal - Optimal Solution Found.\n",
      "2021-04-06 14:18:20 [INFO] idaes.generic_models.properties.core.generic.generic_property: DEPRECATED - definiton of generic property packages is moving to using static classes instead of modules. Please refer to the IDAES documentation.\n",
      "2021-04-06 14:18:20 [INFO] idaes.init.fs.state_block: Property package initialization: optimal - Optimal Solution Found.\n",
      "Ipopt 3.13.2: \n",
      "\n",
      "******************************************************************************\n",
      "This program contains Ipopt, a library for large-scale nonlinear optimization.\n",
      " Ipopt is released as open source code under the Eclipse Public License (EPL).\n",
      "         For more information visit http://projects.coin-or.org/Ipopt\n",
      "\n",
      "This version of Ipopt was compiled from source code available at\n",
      "    https://github.com/IDAES/Ipopt as part of the Institute for the Design of\n",
      "    Advanced Energy Systems Process Systems Engineering Framework (IDAES PSE\n",
      "    Framework) Copyright (c) 2018-2019. See https://github.com/IDAES/idaes-pse.\n",
      "\n",
      "This version of Ipopt was compiled using HSL, a collection of Fortran codes\n",
      "    for large-scale scientific computation.  All technical papers, sales and\n",
      "    publicity material resulting from use of the HSL codes within IPOPT must\n",
      "    contain the following acknowledgement:\n",
      "        HSL, a collection of Fortran codes for large-scale scientific\n",
      "        computation. See http://www.hsl.rl.ac.uk.\n",
      "******************************************************************************\n",
      "\n",
      "This is Ipopt version 3.13.2, running with linear solver ma27.\n",
      "\n",
      "Number of nonzeros in equality constraint Jacobian...:      272\n",
      "Number of nonzeros in inequality constraint Jacobian.:        0\n",
      "Number of nonzeros in Lagrangian Hessian.............:      272\n",
      "\n",
      "Total number of variables............................:      114\n",
      "                     variables with only lower bounds:       48\n",
      "                variables with lower and upper bounds:       48\n",
      "                     variables with only upper bounds:        0\n",
      "Total number of equality constraints.................:      112\n",
      "Total number of inequality constraints...............:        0\n",
      "        inequality constraints with only lower bounds:        0\n",
      "   inequality constraints with lower and upper bounds:        0\n",
      "        inequality constraints with only upper bounds:        0\n",
      "\n",
      "iter    objective    inf_pr   inf_du lg(mu)  ||d||  lg(rg) alpha_du alpha_pr  ls\n",
      "   0  0.0000000e+00 2.92e-01 7.11e-15  -1.0 0.00e+00    -  0.00e+00 0.00e+00   0\n",
      "   1  4.0900791e-05 2.90e-01 1.57e+02  -1.0 5.57e+04    -  8.22e-01 5.17e-03h  1\n",
      "   2  5.1333408e-01 2.43e-01 3.98e+03  -1.0 1.96e+05    -  2.54e-01 1.69e-01h  1\n",
      "   3  2.0502294e+00 1.99e-01 4.03e+03  -1.0 1.81e+05    -  2.90e-01 1.86e-01h  1\n",
      "   4  2.1913837e+01 7.09e-02 7.78e+03  -1.0 1.53e+05    -  4.92e-02 9.90e-01h  1\n",
      "   5  2.5485610e+01 6.82e-04 5.21e+02  -1.0 1.62e+04    -  9.63e-01 9.90e-01h  1\n",
      "   6  2.5561376e+01 4.27e-07 4.45e+03  -1.0 3.21e+02    -  9.70e-01 1.00e+00h  1\n",
      "   7  2.5925865e+01 7.49e-04 5.98e+06  -1.0 1.66e+03    -  3.93e-01 1.00e+00f  1\n",
      "   8  2.5935618e+01 1.83e-05 5.98e+04  -1.0 3.16e+02    -  9.90e-01 1.00e+00f  1\n",
      "   9  2.5962883e+01 6.71e-05 5.97e+02  -1.0 6.33e+02    -  9.90e-01 1.00e+00f  1\n",
      "iter    objective    inf_pr   inf_du lg(mu)  ||d||  lg(rg) alpha_du alpha_pr  ls\n",
      "  10  2.5566804e+01 4.52e-04 1.47e+06  -2.5 2.13e+03    -  9.97e-01 8.46e-01f  1\n",
      "  11  2.5559499e+01 3.39e-05 1.10e+05  -2.5 1.01e+02    -  1.00e+00 9.26e-01h  1\n",
      "  12  2.5561051e+01 1.37e-07 2.49e-02  -2.5 2.55e+01    -  1.00e+00 1.00e+00f  1\n",
      "  13  2.5555098e+01 1.14e-07 1.27e+04  -5.7 3.08e+01    -  1.00e+00 9.55e-01f  1\n",
      "  14  2.5555087e+01 4.90e-11 7.86e-06  -5.7 1.08e-01    -  1.00e+00 1.00e+00f  1\n",
      "  15  2.5555084e+01 1.28e-10 1.05e-08  -8.6 1.80e-02    -  1.00e+00 1.00e+00h  1\n",
      "  16  2.5555084e+01 6.85e-11 5.66e-12  -9.0 1.52e-05    -  1.00e+00 1.00e+00h  1\n",
      "\n",
      "Number of Iterations....: 16\n",
      "\n",
      "                                   (scaled)                 (unscaled)\n",
      "Objective...............:   2.5555083805166987e+01    2.5555083805166987e+01\n",
      "Dual infeasibility......:   5.6585014451826510e-12    5.6585014451826510e-12\n",
      "Constraint violation....:   6.8506977868310059e-11    6.8506977868310059e-11\n",
      "Complementarity.........:   9.0909125869112745e-10    9.0909125869112745e-10\n",
      "Overall NLP error.......:   9.0909125869112745e-10    9.0909125869112745e-10\n",
      "\n",
      "\n",
      "Number of objective function evaluations             = 17\n",
      "Number of objective gradient evaluations             = 17\n",
      "Number of equality constraint evaluations            = 17\n",
      "Number of inequality constraint evaluations          = 0\n",
      "Number of equality constraint Jacobian evaluations   = 17\n",
      "Number of inequality constraint Jacobian evaluations = 0\n",
      "Number of Lagrangian Hessian evaluations             = 16\n",
      "Total CPU secs in IPOPT (w/o function evaluations)   =      0.008\n",
      "Total CPU secs in NLP function evaluations           =      0.026\n",
      "\n",
      "EXIT: Optimal Solution Found.\n",
      "The SSE at the optimal solution is 25.555084\n",
      "\n",
      "The values for the parameters are as follows:\n",
      "fs.properties.PR_kappa[R32,emimTf2N] = -0.018344963104707162\n",
      "fs.properties.PR_kappa[emimTf2N,R32] = 0.014152316681532398\n"
     ]
    }
   ],
   "source": [
    "binary_params_peng(data_348, configuration, 'R32', 'emimTf2N', \"x_R32\", \"x_emimTf2N\", \n",
    "    init_temp =  348.05, init_press =   399500 , init_x_c1 =    0.131, init_x_c2 = 0.869,\n",
    "    init_kappa_2_1 = k21_323, init_kappa_1_2 = k12_323, eps = 0.1, scaling_fac = 1e-9 , read=False)"
   ]
  },
  {
   "cell_type": "code",
   "execution_count": 23,
   "id": "european-resistance",
   "metadata": {},
   "outputs": [],
   "source": [
    "k12_348 = -0.018344963104707162\n",
    "k21_348 = 0.014152316681532398"
   ]
  },
  {
   "cell_type": "code",
   "execution_count": 24,
   "id": "saving-buying",
   "metadata": {},
   "outputs": [
    {
     "name": "stdout",
     "output_type": "stream",
     "text": [
      "WARNING: Implicitly replacing the Component attribute liq (type=<class\n",
      "    'pyomo.core.base.param.SimpleParam'>) on block fs with a new Component\n",
      "    (type=<class 'pyomo.core.base.param.SimpleParam'>). This is usually\n",
      "    indicative of a modelling error. To avoid this warning, use\n",
      "    block.del_component() and block.add_component().\n",
      "WARNING: Implicitly replacing the Component attribute liquid (type=<class\n",
      "    'pyomo.core.base.constraint.SimpleConstraint'>) on block fs with a new\n",
      "    Component (type=<class\n",
      "    'pyomo.core.base.constraint.AbstractSimpleConstraint'>). This is usually\n",
      "    indicative of a modelling error. To avoid this warning, use\n",
      "    block.del_component() and block.add_component().\n",
      "The final DOF is 0\n",
      "The final DOF is 0\n",
      "The final DOF is 0\n",
      "The final DOF is 0\n",
      "The final DOF is 0\n",
      "The final DOF is 0\n",
      "The final DOF is 0\n",
      "The final DOF is 0\n",
      "The final DOF is 0\n",
      "The final DOF is 0\n",
      "The final DOF is 0\n",
      "The final DOF is 0\n",
      "The final DOF is 0\n",
      "The final DOF is 0\n",
      "The final DOF is 0\n",
      "The final DOF is 0\n",
      "The final DOF is 0\n",
      "The final DOF is 0\n",
      "The final DOF is 0\n",
      "The final DOF is 0\n",
      "The final DOF is 0\n",
      "The final DOF is 0\n",
      "The final DOF is 0\n",
      "The final DOF is 0\n",
      "The final DOF is 0\n",
      "The final DOF is 0\n",
      "The final DOF is 0\n",
      "The final DOF is 0\n",
      "The final DOF is 0\n",
      "The final DOF is 0\n",
      "The final DOF is 0\n"
     ]
    }
   ],
   "source": [
    "R32_x,P= calc_outlet_xP(data,m,\"R32\", \"emimTf2N\", k21_348, k12_348,verbose=True)"
   ]
  },
  {
   "cell_type": "code",
   "execution_count": 25,
   "id": "black-blowing",
   "metadata": {},
   "outputs": [
    {
     "data": {
      "image/png": "[encoded data removed]",
      "text/plain": [
       "<Figure size 432x288 with 1 Axes>"
      ]
     },
     "metadata": {
      "needs_background": "light"
     },
     "output_type": "display_data"
    }
   ],
   "source": [
    "# plots with data - model as lines --- need to make this into a function that splits up the T's\n",
    "plt.plot(R32_x[0:7],P[0:7],\"b*-\",label=\"T= 283 K\")  \n",
    "plt.plot(R32_x[7:15],P[7:15],\"r*-\",label=\"T= 298 K\") \n",
    "plt.plot(R32_x[15:23],P[15:23],\"c*-\",label=\"T= 323 K\") \n",
    "plt.plot(R32_x[23:],P[23:],\"m*-\",label=\"T= 348 K\")\n",
    "plt.plot(data[\"x_R32\"],data[\"pressure\"],\"*\",color='orange',label=\"data\")  \n",
    "plt.title('Isotherm [R32][emimTf2N] fit to T= 348 K')\n",
    "plt.ylabel('Pressure (Pa)')\n",
    "plt.xlabel('x R32')\n",
    "plt.grid(True)\n",
    "plt.ylim(0,1300000)\n",
    "plt.legend()\n",
    "plt.show()"
   ]
  },
  {
   "cell_type": "markdown",
   "id": "elegant-influence",
   "metadata": {},
   "source": [
    "# Kappas vs T "
   ]
  },
  {
   "cell_type": "code",
   "execution_count": 26,
   "id": "stupid-architecture",
   "metadata": {},
   "outputs": [
    {
     "data": {
      "image/png": "[encoded data removed]",
      "text/plain": [
       "<Figure size 432x288 with 1 Axes>"
      ]
     },
     "metadata": {
      "needs_background": "light"
     },
     "output_type": "display_data"
    },
    {
     "name": "stdout",
     "output_type": "stream",
     "text": [
      "K12 Values for T=  [283.1 298.1 323.1 348.1] are: \n",
      "[-0.02089208 -0.02010991 -0.01895793 -0.01834496]\n"
     ]
    }
   ],
   "source": [
    "K12 = np.array([k12_283, k12_298, k12_323, k12_348])\n",
    "T = np.array([283.1, 298.1, 323.1, 348.1]) #K\n",
    "plt.plot(T,K12,\"*\",color='orange',label=\"K12\") \n",
    "plt.title('Binary Parameters vs Temperature for R32_emimTf2N Mixture')\n",
    "plt.ylabel('Kappas')\n",
    "plt.xlabel('Temperature')\n",
    "plt.grid(True)\n",
    "plt.legend()\n",
    "plt.show()\n",
    "\n",
    "print('K12 Values for T= ', T, 'are: ')\n",
    "print(K12)"
   ]
  },
  {
   "cell_type": "code",
   "execution_count": 27,
   "id": "right-favorite",
   "metadata": {},
   "outputs": [
    {
     "data": {
      "image/png": "[encoded data removed]",
      "text/plain": [
       "<Figure size 432x288 with 1 Axes>"
      ]
     },
     "metadata": {
      "needs_background": "light"
     },
     "output_type": "display_data"
    },
    {
     "name": "stdout",
     "output_type": "stream",
     "text": [
      "K21 Values for T=  [283.1 298.1 323.1 348.1] are: \n",
      "[-0.02976482 -0.01657215 -0.0027926   0.01415232]\n"
     ]
    }
   ],
   "source": [
    "K21 = np.array([k21_283, k21_298, k21_323, k21_348])\n",
    "plt.plot(T,K21,\"*\",color='blue',label=\"K21\")\n",
    "plt.title('Binary Parameters vs Temperature for R32_emimTf2N Mixture')\n",
    "plt.ylabel('Kappas')\n",
    "plt.xlabel('Temperature')\n",
    "plt.grid(True)\n",
    "plt.legend()\n",
    "plt.show()\n",
    "\n",
    "print('K21 Values for T= ', T, 'are: ')\n",
    "print(K21)"
   ]
  },
  {
   "cell_type": "markdown",
   "id": "union-disease",
   "metadata": {},
   "source": [
    "# Best Fit"
   ]
  },
  {
   "cell_type": "code",
   "execution_count": 28,
   "id": "instrumental-vanilla",
   "metadata": {},
   "outputs": [
    {
     "name": "stdout",
     "output_type": "stream",
     "text": [
      "2021-04-06 14:20:54 [INFO] idaes.generic_models.properties.core.generic.generic_property: DEPRECATED - definiton of generic property packages is moving to using static classes instead of modules. Please refer to the IDAES documentation.\n",
      "2021-04-06 14:20:54 [INFO] idaes.init.fs.state_block: Property package initialization: optimal - Optimal Solution Found.\n",
      "2021-04-06 14:20:54 [INFO] idaes.generic_models.properties.core.generic.generic_property: DEPRECATED - definiton of generic property packages is moving to using static classes instead of modules. Please refer to the IDAES documentation.\n",
      "2021-04-06 14:20:54 [INFO] idaes.init.fs.state_block: Property package initialization: optimal - Optimal Solution Found.\n",
      "2021-04-06 14:20:54 [INFO] idaes.generic_models.properties.core.generic.generic_property: DEPRECATED - definiton of generic property packages is moving to using static classes instead of modules. Please refer to the IDAES documentation.\n",
      "2021-04-06 14:20:55 [INFO] idaes.init.fs.state_block: Property package initialization: infeasible - Converged to a locally infeasible point. Problem may be infeasible..\n",
      "2021-04-06 14:20:55 [INFO] idaes.generic_models.properties.core.generic.generic_property: DEPRECATED - definiton of generic property packages is moving to using static classes instead of modules. Please refer to the IDAES documentation.\n",
      "2021-04-06 14:20:55 [INFO] idaes.init.fs.state_block: Property package initialization: optimal - Optimal Solution Found.\n",
      "2021-04-06 14:20:55 [INFO] idaes.generic_models.properties.core.generic.generic_property: DEPRECATED - definiton of generic property packages is moving to using static classes instead of modules. Please refer to the IDAES documentation.\n",
      "2021-04-06 14:20:55 [INFO] idaes.init.fs.state_block: Property package initialization: optimal - Optimal Solution Found.\n",
      "2021-04-06 14:20:55 [INFO] idaes.generic_models.properties.core.generic.generic_property: DEPRECATED - definiton of generic property packages is moving to using static classes instead of modules. Please refer to the IDAES documentation.\n",
      "2021-04-06 14:20:56 [INFO] idaes.init.fs.state_block: Property package initialization: optimal - Optimal Solution Found.\n",
      "2021-04-06 14:20:56 [INFO] idaes.generic_models.properties.core.generic.generic_property: DEPRECATED - definiton of generic property packages is moving to using static classes instead of modules. Please refer to the IDAES documentation.\n",
      "2021-04-06 14:20:56 [INFO] idaes.init.fs.state_block: Property package initialization: optimal - Optimal Solution Found.\n",
      "2021-04-06 14:20:56 [INFO] idaes.generic_models.properties.core.generic.generic_property: DEPRECATED - definiton of generic property packages is moving to using static classes instead of modules. Please refer to the IDAES documentation.\n",
      "2021-04-06 14:20:56 [INFO] idaes.init.fs.state_block: Property package initialization: optimal - Optimal Solution Found.\n",
      "2021-04-06 14:20:56 [INFO] idaes.generic_models.properties.core.generic.generic_property: DEPRECATED - definiton of generic property packages is moving to using static classes instead of modules. Please refer to the IDAES documentation.\n",
      "2021-04-06 14:20:56 [INFO] idaes.init.fs.state_block: Property package initialization: optimal - Optimal Solution Found.\n",
      "2021-04-06 14:20:56 [INFO] idaes.generic_models.properties.core.generic.generic_property: DEPRECATED - definiton of generic property packages is moving to using static classes instead of modules. Please refer to the IDAES documentation.\n",
      "2021-04-06 14:20:57 [INFO] idaes.init.fs.state_block: Property package initialization: optimal - Optimal Solution Found.\n",
      "2021-04-06 14:20:57 [INFO] idaes.generic_models.properties.core.generic.generic_property: DEPRECATED - definiton of generic property packages is moving to using static classes instead of modules. Please refer to the IDAES documentation.\n",
      "2021-04-06 14:20:57 [INFO] idaes.init.fs.state_block: Property package initialization: optimal - Optimal Solution Found.\n",
      "2021-04-06 14:20:57 [INFO] idaes.generic_models.properties.core.generic.generic_property: DEPRECATED - definiton of generic property packages is moving to using static classes instead of modules. Please refer to the IDAES documentation.\n",
      "2021-04-06 14:20:57 [INFO] idaes.init.fs.state_block: Property package initialization: optimal - Optimal Solution Found.\n",
      "2021-04-06 14:20:57 [INFO] idaes.generic_models.properties.core.generic.generic_property: DEPRECATED - definiton of generic property packages is moving to using static classes instead of modules. Please refer to the IDAES documentation.\n",
      "2021-04-06 14:20:57 [INFO] idaes.init.fs.state_block: Property package initialization: optimal - Optimal Solution Found.\n",
      "2021-04-06 14:20:57 [INFO] idaes.generic_models.properties.core.generic.generic_property: DEPRECATED - definiton of generic property packages is moving to using static classes instead of modules. Please refer to the IDAES documentation.\n",
      "2021-04-06 14:20:58 [INFO] idaes.init.fs.state_block: Property package initialization: optimal - Optimal Solution Found.\n",
      "2021-04-06 14:20:58 [INFO] idaes.generic_models.properties.core.generic.generic_property: DEPRECATED - definiton of generic property packages is moving to using static classes instead of modules. Please refer to the IDAES documentation.\n",
      "2021-04-06 14:20:58 [INFO] idaes.init.fs.state_block: Property package initialization: optimal - Optimal Solution Found.\n",
      "2021-04-06 14:20:58 [INFO] idaes.generic_models.properties.core.generic.generic_property: DEPRECATED - definiton of generic property packages is moving to using static classes instead of modules. Please refer to the IDAES documentation.\n",
      "2021-04-06 14:20:58 [INFO] idaes.init.fs.state_block: Property package initialization: optimal - Optimal Solution Found.\n",
      "2021-04-06 14:20:58 [INFO] idaes.generic_models.properties.core.generic.generic_property: DEPRECATED - definiton of generic property packages is moving to using static classes instead of modules. Please refer to the IDAES documentation.\n",
      "2021-04-06 14:20:59 [INFO] idaes.init.fs.state_block: Property package initialization: optimal - Optimal Solution Found.\n",
      "2021-04-06 14:20:59 [INFO] idaes.generic_models.properties.core.generic.generic_property: DEPRECATED - definiton of generic property packages is moving to using static classes instead of modules. Please refer to the IDAES documentation.\n",
      "2021-04-06 14:20:59 [INFO] idaes.init.fs.state_block: Property package initialization: optimal - Optimal Solution Found.\n",
      "2021-04-06 14:20:59 [INFO] idaes.generic_models.properties.core.generic.generic_property: DEPRECATED - definiton of generic property packages is moving to using static classes instead of modules. Please refer to the IDAES documentation.\n",
      "2021-04-06 14:20:59 [INFO] idaes.init.fs.state_block: Property package initialization: optimal - Optimal Solution Found.\n",
      "2021-04-06 14:20:59 [INFO] idaes.generic_models.properties.core.generic.generic_property: DEPRECATED - definiton of generic property packages is moving to using static classes instead of modules. Please refer to the IDAES documentation.\n",
      "2021-04-06 14:20:59 [INFO] idaes.init.fs.state_block: Property package initialization: optimal - Optimal Solution Found.\n",
      "2021-04-06 14:20:59 [INFO] idaes.generic_models.properties.core.generic.generic_property: DEPRECATED - definiton of generic property packages is moving to using static classes instead of modules. Please refer to the IDAES documentation.\n",
      "2021-04-06 14:21:00 [INFO] idaes.init.fs.state_block: Property package initialization: optimal - Optimal Solution Found.\n",
      "2021-04-06 14:21:00 [INFO] idaes.generic_models.properties.core.generic.generic_property: DEPRECATED - definiton of generic property packages is moving to using static classes instead of modules. Please refer to the IDAES documentation.\n",
      "2021-04-06 14:21:00 [INFO] idaes.init.fs.state_block: Property package initialization: optimal - Optimal Solution Found.\n",
      "2021-04-06 14:21:00 [INFO] idaes.generic_models.properties.core.generic.generic_property: DEPRECATED - definiton of generic property packages is moving to using static classes instead of modules. Please refer to the IDAES documentation.\n",
      "2021-04-06 14:21:00 [INFO] idaes.init.fs.state_block: Property package initialization: optimal - Optimal Solution Found.\n"
     ]
    },
    {
     "name": "stdout",
     "output_type": "stream",
     "text": [
      "2021-04-06 14:21:00 [INFO] idaes.generic_models.properties.core.generic.generic_property: DEPRECATED - definiton of generic property packages is moving to using static classes instead of modules. Please refer to the IDAES documentation.\n",
      "2021-04-06 14:21:00 [INFO] idaes.init.fs.state_block: Property package initialization: optimal - Optimal Solution Found.\n",
      "2021-04-06 14:21:00 [INFO] idaes.generic_models.properties.core.generic.generic_property: DEPRECATED - definiton of generic property packages is moving to using static classes instead of modules. Please refer to the IDAES documentation.\n",
      "2021-04-06 14:21:01 [INFO] idaes.init.fs.state_block: Property package initialization: optimal - Optimal Solution Found.\n",
      "2021-04-06 14:21:01 [INFO] idaes.generic_models.properties.core.generic.generic_property: DEPRECATED - definiton of generic property packages is moving to using static classes instead of modules. Please refer to the IDAES documentation.\n",
      "2021-04-06 14:21:01 [INFO] idaes.init.fs.state_block: Property package initialization: optimal - Optimal Solution Found.\n",
      "2021-04-06 14:21:01 [INFO] idaes.generic_models.properties.core.generic.generic_property: DEPRECATED - definiton of generic property packages is moving to using static classes instead of modules. Please refer to the IDAES documentation.\n",
      "2021-04-06 14:21:01 [INFO] idaes.init.fs.state_block: Property package initialization: optimal - Optimal Solution Found.\n",
      "2021-04-06 14:21:01 [INFO] idaes.generic_models.properties.core.generic.generic_property: DEPRECATED - definiton of generic property packages is moving to using static classes instead of modules. Please refer to the IDAES documentation.\n",
      "2021-04-06 14:21:02 [INFO] idaes.init.fs.state_block: Property package initialization: optimal - Optimal Solution Found.\n",
      "2021-04-06 14:21:02 [INFO] idaes.generic_models.properties.core.generic.generic_property: DEPRECATED - definiton of generic property packages is moving to using static classes instead of modules. Please refer to the IDAES documentation.\n",
      "2021-04-06 14:21:02 [INFO] idaes.init.fs.state_block: Property package initialization: optimal - Optimal Solution Found.\n",
      "2021-04-06 14:21:02 [INFO] idaes.generic_models.properties.core.generic.generic_property: DEPRECATED - definiton of generic property packages is moving to using static classes instead of modules. Please refer to the IDAES documentation.\n",
      "2021-04-06 14:21:02 [INFO] idaes.init.fs.state_block: Property package initialization: optimal - Optimal Solution Found.\n",
      "2021-04-06 14:21:02 [INFO] idaes.generic_models.properties.core.generic.generic_property: DEPRECATED - definiton of generic property packages is moving to using static classes instead of modules. Please refer to the IDAES documentation.\n",
      "2021-04-06 14:21:02 [INFO] idaes.init.fs.state_block: Property package initialization: optimal - Optimal Solution Found.\n",
      "Ipopt 3.13.2: \n",
      "\n",
      "******************************************************************************\n",
      "This program contains Ipopt, a library for large-scale nonlinear optimization.\n",
      " Ipopt is released as open source code under the Eclipse Public License (EPL).\n",
      "         For more information visit http://projects.coin-or.org/Ipopt\n",
      "\n",
      "This version of Ipopt was compiled from source code available at\n",
      "    https://github.com/IDAES/Ipopt as part of the Institute for the Design of\n",
      "    Advanced Energy Systems Process Systems Engineering Framework (IDAES PSE\n",
      "    Framework) Copyright (c) 2018-2019. See https://github.com/IDAES/idaes-pse.\n",
      "\n",
      "This version of Ipopt was compiled using HSL, a collection of Fortran codes\n",
      "    for large-scale scientific computation.  All technical papers, sales and\n",
      "    publicity material resulting from use of the HSL codes within IPOPT must\n",
      "    contain the following acknowledgement:\n",
      "        HSL, a collection of Fortran codes for large-scale scientific\n",
      "        computation. See http://www.hsl.rl.ac.uk.\n",
      "******************************************************************************\n",
      "\n",
      "This is Ipopt version 3.13.2, running with linear solver ma27.\n",
      "\n",
      "Number of nonzeros in equality constraint Jacobian...:     1054\n",
      "Number of nonzeros in inequality constraint Jacobian.:        0\n",
      "Number of nonzeros in Lagrangian Hessian.............:     1054\n",
      "\n",
      "Total number of variables............................:      436\n",
      "                     variables with only lower bounds:      186\n",
      "                variables with lower and upper bounds:      186\n",
      "                     variables with only upper bounds:        0\n",
      "Total number of equality constraints.................:      434\n",
      "Total number of inequality constraints...............:        0\n",
      "        inequality constraints with only lower bounds:        0\n",
      "   inequality constraints with lower and upper bounds:        0\n",
      "        inequality constraints with only upper bounds:        0\n",
      "\n",
      "iter    objective    inf_pr   inf_du lg(mu)  ||d||  lg(rg) alpha_du alpha_pr  ls\n",
      "   0  0.0000000e+00 3.24e-01 2.84e-14  -1.0 0.00e+00    -  0.00e+00 0.00e+00   0\n",
      "   1  2.8235311e-06 3.23e-01 2.49e+02  -1.0 6.27e+04    -  4.98e-01 1.97e-03h  1\n",
      "   2  6.7227371e-02 2.93e-01 3.62e+03  -1.0 2.03e+05    -  7.42e-01 9.42e-02h  1\n",
      "   3  7.8717620e+00 3.88e-02 1.36e+04  -1.0 1.90e+05    -  5.82e-01 9.90e-01h  1\n",
      "   4  9.7260029e+00 1.10e-03 3.25e+03  -1.0 2.40e+04    -  8.82e-01 9.90e-01h  1\n",
      "   5  9.7482408e+00 6.06e-04 1.53e+03  -1.0 2.08e+03    -  9.86e-01 1.00e+00h  1\n",
      "   6  9.5915059e+00 6.21e-03 5.45e+06  -1.0 2.24e+04    -  4.49e-01 1.00e+00F  1\n",
      "   7  9.5202465e+00 7.99e-03 7.51e+05  -1.0 3.84e+04    -  8.62e-01 1.00e+00F  1\n",
      "   8  9.7369610e+00 2.45e-03 3.35e+04  -1.0 3.80e+04    -  9.55e-01 1.00e+00F  1\n",
      "   9  9.7984600e+00 4.98e-05 3.30e+02  -1.0 1.32e+03    -  9.90e-01 1.00e+00h  1\n",
      "iter    objective    inf_pr   inf_du lg(mu)  ||d||  lg(rg) alpha_du alpha_pr  ls\n",
      "  10  9.5143891e+00 2.27e-03 1.90e+06  -2.5 2.88e+04    -  9.76e-01 7.79e-01f  1\n",
      "  11  9.4776884e+00 1.35e-03 5.22e+00  -2.5 1.73e+04    -  1.00e+00 1.00e+00h  1\n",
      "  12  9.4774322e+00 1.66e-05 1.13e-01  -2.5 2.51e+03    -  1.00e+00 1.00e+00h  1\n",
      "  13  9.4741328e+00 3.48e-05 3.82e+03  -5.7 2.19e+03    -  9.97e-01 9.84e-01h  1\n",
      "  14  9.4741606e+00 5.52e-08 2.11e-04  -5.7 1.10e+02    -  1.00e+00 1.00e+00h  1\n",
      "  15  9.4741606e+00 3.11e-11 3.03e-10  -5.7 1.34e-01    -  1.00e+00 1.00e+00h  1\n",
      "  16  9.4741588e+00 5.22e-11 3.64e-08  -8.6 1.46e+00    -  1.00e+00 1.00e+00h  1\n",
      "  17  9.4741588e+00 4.93e-12 9.46e-12  -8.6 3.32e-05    -  1.00e+00 1.00e+00h  1\n",
      "\n",
      "Number of Iterations....: 17\n",
      "\n",
      "                                   (scaled)                 (unscaled)\n",
      "Objective...............:   9.4741587889884471e+00    9.4741587889884471e+00\n",
      "Dual infeasibility......:   9.4589891475038712e-12    9.4589891475038712e-12\n",
      "Constraint violation....:   4.9338311214341957e-12    4.9338311214341957e-12\n",
      "Complementarity.........:   2.5059035597023725e-09    2.5059035597023725e-09\n",
      "Overall NLP error.......:   2.5059035597023725e-09    2.5059035597023725e-09\n",
      "\n",
      "\n",
      "Number of objective function evaluations             = 22\n",
      "Number of objective gradient evaluations             = 18\n",
      "Number of equality constraint evaluations            = 22\n",
      "Number of inequality constraint evaluations          = 0\n",
      "Number of equality constraint Jacobian evaluations   = 18\n",
      "Number of inequality constraint Jacobian evaluations = 0\n",
      "Number of Lagrangian Hessian evaluations             = 17\n",
      "Total CPU secs in IPOPT (w/o function evaluations)   =      0.022\n",
      "Total CPU secs in NLP function evaluations           =      0.219\n",
      "\n",
      "EXIT: Optimal Solution Found.\n",
      "The SSE at the optimal solution is 9.474159\n",
      "\n",
      "The values for the parameters are as follows:\n",
      "fs.properties.PR_kappa[R32,emimTf2N] = -0.02437281139381565\n",
      "fs.properties.PR_kappa[emimTf2N,R32] = -0.08519540502907186\n"
     ]
    }
   ],
   "source": [
    "binary_params_peng(data, configuration, 'R32', 'emimTf2N', \"x_R32\", \"x_emimTf2N\", \n",
    "    init_temp =  298.15, init_press =   399400 , init_x_c1 =    0.417, init_x_c2 = 0.583,\n",
    "    init_kappa_2_1 = k21_283, init_kappa_1_2 = k12_283, eps = 0.1, scaling_fac = 1e-9 , read=False)"
   ]
  },
  {
   "cell_type": "code",
   "execution_count": null,
   "id": "physical-small",
   "metadata": {},
   "outputs": [],
   "source": [
    "k12 = -0.02437281139381565\n",
    "k21 = -0.08519540502907186"
   ]
  },
  {
   "cell_type": "code",
   "execution_count": null,
   "id": "twenty-talent",
   "metadata": {},
   "outputs": [],
   "source": []
  },
  {
   "cell_type": "code",
   "execution_count": null,
   "id": "extra-southeast",
   "metadata": {},
   "outputs": [],
   "source": [
    "# plots with data - model as lines --- need to make this into a function that splits up the T's\n",
    "plt.plot(R32_x[0:7],P[0:7],\"b*-\",label=\"T= 283 K\")  \n",
    "plt.plot(R32_x[7:15],P[7:15],\"r*-\",label=\"T= 298 K\") \n",
    "plt.plot(R32_x[15:23],P[15:23],\"c*-\",label=\"T= 323 K\") \n",
    "plt.plot(R32_x[23:],P[23:],\"m*-\",label=\"T= 348 K\")\n",
    "plt.plot(data[\"x_R32\"],data[\"pressure\"],\"*\",color='orange',label=\"data\")  \n",
    "plt.title('Isotherm [R32][emimTf2N] fit to T= 348 K')\n",
    "plt.ylabel('Pressure (Pa)')\n",
    "plt.xlabel('x R32')\n",
    "plt.grid(True)\n",
    "plt.ylim(0,1300000)\n",
    "plt.legend()\n",
    "plt.show()"
   ]
  }
 ],
 "metadata": {
  "kernelspec": {
   "display_name": "Python 3",
   "language": "python",
   "name": "python3"
  },
  "language_info": {
   "codemirror_mode": {
    "name": "ipython",
    "version": 3
   },
   "file_extension": ".py",
   "mimetype": "text/x-python",
   "name": "python",
   "nbconvert_exporter": "python",
   "pygments_lexer": "ipython3",
   "version": "3.9.2"
  }
 },
 "nbformat": 4,
 "nbformat_minor": 5
}
