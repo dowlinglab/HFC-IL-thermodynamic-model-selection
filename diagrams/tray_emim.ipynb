{
 "cells": [
  {
   "cell_type": "code",
   "execution_count": 1,
   "id": "relative-heritage",
   "metadata": {},
   "outputs": [],
   "source": [
    "from pyomo.environ import (Constraint,\n",
    "                           Var,\n",
    "                           ConcreteModel,\n",
    "                           Expression,\n",
    "                           Param,\n",
    "                           Objective,\n",
    "                           SolverFactory,\n",
    "                           TransformationFactory,\n",
    "                           value)\n",
    "\n",
    "# Import plotting functions\n",
    "import matplotlib.pyplot as plt\n",
    "\n",
    "# Import numpy library \n",
    "import numpy as np\n",
    "\n",
    "# Import the main FlowsheetBlock from IDAES. The flowsheet block will contain the unit model\n",
    "from idaes.core import FlowsheetBlock\n",
    "\n",
    "import idaes.logger as idaeslog\n",
    "\n",
    "from pyomo.opt import TerminationCondition, SolverStatus\n",
    "\n",
    "from idaes.core.util.model_statistics import degrees_of_freedom\n",
    "\n",
    "# Import the Generic Parameter Block\n",
    "from idaes.generic_models.properties.core.generic.generic_property import (\n",
    "        GenericParameterBlock)\n",
    "\n",
    "# Import unit models from the model library\n",
    "from idaes.generic_models.unit_models.distillation import TrayColumn\n",
    "from idaes.generic_models.unit_models.distillation.condenser \\\n",
    "    import CondenserType, TemperatureSpec"
   ]
  },
  {
   "cell_type": "code",
   "execution_count": 2,
   "id": "preliminary-alignment",
   "metadata": {},
   "outputs": [],
   "source": [
    "from HFCS_bmimPF6_PR import configuration"
   ]
  },
  {
   "cell_type": "code",
   "execution_count": 3,
   "id": "proof-petite",
   "metadata": {},
   "outputs": [
    {
     "name": "stdout",
     "output_type": "stream",
     "text": [
      "2021-04-23 10:56:10 [INFO] idaes.generic_models.properties.core.generic.generic_property: DEPRECATED - definiton of generic property packages is moving to using static classes instead of modules. Please refer to the IDAES documentation.\n"
     ]
    }
   ],
   "source": [
    "# Create the ConcreteModel and the FlowsheetBlock, and attach the flowsheet block to it.\n",
    "m = ConcreteModel()\n",
    "\n",
    "m.fs = FlowsheetBlock(default={\"dynamic\": False}) \n",
    "\n",
    "# Add properties parameter blocks to the flowsheet with specifications\n",
    "m.fs.props = GenericParameterBlock(default=configuration)"
   ]
  },
  {
   "cell_type": "code",
   "execution_count": 4,
   "id": "abroad-listening",
   "metadata": {
    "scrolled": false
   },
   "outputs": [],
   "source": [
    "m.fs.unit = TrayColumn(default={\n",
    "                       \"number_of_trays\": 5,\n",
    "                       \"feed_tray_location\":2,\n",
    "                       \"condenser_type\": CondenserType.totalCondenser,\n",
    "                       \"condenser_temperature_spec\":\n",
    "                           TemperatureSpec.atBubblePoint,\n",
    "                       \"property_package\": m.fs.props,\n",
    "                       \"has_heat_transfer\": False,\n",
    "                       \"has_pressure_change\": False})"
   ]
  },
  {
   "cell_type": "code",
   "execution_count": 5,
   "id": "minimal-symphony",
   "metadata": {},
   "outputs": [],
   "source": [
    "m.fs.props.PR_kappa['R32', 'R125'].fix(-0.002535)\n",
    "m.fs.props.PR_kappa['R125', 'R32'].fix(-0.002535)\n",
    "m.fs.props.PR_kappa['R32', 'bmimPF6'].fix(-0.01435)\n",
    "m.fs.props.PR_kappa['bmimPF6', 'R32'].fix(0.9651)\n",
    "m.fs.props.PR_kappa['bmimPF6', 'R125'].fix(0.6312)\n",
    "m.fs.props.PR_kappa['R125', 'bmimPF6'].fix(0.0504)\n",
    "\n",
    "# m.fs.props.PR_kappa['R32', 'bmimPF6'].fix(-0.05102)\n",
    "# m.fs.props.PR_kappa['bmimPF6', 'R32'].fix(0.2839)\n",
    "# m.fs.props.PR_kappa['bmimPF6', 'R125'].fix(1.6929)\n",
    "# m.fs.props.PR_kappa['R125', 'bmimPF6'].fix(0.04738)"
   ]
  },
  {
   "cell_type": "code",
   "execution_count": 6,
   "id": "announced-disposition",
   "metadata": {},
   "outputs": [],
   "source": [
    "# Fix Heater H101 inlet conditions\n",
    "m.fs.unit.feed.mole_frac_comp[0, \"R32\"].fix(0.20)\n",
    "m.fs.unit.feed.mole_frac_comp[0, \"R125\"].fix(0.10)\n",
    "m.fs.unit.feed.mole_frac_comp[0, \"bmimPF6\"].fix(0.7)\n",
    "\n",
    "m.fs.unit.feed.flow_mol.fix(100)\n",
    "m.fs.unit.feed.temperature.fix(298.15)\n",
    "m.fs.unit.feed.pressure.fix(100000)"
   ]
  },
  {
   "cell_type": "code",
   "execution_count": 7,
   "id": "suffering-gnome",
   "metadata": {},
   "outputs": [],
   "source": [
    "m.fs.unit.condenser.reflux_ratio.fix(1.1)\n",
    "# m.fs.unit.condenser.reflux_ratio.fix(1.1)\n",
    "m.fs.unit.condenser.condenser_pressure.fix(100000)\n",
    "\n",
    "m.fs.unit.reboiler.boilup_ratio.fix(0.35)\n",
    "# m.fs.unit.reboiler.control_volume.properties_out[0].temperature.fix(350)\n",
    "# m.fs.unit.condenser.temperature.fix(286)\n",
    "# m.fs.unit.condenser.vapor_outlet.temperature.fix(286)"
   ]
  },
  {
   "cell_type": "code",
   "execution_count": 8,
   "id": "electronic-sydney",
   "metadata": {},
   "outputs": [
    {
     "name": "stdout",
     "output_type": "stream",
     "text": [
      "0\n",
      "6\n",
      "6\n"
     ]
    }
   ],
   "source": [
    "print(degrees_of_freedom(m.fs.unit))\n",
    "print(degrees_of_freedom(m.fs.unit.condenser))\n",
    "print(degrees_of_freedom(m.fs.unit.reboiler))"
   ]
  },
  {
   "cell_type": "code",
   "execution_count": null,
   "id": "expensive-quest",
   "metadata": {
    "scrolled": false
   },
   "outputs": [
    {
     "name": "stdout",
     "output_type": "stream",
     "text": [
      "2021-04-23 10:56:14 [INFO] idaes.init.fs.unit: Begin initialization.\n",
      "2021-04-23 10:56:14 [WARNING] idaes.init.fs.unit: Solver not provided. Default solver(ipopt) being used for initialization.\n",
      "2021-04-23 10:56:14 [INFO] idaes.init.fs.unit.feed_tray: Begin initialization.\n",
      "2021-04-23 10:56:14 [WARNING] idaes.init.fs.unit.feed_tray: Solver not provided. Default solver(ipopt)  being used for initialization.\n",
      "2021-04-23 10:56:14 [INFO] idaes.init.fs.unit.feed_tray.properties_in_feed: Starting initialization\n",
      "2021-04-23 10:56:14 [INFO] idaes.init.fs.unit.feed_tray.properties_in_feed: Dew and bubble point initialization: optimal - Optimal Solution Found.\n",
      "2021-04-23 10:56:14 [INFO] idaes.init.fs.unit.feed_tray.properties_in_feed: Equilibrium temperature initialization completed.\n",
      "2021-04-23 10:56:15 [INFO] idaes.init.fs.unit.feed_tray.properties_in_feed: Phase equilibrium initialization: optimal - Optimal Solution Found.\n",
      "2021-04-23 10:56:16 [INFO] idaes.init.fs.unit.feed_tray.properties_in_feed: Property initialization: optimal - Optimal Solution Found.\n",
      "2021-04-23 10:56:16 [INFO] idaes.init.fs.unit.feed_tray.properties_in_liq: Starting initialization\n",
      "2021-04-23 10:56:17 [INFO] idaes.init.fs.unit.feed_tray.properties_in_liq: Dew and bubble point initialization: optimal - Optimal Solution Found.\n",
      "2021-04-23 10:56:17 [INFO] idaes.init.fs.unit.feed_tray.properties_in_liq: Equilibrium temperature initialization completed.\n",
      "2021-04-23 10:56:17 [INFO] idaes.init.fs.unit.feed_tray.properties_in_liq: Phase equilibrium initialization: optimal - Optimal Solution Found.\n",
      "2021-04-23 10:56:18 [INFO] idaes.init.fs.unit.feed_tray.properties_in_liq: Property initialization: optimal - Optimal Solution Found.\n",
      "2021-04-23 10:56:18 [INFO] idaes.init.fs.unit.feed_tray.properties_in_vap: Starting initialization\n",
      "2021-04-23 10:56:19 [INFO] idaes.init.fs.unit.feed_tray.properties_in_vap: Dew and bubble point initialization: optimal - Optimal Solution Found.\n",
      "2021-04-23 10:56:19 [INFO] idaes.init.fs.unit.feed_tray.properties_in_vap: Equilibrium temperature initialization completed.\n",
      "2021-04-23 10:56:20 [INFO] idaes.init.fs.unit.feed_tray.properties_in_vap: Phase equilibrium initialization: optimal - Optimal Solution Found.\n",
      "2021-04-23 10:56:20 [INFO] idaes.init.fs.unit.feed_tray.properties_in_vap: Property initialization: optimal - Optimal Solution Found.\n",
      "2021-04-23 10:56:20 [INFO] idaes.init.fs.unit.feed_tray.properties_out: Starting initialization\n",
      "2021-04-23 10:56:21 [INFO] idaes.init.fs.unit.feed_tray.properties_out: Dew and bubble point initialization: optimal - Optimal Solution Found.\n",
      "2021-04-23 10:56:21 [INFO] idaes.init.fs.unit.feed_tray.properties_out: Equilibrium temperature initialization completed.\n",
      "2021-04-23 10:56:22 [INFO] idaes.init.fs.unit.feed_tray.properties_out: Phase equilibrium initialization: optimal - Optimal Solution Found.\n",
      "2021-04-23 10:56:22 [INFO] idaes.init.fs.unit.feed_tray.properties_out: Property initialization: optimal - Optimal Solution Found.\n",
      "2021-04-23 10:56:22 [INFO] idaes.init.fs.unit.feed_tray.properties_out: Property package initialization: optimal - Optimal Solution Found.\n",
      "2021-04-23 10:56:25 [INFO] idaes.init.fs.unit.feed_tray: Mass balance solve optimal - Optimal Solution Found.\n",
      "2021-04-23 10:56:28 [INFO] idaes.init.fs.unit.feed_tray: Mass and energy balance solve optimal - Optimal Solution Found.\n",
      "2021-04-23 10:56:31 [INFO] idaes.init.fs.unit.feed_tray: Mass, energy and pressure balance solve optimal - Optimal Solution Found.\n",
      "2021-04-23 10:56:31 [INFO] idaes.init.fs.unit.feed_tray: Initialization complete, status optimal - Optimal Solution Found.\n",
      "2021-04-23 10:56:31 [WARNING] idaes.init.fs.unit.condenser: Solver not provided. Default solver(ipopt)  being used for initialization.\n",
      "2021-04-23 10:56:31 [INFO] idaes.init.fs.unit.condenser.control_volume.properties_in: Starting initialization\n",
      "2021-04-23 10:56:32 [INFO] idaes.init.fs.unit.condenser.control_volume.properties_in: Dew and bubble point initialization: optimal - Optimal Solution Found.\n",
      "2021-04-23 10:56:32 [INFO] idaes.init.fs.unit.condenser.control_volume.properties_in: Equilibrium temperature initialization completed.\n",
      "2021-04-23 10:56:33 [INFO] idaes.init.fs.unit.condenser.control_volume.properties_in: Phase equilibrium initialization: optimal - Optimal Solution Found.\n",
      "2021-04-23 10:56:33 [INFO] idaes.init.fs.unit.condenser.control_volume.properties_in: Property initialization: optimal - Optimal Solution Found.\n",
      "2021-04-23 10:56:33 [INFO] idaes.init.fs.unit.condenser.control_volume.properties_out: Starting initialization\n",
      "2021-04-23 10:56:34 [INFO] idaes.init.fs.unit.condenser.control_volume.properties_out: Dew and bubble point initialization: optimal - Optimal Solution Found.\n",
      "2021-04-23 10:56:34 [INFO] idaes.init.fs.unit.condenser.control_volume.properties_out: Equilibrium temperature initialization completed.\n",
      "2021-04-23 10:56:35 [INFO] idaes.init.fs.unit.condenser.control_volume.properties_out: Phase equilibrium initialization: optimal - Optimal Solution Found.\n",
      "2021-04-23 10:56:35 [INFO] idaes.init.fs.unit.condenser.control_volume.properties_out: Property initialization: optimal - Optimal Solution Found.\n",
      "2021-04-23 10:56:35 [INFO] idaes.init.fs.unit.condenser.control_volume: Initialization Complete\n",
      "2021-04-23 10:56:37 [INFO] idaes.init.fs.unit.condenser: Initialization Complete, optimal - Optimal Solution Found.\n",
      "2021-04-23 10:56:37 [WARNING] idaes.init.fs.unit.reboiler: Solver not provided. Default solver(ipopt)  being used for initialization.\n",
      "2021-04-23 10:56:37 [INFO] idaes.init.fs.unit.reboiler.control_volume.properties_in: Starting initialization\n",
      "2021-04-23 10:56:37 [INFO] idaes.init.fs.unit.reboiler.control_volume.properties_in: Dew and bubble point initialization: optimal - Optimal Solution Found.\n",
      "2021-04-23 10:56:37 [INFO] idaes.init.fs.unit.reboiler.control_volume.properties_in: Equilibrium temperature initialization completed.\n",
      "2021-04-23 10:56:38 [INFO] idaes.init.fs.unit.reboiler.control_volume.properties_in: Phase equilibrium initialization: optimal - Optimal Solution Found.\n",
      "2021-04-23 10:56:38 [INFO] idaes.init.fs.unit.reboiler.control_volume.properties_in: Property initialization: optimal - Optimal Solution Found.\n",
      "2021-04-23 10:56:38 [INFO] idaes.init.fs.unit.reboiler.control_volume.properties_out: Starting initialization\n",
      "2021-04-23 10:56:39 [INFO] idaes.init.fs.unit.reboiler.control_volume.properties_out: Dew and bubble point initialization: optimal - Optimal Solution Found.\n",
      "2021-04-23 10:56:39 [INFO] idaes.init.fs.unit.reboiler.control_volume.properties_out: Equilibrium temperature initialization completed.\n",
      "2021-04-23 10:56:39 [INFO] idaes.init.fs.unit.reboiler.control_volume.properties_out: Phase equilibrium initialization: optimal - Optimal Solution Found.\n",
      "2021-04-23 10:56:40 [INFO] idaes.init.fs.unit.reboiler.control_volume.properties_out: Property initialization: optimal - Optimal Solution Found.\n",
      "2021-04-23 10:56:40 [INFO] idaes.init.fs.unit.reboiler.control_volume.properties_out: Property package initialization: optimal - Optimal Solution Found.\n",
      "2021-04-23 10:56:46 [INFO] idaes.init.fs.unit.reboiler: Initialization Complete, infeasible - Converged to a locally infeasible point. Problem may be infeasible..\n",
      "2021-04-23 10:56:46 [INFO] idaes.init.fs.unit.rectification_section[1]: Begin initialization.\n",
      "2021-04-23 10:56:46 [WARNING] idaes.init.fs.unit.rectification_section[1]: Solver not provided. Default solver(ipopt)  being used for initialization.\n",
      "2021-04-23 10:56:46 [INFO] idaes.init.fs.unit.rectification_section[1].properties_in_liq: Starting initialization\n",
      "2021-04-23 10:56:46 [INFO] idaes.init.fs.unit.rectification_section[1].properties_in_liq: Dew and bubble point initialization: optimal - Optimal Solution Found.\n",
      "2021-04-23 10:56:46 [INFO] idaes.init.fs.unit.rectification_section[1].properties_in_liq: Equilibrium temperature initialization completed.\n",
      "2021-04-23 10:56:47 [INFO] idaes.init.fs.unit.rectification_section[1].properties_in_liq: Phase equilibrium initialization: optimal - Optimal Solution Found.\n",
      "2021-04-23 10:56:47 [INFO] idaes.init.fs.unit.rectification_section[1].properties_in_liq: Property initialization: optimal - Optimal Solution Found.\n",
      "2021-04-23 10:56:47 [INFO] idaes.init.fs.unit.rectification_section[1].properties_in_vap: Starting initialization\n"
     ]
    },
    {
     "name": "stdout",
     "output_type": "stream",
     "text": [
      "2021-04-23 10:56:48 [INFO] idaes.init.fs.unit.rectification_section[1].properties_in_vap: Dew and bubble point initialization: optimal - Optimal Solution Found.\n",
      "2021-04-23 10:56:48 [INFO] idaes.init.fs.unit.rectification_section[1].properties_in_vap: Equilibrium temperature initialization completed.\n",
      "2021-04-23 10:56:48 [INFO] idaes.init.fs.unit.rectification_section[1].properties_in_vap: Phase equilibrium initialization: optimal - Optimal Solution Found.\n",
      "2021-04-23 10:56:49 [INFO] idaes.init.fs.unit.rectification_section[1].properties_in_vap: Property initialization: optimal - Optimal Solution Found.\n",
      "2021-04-23 10:56:49 [INFO] idaes.init.fs.unit.rectification_section[1].properties_out: Starting initialization\n",
      "2021-04-23 10:56:50 [INFO] idaes.init.fs.unit.rectification_section[1].properties_out: Dew and bubble point initialization: optimal - Optimal Solution Found.\n",
      "2021-04-23 10:56:50 [INFO] idaes.init.fs.unit.rectification_section[1].properties_out: Equilibrium temperature initialization completed.\n",
      "2021-04-23 10:56:50 [INFO] idaes.init.fs.unit.rectification_section[1].properties_out: Phase equilibrium initialization: infeasible - Converged to a locally infeasible point. Problem may be infeasible..\n",
      "2021-04-23 10:56:51 [INFO] idaes.init.fs.unit.rectification_section[1].properties_out: Property initialization: infeasible - Converged to a locally infeasible point. Problem may be infeasible..\n",
      "2021-04-23 10:56:51 [INFO] idaes.init.fs.unit.rectification_section[1].properties_out: Property package initialization: infeasible - Converged to a locally infeasible point. Problem may be infeasible..\n",
      "2021-04-23 10:56:53 [INFO] idaes.init.fs.unit.rectification_section[1]: Mass balance solve infeasible - Converged to a locally infeasible point. Problem may be infeasible..\n",
      "2021-04-23 10:56:55 [INFO] idaes.init.fs.unit.rectification_section[1]: Mass and energy balance solve optimal - Optimal Solution Found.\n",
      "2021-04-23 10:56:57 [INFO] idaes.init.fs.unit.rectification_section[1]: Mass, energy and pressure balance solve optimal - Optimal Solution Found.\n",
      "2021-04-23 10:56:57 [INFO] idaes.init.fs.unit.rectification_section[1]: Initialization complete, status optimal - Optimal Solution Found.\n",
      "2021-04-23 10:56:57 [INFO] idaes.init.fs.unit.stripping_section[3]: Begin initialization.\n",
      "2021-04-23 10:56:57 [WARNING] idaes.init.fs.unit.stripping_section[3]: Solver not provided. Default solver(ipopt)  being used for initialization.\n",
      "2021-04-23 10:56:57 [INFO] idaes.init.fs.unit.stripping_section[3].properties_in_liq: Starting initialization\n",
      "2021-04-23 10:56:58 [INFO] idaes.init.fs.unit.stripping_section[3].properties_in_liq: Dew and bubble point initialization: optimal - Optimal Solution Found.\n",
      "2021-04-23 10:56:58 [INFO] idaes.init.fs.unit.stripping_section[3].properties_in_liq: Equilibrium temperature initialization completed.\n",
      "2021-04-23 10:56:58 [INFO] idaes.init.fs.unit.stripping_section[3].properties_in_liq: Phase equilibrium initialization: optimal - Optimal Solution Found.\n",
      "2021-04-23 10:56:59 [INFO] idaes.init.fs.unit.stripping_section[3].properties_in_liq: Property initialization: optimal - Optimal Solution Found.\n",
      "2021-04-23 10:56:59 [INFO] idaes.init.fs.unit.stripping_section[3].properties_in_vap: Starting initialization\n",
      "2021-04-23 10:56:59 [INFO] idaes.init.fs.unit.stripping_section[3].properties_in_vap: Dew and bubble point initialization: optimal - Optimal Solution Found.\n",
      "2021-04-23 10:56:59 [INFO] idaes.init.fs.unit.stripping_section[3].properties_in_vap: Equilibrium temperature initialization completed.\n",
      "2021-04-23 10:57:00 [INFO] idaes.init.fs.unit.stripping_section[3].properties_in_vap: Phase equilibrium initialization: infeasible - Converged to a locally infeasible point. Problem may be infeasible..\n",
      "2021-04-23 10:57:01 [INFO] idaes.init.fs.unit.stripping_section[3].properties_in_vap: Property initialization: infeasible - Converged to a locally infeasible point. Problem may be infeasible..\n",
      "2021-04-23 10:57:01 [INFO] idaes.init.fs.unit.stripping_section[3].properties_out: Starting initialization\n",
      "2021-04-23 10:57:02 [INFO] idaes.init.fs.unit.stripping_section[3].properties_out: Dew and bubble point initialization: optimal - Optimal Solution Found.\n",
      "2021-04-23 10:57:02 [INFO] idaes.init.fs.unit.stripping_section[3].properties_out: Equilibrium temperature initialization completed.\n",
      "2021-04-23 10:57:02 [INFO] idaes.init.fs.unit.stripping_section[3].properties_out: Phase equilibrium initialization: optimal - Optimal Solution Found.\n",
      "2021-04-23 10:57:03 [INFO] idaes.init.fs.unit.stripping_section[3].properties_out: Property initialization: optimal - Optimal Solution Found.\n",
      "2021-04-23 10:57:03 [INFO] idaes.init.fs.unit.stripping_section[3].properties_out: Property package initialization: optimal - Optimal Solution Found.\n",
      "2021-04-23 10:57:05 [INFO] idaes.init.fs.unit.stripping_section[3]: Mass balance solve infeasible - Converged to a locally infeasible point. Problem may be infeasible..\n",
      "2021-04-23 10:57:09 [INFO] idaes.init.fs.unit.stripping_section[3]: Mass and energy balance solve infeasible - Converged to a locally infeasible point. Problem may be infeasible..\n",
      "2021-04-23 10:57:13 [INFO] idaes.init.fs.unit.stripping_section[3]: Mass, energy and pressure balance solve infeasible - Converged to a locally infeasible point. Problem may be infeasible..\n",
      "2021-04-23 10:57:13 [INFO] idaes.init.fs.unit.stripping_section[3]: Initialization complete, status infeasible - Converged to a locally infeasible point. Problem may be infeasible..\n",
      "2021-04-23 10:57:13 [INFO] idaes.init.fs.unit.stripping_section[4]: Begin initialization.\n",
      "2021-04-23 10:57:13 [WARNING] idaes.init.fs.unit.stripping_section[4]: Solver not provided. Default solver(ipopt)  being used for initialization.\n",
      "2021-04-23 10:57:13 [INFO] idaes.init.fs.unit.stripping_section[4].properties_in_liq: Starting initialization\n",
      "2021-04-23 10:57:14 [INFO] idaes.init.fs.unit.stripping_section[4].properties_in_liq: Dew and bubble point initialization: optimal - Optimal Solution Found.\n",
      "2021-04-23 10:57:14 [INFO] idaes.init.fs.unit.stripping_section[4].properties_in_liq: Equilibrium temperature initialization completed.\n",
      "2021-04-23 10:57:14 [INFO] idaes.init.fs.unit.stripping_section[4].properties_in_liq: Phase equilibrium initialization: optimal - Optimal Solution Found.\n",
      "2021-04-23 10:57:15 [INFO] idaes.init.fs.unit.stripping_section[4].properties_in_liq: Property initialization: optimal - Optimal Solution Found.\n",
      "2021-04-23 10:57:15 [INFO] idaes.init.fs.unit.stripping_section[4].properties_in_vap: Starting initialization\n",
      "2021-04-23 10:57:15 [INFO] idaes.init.fs.unit.stripping_section[4].properties_in_vap: Dew and bubble point initialization: optimal - Optimal Solution Found.\n",
      "2021-04-23 10:57:15 [INFO] idaes.init.fs.unit.stripping_section[4].properties_in_vap: Equilibrium temperature initialization completed.\n",
      "2021-04-23 10:57:16 [INFO] idaes.init.fs.unit.stripping_section[4].properties_in_vap: Phase equilibrium initialization: infeasible - Converged to a locally infeasible point. Problem may be infeasible..\n",
      "2021-04-23 10:57:17 [INFO] idaes.init.fs.unit.stripping_section[4].properties_in_vap: Property initialization: infeasible - Converged to a locally infeasible point. Problem may be infeasible..\n",
      "2021-04-23 10:57:17 [INFO] idaes.init.fs.unit.stripping_section[4].properties_out: Starting initialization\n",
      "2021-04-23 10:57:18 [INFO] idaes.init.fs.unit.stripping_section[4].properties_out: Dew and bubble point initialization: optimal - Optimal Solution Found.\n",
      "2021-04-23 10:57:18 [INFO] idaes.init.fs.unit.stripping_section[4].properties_out: Equilibrium temperature initialization completed.\n",
      "2021-04-23 10:57:18 [INFO] idaes.init.fs.unit.stripping_section[4].properties_out: Phase equilibrium initialization: optimal - Optimal Solution Found.\n",
      "2021-04-23 10:57:19 [INFO] idaes.init.fs.unit.stripping_section[4].properties_out: Property initialization: optimal - Optimal Solution Found.\n",
      "2021-04-23 10:57:19 [INFO] idaes.init.fs.unit.stripping_section[4].properties_out: Property package initialization: optimal - Optimal Solution Found.\n",
      "2021-04-23 10:57:21 [INFO] idaes.init.fs.unit.stripping_section[4]: Mass balance solve infeasible - Converged to a locally infeasible point. Problem may be infeasible..\n"
     ]
    },
    {
     "name": "stdout",
     "output_type": "stream",
     "text": [
      "2021-04-23 10:57:25 [INFO] idaes.init.fs.unit.stripping_section[4]: Mass and energy balance solve infeasible - Converged to a locally infeasible point. Problem may be infeasible..\n",
      "2021-04-23 10:57:28 [INFO] idaes.init.fs.unit.stripping_section[4]: Mass, energy and pressure balance solve infeasible - Converged to a locally infeasible point. Problem may be infeasible..\n",
      "2021-04-23 10:57:28 [INFO] idaes.init.fs.unit.stripping_section[4]: Initialization complete, status infeasible - Converged to a locally infeasible point. Problem may be infeasible..\n",
      "2021-04-23 10:57:28 [INFO] idaes.init.fs.unit.stripping_section[5]: Begin initialization.\n",
      "2021-04-23 10:57:28 [WARNING] idaes.init.fs.unit.stripping_section[5]: Solver not provided. Default solver(ipopt)  being used for initialization.\n",
      "2021-04-23 10:57:28 [INFO] idaes.init.fs.unit.stripping_section[5].properties_in_liq: Starting initialization\n",
      "2021-04-23 10:57:29 [INFO] idaes.init.fs.unit.stripping_section[5].properties_in_liq: Dew and bubble point initialization: optimal - Optimal Solution Found.\n",
      "2021-04-23 10:57:29 [INFO] idaes.init.fs.unit.stripping_section[5].properties_in_liq: Equilibrium temperature initialization completed.\n",
      "2021-04-23 10:57:29 [INFO] idaes.init.fs.unit.stripping_section[5].properties_in_liq: Phase equilibrium initialization: optimal - Optimal Solution Found.\n",
      "2021-04-23 10:57:30 [INFO] idaes.init.fs.unit.stripping_section[5].properties_in_liq: Property initialization: optimal - Optimal Solution Found.\n",
      "2021-04-23 10:57:30 [INFO] idaes.init.fs.unit.stripping_section[5].properties_in_vap: Starting initialization\n",
      "2021-04-23 10:57:30 [INFO] idaes.init.fs.unit.stripping_section[5].properties_in_vap: Dew and bubble point initialization: optimal - Optimal Solution Found.\n",
      "2021-04-23 10:57:30 [INFO] idaes.init.fs.unit.stripping_section[5].properties_in_vap: Equilibrium temperature initialization completed.\n",
      "2021-04-23 10:57:31 [INFO] idaes.init.fs.unit.stripping_section[5].properties_in_vap: Phase equilibrium initialization: infeasible - Converged to a locally infeasible point. Problem may be infeasible..\n",
      "2021-04-23 10:57:32 [INFO] idaes.init.fs.unit.stripping_section[5].properties_in_vap: Property initialization: infeasible - Converged to a locally infeasible point. Problem may be infeasible..\n",
      "2021-04-23 10:57:32 [INFO] idaes.init.fs.unit.stripping_section[5].properties_out: Starting initialization\n",
      "2021-04-23 10:57:33 [INFO] idaes.init.fs.unit.stripping_section[5].properties_out: Dew and bubble point initialization: optimal - Optimal Solution Found.\n",
      "2021-04-23 10:57:33 [INFO] idaes.init.fs.unit.stripping_section[5].properties_out: Equilibrium temperature initialization completed.\n",
      "2021-04-23 10:57:33 [INFO] idaes.init.fs.unit.stripping_section[5].properties_out: Phase equilibrium initialization: optimal - Optimal Solution Found.\n",
      "2021-04-23 10:57:34 [INFO] idaes.init.fs.unit.stripping_section[5].properties_out: Property initialization: optimal - Optimal Solution Found.\n",
      "2021-04-23 10:57:34 [INFO] idaes.init.fs.unit.stripping_section[5].properties_out: Property package initialization: optimal - Optimal Solution Found.\n",
      "2021-04-23 10:57:37 [INFO] idaes.init.fs.unit.stripping_section[5]: Mass balance solve infeasible - Converged to a locally infeasible point. Problem may be infeasible..\n",
      "2021-04-23 10:57:40 [INFO] idaes.init.fs.unit.stripping_section[5]: Mass and energy balance solve infeasible - Converged to a locally infeasible point. Problem may be infeasible..\n",
      "2021-04-23 10:57:44 [INFO] idaes.init.fs.unit.stripping_section[5]: Mass, energy and pressure balance solve infeasible - Converged to a locally infeasible point. Problem may be infeasible..\n",
      "2021-04-23 10:57:44 [INFO] idaes.init.fs.unit.stripping_section[5]: Initialization complete, status infeasible - Converged to a locally infeasible point. Problem may be infeasible..\n"
     ]
    }
   ],
   "source": [
    "m.fs.unit.initialize() "
   ]
  },
  {
   "cell_type": "code",
   "execution_count": null,
   "id": "failing-uruguay",
   "metadata": {},
   "outputs": [],
   "source": [
    "solver = SolverFactory('ipopt')\n",
    "solver.options = {'tol': 1e-6}"
   ]
  },
  {
   "cell_type": "code",
   "execution_count": null,
   "id": "metallic-running",
   "metadata": {
    "scrolled": false
   },
   "outputs": [],
   "source": [
    "results = solver.solve(m)\n",
    "\n",
    "\n",
    "status = solver.solve(m, tee = True)"
   ]
  },
  {
   "cell_type": "code",
   "execution_count": null,
   "id": "fresh-nudist",
   "metadata": {
    "scrolled": false
   },
   "outputs": [],
   "source": [
    "m.display()"
   ]
  },
  {
   "cell_type": "code",
   "execution_count": null,
   "id": "celtic-modem",
   "metadata": {},
   "outputs": [],
   "source": []
  }
 ],
 "metadata": {
  "kernelspec": {
   "display_name": "Python 3",
   "language": "python",
   "name": "python3"
  },
  "language_info": {
   "codemirror_mode": {
    "name": "ipython",
    "version": 3
   },
   "file_extension": ".py",
   "mimetype": "text/x-python",
   "name": "python",
   "nbconvert_exporter": "python",
   "pygments_lexer": "ipython3",
   "version": "3.9.2"
  }
 },
 "nbformat": 4,
 "nbformat_minor": 5
}
