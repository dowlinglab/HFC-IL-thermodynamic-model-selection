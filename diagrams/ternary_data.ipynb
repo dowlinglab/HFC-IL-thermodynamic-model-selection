{
 "cells": [
  {
   "cell_type": "code",
   "execution_count": 1,
   "metadata": {},
   "outputs": [],
   "source": [
    "from pyomo.environ import (Constraint,\n",
    "                           Var,\n",
    "                           ConcreteModel,\n",
    "                           Expression,\n",
    "                           Param,\n",
    "                           Objective,\n",
    "                           SolverFactory,\n",
    "                           TransformationFactory,\n",
    "                           value)\n",
    "\n",
    "from pyomo.network import Arc, SequentialDecomposition\n",
    "\n",
    "from idaes.core.util.initialization import propagate_state\n",
    "\n",
    "# Import plotting functions\n",
    "import matplotlib.pyplot as plt\n",
    "\n",
    "# Import numpy library \n",
    "import numpy as np\n",
    "\n",
    "# Import the main FlowsheetBlock from IDAES. The flowsheet block will contain the unit model\n",
    "from idaes.core import FlowsheetBlock\n",
    "\n",
    "import idaes.logger as idaeslog\n",
    "from pyomo.opt import TerminationCondition, SolverStatus\n",
    "\n",
    "# Import the degrees_of_freedom function from the idaes.core.util.model_statistics package\n",
    "# DOF = Number of Model Variables - Number of Model Constraints\n",
    "from idaes.core.util.model_statistics import degrees_of_freedom\n",
    "\n",
    "# Import the Generic Parameter Block\n",
    "from idaes.generic_models.properties.core.generic.generic_property import (\n",
    "        GenericParameterBlock)\n",
    "\n",
    "# Import unit models from the model library\n",
    "from idaes.generic_models.unit_models import Flash"
   ]
  },
  {
   "cell_type": "code",
   "execution_count": 2,
   "metadata": {},
   "outputs": [],
   "source": [
    "from HFCS_bmimPF6_PR import configuration"
   ]
  },
  {
   "cell_type": "code",
   "execution_count": 3,
   "metadata": {},
   "outputs": [],
   "source": [
    "# Create the ConcreteModel and the FlowsheetBlock, and attach the flowsheet block to it.\n",
    "m = ConcreteModel()\n",
    "\n",
    "m.fs = FlowsheetBlock(default={\"dynamic\": False}) \n",
    "\n",
    "# Add properties parameter blocks to the flowsheet with specifications\n",
    "m.fs.props = GenericParameterBlock(default=configuration)"
   ]
  },
  {
   "cell_type": "code",
   "execution_count": 4,
   "metadata": {},
   "outputs": [
    {
     "name": "stdout",
     "output_type": "stream",
     "text": [
      "The initial DOF is 8\n"
     ]
    }
   ],
   "source": [
    "m.fs.F101 = Flash(default={\"property_package\": m.fs.props,\n",
    "                               \"has_heat_transfer\": True,\n",
    "                               \"has_pressure_change\": True})\n",
    "\n",
    "# Call the degrees_of_freedom function, get intitial DOF\n",
    "DOF_initial = degrees_of_freedom(m)\n",
    "print(\"The initial DOF is {0}\".format(DOF_initial))"
   ]
  },
  {
   "cell_type": "code",
   "execution_count": 5,
   "metadata": {},
   "outputs": [],
   "source": [
    "solver = SolverFactory('ipopt')\n",
    "solver.options = {'tol': 1e-6}"
   ]
  },
  {
   "cell_type": "code",
   "execution_count": 6,
   "metadata": {},
   "outputs": [
    {
     "name": "stdout",
     "output_type": "stream",
     "text": [
      "The final DOF is 0\n"
     ]
    }
   ],
   "source": [
    "# Fix Heater H101 inlet conditions\n",
    "m.fs.F101.inlet.mole_frac_comp[0, \"R32\"].fix(0.5)\n",
    "m.fs.F101.inlet.mole_frac_comp[0, \"R125\"].fix(0.5)\n",
    "m.fs.F101.inlet.mole_frac_comp[0, \"bmimPF6\"].fix(0.001)\n",
    "\n",
    "m.fs.F101.inlet.flow_mol[0].fix(1)\n",
    "m.fs.F101.inlet.temperature.fix(320)\n",
    "m.fs.F101.inlet.pressure.fix(500000)\n",
    "\n",
    "# Fix F101 Flash outlet conditions\n",
    "m.fs.F101.vap_outlet.temperature.fix(298)\n",
    "m.fs.F101.deltaP.fix(0)\n",
    "\n",
    "DOF_final = degrees_of_freedom(m)\n",
    "print(\"The final DOF is {0}\".format(DOF_final))"
   ]
  },
  {
   "cell_type": "code",
   "execution_count": 7,
   "metadata": {},
   "outputs": [
    {
     "name": "stdout",
     "output_type": "stream",
     "text": [
      "2021-03-15 11:07:49 [INFO] idaes.init.fs.F101.control_volume.properties_in: Starting initialization\n",
      "2021-03-15 11:07:50 [INFO] idaes.init.fs.F101.control_volume.properties_in: Dew and bubble point initialization: optimal - Optimal Solution Found.\n",
      "2021-03-15 11:07:50 [INFO] idaes.init.fs.F101.control_volume.properties_in: Equilibrium temperature initialization completed.\n",
      "2021-03-15 11:07:50 [INFO] idaes.init.fs.F101.control_volume.properties_in: State variable initialization completed.\n",
      "WARNING: Loading a SolverResults object with a warning status into\n",
      "    model.name=\"SimpleBlock\";\n",
      "      - termination condition: infeasible\n",
      "      - message from solver: Ipopt 3.13.2\\x3a Converged to a locally\n",
      "          infeasible point. Problem may be infeasible.\n",
      "2021-03-15 11:07:51 [INFO] idaes.init.fs.F101.control_volume.properties_in: Phase equilibrium initialization: infeasible - Converged to a locally infeasible point. Problem may be infeasible..\n",
      "WARNING: Loading a SolverResults object with a warning status into\n",
      "    model.name=\"SimpleBlock\";\n",
      "      - termination condition: infeasible\n",
      "      - message from solver: Ipopt 3.13.2\\x3a Converged to a locally\n",
      "          infeasible point. Problem may be infeasible.\n",
      "2021-03-15 11:07:52 [INFO] idaes.init.fs.F101.control_volume.properties_in: Property initialization: infeasible - Converged to a locally infeasible point. Problem may be infeasible..\n",
      "2021-03-15 11:07:52 [INFO] idaes.init.fs.F101.control_volume.properties_out: Starting initialization\n",
      "2021-03-15 11:07:53 [INFO] idaes.init.fs.F101.control_volume.properties_out: Dew and bubble point initialization: optimal - Optimal Solution Found.\n",
      "2021-03-15 11:07:53 [INFO] idaes.init.fs.F101.control_volume.properties_out: Equilibrium temperature initialization completed.\n",
      "2021-03-15 11:07:53 [INFO] idaes.init.fs.F101.control_volume.properties_out: State variable initialization completed.\n",
      "2021-03-15 11:07:54 [INFO] idaes.init.fs.F101.control_volume.properties_out: Phase equilibrium initialization: optimal - Optimal Solution Found.\n",
      "2021-03-15 11:07:55 [INFO] idaes.init.fs.F101.control_volume.properties_out: Property initialization: optimal - Optimal Solution Found.\n",
      "2021-03-15 11:07:55 [INFO] idaes.init.fs.F101.control_volume.properties_out: State released.\n",
      "2021-03-15 11:07:55 [INFO] idaes.init.fs.F101.control_volume: Initialization Complete\n",
      "2021-03-15 11:07:55 [INFO] idaes.init.fs.F101: Initialization Step 1 Complete.\n",
      "WARNING: Loading a SolverResults object with a warning status into\n",
      "    model.name=\"fs.F101\";\n",
      "      - termination condition: infeasible\n",
      "      - message from solver: Ipopt 3.13.2\\x3a Converged to a locally\n",
      "          infeasible point. Problem may be infeasible.\n",
      "2021-03-15 11:07:57 [INFO] idaes.init.fs.F101: Initialization Step 2 infeasible - Converged to a locally infeasible point. Problem may be infeasible..\n",
      "2021-03-15 11:07:57 [INFO] idaes.init.fs.F101.control_volume.properties_in: State released.\n",
      "2021-03-15 11:07:57 [INFO] idaes.init.fs.F101: Initialization Complete: infeasible - Converged to a locally infeasible point. Problem may be infeasible.\n"
     ]
    }
   ],
   "source": [
    "m.fs.F101.initialize(outlvl=idaeslog.INFO_HIGH)"
   ]
  },
  {
   "cell_type": "code",
   "execution_count": 8,
   "metadata": {},
   "outputs": [
    {
     "name": "stdout",
     "output_type": "stream",
     "text": [
      "Ipopt 3.13.2: tol=1e-06\n",
      "\n",
      "\n",
      "******************************************************************************\n",
      "This program contains Ipopt, a library for large-scale nonlinear optimization.\n",
      " Ipopt is released as open source code under the Eclipse Public License (EPL).\n",
      "         For more information visit http://projects.coin-or.org/Ipopt\n",
      "\n",
      "This version of Ipopt was compiled from source code available at\n",
      "    https://github.com/IDAES/Ipopt as part of the Institute for the Design of\n",
      "    Advanced Energy Systems Process Systems Engineering Framework (IDAES PSE\n",
      "    Framework) Copyright (c) 2018-2019. See https://github.com/IDAES/idaes-pse.\n",
      "\n",
      "This version of Ipopt was compiled using HSL, a collection of Fortran codes\n",
      "    for large-scale scientific computation.  All technical papers, sales and\n",
      "    publicity material resulting from use of the HSL codes within IPOPT must\n",
      "    contain the following acknowledgement:\n",
      "        HSL, a collection of Fortran codes for large-scale scientific\n",
      "        computation. See http://www.hsl.rl.ac.uk.\n",
      "******************************************************************************\n",
      "\n",
      "This is Ipopt version 3.13.2, running with linear solver ma27.\n",
      "\n",
      "Number of nonzeros in equality constraint Jacobian...:      155\n",
      "Number of nonzeros in inequality constraint Jacobian.:        0\n",
      "Number of nonzeros in Lagrangian Hessian.............:       94\n",
      "\n",
      "Total number of variables............................:       36\n",
      "                     variables with only lower bounds:       23\n",
      "                variables with lower and upper bounds:        8\n",
      "                     variables with only upper bounds:        0\n",
      "Total number of equality constraints.................:       36\n",
      "Total number of inequality constraints...............:        0\n",
      "        inequality constraints with only lower bounds:        0\n",
      "   inequality constraints with lower and upper bounds:        0\n",
      "        inequality constraints with only upper bounds:        0\n",
      "\n",
      "iter    objective    inf_pr   inf_du lg(mu)  ||d||  lg(rg) alpha_du alpha_pr  ls\n",
      "   0  0.0000000e+00 5.78e+07 1.00e+00  -1.0 0.00e+00    -  0.00e+00 0.00e+00   0\n",
      "   1  0.0000000e+00 2.46e+07 1.49e+02  -1.0 2.96e+09    -  1.12e-02 5.56e-01f  1\n",
      "   2  0.0000000e+00 2.46e+07 1.49e+02  -1.0 1.31e+09    -  1.42e-03 7.70e-05h  5\n",
      "   3  0.0000000e+00 2.43e+07 3.27e+02  -1.0 1.31e+09    -  4.57e-02 1.46e-02h  1\n",
      "   4  0.0000000e+00 2.47e+07 1.48e+03  -1.0 1.29e+09    -  3.40e-01 3.59e-01h  1\n",
      "   5  0.0000000e+00 2.47e+06 3.10e+03  -1.0 8.28e+08    -  9.93e-02 9.90e-01f  1\n",
      "   6  0.0000000e+00 2.34e+04 4.48e+01  -1.0 8.28e+06    -  9.90e-01 9.90e-01h  1\n",
      "   7  0.0000000e+00 1.79e-01 3.57e+03  -1.0 7.99e+04    -  9.90e-01 1.00e+00h  1\n",
      "   8  0.0000000e+00 4.77e-07 9.64e+04  -1.0 6.63e-06    -  9.90e-01 1.00e+00h  1\n",
      "\n",
      "Number of Iterations....: 8\n",
      "\n",
      "                                   (scaled)                 (unscaled)\n",
      "Objective...............:   0.0000000000000000e+00    0.0000000000000000e+00\n",
      "Dual infeasibility......:   0.0000000000000000e+00    0.0000000000000000e+00\n",
      "Constraint violation....:   2.6591474769597108e-14    4.7683715820312500e-07\n",
      "Complementarity.........:   0.0000000000000000e+00    0.0000000000000000e+00\n",
      "Overall NLP error.......:   2.6591474769597108e-14    4.7683715820312500e-07\n",
      "\n",
      "\n",
      "Number of objective function evaluations             = 14\n",
      "Number of objective gradient evaluations             = 9\n",
      "Number of equality constraint evaluations            = 14\n",
      "Number of inequality constraint evaluations          = 0\n",
      "Number of equality constraint Jacobian evaluations   = 9\n",
      "Number of inequality constraint Jacobian evaluations = 0\n",
      "Number of Lagrangian Hessian evaluations             = 8\n",
      "Total CPU secs in IPOPT (w/o function evaluations)   =      0.009\n",
      "Total CPU secs in NLP function evaluations           =      0.041\n",
      "\n",
      "EXIT: Optimal Solution Found.\n"
     ]
    }
   ],
   "source": [
    "result = solver.solve(m, tee=True)"
   ]
  },
  {
   "cell_type": "code",
   "execution_count": 9,
   "metadata": {},
   "outputs": [
    {
     "name": "stdout",
     "output_type": "stream",
     "text": [
      "\n",
      "====================================================================================\n",
      "Unit : fs.F101                                                             Time: 0.0\n",
      "------------------------------------------------------------------------------------\n",
      "    Unit Performance\n",
      "\n",
      "    Variables: \n",
      "\n",
      "    Key             : Value       : Fixed : Bounds\n",
      "          Heat Duty : -2.9570e+09 : False : (None, None)\n",
      "    Pressure Change :      0.0000 :  True : (None, None)\n",
      "\n",
      "------------------------------------------------------------------------------------\n",
      "    Stream Table\n",
      "                              Inlet    Vapor Outlet  Liquid Outlet\n",
      "    flow_mol                   1.0000      0.99964     0.0013575  \n",
      "    mole_frac_comp bmimPF6  0.0010000   1.0000e-08       0.73666  \n",
      "    mole_frac_comp R32        0.50000      0.49992       0.18828  \n",
      "    mole_frac_comp R125       0.50000      0.50008      0.075060  \n",
      "    temperature                320.00       298.00        298.00  \n",
      "    pressure               5.0000e+05   5.0000e+05    5.0000e+05  \n",
      "====================================================================================\n"
     ]
    }
   ],
   "source": [
    "m.fs.F101.report()"
   ]
  },
  {
   "cell_type": "code",
   "execution_count": 10,
   "metadata": {},
   "outputs": [
    {
     "name": "stdout",
     "output_type": "stream",
     "text": [
      "WARNING: Loading a SolverResults object with a warning status into\n",
      "    model.name=\"SimpleBlock\";\n",
      "      - termination condition: infeasible\n",
      "      - message from solver: Ipopt 3.13.2\\x3a Converged to a locally\n",
      "          infeasible point. Problem may be infeasible.\n",
      "WARNING: Loading a SolverResults object with a warning status into\n",
      "    model.name=\"SimpleBlock\";\n",
      "      - termination condition: infeasible\n",
      "      - message from solver: Ipopt 3.13.2\\x3a Converged to a locally\n",
      "          infeasible point. Problem may be infeasible.\n",
      "WARNING: Loading a SolverResults object with a warning status into\n",
      "    model.name=\"SimpleBlock\";\n",
      "      - termination condition: infeasible\n",
      "      - message from solver: Ipopt 3.13.2\\x3a Converged to a locally\n",
      "          infeasible point. Problem may be infeasible.\n",
      "WARNING: Loading a SolverResults object with a warning status into\n",
      "    model.name=\"SimpleBlock\";\n",
      "      - termination condition: infeasible\n",
      "      - message from solver: Ipopt 3.13.2\\x3a Converged to a locally\n",
      "          infeasible point. Problem may be infeasible.\n",
      "WARNING: Loading a SolverResults object with a warning status into\n",
      "    model.name=\"SimpleBlock\";\n",
      "      - termination condition: infeasible\n",
      "      - message from solver: Ipopt 3.13.2\\x3a Converged to a locally\n",
      "          infeasible point. Problem may be infeasible.\n",
      "WARNING: Loading a SolverResults object with a warning status into\n",
      "    model.name=\"SimpleBlock\";\n",
      "      - termination condition: infeasible\n",
      "      - message from solver: Ipopt 3.13.2\\x3a Converged to a locally\n",
      "          infeasible point. Problem may be infeasible.\n",
      "WARNING: Loading a SolverResults object with a warning status into\n",
      "    model.name=\"fs.F101\";\n",
      "      - termination condition: infeasible\n",
      "      - message from solver: Ipopt 3.13.2\\x3a Converged to a locally\n",
      "          infeasible point. Problem may be infeasible.\n",
      "WARNING: Loading a SolverResults object with a warning status into\n",
      "    model.name=\"unknown\";\n",
      "      - termination condition: infeasible\n",
      "      - message from solver: Ipopt 3.13.2\\x3a Converged to a locally\n",
      "          infeasible point. Problem may be infeasible.\n",
      "Infeasible.\n",
      "WARNING: Loading a SolverResults object with a warning status into\n",
      "    model.name=\"SimpleBlock\";\n",
      "      - termination condition: infeasible\n",
      "      - message from solver: Ipopt 3.13.2\\x3a Converged to a locally\n",
      "          infeasible point. Problem may be infeasible.\n",
      "0.014365374285901683\n",
      "0.9856346257140983\n"
     ]
    }
   ],
   "source": [
    "IL_z = np.linspace(0.99, 0.01, 2)\n",
    "IL_x = np.zeros((len(IL_z)))\n",
    "IL_y = np.zeros((len(IL_z)))\n",
    "R32_x = np.zeros((len(IL_z)))\n",
    "R32_y = np.zeros((len(IL_z)))\n",
    "R125_x = np.zeros((len(IL_z)))\n",
    "R125_y = np.zeros((len(IL_z))) \n",
    "Z = []\n",
    "\n",
    "for j in range(len(IL_z)):\n",
    "\n",
    "    fract = 1 - IL_z[j]\n",
    "    m.fs.F101.inlet.mole_frac_comp[0, \"R32\"].fix(0.7*fract)\n",
    "    m.fs.F101.inlet.mole_frac_comp[0, \"R125\"].fix(0.3*fract)\n",
    "    m.fs.F101.inlet.mole_frac_comp[0, \"bmimPF6\"].fix(IL_z[j])   \n",
    "                  \n",
    "    m.fs.F101.initialize(outlvl=idaeslog.CRITICAL)              \n",
    "\n",
    "    # solve the model\n",
    "    status = solver.solve(m, tee = False)\n",
    "    # model.display()\n",
    "    # If solution is optimal store the concentration, and calculated temperatures in the created arrays\n",
    "    if (status.solver.status == SolverStatus.ok) and (status.solver.termination_condition == TerminationCondition.optimal):\n",
    "\n",
    "        IL_x[j] = value(m.fs.F101.liq_outlet.mole_frac_comp[0, \"bmimPF6\"])\n",
    "        IL_y[j] = value(m.fs.F101.vap_outlet.mole_frac_comp[0, \"bmimPF6\"])\n",
    "        R32_x[j] = value(m.fs.F101.liq_outlet.mole_frac_comp[0, \"R32\"]) \n",
    "        R32_y[j] = value(m.fs.F101.vap_outlet.mole_frac_comp[0, \"R32\"])\n",
    "        R125_x[j] = value(m.fs.F101.liq_outlet.mole_frac_comp[0, \"R125\"])\n",
    "        R125_y[j] = value(m.fs.F101.vap_outlet.mole_frac_comp[0, \"R125\"])\n",
    "\n",
    "        print(value(m.fs.F101.liq_outlet.flow_mol[0]))\n",
    "        print(value(m.fs.F101.vap_outlet.flow_mol[0]))\n",
    "    else:\n",
    "        print('Infeasible.')\n",
    "\n",
    "    "
   ]
  },
  {
   "cell_type": "code",
   "execution_count": 11,
   "metadata": {},
   "outputs": [],
   "source": [
    "# print(\"IL_x =\", IL_x)\n",
    "# print(\"IL_y =\", IL_y)\n",
    "# print(\"R32_x =\", R32_x)\n",
    "# print(\"R32_y =\", R32_y)\n",
    "# print(\"R125_x =\", R125_x)\n",
    "# print(\"R125_y =\", R125_y)"
   ]
  },
  {
   "cell_type": "code",
   "execution_count": 12,
   "metadata": {},
   "outputs": [],
   "source": [
    "points_x = []\n",
    "\n",
    "for i in range(len(IL_z)):\n",
    "    points = (IL_x[i], R32_x[i], R125_x[i])\n",
    "    points_x.append(points)\n",
    "    \n",
    "# print(points_x)\n",
    "\n",
    "points_y = []\n",
    "\n",
    "for i in range(len(IL_z)):\n",
    "    points = (IL_y[i], R32_y[i], R125_y[i])\n",
    "    points_y.append(points)\n",
    "    \n",
    "# print(points_y)"
   ]
  },
  {
   "cell_type": "code",
   "execution_count": 18,
   "metadata": {},
   "outputs": [
    {
     "ename": "ValueError",
     "evalue": "not enough values to unpack (expected 2, got 0)",
     "output_type": "error",
     "traceback": [
      "\u001b[0;31m---------------------------------------------------------------------------\u001b[0m",
      "\u001b[0;31mValueError\u001b[0m                                Traceback (most recent call last)",
      "\u001b[0;32m<ipython-input-18-6b3bec37fc24>\u001b[0m in \u001b[0;36m<module>\u001b[0;34m\u001b[0m\n\u001b[1;32m     31\u001b[0m \u001b[0;31m#     tax.line(points_x[i], points_y[i], linewidth=3., color='green', linestyle=\":\")\u001b[0m\u001b[0;34m\u001b[0m\u001b[0;34m\u001b[0m\u001b[0;34m\u001b[0m\u001b[0m\n\u001b[1;32m     32\u001b[0m \u001b[0;34m\u001b[0m\u001b[0m\n\u001b[0;32m---> 33\u001b[0;31m \u001b[0mtax\u001b[0m\u001b[0;34m.\u001b[0m\u001b[0mscatter\u001b[0m\u001b[0;34m(\u001b[0m\u001b[0mpoints_x\u001b[0m\u001b[0;34m,\u001b[0m \u001b[0mmarker\u001b[0m\u001b[0;34m=\u001b[0m\u001b[0;34m's'\u001b[0m\u001b[0;34m,\u001b[0m \u001b[0mcolor\u001b[0m\u001b[0;34m=\u001b[0m\u001b[0;34m'red'\u001b[0m\u001b[0;34m,\u001b[0m \u001b[0mlabel\u001b[0m\u001b[0;34m=\u001b[0m\u001b[0;34m\"liquid\"\u001b[0m\u001b[0;34m)\u001b[0m\u001b[0;34m\u001b[0m\u001b[0;34m\u001b[0m\u001b[0m\n\u001b[0m\u001b[1;32m     34\u001b[0m \u001b[0mtax\u001b[0m\u001b[0;34m.\u001b[0m\u001b[0mscatter\u001b[0m\u001b[0;34m(\u001b[0m\u001b[0mpoints_y\u001b[0m\u001b[0;34m,\u001b[0m \u001b[0mmarker\u001b[0m\u001b[0;34m=\u001b[0m\u001b[0;34m's'\u001b[0m\u001b[0;34m,\u001b[0m \u001b[0mcolor\u001b[0m\u001b[0;34m=\u001b[0m\u001b[0;34m'blue'\u001b[0m\u001b[0;34m,\u001b[0m \u001b[0mlabel\u001b[0m\u001b[0;34m=\u001b[0m\u001b[0;34m\"vapor\"\u001b[0m\u001b[0;34m)\u001b[0m\u001b[0;34m\u001b[0m\u001b[0;34m\u001b[0m\u001b[0m\n\u001b[1;32m     35\u001b[0m \u001b[0;34m\u001b[0m\u001b[0m\n",
      "\u001b[0;32m/anaconda3/envs/idaes/lib/python3.7/site-packages/ternary/ternary_axes_subplot.py\u001b[0m in \u001b[0;36mscatter\u001b[0;34m(self, points, **kwargs)\u001b[0m\n\u001b[1;32m    420\u001b[0m         \u001b[0mpermutation\u001b[0m \u001b[0;34m=\u001b[0m \u001b[0mself\u001b[0m\u001b[0;34m.\u001b[0m\u001b[0m_permutation\u001b[0m\u001b[0;34m\u001b[0m\u001b[0;34m\u001b[0m\u001b[0m\n\u001b[1;32m    421\u001b[0m         plot_ = plotting.scatter(points, ax=ax, permutation=permutation,\n\u001b[0;32m--> 422\u001b[0;31m                                  **kwargs)\n\u001b[0m\u001b[1;32m    423\u001b[0m         \u001b[0;32mreturn\u001b[0m \u001b[0mplot_\u001b[0m\u001b[0;34m\u001b[0m\u001b[0;34m\u001b[0m\u001b[0m\n\u001b[1;32m    424\u001b[0m \u001b[0;34m\u001b[0m\u001b[0m\n",
      "\u001b[0;32m/anaconda3/envs/idaes/lib/python3.7/site-packages/ternary/plotting.py\u001b[0m in \u001b[0;36mscatter\u001b[0;34m(points, ax, permutation, colorbar, colormap, vmin, vmax, scientific, cbarlabel, cb_kwargs, **kwargs)\u001b[0m\n\u001b[1;32m    145\u001b[0m     \u001b[0;32mif\u001b[0m \u001b[0;32mnot\u001b[0m \u001b[0max\u001b[0m\u001b[0;34m:\u001b[0m\u001b[0;34m\u001b[0m\u001b[0;34m\u001b[0m\u001b[0m\n\u001b[1;32m    146\u001b[0m         \u001b[0mfig\u001b[0m\u001b[0;34m,\u001b[0m \u001b[0max\u001b[0m \u001b[0;34m=\u001b[0m \u001b[0mplt\u001b[0m\u001b[0;34m.\u001b[0m\u001b[0msubplots\u001b[0m\u001b[0;34m(\u001b[0m\u001b[0;34m)\u001b[0m\u001b[0;34m\u001b[0m\u001b[0;34m\u001b[0m\u001b[0m\n\u001b[0;32m--> 147\u001b[0;31m     \u001b[0mxs\u001b[0m\u001b[0;34m,\u001b[0m \u001b[0mys\u001b[0m \u001b[0;34m=\u001b[0m \u001b[0mproject_sequence\u001b[0m\u001b[0;34m(\u001b[0m\u001b[0mpoints\u001b[0m\u001b[0;34m,\u001b[0m \u001b[0mpermutation\u001b[0m\u001b[0;34m=\u001b[0m\u001b[0mpermutation\u001b[0m\u001b[0;34m)\u001b[0m\u001b[0;34m\u001b[0m\u001b[0;34m\u001b[0m\u001b[0m\n\u001b[0m\u001b[1;32m    148\u001b[0m     \u001b[0max\u001b[0m\u001b[0;34m.\u001b[0m\u001b[0mscatter\u001b[0m\u001b[0;34m(\u001b[0m\u001b[0mxs\u001b[0m\u001b[0;34m,\u001b[0m \u001b[0mys\u001b[0m\u001b[0;34m,\u001b[0m \u001b[0mvmin\u001b[0m\u001b[0;34m=\u001b[0m\u001b[0mvmin\u001b[0m\u001b[0;34m,\u001b[0m \u001b[0mvmax\u001b[0m\u001b[0;34m=\u001b[0m\u001b[0mvmax\u001b[0m\u001b[0;34m,\u001b[0m \u001b[0;34m**\u001b[0m\u001b[0mkwargs\u001b[0m\u001b[0;34m)\u001b[0m\u001b[0;34m\u001b[0m\u001b[0;34m\u001b[0m\u001b[0m\n\u001b[1;32m    149\u001b[0m \u001b[0;34m\u001b[0m\u001b[0m\n",
      "\u001b[0;32m/anaconda3/envs/idaes/lib/python3.7/site-packages/ternary/helpers.py\u001b[0m in \u001b[0;36mproject_sequence\u001b[0;34m(s, permutation)\u001b[0m\n\u001b[1;32m    140\u001b[0m     \"\"\"\n\u001b[1;32m    141\u001b[0m \u001b[0;34m\u001b[0m\u001b[0m\n\u001b[0;32m--> 142\u001b[0;31m     \u001b[0mxs\u001b[0m\u001b[0;34m,\u001b[0m \u001b[0mys\u001b[0m \u001b[0;34m=\u001b[0m \u001b[0munzip\u001b[0m\u001b[0;34m(\u001b[0m\u001b[0;34m[\u001b[0m\u001b[0mproject_point\u001b[0m\u001b[0;34m(\u001b[0m\u001b[0mp\u001b[0m\u001b[0;34m,\u001b[0m \u001b[0mpermutation\u001b[0m\u001b[0;34m=\u001b[0m\u001b[0mpermutation\u001b[0m\u001b[0;34m)\u001b[0m \u001b[0;32mfor\u001b[0m \u001b[0mp\u001b[0m \u001b[0;32min\u001b[0m \u001b[0ms\u001b[0m\u001b[0;34m]\u001b[0m\u001b[0;34m)\u001b[0m\u001b[0;34m\u001b[0m\u001b[0;34m\u001b[0m\u001b[0m\n\u001b[0m\u001b[1;32m    143\u001b[0m     \u001b[0;32mreturn\u001b[0m \u001b[0mxs\u001b[0m\u001b[0;34m,\u001b[0m \u001b[0mys\u001b[0m\u001b[0;34m\u001b[0m\u001b[0;34m\u001b[0m\u001b[0m\n\u001b[1;32m    144\u001b[0m \u001b[0;34m\u001b[0m\u001b[0m\n",
      "\u001b[0;31mValueError\u001b[0m: not enough values to unpack (expected 2, got 0)"
     ]
    },
    {
     "data": {
      "image/png": "[encoded data removed]",
      "text/plain": [
       "<Figure size 432x288 with 1 Axes>"
      ]
     },
     "metadata": {
      "needs_background": "light"
     },
     "output_type": "display_data"
    }
   ],
   "source": [
    "points_x = []\n",
    "\n",
    "for i in range(1,1):\n",
    "    points = (IL_x[i]*100, R32_x[i]*100, R125_x[i]*100)\n",
    "    points_x.append(points)\n",
    "\n",
    "points_y = []\n",
    "\n",
    "for i in range(1,1):\n",
    "    points = (IL_y[i]*100, R32_y[i]*100, R125_y[i]*100)\n",
    "    points_y.append(points)\n",
    "\n",
    "import ternary\n",
    "\n",
    "scale = 100\n",
    "figure, tax = ternary.figure(scale=scale)\n",
    "\n",
    "# Draw Boundary and Gridlines\n",
    "tax.boundary(linewidth=2.0)\n",
    "tax.gridlines(color=\"blue\", multiple=5)\n",
    "\n",
    "# Set Axis labels and Title\n",
    "fontsize = 12\n",
    "offset = 0.14\n",
    "tax.set_title(\"Ternary phase diagram 8 bar\\n\", fontsize=24)\n",
    "tax.left_axis_label(\"R125\", fontsize=fontsize, offset=offset)\n",
    "tax.right_axis_label(\"R32\", fontsize=fontsize, offset=offset)\n",
    "tax.bottom_axis_label(\"IL\", fontsize=fontsize, offset=offset)\n",
    "\n",
    "# for i in range(1):\n",
    "#     tax.line(points_x[i], points_y[i], linewidth=3., color='green', linestyle=\":\")\n",
    "\n",
    "tax.scatter(points_x, marker='s', color='red', label=\"liquid\")\n",
    "tax.scatter(points_y, marker='s', color='blue', label=\"vapor\")\n",
    "\n",
    "\n",
    "tax.ticks(axis='lbr', multiple=10, linewidth=1, offset=0.025)\n",
    "tax.get_axes().axis('off')\n",
    "tax.clear_matplotlib_ticks()\n",
    "tax.show()"
   ]
  },
  {
   "cell_type": "code",
   "execution_count": null,
   "metadata": {},
   "outputs": [],
   "source": []
  }
 ],
 "metadata": {
  "kernelspec": {
   "display_name": "Python 3",
   "language": "python",
   "name": "python3"
  },
  "language_info": {
   "codemirror_mode": {
    "name": "ipython",
    "version": 3
   },
   "file_extension": ".py",
   "mimetype": "text/x-python",
   "name": "python",
   "nbconvert_exporter": "python",
   "pygments_lexer": "ipython3",
   "version": "3.7.9"
  }
 },
 "nbformat": 4,
 "nbformat_minor": 5
}
