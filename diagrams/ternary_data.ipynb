{
 "cells": [
  {
   "cell_type": "code",
   "execution_count": 1,
   "id": "local-cardiff",
   "metadata": {},
   "outputs": [],
   "source": [
    "from pyomo.environ import (Constraint,\n",
    "                           Var,\n",
    "                           ConcreteModel,\n",
    "                           Expression,\n",
    "                           Param,\n",
    "                           Objective,\n",
    "                           SolverFactory,\n",
    "                           TransformationFactory,\n",
    "                           value)\n",
    "\n",
    "from pyomo.network import Arc, SequentialDecomposition\n",
    "\n",
    "from idaes.core.util.initialization import propagate_state\n",
    "\n",
    "# Import plotting functions\n",
    "import matplotlib.pyplot as plt\n",
    "\n",
    "# Import numpy library \n",
    "import numpy as np\n",
    "\n",
    "# Import the main FlowsheetBlock from IDAES. The flowsheet block will contain the unit model\n",
    "from idaes.core import FlowsheetBlock\n",
    "\n",
    "import idaes.logger as idaeslog\n",
    "from pyomo.opt import TerminationCondition, SolverStatus\n",
    "\n",
    "# Import the degrees_of_freedom function from the idaes.core.util.model_statistics package\n",
    "# DOF = Number of Model Variables - Number of Model Constraints\n",
    "from idaes.core.util.model_statistics import degrees_of_freedom\n",
    "\n",
    "# Import the Generic Parameter Block\n",
    "from idaes.generic_models.properties.core.generic.generic_property import (\n",
    "        GenericParameterBlock)\n",
    "\n",
    "# Import unit models from the model library\n",
    "from idaes.generic_models.unit_models import Flash"
   ]
  },
  {
   "cell_type": "code",
   "execution_count": null,
   "id": "appreciated-comedy",
   "metadata": {},
   "outputs": [],
   "source": [
    "from HFCS_bmimPF6_PR import configuration"
   ]
  },
  {
   "cell_type": "code",
   "execution_count": null,
   "id": "diverse-belgium",
   "metadata": {},
   "outputs": [],
   "source": [
    "# Create the ConcreteModel and the FlowsheetBlock, and attach the flowsheet block to it.\n",
    "m = ConcreteModel()\n",
    "\n",
    "m.fs = FlowsheetBlock(default={\"dynamic\": False}) \n",
    "\n",
    "# Add properties parameter blocks to the flowsheet with specifications\n",
    "m.fs.props = GenericParameterBlock(default=configuration)"
   ]
  },
  {
   "cell_type": "code",
   "execution_count": null,
   "id": "proof-bloom",
   "metadata": {},
   "outputs": [],
   "source": [
    "m.fs.F101 = Flash(default={\"property_package\": m.fs.props,\n",
    "                               \"has_heat_transfer\": True,\n",
    "                               \"has_pressure_change\": True})\n",
    "\n",
    "# Call the degrees_of_freedom function, get intitial DOF\n",
    "DOF_initial = degrees_of_freedom(m)\n",
    "print(\"The initial DOF is {0}\".format(DOF_initial))"
   ]
  },
  {
   "cell_type": "code",
   "execution_count": null,
   "id": "chemical-insurance",
   "metadata": {},
   "outputs": [],
   "source": [
    "solver = SolverFactory('ipopt')\n",
    "solver.options = {'tol': 1e-6}"
   ]
  },
  {
   "cell_type": "code",
   "execution_count": null,
   "id": "thirty-eating",
   "metadata": {},
   "outputs": [],
   "source": [
    "# Fix Heater H101 inlet conditions\n",
    "m.fs.F101.inlet.mole_frac_comp[0, \"R32\"].fix(0.5)\n",
    "m.fs.F101.inlet.mole_frac_comp[0, \"R125\"].fix(0.5)\n",
    "m.fs.F101.inlet.mole_frac_comp[0, \"bmimPF6\"].fix(0.001)\n",
    "\n",
    "m.fs.F101.inlet.flow_mol[0].fix(1)\n",
    "m.fs.F101.inlet.temperature.fix(320)\n",
    "m.fs.F101.inlet.pressure.fix(500000)\n",
    "\n",
    "# Fix F101 Flash outlet conditions\n",
    "m.fs.F101.vap_outlet.temperature.fix(298)\n",
    "m.fs.F101.deltaP.fix(0)\n",
    "\n",
    "DOF_final = degrees_of_freedom(m)\n",
    "print(\"The final DOF is {0}\".format(DOF_final))"
   ]
  },
  {
   "cell_type": "code",
   "execution_count": null,
   "id": "biblical-collins",
   "metadata": {},
   "outputs": [],
   "source": [
    "m.fs.F101.initialize(outlvl=idaeslog.INFO_HIGH)"
   ]
  },
  {
   "cell_type": "code",
   "execution_count": null,
   "id": "crazy-communist",
   "metadata": {},
   "outputs": [],
   "source": [
    "result = solver.solve(m, tee=True)"
   ]
  },
  {
   "cell_type": "code",
   "execution_count": null,
   "id": "described-compromise",
   "metadata": {},
   "outputs": [],
   "source": [
    "m.fs.F101.report()"
   ]
  },
  {
   "cell_type": "code",
   "execution_count": null,
   "id": "aggressive-english",
   "metadata": {},
   "outputs": [],
   "source": [
    "IL_z = np.linspace(0.99, 0.01, 2)\n",
    "IL_x = np.zeros((len(IL_z)))\n",
    "IL_y = np.zeros((len(IL_z)))\n",
    "R32_x = np.zeros((len(IL_z)))\n",
    "R32_y = np.zeros((len(IL_z)))\n",
    "R125_x = np.zeros((len(IL_z)))\n",
    "R125_y = np.zeros((len(IL_z))) \n",
    "Z = []\n",
    "\n",
    "for j in range(len(IL_z)):\n",
    "\n",
    "    fract = 1 - IL_z[j]\n",
    "    m.fs.F101.inlet.mole_frac_comp[0, \"R32\"].fix(0.7*fract)\n",
    "    m.fs.F101.inlet.mole_frac_comp[0, \"R125\"].fix(0.3*fract)\n",
    "    m.fs.F101.inlet.mole_frac_comp[0, \"bmimPF6\"].fix(IL_z[j])   \n",
    "                  \n",
    "    m.fs.F101.initialize(outlvl=idaeslog.CRITICAL)              \n",
    "\n",
    "    # solve the model\n",
    "    status = solver.solve(m, tee = False)\n",
    "    # model.display()\n",
    "    # If solution is optimal store the concentration, and calculated temperatures in the created arrays\n",
    "    if (status.solver.status == SolverStatus.ok) and (status.solver.termination_condition == TerminationCondition.optimal):\n",
    "\n",
    "        IL_x[j] = value(m.fs.F101.liq_outlet.mole_frac_comp[0, \"bmimPF6\"])\n",
    "        IL_y[j] = value(m.fs.F101.vap_outlet.mole_frac_comp[0, \"bmimPF6\"])\n",
    "        R32_x[j] = value(m.fs.F101.liq_outlet.mole_frac_comp[0, \"R32\"]) \n",
    "        R32_y[j] = value(m.fs.F101.vap_outlet.mole_frac_comp[0, \"R32\"])\n",
    "        R125_x[j] = value(m.fs.F101.liq_outlet.mole_frac_comp[0, \"R125\"])\n",
    "        R125_y[j] = value(m.fs.F101.vap_outlet.mole_frac_comp[0, \"R125\"])\n",
    "\n",
    "        print(value(m.fs.F101.liq_outlet.flow_mol[0]))\n",
    "        print(value(m.fs.F101.vap_outlet.flow_mol[0]))\n",
    "    else:\n",
    "        print('Infeasible.')\n",
    "\n",
    "    "
   ]
  },
  {
   "cell_type": "code",
   "execution_count": null,
   "id": "european-baptist",
   "metadata": {},
   "outputs": [],
   "source": [
    "# print(\"IL_x =\", IL_x)\n",
    "# print(\"IL_y =\", IL_y)\n",
    "# print(\"R32_x =\", R32_x)\n",
    "# print(\"R32_y =\", R32_y)\n",
    "# print(\"R125_x =\", R125_x)\n",
    "# print(\"R125_y =\", R125_y)"
   ]
  },
  {
   "cell_type": "code",
   "execution_count": null,
   "id": "referenced-joyce",
   "metadata": {},
   "outputs": [],
   "source": [
    "points_x = []\n",
    "\n",
    "for i in range(len(IL_z)):\n",
    "    points = (IL_x[i], R32_x[i], R125_x[i])\n",
    "    points_x.append(points)\n",
    "    \n",
    "# print(points_x)\n",
    "\n",
    "points_y = []\n",
    "\n",
    "for i in range(len(IL_z)):\n",
    "    points = (IL_y[i], R32_y[i], R125_y[i])\n",
    "    points_y.append(points)\n",
    "    \n",
    "# print(points_y)"
   ]
  },
  {
   "cell_type": "code",
   "execution_count": null,
   "id": "entertaining-excitement",
   "metadata": {},
   "outputs": [],
   "source": [
    "points_x = []\n",
    "\n",
    "for i in range(1,1):\n",
    "    points = (IL_x[i]*100, R32_x[i]*100, R125_x[i]*100)\n",
    "    points_x.append(points)\n",
    "\n",
    "points_y = []\n",
    "\n",
    "for i in range(1,1):\n",
    "    points = (IL_y[i]*100, R32_y[i]*100, R125_y[i]*100)\n",
    "    points_y.append(points)\n",
    "\n",
    "import ternary\n",
    "\n",
    "scale = 100\n",
    "figure, tax = ternary.figure(scale=scale)\n",
    "\n",
    "# Draw Boundary and Gridlines\n",
    "tax.boundary(linewidth=2.0)\n",
    "tax.gridlines(color=\"blue\", multiple=5)\n",
    "\n",
    "# Set Axis labels and Title\n",
    "fontsize = 12\n",
    "offset = 0.14\n",
    "tax.set_title(\"Ternary phase diagram 8 bar\\n\", fontsize=24)\n",
    "tax.left_axis_label(\"R125\", fontsize=fontsize, offset=offset)\n",
    "tax.right_axis_label(\"R32\", fontsize=fontsize, offset=offset)\n",
    "tax.bottom_axis_label(\"IL\", fontsize=fontsize, offset=offset)\n",
    "\n",
    "# for i in range(1):\n",
    "#     tax.line(points_x[i], points_y[i], linewidth=3., color='green', linestyle=\":\")\n",
    "\n",
    "tax.scatter(points_x, marker='s', color='red', label=\"liquid\")\n",
    "tax.scatter(points_y, marker='s', color='blue', label=\"vapor\")\n",
    "\n",
    "\n",
    "tax.ticks(axis='lbr', multiple=10, linewidth=1, offset=0.025)\n",
    "tax.get_axes().axis('off')\n",
    "tax.clear_matplotlib_ticks()\n",
    "tax.show()"
   ]
  },
  {
   "cell_type": "code",
   "execution_count": null,
   "id": "national-nicholas",
   "metadata": {},
   "outputs": [],
   "source": []
  }
 ],
 "metadata": {
  "kernelspec": {
   "display_name": "Python 3",
   "language": "python",
   "name": "python3"
  },
  "language_info": {
   "codemirror_mode": {
    "name": "ipython",
    "version": 3
   },
   "file_extension": ".py",
   "mimetype": "text/x-python",
   "name": "python",
   "nbconvert_exporter": "python",
   "pygments_lexer": "ipython3",
   "version": "3.9.1"
  }
 },
 "nbformat": 4,
 "nbformat_minor": 5
}
