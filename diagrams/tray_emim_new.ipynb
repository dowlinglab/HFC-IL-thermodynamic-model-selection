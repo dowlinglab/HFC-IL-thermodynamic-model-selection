{
 "cells": [
  {
   "cell_type": "code",
   "execution_count": 1,
   "id": "relative-heritage",
   "metadata": {},
   "outputs": [],
   "source": [
    "from pyomo.environ import (Constraint,\n",
    "                           Var,\n",
    "                           ConcreteModel,\n",
    "                           Expression,\n",
    "                           Param,\n",
    "                           Objective,\n",
    "                           SolverFactory,\n",
    "                           TransformationFactory,\n",
    "                           value)\n",
    "\n",
    "# Import plotting functions\n",
    "import matplotlib.pyplot as plt\n",
    "\n",
    "# Import numpy library \n",
    "import numpy as np\n",
    "\n",
    "# Import the main FlowsheetBlock from IDAES. The flowsheet block will contain the unit model\n",
    "from idaes.core import FlowsheetBlock\n",
    "\n",
    "import idaes.logger as idaeslog\n",
    "\n",
    "from pyomo.opt import TerminationCondition, SolverStatus\n",
    "\n",
    "# Import the degrees_of_freedom function from the idaes.core.util.model_statistics package\n",
    "# DOF = Number of Model Variables - Number of Model Constraints\n",
    "from idaes.core.util.model_statistics import degrees_of_freedom\n",
    "\n",
    "# Import the Generic Parameter Block\n",
    "from idaes.generic_models.properties.core.generic.generic_property import (\n",
    "        GenericParameterBlock)\n",
    "\n",
    "# Import unit models from the model library\n",
    "from idaes.generic_models.unit_models.distillation import TrayColumn\n",
    "from idaes.generic_models.unit_models.distillation.condenser \\\n",
    "    import CondenserType, TemperatureSpec"
   ]
  },
  {
   "cell_type": "code",
   "execution_count": 2,
   "id": "preliminary-alignment",
   "metadata": {},
   "outputs": [],
   "source": [
    "from HFCS_emimTf2N_PR import configuration"
   ]
  },
  {
   "cell_type": "code",
   "execution_count": 3,
   "id": "proof-petite",
   "metadata": {},
   "outputs": [
    {
     "name": "stdout",
     "output_type": "stream",
     "text": [
      "2021-05-12 09:32:00 [INFO] idaes.generic_models.properties.core.generic.generic_property: DEPRECATED - definiton of generic property packages is moving to using static classes instead of modules. Please refer to the IDAES documentation.\n"
     ]
    }
   ],
   "source": [
    "# Create the ConcreteModel and the FlowsheetBlock, and attach the flowsheet block to it.\n",
    "m = ConcreteModel()\n",
    "\n",
    "m.fs = FlowsheetBlock(default={\"dynamic\": False}) \n",
    "\n",
    "# Add properties parameter blocks to the flowsheet with specifications\n",
    "m.fs.props = GenericParameterBlock(default=configuration)"
   ]
  },
  {
   "cell_type": "code",
   "execution_count": 4,
   "id": "abroad-listening",
   "metadata": {
    "scrolled": false
   },
   "outputs": [],
   "source": [
    "m.fs.unit = TrayColumn(default={\n",
    "                       \"number_of_trays\": 3,\n",
    "                       \"feed_tray_location\":2,\n",
    "                       \"condenser_type\": CondenserType.partialCondenser,\n",
    "                       \"condenser_temperature_spec\":\n",
    "                           TemperatureSpec.customTemperature,\n",
    "                       \"property_package\": m.fs.props,\n",
    "                       \"has_heat_transfer\": False,\n",
    "                       \"has_pressure_change\": False})"
   ]
  },
  {
   "cell_type": "code",
   "execution_count": 5,
   "id": "announced-disposition",
   "metadata": {},
   "outputs": [],
   "source": [
    "# Fix Heater H101 inlet conditions\n",
    "m.fs.unit.feed.mole_frac_comp[0, \"R32\"].fix(0.20)\n",
    "m.fs.unit.feed.mole_frac_comp[0, \"R125\"].fix(0.10)\n",
    "m.fs.unit.feed.mole_frac_comp[0, \"emimTf2N\"].fix(0.7)\n",
    "\n",
    "m.fs.unit.feed.flow_mol.fix(1)\n",
    "m.fs.unit.feed.temperature.fix(301)\n",
    "m.fs.unit.feed.pressure.fix(1000000)"
   ]
  },
  {
   "cell_type": "code",
   "execution_count": 6,
   "id": "suffering-gnome",
   "metadata": {},
   "outputs": [],
   "source": [
    "m.fs.unit.condenser.reflux_ratio.fix(0.25)\n",
    "\n",
    "m.fs.unit.condenser.condenser_pressure.fix(1000000)\n",
    "\n",
    "m.fs.unit.reboiler.boilup_ratio.fix(0.35)\n",
    "\n",
    "m.fs.unit.condenser.vapor_outlet.temperature.fix(280)"
   ]
  },
  {
   "cell_type": "code",
   "execution_count": null,
   "id": "metallic-creek",
   "metadata": {},
   "outputs": [],
   "source": []
  },
  {
   "cell_type": "code",
   "execution_count": 7,
   "id": "major-magnet",
   "metadata": {
    "scrolled": true
   },
   "outputs": [],
   "source": [
    "# print(degrees_of_freedom(m))\n",
    "# print(degrees_of_freedom(m.fs.unit.condenser))\n",
    "# print(degrees_of_freedom(m.fs.unit.reboiler))"
   ]
  },
  {
   "cell_type": "code",
   "execution_count": 8,
   "id": "expensive-quest",
   "metadata": {
    "scrolled": false
   },
   "outputs": [
    {
     "name": "stdout",
     "output_type": "stream",
     "text": [
      "2021-05-12 09:32:01 [INFO] idaes.init.fs.unit: Begin initialization.\n",
      "2021-05-12 09:32:01 [WARNING] idaes.init.fs.unit: Solver not provided. Default solver(ipopt) being used for initialization.\n",
      "2021-05-12 09:32:01 [INFO] idaes.init.fs.unit.feed_tray: Begin initialization.\n",
      "2021-05-12 09:32:01 [WARNING] idaes.init.fs.unit.feed_tray: Solver not provided. Default solver(ipopt)  being used for initialization.\n",
      "2021-05-12 09:32:01 [INFO] idaes.init.fs.unit.feed_tray.properties_in_feed: Starting initialization\n",
      "2021-05-12 09:32:03 [INFO] idaes.init.fs.unit.feed_tray.properties_in_feed: Dew and bubble point initialization: optimal - Optimal Solution Found.\n",
      "2021-05-12 09:32:03 [INFO] idaes.init.fs.unit.feed_tray.properties_in_feed: Equilibrium temperature initialization completed.\n",
      "2021-05-12 09:32:03 [INFO] idaes.init.fs.unit.feed_tray.properties_in_feed: Phase equilibrium initialization: optimal - Optimal Solution Found.\n",
      "2021-05-12 09:32:04 [INFO] idaes.init.fs.unit.feed_tray.properties_in_feed: Property initialization: optimal - Optimal Solution Found.\n",
      "2021-05-12 09:32:04 [INFO] idaes.init.fs.unit.feed_tray.properties_in_liq: Starting initialization\n",
      "2021-05-12 09:32:04 [INFO] idaes.init.fs.unit.feed_tray.properties_in_liq: Dew and bubble point initialization: optimal - Optimal Solution Found.\n",
      "2021-05-12 09:32:04 [INFO] idaes.init.fs.unit.feed_tray.properties_in_liq: Equilibrium temperature initialization completed.\n",
      "2021-05-12 09:32:05 [INFO] idaes.init.fs.unit.feed_tray.properties_in_liq: Phase equilibrium initialization: optimal - Optimal Solution Found.\n",
      "2021-05-12 09:32:06 [INFO] idaes.init.fs.unit.feed_tray.properties_in_liq: Property initialization: optimal - Optimal Solution Found.\n",
      "2021-05-12 09:32:06 [INFO] idaes.init.fs.unit.feed_tray.properties_in_vap: Starting initialization\n",
      "2021-05-12 09:32:06 [INFO] idaes.init.fs.unit.feed_tray.properties_in_vap: Dew and bubble point initialization: optimal - Optimal Solution Found.\n",
      "2021-05-12 09:32:06 [INFO] idaes.init.fs.unit.feed_tray.properties_in_vap: Equilibrium temperature initialization completed.\n",
      "2021-05-12 09:32:07 [INFO] idaes.init.fs.unit.feed_tray.properties_in_vap: Phase equilibrium initialization: optimal - Optimal Solution Found.\n",
      "2021-05-12 09:32:07 [INFO] idaes.init.fs.unit.feed_tray.properties_in_vap: Property initialization: optimal - Optimal Solution Found.\n",
      "2021-05-12 09:32:07 [INFO] idaes.init.fs.unit.feed_tray.properties_out: Starting initialization\n",
      "2021-05-12 09:32:08 [INFO] idaes.init.fs.unit.feed_tray.properties_out: Dew and bubble point initialization: optimal - Optimal Solution Found.\n",
      "2021-05-12 09:32:08 [INFO] idaes.init.fs.unit.feed_tray.properties_out: Equilibrium temperature initialization completed.\n",
      "2021-05-12 09:32:09 [INFO] idaes.init.fs.unit.feed_tray.properties_out: Phase equilibrium initialization: optimal - Optimal Solution Found.\n",
      "2021-05-12 09:32:09 [INFO] idaes.init.fs.unit.feed_tray.properties_out: Property initialization: optimal - Optimal Solution Found.\n",
      "2021-05-12 09:32:09 [INFO] idaes.init.fs.unit.feed_tray.properties_out: Property package initialization: optimal - Optimal Solution Found.\n",
      "2021-05-12 09:32:12 [INFO] idaes.init.fs.unit.feed_tray: Mass balance solve optimal - Optimal Solution Found.\n",
      "2021-05-12 09:32:15 [INFO] idaes.init.fs.unit.feed_tray: Mass and energy balance solve optimal - Optimal Solution Found.\n",
      "2021-05-12 09:32:18 [INFO] idaes.init.fs.unit.feed_tray: Mass, energy and pressure balance solve optimal - Optimal Solution Found.\n",
      "2021-05-12 09:32:18 [INFO] idaes.init.fs.unit.feed_tray: Initialization complete, status optimal - Optimal Solution Found.\n",
      "2021-05-12 09:32:18 [WARNING] idaes.init.fs.unit.condenser: Solver not provided. Default solver(ipopt)  being used for initialization.\n",
      "2021-05-12 09:32:18 [INFO] idaes.init.fs.unit.condenser.control_volume.properties_in: Starting initialization\n",
      "2021-05-12 09:32:18 [INFO] idaes.init.fs.unit.condenser.control_volume.properties_in: Dew and bubble point initialization: optimal - Optimal Solution Found.\n",
      "2021-05-12 09:32:18 [INFO] idaes.init.fs.unit.condenser.control_volume.properties_in: Equilibrium temperature initialization completed.\n",
      "2021-05-12 09:32:19 [INFO] idaes.init.fs.unit.condenser.control_volume.properties_in: Phase equilibrium initialization: optimal - Optimal Solution Found.\n",
      "2021-05-12 09:32:19 [INFO] idaes.init.fs.unit.condenser.control_volume.properties_in: Property initialization: optimal - Optimal Solution Found.\n",
      "2021-05-12 09:32:19 [INFO] idaes.init.fs.unit.condenser.control_volume.properties_out: Starting initialization\n",
      "2021-05-12 09:32:20 [INFO] idaes.init.fs.unit.condenser.control_volume.properties_out: Dew and bubble point initialization: optimal - Optimal Solution Found.\n",
      "2021-05-12 09:32:20 [INFO] idaes.init.fs.unit.condenser.control_volume.properties_out: Equilibrium temperature initialization completed.\n",
      "2021-05-12 09:32:20 [INFO] idaes.init.fs.unit.condenser.control_volume.properties_out: Phase equilibrium initialization: optimal - Optimal Solution Found.\n",
      "2021-05-12 09:32:21 [INFO] idaes.init.fs.unit.condenser.control_volume.properties_out: Property initialization: optimal - Found feasible point for square problem..\n",
      "2021-05-12 09:32:21 [INFO] idaes.init.fs.unit.condenser.control_volume: Initialization Complete\n",
      "2021-05-12 09:32:26 [INFO] idaes.init.fs.unit.condenser: Initialization Complete, optimal - Optimal Solution Found.\n",
      "2021-05-12 09:32:26 [WARNING] idaes.init.fs.unit.reboiler: Solver not provided. Default solver(ipopt)  being used for initialization.\n",
      "2021-05-12 09:32:26 [INFO] idaes.init.fs.unit.reboiler.control_volume.properties_in: Starting initialization\n",
      "2021-05-12 09:32:26 [INFO] idaes.init.fs.unit.reboiler.control_volume.properties_in: Dew and bubble point initialization: optimal - Optimal Solution Found.\n",
      "2021-05-12 09:32:26 [INFO] idaes.init.fs.unit.reboiler.control_volume.properties_in: Equilibrium temperature initialization completed.\n",
      "2021-05-12 09:32:27 [INFO] idaes.init.fs.unit.reboiler.control_volume.properties_in: Phase equilibrium initialization: optimal - Optimal Solution Found.\n",
      "2021-05-12 09:32:28 [INFO] idaes.init.fs.unit.reboiler.control_volume.properties_in: Property initialization: optimal - Optimal Solution Found.\n",
      "2021-05-12 09:32:28 [INFO] idaes.init.fs.unit.reboiler.control_volume.properties_out: Starting initialization\n",
      "2021-05-12 09:32:28 [INFO] idaes.init.fs.unit.reboiler.control_volume.properties_out: Dew and bubble point initialization: optimal - Optimal Solution Found.\n",
      "2021-05-12 09:32:28 [INFO] idaes.init.fs.unit.reboiler.control_volume.properties_out: Equilibrium temperature initialization completed.\n",
      "2021-05-12 09:32:29 [INFO] idaes.init.fs.unit.reboiler.control_volume.properties_out: Phase equilibrium initialization: optimal - Optimal Solution Found.\n",
      "2021-05-12 09:32:30 [INFO] idaes.init.fs.unit.reboiler.control_volume.properties_out: Property initialization: optimal - Optimal Solution Found.\n",
      "2021-05-12 09:32:30 [INFO] idaes.init.fs.unit.reboiler.control_volume.properties_out: Property package initialization: optimal - Optimal Solution Found.\n",
      "2021-05-12 09:32:32 [INFO] idaes.init.fs.unit.reboiler: Initialization Complete, optimal - Optimal Solution Found.\n",
      "2021-05-12 09:32:32 [INFO] idaes.init.fs.unit.rectification_section[1]: Begin initialization.\n",
      "2021-05-12 09:32:32 [WARNING] idaes.init.fs.unit.rectification_section[1]: Solver not provided. Default solver(ipopt)  being used for initialization.\n",
      "2021-05-12 09:32:32 [INFO] idaes.init.fs.unit.rectification_section[1].properties_in_liq: Starting initialization\n",
      "2021-05-12 09:32:33 [INFO] idaes.init.fs.unit.rectification_section[1].properties_in_liq: Dew and bubble point initialization: optimal - Optimal Solution Found.\n",
      "2021-05-12 09:32:33 [INFO] idaes.init.fs.unit.rectification_section[1].properties_in_liq: Equilibrium temperature initialization completed.\n",
      "2021-05-12 09:32:34 [INFO] idaes.init.fs.unit.rectification_section[1].properties_in_liq: Phase equilibrium initialization: optimal - Optimal Solution Found.\n",
      "2021-05-12 09:33:05 [INFO] idaes.init.fs.unit.rectification_section[1].properties_in_liq: Property initialization: maxIterations - Maximum Number of Iterations Exceeded..\n",
      "2021-05-12 09:33:05 [INFO] idaes.init.fs.unit.rectification_section[1].properties_in_vap: Starting initialization\n"
     ]
    },
    {
     "name": "stdout",
     "output_type": "stream",
     "text": [
      "2021-05-12 09:33:06 [INFO] idaes.init.fs.unit.rectification_section[1].properties_in_vap: Dew and bubble point initialization: optimal - Optimal Solution Found.\n",
      "2021-05-12 09:33:06 [INFO] idaes.init.fs.unit.rectification_section[1].properties_in_vap: Equilibrium temperature initialization completed.\n",
      "2021-05-12 09:33:07 [INFO] idaes.init.fs.unit.rectification_section[1].properties_in_vap: Phase equilibrium initialization: optimal - Optimal Solution Found.\n",
      "2021-05-12 09:33:08 [INFO] idaes.init.fs.unit.rectification_section[1].properties_in_vap: Property initialization: optimal - Optimal Solution Found.\n",
      "2021-05-12 09:33:08 [INFO] idaes.init.fs.unit.rectification_section[1].properties_out: Starting initialization\n",
      "2021-05-12 09:33:09 [INFO] idaes.init.fs.unit.rectification_section[1].properties_out: Dew and bubble point initialization: optimal - Optimal Solution Found.\n",
      "2021-05-12 09:33:09 [INFO] idaes.init.fs.unit.rectification_section[1].properties_out: Equilibrium temperature initialization completed.\n",
      "2021-05-12 09:33:09 [INFO] idaes.init.fs.unit.rectification_section[1].properties_out: Phase equilibrium initialization: optimal - Optimal Solution Found.\n",
      "2021-05-12 09:33:10 [INFO] idaes.init.fs.unit.rectification_section[1].properties_out: Property initialization: optimal - Optimal Solution Found.\n",
      "2021-05-12 09:33:10 [INFO] idaes.init.fs.unit.rectification_section[1].properties_out: Property package initialization: optimal - Optimal Solution Found.\n",
      "2021-05-12 09:33:13 [INFO] idaes.init.fs.unit.rectification_section[1]: Mass balance solve optimal - Optimal Solution Found.\n",
      "2021-05-12 09:33:15 [INFO] idaes.init.fs.unit.rectification_section[1]: Mass and energy balance solve optimal - Solved To Acceptable Level..\n",
      "2021-05-12 09:33:18 [INFO] idaes.init.fs.unit.rectification_section[1]: Mass, energy and pressure balance solve infeasible - Converged to a locally infeasible point. Problem may be infeasible..\n",
      "2021-05-12 09:33:18 [INFO] idaes.init.fs.unit.rectification_section[1]: Initialization complete, status infeasible - Converged to a locally infeasible point. Problem may be infeasible..\n",
      "2021-05-12 09:33:18 [INFO] idaes.init.fs.unit.stripping_section[3]: Begin initialization.\n",
      "2021-05-12 09:33:18 [WARNING] idaes.init.fs.unit.stripping_section[3]: Solver not provided. Default solver(ipopt)  being used for initialization.\n",
      "2021-05-12 09:33:18 [INFO] idaes.init.fs.unit.stripping_section[3].properties_in_liq: Starting initialization\n",
      "2021-05-12 09:33:18 [INFO] idaes.init.fs.unit.stripping_section[3].properties_in_liq: Dew and bubble point initialization: optimal - Optimal Solution Found.\n",
      "2021-05-12 09:33:18 [INFO] idaes.init.fs.unit.stripping_section[3].properties_in_liq: Equilibrium temperature initialization completed.\n",
      "2021-05-12 09:33:19 [INFO] idaes.init.fs.unit.stripping_section[3].properties_in_liq: Phase equilibrium initialization: optimal - Optimal Solution Found.\n",
      "2021-05-12 09:33:20 [INFO] idaes.init.fs.unit.stripping_section[3].properties_in_liq: Property initialization: optimal - Optimal Solution Found.\n",
      "2021-05-12 09:33:20 [INFO] idaes.init.fs.unit.stripping_section[3].properties_in_vap: Starting initialization\n",
      "2021-05-12 09:33:20 [INFO] idaes.init.fs.unit.stripping_section[3].properties_in_vap: Dew and bubble point initialization: optimal - Optimal Solution Found.\n",
      "2021-05-12 09:33:20 [INFO] idaes.init.fs.unit.stripping_section[3].properties_in_vap: Equilibrium temperature initialization completed.\n",
      "2021-05-12 09:33:21 [INFO] idaes.init.fs.unit.stripping_section[3].properties_in_vap: Phase equilibrium initialization: optimal - Solved To Acceptable Level..\n",
      "2021-05-12 09:33:21 [INFO] idaes.init.fs.unit.stripping_section[3].properties_in_vap: Property initialization: optimal - Solved To Acceptable Level..\n",
      "2021-05-12 09:33:21 [INFO] idaes.init.fs.unit.stripping_section[3].properties_out: Starting initialization\n",
      "2021-05-12 09:33:22 [INFO] idaes.init.fs.unit.stripping_section[3].properties_out: Dew and bubble point initialization: optimal - Optimal Solution Found.\n",
      "2021-05-12 09:33:22 [INFO] idaes.init.fs.unit.stripping_section[3].properties_out: Equilibrium temperature initialization completed.\n",
      "2021-05-12 09:33:23 [INFO] idaes.init.fs.unit.stripping_section[3].properties_out: Phase equilibrium initialization: optimal - Optimal Solution Found.\n",
      "2021-05-12 09:33:23 [INFO] idaes.init.fs.unit.stripping_section[3].properties_out: Property initialization: optimal - Optimal Solution Found.\n",
      "2021-05-12 09:33:23 [INFO] idaes.init.fs.unit.stripping_section[3].properties_out: Property package initialization: optimal - Optimal Solution Found.\n",
      "2021-05-12 09:33:25 [INFO] idaes.init.fs.unit.stripping_section[3]: Mass balance solve optimal - Optimal Solution Found.\n",
      "2021-05-12 09:33:27 [INFO] idaes.init.fs.unit.stripping_section[3]: Mass and energy balance solve optimal - Optimal Solution Found.\n",
      "2021-05-12 09:33:29 [INFO] idaes.init.fs.unit.stripping_section[3]: Mass, energy and pressure balance solve optimal - Optimal Solution Found.\n",
      "2021-05-12 09:33:29 [INFO] idaes.init.fs.unit.stripping_section[3]: Initialization complete, status optimal - Optimal Solution Found.\n"
     ]
    },
    {
     "ename": "ValueError",
     "evalue": "Cannot load a SolverResults object with bad status: error",
     "output_type": "error",
     "traceback": [
      "\u001b[1;31m---------------------------------------------------------------------------\u001b[0m",
      "\u001b[1;31mValueError\u001b[0m                                Traceback (most recent call last)",
      "\u001b[1;32m<ipython-input-8-ccb880979082>\u001b[0m in \u001b[0;36m<module>\u001b[1;34m\u001b[0m\n\u001b[0;32m      1\u001b[0m \u001b[1;31m# m.fs.unit.feed_tray.initialize()\u001b[0m\u001b[1;33m\u001b[0m\u001b[1;33m\u001b[0m\u001b[1;33m\u001b[0m\u001b[0m\n\u001b[1;32m----> 2\u001b[1;33m \u001b[0mm\u001b[0m\u001b[1;33m.\u001b[0m\u001b[0mfs\u001b[0m\u001b[1;33m.\u001b[0m\u001b[0munit\u001b[0m\u001b[1;33m.\u001b[0m\u001b[0minitialize\u001b[0m\u001b[1;33m(\u001b[0m\u001b[1;33m)\u001b[0m\u001b[1;33m\u001b[0m\u001b[1;33m\u001b[0m\u001b[0m\n\u001b[0m\u001b[0;32m      3\u001b[0m \u001b[1;31m# m.fs.unit.feed_tray.initialize()\u001b[0m\u001b[1;33m\u001b[0m\u001b[1;33m\u001b[0m\u001b[1;33m\u001b[0m\u001b[0m\n",
      "\u001b[1;32mc:\\software\\my_fork\\tray\\idaes-pse\\idaes\\generic_models\\unit_models\\distillation\\tray_column.py\u001b[0m in \u001b[0;36minitialize\u001b[1;34m(self, state_args_feed, state_args_liq, state_args_vap, solver, outlvl)\u001b[0m\n\u001b[0;32m    444\u001b[0m \u001b[1;33m\u001b[0m\u001b[0m\n\u001b[0;32m    445\u001b[0m         \u001b[1;32mwith\u001b[0m \u001b[0midaeslog\u001b[0m\u001b[1;33m.\u001b[0m\u001b[0msolver_log\u001b[0m\u001b[1;33m(\u001b[0m\u001b[0msolve_log\u001b[0m\u001b[1;33m,\u001b[0m \u001b[0midaeslog\u001b[0m\u001b[1;33m.\u001b[0m\u001b[0mDEBUG\u001b[0m\u001b[1;33m)\u001b[0m \u001b[1;32mas\u001b[0m \u001b[0mslc\u001b[0m\u001b[1;33m:\u001b[0m\u001b[1;33m\u001b[0m\u001b[1;33m\u001b[0m\u001b[0m\n\u001b[1;32m--> 446\u001b[1;33m             \u001b[0mres\u001b[0m \u001b[1;33m=\u001b[0m \u001b[0msolver\u001b[0m\u001b[1;33m.\u001b[0m\u001b[0msolve\u001b[0m\u001b[1;33m(\u001b[0m\u001b[0mself\u001b[0m\u001b[1;33m.\u001b[0m\u001b[0m_temp_block\u001b[0m\u001b[1;33m.\u001b[0m\u001b[0mrectification\u001b[0m\u001b[1;33m,\u001b[0m \u001b[0mtee\u001b[0m\u001b[1;33m=\u001b[0m\u001b[0mslc\u001b[0m\u001b[1;33m.\u001b[0m\u001b[0mtee\u001b[0m\u001b[1;33m)\u001b[0m\u001b[1;33m\u001b[0m\u001b[1;33m\u001b[0m\u001b[0m\n\u001b[0m\u001b[0;32m    447\u001b[0m         init_log.info(\n\u001b[0;32m    448\u001b[0m             \u001b[1;34m\"Rectification section initialization status {}.\"\u001b[0m\u001b[1;33m.\u001b[0m\u001b[1;33m\u001b[0m\u001b[1;33m\u001b[0m\u001b[0m\n",
      "\u001b[1;32mc:\\users\\agarc\\anaconda32\\envs\\tray\\lib\\site-packages\\pyomo\\opt\\base\\solvers.py\u001b[0m in \u001b[0;36msolve\u001b[1;34m(self, *args, **kwds)\u001b[0m\n\u001b[0;32m    630\u001b[0m                 \u001b[1;32melse\u001b[0m\u001b[1;33m:\u001b[0m\u001b[1;33m\u001b[0m\u001b[1;33m\u001b[0m\u001b[0m\n\u001b[0;32m    631\u001b[0m                     \u001b[1;32mif\u001b[0m \u001b[0mself\u001b[0m\u001b[1;33m.\u001b[0m\u001b[0m_load_solutions\u001b[0m\u001b[1;33m:\u001b[0m\u001b[1;33m\u001b[0m\u001b[1;33m\u001b[0m\u001b[0m\n\u001b[1;32m--> 632\u001b[1;33m                         _model.solutions.load_from(\n\u001b[0m\u001b[0;32m    633\u001b[0m                             \u001b[0mresult\u001b[0m\u001b[1;33m,\u001b[0m\u001b[1;33m\u001b[0m\u001b[1;33m\u001b[0m\u001b[0m\n\u001b[0;32m    634\u001b[0m                             \u001b[0mselect\u001b[0m\u001b[1;33m=\u001b[0m\u001b[0mself\u001b[0m\u001b[1;33m.\u001b[0m\u001b[0m_select_index\u001b[0m\u001b[1;33m,\u001b[0m\u001b[1;33m\u001b[0m\u001b[1;33m\u001b[0m\u001b[0m\n",
      "\u001b[1;32mc:\\users\\agarc\\anaconda32\\envs\\tray\\lib\\site-packages\\pyomo\\core\\base\\PyomoModel.py\u001b[0m in \u001b[0;36mload_from\u001b[1;34m(self, results, allow_consistent_values_for_fixed_vars, comparison_tolerance_for_fixed_vars, ignore_invalid_labels, id, delete_symbol_map, clear, default_variable_value, select, ignore_fixed_vars)\u001b[0m\n\u001b[0;32m    234\u001b[0m                     \"an 'aborted' status, but containing a solution\")\n\u001b[0;32m    235\u001b[0m             \u001b[1;32melse\u001b[0m\u001b[1;33m:\u001b[0m\u001b[1;33m\u001b[0m\u001b[1;33m\u001b[0m\u001b[0m\n\u001b[1;32m--> 236\u001b[1;33m                 raise ValueError(\"Cannot load a SolverResults object \"\n\u001b[0m\u001b[0;32m    237\u001b[0m                                  \u001b[1;34m\"with bad status: %s\"\u001b[0m\u001b[1;33m\u001b[0m\u001b[1;33m\u001b[0m\u001b[0m\n\u001b[0;32m    238\u001b[0m                                  % str(results.solver.status))\n",
      "\u001b[1;31mValueError\u001b[0m: Cannot load a SolverResults object with bad status: error"
     ]
    }
   ],
   "source": [
    "# m.fs.unit.feed_tray.initialize() \n",
    "m.fs.unit.initialize() \n",
    "# m.fs.unit.feed_tray.initialize() "
   ]
  },
  {
   "cell_type": "code",
   "execution_count": null,
   "id": "smart-sleeve",
   "metadata": {},
   "outputs": [],
   "source": [
    "# Import python path\n",
    "import os\n",
    "\n",
    "# Import idaes model seralizer to store initialized model\n",
    "from idaes.core.util import model_serializer as ms"
   ]
  },
  {
   "cell_type": "code",
   "execution_count": null,
   "id": "powerful-launch",
   "metadata": {},
   "outputs": [],
   "source": [
    "ms.to_json(m, fname=\"tray.json.gz\")\n"
   ]
  },
  {
   "cell_type": "code",
   "execution_count": null,
   "id": "failing-uruguay",
   "metadata": {},
   "outputs": [],
   "source": [
    "solver = SolverFactory('ipopt')\n",
    "solver.options = {'tol': 1e-6}"
   ]
  },
  {
   "cell_type": "code",
   "execution_count": null,
   "id": "metallic-running",
   "metadata": {
    "scrolled": false
   },
   "outputs": [],
   "source": [
    "results = solver.solve(m)\n",
    "\n",
    "status = solver.solve(m, tee = True)"
   ]
  },
  {
   "cell_type": "code",
   "execution_count": null,
   "id": "fresh-nudist",
   "metadata": {},
   "outputs": [],
   "source": [
    "from idaes.core.util.model_statistics import large_residuals_set"
   ]
  },
  {
   "cell_type": "code",
   "execution_count": null,
   "id": "narrative-blackberry",
   "metadata": {
    "scrolled": true
   },
   "outputs": [],
   "source": [
    "print(large_residuals_set(m))"
   ]
  },
  {
   "cell_type": "code",
   "execution_count": null,
   "id": "exceptional-partition",
   "metadata": {
    "scrolled": true
   },
   "outputs": [],
   "source": [
    "m.display()"
   ]
  },
  {
   "cell_type": "code",
   "execution_count": null,
   "id": "annoying-accreditation",
   "metadata": {},
   "outputs": [],
   "source": []
  },
  {
   "cell_type": "code",
   "execution_count": null,
   "id": "geographic-monitor",
   "metadata": {},
   "outputs": [],
   "source": []
  },
  {
   "cell_type": "code",
   "execution_count": null,
   "id": "professional-location",
   "metadata": {},
   "outputs": [],
   "source": []
  }
 ],
 "metadata": {
  "kernelspec": {
   "display_name": "Python 3",
   "language": "python",
   "name": "python3"
  },
  "language_info": {
   "codemirror_mode": {
    "name": "ipython",
    "version": 3
   },
   "file_extension": ".py",
   "mimetype": "text/x-python",
   "name": "python",
   "nbconvert_exporter": "python",
   "pygments_lexer": "ipython3",
   "version": "3.9.2"
  }
 },
 "nbformat": 4,
 "nbformat_minor": 5
}
