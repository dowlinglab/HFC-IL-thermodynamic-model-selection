{
 "cells": [
  {
   "cell_type": "code",
   "execution_count": 1,
   "id": "steady-moisture",
   "metadata": {},
   "outputs": [],
   "source": [
    "from pyomo.environ import (ConcreteModel,\n",
    "                           Param)"
   ]
  },
  {
   "cell_type": "code",
   "execution_count": 2,
   "id": "whole-bunch",
   "metadata": {},
   "outputs": [],
   "source": [
    "m = ConcreteModel()"
   ]
  },
  {
   "cell_type": "code",
   "execution_count": 3,
   "id": "mediterranean-parker",
   "metadata": {},
   "outputs": [],
   "source": [
    "list1 = ['k1','k2']"
   ]
  },
  {
   "cell_type": "code",
   "execution_count": 4,
   "id": "civic-finnish",
   "metadata": {},
   "outputs": [],
   "source": [
    "def param_def(self, x, y):  \n",
    "    def instance(self):\n",
    "        print (str(i**3))\n",
    "#     print(x)\n",
    "    instance.__name__ = 'P%d'+x\n",
    "    setattr(self,instance.__name__,instance)\n",
    "    \n",
    "    self.__name__ = Param(mutable=True, default=y) "
   ]
  },
  {
   "cell_type": "code",
   "execution_count": 5,
   "id": "boxed-agreement",
   "metadata": {},
   "outputs": [],
   "source": [
    "setattr(m,list1[0],Param(mutable=True, default=0))"
   ]
  },
  {
   "cell_type": "code",
   "execution_count": 6,
   "id": "employed-looking",
   "metadata": {},
   "outputs": [
    {
     "name": "stdout",
     "output_type": "stream",
     "text": [
      "Model unknown\n",
      "\n",
      "  Variables:\n",
      "    None\n",
      "\n",
      "  Objectives:\n",
      "    None\n",
      "\n",
      "  Constraints:\n",
      "    None\n"
     ]
    }
   ],
   "source": [
    "m.display()"
   ]
  },
  {
   "cell_type": "code",
   "execution_count": 7,
   "id": "statistical-europe",
   "metadata": {
    "scrolled": true
   },
   "outputs": [
    {
     "name": "stdout",
     "output_type": "stream",
     "text": [
      "1 Param Declarations\n",
      "    k1 : Size=1, Index=None, Domain=Any, Default=0, Mutable=True\n",
      "        Key : Value\n",
      "\n",
      "1 Declarations: k1\n"
     ]
    }
   ],
   "source": [
    "m.pprint()"
   ]
  },
  {
   "cell_type": "code",
   "execution_count": 8,
   "id": "aquatic-bangladesh",
   "metadata": {},
   "outputs": [
    {
     "name": "stdout",
     "output_type": "stream",
     "text": [
      "0\n",
      "1\n",
      "8\n",
      "27\n",
      "64\n",
      "125\n",
      "216\n",
      "343\n",
      "512\n",
      "729\n"
     ]
    }
   ],
   "source": [
    "NUMBER_of_INSTANCES = 10\n",
    "\n",
    "class test(object):\n",
    "    pass\n",
    "\n",
    "def add_instance(cls,i):\n",
    "    def instance(self):\n",
    "        print (str(i**3))\n",
    "    instance.__doc__ = \"docstring for instance%d\" % i\n",
    "    instance.__name__ = \"instance%d\" % i\n",
    "    setattr(cls,instance.__name__,instance)\n",
    "\n",
    "d = test()\n",
    "for i in range(NUMBER_of_INSTANCES):\n",
    "    add_instance(test, i)        \n",
    "    a = str('d.instance'+str(i)+'()')\n",
    "    exec(a)"
   ]
  }
 ],
 "metadata": {
  "kernelspec": {
   "display_name": "Python 3",
   "language": "python",
   "name": "python3"
  },
  "language_info": {
   "codemirror_mode": {
    "name": "ipython",
    "version": 3
   },
   "file_extension": ".py",
   "mimetype": "text/x-python",
   "name": "python",
   "nbconvert_exporter": "python",
   "pygments_lexer": "ipython3",
   "version": "3.7.9"
  }
 },
 "nbformat": 4,
 "nbformat_minor": 5
}
