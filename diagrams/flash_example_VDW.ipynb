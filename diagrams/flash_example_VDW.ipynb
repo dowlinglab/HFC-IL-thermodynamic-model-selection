{
 "cells": [
  {
   "cell_type": "code",
   "execution_count": 1,
   "id": "ordinary-organ",
   "metadata": {},
   "outputs": [],
   "source": [
    "from pyomo.environ import ConcreteModel, SolverFactory\n",
    "                           \n",
    "from idaes.core import FlowsheetBlock\n",
    "                           \n",
    "from idaes.generic_models.properties.core.generic.generic_property import (\n",
    "        GenericParameterBlock)\n",
    "                           \n",
    "from R32_emimTF2N_VDW import configuration\n",
    "\n",
    "from idaes.generic_models.unit_models import Flash\n",
    "\n",
    "from idaes.core.util.model_statistics import degrees_of_freedom\n",
    "\n",
    "import idaes.logger as idaeslog"
   ]
  },
  {
   "cell_type": "code",
   "execution_count": 2,
   "id": "comprehensive-accreditation",
   "metadata": {},
   "outputs": [
    {
     "name": "stdout",
     "output_type": "stream",
     "text": [
      "2021-04-27 16:24:22 [INFO] idaes.generic_models.properties.core.generic.generic_property: DEPRECATED - definiton of generic property packages is moving to using static classes instead of modules. Please refer to the IDAES documentation.\n"
     ]
    }
   ],
   "source": [
    "m = ConcreteModel()\n",
    "\n",
    "m.fs = FlowsheetBlock(default={\"dynamic\": False})\n",
    "\n",
    "m.fs.properties = GenericParameterBlock(default=configuration)\n",
    "\n",
    "m.fs.F101 = Flash(default={\"property_package\": m.fs.properties,\n",
    "                           \"has_heat_transfer\": False,\n",
    "                           \"has_pressure_change\": True})"
   ]
  },
  {
   "cell_type": "code",
   "execution_count": 3,
   "id": "raised-welcome",
   "metadata": {},
   "outputs": [
    {
     "name": "stdout",
     "output_type": "stream",
     "text": [
      "The initial DOF is 6\n"
     ]
    }
   ],
   "source": [
    "DOF_initial = degrees_of_freedom(m)\n",
    "print(\"The initial DOF is {0}\".format(DOF_initial))"
   ]
  },
  {
   "cell_type": "code",
   "execution_count": 4,
   "id": "fifteen-canberra",
   "metadata": {},
   "outputs": [],
   "source": [
    "m.fs.F101.inlet.flow_mol.fix(1)\n",
    "m.fs.F101.inlet.temperature.fix(323.15)\n",
    "m.fs.F101.inlet.pressure.fix(399800)\n",
    "m.fs.F101.inlet.mole_frac_comp[0,'R32'].fix(0.5)\n",
    "m.fs.F101.inlet.mole_frac_comp[0,'emimTF2N'].fix(0.5)\n",
    "\n",
    "# m.fs.F101.vap_outlet.pressure.fix(399800)"
   ]
  },
  {
   "cell_type": "code",
   "execution_count": 5,
   "id": "grateful-tyler",
   "metadata": {},
   "outputs": [
    {
     "data": {
      "text/plain": [
       "1"
      ]
     },
     "execution_count": 5,
     "metadata": {},
     "output_type": "execute_result"
    }
   ],
   "source": [
    "degrees_of_freedom(m.fs.F101)"
   ]
  },
  {
   "cell_type": "code",
   "execution_count": 6,
   "id": "japanese-germany",
   "metadata": {},
   "outputs": [
    {
     "name": "stdout",
     "output_type": "stream",
     "text": [
      "2021-04-27 16:24:32 [INFO] idaes.init.fs.F101.control_volume.properties_in: Starting initialization\n",
      "2021-04-27 16:24:34 [INFO] idaes.init.fs.F101.control_volume.properties_in: Dew and bubble point initialization: maxIterations - Maximum Number of Iterations Exceeded..\n",
      "2021-04-27 16:24:34 [INFO] idaes.init.fs.F101.control_volume.properties_in: Equilibrium temperature initialization completed.\n",
      "2021-04-27 16:24:36 [INFO] idaes.init.fs.F101.control_volume.properties_in: Phase equilibrium initialization: maxIterations - Maximum Number of Iterations Exceeded..\n",
      "2021-04-27 16:24:38 [INFO] idaes.init.fs.F101.control_volume.properties_in: Property initialization: maxIterations - Maximum Number of Iterations Exceeded..\n",
      "2021-04-27 16:24:38 [INFO] idaes.init.fs.F101.control_volume.properties_out: Starting initialization\n",
      "2021-04-27 16:24:41 [INFO] idaes.init.fs.F101.control_volume.properties_out: Dew and bubble point initialization: maxIterations - Maximum Number of Iterations Exceeded..\n",
      "2021-04-27 16:24:41 [INFO] idaes.init.fs.F101.control_volume.properties_out: Equilibrium temperature initialization completed.\n",
      "2021-04-27 16:24:43 [INFO] idaes.init.fs.F101.control_volume.properties_out: Phase equilibrium initialization: maxIterations - Maximum Number of Iterations Exceeded..\n",
      "2021-04-27 16:24:45 [INFO] idaes.init.fs.F101.control_volume.properties_out: Property initialization: maxIterations - Maximum Number of Iterations Exceeded..\n",
      "2021-04-27 16:24:45 [INFO] idaes.init.fs.F101.control_volume: Initialization Complete\n",
      "2021-04-27 16:24:48 [INFO] idaes.init.fs.F101: Initialization Complete: maxIterations - Maximum Number of Iterations Exceeded.\n"
     ]
    }
   ],
   "source": [
    "# Initialize the flash unit\n",
    "m.fs.F101.initialize()"
   ]
  },
  {
   "cell_type": "code",
   "execution_count": 7,
   "id": "humanitarian-consortium",
   "metadata": {},
   "outputs": [],
   "source": [
    "solver = SolverFactory('ipopt')\n",
    "solver.options = {'tol': 1e-6}"
   ]
  },
  {
   "cell_type": "code",
   "execution_count": 8,
   "id": "instrumental-wages",
   "metadata": {},
   "outputs": [
    {
     "name": "stdout",
     "output_type": "stream",
     "text": [
      "WARNING: Loading a SolverResults object with a warning status into\n",
      "    model.name=\"unknown\";\n",
      "      - termination condition: maxIterations\n",
      "      - message from solver: Ipopt 3.13.2\\x3a Maximum Number of Iterations\n",
      "        Exceeded.\n"
     ]
    }
   ],
   "source": [
    "status = solver.solve(m, tee = False)"
   ]
  },
  {
   "cell_type": "code",
   "execution_count": 9,
   "id": "white-evolution",
   "metadata": {},
   "outputs": [
    {
     "name": "stdout",
     "output_type": "stream",
     "text": [
      "\n",
      "====================================================================================\n",
      "Unit : fs.F101                                                             Time: 0.0\n",
      "------------------------------------------------------------------------------------\n",
      "    Unit Performance\n",
      "\n",
      "    Variables: \n",
      "\n",
      "    Key             : Value      : Fixed : Bounds\n",
      "    Pressure Change : 8.9621e+05 : False : (None, None)\n",
      "\n",
      "------------------------------------------------------------------------------------\n",
      "    Stream Table\n",
      "                               Inlet    Vapor Outlet  Liquid Outlet\n",
      "    flow_mol                    1.0000      0.29429       0.70570  \n",
      "    mole_frac_comp emimTF2N    0.50000   1.0000e-08       0.70848  \n",
      "    mole_frac_comp R32         0.50000       1.0000       0.29152  \n",
      "    temperature                 323.15       305.17        305.17  \n",
      "    pressure                3.9980e+05   1.2960e+06    1.2960e+06  \n",
      "====================================================================================\n"
     ]
    }
   ],
   "source": [
    "m.fs.F101.report()"
   ]
  },
  {
   "cell_type": "code",
   "execution_count": null,
   "id": "harmful-hudson",
   "metadata": {
    "scrolled": false
   },
   "outputs": [],
   "source": [
    "# m.display()"
   ]
  },
  {
   "cell_type": "code",
   "execution_count": null,
   "id": "minimal-hollywood",
   "metadata": {
    "scrolled": true
   },
   "outputs": [],
   "source": [
    "# m.pprint()"
   ]
  },
  {
   "cell_type": "code",
   "execution_count": null,
   "id": "unlimited-corpus",
   "metadata": {},
   "outputs": [],
   "source": []
  }
 ],
 "metadata": {
  "kernelspec": {
   "display_name": "Python 3",
   "language": "python",
   "name": "python3"
  },
  "language_info": {
   "codemirror_mode": {
    "name": "ipython",
    "version": 3
   },
   "file_extension": ".py",
   "mimetype": "text/x-python",
   "name": "python",
   "nbconvert_exporter": "python",
   "pygments_lexer": "ipython3",
   "version": "3.9.1"
  }
 },
 "nbformat": 4,
 "nbformat_minor": 5
}
