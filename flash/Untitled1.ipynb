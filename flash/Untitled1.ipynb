{
 "cells": [
  {
   "cell_type": "code",
   "execution_count": 1,
   "id": "nuclear-frequency",
   "metadata": {},
   "outputs": [],
   "source": [
    "from pyomo.environ import (Constraint,\n",
    "                           Var,\n",
    "                           ConcreteModel,\n",
    "                           Expression,\n",
    "                           Param,\n",
    "                           Objective,\n",
    "                           SolverFactory,\n",
    "                           TransformationFactory,\n",
    "                           value)\n",
    "\n",
    "from pyomo.network import Arc, SequentialDecomposition\n",
    "\n",
    "from idaes.core.util.initialization import propagate_state\n",
    "\n",
    "# Import plotting functions\n",
    "import matplotlib.pyplot as plt\n",
    "\n",
    "# Import numpy library \n",
    "import numpy as np\n",
    "\n",
    "# Import the main FlowsheetBlock from IDAES. The flowsheet block will contain the unit model\n",
    "from idaes.core import FlowsheetBlock\n",
    "\n",
    "import idaes.logger as idaeslog\n",
    "from pyomo.opt import TerminationCondition, SolverStatus\n",
    "\n",
    "# Import the degrees_of_freedom function from the idaes.core.util.model_statistics package\n",
    "# DOF = Number of Model Variables - Number of Model Constraints\n",
    "from idaes.core.util.model_statistics import degrees_of_freedom\n",
    "\n",
    "# Import the Generic Parameter Block\n",
    "from idaes.generic_models.properties.core.generic.generic_property import (\n",
    "        GenericParameterBlock)\n",
    "\n",
    "# Import unit models from the model library\n",
    "from idaes.generic_models.unit_models import Flash\n",
    "\n",
    "# Import R32, R125, IL info file\n",
    "from HFCS_bmimPF6_PR import configuration"
   ]
  },
  {
   "cell_type": "code",
   "execution_count": 2,
   "id": "broken-thumb",
   "metadata": {},
   "outputs": [
    {
     "name": "stdout",
     "output_type": "stream",
     "text": [
      "2021-04-20 18:10:50 [INFO] idaes.generic_models.properties.core.generic.generic_property: DEPRECATED - definiton of generic property packages is moving to using static classes instead of modules. Please refer to the IDAES documentation.\n"
     ]
    }
   ],
   "source": [
    "# Create the ConcreteModel and the FlowsheetBlock, and attach the flowsheet block to it.\n",
    "m = ConcreteModel()\n",
    "\n",
    "m.fs = FlowsheetBlock(default={\"dynamic\": False}) \n",
    "\n",
    "# Add properties parameter blocks to the flowsheet with specifications\n",
    "m.fs.props = GenericParameterBlock(default=configuration)"
   ]
  },
  {
   "cell_type": "code",
   "execution_count": 3,
   "id": "welsh-homeless",
   "metadata": {},
   "outputs": [
    {
     "name": "stdout",
     "output_type": "stream",
     "text": [
      "The initial DOF is 8\n"
     ]
    }
   ],
   "source": [
    "m.fs.F101 = Flash(default={\"property_package\": m.fs.props,\n",
    "                               \"has_heat_transfer\": True,\n",
    "                               \"has_pressure_change\": True})\n",
    "\n",
    "# Call the degrees_of_freedom function, get intitial DOF\n",
    "DOF_initial = degrees_of_freedom(m)\n",
    "print(\"The initial DOF is {0}\".format(DOF_initial))"
   ]
  },
  {
   "cell_type": "code",
   "execution_count": 5,
   "id": "partial-twins",
   "metadata": {},
   "outputs": [
    {
     "name": "stdout",
     "output_type": "stream",
     "text": [
      "The final DOF is 0\n"
     ]
    }
   ],
   "source": [
    "## Update conditions to reduce DOF\n",
    "\n",
    "# Fix Heater H101 inlet conditions\n",
    "m.fs.F101.inlet.mole_frac_comp[0, \"R32\"].fix(0.5)\n",
    "m.fs.F101.inlet.mole_frac_comp[0, \"R125\"].fix(0.5)\n",
    "m.fs.F101.inlet.mole_frac_comp[0, \"bmimPF6\"].fix(0.001)\n",
    "\n",
    "m.fs.F101.inlet.flow_mol[0].fix(1)\n",
    "m.fs.F101.inlet.temperature.fix(300)\n",
    "m.fs.F101.inlet.pressure.fix(200000)\n",
    "\n",
    "# Fix F101 Flash outlet conditions\n",
    "m.fs.F101.vap_outlet.temperature.fix(300)\n",
    "m.fs.F101.deltaP.fix(0)\n",
    "\n",
    "DOF_final = degrees_of_freedom(m)\n",
    "print(\"The final DOF is {0}\".format(DOF_final))"
   ]
  },
  {
   "cell_type": "code",
   "execution_count": 6,
   "id": "turned-shelter",
   "metadata": {},
   "outputs": [],
   "source": [
    "solver = SolverFactory('ipopt')\n",
    "solver.options = {'tol': 1e-6}"
   ]
  },
  {
   "cell_type": "code",
   "execution_count": null,
   "id": "agricultural-plaintiff",
   "metadata": {},
   "outputs": [],
   "source": [
    "# Set pressures to loop over\n",
    "P = [200000,300000,400000,500000,600000,700000,800000,900000,1000000,1100000,1200000,1300000,1400000,1500000,1600000]\n",
    "\n",
    "# Set fraction of feed compositions of HFCs to loop over\n",
    "HFC_feed_frac = [0.001,0.15,0.2,0.3,0.4,0.5,0.72,0.91,0.99]\n",
    "\n",
    "# Make outlet arrays\n",
    "IL_x = np.zeros((len(P),len(HFC_feed_frac)))\n",
    "IL_y = np.zeros((len(P),len(HFC_feed_frac)))\n",
    "R32_x = np.zeros((len(P),len(HFC_feed_frac)))\n",
    "R32_y = np.zeros((len(P),len(HFC_feed_frac)))\n",
    "R125_x = np.zeros((len(P),len(HFC_feed_frac)))\n",
    "R125_y = np.zeros((len(P),len(HFC_feed_frac))) \n",
    "\n",
    "for i in range(len(P)):\n",
    "    \n",
    "    # Fix pressure\n",
    "    m.fs.F101.inlet.pressure.fix(P[i])\n",
    "    \n",
    "    for j in range(len(HFC_feed_frac)):\n",
    "        \n",
    "        # Fix inlet mole fractions\n",
    "        fract = 1 - HFC_feed_frac[j] \n",
    "        m.fs.F101.inlet.mole_frac_comp[0, \"R32\"].fix(0.85*HFC_feed_frac[j])\n",
    "        m.fs.F101.inlet.mole_frac_comp[0, \"R125\"].fix(0.85*fract)\n",
    "        m.fs.F101.inlet.mole_frac_comp[0, \"emimTf2N\"].fix(0.15)   \n",
    "\n",
    "        m.fs.F101.initialize(outlvl=idaeslog.CRITICAL)              \n",
    "\n",
    "        # solve the model\n",
    "        status = solver.solve(m, tee = False)\n",
    "        # model.display()\n",
    "        \n",
    "        # If solution is optimal store the concentration, and calculated temperatures in the created arrays\n",
    "        if (status.solver.status == SolverStatus.ok) and (status.solver.termination_condition == TerminationCondition.optimal):\n",
    "\n",
    "            IL_x[i,j] = value(m.fs.F101.liq_outlet.mole_frac_comp[0, \"emimTf2N\"])\n",
    "            IL_y[i,j] = value(m.fs.F101.vap_outlet.mole_frac_comp[0, \"emimTf2N\"])\n",
    "            R32_x[i,j] = value(m.fs.F101.liq_outlet.mole_frac_comp[0, \"R32\"]) \n",
    "            R32_y[i,j] = value(m.fs.F101.vap_outlet.mole_frac_comp[0, \"R32\"])\n",
    "            R125_x[i,j] = value(m.fs.F101.liq_outlet.mole_frac_comp[0, \"R125\"])\n",
    "            R125_y[i,j] = value(m.fs.F101.vap_outlet.mole_frac_comp[0, \"R125\"])\n",
    "\n",
    "            #Change this to feasible\n",
    "            print(\"Running pressure:\",P[i],\"and HFC feed fraction\",HFC_feed_frac[j])\n",
    "#             print(value(m.fs.F101.liq_outlet.flow_mol[0]))\n",
    "#             print(value(m.fs.F101.vap_outlet.flow_mol[0]))\n",
    "        else:\n",
    "            print('Infeasible.')"
   ]
  }
 ],
 "metadata": {
  "kernelspec": {
   "display_name": "Python 3",
   "language": "python",
   "name": "python3"
  },
  "language_info": {
   "codemirror_mode": {
    "name": "ipython",
    "version": 3
   },
   "file_extension": ".py",
   "mimetype": "text/x-python",
   "name": "python",
   "nbconvert_exporter": "python",
   "pygments_lexer": "ipython3",
   "version": "3.7.9"
  }
 },
 "nbformat": 4,
 "nbformat_minor": 5
}
