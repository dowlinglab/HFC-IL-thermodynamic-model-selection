{
 "cells": [
  {
   "cell_type": "code",
   "execution_count": 1,
   "id": "hazardous-flood",
   "metadata": {},
   "outputs": [],
   "source": [
    "from pyomo.environ import (Constraint,\n",
    "                           Var,\n",
    "                           ConcreteModel,\n",
    "                           Expression,\n",
    "                           Param,\n",
    "                           Objective,\n",
    "                           SolverFactory,\n",
    "                           TransformationFactory,\n",
    "                           value)\n",
    "\n",
    "from pyomo.network import Arc, SequentialDecomposition\n",
    "\n",
    "from idaes.core.util.initialization import propagate_state\n",
    "\n",
    "# Import plotting functions\n",
    "import matplotlib.pyplot as plt\n",
    "\n",
    "# Import numpy library \n",
    "import numpy as np\n",
    "\n",
    "# Import the main FlowsheetBlock from IDAES. The flowsheet block will contain the unit model\n",
    "from idaes.core import FlowsheetBlock\n",
    "\n",
    "import idaes.logger as idaeslog\n",
    "from pyomo.opt import TerminationCondition, SolverStatus\n",
    "\n",
    "# Import the degrees_of_freedom function from the idaes.core.util.model_statistics package\n",
    "# DOF = Number of Model Variables - Number of Model Constraints\n",
    "from idaes.core.util.model_statistics import degrees_of_freedom\n",
    "\n",
    "# Import the Generic Parameter Block\n",
    "from idaes.generic_models.properties.core.generic.generic_property import (\n",
    "        GenericParameterBlock)\n",
    "\n",
    "# Import unit models from the model library\n",
    "from idaes.generic_models.unit_models import Flash\n",
    "\n",
    "# Import R32, R125, IL info file\n",
    "from HFCS_bmimPF6_PR import configuration"
   ]
  },
  {
   "cell_type": "code",
   "execution_count": 2,
   "id": "dietary-ordinance",
   "metadata": {},
   "outputs": [
    {
     "name": "stdout",
     "output_type": "stream",
     "text": [
      "2021-04-30 12:35:26 [INFO] idaes.generic_models.properties.core.generic.generic_property: DEPRECATED - definiton of generic property packages is moving to using static classes instead of modules. Please refer to the IDAES documentation.\n",
      "2021-04-30 12:35:26 [INFO] idaes.generic_models.properties.core.generic.generic_property: DEPRECATED - definiton of generic property packages is moving to using static classes instead of modules. Please refer to the IDAES documentation.\n"
     ]
    }
   ],
   "source": [
    "m1 = ConcreteModel()\n",
    "\n",
    "m1.fs = FlowsheetBlock(default={\"dynamic\": False})\n",
    "\n",
    "m1.fs.properties = GenericParameterBlock(default=configuration)\n",
    "\n",
    "m1.fs.F101 = Flash(default={\"property_package\": m1.fs.properties,\n",
    "                           \"has_heat_transfer\": True,\n",
    "                           \"has_pressure_change\": True})\n",
    "\n",
    "m2 = ConcreteModel()\n",
    "\n",
    "m2.fs = FlowsheetBlock(default={\"dynamic\": False})\n",
    "\n",
    "m2.fs.properties = GenericParameterBlock(default=configuration)\n",
    "\n",
    "m2.fs.F101 = Flash(default={\"property_package\": m2.fs.properties,\n",
    "                           \"has_heat_transfer\": True,\n",
    "                           \"has_pressure_change\": True})"
   ]
  },
  {
   "cell_type": "code",
   "execution_count": 3,
   "id": "figured-throat",
   "metadata": {},
   "outputs": [],
   "source": [
    "m1.fs.properties.PR_kappa['R32', 'R125'].fix(-0.002535)\n",
    "m1.fs.properties.PR_kappa['R125', 'R32'].fix(-0.002535)\n",
    "m1.fs.properties.PR_kappa['R32', 'bmimPF6'].fix(-0.01435)\n",
    "m1.fs.properties.PR_kappa['bmimPF6', 'R32'].fix(0.9651)\n",
    "m1.fs.properties.PR_kappa['bmimPF6', 'R125'].fix(0.6312)\n",
    "m1.fs.properties.PR_kappa['R125', 'bmimPF6'].fix(0.0504)\n",
    "\n",
    "m2.fs.properties.PR_kappa['R32', 'R125'].fix(-0.002535)\n",
    "m2.fs.properties.PR_kappa['R125', 'R32'].fix(-0.002535)\n",
    "m2.fs.properties.PR_kappa['R32', 'bmimPF6'].fix(-0.05355)\n",
    "m2.fs.properties.PR_kappa['bmimPF6', 'R32'].fix(0.1818)\n",
    "m2.fs.properties.PR_kappa['bmimPF6', 'R125'].fix(1.6358)\n",
    "m2.fs.properties.PR_kappa['R125', 'bmimPF6'].fix(0.04800)"
   ]
  },
  {
   "cell_type": "code",
   "execution_count": 4,
   "id": "similar-aging",
   "metadata": {},
   "outputs": [],
   "source": [
    "solver = SolverFactory('ipopt')\n",
    "solver.options = {'tol': 1e-6}"
   ]
  },
  {
   "cell_type": "code",
   "execution_count": 5,
   "id": "aggressive-panama",
   "metadata": {},
   "outputs": [
    {
     "name": "stdout",
     "output_type": "stream",
     "text": [
      "WARNING: Loading a SolverResults object with a warning status into\n",
      "    model.name=\"unknown\";\n",
      "      - termination condition: maxIterations\n",
      "      - message from solver: Ipopt 3.13.2\\x3a Maximum Number of Iterations\n",
      "        Exceeded.\n",
      "Infeasible.\n",
      "Running temperature: 286 and HFC feed fraction 0.15\n",
      "Running temperature: 286 and HFC feed fraction 0.2\n",
      "Running temperature: 286 and HFC feed fraction 0.3\n",
      "WARNING: Loading a SolverResults object with a warning status into\n",
      "    model.name=\"unknown\";\n",
      "      - termination condition: maxIterations\n",
      "      - message from solver: Ipopt 3.13.2\\x3a Maximum Number of Iterations\n",
      "        Exceeded.\n",
      "Infeasible.\n",
      "Running temperature: 286 and HFC feed fraction 0.5\n",
      "Running temperature: 286 and HFC feed fraction 0.72\n",
      "Running temperature: 286 and HFC feed fraction 0.91\n",
      "Running temperature: 286 and HFC feed fraction 0.99\n"
     ]
    },
    {
     "ename": "ValueError",
     "evalue": "Cannot load a SolverResults object with bad status: error",
     "output_type": "error",
     "traceback": [
      "\u001b[1;31m---------------------------------------------------------------------------\u001b[0m",
      "\u001b[1;31mValueError\u001b[0m                                Traceback (most recent call last)",
      "\u001b[1;32m<ipython-input-5-6fb77ae3cd53>\u001b[0m in \u001b[0;36m<module>\u001b[1;34m\u001b[0m\n\u001b[0;32m     29\u001b[0m \u001b[1;33m\u001b[0m\u001b[0m\n\u001b[0;32m     30\u001b[0m         \u001b[1;31m# solve the model\u001b[0m\u001b[1;33m\u001b[0m\u001b[1;33m\u001b[0m\u001b[1;33m\u001b[0m\u001b[0m\n\u001b[1;32m---> 31\u001b[1;33m         \u001b[0mstatus\u001b[0m \u001b[1;33m=\u001b[0m \u001b[0msolver\u001b[0m\u001b[1;33m.\u001b[0m\u001b[0msolve\u001b[0m\u001b[1;33m(\u001b[0m\u001b[0mm1\u001b[0m\u001b[1;33m,\u001b[0m \u001b[0mtee\u001b[0m \u001b[1;33m=\u001b[0m \u001b[1;32mFalse\u001b[0m\u001b[1;33m)\u001b[0m\u001b[1;33m\u001b[0m\u001b[1;33m\u001b[0m\u001b[0m\n\u001b[0m\u001b[0;32m     32\u001b[0m         \u001b[1;31m# model.display()\u001b[0m\u001b[1;33m\u001b[0m\u001b[1;33m\u001b[0m\u001b[1;33m\u001b[0m\u001b[0m\n\u001b[0;32m     33\u001b[0m \u001b[1;33m\u001b[0m\u001b[0m\n",
      "\u001b[1;32mc:\\users\\agarc\\anaconda32\\envs\\tray\\lib\\site-packages\\pyomo\\opt\\base\\solvers.py\u001b[0m in \u001b[0;36msolve\u001b[1;34m(self, *args, **kwds)\u001b[0m\n\u001b[0;32m    630\u001b[0m                 \u001b[1;32melse\u001b[0m\u001b[1;33m:\u001b[0m\u001b[1;33m\u001b[0m\u001b[1;33m\u001b[0m\u001b[0m\n\u001b[0;32m    631\u001b[0m                     \u001b[1;32mif\u001b[0m \u001b[0mself\u001b[0m\u001b[1;33m.\u001b[0m\u001b[0m_load_solutions\u001b[0m\u001b[1;33m:\u001b[0m\u001b[1;33m\u001b[0m\u001b[1;33m\u001b[0m\u001b[0m\n\u001b[1;32m--> 632\u001b[1;33m                         _model.solutions.load_from(\n\u001b[0m\u001b[0;32m    633\u001b[0m                             \u001b[0mresult\u001b[0m\u001b[1;33m,\u001b[0m\u001b[1;33m\u001b[0m\u001b[1;33m\u001b[0m\u001b[0m\n\u001b[0;32m    634\u001b[0m                             \u001b[0mselect\u001b[0m\u001b[1;33m=\u001b[0m\u001b[0mself\u001b[0m\u001b[1;33m.\u001b[0m\u001b[0m_select_index\u001b[0m\u001b[1;33m,\u001b[0m\u001b[1;33m\u001b[0m\u001b[1;33m\u001b[0m\u001b[0m\n",
      "\u001b[1;32mc:\\users\\agarc\\anaconda32\\envs\\tray\\lib\\site-packages\\pyomo\\core\\base\\PyomoModel.py\u001b[0m in \u001b[0;36mload_from\u001b[1;34m(self, results, allow_consistent_values_for_fixed_vars, comparison_tolerance_for_fixed_vars, ignore_invalid_labels, id, delete_symbol_map, clear, default_variable_value, select, ignore_fixed_vars)\u001b[0m\n\u001b[0;32m    234\u001b[0m                     \"an 'aborted' status, but containing a solution\")\n\u001b[0;32m    235\u001b[0m             \u001b[1;32melse\u001b[0m\u001b[1;33m:\u001b[0m\u001b[1;33m\u001b[0m\u001b[1;33m\u001b[0m\u001b[0m\n\u001b[1;32m--> 236\u001b[1;33m                 raise ValueError(\"Cannot load a SolverResults object \"\n\u001b[0m\u001b[0;32m    237\u001b[0m                                  \u001b[1;34m\"with bad status: %s\"\u001b[0m\u001b[1;33m\u001b[0m\u001b[1;33m\u001b[0m\u001b[0m\n\u001b[0;32m    238\u001b[0m                                  % str(results.solver.status))\n",
      "\u001b[1;31mValueError\u001b[0m: Cannot load a SolverResults object with bad status: error"
     ]
    }
   ],
   "source": [
    "# Set pressures to loop over\n",
    "T = [286,301,310,320,330,340,350,360,370,380,390,400]\n",
    "\n",
    "# Set fraction of feed compositions of HFCs to loop over\n",
    "HFC_feed_frac = [0.001,0.15,0.2,0.3,0.4,0.5,0.72,0.91,0.99]\n",
    "\n",
    "# Make outlet arrays\n",
    "IL_x = np.zeros((len(T),len(HFC_feed_frac)))\n",
    "IL_y = np.zeros((len(T),len(HFC_feed_frac)))\n",
    "R32_x = np.zeros((len(T),len(HFC_feed_frac)))\n",
    "R32_y = np.zeros((len(T),len(HFC_feed_frac)))\n",
    "R125_x = np.zeros((len(T),len(HFC_feed_frac)))\n",
    "R125_y = np.zeros((len(T),len(HFC_feed_frac))) \n",
    "\n",
    "for i in range(len(T)):\n",
    "    \n",
    "    # Fix pressure\n",
    "    m1.fs.F101.inlet.temperature.fix(T[i])\n",
    "    \n",
    "    for j in range(len(HFC_feed_frac)):\n",
    "        \n",
    "        # Fix inlet mole fractions\n",
    "        fract = 1 - HFC_feed_frac[j] \n",
    "        m1.fs.F101.inlet.mole_frac_comp[0, \"R32\"].fix(0.3*HFC_feed_frac[j])\n",
    "        m1.fs.F101.inlet.mole_frac_comp[0, \"R125\"].fix(0.1*fract)\n",
    "        m1.fs.F101.inlet.mole_frac_comp[0, \"bmimPF6\"].fix(0.7)   \n",
    "\n",
    "        m1.fs.F101.initialize(outlvl=idaeslog.CRITICAL)              \n",
    "\n",
    "        # solve the model\n",
    "        status = solver.solve(m1, tee = False)\n",
    "        # model.display()\n",
    "        \n",
    "        # If solution is optimal store the concentration, and calculated temperatures in the created arrays\n",
    "        if (status.solver.status == SolverStatus.ok) and (status.solver.termination_condition == TerminationCondition.optimal):\n",
    "\n",
    "            IL_x[i,j] = value(m1.fs.F101.liq_outlet.mole_frac_comp[0, \"bmimPF6\"])\n",
    "            IL_y[i,j] = value(m1.fs.F101.vap_outlet.mole_frac_comp[0, \"bmimPF6\"])\n",
    "            R32_x[i,j] = value(m1.fs.F101.liq_outlet.mole_frac_comp[0, \"R32\"]) \n",
    "            R32_y[i,j] = value(m1.fs.F101.vap_outlet.mole_frac_comp[0, \"R32\"])\n",
    "            R125_x[i,j] = value(m1.fs.F101.liq_outlet.mole_frac_comp[0, \"R125\"])\n",
    "            R125_y[i,j] = value(m1.fs.F101.vap_outlet.mole_frac_comp[0, \"R125\"])\n",
    "\n",
    "            #Change this to feasible\n",
    "            print(\"Running temperature:\",T[i],\"and HFC feed fraction\",HFC_feed_frac[j])\n",
    "#             print(value(m1.fs.F101.liq_outlet.flow_mol[0]))\n",
    "#             print(value(m1.fs.F101.vap_outlet.flow_mol[0]))\n",
    "        else:\n",
    "            print('Infeasible.')"
   ]
  },
  {
   "cell_type": "code",
   "execution_count": null,
   "id": "immune-dining",
   "metadata": {},
   "outputs": [],
   "source": []
  }
 ],
 "metadata": {
  "kernelspec": {
   "display_name": "Python 3",
   "language": "python",
   "name": "python3"
  },
  "language_info": {
   "codemirror_mode": {
    "name": "ipython",
    "version": 3
   },
   "file_extension": ".py",
   "mimetype": "text/x-python",
   "name": "python",
   "nbconvert_exporter": "python",
   "pygments_lexer": "ipython3",
   "version": "3.9.2"
  }
 },
 "nbformat": 4,
 "nbformat_minor": 5
}
