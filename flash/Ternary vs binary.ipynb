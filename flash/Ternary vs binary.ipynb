{
 "cells": [
  {
   "cell_type": "code",
   "execution_count": 1,
   "id": "unsigned-liquid",
   "metadata": {},
   "outputs": [],
   "source": [
    "from pyomo.environ import (Constraint,\n",
    "                           Var,\n",
    "                           ConcreteModel,\n",
    "                           Expression,\n",
    "                           Param,\n",
    "                           Objective,\n",
    "                           SolverFactory,\n",
    "                           TransformationFactory,\n",
    "                           value)\n",
    "                           \n",
    "from idaes.core import FlowsheetBlock\n",
    "from pyomo.opt import TerminationCondition, SolverStatus\n",
    "                           \n",
    "from idaes.generic_models.properties.core.generic.generic_property import (\n",
    "        GenericParameterBlock)\n",
    "                           \n",
    "\n",
    "from HFCS_bmimPF6_PR import configuration as config\n",
    "\n",
    "\n",
    "from idaes.generic_models.unit_models import Flash\n",
    "\n",
    "from idaes.core.util.model_statistics import degrees_of_freedom\n",
    "\n",
    "import idaes.logger as idaeslog\n",
    "\n",
    "# Import plotting functions\n",
    "import matplotlib.pyplot as plt\n",
    "\n",
    "# Import numpy library \n",
    "import numpy as np"
   ]
  },
  {
   "cell_type": "code",
   "execution_count": 2,
   "id": "veterinary-cattle",
   "metadata": {},
   "outputs": [
    {
     "name": "stdout",
     "output_type": "stream",
     "text": [
      "2021-05-05 01:38:28 [INFO] idaes.generic_models.properties.core.generic.generic_property: DEPRECATED - definiton of generic property packages is moving to using static classes instead of modules. Please refer to the IDAES documentation.\n",
      "2021-05-05 01:38:28 [INFO] idaes.generic_models.properties.core.generic.generic_property: DEPRECATED - definiton of generic property packages is moving to using static classes instead of modules. Please refer to the IDAES documentation.\n"
     ]
    }
   ],
   "source": [
    "m1 = ConcreteModel()\n",
    "\n",
    "m1.fs = FlowsheetBlock(default={\"dynamic\": False})\n",
    "\n",
    "m1.fs.properties = GenericParameterBlock(default=config)\n",
    "\n",
    "m1.fs.F101 = Flash(default={\"property_package\": m1.fs.properties,\n",
    "                           \"has_heat_transfer\": True,\n",
    "                           \"has_pressure_change\": True})\n",
    "\n",
    "m2 = ConcreteModel()\n",
    "\n",
    "m2.fs = FlowsheetBlock(default={\"dynamic\": False})\n",
    "\n",
    "m2.fs.properties = GenericParameterBlock(default=config)\n",
    "\n",
    "m2.fs.F101 = Flash(default={\"property_package\": m2.fs.properties,\n",
    "                           \"has_heat_transfer\": True,\n",
    "                           \"has_pressure_change\": True})\n",
    "\n"
   ]
  },
  {
   "cell_type": "code",
   "execution_count": 3,
   "id": "proved-wildlife",
   "metadata": {},
   "outputs": [],
   "source": [
    "m1.fs.properties.PR_kappa['R32', 'R125'].fix(-0.002535)\n",
    "m1.fs.properties.PR_kappa['R125', 'R32'].fix(-0.002535)\n",
    "m1.fs.properties.PR_kappa['R32', 'bmimPF6'].fix(-0.01435)\n",
    "m1.fs.properties.PR_kappa['bmimPF6', 'R32'].fix(0.9651)\n",
    "m1.fs.properties.PR_kappa['bmimPF6', 'R125'].fix(0.6312)\n",
    "m1.fs.properties.PR_kappa['R125', 'bmimPF6'].fix(0.0504)\n",
    "\n",
    "m2.fs.properties.PR_kappa['R32', 'R125'].fix(-0.002535)\n",
    "m2.fs.properties.PR_kappa['R125', 'R32'].fix(-0.002535)\n",
    "m2.fs.properties.PR_kappa['R32', 'bmimPF6'].fix(-0.05355)\n",
    "m2.fs.properties.PR_kappa['bmimPF6', 'R32'].fix(0.1818)\n",
    "m2.fs.properties.PR_kappa['bmimPF6', 'R125'].fix(1.6358)\n",
    "m2.fs.properties.PR_kappa['R125', 'bmimPF6'].fix(0.04800)"
   ]
  },
  {
   "cell_type": "code",
   "execution_count": 4,
   "id": "threaded-campaign",
   "metadata": {},
   "outputs": [],
   "source": [
    "m1.fs.F101.inlet.flow_mol.fix(1)\n",
    "m1.fs.F101.inlet.temperature.fix(298.15)\n",
    "m1.fs.F101.inlet.pressure.fix(100000)\n",
    "m1.fs.F101.inlet.mole_frac_comp[0,'R32'].fix(0.2)\n",
    "m1.fs.F101.inlet.mole_frac_comp[0,'R125'].fix(0.1)\n",
    "m1.fs.F101.inlet.mole_frac_comp[0,'bmimPF6'].fix(0.7)\n",
    "\n",
    "m2.fs.F101.inlet.flow_mol.fix(1)\n",
    "m2.fs.F101.inlet.temperature.fix(298.15)\n",
    "m2.fs.F101.inlet.pressure.fix(100000)\n",
    "m2.fs.F101.inlet.mole_frac_comp[0,'R32'].fix(0.2)\n",
    "m2.fs.F101.inlet.mole_frac_comp[0,'R125'].fix(0.1)\n",
    "m2.fs.F101.inlet.mole_frac_comp[0,'bmimPF6'].fix(0.7)"
   ]
  },
  {
   "cell_type": "code",
   "execution_count": 5,
   "id": "original-external",
   "metadata": {},
   "outputs": [],
   "source": [
    "m1.fs.F101.vap_outlet.pressure.fix(100000)\n",
    "m2.fs.F101.vap_outlet.pressure.fix(100000)\n",
    "\n",
    "m1.fs.F101.vap_outlet.temperature.fix(286.15)\n",
    "m2.fs.F101.vap_outlet.temperature.fix(286.15)"
   ]
  },
  {
   "cell_type": "code",
   "execution_count": 6,
   "id": "chronic-trace",
   "metadata": {},
   "outputs": [],
   "source": [
    "solver = SolverFactory('ipopt')\n",
    "solver.options = {'tol': 1e-6}"
   ]
  },
  {
   "cell_type": "code",
   "execution_count": 7,
   "id": "japanese-muscle",
   "metadata": {},
   "outputs": [
    {
     "name": "stdout",
     "output_type": "stream",
     "text": [
      "100000\n",
      "100000\n",
      "100000\n",
      "100000\n",
      "100000\n",
      "100000\n",
      "100000\n",
      "100000\n",
      "100000\n",
      "100000\n",
      "100000\n",
      "100000\n"
     ]
    }
   ],
   "source": [
    "P = [100000]\n",
    "T = [286,300,310,320,330,340,350,360,370,380,390,400]\n",
    "\n",
    "IL_x1 = np.zeros((len(P),(len(T))))\n",
    "IL_y1 = np.zeros((len(P),(len(T))))\n",
    "R32_x1 = np.zeros((len(P),(len(T))))\n",
    "R32_y1 = np.zeros((len(P),(len(T))))\n",
    "R125_x1 = np.zeros((len(P),(len(T))))\n",
    "R125_y1 = np.zeros((len(P),(len(T))))\n",
    "L1 = np.zeros((len(P),(len(T))))\n",
    "V1 = np.zeros((len(P),(len(T))))\n",
    "\n",
    "IL_x2 = np.zeros((len(P),(len(T))))\n",
    "IL_y2 = np.zeros((len(P),(len(T))))\n",
    "R32_x2 = np.zeros((len(P),(len(T))))\n",
    "R32_y2 = np.zeros((len(P),(len(T))))\n",
    "R125_x2 = np.zeros((len(P),(len(T))))\n",
    "R125_y2 = np.zeros((len(P),(len(T))))\n",
    "L2 = np.zeros((len(P),(len(T))))\n",
    "V2 = np.zeros((len(P),(len(T))))\n",
    "\n",
    "for j in range(len(T)):\n",
    "    m1.fs.F101.vap_outlet.temperature.fix(T[j])\n",
    "    m2.fs.F101.vap_outlet.temperature.fix(T[j])\n",
    "    \n",
    "    for i in range(len(P)):\n",
    "\n",
    "        print(P[i])\n",
    "\n",
    "        m1.fs.F101.vap_outlet.pressure.fix(P[i])\n",
    "        m2.fs.F101.vap_outlet.pressure.fix(P[i])\n",
    "\n",
    "        m1.fs.F101.initialize(outlvl=idaeslog.CRITICAL)    \n",
    "        m2.fs.F101.initialize(outlvl=idaeslog.CRITICAL)\n",
    "\n",
    "        # solve the model\n",
    "        status1 = solver.solve(m1, tee = False)\n",
    "        status2 = solver.solve(m2, tee = False)\n",
    "\n",
    "        # model.display()\n",
    "        # If solution is optimal store the concentration, and calculated temperatures in the created arrays\n",
    "        if (status1.solver.status == SolverStatus.ok) and (status1.solver.termination_condition == TerminationCondition.optimal):\n",
    "\n",
    "            IL_x1[i,j] = value(m1.fs.F101.liq_outlet.mole_frac_comp[0, \"bmimPF6\"])\n",
    "            IL_y1[i,j] = value(m1.fs.F101.vap_outlet.mole_frac_comp[0, \"bmimPF6\"])\n",
    "            R32_x1[i,j] = value(m1.fs.F101.liq_outlet.mole_frac_comp[0, \"R32\"]) \n",
    "            R32_y1[i,j] = value(m1.fs.F101.vap_outlet.mole_frac_comp[0, \"R32\"])\n",
    "            R125_x1[i,j] = value(m1.fs.F101.liq_outlet.mole_frac_comp[0, \"R125\"])\n",
    "            R125_y1[i,j] = value(m1.fs.F101.vap_outlet.mole_frac_comp[0, \"R125\"])\n",
    "            L1[i,j] = value(m1.fs.F101.liq_outlet.flow_mol[0])\n",
    "            V1[i,j] = value(m1.fs.F101.vap_outlet.flow_mol[0])\n",
    "\n",
    "        else:\n",
    "            IL_x1[i,j] = \"NAN\"\n",
    "            IL_y1[i,j] = \"NAN\"\n",
    "            R32_x1[i,j] = \"NAN\"\n",
    "            R32_y1[i,j] = \"NAN\"\n",
    "            R125_x1[i,j] = \"NAN\"\n",
    "            R125_y1[i,j] = \"NAN\"\n",
    "            L1[i,j] = \"NAN\"\n",
    "            V1[i,j] = \"NAN\"\n",
    "            \n",
    "        if (status2.solver.status == SolverStatus.ok) and (status2.solver.termination_condition == TerminationCondition.optimal):\n",
    "            IL_x2[i,j] = value(m2.fs.F101.liq_outlet.mole_frac_comp[0, \"bmimPF6\"])\n",
    "            IL_y2[i,j] = value(m2.fs.F101.vap_outlet.mole_frac_comp[0, \"bmimPF6\"])\n",
    "            R32_x2[i,j] = value(m2.fs.F101.liq_outlet.mole_frac_comp[0, \"R32\"]) \n",
    "            R32_y2[i,j] = value(m2.fs.F101.vap_outlet.mole_frac_comp[0, \"R32\"])\n",
    "            R125_x2[i,j] = value(m2.fs.F101.liq_outlet.mole_frac_comp[0, \"R125\"])\n",
    "            R125_y2[i,j] = value(m2.fs.F101.vap_outlet.mole_frac_comp[0, \"R125\"])\n",
    "            L2[i,j] = value(m2.fs.F101.liq_outlet.flow_mol[0])\n",
    "            V2[i,j] = value(m2.fs.F101.vap_outlet.flow_mol[0])\n",
    "\n",
    "        else:\n",
    "            IL_x2[i,j] = \"NAN\"\n",
    "            IL_y2[i,j] = \"NAN\"\n",
    "            R32_x2[i,j] = \"NAN\"\n",
    "            R32_y2[i,j] = \"NAN\"\n",
    "            R125_x2[i,j] = \"NAN\"\n",
    "            R125_y2[i,j] = \"NAN\"\n",
    "            L2[i,j] = \"NAN\"\n",
    "            V2[i,j] = \"NAN\""
   ]
  },
  {
   "cell_type": "code",
   "execution_count": 8,
   "id": "particular-stake",
   "metadata": {},
   "outputs": [],
   "source": [
    "VR32_1 = np.zeros((len(P),(len(T))))\n",
    "VR125_1 = np.zeros((len(P),(len(T))))\n",
    "LR32_1 = np.zeros((len(P),(len(T))))\n",
    "LR125_1 = np.zeros((len(P),(len(T))))\n",
    "\n",
    "VR32_2 = np.zeros((len(P),(len(T))))\n",
    "VR125_2 = np.zeros((len(P),(len(T))))\n",
    "LR32_2 = np.zeros((len(P),(len(T))))\n",
    "LR125_2 = np.zeros((len(P),(len(T))))\n",
    "\n",
    "for j in range(len(T)):\n",
    "    for i in range(len(P)):\n",
    "        VR32_1[i,j] = R32_y1[i,j] * V1[i,j]\n",
    "        VR125_1[i,j] = R125_y1[i,j] * V1[i,j]\n",
    "        LR32_1[i,j] = R32_x1[i,j] * L1[i,j]\n",
    "        LR125_1[i,j] = R125_x1[i,j] * L1[i,j]\n",
    "\n",
    "        VR32_2[i,j] = R32_y2[i,j] * V2[i,j]\n",
    "        VR125_2[i,j] = R125_y2[i,j] * V2[i,j]\n",
    "        LR32_2[i,j] = R32_x2[i,j] * L2[i,j]\n",
    "        LR125_2[i,j] = R125_x2[i,j] * L2[i,j]"
   ]
  },
  {
   "cell_type": "code",
   "execution_count": 9,
   "id": "federal-commerce",
   "metadata": {},
   "outputs": [],
   "source": [
    "PVR32_1 = np.zeros((len(P),(len(T))))\n",
    "PVR125_1 = np.zeros((len(P),(len(T))))\n",
    "PLR32_1 = np.zeros((len(P),(len(T))))\n",
    "PLR125_1 = np.zeros((len(P),(len(T))))\n",
    "\n",
    "PVR32_2 = np.zeros((len(P),(len(T))))\n",
    "PVR125_2 = np.zeros((len(P),(len(T))))\n",
    "PLR32_2 = np.zeros((len(P),(len(T))))\n",
    "PLR125_2 = np.zeros((len(P),(len(T))))\n",
    "\n",
    "for j in range(len(T)):\n",
    "    for i in range(len(P)):\n",
    "        PVR32_1[i,j] = VR32_1[i,j]/0.2\n",
    "        PVR125_1[i,j] = VR125_1[i,j]/0.1\n",
    "        PLR32_1[i,j] = LR32_1[i,j]/0.2\n",
    "        PLR125_1[i,j] = LR125_1[i,j]/0.1\n",
    "\n",
    "        PVR32_2[i,j] = VR32_2[i,j]/0.2\n",
    "        PVR125_2[i,j] = VR125_2[i,j]/0.1\n",
    "        PLR32_2[i,j] = LR32_2[i,j]/0.2\n",
    "        PLR125_2[i,j] = LR125_2[i,j]/0.1"
   ]
  },
  {
   "cell_type": "code",
   "execution_count": 11,
   "id": "communist-thousand",
   "metadata": {},
   "outputs": [
    {
     "data": {
      "image/png": "[encoded data removed]",
      "text/plain": [
       "<Figure size 576x576 with 1 Axes>"
      ]
     },
     "metadata": {
      "needs_background": "light"
     },
     "output_type": "display_data"
    }
   ],
   "source": [
    "fig = plt.figure(figsize=(8,8))\n",
    "ax = fig.add_subplot(1, 1, 1)\n",
    "\n",
    "plt.plot(T,PLR32_1[0,:],linestyle='-', color='red',label=\"R-32 liquid from ternary\")  \n",
    "plt.plot(T,PLR32_2[0,:],linestyle='-', color='blue',label=\"R-32 liquid from binary\")    \n",
    "plt.plot(T,PVR125_1[0,:], linestyle='--', color='red',label=\"R-125 vapor from ternary\")  \n",
    "plt.plot(T,PVR125_2[0,:], linestyle='--', color='blue',label=\"R-125 vapor from binary\")   \n",
    "\n",
    "ax.set_title(\"recovery fraction\",fontsize=20)\n",
    "plt.xlabel('Temperature (K)',fontsize=20)\n",
    "plt.ylabel('Mole flow',fontsize=20)\n",
    "plt.grid(True)\n",
    "plt.legend()\n",
    "# ax.set_ylim([0.01, 0.25])\n",
    "# ax.set_xlim([1e5, 2.5e5])\n",
    "plt.show()"
   ]
  },
  {
   "cell_type": "code",
   "execution_count": 1,
   "id": "desperate-bacteria",
   "metadata": {},
   "outputs": [
    {
     "ename": "NameError",
     "evalue": "name 'np' is not defined",
     "output_type": "error",
     "traceback": [
      "\u001b[1;31m---------------------------------------------------------------------------\u001b[0m",
      "\u001b[1;31mNameError\u001b[0m                                 Traceback (most recent call last)",
      "\u001b[1;32m<ipython-input-1-fa2cc940411b>\u001b[0m in \u001b[0;36m<module>\u001b[1;34m\u001b[0m\n\u001b[1;32m----> 1\u001b[1;33m \u001b[0mMFVR32_1\u001b[0m \u001b[1;33m=\u001b[0m \u001b[0mnp\u001b[0m\u001b[1;33m.\u001b[0m\u001b[0mzeros\u001b[0m\u001b[1;33m(\u001b[0m\u001b[1;33m(\u001b[0m\u001b[0mlen\u001b[0m\u001b[1;33m(\u001b[0m\u001b[0mP\u001b[0m\u001b[1;33m)\u001b[0m\u001b[1;33m,\u001b[0m\u001b[1;33m(\u001b[0m\u001b[0mlen\u001b[0m\u001b[1;33m(\u001b[0m\u001b[0mT\u001b[0m\u001b[1;33m)\u001b[0m\u001b[1;33m)\u001b[0m\u001b[1;33m)\u001b[0m\u001b[1;33m)\u001b[0m\u001b[1;33m\u001b[0m\u001b[1;33m\u001b[0m\u001b[0m\n\u001b[0m\u001b[0;32m      2\u001b[0m \u001b[0mMFVR125_1\u001b[0m \u001b[1;33m=\u001b[0m \u001b[0mnp\u001b[0m\u001b[1;33m.\u001b[0m\u001b[0mzeros\u001b[0m\u001b[1;33m(\u001b[0m\u001b[1;33m(\u001b[0m\u001b[0mlen\u001b[0m\u001b[1;33m(\u001b[0m\u001b[0mP\u001b[0m\u001b[1;33m)\u001b[0m\u001b[1;33m,\u001b[0m\u001b[1;33m(\u001b[0m\u001b[0mlen\u001b[0m\u001b[1;33m(\u001b[0m\u001b[0mT\u001b[0m\u001b[1;33m)\u001b[0m\u001b[1;33m)\u001b[0m\u001b[1;33m)\u001b[0m\u001b[1;33m)\u001b[0m\u001b[1;33m\u001b[0m\u001b[1;33m\u001b[0m\u001b[0m\n\u001b[0;32m      3\u001b[0m \u001b[0mMFLR32_1\u001b[0m \u001b[1;33m=\u001b[0m \u001b[0mnp\u001b[0m\u001b[1;33m.\u001b[0m\u001b[0mzeros\u001b[0m\u001b[1;33m(\u001b[0m\u001b[1;33m(\u001b[0m\u001b[0mlen\u001b[0m\u001b[1;33m(\u001b[0m\u001b[0mP\u001b[0m\u001b[1;33m)\u001b[0m\u001b[1;33m,\u001b[0m\u001b[1;33m(\u001b[0m\u001b[0mlen\u001b[0m\u001b[1;33m(\u001b[0m\u001b[0mT\u001b[0m\u001b[1;33m)\u001b[0m\u001b[1;33m)\u001b[0m\u001b[1;33m)\u001b[0m\u001b[1;33m)\u001b[0m\u001b[1;33m\u001b[0m\u001b[1;33m\u001b[0m\u001b[0m\n\u001b[0;32m      4\u001b[0m \u001b[0mMFLR125_1\u001b[0m \u001b[1;33m=\u001b[0m \u001b[0mnp\u001b[0m\u001b[1;33m.\u001b[0m\u001b[0mzeros\u001b[0m\u001b[1;33m(\u001b[0m\u001b[1;33m(\u001b[0m\u001b[0mlen\u001b[0m\u001b[1;33m(\u001b[0m\u001b[0mP\u001b[0m\u001b[1;33m)\u001b[0m\u001b[1;33m,\u001b[0m\u001b[1;33m(\u001b[0m\u001b[0mlen\u001b[0m\u001b[1;33m(\u001b[0m\u001b[0mT\u001b[0m\u001b[1;33m)\u001b[0m\u001b[1;33m)\u001b[0m\u001b[1;33m)\u001b[0m\u001b[1;33m)\u001b[0m\u001b[1;33m\u001b[0m\u001b[1;33m\u001b[0m\u001b[0m\n\u001b[0;32m      5\u001b[0m \u001b[1;33m\u001b[0m\u001b[0m\n",
      "\u001b[1;31mNameError\u001b[0m: name 'np' is not defined"
     ]
    }
   ],
   "source": [
    "MFVR32_1 = np.zeros((len(P),(len(T))))\n",
    "MFVR125_1 = np.zeros((len(P),(len(T))))\n",
    "MFLR32_1 = np.zeros((len(P),(len(T))))\n",
    "MFLR125_1 = np.zeros((len(P),(len(T))))\n",
    "\n",
    "MFVR32_2 = np.zeros((len(P),(len(T))))\n",
    "MFVR125_2 = np.zeros((len(P),(len(T))))\n",
    "MFLR32_2 = np.zeros((len(P),(len(T))))\n",
    "MFLR125_2 = np.zeros((len(P),(len(T))))\n",
    "\n",
    "for j in range(len(T)):\n",
    "    for i in range(len(P)):\n",
    "        MFVR32_1[i,j] = R32_y1[i,j] / (R32_y1[i,j]+R125_y1[i,j])\n",
    "        MFVR125_1[i,j] = R125_y1[i,j] / (R32_y1[i,j]+R125_y1[i,j])\n",
    "        MFLR32_1[i,j] = R32_x1[i,j] / (R32_x1[i,j]+R125_x1[i,j])\n",
    "        MFLR125_1[i,j] = R125_x1[i,j] / (R32_x1[i,j]+R125_x1[i,j])\n",
    "\n",
    "        MFVR32_2[i,j] = R32_y2[i,j] / (R32_y2[i,j]+R125_y2[i,j])\n",
    "        MFVR125_2[i,j] = R125_y2[i,j] / (R32_y2[i,j]+R125_y2[i,j])\n",
    "        MFLR32_2[i,j] = R32_x2[i,j] / (R32_x2[i,j]+R125_x2[i,j])\n",
    "        MFLR125_2[i,j] = R125_x2[i,j] / (R32_x2[i,j]+R125_x2[i,j])\n"
   ]
  },
  {
   "cell_type": "code",
   "execution_count": null,
   "id": "expanded-container",
   "metadata": {},
   "outputs": [],
   "source": [
    "PMP = np.zeros((len(P)))\n",
    "for i in range(len(P)):\n",
    "    PMP[i] = P[i]/1e6"
   ]
  },
  {
   "cell_type": "code",
   "execution_count": null,
   "id": "romance-highlight",
   "metadata": {},
   "outputs": [],
   "source": [
    "fig = plt.figure(figsize=(8,8))\n",
    "ax = fig.add_subplot(1, 1, 1)\n",
    "\n",
    "plt.plot(PMP,MFLR32_1[:,7],linestyle='-', color='red',label=\"R-32 liquid from ternary\")  \n",
    "plt.plot(PMP,MFLR32_2[:,7],linestyle='-', color='blue',label=\"R-32 liquid from binary\")  \n",
    "# plt.plot(PMP,MFLR125_1[:,8],linestyle='-', color='red',label=\"R-32 liquid from ternary\")  \n",
    "# plt.plot(PMP,MFLR125_2[:,8],linestyle='-', color='blue',label=\"R-32 liquid from binary\")  \n",
    "plt.plot(PMP,MFVR125_1[:,7], linestyle='-.', color='red',label=\"R-125 vapor from ternary\")  \n",
    "plt.plot(PMP,MFVR125_2[:,7], linestyle='-.', color='blue',label=\"R-125 vapor from binary\")  \n",
    "# plt.plot(PMP,MFVR32_1[:,8], linestyle='--', color='red',label=\"R-32 vapor from ternary\")  \n",
    "# plt.plot(PMP,MFVR32_2[:,8], linestyle='--', color='blue',label=\"R-32 vapor from binary\")  \n",
    "ax.set_title(\"mole fraction\",fontsize=20)\n",
    "plt.xlabel('Pressure (MPa)',fontsize=20)\n",
    "plt.ylabel('Mole fraction',fontsize=20)\n",
    "plt.grid(True)\n",
    "plt.legend()\n",
    "# ax.set_ylim([0.01, 0.25])\n",
    "# ax.set_xlim([1e5, 2.5e5])\n",
    "plt.show()"
   ]
  },
  {
   "cell_type": "code",
   "execution_count": null,
   "id": "adjusted-samoa",
   "metadata": {},
   "outputs": [],
   "source": []
  }
 ],
 "metadata": {
  "kernelspec": {
   "display_name": "Python 3",
   "language": "python",
   "name": "python3"
  },
  "language_info": {
   "codemirror_mode": {
    "name": "ipython",
    "version": 3
   },
   "file_extension": ".py",
   "mimetype": "text/x-python",
   "name": "python",
   "nbconvert_exporter": "python",
   "pygments_lexer": "ipython3",
   "version": "3.9.4"
  }
 },
 "nbformat": 4,
 "nbformat_minor": 5
}
