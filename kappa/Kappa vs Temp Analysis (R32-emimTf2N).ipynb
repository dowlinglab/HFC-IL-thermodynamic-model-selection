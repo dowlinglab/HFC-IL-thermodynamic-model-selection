{
 "cells": [
  {
   "cell_type": "code",
   "execution_count": 1,
   "id": "documented-opportunity",
   "metadata": {},
   "outputs": [],
   "source": [
    "# import functions\n",
    "import idaes\n",
    "import matplotlib.pyplot as plt\n",
    "import pandas as pd\n",
    "import numpy as np\n",
    "from pyomo.environ import (Constraint,\n",
    "                           Var,\n",
    "                           ConcreteModel,\n",
    "                           Expression,\n",
    "                           Param,\n",
    "                           Objective,\n",
    "                           SolverFactory,\n",
    "                           TransformationFactory,\n",
    "                           value)\n",
    "\n",
    "from idaes.core import FlowsheetBlock\n",
    "import idaes.logger as idaeslog\n",
    "from pyomo.opt import TerminationCondition, SolverStatus\n",
    "# Import the Generic Parameter Block\n",
    "from idaes.generic_models.properties.core.generic.generic_property import (\n",
    "        GenericParameterBlock)\n",
    "# Import unit models from the model library\n",
    "from idaes.generic_models.unit_models import Flash\n",
    "# Import degrees of freedom tool\n",
    "from idaes.core.util.model_statistics import degrees_of_freedom\n",
    "# parmest (binary_param2)\n",
    "from binary_param import constant\n",
    "# import pressure and plot functions\n",
    "from binary_fitting_functions import calc_outlet_xP\n",
    "from binary_fitting_functions import plot_sens_analysis"
   ]
  },
  {
   "cell_type": "code",
   "execution_count": 2,
   "id": "simplified-auditor",
   "metadata": {},
   "outputs": [],
   "source": [
    "# from HFC32_emimTf2N_PR import configuration\n",
    "from HFC32_emimTf2N_PR import configuration"
   ]
  },
  {
   "cell_type": "code",
   "execution_count": 3,
   "id": "ambient-segment",
   "metadata": {},
   "outputs": [],
   "source": [
    "#need to make excel csv for 125\n",
    "data = pd.read_csv('R32_emimTf2N2.csv')\n",
    "# print(data)"
   ]
  },
  {
   "cell_type": "code",
   "execution_count": 4,
   "id": "indoor-petite",
   "metadata": {},
   "outputs": [],
   "source": [
    "# 283\n",
    "data_283= data[(data.temperature > 282) & (data.temperature< 284)]\n",
    "\n",
    "# 298\n",
    "data_298 = data[(data.temperature > 297) & (data.temperature< 299)]\n",
    "data_298 = data_298.reset_index(drop=True)\n",
    "\n",
    "# 323\n",
    "data_323 = data[(data.temperature > 322) & (data.temperature< 324)]\n",
    "data_323 = data_323.reset_index(drop=True)\n",
    "\n",
    "# 323\n",
    "data_348 = data[(data.temperature > 347) & (data.temperature< 349)]\n",
    "data_348 = data_348.reset_index(drop=True)\n"
   ]
  },
  {
   "cell_type": "code",
   "execution_count": 5,
   "id": "fallen-sunrise",
   "metadata": {},
   "outputs": [
    {
     "name": "stdout",
     "output_type": "stream",
     "text": [
      "The initial DOF is 7\n"
     ]
    }
   ],
   "source": [
    "m = ConcreteModel()\n",
    "m.fs = FlowsheetBlock(default={\"dynamic\": False})\n",
    "m.fs.properties = GenericParameterBlock(default=configuration)\n",
    "m.fs.F101 = Flash(default={\"property_package\": m.fs.properties,\n",
    "                           \"has_heat_transfer\": True,\n",
    "                           \"has_pressure_change\": True})\n",
    "DOF_initial = degrees_of_freedom(m)\n",
    "print('The initial DOF is {0}'.format(DOF_initial))"
   ]
  },
  {
   "cell_type": "markdown",
   "id": "addressed-reader",
   "metadata": {},
   "source": [
    "# T = 283 K"
   ]
  },
  {
   "cell_type": "code",
   "execution_count": 6,
   "id": "standard-consensus",
   "metadata": {},
   "outputs": [
    {
     "name": "stdout",
     "output_type": "stream",
     "text": [
      "   temperature  pressure  x_R32  x_emimTf2N\n",
      "0       283.15    100100  0.136       0.864\n",
      "1       283.15    250300  0.306       0.694\n",
      "2       283.15    399300  0.448       0.552\n",
      "3       283.15    549300  0.570       0.430\n",
      "4       283.15    700400  0.672       0.328\n",
      "5       283.15    849400  0.786       0.214\n"
     ]
    }
   ],
   "source": [
    "print(data_283)"
   ]
  },
  {
   "cell_type": "code",
   "execution_count": 7,
   "id": "documented-extension",
   "metadata": {},
   "outputs": [
    {
     "name": "stdout",
     "output_type": "stream",
     "text": [
      "2021-08-17 12:46:02 [INFO] idaes.init.fs.state_block: Property package initialization: optimal - Optimal Solution Found.\n",
      "2021-08-17 12:46:03 [INFO] idaes.init.fs.state_block: Property package initialization: optimal - Optimal Solution Found.\n",
      "2021-08-17 12:46:04 [INFO] idaes.init.fs.state_block: Property package initialization: optimal - Optimal Solution Found.\n",
      "2021-08-17 12:46:06 [INFO] idaes.init.fs.state_block: Property package initialization: optimal - Optimal Solution Found.\n",
      "2021-08-17 12:46:06 [INFO] idaes.init.fs.state_block: Property package initialization: optimal - Optimal Solution Found.\n",
      "2021-08-17 12:46:08 [INFO] idaes.init.fs.state_block: Property package initialization: optimal - Optimal Solution Found.\n",
      "Ipopt 3.12.13: \n",
      "\n",
      "******************************************************************************\n",
      "This program contains Ipopt, a library for large-scale nonlinear optimization.\n",
      " Ipopt is released as open source code under the Eclipse Public License (EPL).\n",
      "         For more information visit http://projects.coin-or.org/Ipopt\n",
      "\n",
      "This version of Ipopt was compiled from source code available at\n",
      "    https://github.com/IDAES/Ipopt as part of the Institute for the Design of\n",
      "    Advanced Energy Systems Process Systems Engineering Framework (IDAES PSE\n",
      "    Framework) Copyright (c) 2018-2019. See https://github.com/IDAES/idaes-pse.\n",
      "\n",
      "This version of Ipopt was compiled using HSL, a collection of Fortran codes\n",
      "    for large-scale scientific computation.  All technical papers, sales and\n",
      "    publicity material resulting from use of the HSL codes within IPOPT must\n",
      "    contain the following acknowledgement:\n",
      "        HSL, a collection of Fortran codes for large-scale scientific\n",
      "        computation. See http://www.hsl.rl.ac.uk.\n",
      "******************************************************************************\n",
      "\n",
      "This is Ipopt version 3.12.13, running with linear solver ma27.\n",
      "\n",
      "Number of nonzeros in equality constraint Jacobian...:      200\n",
      "Number of nonzeros in inequality constraint Jacobian.:        0\n",
      "Number of nonzeros in Lagrangian Hessian.............:      204\n",
      "\n",
      "Total number of variables............................:       84\n",
      "                     variables with only lower bounds:       36\n",
      "                variables with lower and upper bounds:       36\n",
      "                     variables with only upper bounds:        0\n",
      "Total number of equality constraints.................:       82\n",
      "Total number of inequality constraints...............:        0\n",
      "        inequality constraints with only lower bounds:        0\n",
      "   inequality constraints with lower and upper bounds:        0\n",
      "        inequality constraints with only upper bounds:        0\n",
      "\n",
      "iter    objective    inf_pr   inf_du lg(mu)  ||d||  lg(rg) alpha_du alpha_pr  ls\n",
      "   0  0.0000000e+00 2.05e-01 2.11e-14  -1.0 0.00e+00    -  0.00e+00 0.00e+00   0\n",
      "   1  2.6038169e-03 1.72e-01 1.52e+03  -1.0 1.74e+04    -  9.27e-01 1.59e-01h  1\n",
      "   2  3.7551358e-02 1.24e-01 1.27e+03  -1.0 2.94e+04    -  8.47e-01 2.86e-01h  1\n",
      "   3  5.1222751e-01 1.46e-01 5.43e+02  -1.0 2.16e+04    -  5.90e-01 9.90e-01h  1\n",
      "   4  5.0200082e-01 2.65e-03 4.14e+01  -1.0 8.39e+02    -  9.65e-01 9.90e-01h  1\n",
      "   5  5.3844558e-01 1.89e-03 1.92e+03  -1.0 1.90e+03    -  9.88e-01 1.00e+00h  1\n",
      "   6  6.1400196e-01 3.68e-03 9.83e+04  -1.0 2.76e+03    -  9.90e-01 1.00e+00f  1\n",
      "   7  6.0846194e-01 2.07e-05 9.30e+02  -1.0 2.00e+02    -  9.91e-01 1.00e+00h  1\n",
      "   8  4.6277412e-01 1.07e-02 2.44e+05  -2.5 7.07e+03    -  9.99e-01 9.74e-01f  1\n",
      "   9  4.5990299e-01 1.95e-04 2.20e-01  -2.5 3.16e+03    -  1.00e+00 1.00e+00h  1\n",
      "iter    objective    inf_pr   inf_du lg(mu)  ||d||  lg(rg) alpha_du alpha_pr  ls\n",
      "  10  4.5662115e-01 3.26e-05 4.18e+03  -5.7 8.51e+02    -  9.99e-01 9.85e-01h  1\n",
      "  11  4.5662181e-01 5.90e-08 7.71e-05  -5.7 4.92e+01    -  1.00e+00 1.00e+00h  1\n",
      "  12  4.5662181e-01 9.87e-13 1.71e-10  -5.7 7.77e-02    -  1.00e+00 1.00e+00h  1\n",
      "  13  4.5661997e-01 6.73e-12 7.84e-09  -8.6 3.46e-01    -  1.00e+00 1.00e+00h  1\n",
      "\n",
      "Number of Iterations....: 13\n",
      "\n",
      "                                   (scaled)                 (unscaled)\n",
      "Objective...............:   4.5661997023525613e-01    4.5661997023525613e-01\n",
      "Dual infeasibility......:   7.8398359129525251e-09    7.8398359129525251e-09\n",
      "Constraint violation....:   6.1510796456332173e-12    6.7286176630432245e-12\n",
      "Complementarity.........:   2.5451046670478951e-09    2.5451046670478951e-09\n",
      "Overall NLP error.......:   7.8398359129525251e-09    7.8398359129525251e-09\n",
      "\n",
      "\n",
      "Number of objective function evaluations             = 14\n",
      "Number of objective gradient evaluations             = 14\n",
      "Number of equality constraint evaluations            = 14\n",
      "Number of inequality constraint evaluations          = 0\n",
      "Number of equality constraint Jacobian evaluations   = 14\n",
      "Number of inequality constraint Jacobian evaluations = 0\n",
      "Number of Lagrangian Hessian evaluations             = 13\n",
      "Total CPU secs in IPOPT (w/o function evaluations)   =      0.019\n",
      "Total CPU secs in NLP function evaluations           =      0.049\n",
      "\n",
      "EXIT: Optimal Solution Found.\n",
      "\bThe SSE at the optimal solution is 0.456620\n",
      "\n",
      "The values for the parameters are as follows:\n",
      "fs.properties.PR_kappa_A[emimTf2N,R32] = -0.048945793723969636\n",
      "fs.properties.PR_kappa_A[R32,emimTf2N] = -0.02373182164952472\n"
     ]
    }
   ],
   "source": [
    "constant(data_283, configuration, 'R32', 'emimTf2N', \"x_R32\", \"x_emimTf2N\", \n",
    "    init_temp =  283.1, init_press =   399300 , init_x_c1 =    0.448, init_x_c2 = 0.552,\n",
    "    init_kappa_A_2_1 = -0.035, init_kappa_A_1_2 = -0.02, eps = 0.1, scaling_fac = 1e-9 , read=False)"
   ]
  },
  {
   "cell_type": "code",
   "execution_count": 8,
   "id": "helpful-gardening",
   "metadata": {},
   "outputs": [],
   "source": [
    "k12_283 = -0.023734463045099647\n",
    "k21_283 = -0.04897066446480955"
   ]
  },
  {
   "cell_type": "code",
   "execution_count": 9,
   "id": "nervous-admission",
   "metadata": {},
   "outputs": [],
   "source": [
    "R32_x,P= calc_outlet_xP(data,m,\"R32\", \"emimTf2N\", k21_283, k12_283,verbose=False)"
   ]
  },
  {
   "cell_type": "code",
   "execution_count": 10,
   "id": "negative-longer",
   "metadata": {},
   "outputs": [
    {
     "data": {
      "image/png": "[encoded data removed]",
      "text/plain": [
       "<Figure size 432x288 with 1 Axes>"
      ]
     },
     "metadata": {
      "needs_background": "light"
     },
     "output_type": "display_data"
    }
   ],
   "source": [
    "# plots with data - model as lines --- need to make this into a function that splits up the T's\n",
    "plt.plot(R32_x[0:7],P[0:7],\"b*-\",label=\"T= 283 K\")  \n",
    "plt.plot(R32_x[7:15],P[7:15],\"r*-\",label=\"T= 298 K\") \n",
    "plt.plot(R32_x[15:23],P[15:23],\"c*-\",label=\"T= 323 K\") \n",
    "plt.plot(R32_x[23:],P[23:],\"m*-\",label=\"T= 348 K\")\n",
    "plt.plot(data[\"x_R32\"],data[\"pressure\"],\"*\",color='orange',label=\"data\")  \n",
    "plt.title('Isotherm [R32][emimTf2N] fit to T= 283 K')\n",
    "plt.ylabel('Pressure (Pa)')\n",
    "plt.xlabel('x R32')\n",
    "plt.grid(True)\n",
    "plt.ylim(0,1300000)\n",
    "plt.legend()\n",
    "plt.show()"
   ]
  },
  {
   "cell_type": "markdown",
   "id": "prerequisite-joyce",
   "metadata": {},
   "source": [
    "#  T = 298 K"
   ]
  },
  {
   "cell_type": "code",
   "execution_count": 11,
   "id": "celtic-theorem",
   "metadata": {},
   "outputs": [
    {
     "name": "stdout",
     "output_type": "stream",
     "text": [
      "   temperature  pressure  x_R32  x_emimTf2N\n",
      "0       298.15     99800  0.095       0.905\n",
      "1       298.15    250200  0.218       0.782\n",
      "2       298.15    399400  0.325       0.675\n",
      "3       298.15    549400  0.417       0.583\n",
      "4       298.15    699500  0.499       0.501\n",
      "5       298.15    849500  0.570       0.430\n",
      "6       298.15    999700  0.643       0.357\n"
     ]
    }
   ],
   "source": [
    "print(data_298)"
   ]
  },
  {
   "cell_type": "code",
   "execution_count": 13,
   "id": "previous-command",
   "metadata": {},
   "outputs": [
    {
     "name": "stdout",
     "output_type": "stream",
     "text": [
      "2021-08-17 12:48:04 [INFO] idaes.init.fs.state_block: Property package initialization: optimal - Optimal Solution Found.\n",
      "2021-08-17 12:48:05 [INFO] idaes.init.fs.state_block: Property package initialization: optimal - Optimal Solution Found.\n",
      "2021-08-17 12:48:06 [INFO] idaes.init.fs.state_block: Property package initialization: optimal - Optimal Solution Found.\n",
      "2021-08-17 12:48:06 [INFO] idaes.init.fs.state_block: Property package initialization: optimal - Optimal Solution Found.\n",
      "2021-08-17 12:48:07 [INFO] idaes.init.fs.state_block: Property package initialization: optimal - Optimal Solution Found.\n",
      "2021-08-17 12:48:08 [INFO] idaes.init.fs.state_block: Property package initialization: optimal - Optimal Solution Found.\n",
      "2021-08-17 12:48:09 [INFO] idaes.init.fs.state_block: Property package initialization: optimal - Optimal Solution Found.\n",
      "Ipopt 3.12.13: \n",
      "\n",
      "******************************************************************************\n",
      "This program contains Ipopt, a library for large-scale nonlinear optimization.\n",
      " Ipopt is released as open source code under the Eclipse Public License (EPL).\n",
      "         For more information visit http://projects.coin-or.org/Ipopt\n",
      "\n",
      "This version of Ipopt was compiled from source code available at\n",
      "    https://github.com/IDAES/Ipopt as part of the Institute for the Design of\n",
      "    Advanced Energy Systems Process Systems Engineering Framework (IDAES PSE\n",
      "    Framework) Copyright (c) 2018-2019. See https://github.com/IDAES/idaes-pse.\n",
      "\n",
      "This version of Ipopt was compiled using HSL, a collection of Fortran codes\n",
      "    for large-scale scientific computation.  All technical papers, sales and\n",
      "    publicity material resulting from use of the HSL codes within IPOPT must\n",
      "    contain the following acknowledgement:\n",
      "        HSL, a collection of Fortran codes for large-scale scientific\n",
      "        computation. See http://www.hsl.rl.ac.uk.\n",
      "******************************************************************************\n",
      "\n",
      "This is Ipopt version 3.12.13, running with linear solver ma27.\n",
      "\n",
      "Number of nonzeros in equality constraint Jacobian...:      234\n",
      "Number of nonzeros in inequality constraint Jacobian.:        0\n",
      "Number of nonzeros in Lagrangian Hessian.............:      238\n",
      "\n",
      "Total number of variables............................:       98\n",
      "                     variables with only lower bounds:       42\n",
      "                variables with lower and upper bounds:       42\n",
      "                     variables with only upper bounds:        0\n",
      "Total number of equality constraints.................:       96\n",
      "Total number of inequality constraints...............:        0\n",
      "        inequality constraints with only lower bounds:        0\n",
      "   inequality constraints with lower and upper bounds:        0\n",
      "        inequality constraints with only upper bounds:        0\n",
      "\n",
      "iter    objective    inf_pr   inf_du lg(mu)  ||d||  lg(rg) alpha_du alpha_pr  ls\n",
      "   0  0.0000000e+00 2.44e-01 1.42e-14  -1.0 0.00e+00    -  0.00e+00 0.00e+00   0\n",
      "   1  4.3303677e-04 2.10e-01 1.23e+03  -1.0 1.35e+04    -  9.19e-01 9.93e-02h  1\n",
      "   2  4.4319311e-02 1.77e-01 1.26e+03  -1.0 5.86e+04    -  3.29e-01 1.61e-01h  1\n",
      "   3  1.8238238e+00 1.03e+00 2.28e+04  -1.0 6.76e+04    -  5.10e-01 9.90e-01h  1\n",
      "   4  1.0216768e+00 9.17e-03 6.72e+03  -1.0 2.10e+04    -  4.81e-01 9.90e-01h  1\n",
      "   5  1.0621328e+00 5.18e-04 1.48e+03  -1.0 1.31e+03    -  9.89e-01 1.00e+00h  1\n",
      "   6  1.0864831e+00 8.57e-05 9.87e+04  -1.0 8.96e+02    -  9.90e-01 1.00e+00f  1\n",
      "   7  1.1240051e+00 1.60e-04 9.86e+02  -1.0 9.71e+02    -  9.90e-01 1.00e+00f  1\n",
      "   8  1.0243034e+00 1.27e-03 2.73e+04  -2.5 3.57e+03    -  9.97e-01 1.00e+00f  1\n",
      "   9  1.0239932e+00 5.45e-07 1.15e-03  -2.5 1.37e+02    -  1.00e+00 1.00e+00h  1\n",
      "iter    objective    inf_pr   inf_du lg(mu)  ||d||  lg(rg) alpha_du alpha_pr  ls\n",
      "  10  1.0211615e+00 1.18e-06 2.36e+01  -8.6 1.13e+02    -  1.00e+00 1.00e+00f  1\n",
      "  11  1.0211608e+00 1.89e-13 1.06e-09  -8.6 1.66e-01    -  1.00e+00 1.00e+00h  1\n",
      "\n",
      "Number of Iterations....: 11\n",
      "\n",
      "                                   (scaled)                 (unscaled)\n",
      "Objective...............:   1.0211608091695989e+00    1.0211608091695989e+00\n",
      "Dual infeasibility......:   1.0645706538525701e-09    1.0645706538525701e-09\n",
      "Constraint violation....:   1.4677148385544569e-13    1.8940404800105171e-13\n",
      "Complementarity.........:   2.5252067641173947e-09    2.5252067641173947e-09\n",
      "Overall NLP error.......:   2.5252067641173947e-09    2.5252067641173947e-09\n",
      "\n",
      "\n",
      "Number of objective function evaluations             = 12\n",
      "Number of objective gradient evaluations             = 12\n",
      "Number of equality constraint evaluations            = 12\n",
      "Number of inequality constraint evaluations          = 0\n",
      "Number of equality constraint Jacobian evaluations   = 12\n",
      "Number of inequality constraint Jacobian evaluations = 0\n",
      "Number of Lagrangian Hessian evaluations             = 11\n",
      "Total CPU secs in IPOPT (w/o function evaluations)   =      0.000\n",
      "Total CPU secs in NLP function evaluations           =      0.047\n",
      "\n",
      "EXIT: Optimal Solution Found.\n",
      "\bThe SSE at the optimal solution is 1.021161\n",
      "\n",
      "The values for the parameters are as follows:\n",
      "fs.properties.PR_kappa_A[emimTf2N,R32] = -0.17006795910641542\n",
      "fs.properties.PR_kappa_A[R32,emimTf2N] = -0.03991194861840096\n"
     ]
    }
   ],
   "source": [
    "constant(data_298, configuration, 'R32', 'emimTf2N', \"x_R32\", \"x_emimTf2N\", \n",
    "    init_temp =  298.15, init_press =   399400 , init_x_c1 =    0.417, init_x_c2 = 0.583,\n",
    "    init_kappa_A_2_1 = -0.0496, init_kappa_A_1_2 = -0.023, eps = 0.1, scaling_fac = 1e-9 , read=False)"
   ]
  },
  {
   "cell_type": "code",
   "execution_count": 14,
   "id": "demographic-marijuana",
   "metadata": {},
   "outputs": [],
   "source": [
    "k12_298 = -0.0399203504645401\n",
    "k21_298 = -0.1701337543394847"
   ]
  },
  {
   "cell_type": "code",
   "execution_count": 15,
   "id": "cooked-panama",
   "metadata": {},
   "outputs": [
    {
     "name": "stdout",
     "output_type": "stream",
     "text": [
      "WARNING: Implicitly replacing the Component attribute liq (type=<class\n",
      "    'pyomo.core.base.param.ScalarParam'>) on block fs with a new Component\n",
      "    (type=<class 'pyomo.core.base.param.ScalarParam'>). This is usually\n",
      "    indicative of a modelling error. To avoid this warning, use\n",
      "    block.del_component() and block.add_component().\n",
      "WARNING: Implicitly replacing the Component attribute liquid (type=<class\n",
      "    'pyomo.core.base.constraint.ScalarConstraint'>) on block fs with a new\n",
      "    Component (type=<class\n",
      "    'pyomo.core.base.constraint.AbstractScalarConstraint'>). This is usually\n",
      "    indicative of a modelling error. To avoid this warning, use\n",
      "    block.del_component() and block.add_component().\n",
      "The final DOF is 0\n",
      "The final DOF is 0\n",
      "The final DOF is 0\n",
      "The final DOF is 0\n",
      "The final DOF is 0\n",
      "The final DOF is 0\n",
      "The final DOF is 0\n",
      "The final DOF is 0\n",
      "The final DOF is 0\n",
      "The final DOF is 0\n",
      "The final DOF is 0\n",
      "The final DOF is 0\n",
      "The final DOF is 0\n",
      "The final DOF is 0\n",
      "The final DOF is 0\n",
      "The final DOF is 0\n",
      "The final DOF is 0\n",
      "The final DOF is 0\n",
      "The final DOF is 0\n",
      "The final DOF is 0\n",
      "The final DOF is 0\n",
      "The final DOF is 0\n",
      "The final DOF is 0\n",
      "The final DOF is 0\n",
      "The final DOF is 0\n",
      "The final DOF is 0\n",
      "The final DOF is 0\n"
     ]
    }
   ],
   "source": [
    "R32_x,P= calc_outlet_xP(data,m,\"R32\", \"emimTf2N\", k21_298, k12_298,verbose=True)"
   ]
  },
  {
   "cell_type": "code",
   "execution_count": 16,
   "id": "intelligent-windows",
   "metadata": {},
   "outputs": [
    {
     "data": {
      "image/png": "[encoded data removed]",
      "text/plain": [
       "<Figure size 432x288 with 1 Axes>"
      ]
     },
     "metadata": {
      "needs_background": "light"
     },
     "output_type": "display_data"
    }
   ],
   "source": [
    "# plots with data - model as lines --- need to make this into a function that splits up the T's\n",
    "plt.plot(R32_x[0:7],P[0:7],\"b*-\",label=\"T= 283 K\")  \n",
    "plt.plot(R32_x[7:15],P[7:15],\"r*-\",label=\"T= 298 K\") \n",
    "plt.plot(R32_x[15:23],P[15:23],\"c*-\",label=\"T= 323 K\") \n",
    "plt.plot(R32_x[23:],P[23:],\"m*-\",label=\"T= 348 K\")\n",
    "plt.plot(data[\"x_R32\"],data[\"pressure\"],\"*\",color='orange',label=\"data\")  \n",
    "plt.title('Isotherm [R32][emimTf2N] fit to T= 298 K')\n",
    "plt.ylabel('Pressure (Pa)')\n",
    "plt.xlabel('x R32')\n",
    "plt.grid(True)\n",
    "plt.ylim(0,1300000)\n",
    "plt.legend()\n",
    "plt.show()"
   ]
  },
  {
   "cell_type": "code",
   "execution_count": 17,
   "id": "visible-reconstruction",
   "metadata": {},
   "outputs": [
    {
     "name": "stdout",
     "output_type": "stream",
     "text": [
      "WARNING: Implicitly replacing the Component attribute liq (type=<class\n",
      "    'pyomo.core.base.param.ScalarParam'>) on block fs with a new Component\n",
      "    (type=<class 'pyomo.core.base.param.ScalarParam'>). This is usually\n",
      "    indicative of a modelling error. To avoid this warning, use\n",
      "    block.del_component() and block.add_component().\n",
      "WARNING: Implicitly replacing the Component attribute liquid (type=<class\n",
      "    'pyomo.core.base.constraint.ScalarConstraint'>) on block fs with a new\n",
      "    Component (type=<class\n",
      "    'pyomo.core.base.constraint.AbstractScalarConstraint'>). This is usually\n",
      "    indicative of a modelling error. To avoid this warning, use\n",
      "    block.del_component() and block.add_component().\n",
      "The final DOF is 0\n",
      "The final DOF is 0\n",
      "The final DOF is 0\n",
      "The final DOF is 0\n",
      "The final DOF is 0\n",
      "The final DOF is 0\n",
      "The final DOF is 0\n"
     ]
    }
   ],
   "source": [
    "R32_x,P= calc_outlet_xP(data_298,m,\"R32\", \"emimTf2N\", k21_298, k12_298,verbose=True)"
   ]
  },
  {
   "cell_type": "code",
   "execution_count": 18,
   "id": "located-ending",
   "metadata": {},
   "outputs": [
    {
     "data": {
      "image/png": "[encoded data removed]",
      "text/plain": [
       "<Figure size 432x288 with 1 Axes>"
      ]
     },
     "metadata": {
      "needs_background": "light"
     },
     "output_type": "display_data"
    }
   ],
   "source": [
    "plt.plot(R32_x,P,\"m*-\",label=\"T= 298 K\")\n",
    "plt.plot(data_298[\"x_R32\"],data_298[\"pressure\"],\"*\",color='orange',label=\"data\")  \n",
    "plt.title('Isotherm [R32][emimTF2N] fit to T= 298 K')\n",
    "plt.ylabel('Pressure (Pa)')\n",
    "plt.xlabel('x R125')\n",
    "plt.grid(True)\n",
    "# plt.ylim(0,1300000)\n",
    "plt.legend()\n",
    "plt.show()"
   ]
  },
  {
   "cell_type": "markdown",
   "id": "composite-ticket",
   "metadata": {},
   "source": [
    "# T = 323 K"
   ]
  },
  {
   "cell_type": "code",
   "execution_count": 19,
   "id": "noted-evolution",
   "metadata": {},
   "outputs": [
    {
     "name": "stdout",
     "output_type": "stream",
     "text": [
      "   temperature  pressure  x_R32  x_emimTf2N\n",
      "0       323.15    100300  0.055       0.945\n",
      "1       323.15    249700  0.133       0.867\n",
      "2       323.15    400100  0.200       0.800\n",
      "3       323.15    549500  0.264       0.736\n",
      "4       323.15    700300  0.320       0.680\n",
      "5       323.15    850400  0.368       0.632\n",
      "6       323.15   1000400  0.417       0.583\n"
     ]
    }
   ],
   "source": [
    "print(data_323)"
   ]
  },
  {
   "cell_type": "code",
   "execution_count": 20,
   "id": "commercial-niagara",
   "metadata": {},
   "outputs": [
    {
     "name": "stdout",
     "output_type": "stream",
     "text": [
      "2021-08-17 12:49:37 [INFO] idaes.init.fs.state_block: Property package initialization: optimal - Optimal Solution Found.\n",
      "2021-08-17 12:49:38 [INFO] idaes.init.fs.state_block: Property package initialization: optimal - Optimal Solution Found.\n",
      "2021-08-17 12:49:39 [INFO] idaes.init.fs.state_block: Property package initialization: optimal - Optimal Solution Found.\n",
      "2021-08-17 12:49:40 [INFO] idaes.init.fs.state_block: Property package initialization: optimal - Optimal Solution Found.\n",
      "2021-08-17 12:49:41 [INFO] idaes.init.fs.state_block: Property package initialization: optimal - Optimal Solution Found.\n",
      "2021-08-17 12:49:42 [INFO] idaes.init.fs.state_block: Property package initialization: optimal - Optimal Solution Found.\n",
      "2021-08-17 12:49:43 [INFO] idaes.init.fs.state_block: Property package initialization: optimal - Optimal Solution Found.\n",
      "Ipopt 3.12.13: \n",
      "\n",
      "******************************************************************************\n",
      "This program contains Ipopt, a library for large-scale nonlinear optimization.\n",
      " Ipopt is released as open source code under the Eclipse Public License (EPL).\n",
      "         For more information visit http://projects.coin-or.org/Ipopt\n",
      "\n",
      "This version of Ipopt was compiled from source code available at\n",
      "    https://github.com/IDAES/Ipopt as part of the Institute for the Design of\n",
      "    Advanced Energy Systems Process Systems Engineering Framework (IDAES PSE\n",
      "    Framework) Copyright (c) 2018-2019. See https://github.com/IDAES/idaes-pse.\n",
      "\n",
      "This version of Ipopt was compiled using HSL, a collection of Fortran codes\n",
      "    for large-scale scientific computation.  All technical papers, sales and\n",
      "    publicity material resulting from use of the HSL codes within IPOPT must\n",
      "    contain the following acknowledgement:\n",
      "        HSL, a collection of Fortran codes for large-scale scientific\n",
      "        computation. See http://www.hsl.rl.ac.uk.\n",
      "******************************************************************************\n",
      "\n",
      "This is Ipopt version 3.12.13, running with linear solver ma27.\n",
      "\n",
      "Number of nonzeros in equality constraint Jacobian...:      234\n",
      "Number of nonzeros in inequality constraint Jacobian.:        0\n",
      "Number of nonzeros in Lagrangian Hessian.............:      238\n",
      "\n",
      "Total number of variables............................:       98\n",
      "                     variables with only lower bounds:       42\n",
      "                variables with lower and upper bounds:       42\n",
      "                     variables with only upper bounds:        0\n",
      "Total number of equality constraints.................:       96\n",
      "Total number of inequality constraints...............:        0\n",
      "        inequality constraints with only lower bounds:        0\n",
      "   inequality constraints with lower and upper bounds:        0\n",
      "        inequality constraints with only upper bounds:        0\n",
      "\n",
      "iter    objective    inf_pr   inf_du lg(mu)  ||d||  lg(rg) alpha_du alpha_pr  ls\n",
      "   0  0.0000000e+00 1.83e-02 1.35e-14  -1.0 0.00e+00    -  0.00e+00 0.00e+00   0\n",
      "   1  1.0916573e-02 3.43e-04 7.35e+00  -1.0 6.65e+03    -  9.80e-01 9.90e-01h  1\n",
      "   2  1.1095956e-02 3.45e-06 1.95e-01  -1.0 4.65e+01    -  9.90e-01 9.90e-01h  1\n",
      "   3  1.1179974e-02 1.77e-06 1.03e+03  -1.0 4.98e+02    -  9.90e-01 1.00e+00h  1\n",
      "   4  1.1939166e-02 9.69e-09 9.90e+04  -1.0 8.84e+02    -  9.90e-01 1.00e+00H  1\n",
      "   5  1.1958258e-02 1.66e-09 9.41e+02  -1.0 1.46e+01    -  9.90e-01 1.00e+00h  1\n",
      "   6  1.1090226e-02 1.13e-05 1.40e+04  -2.5 1.25e+03    -  9.99e-01 1.00e+00f  1\n",
      "   7  1.1090994e-02 3.29e-10 2.83e-08  -2.5 7.07e+00    -  1.00e+00 1.00e+00h  1\n",
      "   8  1.1090291e-02 9.88e-09 1.39e+01  -8.6 3.68e+01    -  1.00e+00 1.00e+00h  1\n",
      "   9  1.1090292e-02 1.96e-13 2.53e-14  -8.6 6.11e-03    -  1.00e+00 1.00e+00h  1\n",
      "\n",
      "Number of Iterations....: 9\n",
      "\n",
      "                                   (scaled)                 (unscaled)\n",
      "Objective...............:   1.1090292414575815e-02    1.1090292414575815e-02\n",
      "Dual infeasibility......:   2.5313084961453569e-14    2.5313084961453569e-14\n",
      "Constraint violation....:   1.9628743075372768e-13    1.9628743075372768e-13\n",
      "Complementarity.........:   2.5059154910101818e-09    2.5059154910101818e-09\n",
      "Overall NLP error.......:   2.5059154910101818e-09    2.5059154910101818e-09\n",
      "\n",
      "\n",
      "Number of objective function evaluations             = 11\n",
      "Number of objective gradient evaluations             = 10\n",
      "Number of equality constraint evaluations            = 11\n",
      "Number of inequality constraint evaluations          = 0\n",
      "Number of equality constraint Jacobian evaluations   = 10\n",
      "Number of inequality constraint Jacobian evaluations = 0\n",
      "Number of Lagrangian Hessian evaluations             = 9\n",
      "Total CPU secs in IPOPT (w/o function evaluations)   =      0.008\n",
      "Total CPU secs in NLP function evaluations           =      0.043\n",
      "\n",
      "EXIT: Optimal Solution Found.\n",
      "\bThe SSE at the optimal solution is 0.011090\n",
      "\n",
      "The values for the parameters are as follows:\n",
      "fs.properties.PR_kappa_A[emimTf2N,R32] = -0.31505918388647197\n",
      "fs.properties.PR_kappa_A[R32,emimTf2N] = -0.061431473804594704\n"
     ]
    }
   ],
   "source": [
    "constant(data_323, configuration, 'R32', 'emimTf2N', \"x_R32\", \"x_emimTf2N\", \n",
    "    init_temp =  323.15, init_press =   400100 , init_x_c1 =    0.200, init_x_c2 = 0.800,\n",
    "    init_kappa_A_2_1 = -0.3, init_kappa_A_1_2 = -0.06, eps = 0.1, scaling_fac = 1e-9 , read=False)"
   ]
  },
  {
   "cell_type": "code",
   "execution_count": 21,
   "id": "cubic-highway",
   "metadata": {},
   "outputs": [],
   "source": [
    "k12_323 = -0.06142196448350799\n",
    "k21_323 = -0.31491853669611175"
   ]
  },
  {
   "cell_type": "code",
   "execution_count": 22,
   "id": "scheduled-apartment",
   "metadata": {},
   "outputs": [
    {
     "name": "stdout",
     "output_type": "stream",
     "text": [
      "WARNING: Implicitly replacing the Component attribute liq (type=<class\n",
      "    'pyomo.core.base.param.ScalarParam'>) on block fs with a new Component\n",
      "    (type=<class 'pyomo.core.base.param.ScalarParam'>). This is usually\n",
      "    indicative of a modelling error. To avoid this warning, use\n",
      "    block.del_component() and block.add_component().\n",
      "WARNING: Implicitly replacing the Component attribute liquid (type=<class\n",
      "    'pyomo.core.base.constraint.ScalarConstraint'>) on block fs with a new\n",
      "    Component (type=<class\n",
      "    'pyomo.core.base.constraint.AbstractScalarConstraint'>). This is usually\n",
      "    indicative of a modelling error. To avoid this warning, use\n",
      "    block.del_component() and block.add_component().\n",
      "The final DOF is 0\n",
      "The final DOF is 0\n",
      "The final DOF is 0\n",
      "The final DOF is 0\n",
      "The final DOF is 0\n",
      "The final DOF is 0\n",
      "The final DOF is 0\n",
      "The final DOF is 0\n",
      "The final DOF is 0\n",
      "The final DOF is 0\n",
      "The final DOF is 0\n",
      "The final DOF is 0\n",
      "The final DOF is 0\n",
      "The final DOF is 0\n",
      "The final DOF is 0\n",
      "The final DOF is 0\n",
      "The final DOF is 0\n",
      "The final DOF is 0\n",
      "The final DOF is 0\n",
      "The final DOF is 0\n",
      "The final DOF is 0\n",
      "The final DOF is 0\n",
      "The final DOF is 0\n",
      "The final DOF is 0\n",
      "The final DOF is 0\n",
      "The final DOF is 0\n",
      "The final DOF is 0\n"
     ]
    }
   ],
   "source": [
    "R32_x,P= calc_outlet_xP(data,m,\"R32\", \"emimTf2N\", k21_323, k12_323,verbose=True)"
   ]
  },
  {
   "cell_type": "code",
   "execution_count": 23,
   "id": "relative-opportunity",
   "metadata": {},
   "outputs": [
    {
     "data": {
      "image/png": "[encoded data removed]",
      "text/plain": [
       "<Figure size 432x288 with 1 Axes>"
      ]
     },
     "metadata": {
      "needs_background": "light"
     },
     "output_type": "display_data"
    }
   ],
   "source": [
    "# plots with data - model as lines --- need to make this into a function that splits up the T's\n",
    "plt.plot(R32_x[0:7],P[0:7],\"b*-\",label=\"T= 283 K\")  \n",
    "plt.plot(R32_x[7:15],P[7:15],\"r*-\",label=\"T= 298 K\") \n",
    "plt.plot(R32_x[15:23],P[15:23],\"c*-\",label=\"T= 323 K\") \n",
    "plt.plot(R32_x[23:],P[23:],\"m*-\",label=\"T= 348 K\")\n",
    "plt.plot(data[\"x_R32\"],data[\"pressure\"],\"*\",color='orange',label=\"data\")  \n",
    "plt.title('Isotherm [R32][emimTf2N] fit to T= 323 K')\n",
    "plt.ylabel('Pressure (Pa)')\n",
    "plt.xlabel('x R32')\n",
    "plt.grid(True)\n",
    "plt.ylim(0,1300000)\n",
    "plt.legend()\n",
    "plt.show()"
   ]
  },
  {
   "cell_type": "markdown",
   "id": "substantial-appeal",
   "metadata": {},
   "source": [
    "# T = 348 K"
   ]
  },
  {
   "cell_type": "code",
   "execution_count": 24,
   "id": "solved-legislature",
   "metadata": {},
   "outputs": [
    {
     "name": "stdout",
     "output_type": "stream",
     "text": [
      "   temperature  pressure  x_R32  x_emimTf2N\n",
      "0       348.05     99800  0.034       0.966\n",
      "1       348.05    249700  0.084       0.916\n",
      "2       348.05    399500  0.131       0.869\n",
      "3       348.05    550300  0.175       0.825\n",
      "4       348.05    699200  0.216       0.784\n",
      "5       348.05    850400  0.254       0.746\n",
      "6       348.05   1000500  0.288       0.712\n"
     ]
    }
   ],
   "source": [
    "print(data_348)"
   ]
  },
  {
   "cell_type": "code",
   "execution_count": 25,
   "id": "defined-detective",
   "metadata": {},
   "outputs": [
    {
     "ename": "TypeError",
     "evalue": "constant() got an unexpected keyword argument 'init_kappa_2_1'",
     "output_type": "error",
     "traceback": [
      "\u001b[1;31m---------------------------------------------------------------------------\u001b[0m",
      "\u001b[1;31mTypeError\u001b[0m                                 Traceback (most recent call last)",
      "\u001b[1;32m~\\AppData\\Local\\Temp/ipykernel_20828/3772441091.py\u001b[0m in \u001b[0;36m<module>\u001b[1;34m\u001b[0m\n\u001b[1;32m----> 1\u001b[1;33m constant(data_348, configuration, 'R32', 'emimTf2N', \"x_R32\", \"x_emimTf2N\", \n\u001b[0m\u001b[0;32m      2\u001b[0m     \u001b[0minit_temp\u001b[0m \u001b[1;33m=\u001b[0m  \u001b[1;36m348.05\u001b[0m\u001b[1;33m,\u001b[0m \u001b[0minit_press\u001b[0m \u001b[1;33m=\u001b[0m   \u001b[1;36m399500\u001b[0m \u001b[1;33m,\u001b[0m \u001b[0minit_x_c1\u001b[0m \u001b[1;33m=\u001b[0m    \u001b[1;36m0.131\u001b[0m\u001b[1;33m,\u001b[0m \u001b[0minit_x_c2\u001b[0m \u001b[1;33m=\u001b[0m \u001b[1;36m0.869\u001b[0m\u001b[1;33m,\u001b[0m\u001b[1;33m\u001b[0m\u001b[1;33m\u001b[0m\u001b[0m\n\u001b[0;32m      3\u001b[0m     init_kappa_2_1 = k21_323, init_kappa_1_2 = k12_323, eps = 0.1, scaling_fac = 1e-9 , read=False)\n",
      "\u001b[1;31mTypeError\u001b[0m: constant() got an unexpected keyword argument 'init_kappa_2_1'"
     ]
    }
   ],
   "source": [
    "constant(data_348, configuration, 'R32', 'emimTf2N', \"x_R32\", \"x_emimTf2N\", \n",
    "    init_temp =  348.05, init_press =   399500 , init_x_c1 =    0.131, init_x_c2 = 0.869,\n",
    "    init_kappa_2_1 = k21_323, init_kappa_1_2 = k12_323, eps = 0.1, scaling_fac = 1e-9 , read=False)"
   ]
  },
  {
   "cell_type": "code",
   "execution_count": null,
   "id": "european-resistance",
   "metadata": {},
   "outputs": [],
   "source": [
    "k12_348 = -0.06862774485705549\n",
    "k21_348 = -0.3505594293195702"
   ]
  },
  {
   "cell_type": "code",
   "execution_count": null,
   "id": "saving-buying",
   "metadata": {},
   "outputs": [],
   "source": [
    "R32_x,P= calc_outlet_xP(data,m,\"R32\", \"emimTf2N\", k21_348, k12_348,verbose=True)"
   ]
  },
  {
   "cell_type": "code",
   "execution_count": null,
   "id": "black-blowing",
   "metadata": {},
   "outputs": [],
   "source": [
    "# plots with data - model as lines --- need to make this into a function that splits up the T's\n",
    "plt.plot(R32_x[0:7],P[0:7],\"b*-\",label=\"T= 283 K\")  \n",
    "plt.plot(R32_x[7:15],P[7:15],\"r*-\",label=\"T= 298 K\") \n",
    "plt.plot(R32_x[15:23],P[15:23],\"c*-\",label=\"T= 323 K\") \n",
    "plt.plot(R32_x[23:],P[23:],\"m*-\",label=\"T= 348 K\")\n",
    "plt.plot(data[\"x_R32\"],data[\"pressure\"],\"*\",color='orange',label=\"data\")  \n",
    "plt.title('Isotherm [R32][emimTf2N] fit to T= 348 K')\n",
    "plt.ylabel('Pressure (Pa)')\n",
    "plt.xlabel('x R32')\n",
    "plt.grid(True)\n",
    "plt.ylim(0,1300000)\n",
    "plt.legend()\n",
    "plt.show()"
   ]
  },
  {
   "cell_type": "markdown",
   "id": "elegant-influence",
   "metadata": {},
   "source": [
    "# Kappas vs T "
   ]
  },
  {
   "cell_type": "code",
   "execution_count": null,
   "id": "stupid-architecture",
   "metadata": {},
   "outputs": [],
   "source": [
    "K12 = np.array([k12_283, k12_298, k12_323, k12_348])\n",
    "T = np.array([283.1, 298.1, 323.1, 348.1]) #K\n",
    "plt.plot(T,K12,\"*\",color='orange',label=\"K12\") \n",
    "plt.title('Binary Parameters vs Temperature for R32_emimTf2N Mixture')\n",
    "plt.ylabel('Kappas')\n",
    "plt.xlabel('Temperature')\n",
    "plt.grid(True)\n",
    "plt.legend()\n",
    "plt.show()\n",
    "\n",
    "print('K12 Values for T= ', T, 'are: ')\n",
    "print(K12)"
   ]
  },
  {
   "cell_type": "code",
   "execution_count": null,
   "id": "right-favorite",
   "metadata": {},
   "outputs": [],
   "source": [
    "K21 = np.array([k21_283, k21_298, k21_323, k21_348])\n",
    "plt.plot(T,K21,\"*\",color='blue',label=\"K21\")\n",
    "plt.title('Binary Parameters vs Temperature for R32_emimTf2N Mixture')\n",
    "plt.ylabel('Kappas')\n",
    "plt.xlabel('Temperature')\n",
    "plt.grid(True)\n",
    "plt.legend()\n",
    "plt.show()\n",
    "\n",
    "print('K21 Values for T= ', T, 'are: ')\n",
    "print(K21)"
   ]
  },
  {
   "cell_type": "markdown",
   "id": "union-disease",
   "metadata": {},
   "source": [
    "# Best Fit"
   ]
  },
  {
   "cell_type": "code",
   "execution_count": null,
   "id": "instrumental-vanilla",
   "metadata": {},
   "outputs": [],
   "source": [
    "constant(data, configuration, 'R32', 'emimTf2N', \"x_R32\", \"x_emimTf2N\", \n",
    "    init_temp =  298.15, init_press =   399400 , init_x_c1 =    0.417, init_x_c2 = 0.583,\n",
    "    init_kappa_A_2_1 = -0.25, init_kappa_A_1_2 = -0.054, eps = 0.1, scaling_fac = 1e-9 , read=False)"
   ]
  },
  {
   "cell_type": "code",
   "execution_count": null,
   "id": "physical-small",
   "metadata": {},
   "outputs": [],
   "source": [
    "k12 = -0.056194263308478744\n",
    "k21 = -0.2009314111467241"
   ]
  },
  {
   "cell_type": "code",
   "execution_count": null,
   "id": "twenty-talent",
   "metadata": {},
   "outputs": [],
   "source": [
    "R32_x,P= calc_outlet_xP(data,m,\"R32\", \"emimTf2N\", k21, k12,verbose=True)"
   ]
  },
  {
   "cell_type": "code",
   "execution_count": null,
   "id": "extra-southeast",
   "metadata": {},
   "outputs": [],
   "source": [
    "# plots with data - model as lines --- need to make this into a function that splits up the T's\n",
    "plt.plot(R32_x[0:7],P[0:7],\"b*-\",label=\"T= 283 K\")  \n",
    "plt.plot(R32_x[7:15],P[7:15],\"r*-\",label=\"T= 298 K\") \n",
    "plt.plot(R32_x[15:23],P[15:23],\"c*-\",label=\"T= 323 K\") \n",
    "plt.plot(R32_x[23:],P[23:],\"m*-\",label=\"T= 348 K\")\n",
    "plt.plot(data[\"x_R32\"],data[\"pressure\"],\"*\",color='orange',label=\"data\")  \n",
    "plt.title('Isotherm [R32][emimTf2N] fit to all Ts')\n",
    "plt.ylabel('Pressure (Pa)')\n",
    "plt.xlabel('x R32')\n",
    "plt.grid(True)\n",
    "plt.ylim(0,1300000)\n",
    "plt.legend()\n",
    "plt.show()\n",
    "print('K12= ',k12)\n",
    "print('K21= ',k21)"
   ]
  },
  {
   "cell_type": "code",
   "execution_count": null,
   "id": "understood-decrease",
   "metadata": {},
   "outputs": [],
   "source": []
  }
 ],
 "metadata": {
  "kernelspec": {
   "display_name": "Python 3 (ipykernel)",
   "language": "python",
   "name": "python3"
  },
  "language_info": {
   "codemirror_mode": {
    "name": "ipython",
    "version": 3
   },
   "file_extension": ".py",
   "mimetype": "text/x-python",
   "name": "python",
   "nbconvert_exporter": "python",
   "pygments_lexer": "ipython3",
   "version": "3.9.6"
  }
 },
 "nbformat": 4,
 "nbformat_minor": 5
}
