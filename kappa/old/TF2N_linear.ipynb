{
 "cells": [
  {
   "cell_type": "code",
   "execution_count": 1,
   "metadata": {},
   "outputs": [],
   "source": [
    "from binary_param_linear import binary_params_peng\n",
    "\n",
    "from HFC32_emimTf2N_PR2 import configuration\n",
    "\n",
    "import pandas as pd"
   ]
  },
  {
   "cell_type": "code",
   "execution_count": 2,
   "metadata": {
    "scrolled": false
   },
   "outputs": [
    {
     "name": "stdout",
     "output_type": "stream",
     "text": [
      "   temperature  pressure  x_R32  x_emimTf2N\n",
      "0       283.15     10200  0.014       0.986\n",
      "1       283.15    100100  0.136       0.864\n",
      "2       283.15    250300  0.306       0.694\n",
      "3       283.15    399300  0.448       0.552\n",
      "4       283.15    549300  0.570       0.430\n",
      "5       283.15    700400  0.672       0.328\n",
      "6       283.15    849400  0.786       0.214\n"
     ]
    }
   ],
   "source": [
    "data = pd.read_csv('R32_emimTf2N.csv')\n",
    "\n",
    "data_283 = data[(data.temperature > 240) & (data.temperature< 295)]\n",
    "data_283 = data_283.reset_index(drop=True)\n",
    "print(data_283)"
   ]
  },
  {
   "cell_type": "code",
   "execution_count": 3,
   "metadata": {
    "scrolled": false
   },
   "outputs": [],
   "source": [
    "# binary_params_peng(data, configuration, 'R32', 'emimTf2N', \"x_R32\", \"x_emimTf2N\", \n",
    "#                     init_temp = 323.15, init_press = 399800, init_x_c1 = 0.5, init_x_c2 = 0.5,\n",
    "#                     init_kappa_1_2A = 8.8718968152, init_kappa_2_1A = 1.1017101392,\n",
    "#                     init_kappa_1_2B = -0.0007, init_kappa_2_1B = -0.0066357, \n",
    "#                     init_kappa_1_2C = 7.70238E-5, init_kappa_2_1C = 9.4024E-6,\n",
    "#                     eps = 0.1, scaling_fac = 1e-9)"
   ]
  },
  {
   "cell_type": "code",
   "execution_count": 4,
   "metadata": {
    "scrolled": false
   },
   "outputs": [],
   "source": [
    "# from R125_bmimPF6_PR import configuration\n",
    "\n",
    "# binary_params_peng('R125IL298.csv', configuration, 'R125', 'bmimPF6', \"x_R125\", \"x_bmimPF6\", \n",
    "#     init_temp = 298.15, init_press = 799600, init_x_c1 = 0.739, init_x_c2 = 0.261,\n",
    "#     init_kappa_2_1 = 0.1, init_kappa_1_2 = 0.07, eps = 0.1, scaling_fac = 1e-9)"
   ]
  },
  {
   "cell_type": "code",
   "execution_count": 5,
   "metadata": {
    "scrolled": false
   },
   "outputs": [
    {
     "name": "stdout",
     "output_type": "stream",
     "text": [
      "2021-08-04 16:10:16 [INFO] idaes.generic_models.properties.core.generic.generic_property: DEPRECATED - definiton of generic property packages is moving to using static classes instead of modules. Please refer to the IDAES documentation.\n",
      "2021-08-04 16:10:17 [INFO] idaes.init.fs.state_block: Property package initialization: optimal - Optimal Solution Found.\n",
      "2021-08-04 16:10:17 [INFO] idaes.generic_models.properties.core.generic.generic_property: DEPRECATED - definiton of generic property packages is moving to using static classes instead of modules. Please refer to the IDAES documentation.\n",
      "2021-08-04 16:10:18 [INFO] idaes.init.fs.state_block: Property package initialization: optimal - Optimal Solution Found.\n",
      "2021-08-04 16:10:18 [INFO] idaes.generic_models.properties.core.generic.generic_property: DEPRECATED - definiton of generic property packages is moving to using static classes instead of modules. Please refer to the IDAES documentation.\n",
      "2021-08-04 16:10:18 [INFO] idaes.init.fs.state_block: Property package initialization: optimal - Optimal Solution Found.\n",
      "2021-08-04 16:10:18 [INFO] idaes.generic_models.properties.core.generic.generic_property: DEPRECATED - definiton of generic property packages is moving to using static classes instead of modules. Please refer to the IDAES documentation.\n",
      "2021-08-04 16:10:19 [INFO] idaes.init.fs.state_block: Property package initialization: optimal - Optimal Solution Found.\n",
      "2021-08-04 16:10:19 [INFO] idaes.generic_models.properties.core.generic.generic_property: DEPRECATED - definiton of generic property packages is moving to using static classes instead of modules. Please refer to the IDAES documentation.\n",
      "2021-08-04 16:10:20 [INFO] idaes.init.fs.state_block: Property package initialization: optimal - Optimal Solution Found.\n",
      "2021-08-04 16:10:20 [INFO] idaes.generic_models.properties.core.generic.generic_property: DEPRECATED - definiton of generic property packages is moving to using static classes instead of modules. Please refer to the IDAES documentation.\n",
      "2021-08-04 16:10:21 [INFO] idaes.init.fs.state_block: Property package initialization: infeasible - Converged to a locally infeasible point. Problem may be infeasible..\n",
      "2021-08-04 16:10:21 [INFO] idaes.generic_models.properties.core.generic.generic_property: DEPRECATED - definiton of generic property packages is moving to using static classes instead of modules. Please refer to the IDAES documentation.\n",
      "2021-08-04 16:10:22 [INFO] idaes.init.fs.state_block: Property package initialization: optimal - Optimal Solution Found.\n",
      "Ipopt 3.12.13: bound_relax_factor=0\n",
      "honor_original_bounds=no\n",
      "\n",
      "\n",
      "******************************************************************************\n",
      "This program contains Ipopt, a library for large-scale nonlinear optimization.\n",
      " Ipopt is released as open source code under the Eclipse Public License (EPL).\n",
      "         For more information visit http://projects.coin-or.org/Ipopt\n",
      "\n",
      "This version of Ipopt was compiled from source code available at\n",
      "    https://github.com/IDAES/Ipopt as part of the Institute for the Design of\n",
      "    Advanced Energy Systems Process Systems Engineering Framework (IDAES PSE\n",
      "    Framework) Copyright (c) 2018-2019. See https://github.com/IDAES/idaes-pse.\n",
      "\n",
      "This version of Ipopt was compiled using HSL, a collection of Fortran codes\n",
      "    for large-scale scientific computation.  All technical papers, sales and\n",
      "    publicity material resulting from use of the HSL codes within IPOPT must\n",
      "    contain the following acknowledgement:\n",
      "        HSL, a collection of Fortran codes for large-scale scientific\n",
      "        computation. See http://www.hsl.rl.ac.uk.\n",
      "******************************************************************************\n",
      "\n",
      "This is Ipopt version 3.12.13, running with linear solver ma27.\n",
      "\n",
      "Number of nonzeros in equality constraint Jacobian...:      234\n",
      "Number of nonzeros in inequality constraint Jacobian.:        0\n",
      "Number of nonzeros in Lagrangian Hessian.............:      238\n",
      "\n",
      "Total number of variables............................:       98\n",
      "                     variables with only lower bounds:       42\n",
      "                variables with lower and upper bounds:       42\n",
      "                     variables with only upper bounds:        0\n",
      "Total number of equality constraints.................:       96\n",
      "Total number of inequality constraints...............:        0\n",
      "        inequality constraints with only lower bounds:        0\n",
      "   inequality constraints with lower and upper bounds:        0\n",
      "        inequality constraints with only upper bounds:        0\n",
      "\n",
      "iter    objective    inf_pr   inf_du lg(mu)  ||d||  lg(rg) alpha_du alpha_pr  ls\n",
      "   0  0.0000000e+00 3.33e-01 1.53e-14  -1.0 0.00e+00    -  0.00e+00 0.00e+00   0\n",
      "   1  3.0841908e-04 3.21e-01 3.29e+02  -1.0 3.64e+04    -  8.90e-01 3.78e-02h  1\n",
      "   2  3.3234841e-03 3.11e-01 5.45e+02  -1.0 1.06e+05    -  8.45e-01 3.09e-02h  6\n",
      "   3  1.3841775e-02 3.06e-01 6.29e+02  -1.0 3.04e+05    -  7.30e-01 1.55e-02h  7\n",
      "   4  3.3831075e-02 3.04e-01 6.65e+02  -1.0 6.50e+05    -  5.64e-01 7.73e-03h  8\n",
      "   5  6.9561115e+01 3.90e+01 2.09e+05  -1.0 6.10e+06    -  6.18e-02 6.18e-02s 21\n",
      "   6r 6.9561115e+01 3.90e+01 9.99e+02   1.6 0.00e+00    -  0.00e+00 0.00e+00R  1\n",
      "   7r 6.9560436e+01 7.84e+00 9.95e+02   1.6 2.09e+04    -  6.12e-03 1.61e-03f  1\n",
      "   8r 6.9560411e+01 2.58e+00 9.58e+02   1.6 1.73e+03    -  3.98e-02 4.33e-03f  1\n",
      "   9r 6.9560665e+01 2.65e-01 9.48e+02   1.6 7.81e+01    -  4.98e-01 4.17e-02f  1\n",
      "iter    objective    inf_pr   inf_du lg(mu)  ||d||  lg(rg) alpha_du alpha_pr  ls\n",
      "  10r 6.9561797e+01 7.29e-01 1.33e+03   1.6 7.01e+00    -  9.90e-01 4.67e-01f  1\n",
      "  11r 6.9563051e+01 8.81e-02 2.70e+02   1.6 7.34e+00    -  9.90e-01 1.00e+00f  1\n",
      "  12r 6.9561095e+01 1.55e+00 6.81e+02   0.9 1.33e+01    -  9.99e-01 9.40e-01f  1\n",
      "  13r 6.9557557e+01 2.56e-01 1.98e+02   0.9 3.67e+01    -  1.00e+00 9.65e-01f  1\n",
      "  14  6.5726544e+01 2.10e-01 1.27e+02  -1.0 7.73e+05    -  5.68e-01 4.87e-02f  1\n",
      "  15  5.5660480e+01 1.78e-01 2.60e+02  -1.0 4.80e+05    -  9.02e-01 1.24e-01f  4\n",
      "  16  4.8065661e+01 7.28e-01 4.17e+02  -1.0 3.78e+05    -  9.90e-01 1.24e-01f  4\n",
      "  17  2.3763780e+01 3.68e-01 3.28e+02  -1.0 4.18e+05    -  6.76e-01 4.95e-01f  2\n",
      "  18  1.4152804e+01 1.86e-01 3.74e+02  -1.0 2.44e+05    -  9.84e-01 4.95e-01f  2\n",
      "  19  3.4269596e+00 1.03e+00 1.75e+02  -1.0 1.48e+05    -  9.93e-01 9.90e-01F  1\n",
      "iter    objective    inf_pr   inf_du lg(mu)  ||d||  lg(rg) alpha_du alpha_pr  ls\n",
      "  20  4.1300066e-01 1.43e-02 9.80e+02  -1.0 7.50e+04    -  1.00e+00 9.90e-01h  1\n",
      "  21  5.7878812e-01 8.41e-02 6.98e+06  -1.0 1.48e+04    -  2.78e-01 9.90e-01h  1\n",
      "  22  5.1248867e-01 2.64e-02 4.91e+08  -1.0 6.19e+03    -  1.00e+00 4.95e-01h  2\n",
      "  23  4.9502665e-01 2.12e-03 2.43e+07  -1.0 8.11e+02    -  1.00e+00 9.90e-01h  1\n",
      "  24  4.9688846e-01 4.56e-05 1.94e+09  -1.0 9.38e+01    -  1.00e+00 9.90e-01h  1\n",
      "  25  4.9687392e-01 4.45e-07 1.94e+11  -1.0 7.14e-01    -  1.00e+00 9.90e-01h  1\n",
      "In iteration 25, 7 Slacks too small, adjusting variable bounds\n",
      "  26  4.9687377e-01 4.45e-09 1.94e+13  -1.0 7.46e-03    -  1.00e+00 9.90e-01h  1\n",
      "  27  4.9687376e-01 6.90e-12 1.71e-03  -1.0 7.48e-05    -  1.00e+00 1.00e+00h  1\n",
      "  28  4.9682984e-01 3.01e-09 1.86e+13  -9.0 3.34e+03    -  9.40e-01 4.88e-04f 12\n",
      "  29  4.9680598e-01 3.90e-09 1.98e+13  -9.0 3.72e+03    -  9.91e-01 2.44e-04f 13\n",
      "iter    objective    inf_pr   inf_du lg(mu)  ||d||  lg(rg) alpha_du alpha_pr  ls\n",
      "  30  4.9679999e-01 3.96e-09 1.98e+13  -9.0 3.74e+03    -  9.92e-01 6.10e-05f 15\n",
      "  31  4.9679400e-01 4.02e-09 1.98e+13  -9.0 3.74e+03    -  1.00e+00 6.10e-05f 15\n",
      "  32  4.9679326e-01 4.02e-09 1.98e+13  -9.0 3.74e+03    -  1.00e+00 7.63e-06f 18\n",
      "  33  4.0473469e-01 1.92e-01 2.46e+07  -9.0 3.74e+03    -  1.00e+00 1.00e+00f  1\n",
      "  34  3.9785567e-01 3.96e-06 2.62e-02  -9.0 3.89e+02    -  1.00e+00 1.00e+00h  1\n",
      "  35  3.9785598e-01 3.83e-12 3.64e-12  -9.0 1.64e-01    -  1.00e+00 1.00e+00h  1\n",
      "\n",
      "Number of Iterations....: 35\n",
      "\n",
      "                                   (scaled)                 (unscaled)\n",
      "Objective...............:   3.9785597651145066e-01    3.9785597651145066e-01\n",
      "Dual infeasibility......:   3.6379788070917130e-12    3.6379788070917130e-12\n",
      "Constraint violation....:   3.8298253457469400e-12    3.8298253457469400e-12\n",
      "Complementarity.........:   9.2971777576681161e-10    9.2971777576681161e-10\n",
      "Overall NLP error.......:   5.3289762352759569e-11    9.2971777576681161e-10\n",
      "\n",
      "\n",
      "Number of objective function evaluations             = 181\n",
      "Number of objective gradient evaluations             = 30\n",
      "Number of equality constraint evaluations            = 181\n",
      "Number of inequality constraint evaluations          = 0\n",
      "Number of equality constraint Jacobian evaluations   = 37\n",
      "Number of inequality constraint Jacobian evaluations = 0\n",
      "Number of Lagrangian Hessian evaluations             = 35\n",
      "Total CPU secs in IPOPT (w/o function evaluations)   =      0.018\n",
      "Total CPU secs in NLP function evaluations           =      0.269\n",
      "\n",
      "EXIT: Optimal Solution Found.\n"
     ]
    },
    {
     "name": "stdout",
     "output_type": "stream",
     "text": [
      "The SSE at the optimal solution is 0.397856\n",
      "\n",
      "The values for the parameters are as follows:\n",
      "fs.properties.PR_kappa_A[R32,emimTf2N] = -0.02391876303456945\n",
      "fs.properties.PR_kappa_A[emimTf2N,R32] = -0.02183340238864834\n",
      "covariance_matrix                                         fs.properties.PR_kappa_A[R32,emimTf2N]  \\\n",
      "fs.properties.PR_kappa_A[R32,emimTf2N]                                0.000010   \n",
      "fs.properties.PR_kappa_A[emimTf2N,R32]                                0.000002   \n",
      "\n",
      "                                        fs.properties.PR_kappa_A[emimTf2N,R32]  \n",
      "fs.properties.PR_kappa_A[R32,emimTf2N]                            2.420768e-06  \n",
      "fs.properties.PR_kappa_A[emimTf2N,R32]                            6.029754e-07  \n"
     ]
    },
    {
     "name": "stderr",
     "output_type": "stream",
     "text": [
      "c:\\users\\agarc\\anaconda32\\envs\\kappa\\lib\\site-packages\\pyomo\\contrib\\interior_point\\interface.py:418: RuntimeWarning: divide by zero encountered in true_divide\n",
      "  data = (duals_primals_lb/(primals - self._nlp.primals_lb()) +\n"
     ]
    }
   ],
   "source": [
    "binary_params_peng(data_283, configuration, 'R32', 'emimTf2N', \"x_R32\", \"x_emimTf2N\", \n",
    "                    init_temp = 323.15, init_press = 399800, init_x_c1 = 0.5, init_x_c2 = 0.5,\n",
    "                    init_kappa_1_2A = -0.02, init_kappa_2_1A = -0.035,\n",
    "                    init_kappa_1_2B = 0.0, init_kappa_2_1B = 0.0,\n",
    "                    eps = 0.1, scaling_fac = 1e-9)"
   ]
  },
  {
   "cell_type": "code",
   "execution_count": null,
   "metadata": {},
   "outputs": [],
   "source": []
  }
 ],
 "metadata": {
  "kernelspec": {
   "display_name": "Python 3 (ipykernel)",
   "language": "python",
   "name": "python3"
  },
  "language_info": {
   "codemirror_mode": {
    "name": "ipython",
    "version": 3
   },
   "file_extension": ".py",
   "mimetype": "text/x-python",
   "name": "python",
   "nbconvert_exporter": "python",
   "pygments_lexer": "ipython3",
   "version": "3.9.6"
  }
 },
 "nbformat": 4,
 "nbformat_minor": 4
}
