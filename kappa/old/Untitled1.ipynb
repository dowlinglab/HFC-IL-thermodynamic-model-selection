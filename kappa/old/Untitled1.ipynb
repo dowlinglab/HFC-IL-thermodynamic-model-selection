{
 "cells": [
  {
   "cell_type": "code",
   "execution_count": 1,
   "metadata": {},
   "outputs": [],
   "source": [
    "exchangerdict = {'H1':1,'H2':2,'H3':3}\n",
    "Tin_ = {'H1':10,'H2':20,'H3':30}\n",
    "Tout_ = {'H1':100,'H2':200,'H3':300}\n",
    "Q_ = {'H1':1000,'H2':2000,'H3':3000}"
   ]
  },
  {
   "cell_type": "code",
   "execution_count": 4,
   "metadata": {},
   "outputs": [
    {
     "name": "stdout",
     "output_type": "stream",
     "text": [
      "Heat exchanger:  1\n",
      "Inlet T:    10.000\n",
      "Outlet T:   100.000\n",
      "Q:          1000.000\n",
      "Heat exchanger:  2\n",
      "Inlet T:    20.000\n",
      "Outlet T:   200.000\n",
      "Q:          2000.000\n",
      "Heat exchanger:  3\n",
      "Inlet T:    30.000\n",
      "Outlet T:   300.000\n",
      "Q:          3000.000\n"
     ]
    }
   ],
   "source": [
    "for i in exchangerdict.keys():\n",
    "    print(\"Heat exchanger: \", exchangerdict[i])\n",
    "    print(f'Inlet T:{\" \"*3} {Tin_[i]:0.3f}')\n",
    "    print(f'Outlet T:{\" \"*2} {Tout_[i]:0.3f}')\n",
    "    print(f'Q:{\" \"*9} {Q_[i]:0.3f}')"
   ]
  },
  {
   "cell_type": "code",
   "execution_count": null,
   "metadata": {},
   "outputs": [],
   "source": []
  }
 ],
 "metadata": {
  "kernelspec": {
   "display_name": "Python 3",
   "language": "python",
   "name": "python3"
  },
  "language_info": {
   "codemirror_mode": {
    "name": "ipython",
    "version": 3
   },
   "file_extension": ".py",
   "mimetype": "text/x-python",
   "name": "python",
   "nbconvert_exporter": "python",
   "pygments_lexer": "ipython3",
   "version": "3.7.3"
  }
 },
 "nbformat": 4,
 "nbformat_minor": 2
}
