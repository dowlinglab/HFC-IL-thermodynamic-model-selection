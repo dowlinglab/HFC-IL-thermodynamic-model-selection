{
 "cells": [
  {
   "cell_type": "code",
   "execution_count": null,
   "metadata": {},
   "outputs": [],
   "source": [
    "from binary_param3 import binary_params_peng\n",
    "\n",
    "from R32_tf2n_k_test import configuration\n",
    "\n",
    "import pandas as pd"
   ]
  },
  {
   "cell_type": "code",
   "execution_count": null,
   "metadata": {
    "scrolled": false
   },
   "outputs": [],
   "source": [
    "data = pd.read_csv('R32_emimTf2N.csv')\n",
    "\n",
    "data_283 = data[(data.temperature > 282) & (data.temperature< 284)]"
   ]
  },
  {
   "cell_type": "code",
   "execution_count": null,
   "metadata": {
    "scrolled": false
   },
   "outputs": [],
   "source": [
    "binary_params_peng(data_283, configuration, 'R32', 'emimTf2N', \"x_R32\", \"x_emimTf2N\", \n",
    "    init_temp = 323.15, init_press = 399800, init_x_c1 = 0.5, init_x_c2 = 0.5,\n",
    "    init_kappa_2_1B = 0.0000346, init_kappa_1_2B = 0.000424, \n",
    "    init_kappa_2_1A = -0.098873, init_kappa_1_2A = -0.15556, \n",
    "                   eps = 0.1, scaling_fac = 1e-9)"
   ]
  },
  {
   "cell_type": "code",
   "execution_count": null,
   "metadata": {
    "scrolled": false
   },
   "outputs": [],
   "source": [
    "# from R125_bmimPF6_PR import configuration\n",
    "\n",
    "# binary_params_peng('R125IL298.csv', configuration, 'R125', 'bmimPF6', \"x_R125\", \"x_bmimPF6\", \n",
    "#     init_temp = 298.15, init_press = 799600, init_x_c1 = 0.739, init_x_c2 = 0.261,\n",
    "#     init_kappa_2_1 = 0.1, init_kappa_1_2 = 0.07, eps = 0.1, scaling_fac = 1e-9)"
   ]
  },
  {
   "cell_type": "code",
   "execution_count": null,
   "metadata": {},
   "outputs": [],
   "source": []
  }
 ],
 "metadata": {
  "kernelspec": {
   "display_name": "Python 3 (ipykernel)",
   "language": "python",
   "name": "python3"
  },
  "language_info": {
   "codemirror_mode": {
    "name": "ipython",
    "version": 3
   },
   "file_extension": ".py",
   "mimetype": "text/x-python",
   "name": "python",
   "nbconvert_exporter": "python",
   "pygments_lexer": "ipython3",
   "version": "3.9.6"
  }
 },
 "nbformat": 4,
 "nbformat_minor": 4
}
