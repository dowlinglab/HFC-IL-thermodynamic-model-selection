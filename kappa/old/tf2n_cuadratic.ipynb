{
 "cells": [
  {
   "cell_type": "code",
   "execution_count": 1,
   "metadata": {},
   "outputs": [],
   "source": [
    "from binary_param_linear import binary_params_peng\n",
    "\n",
    "from R32_tf2n_k_test import configuration\n",
    "\n",
    "import pandas as pd"
   ]
  },
  {
   "cell_type": "code",
   "execution_count": 2,
   "metadata": {
    "scrolled": false
   },
   "outputs": [
    {
     "name": "stdout",
     "output_type": "stream",
     "text": [
      "    temperature  pressure  x_R32  x_emimTf2N\n",
      "0        298.15      9600  0.010       0.990\n",
      "1        298.15     99800  0.095       0.905\n",
      "2        298.15    250200  0.218       0.782\n",
      "3        298.15    399400  0.325       0.675\n",
      "4        298.15    549400  0.417       0.583\n",
      "5        298.15    699500  0.499       0.501\n",
      "6        298.15    849500  0.570       0.430\n",
      "7        298.15    999700  0.643       0.357\n",
      "8        323.15     10200  0.005       0.995\n",
      "9        323.15    100300  0.055       0.945\n",
      "10       323.15    249700  0.133       0.867\n",
      "11       323.15    400100  0.200       0.800\n",
      "12       323.15    549500  0.264       0.736\n",
      "13       323.15    700300  0.320       0.680\n",
      "14       323.15    850400  0.368       0.632\n",
      "15       323.15   1000400  0.417       0.583\n",
      "16       348.05     10300  0.002       0.998\n",
      "17       348.05     99800  0.034       0.966\n",
      "18       348.05    249700  0.084       0.916\n",
      "19       348.05    399500  0.131       0.869\n",
      "20       348.05    550300  0.175       0.825\n",
      "21       348.05    699200  0.216       0.784\n",
      "22       348.05    850400  0.254       0.746\n",
      "23       348.05   1000500  0.288       0.712\n"
     ]
    }
   ],
   "source": [
    "data = pd.read_csv('R32_emimTf2N.csv')\n",
    "\n",
    "data_283 = data[(data.temperature > 298) & (data.temperature< 349)]\n",
    "data_283 = data_283.reset_index(drop=True)\n",
    "print(data_283)"
   ]
  },
  {
   "cell_type": "code",
   "execution_count": 3,
   "metadata": {
    "scrolled": false
   },
   "outputs": [],
   "source": [
    "# binary_params_peng(data, configuration, 'R32', 'emimTf2N', \"x_R32\", \"x_emimTf2N\", \n",
    "#                     init_temp = 323.15, init_press = 399800, init_x_c1 = 0.5, init_x_c2 = 0.5,\n",
    "#                     init_kappa_1_2A = 8.8718968152, init_kappa_2_1A = 1.1017101392,\n",
    "#                     init_kappa_1_2B = -0.0007, init_kappa_2_1B = -0.0066357, \n",
    "#                     init_kappa_1_2C = 7.70238E-5, init_kappa_2_1C = 9.4024E-6,\n",
    "#                     eps = 0.1, scaling_fac = 1e-9)"
   ]
  },
  {
   "cell_type": "code",
   "execution_count": 4,
   "metadata": {
    "scrolled": false
   },
   "outputs": [],
   "source": [
    "# from R125_bmimPF6_PR import configuration\n",
    "\n",
    "# binary_params_peng('R125IL298.csv', configuration, 'R125', 'bmimPF6', \"x_R125\", \"x_bmimPF6\", \n",
    "#     init_temp = 298.15, init_press = 799600, init_x_c1 = 0.739, init_x_c2 = 0.261,\n",
    "#     init_kappa_2_1 = 0.1, init_kappa_1_2 = 0.07, eps = 0.1, scaling_fac = 1e-9)"
   ]
  },
  {
   "cell_type": "code",
   "execution_count": 5,
   "metadata": {
    "scrolled": false
   },
   "outputs": [
    {
     "ename": "TypeError",
     "evalue": "binary_params_peng() got an unexpected keyword argument 'init_kappa_1_2C'",
     "output_type": "error",
     "traceback": [
      "\u001b[1;31m---------------------------------------------------------------------------\u001b[0m",
      "\u001b[1;31mTypeError\u001b[0m                                 Traceback (most recent call last)",
      "\u001b[1;32m~\\AppData\\Local\\Temp/ipykernel_22044/2880352647.py\u001b[0m in \u001b[0;36m<module>\u001b[1;34m\u001b[0m\n\u001b[1;32m----> 1\u001b[1;33m binary_params_peng(data, configuration, 'R32', 'emimTf2N', \"x_R32\", \"x_emimTf2N\", \n\u001b[0m\u001b[0;32m      2\u001b[0m                     \u001b[0minit_temp\u001b[0m \u001b[1;33m=\u001b[0m \u001b[1;36m323.15\u001b[0m\u001b[1;33m,\u001b[0m \u001b[0minit_press\u001b[0m \u001b[1;33m=\u001b[0m \u001b[1;36m399800\u001b[0m\u001b[1;33m,\u001b[0m \u001b[0minit_x_c1\u001b[0m \u001b[1;33m=\u001b[0m \u001b[1;36m0.5\u001b[0m\u001b[1;33m,\u001b[0m \u001b[0minit_x_c2\u001b[0m \u001b[1;33m=\u001b[0m \u001b[1;36m0.5\u001b[0m\u001b[1;33m,\u001b[0m\u001b[1;33m\u001b[0m\u001b[1;33m\u001b[0m\u001b[0m\n\u001b[0;32m      3\u001b[0m                     \u001b[0minit_kappa_1_2A\u001b[0m \u001b[1;33m=\u001b[0m \u001b[1;36m1.2336\u001b[0m\u001b[1;33m,\u001b[0m \u001b[0minit_kappa_2_1A\u001b[0m \u001b[1;33m=\u001b[0m \u001b[1;36m0.1775\u001b[0m\u001b[1;33m,\u001b[0m\u001b[1;33m\u001b[0m\u001b[1;33m\u001b[0m\u001b[0m\n\u001b[0;32m      4\u001b[0m                     \u001b[0minit_kappa_1_2B\u001b[0m \u001b[1;33m=\u001b[0m \u001b[1;33m-\u001b[0m\u001b[1;36m0.0046\u001b[0m\u001b[1;33m,\u001b[0m \u001b[0minit_kappa_2_1B\u001b[0m \u001b[1;33m=\u001b[0m \u001b[1;33m-\u001b[0m\u001b[1;36m0.0007\u001b[0m\u001b[1;33m,\u001b[0m\u001b[1;33m\u001b[0m\u001b[1;33m\u001b[0m\u001b[0m\n\u001b[0;32m      5\u001b[0m                     \u001b[0minit_kappa_1_2C\u001b[0m \u001b[1;33m=\u001b[0m \u001b[1;36m0.0\u001b[0m\u001b[1;33m,\u001b[0m \u001b[0minit_kappa_2_1C\u001b[0m \u001b[1;33m=\u001b[0m \u001b[1;36m0.0\u001b[0m\u001b[1;33m,\u001b[0m\u001b[1;33m\u001b[0m\u001b[1;33m\u001b[0m\u001b[0m\n",
      "\u001b[1;31mTypeError\u001b[0m: binary_params_peng() got an unexpected keyword argument 'init_kappa_1_2C'"
     ]
    }
   ],
   "source": [
    "binary_params_peng(data, configuration, 'R32', 'emimTf2N', \"x_R32\", \"x_emimTf2N\", \n",
    "                    init_temp = 323.15, init_press = 399800, init_x_c1 = 0.5, init_x_c2 = 0.5,\n",
    "                    init_kappa_1_2A = 1.2336, init_kappa_2_1A = 0.1775,\n",
    "                    init_kappa_1_2B = -0.0046, init_kappa_2_1B = -0.0007, \n",
    "                    init_kappa_1_2C = 0.0, init_kappa_2_1C = 0.0,\n",
    "                    eps = 0.1, scaling_fac = 1e-9)"
   ]
  },
  {
   "cell_type": "code",
   "execution_count": null,
   "metadata": {},
   "outputs": [],
   "source": []
  }
 ],
 "metadata": {
  "kernelspec": {
   "display_name": "Python 3 (ipykernel)",
   "language": "python",
   "name": "python3"
  },
  "language_info": {
   "codemirror_mode": {
    "name": "ipython",
    "version": 3
   },
   "file_extension": ".py",
   "mimetype": "text/x-python",
   "name": "python",
   "nbconvert_exporter": "python",
   "pygments_lexer": "ipython3",
   "version": "3.9.6"
  }
 },
 "nbformat": 4,
 "nbformat_minor": 4
}
