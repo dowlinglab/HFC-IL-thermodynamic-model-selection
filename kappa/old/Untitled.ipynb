{
 "cells": [
  {
   "cell_type": "code",
   "execution_count": 1,
   "metadata": {},
   "outputs": [],
   "source": [
    "from pyomo.environ import (Constraint,\n",
    "                           Var,\n",
    "                           ConcreteModel,\n",
    "                           Expression,\n",
    "                           Param,\n",
    "                           Objective,\n",
    "                           SolverFactory,\n",
    "                           TransformationFactory,\n",
    "                           value)\n",
    "\n",
    "import pytest\n",
    "from pyomo.environ import (ConcreteModel,\n",
    "                           Objective,\n",
    "                           SolverStatus,\n",
    "                           TerminationCondition,\n",
    "                           units as pyunits)\n",
    "from idaes.core.util.model_statistics import degrees_of_freedom\n",
    "from idaes.core.util import get_solver\n",
    "\n",
    "from idaes.core import VaporPhase, Component\n",
    "from idaes.generic_models.properties.core.state_definitions import FTPx\n",
    "from idaes.generic_models.properties.core.eos.ideal import Ideal\n",
    "import idaes.generic_models.properties.core.pure.RPP4 as RPP4\n",
    "\n",
    "from idaes.generic_models.unit_models import Heater\n",
    "from idaes.core import FlowsheetBlock\n",
    "\n",
    "from idaes.generic_models.properties.core.generic.generic_property import \\\n",
    "        GenericParameterBlock\n",
    "\n",
    "from idaes.core.util.utility_minimization import \\\n",
    "        min_utility, PinchDataClass, heat_ex_data, gen_curves"
   ]
  },
  {
   "cell_type": "code",
   "execution_count": 2,
   "metadata": {},
   "outputs": [],
   "source": [
    "configuration = {\n",
    "            # Specifying components\n",
    "            \"components\": {\n",
    "\n",
    "                'A': {\"type\": Component,\n",
    "                      \"enth_mol_ig_comp\": RPP4,\n",
    "                      \"entr_mol_ig_comp\": RPP4,\n",
    "                      \"parameter_data\": {\n",
    "                        \"mw\": (2.016E-3, pyunits.kg/pyunits.mol),  # [1]\n",
    "                        \"pressure_crit\": (12.9e5, pyunits.Pa),  # [1]\n",
    "                        \"temperature_crit\": (33.2, pyunits.K),  # [1]\n",
    "                        \"omega\": -0.218,\n",
    "                        \"cp_mol_ig_comp_coeff\": {\n",
    "                            \"A\": (1000000, pyunits.J/pyunits.mol/pyunits.K),\n",
    "                            \"B\": (0, pyunits.J/pyunits.mol/pyunits.K**2),\n",
    "                            \"C\": (0, pyunits.J/pyunits.mol/pyunits.K**3),\n",
    "                            \"D\": (0, pyunits.J/pyunits.mol/pyunits.K**4)},\n",
    "                        \"entr_mol_form_vap_comp_ref\": (\n",
    "                            0, pyunits.J/pyunits.mol/pyunits.K),\n",
    "                        \"enth_mol_form_vap_comp_ref\": (\n",
    "                            0.0, pyunits.J/pyunits.mol)}}},\n",
    "\n",
    "            # Specifying phases\n",
    "            \"phases\":  {'Vap': {\"type\": VaporPhase,\n",
    "                                \"equation_of_state\": Ideal}},\n",
    "\n",
    "            # Set base units of measurement\n",
    "            \"base_units\": {\"time\": pyunits.s,\n",
    "                           \"length\": pyunits.m,\n",
    "                           \"mass\": pyunits.kg,\n",
    "                           \"amount\": pyunits.mol,\n",
    "                           \"temperature\": pyunits.K},\n",
    "\n",
    "            # Specifying state definition\n",
    "            \"state_definition\": FTPx,\n",
    "            \"state_bounds\": {\"flow_mol\": (0, 100, 1000, pyunits.mol/pyunits.s),\n",
    "                             \"temperature\": (273.15, 300, 450, pyunits.K),\n",
    "                             \"pressure\": (5e4, 1e5, 1e6, pyunits.Pa)},\n",
    "            \"pressure_ref\": (1e5, pyunits.Pa),\n",
    "            \"temperature_ref\": (300, pyunits.K)}"
   ]
  },
  {
   "cell_type": "code",
   "execution_count": 3,
   "metadata": {},
   "outputs": [],
   "source": [
    "model = ConcreteModel()\n",
    "\n",
    "model.fs = FlowsheetBlock(default={\"dynamic\": False})\n",
    "\n",
    "# Add properties parameter blocks to the flowsheet with specifications\n",
    "model.fs.props = GenericParameterBlock(default=configuration)\n",
    "\n",
    "# Create an instance of the units, attaching them to the flowsheet\n",
    "# Specify that the property package to be used with with eash unit.\n",
    "model.fs.H101 = Heater(default={\"property_package\": model.fs.props,\n",
    "                                \"has_pressure_change\": False,\n",
    "                                \"has_phase_equilibrium\": False})\n",
    "\n",
    "model.fs.H102 = Heater(default={\"property_package\": model.fs.props,\n",
    "                                \"has_pressure_change\": False,\n",
    "                                \"has_phase_equilibrium\": False})\n",
    "\n",
    "model.fs.H103 = Heater(default={\"property_package\": model.fs.props,\n",
    "                                \"has_pressure_change\": False,\n",
    "                                \"has_phase_equilibrium\": False})\n",
    "\n",
    "model.fs.H104 = Heater(default={\"property_package\": model.fs.props,\n",
    "                                \"has_pressure_change\": False,\n",
    "                                \"has_phase_equilibrium\": False})\n",
    "\n",
    "model.fs.H101.inlet.mole_frac_comp[0, \"A\"].fix(1)\n",
    "model.fs.H101.inlet.flow_mol[0].fix(1.5)\n",
    "model.fs.H101.inlet.temperature.fix(160)\n",
    "model.fs.H101.inlet.pressure.fix(100000)\n",
    "\n",
    "model.fs.H101.outlet.temperature.fix(400)\n",
    "\n",
    "model.fs.H102.inlet.mole_frac_comp[0, \"A\"].fix(1)\n",
    "model.fs.H102.inlet.flow_mol[0].fix(1.3)\n",
    "model.fs.H102.inlet.temperature.fix(100)\n",
    "model.fs.H102.inlet.pressure.fix(100000)\n",
    "\n",
    "model.fs.H102.outlet.temperature.fix(250)\n",
    "\n",
    "model.fs.H103.inlet.mole_frac_comp[0, \"A\"].fix(1)\n",
    "model.fs.H103.inlet.flow_mol[0].fix(1)\n",
    "model.fs.H103.inlet.temperature.fix(400)\n",
    "model.fs.H103.inlet.pressure.fix(100000)\n",
    "\n",
    "model.fs.H103.outlet.temperature.fix(120)\n",
    "\n",
    "model.fs.H104.inlet.mole_frac_comp[0, \"A\"].fix(1)\n",
    "model.fs.H104.inlet.flow_mol[0].fix(2)\n",
    "model.fs.H104.inlet.temperature.fix(340)\n",
    "model.fs.H104.inlet.pressure.fix(100000)\n",
    "\n",
    "model.fs.H104.outlet.temperature.fix(120)\n"
   ]
  },
  {
   "cell_type": "code",
   "execution_count": 4,
   "metadata": {},
   "outputs": [],
   "source": [
    "min_utility(model.fs, [model.fs.H101, model.fs.H102],\n",
    "            [model.fs.H103, model.fs.H104], 20)"
   ]
  },
  {
   "cell_type": "code",
   "execution_count": 5,
   "metadata": {},
   "outputs": [],
   "source": [
    "model.fs.objective = Objective(expr=model.fs.Qs+model.fs.Qw)"
   ]
  },
  {
   "cell_type": "code",
   "execution_count": 6,
   "metadata": {},
   "outputs": [],
   "source": [
    "solver = SolverFactory('ipopt')"
   ]
  },
  {
   "cell_type": "code",
   "execution_count": 7,
   "metadata": {},
   "outputs": [],
   "source": [
    "results = solver.solve(model)"
   ]
  },
  {
   "cell_type": "code",
   "execution_count": 8,
   "metadata": {},
   "outputs": [],
   "source": [
    "from idaes.core.util.utility_minimization import print_HX_results"
   ]
  },
  {
   "cell_type": "code",
   "execution_count": 9,
   "metadata": {},
   "outputs": [
    {
     "name": "stdout",
     "output_type": "stream",
     "text": [
      "Heat Exchanger Summary: \n",
      "Heat exchanger:  fs.H101\n",
      "Inlet T:      160.000 K\n",
      "Outlet T:     400.000 K\n",
      "Q :            360000000.000 kg*m**2/s**3\n",
      "Heat exchanger:  fs.H102\n",
      "Inlet T:      100.000 K\n",
      "Outlet T:     250.000 K\n",
      "Q :            195000000.000 kg*m**2/s**3\n",
      "Heat exchanger:  fs.H103\n",
      "Inlet T:      400.000 K\n",
      "Outlet T:     120.000 K\n",
      "Q :           -280000000.000 kg*m**2/s**3\n",
      "Heat exchanger:  fs.H104\n",
      "Inlet T:      340.000 K\n",
      "Outlet T:     120.000 K\n",
      "Q :           -440000000.000 kg*m**2/s**3\n"
     ]
    }
   ],
   "source": [
    "print_HX_results(model.fs, [model.fs.H101, model.fs.H102,\n",
    "            model.fs.H103, model.fs.H104])"
   ]
  },
  {
   "cell_type": "code",
   "execution_count": null,
   "metadata": {},
   "outputs": [],
   "source": []
  }
 ],
 "metadata": {
  "kernelspec": {
   "display_name": "Python 3",
   "language": "python",
   "name": "python3"
  },
  "language_info": {
   "codemirror_mode": {
    "name": "ipython",
    "version": 3
   },
   "file_extension": ".py",
   "mimetype": "text/x-python",
   "name": "python",
   "nbconvert_exporter": "python",
   "pygments_lexer": "ipython3",
   "version": "3.9.2"
  }
 },
 "nbformat": 4,
 "nbformat_minor": 2
}
