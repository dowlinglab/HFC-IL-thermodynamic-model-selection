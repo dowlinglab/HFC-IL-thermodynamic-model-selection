{
 "cells": [
  {
   "cell_type": "code",
   "execution_count": 1,
   "id": "357d2c54",
   "metadata": {},
   "outputs": [],
   "source": [
    "from pyomo.environ import (Constraint,\n",
    "                           Var,\n",
    "                           ConcreteModel,\n",
    "                           Expression,\n",
    "                           Param,\n",
    "                           Objective,\n",
    "                           SolverFactory,\n",
    "                           TransformationFactory,\n",
    "                           value)\n",
    "\n",
    "from pyomo.network import Arc, SequentialDecomposition\n",
    "\n",
    "from idaes.core.util.initialization import propagate_state\n",
    "\n",
    "# Import plotting functions\n",
    "import matplotlib.pyplot as plt\n",
    "\n",
    "# Import numpy library \n",
    "import numpy as np\n",
    "\n",
    "import pandas as pd\n",
    "\n",
    "# Import the main FlowsheetBlock from IDAES. The flowsheet block will contain the unit model\n",
    "from idaes.core import FlowsheetBlock\n",
    "\n",
    "import idaes.logger as idaeslog\n",
    "from pyomo.opt import TerminationCondition, SolverStatus\n",
    "\n",
    "# Import the degrees_of_freedom function from the idaes.core.util.model_statistics package\n",
    "# DOF = Number of Model Variables - Number of Model Constraints\n",
    "from idaes.core.util.model_statistics import degrees_of_freedom\n",
    "\n",
    "# Import the Generic Parameter Block\n",
    "from idaes.generic_models.properties.core.generic.generic_property import (\n",
    "        GenericParameterBlock)\n",
    "\n",
    "# Import unit models from the model library\n",
    "from idaes.generic_models.unit_models import Flash"
   ]
  },
  {
   "cell_type": "code",
   "execution_count": 2,
   "id": "e1e78911",
   "metadata": {},
   "outputs": [],
   "source": [
    "from HFC32_emimTf2N_PR2 import configuration\n",
    "data = pd.read_csv('R32_emimTf2N.csv')\n",
    "\n",
    "solver = SolverFactory('ipopt')\n",
    "solver.options = {'tol': 1e-6}"
   ]
  },
  {
   "cell_type": "code",
   "execution_count": 4,
   "id": "dae11a2d",
   "metadata": {
    "scrolled": false
   },
   "outputs": [
    {
     "name": "stdout",
     "output_type": "stream",
     "text": [
      "0.986\n",
      "0.864\n",
      "0.694\n",
      "0.552\n",
      "0.43\n",
      "0.328\n",
      "0.214\n",
      "0.99\n",
      "0.905\n",
      "0.782\n",
      "0.675\n",
      "0.583\n",
      "0.501\n",
      "0.43\n",
      "0.357\n",
      "0.995\n",
      "0.945\n",
      "0.867\n",
      "0.8\n",
      "0.736\n",
      "0.68\n",
      "0.632\n",
      "0.583\n",
      "0.998\n",
      "0.966\n",
      "0.916\n",
      "0.869\n",
      "0.825\n",
      "0.784\n",
      "0.746\n",
      "0.712\n"
     ]
    }
   ],
   "source": [
    "m = ConcreteModel()\n",
    "\n",
    "m.fs = FlowsheetBlock(default={\"dynamic\": False})\n",
    "\n",
    "m.fs.properties = GenericParameterBlock(default=configuration)\n",
    "\n",
    "m.fs.F101 = Flash(default={\"property_package\": m.fs.properties,\n",
    "                           \"has_heat_transfer\": True,\n",
    "                           \"has_pressure_change\": True})\n",
    "\n",
    "m.fs.F101.inlet.flow_mol.fix(1)\n",
    "m.fs.F101.inlet.temperature.fix(323.15)\n",
    "m.fs.F101.inlet.pressure.fix(399800)\n",
    "m.fs.F101.inlet.mole_frac_comp[0,'R32'].fix(0.5)\n",
    "\n",
    "m.fs.properties.PR_kappa_A['emimTf2N','R32'] = -0.2009314111467241\n",
    "m.fs.properties.PR_kappa_A['R32','emimTf2N'] = -0.056194263308478744\n",
    "m.fs.properties.PR_kappa_B['emimTf2N','R32'] = 0.0\n",
    "m.fs.properties.PR_kappa_B['R32','emimTf2N'] = 0.0\n",
    "\n",
    "# Initialize the flash unit\n",
    "m.fs.F101.initialize(outlvl=idaeslog.CRITICAL)\n",
    "\n",
    "# Fix the state variables on the state block\n",
    "# m.fs.F101.inlet.pressure.unfix()\n",
    "m.fs.F101.inlet.mole_frac_comp[0,'emimTf2N'].unfix()\n",
    "\n",
    "R32_x = np.zeros((len(data)))\n",
    "P = np.zeros((len(data)))\n",
    "\n",
    "m.fs.liq = Param(mutable=True,default=0.040)\n",
    "m.fs.liquid = Constraint(expr=m.fs.F101.liq_outlet.mole_frac_comp[0, \"emimTf2N\"] == m.fs.liq)\n",
    "\n",
    "for i in range(len(data)):\n",
    "    m.fs.liq = data[\"x_emimTf2N\"].iloc[i]\n",
    "    m.fs.F101.inlet.temperature.fix(float(data[\"temperature\"].iloc[i]))\n",
    "    m.fs.F101.inlet.pressure.fix(float(data[\"pressure\"].iloc[i]))\n",
    "    m.fs.F101.inlet.mole_frac_comp[0,'R32'].fix(float(data[\"x_R32\"].iloc[i])+0.1)\n",
    "    m.fs.F101.inlet.mole_frac_comp[0,'emimTf2N'].fix(float(1-(data[\"x_R32\"].iloc[i]+0.1)))\n",
    "    m.fs.F101.vap_outlet.temperature.fix(float(data[\"temperature\"].iloc[i]))\n",
    "    \n",
    "#     DOF_final = degrees_of_freedom(m)\n",
    "#     print(\"The final DOF is {0}\".format(DOF_final))\n",
    "    m.fs.F101.initialize(outlvl=idaeslog.CRITICAL)\n",
    "    \n",
    "    status = solver.solve(m, tee = False)\n",
    "\n",
    "#     m.fs.F101.report()\n",
    "    if (status.solver.status == SolverStatus.ok) and (status.solver.termination_condition == TerminationCondition.optimal):\n",
    "        print(data[\"x_emimTf2N\"].iloc[i])\n",
    "        R32_x[i] = value(m.fs.F101.liq_outlet.mole_frac_comp[0,'R32']) \n",
    "        P[i] = value(m.fs.F101.vap_outlet.pressure[0])\n",
    "\n",
    "    else:\n",
    "        print('Infeasible.')"
   ]
  },
  {
   "cell_type": "code",
   "execution_count": 5,
   "id": "24e30a27",
   "metadata": {},
   "outputs": [
    {
     "name": "stdout",
     "output_type": "stream",
     "text": [
      "[   8794.43835225   90867.89231721  226733.3134848   369463.64619913\n",
      "  525280.86997642  689476.64921385  916547.97468549    9758.28271885\n",
      "   96630.61536201  237344.63294666  379001.46816435  520388.11246455\n",
      "  666818.26072288  813733.56109982  989222.98616912    9100.00895267\n",
      "  102559.73158436  258281.45763823  403458.12467238  554031.6918212\n",
      "  697189.37898816  829927.72845945  976651.37803534    6062.28512336\n",
      "  104739.02533915  265607.34873015  425107.95946042  582654.13029744\n",
      "  737535.28367507  888907.44429225 1031484.62461668]\n",
      "0       10200\n",
      "1      100100\n",
      "2      250300\n",
      "3      399300\n",
      "4      549300\n",
      "5      700400\n",
      "6      849400\n",
      "7        9600\n",
      "8       99800\n",
      "9      250200\n",
      "10     399400\n",
      "11     549400\n",
      "12     699500\n",
      "13     849500\n",
      "14     999700\n",
      "15      10200\n",
      "16     100300\n",
      "17     249700\n",
      "18     400100\n",
      "19     549500\n",
      "20     700300\n",
      "21     850400\n",
      "22    1000400\n",
      "23      10300\n",
      "24      99800\n",
      "25     249700\n",
      "26     399500\n",
      "27     550300\n",
      "28     699200\n",
      "29     850400\n",
      "30    1000500\n",
      "Name: pressure, dtype: int64\n",
      "[0.014 0.136 0.306 0.448 0.57  0.672 0.786 0.01  0.095 0.218 0.325 0.417\n",
      " 0.499 0.57  0.643 0.005 0.055 0.133 0.2   0.264 0.32  0.368 0.417 0.002\n",
      " 0.034 0.084 0.131 0.175 0.216 0.254 0.288]\n",
      "0     0.014\n",
      "1     0.136\n",
      "2     0.306\n",
      "3     0.448\n",
      "4     0.570\n",
      "5     0.672\n",
      "6     0.786\n",
      "7     0.010\n",
      "8     0.095\n",
      "9     0.218\n",
      "10    0.325\n",
      "11    0.417\n",
      "12    0.499\n",
      "13    0.570\n",
      "14    0.643\n",
      "15    0.005\n",
      "16    0.055\n",
      "17    0.133\n",
      "18    0.200\n",
      "19    0.264\n",
      "20    0.320\n",
      "21    0.368\n",
      "22    0.417\n",
      "23    0.002\n",
      "24    0.034\n",
      "25    0.084\n",
      "26    0.131\n",
      "27    0.175\n",
      "28    0.216\n",
      "29    0.254\n",
      "30    0.288\n",
      "Name: x_R32, dtype: float64\n"
     ]
    }
   ],
   "source": [
    "print(P)\n",
    "print(data[\"pressure\"])\n",
    "print(R32_x)\n",
    "print(data[\"x_R32\"])"
   ]
  },
  {
   "cell_type": "code",
   "execution_count": 10,
   "id": "fb246dc2",
   "metadata": {},
   "outputs": [
    {
     "data": {
      "image/png": "[encoded data removed]",
      "text/plain": [
       "<Figure size 432x288 with 1 Axes>"
      ]
     },
     "metadata": {
      "needs_background": "light"
     },
     "output_type": "display_data"
    }
   ],
   "source": [
    "# for i in range(len(P)):\n",
    "#     P[i] = P[i]*1e6\n",
    "P1= np.zeros((len(P)))\n",
    "\n",
    "for i in range(len(P)):\n",
    "    P1[i] = P[i]/1e6\n",
    "\n",
    "plt.plot(R32_x[0:7],P1[0:7],\"b*-\",label=\"T= 283 K\")  \n",
    "plt.plot(R32_x[7:15],P1[7:15],\"r*-\",label=\"T= 298 K\") \n",
    "plt.plot(R32_x[15:23],P1[15:23],\"c*-\",label=\"T= 323 K\") \n",
    "plt.plot(R32_x[23:31],P1[23:31],\"m*-\",label=\"T= 348 K\")\n",
    "plt.plot(data[\"x_R32\"],data[\"pressure\"]/1e6,\"*\",color='orange',label=\"data\")  \n",
    "plt.title('Isotherm R32-[emim][TF2N]')\n",
    "plt.ylabel('Pressure (MPa)')\n",
    "plt.xlabel('x R32')\n",
    "plt.grid(True)\n",
    "plt.ylim(0,1.110000)\n",
    "plt.legend()\n",
    "plt.show()"
   ]
  },
  {
   "cell_type": "code",
   "execution_count": 7,
   "id": "b444da0a",
   "metadata": {},
   "outputs": [
    {
     "name": "stdout",
     "output_type": "stream",
     "text": [
      "\n",
      "====================================================================================\n",
      "Unit : fs.F101                                                             Time: 0.0\n",
      "------------------------------------------------------------------------------------\n",
      "    Unit Performance\n",
      "\n",
      "    Variables: \n",
      "\n",
      "    Key             : Value   : Fixed : Bounds\n",
      "          Heat Duty : -169.39 : False : (None, None)\n",
      "    Pressure Change :  30985. : False : (None, None)\n",
      "\n",
      "------------------------------------------------------------------------------------\n",
      "    Stream Table\n",
      "                               Inlet    Vapor Outlet  Liquid Outlet\n",
      "    flow_mol                    1.0000      0.14045       0.85955  \n",
      "    mole_frac_comp emimTf2N    0.61200   1.0000e-08       0.71200  \n",
      "    mole_frac_comp R32         0.38800       1.0000       0.28800  \n",
      "    temperature                 348.05       348.05        348.05  \n",
      "    pressure                1.0005e+06   1.0315e+06    1.0315e+06  \n",
      "====================================================================================\n"
     ]
    }
   ],
   "source": [
    "m.fs.F101.report()"
   ]
  },
  {
   "cell_type": "code",
   "execution_count": 8,
   "id": "c64f5082",
   "metadata": {},
   "outputs": [
    {
     "name": "stdout",
     "output_type": "stream",
     "text": [
      "[0.00879444 0.09086789 0.22673331 0.36946365 0.52528087 0.68947665\n",
      " 0.91654797 0.00975828 0.09663062 0.23734463 0.37900147 0.52038811\n",
      " 0.66681826 0.81373356 0.98922299 0.00910001 0.10255973 0.25828146\n",
      " 0.40345812 0.55403169 0.69718938 0.82992773 0.97665138 0.00606229\n",
      " 0.10473903 0.26560735 0.42510796 0.58265413 0.73753528 0.88890744\n",
      " 1.03148462]\n"
     ]
    }
   ],
   "source": [
    "print(P1)"
   ]
  },
  {
   "cell_type": "code",
   "execution_count": 9,
   "id": "84ad8c6a",
   "metadata": {},
   "outputs": [],
   "source": [
    "df = pd.DataFrame(P)\n",
    "df.to_csv('P_.csv')"
   ]
  },
  {
   "cell_type": "code",
   "execution_count": null,
   "id": "42faef6f",
   "metadata": {},
   "outputs": [],
   "source": []
  }
 ],
 "metadata": {
  "kernelspec": {
   "display_name": "Python 3 (ipykernel)",
   "language": "python",
   "name": "python3"
  },
  "language_info": {
   "codemirror_mode": {
    "name": "ipython",
    "version": 3
   },
   "file_extension": ".py",
   "mimetype": "text/x-python",
   "name": "python",
   "nbconvert_exporter": "python",
   "pygments_lexer": "ipython3",
   "version": "3.9.6"
  }
 },
 "nbformat": 4,
 "nbformat_minor": 5
}
