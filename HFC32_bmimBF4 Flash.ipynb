{
 "cells": [
  {
   "cell_type": "markdown",
   "id": "strong-hometown",
   "metadata": {},
   "source": [
    "# Flash Model for [R32][bmim_BF4]\n",
    "### Gabriela Franco\n",
    "### 03/23/21"
   ]
  },
  {
   "cell_type": "code",
   "execution_count": null,
   "id": "silent-northwest",
   "metadata": {},
   "outputs": [],
   "source": [
    "# import functions\n",
    "import idaes\n",
    "import matplotlib.pyplot as plt\n",
    "import pandas as pd\n",
    "import numpy as np\n",
    "from pyomo.environ import (Constraint,\n",
    "                           Var,\n",
    "                           ConcreteModel,\n",
    "                           Expression,\n",
    "                           Param,\n",
    "                           Objective,\n",
    "                           SolverFactory,\n",
    "                           TransformationFactory,\n",
    "                           value)\n",
    "\n",
    "from idaes.core import FlowsheetBlock\n",
    "import idaes.logger as idaeslog\n",
    "from pyomo.opt import TerminationCondition, SolverStatus\n",
    "# Import the Generic Parameter Block\n",
    "from idaes.generic_models.properties.core.generic.generic_property import (\n",
    "        GenericParameterBlock)\n",
    "# Import unit models from the model library\n",
    "from idaes.generic_models.unit_models import Flash\n",
    "# Import degrees of freedom tool\n",
    "from idaes.core.util.model_statistics import degrees_of_freedom\n",
    "# parmest (binary_param2)\n",
    "from binary_param2 import binary_params_peng"
   ]
  },
  {
   "cell_type": "code",
   "execution_count": null,
   "id": "occupational-slovenia",
   "metadata": {},
   "outputs": [],
   "source": [
    "# from HFC32_emimTf2N_PR import configuration\n",
    "from HFC32_bmimBF4_PR import configuration"
   ]
  },
  {
   "cell_type": "code",
   "execution_count": null,
   "id": "opposite-discretion",
   "metadata": {},
   "outputs": [],
   "source": [
    "#need to make excel csv for 125\n",
    "data = pd.read_csv('R32_bmimBF4.csv')\n",
    "# print(data)"
   ]
  },
  {
   "cell_type": "code",
   "execution_count": null,
   "id": "anonymous-restoration",
   "metadata": {},
   "outputs": [],
   "source": [
    "# from HFC32_emimTf2N_PR import configuration\n",
    "binary_params_peng('R32_bmimBF4.csv',configuration, 'R32', 'bmimBF4', \"x_R32\", \"x_bmimBF4\", \n",
    "    init_temp = 298.2, init_press = 399900, init_x_c1 = 0.272 , init_x_c2 = 0.728 ,\n",
    "    init_kappa_2_1 = 0.097, init_kappa_1_2 =  0.02, eps = 0.1, scaling_fac = 1e-9, read=True)"
   ]
  },
  {
   "cell_type": "code",
   "execution_count": null,
   "id": "previous-physiology",
   "metadata": {},
   "outputs": [],
   "source": [
    "m = ConcreteModel()\n",
    "m.fs = FlowsheetBlock(default={\"dynamic\": False})\n",
    "m.fs.properties = GenericParameterBlock(default=configuration)\n",
    "m.fs.F101 = Flash(default={\"property_package\": m.fs.properties,\n",
    "                           \"has_heat_transfer\": True,\n",
    "                           \"has_pressure_change\": True})\n",
    "DOF_initial = degrees_of_freedom(m)\n",
    "print('The initial DOF is {0}'.format(DOF_initial))"
   ]
  },
  {
   "cell_type": "code",
   "execution_count": null,
   "id": "abroad-guest",
   "metadata": {},
   "outputs": [],
   "source": [
    "def calc_outlet_xP(data,k21,k12,verbose=False):\n",
    "    # create zeros arrays to be filled with x1 and P1\n",
    "    R32_x = np.zeros((len(data)))\n",
    "    P = np.zeros((len(data)))\n",
    "    \n",
    "    # model constraints\n",
    "    m.fs.liq = Param(mutable=True,default=0.040)\n",
    "    m.fs.liquid = Constraint(expr=m.fs.F101.liq_outlet.mole_frac_comp[0, \"bmimBF4\"] == m.fs.liq)\n",
    "\n",
    "    for i in range(len(data)):\n",
    "        m.fs.liq = data[\"x_bmimBF4\"].iloc[i]\n",
    "        m.fs.F101.inlet.flow_mol.fix(1) \n",
    "        m.fs.F101.inlet.temperature.fix(float(data[\"temperature\"].iloc[i]))\n",
    "        m.fs.F101.inlet.pressure.fix(float(data[\"pressure\"].iloc[i]))\n",
    "        m.fs.F101.inlet.mole_frac_comp[0,'R32'].fix(float(data[\"x_R32\"].iloc[i])+0.1)\n",
    "        m.fs.F101.inlet.mole_frac_comp[0,'bmimBF4'].fix(float(1-(data[\"x_R32\"].iloc[i]+0.1)))\n",
    "        m.fs.F101.vap_outlet.temperature.fix(float(data[\"temperature\"].iloc[i]))\n",
    "        m.fs.properties.PR_kappa['bmimBF4', 'R32'].fix(k21) # (-0.20093)\n",
    "        m.fs.properties.PR_kappa['R32', 'bmimBF4'].fix(k12) # (-0.05619)\n",
    "\n",
    "        if verbose:\n",
    "            DOF_final = degrees_of_freedom(m)\n",
    "            print(\"The final DOF is {0}\".format(DOF_final))\n",
    "\n",
    "        # solver\n",
    "        m.fs.F101.initialize(outlvl=idaeslog.CRITICAL)\n",
    "        solver = SolverFactory('ipopt')\n",
    "        solver.options = {'tol': 1e-6}\n",
    "        status = solver.solve(m, tee = False)\n",
    "    #     m.fs.F101.report()\n",
    "        if (status.solver.status == SolverStatus.ok) and (status.solver.termination_condition == TerminationCondition.optimal):\n",
    "            R32_x[i] = value(m.fs.F101.liq_outlet.mole_frac_comp[0,'R32']) \n",
    "            P[i] = value(m.fs.F101.vap_outlet.pressure[0])\n",
    "        else:\n",
    "            print('Infeasible.')\n",
    "    return(R32_x,P)"
   ]
  },
  {
   "cell_type": "code",
   "execution_count": null,
   "id": "important-blanket",
   "metadata": {},
   "outputs": [],
   "source": [
    "# print(data)\n",
    "data_283= data[0:7]\n",
    "data_298 = data[7:15]\n",
    "data_323 = data[15:23]\n",
    "data_348 = data[23:]"
   ]
  },
  {
   "cell_type": "code",
   "execution_count": null,
   "id": "dental-brighton",
   "metadata": {},
   "outputs": [],
   "source": [
    "k12= 0.01971268539125869\n",
    "k21= 0.05731833242289427\n",
    "R32_x,P= calc_outlet_xP(data,k21,k12, verbose=True)"
   ]
  },
  {
   "cell_type": "code",
   "execution_count": null,
   "id": "equal-symphony",
   "metadata": {},
   "outputs": [],
   "source": [
    "# plots with data - model as lines --- need to make this into a function that splits up the T's\n",
    "plt.plot(R32_x[0:7],P[0:7],\"b*-\",label=\"T= 283 K\")  \n",
    "plt.plot(R32_x[7:15],P[7:15],\"r*-\",label=\"T= 298 K\") \n",
    "plt.plot(R32_x[15:23],P[15:23],\"c*-\",label=\"T= 323 K\") \n",
    "plt.plot(R32_x[23:],P[23:],\"m*-\",label=\"T= 348 K\")\n",
    "plt.plot(data[\"x_R32\"],data[\"pressure\"],\"*\",color='orange',label=\"data\")  \n",
    "plt.title('Isotherm [R32][bmimBF4]')\n",
    "plt.ylabel('Pressure (Pa)')\n",
    "plt.xlabel('x R32')\n",
    "plt.grid(True)\n",
    "plt.ylim(0,)\n",
    "plt.legend()\n",
    "plt.show()\n",
    "print('K12=0.020')\n",
    "print('K21=0.057')"
   ]
  },
  {
   "cell_type": "markdown",
   "id": "earned-teaching",
   "metadata": {},
   "source": [
    "## Sensitivity @ 298 K "
   ]
  },
  {
   "cell_type": "code",
   "execution_count": null,
   "id": "beginning-advertising",
   "metadata": {},
   "outputs": [],
   "source": [
    "# plot function to see if it works - works when i store value, plot, store value 2, plot 2 etc\n",
    "def plot_sens_analysis(data,kappa21,kappa12,T_label):\n",
    "    x1,P1= calc_outlet_xP(data, kappa21[0],kappa12[0])\n",
    "    plt.plot(x1,P1,\"b+\",label=\"K21= \"+str(kappa21[0])+ \"K12= \"+ str(kappa12[0]))\n",
    "    x2,P2= calc_outlet_xP(data,kappa21[0],kappa12[1])\n",
    "    plt.plot(x2,P2,\"g+\",label=\"K21= \"+str(kappa21[0])+ \"K12= \"+ str(kappa12[1]))\n",
    "    x3,P3= calc_outlet_xP(data,kappa21[0],kappa12[2])\n",
    "    plt.plot(x3,P3,\"m+\",label=\"K21= \"+str(kappa21[0])+ \"K12= \"+ str(kappa12[2]))\n",
    "    x4,P4= calc_outlet_xP(data,kappa21[0],kappa12[3])\n",
    "    plt.plot(x4,P4,\"c+\",label=\"K21= \"+str(kappa21[0])+ \"K12= \"+ str(kappa12[3]))\n",
    "    x5,P5= calc_outlet_xP(data,kappa21[1],kappa12[0])\n",
    "    plt.plot(x5,P5,\"b*\",label=\"K21= \"+str(kappa21[1])+ \"K12= \"+ str(kappa12[0]))\n",
    "    x6,P6= calc_outlet_xP(data,kappa21[1],kappa12[1])\n",
    "    plt.plot(x6,P6,\"g*-\",label=\"K21= \"+str(kappa21[1])+ \"K12= \"+ str(kappa12[1]))\n",
    "    x7,P7= calc_outlet_xP(data,kappa21[1],kappa12[2])\n",
    "    plt.plot(x7,P7,\"m*\",label=\"K21= \"+str(kappa21[1])+ \"K12= \"+ str(kappa12[2]))\n",
    "    x8,P8= calc_outlet_xP(data,kappa21[1],kappa12[3])\n",
    "    plt.plot(x8,P8,\"c*\",label=\"K21= \"+str(kappa21[1])+ \"K12= \"+ str(kappa12[3]))\n",
    "    x9,P9= calc_outlet_xP(data,kappa21[2],kappa12[0])\n",
    "    plt.plot(x9,P9,\"b^\",label=\"K21= \"+str(kappa21[2])+ \"K12= \"+ str(kappa12[0]))\n",
    "    x10,P10= calc_outlet_xP(data,kappa21[2],kappa12[1])\n",
    "    plt.plot(x10,P10,\"g^\",label=\"K21= \"+str(kappa21[2])+ \"K12= \"+ str(kappa12[1]))\n",
    "    x11,P11= calc_outlet_xP(data,kappa21[2],kappa12[2])\n",
    "    plt.plot(x11,P11,\"m^\",label=\"K21= \"+str(kappa21[2])+ \"K12= \"+ str(kappa12[2]))\n",
    "    x12,P12= calc_outlet_xP(data,kappa21[2],kappa12[3])\n",
    "    plt.plot(x12,P12,\"c^\",label=\"K21= \"+str(kappa21[2])+ \"K12= \"+ str(kappa12[3]))\n",
    "    x13,P13= calc_outlet_xP(data,kappa21[3],kappa12[0])\n",
    "    plt.plot(x13,P13,\"b>\",label=\"K21= \"+str(kappa21[3])+ \"K12= \"+ str(kappa12[0]))\n",
    "    x14,P14= calc_outlet_xP(data,kappa21[3],kappa12[1])\n",
    "    plt.plot(x14,P14,\"g>\",label=\"K21= \"+str(kappa21[3])+ \"K12= \"+ str(kappa12[1]))\n",
    "    x15,P15= calc_outlet_xP(data,kappa21[3],kappa12[2])\n",
    "    plt.plot(x15,P15,\"m>\",label=\"K21= \"+str(kappa21[3])+ \"K12= \"+ str(kappa12[2]))\n",
    "    x16,P16= calc_outlet_xP(data,kappa21[3],kappa12[3])\n",
    "    plt.plot(x16,P16,\"c>\",label=\"K21= \"+str(kappa21[3])+ \"K12= \"+ str(kappa12[3]))\n",
    "    # plot data and configuration\n",
    "    plt.plot(data[\"x_R32\"],data[\"pressure\"],\"r.\",label=\"data\")  \n",
    "    plt.title('Isotherm [R32][bmimBF4] at '+ T_label)\n",
    "    plt.ylabel('Pressure (Pa)')\n",
    "    plt.xlabel('x R32')\n",
    "    plt.grid(True)\n",
    "    plt.legend(bbox_to_anchor=(1.05, 1))\n",
    "    plt.show()"
   ]
  },
  {
   "cell_type": "code",
   "execution_count": null,
   "id": "conditional-requirement",
   "metadata": {},
   "outputs": [],
   "source": [
    "kappa21= np.array([0.10,0.057,0.15,0.2])\n",
    "kappa12= np.array([-0.010,0.020,0.050,0.090])\n",
    "plot_sens_analysis(data_298,kappa21,kappa12, \"T=298 K\")"
   ]
  },
  {
   "cell_type": "markdown",
   "id": "congressional-negotiation",
   "metadata": {},
   "source": [
    "## Sensitivity Analysis @ 348K"
   ]
  },
  {
   "cell_type": "code",
   "execution_count": null,
   "id": "massive-world",
   "metadata": {},
   "outputs": [],
   "source": [
    "kappa21= np.array([0.15,0.095,0.085,0.057])\n",
    "kappa12= np.array([0.050,0.040,0.030,0.020])\n",
    "plot_sens_analysis(data_348,kappa21,kappa12, \"T=348 K\")"
   ]
  },
  {
   "cell_type": "markdown",
   "id": "institutional-authority",
   "metadata": {},
   "source": [
    "# Isotherm Plot (Post Sensitivity Analysis)\n",
    "### analysis at 348 K"
   ]
  },
  {
   "cell_type": "code",
   "execution_count": null,
   "id": "private-brick",
   "metadata": {},
   "outputs": [],
   "source": [
    "k12= 0.04\n",
    "k21= 0.095\n",
    "R32_x,P= calc_outlet_xP(data,k21,k12, verbose=True)\n",
    "\n",
    "\n",
    "# plots with data - model as lines --- need to make this into a function that splits up the T's\n",
    "plt.plot(R32_x[0:7],P[0:7],\"b*-\",label=\"T= 283 K\")  \n",
    "plt.plot(R32_x[7:15],P[7:15],\"r*-\",label=\"T= 298 K\") \n",
    "plt.plot(R32_x[15:23],P[15:23],\"c*-\",label=\"T= 323 K\") \n",
    "plt.plot(R32_x[23:],P[23:],\"m*-\",label=\"T= 348 K\")\n",
    "plt.plot(data[\"x_R32\"],data[\"pressure\"],\"*\",color='orange',label=\"data\")  \n",
    "plt.title('Isotherm [R32][bmimBF4]')\n",
    "plt.ylabel('Pressure (Pa)')\n",
    "plt.xlabel('x R32')\n",
    "plt.grid(True)\n",
    "plt.ylim(0,)\n",
    "plt.legend()\n",
    "plt.show()\n",
    "print('K12=0.040')\n",
    "print('K21=0.095')"
   ]
  }
 ],
 "metadata": {
  "kernelspec": {
   "display_name": "Python 3",
   "language": "python",
   "name": "python3"
  },
  "language_info": {
   "codemirror_mode": {
    "name": "ipython",
    "version": 3
   },
   "file_extension": ".py",
   "mimetype": "text/x-python",
   "name": "python",
   "nbconvert_exporter": "python",
   "pygments_lexer": "ipython3",
   "version": "3.9.2"
  }
 },
 "nbformat": 4,
 "nbformat_minor": 5
}
