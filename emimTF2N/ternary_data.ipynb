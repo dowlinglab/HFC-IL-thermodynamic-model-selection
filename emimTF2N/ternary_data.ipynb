{
 "cells": [
  {
   "cell_type": "code",
   "execution_count": 1,
   "metadata": {},
   "outputs": [],
   "source": [
    "from pyomo.environ import (Constraint,\n",
    "                           Var,\n",
    "                           ConcreteModel,\n",
    "                           Expression,\n",
    "                           Param,\n",
    "                           Objective,\n",
    "                           SolverFactory,\n",
    "                           TransformationFactory,\n",
    "                           value)\n",
    "\n",
    "from pyomo.network import Arc, SequentialDecomposition\n",
    "\n",
    "from idaes.core.util.initialization import propagate_state\n",
    "\n",
    "# Import plotting functions\n",
    "import matplotlib.pyplot as plt\n",
    "\n",
    "# Import numpy library \n",
    "import numpy as np\n",
    "\n",
    "# Import the main FlowsheetBlock from IDAES. The flowsheet block will contain the unit model\n",
    "from idaes.core import FlowsheetBlock\n",
    "\n",
    "import idaes.logger as idaeslog\n",
    "from pyomo.opt import TerminationCondition, SolverStatus\n",
    "\n",
    "# Import the degrees_of_freedom function from the idaes.core.util.model_statistics package\n",
    "# DOF = Number of Model Variables - Number of Model Constraints\n",
    "from idaes.core.util.model_statistics import degrees_of_freedom\n",
    "\n",
    "# Import the Generic Parameter Block\n",
    "from idaes.generic_models.properties.core.generic.generic_property import (\n",
    "        GenericParameterBlock)\n",
    "\n",
    "# Import unit models from the model library\n",
    "from idaes.generic_models.unit_models import Flash"
   ]
  },
  {
   "cell_type": "code",
   "execution_count": 2,
   "metadata": {},
   "outputs": [],
   "source": [
    "from HFCS_emimTF2N_PR import configuration"
   ]
  },
  {
   "cell_type": "code",
   "execution_count": 3,
   "metadata": {},
   "outputs": [],
   "source": [
    "# Create the ConcreteModel and the FlowsheetBlock, and attach the flowsheet block to it.\n",
    "m = ConcreteModel()\n",
    "\n",
    "m.fs = FlowsheetBlock(default={\"dynamic\": False}) \n",
    "\n",
    "# Add properties parameter blocks to the flowsheet with specifications\n",
    "m.fs.props = GenericParameterBlock(default=configuration)"
   ]
  },
  {
   "cell_type": "code",
   "execution_count": 4,
   "metadata": {},
   "outputs": [
    {
     "name": "stdout",
     "output_type": "stream",
     "text": [
      "The initial DOF is 8\n"
     ]
    }
   ],
   "source": [
    "m.fs.F101 = Flash(default={\"property_package\": m.fs.props,\n",
    "                               \"has_heat_transfer\": True,\n",
    "                               \"has_pressure_change\": True})\n",
    "\n",
    "# Call the degrees_of_freedom function, get intitial DOF\n",
    "DOF_initial = degrees_of_freedom(m)\n",
    "print(\"The initial DOF is {0}\".format(DOF_initial))"
   ]
  },
  {
   "cell_type": "code",
   "execution_count": 5,
   "metadata": {},
   "outputs": [],
   "source": [
    "solver = SolverFactory('ipopt')\n",
    "solver.options = {'tol': 1e-6}"
   ]
  },
  {
   "cell_type": "code",
   "execution_count": 7,
   "metadata": {},
   "outputs": [
    {
     "name": "stdout",
     "output_type": "stream",
     "text": [
      "The final DOF is 0\n"
     ]
    }
   ],
   "source": [
    "# Fix Heater H101 inlet conditions\n",
    "m.fs.F101.inlet.mole_frac_comp[0, \"R32\"].fix(0.5)\n",
    "m.fs.F101.inlet.mole_frac_comp[0, \"R125\"].fix(0.5)\n",
    "m.fs.F101.inlet.mole_frac_comp[0, \"emimTf2N\"].fix(0.001)\n",
    "\n",
    "m.fs.F101.inlet.flow_mol[0].fix(1)\n",
    "m.fs.F101.inlet.temperature.fix(320)\n",
    "m.fs.F101.inlet.pressure.fix(500000)\n",
    "\n",
    "# Fix F101 Flash outlet conditions\n",
    "m.fs.F101.vap_outlet.temperature.fix(298)\n",
    "m.fs.F101.deltaP.fix(0)\n",
    "\n",
    "DOF_final = degrees_of_freedom(m)\n",
    "print(\"The final DOF is {0}\".format(DOF_final))"
   ]
  },
  {
   "cell_type": "code",
   "execution_count": 8,
   "metadata": {},
   "outputs": [
    {
     "name": "stdout",
     "output_type": "stream",
     "text": [
      "2021-03-22 15:27:38 [INFO] idaes.init.fs.F101.control_volume.properties_in: Starting initialization\n",
      "2021-03-22 15:27:38 [INFO] idaes.init.fs.F101.control_volume.properties_in: Dew and bubble point initialization: optimal - Optimal Solution Found.\n",
      "2021-03-22 15:27:38 [INFO] idaes.init.fs.F101.control_volume.properties_in: Equilibrium temperature initialization completed.\n",
      "2021-03-22 15:27:38 [INFO] idaes.init.fs.F101.control_volume.properties_in: State variable initialization completed.\n",
      "WARNING: Loading a SolverResults object with a warning status into\n",
      "    model.name=\"SimpleBlock\";\n",
      "      - termination condition: infeasible\n",
      "      - message from solver: Ipopt 3.13.2\\x3a Converged to a locally\n",
      "          infeasible point. Problem may be infeasible.\n",
      "2021-03-22 15:27:38 [INFO] idaes.init.fs.F101.control_volume.properties_in: Phase equilibrium initialization: infeasible - Converged to a locally infeasible point. Problem may be infeasible..\n",
      "2021-03-22 15:27:39 [INFO] idaes.init.fs.F101.control_volume.properties_in: Property initialization: optimal - Optimal Solution Found.\n",
      "2021-03-22 15:27:39 [INFO] idaes.init.fs.F101.control_volume.properties_out: Starting initialization\n",
      "2021-03-22 15:27:39 [INFO] idaes.init.fs.F101.control_volume.properties_out: Dew and bubble point initialization: optimal - Optimal Solution Found.\n",
      "2021-03-22 15:27:39 [INFO] idaes.init.fs.F101.control_volume.properties_out: Equilibrium temperature initialization completed.\n",
      "2021-03-22 15:27:39 [INFO] idaes.init.fs.F101.control_volume.properties_out: State variable initialization completed.\n",
      "2021-03-22 15:27:40 [INFO] idaes.init.fs.F101.control_volume.properties_out: Phase equilibrium initialization: optimal - Optimal Solution Found.\n",
      "2021-03-22 15:27:40 [INFO] idaes.init.fs.F101.control_volume.properties_out: Property initialization: optimal - Optimal Solution Found.\n",
      "2021-03-22 15:27:40 [INFO] idaes.init.fs.F101.control_volume.properties_out: State released.\n",
      "2021-03-22 15:27:40 [INFO] idaes.init.fs.F101.control_volume: Initialization Complete\n",
      "2021-03-22 15:27:40 [INFO] idaes.init.fs.F101: Initialization Step 1 Complete.\n",
      "2021-03-22 15:27:41 [INFO] idaes.init.fs.F101: Initialization Step 2 optimal - Optimal Solution Found.\n",
      "2021-03-22 15:27:41 [INFO] idaes.init.fs.F101.control_volume.properties_in: State released.\n",
      "2021-03-22 15:27:41 [INFO] idaes.init.fs.F101: Initialization Complete: optimal - Optimal Solution Found\n"
     ]
    }
   ],
   "source": [
    "m.fs.F101.initialize(outlvl=idaeslog.INFO_HIGH)"
   ]
  },
  {
   "cell_type": "code",
   "execution_count": 9,
   "metadata": {},
   "outputs": [
    {
     "name": "stdout",
     "output_type": "stream",
     "text": [
      "Ipopt 3.13.2: tol=1e-06\n",
      "\n",
      "\n",
      "******************************************************************************\n",
      "This program contains Ipopt, a library for large-scale nonlinear optimization.\n",
      " Ipopt is released as open source code under the Eclipse Public License (EPL).\n",
      "         For more information visit http://projects.coin-or.org/Ipopt\n",
      "\n",
      "This version of Ipopt was compiled from source code available at\n",
      "    https://github.com/IDAES/Ipopt as part of the Institute for the Design of\n",
      "    Advanced Energy Systems Process Systems Engineering Framework (IDAES PSE\n",
      "    Framework) Copyright (c) 2018-2019. See https://github.com/IDAES/idaes-pse.\n",
      "\n",
      "This version of Ipopt was compiled using HSL, a collection of Fortran codes\n",
      "    for large-scale scientific computation.  All technical papers, sales and\n",
      "    publicity material resulting from use of the HSL codes within IPOPT must\n",
      "    contain the following acknowledgement:\n",
      "        HSL, a collection of Fortran codes for large-scale scientific\n",
      "        computation. See http://www.hsl.rl.ac.uk.\n",
      "******************************************************************************\n",
      "\n",
      "This is Ipopt version 3.13.2, running with linear solver ma27.\n",
      "\n",
      "Number of nonzeros in equality constraint Jacobian...:      155\n",
      "Number of nonzeros in inequality constraint Jacobian.:        0\n",
      "Number of nonzeros in Lagrangian Hessian.............:       94\n",
      "\n",
      "Total number of variables............................:       36\n",
      "                     variables with only lower bounds:       23\n",
      "                variables with lower and upper bounds:        8\n",
      "                     variables with only upper bounds:        0\n",
      "Total number of equality constraints.................:       36\n",
      "Total number of inequality constraints...............:        0\n",
      "        inequality constraints with only lower bounds:        0\n",
      "   inequality constraints with lower and upper bounds:        0\n",
      "        inequality constraints with only upper bounds:        0\n",
      "\n",
      "iter    objective    inf_pr   inf_du lg(mu)  ||d||  lg(rg) alpha_du alpha_pr  ls\n",
      "   0  0.0000000e+00 4.11e+06 1.00e+00  -1.0 0.00e+00    -  0.00e+00 0.00e+00   0\n",
      "   1  0.0000000e+00 4.11e+04 2.72e-01  -1.0 1.62e-02    -  9.90e-01 9.90e-01h  1\n",
      "   2  0.0000000e+00 4.07e+02 9.89e-02  -1.0 1.60e-02    -  9.90e-01 9.90e-01h  1\n",
      "   3  0.0000000e+00 4.77e-07 1.00e+03  -1.0 1.62e-04    -  9.90e-01 1.00e+00h  1\n",
      "\n",
      "Number of Iterations....: 3\n",
      "\n",
      "                                   (scaled)                 (unscaled)\n",
      "Objective...............:   0.0000000000000000e+00    0.0000000000000000e+00\n",
      "Dual infeasibility......:   0.0000000000000000e+00    0.0000000000000000e+00\n",
      "Constraint violation....:   1.3881756855127492e-11    4.7683715820312500e-07\n",
      "Complementarity.........:   0.0000000000000000e+00    0.0000000000000000e+00\n",
      "Overall NLP error.......:   1.3881756855127492e-11    4.7683715820312500e-07\n",
      "\n",
      "\n",
      "Number of objective function evaluations             = 4\n",
      "Number of objective gradient evaluations             = 4\n",
      "Number of equality constraint evaluations            = 4\n",
      "Number of inequality constraint evaluations          = 0\n",
      "Number of equality constraint Jacobian evaluations   = 4\n",
      "Number of inequality constraint Jacobian evaluations = 0\n",
      "Number of Lagrangian Hessian evaluations             = 3\n",
      "Total CPU secs in IPOPT (w/o function evaluations)   =      0.004\n",
      "Total CPU secs in NLP function evaluations           =      0.009\n",
      "\n",
      "EXIT: Optimal Solution Found.\n"
     ]
    }
   ],
   "source": [
    "result = solver.solve(m, tee=True)"
   ]
  },
  {
   "cell_type": "code",
   "execution_count": 10,
   "metadata": {},
   "outputs": [
    {
     "name": "stdout",
     "output_type": "stream",
     "text": [
      "\n",
      "====================================================================================\n",
      "Unit : fs.F101                                                             Time: 0.0\n",
      "------------------------------------------------------------------------------------\n",
      "    Unit Performance\n",
      "\n",
      "    Variables: \n",
      "\n",
      "    Key             : Value       : Fixed : Bounds\n",
      "          Heat Duty : -2.9570e+09 : False : (None, None)\n",
      "    Pressure Change :      0.0000 :  True : (None, None)\n",
      "\n",
      "------------------------------------------------------------------------------------\n",
      "    Stream Table\n",
      "                               Inlet    Vapor Outlet  Liquid Outlet\n",
      "    flow_mol                    1.0000      0.99956     0.0014389  \n",
      "    mole_frac_comp emimTf2N  0.0010000   1.0000e-08       0.69500  \n",
      "    mole_frac_comp R32         0.50000      0.49997       0.17307  \n",
      "    mole_frac_comp R125        0.50000      0.50003       0.13193  \n",
      "    temperature                 320.00       298.00        298.00  \n",
      "    pressure                5.0000e+05   5.0000e+05    5.0000e+05  \n",
      "====================================================================================\n"
     ]
    }
   ],
   "source": [
    "m.fs.F101.report()"
   ]
  },
  {
   "cell_type": "code",
   "execution_count": 17,
   "metadata": {},
   "outputs": [
    {
     "name": "stdout",
     "output_type": "stream",
     "text": [
      "WARNING: Loading a SolverResults object with a warning status into\n",
      "    model.name=\"SimpleBlock\";\n",
      "      - termination condition: infeasible\n",
      "      - message from solver: Ipopt 3.13.2\\x3a Converged to a locally\n",
      "          infeasible point. Problem may be infeasible.\n",
      "WARNING: Loading a SolverResults object with a warning status into\n",
      "    model.name=\"SimpleBlock\";\n",
      "      - termination condition: infeasible\n",
      "      - message from solver: Ipopt 3.13.2\\x3a Converged to a locally\n",
      "          infeasible point. Problem may be infeasible.\n",
      "WARNING: Loading a SolverResults object with a warning status into\n",
      "    model.name=\"SimpleBlock\";\n",
      "      - termination condition: infeasible\n",
      "      - message from solver: Ipopt 3.13.2\\x3a Converged to a locally\n",
      "          infeasible point. Problem may be infeasible.\n",
      "WARNING: Loading a SolverResults object with a warning status into\n",
      "    model.name=\"SimpleBlock\";\n",
      "      - termination condition: infeasible\n",
      "      - message from solver: Ipopt 3.13.2\\x3a Converged to a locally\n",
      "          infeasible point. Problem may be infeasible.\n",
      "WARNING: Loading a SolverResults object with a warning status into\n",
      "    model.name=\"SimpleBlock\";\n",
      "      - termination condition: infeasible\n",
      "      - message from solver: Ipopt 3.13.2\\x3a Converged to a locally\n",
      "          infeasible point. Problem may be infeasible.\n",
      "WARNING: Loading a SolverResults object with a warning status into\n",
      "    model.name=\"SimpleBlock\";\n",
      "      - termination condition: infeasible\n",
      "      - message from solver: Ipopt 3.13.2\\x3a Converged to a locally\n",
      "          infeasible point. Problem may be infeasible.\n",
      "WARNING: Loading a SolverResults object with a warning status into\n",
      "    model.name=\"fs.F101\";\n",
      "      - termination condition: infeasible\n",
      "      - message from solver: Ipopt 3.13.2\\x3a Converged to a locally\n",
      "          infeasible point. Problem may be infeasible.\n",
      "WARNING: Loading a SolverResults object with a warning status into\n",
      "    model.name=\"unknown\";\n",
      "      - termination condition: infeasible\n",
      "      - message from solver: Ipopt 3.13.2\\x3a Converged to a locally\n",
      "          infeasible point. Problem may be infeasible.\n",
      "Infeasible.\n",
      "0.9999999987583912\n",
      "1.2416088608320567e-09\n",
      "0.9999999881101879\n",
      "1.1889812129932514e-08\n",
      "0.9691656132075674\n",
      "0.03083438679243259\n",
      "0.8119418473187014\n",
      "0.1880581526812985\n",
      "0.6533693986739121\n",
      "0.346630601326088\n",
      "0.4941337547826351\n",
      "0.5058662452173649\n",
      "0.334525475051577\n",
      "0.665474524948423\n",
      "0.17468765582144907\n",
      "0.8253123441785509\n",
      "0.014698657915708412\n",
      "0.9853013420842917\n"
     ]
    }
   ],
   "source": [
    "IL_z = np.linspace(0.99, 0.01, 10)\n",
    "IL_x = np.zeros((len(IL_z)))\n",
    "IL_y = np.zeros((len(IL_z)))\n",
    "R32_x = np.zeros((len(IL_z)))\n",
    "R32_y = np.zeros((len(IL_z)))\n",
    "R125_x = np.zeros((len(IL_z)))\n",
    "R125_y = np.zeros((len(IL_z))) \n",
    "Z = []\n",
    "\n",
    "for j in range(len(IL_z)):\n",
    "\n",
    "    fract = 1 - IL_z[j]\n",
    "    m.fs.F101.inlet.mole_frac_comp[0, \"R32\"].fix(0.7*fract)\n",
    "    m.fs.F101.inlet.mole_frac_comp[0, \"R125\"].fix(0.3*fract)\n",
    "    m.fs.F101.inlet.mole_frac_comp[0, \"emimTf2N\"].fix(IL_z[j])   \n",
    "                  \n",
    "    m.fs.F101.initialize(outlvl=idaeslog.CRITICAL)              \n",
    "\n",
    "    # solve the model\n",
    "    status = solver.solve(m, tee = False)\n",
    "    # model.display()\n",
    "    # If solution is optimal store the concentration, and calculated temperatures in the created arrays\n",
    "    if (status.solver.status == SolverStatus.ok) and (status.solver.termination_condition == TerminationCondition.optimal):\n",
    "\n",
    "        IL_x[j] = value(m.fs.F101.liq_outlet.mole_frac_comp[0, \"emimTf2N\"])\n",
    "        IL_y[j] = value(m.fs.F101.vap_outlet.mole_frac_comp[0, \"emimTf2N\"])\n",
    "        R32_x[j] = value(m.fs.F101.liq_outlet.mole_frac_comp[0, \"R32\"]) \n",
    "        R32_y[j] = value(m.fs.F101.vap_outlet.mole_frac_comp[0, \"R32\"])\n",
    "        R125_x[j] = value(m.fs.F101.liq_outlet.mole_frac_comp[0, \"R125\"])\n",
    "        R125_y[j] = value(m.fs.F101.vap_outlet.mole_frac_comp[0, \"R125\"])\n",
    "\n",
    "        print(value(m.fs.F101.liq_outlet.flow_mol[0]))\n",
    "        print(value(m.fs.F101.vap_outlet.flow_mol[0]))\n",
    "    else:\n",
    "        print('Infeasible.')\n",
    "\n",
    "    "
   ]
  },
  {
   "cell_type": "code",
   "execution_count": 18,
   "metadata": {},
   "outputs": [
    {
     "name": "stdout",
     "output_type": "stream",
     "text": [
      "IL_x = [0.         0.88111111 0.77222223 0.68443755 0.68286226 0.68193514\n",
      " 0.681327   0.68089815 0.68057979 0.68033422]\n",
      "IL_y = [0.e+00 1.e-08 1.e-08 1.e-08 1.e-08 1.e-08 1.e-08 1.e-08 1.e-08 1.e-08]\n",
      "R32_x = [0.         0.08322222 0.15944444 0.22264798 0.22986697 0.23409518\n",
      " 0.23686053 0.23880667 0.24024936 0.24136101]\n",
      "R32_y = [0.         0.63720924 0.63721752 0.64486135 0.66601887 0.67841814\n",
      " 0.68653039 0.69224083 0.69647472 0.69973752]\n",
      "R125_x = [0.         0.03566667 0.06833333 0.09291448 0.08727077 0.08396968\n",
      " 0.08181248 0.08029518 0.07917085 0.07830477]\n",
      "R125_y = [0.         0.36279076 0.36278248 0.35513865 0.33398113 0.32158186\n",
      " 0.31346961 0.30775917 0.30352528 0.30026248]\n"
     ]
    }
   ],
   "source": [
    "print(\"IL_x =\", IL_x)\n",
    "print(\"IL_y =\", IL_y)\n",
    "print(\"R32_x =\", R32_x)\n",
    "print(\"R32_y =\", R32_y)\n",
    "print(\"R125_x =\", R125_x)\n",
    "print(\"R125_y =\", R125_y)"
   ]
  },
  {
   "cell_type": "code",
   "execution_count": 19,
   "metadata": {},
   "outputs": [
    {
     "name": "stdout",
     "output_type": "stream",
     "text": [
      "[(0.0, 0.0, 0.0), (0.8811111122051064, 0.08322222153438708, 0.0356666662605065), (0.7722222314037995, 0.1594444387638123, 0.06833332983238818), (0.6844375453416611, 0.22264797619996285, 0.09291447845837593), (0.682862259502207, 0.2298669676443588, 0.08727077285343415), (0.6819351448963811, 0.2340951766534412, 0.08396967845017768), (0.6813269957944146, 0.23686052625619633, 0.08181247794938913), (0.680898152054516, 0.23880667273426745, 0.08029517521121657), (0.6805797944326821, 0.24024935637960648, 0.0791708491877115), (0.6803342221682043, 0.24136100534836033, 0.07830477248343545)]\n",
      "[(0.0, 0.0, 0.0), (1e-08, 0.6372092376007292, 0.3627907623992707), (1e-08, 0.6372175151167414, 0.3627824848832586), (1e-08, 0.6448613496761915, 0.3551386503238084), (1e-08, 0.6660188710586836, 0.3339811289413164), (1e-08, 0.6784181356433819, 0.321581864356618), (1e-08, 0.6865303930001111, 0.31346960699988896), (1e-08, 0.6922408336357306, 0.30775916636426937), (1e-08, 0.6964747164557813, 0.30352528354421876), (1e-08, 0.699737519579275, 0.30026248042072495)]\n"
     ]
    }
   ],
   "source": [
    "points_x = []\n",
    "\n",
    "for i in range(len(IL_z)):\n",
    "    points = (IL_x[i], R32_x[i], R125_x[i])\n",
    "    points_x.append(points)\n",
    "    \n",
    "print(points_x)\n",
    "\n",
    "points_y = []\n",
    "\n",
    "for i in range(len(IL_z)):\n",
    "    points = (IL_y[i], R32_y[i], R125_y[i])\n",
    "    points_y.append(points)\n",
    "    \n",
    "print(points_y)"
   ]
  },
  {
   "cell_type": "code",
   "execution_count": 21,
   "metadata": {},
   "outputs": [
    {
     "data": {
      "image/png": "[encoded data removed]",
      "text/plain": [
       "<Figure size 432x288 with 1 Axes>"
      ]
     },
     "metadata": {},
     "output_type": "display_data"
    }
   ],
   "source": [
    "points_x = []\n",
    "\n",
    "for i in range(0,9):\n",
    "    points = (IL_x[i]*100, R32_x[i]*100, R125_x[i]*100)\n",
    "    points_x.append(points)\n",
    "\n",
    "points_y = []\n",
    "\n",
    "for i in range(0,9):\n",
    "    points = (IL_y[i]*100, R32_y[i]*100, R125_y[i]*100)\n",
    "    points_y.append(points)\n",
    "\n",
    "import ternary\n",
    "\n",
    "scale = 100\n",
    "figure, tax = ternary.figure(scale=scale)\n",
    "\n",
    "# Draw Boundary and Gridlines\n",
    "tax.boundary(linewidth=2.0)\n",
    "tax.gridlines(color=\"blue\", multiple=5)\n",
    "\n",
    "# Set Axis labels and Title\n",
    "fontsize = 12\n",
    "offset = 0.14\n",
    "tax.set_title(\"Ternary phase diagram 8 bar\\n\", fontsize=24)\n",
    "tax.left_axis_label(\"R125\", fontsize=fontsize, offset=offset)\n",
    "tax.right_axis_label(\"R32\", fontsize=fontsize, offset=offset)\n",
    "tax.bottom_axis_label(\"IL\", fontsize=fontsize, offset=offset)\n",
    "\n",
    "for i in range(1):\n",
    "    tax.line(points_x[i], points_y[i], linewidth=3., color='green', linestyle=\":\")\n",
    "\n",
    "tax.scatter(points_x, marker='s', color='red', label=\"liquid\")\n",
    "tax.scatter(points_y, marker='s', color='blue', label=\"vapor\")\n",
    "\n",
    "\n",
    "tax.ticks(axis='lbr', multiple=10, linewidth=1, offset=0.025)\n",
    "tax.get_axes().axis('off')\n",
    "tax.clear_matplotlib_ticks()\n",
    "tax.show()"
   ]
  },
  {
   "cell_type": "code",
   "execution_count": null,
   "metadata": {},
   "outputs": [],
   "source": []
  }
 ],
 "metadata": {
  "kernelspec": {
   "display_name": "Python 3",
   "language": "python",
   "name": "python3"
  },
  "language_info": {
   "codemirror_mode": {
    "name": "ipython",
    "version": 3
   },
   "file_extension": ".py",
   "mimetype": "text/x-python",
   "name": "python",
   "nbconvert_exporter": "python",
   "pygments_lexer": "ipython3",
   "version": "3.7.9"
  }
 },
 "nbformat": 4,
 "nbformat_minor": 5
}
