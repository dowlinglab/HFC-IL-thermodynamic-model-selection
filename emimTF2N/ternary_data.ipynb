{
 "cells": [
  {
   "cell_type": "code",
   "execution_count": 1,
   "metadata": {},
   "outputs": [],
   "source": [
    "from pyomo.environ import (Constraint,\n",
    "                           Var,\n",
    "                           ConcreteModel,\n",
    "                           Expression,\n",
    "                           Param,\n",
    "                           Objective,\n",
    "                           SolverFactory,\n",
    "                           TransformationFactory,\n",
    "                           value)\n",
    "\n",
    "from pyomo.network import Arc, SequentialDecomposition\n",
    "\n",
    "from idaes.core.util.initialization import propagate_state\n",
    "\n",
    "# Import plotting functions\n",
    "import matplotlib.pyplot as plt\n",
    "\n",
    "# Import numpy library \n",
    "import numpy as np\n",
    "\n",
    "# Import the main FlowsheetBlock from IDAES. The flowsheet block will contain the unit model\n",
    "from idaes.core import FlowsheetBlock\n",
    "\n",
    "import idaes.logger as idaeslog\n",
    "from pyomo.opt import TerminationCondition, SolverStatus\n",
    "\n",
    "# Import the degrees_of_freedom function from the idaes.core.util.model_statistics package\n",
    "# DOF = Number of Model Variables - Number of Model Constraints\n",
    "from idaes.core.util.model_statistics import degrees_of_freedom\n",
    "\n",
    "# Import the Generic Parameter Block\n",
    "from idaes.generic_models.properties.core.generic.generic_property import (\n",
    "        GenericParameterBlock)\n",
    "\n",
    "# Import unit models from the model library\n",
    "from idaes.generic_models.unit_models import Flash"
   ]
  },
  {
   "cell_type": "code",
   "execution_count": 2,
   "metadata": {},
   "outputs": [],
   "source": [
    "from HFCS_emimTF2N_PR import configuration"
   ]
  },
  {
   "cell_type": "code",
   "execution_count": 3,
   "metadata": {},
   "outputs": [],
   "source": [
    "# Create the ConcreteModel and the FlowsheetBlock, and attach the flowsheet block to it.\n",
    "m = ConcreteModel()\n",
    "\n",
    "m.fs = FlowsheetBlock(default={\"dynamic\": False}) \n",
    "\n",
    "# Add properties parameter blocks to the flowsheet with specifications\n",
    "m.fs.props = GenericParameterBlock(default=configuration)"
   ]
  },
  {
   "cell_type": "code",
   "execution_count": 4,
   "metadata": {},
   "outputs": [
    {
     "name": "stdout",
     "output_type": "stream",
     "text": [
      "The initial DOF is 8\n"
     ]
    }
   ],
   "source": [
    "m.fs.F101 = Flash(default={\"property_package\": m.fs.props,\n",
    "                               \"has_heat_transfer\": True,\n",
    "                               \"has_pressure_change\": True})\n",
    "\n",
    "# Call the degrees_of_freedom function, get intitial DOF\n",
    "DOF_initial = degrees_of_freedom(m)\n",
    "print(\"The initial DOF is {0}\".format(DOF_initial))"
   ]
  },
  {
   "cell_type": "code",
   "execution_count": 5,
   "metadata": {},
   "outputs": [],
   "source": [
    "solver = SolverFactory('ipopt')\n",
    "solver.options = {'tol': 1e-6}"
   ]
  },
  {
   "cell_type": "code",
   "execution_count": 6,
   "metadata": {},
   "outputs": [
    {
     "name": "stdout",
     "output_type": "stream",
     "text": [
      "The final DOF is 0\n"
     ]
    }
   ],
   "source": [
    "# Fix Heater H101 inlet conditions\n",
    "m.fs.F101.inlet.mole_frac_comp[0, \"R32\"].fix(0.5)\n",
    "m.fs.F101.inlet.mole_frac_comp[0, \"R125\"].fix(0.5)\n",
    "m.fs.F101.inlet.mole_frac_comp[0, \"emimTf2N\"].fix(0.001)\n",
    "\n",
    "m.fs.F101.inlet.flow_mol[0].fix(1)\n",
    "m.fs.F101.inlet.temperature.fix(298)\n",
    "m.fs.F101.inlet.pressure.fix(200000)\n",
    "\n",
    "# Fix F101 Flash outlet conditions\n",
    "m.fs.F101.vap_outlet.temperature.fix(298)\n",
    "m.fs.F101.deltaP.fix(0)\n",
    "\n",
    "DOF_final = degrees_of_freedom(m)\n",
    "print(\"The final DOF is {0}\".format(DOF_final))"
   ]
  },
  {
   "cell_type": "code",
   "execution_count": 7,
   "metadata": {},
   "outputs": [
    {
     "name": "stdout",
     "output_type": "stream",
     "text": [
      "2021-03-22 16:02:35 [INFO] idaes.init.fs.F101.control_volume.properties_in: Starting initialization\n",
      "2021-03-22 16:02:36 [INFO] idaes.init.fs.F101.control_volume.properties_in: Dew and bubble point initialization: optimal - Optimal Solution Found.\n",
      "2021-03-22 16:02:36 [INFO] idaes.init.fs.F101.control_volume.properties_in: Equilibrium temperature initialization completed.\n",
      "2021-03-22 16:02:36 [INFO] idaes.init.fs.F101.control_volume.properties_in: State variable initialization completed.\n",
      "2021-03-22 16:02:37 [INFO] idaes.init.fs.F101.control_volume.properties_in: Phase equilibrium initialization: optimal - Optimal Solution Found.\n",
      "2021-03-22 16:02:38 [INFO] idaes.init.fs.F101.control_volume.properties_in: Property initialization: optimal - Optimal Solution Found.\n",
      "2021-03-22 16:02:38 [INFO] idaes.init.fs.F101.control_volume.properties_out: Starting initialization\n",
      "2021-03-22 16:02:39 [INFO] idaes.init.fs.F101.control_volume.properties_out: Dew and bubble point initialization: optimal - Optimal Solution Found.\n",
      "2021-03-22 16:02:39 [INFO] idaes.init.fs.F101.control_volume.properties_out: Equilibrium temperature initialization completed.\n",
      "2021-03-22 16:02:39 [INFO] idaes.init.fs.F101.control_volume.properties_out: State variable initialization completed.\n",
      "2021-03-22 16:02:40 [INFO] idaes.init.fs.F101.control_volume.properties_out: Phase equilibrium initialization: optimal - Optimal Solution Found.\n",
      "2021-03-22 16:02:40 [INFO] idaes.init.fs.F101.control_volume.properties_out: Property initialization: optimal - Optimal Solution Found.\n",
      "2021-03-22 16:02:40 [INFO] idaes.init.fs.F101.control_volume.properties_out: State released.\n",
      "2021-03-22 16:02:40 [INFO] idaes.init.fs.F101.control_volume: Initialization Complete\n",
      "2021-03-22 16:02:40 [INFO] idaes.init.fs.F101: Initialization Step 1 Complete.\n",
      "2021-03-22 16:02:42 [INFO] idaes.init.fs.F101: Initialization Step 2 optimal - Optimal Solution Found.\n",
      "2021-03-22 16:02:42 [INFO] idaes.init.fs.F101.control_volume.properties_in: State released.\n",
      "2021-03-22 16:02:42 [INFO] idaes.init.fs.F101: Initialization Complete: optimal - Optimal Solution Found\n"
     ]
    }
   ],
   "source": [
    "# m.fs.F101.initialize(outlvl=idaeslog.INFO_HIGH)"
   ]
  },
  {
   "cell_type": "code",
   "execution_count": 8,
   "metadata": {},
   "outputs": [
    {
     "name": "stdout",
     "output_type": "stream",
     "text": [
      "Ipopt 3.13.2: tol=1e-06\n",
      "\n",
      "\n",
      "******************************************************************************\n",
      "This program contains Ipopt, a library for large-scale nonlinear optimization.\n",
      " Ipopt is released as open source code under the Eclipse Public License (EPL).\n",
      "         For more information visit http://projects.coin-or.org/Ipopt\n",
      "\n",
      "This version of Ipopt was compiled from source code available at\n",
      "    https://github.com/IDAES/Ipopt as part of the Institute for the Design of\n",
      "    Advanced Energy Systems Process Systems Engineering Framework (IDAES PSE\n",
      "    Framework) Copyright (c) 2018-2019. See https://github.com/IDAES/idaes-pse.\n",
      "\n",
      "This version of Ipopt was compiled using HSL, a collection of Fortran codes\n",
      "    for large-scale scientific computation.  All technical papers, sales and\n",
      "    publicity material resulting from use of the HSL codes within IPOPT must\n",
      "    contain the following acknowledgement:\n",
      "        HSL, a collection of Fortran codes for large-scale scientific\n",
      "        computation. See http://www.hsl.rl.ac.uk.\n",
      "******************************************************************************\n",
      "\n",
      "This is Ipopt version 3.13.2, running with linear solver ma27.\n",
      "\n",
      "Number of nonzeros in equality constraint Jacobian...:      155\n",
      "Number of nonzeros in inequality constraint Jacobian.:        0\n",
      "Number of nonzeros in Lagrangian Hessian.............:       94\n",
      "\n",
      "Total number of variables............................:       36\n",
      "                     variables with only lower bounds:       23\n",
      "                variables with lower and upper bounds:        8\n",
      "                     variables with only upper bounds:        0\n",
      "Total number of equality constraints.................:       36\n",
      "Total number of inequality constraints...............:        0\n",
      "        inequality constraints with only lower bounds:        0\n",
      "   inequality constraints with lower and upper bounds:        0\n",
      "        inequality constraints with only upper bounds:        0\n",
      "\n",
      "iter    objective    inf_pr   inf_du lg(mu)  ||d||  lg(rg) alpha_du alpha_pr  ls\n",
      "   0  0.0000000e+00 1.58e+01 1.00e+00  -1.0 0.00e+00    -  0.00e+00 0.00e+00   0\n",
      "   1  0.0000000e+00 1.58e-01 2.31e-01  -1.0 1.00e-02    -  9.90e-01 9.90e-01h  1\n",
      "   2  0.0000000e+00 1.56e-03 9.89e-02  -1.0 8.83e-03    -  9.90e-01 9.90e-01h  1\n",
      "   3  0.0000000e+00 2.35e-09 1.00e+03  -1.0 7.93e-05    -  9.90e-01 1.00e+00h  1\n",
      "\n",
      "Number of Iterations....: 3\n",
      "\n",
      "                                   (scaled)                 (unscaled)\n",
      "Objective...............:   0.0000000000000000e+00    0.0000000000000000e+00\n",
      "Dual infeasibility......:   0.0000000000000000e+00    0.0000000000000000e+00\n",
      "Constraint violation....:   3.4536422333086847e-11    2.3493692269394018e-09\n",
      "Complementarity.........:   0.0000000000000000e+00    0.0000000000000000e+00\n",
      "Overall NLP error.......:   3.4536422333086847e-11    2.3493692269394018e-09\n",
      "\n",
      "\n",
      "Number of objective function evaluations             = 4\n",
      "Number of objective gradient evaluations             = 4\n",
      "Number of equality constraint evaluations            = 4\n",
      "Number of inequality constraint evaluations          = 0\n",
      "Number of equality constraint Jacobian evaluations   = 4\n",
      "Number of inequality constraint Jacobian evaluations = 0\n",
      "Number of Lagrangian Hessian evaluations             = 3\n",
      "Total CPU secs in IPOPT (w/o function evaluations)   =      0.008\n",
      "Total CPU secs in NLP function evaluations           =      0.012\n",
      "\n",
      "EXIT: Optimal Solution Found.\n"
     ]
    }
   ],
   "source": [
    "# result = solver.solve(m, tee=True)"
   ]
  },
  {
   "cell_type": "code",
   "execution_count": 9,
   "metadata": {},
   "outputs": [
    {
     "name": "stdout",
     "output_type": "stream",
     "text": [
      "\n",
      "====================================================================================\n",
      "Unit : fs.F101                                                             Time: 0.0\n",
      "------------------------------------------------------------------------------------\n",
      "    Unit Performance\n",
      "\n",
      "    Variables: \n",
      "\n",
      "    Key             : Value   : Fixed : Bounds\n",
      "          Heat Duty : 0.21876 : False : (None, None)\n",
      "    Pressure Change :  0.0000 :  True : (None, None)\n",
      "\n",
      "------------------------------------------------------------------------------------\n",
      "    Stream Table\n",
      "                               Inlet    Vapor Outlet  Liquid Outlet\n",
      "    flow_mol                    1.0000      0.99982     0.0011752  \n",
      "    mole_frac_comp emimTf2N  0.0010000   1.0000e-08       0.85091  \n",
      "    mole_frac_comp R32         0.50000      0.49997      0.096672  \n",
      "    mole_frac_comp R125        0.50000      0.50003      0.052420  \n",
      "    temperature                 298.00       298.00        298.00  \n",
      "    pressure                2.0000e+05   2.0000e+05    2.0000e+05  \n",
      "====================================================================================\n"
     ]
    }
   ],
   "source": [
    "# m.fs.F101.report()"
   ]
  },
  {
   "cell_type": "code",
   "execution_count": 13,
   "metadata": {},
   "outputs": [
    {
     "name": "stdout",
     "output_type": "stream",
     "text": [
      "0.7862085879234496\n",
      "0.2137914120765504\n",
      "0.8111321665949937\n",
      "0.18886783340500637\n",
      "0.8352508587316627\n",
      "0.16474914126833734\n",
      "0.8523618972379269\n",
      "0.1476381027620731\n",
      "0.8604941783257395\n",
      "0.13950582167426046\n"
     ]
    }
   ],
   "source": [
    "IL_z = [0.001,0.4,0.72,0.91,0.99]\n",
    "IL_x = np.zeros((len(IL_z)))\n",
    "IL_y = np.zeros((len(IL_z)))\n",
    "R32_x = np.zeros((len(IL_z)))\n",
    "R32_y = np.zeros((len(IL_z)))\n",
    "R125_x = np.zeros((len(IL_z)))\n",
    "R125_y = np.zeros((len(IL_z))) \n",
    "Z = []\n",
    "\n",
    "#Reset kappa values to check - these are the bmimpf6 values\n",
    "# m.fs.props.PR_kappa['R32', 'R125'].fix(-0.002535)\n",
    "# m.fs.props.PR_kappa['R125', 'R32'].fix(-0.002535)\n",
    "# # m.fs.props.PR_kappa['R32', 'bmimPF6'].fix(-0.01435)\n",
    "# # m.fs.props.PR_kappa['bmimPF6', 'R32'].fix(0.9651)\n",
    "# # m.fs.props.PR_kappa['bmimPF6', 'R125'].fix(0.6312)\n",
    "# # m.fs.props.PR_kappa['R125', 'bmimPF6'].fix(0.0504)\n",
    "\n",
    "# m.fs.props.PR_kappa['R32', 'emimTf2N'].fix(-0.05102)\n",
    "# m.fs.props.PR_kappa['emimTf2N', 'R32'].fix(0.2839)\n",
    "# m.fs.props.PR_kappa['emimTf2N', 'R125'].fix(1.6929)\n",
    "# m.fs.props.PR_kappa['R125', 'emimTf2N'].fix(0.04738)\n",
    "\n",
    "# add in second for loop for pressure\n",
    "# m.fs.F101.inlet.pressure.fix(200000)\n",
    "for j in range(len(IL_z)):\n",
    "\n",
    "    fract = 1 - IL_z[j] #Think about this\n",
    "    m.fs.F101.inlet.mole_frac_comp[0, \"R32\"].fix(0.3*IL_z[j])\n",
    "    m.fs.F101.inlet.mole_frac_comp[0, \"R125\"].fix(0.3*fract)\n",
    "    m.fs.F101.inlet.mole_frac_comp[0, \"emimTf2N\"].fix(0.7)   \n",
    "                  \n",
    "    m.fs.F101.initialize(outlvl=idaeslog.CRITICAL)              \n",
    "\n",
    "    # solve the model\n",
    "    status = solver.solve(m, tee = False)\n",
    "    # model.display()\n",
    "    # If solution is optimal store the concentration, and calculated temperatures in the created arrays\n",
    "    if (status.solver.status == SolverStatus.ok) and (status.solver.termination_condition == TerminationCondition.optimal):\n",
    "\n",
    "        IL_x[j] = value(m.fs.F101.liq_outlet.mole_frac_comp[0, \"emimTf2N\"])\n",
    "        IL_y[j] = value(m.fs.F101.vap_outlet.mole_frac_comp[0, \"emimTf2N\"])\n",
    "        R32_x[j] = value(m.fs.F101.liq_outlet.mole_frac_comp[0, \"R32\"]) \n",
    "        R32_y[j] = value(m.fs.F101.vap_outlet.mole_frac_comp[0, \"R32\"])\n",
    "        R125_x[j] = value(m.fs.F101.liq_outlet.mole_frac_comp[0, \"R125\"])\n",
    "        R125_y[j] = value(m.fs.F101.vap_outlet.mole_frac_comp[0, \"R125\"])\n",
    "\n",
    "        #Change this to feasible\n",
    "        print(value(m.fs.F101.liq_outlet.flow_mol[0]))\n",
    "        print(value(m.fs.F101.vap_outlet.flow_mol[0]))\n",
    "    else:\n",
    "        print('Infeasible.')\n",
    "\n",
    "    "
   ]
  },
  {
   "cell_type": "code",
   "execution_count": 15,
   "metadata": {},
   "outputs": [
    {
     "name": "stdout",
     "output_type": "stream",
     "text": [
      "IL_x = [0.89034896 0.8629913  0.83807157 0.82124741 0.81348604]\n",
      "IL_y = [1.e-08 1.e-08 1.e-08 1.e-08 1.e-08]\n",
      "R32_x = [1.61420412e-04 6.74644537e-02 1.27358576e-01 1.67060134e-01\n",
      " 1.85180306e-01]\n",
      "R32_y = [8.09620389e-04 3.45624823e-01 6.65397339e-01 8.84624668e-01\n",
      " 9.86721724e-01]\n",
      "R125_x = [0.10948962 0.06954425 0.03456985 0.01169246 0.00133366]\n",
      "R125_y = [0.99919038 0.65437518 0.33460266 0.11537533 0.01327828]\n"
     ]
    }
   ],
   "source": [
    "print(\"IL_x =\", IL_x)\n",
    "print(\"IL_y =\", IL_y)\n",
    "print(\"R32_x =\", R32_x)\n",
    "print(\"R32_y =\", R32_y)\n",
    "print(\"R125_x =\", R125_x)\n",
    "print(\"R125_y =\", R125_y)"
   ]
  },
  {
   "cell_type": "code",
   "execution_count": 16,
   "metadata": {},
   "outputs": [
    {
     "name": "stdout",
     "output_type": "stream",
     "text": [
      "[(0.8903489617797923, 0.0001614204115711074, 0.10948961780863647), (0.8629912963980838, 0.06746445373560006, 0.06954424986631615), (0.8380715717706144, 0.12735857588259286, 0.034569852346792676), (0.8212474094259086, 0.16706013358327335, 0.011692456990818044), (0.8134860381760839, 0.18518030581930886, 0.0013336560046071752)]\n",
      "[(1e-08, 0.000809620388749202, 0.9991903796112507), (1e-08, 0.34562482290626345, 0.6543751770937365), (1e-08, 0.6653973385431596, 0.3346026614568403), (1e-08, 0.884624667634856, 0.11537533236514395), (1e-08, 0.9867217242214602, 0.01327827577853976)]\n"
     ]
    }
   ],
   "source": [
    "points_x = []\n",
    "\n",
    "for i in range(len(IL_z)):\n",
    "    points = (IL_x[i], R32_x[i], R125_x[i])\n",
    "    points_x.append(points)\n",
    "    \n",
    "print(points_x)\n",
    "\n",
    "points_y = []\n",
    "\n",
    "for i in range(len(IL_z)):\n",
    "    points = (IL_y[i], R32_y[i], R125_y[i])\n",
    "    points_y.append(points)\n",
    "    \n",
    "print(points_y)"
   ]
  },
  {
   "cell_type": "code",
   "execution_count": 19,
   "metadata": {},
   "outputs": [
    {
     "data": {
      "image/png": "[encoded data removed]",
      "text/plain": [
       "<Figure size 432x288 with 1 Axes>"
      ]
     },
     "metadata": {},
     "output_type": "display_data"
    }
   ],
   "source": [
    "points_x = []\n",
    "\n",
    "for i in range(0,4): #to shift how points are printed, shift the order\n",
    "    points = (IL_x[i]*100, R125_x[i]*100, R32_x[i]*100)\n",
    "    points_x.append(points)\n",
    "\n",
    "points_y = []\n",
    "\n",
    "for i in range(0,4): #to shift how points are printed, shift the order\n",
    "    points = (IL_y[i]*100, R125_y[i]*100, R32_y[i]*100)\n",
    "    points_y.append(points)\n",
    "\n",
    "import ternary\n",
    "\n",
    "scale = 100\n",
    "figure, tax = ternary.figure(scale=scale)\n",
    "\n",
    "# Draw Boundary and Gridlines\n",
    "tax.boundary(linewidth=2.0)\n",
    "tax.gridlines(color=\"blue\", multiple=5)\n",
    "\n",
    "# Set Axis labels and Title\n",
    "fontsize = 12\n",
    "offset = 0.14\n",
    "# tax.set_title(\"Ternary phase diagram 8 bar\\n\", fontsize=24)\n",
    "tax.left_axis_label(\"R32\", fontsize=fontsize, offset=offset)\n",
    "tax.right_axis_label(\"R125\", fontsize=fontsize, offset=offset)\n",
    "tax.bottom_axis_label(\"IL\", fontsize=fontsize, offset=offset)\n",
    "\n",
    "#for pressure changing plot would need to draw line between x[0] and x[final] for the indivual pressure\n",
    "#use tax.line with the tax.scatter below\n",
    "for i in range(4):\n",
    "    tax.line(points_x[i], points_y[i], linewidth=3., color='green', linestyle=\":\")\n",
    "\n",
    "# make this tax.line\n",
    "tax.scatter(points_x, marker='s', color='red', label=\"liquid\")\n",
    "#Comment out for pressure changing plot\n",
    "tax.scatter(points_y, marker='s', color='blue', label=\"vapor\")\n",
    "\n",
    "\n",
    "tax.ticks(axis='lbr', multiple=10, linewidth=1, offset=0.025)\n",
    "tax.get_axes().axis('off')\n",
    "tax.clear_matplotlib_ticks()\n",
    "tax.show()"
   ]
  },
  {
   "cell_type": "code",
   "execution_count": null,
   "metadata": {},
   "outputs": [],
   "source": []
  }
 ],
 "metadata": {
  "kernelspec": {
   "display_name": "Python 3",
   "language": "python",
   "name": "python3"
  },
  "language_info": {
   "codemirror_mode": {
    "name": "ipython",
    "version": 3
   },
   "file_extension": ".py",
   "mimetype": "text/x-python",
   "name": "python",
   "nbconvert_exporter": "python",
   "pygments_lexer": "ipython3",
   "version": "3.7.9"
  }
 },
 "nbformat": 4,
 "nbformat_minor": 5
}
