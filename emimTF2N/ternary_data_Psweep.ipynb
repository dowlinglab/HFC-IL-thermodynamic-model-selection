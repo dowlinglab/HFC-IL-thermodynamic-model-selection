{
 "cells": [
  {
   "cell_type": "markdown",
   "metadata": {},
   "source": [
    "## Import libraries"
   ]
  },
  {
   "cell_type": "code",
   "execution_count": 1,
   "metadata": {},
   "outputs": [],
   "source": [
    "from pyomo.environ import (Constraint,\n",
    "                           Var,\n",
    "                           ConcreteModel,\n",
    "                           Expression,\n",
    "                           Param,\n",
    "                           Objective,\n",
    "                           SolverFactory,\n",
    "                           TransformationFactory,\n",
    "                           value)\n",
    "\n",
    "from pyomo.network import Arc, SequentialDecomposition\n",
    "\n",
    "from idaes.core.util.initialization import propagate_state\n",
    "\n",
    "# Import plotting functions\n",
    "import matplotlib.pyplot as plt\n",
    "\n",
    "# Import numpy library \n",
    "import numpy as np\n",
    "\n",
    "# Import the main FlowsheetBlock from IDAES. The flowsheet block will contain the unit model\n",
    "from idaes.core import FlowsheetBlock\n",
    "\n",
    "import idaes.logger as idaeslog\n",
    "from pyomo.opt import TerminationCondition, SolverStatus\n",
    "\n",
    "# Import the degrees_of_freedom function from the idaes.core.util.model_statistics package\n",
    "# DOF = Number of Model Variables - Number of Model Constraints\n",
    "from idaes.core.util.model_statistics import degrees_of_freedom\n",
    "\n",
    "# Import the Generic Parameter Block\n",
    "from idaes.generic_models.properties.core.generic.generic_property import (\n",
    "        GenericParameterBlock)\n",
    "\n",
    "# Import unit models from the model library\n",
    "from idaes.generic_models.unit_models import Flash\n",
    "\n",
    "# Import R32, R125, IL info file\n",
    "from HFCS_emimTF2N_PR import configuration"
   ]
  },
  {
   "cell_type": "markdown",
   "metadata": {},
   "source": [
    "## Create Model"
   ]
  },
  {
   "cell_type": "code",
   "execution_count": 2,
   "metadata": {},
   "outputs": [],
   "source": [
    "# Create the ConcreteModel and the FlowsheetBlock, and attach the flowsheet block to it.\n",
    "m = ConcreteModel()\n",
    "\n",
    "m.fs = FlowsheetBlock(default={\"dynamic\": False}) \n",
    "\n",
    "# Add properties parameter blocks to the flowsheet with specifications\n",
    "m.fs.props = GenericParameterBlock(default=configuration)"
   ]
  },
  {
   "cell_type": "code",
   "execution_count": 3,
   "metadata": {},
   "outputs": [
    {
     "name": "stdout",
     "output_type": "stream",
     "text": [
      "The initial DOF is 8\n"
     ]
    }
   ],
   "source": [
    "m.fs.F101 = Flash(default={\"property_package\": m.fs.props,\n",
    "                               \"has_heat_transfer\": True,\n",
    "                               \"has_pressure_change\": True})\n",
    "\n",
    "# Call the degrees_of_freedom function, get intitial DOF\n",
    "DOF_initial = degrees_of_freedom(m)\n",
    "print(\"The initial DOF is {0}\".format(DOF_initial))"
   ]
  },
  {
   "cell_type": "code",
   "execution_count": 4,
   "metadata": {},
   "outputs": [
    {
     "name": "stdout",
     "output_type": "stream",
     "text": [
      "The final DOF is 0\n"
     ]
    }
   ],
   "source": [
    "## Update conditions to reduce DOF\n",
    "\n",
    "# Fix Heater H101 inlet conditions\n",
    "m.fs.F101.inlet.mole_frac_comp[0, \"R32\"].fix(0.5)\n",
    "m.fs.F101.inlet.mole_frac_comp[0, \"R125\"].fix(0.5)\n",
    "m.fs.F101.inlet.mole_frac_comp[0, \"emimTf2N\"].fix(0.001)\n",
    "\n",
    "m.fs.F101.inlet.flow_mol[0].fix(1)\n",
    "m.fs.F101.inlet.temperature.fix(300)\n",
    "m.fs.F101.inlet.pressure.fix(200000)\n",
    "\n",
    "# Fix F101 Flash outlet conditions\n",
    "m.fs.F101.vap_outlet.temperature.fix(300)\n",
    "m.fs.F101.deltaP.fix(0)\n",
    "\n",
    "DOF_final = degrees_of_freedom(m)\n",
    "print(\"The final DOF is {0}\".format(DOF_final))"
   ]
  },
  {
   "cell_type": "code",
   "execution_count": 5,
   "metadata": {},
   "outputs": [],
   "source": [
    "solver = SolverFactory('ipopt')\n",
    "solver.options = {'tol': 1e-6}"
   ]
  },
  {
   "cell_type": "markdown",
   "metadata": {},
   "source": [
    "## Calculate flash data"
   ]
  },
  {
   "cell_type": "code",
   "execution_count": 6,
   "metadata": {},
   "outputs": [
    {
     "name": "stdout",
     "output_type": "stream",
     "text": [
      "Running pressure: 200000 and HFC feed fraction 0.001\n",
      "Running pressure: 200000 and HFC feed fraction 0.4\n",
      "Running pressure: 200000 and HFC feed fraction 0.72\n",
      "Running pressure: 200000 and HFC feed fraction 0.91\n",
      "Running pressure: 200000 and HFC feed fraction 0.99\n",
      "Running pressure: 500000 and HFC feed fraction 0.001\n",
      "Running pressure: 500000 and HFC feed fraction 0.4\n",
      "Running pressure: 500000 and HFC feed fraction 0.72\n",
      "Running pressure: 500000 and HFC feed fraction 0.91\n",
      "Running pressure: 500000 and HFC feed fraction 0.99\n"
     ]
    }
   ],
   "source": [
    "# Set pressures to loop over\n",
    "P = [200000,500000]\n",
    "\n",
    "# Set fraction of feed compositions of HFCs to loop over\n",
    "HFC_feed_frac = [0.001,0.4,0.72,0.91,0.99]\n",
    "\n",
    "# Make outlet arrays\n",
    "IL_x = np.zeros((len(P),len(HFC_feed_frac)))\n",
    "IL_y = np.zeros((len(P),len(HFC_feed_frac)))\n",
    "R32_x = np.zeros((len(P),len(HFC_feed_frac)))\n",
    "R32_y = np.zeros((len(P),len(HFC_feed_frac)))\n",
    "R125_x = np.zeros((len(P),len(HFC_feed_frac)))\n",
    "R125_y = np.zeros((len(P),len(HFC_feed_frac))) \n",
    "\n",
    "for i in range(len(P)):\n",
    "    \n",
    "    # Fix pressure\n",
    "    m.fs.F101.inlet.pressure.fix(P[i])\n",
    "    \n",
    "    for j in range(len(HFC_feed_frac)):\n",
    "        \n",
    "        # Fix inlet mole fractions\n",
    "        fract = 1 - HFC_feed_frac[j] \n",
    "        m.fs.F101.inlet.mole_frac_comp[0, \"R32\"].fix(0.3*HFC_feed_frac[j])\n",
    "        m.fs.F101.inlet.mole_frac_comp[0, \"R125\"].fix(0.3*fract)\n",
    "        m.fs.F101.inlet.mole_frac_comp[0, \"emimTf2N\"].fix(0.7)   \n",
    "\n",
    "        m.fs.F101.initialize(outlvl=idaeslog.CRITICAL)              \n",
    "\n",
    "        # solve the model\n",
    "        status = solver.solve(m, tee = False)\n",
    "        # model.display()\n",
    "        \n",
    "        # If solution is optimal store the concentration, and calculated temperatures in the created arrays\n",
    "        if (status.solver.status == SolverStatus.ok) and (status.solver.termination_condition == TerminationCondition.optimal):\n",
    "\n",
    "            IL_x[i,j] = value(m.fs.F101.liq_outlet.mole_frac_comp[0, \"emimTf2N\"])\n",
    "            IL_y[i,j] = value(m.fs.F101.vap_outlet.mole_frac_comp[0, \"emimTf2N\"])\n",
    "            R32_x[i,j] = value(m.fs.F101.liq_outlet.mole_frac_comp[0, \"R32\"]) \n",
    "            R32_y[i,j] = value(m.fs.F101.vap_outlet.mole_frac_comp[0, \"R32\"])\n",
    "            R125_x[i,j] = value(m.fs.F101.liq_outlet.mole_frac_comp[0, \"R125\"])\n",
    "            R125_y[i,j] = value(m.fs.F101.vap_outlet.mole_frac_comp[0, \"R125\"])\n",
    "\n",
    "            #Change this to feasible\n",
    "            print(\"Running pressure:\",P[i],\"and HFC feed fraction\",HFC_feed_frac[j])\n",
    "#             print(value(m.fs.F101.liq_outlet.flow_mol[0]))\n",
    "#             print(value(m.fs.F101.vap_outlet.flow_mol[0]))\n",
    "        else:\n",
    "            print('Infeasible.')\n",
    "\n",
    "    "
   ]
  },
  {
   "cell_type": "code",
   "execution_count": 7,
   "metadata": {},
   "outputs": [
    {
     "name": "stdout",
     "output_type": "stream",
     "text": [
      "IL_x = [[0.89586162 0.86955959 0.84575128 0.82981626 0.82252284]\n",
      " [0.74237231 0.70522703 0.70000003 0.70000001 0.70000001]]\n",
      "IL_y = [[1.e-08 1.e-08 1.e-08 1.e-08 1.e-08]\n",
      " [1.e-08 1.e-08 1.e-08 1.e-08 1.e-08]]\n",
      "R32_x = [[1.54781545e-04 6.45950874e-02 1.21664796e-01 1.59213254e-01\n",
      "  1.76229263e-01]\n",
      " [2.80296892e-04 1.18836629e-01 2.15999985e-01 2.72999989e-01\n",
      "  2.96999988e-01]]\n",
      "R32_y = [[8.19003777e-04 3.48730440e-01 6.69063904e-01 8.86565077e-01\n",
      "  9.86989842e-01]\n",
      " [6.25499792e-04 2.75797672e-01 5.87667328e-01 8.47619232e-01\n",
      "  9.81930377e-01]]\n",
      "R125_x = [[0.1039836  0.06584533 0.03258393 0.01097049 0.0012479 ]\n",
      " [0.25734739 0.17593634 0.08399999 0.027      0.003     ]]\n",
      "R125_y = [[0.999181   0.65126956 0.3309361  0.11343492 0.01301016]\n",
      " [0.9993745  0.72420233 0.41233267 0.15238077 0.01806962]]\n"
     ]
    }
   ],
   "source": [
    "print(\"IL_x =\", IL_x)\n",
    "print(\"IL_y =\", IL_y)\n",
    "print(\"R32_x =\", R32_x)\n",
    "print(\"R32_y =\", R32_y)\n",
    "print(\"R125_x =\", R125_x)\n",
    "print(\"R125_y =\", R125_y)"
   ]
  },
  {
   "cell_type": "code",
   "execution_count": null,
   "metadata": {},
   "outputs": [],
   "source": [
    "# points_x = []\n",
    "\n",
    "# for i in range(len(IL_z)):\n",
    "#     points = (IL_x[i], R32_x[i], R125_x[i])\n",
    "#     points_x.append(points)\n",
    "    \n",
    "# print(points_x)\n",
    "\n",
    "# points_y = []\n",
    "\n",
    "# for i in range(len(IL_z)):\n",
    "#     points = (IL_y[i], R32_y[i], R125_y[i])\n",
    "#     points_y.append(points)\n",
    "    \n",
    "# print(points_y)"
   ]
  },
  {
   "cell_type": "code",
   "execution_count": null,
   "metadata": {},
   "outputs": [],
   "source": [
    "# points_x = []\n",
    "\n",
    "# for i in range(0,4): #to shift how points are printed, shift the order\n",
    "#     points = (IL_x[i]*100, R125_x[i]*100, R32_x[i]*100)\n",
    "#     points_x.append(points)\n",
    "\n",
    "# points_y = []\n",
    "\n",
    "# for i in range(0,4): #to shift how points are printed, shift the order\n",
    "#     points = (IL_y[i]*100, R125_y[i]*100, R32_y[i]*100)\n",
    "#     points_y.append(points)\n",
    "\n",
    "# import ternary\n",
    "\n",
    "# scale = 100\n",
    "# figure, tax = ternary.figure(scale=scale)\n",
    "\n",
    "# # Draw Boundary and Gridlines\n",
    "# tax.boundary(linewidth=2.0)\n",
    "# tax.gridlines(color=\"blue\", multiple=5)\n",
    "\n",
    "# # Set Axis labels and Title\n",
    "# fontsize = 12\n",
    "# offset = 0.14\n",
    "# # tax.set_title(\"Ternary phase diagram 8 bar\\n\", fontsize=24)\n",
    "# tax.left_axis_label(\"R32\", fontsize=fontsize, offset=offset)\n",
    "# tax.right_axis_label(\"R125\", fontsize=fontsize, offset=offset)\n",
    "# tax.bottom_axis_label(\"IL\", fontsize=fontsize, offset=offset)\n",
    "\n",
    "# #for pressure changing plot would need to draw line between x[0] and x[final] for the indivual pressure\n",
    "# #use tax.line with the tax.scatter below\n",
    "# for i in range(4):\n",
    "#     tax.line(points_x[i], points_y[i], linewidth=3., color='green', linestyle=\":\")\n",
    "\n",
    "# # make this tax.line\n",
    "# tax.scatter(points_x, marker='s', color='red', label=\"liquid\")\n",
    "# #Comment out for pressure changing plot\n",
    "# tax.scatter(points_y, marker='s', color='blue', label=\"vapor\")\n",
    "\n",
    "\n",
    "# tax.ticks(axis='lbr', multiple=10, linewidth=1, offset=0.025)\n",
    "# tax.get_axes().axis('off')\n",
    "# tax.clear_matplotlib_ticks()\n",
    "# tax.show()"
   ]
  },
  {
   "cell_type": "code",
   "execution_count": null,
   "metadata": {},
   "outputs": [],
   "source": []
  }
 ],
 "metadata": {
  "kernelspec": {
   "display_name": "Python 3",
   "language": "python",
   "name": "python3"
  },
  "language_info": {
   "codemirror_mode": {
    "name": "ipython",
    "version": 3
   },
   "file_extension": ".py",
   "mimetype": "text/x-python",
   "name": "python",
   "nbconvert_exporter": "python",
   "pygments_lexer": "ipython3",
   "version": "3.7.9"
  }
 },
 "nbformat": 4,
 "nbformat_minor": 5
}
