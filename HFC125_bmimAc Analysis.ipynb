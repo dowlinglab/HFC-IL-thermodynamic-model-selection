{
 "cells": [
  {
   "cell_type": "code",
   "execution_count": 1,
   "id": "outstanding-jamaica",
   "metadata": {},
   "outputs": [],
   "source": [
    "# import functions\n",
    "import idaes\n",
    "import matplotlib.pyplot as plt\n",
    "import pandas as pd\n",
    "import numpy as np\n",
    "from pyomo.environ import (Constraint,\n",
    "                           Var,\n",
    "                           ConcreteModel,\n",
    "                           Expression,\n",
    "                           Param,\n",
    "                           Objective,\n",
    "                           SolverFactory,\n",
    "                           TransformationFactory,\n",
    "                           value)\n",
    "\n",
    "from idaes.core import FlowsheetBlock\n",
    "import idaes.logger as idaeslog\n",
    "from pyomo.opt import TerminationCondition, SolverStatus\n",
    "# Import the Generic Parameter Block\n",
    "from idaes.generic_models.properties.core.generic.generic_property import (\n",
    "        GenericParameterBlock)\n",
    "# Import unit models from the model library\n",
    "from idaes.generic_models.unit_models import Flash\n",
    "# Import degrees of freedom tool\n",
    "from idaes.core.util.model_statistics import degrees_of_freedom\n",
    "# parmest (binary_param2)\n",
    "from binary_param2 import binary_params_peng\n",
    "# import pressure and plot functions\n",
    "from binary_fitting_functions import calc_outlet_xP\n",
    "from binary_fitting_functions import plot_sens_analysis"
   ]
  },
  {
   "cell_type": "code",
   "execution_count": 3,
   "id": "hispanic-soldier",
   "metadata": {},
   "outputs": [],
   "source": [
    "# from HFC32_emimTf2N_PR import configuration\n",
    "from HFC125_bmimAc_PR import configuration"
   ]
  },
  {
   "cell_type": "code",
   "execution_count": 4,
   "id": "separate-newark",
   "metadata": {},
   "outputs": [],
   "source": [
    "#need to make excel csv for 125\n",
    "data = pd.read_csv('R125_bmimAc.csv')\n",
    "# print(data)"
   ]
  },
  {
   "cell_type": "code",
   "execution_count": 5,
   "id": "changing-mixer",
   "metadata": {},
   "outputs": [
    {
     "name": "stdout",
     "output_type": "stream",
     "text": [
      "2021-04-13 13:38:40 [INFO] idaes.generic_models.properties.core.generic.generic_property: DEPRECATED - definiton of generic property packages is moving to using static classes instead of modules. Please refer to the IDAES documentation.\n",
      "The initial DOF is 7\n"
     ]
    }
   ],
   "source": [
    "m = ConcreteModel()\n",
    "m.fs = FlowsheetBlock(default={\"dynamic\": False})\n",
    "m.fs.properties = GenericParameterBlock(default=configuration)\n",
    "m.fs.F101 = Flash(default={\"property_package\": m.fs.properties,\n",
    "                           \"has_heat_transfer\": True,\n",
    "                           \"has_pressure_change\": True})\n",
    "DOF_initial = degrees_of_freedom(m)\n",
    "print('The initial DOF is {0}'.format(DOF_initial))"
   ]
  },
  {
   "cell_type": "code",
   "execution_count": 6,
   "id": "matched-convertible",
   "metadata": {},
   "outputs": [
    {
     "name": "stdout",
     "output_type": "stream",
     "text": [
      "   temperature  pressure  x_R125  x_bmimAc\n",
      "0       298.15     50000   0.060     0.940\n",
      "1       298.15    100000   0.122     0.878\n",
      "2       298.15    200000   0.240     0.760\n",
      "3       298.15    400000   0.429     0.571\n",
      "4       298.15    600000   0.536     0.464\n",
      "5       298.15    800000   0.620     0.380\n",
      "6       298.15   1000000   0.692     0.308\n"
     ]
    }
   ],
   "source": [
    "print(data)"
   ]
  },
  {
   "cell_type": "code",
   "execution_count": 17,
   "id": "personalized-seeking",
   "metadata": {},
   "outputs": [
    {
     "name": "stdout",
     "output_type": "stream",
     "text": [
      "2021-04-13 13:41:37 [INFO] idaes.generic_models.properties.core.generic.generic_property: DEPRECATED - definiton of generic property packages is moving to using static classes instead of modules. Please refer to the IDAES documentation.\n",
      "2021-04-13 13:41:37 [INFO] idaes.init.fs.state_block: Property package initialization: optimal - Optimal Solution Found.\n",
      "2021-04-13 13:41:37 [INFO] idaes.generic_models.properties.core.generic.generic_property: DEPRECATED - definiton of generic property packages is moving to using static classes instead of modules. Please refer to the IDAES documentation.\n",
      "2021-04-13 13:41:37 [INFO] idaes.init.fs.state_block: Property package initialization: optimal - Optimal Solution Found.\n",
      "2021-04-13 13:41:37 [INFO] idaes.generic_models.properties.core.generic.generic_property: DEPRECATED - definiton of generic property packages is moving to using static classes instead of modules. Please refer to the IDAES documentation.\n",
      "2021-04-13 13:41:38 [INFO] idaes.init.fs.state_block: Property package initialization: optimal - Optimal Solution Found.\n",
      "2021-04-13 13:41:38 [INFO] idaes.generic_models.properties.core.generic.generic_property: DEPRECATED - definiton of generic property packages is moving to using static classes instead of modules. Please refer to the IDAES documentation.\n",
      "2021-04-13 13:41:38 [INFO] idaes.init.fs.state_block: Property package initialization: optimal - Optimal Solution Found.\n",
      "2021-04-13 13:41:38 [INFO] idaes.generic_models.properties.core.generic.generic_property: DEPRECATED - definiton of generic property packages is moving to using static classes instead of modules. Please refer to the IDAES documentation.\n",
      "2021-04-13 13:41:38 [INFO] idaes.init.fs.state_block: Property package initialization: optimal - Optimal Solution Found.\n",
      "2021-04-13 13:41:38 [INFO] idaes.generic_models.properties.core.generic.generic_property: DEPRECATED - definiton of generic property packages is moving to using static classes instead of modules. Please refer to the IDAES documentation.\n",
      "2021-04-13 13:41:39 [INFO] idaes.init.fs.state_block: Property package initialization: optimal - Optimal Solution Found.\n",
      "2021-04-13 13:41:39 [INFO] idaes.generic_models.properties.core.generic.generic_property: DEPRECATED - definiton of generic property packages is moving to using static classes instead of modules. Please refer to the IDAES documentation.\n",
      "2021-04-13 13:41:39 [INFO] idaes.init.fs.state_block: Property package initialization: optimal - Optimal Solution Found.\n",
      "Ipopt 3.13.2: \n",
      "\n",
      "******************************************************************************\n",
      "This program contains Ipopt, a library for large-scale nonlinear optimization.\n",
      " Ipopt is released as open source code under the Eclipse Public License (EPL).\n",
      "         For more information visit http://projects.coin-or.org/Ipopt\n",
      "\n",
      "This version of Ipopt was compiled from source code available at\n",
      "    https://github.com/IDAES/Ipopt as part of the Institute for the Design of\n",
      "    Advanced Energy Systems Process Systems Engineering Framework (IDAES PSE\n",
      "    Framework) Copyright (c) 2018-2019. See https://github.com/IDAES/idaes-pse.\n",
      "\n",
      "This version of Ipopt was compiled using HSL, a collection of Fortran codes\n",
      "    for large-scale scientific computation.  All technical papers, sales and\n",
      "    publicity material resulting from use of the HSL codes within IPOPT must\n",
      "    contain the following acknowledgement:\n",
      "        HSL, a collection of Fortran codes for large-scale scientific\n",
      "        computation. See http://www.hsl.rl.ac.uk.\n",
      "******************************************************************************\n",
      "\n",
      "This is Ipopt version 3.13.2, running with linear solver ma27.\n",
      "\n",
      "Number of nonzeros in equality constraint Jacobian...:      238\n",
      "Number of nonzeros in inequality constraint Jacobian.:        0\n",
      "Number of nonzeros in Lagrangian Hessian.............:      238\n",
      "\n",
      "Total number of variables............................:      100\n",
      "                     variables with only lower bounds:       42\n",
      "                variables with lower and upper bounds:       42\n",
      "                     variables with only upper bounds:        0\n",
      "Total number of equality constraints.................:       98\n",
      "Total number of inequality constraints...............:        0\n",
      "        inequality constraints with only lower bounds:        0\n",
      "   inequality constraints with lower and upper bounds:        0\n",
      "        inequality constraints with only upper bounds:        0\n",
      "\n",
      "iter    objective    inf_pr   inf_du lg(mu)  ||d||  lg(rg) alpha_du alpha_pr  ls\n",
      "   0  0.0000000e+00 1.11e+00 1.42e-14  -1.0 0.00e+00    -  0.00e+00 0.00e+00   0\n",
      "   1  4.1518454e-03 9.75e-01 5.70e+04  -1.0 3.26e+04    -  4.38e-01 1.23e-01h  1\n",
      "   2  3.8142291e+01 7.50e-01 4.90e+06  -1.0 2.98e+05    -  9.50e-03 9.90e-01h  1\n",
      "   3  3.8167488e+01 6.66e-01 4.21e+06  -1.0 1.68e+04    -  1.82e-01 1.38e-01h  1\n",
      "   4  3.9124523e+01 6.44e-01 4.06e+06  -1.0 1.29e+05    -  7.53e-01 3.57e-02h  1\n",
      "   5  4.6573998e+01 5.17e-01 3.04e+06  -1.0 1.31e+05    -  7.56e-01 2.48e-01h  3\n",
      "   6  4.5059293e+01 8.57e-01 2.30e+06  -1.0 3.11e+05    -  5.35e-01 2.06e-01f  3\n",
      "   7  6.7350466e+01 1.24e-01 9.66e+03  -1.0 8.23e+04    -  8.45e-01 9.90e-01h  1\n",
      "   8  6.9099670e+01 3.10e-03 6.26e+03  -1.0 9.03e+03    -  9.84e-01 1.00e+00h  1\n",
      "   9  6.0072581e+01 4.75e-01 9.98e+04  -1.0 1.33e+05    -  9.90e-01 1.00e+00f  1\n",
      "iter    objective    inf_pr   inf_du lg(mu)  ||d||  lg(rg) alpha_du alpha_pr  ls\n",
      "  10  6.0430485e+01 4.60e-01 2.93e+03  -1.0 2.03e+05    -  9.90e-01 3.12e-02h  6\n",
      "  11  6.0391707e+01 2.07e+00 3.37e+06  -1.7 7.22e+04    -  9.21e-01 5.00e-01h  2\n",
      "  12  6.4301689e+01 4.58e-03 3.35e+02  -1.7 9.01e+04    -  1.00e+00 1.00e+00h  1\n",
      "  13  6.4287269e+01 3.16e-04 1.36e+00  -1.7 2.92e+04    -  1.00e+00 1.00e+00f  1\n",
      "  14  6.4268295e+01 1.13e-06 4.65e+02  -5.7 7.42e+02    -  1.00e+00 1.00e+00h  1\n",
      "  15  6.4268311e+01 1.62e-12 5.11e-09  -5.7 2.68e-01    -  1.00e+00 1.00e+00h  1\n",
      "  16  6.4268309e+01 1.85e-12 2.30e-11  -8.6 8.76e-03    -  1.00e+00 1.00e+00h  1\n",
      "\n",
      "Number of Iterations....: 16\n",
      "\n",
      "                                   (scaled)                 (unscaled)\n",
      "Objective...............:   6.4268309130730941e+01    6.4268309130730941e+01\n",
      "Dual infeasibility......:   2.3025807991912585e-11    2.3025807991912585e-11\n",
      "Constraint violation....:   1.8520740496796861e-12    1.8520740496796861e-12\n",
      "Complementarity.........:   2.5060345696671398e-09    2.5060345696671398e-09\n",
      "Overall NLP error.......:   2.5060345696671398e-09    2.5060345696671398e-09\n",
      "\n",
      "\n",
      "Number of objective function evaluations             = 34\n",
      "Number of objective gradient evaluations             = 17\n",
      "Number of equality constraint evaluations            = 34\n",
      "Number of inequality constraint evaluations          = 0\n",
      "Number of equality constraint Jacobian evaluations   = 17\n",
      "Number of inequality constraint Jacobian evaluations = 0\n",
      "Number of Lagrangian Hessian evaluations             = 16\n",
      "Total CPU secs in IPOPT (w/o function evaluations)   =      0.002\n",
      "Total CPU secs in NLP function evaluations           =      0.033\n",
      "\n",
      "EXIT: Optimal Solution Found.\n",
      "The SSE at the optimal solution is 64.268309\n",
      "\n",
      "The values for the parameters are as follows:\n",
      "fs.properties.PR_kappa[R125,bmimAc] = 0.0171317399082685\n",
      "fs.properties.PR_kappa[bmimAc,R125] = 0.25369582399640295\n"
     ]
    }
   ],
   "source": [
    "binary_params_peng(data, configuration, 'R125', 'bmimAc', \"x_R125\", \"x_bmimAc\", \n",
    "    init_temp =  298.15, init_press =   50000 , init_x_c1 =    0.060, init_x_c2 = 0.940,\n",
    "    init_kappa_2_1 = 0.09, init_kappa_1_2 = 0.02, eps = 0.1, scaling_fac = 1e-9 , read=False)"
   ]
  },
  {
   "cell_type": "code",
   "execution_count": 21,
   "id": "atomic-genre",
   "metadata": {},
   "outputs": [],
   "source": [
    "# k12 = 0.015471927025979642\n",
    "# k21 = 0.30636270776137325\n",
    "k12 = 0.02\n",
    "k21 = 0.4"
   ]
  },
  {
   "cell_type": "code",
   "execution_count": 22,
   "id": "prescribed-channels",
   "metadata": {},
   "outputs": [
    {
     "name": "stdout",
     "output_type": "stream",
     "text": [
      "WARNING: Implicitly replacing the Component attribute liq (type=<class\n",
      "    'pyomo.core.base.param.SimpleParam'>) on block fs with a new Component\n",
      "    (type=<class 'pyomo.core.base.param.SimpleParam'>). This is usually\n",
      "    indicative of a modelling error. To avoid this warning, use\n",
      "    block.del_component() and block.add_component().\n",
      "WARNING: Implicitly replacing the Component attribute liquid (type=<class\n",
      "    'pyomo.core.base.constraint.SimpleConstraint'>) on block fs with a new\n",
      "    Component (type=<class\n",
      "    'pyomo.core.base.constraint.AbstractSimpleConstraint'>). This is usually\n",
      "    indicative of a modelling error. To avoid this warning, use\n",
      "    block.del_component() and block.add_component().\n",
      "The final DOF is 0\n",
      "The final DOF is 0\n",
      "The final DOF is 0\n",
      "The final DOF is 0\n",
      "WARNING: Loading a SolverResults object with a warning status into\n",
      "    model.name=\"unknown\";\n",
      "      - termination condition: infeasible\n",
      "      - message from solver: Ipopt 3.13.2\\x3a Converged to a locally\n",
      "        infeasible point. Problem may be infeasible.\n",
      "Infeasible.\n",
      "The final DOF is 0\n",
      "The final DOF is 0\n",
      "WARNING: Loading a SolverResults object with a warning status into\n",
      "    model.name=\"unknown\";\n",
      "      - termination condition: infeasible\n",
      "      - message from solver: Ipopt 3.13.2\\x3a Converged to a locally\n",
      "        infeasible point. Problem may be infeasible.\n",
      "Infeasible.\n",
      "The final DOF is 0\n",
      "WARNING: Loading a SolverResults object with a warning status into\n",
      "    model.name=\"unknown\";\n",
      "      - termination condition: infeasible\n",
      "      - message from solver: Ipopt 3.13.2\\x3a Converged to a locally\n",
      "        infeasible point. Problem may be infeasible.\n",
      "Infeasible.\n"
     ]
    }
   ],
   "source": [
    "R125_x,P= calc_outlet_xP(data,m,\"R125\", \"bmimAc\", k21, k12,verbose=True)"
   ]
  },
  {
   "cell_type": "code",
   "execution_count": 23,
   "id": "streaming-mountain",
   "metadata": {},
   "outputs": [
    {
     "data": {
      "image/png": "[encoded data removed]",
      "text/plain": [
       "<Figure size 432x288 with 1 Axes>"
      ]
     },
     "metadata": {
      "needs_background": "light"
     },
     "output_type": "display_data"
    }
   ],
   "source": [
    "plt.plot(R125_x,P,\"m*-\",label=\"T= 298 K\")\n",
    "plt.plot(data[\"x_R125\"],data[\"pressure\"],\"*\",color='orange',label=\"data\")  \n",
    "plt.title('Isotherm [R125][bmimAc] fit to T= 298 K')\n",
    "plt.ylabel('Pressure (Pa)')\n",
    "plt.xlabel('x R125')\n",
    "plt.grid(True)\n",
    "# plt.ylim(0,1300000)\n",
    "plt.legend()\n",
    "plt.show()"
   ]
  },
  {
   "cell_type": "code",
   "execution_count": null,
   "id": "innocent-jacket",
   "metadata": {},
   "outputs": [],
   "source": []
  }
 ],
 "metadata": {
  "kernelspec": {
   "display_name": "Python 3",
   "language": "python",
   "name": "python3"
  },
  "language_info": {
   "codemirror_mode": {
    "name": "ipython",
    "version": 3
   },
   "file_extension": ".py",
   "mimetype": "text/x-python",
   "name": "python",
   "nbconvert_exporter": "python",
   "pygments_lexer": "ipython3",
   "version": "3.9.2"
  }
 },
 "nbformat": 4,
 "nbformat_minor": 5
}
