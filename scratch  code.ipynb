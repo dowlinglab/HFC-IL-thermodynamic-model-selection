{
 "cells": [
  {
   "cell_type": "code",
   "execution_count": 7,
   "id": "architectural-berlin",
   "metadata": {},
   "outputs": [],
   "source": [
    "def calc_outlet_xP(data,HFC, IL, k21,k12,verbose=False):\n",
    "    '''Inputs\n",
    "            Data - csv file for x,T,P data HFC-IL\n",
    "            HFC  - string with name of HFC (i.e.\"R125\")\n",
    "            IL   - string with name of IL (i.e. \"emimTf2N\")\n",
    "            k21  - binary parameter IL-HFC\n",
    "            k12  - binary parameter HFC-IL\n",
    "            \n",
    "            '''\n",
    "    # create zeros arrays to be filled with x1 and P1\n",
    "    HFC_x = np.zeros((len(data)))\n",
    "    P = np.zeros((len(data)))\n",
    "    \n",
    "    # data labels\n",
    "    x_IL= \"x_\"+IL\n",
    "    x_HFC= \"x_\"+HFC\n",
    "    \n",
    "    #print\n",
    "    print(x_IL)\n",
    "    print(x_HFC)\n",
    "    \n",
    "    # model constraints\n",
    "    m.fs.liq = Param(mutable=True,default=0.040)\n",
    "    m.fs.liquid = Constraint(expr=m.fs.F101.liq_outlet.mole_frac_comp[0, IL] == m.fs.liq)\n",
    "\n",
    "    for i in range(len(data)):\n",
    "        m.fs.liq = data[x_IL].iloc[i]\n",
    "        m.fs.F101.inlet.flow_mol.fix(1) \n",
    "        m.fs.F101.inlet.temperature.fix(float(data[\"temperature\"].iloc[i]))\n",
    "        m.fs.F101.inlet.pressure.fix(float(data[\"pressure\"].iloc[i]))\n",
    "        m.fs.F101.inlet.mole_frac_comp[0, HFC].fix(float(data[x_HFC].iloc[i])+0.1)\n",
    "        m.fs.F101.inlet.mole_frac_comp[0, IL].fix(float(1-(data[x_HFC].iloc[i]+0.1)))\n",
    "        m.fs.F101.vap_outlet.temperature.fix(float(data[\"temperature\"].iloc[i]))\n",
    "        m.fs.properties.PR_kappa[IL, HFC].fix(k21) # (-0.20093)\n",
    "        m.fs.properties.PR_kappa[HFC, IL].fix(k12) # (-0.05619)\n",
    "\n",
    "        if verbose:\n",
    "            DOF_final = degrees_of_freedom(m)\n",
    "            print(\"The final DOF is {0}\".format(DOF_final))\n",
    "\n",
    "        # solver\n",
    "        m.fs.F101.initialize(outlvl=idaeslog.CRITICAL)\n",
    "        solver = SolverFactory('ipopt')\n",
    "        solver.options = {'tol': 1e-6}\n",
    "        status = solver.solve(m, tee = False)\n",
    "    #     m.fs.F101.report()\n",
    "        if (status.solver.status == SolverStatus.ok) and (status.solver.termination_condition == TerminationCondition.optimal):\n",
    "            HFC_x[i] = value(m.fs.F101.liq_outlet.mole_frac_comp[0,HFC]) \n",
    "            P[i] = value(m.fs.F101.vap_outlet.pressure[0])\n",
    "        else:\n",
    "            print('Infeasible.')\n",
    "            \n",
    "    return(HFC_x,P)"
   ]
  }
 ],
 "metadata": {
  "kernelspec": {
   "display_name": "Python 3",
   "language": "python",
   "name": "python3"
  },
  "language_info": {
   "codemirror_mode": {
    "name": "ipython",
    "version": 3
   },
   "file_extension": ".py",
   "mimetype": "text/x-python",
   "name": "python",
   "nbconvert_exporter": "python",
   "pygments_lexer": "ipython3",
   "version": "3.9.2"
  }
 },
 "nbformat": 4,
 "nbformat_minor": 5
}
