{
 "cells": [
  {
   "cell_type": "code",
   "execution_count": 1,
   "id": "based-stuart",
   "metadata": {},
   "outputs": [],
   "source": [
    "# import functions\n",
    "import idaes\n",
    "import matplotlib.pyplot as plt\n",
    "import pandas as pd\n",
    "import numpy as np\n",
    "from pyomo.environ import (Constraint,\n",
    "                           Var,\n",
    "                           ConcreteModel,\n",
    "                           Expression,\n",
    "                           Param,\n",
    "                           Objective,\n",
    "                           SolverFactory,\n",
    "                           TransformationFactory,\n",
    "                           value)\n",
    "\n",
    "from idaes.core import FlowsheetBlock\n",
    "import idaes.logger as idaeslog\n",
    "from pyomo.opt import TerminationCondition, SolverStatus\n",
    "# Import the Generic Parameter Block\n",
    "from idaes.generic_models.properties.core.generic.generic_property import (\n",
    "        GenericParameterBlock)\n",
    "# Import unit models from the model library\n",
    "from idaes.generic_models.unit_models import Flash\n",
    "# Import degrees of freedom tool\n",
    "from idaes.core.util.model_statistics import degrees_of_freedom\n",
    "# parmest (binary_param2)\n",
    "from binary_param2 import binary_params_peng"
   ]
  },
  {
   "cell_type": "code",
   "execution_count": 2,
   "id": "skilled-offense",
   "metadata": {},
   "outputs": [],
   "source": [
    "# from HFC32_emimTf2N_PR import configuration\n",
    "from HFC32_bmimBF4_PR import configuration"
   ]
  },
  {
   "cell_type": "code",
   "execution_count": 3,
   "id": "rural-lottery",
   "metadata": {},
   "outputs": [],
   "source": [
    "#need to make excel csv for 125\n",
    "data = pd.read_csv('R32_bmimBF4.csv')\n",
    "# print(data)"
   ]
  },
  {
   "cell_type": "code",
   "execution_count": 13,
   "id": "growing-rogers",
   "metadata": {},
   "outputs": [],
   "source": [
    "# 283\n",
    "data_283= data[(data.temperature > 282) & (data.temperature< 284)]\n",
    "\n",
    "# 298\n",
    "data_298 = data[(data.temperature > 297) & (data.temperature< 299)]\n",
    "data_298 = data_298.reset_index(drop=True)\n",
    "\n",
    "# 323\n",
    "data_323 = data[(data.temperature > 322) & (data.temperature< 324)]\n",
    "data_323 = data_323.reset_index(drop=True)\n",
    "\n",
    "# 323\n",
    "data_348 = data[(data.temperature > 347) & (data.temperature< 349)]\n",
    "data_348 = data_348.reset_index(drop=True)"
   ]
  },
  {
   "cell_type": "code",
   "execution_count": 17,
   "id": "vietnamese-shelf",
   "metadata": {},
   "outputs": [
    {
     "name": "stdout",
     "output_type": "stream",
     "text": [
      "2021-03-30 15:35:54 [INFO] idaes.generic_models.properties.core.generic.generic_property: DEPRECATED - definiton of generic property packages is moving to using static classes instead of modules. Please refer to the IDAES documentation.\n",
      "The initial DOF is 7\n"
     ]
    }
   ],
   "source": [
    "m = ConcreteModel()\n",
    "m.fs = FlowsheetBlock(default={\"dynamic\": False})\n",
    "m.fs.properties = GenericParameterBlock(default=configuration)\n",
    "m.fs.F101 = Flash(default={\"property_package\": m.fs.properties,\n",
    "                           \"has_heat_transfer\": True,\n",
    "                           \"has_pressure_change\": True})\n",
    "DOF_initial = degrees_of_freedom(m)\n",
    "print('The initial DOF is {0}'.format(DOF_initial))"
   ]
  },
  {
   "cell_type": "code",
   "execution_count": 18,
   "id": "italic-filename",
   "metadata": {},
   "outputs": [],
   "source": [
    "def calc_outlet_xP(data,k21,k12,verbose=False):\n",
    "    # create zeros arrays to be filled with x1 and P1\n",
    "    R32_x = np.zeros((len(data)))\n",
    "    P = np.zeros((len(data)))\n",
    "    \n",
    "    # model constraints\n",
    "    m.fs.liq = Param(mutable=True,default=0.040)\n",
    "    m.fs.liquid = Constraint(expr=m.fs.F101.liq_outlet.mole_frac_comp[0, \"bmimBF4\"] == m.fs.liq)\n",
    "\n",
    "    for i in range(len(data)):\n",
    "        m.fs.liq = data[\"x_bmimBF4\"].iloc[i]\n",
    "        m.fs.F101.inlet.flow_mol.fix(1) \n",
    "        m.fs.F101.inlet.temperature.fix(float(data[\"temperature\"].iloc[i]))\n",
    "        m.fs.F101.inlet.pressure.fix(float(data[\"pressure\"].iloc[i]))\n",
    "        m.fs.F101.inlet.mole_frac_comp[0,'R32'].fix(float(data[\"x_R32\"].iloc[i])+0.1)\n",
    "        m.fs.F101.inlet.mole_frac_comp[0,'bmimBF4'].fix(float(1-(data[\"x_R32\"].iloc[i]+0.1)))\n",
    "        m.fs.F101.vap_outlet.temperature.fix(float(data[\"temperature\"].iloc[i]))\n",
    "        m.fs.properties.PR_kappa['bmimBF4', 'R32'].fix(k21) # (-0.20093)\n",
    "        m.fs.properties.PR_kappa['R32', 'bmimBF4'].fix(k12) # (-0.05619)\n",
    "\n",
    "        if verbose:\n",
    "            DOF_final = degrees_of_freedom(m)\n",
    "            print(\"The final DOF is {0}\".format(DOF_final))\n",
    "\n",
    "        # solver\n",
    "        m.fs.F101.initialize(outlvl=idaeslog.CRITICAL)\n",
    "        solver = SolverFactory('ipopt')\n",
    "        solver.options = {'tol': 1e-6}\n",
    "        status = solver.solve(m, tee = False)\n",
    "    #     m.fs.F101.report()\n",
    "        if (status.solver.status == SolverStatus.ok) and (status.solver.termination_condition == TerminationCondition.optimal):\n",
    "            R32_x[i] = value(m.fs.F101.liq_outlet.mole_frac_comp[0,'R32']) \n",
    "            P[i] = value(m.fs.F101.vap_outlet.pressure[0])\n",
    "        else:\n",
    "            print('Infeasible.')\n",
    "    return(R32_x,P)"
   ]
  },
  {
   "cell_type": "markdown",
   "id": "assumed-ocean",
   "metadata": {},
   "source": [
    "###### T = 283 K"
   ]
  },
  {
   "cell_type": "code",
   "execution_count": 19,
   "id": "involved-europe",
   "metadata": {},
   "outputs": [
    {
     "name": "stdout",
     "output_type": "stream",
     "text": [
      "2021-03-30 15:36:09 [INFO] idaes.generic_models.properties.core.generic.generic_property: DEPRECATED - definiton of generic property packages is moving to using static classes instead of modules. Please refer to the IDAES documentation.\n",
      "2021-03-30 15:36:10 [INFO] idaes.init.fs.state_block: Property package initialization: optimal - Optimal Solution Found.\n",
      "2021-03-30 15:36:10 [INFO] idaes.generic_models.properties.core.generic.generic_property: DEPRECATED - definiton of generic property packages is moving to using static classes instead of modules. Please refer to the IDAES documentation.\n",
      "2021-03-30 15:36:10 [INFO] idaes.init.fs.state_block: Property package initialization: optimal - Optimal Solution Found.\n",
      "2021-03-30 15:36:10 [INFO] idaes.generic_models.properties.core.generic.generic_property: DEPRECATED - definiton of generic property packages is moving to using static classes instead of modules. Please refer to the IDAES documentation.\n",
      "2021-03-30 15:36:10 [INFO] idaes.init.fs.state_block: Property package initialization: optimal - Optimal Solution Found.\n",
      "2021-03-30 15:36:10 [INFO] idaes.generic_models.properties.core.generic.generic_property: DEPRECATED - definiton of generic property packages is moving to using static classes instead of modules. Please refer to the IDAES documentation.\n",
      "2021-03-30 15:36:11 [INFO] idaes.init.fs.state_block: Property package initialization: optimal - Optimal Solution Found.\n",
      "2021-03-30 15:36:11 [INFO] idaes.generic_models.properties.core.generic.generic_property: DEPRECATED - definiton of generic property packages is moving to using static classes instead of modules. Please refer to the IDAES documentation.\n",
      "2021-03-30 15:36:11 [INFO] idaes.init.fs.state_block: Property package initialization: optimal - Optimal Solution Found.\n",
      "2021-03-30 15:36:11 [INFO] idaes.generic_models.properties.core.generic.generic_property: DEPRECATED - definiton of generic property packages is moving to using static classes instead of modules. Please refer to the IDAES documentation.\n",
      "2021-03-30 15:36:11 [INFO] idaes.init.fs.state_block: Property package initialization: optimal - Optimal Solution Found.\n",
      "2021-03-30 15:36:11 [INFO] idaes.generic_models.properties.core.generic.generic_property: DEPRECATED - definiton of generic property packages is moving to using static classes instead of modules. Please refer to the IDAES documentation.\n",
      "2021-03-30 15:36:11 [INFO] idaes.init.fs.state_block: Property package initialization: optimal - Optimal Solution Found.\n",
      "Ipopt 3.13.2: \n",
      "\n",
      "******************************************************************************\n",
      "This program contains Ipopt, a library for large-scale nonlinear optimization.\n",
      " Ipopt is released as open source code under the Eclipse Public License (EPL).\n",
      "         For more information visit http://projects.coin-or.org/Ipopt\n",
      "\n",
      "This version of Ipopt was compiled from source code available at\n",
      "    https://github.com/IDAES/Ipopt as part of the Institute for the Design of\n",
      "    Advanced Energy Systems Process Systems Engineering Framework (IDAES PSE\n",
      "    Framework) Copyright (c) 2018-2019. See https://github.com/IDAES/idaes-pse.\n",
      "\n",
      "This version of Ipopt was compiled using HSL, a collection of Fortran codes\n",
      "    for large-scale scientific computation.  All technical papers, sales and\n",
      "    publicity material resulting from use of the HSL codes within IPOPT must\n",
      "    contain the following acknowledgement:\n",
      "        HSL, a collection of Fortran codes for large-scale scientific\n",
      "        computation. See http://www.hsl.rl.ac.uk.\n",
      "******************************************************************************\n",
      "\n",
      "This is Ipopt version 3.13.2, running with linear solver ma27.\n",
      "\n",
      "Number of nonzeros in equality constraint Jacobian...:      238\n",
      "Number of nonzeros in inequality constraint Jacobian.:        0\n",
      "Number of nonzeros in Lagrangian Hessian.............:      238\n",
      "\n",
      "Total number of variables............................:      100\n",
      "                     variables with only lower bounds:       42\n",
      "                variables with lower and upper bounds:       42\n",
      "                     variables with only upper bounds:        0\n",
      "Total number of equality constraints.................:       98\n",
      "Total number of inequality constraints...............:        0\n",
      "        inequality constraints with only lower bounds:        0\n",
      "   inequality constraints with lower and upper bounds:        0\n",
      "        inequality constraints with only upper bounds:        0\n",
      "\n",
      "iter    objective    inf_pr   inf_du lg(mu)  ||d||  lg(rg) alpha_du alpha_pr  ls\n",
      "   0  0.0000000e+00 8.58e-02 9.99e-15  -1.0 0.00e+00    -  0.00e+00 0.00e+00   0\n",
      "   1  1.3687929e-02 7.87e-03 1.33e+01  -1.0 5.72e+03    -  9.66e-01 9.90e-01h  1\n",
      "   2  1.3958474e-02 1.18e-04 3.60e+00  -1.0 6.38e+01    -  9.87e-01 9.90e-01h  1\n",
      "   3  1.3085449e-02 5.51e-05 1.19e+03  -1.0 1.01e+03    -  9.88e-01 1.00e+00h  1\n",
      "   4  1.8108130e-02 3.04e-05 9.90e+04  -1.0 4.01e+03    -  9.90e-01 1.00e+00F  1\n",
      "   5  1.8623347e-02 1.41e-06 9.72e+02  -1.0 1.66e+02    -  9.90e-01 1.00e+00h  1\n",
      "   6  1.2343813e-02 4.78e-04 2.25e+04  -2.5 3.39e+03    -  9.98e-01 1.00e+00f  1\n",
      "   7  1.2321833e-02 8.72e-07 2.26e-04  -2.5 1.82e+02    -  1.00e+00 1.00e+00h  1\n",
      "   8  1.2316273e-02 5.51e-07 6.45e+01  -8.6 1.10e+02    -  1.00e+00 1.00e+00h  1\n",
      "   9  1.2316284e-02 1.12e-11 2.72e-10  -8.6 2.04e-01    -  1.00e+00 1.00e+00h  1\n",
      "\n",
      "Number of Iterations....: 9\n",
      "\n",
      "                                   (scaled)                 (unscaled)\n",
      "Objective...............:   1.2316284133648570e-02    1.2316284133648570e-02\n",
      "Dual infeasibility......:   2.7171199663707230e-10    2.7171199663707230e-10\n",
      "Constraint violation....:   1.1227463403429283e-11    1.1227463403429283e-11\n",
      "Complementarity.........:   2.5252205967727671e-09    2.5252205967727671e-09\n",
      "Overall NLP error.......:   2.5252205967727671e-09    2.5252205967727671e-09\n",
      "\n",
      "\n",
      "Number of objective function evaluations             = 11\n",
      "Number of objective gradient evaluations             = 10\n",
      "Number of equality constraint evaluations            = 11\n",
      "Number of inequality constraint evaluations          = 0\n",
      "Number of equality constraint Jacobian evaluations   = 10\n",
      "Number of inequality constraint Jacobian evaluations = 0\n",
      "Number of Lagrangian Hessian evaluations             = 9\n",
      "Total CPU secs in IPOPT (w/o function evaluations)   =      0.004\n",
      "Total CPU secs in NLP function evaluations           =      0.014\n",
      "\n",
      "EXIT: Optimal Solution Found.\n",
      "The SSE at the optimal solution is 0.012316\n",
      "\n",
      "The values for the parameters are as follows:\n",
      "fs.properties.PR_kappa[R32,bmimBF4] = 0.005625971885752763\n",
      "fs.properties.PR_kappa[bmimBF4,R32] = -0.018950738657710006\n"
     ]
    }
   ],
   "source": [
    "# from HFC32_emimTf2N_PR import configuration\n",
    "binary_params_peng(data_283,configuration, 'R32', 'bmimBF4', \"x_R32\", \"x_bmimBF4\", \n",
    "    init_temp = 283.2, init_press = 399500, init_x_c1 = 0.374 , init_x_c2 = 0.626 ,\n",
    "    init_kappa_2_1 = -0.019, init_kappa_1_2 =  0.0056, eps = 0.1, scaling_fac = 1e-9, read=False)"
   ]
  },
  {
   "cell_type": "code",
   "execution_count": 20,
   "id": "turkish-guest",
   "metadata": {},
   "outputs": [],
   "source": [
    "k12_283 = 0.005625974168616829\n",
    "k21_283 = -0.01895073670861511"
   ]
  },
  {
   "cell_type": "code",
   "execution_count": 21,
   "id": "european-seeker",
   "metadata": {},
   "outputs": [],
   "source": [
    "R32_x,P= calc_outlet_xP(data,k21_283,k12_283, verbose=True)"
   ]
  },
  {
   "cell_type": "code",
   "execution_count": 22,
   "id": "cross-latter",
   "metadata": {},
   "outputs": [
    {
     "data": {
      "image/png": "[encoded data removed]",
      "text/plain": [
       "<Figure size 432x288 with 1 Axes>"
      ]
     },
     "metadata": {
      "needs_background": "light"
     },
     "output_type": "display_data"
    }
   ],
   "source": [
    "# plots with data - model as lines --- need to make this into a function that splits up the T's\n",
    "plt.plot(R32_x[0:7],P[0:7],\"b*-\",label=\"T= 283 K\")  \n",
    "plt.plot(R32_x[7:15],P[7:15],\"r*-\",label=\"T= 298 K\") \n",
    "plt.plot(R32_x[15:23],P[15:23],\"c*-\",label=\"T= 323 K\") \n",
    "plt.plot(R32_x[23:],P[23:],\"m*-\",label=\"T= 348 K\")\n",
    "plt.plot(data[\"x_R32\"],data[\"pressure\"],\"*\",color='orange',label=\"data\")  \n",
    "plt.title('Isotherm [R32][bmimBF4]')\n",
    "plt.ylabel('Pressure (Pa)')\n",
    "plt.xlabel('x R32')\n",
    "plt.grid(True)\n",
    "plt.ylim(0,)\n",
    "plt.legend()\n",
    "plt.show()"
   ]
  },
  {
   "cell_type": "markdown",
   "id": "greater-touch",
   "metadata": {},
   "source": [
    "### T = 298 K"
   ]
  },
  {
   "cell_type": "code",
   "execution_count": 23,
   "id": "polyphonic-lecture",
   "metadata": {},
   "outputs": [
    {
     "name": "stdout",
     "output_type": "stream",
     "text": [
      "2021-03-30 15:37:25 [INFO] idaes.generic_models.properties.core.generic.generic_property: DEPRECATED - definiton of generic property packages is moving to using static classes instead of modules. Please refer to the IDAES documentation.\n",
      "2021-03-30 15:37:25 [INFO] idaes.init.fs.state_block: Property package initialization: optimal - Optimal Solution Found.\n",
      "2021-03-30 15:37:25 [INFO] idaes.generic_models.properties.core.generic.generic_property: DEPRECATED - definiton of generic property packages is moving to using static classes instead of modules. Please refer to the IDAES documentation.\n",
      "2021-03-30 15:37:25 [INFO] idaes.init.fs.state_block: Property package initialization: optimal - Optimal Solution Found.\n",
      "2021-03-30 15:37:25 [INFO] idaes.generic_models.properties.core.generic.generic_property: DEPRECATED - definiton of generic property packages is moving to using static classes instead of modules. Please refer to the IDAES documentation.\n",
      "2021-03-30 15:37:25 [INFO] idaes.init.fs.state_block: Property package initialization: optimal - Optimal Solution Found.\n",
      "2021-03-30 15:37:25 [INFO] idaes.generic_models.properties.core.generic.generic_property: DEPRECATED - definiton of generic property packages is moving to using static classes instead of modules. Please refer to the IDAES documentation.\n",
      "2021-03-30 15:37:26 [INFO] idaes.init.fs.state_block: Property package initialization: optimal - Optimal Solution Found.\n",
      "2021-03-30 15:37:26 [INFO] idaes.generic_models.properties.core.generic.generic_property: DEPRECATED - definiton of generic property packages is moving to using static classes instead of modules. Please refer to the IDAES documentation.\n",
      "2021-03-30 15:37:26 [INFO] idaes.init.fs.state_block: Property package initialization: optimal - Optimal Solution Found.\n",
      "2021-03-30 15:37:26 [INFO] idaes.generic_models.properties.core.generic.generic_property: DEPRECATED - definiton of generic property packages is moving to using static classes instead of modules. Please refer to the IDAES documentation.\n",
      "2021-03-30 15:37:26 [INFO] idaes.init.fs.state_block: Property package initialization: optimal - Optimal Solution Found.\n",
      "2021-03-30 15:37:26 [INFO] idaes.generic_models.properties.core.generic.generic_property: DEPRECATED - definiton of generic property packages is moving to using static classes instead of modules. Please refer to the IDAES documentation.\n",
      "2021-03-30 15:37:26 [INFO] idaes.init.fs.state_block: Property package initialization: optimal - Optimal Solution Found.\n",
      "2021-03-30 15:37:26 [INFO] idaes.generic_models.properties.core.generic.generic_property: DEPRECATED - definiton of generic property packages is moving to using static classes instead of modules. Please refer to the IDAES documentation.\n",
      "2021-03-30 15:37:27 [INFO] idaes.init.fs.state_block: Property package initialization: optimal - Optimal Solution Found.\n",
      "Ipopt 3.13.2: \n",
      "\n",
      "******************************************************************************\n",
      "This program contains Ipopt, a library for large-scale nonlinear optimization.\n",
      " Ipopt is released as open source code under the Eclipse Public License (EPL).\n",
      "         For more information visit http://projects.coin-or.org/Ipopt\n",
      "\n",
      "This version of Ipopt was compiled from source code available at\n",
      "    https://github.com/IDAES/Ipopt as part of the Institute for the Design of\n",
      "    Advanced Energy Systems Process Systems Engineering Framework (IDAES PSE\n",
      "    Framework) Copyright (c) 2018-2019. See https://github.com/IDAES/idaes-pse.\n",
      "\n",
      "This version of Ipopt was compiled using HSL, a collection of Fortran codes\n",
      "    for large-scale scientific computation.  All technical papers, sales and\n",
      "    publicity material resulting from use of the HSL codes within IPOPT must\n",
      "    contain the following acknowledgement:\n",
      "        HSL, a collection of Fortran codes for large-scale scientific\n",
      "        computation. See http://www.hsl.rl.ac.uk.\n",
      "******************************************************************************\n",
      "\n",
      "This is Ipopt version 3.13.2, running with linear solver ma27.\n",
      "\n",
      "Number of nonzeros in equality constraint Jacobian...:      272\n",
      "Number of nonzeros in inequality constraint Jacobian.:        0\n",
      "Number of nonzeros in Lagrangian Hessian.............:      272\n",
      "\n",
      "Total number of variables............................:      114\n",
      "                     variables with only lower bounds:       48\n",
      "                variables with lower and upper bounds:       48\n",
      "                     variables with only upper bounds:        0\n",
      "Total number of equality constraints.................:      112\n",
      "Total number of inequality constraints...............:        0\n",
      "        inequality constraints with only lower bounds:        0\n",
      "   inequality constraints with lower and upper bounds:        0\n",
      "        inequality constraints with only upper bounds:        0\n",
      "\n",
      "iter    objective    inf_pr   inf_du lg(mu)  ||d||  lg(rg) alpha_du alpha_pr  ls\n",
      "   0  0.0000000e+00 1.73e-01 8.88e-16  -1.0 0.00e+00    -  0.00e+00 0.00e+00   0\n",
      "   1  5.2313779e-03 1.87e-01 1.60e+03  -1.0 3.91e+03    -  7.27e-01 9.90e-01h  1\n",
      "   2  5.5568627e-03 3.19e-02 2.60e+02  -1.0 2.08e+02    -  8.24e-01 9.90e-01h  1\n",
      "   3  5.5672355e-03 1.59e-03 1.01e+03  -1.0 6.06e+01    -  9.90e-01 1.00e+00h  1\n",
      "   4  6.4073991e-03 1.37e-04 1.23e+05  -1.0 1.28e+03    -  9.88e-01 1.00e+00h  1\n",
      "   5  2.3166259e-02 2.11e-03 1.23e+03  -1.0 4.88e+03    -  9.90e-01 1.00e+00f  1\n",
      "   6  5.8583892e-03 2.39e-03 2.74e+04  -2.5 5.37e+03    -  9.97e-01 1.00e+00h  1\n",
      "   7  5.5672349e-03 1.90e-05 4.04e-03  -2.5 6.42e+02    -  1.00e+00 1.00e+00h  1\n",
      "   8  5.5462232e-03 4.91e-06 9.64e-04  -5.7 2.17e+02    -  1.00e+00 1.00e+00h  1\n",
      "   9  5.5462545e-03 3.54e-11 1.34e-08  -5.7 1.09e+00    -  1.00e+00 1.00e+00h  1\n",
      "iter    objective    inf_pr   inf_du lg(mu)  ||d||  lg(rg) alpha_du alpha_pr  ls\n",
      "  10  5.5462545e-03 2.82e-12 3.82e-10  -8.6 1.37e-01    -  1.00e+00 1.00e+00h  1\n",
      "\n",
      "Number of Iterations....: 10\n",
      "\n",
      "                                   (scaled)                 (unscaled)\n",
      "Objective...............:   5.5462544699551950e-03    5.5462544699551950e-03\n",
      "Dual infeasibility......:   3.8159121287426396e-10    3.8159121287426396e-10\n",
      "Constraint violation....:   2.8235191962266981e-12    2.8235191962266981e-12\n",
      "Complementarity.........:   2.5123116181002864e-09    2.5123116181002864e-09\n",
      "Overall NLP error.......:   2.5123116181002864e-09    2.5123116181002864e-09\n",
      "\n",
      "\n",
      "Number of objective function evaluations             = 11\n",
      "Number of objective gradient evaluations             = 11\n",
      "Number of equality constraint evaluations            = 11\n",
      "Number of inequality constraint evaluations          = 0\n",
      "Number of equality constraint Jacobian evaluations   = 11\n",
      "Number of inequality constraint Jacobian evaluations = 0\n",
      "Number of Lagrangian Hessian evaluations             = 10\n",
      "Total CPU secs in IPOPT (w/o function evaluations)   =      0.004\n",
      "Total CPU secs in NLP function evaluations           =      0.018\n",
      "\n",
      "EXIT: Optimal Solution Found.\n",
      "The SSE at the optimal solution is 0.005546\n",
      "\n",
      "The values for the parameters are as follows:\n",
      "fs.properties.PR_kappa[R32,bmimBF4] = -0.006368701203852821\n",
      "fs.properties.PR_kappa[bmimBF4,R32] = -0.13572948246274677\n"
     ]
    }
   ],
   "source": [
    "# from HFC32_emimTf2N_PR import configuration\n",
    "binary_params_peng(data_298, configuration, 'R32', 'bmimBF4', \"x_R32\", \"x_bmimBF4\", \n",
    "    init_temp = 298, init_press = 399900, init_x_c1 = 0.272 , init_x_c2 = 0.728 ,\n",
    "    init_kappa_2_1 = 0.097, init_kappa_1_2 =  0.02, eps = 0.1, scaling_fac = 1e-9, read=False)"
   ]
  },
  {
   "cell_type": "code",
   "execution_count": 24,
   "id": "taken-theme",
   "metadata": {},
   "outputs": [],
   "source": [
    "k12_298 = -0.006368701203852821\n",
    "k21_298 = -0.13572948246274677"
   ]
  },
  {
   "cell_type": "code",
   "execution_count": 27,
   "id": "right-proceeding",
   "metadata": {},
   "outputs": [
    {
     "name": "stdout",
     "output_type": "stream",
     "text": [
      "WARNING: Implicitly replacing the Component attribute liq (type=<class\n",
      "    'pyomo.core.base.param.SimpleParam'>) on block fs with a new Component\n",
      "    (type=<class 'pyomo.core.base.param.SimpleParam'>). This is usually\n",
      "    indicative of a modelling error. To avoid this warning, use\n",
      "    block.del_component() and block.add_component().\n",
      "WARNING: Implicitly replacing the Component attribute liquid (type=<class\n",
      "    'pyomo.core.base.constraint.SimpleConstraint'>) on block fs with a new\n",
      "    Component (type=<class\n",
      "    'pyomo.core.base.constraint.AbstractSimpleConstraint'>). This is usually\n",
      "    indicative of a modelling error. To avoid this warning, use\n",
      "    block.del_component() and block.add_component().\n"
     ]
    }
   ],
   "source": [
    "R32_x,P= calc_outlet_xP(data,k21_298,k12_298, verbose=False)"
   ]
  },
  {
   "cell_type": "code",
   "execution_count": 28,
   "id": "improving-dover",
   "metadata": {},
   "outputs": [
    {
     "data": {
      "image/png": "[encoded data removed]",
      "text/plain": [
       "<Figure size 432x288 with 1 Axes>"
      ]
     },
     "metadata": {
      "needs_background": "light"
     },
     "output_type": "display_data"
    }
   ],
   "source": [
    "# plots with data - model as lines --- need to make this into a function that splits up the T's\n",
    "plt.plot(R32_x[0:7],P[0:7],\"b*-\",label=\"T= 283 K\")  \n",
    "plt.plot(R32_x[7:15],P[7:15],\"r*-\",label=\"T= 298 K\") \n",
    "plt.plot(R32_x[15:23],P[15:23],\"c*-\",label=\"T= 323 K\") \n",
    "plt.plot(R32_x[23:],P[23:],\"m*-\",label=\"T= 348 K\")\n",
    "plt.plot(data[\"x_R32\"],data[\"pressure\"],\"*\",color='orange',label=\"data\")  \n",
    "plt.title('Isotherm [R32][bmimBF4]')\n",
    "plt.ylabel('Pressure (Pa)')\n",
    "plt.xlabel('x R32')\n",
    "plt.grid(True)\n",
    "plt.ylim(0,)\n",
    "plt.legend()\n",
    "plt.show()"
   ]
  },
  {
   "cell_type": "markdown",
   "id": "regulation-austin",
   "metadata": {},
   "source": [
    "### T= 323 K"
   ]
  },
  {
   "cell_type": "code",
   "execution_count": 35,
   "id": "polished-deputy",
   "metadata": {},
   "outputs": [
    {
     "name": "stdout",
     "output_type": "stream",
     "text": [
      "2021-03-30 15:43:44 [INFO] idaes.generic_models.properties.core.generic.generic_property: DEPRECATED - definiton of generic property packages is moving to using static classes instead of modules. Please refer to the IDAES documentation.\n",
      "2021-03-30 15:43:45 [INFO] idaes.init.fs.state_block: Property package initialization: optimal - Optimal Solution Found.\n",
      "2021-03-30 15:43:45 [INFO] idaes.generic_models.properties.core.generic.generic_property: DEPRECATED - definiton of generic property packages is moving to using static classes instead of modules. Please refer to the IDAES documentation.\n",
      "2021-03-30 15:43:45 [INFO] idaes.init.fs.state_block: Property package initialization: optimal - Optimal Solution Found.\n",
      "2021-03-30 15:43:45 [INFO] idaes.generic_models.properties.core.generic.generic_property: DEPRECATED - definiton of generic property packages is moving to using static classes instead of modules. Please refer to the IDAES documentation.\n",
      "2021-03-30 15:43:45 [INFO] idaes.init.fs.state_block: Property package initialization: optimal - Optimal Solution Found.\n",
      "2021-03-30 15:43:45 [INFO] idaes.generic_models.properties.core.generic.generic_property: DEPRECATED - definiton of generic property packages is moving to using static classes instead of modules. Please refer to the IDAES documentation.\n",
      "2021-03-30 15:43:45 [INFO] idaes.init.fs.state_block: Property package initialization: optimal - Optimal Solution Found.\n",
      "2021-03-30 15:43:46 [INFO] idaes.generic_models.properties.core.generic.generic_property: DEPRECATED - definiton of generic property packages is moving to using static classes instead of modules. Please refer to the IDAES documentation.\n",
      "2021-03-30 15:43:46 [INFO] idaes.init.fs.state_block: Property package initialization: optimal - Optimal Solution Found.\n",
      "2021-03-30 15:43:46 [INFO] idaes.generic_models.properties.core.generic.generic_property: DEPRECATED - definiton of generic property packages is moving to using static classes instead of modules. Please refer to the IDAES documentation.\n",
      "2021-03-30 15:43:46 [INFO] idaes.init.fs.state_block: Property package initialization: optimal - Optimal Solution Found.\n",
      "2021-03-30 15:43:46 [INFO] idaes.generic_models.properties.core.generic.generic_property: DEPRECATED - definiton of generic property packages is moving to using static classes instead of modules. Please refer to the IDAES documentation.\n",
      "2021-03-30 15:43:46 [INFO] idaes.init.fs.state_block: Property package initialization: optimal - Optimal Solution Found.\n",
      "2021-03-30 15:43:46 [INFO] idaes.generic_models.properties.core.generic.generic_property: DEPRECATED - definiton of generic property packages is moving to using static classes instead of modules. Please refer to the IDAES documentation.\n",
      "2021-03-30 15:43:47 [INFO] idaes.init.fs.state_block: Property package initialization: optimal - Optimal Solution Found.\n",
      "Ipopt 3.13.2: \n",
      "\n",
      "******************************************************************************\n",
      "This program contains Ipopt, a library for large-scale nonlinear optimization.\n",
      " Ipopt is released as open source code under the Eclipse Public License (EPL).\n",
      "         For more information visit http://projects.coin-or.org/Ipopt\n",
      "\n",
      "This version of Ipopt was compiled from source code available at\n",
      "    https://github.com/IDAES/Ipopt as part of the Institute for the Design of\n",
      "    Advanced Energy Systems Process Systems Engineering Framework (IDAES PSE\n",
      "    Framework) Copyright (c) 2018-2019. See https://github.com/IDAES/idaes-pse.\n",
      "\n",
      "This version of Ipopt was compiled using HSL, a collection of Fortran codes\n",
      "    for large-scale scientific computation.  All technical papers, sales and\n",
      "    publicity material resulting from use of the HSL codes within IPOPT must\n",
      "    contain the following acknowledgement:\n",
      "        HSL, a collection of Fortran codes for large-scale scientific\n",
      "        computation. See http://www.hsl.rl.ac.uk.\n",
      "******************************************************************************\n",
      "\n",
      "This is Ipopt version 3.13.2, running with linear solver ma27.\n",
      "\n",
      "Number of nonzeros in equality constraint Jacobian...:      272\n",
      "Number of nonzeros in inequality constraint Jacobian.:        0\n",
      "Number of nonzeros in Lagrangian Hessian.............:      272\n",
      "\n",
      "Total number of variables............................:      114\n",
      "                     variables with only lower bounds:       48\n",
      "                variables with lower and upper bounds:       48\n",
      "                     variables with only upper bounds:        0\n",
      "Total number of equality constraints.................:      112\n",
      "Total number of inequality constraints...............:        0\n",
      "        inequality constraints with only lower bounds:        0\n",
      "   inequality constraints with lower and upper bounds:        0\n",
      "        inequality constraints with only upper bounds:        0\n",
      "\n",
      "iter    objective    inf_pr   inf_du lg(mu)  ||d||  lg(rg) alpha_du alpha_pr  ls\n",
      "   0  0.0000000e+00 1.04e-01 8.88e-16  -1.0 0.00e+00    -  0.00e+00 0.00e+00   0\n",
      "   1  2.0249454e-03 1.64e-01 4.82e+02  -1.0 3.05e+03    -  8.09e-01 9.90e-01H  1\n",
      "   2  2.0670323e-03 1.34e-02 4.31e+01  -1.0 3.11e+01    -  9.80e-01 9.90e-01h  1\n",
      "   3  2.0827903e-03 9.84e-05 1.02e+03  -1.0 1.50e+02    -  9.90e-01 1.00e+00h  1\n",
      "   4  8.2018885e-03 5.36e-04 1.10e+05  -1.0 3.26e+03    -  9.89e-01 1.00e+00f  1\n",
      "   5  1.2465226e-02 7.77e-05 1.10e+03  -1.0 1.15e+03    -  9.90e-01 1.00e+00h  1\n",
      "   6  2.1160987e-03 9.52e-04 2.63e+04  -2.5 4.28e+03    -  9.97e-01 1.00e+00f  1\n",
      "   7  2.0625237e-03 1.32e-06 7.49e-04  -2.5 2.47e+02    -  1.00e+00 1.00e+00h  1\n",
      "   8  2.0531444e-03 1.12e-06 6.10e+01  -8.6 1.41e+02    -  1.00e+00 1.00e+00h  1\n",
      "   9  2.0531492e-03 7.41e-12 9.29e-10  -8.6 2.73e-01    -  1.00e+00 1.00e+00h  1\n",
      "\n",
      "Number of Iterations....: 9\n",
      "\n",
      "                                   (scaled)                 (unscaled)\n",
      "Objective...............:   2.0531491614025755e-03    2.0531491614025755e-03\n",
      "Dual infeasibility......:   9.2887542102459975e-10    9.2887542102459975e-10\n",
      "Constraint violation....:   7.4127370908172452e-12    7.4127370908172452e-12\n",
      "Complementarity.........:   2.5369933289758181e-09    2.5369933289758181e-09\n",
      "Overall NLP error.......:   2.5369933289758181e-09    2.5369933289758181e-09\n",
      "\n",
      "\n",
      "Number of objective function evaluations             = 11\n",
      "Number of objective gradient evaluations             = 10\n",
      "Number of equality constraint evaluations            = 11\n",
      "Number of inequality constraint evaluations          = 0\n",
      "Number of equality constraint Jacobian evaluations   = 10\n",
      "Number of inequality constraint Jacobian evaluations = 0\n",
      "Number of Lagrangian Hessian evaluations             = 9\n",
      "Total CPU secs in IPOPT (w/o function evaluations)   =      0.004\n",
      "Total CPU secs in NLP function evaluations           =      0.018\n",
      "\n",
      "EXIT: Optimal Solution Found.\n",
      "The SSE at the optimal solution is 0.002053\n",
      "\n",
      "The values for the parameters are as follows:\n",
      "fs.properties.PR_kappa[R32,bmimBF4] = 0.0017676532608226227\n",
      "fs.properties.PR_kappa[bmimBF4,R32] = -0.2570282763493638\n"
     ]
    }
   ],
   "source": [
    "# from HFC32_emimTf2N_PR import configuration\n",
    "binary_params_peng(data_323, configuration, 'R32', 'bmimBF4', \"x_R32\", \"x_bmimBF4\", \n",
    "    init_temp = 323.2, init_press = 399600, init_x_c1 = 0.154 , init_x_c2 = 0.846 ,\n",
    "    init_kappa_2_1 = 0.097, init_kappa_1_2 =  0.02, eps = 0.1, scaling_fac = 1e-9, read=False)"
   ]
  },
  {
   "cell_type": "code",
   "execution_count": 36,
   "id": "isolated-inquiry",
   "metadata": {},
   "outputs": [],
   "source": [
    "k12_323 = 0.0017676532608226227\n",
    "k21_323 = -0.2570282763493638"
   ]
  },
  {
   "cell_type": "code",
   "execution_count": 37,
   "id": "regulation-witch",
   "metadata": {},
   "outputs": [
    {
     "name": "stdout",
     "output_type": "stream",
     "text": [
      "WARNING: Implicitly replacing the Component attribute liq (type=<class\n",
      "    'pyomo.core.base.param.SimpleParam'>) on block fs with a new Component\n",
      "    (type=<class 'pyomo.core.base.param.SimpleParam'>). This is usually\n",
      "    indicative of a modelling error. To avoid this warning, use\n",
      "    block.del_component() and block.add_component().\n",
      "WARNING: Implicitly replacing the Component attribute liquid (type=<class\n",
      "    'pyomo.core.base.constraint.SimpleConstraint'>) on block fs with a new\n",
      "    Component (type=<class\n",
      "    'pyomo.core.base.constraint.AbstractSimpleConstraint'>). This is usually\n",
      "    indicative of a modelling error. To avoid this warning, use\n",
      "    block.del_component() and block.add_component().\n"
     ]
    }
   ],
   "source": [
    "R32_x,P= calc_outlet_xP(data,k21_323,k12_323, verbose=False)"
   ]
  },
  {
   "cell_type": "code",
   "execution_count": 38,
   "id": "endless-prevention",
   "metadata": {},
   "outputs": [
    {
     "data": {
      "image/png": "[encoded data removed]",
      "text/plain": [
       "<Figure size 432x288 with 1 Axes>"
      ]
     },
     "metadata": {
      "needs_background": "light"
     },
     "output_type": "display_data"
    }
   ],
   "source": [
    "# plots with data - model as lines --- need to make this into a function that splits up the T's\n",
    "plt.plot(R32_x[0:7],P[0:7],\"b*-\",label=\"T= 283 K\")  \n",
    "plt.plot(R32_x[7:15],P[7:15],\"r*-\",label=\"T= 298 K\") \n",
    "plt.plot(R32_x[15:23],P[15:23],\"c*-\",label=\"T= 323 K\") \n",
    "plt.plot(R32_x[23:],P[23:],\"m*-\",label=\"T= 348 K\")\n",
    "plt.plot(data[\"x_R32\"],data[\"pressure\"],\"*\",color='orange',label=\"data\")  \n",
    "plt.title('Isotherm [R32][bmimBF4]')\n",
    "plt.ylabel('Pressure (Pa)')\n",
    "plt.xlabel('x R32')\n",
    "plt.grid(True)\n",
    "plt.ylim(0,)\n",
    "plt.legend()\n",
    "plt.show()"
   ]
  },
  {
   "cell_type": "markdown",
   "id": "controversial-station",
   "metadata": {},
   "source": [
    "### T= 348 K"
   ]
  },
  {
   "cell_type": "code",
   "execution_count": 39,
   "id": "express-phoenix",
   "metadata": {},
   "outputs": [
    {
     "name": "stdout",
     "output_type": "stream",
     "text": [
      "   temperature  pressure  x_R32  x_bmimBF4\n",
      "0        348.2      9700  0.002      0.998\n",
      "1        348.1     99600  0.024      0.976\n",
      "2        348.1    249500  0.058      0.942\n",
      "3        348.2    399500  0.092      0.908\n",
      "4        348.1    549500  0.125      0.875\n",
      "5        348.2    699600  0.156      0.844\n",
      "6        348.1    849600  0.186      0.814\n",
      "7        348.1    999900  0.214      0.786\n"
     ]
    }
   ],
   "source": [
    "print(data_348)"
   ]
  },
  {
   "cell_type": "code",
   "execution_count": 40,
   "id": "assured-married",
   "metadata": {},
   "outputs": [
    {
     "name": "stdout",
     "output_type": "stream",
     "text": [
      "2021-03-30 15:46:38 [INFO] idaes.generic_models.properties.core.generic.generic_property: DEPRECATED - definiton of generic property packages is moving to using static classes instead of modules. Please refer to the IDAES documentation.\n",
      "2021-03-30 15:46:38 [INFO] idaes.init.fs.state_block: Property package initialization: optimal - Optimal Solution Found.\n",
      "2021-03-30 15:46:38 [INFO] idaes.generic_models.properties.core.generic.generic_property: DEPRECATED - definiton of generic property packages is moving to using static classes instead of modules. Please refer to the IDAES documentation.\n",
      "2021-03-30 15:46:39 [INFO] idaes.init.fs.state_block: Property package initialization: optimal - Optimal Solution Found.\n",
      "2021-03-30 15:46:39 [INFO] idaes.generic_models.properties.core.generic.generic_property: DEPRECATED - definiton of generic property packages is moving to using static classes instead of modules. Please refer to the IDAES documentation.\n",
      "2021-03-30 15:46:39 [INFO] idaes.init.fs.state_block: Property package initialization: optimal - Optimal Solution Found.\n",
      "2021-03-30 15:46:39 [INFO] idaes.generic_models.properties.core.generic.generic_property: DEPRECATED - definiton of generic property packages is moving to using static classes instead of modules. Please refer to the IDAES documentation.\n",
      "2021-03-30 15:46:39 [INFO] idaes.init.fs.state_block: Property package initialization: optimal - Optimal Solution Found.\n",
      "2021-03-30 15:46:39 [INFO] idaes.generic_models.properties.core.generic.generic_property: DEPRECATED - definiton of generic property packages is moving to using static classes instead of modules. Please refer to the IDAES documentation.\n",
      "2021-03-30 15:46:39 [INFO] idaes.init.fs.state_block: Property package initialization: optimal - Optimal Solution Found.\n",
      "2021-03-30 15:46:39 [INFO] idaes.generic_models.properties.core.generic.generic_property: DEPRECATED - definiton of generic property packages is moving to using static classes instead of modules. Please refer to the IDAES documentation.\n",
      "2021-03-30 15:46:40 [INFO] idaes.init.fs.state_block: Property package initialization: optimal - Optimal Solution Found.\n",
      "2021-03-30 15:46:40 [INFO] idaes.generic_models.properties.core.generic.generic_property: DEPRECATED - definiton of generic property packages is moving to using static classes instead of modules. Please refer to the IDAES documentation.\n",
      "2021-03-30 15:46:40 [INFO] idaes.init.fs.state_block: Property package initialization: optimal - Optimal Solution Found.\n",
      "2021-03-30 15:46:40 [INFO] idaes.generic_models.properties.core.generic.generic_property: DEPRECATED - definiton of generic property packages is moving to using static classes instead of modules. Please refer to the IDAES documentation.\n",
      "2021-03-30 15:46:40 [INFO] idaes.init.fs.state_block: Property package initialization: optimal - Optimal Solution Found.\n",
      "Ipopt 3.13.2: \n",
      "\n",
      "******************************************************************************\n",
      "This program contains Ipopt, a library for large-scale nonlinear optimization.\n",
      " Ipopt is released as open source code under the Eclipse Public License (EPL).\n",
      "         For more information visit http://projects.coin-or.org/Ipopt\n",
      "\n",
      "This version of Ipopt was compiled from source code available at\n",
      "    https://github.com/IDAES/Ipopt as part of the Institute for the Design of\n",
      "    Advanced Energy Systems Process Systems Engineering Framework (IDAES PSE\n",
      "    Framework) Copyright (c) 2018-2019. See https://github.com/IDAES/idaes-pse.\n",
      "\n",
      "This version of Ipopt was compiled using HSL, a collection of Fortran codes\n",
      "    for large-scale scientific computation.  All technical papers, sales and\n",
      "    publicity material resulting from use of the HSL codes within IPOPT must\n",
      "    contain the following acknowledgement:\n",
      "        HSL, a collection of Fortran codes for large-scale scientific\n",
      "        computation. See http://www.hsl.rl.ac.uk.\n",
      "******************************************************************************\n",
      "\n",
      "This is Ipopt version 3.13.2, running with linear solver ma27.\n",
      "\n",
      "Number of nonzeros in equality constraint Jacobian...:      272\n",
      "Number of nonzeros in inequality constraint Jacobian.:        0\n",
      "Number of nonzeros in Lagrangian Hessian.............:      272\n",
      "\n",
      "Total number of variables............................:      114\n",
      "                     variables with only lower bounds:       48\n",
      "                variables with lower and upper bounds:       48\n",
      "                     variables with only upper bounds:        0\n",
      "Total number of equality constraints.................:      112\n",
      "Total number of inequality constraints...............:        0\n",
      "        inequality constraints with only lower bounds:        0\n",
      "   inequality constraints with lower and upper bounds:        0\n",
      "        inequality constraints with only upper bounds:        0\n",
      "\n",
      "iter    objective    inf_pr   inf_du lg(mu)  ||d||  lg(rg) alpha_du alpha_pr  ls\n",
      "   0  0.0000000e+00 1.77e-01 8.88e-16  -1.0 0.00e+00    -  0.00e+00 0.00e+00   0\n",
      "   1  4.6304751e-03 5.89e-02 7.26e+02  -1.0 4.02e+03    -  6.81e-01 9.90e-01H  1\n",
      "   2  4.7626814e-03 2.73e-03 2.50e+01  -1.0 9.01e+01    -  9.74e-01 9.90e-01h  1\n",
      "   3  4.7473092e-03 5.31e-06 1.01e+03  -1.0 8.58e+01    -  9.90e-01 1.00e+00h  1\n",
      "   4  6.2944919e-03 2.23e-05 1.09e+05  -1.0 2.22e+03    -  9.89e-01 1.00e+00h  1\n",
      "   5  8.4845821e-03 1.22e-05 1.09e+03  -1.0 8.07e+02    -  9.90e-01 1.00e+00h  1\n",
      "   6  3.8449784e-03 1.77e-04 2.65e+04  -2.5 2.86e+03    -  9.97e-01 1.00e+00f  1\n",
      "   7  3.8289128e-03 2.23e-07 1.24e-04  -2.5 1.09e+02    -  1.00e+00 1.00e+00h  1\n",
      "   8  3.8249311e-03 1.81e-07 7.30e+01  -8.6 8.98e+01    -  1.00e+00 1.00e+00h  1\n",
      "   9  3.8249274e-03 2.34e-11 1.18e-10  -8.6 1.08e-01    -  1.00e+00 1.00e+00h  1\n",
      "\n",
      "Number of Iterations....: 9\n",
      "\n",
      "                                   (scaled)                 (unscaled)\n",
      "Objective...............:   3.8249274170946324e-03    3.8249274170946324e-03\n",
      "Dual infeasibility......:   1.1793782617175452e-10    1.1793782617175452e-10\n",
      "Constraint violation....:   2.3421264927492302e-11    2.3421264927492302e-11\n",
      "Complementarity.........:   2.5078228970656010e-09    2.5078228970656010e-09\n",
      "Overall NLP error.......:   2.5078228970656010e-09    2.5078228970656010e-09\n",
      "\n",
      "\n",
      "Number of objective function evaluations             = 11\n",
      "Number of objective gradient evaluations             = 10\n",
      "Number of equality constraint evaluations            = 11\n",
      "Number of inequality constraint evaluations          = 0\n",
      "Number of equality constraint Jacobian evaluations   = 10\n",
      "Number of inequality constraint Jacobian evaluations = 0\n",
      "Number of Lagrangian Hessian evaluations             = 9\n",
      "Total CPU secs in IPOPT (w/o function evaluations)   =      0.004\n",
      "Total CPU secs in NLP function evaluations           =      0.017\n",
      "\n",
      "EXIT: Optimal Solution Found.\n",
      "The SSE at the optimal solution is 0.003825\n",
      "\n",
      "The values for the parameters are as follows:\n",
      "fs.properties.PR_kappa[R32,bmimBF4] = 0.022367544160091395\n",
      "fs.properties.PR_kappa[bmimBF4,R32] = -0.32538626875645615\n"
     ]
    }
   ],
   "source": [
    "# from HFC32_emimTf2N_PR import configuration\n",
    "binary_params_peng(data_348, configuration, 'R32', 'bmimBF4', \"x_R32\", \"x_bmimBF4\", \n",
    "    init_temp = 348.1, init_press = 549500, init_x_c1 = 0.125, init_x_c2 = 0.875,\n",
    "    init_kappa_2_1 = 0.097, init_kappa_1_2 =  0.02, eps = 0.1, scaling_fac = 1e-9, read=False)"
   ]
  },
  {
   "cell_type": "code",
   "execution_count": 41,
   "id": "proper-start",
   "metadata": {},
   "outputs": [],
   "source": [
    "k12_348 = 0.022367544160091395\n",
    "k21_348 = -0.32538626875645615"
   ]
  },
  {
   "cell_type": "code",
   "execution_count": 42,
   "id": "generous-station",
   "metadata": {},
   "outputs": [
    {
     "name": "stdout",
     "output_type": "stream",
     "text": [
      "WARNING: Implicitly replacing the Component attribute liq (type=<class\n",
      "    'pyomo.core.base.param.SimpleParam'>) on block fs with a new Component\n",
      "    (type=<class 'pyomo.core.base.param.SimpleParam'>). This is usually\n",
      "    indicative of a modelling error. To avoid this warning, use\n",
      "    block.del_component() and block.add_component().\n",
      "WARNING: Implicitly replacing the Component attribute liquid (type=<class\n",
      "    'pyomo.core.base.constraint.SimpleConstraint'>) on block fs with a new\n",
      "    Component (type=<class\n",
      "    'pyomo.core.base.constraint.AbstractSimpleConstraint'>). This is usually\n",
      "    indicative of a modelling error. To avoid this warning, use\n",
      "    block.del_component() and block.add_component().\n",
      "WARNING: Loading a SolverResults object with a warning status into\n",
      "    model.name=\"unknown\";\n",
      "      - termination condition: infeasible\n",
      "      - message from solver: Ipopt 3.13.2\\x3a Converged to a locally\n",
      "        infeasible point. Problem may be infeasible.\n",
      "Infeasible.\n"
     ]
    }
   ],
   "source": [
    "R32_x,P= calc_outlet_xP(data,k21_348,k12_348, verbose=False)"
   ]
  },
  {
   "cell_type": "code",
   "execution_count": 43,
   "id": "assumed-celebrity",
   "metadata": {},
   "outputs": [
    {
     "data": {
      "image/png": "[encoded data removed]",
      "text/plain": [
       "<Figure size 432x288 with 1 Axes>"
      ]
     },
     "metadata": {
      "needs_background": "light"
     },
     "output_type": "display_data"
    }
   ],
   "source": [
    "# plots with data - model as lines --- need to make this into a function that splits up the T's\n",
    "plt.plot(R32_x[0:7],P[0:7],\"b*-\",label=\"T= 283 K\")  \n",
    "plt.plot(R32_x[7:15],P[7:15],\"r*-\",label=\"T= 298 K\") \n",
    "plt.plot(R32_x[15:23],P[15:23],\"c*-\",label=\"T= 323 K\") \n",
    "plt.plot(R32_x[23:],P[23:],\"m*-\",label=\"T= 348 K\")\n",
    "plt.plot(data[\"x_R32\"],data[\"pressure\"],\"*\",color='orange',label=\"data\")  \n",
    "plt.title('Isotherm [R32][bmimBF4]')\n",
    "plt.ylabel('Pressure (Pa)')\n",
    "plt.xlabel('x R32')\n",
    "plt.grid(True)\n",
    "plt.ylim(0,)\n",
    "plt.legend()\n",
    "plt.show()"
   ]
  },
  {
   "cell_type": "code",
   "execution_count": null,
   "id": "recognized-validity",
   "metadata": {},
   "outputs": [],
   "source": []
  }
 ],
 "metadata": {
  "kernelspec": {
   "display_name": "Python 3",
   "language": "python",
   "name": "python3"
  },
  "language_info": {
   "codemirror_mode": {
    "name": "ipython",
    "version": 3
   },
   "file_extension": ".py",
   "mimetype": "text/x-python",
   "name": "python",
   "nbconvert_exporter": "python",
   "pygments_lexer": "ipython3",
   "version": "3.9.2"
  }
 },
 "nbformat": 4,
 "nbformat_minor": 5
}
