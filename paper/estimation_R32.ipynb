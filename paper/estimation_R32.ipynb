{
 "cells": [
  {
   "cell_type": "code",
   "execution_count": 1,
   "metadata": {},
   "outputs": [],
   "source": [
    "from binary_param2 import binary_params_peng\n",
    "import pandas as pd\n",
    "# from R32_bmimPF6_PR import configuration"
   ]
  },
  {
   "cell_type": "code",
   "execution_count": 2,
   "metadata": {
    "scrolled": false
   },
   "outputs": [],
   "source": [
    "# binary_params_peng('R32IL298.csv', configuration, 'R32', 'bmimPF6', \"x_R32\", \"x_bmimPF6\", \n",
    "#     init_temp = 323.15, init_press = 399800, init_x_c1 = 0.5, init_x_c2 = 0.5,\n",
    "#     init_kappa_2_1 = -0.05, init_kappa_1_2 = -0.03, eps = 0.1, scaling_fac = 1e-9)"
   ]
  },
  {
   "cell_type": "code",
   "execution_count": 3,
   "metadata": {},
   "outputs": [],
   "source": [
    "data = pd.read_csv('R32IL.csv')\n",
    "\n",
    "# 283\n",
    "data_283= data[(data.temperature > 282) & (data.temperature< 284)]\n",
    "\n",
    "# 298\n",
    "data_298 = data[(data.temperature > 297) & (data.temperature< 299)]\n",
    "data_298 = data_298.reset_index(drop=True)\n",
    "\n",
    "# 323\n",
    "data_323 = data[(data.temperature > 322) & (data.temperature< 324)]\n",
    "data_323 = data_323.reset_index(drop=True)\n",
    "\n",
    "# 323\n",
    "data_348 = data[(data.temperature > 347) & (data.temperature< 349)]\n",
    "data_348 = data_348.reset_index(drop=True)"
   ]
  },
  {
   "cell_type": "code",
   "execution_count": 4,
   "metadata": {
    "scrolled": false
   },
   "outputs": [
    {
     "name": "stdout",
     "output_type": "stream",
     "text": [
      "2021-08-19 12:27:32 [INFO] idaes.init.fs.state_block: Property package initialization: optimal - Optimal Solution Found.\n",
      "2021-08-19 12:27:32 [INFO] idaes.init.fs.state_block: Property package initialization: optimal - Optimal Solution Found.\n",
      "2021-08-19 12:27:33 [INFO] idaes.init.fs.state_block: Property package initialization: optimal - Optimal Solution Found.\n",
      "2021-08-19 12:27:34 [INFO] idaes.init.fs.state_block: Property package initialization: optimal - Optimal Solution Found.\n",
      "2021-08-19 12:27:34 [INFO] idaes.init.fs.state_block: Property package initialization: infeasible - Converged to a locally infeasible point. Problem may be infeasible..\n",
      "2021-08-19 12:27:35 [INFO] idaes.init.fs.state_block: Property package initialization: infeasible - Converged to a locally infeasible point. Problem may be infeasible..\n",
      "2021-08-19 12:27:36 [INFO] idaes.init.fs.state_block: Property package initialization: infeasible - Converged to a locally infeasible point. Problem may be infeasible..\n",
      "2021-08-19 12:27:37 [INFO] idaes.init.fs.state_block: Property package initialization: optimal - Optimal Solution Found.\n",
      "2021-08-19 12:27:37 [INFO] idaes.init.fs.state_block: Property package initialization: optimal - Optimal Solution Found.\n",
      "2021-08-19 12:27:38 [INFO] idaes.init.fs.state_block: Property package initialization: optimal - Optimal Solution Found.\n",
      "2021-08-19 12:27:39 [INFO] idaes.init.fs.state_block: Property package initialization: optimal - Optimal Solution Found.\n",
      "2021-08-19 12:27:39 [INFO] idaes.init.fs.state_block: Property package initialization: optimal - Optimal Solution Found.\n",
      "2021-08-19 12:27:40 [INFO] idaes.init.fs.state_block: Property package initialization: optimal - Optimal Solution Found.\n",
      "2021-08-19 12:27:41 [INFO] idaes.init.fs.state_block: Property package initialization: infeasible - Converged to a locally infeasible point. Problem may be infeasible..\n",
      "2021-08-19 12:27:41 [INFO] idaes.init.fs.state_block: Property package initialization: infeasible - Converged to a locally infeasible point. Problem may be infeasible..\n",
      "2021-08-19 12:27:42 [INFO] idaes.init.fs.state_block: Property package initialization: optimal - Optimal Solution Found.\n",
      "2021-08-19 12:27:43 [INFO] idaes.init.fs.state_block: Property package initialization: optimal - Optimal Solution Found.\n",
      "2021-08-19 12:27:44 [INFO] idaes.init.fs.state_block: Property package initialization: optimal - Optimal Solution Found.\n",
      "2021-08-19 12:27:44 [INFO] idaes.init.fs.state_block: Property package initialization: optimal - Optimal Solution Found.\n",
      "2021-08-19 12:27:45 [INFO] idaes.init.fs.state_block: Property package initialization: optimal - Optimal Solution Found.\n",
      "2021-08-19 12:27:46 [INFO] idaes.init.fs.state_block: Property package initialization: optimal - Optimal Solution Found.\n",
      "2021-08-19 12:27:46 [INFO] idaes.init.fs.state_block: Property package initialization: optimal - Optimal Solution Found.\n",
      "2021-08-19 12:27:47 [INFO] idaes.init.fs.state_block: Property package initialization: optimal - Optimal Solution Found.\n",
      "2021-08-19 12:27:48 [INFO] idaes.init.fs.state_block: Property package initialization: optimal - Optimal Solution Found.\n",
      "2021-08-19 12:27:48 [INFO] idaes.init.fs.state_block: Property package initialization: optimal - Optimal Solution Found.\n",
      "2021-08-19 12:27:49 [INFO] idaes.init.fs.state_block: Property package initialization: optimal - Optimal Solution Found.\n",
      "2021-08-19 12:27:50 [INFO] idaes.init.fs.state_block: Property package initialization: optimal - Optimal Solution Found.\n",
      "2021-08-19 12:27:50 [INFO] idaes.init.fs.state_block: Property package initialization: optimal - Optimal Solution Found.\n",
      "2021-08-19 12:27:51 [INFO] idaes.init.fs.state_block: Property package initialization: optimal - Optimal Solution Found.\n",
      "2021-08-19 12:27:52 [INFO] idaes.init.fs.state_block: Property package initialization: optimal - Optimal Solution Found.\n",
      "2021-08-19 12:27:52 [INFO] idaes.init.fs.state_block: Property package initialization: optimal - Optimal Solution Found.\n",
      "Ipopt 3.12.13: bound_relax_factor=0\n",
      "honor_original_bounds=no\n",
      "\n",
      "\n",
      "******************************************************************************\n",
      "This program contains Ipopt, a library for large-scale nonlinear optimization.\n",
      " Ipopt is released as open source code under the Eclipse Public License (EPL).\n",
      "         For more information visit http://projects.coin-or.org/Ipopt\n",
      "\n",
      "This version of Ipopt was compiled from source code available at\n",
      "    https://github.com/IDAES/Ipopt as part of the Institute for the Design of\n",
      "    Advanced Energy Systems Process Systems Engineering Framework (IDAES PSE\n",
      "    Framework) Copyright (c) 2018-2019. See https://github.com/IDAES/idaes-pse.\n",
      "\n",
      "This version of Ipopt was compiled using HSL, a collection of Fortran codes\n",
      "    for large-scale scientific computation.  All technical papers, sales and\n",
      "    publicity material resulting from use of the HSL codes within IPOPT must\n",
      "    contain the following acknowledgement:\n",
      "        HSL, a collection of Fortran codes for large-scale scientific\n",
      "        computation. See http://www.hsl.rl.ac.uk.\n",
      "******************************************************************************\n",
      "\n",
      "This is Ipopt version 3.12.13, running with linear solver ma27.\n",
      "\n",
      "Number of nonzeros in equality constraint Jacobian...:     1050\n",
      "Number of nonzeros in inequality constraint Jacobian.:        0\n",
      "Number of nonzeros in Lagrangian Hessian.............:     1054\n",
      "\n",
      "Total number of variables............................:      434\n",
      "                     variables with only lower bounds:      186\n",
      "                variables with lower and upper bounds:      186\n",
      "                     variables with only upper bounds:        0\n",
      "Total number of equality constraints.................:      432\n",
      "Total number of inequality constraints...............:        0\n",
      "        inequality constraints with only lower bounds:        0\n",
      "   inequality constraints with lower and upper bounds:        0\n",
      "        inequality constraints with only upper bounds:        0\n",
      "\n",
      "iter    objective    inf_pr   inf_du lg(mu)  ||d||  lg(rg) alpha_du alpha_pr  ls\n",
      "   0  0.0000000e+00 2.29e+00 2.84e-14  -1.0 0.00e+00    -  0.00e+00 0.00e+00   0\n",
      "   1  2.1794812e-01 1.42e+00 9.28e+03  -1.0 1.35e+05    -  4.13e-03 3.96e-01h  1\n",
      "   2  8.5287826e-01 1.75e-01 8.93e+03  -1.0 5.10e+04    -  2.50e-02 9.90e-01h  1\n",
      "   3  7.2146884e-01 9.62e-03 3.61e+02  -1.0 1.62e+04    -  9.03e-01 9.90e-01h  1\n",
      "   4  7.2006480e-01 1.09e-04 7.80e+02  -1.0 2.95e+02    -  9.85e-01 9.90e-01h  1\n",
      "   5  7.1915340e-01 1.02e-06 1.53e+03  -1.0 6.17e+02    -  9.90e-01 9.90e-01h  1\n",
      "   6  7.1908982e-01 1.01e-06 1.63e+09  -1.0 1.24e+04    -  9.90e-01 3.87e-03h  9\n",
      "   7  7.1905043e-01 1.01e-06 3.27e+09  -1.0 1.57e+04    -  9.91e-01 1.93e-03h 10\n",
      "   8  7.1901102e-01 1.01e-06 4.93e+09  -1.0 1.58e+04    -  1.00e+00 1.93e-03h 10\n",
      "   9  7.1897181e-01 1.01e-06 6.58e+09  -1.0 1.58e+04    -  1.00e+00 1.93e-03h 10\n",
      "iter    objective    inf_pr   inf_du lg(mu)  ||d||  lg(rg) alpha_du alpha_pr  ls\n",
      "  10  7.1893280e-01 1.00e-06 8.24e+09  -1.0 1.57e+04    -  1.00e+00 1.93e-03h 10\n",
      "  11  7.1889400e-01 1.00e-06 9.90e+09  -1.0 1.57e+04    -  1.00e+00 1.93e-03h 10\n",
      "  12  7.1885539e-01 9.99e-07 1.16e+10  -1.0 1.57e+04    -  1.00e+00 1.93e-03h 10\n",
      "  13  7.1881699e-01 9.97e-07 1.32e+10  -1.0 1.56e+04    -  1.00e+00 1.93e-03h 10\n",
      "  14  7.1877879e-01 9.95e-07 1.49e+10  -1.0 1.56e+04    -  1.00e+00 1.93e-03h 10\n",
      "  15  7.1874078e-01 9.93e-07 1.65e+10  -1.0 1.56e+04    -  1.00e+00 1.93e-03h 10\n",
      "  16  7.1468703e-01 1.49e-04 1.82e+08  -1.0 1.55e+04    -  1.00e+00 9.90e-01w  1\n",
      "  17  7.1549206e-01 1.49e-06 1.69e+09  -1.0 5.01e+01    -  1.00e+00 9.90e-01w  1\n",
      "  18  7.1550012e-01 1.49e-08 1.69e+11  -1.0 5.03e-01    -  1.00e+00 9.90e-01h  1\n",
      "In iteration 18, 31 Slacks too small, adjusting variable bounds\n",
      "  19  7.1550020e-01 1.49e-10 1.69e+13  -1.0 5.03e-03    -  1.00e+00 9.90e-01h  1\n",
      "iter    objective    inf_pr   inf_du lg(mu)  ||d||  lg(rg) alpha_du alpha_pr  ls\n",
      "  20  7.1550020e-01 1.36e-11 1.00e-06  -1.0 5.03e-05    -  1.00e+00 1.00e+00h  1\n",
      "  21  7.0537780e-01 1.63e-11 3.38e+10  -9.0 6.49e+03    -  9.98e-01 1.00e+00F  1\n",
      "  22  7.0537737e-01 1.24e-11 1.04e-06  -9.0 4.28e+01    -  1.00e+00 1.00e+00H  1\n",
      "  23  7.0537737e-01 6.92e-12 2.91e-11  -9.0 3.08e-03    -  1.00e+00 1.00e+00h  1\n",
      "\n",
      "Number of Iterations....: 23\n",
      "\n",
      "                                   (scaled)                 (unscaled)\n",
      "Objective...............:   7.0537737232349773e-01    7.0537737232349773e-01\n",
      "Dual infeasibility......:   2.9103830456733704e-11    2.9103830456733704e-11\n",
      "Constraint violation....:   6.9233507815624762e-12    6.9233507815624762e-12\n",
      "Complementarity.........:   9.0909131846156896e-10    9.0909131846156896e-10\n",
      "Overall NLP error.......:   1.0525161611145165e-11    9.0909131846156896e-10\n",
      "\n",
      "\n",
      "Number of objective function evaluations             = 147\n",
      "Number of objective gradient evaluations             = 24\n",
      "Number of equality constraint evaluations            = 147\n",
      "Number of inequality constraint evaluations          = 0\n",
      "Number of equality constraint Jacobian evaluations   = 24\n",
      "Number of inequality constraint Jacobian evaluations = 0\n",
      "Number of Lagrangian Hessian evaluations             = 23\n",
      "Total CPU secs in IPOPT (w/o function evaluations)   =      0.049\n",
      "Total CPU secs in NLP function evaluations           =      1.089\n",
      "\n",
      "EXIT: Optimal Solution Found.\n"
     ]
    },
    {
     "name": "stdout",
     "output_type": "stream",
     "text": [
      "The SSE at the optimal solution is 0.705377\n",
      "\n",
      "The values for the parameters are as follows:\n",
      "fs.properties.PR_kappa[bmimPF6,R32] = -0.10943851272230938\n",
      "fs.properties.PR_kappa[R32,bmimPF6] = -0.05450860738318672\n",
      "covariance_matrix                                      fs.properties.PR_kappa[bmimPF6,R32]  \\\n",
      "fs.properties.PR_kappa[bmimPF6,R32]                             0.000314   \n",
      "fs.properties.PR_kappa[R32,bmimPF6]                             0.000023   \n",
      "\n",
      "                                     fs.properties.PR_kappa[R32,bmimPF6]  \n",
      "fs.properties.PR_kappa[bmimPF6,R32]                             0.000023  \n",
      "fs.properties.PR_kappa[R32,bmimPF6]                             0.000003  \n"
     ]
    },
    {
     "name": "stderr",
     "output_type": "stream",
     "text": [
      "C:\\Users\\agarc\\Anaconda32\\envs\\examples_modules\\lib\\site-packages\\pyomo\\contrib\\interior_point\\interface.py:418: RuntimeWarning: divide by zero encountered in true_divide\n",
      "  data = (duals_primals_lb/(primals - self._nlp.primals_lb()) +\n"
     ]
    }
   ],
   "source": [
    "from R32_bmimPF6_PR import configuration\n",
    "\n",
    "binary_params_peng(data, configuration, 'R32', 'bmimPF6', \"x_R32\", \"x_bmimPF6\", \n",
    "    init_temp = 298.15, init_press = 799600, init_x_c1 = 0.739, init_x_c2 = 0.261,\n",
    "    init_kappa_2_1 = 0.1, init_kappa_1_2 = 0.1, eps = 0.1, scaling_fac = 1e-9)"
   ]
  },
  {
   "cell_type": "code",
   "execution_count": null,
   "metadata": {},
   "outputs": [],
   "source": []
  }
 ],
 "metadata": {
  "kernelspec": {
   "display_name": "Python 3 (ipykernel)",
   "language": "python",
   "name": "python3"
  },
  "language_info": {
   "codemirror_mode": {
    "name": "ipython",
    "version": 3
   },
   "file_extension": ".py",
   "mimetype": "text/x-python",
   "name": "python",
   "nbconvert_exporter": "python",
   "pygments_lexer": "ipython3",
   "version": "3.9.6"
  }
 },
 "nbformat": 4,
 "nbformat_minor": 4
}
