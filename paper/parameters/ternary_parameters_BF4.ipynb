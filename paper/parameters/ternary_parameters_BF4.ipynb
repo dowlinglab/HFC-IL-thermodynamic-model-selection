{
 "cells": [
  {
   "cell_type": "code",
   "execution_count": 1,
   "id": "2bcfec42",
   "metadata": {},
   "outputs": [],
   "source": [
    "# Import objects from pyomo package\n",
    "from pyomo.environ import (ConcreteModel,\n",
    "                           SolverFactory,\n",
    "                           Constraint,\n",
    "                           Expression,\n",
    "                           TransformationFactory,\n",
    "                           value,\n",
    "                           units as pyunits)\n",
    "\n",
    "# Import the main FlowsheetBlock from IDAES. The flowsheet block will contain the unit model\n",
    "from idaes.core import FlowsheetBlock\n",
    "\n",
    "# Import idaes logger to set output levels\n",
    "import idaes.logger as idaeslog\n",
    "\n",
    "from idaes.generic_models.properties.core.generic.generic_property import (\n",
    "        GenericParameterBlock)\n",
    "\n",
    "# Todo: import Flash unit model from idaes.generic_models.unit_models\n",
    "from idaes.generic_models.unit_models import Flash"
   ]
  },
  {
   "cell_type": "code",
   "execution_count": 2,
   "id": "6fc975da",
   "metadata": {},
   "outputs": [],
   "source": [
    "from idaes.core.util.model_statistics import degrees_of_freedom, large_residuals_set\n",
    "\n",
    "import pyomo.contrib.parmest.parmest as parmest"
   ]
  },
  {
   "cell_type": "code",
   "execution_count": 3,
   "id": "fac58032",
   "metadata": {},
   "outputs": [],
   "source": [
    "# Import plotting functions\n",
    "import matplotlib.pyplot as plt\n",
    "\n",
    "# Import numpy library \n",
    "import numpy as np\n",
    "\n",
    "# Import Pandas\n",
    "import pandas as pd"
   ]
  },
  {
   "cell_type": "code",
   "execution_count": 4,
   "id": "edf24dd3",
   "metadata": {},
   "outputs": [],
   "source": [
    "from HFCs_bmimBF4_PR import configuration\n",
    "\n",
    "# Load data from csv\n",
    "data = pd.read_csv('HFCSBF4_g.csv')\n",
    "\n",
    "solver = SolverFactory('ipopt')\n",
    "solver.options = {'tol': 1e-6}"
   ]
  },
  {
   "cell_type": "code",
   "execution_count": 5,
   "id": "f9d73ac8",
   "metadata": {},
   "outputs": [],
   "source": [
    "def PR_model(data):\n",
    "    \n",
    "    m = ConcreteModel()\n",
    "\n",
    "    m.fs = FlowsheetBlock(default={\"dynamic\": False})\n",
    "\n",
    "    m.fs.properties = GenericParameterBlock(default=configuration)\n",
    "\n",
    "    m.fs.state_block = m.fs.properties.state_block_class(\n",
    "        default={\"parameters\": m.fs.properties,\n",
    "                 \"defined_state\": True})\n",
    "\n",
    "    m.fs.state_block.flow_mol.fix(1)\n",
    "    m.fs.state_block.temperature.fix(298.15)\n",
    "    m.fs.state_block.pressure.fix(250000)\n",
    "    m.fs.state_block.mole_frac_comp[\"R32\"].fix(0.05)\n",
    "    m.fs.state_block.mole_frac_comp[\"R125\"].fix(0.05)\n",
    "    m.fs.state_block.mole_frac_comp[\"bmimBF4\"].fix(0.90)\n",
    "    \n",
    "    m.fs.properties.PR_kappa_A['R32', 'R125'].fix(0.009)\n",
    "    m.fs.properties.PR_kappa_A['R125', 'R32'].fix(0.008)\n",
    "    m.fs.properties.PR_kappa_A['R32', 'bmimBF4'].fix(-0.03569)\n",
    "    m.fs.properties.PR_kappa_A['bmimBF4', 'R32'].fix(-0.075332)\n",
    "    m.fs.properties.PR_kappa_A['bmimBF4', 'R125'].fix(0.35)\n",
    "    m.fs.properties.PR_kappa_A['R125', 'bmimBF4'].fix(0.033)\n",
    "    \n",
    "    # Initialize the flash unit\n",
    "    m.fs.state_block.initialize(outlvl=idaeslog.CRITICAL)\n",
    "\n",
    "    # Fix at actual temperature\n",
    "    m.fs.state_block.temperature.fix(float(data[\"temperature\"]))\n",
    "    m.fs.state_block.pressure.fix(float(data[\"pressure\"]))\n",
    "    m.fs.state_block.pressure.unfix()\n",
    "    m.fs.state_block.mole_frac_comp[\"R125\"].unfix()\n",
    "    m.fs.state_block.mole_frac_comp[\"R32\"].unfix()\n",
    "    m.fs.state_block.mole_frac_comp[\"bmimBF4\"].unfix()\n",
    "#     m.fs.state_block.mole_frac_phase_comp['Vap', 'R32'].fix(float(data[\"y_R32\"]))\n",
    "    m.fs.state_block.mole_frac_phase_comp['Vap', 'R125'].fix(float(data[\"y_R125\"]))   \n",
    "    m.fs.state_block.mole_frac_phase_comp['Liq', 'R32'].fix(float(data[\"x_R32\"]))\n",
    "    m.fs.state_block.mole_frac_phase_comp['Liq', 'R125'].fix(float(data[\"x_R125\"])) \n",
    "    m.fs.state_block.mole_frac_phase_comp['Liq', 'bmimBF4'].fix(float(data[\"x_IL\"])) \n",
    "    \n",
    "    # Set bounds on variables to be estimated\n",
    "    m.fs.properties.PR_kappa_A['R32', 'R125'].setlb(-3)\n",
    "    m.fs.properties.PR_kappa_A['R32', 'R125'].setub(3)\n",
    "\n",
    "    m.fs.properties.PR_kappa_A['R125', 'R32'].setlb(-3)\n",
    "    m.fs.properties.PR_kappa_A['R125', 'R32'].setub(3)\n",
    "\n",
    "    m.fs.properties.PR_kappa_A['R32', 'bmimBF4'].setlb(-3)\n",
    "    m.fs.properties.PR_kappa_A['R32', 'bmimBF4'].setub(3)\n",
    "\n",
    "    m.fs.properties.PR_kappa_A['bmimBF4', 'R32'].setlb(-3)\n",
    "    m.fs.properties.PR_kappa_A['bmimBF4', 'R32'].setub(3)\n",
    "    \n",
    "    m.fs.properties.PR_kappa_A['bmimBF4', 'R125'].setlb(-3)\n",
    "    m.fs.properties.PR_kappa_A['bmimBF4', 'R125'].setub(3)\n",
    "\n",
    "    m.fs.properties.PR_kappa_A['R125', 'bmimBF4'].setlb(-3)\n",
    "    m.fs.properties.PR_kappa_A['R125', 'bmimBF4'].setub(3)\n",
    "    \n",
    "#     m.fs.state_block.initialize(outlvl=idaeslog.CRITICAL)\n",
    "#     status = solver.solve(m, tee = True)\n",
    "    \n",
    "#     print('data',float(data[\"y_R32\"]))\n",
    "    # Return initialized flash model\n",
    "    return m"
   ]
  },
  {
   "cell_type": "code",
   "execution_count": 6,
   "id": "b9b85cea",
   "metadata": {},
   "outputs": [
    {
     "name": "stdout",
     "output_type": "stream",
     "text": [
      "2021-10-21 16:59:23 [INFO] idaes.init.fs.state_block: Property package initialization: optimal - Optimal Solution Found.\n",
      "The initial DOF is 0\n"
     ]
    }
   ],
   "source": [
    "import pytest\n",
    "\n",
    "test_data = {\"temperature\": 298.15, \"pressure\": 250000, \"x_R32\":0.179, \"x_IL\":0.821,  \n",
    "             \"x_R125\":0.00001, \"y_R125\":0.00001, \"y_R32\":0.9999, \"y_IL\":0.0001}\n",
    "\n",
    "m = PR_model(test_data)\n",
    "\n",
    "DOF_initial = degrees_of_freedom(m)\n",
    "print(\"The initial DOF is {0}\".format(DOF_initial))\n",
    "# print('data1')\n",
    "# import pytest\n",
    "\n",
    "# test_data = {\"temperature\": 298.15, \"pressure\": 250000, \"x_R32\":0.139, \"x_IL\":0.844,  \n",
    "#              \"x_R125\":0.016213, \"y_R125\":0.2501, \"y_R32\":0.7499, \"y_IL\":0.0001}\n",
    "\n",
    "# m = PR_model(test_data)\n",
    "\n",
    "# DOF_initial = degrees_of_freedom(m)\n",
    "# print(\"The initial DOF is {0}\".format(DOF_initial))\n",
    "# print('data2')\n",
    "# import pytest\n",
    "\n",
    "# test_data = {\"temperature\": 298.15, \"pressure\": 250000, \"x_R32\":0.097, \"x_IL\":0.844,  \n",
    "#              \"x_R125\":0.082, \"y_R125\":0.5, \"y_R32\":0.4999, \"y_IL\":0.0001}\n",
    "\n",
    "# m = PR_model(test_data)\n",
    "\n",
    "# DOF_initial = degrees_of_freedom(m)\n",
    "# print(\"The initial DOF is {0}\".format(DOF_initial))\n",
    "# print('data3')\n",
    "# import pytest\n",
    "\n",
    "# test_data = {\"temperature\": 298.15, \"pressure\": 250000, \"x_R32\":0.05, \"x_IL\":0.899,  \n",
    "#              \"x_R125\":0.05, \"y_R125\":0.75, \"y_R32\":0.24999, \"y_IL\":0.0001}\n",
    "\n",
    "# m = PR_model(test_data)\n",
    "\n",
    "# DOF_initial = degrees_of_freedom(m)\n",
    "# print(\"The initial DOF is {0}\".format(DOF_initial))\n",
    "# print('data4')\n",
    "# import pytest\n",
    "\n",
    "# test_data = {\"temperature\": 298.15, \"pressure\": 250000, \"x_R32\":0.00001, \"x_IL\":0.93,  \n",
    "#              \"x_R125\":0.07, \"y_R125\":0.9999, \"y_R32\":0.00001, \"y_IL\":0.0001}\n",
    "\n",
    "# m = PR_model(test_data)\n",
    "\n",
    "# DOF_initial = degrees_of_freedom(m)\n",
    "# print(\"The initial DOF is {0}\".format(DOF_initial))\n",
    "# print('data5')"
   ]
  },
  {
   "cell_type": "code",
   "execution_count": 7,
   "id": "65a9683f",
   "metadata": {},
   "outputs": [],
   "source": [
    "variable_name = [\n",
    "                \"fs.properties.PR_kappa_A['R32', 'R125']\",\n",
    "                \"fs.properties.PR_kappa_A['R125', 'R32']\",\n",
    "                \"fs.properties.PR_kappa_A['R32', 'bmimBF4']\",\n",
    "                \"fs.properties.PR_kappa_A['bmimBF4', 'R32']\",\n",
    "                \"fs.properties.PR_kappa_A['bmimBF4', 'R125']\",\n",
    "                \"fs.properties.PR_kappa_A['R125', 'bmimBF4']\"]"
   ]
  },
  {
   "cell_type": "code",
   "execution_count": 8,
   "id": "f341c101",
   "metadata": {},
   "outputs": [],
   "source": [
    "def SSE(m, data):\n",
    "    expr = ((float(data[\"pressure\"]) - m.fs.state_block.pressure)**2)\n",
    "    return expr*1e-4\n",
    "\n",
    "# def SSE(m, data):\n",
    "#     expr = ((float(data[\"y_R125\"]) -\n",
    "#              m.fs.state_block.mole_frac_phase_comp[\"Vap\", \"R125\"])**2)\n"
   ]
  },
  {
   "cell_type": "code",
   "execution_count": 12,
   "id": "638d92d0",
   "metadata": {
    "scrolled": false
   },
   "outputs": [
    {
     "name": "stdout",
     "output_type": "stream",
     "text": [
      "2021-10-21 17:02:36 [INFO] idaes.init.fs.state_block: Property package initialization: optimal - Optimal Solution Found.\n",
      "2021-10-21 17:02:38 [INFO] idaes.init.fs.state_block: Property package initialization: optimal - Optimal Solution Found.\n",
      "2021-10-21 17:02:40 [INFO] idaes.init.fs.state_block: Property package initialization: optimal - Optimal Solution Found.\n",
      "2021-10-21 17:02:42 [INFO] idaes.init.fs.state_block: Property package initialization: optimal - Optimal Solution Found.\n",
      "2021-10-21 17:02:44 [INFO] idaes.init.fs.state_block: Property package initialization: optimal - Optimal Solution Found.\n",
      "2021-10-21 17:02:46 [INFO] idaes.init.fs.state_block: Property package initialization: optimal - Optimal Solution Found.\n",
      "2021-10-21 17:02:49 [INFO] idaes.init.fs.state_block: Property package initialization: optimal - Optimal Solution Found.\n",
      "2021-10-21 17:02:51 [INFO] idaes.init.fs.state_block: Property package initialization: optimal - Optimal Solution Found.\n",
      "2021-10-21 17:02:53 [INFO] idaes.init.fs.state_block: Property package initialization: optimal - Optimal Solution Found.\n",
      "2021-10-21 17:02:56 [INFO] idaes.init.fs.state_block: Property package initialization: optimal - Optimal Solution Found.\n",
      "Ipopt 3.12.13: halt_on_ampl_error=yes\n",
      "\n",
      "\n",
      "******************************************************************************\n",
      "This program contains Ipopt, a library for large-scale nonlinear optimization.\n",
      " Ipopt is released as open source code under the Eclipse Public License (EPL).\n",
      "         For more information visit http://projects.coin-or.org/Ipopt\n",
      "\n",
      "This version of Ipopt was compiled from source code available at\n",
      "    https://github.com/IDAES/Ipopt as part of the Institute for the Design of\n",
      "    Advanced Energy Systems Process Systems Engineering Framework (IDAES PSE\n",
      "    Framework) Copyright (c) 2018-2019. See https://github.com/IDAES/idaes-pse.\n",
      "\n",
      "This version of Ipopt was compiled using HSL, a collection of Fortran codes\n",
      "    for large-scale scientific computation.  All technical papers, sales and\n",
      "    publicity material resulting from use of the HSL codes within IPOPT must\n",
      "    contain the following acknowledgement:\n",
      "        HSL, a collection of Fortran codes for large-scale scientific\n",
      "        computation. See http://www.hsl.rl.ac.uk.\n",
      "******************************************************************************\n",
      "\n",
      "This is Ipopt version 3.12.13, running with linear solver ma27.\n",
      "\n",
      "Number of nonzeros in equality constraint Jacobian...:      648\n",
      "Number of nonzeros in inequality constraint Jacobian.:      150\n",
      "Number of nonzeros in Lagrangian Hessian.............:     1100\n",
      "\n",
      "Error evaluating \"var =\" definition -1: can't evaluate pow(NaN,0.5).\n",
      "ERROR: Solver (ipopt) returned non-zero return code (1)\n",
      "ERROR: See the solver log above for diagnostic information.\n"
     ]
    },
    {
     "ename": "ApplicationError",
     "evalue": "Solver (ipopt) did not exit normally",
     "output_type": "error",
     "traceback": [
      "\u001b[1;31m---------------------------------------------------------------------------\u001b[0m",
      "\u001b[1;31mApplicationError\u001b[0m                          Traceback (most recent call last)",
      "\u001b[1;32m~\\AppData\\Local\\Temp/ipykernel_38236/390975673.py\u001b[0m in \u001b[0;36m<module>\u001b[1;34m\u001b[0m\n\u001b[0;32m      4\u001b[0m \u001b[1;31m# solver_options = {'tol': 1e-6, 'max_iter':100}\u001b[0m\u001b[1;33m\u001b[0m\u001b[1;33m\u001b[0m\u001b[1;33m\u001b[0m\u001b[0m\n\u001b[0;32m      5\u001b[0m \u001b[1;33m\u001b[0m\u001b[0m\n\u001b[1;32m----> 6\u001b[1;33m \u001b[0mobj_value\u001b[0m\u001b[1;33m,\u001b[0m \u001b[0mparameters\u001b[0m \u001b[1;33m=\u001b[0m \u001b[0mpest\u001b[0m\u001b[1;33m.\u001b[0m\u001b[0mtheta_est\u001b[0m\u001b[1;33m(\u001b[0m\u001b[1;33m)\u001b[0m\u001b[1;33m\u001b[0m\u001b[1;33m\u001b[0m\u001b[0m\n\u001b[0m",
      "\u001b[1;32mc:\\users\\agarc\\anaconda32\\envs\\kappa\\lib\\site-packages\\pyomo\\contrib\\parmest\\parmest.py\u001b[0m in \u001b[0;36mtheta_est\u001b[1;34m(self, solver, return_values, bootlist, calc_cov)\u001b[0m\n\u001b[0;32m    672\u001b[0m         \u001b[1;32massert\u001b[0m \u001b[0misinstance\u001b[0m\u001b[1;33m(\u001b[0m\u001b[0mbootlist\u001b[0m\u001b[1;33m,\u001b[0m \u001b[1;33m(\u001b[0m\u001b[0mtype\u001b[0m\u001b[1;33m(\u001b[0m\u001b[1;32mNone\u001b[0m\u001b[1;33m)\u001b[0m\u001b[1;33m,\u001b[0m \u001b[0mlist\u001b[0m\u001b[1;33m)\u001b[0m\u001b[1;33m)\u001b[0m\u001b[1;33m\u001b[0m\u001b[1;33m\u001b[0m\u001b[0m\n\u001b[0;32m    673\u001b[0m \u001b[1;33m\u001b[0m\u001b[0m\n\u001b[1;32m--> 674\u001b[1;33m         return self._Q_opt(solver=solver, return_values=return_values,\n\u001b[0m\u001b[0;32m    675\u001b[0m                            bootlist=bootlist, calc_cov=calc_cov)\n\u001b[0;32m    676\u001b[0m \u001b[1;33m\u001b[0m\u001b[0m\n",
      "\u001b[1;32mc:\\users\\agarc\\anaconda32\\envs\\kappa\\lib\\site-packages\\pyomo\\contrib\\parmest\\parmest.py\u001b[0m in \u001b[0;36m_Q_opt\u001b[1;34m(self, ThetaVals, solver, return_values, bootlist, calc_cov)\u001b[0m\n\u001b[0;32m    442\u001b[0m                         \u001b[0msolver\u001b[0m\u001b[1;33m.\u001b[0m\u001b[0moptions\u001b[0m\u001b[1;33m[\u001b[0m\u001b[0mkey\u001b[0m\u001b[1;33m]\u001b[0m \u001b[1;33m=\u001b[0m \u001b[0mself\u001b[0m\u001b[1;33m.\u001b[0m\u001b[0msolver_options\u001b[0m\u001b[1;33m[\u001b[0m\u001b[0mkey\u001b[0m\u001b[1;33m]\u001b[0m\u001b[1;33m\u001b[0m\u001b[1;33m\u001b[0m\u001b[0m\n\u001b[0;32m    443\u001b[0m \u001b[1;33m\u001b[0m\u001b[0m\n\u001b[1;32m--> 444\u001b[1;33m                 \u001b[0msolve_result\u001b[0m \u001b[1;33m=\u001b[0m \u001b[0msolver\u001b[0m\u001b[1;33m.\u001b[0m\u001b[0msolve\u001b[0m\u001b[1;33m(\u001b[0m\u001b[0mef\u001b[0m\u001b[1;33m,\u001b[0m \u001b[0mtee\u001b[0m \u001b[1;33m=\u001b[0m \u001b[0mself\u001b[0m\u001b[1;33m.\u001b[0m\u001b[0mtee\u001b[0m\u001b[1;33m)\u001b[0m\u001b[1;33m\u001b[0m\u001b[1;33m\u001b[0m\u001b[0m\n\u001b[0m\u001b[0;32m    445\u001b[0m \u001b[1;33m\u001b[0m\u001b[0m\n\u001b[0;32m    446\u001b[0m             \u001b[1;31m# The import error will be raised when we attempt to use\u001b[0m\u001b[1;33m\u001b[0m\u001b[1;33m\u001b[0m\u001b[1;33m\u001b[0m\u001b[0m\n",
      "\u001b[1;32mc:\\users\\agarc\\anaconda32\\envs\\kappa\\lib\\site-packages\\pyomo\\opt\\base\\solvers.py\u001b[0m in \u001b[0;36msolve\u001b[1;34m(self, *args, **kwds)\u001b[0m\n\u001b[0;32m    593\u001b[0m                 \u001b[1;32melif\u001b[0m \u001b[0mhasattr\u001b[0m\u001b[1;33m(\u001b[0m\u001b[0m_status\u001b[0m\u001b[1;33m,\u001b[0m \u001b[1;34m'log'\u001b[0m\u001b[1;33m)\u001b[0m \u001b[1;32mand\u001b[0m \u001b[0m_status\u001b[0m\u001b[1;33m.\u001b[0m\u001b[0mlog\u001b[0m\u001b[1;33m:\u001b[0m\u001b[1;33m\u001b[0m\u001b[1;33m\u001b[0m\u001b[0m\n\u001b[0;32m    594\u001b[0m                     \u001b[0mlogger\u001b[0m\u001b[1;33m.\u001b[0m\u001b[0merror\u001b[0m\u001b[1;33m(\u001b[0m\u001b[1;34m\"Solver log:\\n\"\u001b[0m \u001b[1;33m+\u001b[0m \u001b[0mstr\u001b[0m\u001b[1;33m(\u001b[0m\u001b[0m_status\u001b[0m\u001b[1;33m.\u001b[0m\u001b[0mlog\u001b[0m\u001b[1;33m)\u001b[0m\u001b[1;33m)\u001b[0m\u001b[1;33m\u001b[0m\u001b[1;33m\u001b[0m\u001b[0m\n\u001b[1;32m--> 595\u001b[1;33m                 raise ApplicationError(\n\u001b[0m\u001b[0;32m    596\u001b[0m                     \"Solver (%s) did not exit normally\" % self.name)\n\u001b[0;32m    597\u001b[0m             \u001b[0msolve_completion_time\u001b[0m \u001b[1;33m=\u001b[0m \u001b[0mtime\u001b[0m\u001b[1;33m.\u001b[0m\u001b[0mtime\u001b[0m\u001b[1;33m(\u001b[0m\u001b[1;33m)\u001b[0m\u001b[1;33m\u001b[0m\u001b[1;33m\u001b[0m\u001b[0m\n",
      "\u001b[1;31mApplicationError\u001b[0m: Solver (ipopt) did not exit normally"
     ]
    }
   ],
   "source": [
    "# solver_options = {'halt_on_ampl_error':'yes','tol': 1e-7, 'symbolic_solver_labels': True}\n",
    "solver_options = {'halt_on_ampl_error':'yes'}\n",
    "pest = parmest.Estimator(PR_model, data, variable_name, SSE, tee = True, solver_options=solver_options, diagnostic_mode=True)\n",
    "# solver_options = {'tol': 1e-6, 'max_iter':100}\n",
    "\n",
    "obj_value, parameters = pest.theta_est()"
   ]
  },
  {
   "cell_type": "code",
   "execution_count": null,
   "id": "ef1fc884",
   "metadata": {},
   "outputs": [],
   "source": [
    "print(\"The SSE at the optimal solution is %0.6f\" % obj_value)\n",
    "print()\n",
    "print(\"The values for the parameters are as follows:\")\n",
    "for k,v in parameters.items():\n",
    "    print(k, \"=\", v)"
   ]
  },
  {
   "cell_type": "code",
   "execution_count": null,
   "id": "d2d9572f",
   "metadata": {},
   "outputs": [],
   "source": [
    "print(large_residuals_set(pest.ef_instance))"
   ]
  },
  {
   "cell_type": "code",
   "execution_count": null,
   "id": "98cacd2a",
   "metadata": {},
   "outputs": [],
   "source": []
  }
 ],
 "metadata": {
  "kernelspec": {
   "display_name": "Python 3 (ipykernel)",
   "language": "python",
   "name": "python3"
  },
  "language_info": {
   "codemirror_mode": {
    "name": "ipython",
    "version": 3
   },
   "file_extension": ".py",
   "mimetype": "text/x-python",
   "name": "python",
   "nbconvert_exporter": "python",
   "pygments_lexer": "ipython3",
   "version": "3.9.6"
  }
 },
 "nbformat": 4,
 "nbformat_minor": 5
}
