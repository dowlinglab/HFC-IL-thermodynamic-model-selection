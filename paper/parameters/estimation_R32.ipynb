{
 "cells": [
  {
   "cell_type": "code",
   "execution_count": 1,
   "metadata": {},
   "outputs": [],
   "source": [
    "from binary_param import linear, constant\n",
    "import pandas as pd\n",
    "from R32_bmimPF6_PR import configuration"
   ]
  },
  {
   "cell_type": "code",
   "execution_count": 2,
   "metadata": {
    "scrolled": false
   },
   "outputs": [],
   "source": [
    "# binary_params_peng('R32IL298.csv', configuration, 'R32', 'bmimPF6', \"x_R32\", \"x_bmimPF6\", \n",
    "#     init_temp = 323.15, init_press = 399800, init_x_c1 = 0.5, init_x_c2 = 0.5,\n",
    "#     init_kappa_2_1 = -0.05, init_kappa_1_2 = -0.03, eps = 0.1, scaling_fac = 1e-9)"
   ]
  },
  {
   "cell_type": "code",
   "execution_count": 3,
   "metadata": {},
   "outputs": [
    {
     "name": "stdout",
     "output_type": "stream",
     "text": [
      "    temperature  pressure   x_R32  x_bmimPF6\n",
      "0         283.2      9800  0.0206     0.9794\n",
      "1         283.2     99600  0.1060     0.8940\n",
      "2         283.2    249700  0.2710     0.7290\n",
      "3         283.2    399600  0.4280     0.5720\n",
      "4         283.2    549700  0.5580     0.4420\n",
      "5         283.2    699600  0.6500     0.3500\n",
      "6         283.2    849500  0.8150     0.1850\n",
      "7         298.1      9700  0.0180     0.9820\n",
      "8         298.2     99500  0.0760     0.9240\n",
      "9         298.2    249700  0.1900     0.8100\n",
      "10        298.2    399800  0.2970     0.7030\n",
      "11        298.1    549700  0.3900     0.6100\n",
      "12        298.1    699500  0.4750     0.5250\n",
      "13        298.2    850100  0.5520     0.4480\n",
      "14        298.1    999900  0.6280     0.3720\n",
      "15        322.8      9900  0.0060     0.9940\n",
      "16        323.1     99500  0.0470     0.9530\n",
      "17        323.1    249600  0.1130     0.8870\n",
      "18        323.1    399500  0.1740     0.8260\n",
      "19        323.1    549700  0.2310     0.7690\n",
      "20        323.1    699600  0.2850     0.7150\n",
      "21        323.2    849600  0.3350     0.6650\n",
      "22        323.2    999600  0.3820     0.6180\n",
      "23        348.2      9900  0.0030     0.9970\n",
      "24        348.2     99700  0.0290     0.9710\n",
      "25        348.2    249500  0.0700     0.9300\n",
      "26        348.2    399400  0.1090     0.8910\n",
      "27        348.1    549800  0.1460     0.8540\n",
      "28        348.1    699700  0.1820     0.8180\n",
      "29        348.2    849600  0.2140     0.7860\n",
      "30        348.2    999900  0.2480     0.7520\n"
     ]
    }
   ],
   "source": [
    "data = pd.read_csv('R32IL.csv')\n",
    "print(data)\n",
    "# 283\n",
    "data_283= data[(data.temperature > 282) & (data.temperature< 284)]\n",
    "\n",
    "# 298\n",
    "data_298 = data[(data.temperature > 297) & (data.temperature< 299)]\n",
    "data_298 = data_298.reset_index(drop=True)\n",
    "\n",
    "# 323\n",
    "data_323 = data[(data.temperature > 322) & (data.temperature< 324)]\n",
    "data_323 = data_323.reset_index(drop=True)\n",
    "\n",
    "# 323\n",
    "data_348 = data[(data.temperature > 347) & (data.temperature< 349)]\n",
    "data_348 = data_348.reset_index(drop=True)"
   ]
  },
  {
   "cell_type": "code",
   "execution_count": 4,
   "metadata": {
    "scrolled": false
   },
   "outputs": [],
   "source": [
    "# linear(data, configuration, 'R32', 'bmimPF6', \"x_R32\", \"x_bmimPF6\",\n",
    "#     init_temp =  283.1, init_press =   399300 , init_x_c1 =    0.448, init_x_c2 = 0.552,\n",
    "#     init_kappa_2_1A = 1.2354, init_kappa_1_2A = 0.1695,\n",
    "#     init_kappa_2_1B = -1.387, init_kappa_1_2B = -0.2075, eps = 0.1, scaling_fac = 1e-9)"
   ]
  },
  {
   "cell_type": "code",
   "execution_count": 5,
   "metadata": {
    "scrolled": true
   },
   "outputs": [
    {
     "name": "stdout",
     "output_type": "stream",
     "text": [
      "2022-01-20 13:05:48 [INFO] idaes.init.fs.state_block: Property package initialization: optimal - Optimal Solution Found.\n",
      "2022-01-20 13:05:48 [INFO] idaes.init.fs.state_block: Property package initialization: optimal - Optimal Solution Found.\n",
      "2022-01-20 13:05:49 [INFO] idaes.init.fs.state_block: Property package initialization: optimal - Optimal Solution Found.\n",
      "2022-01-20 13:05:50 [INFO] idaes.init.fs.state_block: Property package initialization: optimal - Optimal Solution Found.\n",
      "2022-01-20 13:05:51 [INFO] idaes.init.fs.state_block: Property package initialization: infeasible - Converged to a locally infeasible point. Problem may be infeasible..\n",
      "2022-01-20 13:05:51 [INFO] idaes.init.fs.state_block: Property package initialization: infeasible - Converged to a locally infeasible point. Problem may be infeasible..\n",
      "2022-01-20 13:05:52 [INFO] idaes.init.fs.state_block: Property package initialization: infeasible - Converged to a locally infeasible point. Problem may be infeasible..\n",
      "2022-01-20 13:05:53 [INFO] idaes.init.fs.state_block: Property package initialization: optimal - Optimal Solution Found.\n",
      "2022-01-20 13:05:54 [INFO] idaes.init.fs.state_block: Property package initialization: optimal - Optimal Solution Found.\n",
      "2022-01-20 13:05:55 [INFO] idaes.init.fs.state_block: Property package initialization: optimal - Optimal Solution Found.\n",
      "2022-01-20 13:05:55 [INFO] idaes.init.fs.state_block: Property package initialization: optimal - Optimal Solution Found.\n",
      "2022-01-20 13:05:56 [INFO] idaes.init.fs.state_block: Property package initialization: optimal - Optimal Solution Found.\n",
      "2022-01-20 13:05:57 [INFO] idaes.init.fs.state_block: Property package initialization: optimal - Optimal Solution Found.\n",
      "2022-01-20 13:05:58 [INFO] idaes.init.fs.state_block: Property package initialization: infeasible - Converged to a locally infeasible point. Problem may be infeasible..\n",
      "2022-01-20 13:05:59 [INFO] idaes.init.fs.state_block: Property package initialization: infeasible - Converged to a locally infeasible point. Problem may be infeasible..\n",
      "2022-01-20 13:05:59 [INFO] idaes.init.fs.state_block: Property package initialization: optimal - Optimal Solution Found.\n",
      "2022-01-20 13:06:00 [INFO] idaes.init.fs.state_block: Property package initialization: optimal - Optimal Solution Found.\n",
      "2022-01-20 13:06:01 [INFO] idaes.init.fs.state_block: Property package initialization: optimal - Optimal Solution Found.\n",
      "2022-01-20 13:06:02 [INFO] idaes.init.fs.state_block: Property package initialization: optimal - Optimal Solution Found.\n",
      "2022-01-20 13:06:02 [INFO] idaes.init.fs.state_block: Property package initialization: optimal - Optimal Solution Found.\n",
      "2022-01-20 13:06:03 [INFO] idaes.init.fs.state_block: Property package initialization: optimal - Optimal Solution Found.\n",
      "2022-01-20 13:06:04 [INFO] idaes.init.fs.state_block: Property package initialization: optimal - Optimal Solution Found.\n",
      "2022-01-20 13:06:05 [INFO] idaes.init.fs.state_block: Property package initialization: optimal - Optimal Solution Found.\n",
      "2022-01-20 13:06:06 [INFO] idaes.init.fs.state_block: Property package initialization: optimal - Optimal Solution Found.\n",
      "2022-01-20 13:06:06 [INFO] idaes.init.fs.state_block: Property package initialization: optimal - Optimal Solution Found.\n",
      "2022-01-20 13:06:07 [INFO] idaes.init.fs.state_block: Property package initialization: optimal - Optimal Solution Found.\n",
      "2022-01-20 13:06:08 [INFO] idaes.init.fs.state_block: Property package initialization: optimal - Optimal Solution Found.\n",
      "2022-01-20 13:06:09 [INFO] idaes.init.fs.state_block: Property package initialization: optimal - Optimal Solution Found.\n",
      "2022-01-20 13:06:09 [INFO] idaes.init.fs.state_block: Property package initialization: optimal - Optimal Solution Found.\n",
      "2022-01-20 13:06:10 [INFO] idaes.init.fs.state_block: Property package initialization: optimal - Optimal Solution Found.\n",
      "2022-01-20 13:06:11 [INFO] idaes.init.fs.state_block: Property package initialization: optimal - Optimal Solution Found.\n",
      "Ipopt 3.13.2: \n",
      "\n",
      "******************************************************************************\n",
      "This program contains Ipopt, a library for large-scale nonlinear optimization.\n",
      " Ipopt is released as open source code under the Eclipse Public License (EPL).\n",
      "         For more information visit http://projects.coin-or.org/Ipopt\n",
      "\n",
      "This version of Ipopt was compiled from source code available at\n",
      "    https://github.com/IDAES/Ipopt as part of the Institute for the Design of\n",
      "    Advanced Energy Systems Process Systems Engineering Framework (IDAES PSE\n",
      "    Framework) Copyright (c) 2018-2019. See https://github.com/IDAES/idaes-pse.\n",
      "\n",
      "This version of Ipopt was compiled using HSL, a collection of Fortran codes\n",
      "    for large-scale scientific computation.  All technical papers, sales and\n",
      "    publicity material resulting from use of the HSL codes within IPOPT must\n",
      "    contain the following acknowledgement:\n",
      "        HSL, a collection of Fortran codes for large-scale scientific\n",
      "        computation. See http://www.hsl.rl.ac.uk.\n",
      "******************************************************************************\n",
      "\n",
      "This is Ipopt version 3.13.2, running with linear solver ma27.\n",
      "\n",
      "Number of nonzeros in equality constraint Jacobian...:     1050\n",
      "Number of nonzeros in inequality constraint Jacobian.:        0\n",
      "Number of nonzeros in Lagrangian Hessian.............:     1054\n",
      "\n",
      "Total number of variables............................:      434\n",
      "                     variables with only lower bounds:      186\n",
      "                variables with lower and upper bounds:      186\n",
      "                     variables with only upper bounds:        0\n",
      "Total number of equality constraints.................:      432\n",
      "Total number of inequality constraints...............:        0\n",
      "        inequality constraints with only lower bounds:        0\n",
      "   inequality constraints with lower and upper bounds:        0\n",
      "        inequality constraints with only upper bounds:        0\n",
      "\n",
      "iter    objective    inf_pr   inf_du lg(mu)  ||d||  lg(rg) alpha_du alpha_pr  ls\n",
      "   0  0.0000000e+00 2.29e+00 1.42e-14  -1.0 0.00e+00    -  0.00e+00 0.00e+00   0\n",
      "   1  2.1794812e-01 1.42e+00 9.28e+03  -1.0 1.35e+05    -  4.13e-03 3.96e-01h  1\n",
      "   2  8.5287970e-01 1.75e-01 8.93e+03  -1.0 5.10e+04    -  2.50e-02 9.90e-01h  1\n",
      "   3  7.2145018e-01 9.65e-03 3.60e+02  -1.0 1.62e+04    -  9.03e-01 9.90e-01h  1\n",
      "   4  7.2005092e-01 1.38e-05 2.43e+03  -1.0 2.93e+02    -  9.85e-01 1.00e+00h  1\n",
      "   5  7.1916923e-01 2.19e-07 9.92e+04  -1.0 5.98e+02    -  9.90e-01 1.00e+00h  1\n",
      "   6  7.1232200e-01 9.46e-05 9.91e+02  -1.0 1.23e+04    -  9.90e-01 1.00e+00f  1\n",
      "   7  7.0540382e-01 2.53e-05 2.73e+04  -2.5 4.93e+03    -  9.97e-01 1.00e+00h  1\n",
      "   8  7.0538557e-01 2.02e-09 2.83e-08  -2.5 4.43e+01    -  1.00e+00 1.00e+00h  1\n",
      "   9  7.0537730e-01 4.46e-08 1.57e+01  -8.6 1.86e+02    -  1.00e+00 1.00e+00h  1\n",
      "iter    objective    inf_pr   inf_du lg(mu)  ||d||  lg(rg) alpha_du alpha_pr  ls\n",
      "  10  7.0537737e-01 1.34e-11 3.52e-13  -8.6 3.44e-02    -  1.00e+00 1.00e+00h  1\n",
      "\n",
      "Number of Iterations....: 10\n",
      "\n",
      "                                   (scaled)                 (unscaled)\n",
      "Objective...............:   7.0537737232531772e-01    7.0537737232531772e-01\n",
      "Dual infeasibility......:   3.5198889574518828e-13    3.5198889574518828e-13\n",
      "Constraint violation....:   1.3388845587769538e-11    1.3388845587769538e-11\n",
      "Complementarity.........:   2.5059432357366417e-09    2.5059432357366417e-09\n",
      "Overall NLP error.......:   2.5059432357366417e-09    2.5059432357366417e-09\n",
      "\n",
      "\n",
      "Number of objective function evaluations             = 11\n",
      "Number of objective gradient evaluations             = 11\n",
      "Number of equality constraint evaluations            = 11\n",
      "Number of inequality constraint evaluations          = 0\n",
      "Number of equality constraint Jacobian evaluations   = 11\n",
      "Number of inequality constraint Jacobian evaluations = 0\n",
      "Number of Lagrangian Hessian evaluations             = 10\n",
      "Total CPU secs in IPOPT (w/o function evaluations)   =      0.064\n",
      "Total CPU secs in NLP function evaluations           =      0.211\n",
      "\n",
      "EXIT: Optimal Solution Found.\n",
      "The SSE at the optimal solution is 0.705377\n",
      "\n",
      "The values for the parameters are as follows:\n",
      "fs.properties.PR_kappa_A[bmimPF6,R32] = -0.10943851265401343\n",
      "fs.properties.PR_kappa_A[R32,bmimPF6] = -0.05450860736784513\n"
     ]
    }
   ],
   "source": [
    "constant(data, configuration, 'R32', 'bmimPF6', \"x_R32\", \"x_bmimPF6\",\n",
    "    init_temp =  283.1, init_press = 399300 , init_x_c1 = 0.448, init_x_c2 = 0.552,\n",
    "    init_kappa_2_1A = 0.1, init_kappa_1_2A = 0.10,\n",
    "    eps = 0.1, scaling_fac = 1e-9)"
   ]
  },
  {
   "cell_type": "code",
   "execution_count": null,
   "metadata": {},
   "outputs": [],
   "source": []
  }
 ],
 "metadata": {
  "kernelspec": {
   "display_name": "Python 3 (ipykernel)",
   "language": "python",
   "name": "python3"
  },
  "language_info": {
   "codemirror_mode": {
    "name": "ipython",
    "version": 3
   },
   "file_extension": ".py",
   "mimetype": "text/x-python",
   "name": "python",
   "nbconvert_exporter": "python",
   "pygments_lexer": "ipython3",
   "version": "3.9.6"
  }
 },
 "nbformat": 4,
 "nbformat_minor": 4
}
