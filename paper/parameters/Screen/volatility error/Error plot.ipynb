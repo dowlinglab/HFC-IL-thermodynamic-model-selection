{
 "cells": [
  {
   "cell_type": "code",
   "execution_count": 1,
   "id": "12cffe60",
   "metadata": {},
   "outputs": [],
   "source": [
    "import pandas as pd\n",
    "\n",
    "# Import plotting functions\n",
    "import matplotlib.pyplot as plt\n",
    "\n",
    "# Import numpy library \n",
    "import numpy as np"
   ]
  },
  {
   "cell_type": "code",
   "execution_count": 2,
   "id": "14cdf67e",
   "metadata": {},
   "outputs": [],
   "source": [
    "alpha1_PF6 = pd.read_csv('alpha_bmimPF6_01_2.csv')\n",
    "alpha2_PF6 = pd.read_csv('alpha_bmimPF6_02_2.csv')\n",
    "alpha5_PF6 = pd.read_csv('alpha_bmimPF6_05_2.csv')\n",
    "alpha7_PF6 = pd.read_csv('alpha_bmimPF6_09_2.csv')\n",
    "alpha10_PF6 = pd.read_csv('alpha_bmimPF6_10_2.csv')\n",
    "\n",
    "alpha1_bmimAc = pd.read_csv('bmimAc_alpha_01_2.csv')\n",
    "alpha2_bmimAc = pd.read_csv('bmimAc_alpha_02_2.csv')\n",
    "alpha5_bmimAc = pd.read_csv('bmimAc_alpha_05_2.csv')\n",
    "alpha7_bmimAc = pd.read_csv('bmimAc_alpha_09_2.csv')\n",
    "alpha10_bmimAc = pd.read_csv('bmimAc_alpha_10_2.csv')\n",
    "\n",
    "alpha1_emimTf2N = pd.read_csv('emimTf2N_alpha_01_2.csv')\n",
    "alpha2_emimTf2N = pd.read_csv('emimTf2N_alpha_02_2.csv')\n",
    "alpha5_emimTf2N = pd.read_csv('emimTf2N_alpha_05_2.csv')\n",
    "alpha7_emimTf2N = pd.read_csv('emimTf2N_alpha_09_2.csv')\n",
    "alpha10_emimTf2N = pd.read_csv('emimTf2N_alpha_10_2.csv')\n",
    "\n",
    "alpha1_hmimCl = pd.read_csv('hmimCl_alpha_01_2.csv')\n",
    "alpha2_hmimCl = pd.read_csv('hmimCl_alpha_02_2.csv')\n",
    "alpha5_hmimCl = pd.read_csv('hmimCl_alpha_05_2.csv')\n",
    "alpha7_hmimCl = pd.read_csv('hmimCl_alpha_09_2.csv')\n",
    "alpha10_hmimCl = pd.read_csv('hmimCl_alpha_10_2.csv')\n",
    "\n",
    "alpha1_hmimFAP = pd.read_csv('hmimFAP_alpha_01_2.csv')\n",
    "alpha2_hmimFAP = pd.read_csv('hmimFAP_alpha_02_2.csv')\n",
    "alpha5_hmimFAP = pd.read_csv('hmimFAP_alpha_05_2.csv')\n",
    "alpha7_hmimFAP = pd.read_csv('hmimFAP_alpha_09_2.csv')\n",
    "alpha10_hmimFAP = pd.read_csv('hmimFAP_alpha_10_2.csv')\n",
    "\n",
    "alpha1_bf4 = pd.read_csv('bmimbf4_alpha_01_2.csv')\n",
    "alpha2_bf4 = pd.read_csv('bmimbf4_alpha_02_2.csv')\n",
    "alpha5_bf4 = pd.read_csv('bmimbf4_alpha_05_2.csv')\n",
    "alpha7_bf4 = pd.read_csv('bmimbf4_alpha_09_2.csv')\n",
    "alpha10_bf4 = pd.read_csv('bmimbf4_alpha_10_2.csv')"
   ]
  },
  {
   "cell_type": "code",
   "execution_count": 3,
   "id": "2c7ae5f7",
   "metadata": {},
   "outputs": [],
   "source": [
    "alpha1_mean_PF6 = np.mean(alpha1_PF6['0'])\n",
    "alpha2_mean_PF6 = np.mean(alpha2_PF6['0'])\n",
    "alpha5_mean_PF6 = np.mean(alpha5_PF6['0'])\n",
    "alpha7_mean_PF6 = np.mean(alpha7_PF6['0'])\n",
    "alpha10_mean_PF6 = np.mean(alpha10_PF6['0'])\n",
    "\n",
    "alpha1_mean_bmimAc = np.mean(alpha1_bmimAc['0'])\n",
    "alpha2_mean_bmimAc = np.mean(alpha2_bmimAc['0'])\n",
    "alpha5_mean_bmimAc = np.mean(alpha5_bmimAc['0'])\n",
    "alpha7_mean_bmimAc = np.mean(alpha7_bmimAc['0'])\n",
    "alpha10_mean_bmimAc = np.mean(alpha10_bmimAc['0'])\n",
    "\n",
    "alpha1_mean_emimTf2N = np.mean(alpha1_emimTf2N['0'])\n",
    "alpha2_mean_emimTf2N = np.mean(alpha2_emimTf2N['0'])\n",
    "alpha5_mean_emimTf2N = np.mean(alpha5_emimTf2N['0'])\n",
    "alpha7_mean_emimTf2N = np.mean(alpha7_emimTf2N['0'])\n",
    "alpha10_mean_emimTf2N = np.mean(alpha10_emimTf2N['0'])\n",
    "\n",
    "alpha1_mean_hmimCl = np.mean(alpha1_hmimCl['0'])\n",
    "alpha2_mean_hmimCl = np.mean(alpha2_hmimCl['0'])\n",
    "alpha5_mean_hmimCl = np.mean(alpha5_hmimCl['0'])\n",
    "alpha7_mean_hmimCl = np.mean(alpha7_hmimCl['0'])\n",
    "alpha10_mean_hmimCl = np.mean(alpha10_hmimCl['0'])\n",
    "\n",
    "alpha1_mean_hmimFAP = np.mean(alpha1_hmimFAP['0'])\n",
    "alpha2_mean_hmimFAP = np.mean(alpha2_hmimFAP['0'])\n",
    "alpha5_mean_hmimFAP = np.mean(alpha5_hmimFAP['0'])\n",
    "alpha7_mean_hmimFAP = np.mean(alpha7_hmimFAP['0'])\n",
    "alpha10_mean_hmimFAP = np.mean(alpha10_hmimFAP['0'])\n",
    "\n",
    "alpha1_bf4_mean = np.mean(alpha1_bf4['0'])\n",
    "alpha2_bf4_mean = np.mean(alpha2_bf4['0'])\n",
    "alpha5_bf4_mean = np.mean(alpha5_bf4['0'])\n",
    "alpha7_bf4_mean = np.mean(alpha7_bf4['0'])\n",
    "alpha10_bf4_mean = np.mean(alpha10_bf4['0'])"
   ]
  },
  {
   "cell_type": "code",
   "execution_count": 4,
   "id": "cd662497",
   "metadata": {},
   "outputs": [],
   "source": [
    "alpha1_std_PF6 = np.std(alpha1_PF6['0'])\n",
    "alpha2_std_PF6 = np.std(alpha2_PF6['0'])\n",
    "alpha5_std_PF6 = np.std(alpha5_PF6['0'])\n",
    "alpha7_std_PF6 = np.std(alpha7_PF6['0'])\n",
    "alpha10_std_PF6 = np.std(alpha10_PF6['0'])\n",
    "\n",
    "alpha1_bf4_std = np.std(alpha1_bf4['0'])\n",
    "alpha2_bf4_std = np.std(alpha2_bf4['0'])\n",
    "alpha5_bf4_std = np.std(alpha5_bf4['0'])\n",
    "alpha7_bf4_std = np.std(alpha7_bf4['0'])\n",
    "alpha10_bf4_std = np.std(alpha10_bf4['0'])\n",
    "\n",
    "alpha1_std_bmimAc = np.std(alpha1_bmimAc['0'])\n",
    "alpha2_std_bmimAc = np.std(alpha2_bmimAc['0'])\n",
    "alpha5_std_bmimAc = np.std(alpha5_bmimAc['0'])\n",
    "alpha7_std_bmimAc = np.std(alpha7_bmimAc['0'])\n",
    "alpha10_std_bmimAc = np.std(alpha10_bmimAc['0'])\n",
    "\n",
    "alpha1_std_emimTf2N = np.std(alpha1_emimTf2N['0'])\n",
    "alpha2_std_emimTf2N = np.std(alpha2_emimTf2N['0'])\n",
    "alpha5_std_emimTf2N = np.std(alpha5_emimTf2N['0'])\n",
    "alpha7_std_emimTf2N = np.std(alpha7_emimTf2N['0'])\n",
    "alpha10_std_emimTf2N = np.std(alpha10_emimTf2N['0'])\n",
    "\n",
    "alpha1_std_hmimFAP = np.std(alpha1_hmimFAP['0'])\n",
    "alpha2_std_hmimFAP = np.std(alpha2_hmimFAP['0'])\n",
    "alpha5_std_hmimFAP = np.std(alpha5_hmimFAP['0'])\n",
    "alpha7_std_hmimFAP = np.std(alpha7_hmimFAP['0'])\n",
    "alpha10_std_hmimFAP = np.std(alpha10_hmimFAP['0'])\n",
    "\n",
    "alpha1_std_hmimCl = np.std(alpha1_hmimCl['0'])\n",
    "alpha2_std_hmimCl = np.std(alpha2_hmimCl['0'])\n",
    "alpha5_std_hmimCl = np.std(alpha5_hmimCl['0'])\n",
    "alpha7_std_hmimCl = np.std(alpha7_hmimCl['0'])\n",
    "alpha10_std_hmimCl = np.std(alpha10_hmimCl['0'])"
   ]
  },
  {
   "cell_type": "code",
   "execution_count": 5,
   "id": "ea6a448f",
   "metadata": {},
   "outputs": [],
   "source": [
    "labels = ['1%', '2%', '5%', '9%', '10%']\n",
    "lab = [1, 2, 5, 9, 10]\n",
    "x_pos = np.arange(len(labels))\n",
    "\n",
    "CTEs_PF6 = [alpha1_mean_PF6, alpha2_mean_PF6, alpha5_mean_PF6, alpha7_mean_PF6, alpha10_mean_PF6]\n",
    "error_PF6 = [alpha1_std_PF6, alpha2_std_PF6, alpha5_std_PF6, alpha7_std_PF6, alpha10_std_PF6]\n",
    "\n",
    "CTEs_bmimAc = [alpha1_mean_bmimAc, alpha2_mean_bmimAc, alpha5_mean_bmimAc, alpha7_mean_bmimAc, alpha10_mean_bmimAc]\n",
    "error_bmimAc = [alpha1_std_bmimAc, alpha2_std_bmimAc, alpha5_std_bmimAc, alpha7_std_bmimAc, alpha10_std_bmimAc]\n",
    "\n",
    "CTEs_emimTf2N = [alpha1_mean_emimTf2N, alpha2_mean_emimTf2N, alpha5_mean_emimTf2N, alpha7_mean_emimTf2N, alpha10_mean_emimTf2N]\n",
    "error_emimTf2N = [alpha1_std_emimTf2N, alpha2_std_emimTf2N, alpha5_std_emimTf2N, alpha7_std_emimTf2N, alpha10_std_emimTf2N]\n",
    "\n",
    "CTEs_hmimCl = [alpha1_mean_hmimCl, alpha2_mean_hmimCl, alpha5_mean_hmimCl, alpha7_mean_hmimCl, alpha10_mean_hmimCl]\n",
    "error_hmimCl = [alpha1_std_hmimCl, alpha2_std_hmimCl, alpha5_std_hmimCl, alpha7_std_hmimCl, alpha10_std_hmimCl]\n",
    "\n",
    "CTEs_hmimFAP = [alpha1_mean_hmimFAP, alpha2_mean_hmimFAP, alpha5_mean_hmimFAP, alpha7_mean_hmimFAP, alpha10_mean_hmimFAP]\n",
    "error_hmimFAP = [alpha1_std_hmimFAP, alpha2_std_hmimFAP, alpha5_std_hmimFAP, alpha7_std_hmimFAP, alpha10_std_hmimFAP]\n",
    "\n",
    "CTEsBF4 = [alpha1_bf4_mean, alpha2_bf4_mean, alpha5_bf4_mean, alpha7_bf4_mean, alpha10_bf4_mean]\n",
    "errorBF4 = [alpha1_bf4_std, alpha2_bf4_std, alpha5_bf4_std, alpha7_bf4_std, alpha10_bf4_std]"
   ]
  },
  {
   "cell_type": "code",
   "execution_count": 6,
   "id": "da0ef988",
   "metadata": {
    "scrolled": true
   },
   "outputs": [
    {
     "data": {
      "image/png": "[encoded data removed]",
      "text/plain": [
       "<Figure size 432x288 with 1 Axes>"
      ]
     },
     "metadata": {
      "needs_background": "light"
     },
     "output_type": "display_data"
    }
   ],
   "source": [
    "fig, ax = plt.subplots()\n",
    "\n",
    "ax.errorbar(lab,CTEs_PF6,yerr=error_PF6, color=\"b\",fmt='-o', capsize=5, label='[bmim][PF$_6$]')\n",
    "ax.errorbar(lab,CTEsBF4,yerr=errorBF4, fmt='-o',color=\"g\", capsize=5, label='[bmim][BF$_4$]')\n",
    "ax.errorbar(lab,CTEs_bmimAc,yerr=error_bmimAc, fmt='-o', color=\"r\",capsize=5, label='[bmim][Ac]')\n",
    "ax.errorbar(lab,CTEs_emimTf2N,yerr=error_emimTf2N, fmt='-o', color=\"c\",capsize=5, label='[emim][Tf$_2$N]')\n",
    "ax.errorbar(lab,CTEs_hmimCl,yerr=error_hmimCl, fmt='-o', color=\"k\",capsize=5, label='[hmim][Cl]')\n",
    "ax.errorbar(lab,CTEs_hmimFAP,yerr=error_hmimFAP, fmt='-o', color=\"y\",capsize=5, label='[hmim][FAP]')\n",
    "\n",
    "# plt.ylim(2,4.4)\n",
    "# plt.xlim(0,11)\n",
    "# plt.title('Volatility',fontsize=20)\n",
    "plt.ylabel(r'$\\alpha_{125,32}$',fontsize=20)\n",
    "plt.xlabel('% Relative Error',fontsize=20)\n",
    "\n",
    "for label in (ax.get_xticklabels() + ax.get_yticklabels()):\n",
    "    label.set_fontsize(16)\n",
    "\n",
    "plt.grid(True)\n",
    "# plt.legend(fontsize=14,bbox_to_anchor=(1.05, 1.0), loc='upper left')\n",
    "# plt.savefig('volatility_error.png', bbox_inches='tight',dpi=300)\n",
    "plt.show()"
   ]
  },
  {
   "cell_type": "code",
   "execution_count": 7,
   "id": "70a29fbd",
   "metadata": {},
   "outputs": [
    {
     "data": {
      "image/png": "[encoded data removed]",
      "text/plain": [
       "<Figure size 432x288 with 1 Axes>"
      ]
     },
     "metadata": {
      "needs_background": "light"
     },
     "output_type": "display_data"
    }
   ],
   "source": [
    "fig, ax = plt.subplots()\n",
    "\n",
    "ax.errorbar(lab,error_PF6, color=\"b\",fmt='o', capsize=5, label='[bmim][PF$_6$]')\n",
    "ax.errorbar(lab,errorBF4, fmt='o',color=\"g\", capsize=5, label='[bmim][BF$_4$]')\n",
    "ax.errorbar(lab,error_bmimAc, fmt='o', color=\"r\",capsize=5, label='[bmim][Ac]')\n",
    "ax.errorbar(lab,error_emimTf2N, fmt='o', color=\"c\",capsize=5, label='[emim][Tf$_2$N]')\n",
    "ax.errorbar(lab,error_hmimCl, fmt='o', color=\"k\",capsize=5, label='[hmim][Cl]')\n",
    "ax.errorbar(lab,error_hmimFAP, fmt='o', color=\"y\",capsize=5, label='[hmim][FAP]')\n",
    "\n",
    "# plt.ylim(2,4.4)\n",
    "plt.xlim(0,11)\n",
    "plt.title('Standard deviation',fontsize=20)\n",
    "plt.ylabel(r'$\\alpha_{12}$',fontsize=20)\n",
    "plt.xlabel('% Error',fontsize=20)\n",
    "plt.grid(True)\n",
    "plt.legend()\n",
    "plt.show()"
   ]
  },
  {
   "cell_type": "code",
   "execution_count": 12,
   "id": "2b71210b",
   "metadata": {},
   "outputs": [
    {
     "name": "stdout",
     "output_type": "stream",
     "text": [
      "3.0372490462167194\n",
      "2.7567547114285715\n"
     ]
    }
   ],
   "source": [
    "print(alpha1_mean_PF6)\n",
    "print(alpha1_bf4_mean)"
   ]
  },
  {
   "cell_type": "code",
   "execution_count": 9,
   "id": "37bbe681",
   "metadata": {},
   "outputs": [
    {
     "name": "stdout",
     "output_type": "stream",
     "text": [
      "0.16395824351795\n"
     ]
    }
   ],
   "source": [
    "print(alpha01_std_PF6)"
   ]
  },
  {
   "cell_type": "code",
   "execution_count": 10,
   "id": "7b19dcd4",
   "metadata": {},
   "outputs": [
    {
     "name": "stdout",
     "output_type": "stream",
     "text": [
      "3.1031778172890343\n",
      "2.7752613302531346\n"
     ]
    }
   ],
   "source": [
    "print(alpha10_mean_PF6+alpha10_std_PF6)\n",
    "print(alpha10_mean_PF6-alpha10_std_PF6)"
   ]
  },
  {
   "cell_type": "code",
   "execution_count": null,
   "id": "991072d0",
   "metadata": {},
   "outputs": [],
   "source": []
  }
 ],
 "metadata": {
  "kernelspec": {
   "display_name": "Python 3 (ipykernel)",
   "language": "python",
   "name": "python3"
  },
  "language_info": {
   "codemirror_mode": {
    "name": "ipython",
    "version": 3
   },
   "file_extension": ".py",
   "mimetype": "text/x-python",
   "name": "python",
   "nbconvert_exporter": "python",
   "pygments_lexer": "ipython3",
   "version": "3.9.6"
  }
 },
 "nbformat": 4,
 "nbformat_minor": 5
}
