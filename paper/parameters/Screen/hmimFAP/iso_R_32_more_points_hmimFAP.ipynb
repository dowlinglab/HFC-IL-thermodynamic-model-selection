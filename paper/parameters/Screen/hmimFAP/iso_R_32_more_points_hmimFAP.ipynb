{
 "cells": [
  {
   "cell_type": "code",
   "execution_count": 1,
   "id": "significant-programming",
   "metadata": {},
   "outputs": [],
   "source": [
    "from pyomo.environ import (Constraint,\n",
    "                           Var,\n",
    "                           ConcreteModel,\n",
    "                           Expression,\n",
    "                           Param,\n",
    "                           Objective,\n",
    "                           SolverFactory,\n",
    "                           TransformationFactory,\n",
    "                           value)\n",
    "\n",
    "from pyomo.network import Arc, SequentialDecomposition\n",
    "\n",
    "from idaes.core.util.initialization import propagate_state\n",
    "\n",
    "# Import plotting functions\n",
    "import matplotlib.pyplot as plt\n",
    "\n",
    "# Import numpy library \n",
    "import numpy as np\n",
    "\n",
    "import pandas as pd\n",
    "\n",
    "# Import the main FlowsheetBlock from IDAES. The flowsheet block will contain the unit model\n",
    "from idaes.core import FlowsheetBlock\n",
    "\n",
    "import idaes.logger as idaeslog\n",
    "from pyomo.opt import TerminationCondition, SolverStatus\n",
    "\n",
    "# Import the degrees_of_freedom function from the idaes.core.util.model_statistics package\n",
    "# DOF = Number of Model Variables - Number of Model Constraints\n",
    "from idaes.core.util.model_statistics import degrees_of_freedom\n",
    "\n",
    "# Import the Generic Parameter Block\n",
    "from idaes.generic_models.properties.core.generic.generic_property import (\n",
    "        GenericParameterBlock)\n",
    "\n",
    "# Import unit models from the model library\n",
    "from idaes.generic_models.unit_models import Flash"
   ]
  },
  {
   "cell_type": "code",
   "execution_count": 2,
   "id": "incomplete-infection",
   "metadata": {},
   "outputs": [],
   "source": [
    "from HFC32_hmimFAP_PR import configuration\n",
    "data = pd.read_csv('R32_hmimFAP.csv')\n",
    "\n",
    "solver = SolverFactory('ipopt')\n",
    "solver.options = {'tol': 1e-6}"
   ]
  },
  {
   "cell_type": "code",
   "execution_count": 3,
   "id": "developed-riverside",
   "metadata": {},
   "outputs": [],
   "source": [
    "m = ConcreteModel()\n",
    "\n",
    "m.fs = FlowsheetBlock(default={\"dynamic\": False})\n",
    "\n",
    "m.fs.properties = GenericParameterBlock(default=configuration)\n",
    "\n",
    "m.fs.F101 = Flash(default={\"property_package\": m.fs.properties,\n",
    "                           \"has_heat_transfer\": True,\n",
    "                           \"has_pressure_change\": True})\n",
    "\n",
    "m.fs.F101.inlet.flow_mol.fix(1)\n",
    "m.fs.F101.inlet.temperature.fix(323.15)\n",
    "m.fs.F101.inlet.pressure.fix(399800)\n",
    "m.fs.F101.inlet.mole_frac_comp[0,'R32'].fix(0.5)\n",
    "\n",
    "m.fs.properties.PR_kappa_A['hmimFAP', 'R32'].fix(-0.1983)\n",
    "m.fs.properties.PR_kappa_A['R32', 'hmimFAP'].fix(-0.0779)\n",
    "m.fs.properties.PR_kappa_B['hmimFAP', 'R32'].fix(0.0)\n",
    "m.fs.properties.PR_kappa_B['R32', 'hmimFAP'].fix(0.0)\n",
    "\n",
    "# Initialize the flash unit\n",
    "m.fs.F101.initialize(outlvl=idaeslog.CRITICAL)\n",
    "\n",
    "# Fix the state variables on the state block\n",
    "# m.fs.F101.inlet.pressure.unfix()\n",
    "m.fs.F101.inlet.mole_frac_comp[0,'hmimFAP'].unfix()\n",
    "\n",
    "R32_x = np.zeros((len(data)))\n",
    "P = np.zeros((len(data)))\n",
    "\n"
   ]
  },
  {
   "cell_type": "code",
   "execution_count": 4,
   "id": "58675feb",
   "metadata": {
    "scrolled": false
   },
   "outputs": [
    {
     "name": "stdout",
     "output_type": "stream",
     "text": [
      "0\n",
      "992313.546624\n",
      "1\n",
      "888880.2548356922\n",
      "2\n",
      "791088.160971512\n",
      "3\n",
      "698937.2650314593\n",
      "4\n",
      "612427.5670155338\n",
      "5\n",
      "531559.066923736\n",
      "6\n",
      "456331.76475606556\n",
      "7\n",
      "386745.6605125224\n",
      "8\n",
      "322800.7541931068\n",
      "9\n",
      "264497.04579781875\n",
      "10\n",
      "211834.53532665814\n",
      "11\n",
      "164813.22277962486\n",
      "12\n",
      "123433.10815671916\n",
      "13\n",
      "87694.19145794079\n"
     ]
    }
   ],
   "source": [
    "bmim = np.linspace(data[\"x_hmimFAP\"].iloc[6], data[\"x_hmimFAP\"].iloc[0], 15)\n",
    "\n",
    "P = np.zeros((len(bmim)))\n",
    "P0 = np.zeros((len(bmim)))\n",
    "R32_x1 = np.zeros((len(bmim)))\n",
    "m.fs.liq = Param(mutable=True,default=0.040)\n",
    "m.fs.liquid = Constraint(expr=m.fs.F101.liq_outlet.mole_frac_comp[0, \"hmimFAP\"] == m.fs.liq)\n",
    "\n",
    "for i in range(len(bmim)-1):\n",
    "    print(i)\n",
    "    m.fs.liq = bmim[i]\n",
    "    a = bmim[i]\n",
    "    b = 1-(bmim[i])\n",
    "\n",
    "    P0[i] = 1296495.61*b**2 + 411077.67*b + 24234.30\n",
    "    print(P0[i])\n",
    "\n",
    "    m.fs.F101.inlet.temperature.fix(298.001)\n",
    "    m.fs.F101.inlet.pressure.fix(P0[i])\n",
    "    m.fs.F101.inlet.mole_frac_comp[0,'R32'].fix(1-(bmim[i]-0.1))\n",
    "    m.fs.F101.inlet.mole_frac_comp[0,'hmimFAP'].fix(bmim[i]-0.1)\n",
    "    m.fs.F101.vap_outlet.temperature.fix(298.001)\n",
    "    m.fs.F101.vap_outlet.pressure.fix(P0[i])\n",
    "    m.fs.F101.vap_outlet.pressure.unfix()\n",
    "    \n",
    "    m.fs.F101.initialize(outlvl=idaeslog.CRITICAL)\n",
    "    \n",
    "    try:\n",
    "        m.fs.F101.initialize(outlvl=idaeslog.CRITICAL)\n",
    "\n",
    "        status = solver.solve(m, tee = False)\n",
    "\n",
    "        if (status.solver.status == SolverStatus.ok) and (status.solver.termination_condition == TerminationCondition.optimal):\n",
    "\n",
    "            R32_x1[i] = value(m.fs.F101.liq_outlet.mole_frac_comp[0,'R32']) \n",
    "            P[i] = value(m.fs.F101.vap_outlet.pressure[0])\n",
    "\n",
    "        else:\n",
    "            print('Infeasible.')\n",
    "            \n",
    "    except ValueError:\n",
    "        \n",
    "            R32_x1[i] = \"NaN\"\n",
    "            P[i] = \"NaN\"\n"
   ]
  },
  {
   "cell_type": "code",
   "execution_count": 5,
   "id": "demographic-brush",
   "metadata": {
    "scrolled": true
   },
   "outputs": [
    {
     "data": {
      "image/png": "[encoded data removed]",
      "text/plain": [
       "<Figure size 432x288 with 1 Axes>"
      ]
     },
     "metadata": {
      "needs_background": "light"
     },
     "output_type": "display_data"
    }
   ],
   "source": [
    "P1= np.zeros((len(P)))\n",
    "\n",
    "for i in range(len(P)):\n",
    "    P1[i] = P[i]/1e6\n",
    "\n",
    "plt.plot(R32_x1,P1,\"b\",label=\"Calc 298 K\")  \n",
    "plt.plot(data[\"x_R32\"][0:7],data[\"pressure\"][0:7]/1e6,\"*\",color='b',label=\"Data 298 K\")  \n",
    "plt.title('Isotherm R32-[hmim][FAP]',fontsize=20)\n",
    "plt.ylabel('Pressure [MPa]',fontsize=20)\n",
    "plt.xlabel('x R32 [mole/mole]',fontsize=20)\n",
    "plt.xticks(fontsize=16)\n",
    "plt.yticks(fontsize=16)\n",
    "plt.grid(True)\n",
    "plt.ylim(0,1.110000)\n",
    "plt.xlim(0,0.9)\n",
    "plt.legend(fontsize=10)\n",
    "# plt.savefig('Isotherm R32-[bmim][PF6]_bin.png', bbox_inches='tight',dpi=300)\n",
    "plt.show()"
   ]
  },
  {
   "cell_type": "code",
   "execution_count": 7,
   "id": "db900c09",
   "metadata": {},
   "outputs": [],
   "source": [
    "df = pd.DataFrame({\"P1\":P1,\"x1\":R32_x1})\n",
    "df.to_csv('P_M1_32_hmimFAP.csv')   "
   ]
  },
  {
   "cell_type": "code",
   "execution_count": null,
   "id": "d56b0ac2",
   "metadata": {},
   "outputs": [],
   "source": []
  }
 ],
 "metadata": {
  "kernelspec": {
   "display_name": "Python 3 (ipykernel)",
   "language": "python",
   "name": "python3"
  },
  "language_info": {
   "codemirror_mode": {
    "name": "ipython",
    "version": 3
   },
   "file_extension": ".py",
   "mimetype": "text/x-python",
   "name": "python",
   "nbconvert_exporter": "python",
   "pygments_lexer": "ipython3",
   "version": "3.9.7"
  }
 },
 "nbformat": 4,
 "nbformat_minor": 5
}
