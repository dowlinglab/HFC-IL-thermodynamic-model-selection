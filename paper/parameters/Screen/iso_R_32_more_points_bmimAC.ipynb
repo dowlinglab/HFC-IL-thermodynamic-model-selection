{
 "cells": [
  {
   "cell_type": "code",
   "execution_count": 1,
   "id": "significant-programming",
   "metadata": {},
   "outputs": [],
   "source": [
    "from pyomo.environ import (Constraint,\n",
    "                           Var,\n",
    "                           ConcreteModel,\n",
    "                           Expression,\n",
    "                           Param,\n",
    "                           Objective,\n",
    "                           SolverFactory,\n",
    "                           TransformationFactory,\n",
    "                           value)\n",
    "\n",
    "from pyomo.network import Arc, SequentialDecomposition\n",
    "\n",
    "from idaes.core.util.initialization import propagate_state\n",
    "\n",
    "# Import plotting functions\n",
    "import matplotlib.pyplot as plt\n",
    "\n",
    "# Import numpy library \n",
    "import numpy as np\n",
    "\n",
    "import pandas as pd\n",
    "\n",
    "# Import the main FlowsheetBlock from IDAES. The flowsheet block will contain the unit model\n",
    "from idaes.core import FlowsheetBlock\n",
    "\n",
    "import idaes.logger as idaeslog\n",
    "from pyomo.opt import TerminationCondition, SolverStatus\n",
    "\n",
    "# Import the degrees_of_freedom function from the idaes.core.util.model_statistics package\n",
    "# DOF = Number of Model Variables - Number of Model Constraints\n",
    "from idaes.core.util.model_statistics import degrees_of_freedom\n",
    "\n",
    "# Import the Generic Parameter Block\n",
    "from idaes.generic_models.properties.core.generic.generic_property import (\n",
    "        GenericParameterBlock)\n",
    "\n",
    "# Import unit models from the model library\n",
    "from idaes.generic_models.unit_models import Flash"
   ]
  },
  {
   "cell_type": "code",
   "execution_count": 2,
   "id": "incomplete-infection",
   "metadata": {},
   "outputs": [],
   "source": [
    "from HFC32_bmimAc_PR import configuration\n",
    "data = pd.read_csv('R32_bmimAc.csv')\n",
    "\n",
    "solver = SolverFactory('ipopt')\n",
    "solver.options = {'tol': 1e-6}"
   ]
  },
  {
   "cell_type": "code",
   "execution_count": 3,
   "id": "developed-riverside",
   "metadata": {},
   "outputs": [],
   "source": [
    "m = ConcreteModel()\n",
    "\n",
    "m.fs = FlowsheetBlock(default={\"dynamic\": False})\n",
    "\n",
    "m.fs.properties = GenericParameterBlock(default=configuration)\n",
    "\n",
    "m.fs.F101 = Flash(default={\"property_package\": m.fs.properties,\n",
    "                           \"has_heat_transfer\": True,\n",
    "                           \"has_pressure_change\": True})\n",
    "\n",
    "m.fs.F101.inlet.flow_mol.fix(1)\n",
    "m.fs.F101.inlet.temperature.fix(323.15)\n",
    "m.fs.F101.inlet.pressure.fix(399800)\n",
    "m.fs.F101.inlet.mole_frac_comp[0,'R32'].fix(0.5)\n",
    "\n",
    "m.fs.properties.PR_kappa_A['bmimAc', 'R32'].fix(-0.56277)\n",
    "m.fs.properties.PR_kappa_A['R32', 'bmimAc'].fix(-0.03025)\n",
    "m.fs.properties.PR_kappa_B['bmimAc', 'R32'].fix(0.0)\n",
    "m.fs.properties.PR_kappa_B['R32', 'bmimAc'].fix(0.0)\n",
    "\n",
    "# Initialize the flash unit\n",
    "m.fs.F101.initialize(outlvl=idaeslog.CRITICAL)\n",
    "\n",
    "# Fix the state variables on the state block\n",
    "# m.fs.F101.inlet.pressure.unfix()\n",
    "m.fs.F101.inlet.mole_frac_comp[0,'bmimAc'].unfix()\n",
    "\n",
    "R32_x = np.zeros((len(data)))\n",
    "P = np.zeros((len(data)))\n",
    "\n"
   ]
  },
  {
   "cell_type": "code",
   "execution_count": 4,
   "id": "58675feb",
   "metadata": {
    "scrolled": false
   },
   "outputs": [
    {
     "name": "stdout",
     "output_type": "stream",
     "text": [
      "0\n",
      "1001246.428028\n",
      "1\n",
      "907948.245421182\n",
      "2\n",
      "818505.8482398138\n",
      "3\n",
      "732919.2364838955\n",
      "4\n",
      "651188.4101534268\n",
      "5\n",
      "573313.3692484082\n",
      "6\n",
      "499294.1137688393\n",
      "7\n",
      "429130.64371472003\n",
      "8\n",
      "362822.9590860507\n",
      "9\n",
      "300371.05988283106\n",
      "10\n",
      "241774.94610506122\n",
      "11\n",
      "187034.61775274118\n",
      "12\n",
      "136150.07482587112\n",
      "13\n",
      "89121.31732445056\n"
     ]
    }
   ],
   "source": [
    "bmim = np.linspace(data[\"x_bmimAc\"].iloc[6], data[\"x_bmimAc\"].iloc[0], 15)\n",
    "\n",
    "P = np.zeros((len(bmim)))\n",
    "P0 = np.zeros((len(bmim)))\n",
    "R32_x1 = np.zeros((len(bmim)))\n",
    "m.fs.liq = Param(mutable=True,default=0.040)\n",
    "m.fs.liquid = Constraint(expr=m.fs.F101.liq_outlet.mole_frac_comp[0, \"bmimAc\"] == m.fs.liq)\n",
    "\n",
    "for i in range(len(bmim)-1):\n",
    "    print(i)\n",
    "    m.fs.liq = bmim[i]\n",
    "    a = bmim[i]\n",
    "    b = 1-(bmim[i])\n",
    "\n",
    "    P0[i] = 1817227.28*b**2 + 1070035.75*b - 17132.62 \n",
    "    print(P0[i])\n",
    "\n",
    "    m.fs.F101.inlet.temperature.fix(298.001)\n",
    "    m.fs.F101.inlet.pressure.fix(P0[i])\n",
    "    m.fs.F101.inlet.mole_frac_comp[0,'R32'].fix(1-(bmim[i]-0.05))\n",
    "    m.fs.F101.inlet.mole_frac_comp[0,'bmimAc'].fix(bmim[i]-0.05)\n",
    "    m.fs.F101.vap_outlet.temperature.fix(298.001)\n",
    "    m.fs.F101.vap_outlet.pressure.fix(P0[i])\n",
    "    m.fs.F101.vap_outlet.pressure.unfix()\n",
    "    \n",
    "    m.fs.F101.initialize(outlvl=idaeslog.CRITICAL)\n",
    "    \n",
    "    try:\n",
    "        m.fs.F101.initialize(outlvl=idaeslog.CRITICAL)\n",
    "\n",
    "        status = solver.solve(m, tee = False)\n",
    "\n",
    "        if (status.solver.status == SolverStatus.ok) and (status.solver.termination_condition == TerminationCondition.optimal):\n",
    "\n",
    "            R32_x1[i] = value(m.fs.F101.liq_outlet.mole_frac_comp[0,'R32']) \n",
    "            P[i] = value(m.fs.F101.vap_outlet.pressure[0])\n",
    "\n",
    "        else:\n",
    "            print('Infeasible.')\n",
    "            \n",
    "    except ValueError:\n",
    "        \n",
    "            R32_x1[i] = \"NaN\"\n",
    "            P[i] = \"NaN\"\n"
   ]
  },
  {
   "cell_type": "code",
   "execution_count": 5,
   "id": "cosmetic-yellow",
   "metadata": {},
   "outputs": [
    {
     "name": "stdout",
     "output_type": "stream",
     "text": [
      "[1008819.85021763  900969.63563664  803298.65933022  714310.11781595\n",
      "  632774.53068921  557675.00128693  488164.87473668  423534.84145761\n",
      "  363187.10450035  306615.02011357  253386.85515086  203132.86072177\n",
      "  155534.8341267   110317.67023947       0.        ]\n"
     ]
    }
   ],
   "source": [
    "print(P)\n",
    "# print(data[\"pressure\"])\n",
    "# print(R125_x)\n",
    "# print(data[\"x_R125\"])"
   ]
  },
  {
   "cell_type": "code",
   "execution_count": 6,
   "id": "6c41c5bf",
   "metadata": {},
   "outputs": [
    {
     "name": "stdout",
     "output_type": "stream",
     "text": [
      "\n",
      "====================================================================================\n",
      "Unit : fs.F101                                                             Time: 0.0\n",
      "------------------------------------------------------------------------------------\n",
      "    Unit Performance\n",
      "\n",
      "    Variables: \n",
      "\n",
      "    Key             : Value   : Fixed : Bounds\n",
      "          Heat Duty : -450.49 : False : (None, None)\n",
      "    Pressure Change :  21196. : False : (None, None)\n",
      "\n",
      "------------------------------------------------------------------------------------\n",
      "    Stream Table\n",
      "                            Inlet  Vapor Outlet  Liquid Outlet\n",
      "    flow_mol               1.0000     0.054739       0.94526  \n",
      "    mole_frac_comp bmimAc 0.86343   1.0000e-08       0.91343  \n",
      "    mole_frac_comp R32    0.13657       1.0000      0.086571  \n",
      "    temperature            298.00       298.00        298.00  \n",
      "    pressure               89121.   1.1032e+05    1.1032e+05  \n",
      "====================================================================================\n"
     ]
    }
   ],
   "source": [
    "m.fs.F101.report()"
   ]
  },
  {
   "cell_type": "code",
   "execution_count": 9,
   "id": "demographic-brush",
   "metadata": {
    "scrolled": true
   },
   "outputs": [
    {
     "data": {
      "image/png": "[encoded data removed]",
      "text/plain": [
       "<Figure size 432x288 with 1 Axes>"
      ]
     },
     "metadata": {
      "needs_background": "light"
     },
     "output_type": "display_data"
    }
   ],
   "source": [
    "# for i in range(len(P)):\n",
    "#     P[i] = P[i]*1e6\n",
    "P1= np.zeros((len(P)))\n",
    "\n",
    "for i in range(len(P)):\n",
    "    P1[i] = P[i]/1e6\n",
    "\n",
    "plt.plot(R32_x1,P1,\"b\",label=\"Calc 298 K\")  \n",
    "plt.plot(data[\"x_R32\"][0:7],data[\"pressure\"][0:7]/1e6,\"*\",color='b',label=\"Data 298 K\")  \n",
    "plt.title('Isotherm R32-[bmim][Ac]',fontsize=20)\n",
    "plt.ylabel('Pressure [MPa]',fontsize=20)\n",
    "plt.xlabel('x R32 [mole/mole]',fontsize=20)\n",
    "plt.xticks(fontsize=16)\n",
    "plt.yticks(fontsize=16)\n",
    "plt.grid(True)\n",
    "# plt.ylim(0,1.110000)\n",
    "plt.xlim(0,0.9)\n",
    "plt.legend(fontsize=10)\n",
    "# plt.savefig('Isotherm R32-[bmim][PF6]_bin.png', bbox_inches='tight',dpi=300)\n",
    "plt.show()"
   ]
  },
  {
   "cell_type": "code",
   "execution_count": 8,
   "id": "db900c09",
   "metadata": {},
   "outputs": [],
   "source": [
    "df = pd.DataFrame(P)\n",
    "# df.to_csv('P_cons_32.csv')\n",
    "# df.to_csv('P_lin_32.csv')\n",
    "# df.to_csv('P_ter_32.csv')\n",
    "# df.to_csv('P_x_32.csv')"
   ]
  },
  {
   "cell_type": "code",
   "execution_count": null,
   "id": "d56b0ac2",
   "metadata": {},
   "outputs": [],
   "source": []
  }
 ],
 "metadata": {
  "kernelspec": {
   "display_name": "Python 3 (ipykernel)",
   "language": "python",
   "name": "python3"
  },
  "language_info": {
   "codemirror_mode": {
    "name": "ipython",
    "version": 3
   },
   "file_extension": ".py",
   "mimetype": "text/x-python",
   "name": "python",
   "nbconvert_exporter": "python",
   "pygments_lexer": "ipython3",
   "version": "3.9.6"
  }
 },
 "nbformat": 4,
 "nbformat_minor": 5
}
