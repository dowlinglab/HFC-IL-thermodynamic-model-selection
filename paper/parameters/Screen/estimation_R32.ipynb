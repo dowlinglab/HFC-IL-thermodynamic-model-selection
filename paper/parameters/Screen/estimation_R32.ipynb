{
 "cells": [
  {
   "cell_type": "code",
   "execution_count": 1,
   "metadata": {},
   "outputs": [],
   "source": [
    "from binary_param import linear, constant\n",
    "import pandas as pd\n",
    "from R32_bmimPF6_PR import configuration"
   ]
  },
  {
   "cell_type": "code",
   "execution_count": 2,
   "metadata": {
    "scrolled": false
   },
   "outputs": [],
   "source": [
    "# binary_params_peng('R32IL298.csv', configuration, 'R32', 'bmimPF6', \"x_R32\", \"x_bmimPF6\", \n",
    "#     init_temp = 323.15, init_press = 399800, init_x_c1 = 0.5, init_x_c2 = 0.5,\n",
    "#     init_kappa_2_1 = -0.05, init_kappa_1_2 = -0.03, eps = 0.1, scaling_fac = 1e-9)"
   ]
  },
  {
   "cell_type": "code",
   "execution_count": 3,
   "metadata": {},
   "outputs": [
    {
     "name": "stdout",
     "output_type": "stream",
     "text": [
      "    temperature  pressure   x_R32  x_bmimPF6\n",
      "0         283.2      9800  0.0206     0.9794\n",
      "1         283.2     99600  0.1060     0.8940\n",
      "2         283.2    249700  0.2710     0.7290\n",
      "3         283.2    399600  0.4280     0.5720\n",
      "4         283.2    549700  0.5580     0.4420\n",
      "5         283.2    699600  0.6500     0.3500\n",
      "6         283.2    849500  0.8150     0.1850\n",
      "7         298.1      9700  0.0180     0.9820\n",
      "8         298.2     99500  0.0760     0.9240\n",
      "9         298.2    249700  0.1900     0.8100\n",
      "10        298.2    399800  0.2970     0.7030\n",
      "11        298.1    549700  0.3900     0.6100\n",
      "12        298.1    699500  0.4750     0.5250\n",
      "13        298.2    850100  0.5520     0.4480\n",
      "14        298.1    999900  0.6280     0.3720\n",
      "15        322.8      9900  0.0060     0.9940\n",
      "16        323.1     99500  0.0470     0.9530\n",
      "17        323.1    249600  0.1130     0.8870\n",
      "18        323.1    399500  0.1740     0.8260\n",
      "19        323.1    549700  0.2310     0.7690\n",
      "20        323.1    699600  0.2850     0.7150\n",
      "21        323.2    849600  0.3350     0.6650\n",
      "22        323.2    999600  0.3820     0.6180\n",
      "23        348.2      9900  0.0030     0.9970\n",
      "24        348.2     99700  0.0290     0.9710\n",
      "25        348.2    249500  0.0700     0.9300\n",
      "26        348.2    399400  0.1090     0.8910\n",
      "27        348.1    549800  0.1460     0.8540\n",
      "28        348.1    699700  0.1820     0.8180\n",
      "29        348.2    849600  0.2140     0.7860\n",
      "30        348.2    999900  0.2480     0.7520\n"
     ]
    }
   ],
   "source": [
    "data = pd.read_csv('R32IL.csv')"
   ]
  },
  {
   "cell_type": "code",
   "execution_count": 4,
   "metadata": {
    "scrolled": false
   },
   "outputs": [],
   "source": [
    "# linear(data, configuration, 'R32', 'bmimPF6', \"x_R32\", \"x_bmimPF6\",\n",
    "#     init_temp =  283.1, init_press =   399300 , init_x_c1 =    0.448, init_x_c2 = 0.552,\n",
    "#     init_kappa_2_1A = 1.2354, init_kappa_1_2A = 0.1695,\n",
    "#     init_kappa_2_1B = -1.387, init_kappa_1_2B = -0.2075, eps = 0.1, scaling_fac = 1e-9)"
   ]
  },
  {
   "cell_type": "code",
   "execution_count": 5,
   "metadata": {
    "scrolled": true
   },
   "outputs": [
    {
     "name": "stdout",
     "output_type": "stream",
     "text": [
      "2021-10-27 13:01:17 [INFO] idaes.init.fs.state_block: Property package initialization: optimal - Optimal Solution Found.\n",
      "2021-10-27 13:01:18 [INFO] idaes.init.fs.state_block: Property package initialization: optimal - Optimal Solution Found.\n",
      "2021-10-27 13:01:20 [INFO] idaes.init.fs.state_block: Property package initialization: optimal - Optimal Solution Found.\n",
      "2021-10-27 13:01:21 [INFO] idaes.init.fs.state_block: Property package initialization: optimal - Optimal Solution Found.\n",
      "2021-10-27 13:01:23 [INFO] idaes.init.fs.state_block: Property package initialization: infeasible - Converged to a locally infeasible point. Problem may be infeasible..\n",
      "2021-10-27 13:01:24 [INFO] idaes.init.fs.state_block: Property package initialization: infeasible - Converged to a locally infeasible point. Problem may be infeasible..\n",
      "2021-10-27 13:01:26 [INFO] idaes.init.fs.state_block: Property package initialization: infeasible - Converged to a locally infeasible point. Problem may be infeasible..\n",
      "2021-10-27 13:01:28 [INFO] idaes.init.fs.state_block: Property package initialization: optimal - Optimal Solution Found.\n",
      "2021-10-27 13:01:29 [INFO] idaes.init.fs.state_block: Property package initialization: optimal - Optimal Solution Found.\n",
      "2021-10-27 13:01:30 [INFO] idaes.init.fs.state_block: Property package initialization: optimal - Optimal Solution Found.\n",
      "2021-10-27 13:01:32 [INFO] idaes.init.fs.state_block: Property package initialization: optimal - Optimal Solution Found.\n",
      "2021-10-27 13:01:33 [INFO] idaes.init.fs.state_block: Property package initialization: optimal - Optimal Solution Found.\n",
      "2021-10-27 13:01:34 [INFO] idaes.init.fs.state_block: Property package initialization: optimal - Optimal Solution Found.\n",
      "2021-10-27 13:01:36 [INFO] idaes.init.fs.state_block: Property package initialization: infeasible - Converged to a locally infeasible point. Problem may be infeasible..\n",
      "2021-10-27 13:01:37 [INFO] idaes.init.fs.state_block: Property package initialization: infeasible - Converged to a locally infeasible point. Problem may be infeasible..\n",
      "2021-10-27 13:01:39 [INFO] idaes.init.fs.state_block: Property package initialization: optimal - Optimal Solution Found.\n",
      "2021-10-27 13:01:40 [INFO] idaes.init.fs.state_block: Property package initialization: optimal - Optimal Solution Found.\n",
      "2021-10-27 13:01:41 [INFO] idaes.init.fs.state_block: Property package initialization: optimal - Optimal Solution Found.\n",
      "2021-10-27 13:01:43 [INFO] idaes.init.fs.state_block: Property package initialization: optimal - Optimal Solution Found.\n",
      "2021-10-27 13:01:44 [INFO] idaes.init.fs.state_block: Property package initialization: optimal - Optimal Solution Found.\n",
      "2021-10-27 13:01:45 [INFO] idaes.init.fs.state_block: Property package initialization: optimal - Optimal Solution Found.\n",
      "2021-10-27 13:01:47 [INFO] idaes.init.fs.state_block: Property package initialization: optimal - Optimal Solution Found.\n",
      "2021-10-27 13:01:48 [INFO] idaes.init.fs.state_block: Property package initialization: optimal - Optimal Solution Found.\n",
      "2021-10-27 13:01:49 [INFO] idaes.init.fs.state_block: Property package initialization: optimal - Optimal Solution Found.\n",
      "2021-10-27 13:01:51 [INFO] idaes.init.fs.state_block: Property package initialization: optimal - Optimal Solution Found.\n",
      "2021-10-27 13:01:52 [INFO] idaes.init.fs.state_block: Property package initialization: optimal - Optimal Solution Found.\n",
      "2021-10-27 13:01:53 [INFO] idaes.init.fs.state_block: Property package initialization: optimal - Optimal Solution Found.\n",
      "2021-10-27 13:01:55 [INFO] idaes.init.fs.state_block: Property package initialization: optimal - Optimal Solution Found.\n",
      "2021-10-27 13:01:56 [INFO] idaes.init.fs.state_block: Property package initialization: optimal - Optimal Solution Found.\n",
      "2021-10-27 13:01:57 [INFO] idaes.init.fs.state_block: Property package initialization: optimal - Optimal Solution Found.\n",
      "2021-10-27 13:01:58 [INFO] idaes.init.fs.state_block: Property package initialization: optimal - Optimal Solution Found.\n",
      "Ipopt 3.12.13: bound_relax_factor=0\n",
      "honor_original_bounds=no\n",
      "\n",
      "\n",
      "******************************************************************************\n",
      "This program contains Ipopt, a library for large-scale nonlinear optimization.\n",
      " Ipopt is released as open source code under the Eclipse Public License (EPL).\n",
      "         For more information visit http://projects.coin-or.org/Ipopt\n",
      "\n",
      "This version of Ipopt was compiled from source code available at\n",
      "    https://github.com/IDAES/Ipopt as part of the Institute for the Design of\n",
      "    Advanced Energy Systems Process Systems Engineering Framework (IDAES PSE\n",
      "    Framework) Copyright (c) 2018-2019. See https://github.com/IDAES/idaes-pse.\n",
      "\n",
      "This version of Ipopt was compiled using HSL, a collection of Fortran codes\n",
      "    for large-scale scientific computation.  All technical papers, sales and\n",
      "    publicity material resulting from use of the HSL codes within IPOPT must\n",
      "    contain the following acknowledgement:\n",
      "        HSL, a collection of Fortran codes for large-scale scientific\n",
      "        computation. See http://www.hsl.rl.ac.uk.\n",
      "******************************************************************************\n",
      "\n",
      "This is Ipopt version 3.12.13, running with linear solver ma27.\n",
      "\n",
      "Number of nonzeros in equality constraint Jacobian...:     1050\n",
      "Number of nonzeros in inequality constraint Jacobian.:        0\n",
      "Number of nonzeros in Lagrangian Hessian.............:     1054\n",
      "\n",
      "Total number of variables............................:      434\n",
      "                     variables with only lower bounds:      186\n",
      "                variables with lower and upper bounds:      186\n",
      "                     variables with only upper bounds:        0\n",
      "Total number of equality constraints.................:      432\n",
      "Total number of inequality constraints...............:        0\n",
      "        inequality constraints with only lower bounds:        0\n",
      "   inequality constraints with lower and upper bounds:        0\n",
      "        inequality constraints with only upper bounds:        0\n",
      "\n",
      "iter    objective    inf_pr   inf_du lg(mu)  ||d||  lg(rg) alpha_du alpha_pr  ls\n",
      "   0  0.0000000e+00 2.29e+00 2.84e-14  -1.0 0.00e+00    -  0.00e+00 0.00e+00   0\n",
      "   1  5.1878760e+01 1.42e+00 9.29e+03  -1.0 1.35e+05    -  4.13e-03 3.96e-01h  1\n",
      "   2  4.4329011e+02 1.76e-01 8.92e+03  -1.0 5.12e+04    -  2.50e-02 9.90e-01h  1\n",
      "   3  5.8479543e+02 9.72e-03 3.61e+02  -1.0 1.61e+04    -  9.03e-01 9.90e-01h  1\n",
      "   4  5.8089291e+02 1.14e-04 7.59e+02  -1.0 4.38e+03    -  9.85e-01 9.90e-01h  1\n",
      "   5  4.1135816e+02 7.14e-03 1.46e+06  -1.0 9.29e+04    -  9.02e-01 9.90e-01f  1\n",
      "   6  3.8826055e+02 2.22e-03 7.36e+07  -1.0 5.85e+04    -  9.46e-01 9.90e-01f  1\n",
      "   7  3.8920081e+02 4.77e-05 1.42e+06  -1.0 4.50e+03    -  9.90e-01 9.90e-01h  1\n",
      "   8  3.8921727e+02 6.87e-08 5.05e+04  -3.8 2.37e+02    -  1.00e+00 1.00e+00h  1\n",
      "In iteration 8, 31 Slacks too small, adjusting variable bounds\n",
      "   9  3.8921727e+02 1.14e-10 3.75e+06  -5.7 3.45e-01    -  1.00e+00 1.00e+00h  1\n",
      "iter    objective    inf_pr   inf_du lg(mu)  ||d||  lg(rg) alpha_du alpha_pr  ls\n",
      "  10  3.8921727e+02 5.24e-11 6.10e-05  -5.7 1.76e-06    -  1.00e+00 1.00e+00h  1\n",
      "\n",
      "Number of Iterations....: 10\n",
      "\n",
      "                                   (scaled)                 (unscaled)\n",
      "Objective...............:   3.8921727247798168e+02    3.8921727247798168e+02\n",
      "Dual infeasibility......:   6.1035156250000000e-05    6.1035156250000000e-05\n",
      "Constraint violation....:   5.2423398955170342e-11    5.2423398955170342e-11\n",
      "Complementarity.........:   1.8449178662366772e-06    1.8449178662366772e-06\n",
      "Overall NLP error.......:   5.2423398955170342e-11    6.1035156250000000e-05\n",
      "\n",
      "\n",
      "Number of objective function evaluations             = 11\n",
      "Number of objective gradient evaluations             = 11\n",
      "Number of equality constraint evaluations            = 11\n",
      "Number of inequality constraint evaluations          = 0\n",
      "Number of equality constraint Jacobian evaluations   = 11\n",
      "Number of inequality constraint Jacobian evaluations = 0\n",
      "Number of Lagrangian Hessian evaluations             = 10\n",
      "Total CPU secs in IPOPT (w/o function evaluations)   =      0.051\n",
      "Total CPU secs in NLP function evaluations           =      0.418\n",
      "\n",
      "EXIT: Optimal Solution Found.\n",
      "Warning: estimated values of mu do not seem consistent - using mu=10^(-8.6)\n"
     ]
    },
    {
     "name": "stdout",
     "output_type": "stream",
     "text": [
      "The SSE at the optimal solution is 389.217272\n",
      "\n",
      "The values for the parameters are as follows:\n",
      "fs.properties.PR_kappa_A[bmimPF6,R32] = -0.27289789594352143\n",
      "fs.properties.PR_kappa_A[R32,bmimPF6] = -0.07340563885460212\n",
      "covariance_matrix                                        fs.properties.PR_kappa_A[bmimPF6,R32]  \\\n",
      "fs.properties.PR_kappa_A[bmimPF6,R32]                               0.006713   \n",
      "fs.properties.PR_kappa_A[R32,bmimPF6]                               0.000270   \n",
      "\n",
      "                                       fs.properties.PR_kappa_A[R32,bmimPF6]  \n",
      "fs.properties.PR_kappa_A[bmimPF6,R32]                                0.00027  \n",
      "fs.properties.PR_kappa_A[R32,bmimPF6]                                0.00003  \n"
     ]
    },
    {
     "name": "stderr",
     "output_type": "stream",
     "text": [
      "c:\\users\\agarc\\anaconda32\\envs\\kappa\\lib\\site-packages\\pyomo\\contrib\\interior_point\\interface.py:418: RuntimeWarning: divide by zero encountered in true_divide\n",
      "  data = (duals_primals_lb/(primals - self._nlp.primals_lb()) +\n"
     ]
    }
   ],
   "source": [
    "constant(data, configuration, 'R32', 'bmimPF6', \"x_R32\", \"x_bmimPF6\",\n",
    "    init_temp =  283.1, init_press = 399300 , init_x_c1 = 0.448, init_x_c2 = 0.552,\n",
    "    init_kappa_2_1A = 0.1, init_kappa_1_2A = 0.10,\n",
    "    eps = 0.1, scaling_fac = 1e4)"
   ]
  },
  {
   "cell_type": "code",
   "execution_count": null,
   "metadata": {},
   "outputs": [],
   "source": []
  }
 ],
 "metadata": {
  "kernelspec": {
   "display_name": "Python 3 (ipykernel)",
   "language": "python",
   "name": "python3"
  },
  "language_info": {
   "codemirror_mode": {
    "name": "ipython",
    "version": 3
   },
   "file_extension": ".py",
   "mimetype": "text/x-python",
   "name": "python",
   "nbconvert_exporter": "python",
   "pygments_lexer": "ipython3",
   "version": "3.9.6"
  }
 },
 "nbformat": 4,
 "nbformat_minor": 4
}
