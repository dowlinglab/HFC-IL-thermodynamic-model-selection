{
 "cells": [
  {
   "cell_type": "code",
   "execution_count": 1,
   "metadata": {},
   "outputs": [],
   "source": [
    "from binary_param import linear, constant\n",
    "import pandas as pd\n",
    "from HFC32_bmimAc_PR import configuration"
   ]
  },
  {
   "cell_type": "code",
   "execution_count": 2,
   "metadata": {},
   "outputs": [
    {
     "name": "stdout",
     "output_type": "stream",
     "text": [
      "   temperature  pressure  x_R32  x_bmimAc\n",
      "0       298.15     50000  0.054     0.946\n",
      "1       298.15    100000  0.097     0.903\n",
      "2       298.15    200000  0.161     0.839\n",
      "3       298.15    400000  0.268     0.732\n",
      "4       298.15    600000  0.357     0.643\n",
      "5       298.15    800000  0.438     0.562\n",
      "6       298.15   1000000  0.510     0.490\n"
     ]
    }
   ],
   "source": [
    "data = pd.read_csv('R32_bmimAc.csv')\n",
    "print(data)\n",
    "# data.drop([0])"
   ]
  },
  {
   "cell_type": "code",
   "execution_count": 3,
   "metadata": {
    "scrolled": true
   },
   "outputs": [
    {
     "name": "stdout",
     "output_type": "stream",
     "text": [
      "2022-01-19 13:30:41 [INFO] idaes.init.fs.state_block: Property package initialization: optimal - Optimal Solution Found.\n",
      "2022-01-19 13:30:42 [INFO] idaes.init.fs.state_block: Property package initialization: optimal - Optimal Solution Found.\n",
      "2022-01-19 13:30:43 [INFO] idaes.init.fs.state_block: Property package initialization: optimal - Optimal Solution Found.\n",
      "2022-01-19 13:30:43 [INFO] idaes.init.fs.state_block: Property package initialization: optimal - Optimal Solution Found.\n",
      "2022-01-19 13:30:44 [INFO] idaes.init.fs.state_block: Property package initialization: optimal - Optimal Solution Found.\n",
      "2022-01-19 13:30:45 [INFO] idaes.init.fs.state_block: Property package initialization: optimal - Optimal Solution Found.\n",
      "2022-01-19 13:30:46 [INFO] idaes.init.fs.state_block: Property package initialization: optimal - Optimal Solution Found.\n",
      "Ipopt 3.13.2: \n",
      "\n",
      "******************************************************************************\n",
      "This program contains Ipopt, a library for large-scale nonlinear optimization.\n",
      " Ipopt is released as open source code under the Eclipse Public License (EPL).\n",
      "         For more information visit http://projects.coin-or.org/Ipopt\n",
      "\n",
      "This version of Ipopt was compiled from source code available at\n",
      "    https://github.com/IDAES/Ipopt as part of the Institute for the Design of\n",
      "    Advanced Energy Systems Process Systems Engineering Framework (IDAES PSE\n",
      "    Framework) Copyright (c) 2018-2019. See https://github.com/IDAES/idaes-pse.\n",
      "\n",
      "This version of Ipopt was compiled using HSL, a collection of Fortran codes\n",
      "    for large-scale scientific computation.  All technical papers, sales and\n",
      "    publicity material resulting from use of the HSL codes within IPOPT must\n",
      "    contain the following acknowledgement:\n",
      "        HSL, a collection of Fortran codes for large-scale scientific\n",
      "        computation. See http://www.hsl.rl.ac.uk.\n",
      "******************************************************************************\n",
      "\n",
      "This is Ipopt version 3.13.2, running with linear solver ma27.\n",
      "\n",
      "Number of nonzeros in equality constraint Jacobian...:      234\n",
      "Number of nonzeros in inequality constraint Jacobian.:        0\n",
      "Number of nonzeros in Lagrangian Hessian.............:      238\n",
      "\n",
      "Total number of variables............................:       98\n",
      "                     variables with only lower bounds:       42\n",
      "                variables with lower and upper bounds:       42\n",
      "                     variables with only upper bounds:        0\n",
      "Total number of equality constraints.................:       96\n",
      "Total number of inequality constraints...............:        0\n",
      "        inequality constraints with only lower bounds:        0\n",
      "   inequality constraints with lower and upper bounds:        0\n",
      "        inequality constraints with only upper bounds:        0\n",
      "\n",
      "iter    objective    inf_pr   inf_du lg(mu)  ||d||  lg(rg) alpha_du alpha_pr  ls\n",
      "   0  0.0000000e+00 5.38e-01 1.42e-14  -1.0 0.00e+00    -  0.00e+00 0.00e+00   0\n",
      "   1  4.5673611e-01 7.58e-01 2.08e+03  -1.0 3.34e+04    -  7.26e-01 9.90e-01H  1\n",
      "   2  4.6190729e-01 7.27e-02 1.04e+03  -1.0 4.87e+02    -  8.77e-01 4.95e-01h  2\n",
      "   3  4.6910787e-01 3.91e-03 3.19e+01  -1.0 3.57e+02    -  9.89e-01 9.90e-01h  1\n",
      "   4  4.0218527e-01 1.13e-04 4.04e+03  -1.0 4.94e+03    -  9.80e-01 1.00e+00h  1\n",
      "   5  2.7614871e-01 1.17e-04 1.26e+05  -1.0 1.69e+04    -  9.87e-01 1.00e+00F  1\n",
      "   6  2.7956638e-01 1.73e-05 1.22e+03  -1.0 1.35e+03    -  9.90e-01 1.00e+00h  1\n",
      "   7  2.7366938e-01 8.50e-05 2.00e+04  -2.5 3.32e+03    -  9.98e-01 1.00e+00h  1\n",
      "   8  2.7374965e-01 6.60e-08 1.83e-04  -2.5 1.02e+02    -  1.00e+00 1.00e+00h  1\n",
      "   9  2.7374464e-01 8.23e-08 3.30e+01  -8.6 1.03e+02    -  1.00e+00 1.00e+00h  1\n",
      "iter    objective    inf_pr   inf_du lg(mu)  ||d||  lg(rg) alpha_du alpha_pr  ls\n",
      "  10  2.7374473e-01 1.53e-12 1.75e-10  -8.6 9.93e-02    -  1.00e+00 1.00e+00h  1\n",
      "\n",
      "Number of Iterations....: 10\n",
      "\n",
      "                                   (scaled)                 (unscaled)\n",
      "Objective...............:   2.7374473447334741e-01    2.7374473447334741e-01\n",
      "Dual infeasibility......:   1.7513102079647069e-10    1.7513102079647069e-10\n",
      "Constraint violation....:   1.5332179970073412e-12    1.5332179970073412e-12\n",
      "Complementarity.........:   2.5123113680396474e-09    2.5123113680396474e-09\n",
      "Overall NLP error.......:   2.5123113680396474e-09    2.5123113680396474e-09\n",
      "\n",
      "\n",
      "Number of objective function evaluations             = 16\n",
      "Number of objective gradient evaluations             = 11\n",
      "Number of equality constraint evaluations            = 16\n",
      "Number of inequality constraint evaluations          = 0\n",
      "Number of equality constraint Jacobian evaluations   = 11\n",
      "Number of inequality constraint Jacobian evaluations = 0\n",
      "Number of Lagrangian Hessian evaluations             = 10\n",
      "Total CPU secs in IPOPT (w/o function evaluations)   =      0.007\n",
      "Total CPU secs in NLP function evaluations           =      0.061\n",
      "\n",
      "EXIT: Optimal Solution Found.\n",
      "The SSE at the optimal solution is 0.273745\n",
      "\n",
      "The values for the parameters are as follows:\n",
      "fs.properties.PR_kappa_A[bmimAc,R32] = -0.5627774622684243\n",
      "fs.properties.PR_kappa_A[R32,bmimAc] = -0.030254941716077045\n"
     ]
    }
   ],
   "source": [
    "constant(data, configuration, 'R32', 'bmimAc', \"x_R32\", \"x_bmimAc\",\n",
    "    init_temp =  283.1, init_press = 399300 , init_x_c1 = 0.448, init_x_c2 = 0.552,\n",
    "    init_kappa_2_1A = 0.001, init_kappa_1_2A = 0.001,\n",
    "    eps = 0.1, scaling_fac = 1e-9)"
   ]
  },
  {
   "cell_type": "code",
   "execution_count": 4,
   "metadata": {},
   "outputs": [],
   "source": [
    "from HFC125_bmimAc_PR import configuration as configuration2"
   ]
  },
  {
   "cell_type": "code",
   "execution_count": 5,
   "metadata": {},
   "outputs": [],
   "source": [
    "data2 = pd.read_csv('R125_bmimAc.csv')"
   ]
  },
  {
   "cell_type": "code",
   "execution_count": 6,
   "metadata": {},
   "outputs": [
    {
     "name": "stdout",
     "output_type": "stream",
     "text": [
      "2022-01-19 13:30:49 [INFO] idaes.init.fs.state_block: Property package initialization: optimal - Optimal Solution Found.\n",
      "2022-01-19 13:30:49 [INFO] idaes.init.fs.state_block: Property package initialization: optimal - Optimal Solution Found.\n",
      "2022-01-19 13:30:50 [INFO] idaes.init.fs.state_block: Property package initialization: optimal - Optimal Solution Found.\n",
      "2022-01-19 13:30:51 [INFO] idaes.init.fs.state_block: Property package initialization: optimal - Optimal Solution Found.\n",
      "2022-01-19 13:30:52 [INFO] idaes.init.fs.state_block: Property package initialization: optimal - Optimal Solution Found.\n",
      "2022-01-19 13:30:53 [INFO] idaes.init.fs.state_block: Property package initialization: infeasible - Converged to a locally infeasible point. Problem may be infeasible..\n",
      "2022-01-19 13:30:54 [INFO] idaes.init.fs.state_block: Property package initialization: optimal - Optimal Solution Found.\n",
      "Ipopt 3.13.2: \n",
      "\n",
      "******************************************************************************\n",
      "This program contains Ipopt, a library for large-scale nonlinear optimization.\n",
      " Ipopt is released as open source code under the Eclipse Public License (EPL).\n",
      "         For more information visit http://projects.coin-or.org/Ipopt\n",
      "\n",
      "This version of Ipopt was compiled from source code available at\n",
      "    https://github.com/IDAES/Ipopt as part of the Institute for the Design of\n",
      "    Advanced Energy Systems Process Systems Engineering Framework (IDAES PSE\n",
      "    Framework) Copyright (c) 2018-2019. See https://github.com/IDAES/idaes-pse.\n",
      "\n",
      "This version of Ipopt was compiled using HSL, a collection of Fortran codes\n",
      "    for large-scale scientific computation.  All technical papers, sales and\n",
      "    publicity material resulting from use of the HSL codes within IPOPT must\n",
      "    contain the following acknowledgement:\n",
      "        HSL, a collection of Fortran codes for large-scale scientific\n",
      "        computation. See http://www.hsl.rl.ac.uk.\n",
      "******************************************************************************\n",
      "\n",
      "This is Ipopt version 3.13.2, running with linear solver ma27.\n",
      "\n",
      "Number of nonzeros in equality constraint Jacobian...:      234\n",
      "Number of nonzeros in inequality constraint Jacobian.:        0\n",
      "Number of nonzeros in Lagrangian Hessian.............:      238\n",
      "\n",
      "Total number of variables............................:       98\n",
      "                     variables with only lower bounds:       42\n",
      "                variables with lower and upper bounds:       42\n",
      "                     variables with only upper bounds:        0\n",
      "Total number of equality constraints.................:       96\n",
      "Total number of inequality constraints...............:        0\n",
      "        inequality constraints with only lower bounds:        0\n",
      "   inequality constraints with lower and upper bounds:        0\n",
      "        inequality constraints with only upper bounds:        0\n",
      "\n",
      "iter    objective    inf_pr   inf_du lg(mu)  ||d||  lg(rg) alpha_du alpha_pr  ls\n",
      "   0  0.0000000e+00 8.52e-01 8.88e-16  -1.0 0.00e+00    -  0.00e+00 0.00e+00   0\n",
      "   1  1.3441079e+01 4.88e-01 6.28e+06  -1.0 1.78e+05    -  6.08e-01 9.90e-01h  1\n",
      "   2  1.3418811e+01 3.77e-01 4.80e+06  -1.0 7.92e+03  -4.0 5.62e-01 2.48e-01h  3\n",
      "   3  1.3221696e+01 8.74e-02 2.68e+06  -1.0 9.32e+03  -4.5 6.77e-01 4.95e-01h  2\n",
      "   4  1.3169571e+01 2.00e-03 7.08e+04  -1.0 2.85e+03  -5.0 9.85e-01 9.90e-01h  1\n",
      "   5  1.3167551e+01 1.20e-05 1.12e+03  -1.0 3.41e+01  -5.4 9.90e-01 9.94e-01h  1\n",
      "   6  4.4275219e-01 1.07e-01 8.03e+04  -1.0 1.58e+05    -  9.90e-01 1.00e+00f  1\n",
      "   7  1.0852447e-01 2.67e-03 5.39e+04  -1.0 4.31e+04    -  9.90e-01 1.00e+00h  1\n",
      "   8  1.0823034e-01 8.62e-05 1.68e-03  -1.0 2.18e+03    -  1.00e+00 1.00e+00h  1\n",
      "   9  1.0622696e-01 5.75e-05 9.29e+03  -5.7 2.25e+03    -  9.99e-01 1.00e+00h  1\n",
      "iter    objective    inf_pr   inf_du lg(mu)  ||d||  lg(rg) alpha_du alpha_pr  ls\n",
      "  10  1.0621089e-01 4.76e-10 1.56e-08  -5.7 1.25e+01    -  1.00e+00 1.00e+00h  1\n",
      "  11  1.0621089e-01 1.38e-12 2.67e-13  -8.6 4.16e-02    -  1.00e+00 1.00e+00h  1\n",
      "\n",
      "Number of Iterations....: 11\n",
      "\n",
      "                                   (scaled)                 (unscaled)\n",
      "Objective...............:   1.0621088952673496e-01    1.0621088952673496e-01\n",
      "Dual infeasibility......:   2.6730367339743892e-13    2.6730367339743892e-13\n",
      "Constraint violation....:   1.3797851750041445e-12    1.3797851750041445e-12\n",
      "Complementarity.........:   2.5062757352593810e-09    2.5062757352593810e-09\n",
      "Overall NLP error.......:   2.5062757352593810e-09    2.5062757352593810e-09\n",
      "\n",
      "\n",
      "Number of objective function evaluations             = 17\n",
      "Number of objective gradient evaluations             = 12\n",
      "Number of equality constraint evaluations            = 17\n",
      "Number of inequality constraint evaluations          = 0\n",
      "Number of equality constraint Jacobian evaluations   = 12\n",
      "Number of inequality constraint Jacobian evaluations = 0\n",
      "Number of Lagrangian Hessian evaluations             = 11\n",
      "Total CPU secs in IPOPT (w/o function evaluations)   =      0.019\n",
      "Total CPU secs in NLP function evaluations           =      0.094\n",
      "\n",
      "EXIT: Optimal Solution Found.\n",
      "The SSE at the optimal solution is 0.106211\n",
      "\n",
      "The values for the parameters are as follows:\n",
      "fs.properties.PR_kappa_A[bmimAc,R125] = -0.28499785427336066\n",
      "fs.properties.PR_kappa_A[R125,bmimAc] = -0.11273335326352875\n"
     ]
    }
   ],
   "source": [
    "constant(data2, configuration2, 'R125', 'bmimAc', \"x_R125\", \"x_bmimAc\",\n",
    "    init_temp =  283.1, init_press = 399300 , init_x_c1 = 0.448, init_x_c2 = 0.552,\n",
    "    init_kappa_2_1A = -0.5, init_kappa_1_2A = -0.03,\n",
    "    eps = 0.1, scaling_fac = 1e-9)"
   ]
  },
  {
   "cell_type": "code",
   "execution_count": null,
   "metadata": {},
   "outputs": [],
   "source": []
  }
 ],
 "metadata": {
  "kernelspec": {
   "display_name": "Python 3 (ipykernel)",
   "language": "python",
   "name": "python3"
  },
  "language_info": {
   "codemirror_mode": {
    "name": "ipython",
    "version": 3
   },
   "file_extension": ".py",
   "mimetype": "text/x-python",
   "name": "python",
   "nbconvert_exporter": "python",
   "pygments_lexer": "ipython3",
   "version": "3.9.7"
  }
 },
 "nbformat": 4,
 "nbformat_minor": 4
}
