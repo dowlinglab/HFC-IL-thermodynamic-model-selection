{
 "cells": [
  {
   "cell_type": "code",
   "execution_count": 1,
   "id": "significant-programming",
   "metadata": {},
   "outputs": [],
   "source": [
    "from pyomo.environ import (Constraint,\n",
    "                           Var,\n",
    "                           ConcreteModel,\n",
    "                           Expression,\n",
    "                           Param,\n",
    "                           Objective,\n",
    "                           SolverFactory,\n",
    "                           TransformationFactory,\n",
    "                           value)\n",
    "\n",
    "from pyomo.network import Arc, SequentialDecomposition\n",
    "\n",
    "from idaes.core.util.initialization import propagate_state\n",
    "\n",
    "# Import plotting functions\n",
    "import matplotlib.pyplot as plt\n",
    "\n",
    "# Import numpy library \n",
    "import numpy as np\n",
    "\n",
    "import pandas as pd\n",
    "\n",
    "# Import the main FlowsheetBlock from IDAES. The flowsheet block will contain the unit model\n",
    "from idaes.core import FlowsheetBlock\n",
    "\n",
    "import idaes.logger as idaeslog\n",
    "from pyomo.opt import TerminationCondition, SolverStatus\n",
    "\n",
    "# Import the degrees_of_freedom function from the idaes.core.util.model_statistics package\n",
    "# DOF = Number of Model Variables - Number of Model Constraints\n",
    "from idaes.core.util.model_statistics import degrees_of_freedom\n",
    "\n",
    "# Import the Generic Parameter Block\n",
    "from idaes.generic_models.properties.core.generic.generic_property import (\n",
    "        GenericParameterBlock)\n",
    "\n",
    "# Import unit models from the model library\n",
    "from idaes.generic_models.unit_models import Flash"
   ]
  },
  {
   "cell_type": "code",
   "execution_count": 2,
   "id": "incomplete-infection",
   "metadata": {},
   "outputs": [],
   "source": [
    "from HFC125_bmimAc_PR import configuration\n",
    "data = pd.read_csv('R125_bmimAc.csv')\n",
    "\n",
    "solver = SolverFactory('ipopt')\n",
    "solver.options = {'tol': 1e-6}"
   ]
  },
  {
   "cell_type": "code",
   "execution_count": 3,
   "id": "developed-riverside",
   "metadata": {},
   "outputs": [],
   "source": [
    "m = ConcreteModel()\n",
    "\n",
    "m.fs = FlowsheetBlock(default={\"dynamic\": False})\n",
    "\n",
    "m.fs.properties = GenericParameterBlock(default=configuration)\n",
    "\n",
    "m.fs.F101 = Flash(default={\"property_package\": m.fs.properties,\n",
    "                           \"has_heat_transfer\": True,\n",
    "                           \"has_pressure_change\": True})\n",
    "\n",
    "m.fs.F101.inlet.flow_mol.fix(1)\n",
    "m.fs.F101.inlet.temperature.fix(323.15)\n",
    "m.fs.F101.inlet.pressure.fix(399800)\n",
    "m.fs.F101.inlet.mole_frac_comp[0,'R125'].fix(0.5)\n",
    "\n",
    "m.fs.properties.PR_kappa_A['bmimAc', 'R125'].fix(-0.284997)\n",
    "m.fs.properties.PR_kappa_A['R125', 'bmimAc'].fix(-0.112733)\n",
    "m.fs.properties.PR_kappa_B['bmimAc', 'R125'].fix(0.0)\n",
    "m.fs.properties.PR_kappa_B['R125', 'bmimAc'].fix(0.0)\n",
    "\n",
    "# m.fs.properties.PR_kappa_A['bmimAc', 'R125'].fix(-0.00551)\n",
    "# m.fs.properties.PR_kappa_A['R125', 'bmimAc'].fix(-0.00470)\n",
    "# m.fs.properties.PR_kappa_B['bmimAc', 'R125'].fix(0.0)\n",
    "# m.fs.properties.PR_kappa_B['R125', 'bmimAc'].fix(0.0)\n",
    "\n",
    "# Initialize the flash unit\n",
    "m.fs.F101.initialize(outlvl=idaeslog.CRITICAL)\n",
    "\n",
    "# Fix the state variables on the state block\n",
    "# m.fs.F101.inlet.pressure.unfix()\n",
    "m.fs.F101.inlet.mole_frac_comp[0,'bmimAc'].unfix()\n"
   ]
  },
  {
   "cell_type": "code",
   "execution_count": 4,
   "id": "e9605389",
   "metadata": {},
   "outputs": [
    {
     "name": "stdout",
     "output_type": "stream",
     "text": [
      "0\n",
      "986448.4177001598\n",
      "1\n",
      "869128.9848413256\n",
      "2\n",
      "759778.928673783\n",
      "3\n",
      "658398.2491975314\n",
      "4\n",
      "564986.9464125715\n",
      "5\n",
      "479545.0203189029\n",
      "6\n",
      "402072.47091652587\n",
      "7\n",
      "332569.29820544017\n",
      "8\n",
      "271035.50218564586\n",
      "9\n",
      "217471.08285714296\n",
      "10\n",
      "171876.0402199315\n",
      "11\n",
      "134250.37427401147\n",
      "12\n",
      "104594.08501938288\n",
      "13\n",
      "82907.17245604574\n"
     ]
    }
   ],
   "source": [
    "bmim = np.linspace(data[\"x_bmimAc\"].iloc[6], data[\"x_bmimAc\"].iloc[0], 15)\n",
    "\n",
    "P = np.zeros((len(bmim)))\n",
    "P0 = np.zeros((len(bmim)))\n",
    "R125_x1 = np.zeros((len(bmim)))\n",
    "m.fs.liq = Param(mutable=True,default=0.040)\n",
    "m.fs.liquid = Constraint(expr=m.fs.F101.liq_outlet.mole_frac_comp[0, \"bmimAc\"] == m.fs.liq)\n",
    "\n",
    "for i in range(len(bmim)-1):\n",
    "    print(i)\n",
    "    m.fs.liq = bmim[i]\n",
    "    a = bmim[i]\n",
    "#     print(a)\n",
    "    b = 1-(bmim[i])\n",
    "#     print(b)\n",
    "#     P0[i] = 1817227.28*b**2 + 1070035.75*b - 17132.62 for R32\n",
    "    P0[i] = 1955312.94*b**2 - 19036.50*b + 63292.70\n",
    "    print(P0[i])\n",
    "\n",
    "    m.fs.F101.inlet.temperature.fix(298.001)\n",
    "    m.fs.F101.inlet.pressure.fix(P0[i])\n",
    "    m.fs.F101.inlet.mole_frac_comp[0,'R125'].fix(1-(bmim[i]-0.1))\n",
    "    m.fs.F101.inlet.mole_frac_comp[0,'bmimAc'].fix(bmim[i]-0.1)\n",
    "    m.fs.F101.vap_outlet.temperature.fix(298.001)\n",
    "    m.fs.F101.vap_outlet.pressure.fix(P0[i])\n",
    "    m.fs.F101.vap_outlet.pressure.unfix()\n",
    "    \n",
    "    m.fs.F101.initialize(outlvl=idaeslog.CRITICAL)\n",
    "    \n",
    "    try:\n",
    "        m.fs.F101.initialize(outlvl=idaeslog.CRITICAL)\n",
    "\n",
    "        status = solver.solve(m, tee = False)\n",
    "\n",
    "        if (status.solver.status == SolverStatus.ok) and (status.solver.termination_condition == TerminationCondition.optimal):\n",
    "\n",
    "            R125_x1[i] = value(m.fs.F101.liq_outlet.mole_frac_comp[0,'R125']) \n",
    "            P[i] = value(m.fs.F101.vap_outlet.pressure[0])\n",
    "\n",
    "        else:\n",
    "            print('Infeasible.')\n",
    "            \n",
    "    except ValueError:\n",
    "        \n",
    "            R125_x1[i] = \"NaN\"\n",
    "            P[i] = \"NaN\"\n",
    "\n"
   ]
  },
  {
   "cell_type": "code",
   "execution_count": 5,
   "id": "cosmetic-yellow",
   "metadata": {},
   "outputs": [
    {
     "name": "stdout",
     "output_type": "stream",
     "text": [
      "[995820.1135387  862296.2349279  745017.64914149 642312.62245392\n",
      " 552223.78069627 472883.6483818  402643.06558567 340096.00125831\n",
      " 284063.59703577 233564.77320756 187784.94542145 146047.3628741\n",
      " 107788.4763216   72537.42648063      0.        ]\n",
      "0      50000\n",
      "1     100000\n",
      "2     200000\n",
      "3     400000\n",
      "4     600000\n",
      "5     800000\n",
      "6    1000000\n",
      "Name: pressure, dtype: int64\n",
      "0    0.060\n",
      "1    0.122\n",
      "2    0.240\n",
      "3    0.429\n",
      "4    0.536\n",
      "5    0.620\n",
      "6    0.692\n",
      "Name: x_R125, dtype: float64\n"
     ]
    }
   ],
   "source": [
    "print(P)\n",
    "print(data[\"pressure\"])\n",
    "print(data[\"x_R125\"])"
   ]
  },
  {
   "cell_type": "code",
   "execution_count": 6,
   "id": "demographic-brush",
   "metadata": {},
   "outputs": [
    {
     "data": {
      "image/png": "[encoded data removed]",
      "text/plain": [
       "<Figure size 432x288 with 1 Axes>"
      ]
     },
     "metadata": {
      "needs_background": "light"
     },
     "output_type": "display_data"
    }
   ],
   "source": [
    "P1 = np.zeros((len(P)))\n",
    "\n",
    "for i in range(len(P)):\n",
    "    P1[i] = P[i]/1e6\n",
    "\n",
    "# P1[1] = 0.6888\n",
    "\n",
    "plt.plot(R125_x1,P1,\"-\",label=\"Calc 298 K\")  \n",
    "plt.plot(data[\"x_R125\"][0:8],data[\"pressure\"][0:8]/1e6,\"*\",color='b',label=\"Data 298 K\")  \n",
    "plt.title('Isotherm R125-[bmim][Ac]',fontsize=20)\n",
    "plt.ylabel('Pressure [MPa]',fontsize=20)\n",
    "plt.xlabel('x R125 [mole/mole]',fontsize=20)\n",
    "plt.xticks(fontsize=16)\n",
    "plt.yticks(fontsize=16)\n",
    "plt.grid(True)\n",
    "# plt.ylim(0,1.110000)\n",
    "plt.xlim(0,1)\n",
    "plt.legend(fontsize=10)\n",
    "# plt.savefig('Isotherm R125-[bmim][Ac]_bin.png', bbox_inches='tight',dpi=300)\n",
    "plt.show()\n"
   ]
  },
  {
   "cell_type": "code",
   "execution_count": 8,
   "id": "3597064b",
   "metadata": {},
   "outputs": [],
   "source": [
    "df = pd.DataFrame({\"P1\":P1,\"x1\":R125_x1})\n",
    "df.to_csv('P_M1_125_bmimAc.csv')   "
   ]
  },
  {
   "cell_type": "code",
   "execution_count": null,
   "id": "ff0f47e5",
   "metadata": {},
   "outputs": [],
   "source": []
  }
 ],
 "metadata": {
  "kernelspec": {
   "display_name": "Python 3 (ipykernel)",
   "language": "python",
   "name": "python3"
  },
  "language_info": {
   "codemirror_mode": {
    "name": "ipython",
    "version": 3
   },
   "file_extension": ".py",
   "mimetype": "text/x-python",
   "name": "python",
   "nbconvert_exporter": "python",
   "pygments_lexer": "ipython3",
   "version": "3.9.7"
  }
 },
 "nbformat": 4,
 "nbformat_minor": 5
}
