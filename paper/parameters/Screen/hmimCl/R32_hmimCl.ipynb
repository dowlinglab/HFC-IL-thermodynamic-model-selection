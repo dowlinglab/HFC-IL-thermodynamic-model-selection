{
 "cells": [
  {
   "cell_type": "code",
   "execution_count": 1,
   "metadata": {},
   "outputs": [],
   "source": [
    "from binary_param import linear, constant\n",
    "import pandas as pd\n",
    "from HFC32_hmimCl_PR import configuration"
   ]
  },
  {
   "cell_type": "code",
   "execution_count": 2,
   "metadata": {},
   "outputs": [
    {
     "name": "stdout",
     "output_type": "stream",
     "text": [
      "   temperature  pressure  x_R32  x_hmimCl\n",
      "0       298.15     50000  0.021     0.979\n",
      "1       298.15    100000  0.044     0.956\n",
      "2       298.15    200000  0.092     0.908\n",
      "3       298.15    400000  0.186     0.814\n",
      "4       298.15    600000  0.272     0.728\n",
      "5       298.15    800000  0.345     0.655\n",
      "6       298.15   1000000  0.410     0.590\n"
     ]
    }
   ],
   "source": [
    "data = pd.read_csv('R32_hmimCl.csv')\n",
    "print(data)"
   ]
  },
  {
   "cell_type": "code",
   "execution_count": 3,
   "metadata": {
    "scrolled": true
   },
   "outputs": [
    {
     "name": "stdout",
     "output_type": "stream",
     "text": [
      "2022-01-19 13:29:23 [INFO] idaes.init.fs.state_block: Property package initialization: optimal - Optimal Solution Found.\n",
      "2022-01-19 13:29:24 [INFO] idaes.init.fs.state_block: Property package initialization: optimal - Optimal Solution Found.\n",
      "2022-01-19 13:29:25 [INFO] idaes.init.fs.state_block: Property package initialization: optimal - Optimal Solution Found.\n",
      "2022-01-19 13:29:26 [INFO] idaes.init.fs.state_block: Property package initialization: optimal - Optimal Solution Found.\n",
      "2022-01-19 13:29:26 [INFO] idaes.init.fs.state_block: Property package initialization: optimal - Optimal Solution Found.\n",
      "2022-01-19 13:29:27 [INFO] idaes.init.fs.state_block: Property package initialization: optimal - Optimal Solution Found.\n",
      "2022-01-19 13:29:28 [INFO] idaes.init.fs.state_block: Property package initialization: optimal - Optimal Solution Found.\n",
      "Ipopt 3.13.2: \n",
      "\n",
      "******************************************************************************\n",
      "This program contains Ipopt, a library for large-scale nonlinear optimization.\n",
      " Ipopt is released as open source code under the Eclipse Public License (EPL).\n",
      "         For more information visit http://projects.coin-or.org/Ipopt\n",
      "\n",
      "This version of Ipopt was compiled from source code available at\n",
      "    https://github.com/IDAES/Ipopt as part of the Institute for the Design of\n",
      "    Advanced Energy Systems Process Systems Engineering Framework (IDAES PSE\n",
      "    Framework) Copyright (c) 2018-2019. See https://github.com/IDAES/idaes-pse.\n",
      "\n",
      "This version of Ipopt was compiled using HSL, a collection of Fortran codes\n",
      "    for large-scale scientific computation.  All technical papers, sales and\n",
      "    publicity material resulting from use of the HSL codes within IPOPT must\n",
      "    contain the following acknowledgement:\n",
      "        HSL, a collection of Fortran codes for large-scale scientific\n",
      "        computation. See http://www.hsl.rl.ac.uk.\n",
      "******************************************************************************\n",
      "\n",
      "This is Ipopt version 3.13.2, running with linear solver ma27.\n",
      "\n",
      "Number of nonzeros in equality constraint Jacobian...:      234\n",
      "Number of nonzeros in inequality constraint Jacobian.:        0\n",
      "Number of nonzeros in Lagrangian Hessian.............:      238\n",
      "\n",
      "Total number of variables............................:       98\n",
      "                     variables with only lower bounds:       42\n",
      "                variables with lower and upper bounds:       42\n",
      "                     variables with only upper bounds:        0\n",
      "Total number of equality constraints.................:       96\n",
      "Total number of inequality constraints...............:        0\n",
      "        inequality constraints with only lower bounds:        0\n",
      "   inequality constraints with lower and upper bounds:        0\n",
      "        inequality constraints with only upper bounds:        0\n",
      "\n",
      "iter    objective    inf_pr   inf_du lg(mu)  ||d||  lg(rg) alpha_du alpha_pr  ls\n",
      "   0  0.0000000e+00 1.24e-01 4.66e-15  -1.0 0.00e+00    -  0.00e+00 0.00e+00   0\n",
      "   1  1.2409777e-01 1.80e-01 4.23e+02  -1.0 1.83e+04    -  9.23e-01 9.90e-01h  1\n",
      "   2  1.2292571e-01 1.71e-02 1.18e+02  -1.0 2.72e+02    -  9.07e-01 9.90e-01h  1\n",
      "   3  1.2144979e-01 2.76e-04 1.03e+03  -1.0 2.83e+02    -  9.90e-01 1.00e+00h  1\n",
      "   4  8.2005424e-02 2.98e-04 1.58e+05  -1.0 7.14e+03    -  9.84e-01 1.00e+00f  1\n",
      "   5  6.6938257e-02 1.63e-04 1.58e+03  -1.0 4.17e+03    -  9.90e-01 1.00e+00h  1\n",
      "   6  6.4635678e-02 2.38e-05 7.86e+04  -1.7 1.90e+03    -  9.90e-01 1.00e+00h  1\n",
      "   7  6.4618567e-02 5.22e-09 2.38e-06  -1.7 1.80e+01    -  1.00e+00 1.00e+00h  1\n",
      "   8  6.4532611e-02 1.43e-06 1.85e+03  -8.6 4.61e+02    -  9.99e-01 1.00e+00h  1\n",
      "   9  6.4531971e-02 1.65e-11 7.80e-09  -8.6 1.04e+00    -  1.00e+00 1.00e+00h  1\n",
      "\n",
      "Number of Iterations....: 9\n",
      "\n",
      "                                   (scaled)                 (unscaled)\n",
      "Objective...............:   6.4531970588077900e-02    6.4531970588077900e-02\n",
      "Dual infeasibility......:   7.7985072843844705e-09    7.7985072843844705e-09\n",
      "Constraint violation....:   1.6544543512964083e-11    1.6544543512964083e-11\n",
      "Complementarity.........:   2.7219819098479003e-09    2.7219819098479003e-09\n",
      "Overall NLP error.......:   7.7985072843844705e-09    7.7985072843844705e-09\n",
      "\n",
      "\n",
      "Number of objective function evaluations             = 10\n",
      "Number of objective gradient evaluations             = 10\n",
      "Number of equality constraint evaluations            = 10\n",
      "Number of inequality constraint evaluations          = 0\n",
      "Number of equality constraint Jacobian evaluations   = 10\n",
      "Number of inequality constraint Jacobian evaluations = 0\n",
      "Number of Lagrangian Hessian evaluations             = 9\n",
      "Total CPU secs in IPOPT (w/o function evaluations)   =      0.009\n",
      "Total CPU secs in NLP function evaluations           =      0.045\n",
      "\n",
      "EXIT: Optimal Solution Found.\n",
      "The SSE at the optimal solution is 0.064532\n",
      "\n",
      "The values for the parameters are as follows:\n",
      "fs.properties.PR_kappa_A[hmimCl,R32] = -0.2974559753167375\n",
      "fs.properties.PR_kappa_A[R32,hmimCl] = 0.027135563850747002\n"
     ]
    }
   ],
   "source": [
    "constant(data, configuration, 'R32', 'hmimCl', \"x_R32\", \"x_hmimCl\",\n",
    "    init_temp =  298.15, init_press =   600000 , init_x_c1 = 0.272, init_x_c2 = 0.728,\n",
    "    init_kappa_2_1A = 0.05, init_kappa_1_2A = 0.05,\n",
    "    eps = 0.1, scaling_fac = 1e-9)"
   ]
  },
  {
   "cell_type": "code",
   "execution_count": 4,
   "metadata": {},
   "outputs": [],
   "source": [
    "from HFC125_hmimCl_PR import configuration as configuration2"
   ]
  },
  {
   "cell_type": "code",
   "execution_count": 5,
   "metadata": {},
   "outputs": [],
   "source": [
    "data2 = pd.read_csv('R125_hmimCl.csv')"
   ]
  },
  {
   "cell_type": "code",
   "execution_count": 6,
   "metadata": {},
   "outputs": [
    {
     "name": "stdout",
     "output_type": "stream",
     "text": [
      "2022-01-19 13:29:30 [INFO] idaes.init.fs.state_block: Property package initialization: optimal - Optimal Solution Found.\n",
      "2022-01-19 13:29:31 [INFO] idaes.init.fs.state_block: Property package initialization: optimal - Optimal Solution Found.\n",
      "2022-01-19 13:29:32 [INFO] idaes.init.fs.state_block: Property package initialization: optimal - Optimal Solution Found.\n",
      "2022-01-19 13:29:33 [INFO] idaes.init.fs.state_block: Property package initialization: optimal - Optimal Solution Found.\n",
      "2022-01-19 13:29:34 [INFO] idaes.init.fs.state_block: Property package initialization: optimal - Optimal Solution Found.\n",
      "2022-01-19 13:29:34 [INFO] idaes.init.fs.state_block: Property package initialization: optimal - Optimal Solution Found.\n",
      "2022-01-19 13:29:35 [INFO] idaes.init.fs.state_block: Property package initialization: optimal - Optimal Solution Found.\n",
      "Ipopt 3.13.2: \n",
      "\n",
      "******************************************************************************\n",
      "This program contains Ipopt, a library for large-scale nonlinear optimization.\n",
      " Ipopt is released as open source code under the Eclipse Public License (EPL).\n",
      "         For more information visit http://projects.coin-or.org/Ipopt\n",
      "\n",
      "This version of Ipopt was compiled from source code available at\n",
      "    https://github.com/IDAES/Ipopt as part of the Institute for the Design of\n",
      "    Advanced Energy Systems Process Systems Engineering Framework (IDAES PSE\n",
      "    Framework) Copyright (c) 2018-2019. See https://github.com/IDAES/idaes-pse.\n",
      "\n",
      "This version of Ipopt was compiled using HSL, a collection of Fortran codes\n",
      "    for large-scale scientific computation.  All technical papers, sales and\n",
      "    publicity material resulting from use of the HSL codes within IPOPT must\n",
      "    contain the following acknowledgement:\n",
      "        HSL, a collection of Fortran codes for large-scale scientific\n",
      "        computation. See http://www.hsl.rl.ac.uk.\n",
      "******************************************************************************\n",
      "\n",
      "This is Ipopt version 3.13.2, running with linear solver ma27.\n",
      "\n",
      "Number of nonzeros in equality constraint Jacobian...:      234\n",
      "Number of nonzeros in inequality constraint Jacobian.:        0\n",
      "Number of nonzeros in Lagrangian Hessian.............:      238\n",
      "\n",
      "Total number of variables............................:       98\n",
      "                     variables with only lower bounds:       42\n",
      "                variables with lower and upper bounds:       42\n",
      "                     variables with only upper bounds:        0\n",
      "Total number of equality constraints.................:       96\n",
      "Total number of inequality constraints...............:        0\n",
      "        inequality constraints with only lower bounds:        0\n",
      "   inequality constraints with lower and upper bounds:        0\n",
      "        inequality constraints with only upper bounds:        0\n",
      "\n",
      "iter    objective    inf_pr   inf_du lg(mu)  ||d||  lg(rg) alpha_du alpha_pr  ls\n",
      "   0  0.0000000e+00 4.21e-02 1.24e-14  -1.0 0.00e+00    -  0.00e+00 0.00e+00   0\n",
      "   1  4.2618183e-02 1.19e-03 8.16e+00  -1.0 1.28e+04    -  9.48e-01 9.90e-01h  1\n",
      "   2  4.3758338e-02 1.23e-05 1.13e+00  -1.0 2.26e+02    -  9.89e-01 9.90e-01h  1\n",
      "   3  4.1355789e-02 4.43e-06 1.15e+03  -1.0 9.04e+02    -  9.89e-01 1.00e+00h  1\n",
      "   4  3.8668811e-02 9.04e-07 9.90e+04  -1.0 4.04e+03    -  9.90e-01 1.00e+00F  1\n",
      "   5  3.8968406e-02 3.46e-07 9.75e+02  -1.0 2.21e+02    -  9.90e-01 1.00e+00h  1\n",
      "   6  3.7739512e-02 1.69e-05 2.34e+04  -2.5 1.67e+03    -  9.98e-01 1.00e+00f  1\n",
      "   7  3.7741333e-02 1.29e-10 2.83e-08  -2.5 6.59e+00    -  1.00e+00 1.00e+00h  1\n",
      "   8  3.7740341e-02 1.46e-08 4.61e+00  -8.6 4.89e+01    -  1.00e+00 1.00e+00h  1\n",
      "   9  3.7740343e-02 1.76e-13 4.81e-14  -8.6 5.66e-03    -  1.00e+00 1.00e+00h  1\n",
      "\n",
      "Number of Iterations....: 9\n",
      "\n",
      "                                   (scaled)                 (unscaled)\n",
      "Objective...............:   3.7740343069371456e-02    3.7740343069371456e-02\n",
      "Dual infeasibility......:   4.8133101981020716e-14    4.8133101981020716e-14\n",
      "Constraint violation....:   1.7630341631047486e-13    1.7630341631047486e-13\n",
      "Complementarity.........:   2.5059104140067662e-09    2.5059104140067662e-09\n",
      "Overall NLP error.......:   2.5059104140067662e-09    2.5059104140067662e-09\n",
      "\n",
      "\n",
      "Number of objective function evaluations             = 11\n",
      "Number of objective gradient evaluations             = 10\n",
      "Number of equality constraint evaluations            = 11\n",
      "Number of inequality constraint evaluations          = 0\n",
      "Number of equality constraint Jacobian evaluations   = 10\n",
      "Number of inequality constraint Jacobian evaluations = 0\n",
      "Number of Lagrangian Hessian evaluations             = 9\n",
      "Total CPU secs in IPOPT (w/o function evaluations)   =      0.013\n",
      "Total CPU secs in NLP function evaluations           =      0.063\n",
      "\n",
      "EXIT: Optimal Solution Found.\n",
      "The SSE at the optimal solution is 0.037740\n",
      "\n",
      "The values for the parameters are as follows:\n",
      "fs.properties.PR_kappa_A[hmimCl,R125] = -0.05502220461758762\n",
      "fs.properties.PR_kappa_A[R125,hmimCl] = -0.04699294480782288\n"
     ]
    }
   ],
   "source": [
    "constant(data2, configuration2, 'R125', 'hmimCl', \"x_R125\", \"x_hmimCl\",\n",
    "    init_temp =  298.15, init_press =   600000 , init_x_c1 =    0.272, init_x_c2 = 0.728,\n",
    "    init_kappa_2_1A = -0.05, init_kappa_1_2A = -0.05,\n",
    "    eps = 0.1, scaling_fac = 1e-9)"
   ]
  },
  {
   "cell_type": "code",
   "execution_count": null,
   "metadata": {},
   "outputs": [],
   "source": []
  }
 ],
 "metadata": {
  "kernelspec": {
   "display_name": "Python 3 (ipykernel)",
   "language": "python",
   "name": "python3"
  },
  "language_info": {
   "codemirror_mode": {
    "name": "ipython",
    "version": 3
   },
   "file_extension": ".py",
   "mimetype": "text/x-python",
   "name": "python",
   "nbconvert_exporter": "python",
   "pygments_lexer": "ipython3",
   "version": "3.9.7"
  }
 },
 "nbformat": 4,
 "nbformat_minor": 4
}
