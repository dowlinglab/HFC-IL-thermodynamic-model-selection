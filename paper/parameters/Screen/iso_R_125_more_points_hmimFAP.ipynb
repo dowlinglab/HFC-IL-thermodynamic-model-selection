{
 "cells": [
  {
   "cell_type": "code",
   "execution_count": 1,
   "id": "significant-programming",
   "metadata": {},
   "outputs": [],
   "source": [
    "from pyomo.environ import (Constraint,\n",
    "                           Var,\n",
    "                           ConcreteModel,\n",
    "                           Expression,\n",
    "                           Param,\n",
    "                           Objective,\n",
    "                           SolverFactory,\n",
    "                           TransformationFactory,\n",
    "                           value)\n",
    "\n",
    "from pyomo.network import Arc, SequentialDecomposition\n",
    "\n",
    "from idaes.core.util.initialization import propagate_state\n",
    "\n",
    "# Import plotting functions\n",
    "import matplotlib.pyplot as plt\n",
    "\n",
    "# Import numpy library \n",
    "import numpy as np\n",
    "\n",
    "import pandas as pd\n",
    "\n",
    "# Import the main FlowsheetBlock from IDAES. The flowsheet block will contain the unit model\n",
    "from idaes.core import FlowsheetBlock\n",
    "\n",
    "import idaes.logger as idaeslog\n",
    "from pyomo.opt import TerminationCondition, SolverStatus\n",
    "\n",
    "# Import the degrees_of_freedom function from the idaes.core.util.model_statistics package\n",
    "# DOF = Number of Model Variables - Number of Model Constraints\n",
    "from idaes.core.util.model_statistics import degrees_of_freedom\n",
    "\n",
    "# Import the Generic Parameter Block\n",
    "from idaes.generic_models.properties.core.generic.generic_property import (\n",
    "        GenericParameterBlock)\n",
    "\n",
    "# Import unit models from the model library\n",
    "from idaes.generic_models.unit_models import Flash"
   ]
  },
  {
   "cell_type": "code",
   "execution_count": 2,
   "id": "incomplete-infection",
   "metadata": {},
   "outputs": [],
   "source": [
    "from HFC125_hmimFAP_PR import configuration\n",
    "data = pd.read_csv('R125_hmimFAP.csv')\n",
    "\n",
    "solver = SolverFactory('ipopt')\n",
    "solver.options = {'tol': 1e-6}"
   ]
  },
  {
   "cell_type": "code",
   "execution_count": 3,
   "id": "developed-riverside",
   "metadata": {},
   "outputs": [],
   "source": [
    "m = ConcreteModel()\n",
    "\n",
    "m.fs = FlowsheetBlock(default={\"dynamic\": False})\n",
    "\n",
    "m.fs.properties = GenericParameterBlock(default=configuration)\n",
    "\n",
    "m.fs.F101 = Flash(default={\"property_package\": m.fs.properties,\n",
    "                           \"has_heat_transfer\": True,\n",
    "                           \"has_pressure_change\": True})\n",
    "\n",
    "m.fs.F101.inlet.flow_mol.fix(1)\n",
    "m.fs.F101.inlet.temperature.fix(323.15)\n",
    "m.fs.F101.inlet.pressure.fix(399800)\n",
    "m.fs.F101.inlet.mole_frac_comp[0,'R125'].fix(0.5)\n",
    "\n",
    "m.fs.properties.PR_kappa_A['hmimFAP', 'R125'].fix(-0.12790)\n",
    "m.fs.properties.PR_kappa_A['R125', 'hmimFAP'].fix(-0.04074)\n",
    "m.fs.properties.PR_kappa_B['hmimFAP', 'R125'].fix(0.0)\n",
    "m.fs.properties.PR_kappa_B['R125', 'hmimFAP'].fix(0.0)\n",
    "\n",
    "# Initialize the flash unit\n",
    "m.fs.F101.initialize(outlvl=idaeslog.CRITICAL)\n",
    "\n",
    "# Fix the state variables on the state block\n",
    "# m.fs.F101.inlet.pressure.unfix()\n",
    "m.fs.F101.inlet.mole_frac_comp[0,'hmimFAP'].unfix()\n"
   ]
  },
  {
   "cell_type": "code",
   "execution_count": 4,
   "id": "e9605389",
   "metadata": {},
   "outputs": [
    {
     "name": "stdout",
     "output_type": "stream",
     "text": [
      "0\n",
      "705528.3712469601\n",
      "1\n",
      "621987.0523591312\n",
      "2\n",
      "544263.7870764458\n",
      "3\n",
      "472358.5753989028\n",
      "4\n",
      "406271.41732650285\n",
      "5\n",
      "346002.3128592457\n",
      "6\n",
      "291551.26199713134\n",
      "7\n",
      "242918.26474016008\n",
      "8\n",
      "200103.32108833134\n",
      "9\n",
      "163106.43104164573\n",
      "10\n",
      "131927.59460010275\n",
      "11\n",
      "106566.81176370283\n",
      "12\n",
      "87024.0825324457\n",
      "13\n",
      "73299.40690633141\n"
     ]
    }
   ],
   "source": [
    "bmim = np.linspace(data[\"x_hmimFAP\"].iloc[6], data[\"x_hmimFAP\"].iloc[0], 15)\n",
    "\n",
    "P = np.zeros((len(bmim)))\n",
    "P0 = np.zeros((len(bmim)))\n",
    "R125_x1 = np.zeros((len(bmim)))\n",
    "m.fs.liq = Param(mutable=True,default=0.040)\n",
    "m.fs.liquid = Constraint(expr=m.fs.F101.liq_outlet.mole_frac_comp[0, \"hmimFAP\"] == m.fs.liq)\n",
    "\n",
    "for i in range(len(bmim)-1):\n",
    "    print(i)\n",
    "    m.fs.liq = bmim[i]\n",
    "    a = bmim[i]\n",
    "#     print(a)\n",
    "    b = 1-(bmim[i])\n",
    "#     print(b)\n",
    "#     P0[i] = 1817227.28*b**2 + 1070035.75*b - 17132.62 for R32\n",
    "    P0[i] = 1955312.94*b**2 - 19036.50*b + 63292.70\n",
    "    print(P0[i])\n",
    "\n",
    "    m.fs.F101.inlet.temperature.fix(298.001)\n",
    "    m.fs.F101.inlet.pressure.fix(P0[i])\n",
    "    m.fs.F101.inlet.mole_frac_comp[0,'R125'].fix(1-(bmim[i]-0.1))\n",
    "    m.fs.F101.inlet.mole_frac_comp[0,'hmimFAP'].fix(bmim[i]-0.1)\n",
    "    m.fs.F101.vap_outlet.temperature.fix(298.001)\n",
    "    m.fs.F101.vap_outlet.pressure.fix(P0[i])\n",
    "    m.fs.F101.vap_outlet.pressure.unfix()\n",
    "    \n",
    "    m.fs.F101.initialize(outlvl=idaeslog.CRITICAL)\n",
    "    \n",
    "    try:\n",
    "        m.fs.F101.initialize(outlvl=idaeslog.CRITICAL)\n",
    "\n",
    "        status = solver.solve(m, tee = False)\n",
    "\n",
    "        if (status.solver.status == SolverStatus.ok) and (status.solver.termination_condition == TerminationCondition.optimal):\n",
    "\n",
    "            R125_x1[i] = value(m.fs.F101.liq_outlet.mole_frac_comp[0,'R125']) \n",
    "            P[i] = value(m.fs.F101.vap_outlet.pressure[0])\n",
    "\n",
    "        else:\n",
    "            print('Infeasible.')\n",
    "            \n",
    "    except ValueError:\n",
    "        \n",
    "            R125_x1[i] = \"NaN\"\n",
    "            P[i] = \"NaN\"\n",
    "\n"
   ]
  },
  {
   "cell_type": "code",
   "execution_count": 5,
   "id": "cosmetic-yellow",
   "metadata": {},
   "outputs": [
    {
     "name": "stdout",
     "output_type": "stream",
     "text": [
      "[997362.70041908 913869.07684982 832864.79098143 754546.08326521\n",
      " 678961.93479283 606072.60103614 535786.74962597 467984.96038531\n",
      " 402534.51370221 339298.59765199 278141.93101058 218934.08286188\n",
      " 161551.31414602 105877.47368667      0.        ]\n",
      "0      50000\n",
      "1     100000\n",
      "2     200000\n",
      "3     400000\n",
      "4     600000\n",
      "5     800000\n",
      "6    1000000\n",
      "Name: pressure, dtype: int64\n",
      "0    0.038\n",
      "1    0.074\n",
      "2    0.142\n",
      "3    0.267\n",
      "4    0.380\n",
      "5    0.482\n",
      "6    0.578\n",
      "Name: x_R125, dtype: float64\n"
     ]
    }
   ],
   "source": [
    "print(P)\n",
    "print(data[\"pressure\"])\n",
    "print(data[\"x_R125\"])"
   ]
  },
  {
   "cell_type": "code",
   "execution_count": 6,
   "id": "demographic-brush",
   "metadata": {},
   "outputs": [
    {
     "data": {
      "image/png": "[encoded data removed]",
      "text/plain": [
       "<Figure size 432x288 with 1 Axes>"
      ]
     },
     "metadata": {
      "needs_background": "light"
     },
     "output_type": "display_data"
    }
   ],
   "source": [
    "P1 = np.zeros((len(P)))\n",
    "\n",
    "for i in range(len(P)):\n",
    "    P1[i] = P[i]/1e6\n",
    "\n",
    "# P1[1] = 0.6888\n",
    "\n",
    "plt.plot(R125_x1,P1,\"-\",label=\"Calc 298 K\")  \n",
    "plt.plot(data[\"x_R125\"][0:8],data[\"pressure\"][0:8]/1e6,\"*\",color='b',label=\"Data 298 K\")  \n",
    "plt.title('Isotherm R125-[hmim][FAP]',fontsize=20)\n",
    "plt.ylabel('Pressure [MPa]',fontsize=20)\n",
    "plt.xlabel('x R125 [mole/mole]',fontsize=20)\n",
    "plt.xticks(fontsize=16)\n",
    "plt.yticks(fontsize=16)\n",
    "plt.grid(True)\n",
    "# plt.ylim(0,1.110000)\n",
    "plt.xlim(0,1)\n",
    "plt.legend(fontsize=10)\n",
    "# plt.savefig('Isotherm R125-[bmim][Ac]_bin.png', bbox_inches='tight',dpi=300)\n",
    "plt.show()\n"
   ]
  },
  {
   "cell_type": "code",
   "execution_count": 7,
   "id": "orange-mobile",
   "metadata": {},
   "outputs": [
    {
     "name": "stdout",
     "output_type": "stream",
     "text": [
      "\n",
      "====================================================================================\n",
      "Unit : fs.F101                                                             Time: 0.0\n",
      "------------------------------------------------------------------------------------\n",
      "    Unit Performance\n",
      "\n",
      "    Variables: \n",
      "\n",
      "    Key             : Value   : Fixed : Bounds\n",
      "          Heat Duty : -470.76 : False : (None, None)\n",
      "    Pressure Change :  32578. : False : (None, None)\n",
      "\n",
      "------------------------------------------------------------------------------------\n",
      "    Stream Table\n",
      "                             Inlet  Vapor Outlet  Liquid Outlet\n",
      "    flow_mol                1.0000      0.10829       0.89171  \n",
      "    mole_frac_comp hmimFAP 0.82343   1.0000e-08       0.92343  \n",
      "    mole_frac_comp R125    0.17657       1.0000      0.076571  \n",
      "    temperature             298.00       298.00        298.00  \n",
      "    pressure                73299.   1.0588e+05    1.0588e+05  \n",
      "====================================================================================\n"
     ]
    }
   ],
   "source": [
    "m.fs.F101.report()"
   ]
  },
  {
   "cell_type": "code",
   "execution_count": 8,
   "id": "db900c09",
   "metadata": {},
   "outputs": [],
   "source": [
    "df = pd.DataFrame(P)\n",
    "# df.to_csv('P_cons_125.csv')\n",
    "# df.to_csv('P_lin_125.csv')\n",
    "# df.to_csv('P_ter_125.csv')"
   ]
  },
  {
   "cell_type": "code",
   "execution_count": null,
   "id": "3597064b",
   "metadata": {},
   "outputs": [],
   "source": []
  }
 ],
 "metadata": {
  "kernelspec": {
   "display_name": "Python 3 (ipykernel)",
   "language": "python",
   "name": "python3"
  },
  "language_info": {
   "codemirror_mode": {
    "name": "ipython",
    "version": 3
   },
   "file_extension": ".py",
   "mimetype": "text/x-python",
   "name": "python",
   "nbconvert_exporter": "python",
   "pygments_lexer": "ipython3",
   "version": "3.9.6"
  }
 },
 "nbformat": 4,
 "nbformat_minor": 5
}
