{
 "cells": [
  {
   "cell_type": "code",
   "execution_count": 1,
   "id": "12cffe60",
   "metadata": {},
   "outputs": [],
   "source": [
    "import pandas as pd\n",
    "\n",
    "# Import plotting functions\n",
    "import matplotlib.pyplot as plt\n",
    "\n",
    "# Import numpy library \n",
    "import numpy as np"
   ]
  },
  {
   "cell_type": "code",
   "execution_count": 2,
   "id": "14cdf67e",
   "metadata": {},
   "outputs": [],
   "source": [
    "alpha1 = pd.read_csv('alpha_bmimPF6_01.csv')\n",
    "alpha2 = pd.read_csv('alpha_bmimPF6_02.csv')\n",
    "alpha5 = pd.read_csv('alpha_bmimPF6_05.csv')\n",
    "alpha7 = pd.read_csv('alpha_bmimPF6_09.csv')\n",
    "alpha10 = pd.read_csv('alpha_bmimPF6_10.csv')\n",
    "\n"
   ]
  },
  {
   "cell_type": "code",
   "execution_count": 3,
   "id": "2c7ae5f7",
   "metadata": {},
   "outputs": [
    {
     "name": "stdout",
     "output_type": "stream",
     "text": [
      "3.019997269898405\n",
      "3.0277002578141263\n",
      "3.009971482746267\n",
      "2.8826499562815306\n",
      "std 1 = 0.05521191668332485\n",
      "std 2 = 0.06415593790874972\n",
      "std 5 = 0.08886903197460429\n",
      "std 10 = 0.15279835472851525\n"
     ]
    }
   ],
   "source": [
    "alpha1_mean = np.mean(alpha1['0'])\n",
    "alpha2_mean = np.mean(alpha2['0'])\n",
    "alpha5_mean = np.mean(alpha5['0'])\n",
    "alpha7_mean = np.mean(alpha7['0'])\n",
    "alpha10_mean = np.mean(alpha10['0'])\n",
    "\n",
    "\n",
    "print(alpha1_mean)\n",
    "print(alpha2_mean)\n",
    "print(alpha5_mean)\n",
    "print(alpha10_mean)\n",
    "\n",
    "\n",
    "alpha1_std = np.std(alpha1['0'])\n",
    "alpha2_std = np.std(alpha2['0'])\n",
    "alpha5_std = np.std(alpha5['0'])\n",
    "alpha7_std = np.std(alpha7['0'])\n",
    "alpha10_std = np.std(alpha10['0'])\n",
    "\n",
    "\n",
    "\n",
    "print('std 1 =',alpha1_std)\n",
    "print('std 2 =',alpha2_std)\n",
    "print('std 5 =',alpha5_std)\n",
    "print('std 10 =',alpha10_std)\n",
    "\n",
    "\n",
    "labels = ['1%', '2%', '5%', '7%', '10%']\n",
    "lab = [1, 2, 5, 7, 10]\n",
    "x_pos = np.arange(len(labels))\n",
    "CTEs = [alpha1_mean, alpha2_mean, alpha5_mean, alpha7_mean, alpha10_mean]\n",
    "error = [alpha1_std, alpha2_std, alpha5_std, alpha7_std, alpha10_std]\n",
    "\n"
   ]
  },
  {
   "cell_type": "code",
   "execution_count": 4,
   "id": "da0ef988",
   "metadata": {
    "scrolled": true
   },
   "outputs": [
    {
     "data": {
      "image/png": "[encoded data removed]",
      "text/plain": [
       "<Figure size 432x288 with 1 Axes>"
      ]
     },
     "metadata": {
      "needs_background": "light"
     },
     "output_type": "display_data"
    }
   ],
   "source": [
    "fig, ax = plt.subplots()\n",
    "\n",
    "ax.errorbar(lab,CTEs,yerr=error,fmt='-o', capsize=5, label='[bmim][PF$_6$]')\n",
    "\n",
    "\n",
    "# plt.scatter(np.full(len(alpha7_bf4['0']),7),alpha7_bf4['0'],c='orange',s=7)\n",
    "# plt.scatter(np.full(len(alpha7['0']),7),alpha7['0'],c='blue',s=7)\n",
    "# plt.scatter(np.full(len(alpha10['0']),10),alpha10['0'],c='blue',s=7)\n",
    "# plt.scatter(np.full(len(alpha10['0']),10),alpha10_bf4['0'],c='orange',s=7)\n",
    "plt.ylim(2,4.4)\n",
    "plt.xlim(0,11)\n",
    "# plt.title('Volatility',fontsize=20)\n",
    "plt.ylabel(r'$\\alpha_{12}$',fontsize=20)\n",
    "plt.xlabel('% Relative Error',fontsize=20)\n",
    "\n",
    "for label in (ax.get_xticklabels() + ax.get_yticklabels()):\n",
    "    label.set_fontsize(16)\n",
    "\n",
    "plt.grid(True)\n",
    "plt.legend(fontsize=14)\n",
    "plt.savefig('volatility_error.png', bbox_inches='tight',dpi=300)\n",
    "plt.show()"
   ]
  },
  {
   "cell_type": "code",
   "execution_count": 5,
   "id": "70a29fbd",
   "metadata": {},
   "outputs": [
    {
     "ename": "NameError",
     "evalue": "name 'alpha1_bf4' is not defined",
     "output_type": "error",
     "traceback": [
      "\u001b[1;31m---------------------------------------------------------------------------\u001b[0m",
      "\u001b[1;31mNameError\u001b[0m                                 Traceback (most recent call last)",
      "\u001b[1;32m~\\AppData\\Local\\Temp/ipykernel_12824/1383769143.py\u001b[0m in \u001b[0;36m<module>\u001b[1;34m\u001b[0m\n\u001b[0;32m      3\u001b[0m \u001b[1;31m# ax.errorbar(lab,CTEs,yerr=error,fmt='-o', capsize=5, label='[bmim][PF$_6$]')\u001b[0m\u001b[1;33m\u001b[0m\u001b[1;33m\u001b[0m\u001b[0m\n\u001b[0;32m      4\u001b[0m \u001b[1;31m# ax.errorbar(lab,CTEsBF4,yerr=errorBF4,fmt='-o', capsize=5, label='[bmim][BF$_4$]')\u001b[0m\u001b[1;33m\u001b[0m\u001b[1;33m\u001b[0m\u001b[0m\n\u001b[1;32m----> 5\u001b[1;33m \u001b[0mplt\u001b[0m\u001b[1;33m.\u001b[0m\u001b[0mscatter\u001b[0m\u001b[1;33m(\u001b[0m\u001b[0mnp\u001b[0m\u001b[1;33m.\u001b[0m\u001b[0mfull\u001b[0m\u001b[1;33m(\u001b[0m\u001b[0mlen\u001b[0m\u001b[1;33m(\u001b[0m\u001b[0malpha1_bf4\u001b[0m\u001b[1;33m[\u001b[0m\u001b[1;34m'0'\u001b[0m\u001b[1;33m]\u001b[0m\u001b[1;33m)\u001b[0m\u001b[1;33m,\u001b[0m\u001b[1;36m1\u001b[0m\u001b[1;33m)\u001b[0m\u001b[1;33m,\u001b[0m\u001b[0malpha1_bf4\u001b[0m\u001b[1;33m[\u001b[0m\u001b[1;34m'0'\u001b[0m\u001b[1;33m]\u001b[0m\u001b[1;33m,\u001b[0m\u001b[0mc\u001b[0m\u001b[1;33m=\u001b[0m\u001b[1;34m'orange'\u001b[0m\u001b[1;33m,\u001b[0m\u001b[0ms\u001b[0m\u001b[1;33m=\u001b[0m\u001b[1;36m7\u001b[0m\u001b[1;33m)\u001b[0m\u001b[1;33m\u001b[0m\u001b[1;33m\u001b[0m\u001b[0m\n\u001b[0m\u001b[0;32m      6\u001b[0m \u001b[0mplt\u001b[0m\u001b[1;33m.\u001b[0m\u001b[0mscatter\u001b[0m\u001b[1;33m(\u001b[0m\u001b[0mnp\u001b[0m\u001b[1;33m.\u001b[0m\u001b[0mfull\u001b[0m\u001b[1;33m(\u001b[0m\u001b[0mlen\u001b[0m\u001b[1;33m(\u001b[0m\u001b[0malpha2_bf4\u001b[0m\u001b[1;33m[\u001b[0m\u001b[1;34m'0'\u001b[0m\u001b[1;33m]\u001b[0m\u001b[1;33m)\u001b[0m\u001b[1;33m,\u001b[0m\u001b[1;36m2\u001b[0m\u001b[1;33m)\u001b[0m\u001b[1;33m,\u001b[0m\u001b[0malpha2_bf4\u001b[0m\u001b[1;33m[\u001b[0m\u001b[1;34m'0'\u001b[0m\u001b[1;33m]\u001b[0m\u001b[1;33m,\u001b[0m\u001b[0mc\u001b[0m\u001b[1;33m=\u001b[0m\u001b[1;34m'orange'\u001b[0m\u001b[1;33m,\u001b[0m\u001b[0ms\u001b[0m\u001b[1;33m=\u001b[0m\u001b[1;36m7\u001b[0m\u001b[1;33m)\u001b[0m\u001b[1;33m\u001b[0m\u001b[1;33m\u001b[0m\u001b[0m\n\u001b[0;32m      7\u001b[0m \u001b[0mplt\u001b[0m\u001b[1;33m.\u001b[0m\u001b[0mscatter\u001b[0m\u001b[1;33m(\u001b[0m\u001b[0mnp\u001b[0m\u001b[1;33m.\u001b[0m\u001b[0mfull\u001b[0m\u001b[1;33m(\u001b[0m\u001b[0mlen\u001b[0m\u001b[1;33m(\u001b[0m\u001b[0malpha5_bf4\u001b[0m\u001b[1;33m[\u001b[0m\u001b[1;34m'0'\u001b[0m\u001b[1;33m]\u001b[0m\u001b[1;33m)\u001b[0m\u001b[1;33m,\u001b[0m\u001b[1;36m5\u001b[0m\u001b[1;33m)\u001b[0m\u001b[1;33m,\u001b[0m\u001b[0malpha5_bf4\u001b[0m\u001b[1;33m[\u001b[0m\u001b[1;34m'0'\u001b[0m\u001b[1;33m]\u001b[0m\u001b[1;33m,\u001b[0m\u001b[0mc\u001b[0m\u001b[1;33m=\u001b[0m\u001b[1;34m'orange'\u001b[0m\u001b[1;33m,\u001b[0m\u001b[0ms\u001b[0m\u001b[1;33m=\u001b[0m\u001b[1;36m7\u001b[0m\u001b[1;33m)\u001b[0m\u001b[1;33m\u001b[0m\u001b[1;33m\u001b[0m\u001b[0m\n",
      "\u001b[1;31mNameError\u001b[0m: name 'alpha1_bf4' is not defined"
     ]
    },
    {
     "data": {
      "image/png": "[encoded data removed]",
      "text/plain": [
       "<Figure size 432x288 with 1 Axes>"
      ]
     },
     "metadata": {
      "needs_background": "light"
     },
     "output_type": "display_data"
    }
   ],
   "source": [
    "fig, ax = plt.subplots()\n",
    "\n",
    "# ax.errorbar(lab,CTEs,yerr=error,fmt='-o', capsize=5, label='[bmim][PF$_6$]')\n",
    "# ax.errorbar(lab,CTEsBF4,yerr=errorBF4,fmt='-o', capsize=5, label='[bmim][BF$_4$]')\n",
    "plt.scatter(np.full(len(alpha1_bf4['0']),1),alpha1_bf4['0'],c='orange',s=7)\n",
    "plt.scatter(np.full(len(alpha2_bf4['0']),2),alpha2_bf4['0'],c='orange',s=7)\n",
    "plt.scatter(np.full(len(alpha5_bf4['0']),5),alpha5_bf4['0'],c='orange',s=7)\n",
    "plt.scatter(np.full(len(alpha7_bf4['0']),7),alpha7_bf4['0'],c='orange',s=7)\n",
    "plt.scatter(np.full(len(alpha10_bf4['0']),10),alpha10_bf4['0'],c='orange',s=7,label='[bmim][BF$_4$]')\n",
    "\n",
    "\n",
    "\n",
    "plt.ylim(2,4.4)\n",
    "plt.xlim(0,11)\n",
    "plt.title('Volatility',fontsize=20)\n",
    "plt.ylabel(r'$\\alpha_{12}$',fontsize=20)\n",
    "plt.xlabel('% Error',fontsize=20)\n",
    "plt.grid(True)\n",
    "plt.legend()\n",
    "plt.show()"
   ]
  },
  {
   "cell_type": "code",
   "execution_count": null,
   "id": "2b71210b",
   "metadata": {},
   "outputs": [],
   "source": []
  }
 ],
 "metadata": {
  "kernelspec": {
   "display_name": "Python 3 (ipykernel)",
   "language": "python",
   "name": "python3"
  },
  "language_info": {
   "codemirror_mode": {
    "name": "ipython",
    "version": 3
   },
   "file_extension": ".py",
   "mimetype": "text/x-python",
   "name": "python",
   "nbconvert_exporter": "python",
   "pygments_lexer": "ipython3",
   "version": "3.9.7"
  }
 },
 "nbformat": 4,
 "nbformat_minor": 5
}
