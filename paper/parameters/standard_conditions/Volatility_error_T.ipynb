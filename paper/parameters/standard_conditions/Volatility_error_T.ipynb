{
 "cells": [
  {
   "cell_type": "code",
   "execution_count": 1,
   "id": "5a4700ec",
   "metadata": {},
   "outputs": [],
   "source": [
    "from binary_param import linear, constant\n",
    "import pandas as pd\n",
    "import numpy as np\n",
    "from HFCs_bmimPF6_PR import configuration\n",
    "from pyomo.environ import (Constraint,\n",
    "                           Var,\n",
    "                           ConcreteModel,\n",
    "                           Expression,\n",
    "                           Param,\n",
    "                           Objective,\n",
    "                           SolverFactory,\n",
    "                           TransformationFactory,\n",
    "                           value)\n",
    "\n",
    "import idaes.logger as idaeslog\n",
    "import pyomo.contrib.parmest.parmest as parmest\n",
    "from pyomo.opt import TerminationCondition, SolverStatus\n",
    "\n",
    "import pytest\n",
    "\n",
    "from idaes.core import FlowsheetBlock\n",
    "from idaes.generic_models.unit_models import Flash\n",
    "from idaes.generic_models.properties.core.generic.generic_property import (\n",
    "        GenericParameterBlock)\n",
    "\n",
    "from idaes.core.util.model_statistics import degrees_of_freedom"
   ]
  },
  {
   "cell_type": "code",
   "execution_count": 2,
   "id": "1ef588ff",
   "metadata": {},
   "outputs": [],
   "source": [
    "m1 = ConcreteModel()\n",
    "\n",
    "m1.fs = FlowsheetBlock(default={\"dynamic\": False})\n",
    "\n",
    "m1.fs.properties = GenericParameterBlock(default=configuration)\n",
    "\n",
    "m1.fs.F101 = Flash(default={\"property_package\": m1.fs.properties,\n",
    "                           \"has_heat_transfer\": True,\n",
    "                           \"has_pressure_change\": True})"
   ]
  },
  {
   "cell_type": "code",
   "execution_count": 3,
   "id": "f2eb5758",
   "metadata": {},
   "outputs": [],
   "source": [
    "data = pd.read_csv('R32_bmim_10_T.csv')\n",
    "data2 = pd.read_csv('R125_bmim_10_T.csv')"
   ]
  },
  {
   "cell_type": "code",
   "execution_count": 4,
   "id": "c0609a89",
   "metadata": {},
   "outputs": [],
   "source": [
    "solver = SolverFactory('ipopt')\n",
    "solver.options = {'tol': 1e-6}"
   ]
  },
  {
   "cell_type": "code",
   "execution_count": 5,
   "id": "4cc466ed",
   "metadata": {},
   "outputs": [
    {
     "name": "stdout",
     "output_type": "stream",
     "text": [
      "1\n",
      "2\n",
      "3\n",
      "5\n",
      "6\n",
      "7\n",
      "8\n",
      "9\n"
     ]
    }
   ],
   "source": [
    "# Make outlet arrays\n",
    "IL_x = np.zeros(len(data[\"1\"]))\n",
    "IL_y = np.zeros(len(data[\"1\"]))\n",
    "R32_x = np.zeros(len(data[\"1\"]))\n",
    "R32_y = np.zeros(len(data[\"1\"]))\n",
    "R125_x = np.zeros(len(data[\"1\"]))\n",
    "R125_y = np.zeros(len(data[\"1\"]))\n",
    "\n",
    "alpha1 = np.zeros(len(data[\"1\"]))\n",
    "\n",
    "m1.fs.F101.inlet.flow_mol.fix(10)\n",
    "m1.fs.F101.inlet.temperature.fix(298)\n",
    "m1.fs.F101.inlet.mole_frac_comp[0, \"bmimPF6\"].fix(0.5) \n",
    "m1.fs.F101.inlet.pressure.fix(100000)\n",
    "m1.fs.F101.vap_outlet.pressure.fix(100000)\n",
    "m1.fs.F101.vap_outlet.temperature.fix(298.15)\n",
    "\n",
    "for i in range(len(data[\"0\"])):\n",
    "    \n",
    "    m1.fs.properties.PR_kappa_A['R32', 'R125'].fix(0.009)\n",
    "    m1.fs.properties.PR_kappa_A['R125', 'R32'].fix(0.007)\n",
    "    m1.fs.properties.PR_kappa_A['R32', 'bmimPF6'].fix(data[\"1\"].iloc[i])\n",
    "    m1.fs.properties.PR_kappa_A['bmimPF6', 'R32'].fix(data[\"0\"].iloc[i])\n",
    "    m1.fs.properties.PR_kappa_B['R32', 'bmimPF6'].fix(data[\"3\"].iloc[i])\n",
    "    m1.fs.properties.PR_kappa_B['bmimPF6', 'R32'].fix(data[\"2\"].iloc[i])\n",
    "    m1.fs.properties.PR_kappa_A['bmimPF6', 'R125'].fix(data2[\"0\"].iloc[i])\n",
    "    m1.fs.properties.PR_kappa_A['R125', 'bmimPF6'].fix(data2[\"1\"].iloc[i])\n",
    "    m1.fs.properties.PR_kappa_B['bmimPF6', 'R125'].fix(data2[\"2\"].iloc[i])\n",
    "    m1.fs.properties.PR_kappa_B['R125', 'bmimPF6'].fix(data2[\"3\"].iloc[i])\n",
    "\n",
    "    m1.fs.F101.inlet.flow_mol.fix(10)\n",
    "    m1.fs.F101.inlet.temperature.fix(298)\n",
    "    m1.fs.F101.inlet.mole_frac_comp[0, \"bmimPF6\"].fix(0.7) \n",
    "    m1.fs.F101.inlet.mole_frac_comp[0, \"R32\"].fix(0.2) \n",
    "    m1.fs.F101.inlet.mole_frac_comp[0, \"R125\"].fix(0.1)\n",
    "\n",
    "    m1.fs.F101.inlet.pressure.fix(100000)\n",
    "\n",
    "    m1.fs.F101.vap_outlet.pressure.fix(100000)\n",
    "    m1.fs.F101.vap_outlet.temperature.fix(298.15)\n",
    "\n",
    "    try:\n",
    "        m1.fs.F101.initialize(outlvl=idaeslog.CRITICAL)              \n",
    "\n",
    "        # solve the model\n",
    "        status = solver.solve(m1, tee = False)\n",
    "\n",
    "        if (status.solver.status == SolverStatus.ok) and (status.solver.termination_condition == TerminationCondition.optimal):\n",
    "\n",
    "            IL_x[i] = value(m1.fs.F101.liq_outlet.mole_frac_comp[0, \"bmimPF6\"])\n",
    "            IL_y[i] = value(m1.fs.F101.vap_outlet.mole_frac_comp[0, \"bmimPF6\"])\n",
    "            R32_x[i] = value(m1.fs.F101.liq_outlet.mole_frac_comp[0, \"R32\"]) \n",
    "            R32_y[i] = value(m1.fs.F101.vap_outlet.mole_frac_comp[0, \"R32\"])\n",
    "            R125_x[i] = value(m1.fs.F101.liq_outlet.mole_frac_comp[0, \"R125\"])\n",
    "            R125_y[i] = value(m1.fs.F101.vap_outlet.mole_frac_comp[0, \"R125\"])\n",
    "\n",
    "            print(i)\n",
    "            \n",
    "            alpha1[i] = (R125_y[i]/R125_x[i])/(R32_y[i]/R32_x[i])\n",
    "\n",
    "    except ValueError:\n",
    "        alpha1[i] = 'NaN'\n",
    "       \n",
    "        \n",
    "results = pd.DataFrame(alpha1)\n",
    "results.to_csv('alpha1_10_T.csv')"
   ]
  },
  {
   "cell_type": "code",
   "execution_count": 6,
   "id": "7a4c1956",
   "metadata": {},
   "outputs": [
    {
     "name": "stdout",
     "output_type": "stream",
     "text": [
      "[       nan 3.10657255 2.81358322 2.00060676        nan 2.2287191\n",
      " 3.47353376 2.88654739 2.86422192 2.5447093 ]\n"
     ]
    }
   ],
   "source": [
    "print(alpha1)"
   ]
  },
  {
   "cell_type": "code",
   "execution_count": null,
   "id": "3f172e2f",
   "metadata": {},
   "outputs": [],
   "source": []
  }
 ],
 "metadata": {
  "kernelspec": {
   "display_name": "Python 3 (ipykernel)",
   "language": "python",
   "name": "python3"
  },
  "language_info": {
   "codemirror_mode": {
    "name": "ipython",
    "version": 3
   },
   "file_extension": ".py",
   "mimetype": "text/x-python",
   "name": "python",
   "nbconvert_exporter": "python",
   "pygments_lexer": "ipython3",
   "version": "3.9.6"
  }
 },
 "nbformat": 4,
 "nbformat_minor": 5
}
