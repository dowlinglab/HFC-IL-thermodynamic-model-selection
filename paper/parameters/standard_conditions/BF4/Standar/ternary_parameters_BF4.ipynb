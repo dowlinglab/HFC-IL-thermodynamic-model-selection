{
 "cells": [
  {
   "cell_type": "code",
   "execution_count": 1,
   "id": "2bcfec42",
   "metadata": {},
   "outputs": [],
   "source": [
    "# Import objects from pyomo package\n",
    "from pyomo.environ import (ConcreteModel,\n",
    "                           SolverFactory,\n",
    "                           Constraint,\n",
    "                           Expression,\n",
    "                           TransformationFactory,\n",
    "                           value,\n",
    "                           units as pyunits)\n",
    "\n",
    "# Import the main FlowsheetBlock from IDAES. The flowsheet block will contain the unit model\n",
    "from idaes.core import FlowsheetBlock\n",
    "\n",
    "# Import idaes logger to set output levels\n",
    "import idaes.logger as idaeslog\n",
    "\n",
    "from idaes.generic_models.properties.core.generic.generic_property import (\n",
    "        GenericParameterBlock)\n",
    "\n",
    "# Todo: import Flash unit model from idaes.generic_models.unit_models\n",
    "from idaes.generic_models.unit_models import Flash"
   ]
  },
  {
   "cell_type": "code",
   "execution_count": 2,
   "id": "6fc975da",
   "metadata": {},
   "outputs": [],
   "source": [
    "from idaes.core.util.model_statistics import degrees_of_freedom, large_residuals_set\n",
    "\n",
    "import pyomo.contrib.parmest.parmest as parmest"
   ]
  },
  {
   "cell_type": "code",
   "execution_count": 3,
   "id": "fac58032",
   "metadata": {},
   "outputs": [],
   "source": [
    "# Import plotting functions\n",
    "import matplotlib.pyplot as plt\n",
    "\n",
    "# Import numpy library \n",
    "import numpy as np\n",
    "\n",
    "# Import Pandas\n",
    "import pandas as pd"
   ]
  },
  {
   "cell_type": "code",
   "execution_count": 4,
   "id": "edf24dd3",
   "metadata": {},
   "outputs": [],
   "source": [
    "from HFCs_bmimBF4_PR import configuration\n",
    "\n",
    "# Load data from csv\n",
    "data = pd.read_csv('HFCSBF4_g.csv')\n",
    "\n",
    "solver = SolverFactory('ipopt')\n",
    "solver.options = {'tol': 1e-6}"
   ]
  },
  {
   "cell_type": "code",
   "execution_count": 5,
   "id": "f9d73ac8",
   "metadata": {},
   "outputs": [],
   "source": [
    "def PR_model(data):\n",
    "    \n",
    "    m = ConcreteModel()\n",
    "\n",
    "    m.fs = FlowsheetBlock(default={\"dynamic\": False})\n",
    "\n",
    "    m.fs.properties = GenericParameterBlock(default=configuration)\n",
    "\n",
    "    m.fs.state_block = m.fs.properties.state_block_class(\n",
    "        default={\"parameters\": m.fs.properties,\n",
    "                 \"defined_state\": True})\n",
    "\n",
    "    m.fs.state_block.flow_mol.fix(1)\n",
    "    m.fs.state_block.temperature.fix(298.15)\n",
    "    m.fs.state_block.pressure.fix(250000)\n",
    "    m.fs.state_block.mole_frac_comp[\"R32\"].fix(0.05)\n",
    "    m.fs.state_block.mole_frac_comp[\"R125\"].fix(0.05)\n",
    "    m.fs.state_block.mole_frac_comp[\"bmimBF4\"].fix(0.90)\n",
    "    \n",
    "    m.fs.properties.PR_kappa_A['R32', 'R125'].fix(0.009)\n",
    "    m.fs.properties.PR_kappa_A['R125', 'R32'].fix(0.007)\n",
    "    m.fs.properties.PR_kappa_A['R32', 'bmimBF4'].fix(-0.02825)\n",
    "    m.fs.properties.PR_kappa_A['bmimBF4', 'R32'].fix(-0.00684)\n",
    "    m.fs.properties.PR_kappa_A['bmimBF4', 'R125'].fix(0.57152)\n",
    "    m.fs.properties.PR_kappa_A['R125', 'bmimBF4'].fix(0.06453)\n",
    "    \n",
    "    # Initialize the flash unit\n",
    "    m.fs.state_block.initialize(outlvl=idaeslog.CRITICAL)\n",
    "\n",
    "    # Fix at actual temperature\n",
    "    m.fs.state_block.temperature.fix(float(data[\"temperature\"]))\n",
    "#     m.fs.state_block.pressure.fix(float(data[\"pressure\"]))\n",
    "    m.fs.state_block.pressure.unfix()\n",
    "    m.fs.state_block.mole_frac_comp[\"R125\"].unfix()\n",
    "    m.fs.state_block.mole_frac_comp[\"R32\"].unfix()\n",
    "    m.fs.state_block.mole_frac_comp[\"bmimBF4\"].unfix()\n",
    "#     m.fs.state_block.mole_frac_phase_comp['Vap', 'R32'].fix(float(data[\"y_R32\"]))\n",
    "#     m.fs.state_block.mole_frac_phase_comp['Vap', 'R125'].fix(float(data[\"y_R125\"]))   \n",
    "    m.fs.state_block.mole_frac_phase_comp['Liq', 'R32'].fix(float(data[\"x_R32\"]))\n",
    "    m.fs.state_block.mole_frac_phase_comp['Liq', 'R125'].fix(float(data[\"x_R125\"])) \n",
    "    m.fs.state_block.mole_frac_phase_comp['Liq', 'bmimBF4'].fix(float(data[\"x_IL\"])) \n",
    "    \n",
    "    # Set bounds on variables to be estimated\n",
    "    m.fs.properties.PR_kappa_A['R32', 'R125'].setlb(-3)\n",
    "    m.fs.properties.PR_kappa_A['R32', 'R125'].setub(3)\n",
    "\n",
    "    m.fs.properties.PR_kappa_A['R125', 'R32'].setlb(-3)\n",
    "    m.fs.properties.PR_kappa_A['R125', 'R32'].setub(3)\n",
    "\n",
    "    m.fs.properties.PR_kappa_A['R32', 'bmimBF4'].setlb(-3)\n",
    "    m.fs.properties.PR_kappa_A['R32', 'bmimBF4'].setub(3)\n",
    "\n",
    "    m.fs.properties.PR_kappa_A['bmimBF4', 'R32'].setlb(-3)\n",
    "    m.fs.properties.PR_kappa_A['bmimBF4', 'R32'].setub(3)\n",
    "    \n",
    "    m.fs.properties.PR_kappa_A['bmimBF4', 'R125'].setlb(-3)\n",
    "    m.fs.properties.PR_kappa_A['bmimBF4', 'R125'].setub(3)\n",
    "\n",
    "    m.fs.properties.PR_kappa_A['R125', 'bmimBF4'].setlb(-3)\n",
    "    m.fs.properties.PR_kappa_A['R125', 'bmimBF4'].setub(3)\n",
    "    \n",
    "    # Return initialized flash model\n",
    "    return m"
   ]
  },
  {
   "cell_type": "code",
   "execution_count": 6,
   "id": "b9b85cea",
   "metadata": {},
   "outputs": [
    {
     "name": "stdout",
     "output_type": "stream",
     "text": [
      "2022-03-07 13:24:06 [INFO] idaes.init.fs.state_block: Property package initialization: optimal - Optimal Solution Found.\n",
      "The initial DOF is 1\n"
     ]
    }
   ],
   "source": [
    "import pytest\n",
    "\n",
    "test_data = {\"temperature\": 298.15, \"pressure\": 250000, \"x_R32\":0.179, \"x_IL\":0.821,  \n",
    "             \"x_R125\":0.00001, \"y_R125\":0.00001, \"y_R32\":0.9999, \"y_IL\":0.0001}\n",
    "\n",
    "m = PR_model(test_data)\n",
    "\n",
    "DOF_initial = degrees_of_freedom(m)\n",
    "print(\"The initial DOF is {0}\".format(DOF_initial))\n"
   ]
  },
  {
   "cell_type": "code",
   "execution_count": 7,
   "id": "65a9683f",
   "metadata": {},
   "outputs": [],
   "source": [
    "variable_name = [\n",
    "#                 \"fs.properties.PR_kappa_A['R32', 'R125']\",\n",
    "#                 \"fs.properties.PR_kappa_A['R125', 'R32']\",\n",
    "                \"fs.properties.PR_kappa_A['R32', 'bmimBF4']\",\n",
    "                \"fs.properties.PR_kappa_A['bmimBF4', 'R32']\",\n",
    "                \"fs.properties.PR_kappa_A['bmimBF4', 'R125']\",\n",
    "                \"fs.properties.PR_kappa_A['R125', 'bmimBF4']\"]"
   ]
  },
  {
   "cell_type": "code",
   "execution_count": 8,
   "id": "f341c101",
   "metadata": {},
   "outputs": [],
   "source": [
    "def SSE(m, data):\n",
    "    expr = ((float(data[\"pressure\"]) - m.fs.state_block.pressure)**2)\n",
    "    return expr*1e-4\n",
    "\n",
    "# def SSE(m, data):\n",
    "#     expr = ((float(data[\"y_R125\"]) -\n",
    "#              m.fs.state_block.mole_frac_phase_comp[\"Vap\", \"R125\"])**2)\n"
   ]
  },
  {
   "cell_type": "code",
   "execution_count": 12,
   "id": "638d92d0",
   "metadata": {
    "scrolled": false
   },
   "outputs": [
    {
     "name": "stdout",
     "output_type": "stream",
     "text": [
      "2022-03-07 13:48:30 [INFO] idaes.init.fs.state_block: Property package initialization: optimal - Optimal Solution Found.\n",
      "2022-03-07 13:48:37 [INFO] idaes.init.fs.state_block: Property package initialization: optimal - Optimal Solution Found.\n",
      "2022-03-07 13:48:44 [INFO] idaes.init.fs.state_block: Property package initialization: optimal - Optimal Solution Found.\n",
      "Ipopt 3.13.2: \n",
      "\n",
      "******************************************************************************\n",
      "This program contains Ipopt, a library for large-scale nonlinear optimization.\n",
      " Ipopt is released as open source code under the Eclipse Public License (EPL).\n",
      "         For more information visit http://projects.coin-or.org/Ipopt\n",
      "\n",
      "This version of Ipopt was compiled from source code available at\n",
      "    https://github.com/IDAES/Ipopt as part of the Institute for the Design of\n",
      "    Advanced Energy Systems Process Systems Engineering Framework (IDAES PSE\n",
      "    Framework) Copyright (c) 2018-2019. See https://github.com/IDAES/idaes-pse.\n",
      "\n",
      "This version of Ipopt was compiled using HSL, a collection of Fortran codes\n",
      "    for large-scale scientific computation.  All technical papers, sales and\n",
      "    publicity material resulting from use of the HSL codes within IPOPT must\n",
      "    contain the following acknowledgement:\n",
      "        HSL, a collection of Fortran codes for large-scale scientific\n",
      "        computation. See http://www.hsl.rl.ac.uk.\n",
      "******************************************************************************\n",
      "\n",
      "This is Ipopt version 3.13.2, running with linear solver ma27.\n",
      "\n",
      "Number of nonzeros in equality constraint Jacobian...:      211\n",
      "Number of nonzeros in inequality constraint Jacobian.:        0\n",
      "Number of nonzeros in Lagrangian Hessian.............:      252\n",
      "\n",
      "Total number of variables............................:       60\n",
      "                     variables with only lower bounds:       15\n",
      "                variables with lower and upper bounds:       39\n",
      "                     variables with only upper bounds:        0\n",
      "Total number of equality constraints.................:       53\n",
      "Total number of inequality constraints...............:        0\n",
      "        inequality constraints with only lower bounds:        0\n",
      "   inequality constraints with lower and upper bounds:        0\n",
      "        inequality constraints with only upper bounds:        0\n",
      "\n",
      "iter    objective    inf_pr   inf_du lg(mu)  ||d||  lg(rg) alpha_du alpha_pr  ls\n",
      "   0  0.0000000e+00 1.06e+00 9.10e-15  -1.0 0.00e+00    -  0.00e+00 0.00e+00   0\n",
      "   1  1.0373972e+02 9.92e-01 1.38e+03  -1.0 2.11e+04    -  4.45e-02 6.84e-02h  1\n",
      "   2  1.0373999e+02 9.92e-01 1.02e+03  -1.0 3.09e+02   2.0 1.15e-04 1.15e-04s  9\n",
      "   3r 1.0373999e+02 9.92e-01 9.99e+02  -0.0 0.00e+00   1.5 0.00e+00 0.00e+00R  1\n",
      "   4r 1.0373820e+02 6.38e-01 9.98e+02  -0.0 8.18e+02    -  1.84e-03 1.19e-03f  1\n",
      "   5  9.9982364e+01 6.47e-01 2.13e+02  -1.0 1.41e+03    -  4.72e-02 1.26e-02F  1\n",
      "   6  9.6608000e+01 6.48e-01 2.28e+02  -1.0 4.94e+02    -  4.10e-02 2.87e-04H  1\n",
      "   7  1.4435358e+02 5.60e-01 2.29e+03  -1.0 2.49e+03    -  2.25e-01 1.24e-01h  4\n",
      "   8  8.9853559e+01 5.93e-01 4.19e+03  -1.0 9.92e+02    -  1.39e-01 1.34e-01H  1\n",
      "   9  7.7091723e+01 5.84e-01 4.18e+03  -1.0 6.57e+03    -  4.96e-01 1.51e-02f  1\n",
      "iter    objective    inf_pr   inf_du lg(mu)  ||d||  lg(rg) alpha_du alpha_pr  ls\n",
      "  10  5.5744550e+00 4.14e-01 1.28e+04  -1.0 6.31e+03    -  9.87e-04 2.48e-01f  3\n",
      "  11  2.0622727e+02 2.98e-01 2.43e+04  -1.0 1.69e+03    -  2.37e-02 9.90e-01h  1\n",
      "  12  1.2868655e+02 4.84e-02 6.84e+03  -1.0 5.01e+02    -  9.88e-01 9.90e-01f  1\n",
      "  13  7.2466118e+01 1.27e-01 2.76e+04  -1.0 1.28e+03    -  4.50e-01 3.09e-01f  2\n",
      "  14  1.5870598e+00 4.44e-01 1.40e+05  -1.0 1.02e+03    -  4.96e-01 1.00e+00f  1\n",
      "  15  6.4486820e-03 9.85e-01 3.78e+06  -1.0 1.72e+02    -  5.92e-01 9.78e-01f  1\n",
      "  16  4.0890434e-03 8.93e-01 3.72e+06  -1.0 2.04e+02    -  2.40e-02 1.52e-01f  2\n",
      "  17  4.0890124e-03 4.58e-01 3.89e+04  -1.0 6.60e-02   1.0 9.90e-01 1.00e+00h  1\n",
      "  18  1.1170320e-03 6.51e-02 8.48e+03  -1.0 1.73e+01    -  7.82e-01 1.00e+00h  1\n",
      "  19  5.7570665e-05 3.30e-01 6.16e+03  -1.0 2.94e+01    -  2.73e-01 1.00e+00F  1\n",
      "iter    objective    inf_pr   inf_du lg(mu)  ||d||  lg(rg) alpha_du alpha_pr  ls\n",
      "  20  4.8484224e-07 9.24e-01 5.65e+01  -1.0 3.23e+01    -  9.91e-01 1.00e+00h  1\n",
      "  21  1.1253226e-06 7.44e-02 5.91e+05  -1.7 1.78e+01    -  9.26e-01 1.00e+00h  1\n",
      "  22  1.5223157e-06 1.58e-02 1.63e-03  -1.7 3.66e+00    -  1.00e+00 1.00e+00h  1\n",
      "  23  7.8191246e-12 1.25e-05 5.08e+02  -3.8 2.61e-01    -  1.00e+00 1.00e+00h  1\n",
      "  24  8.3442697e-11 8.20e-04 1.93e-05  -3.8 6.20e-01    -  1.00e+00 1.00e+00h  1\n",
      "  25  1.2041531e-14 4.51e-08 5.99e-08  -5.7 1.35e-02    -  1.00e+00 1.00e+00h  1\n",
      "  26  2.3354703e-20 1.93e-11 1.81e-11  -8.6 8.57e-05    -  1.00e+00 1.00e+00h  1\n",
      "\n",
      "Number of Iterations....: 26\n",
      "\n",
      "                                   (scaled)                 (unscaled)\n",
      "Objective...............:   2.3354703000442896e-20    2.3354703000442896e-20\n",
      "Dual infeasibility......:   1.8102552816708138e-11    1.8102552816708138e-11\n",
      "Constraint violation....:   1.9313883825589073e-11    1.9313883825589073e-11\n",
      "Complementarity.........:   2.5127811410115710e-09    2.5127811410115710e-09\n",
      "Overall NLP error.......:   2.5127811410115710e-09    2.5127811410115710e-09\n",
      "\n",
      "\n",
      "Number of objective function evaluations             = 53\n",
      "Number of objective gradient evaluations             = 27\n",
      "Number of equality constraint evaluations            = 53\n",
      "Number of inequality constraint evaluations          = 0\n",
      "Number of equality constraint Jacobian evaluations   = 28\n",
      "Number of inequality constraint Jacobian evaluations = 0\n",
      "Number of Lagrangian Hessian evaluations             = 26\n",
      "Total CPU secs in IPOPT (w/o function evaluations)   =      0.051\n",
      "Total CPU secs in NLP function evaluations           =      0.661\n",
      "\n",
      "EXIT: Optimal Solution Found.\n"
     ]
    }
   ],
   "source": [
    "pest = parmest.Estimator(PR_model, data, variable_name, SSE, tee = True)\n",
    "\n",
    "obj_value, parameters = pest.theta_est()"
   ]
  },
  {
   "cell_type": "code",
   "execution_count": 10,
   "id": "ef1fc884",
   "metadata": {},
   "outputs": [
    {
     "name": "stdout",
     "output_type": "stream",
     "text": [
      "The SSE at the optimal solution is 0.000000\n",
      "\n",
      "The values for the parameters are as follows:\n",
      "fs.properties.PR_kappa_A[R32,bmimBF4] = -0.026627816488320015\n",
      "fs.properties.PR_kappa_A[bmimBF4,R32] = -0.34866830317346215\n",
      "fs.properties.PR_kappa_A[bmimBF4,R125] = 1.0660831881135944\n",
      "fs.properties.PR_kappa_A[R125,bmimBF4] = 0.06037071677474136\n"
     ]
    }
   ],
   "source": [
    "print(\"The SSE at the optimal solution is %0.6f\" % obj_value)\n",
    "print()\n",
    "print(\"The values for the parameters are as follows:\")\n",
    "for k,v in parameters.items():\n",
    "    print(k, \"=\", v)"
   ]
  },
  {
   "cell_type": "code",
   "execution_count": 11,
   "id": "d2d9572f",
   "metadata": {},
   "outputs": [
    {
     "name": "stdout",
     "output_type": "stream",
     "text": [
      "ComponentSet([])\n"
     ]
    }
   ],
   "source": [
    "print(large_residuals_set(pest.ef_instance))"
   ]
  },
  {
   "cell_type": "code",
   "execution_count": null,
   "id": "98cacd2a",
   "metadata": {},
   "outputs": [],
   "source": []
  }
 ],
 "metadata": {
  "kernelspec": {
   "display_name": "Python 3 (ipykernel)",
   "language": "python",
   "name": "python3"
  },
  "language_info": {
   "codemirror_mode": {
    "name": "ipython",
    "version": 3
   },
   "file_extension": ".py",
   "mimetype": "text/x-python",
   "name": "python",
   "nbconvert_exporter": "python",
   "pygments_lexer": "ipython3",
   "version": "3.9.7"
  }
 },
 "nbformat": 4,
 "nbformat_minor": 5
}
