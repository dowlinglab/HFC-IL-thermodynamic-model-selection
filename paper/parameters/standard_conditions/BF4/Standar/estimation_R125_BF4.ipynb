{
 "cells": [
  {
   "cell_type": "code",
   "execution_count": 1,
   "metadata": {},
   "outputs": [],
   "source": [
    "from binary_param import linear, constant\n",
    "import pandas as pd\n",
    "from R125_bmimBF4_PR import configuration"
   ]
  },
  {
   "cell_type": "code",
   "execution_count": 2,
   "metadata": {},
   "outputs": [],
   "source": [
    "data = pd.read_csv('R125_bmimBF4.csv')"
   ]
  },
  {
   "cell_type": "code",
   "execution_count": 3,
   "metadata": {
    "scrolled": false
   },
   "outputs": [
    {
     "name": "stdout",
     "output_type": "stream",
     "text": [
      "2022-01-26 11:32:32 [INFO] idaes.init.fs.state_block: Property package initialization: optimal - Optimal Solution Found.\n",
      "2022-01-26 11:32:32 [INFO] idaes.init.fs.state_block: Property package initialization: optimal - Optimal Solution Found.\n",
      "2022-01-26 11:32:33 [INFO] idaes.init.fs.state_block: Property package initialization: optimal - Optimal Solution Found.\n",
      "2022-01-26 11:32:34 [INFO] idaes.init.fs.state_block: Property package initialization: optimal - Optimal Solution Found.\n",
      "2022-01-26 11:32:35 [INFO] idaes.init.fs.state_block: Property package initialization: optimal - Optimal Solution Found.\n",
      "2022-01-26 11:32:36 [INFO] idaes.init.fs.state_block: Property package initialization: optimal - Optimal Solution Found.\n",
      "2022-01-26 11:32:37 [INFO] idaes.init.fs.state_block: Property package initialization: infeasible - Converged to a locally infeasible point. Problem may be infeasible..\n",
      "Ipopt 3.13.2: \n",
      "\n",
      "******************************************************************************\n",
      "This program contains Ipopt, a library for large-scale nonlinear optimization.\n",
      " Ipopt is released as open source code under the Eclipse Public License (EPL).\n",
      "         For more information visit http://projects.coin-or.org/Ipopt\n",
      "\n",
      "This version of Ipopt was compiled from source code available at\n",
      "    https://github.com/IDAES/Ipopt as part of the Institute for the Design of\n",
      "    Advanced Energy Systems Process Systems Engineering Framework (IDAES PSE\n",
      "    Framework) Copyright (c) 2018-2019. See https://github.com/IDAES/idaes-pse.\n",
      "\n",
      "This version of Ipopt was compiled using HSL, a collection of Fortran codes\n",
      "    for large-scale scientific computation.  All technical papers, sales and\n",
      "    publicity material resulting from use of the HSL codes within IPOPT must\n",
      "    contain the following acknowledgement:\n",
      "        HSL, a collection of Fortran codes for large-scale scientific\n",
      "        computation. See http://www.hsl.rl.ac.uk.\n",
      "******************************************************************************\n",
      "\n",
      "This is Ipopt version 3.13.2, running with linear solver ma27.\n",
      "\n",
      "Number of nonzeros in equality constraint Jacobian...:      234\n",
      "Number of nonzeros in inequality constraint Jacobian.:        0\n",
      "Number of nonzeros in Lagrangian Hessian.............:      238\n",
      "\n",
      "Total number of variables............................:       98\n",
      "                     variables with only lower bounds:       42\n",
      "                variables with lower and upper bounds:       42\n",
      "                     variables with only upper bounds:        0\n",
      "Total number of equality constraints.................:       96\n",
      "Total number of inequality constraints...............:        0\n",
      "        inequality constraints with only lower bounds:        0\n",
      "   inequality constraints with lower and upper bounds:        0\n",
      "        inequality constraints with only upper bounds:        0\n",
      "\n",
      "iter    objective    inf_pr   inf_du lg(mu)  ||d||  lg(rg) alpha_du alpha_pr  ls\n",
      "   0  0.0000000e+00 4.90e+00 4.44e-16  -1.0 0.00e+00    -  0.00e+00 0.00e+00   0\n",
      "   1  9.0059922e-01 9.71e-02 1.13e+03  -1.0 4.68e+04    -  1.36e-01 9.90e-01h  1\n",
      "   2  8.7380989e-01 2.27e-02 3.99e+02  -1.0 2.36e+03    -  6.14e-01 9.90e-01h  1\n",
      "   3  8.7164703e-01 6.82e-04 1.38e+03  -1.0 1.06e+02    -  9.87e-01 1.00e+00h  1\n",
      "   4  8.4494652e-01 1.12e-04 1.17e+05  -1.0 1.77e+03    -  9.88e-01 1.00e+00f  1\n",
      "   5  5.3946411e-01 3.87e-03 1.21e+04  -1.0 1.85e+04    -  8.96e-01 1.00e+00f  1\n",
      "   6  4.9881826e-01 1.69e-03 1.24e+02  -1.0 1.33e+04    -  9.90e-01 1.00e+00f  1\n",
      "   7  4.9099267e-01 1.40e-04 6.29e+04  -3.8 5.38e+03    -  9.94e-01 1.00e+00h  1\n",
      "   8  4.9089706e-01 2.00e-06 5.65e-03  -3.8 5.74e+02    -  1.00e+00 1.00e+00h  1\n",
      "   9  4.9089552e-01 3.28e-10 1.17e-05  -5.7 1.39e+01    -  1.00e+00 1.00e+00h  1\n",
      "iter    objective    inf_pr   inf_du lg(mu)  ||d||  lg(rg) alpha_du alpha_pr  ls\n",
      "  10  4.9089552e-01 4.16e-12 5.47e-10  -8.6 9.45e-02    -  1.00e+00 1.00e+00h  1\n",
      "\n",
      "Number of Iterations....: 10\n",
      "\n",
      "                                   (scaled)                 (unscaled)\n",
      "Objective...............:   4.9089551944949977e-01    4.9089551944949977e-01\n",
      "Dual infeasibility......:   5.4711341013202741e-10    5.4711341013202741e-10\n",
      "Constraint violation....:   4.1557868257768860e-12    4.1557868257768860e-12\n",
      "Complementarity.........:   2.5088829514397139e-09    2.5088829514397139e-09\n",
      "Overall NLP error.......:   2.5088829514397139e-09    2.5088829514397139e-09\n",
      "\n",
      "\n",
      "Number of objective function evaluations             = 11\n",
      "Number of objective gradient evaluations             = 11\n",
      "Number of equality constraint evaluations            = 11\n",
      "Number of inequality constraint evaluations          = 0\n",
      "Number of equality constraint Jacobian evaluations   = 11\n",
      "Number of inequality constraint Jacobian evaluations = 0\n",
      "Number of Lagrangian Hessian evaluations             = 10\n",
      "Total CPU secs in IPOPT (w/o function evaluations)   =      0.016\n",
      "Total CPU secs in NLP function evaluations           =      0.031\n",
      "\n",
      "EXIT: Optimal Solution Found.\n",
      "The SSE at the optimal solution is 0.490896\n",
      "\n",
      "The values for the parameters are as follows:\n",
      "fs.properties.PR_kappa_A[bmimBF4,R125] = 0.5715251162644293\n",
      "fs.properties.PR_kappa_A[R125,bmimBF4] = 0.06453449371451071\n"
     ]
    }
   ],
   "source": [
    "constant(data, configuration, 'R125', 'bmimBF4', \"x_R125\", \"x_bmimBF4\", \n",
    "    init_temp =  298, init_press = 400000 , init_x_c1 = 0.101, init_x_c2 = 0.899,\n",
    "    init_kappa_2_1A = 0.5, init_kappa_1_2A = 0.05,\n",
    "    eps = 0.1, scaling_fac = 1e-9)"
   ]
  },
  {
   "cell_type": "code",
   "execution_count": null,
   "metadata": {},
   "outputs": [],
   "source": []
  }
 ],
 "metadata": {
  "kernelspec": {
   "display_name": "Python 3 (ipykernel)",
   "language": "python",
   "name": "python3"
  },
  "language_info": {
   "codemirror_mode": {
    "name": "ipython",
    "version": 3
   },
   "file_extension": ".py",
   "mimetype": "text/x-python",
   "name": "python",
   "nbconvert_exporter": "python",
   "pygments_lexer": "ipython3",
   "version": "3.9.7"
  }
 },
 "nbformat": 4,
 "nbformat_minor": 4
}
