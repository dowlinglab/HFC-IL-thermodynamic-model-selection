{
 "cells": [
  {
   "cell_type": "code",
   "execution_count": 1,
   "id": "significant-programming",
   "metadata": {},
   "outputs": [],
   "source": [
    "from pyomo.environ import (Constraint,\n",
    "                           Var,\n",
    "                           ConcreteModel,\n",
    "                           Expression,\n",
    "                           Param,\n",
    "                           Objective,\n",
    "                           SolverFactory,\n",
    "                           TransformationFactory,\n",
    "                           value)\n",
    "\n",
    "from pyomo.network import Arc, SequentialDecomposition\n",
    "\n",
    "from idaes.core.util.initialization import propagate_state\n",
    "\n",
    "# Import plotting functions\n",
    "import matplotlib.pyplot as plt\n",
    "\n",
    "# Import numpy library \n",
    "import numpy as np\n",
    "\n",
    "import pandas as pd\n",
    "\n",
    "# Import the main FlowsheetBlock from IDAES. The flowsheet block will contain the unit model\n",
    "from idaes.core import FlowsheetBlock\n",
    "\n",
    "import idaes.logger as idaeslog\n",
    "from pyomo.opt import TerminationCondition, SolverStatus\n",
    "\n",
    "# Import the degrees_of_freedom function from the idaes.core.util.model_statistics package\n",
    "# DOF = Number of Model Variables - Number of Model Constraints\n",
    "from idaes.core.util.model_statistics import degrees_of_freedom\n",
    "\n",
    "# Import the Generic Parameter Block\n",
    "from idaes.generic_models.properties.core.generic.generic_property import (\n",
    "        GenericParameterBlock)\n",
    "\n",
    "# Import unit models from the model library\n",
    "from idaes.generic_models.unit_models import Flash"
   ]
  },
  {
   "cell_type": "code",
   "execution_count": 2,
   "id": "incomplete-infection",
   "metadata": {},
   "outputs": [],
   "source": [
    "from R125_bmimBF4_PR import configuration\n",
    "data = pd.read_csv('R125_bmimBF4.csv')\n",
    "\n",
    "solver = SolverFactory('ipopt')\n",
    "solver.options = {'tol': 1e-6}"
   ]
  },
  {
   "cell_type": "code",
   "execution_count": 3,
   "id": "developed-riverside",
   "metadata": {},
   "outputs": [],
   "source": [
    "m = ConcreteModel()\n",
    "\n",
    "m.fs = FlowsheetBlock(default={\"dynamic\": False})\n",
    "\n",
    "m.fs.properties = GenericParameterBlock(default=configuration)\n",
    "\n",
    "m.fs.F101 = Flash(default={\"property_package\": m.fs.properties,\n",
    "                           \"has_heat_transfer\": True,\n",
    "                           \"has_pressure_change\": True})\n",
    "\n",
    "m.fs.F101.inlet.flow_mol.fix(1)\n",
    "m.fs.F101.inlet.temperature.fix(323.15)\n",
    "m.fs.F101.inlet.pressure.fix(399800)\n",
    "m.fs.F101.inlet.mole_frac_comp[0,'R125'].fix(0.5)\n",
    "\n",
    "m.fs.properties.PR_kappa_A['bmimBF4', 'R125'].fix(0.57152)\n",
    "m.fs.properties.PR_kappa_A['R125', 'bmimBF4'].fix(0.06453)\n",
    "m.fs.properties.PR_kappa_B['bmimBF4', 'R125'].fix(0.0)\n",
    "m.fs.properties.PR_kappa_B['R125', 'bmimBF4'].fix(0.0)\n",
    "\n",
    "# Initialize the flash unit\n",
    "# m.fs.F101.initialize(outlvl=idaeslog.CRITICAL)\n",
    "\n",
    "# Fix the state variables on the state block\n",
    "# m.fs.F101.inlet.pressure.unfix()\n",
    "m.fs.F101.inlet.mole_frac_comp[0,'bmimBF4'].unfix()\n",
    "\n"
   ]
  },
  {
   "cell_type": "code",
   "execution_count": 4,
   "id": "13cac84f",
   "metadata": {
    "scrolled": false
   },
   "outputs": [
    {
     "name": "stdout",
     "output_type": "stream",
     "text": [
      "0\n",
      "0.378\n",
      "994704.8348184802\n",
      "1\n",
      "0.3368888888888889\n",
      "940812.8996776455\n",
      "2\n",
      "0.2957777777777778\n",
      "874421.0352903419\n",
      "3\n",
      "0.2546666666666667\n",
      "795529.2416565691\n",
      "4\n",
      "0.2135555555555555\n",
      "704137.5187763269\n",
      "5\n",
      "0.1724444444444444\n",
      "600245.8666496157\n",
      "6\n",
      "0.1313333333333333\n",
      "483854.2852764355\n",
      "7\n",
      "0.0902222222222222\n",
      "354962.7746567861\n",
      "8\n",
      "0.049111111111111105\n",
      "213571.33479066766\n",
      "9\n",
      "0.008000000000000007\n",
      "59679.96567808003\n"
     ]
    }
   ],
   "source": [
    "bmim = np.linspace(data[\"x_bmimBF4\"].iloc[6], data[\"x_bmimBF4\"].iloc[0], 10)\n",
    "\n",
    "P = np.zeros((len(bmim)))\n",
    "P0 = np.zeros((len(bmim)))\n",
    "R125_x1 = np.zeros((len(bmim)))\n",
    "m.fs.liq = Param(mutable=True,default=0.040)\n",
    "m.fs.liquid = Constraint(expr=m.fs.F101.liq_outlet.mole_frac_comp[0, \"bmimBF4\"] == m.fs.liq)\n",
    "\n",
    "for i in range(len(bmim)):\n",
    "    print(i)\n",
    "    m.fs.liq = bmim[i]\n",
    "    a = bmim[i]\n",
    "    b = 1-(bmim[i])\n",
    "    print(b)\n",
    "    P0[i] = -3697933.78*b**2 + 3954496.68*b + 28280.66\n",
    "\n",
    "    print(P0[i])\n",
    "\n",
    "    m.fs.F101.inlet.temperature.fix(298.15)\n",
    "    m.fs.F101.inlet.pressure.fix(P0[i])\n",
    "    m.fs.F101.inlet.mole_frac_comp[0,'R125'].fix(1-(bmim[i]-0.1))\n",
    "    m.fs.F101.inlet.mole_frac_comp[0,'bmimBF4'].fix(bmim[i]-0.1)\n",
    "    m.fs.F101.vap_outlet.temperature.fix(298.15)\n",
    "    m.fs.F101.vap_outlet.pressure.fix(P0[i])\n",
    "    m.fs.F101.vap_outlet.pressure.unfix()\n",
    "    \n",
    "    m.fs.F101.initialize(outlvl=idaeslog.CRITICAL)\n",
    "    \n",
    "    try:\n",
    "        m.fs.F101.initialize(outlvl=idaeslog.CRITICAL)\n",
    "\n",
    "        status = solver.solve(m, tee = False)\n",
    "\n",
    "        if (status.solver.status == SolverStatus.ok) and (status.solver.termination_condition == TerminationCondition.optimal):\n",
    "\n",
    "            R125_x1[i] = value(m.fs.F101.liq_outlet.mole_frac_comp[0,'R125']) \n",
    "            P[i] = value(m.fs.F101.vap_outlet.pressure[0])\n",
    "\n",
    "        else:\n",
    "            print('Infeasible.')\n",
    "            \n",
    "    except ValueError:\n",
    "        \n",
    "            R125_x1[i] = \"NaN\"\n",
    "            P[i] = \"NaN\"\n",
    "\n"
   ]
  },
  {
   "cell_type": "code",
   "execution_count": 5,
   "id": "demographic-brush",
   "metadata": {},
   "outputs": [
    {
     "data": {
      "image/png": "[encoded data removed]",
      "text/plain": [
       "<Figure size 432x288 with 1 Axes>"
      ]
     },
     "metadata": {
      "needs_background": "light"
     },
     "output_type": "display_data"
    }
   ],
   "source": [
    "# for i in range(len(P)):\n",
    "#     P[i] = P[i]*1e6\n",
    "P1= np.zeros((len(P)))\n",
    "\n",
    "for i in range(len(P)):\n",
    "    P1[i] = P[i]/1e6\n",
    "\n",
    "    \n",
    "plt.plot(R125_x1,P1,\"-\",label=\"Calc 298 K\")  \n",
    "plt.plot(data[\"x_R125\"][0:8],data[\"pressure\"][0:8]/1e6,\"*\",color='b',label=\"Data 298 K\")  \n",
    "plt.title('Isotherm R125-[bmim][PF6]',fontsize=20)\n",
    "plt.ylabel('Pressure [MPa]',fontsize=20)\n",
    "plt.xlabel('x R125 [mole/mole]',fontsize=20)\n",
    "plt.xticks(fontsize=16)\n",
    "plt.yticks(fontsize=16)\n",
    "plt.grid(True)\n",
    "# plt.ylim(0,1.110000)\n",
    "plt.xlim(0,0.5)\n",
    "plt.legend(fontsize=10)\n",
    "# plt.savefig('Isotherm R125-[bmim][PF6]_bin_noT.png', bbox_inches='tight',dpi=300)\n",
    "plt.show()\n"
   ]
  },
  {
   "cell_type": "code",
   "execution_count": 6,
   "id": "db900c09",
   "metadata": {},
   "outputs": [],
   "source": [
    "df = pd.DataFrame(P)\n",
    "# df.to_csv('P_cons_125.csv')\n",
    "# df.to_csv('P_lin_125.csv')\n",
    "# df.to_csv('P_ter_125.csv')"
   ]
  },
  {
   "cell_type": "code",
   "execution_count": 7,
   "id": "e2e2a001",
   "metadata": {
    "scrolled": false
   },
   "outputs": [
    {
     "name": "stdout",
     "output_type": "stream",
     "text": [
      "[984244.76236286 946251.77435139 889077.36188779 812976.04803183\n",
      " 718834.75250148 608007.95630637 482143.21512302 343026.09580117\n",
      " 192459.33958532  32178.59394527]\n"
     ]
    }
   ],
   "source": [
    "print(P)"
   ]
  },
  {
   "cell_type": "code",
   "execution_count": 8,
   "id": "3597064b",
   "metadata": {},
   "outputs": [
    {
     "name": "stdout",
     "output_type": "stream",
     "text": [
      "\n",
      "====================================================================================\n",
      "Unit : fs.F101                                                             Time: 0.0\n",
      "------------------------------------------------------------------------------------\n",
      "    Unit Performance\n",
      "\n",
      "    Variables: \n",
      "\n",
      "    Key             : Value   : Fixed : Bounds\n",
      "          Heat Duty :  29.405 : False : (None, None)\n",
      "    Pressure Change : -27501. : False : (None, None)\n",
      "\n",
      "------------------------------------------------------------------------------------\n",
      "    Stream Table\n",
      "                             Inlet  Vapor Outlet  Liquid Outlet\n",
      "    flow_mol                1.0000      0.10081      0.89919   \n",
      "    mole_frac_comp bmimBF4 0.89200   1.0000e-08      0.99200   \n",
      "    mole_frac_comp R125    0.10800       1.0000    0.0080000   \n",
      "    temperature             298.15       298.15       298.15   \n",
      "    pressure                59680.       32179.       32179.   \n",
      "====================================================================================\n"
     ]
    }
   ],
   "source": [
    "m.fs.F101.report()"
   ]
  },
  {
   "cell_type": "code",
   "execution_count": null,
   "id": "5909af1b",
   "metadata": {},
   "outputs": [],
   "source": []
  }
 ],
 "metadata": {
  "kernelspec": {
   "display_name": "Python 3 (ipykernel)",
   "language": "python",
   "name": "python3"
  },
  "language_info": {
   "codemirror_mode": {
    "name": "ipython",
    "version": 3
   },
   "file_extension": ".py",
   "mimetype": "text/x-python",
   "name": "python",
   "nbconvert_exporter": "python",
   "pygments_lexer": "ipython3",
   "version": "3.9.6"
  }
 },
 "nbformat": 4,
 "nbformat_minor": 5
}
