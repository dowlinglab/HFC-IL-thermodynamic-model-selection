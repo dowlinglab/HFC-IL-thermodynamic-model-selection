{
 "cells": [
  {
   "cell_type": "code",
   "execution_count": 1,
   "metadata": {},
   "outputs": [],
   "source": [
    "from binary_param import linear, constant\n",
    "import pandas as pd\n",
    "from R125_bmimBF4_PR import configuration"
   ]
  },
  {
   "cell_type": "code",
   "execution_count": 2,
   "metadata": {},
   "outputs": [],
   "source": [
    "data = pd.read_csv('R125_bmimBF4.csv')"
   ]
  },
  {
   "cell_type": "code",
   "execution_count": 3,
   "metadata": {
    "scrolled": false
   },
   "outputs": [
    {
     "name": "stdout",
     "output_type": "stream",
     "text": [
      "2022-01-26 15:42:25 [INFO] idaes.init.fs.state_block: Property package initialization: optimal - Optimal Solution Found.\n",
      "2022-01-26 15:42:26 [INFO] idaes.init.fs.state_block: Property package initialization: optimal - Optimal Solution Found.\n",
      "2022-01-26 15:42:28 [INFO] idaes.init.fs.state_block: Property package initialization: optimal - Optimal Solution Found.\n",
      "2022-01-26 15:42:29 [INFO] idaes.init.fs.state_block: Property package initialization: optimal - Optimal Solution Found.\n",
      "2022-01-26 15:42:30 [INFO] idaes.init.fs.state_block: Property package initialization: optimal - Optimal Solution Found.\n",
      "2022-01-26 15:42:31 [INFO] idaes.init.fs.state_block: Property package initialization: infeasible - Converged to a locally infeasible point. Problem may be infeasible..\n",
      "2022-01-26 15:42:32 [INFO] idaes.init.fs.state_block: Property package initialization: infeasible - Converged to a locally infeasible point. Problem may be infeasible..\n",
      "Ipopt 3.13.2: \n",
      "\n",
      "******************************************************************************\n",
      "This program contains Ipopt, a library for large-scale nonlinear optimization.\n",
      " Ipopt is released as open source code under the Eclipse Public License (EPL).\n",
      "         For more information visit http://projects.coin-or.org/Ipopt\n",
      "\n",
      "This version of Ipopt was compiled from source code available at\n",
      "    https://github.com/IDAES/Ipopt as part of the Institute for the Design of\n",
      "    Advanced Energy Systems Process Systems Engineering Framework (IDAES PSE\n",
      "    Framework) Copyright (c) 2018-2019. See https://github.com/IDAES/idaes-pse.\n",
      "\n",
      "This version of Ipopt was compiled using HSL, a collection of Fortran codes\n",
      "    for large-scale scientific computation.  All technical papers, sales and\n",
      "    publicity material resulting from use of the HSL codes within IPOPT must\n",
      "    contain the following acknowledgement:\n",
      "        HSL, a collection of Fortran codes for large-scale scientific\n",
      "        computation. See http://www.hsl.rl.ac.uk.\n",
      "******************************************************************************\n",
      "\n",
      "This is Ipopt version 3.13.2, running with linear solver ma27.\n",
      "\n",
      "Number of nonzeros in equality constraint Jacobian...:      234\n",
      "Number of nonzeros in inequality constraint Jacobian.:        0\n",
      "Number of nonzeros in Lagrangian Hessian.............:      238\n",
      "\n",
      "Total number of variables............................:       98\n",
      "                     variables with only lower bounds:       42\n",
      "                variables with lower and upper bounds:       42\n",
      "                     variables with only upper bounds:        0\n",
      "Total number of equality constraints.................:       96\n",
      "Total number of inequality constraints...............:        0\n",
      "        inequality constraints with only lower bounds:        0\n",
      "   inequality constraints with lower and upper bounds:        0\n",
      "        inequality constraints with only upper bounds:        0\n",
      "\n",
      "iter    objective    inf_pr   inf_du lg(mu)  ||d||  lg(rg) alpha_du alpha_pr  ls\n",
      "   0  0.0000000e+00 3.29e+00 2.84e-14  -1.0 0.00e+00    -  0.00e+00 0.00e+00   0\n",
      "   1  2.3453351e+00 1.66e+00 2.44e+05  -1.0 3.36e+05    -  4.19e-02 3.13e-01h  1\n",
      "   2  8.3963662e-01 1.28e+00 2.87e+05  -1.0 4.41e+05    -  9.79e-03 2.14e-01f  3\n",
      "   3  1.0293325e+00 9.59e-01 2.10e+05  -1.0 1.73e+05    -  7.32e-01 2.48e-01h  3\n",
      "   4  1.1374974e+00 8.99e-01 1.97e+05  -1.0 1.40e+05    -  8.47e-01 6.19e-02h  5\n",
      "   5  1.0663744e+00 8.44e-01 1.85e+05  -1.0 2.52e+05    -  9.34e-01 6.19e-02h  5\n",
      "   6  3.4966202e+01 4.95e-01 1.14e+05  -1.0 6.42e+05    -  9.89e-01 4.95e-01h  2\n",
      "   7  3.4947677e+01 7.09e-01 9.41e+04  -1.0 4.38e+03  -4.0 5.51e-01 2.48e-01h  3\n",
      "   8  3.4997347e+01 1.62e-01 2.13e+05  -1.0 3.71e+03  -4.5 9.78e-01 9.90e-01h  1\n",
      "   9  3.5002670e+01 5.55e-03 3.44e+03  -1.0 9.66e+02  -5.0 9.90e-01 9.90e-01h  1\n",
      "iter    objective    inf_pr   inf_du lg(mu)  ||d||  lg(rg) alpha_du alpha_pr  ls\n",
      "  10  3.4997434e+01 4.80e-05 5.34e+03  -1.0 3.17e+01  -5.4 1.00e+00 9.92e-01h  1\n",
      "  11  4.5409079e-01 1.32e-01 1.72e+00  -1.0 3.01e+05    -  1.00e+00 1.00e+00f  1\n",
      "  12  4.7494279e-01 7.50e-04 8.93e-02  -2.5 8.97e+03    -  1.00e+00 1.00e+00h  1\n",
      "  13  4.7439557e-01 2.67e-06 4.87e+02  -5.7 7.31e+02    -  9.98e-01 1.00e+00h  1\n",
      "  14  4.7438788e-01 1.46e-12 1.01e-10  -5.7 7.27e-01    -  1.00e+00 1.00e+00h  1\n",
      "  15  4.7438788e-01 1.47e-12 1.25e-13  -8.6 2.94e-02    -  1.00e+00 1.00e+00h  1\n",
      "\n",
      "Number of Iterations....: 15\n",
      "\n",
      "                                   (scaled)                 (unscaled)\n",
      "Objective...............:   4.7438787732474219e-01    4.7438787732474219e-01\n",
      "Dual infeasibility......:   1.2538398473474521e-13    1.2538398473474521e-13\n",
      "Constraint violation....:   1.4681589277643070e-12    1.4681589277643070e-12\n",
      "Complementarity.........:   2.5060400490606981e-09    2.5060400490606981e-09\n",
      "Overall NLP error.......:   2.5060400490606981e-09    2.5060400490606981e-09\n",
      "\n",
      "\n",
      "Number of objective function evaluations             = 41\n",
      "Number of objective gradient evaluations             = 16\n",
      "Number of equality constraint evaluations            = 41\n",
      "Number of inequality constraint evaluations          = 0\n",
      "Number of equality constraint Jacobian evaluations   = 16\n",
      "Number of inequality constraint Jacobian evaluations = 0\n",
      "Number of Lagrangian Hessian evaluations             = 15\n",
      "Total CPU secs in IPOPT (w/o function evaluations)   =      0.035\n",
      "Total CPU secs in NLP function evaluations           =      0.152\n",
      "\n",
      "EXIT: Optimal Solution Found.\n",
      "The SSE at the optimal solution is 0.474388\n",
      "\n",
      "The values for the parameters are as follows:\n",
      "fs.properties.PR_kappa_A[bmimBF4,R125] = 0.41013598249425565\n",
      "fs.properties.PR_kappa_A[R125,bmimBF4] = -0.032926438929970804\n"
     ]
    }
   ],
   "source": [
    "constant(data, configuration, 'R125', 'bmimBF4', \"x_R125\", \"x_bmimBF4\", \n",
    "    init_temp =  298, init_press = 400000 , init_x_c1 = 0.101, init_x_c2 = 0.899,\n",
    "    init_kappa_2_1A = 0.5, init_kappa_1_2A = 0.05,\n",
    "    eps = 0.1, scaling_fac = 1e-9)"
   ]
  },
  {
   "cell_type": "code",
   "execution_count": null,
   "metadata": {},
   "outputs": [],
   "source": []
  }
 ],
 "metadata": {
  "kernelspec": {
   "display_name": "Python 3 (ipykernel)",
   "language": "python",
   "name": "python3"
  },
  "language_info": {
   "codemirror_mode": {
    "name": "ipython",
    "version": 3
   },
   "file_extension": ".py",
   "mimetype": "text/x-python",
   "name": "python",
   "nbconvert_exporter": "python",
   "pygments_lexer": "ipython3",
   "version": "3.9.6"
  }
 },
 "nbformat": 4,
 "nbformat_minor": 4
}
