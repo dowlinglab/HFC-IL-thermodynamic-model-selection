{
 "cells": [
  {
   "cell_type": "code",
   "execution_count": 1,
   "id": "significant-programming",
   "metadata": {},
   "outputs": [],
   "source": [
    "from pyomo.environ import (Constraint,\n",
    "                           Var,\n",
    "                           ConcreteModel,\n",
    "                           Expression,\n",
    "                           Param,\n",
    "                           Objective,\n",
    "                           SolverFactory,\n",
    "                           TransformationFactory,\n",
    "                           value)\n",
    "\n",
    "from pyomo.network import Arc, SequentialDecomposition\n",
    "\n",
    "from idaes.core.util.initialization import propagate_state\n",
    "\n",
    "# Import plotting functions\n",
    "import matplotlib.pyplot as plt\n",
    "\n",
    "# Import numpy library \n",
    "import numpy as np\n",
    "\n",
    "import pandas as pd\n",
    "\n",
    "# Import the main FlowsheetBlock from IDAES. The flowsheet block will contain the unit model\n",
    "from idaes.core import FlowsheetBlock\n",
    "\n",
    "import idaes.logger as idaeslog\n",
    "from pyomo.opt import TerminationCondition, SolverStatus\n",
    "\n",
    "# Import the degrees_of_freedom function from the idaes.core.util.model_statistics package\n",
    "# DOF = Number of Model Variables - Number of Model Constraints\n",
    "from idaes.core.util.model_statistics import degrees_of_freedom\n",
    "\n",
    "# Import the Generic Parameter Block\n",
    "from idaes.generic_models.properties.core.generic.generic_property import (\n",
    "        GenericParameterBlock)\n",
    "\n",
    "# Import unit models from the model library\n",
    "from idaes.generic_models.unit_models import Flash"
   ]
  },
  {
   "cell_type": "code",
   "execution_count": 2,
   "id": "incomplete-infection",
   "metadata": {},
   "outputs": [],
   "source": [
    "from R32_bmimBF4_PR import configuration\n",
    "data = pd.read_csv('R32_bmimBF4.csv')\n",
    "\n",
    "solver = SolverFactory('ipopt')\n",
    "solver.options = {'tol': 1e-6}"
   ]
  },
  {
   "cell_type": "code",
   "execution_count": 3,
   "id": "developed-riverside",
   "metadata": {},
   "outputs": [
    {
     "name": "stdout",
     "output_type": "stream",
     "text": [
      "x = 0.991\n",
      "x = 0.901\n",
      "x = 0.759\n",
      "x = 0.626\n",
      "x = 0.499\n",
      "x = 0.373\n",
      "x = 0.241\n",
      "x = 0.993\n",
      "x = 0.929\n",
      "x = 0.825\n",
      "x = 0.728\n",
      "x = 0.641\n",
      "x = 0.562\n",
      "x = 0.485\n",
      "x = 0.412\n",
      "x = 0.996\n",
      "x = 0.96\n",
      "x = 0.901\n",
      "x = 0.846\n",
      "x = 0.794\n",
      "x = 0.745\n",
      "x = 0.699\n",
      "x = 0.655\n",
      "x = 0.998\n",
      "x = 0.976\n",
      "x = 0.942\n",
      "x = 0.908\n",
      "x = 0.875\n",
      "x = 0.844\n",
      "x = 0.814\n",
      "x = 0.786\n"
     ]
    }
   ],
   "source": [
    "m = ConcreteModel()\n",
    "\n",
    "m.fs = FlowsheetBlock(default={\"dynamic\": False})\n",
    "\n",
    "m.fs.properties = GenericParameterBlock(default=configuration)\n",
    "\n",
    "m.fs.F101 = Flash(default={\"property_package\": m.fs.properties,\n",
    "                           \"has_heat_transfer\": True,\n",
    "                           \"has_pressure_change\": True})\n",
    "\n",
    "m.fs.F101.inlet.flow_mol.fix(1)\n",
    "m.fs.F101.inlet.temperature.fix(323.15)\n",
    "m.fs.F101.inlet.pressure.fix(399800)\n",
    "m.fs.F101.inlet.mole_frac_comp[0,'R32'].fix(0.5)\n",
    "\n",
    "# m.fs.properties.PR_kappa_A['bmimPF6', 'R32'].fix(0.63257)\n",
    "# m.fs.properties.PR_kappa_A['R32', 'bmimPF6'].fix(0.06399)\n",
    "# m.fs.properties.PR_kappa_B['bmimPF6', 'R32'].fix(-0.69149)\n",
    "# m.fs.properties.PR_kappa_B['R32', 'bmimPF6'].fix(-0.10862)\n",
    "\n",
    "m.fs.properties.PR_kappa_A['bmimBF4', 'R32'].fix(-0.02825)\n",
    "m.fs.properties.PR_kappa_A['R32', 'bmimBF4'].fix(-0.00684)\n",
    "m.fs.properties.PR_kappa_B['bmimBF4', 'R32'].fix(0.0)\n",
    "m.fs.properties.PR_kappa_B['R32', 'bmimBF4'].fix(0.0)\n",
    "\n",
    "# Initialize the flash unit\n",
    "m.fs.F101.initialize(outlvl=idaeslog.CRITICAL)\n",
    "\n",
    "# Fix the state variables on the state block\n",
    "# m.fs.F101.inlet.pressure.unfix()\n",
    "m.fs.F101.inlet.mole_frac_comp[0,'bmimBF4'].unfix()\n",
    "\n",
    "R32_x = np.zeros((len(data)))\n",
    "P = np.zeros((len(data)))\n",
    "\n",
    "m.fs.liq = Param(mutable=True,default=0.040)\n",
    "m.fs.liquid = Constraint(expr=m.fs.F101.liq_outlet.mole_frac_comp[0, \"bmimBF4\"] == m.fs.liq)\n",
    "\n",
    "for i in range(len(data)):\n",
    "    m.fs.liq = data[\"x_bmimBF4\"].iloc[i]\n",
    "    m.fs.F101.inlet.temperature.fix(float(data[\"temperature\"].iloc[i]))\n",
    "    m.fs.F101.inlet.pressure.fix(float(data[\"pressure\"].iloc[i]))\n",
    "    m.fs.F101.inlet.mole_frac_comp[0,'R32'].fix(float(data[\"x_R32\"].iloc[i])+0.1)\n",
    "    m.fs.F101.inlet.mole_frac_comp[0,'bmimBF4'].fix(float(1-(data[\"x_R32\"].iloc[i]+0.1)))\n",
    "    m.fs.F101.vap_outlet.temperature.fix(float(data[\"temperature\"].iloc[i]))\n",
    "    \n",
    "    print(\"x =\", data[\"x_bmimBF4\"].iloc[i])\n",
    "\n",
    "    try:\n",
    "        m.fs.F101.initialize(outlvl=idaeslog.CRITICAL)\n",
    "\n",
    "        status = solver.solve(m, tee = False)\n",
    "\n",
    "    #     m.fs.F101.report()\n",
    "        if (status.solver.status == SolverStatus.ok) and (status.solver.termination_condition == TerminationCondition.optimal):\n",
    "\n",
    "            R32_x[i] = value(m.fs.F101.liq_outlet.mole_frac_comp[0,'R32']) \n",
    "            P[i] = value(m.fs.F101.vap_outlet.pressure[0])\n",
    "\n",
    "        else:\n",
    "            print('Infeasible.')\n",
    "            \n",
    "    except ValueError:\n",
    "        \n",
    "            R32_x[i] = \"NaN\"\n",
    "            P[i] = \"NaN\""
   ]
  },
  {
   "cell_type": "code",
   "execution_count": 4,
   "id": "cosmetic-yellow",
   "metadata": {},
   "outputs": [],
   "source": [
    "# print(P)\n",
    "# print(data[\"pressure\"])\n",
    "# print(R125_x)\n",
    "# print(data[\"x_R125\"])"
   ]
  },
  {
   "cell_type": "code",
   "execution_count": 5,
   "id": "demographic-brush",
   "metadata": {
    "scrolled": true
   },
   "outputs": [
    {
     "data": {
      "image/png": "[encoded data removed]",
      "text/plain": [
       "<Figure size 432x288 with 1 Axes>"
      ]
     },
     "metadata": {
      "needs_background": "light"
     },
     "output_type": "display_data"
    }
   ],
   "source": [
    "# for i in range(len(P)):\n",
    "#     P[i] = P[i]*1e6\n",
    "P1= np.zeros((len(P)))\n",
    "\n",
    "for i in range(len(P)):\n",
    "    P1[i] = P[i]/1e6\n",
    "\n",
    "    \n",
    "plt.plot(R32_x[0:7],P1[0:7],\"b\",label=\"Calc 283 K\")  \n",
    "plt.plot(R32_x[7:15],P1[7:15],\"r\",label=\"Calc 298 K\") \n",
    "plt.plot(R32_x[15:23],P1[15:23],\"c\",label=\"Calc 323 K\") \n",
    "plt.plot(R32_x[23:],P1[23:],\"m\",label=\"Calc 348 K\")\n",
    "plt.plot(data[\"x_R32\"][0:7],data[\"pressure\"][0:7]/1e6,\"*\",color='b',label=\"Data 283 K\")  \n",
    "plt.plot(data[\"x_R32\"][7:15],data[\"pressure\"][7:15]/1e6,\"*\",color='r',label=\"Data 298 K\") \n",
    "plt.plot(data[\"x_R32\"][15:23],data[\"pressure\"][15:23]/1e6,\"*\",color='c',label=\"Data 323 K\") \n",
    "plt.plot(data[\"x_R32\"][23:],data[\"pressure\"][23:]/1e6,\"*\",color='m',label=\"Data 348 K\") \n",
    "plt.title('Isotherm R32-[bmim][PF6]',fontsize=20)\n",
    "plt.ylabel('Pressure [MPa]',fontsize=20)\n",
    "plt.xlabel('x R32 [mole/mole]',fontsize=20)\n",
    "plt.xticks(fontsize=16)\n",
    "plt.yticks(fontsize=16)\n",
    "plt.grid(True)\n",
    "plt.ylim(0,1.110000)\n",
    "plt.xlim(0,0.9)\n",
    "plt.legend(fontsize=10)\n",
    "# plt.savefig('Isotherm R32-[bmim][PF6]_bin_noT.png', bbox_inches='tight',dpi=300)\n",
    "plt.show()"
   ]
  },
  {
   "cell_type": "code",
   "execution_count": 6,
   "id": "orange-mobile",
   "metadata": {},
   "outputs": [
    {
     "name": "stdout",
     "output_type": "stream",
     "text": [
      "\n",
      "====================================================================================\n",
      "Unit : fs.F101                                                             Time: 0.0\n",
      "------------------------------------------------------------------------------------\n",
      "    Unit Performance\n",
      "\n",
      "    Variables: \n",
      "\n",
      "    Key             : Value   : Fixed : Bounds\n",
      "          Heat Duty :  134.65 : False : (None, None)\n",
      "    Pressure Change : -36203. : False : (None, None)\n",
      "\n",
      "------------------------------------------------------------------------------------\n",
      "    Stream Table\n",
      "                              Inlet    Vapor Outlet  Liquid Outlet\n",
      "    flow_mol                   1.0000      0.12723       0.87277  \n",
      "    mole_frac_comp bmimBF4    0.68600   1.0000e-08       0.78600  \n",
      "    mole_frac_comp R32        0.31400       1.0000       0.21400  \n",
      "    temperature                348.10       348.10        348.10  \n",
      "    pressure               9.9990e+05   9.6370e+05    9.6370e+05  \n",
      "====================================================================================\n"
     ]
    }
   ],
   "source": [
    "m.fs.F101.report()"
   ]
  },
  {
   "cell_type": "code",
   "execution_count": 7,
   "id": "little-coordinator",
   "metadata": {},
   "outputs": [],
   "source": [
    "# print(P1)"
   ]
  },
  {
   "cell_type": "code",
   "execution_count": 8,
   "id": "db900c09",
   "metadata": {},
   "outputs": [],
   "source": [
    "df = pd.DataFrame(P)\n",
    "# df.to_csv('P_cons_32.csv')\n",
    "# df.to_csv('P_lin_32.csv')\n",
    "# df.to_csv('P_ter_32.csv')\n",
    "# df.to_csv('P_x_32.csv')"
   ]
  },
  {
   "cell_type": "code",
   "execution_count": null,
   "id": "d56b0ac2",
   "metadata": {},
   "outputs": [],
   "source": []
  }
 ],
 "metadata": {
  "kernelspec": {
   "display_name": "Python 3 (ipykernel)",
   "language": "python",
   "name": "python3"
  },
  "language_info": {
   "codemirror_mode": {
    "name": "ipython",
    "version": 3
   },
   "file_extension": ".py",
   "mimetype": "text/x-python",
   "name": "python",
   "nbconvert_exporter": "python",
   "pygments_lexer": "ipython3",
   "version": "3.9.6"
  }
 },
 "nbformat": 4,
 "nbformat_minor": 5
}
