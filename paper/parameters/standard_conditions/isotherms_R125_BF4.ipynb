{
 "cells": [
  {
   "cell_type": "code",
   "execution_count": 1,
   "id": "significant-programming",
   "metadata": {},
   "outputs": [],
   "source": [
    "from pyomo.environ import (Constraint,\n",
    "                           Var,\n",
    "                           ConcreteModel,\n",
    "                           Expression,\n",
    "                           Param,\n",
    "                           Objective,\n",
    "                           SolverFactory,\n",
    "                           TransformationFactory,\n",
    "                           value)\n",
    "\n",
    "from pyomo.network import Arc, SequentialDecomposition\n",
    "\n",
    "from idaes.core.util.initialization import propagate_state\n",
    "\n",
    "# Import plotting functions\n",
    "import matplotlib.pyplot as plt\n",
    "\n",
    "# Import numpy library \n",
    "import numpy as np\n",
    "\n",
    "import pandas as pd\n",
    "\n",
    "# Import the main FlowsheetBlock from IDAES. The flowsheet block will contain the unit model\n",
    "from idaes.core import FlowsheetBlock\n",
    "\n",
    "import idaes.logger as idaeslog\n",
    "from pyomo.opt import TerminationCondition, SolverStatus\n",
    "\n",
    "# Import the degrees_of_freedom function from the idaes.core.util.model_statistics package\n",
    "# DOF = Number of Model Variables - Number of Model Constraints\n",
    "from idaes.core.util.model_statistics import degrees_of_freedom\n",
    "\n",
    "# Import the Generic Parameter Block\n",
    "from idaes.generic_models.properties.core.generic.generic_property import (\n",
    "        GenericParameterBlock)\n",
    "\n",
    "# Import unit models from the model library\n",
    "from idaes.generic_models.unit_models import Flash"
   ]
  },
  {
   "cell_type": "code",
   "execution_count": 2,
   "id": "incomplete-infection",
   "metadata": {},
   "outputs": [],
   "source": [
    "from R125_bmimBF4_PR import configuration\n",
    "data = pd.read_csv('R125_bmimBF4.csv')\n",
    "\n",
    "solver = SolverFactory('ipopt')\n",
    "solver.options = {'tol': 1e-6}"
   ]
  },
  {
   "cell_type": "code",
   "execution_count": 18,
   "id": "developed-riverside",
   "metadata": {},
   "outputs": [
    {
     "name": "stdout",
     "output_type": "stream",
     "text": [
      "x = 0.01\n",
      "x = 0.04363636363636364\n",
      "x = 0.07727272727272727\n",
      "WARNING: Loading a SolverResults object with a warning status into\n",
      "    model.name=\"unknown\";\n",
      "      - termination condition: infeasible\n",
      "      - message from solver: Ipopt 3.13.2\\x3a Converged to a locally\n",
      "        infeasible point. Problem may be infeasible.\n",
      "Infeasible.\n",
      "x = 0.11090909090909092\n",
      "WARNING: Loading a SolverResults object with a warning status into\n",
      "    model.name=\"unknown\";\n",
      "      - termination condition: infeasible\n",
      "      - message from solver: Ipopt 3.13.2\\x3a Converged to a locally\n",
      "        infeasible point. Problem may be infeasible.\n",
      "Infeasible.\n",
      "x = 0.14454545454545456\n",
      "x = 0.1781818181818182\n",
      "x = 0.21181818181818185\n",
      "x = 0.24545454545454548\n",
      "x = 0.2790909090909091\n",
      "WARNING: Loading a SolverResults object with a warning status into\n",
      "    model.name=\"unknown\";\n",
      "      - termination condition: infeasible\n",
      "      - message from solver: Ipopt 3.13.2\\x3a Converged to a locally\n",
      "        infeasible point. Problem may be infeasible.\n",
      "Infeasible.\n",
      "x = 0.31272727272727274\n",
      "x = 0.3463636363636364\n",
      "WARNING: Loading a SolverResults object with a warning status into\n",
      "    model.name=\"unknown\";\n",
      "      - termination condition: infeasible\n",
      "      - message from solver: Ipopt 3.13.2\\x3a Converged to a locally\n",
      "        infeasible point. Problem may be infeasible.\n",
      "Infeasible.\n",
      "x = 0.38\n"
     ]
    }
   ],
   "source": [
    "m = ConcreteModel()\n",
    "\n",
    "m.fs = FlowsheetBlock(default={\"dynamic\": False})\n",
    "\n",
    "m.fs.properties = GenericParameterBlock(default=configuration)\n",
    "\n",
    "m.fs.F101 = Flash(default={\"property_package\": m.fs.properties,\n",
    "                           \"has_heat_transfer\": True,\n",
    "                           \"has_pressure_change\": True})\n",
    "\n",
    "m.fs.F101.inlet.flow_mol.fix(1)\n",
    "m.fs.F101.inlet.temperature.fix(323.15)\n",
    "m.fs.F101.inlet.pressure.fix(399800)\n",
    "m.fs.F101.inlet.mole_frac_comp[0,'R125'].fix(0.5)\n",
    "\n",
    "m.fs.properties.PR_kappa_A['bmimBF4', 'R125'].fix(0.35)\n",
    "m.fs.properties.PR_kappa_A['R125', 'bmimBF4'].fix(0.033)\n",
    "\n",
    "\n",
    "# Initialize the flash unit\n",
    "m.fs.F101.initialize(outlvl=idaeslog.CRITICAL)\n",
    "\n",
    "# Fix the state variables on the state block\n",
    "# m.fs.F101.inlet.pressure.unfix()\n",
    "m.fs.F101.inlet.mole_frac_comp[0,'bmimBF4'].unfix()\n",
    "\n",
    "R125 = np.linspace(0.01,0.38,12)\n",
    "\n",
    "R125_x = np.zeros((len(R125)))\n",
    "P = np.zeros((len(R125)))\n",
    "\n",
    "m.fs.liq = Param(mutable=True,default=0.040)\n",
    "m.fs.liquid = Constraint(expr=m.fs.F101.liq_outlet.mole_frac_comp[0, \"bmimBF4\"] == m.fs.liq)\n",
    "# m.fs.press = Constraint(expr=m.fs.F101.vap_outlet.pressure[0] <= 1.1e6)\n",
    "for i in range(len(R125)):\n",
    "    m.fs.liq = 1-R125[i]\n",
    "    a = i * 50000\n",
    "    m.fs.F101.inlet.temperature.fix(298)\n",
    "    m.fs.F101.inlet.pressure.fix(a)\n",
    "    m.fs.F101.inlet.mole_frac_comp[0,'R125'].fix(R125[i]+0.05)\n",
    "    m.fs.F101.inlet.mole_frac_comp[0,'bmimBF4'].fix(1-(R125[i]+0.05))\n",
    "    m.fs.F101.vap_outlet.temperature.fix(298)\n",
    "    print(\"x =\", R125[i])\n",
    "    \n",
    "    try:\n",
    "        \n",
    "        m.fs.F101.initialize(outlvl=idaeslog.CRITICAL)\n",
    "        status = solver.solve(m, tee = False)\n",
    "\n",
    "        if (status.solver.status == SolverStatus.ok) and (status.solver.termination_condition == TerminationCondition.optimal):\n",
    "\n",
    "            R125_x[i] = value(m.fs.F101.liq_outlet.mole_frac_comp[0,'R125']) \n",
    "            P[i] = value(m.fs.F101.vap_outlet.pressure[0])\n",
    "\n",
    "        else:\n",
    "            print('Infeasible.')\n",
    "\n",
    "    except ValueError:\n",
    "\n",
    "        R125_x[i] = 'NaN'\n",
    "        P[i] = 'NaN'"
   ]
  },
  {
   "cell_type": "code",
   "execution_count": 19,
   "id": "cosmetic-yellow",
   "metadata": {},
   "outputs": [
    {
     "name": "stdout",
     "output_type": "stream",
     "text": [
      "[              nan   254362.18991074        0.                0.\n",
      "   805890.66867415   972856.4233627   1128122.14443119  1269308.18557109\n",
      "        0.         11745211.89043816        0.          1639087.91772927]\n",
      "0      50000\n",
      "1     100000\n",
      "2     200000\n",
      "3     400000\n",
      "4     600000\n",
      "5     799500\n",
      "6    1000000\n",
      "Name: pressure, dtype: int64\n",
      "[       nan 0.04363636 0.         0.         0.14454545 0.17818182\n",
      " 0.21181818 0.24545455 0.         0.31272727 0.         0.38      ]\n",
      "0    0.008\n",
      "1    0.019\n",
      "2    0.043\n",
      "3    0.101\n",
      "4    0.172\n",
      "5    0.263\n",
      "6    0.378\n",
      "Name: x_R125, dtype: float64\n"
     ]
    }
   ],
   "source": [
    "print(P)\n",
    "print(data[\"pressure\"])\n",
    "print(R125_x)\n",
    "print(data[\"x_R125\"])"
   ]
  },
  {
   "cell_type": "code",
   "execution_count": 20,
   "id": "demographic-brush",
   "metadata": {},
   "outputs": [
    {
     "data": {
      "image/png": "[encoded data removed]",
      "text/plain": [
       "<Figure size 432x288 with 1 Axes>"
      ]
     },
     "metadata": {
      "needs_background": "light"
     },
     "output_type": "display_data"
    }
   ],
   "source": [
    "# for i in range(len(P)):\n",
    "#     P[i] = P[i]*1e6\n",
    "P1= np.zeros((len(P)))\n",
    "\n",
    "for i in range(len(P)):\n",
    "    P1[i] = P[i]/1e6\n",
    "\n",
    "    \n",
    "# plt.plot(R125_x,P1,\"b\",\"*\",label=\"T= 283 K\") \n",
    "plt.plot(R125_x,P1,\"*\",label=\"T= 283 K\")  \n",
    "plt.plot(data[\"x_R125\"],data[\"pressure\"]/1e6,\"*\",color='orange',label=\"data\")  \n",
    "plt.title('Isotherm R125-[bmim][BF4]')\n",
    "plt.ylabel('Pressure (MPa)')\n",
    "plt.xlabel('x R125')\n",
    "plt.grid(True)\n",
    "# plt.ylim(0,1.110000)\n",
    "# plt.xlim(0,0.5)\n",
    "plt.legend()\n",
    "plt.show()"
   ]
  },
  {
   "cell_type": "code",
   "execution_count": 6,
   "id": "orange-mobile",
   "metadata": {},
   "outputs": [
    {
     "name": "stdout",
     "output_type": "stream",
     "text": [
      "\n",
      "====================================================================================\n",
      "Unit : fs.F101                                                             Time: 0.0\n",
      "------------------------------------------------------------------------------------\n",
      "    Unit Performance\n",
      "\n",
      "    Variables: \n",
      "\n",
      "    Key             : Value      : Fixed : Bounds\n",
      "          Heat Duty :    -1676.8 : False : (None, None)\n",
      "    Pressure Change : 6.5541e+05 : False : (None, None)\n",
      "\n",
      "------------------------------------------------------------------------------------\n",
      "    Stream Table\n",
      "                              Inlet    Vapor Outlet  Liquid Outlet\n",
      "    flow_mol                   1.0000     0.076923       0.92308  \n",
      "    mole_frac_comp bmimBF4    0.60000   1.0000e-08       0.65000  \n",
      "    mole_frac_comp R125       0.40000       1.0000       0.35000  \n",
      "    temperature                298.00       298.00        298.00  \n",
      "    pressure               9.3332e+05   1.5887e+06    1.5887e+06  \n",
      "====================================================================================\n"
     ]
    }
   ],
   "source": [
    "m.fs.F101.report()"
   ]
  },
  {
   "cell_type": "code",
   "execution_count": 7,
   "id": "little-coordinator",
   "metadata": {},
   "outputs": [],
   "source": [
    "# print(P1)"
   ]
  },
  {
   "cell_type": "code",
   "execution_count": 8,
   "id": "db900c09",
   "metadata": {},
   "outputs": [],
   "source": [
    "df = pd.DataFrame(P)\n",
    "# df.to_csv('P_cons_125.csv')\n",
    "# df.to_csv('P_lin_125.csv')\n",
    "# df.to_csv('P_ter_125.csv')"
   ]
  },
  {
   "cell_type": "code",
   "execution_count": 9,
   "id": "e2e2a001",
   "metadata": {
    "scrolled": false
   },
   "outputs": [],
   "source": [
    "# m.display()"
   ]
  },
  {
   "cell_type": "code",
   "execution_count": null,
   "id": "3597064b",
   "metadata": {},
   "outputs": [],
   "source": []
  }
 ],
 "metadata": {
  "kernelspec": {
   "display_name": "Python 3 (ipykernel)",
   "language": "python",
   "name": "python3"
  },
  "language_info": {
   "codemirror_mode": {
    "name": "ipython",
    "version": 3
   },
   "file_extension": ".py",
   "mimetype": "text/x-python",
   "name": "python",
   "nbconvert_exporter": "python",
   "pygments_lexer": "ipython3",
   "version": "3.9.6"
  }
 },
 "nbformat": 4,
 "nbformat_minor": 5
}
