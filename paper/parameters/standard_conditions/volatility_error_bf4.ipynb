{
 "cells": [
  {
   "cell_type": "code",
   "execution_count": 1,
   "id": "c1ad2f96",
   "metadata": {},
   "outputs": [],
   "source": [
    "from binary_param import linear, constant\n",
    "import pandas as pd\n",
    "import numpy as np\n",
    "from HFCs_bmimPF6_PR import configuration\n",
    "from pyomo.environ import (Constraint,\n",
    "                           Var,\n",
    "                           ConcreteModel,\n",
    "                           Expression,\n",
    "                           Param,\n",
    "                           Objective,\n",
    "                           SolverFactory,\n",
    "                           TransformationFactory,\n",
    "                           value)\n",
    "\n",
    "import idaes.logger as idaeslog\n",
    "import pyomo.contrib.parmest.parmest as parmest\n",
    "from pyomo.opt import TerminationCondition, SolverStatus\n",
    "\n",
    "import pytest\n",
    "\n",
    "from idaes.core import FlowsheetBlock\n",
    "from idaes.generic_models.unit_models import Flash\n",
    "from idaes.generic_models.properties.core.generic.generic_property import (\n",
    "        GenericParameterBlock)\n",
    "\n",
    "from idaes.core.util.model_statistics import degrees_of_freedom"
   ]
  },
  {
   "cell_type": "code",
   "execution_count": 2,
   "id": "9e39b403",
   "metadata": {},
   "outputs": [],
   "source": [
    "m1 = ConcreteModel()\n",
    "\n",
    "m1.fs = FlowsheetBlock(default={\"dynamic\": False})\n",
    "\n",
    "m1.fs.properties = GenericParameterBlock(default=configuration)\n",
    "\n",
    "m1.fs.F101 = Flash(default={\"property_package\": m1.fs.properties,\n",
    "                           \"has_heat_transfer\": True,\n",
    "                           \"has_pressure_change\": True})"
   ]
  },
  {
   "cell_type": "code",
   "execution_count": 3,
   "id": "9d2c2bbf",
   "metadata": {},
   "outputs": [],
   "source": [
    "data = pd.read_csv('R32_bmim_bf4_07.csv')\n",
    "data2 = pd.read_csv('R125_bmim_bf4_07.csv')"
   ]
  },
  {
   "cell_type": "code",
   "execution_count": 4,
   "id": "68e234ba",
   "metadata": {},
   "outputs": [],
   "source": [
    "solver = SolverFactory('ipopt')\n",
    "solver.options = {'tol': 1e-6}"
   ]
  },
  {
   "cell_type": "code",
   "execution_count": 5,
   "id": "c8401fbd",
   "metadata": {},
   "outputs": [
    {
     "name": "stdout",
     "output_type": "stream",
     "text": [
      "0\n",
      "1\n",
      "2\n",
      "3\n",
      "4\n",
      "5\n",
      "6\n",
      "7\n",
      "8\n"
     ]
    },
    {
     "ename": "IndexError",
     "evalue": "single positional indexer is out-of-bounds",
     "output_type": "error",
     "traceback": [
      "\u001b[1;31m---------------------------------------------------------------------------\u001b[0m",
      "\u001b[1;31mIndexError\u001b[0m                                Traceback (most recent call last)",
      "\u001b[1;32m~\\AppData\\Local\\Temp/ipykernel_22412/3934020572.py\u001b[0m in \u001b[0;36m<module>\u001b[1;34m\u001b[0m\n\u001b[0;32m     22\u001b[0m     \u001b[0mm1\u001b[0m\u001b[1;33m.\u001b[0m\u001b[0mfs\u001b[0m\u001b[1;33m.\u001b[0m\u001b[0mproperties\u001b[0m\u001b[1;33m.\u001b[0m\u001b[0mPR_kappa_A\u001b[0m\u001b[1;33m[\u001b[0m\u001b[1;34m'R32'\u001b[0m\u001b[1;33m,\u001b[0m \u001b[1;34m'bmimPF6'\u001b[0m\u001b[1;33m]\u001b[0m\u001b[1;33m.\u001b[0m\u001b[0mfix\u001b[0m\u001b[1;33m(\u001b[0m\u001b[0mdata\u001b[0m\u001b[1;33m[\u001b[0m\u001b[1;34m\"1\"\u001b[0m\u001b[1;33m]\u001b[0m\u001b[1;33m.\u001b[0m\u001b[0miloc\u001b[0m\u001b[1;33m[\u001b[0m\u001b[0mi\u001b[0m\u001b[1;33m]\u001b[0m\u001b[1;33m)\u001b[0m\u001b[1;33m\u001b[0m\u001b[1;33m\u001b[0m\u001b[0m\n\u001b[0;32m     23\u001b[0m     \u001b[0mm1\u001b[0m\u001b[1;33m.\u001b[0m\u001b[0mfs\u001b[0m\u001b[1;33m.\u001b[0m\u001b[0mproperties\u001b[0m\u001b[1;33m.\u001b[0m\u001b[0mPR_kappa_A\u001b[0m\u001b[1;33m[\u001b[0m\u001b[1;34m'bmimPF6'\u001b[0m\u001b[1;33m,\u001b[0m \u001b[1;34m'R32'\u001b[0m\u001b[1;33m]\u001b[0m\u001b[1;33m.\u001b[0m\u001b[0mfix\u001b[0m\u001b[1;33m(\u001b[0m\u001b[0mdata\u001b[0m\u001b[1;33m[\u001b[0m\u001b[1;34m\"0\"\u001b[0m\u001b[1;33m]\u001b[0m\u001b[1;33m.\u001b[0m\u001b[0miloc\u001b[0m\u001b[1;33m[\u001b[0m\u001b[0mi\u001b[0m\u001b[1;33m]\u001b[0m\u001b[1;33m)\u001b[0m\u001b[1;33m\u001b[0m\u001b[1;33m\u001b[0m\u001b[0m\n\u001b[1;32m---> 24\u001b[1;33m     \u001b[0mm1\u001b[0m\u001b[1;33m.\u001b[0m\u001b[0mfs\u001b[0m\u001b[1;33m.\u001b[0m\u001b[0mproperties\u001b[0m\u001b[1;33m.\u001b[0m\u001b[0mPR_kappa_A\u001b[0m\u001b[1;33m[\u001b[0m\u001b[1;34m'bmimPF6'\u001b[0m\u001b[1;33m,\u001b[0m \u001b[1;34m'R125'\u001b[0m\u001b[1;33m]\u001b[0m\u001b[1;33m.\u001b[0m\u001b[0mfix\u001b[0m\u001b[1;33m(\u001b[0m\u001b[0mdata2\u001b[0m\u001b[1;33m[\u001b[0m\u001b[1;34m\"0\"\u001b[0m\u001b[1;33m]\u001b[0m\u001b[1;33m.\u001b[0m\u001b[0miloc\u001b[0m\u001b[1;33m[\u001b[0m\u001b[0mi\u001b[0m\u001b[1;33m]\u001b[0m\u001b[1;33m)\u001b[0m\u001b[1;33m\u001b[0m\u001b[1;33m\u001b[0m\u001b[0m\n\u001b[0m\u001b[0;32m     25\u001b[0m     \u001b[0mm1\u001b[0m\u001b[1;33m.\u001b[0m\u001b[0mfs\u001b[0m\u001b[1;33m.\u001b[0m\u001b[0mproperties\u001b[0m\u001b[1;33m.\u001b[0m\u001b[0mPR_kappa_A\u001b[0m\u001b[1;33m[\u001b[0m\u001b[1;34m'R125'\u001b[0m\u001b[1;33m,\u001b[0m \u001b[1;34m'bmimPF6'\u001b[0m\u001b[1;33m]\u001b[0m\u001b[1;33m.\u001b[0m\u001b[0mfix\u001b[0m\u001b[1;33m(\u001b[0m\u001b[0mdata2\u001b[0m\u001b[1;33m[\u001b[0m\u001b[1;34m\"1\"\u001b[0m\u001b[1;33m]\u001b[0m\u001b[1;33m.\u001b[0m\u001b[0miloc\u001b[0m\u001b[1;33m[\u001b[0m\u001b[0mi\u001b[0m\u001b[1;33m]\u001b[0m\u001b[1;33m)\u001b[0m\u001b[1;33m\u001b[0m\u001b[1;33m\u001b[0m\u001b[0m\n\u001b[0;32m     26\u001b[0m \u001b[1;33m\u001b[0m\u001b[0m\n",
      "\u001b[1;32mc:\\users\\agarc\\anaconda32\\envs\\kappa\\lib\\site-packages\\pandas\\core\\indexing.py\u001b[0m in \u001b[0;36m__getitem__\u001b[1;34m(self, key)\u001b[0m\n\u001b[0;32m    929\u001b[0m \u001b[1;33m\u001b[0m\u001b[0m\n\u001b[0;32m    930\u001b[0m             \u001b[0mmaybe_callable\u001b[0m \u001b[1;33m=\u001b[0m \u001b[0mcom\u001b[0m\u001b[1;33m.\u001b[0m\u001b[0mapply_if_callable\u001b[0m\u001b[1;33m(\u001b[0m\u001b[0mkey\u001b[0m\u001b[1;33m,\u001b[0m \u001b[0mself\u001b[0m\u001b[1;33m.\u001b[0m\u001b[0mobj\u001b[0m\u001b[1;33m)\u001b[0m\u001b[1;33m\u001b[0m\u001b[1;33m\u001b[0m\u001b[0m\n\u001b[1;32m--> 931\u001b[1;33m             \u001b[1;32mreturn\u001b[0m \u001b[0mself\u001b[0m\u001b[1;33m.\u001b[0m\u001b[0m_getitem_axis\u001b[0m\u001b[1;33m(\u001b[0m\u001b[0mmaybe_callable\u001b[0m\u001b[1;33m,\u001b[0m \u001b[0maxis\u001b[0m\u001b[1;33m=\u001b[0m\u001b[0maxis\u001b[0m\u001b[1;33m)\u001b[0m\u001b[1;33m\u001b[0m\u001b[1;33m\u001b[0m\u001b[0m\n\u001b[0m\u001b[0;32m    932\u001b[0m \u001b[1;33m\u001b[0m\u001b[0m\n\u001b[0;32m    933\u001b[0m     \u001b[1;32mdef\u001b[0m \u001b[0m_is_scalar_access\u001b[0m\u001b[1;33m(\u001b[0m\u001b[0mself\u001b[0m\u001b[1;33m,\u001b[0m \u001b[0mkey\u001b[0m\u001b[1;33m:\u001b[0m \u001b[0mtuple\u001b[0m\u001b[1;33m)\u001b[0m\u001b[1;33m:\u001b[0m\u001b[1;33m\u001b[0m\u001b[1;33m\u001b[0m\u001b[0m\n",
      "\u001b[1;32mc:\\users\\agarc\\anaconda32\\envs\\kappa\\lib\\site-packages\\pandas\\core\\indexing.py\u001b[0m in \u001b[0;36m_getitem_axis\u001b[1;34m(self, key, axis)\u001b[0m\n\u001b[0;32m   1564\u001b[0m \u001b[1;33m\u001b[0m\u001b[0m\n\u001b[0;32m   1565\u001b[0m             \u001b[1;31m# validate the location\u001b[0m\u001b[1;33m\u001b[0m\u001b[1;33m\u001b[0m\u001b[1;33m\u001b[0m\u001b[0m\n\u001b[1;32m-> 1566\u001b[1;33m             \u001b[0mself\u001b[0m\u001b[1;33m.\u001b[0m\u001b[0m_validate_integer\u001b[0m\u001b[1;33m(\u001b[0m\u001b[0mkey\u001b[0m\u001b[1;33m,\u001b[0m \u001b[0maxis\u001b[0m\u001b[1;33m)\u001b[0m\u001b[1;33m\u001b[0m\u001b[1;33m\u001b[0m\u001b[0m\n\u001b[0m\u001b[0;32m   1567\u001b[0m \u001b[1;33m\u001b[0m\u001b[0m\n\u001b[0;32m   1568\u001b[0m             \u001b[1;32mreturn\u001b[0m \u001b[0mself\u001b[0m\u001b[1;33m.\u001b[0m\u001b[0mobj\u001b[0m\u001b[1;33m.\u001b[0m\u001b[0m_ixs\u001b[0m\u001b[1;33m(\u001b[0m\u001b[0mkey\u001b[0m\u001b[1;33m,\u001b[0m \u001b[0maxis\u001b[0m\u001b[1;33m=\u001b[0m\u001b[0maxis\u001b[0m\u001b[1;33m)\u001b[0m\u001b[1;33m\u001b[0m\u001b[1;33m\u001b[0m\u001b[0m\n",
      "\u001b[1;32mc:\\users\\agarc\\anaconda32\\envs\\kappa\\lib\\site-packages\\pandas\\core\\indexing.py\u001b[0m in \u001b[0;36m_validate_integer\u001b[1;34m(self, key, axis)\u001b[0m\n\u001b[0;32m   1498\u001b[0m         \u001b[0mlen_axis\u001b[0m \u001b[1;33m=\u001b[0m \u001b[0mlen\u001b[0m\u001b[1;33m(\u001b[0m\u001b[0mself\u001b[0m\u001b[1;33m.\u001b[0m\u001b[0mobj\u001b[0m\u001b[1;33m.\u001b[0m\u001b[0m_get_axis\u001b[0m\u001b[1;33m(\u001b[0m\u001b[0maxis\u001b[0m\u001b[1;33m)\u001b[0m\u001b[1;33m)\u001b[0m\u001b[1;33m\u001b[0m\u001b[1;33m\u001b[0m\u001b[0m\n\u001b[0;32m   1499\u001b[0m         \u001b[1;32mif\u001b[0m \u001b[0mkey\u001b[0m \u001b[1;33m>=\u001b[0m \u001b[0mlen_axis\u001b[0m \u001b[1;32mor\u001b[0m \u001b[0mkey\u001b[0m \u001b[1;33m<\u001b[0m \u001b[1;33m-\u001b[0m\u001b[0mlen_axis\u001b[0m\u001b[1;33m:\u001b[0m\u001b[1;33m\u001b[0m\u001b[1;33m\u001b[0m\u001b[0m\n\u001b[1;32m-> 1500\u001b[1;33m             \u001b[1;32mraise\u001b[0m \u001b[0mIndexError\u001b[0m\u001b[1;33m(\u001b[0m\u001b[1;34m\"single positional indexer is out-of-bounds\"\u001b[0m\u001b[1;33m)\u001b[0m\u001b[1;33m\u001b[0m\u001b[1;33m\u001b[0m\u001b[0m\n\u001b[0m\u001b[0;32m   1501\u001b[0m \u001b[1;33m\u001b[0m\u001b[0m\n\u001b[0;32m   1502\u001b[0m     \u001b[1;31m# -------------------------------------------------------------------\u001b[0m\u001b[1;33m\u001b[0m\u001b[1;33m\u001b[0m\u001b[1;33m\u001b[0m\u001b[0m\n",
      "\u001b[1;31mIndexError\u001b[0m: single positional indexer is out-of-bounds"
     ]
    }
   ],
   "source": [
    "# Make outlet arrays\n",
    "IL_x = np.zeros(len(data[\"1\"]))\n",
    "IL_y = np.zeros(len(data[\"1\"]))\n",
    "R32_x = np.zeros(len(data[\"1\"]))\n",
    "R32_y = np.zeros(len(data[\"1\"]))\n",
    "R125_x = np.zeros(len(data[\"1\"]))\n",
    "R125_y = np.zeros(len(data[\"1\"]))\n",
    "\n",
    "alpha1 = np.zeros(len(data[\"1\"]))\n",
    "\n",
    "m1.fs.F101.inlet.flow_mol.fix(10)\n",
    "m1.fs.F101.inlet.temperature.fix(298)\n",
    "m1.fs.F101.inlet.mole_frac_comp[0, \"bmimPF6\"].fix(0.5) \n",
    "m1.fs.F101.inlet.pressure.fix(100000)\n",
    "m1.fs.F101.vap_outlet.pressure.fix(100000)\n",
    "m1.fs.F101.vap_outlet.temperature.fix(298.15)\n",
    "\n",
    "for i in range(len(data[\"0\"])):\n",
    "    \n",
    "    m1.fs.properties.PR_kappa_A['R32', 'R125'].fix(0.009)\n",
    "    m1.fs.properties.PR_kappa_A['R125', 'R32'].fix(0.007)\n",
    "    m1.fs.properties.PR_kappa_A['R32', 'bmimPF6'].fix(data[\"1\"].iloc[i])\n",
    "    m1.fs.properties.PR_kappa_A['bmimPF6', 'R32'].fix(data[\"0\"].iloc[i])\n",
    "    m1.fs.properties.PR_kappa_A['bmimPF6', 'R125'].fix(data2[\"0\"].iloc[i])\n",
    "    m1.fs.properties.PR_kappa_A['R125', 'bmimPF6'].fix(data2[\"1\"].iloc[i])\n",
    "\n",
    "    m1.fs.F101.inlet.flow_mol.fix(10)\n",
    "    m1.fs.F101.inlet.temperature.fix(298)\n",
    "    m1.fs.F101.inlet.mole_frac_comp[0, \"bmimPF6\"].fix(0.7) \n",
    "    m1.fs.F101.inlet.mole_frac_comp[0, \"R32\"].fix(0.2) \n",
    "    m1.fs.F101.inlet.mole_frac_comp[0, \"R125\"].fix(0.1)\n",
    "\n",
    "    m1.fs.F101.inlet.pressure.fix(100000)\n",
    "\n",
    "    m1.fs.F101.vap_outlet.pressure.fix(100000)\n",
    "    m1.fs.F101.vap_outlet.temperature.fix(298.15)\n",
    "\n",
    "    try:\n",
    "        m1.fs.F101.initialize(outlvl=idaeslog.CRITICAL)              \n",
    "\n",
    "        # solve the model\n",
    "        status = solver.solve(m1, tee = False)\n",
    "\n",
    "        if (status.solver.status == SolverStatus.ok) and (status.solver.termination_condition == TerminationCondition.optimal):\n",
    "\n",
    "            IL_x[i] = value(m1.fs.F101.liq_outlet.mole_frac_comp[0, \"bmimPF6\"])\n",
    "            IL_y[i] = value(m1.fs.F101.vap_outlet.mole_frac_comp[0, \"bmimPF6\"])\n",
    "            R32_x[i] = value(m1.fs.F101.liq_outlet.mole_frac_comp[0, \"R32\"]) \n",
    "            R32_y[i] = value(m1.fs.F101.vap_outlet.mole_frac_comp[0, \"R32\"])\n",
    "            R125_x[i] = value(m1.fs.F101.liq_outlet.mole_frac_comp[0, \"R125\"])\n",
    "            R125_y[i] = value(m1.fs.F101.vap_outlet.mole_frac_comp[0, \"R125\"])\n",
    "\n",
    "            print(i)\n",
    "            \n",
    "            alpha1[i] = (R125_y[i]/R125_x[i])/(R32_y[i]/R32_x[i])\n",
    "\n",
    "    except ValueError:\n",
    "        alpha1[i] = 'NaN'\n",
    "       \n",
    "        \n",
    "results = pd.DataFrame(alpha1)\n",
    "results.to_csv('alpha1_07_bf4.csv')"
   ]
  },
  {
   "cell_type": "code",
   "execution_count": 6,
   "id": "f95533ff",
   "metadata": {},
   "outputs": [
    {
     "name": "stdout",
     "output_type": "stream",
     "text": [
      "[2.91889174 3.01435355 2.73789786 2.78641165 2.89447756 2.90911569\n",
      " 2.94357688 2.75047242 2.89748332 0.        ]\n"
     ]
    }
   ],
   "source": [
    "print(alpha1)"
   ]
  },
  {
   "cell_type": "code",
   "execution_count": 7,
   "id": "b5706a1c",
   "metadata": {},
   "outputs": [],
   "source": [
    "results = pd.DataFrame(alpha1)\n",
    "results.to_csv('alpha1_07_bf4.csv')"
   ]
  },
  {
   "cell_type": "code",
   "execution_count": null,
   "id": "a3c50a2c",
   "metadata": {},
   "outputs": [],
   "source": []
  }
 ],
 "metadata": {
  "kernelspec": {
   "display_name": "Python 3 (ipykernel)",
   "language": "python",
   "name": "python3"
  },
  "language_info": {
   "codemirror_mode": {
    "name": "ipython",
    "version": 3
   },
   "file_extension": ".py",
   "mimetype": "text/x-python",
   "name": "python",
   "nbconvert_exporter": "python",
   "pygments_lexer": "ipython3",
   "version": "3.9.6"
  }
 },
 "nbformat": 4,
 "nbformat_minor": 5
}
