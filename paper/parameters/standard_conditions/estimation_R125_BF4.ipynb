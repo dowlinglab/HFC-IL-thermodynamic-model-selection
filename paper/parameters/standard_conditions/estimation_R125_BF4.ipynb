{
 "cells": [
  {
   "cell_type": "code",
   "execution_count": 1,
   "metadata": {},
   "outputs": [],
   "source": [
    "from binary_param import linear, constant\n",
    "import pandas as pd\n",
    "from R125_bmimBF4_PR import configuration"
   ]
  },
  {
   "cell_type": "code",
   "execution_count": 2,
   "metadata": {},
   "outputs": [
    {
     "name": "stdout",
     "output_type": "stream",
     "text": [
      "   temperature  pressure  x_R125  x_bmimBF4\n",
      "0        283.2     50000   0.008      0.992\n",
      "1        283.2    100000   0.019      0.981\n",
      "2        283.2    200000   0.043      0.957\n",
      "3        283.2    400000   0.101      0.899\n",
      "4        283.2    600000   0.172      0.828\n",
      "5        283.2    799500   0.263      0.737\n",
      "6        283.2   1000000   0.378      0.622\n"
     ]
    }
   ],
   "source": [
    "data = pd.read_csv('R125_bmimBF4.csv')\n",
    "print(data)\n",
    "\n",
    "# 298\n",
    "data_298 = data[(data.temperature > 297) & (data.temperature< 299)]\n",
    "data_298 = data_298.reset_index(drop=True)\n"
   ]
  },
  {
   "cell_type": "code",
   "execution_count": 4,
   "metadata": {
    "scrolled": false
   },
   "outputs": [
    {
     "name": "stdout",
     "output_type": "stream",
     "text": [
      "2021-10-19 14:27:48 [INFO] idaes.init.fs.state_block: Property package initialization: optimal - Optimal Solution Found.\n",
      "2021-10-19 14:27:49 [INFO] idaes.init.fs.state_block: Property package initialization: optimal - Optimal Solution Found.\n",
      "2021-10-19 14:27:50 [INFO] idaes.init.fs.state_block: Property package initialization: optimal - Optimal Solution Found.\n",
      "2021-10-19 14:27:51 [INFO] idaes.init.fs.state_block: Property package initialization: optimal - Optimal Solution Found.\n",
      "2021-10-19 14:27:51 [INFO] idaes.init.fs.state_block: Property package initialization: optimal - Optimal Solution Found.\n",
      "2021-10-19 14:27:52 [INFO] idaes.init.fs.state_block: Property package initialization: optimal - Optimal Solution Found.\n",
      "2021-10-19 14:27:53 [INFO] idaes.init.fs.state_block: Property package initialization: optimal - Optimal Solution Found.\n",
      "Ipopt 3.12.13: bound_relax_factor=0\n",
      "honor_original_bounds=no\n",
      "\n",
      "\n",
      "******************************************************************************\n",
      "This program contains Ipopt, a library for large-scale nonlinear optimization.\n",
      " Ipopt is released as open source code under the Eclipse Public License (EPL).\n",
      "         For more information visit http://projects.coin-or.org/Ipopt\n",
      "\n",
      "This version of Ipopt was compiled from source code available at\n",
      "    https://github.com/IDAES/Ipopt as part of the Institute for the Design of\n",
      "    Advanced Energy Systems Process Systems Engineering Framework (IDAES PSE\n",
      "    Framework) Copyright (c) 2018-2019. See https://github.com/IDAES/idaes-pse.\n",
      "\n",
      "This version of Ipopt was compiled using HSL, a collection of Fortran codes\n",
      "    for large-scale scientific computation.  All technical papers, sales and\n",
      "    publicity material resulting from use of the HSL codes within IPOPT must\n",
      "    contain the following acknowledgement:\n",
      "        HSL, a collection of Fortran codes for large-scale scientific\n",
      "        computation. See http://www.hsl.rl.ac.uk.\n",
      "******************************************************************************\n",
      "\n",
      "This is Ipopt version 3.12.13, running with linear solver ma27.\n",
      "\n",
      "Number of nonzeros in equality constraint Jacobian...:      234\n",
      "Number of nonzeros in inequality constraint Jacobian.:        0\n",
      "Number of nonzeros in Lagrangian Hessian.............:      238\n",
      "\n",
      "Total number of variables............................:       98\n",
      "                     variables with only lower bounds:       42\n",
      "                variables with lower and upper bounds:       42\n",
      "                     variables with only upper bounds:        0\n",
      "Total number of equality constraints.................:       96\n",
      "Total number of inequality constraints...............:        0\n",
      "        inequality constraints with only lower bounds:        0\n",
      "   inequality constraints with lower and upper bounds:        0\n",
      "        inequality constraints with only upper bounds:        0\n",
      "\n",
      "iter    objective    inf_pr   inf_du lg(mu)  ||d||  lg(rg) alpha_du alpha_pr  ls\n",
      "   0  0.0000000e+00 5.01e-01 2.84e-14  -1.0 0.00e+00    -  0.00e+00 0.00e+00   0\n",
      "   1  4.0267046e-13 4.38e-01 1.10e+01  -1.0 4.91e+04    -  7.73e-01 1.24e-01h  4\n",
      "   2  5.6929156e-13 4.25e-01 1.54e+01  -1.0 5.37e+04    -  8.26e-01 3.09e-02h  6\n",
      "   3  6.4850759e-13 4.18e-01 2.56e+01  -1.0 6.14e+04    -  9.03e-01 1.55e-02h  7\n",
      "   4  6.5618273e-13 4.17e-01 3.66e+01  -1.0 2.69e+05    -  9.29e-01 1.93e-03h 10\n",
      "   5  6.7196944e-13 4.16e-01 4.80e+01  -1.0 2.85e+04  -4.0 9.58e-01 1.93e-03h 10\n",
      "   6  3.5371090e-11 6.39e+00 1.50e+04  -1.0 2.84e+04  -4.5 9.90e-01 9.90e-01s 22\n",
      "   7  2.9257363e-11 2.18e+00 1.56e+04  -1.0 6.06e+03  -5.0 9.17e-01 9.17e-01s 22\n",
      "   8  2.6977432e-11 4.15e-01 1.86e+04  -1.0 3.83e+03  -5.4 9.92e-01 0.00e+00S 22\n",
      "   9  2.8650675e-11 4.00e-01 1.46e+04  -1.0 2.84e+03  -5.9 1.00e+00 9.90e-01h  1\n",
      "iter    objective    inf_pr   inf_du lg(mu)  ||d||  lg(rg) alpha_du alpha_pr  ls\n",
      "  10  2.7444817e-11 2.04e-01 1.44e+06  -1.0 3.12e+03  -6.4 1.00e+00 9.90e-01h  1\n",
      "  11  2.8091985e-11 1.60e-01 7.29e+09  -1.0 2.14e+03  -6.9 1.00e+00 4.95e-01h  2\n",
      "  12  2.7905546e-11 1.37e-01 1.81e+10  -1.0 1.38e+03  -7.3 1.00e+00 4.95e-01h  2\n",
      "  13  2.8149634e-11 1.15e-01 5.62e+10  -1.0 1.79e+03  -7.8 1.00e+00 2.48e-01h  3\n",
      "  14  3.4731983e-11 1.15e-03 1.31e+09  -1.0 3.53e+04    -  1.00e+00 9.90e-01h  1\n",
      "  15  3.4657673e-11 1.75e-03 7.52e+10  -1.0 1.98e+02  -8.3 1.00e+00 9.90e-01h  1\n",
      "In iteration 15, 7 Slacks too small, adjusting variable bounds\n",
      "  16  3.4629387e-11 2.77e-03 7.52e+12  -1.0 5.39e+01  -7.0 1.00e+00 9.90e-01h  1\n",
      "  17  2.5270195e-11 4.02e-03 2.27e+14  -1.0 2.71e+06    -  3.43e-01 3.12e-02f  6\n",
      "  18  2.5426221e-11 5.12e-03 6.59e-01  -1.0 6.54e+02  -7.4 1.00e+00 1.00e+00h  1\n",
      "  19  2.5517030e-11 5.80e-07 3.73e-02  -3.8 8.67e+02    -  1.00e+00 1.00e+00h  1\n",
      "iter    objective    inf_pr   inf_du lg(mu)  ||d||  lg(rg) alpha_du alpha_pr  ls\n",
      "  20  2.5517033e-11 9.98e-11 3.55e-07  -8.6 6.44e-03  -7.9 1.00e+00 1.00e+00h  1\n",
      "\n",
      "Number of Iterations....: 20\n",
      "\n",
      "                                   (scaled)                 (unscaled)\n",
      "Objective...............:   2.5517032623587158e-11    2.5517032623587158e-11\n",
      "Dual infeasibility......:   3.5486300475895405e-07    3.5486300475895405e-07\n",
      "Constraint violation....:   9.9817043519578874e-11    9.9817043519578874e-11\n",
      "Complementarity.........:   2.5103048781274096e-09    2.5103048781274096e-09\n",
      "Overall NLP error.......:   2.9189778033318710e-09    3.5486300475895405e-07\n",
      "\n",
      "\n",
      "Number of objective function evaluations             = 93\n",
      "Number of objective gradient evaluations             = 21\n",
      "Number of equality constraint evaluations            = 93\n",
      "Number of inequality constraint evaluations          = 0\n",
      "Number of equality constraint Jacobian evaluations   = 21\n",
      "Number of inequality constraint Jacobian evaluations = 0\n",
      "Number of Lagrangian Hessian evaluations             = 20\n",
      "Total CPU secs in IPOPT (w/o function evaluations)   =      0.023\n",
      "Total CPU secs in NLP function evaluations           =      0.266\n",
      "\n",
      "EXIT: Optimal Solution Found.\n",
      "The SSE at the optimal solution is 0.000000\n",
      "\n",
      "The values for the parameters are as follows:\n",
      "fs.properties.PR_kappa_A[bmimBF4,R125] = 0.351125578320209\n",
      "fs.properties.PR_kappa_A[R125,bmimBF4] = 0.03312255781448296\n",
      "covariance_matrix                                         fs.properties.PR_kappa_A[bmimBF4,R125]  \\\n",
      "fs.properties.PR_kappa_A[bmimBF4,R125]                            6.744422e-08   \n",
      "fs.properties.PR_kappa_A[R125,bmimBF4]                           -1.664279e-08   \n",
      "\n",
      "                                        fs.properties.PR_kappa_A[R125,bmimBF4]  \n",
      "fs.properties.PR_kappa_A[bmimBF4,R125]                           -1.664279e-08  \n",
      "fs.properties.PR_kappa_A[R125,bmimBF4]                            4.114955e-09  \n"
     ]
    },
    {
     "name": "stderr",
     "output_type": "stream",
     "text": [
      "c:\\users\\agarc\\anaconda32\\envs\\kappa\\lib\\site-packages\\pyomo\\contrib\\interior_point\\interface.py:418: RuntimeWarning: divide by zero encountered in true_divide\n",
      "  data = (duals_primals_lb/(primals - self._nlp.primals_lb()) +\n"
     ]
    }
   ],
   "source": [
    "constant(data, configuration, 'R125', 'bmimBF4', \"x_R125\", \"x_bmimBF4\", \n",
    "    init_temp =  283.1, init_press = 399300 , init_x_c1 = 0.448, init_x_c2 = 0.552,\n",
    "    init_kappa_2_1A = 0.25, init_kappa_1_2A = 0.025,\n",
    "    eps = 0.1, scaling_fac = 1e-9)"
   ]
  },
  {
   "cell_type": "code",
   "execution_count": null,
   "metadata": {},
   "outputs": [],
   "source": []
  }
 ],
 "metadata": {
  "kernelspec": {
   "display_name": "Python 3 (ipykernel)",
   "language": "python",
   "name": "python3"
  },
  "language_info": {
   "codemirror_mode": {
    "name": "ipython",
    "version": 3
   },
   "file_extension": ".py",
   "mimetype": "text/x-python",
   "name": "python",
   "nbconvert_exporter": "python",
   "pygments_lexer": "ipython3",
   "version": "3.9.6"
  }
 },
 "nbformat": 4,
 "nbformat_minor": 4
}
