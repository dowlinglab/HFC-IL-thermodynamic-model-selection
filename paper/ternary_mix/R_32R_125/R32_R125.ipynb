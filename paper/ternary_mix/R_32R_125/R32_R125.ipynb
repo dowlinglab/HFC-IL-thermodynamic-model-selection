{
 "cells": [
  {
   "cell_type": "code",
   "execution_count": 1,
   "id": "faced-recall",
   "metadata": {},
   "outputs": [],
   "source": [
    "# Import objects from pyomo package\n",
    "from pyomo.environ import (ConcreteModel,\n",
    "                           SolverFactory,\n",
    "                           Constraint,\n",
    "                           Expression,\n",
    "                           TransformationFactory,\n",
    "                           value,\n",
    "                           units as pyunits)\n",
    "\n",
    "# Import the main FlowsheetBlock from IDAES. The flowsheet block will contain the unit model\n",
    "from idaes.core import FlowsheetBlock\n",
    "\n",
    "# Import idaes logger to set output levels\n",
    "import idaes.logger as idaeslog\n",
    "\n",
    "from idaes.generic_models.properties.core.generic.generic_property import (\n",
    "        GenericParameterBlock)\n",
    "\n",
    "# Todo: import Flash unit model from idaes.generic_models.unit_models\n",
    "from idaes.generic_models.unit_models import Flash"
   ]
  },
  {
   "cell_type": "code",
   "execution_count": 2,
   "id": "aging-craps",
   "metadata": {},
   "outputs": [],
   "source": [
    "from idaes.core.util.model_statistics import degrees_of_freedom, large_residuals_set\n",
    "\n",
    "import pyomo.contrib.parmest.parmest as parmest"
   ]
  },
  {
   "cell_type": "code",
   "execution_count": 3,
   "id": "impaired-prompt",
   "metadata": {},
   "outputs": [],
   "source": [
    "# Import plotting functions\n",
    "import matplotlib.pyplot as plt\n",
    "\n",
    "# Import numpy library \n",
    "import numpy as np\n",
    "\n",
    "# Import Pandas\n",
    "import pandas as pd"
   ]
  },
  {
   "cell_type": "code",
   "execution_count": 4,
   "id": "seven-minute",
   "metadata": {},
   "outputs": [],
   "source": [
    "from R125_R32_PR3 import configuration\n",
    "\n",
    "# Load data from csv\n",
    "data = pd.read_csv('R32R125new2.csv')"
   ]
  },
  {
   "cell_type": "code",
   "execution_count": 5,
   "id": "fancy-beaver",
   "metadata": {},
   "outputs": [],
   "source": [
    "def PR_model(data):\n",
    "    \n",
    "    m = ConcreteModel()\n",
    "\n",
    "    m.fs = FlowsheetBlock(default={\"dynamic\": False})\n",
    "\n",
    "    m.fs.properties = GenericParameterBlock(default=configuration)\n",
    "\n",
    "    m.fs.state_block = m.fs.properties.state_block_class(\n",
    "        default={\"parameters\": m.fs.properties,\n",
    "                 \"defined_state\": True})\n",
    "\n",
    "    m.fs.state_block.flow_mol.fix(1)\n",
    "    m.fs.state_block.temperature.fix(298.15)\n",
    "    m.fs.state_block.pressure.fix(1669700)\n",
    "    m.fs.state_block.mole_frac_comp[\"R32\"].fix(0.2688)\n",
    "    m.fs.state_block.mole_frac_comp[\"R125\"].fix(0.7312)\n",
    "    \n",
    "    m.fs.properties.PR_kappa_A['R32', 'R32'].fix(0)\n",
    "    m.fs.properties.PR_kappa_A['R125', 'R125'].fix(0)\n",
    "    m.fs.properties.PR_kappa_A['R32', 'R125'].fix(3.5)\n",
    "    m.fs.properties.PR_kappa_A['R125', 'R32'].fix(-3.5)\n",
    "    m.fs.properties.PR_kappa_B['R32', 'R32'].fix(0)\n",
    "    m.fs.properties.PR_kappa_B['R125', 'R125'].fix(0)\n",
    "    m.fs.properties.PR_kappa_B['R32', 'R125'].fix(-3.5)\n",
    "    m.fs.properties.PR_kappa_B['R125', 'R32'].fix(3.5)\n",
    "    # Initialize the flash unit\n",
    "    m.fs.state_block.initialize(outlvl=idaeslog.CRITICAL)\n",
    "\n",
    "    # Fix at actual temperature\n",
    "    m.fs.state_block.pressure.unfix()\n",
    "    m.fs.state_block.temperature.fix(float(data[\"temperature\"]))\n",
    "#     m.fs.state_block.pressure.fix(float(data[\"pressure\"]))\n",
    "#     m.fs.state_block.mole_frac_comp[\"R32\"].fix(float(data[\"x_R32\"]))\n",
    "    m.fs.state_block.mole_frac_comp[\"R125\"].unfix()\n",
    "    m.fs.state_block.mole_frac_comp[\"R32\"].unfix()\n",
    "#     m.fs.state_block.mole_frac_comp[\"R32\"].fix(float(data[\"x_R32\"]))\n",
    "    m.fs.state_block.mole_frac_phase_comp['Liq', 'R125'].fix(float(data[\"x_R125\"]))\n",
    "    m.fs.state_block.mole_frac_phase_comp['Liq', 'R32'].fix(float(data[\"x_R32\"]))\n",
    "#     m.fs.state_block.mole_frac_phase_comp['Liq', 'R32'].unfix()\n",
    "    m.fs.state_block.mole_frac_phase_comp['Vap', 'R125'].fix(float(data[\"y_R125\"]))\n",
    "#     m.fs.state_block.mole_frac_phase_comp['Vap', 'R32'].fix(float(data[\"y_R32\"]))\n",
    "#     m.fs.state_block.mole_frac_phase_comp['Vap', 'R32'].unfix()\n",
    "#     m.fs.state_block.mole_frac_phase_comp['Vap', 'R125'].unfix()\n",
    "#     m.fs.state_block.mole_frac_phase_comp['Vap', 'R125'].unfix()\n",
    "    \n",
    "#     m.fs.kappas = Constraint(expr=m.fs.properties.PR_kappa['R32', 'R125'] == \n",
    "#                     m.fs.properties.PR_kappa['R125', 'R32'])\n",
    "#     m.fs.properties.PR_kappa['R32', 'R125'] = Expression(expr=value(m.fs.properties.PR_kappa['R125', 'R32']))\n",
    "    \n",
    "    # Set bounds on variables to be estimated\n",
    "    m.fs.properties.PR_kappa_A['R32', 'R125'].setlb(-10)\n",
    "    m.fs.properties.PR_kappa_A['R32', 'R125'].setub(10)\n",
    "\n",
    "    m.fs.properties.PR_kappa_A['R125', 'R32'].setlb(-10)\n",
    "    m.fs.properties.PR_kappa_A['R125', 'R32'].setub(10)\n",
    "\n",
    "    m.fs.properties.PR_kappa_B['R32', 'R125'].setlb(-10)\n",
    "    m.fs.properties.PR_kappa_B['R32', 'R125'].setub(10)\n",
    "\n",
    "    m.fs.properties.PR_kappa_B['R125', 'R32'].setlb(-10)\n",
    "    m.fs.properties.PR_kappa_B['R125', 'R32'].setub(10)\n",
    "    # Return initialized flash model\n",
    "    return m"
   ]
  },
  {
   "cell_type": "code",
   "execution_count": 6,
   "id": "precise-condition",
   "metadata": {},
   "outputs": [
    {
     "name": "stdout",
     "output_type": "stream",
     "text": [
      "2021-08-24 16:58:50 [INFO] idaes.init.fs.state_block: Property package initialization: optimal - Optimal Solution Found.\n",
      "The initial DOF is 0\n"
     ]
    }
   ],
   "source": [
    "import pytest\n",
    "\n",
    "test_data = {\"temperature\": 298.15, \"pressure\": 1669700, \"x_R32\":0.7312, \n",
    "             \"x_R125\":0.2688, \"y_R125\":0.2501, \"y_R32\":0.7499}\n",
    "\n",
    "m = PR_model(test_data)\n",
    "\n",
    "DOF_initial = degrees_of_freedom(m)\n",
    "print(\"The initial DOF is {0}\".format(DOF_initial))\n",
    "\n",
    "# Check that degrees of freedom is 0\n",
    "# assert degrees_of_freedom(m) == 0"
   ]
  },
  {
   "cell_type": "code",
   "execution_count": 7,
   "id": "graduate-amount",
   "metadata": {},
   "outputs": [],
   "source": [
    "variable_name = [\"fs.properties.PR_kappa_A['R32', 'R125']\",\n",
    "                 \"fs.properties.PR_kappa_A['R125', 'R32']\",\n",
    "                 \"fs.properties.PR_kappa_B['R32', 'R125']\",\n",
    "                 \"fs.properties.PR_kappa_B['R125', 'R32']\"]"
   ]
  },
  {
   "cell_type": "code",
   "execution_count": 8,
   "id": "dramatic-looking",
   "metadata": {},
   "outputs": [],
   "source": [
    "def SSE(m, data):\n",
    "    expr = ((float(data[\"pressure\"]) - m.fs.state_block.pressure)**2)\n",
    "    return expr*1e-9\n",
    "\n",
    "# def SSE(m, data):\n",
    "#     expr = (\n",
    "#             (float(data[\"y_R125\"]) -\n",
    "#              m.fs.state_block.mole_frac_phase_comp[\"Vap\", \"R125\"])**2\n",
    "# #             + (float(data[\"x_R125\"]) -\n",
    "# #              m.fs.state_block.mole_frac_phase_comp[\"Liq\", \"R125\"])**2\n",
    "#            )\n",
    "    \n",
    "#     return expr*1e4\n"
   ]
  },
  {
   "cell_type": "code",
   "execution_count": 9,
   "id": "recreational-processor",
   "metadata": {},
   "outputs": [
    {
     "name": "stdout",
     "output_type": "stream",
     "text": [
      "2021-08-24 16:58:52 [INFO] idaes.init.fs.state_block: Property package initialization: optimal - Optimal Solution Found.\n",
      "2021-08-24 16:58:54 [INFO] idaes.init.fs.state_block: Property package initialization: optimal - Optimal Solution Found.\n",
      "2021-08-24 16:58:56 [INFO] idaes.init.fs.state_block: Property package initialization: optimal - Optimal Solution Found.\n",
      "2021-08-24 16:58:58 [INFO] idaes.init.fs.state_block: Property package initialization: optimal - Optimal Solution Found.\n",
      "2021-08-24 16:59:00 [INFO] idaes.init.fs.state_block: Property package initialization: optimal - Optimal Solution Found.\n",
      "2021-08-24 16:59:02 [INFO] idaes.init.fs.state_block: Property package initialization: optimal - Optimal Solution Found.\n",
      "2021-08-24 16:59:04 [INFO] idaes.init.fs.state_block: Property package initialization: optimal - Optimal Solution Found.\n",
      "2021-08-24 16:59:06 [INFO] idaes.init.fs.state_block: Property package initialization: optimal - Optimal Solution Found.\n",
      "2021-08-24 16:59:08 [INFO] idaes.init.fs.state_block: Property package initialization: optimal - Optimal Solution Found.\n",
      "2021-08-24 16:59:11 [INFO] idaes.init.fs.state_block: Property package initialization: optimal - Optimal Solution Found.\n",
      "2021-08-24 16:59:13 [INFO] idaes.init.fs.state_block: Property package initialization: optimal - Optimal Solution Found.\n",
      "2021-08-24 16:59:16 [INFO] idaes.init.fs.state_block: Property package initialization: optimal - Optimal Solution Found.\n",
      "2021-08-24 16:59:19 [INFO] idaes.init.fs.state_block: Property package initialization: optimal - Optimal Solution Found.\n",
      "2021-08-24 16:59:22 [INFO] idaes.init.fs.state_block: Property package initialization: optimal - Optimal Solution Found.\n",
      "2021-08-24 16:59:24 [INFO] idaes.init.fs.state_block: Property package initialization: optimal - Optimal Solution Found.\n",
      "2021-08-24 16:59:27 [INFO] idaes.init.fs.state_block: Property package initialization: optimal - Optimal Solution Found.\n",
      "2021-08-24 16:59:29 [INFO] idaes.init.fs.state_block: Property package initialization: optimal - Optimal Solution Found.\n",
      "2021-08-24 16:59:32 [INFO] idaes.init.fs.state_block: Property package initialization: optimal - Optimal Solution Found.\n",
      "2021-08-24 16:59:34 [INFO] idaes.init.fs.state_block: Property package initialization: optimal - Optimal Solution Found.\n",
      "2021-08-24 16:59:37 [INFO] idaes.init.fs.state_block: Property package initialization: optimal - Optimal Solution Found.\n",
      "2021-08-24 16:59:39 [INFO] idaes.init.fs.state_block: Property package initialization: optimal - Optimal Solution Found.\n",
      "2021-08-24 16:59:42 [INFO] idaes.init.fs.state_block: Property package initialization: optimal - Optimal Solution Found.\n",
      "2021-08-24 16:59:44 [INFO] idaes.init.fs.state_block: Property package initialization: optimal - Optimal Solution Found.\n",
      "2021-08-24 16:59:47 [INFO] idaes.init.fs.state_block: Property package initialization: optimal - Optimal Solution Found.\n",
      "2021-08-24 16:59:49 [INFO] idaes.init.fs.state_block: Property package initialization: optimal - Optimal Solution Found.\n",
      "2021-08-24 16:59:52 [INFO] idaes.init.fs.state_block: Property package initialization: optimal - Optimal Solution Found.\n",
      "2021-08-24 16:59:55 [INFO] idaes.init.fs.state_block: Property package initialization: optimal - Optimal Solution Found.\n",
      "2021-08-24 16:59:58 [INFO] idaes.init.fs.state_block: Property package initialization: optimal - Optimal Solution Found.\n",
      "2021-08-24 17:00:00 [INFO] idaes.init.fs.state_block: Property package initialization: optimal - Optimal Solution Found.\n",
      "2021-08-24 17:00:02 [INFO] idaes.init.fs.state_block: Property package initialization: optimal - Optimal Solution Found.\n",
      "2021-08-24 17:00:05 [INFO] idaes.init.fs.state_block: Property package initialization: optimal - Optimal Solution Found.\n",
      "2021-08-24 17:00:07 [INFO] idaes.init.fs.state_block: Property package initialization: optimal - Optimal Solution Found.\n",
      "2021-08-24 17:00:10 [INFO] idaes.init.fs.state_block: Property package initialization: optimal - Optimal Solution Found.\n",
      "2021-08-24 17:00:12 [INFO] idaes.init.fs.state_block: Property package initialization: optimal - Optimal Solution Found.\n",
      "2021-08-24 17:00:15 [INFO] idaes.init.fs.state_block: Property package initialization: optimal - Optimal Solution Found.\n",
      "2021-08-24 17:00:17 [INFO] idaes.init.fs.state_block: Property package initialization: optimal - Optimal Solution Found.\n",
      "Ipopt 3.12.13: \n",
      "\n",
      "******************************************************************************\n",
      "This program contains Ipopt, a library for large-scale nonlinear optimization.\n",
      " Ipopt is released as open source code under the Eclipse Public License (EPL).\n",
      "         For more information visit http://projects.coin-or.org/Ipopt\n",
      "\n",
      "This version of Ipopt was compiled from source code available at\n",
      "    https://github.com/IDAES/Ipopt as part of the Institute for the Design of\n",
      "    Advanced Energy Systems Process Systems Engineering Framework (IDAES PSE\n",
      "    Framework) Copyright (c) 2018-2019. See https://github.com/IDAES/idaes-pse.\n",
      "\n",
      "This version of Ipopt was compiled using HSL, a collection of Fortran codes\n",
      "    for large-scale scientific computation.  All technical papers, sales and\n",
      "    publicity material resulting from use of the HSL codes within IPOPT must\n",
      "    contain the following acknowledgement:\n",
      "        HSL, a collection of Fortran codes for large-scale scientific\n",
      "        computation. See http://www.hsl.rl.ac.uk.\n",
      "******************************************************************************\n",
      "\n",
      "This is Ipopt version 3.12.13, running with linear solver ma27.\n",
      "\n",
      "Number of nonzeros in equality constraint Jacobian...:     2956\n",
      "Number of nonzeros in inequality constraint Jacobian.:       96\n",
      "Number of nonzeros in Lagrangian Hessian.............:     3240\n",
      "\n",
      "Error in an AMPL evaluation. Run with \"halt_on_ampl_error yes\" to see details.\n",
      "Error evaluating Jacobian of equality constraints at user provided starting point.\n",
      "  No scaling factors for equality constraints computed!\n",
      "Error in an AMPL evaluation. Run with \"halt_on_ampl_error yes\" to see details.\n",
      "Error evaluating Jacobian of inequality constraints at user provided starting point.\n",
      "  No scaling factors for inequality constraints computed!\n",
      "Error in an AMPL evaluation. Run with \"halt_on_ampl_error yes\" to see details.\n",
      "\n",
      "Number of Iterations....: 0\n",
      "\n",
      "Number of objective function evaluations             = 0\n",
      "Number of objective gradient evaluations             = 0\n",
      "Number of equality constraint evaluations            = 0\n",
      "Number of inequality constraint evaluations          = 1\n",
      "Number of equality constraint Jacobian evaluations   = 0\n",
      "Number of inequality constraint Jacobian evaluations = 0\n",
      "Number of Lagrangian Hessian evaluations             = 0\n",
      "Total CPU secs in IPOPT (w/o function evaluations)   =      0.133\n",
      "Total CPU secs in NLP function evaluations           =      0.022\n",
      "\n",
      "EXIT: Invalid number in NLP function or derivative detected.\n",
      "\b"
     ]
    },
    {
     "ename": "ValueError",
     "evalue": "Cannot load a SolverResults object with bad status: error",
     "output_type": "error",
     "traceback": [
      "\u001b[1;31m---------------------------------------------------------------------------\u001b[0m",
      "\u001b[1;31mValueError\u001b[0m                                Traceback (most recent call last)",
      "\u001b[1;32m~\\AppData\\Local\\Temp/ipykernel_21892/807074642.py\u001b[0m in \u001b[0;36m<module>\u001b[1;34m\u001b[0m\n\u001b[0;32m      1\u001b[0m \u001b[0mpest\u001b[0m \u001b[1;33m=\u001b[0m \u001b[0mparmest\u001b[0m\u001b[1;33m.\u001b[0m\u001b[0mEstimator\u001b[0m\u001b[1;33m(\u001b[0m\u001b[0mPR_model\u001b[0m\u001b[1;33m,\u001b[0m \u001b[0mdata\u001b[0m\u001b[1;33m,\u001b[0m \u001b[0mvariable_name\u001b[0m\u001b[1;33m,\u001b[0m \u001b[0mSSE\u001b[0m\u001b[1;33m,\u001b[0m \u001b[0mtee\u001b[0m\u001b[1;33m=\u001b[0m\u001b[1;32mTrue\u001b[0m\u001b[1;33m)\u001b[0m\u001b[1;33m\u001b[0m\u001b[1;33m\u001b[0m\u001b[0m\n\u001b[0;32m      2\u001b[0m \u001b[1;33m\u001b[0m\u001b[0m\n\u001b[1;32m----> 3\u001b[1;33m \u001b[0mobj_value\u001b[0m\u001b[1;33m,\u001b[0m \u001b[0mparameters\u001b[0m \u001b[1;33m=\u001b[0m \u001b[0mpest\u001b[0m\u001b[1;33m.\u001b[0m\u001b[0mtheta_est\u001b[0m\u001b[1;33m(\u001b[0m\u001b[1;33m)\u001b[0m\u001b[1;33m\u001b[0m\u001b[1;33m\u001b[0m\u001b[0m\n\u001b[0m",
      "\u001b[1;32mc:\\users\\agarc\\anaconda32\\envs\\kappa\\lib\\site-packages\\pyomo\\contrib\\parmest\\parmest.py\u001b[0m in \u001b[0;36mtheta_est\u001b[1;34m(self, solver, return_values, bootlist, calc_cov)\u001b[0m\n\u001b[0;32m    672\u001b[0m         \u001b[1;32massert\u001b[0m \u001b[0misinstance\u001b[0m\u001b[1;33m(\u001b[0m\u001b[0mbootlist\u001b[0m\u001b[1;33m,\u001b[0m \u001b[1;33m(\u001b[0m\u001b[0mtype\u001b[0m\u001b[1;33m(\u001b[0m\u001b[1;32mNone\u001b[0m\u001b[1;33m)\u001b[0m\u001b[1;33m,\u001b[0m \u001b[0mlist\u001b[0m\u001b[1;33m)\u001b[0m\u001b[1;33m)\u001b[0m\u001b[1;33m\u001b[0m\u001b[1;33m\u001b[0m\u001b[0m\n\u001b[0;32m    673\u001b[0m \u001b[1;33m\u001b[0m\u001b[0m\n\u001b[1;32m--> 674\u001b[1;33m         return self._Q_opt(solver=solver, return_values=return_values,\n\u001b[0m\u001b[0;32m    675\u001b[0m                            bootlist=bootlist, calc_cov=calc_cov)\n\u001b[0;32m    676\u001b[0m \u001b[1;33m\u001b[0m\u001b[0m\n",
      "\u001b[1;32mc:\\users\\agarc\\anaconda32\\envs\\kappa\\lib\\site-packages\\pyomo\\contrib\\parmest\\parmest.py\u001b[0m in \u001b[0;36m_Q_opt\u001b[1;34m(self, ThetaVals, solver, return_values, bootlist, calc_cov)\u001b[0m\n\u001b[0;32m    442\u001b[0m                         \u001b[0msolver\u001b[0m\u001b[1;33m.\u001b[0m\u001b[0moptions\u001b[0m\u001b[1;33m[\u001b[0m\u001b[0mkey\u001b[0m\u001b[1;33m]\u001b[0m \u001b[1;33m=\u001b[0m \u001b[0mself\u001b[0m\u001b[1;33m.\u001b[0m\u001b[0msolver_options\u001b[0m\u001b[1;33m[\u001b[0m\u001b[0mkey\u001b[0m\u001b[1;33m]\u001b[0m\u001b[1;33m\u001b[0m\u001b[1;33m\u001b[0m\u001b[0m\n\u001b[0;32m    443\u001b[0m \u001b[1;33m\u001b[0m\u001b[0m\n\u001b[1;32m--> 444\u001b[1;33m                 \u001b[0msolve_result\u001b[0m \u001b[1;33m=\u001b[0m \u001b[0msolver\u001b[0m\u001b[1;33m.\u001b[0m\u001b[0msolve\u001b[0m\u001b[1;33m(\u001b[0m\u001b[0mef\u001b[0m\u001b[1;33m,\u001b[0m \u001b[0mtee\u001b[0m \u001b[1;33m=\u001b[0m \u001b[0mself\u001b[0m\u001b[1;33m.\u001b[0m\u001b[0mtee\u001b[0m\u001b[1;33m)\u001b[0m\u001b[1;33m\u001b[0m\u001b[1;33m\u001b[0m\u001b[0m\n\u001b[0m\u001b[0;32m    445\u001b[0m \u001b[1;33m\u001b[0m\u001b[0m\n\u001b[0;32m    446\u001b[0m             \u001b[1;31m# The import error will be raised when we attempt to use\u001b[0m\u001b[1;33m\u001b[0m\u001b[1;33m\u001b[0m\u001b[1;33m\u001b[0m\u001b[0m\n",
      "\u001b[1;32mc:\\users\\agarc\\anaconda32\\envs\\kappa\\lib\\site-packages\\pyomo\\opt\\base\\solvers.py\u001b[0m in \u001b[0;36msolve\u001b[1;34m(self, *args, **kwds)\u001b[0m\n\u001b[0;32m    624\u001b[0m                 \u001b[1;32melse\u001b[0m\u001b[1;33m:\u001b[0m\u001b[1;33m\u001b[0m\u001b[1;33m\u001b[0m\u001b[0m\n\u001b[0;32m    625\u001b[0m                     \u001b[1;32mif\u001b[0m \u001b[0mself\u001b[0m\u001b[1;33m.\u001b[0m\u001b[0m_load_solutions\u001b[0m\u001b[1;33m:\u001b[0m\u001b[1;33m\u001b[0m\u001b[1;33m\u001b[0m\u001b[0m\n\u001b[1;32m--> 626\u001b[1;33m                         _model.solutions.load_from(\n\u001b[0m\u001b[0;32m    627\u001b[0m                             \u001b[0mresult\u001b[0m\u001b[1;33m,\u001b[0m\u001b[1;33m\u001b[0m\u001b[1;33m\u001b[0m\u001b[0m\n\u001b[0;32m    628\u001b[0m                             \u001b[0mselect\u001b[0m\u001b[1;33m=\u001b[0m\u001b[0mself\u001b[0m\u001b[1;33m.\u001b[0m\u001b[0m_select_index\u001b[0m\u001b[1;33m,\u001b[0m\u001b[1;33m\u001b[0m\u001b[1;33m\u001b[0m\u001b[0m\n",
      "\u001b[1;32mc:\\users\\agarc\\anaconda32\\envs\\kappa\\lib\\site-packages\\pyomo\\core\\base\\PyomoModel.py\u001b[0m in \u001b[0;36mload_from\u001b[1;34m(self, results, allow_consistent_values_for_fixed_vars, comparison_tolerance_for_fixed_vars, ignore_invalid_labels, id, delete_symbol_map, clear, default_variable_value, select, ignore_fixed_vars)\u001b[0m\n\u001b[0;32m    222\u001b[0m                     \"an 'aborted' status, but containing a solution\")\n\u001b[0;32m    223\u001b[0m             \u001b[1;32melse\u001b[0m\u001b[1;33m:\u001b[0m\u001b[1;33m\u001b[0m\u001b[1;33m\u001b[0m\u001b[0m\n\u001b[1;32m--> 224\u001b[1;33m                 raise ValueError(\"Cannot load a SolverResults object \"\n\u001b[0m\u001b[0;32m    225\u001b[0m                                  \u001b[1;34m\"with bad status: %s\"\u001b[0m\u001b[1;33m\u001b[0m\u001b[1;33m\u001b[0m\u001b[0m\n\u001b[0;32m    226\u001b[0m                                  % str(results.solver.status))\n",
      "\u001b[1;31mValueError\u001b[0m: Cannot load a SolverResults object with bad status: error"
     ]
    }
   ],
   "source": [
    "pest = parmest.Estimator(PR_model, data, variable_name, SSE, tee=True)\n",
    "\n",
    "obj_value, parameters = pest.theta_est()"
   ]
  },
  {
   "cell_type": "code",
   "execution_count": null,
   "id": "incident-penguin",
   "metadata": {},
   "outputs": [],
   "source": [
    "print(\"The SSE at the optimal solution is %0.6f\" % obj_value)\n",
    "print()\n",
    "print(\"The values for the parameters are as follows:\")\n",
    "for k,v in parameters.items():\n",
    "    print(k, \"=\", v)"
   ]
  },
  {
   "cell_type": "code",
   "execution_count": null,
   "id": "emotional-engineering",
   "metadata": {
    "scrolled": true
   },
   "outputs": [],
   "source": [
    "pest.ef_instance.display()"
   ]
  },
  {
   "cell_type": "code",
   "execution_count": null,
   "id": "automated-familiar",
   "metadata": {
    "scrolled": false
   },
   "outputs": [],
   "source": [
    "print(large_residuals_set(pest.ef_instance))"
   ]
  },
  {
   "cell_type": "code",
   "execution_count": null,
   "id": "interior-cabin",
   "metadata": {},
   "outputs": [],
   "source": []
  }
 ],
 "metadata": {
  "kernelspec": {
   "display_name": "Python 3 (ipykernel)",
   "language": "python",
   "name": "python3"
  },
  "language_info": {
   "codemirror_mode": {
    "name": "ipython",
    "version": 3
   },
   "file_extension": ".py",
   "mimetype": "text/x-python",
   "name": "python",
   "nbconvert_exporter": "python",
   "pygments_lexer": "ipython3",
   "version": "3.9.6"
  }
 },
 "nbformat": 4,
 "nbformat_minor": 5
}
